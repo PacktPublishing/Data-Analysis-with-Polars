{
 "cells": [
  {
   "attachments": {},
   "cell_type": "markdown",
   "metadata": {},
   "source": [
    "### Advanced Data Transformation with Polars"
   ]
  },
  {
   "attachments": {},
   "cell_type": "markdown",
   "metadata": {},
   "source": [
    "The examples below use `.head()` to reduce the output to a few rows and take up less space.\n",
    "If you want the full output, remove `.head()` from the code.\n",
    "\n",
    "This notebooked is divided into sections. If your code editor supports it, you can use the **Outline** functionality to easily go to the code section you are interested in.\n",
    "\n",
    "For more details on Polars functions, check out the Polars API reference: https://pola-rs.github.io/polars/py-polars/html/reference/index.html"
   ]
  },
  {
   "cell_type": "code",
   "execution_count": 104,
   "metadata": {},
   "outputs": [
    {
     "data": {
      "text/plain": [
       "polars.config.Config"
      ]
     },
     "execution_count": 104,
     "metadata": {},
     "output_type": "execute_result"
    }
   ],
   "source": [
    "import polars as pl\n",
    "\n",
    "# Configure the number of characters to show for each string column\n",
    "pl.Config.set_fmt_str_lengths(50)"
   ]
  },
  {
   "cell_type": "markdown",
   "metadata": {},
   "source": [
    "#### List operations"
   ]
  },
  {
   "cell_type": "code",
   "execution_count": 105,
   "metadata": {},
   "outputs": [
    {
     "data": {
      "text/html": [
       "<div><style>\n",
       ".dataframe > thead > tr > th,\n",
       ".dataframe > tbody > tr > td {\n",
       "  text-align: right;\n",
       "}\n",
       "</style>\n",
       "<small>shape: (4, 5)</small><table border=\"1\" class=\"dataframe\"><thead><tr><th>branch</th><th>employees</th><th>weekly_sales</th><th>stock_items</th><th>customer_rating</th></tr><tr><td>str</td><td>list[str]</td><td>list[i64]</td><td>list[str]</td><td>list[i64]</td></tr></thead><tbody><tr><td>&quot;A&quot;</td><td>[&quot;John&quot;, &quot;Lisa&quot;, &quot;Sam&quot;]</td><td>[1200, 2500, 700]</td><td>[&quot;Item1&quot;, &quot;Item2&quot;]</td><td>[3, 4, 4]</td></tr><tr><td>&quot;B&quot;</td><td>[&quot;Lisa&quot;, &quot;Alex&quot;]</td><td>[1500, 2700]</td><td>[&quot;Item1&quot;, &quot;Item3&quot;]</td><td>[5, 4]</td></tr><tr><td>&quot;C&quot;</td><td>[&quot;Sam&quot;, &quot;Alex&quot;, &quot;John&quot;]</td><td>[1800, 2000, 900]</td><td>[&quot;Item2&quot;, &quot;Item3&quot;]</td><td>[4, 3, 3]</td></tr><tr><td>&quot;D&quot;</td><td>[&quot;Lisa&quot;, &quot;Sam&quot;]</td><td>[1700, 2100]</td><td>[&quot;Item1&quot;, &quot;Item2&quot;, &quot;Item3&quot;]</td><td>[5, 5]</td></tr></tbody></table></div>"
      ],
      "text/plain": [
       "shape: (4, 5)\n",
       "┌────────┬─────────────────────────┬───────────────────┬────────────────────┬─────────────────┐\n",
       "│ branch ┆ employees               ┆ weekly_sales      ┆ stock_items        ┆ customer_rating │\n",
       "│ ---    ┆ ---                     ┆ ---               ┆ ---                ┆ ---             │\n",
       "│ str    ┆ list[str]               ┆ list[i64]         ┆ list[str]          ┆ list[i64]       │\n",
       "╞════════╪═════════════════════════╪═══════════════════╪════════════════════╪═════════════════╡\n",
       "│ A      ┆ [\"John\", \"Lisa\", \"Sam\"] ┆ [1200, 2500, 700] ┆ [\"Item1\", \"Item2\"] ┆ [3, 4, 4]       │\n",
       "│ B      ┆ [\"Lisa\", \"Alex\"]        ┆ [1500, 2700]      ┆ [\"Item1\", \"Item3\"] ┆ [5, 4]          │\n",
       "│ C      ┆ [\"Sam\", \"Alex\", \"John\"] ┆ [1800, 2000, 900] ┆ [\"Item2\", \"Item3\"] ┆ [4, 3, 3]       │\n",
       "│ D      ┆ [\"Lisa\", \"Sam\"]         ┆ [1700, 2100]      ┆ [\"Item1\", \"Item2\", ┆ [5, 5]          │\n",
       "│        ┆                         ┆                   ┆ \"Item3\"]           ┆                 │\n",
       "└────────┴─────────────────────────┴───────────────────┴────────────────────┴─────────────────┘"
      ]
     },
     "execution_count": 105,
     "metadata": {},
     "output_type": "execute_result"
    }
   ],
   "source": [
    "data = {\n",
    "    \"branch\": ['A', 'B', 'C', 'D'],\n",
    "    \"employees\": [['John', 'Lisa', 'Sam'], ['Lisa', 'Alex'], ['Sam', 'Alex', 'John'], ['Lisa', 'Sam']],\n",
    "    \"weekly_sales\": [[1200, 2500, 700], [1500, 2700], [1800, 2000, 900], [1700, 2100]],\n",
    "    \"stock_items\": [['Item1', 'Item2'], ['Item1', 'Item3'], ['Item2', 'Item3'], ['Item1', 'Item2', 'Item3']],\n",
    "    \"customer_rating\": [[3, 4, 4], [5, 4], [4, 3, 3], [5, 5]]\n",
    "}\n",
    "\n",
    "df_retail = pl.DataFrame(data)\n",
    "\n",
    "df_retail"
   ]
  },
  {
   "cell_type": "code",
   "execution_count": 106,
   "metadata": {},
   "outputs": [
    {
     "data": {
      "text/html": [
       "<div><style>\n",
       ".dataframe > thead > tr > th,\n",
       ".dataframe > tbody > tr > td {\n",
       "  text-align: right;\n",
       "}\n",
       "</style>\n",
       "<small>shape: (4, 5)</small><table border=\"1\" class=\"dataframe\"><thead><tr><th>branch</th><th>employees</th><th>weekly_sales</th><th>stock_items</th><th>customer_rating</th></tr><tr><td>str</td><td>str</td><td>list[i64]</td><td>list[str]</td><td>list[i64]</td></tr></thead><tbody><tr><td>&quot;A&quot;</td><td>&quot;John, Lisa, Sam&quot;</td><td>[1200, 2500, 700]</td><td>[&quot;Item1&quot;, &quot;Item2&quot;]</td><td>[3, 4, 4]</td></tr><tr><td>&quot;B&quot;</td><td>&quot;Lisa, Alex&quot;</td><td>[1500, 2700]</td><td>[&quot;Item1&quot;, &quot;Item3&quot;]</td><td>[5, 4]</td></tr><tr><td>&quot;C&quot;</td><td>&quot;Sam, Alex, John&quot;</td><td>[1800, 2000, 900]</td><td>[&quot;Item2&quot;, &quot;Item3&quot;]</td><td>[4, 3, 3]</td></tr><tr><td>&quot;D&quot;</td><td>&quot;Lisa, Sam&quot;</td><td>[1700, 2100]</td><td>[&quot;Item1&quot;, &quot;Item2&quot;, &quot;Item3&quot;]</td><td>[5, 5]</td></tr></tbody></table></div>"
      ],
      "text/plain": [
       "shape: (4, 5)\n",
       "┌────────┬─────────────────┬───────────────────┬─────────────────────────────┬─────────────────┐\n",
       "│ branch ┆ employees       ┆ weekly_sales      ┆ stock_items                 ┆ customer_rating │\n",
       "│ ---    ┆ ---             ┆ ---               ┆ ---                         ┆ ---             │\n",
       "│ str    ┆ str             ┆ list[i64]         ┆ list[str]                   ┆ list[i64]       │\n",
       "╞════════╪═════════════════╪═══════════════════╪═════════════════════════════╪═════════════════╡\n",
       "│ A      ┆ John, Lisa, Sam ┆ [1200, 2500, 700] ┆ [\"Item1\", \"Item2\"]          ┆ [3, 4, 4]       │\n",
       "│ B      ┆ Lisa, Alex      ┆ [1500, 2700]      ┆ [\"Item1\", \"Item3\"]          ┆ [5, 4]          │\n",
       "│ C      ┆ Sam, Alex, John ┆ [1800, 2000, 900] ┆ [\"Item2\", \"Item3\"]          ┆ [4, 3, 3]       │\n",
       "│ D      ┆ Lisa, Sam       ┆ [1700, 2100]      ┆ [\"Item1\", \"Item2\", \"Item3\"] ┆ [5, 5]          │\n",
       "└────────┴─────────────────┴───────────────────┴─────────────────────────────┴─────────────────┘"
      ]
     },
     "execution_count": 106,
     "metadata": {},
     "output_type": "execute_result"
    }
   ],
   "source": [
    "# join the employees working in each branch in a single string\n",
    "\n",
    "df_retail.with_columns(pl.col(\"employees\").list.join(', '))"
   ]
  },
  {
   "cell_type": "code",
   "execution_count": 107,
   "metadata": {},
   "outputs": [
    {
     "data": {
      "text/html": [
       "<div><style>\n",
       ".dataframe > thead > tr > th,\n",
       ".dataframe > tbody > tr > td {\n",
       "  text-align: right;\n",
       "}\n",
       "</style>\n",
       "<small>shape: (4, 2)</small><table border=\"1\" class=\"dataframe\"><thead><tr><th>stock_items</th><th>has_item1</th></tr><tr><td>list[str]</td><td>bool</td></tr></thead><tbody><tr><td>[&quot;Item1&quot;, &quot;Item2&quot;]</td><td>true</td></tr><tr><td>[&quot;Item1&quot;, &quot;Item3&quot;]</td><td>true</td></tr><tr><td>[&quot;Item2&quot;, &quot;Item3&quot;]</td><td>false</td></tr><tr><td>[&quot;Item1&quot;, &quot;Item2&quot;, &quot;Item3&quot;]</td><td>true</td></tr></tbody></table></div>"
      ],
      "text/plain": [
       "shape: (4, 2)\n",
       "┌─────────────────────────────┬───────────┐\n",
       "│ stock_items                 ┆ has_item1 │\n",
       "│ ---                         ┆ ---       │\n",
       "│ list[str]                   ┆ bool      │\n",
       "╞═════════════════════════════╪═══════════╡\n",
       "│ [\"Item1\", \"Item2\"]          ┆ true      │\n",
       "│ [\"Item1\", \"Item3\"]          ┆ true      │\n",
       "│ [\"Item2\", \"Item3\"]          ┆ false     │\n",
       "│ [\"Item1\", \"Item2\", \"Item3\"] ┆ true      │\n",
       "└─────────────────────────────┴───────────┘"
      ]
     },
     "execution_count": 107,
     "metadata": {},
     "output_type": "execute_result"
    }
   ],
   "source": [
    "# check which branch has Item1 in stock\n",
    "\n",
    "df_retail.select(\n",
    "    'stock_items',\n",
    "    has_item1 = pl.col(\"stock_items\").list.contains(\"Item1\")\n",
    "    )"
   ]
  },
  {
   "cell_type": "code",
   "execution_count": 108,
   "metadata": {},
   "outputs": [
    {
     "data": {
      "text/html": [
       "<div><style>\n",
       ".dataframe > thead > tr > th,\n",
       ".dataframe > tbody > tr > td {\n",
       "  text-align: right;\n",
       "}\n",
       "</style>\n",
       "<small>shape: (4, 2)</small><table border=\"1\" class=\"dataframe\"><thead><tr><th>customer_rating</th><th>count_ratings_of_5</th></tr><tr><td>list[i64]</td><td>u32</td></tr></thead><tbody><tr><td>[3, 4, 4]</td><td>0</td></tr><tr><td>[5, 4]</td><td>1</td></tr><tr><td>[4, 3, 3]</td><td>0</td></tr><tr><td>[5, 5]</td><td>2</td></tr></tbody></table></div>"
      ],
      "text/plain": [
       "shape: (4, 2)\n",
       "┌─────────────────┬────────────────────┐\n",
       "│ customer_rating ┆ count_ratings_of_5 │\n",
       "│ ---             ┆ ---                │\n",
       "│ list[i64]       ┆ u32                │\n",
       "╞═════════════════╪════════════════════╡\n",
       "│ [3, 4, 4]       ┆ 0                  │\n",
       "│ [5, 4]          ┆ 1                  │\n",
       "│ [4, 3, 3]       ┆ 0                  │\n",
       "│ [5, 5]          ┆ 2                  │\n",
       "└─────────────────┴────────────────────┘"
      ]
     },
     "execution_count": 108,
     "metadata": {},
     "output_type": "execute_result"
    }
   ],
   "source": [
    "# count how many ratings of 5 each branch has\n",
    "\n",
    "df_retail.select(\n",
    "    'customer_rating',\n",
    "    count_ratings_of_5 = pl.col(\"customer_rating\").list.count_match(5)\n",
    "    )"
   ]
  },
  {
   "cell_type": "code",
   "execution_count": 109,
   "metadata": {},
   "outputs": [
    {
     "data": {
      "text/html": [
       "<div><style>\n",
       ".dataframe > thead > tr > th,\n",
       ".dataframe > tbody > tr > td {\n",
       "  text-align: right;\n",
       "}\n",
       "</style>\n",
       "<small>shape: (4, 2)</small><table border=\"1\" class=\"dataframe\"><thead><tr><th>weekly_sales</th><th>change_in_sales</th></tr><tr><td>list[i64]</td><td>list[i64]</td></tr></thead><tbody><tr><td>[1200, 2500, 700]</td><td>[null, 1300, -1800]</td></tr><tr><td>[1500, 2700]</td><td>[null, 1200]</td></tr><tr><td>[1800, 2000, 900]</td><td>[null, 200, -1100]</td></tr><tr><td>[1700, 2100]</td><td>[null, 400]</td></tr></tbody></table></div>"
      ],
      "text/plain": [
       "shape: (4, 2)\n",
       "┌───────────────────┬─────────────────────┐\n",
       "│ weekly_sales      ┆ change_in_sales     │\n",
       "│ ---               ┆ ---                 │\n",
       "│ list[i64]         ┆ list[i64]           │\n",
       "╞═══════════════════╪═════════════════════╡\n",
       "│ [1200, 2500, 700] ┆ [null, 1300, -1800] │\n",
       "│ [1500, 2700]      ┆ [null, 1200]        │\n",
       "│ [1800, 2000, 900] ┆ [null, 200, -1100]  │\n",
       "│ [1700, 2100]      ┆ [null, 400]         │\n",
       "└───────────────────┴─────────────────────┘"
      ]
     },
     "execution_count": 109,
     "metadata": {},
     "output_type": "execute_result"
    }
   ],
   "source": [
    "# calculate the change in sales at every change of employee\n",
    "\n",
    "df_retail.select(\n",
    "    'weekly_sales',\n",
    "    change_in_sales = pl.col(\"weekly_sales\").list.diff()\n",
    "    )"
   ]
  },
  {
   "cell_type": "code",
   "execution_count": 110,
   "metadata": {},
   "outputs": [
    {
     "data": {
      "text/html": [
       "<div><style>\n",
       ".dataframe > thead > tr > th,\n",
       ".dataframe > tbody > tr > td {\n",
       "  text-align: right;\n",
       "}\n",
       "</style>\n",
       "<small>shape: (4, 1)</small><table border=\"1\" class=\"dataframe\"><thead><tr><th>customer_rating</th></tr><tr><td>list[i64]</td></tr></thead><tbody><tr><td>[3, 4]</td></tr><tr><td>[5, 4]</td></tr><tr><td>[4, 3]</td></tr><tr><td>[5, 5]</td></tr></tbody></table></div>"
      ],
      "text/plain": [
       "shape: (4, 1)\n",
       "┌─────────────────┐\n",
       "│ customer_rating │\n",
       "│ ---             │\n",
       "│ list[i64]       │\n",
       "╞═════════════════╡\n",
       "│ [3, 4]          │\n",
       "│ [5, 4]          │\n",
       "│ [4, 3]          │\n",
       "│ [5, 5]          │\n",
       "└─────────────────┘"
      ]
     },
     "execution_count": 110,
     "metadata": {},
     "output_type": "execute_result"
    }
   ],
   "source": [
    "# i can visualize only some values from a list using head\n",
    "\n",
    "df_retail.select(\n",
    "    pl.col('customer_rating').list.head(2)\n",
    ")   "
   ]
  },
  {
   "cell_type": "code",
   "execution_count": 111,
   "metadata": {},
   "outputs": [
    {
     "data": {
      "text/html": [
       "<div><style>\n",
       ".dataframe > thead > tr > th,\n",
       ".dataframe > tbody > tr > td {\n",
       "  text-align: right;\n",
       "}\n",
       "</style>\n",
       "<small>shape: (4, 1)</small><table border=\"1\" class=\"dataframe\"><thead><tr><th>weekly_sales</th></tr><tr><td>i64</td></tr></thead><tbody><tr><td>2500</td></tr><tr><td>2700</td></tr><tr><td>2000</td></tr><tr><td>2100</td></tr></tbody></table></div>"
      ],
      "text/plain": [
       "shape: (4, 1)\n",
       "┌──────────────┐\n",
       "│ weekly_sales │\n",
       "│ ---          │\n",
       "│ i64          │\n",
       "╞══════════════╡\n",
       "│ 2500         │\n",
       "│ 2700         │\n",
       "│ 2000         │\n",
       "│ 2100         │\n",
       "└──────────────┘"
      ]
     },
     "execution_count": 111,
     "metadata": {},
     "output_type": "execute_result"
    }
   ],
   "source": [
    "# I can visualize the maximum value using max\n",
    "\n",
    "df_retail.select(\n",
    "    pl.col('weekly_sales').list.max()\n",
    ")"
   ]
  },
  {
   "cell_type": "code",
   "execution_count": 112,
   "metadata": {},
   "outputs": [
    {
     "data": {
      "text/html": [
       "<div><style>\n",
       ".dataframe > thead > tr > th,\n",
       ".dataframe > tbody > tr > td {\n",
       "  text-align: right;\n",
       "}\n",
       "</style>\n",
       "<small>shape: (4, 1)</small><table border=\"1\" class=\"dataframe\"><thead><tr><th>weekly_sales</th></tr><tr><td>list[i64]</td></tr></thead><tbody><tr><td>[1200]</td></tr><tr><td>[2700]</td></tr><tr><td>[1800]</td></tr><tr><td>[2100]</td></tr></tbody></table></div>"
      ],
      "text/plain": [
       "shape: (4, 1)\n",
       "┌──────────────┐\n",
       "│ weekly_sales │\n",
       "│ ---          │\n",
       "│ list[i64]    │\n",
       "╞══════════════╡\n",
       "│ [1200]       │\n",
       "│ [2700]       │\n",
       "│ [1800]       │\n",
       "│ [2100]       │\n",
       "└──────────────┘"
      ]
     },
     "execution_count": 112,
     "metadata": {},
     "output_type": "execute_result"
    }
   ],
   "source": [
    "# I can sort the values, and take the second biggest\n",
    "\n",
    "df_retail.select(\n",
    "    pl.col('weekly_sales').list.sort().list.take(1)\n",
    ")"
   ]
  },
  {
   "cell_type": "code",
   "execution_count": 113,
   "metadata": {},
   "outputs": [
    {
     "data": {
      "text/html": [
       "<div><style>\n",
       ".dataframe > thead > tr > th,\n",
       ".dataframe > tbody > tr > td {\n",
       "  text-align: right;\n",
       "}\n",
       "</style>\n",
       "<small>shape: (4, 1)</small><table border=\"1\" class=\"dataframe\"><thead><tr><th>customer_rating</th></tr><tr><td>list[i64]</td></tr></thead><tbody><tr><td>[3, 4]</td></tr><tr><td>[4, 5]</td></tr><tr><td>[3, 4]</td></tr><tr><td>[5]</td></tr></tbody></table></div>"
      ],
      "text/plain": [
       "shape: (4, 1)\n",
       "┌─────────────────┐\n",
       "│ customer_rating │\n",
       "│ ---             │\n",
       "│ list[i64]       │\n",
       "╞═════════════════╡\n",
       "│ [3, 4]          │\n",
       "│ [4, 5]          │\n",
       "│ [3, 4]          │\n",
       "│ [5]             │\n",
       "└─────────────────┘"
      ]
     },
     "execution_count": 113,
     "metadata": {},
     "output_type": "execute_result"
    }
   ],
   "source": [
    "# I can only the unique values\n",
    "\n",
    "df_retail.select(\n",
    "    pl.col('customer_rating').list.unique()\n",
    ")"
   ]
  },
  {
   "cell_type": "code",
   "execution_count": 114,
   "metadata": {},
   "outputs": [
    {
     "data": {
      "text/html": [
       "<div><style>\n",
       ".dataframe > thead > tr > th,\n",
       ".dataframe > tbody > tr > td {\n",
       "  text-align: right;\n",
       "}\n",
       "</style>\n",
       "<small>shape: (4, 2)</small><table border=\"1\" class=\"dataframe\"><thead><tr><th>weekly_sales</th><th>ranked_sales</th></tr><tr><td>list[i64]</td><td>list[u32]</td></tr></thead><tbody><tr><td>[1200, 2500, 700]</td><td>[2, 1, 3]</td></tr><tr><td>[1500, 2700]</td><td>[2, 1]</td></tr><tr><td>[1800, 2000, 900]</td><td>[2, 1, 3]</td></tr><tr><td>[1700, 2100]</td><td>[2, 1]</td></tr></tbody></table></div>"
      ],
      "text/plain": [
       "shape: (4, 2)\n",
       "┌───────────────────┬──────────────┐\n",
       "│ weekly_sales      ┆ ranked_sales │\n",
       "│ ---               ┆ ---          │\n",
       "│ list[i64]         ┆ list[u32]    │\n",
       "╞═══════════════════╪══════════════╡\n",
       "│ [1200, 2500, 700] ┆ [2, 1, 3]    │\n",
       "│ [1500, 2700]      ┆ [2, 1]       │\n",
       "│ [1800, 2000, 900] ┆ [2, 1, 3]    │\n",
       "│ [1700, 2100]      ┆ [2, 1]       │\n",
       "└───────────────────┴──────────────┘"
      ]
     },
     "execution_count": 114,
     "metadata": {},
     "output_type": "execute_result"
    }
   ],
   "source": [
    "# for functions not available in the list namespace, I can use eval and use all expressions\n",
    "# inside pl.eval, I can identify the list with pl.element()\n",
    "# for example, I can rank the sales\n",
    "\n",
    "df_retail.select(\n",
    "    'weekly_sales',\n",
    "    ranked_sales = pl.col('weekly_sales').list.eval(pl.element().rank(method=\"dense\", descending=True))\n",
    "    )\n"
   ]
  },
  {
   "cell_type": "code",
   "execution_count": 115,
   "metadata": {},
   "outputs": [
    {
     "data": {
      "text/html": [
       "<div><style>\n",
       ".dataframe > thead > tr > th,\n",
       ".dataframe > tbody > tr > td {\n",
       "  text-align: right;\n",
       "}\n",
       "</style>\n",
       "<small>shape: (4, 2)</small><table border=\"1\" class=\"dataframe\"><thead><tr><th>weekly_sales</th><th>filtered_sales</th></tr><tr><td>list[i64]</td><td>list[i64]</td></tr></thead><tbody><tr><td>[1200, 2500, 700]</td><td>[2500]</td></tr><tr><td>[1500, 2700]</td><td>[2700]</td></tr><tr><td>[1800, 2000, 900]</td><td>[]</td></tr><tr><td>[1700, 2100]</td><td>[]</td></tr></tbody></table></div>"
      ],
      "text/plain": [
       "shape: (4, 2)\n",
       "┌───────────────────┬────────────────┐\n",
       "│ weekly_sales      ┆ filtered_sales │\n",
       "│ ---               ┆ ---            │\n",
       "│ list[i64]         ┆ list[i64]      │\n",
       "╞═══════════════════╪════════════════╡\n",
       "│ [1200, 2500, 700] ┆ [2500]         │\n",
       "│ [1500, 2700]      ┆ [2700]         │\n",
       "│ [1800, 2000, 900] ┆ []             │\n",
       "│ [1700, 2100]      ┆ []             │\n",
       "└───────────────────┴────────────────┘"
      ]
     },
     "execution_count": 115,
     "metadata": {},
     "output_type": "execute_result"
    }
   ],
   "source": [
    "# using pl.eval I can filter for sales equal or bigger than 2500\n",
    "# note that here I am using pl.element() twice, the first time to identify the list, the second time to identify the element\n",
    "\n",
    "df_retail.select(\n",
    "    'weekly_sales',\n",
    "    filtered_sales = pl.col('weekly_sales').list.eval(pl.element().filter(pl.element()>= 2500))\n",
    ")"
   ]
  },
  {
   "cell_type": "markdown",
   "metadata": {},
   "source": [
    "#### String operations"
   ]
  },
  {
   "cell_type": "code",
   "execution_count": 116,
   "metadata": {},
   "outputs": [
    {
     "data": {
      "text/html": [
       "<div><style>\n",
       ".dataframe > thead > tr > th,\n",
       ".dataframe > tbody > tr > td {\n",
       "  text-align: right;\n",
       "}\n",
       "</style>\n",
       "<small>shape: (5, 6)</small><table border=\"1\" class=\"dataframe\"><thead><tr><th>customer_id</th><th>email</th><th>feedback</th><th>product_id</th><th>order_date</th><th>transaction_details</th></tr><tr><td>str</td><td>str</td><td>str</td><td>str</td><td>str</td><td>str</td></tr></thead><tbody><tr><td>&quot;C001&quot;</td><td>&quot;john.doe@example.com&quot;</td><td>&quot;The PRODUCT-X1 is AMAZING. I love it.&quot;</td><td>&quot;P001&quot;</td><td>&quot;2023-06-01&quot;</td><td>&quot;{&quot;price&quot;: 200.0, &quot;shipping&quot;: {&quot;type&quot;: &quot;express&quot;, …</td></tr><tr><td>&quot;C002&quot;</td><td>&quot;sarah.connor@shopnow.com&quot;</td><td>&quot;Didn&#x27;t like product-x2, poor quality. Product-x1 …</td><td>&quot;P002&quot;</td><td>&quot;2023-06-02&quot;</td><td>&quot;{&quot;price&quot;: 150.0, &quot;shipping&quot;: {&quot;type&quot;: &quot;standard&quot;,…</td></tr><tr><td>&quot;C003&quot;</td><td>&quot;jack.sparrow@onlineshopping.net&quot;</td><td>&quot;The product-x1 is fantastic. Super happy with it.…</td><td>&quot;P001&quot;</td><td>&quot;2023-06-03&quot;</td><td>&quot;{&quot;price&quot;: 200.0, &quot;shipping&quot;: {&quot;type&quot;: &quot;express&quot;, …</td></tr><tr><td>&quot;C004&quot;</td><td>&quot;harry.potter@buyonline.org&quot;</td><td>&quot;The service was bad. Not happy with PRODUCT-M1. J…</td><td>&quot;M001&quot;</td><td>&quot;2023-06-04&quot;</td><td>&quot;{&quot;price&quot;: 250.0, &quot;shipping&quot;: {&quot;type&quot;: &quot;standard&quot;,…</td></tr><tr><td>&quot;C005&quot;</td><td>&quot;lisa.simpson@webshop.com&quot;</td><td>&quot;Love PRODUCT-X1, worth every penny!&quot;</td><td>&quot;P001&quot;</td><td>&quot;2023-06-05&quot;</td><td>&quot;{&quot;price&quot;: 200.0, &quot;shipping&quot;: {&quot;type&quot;: &quot;express&quot;, …</td></tr></tbody></table></div>"
      ],
      "text/plain": [
       "shape: (5, 6)\n",
       "┌─────────────┬───────────────────┬───────────────────┬────────────┬────────────┬──────────────────┐\n",
       "│ customer_id ┆ email             ┆ feedback          ┆ product_id ┆ order_date ┆ transaction_deta │\n",
       "│ ---         ┆ ---               ┆ ---               ┆ ---        ┆ ---        ┆ ils              │\n",
       "│ str         ┆ str               ┆ str               ┆ str        ┆ str        ┆ ---              │\n",
       "│             ┆                   ┆                   ┆            ┆            ┆ str              │\n",
       "╞═════════════╪═══════════════════╪═══════════════════╪════════════╪════════════╪══════════════════╡\n",
       "│ C001        ┆ john.doe@example. ┆ The PRODUCT-X1 is ┆ P001       ┆ 2023-06-01 ┆ {\"price\": 200.0, │\n",
       "│             ┆ com               ┆ AMAZING. I love   ┆            ┆            ┆ \"shipping\":      │\n",
       "│             ┆                   ┆ it.               ┆            ┆            ┆ {\"type\":         │\n",
       "│             ┆                   ┆                   ┆            ┆            ┆ \"express\", \"…    │\n",
       "│ C002        ┆ sarah.connor@shop ┆ Didn't like       ┆ P002       ┆ 2023-06-02 ┆ {\"price\": 150.0, │\n",
       "│             ┆ now.com           ┆ product-x2, poor  ┆            ┆            ┆ \"shipping\":      │\n",
       "│             ┆                   ┆ quality.          ┆            ┆            ┆ {\"type\":         │\n",
       "│             ┆                   ┆ Product-x1 i…     ┆            ┆            ┆ \"standard\", …    │\n",
       "│ C003        ┆ jack.sparrow@onli ┆ The product-x1 is ┆ P001       ┆ 2023-06-03 ┆ {\"price\": 200.0, │\n",
       "│             ┆ neshopping.net    ┆ fantastic. Super  ┆            ┆            ┆ \"shipping\":      │\n",
       "│             ┆                   ┆ happy with it.    ┆            ┆            ┆ {\"type\":         │\n",
       "│             ┆                   ┆                   ┆            ┆            ┆ \"express\", \"…    │\n",
       "│ C004        ┆ harry.potter@buyo ┆ The service was   ┆ M001       ┆ 2023-06-04 ┆ {\"price\": 250.0, │\n",
       "│             ┆ nline.org         ┆ bad. Not happy    ┆            ┆            ┆ \"shipping\":      │\n",
       "│             ┆                   ┆ with PRODUCT-M1.  ┆            ┆            ┆ {\"type\":         │\n",
       "│             ┆                   ┆ Ju…               ┆            ┆            ┆ \"standard\", …    │\n",
       "│ C005        ┆ lisa.simpson@webs ┆ Love PRODUCT-X1,  ┆ P001       ┆ 2023-06-05 ┆ {\"price\": 200.0, │\n",
       "│             ┆ hop.com           ┆ worth every       ┆            ┆            ┆ \"shipping\":      │\n",
       "│             ┆                   ┆ penny!            ┆            ┆            ┆ {\"type\":         │\n",
       "│             ┆                   ┆                   ┆            ┆            ┆ \"express\", \"…    │\n",
       "└─────────────┴───────────────────┴───────────────────┴────────────┴────────────┴──────────────────┘"
      ]
     },
     "execution_count": 116,
     "metadata": {},
     "output_type": "execute_result"
    }
   ],
   "source": [
    "# Data\n",
    "data = {\n",
    "    \"customer_id\": [\"C001\", \"C002\", \"C003\", \"C004\", \"C005\"],\n",
    "    \"email\": [\"john.doe@example.com\", \"sarah.connor@shopnow.com\", \"jack.sparrow@onlineshopping.net\", \"harry.potter@buyonline.org\", \"lisa.simpson@webshop.com\"],\n",
    "    \"feedback\": [\n",
    "        \"The PRODUCT-X1 is AMAZING. I love it.\",\n",
    "        \"Didn't like product-x2, poor quality. Product-x1 is better.\",\n",
    "        \"The product-x1 is fantastic. Super happy with it.\",\n",
    "        \"The service was bad. Not happy with PRODUCT-M1. Just as bad as PRODUCT-M2.\",\n",
    "        \"Love PRODUCT-X1, worth every penny!\",\n",
    "    ],\n",
    "    \"product_id\": [\"P001\", \"P002\", \"P001\", \"M001\", \"P001\"],\n",
    "    \"order_date\": [\"2023-06-01\", \"2023-06-02\", \"2023-06-03\", \"2023-06-04\", \"2023-06-05\"],\n",
    "    \"transaction_details\": ['{\"price\": 200.0, \"shipping\": {\"type\": \"express\", \"cost\": 20.0}}',\n",
    "        '{\"price\": 150.0, \"shipping\": {\"type\": \"standard\", \"cost\": 10.0}}',\n",
    "        '{\"price\": 200.0, \"shipping\": {\"type\": \"express\", \"cost\": 20.0}}',\n",
    "        '{\"price\": 250.0, \"shipping\": {\"type\": \"standard\", \"cost\": 10.0}}',\n",
    "        '{\"price\": 200.0, \"shipping\": {\"type\": \"express\", \"cost\": 20.0}}'],\n",
    "}\n",
    "\n",
    "# Create DataFrame\n",
    "df_feedback = pl.DataFrame(data)\n",
    "\n",
    "df_feedback"
   ]
  },
  {
   "cell_type": "code",
   "execution_count": 117,
   "metadata": {},
   "outputs": [
    {
     "data": {
      "text/html": [
       "<div><style>\n",
       ".dataframe > thead > tr > th,\n",
       ".dataframe > tbody > tr > td {\n",
       "  text-align: right;\n",
       "}\n",
       "</style>\n",
       "<small>shape: (5, 1)</small><table border=\"1\" class=\"dataframe\"><thead><tr><th>feedback</th></tr><tr><td>str</td></tr></thead><tbody><tr><td>&quot;the product-x1 is amazing. i love it.&quot;</td></tr><tr><td>&quot;didn&#x27;t like product-x2, poor quality. product-x1 …</td></tr><tr><td>&quot;the product-x1 is fantastic. super happy with it.…</td></tr><tr><td>&quot;the service was bad. not happy with product-m1. j…</td></tr><tr><td>&quot;love product-x1, worth every penny!&quot;</td></tr></tbody></table></div>"
      ],
      "text/plain": [
       "shape: (5, 1)\n",
       "┌─────────────────────────────────────────────────────┐\n",
       "│ feedback                                            │\n",
       "│ ---                                                 │\n",
       "│ str                                                 │\n",
       "╞═════════════════════════════════════════════════════╡\n",
       "│ the product-x1 is amazing. i love it.               │\n",
       "│ didn't like product-x2, poor quality. product-x1 i… │\n",
       "│ the product-x1 is fantastic. super happy with it.   │\n",
       "│ the service was bad. not happy with product-m1. ju… │\n",
       "│ love product-x1, worth every penny!                 │\n",
       "└─────────────────────────────────────────────────────┘"
      ]
     },
     "execution_count": 117,
     "metadata": {},
     "output_type": "execute_result"
    }
   ],
   "source": [
    "# to lowercase\n",
    "\n",
    "df_feedback.select(\n",
    "    pl.col('feedback').str.to_lowercase(),\n",
    ")"
   ]
  },
  {
   "cell_type": "code",
   "execution_count": 118,
   "metadata": {},
   "outputs": [
    {
     "data": {
      "text/html": [
       "<div><style>\n",
       ".dataframe > thead > tr > th,\n",
       ".dataframe > tbody > tr > td {\n",
       "  text-align: right;\n",
       "}\n",
       "</style>\n",
       "<small>shape: (2, 6)</small><table border=\"1\" class=\"dataframe\"><thead><tr><th>customer_id</th><th>email</th><th>feedback</th><th>product_id</th><th>order_date</th><th>transaction_details</th></tr><tr><td>str</td><td>str</td><td>str</td><td>str</td><td>str</td><td>str</td></tr></thead><tbody><tr><td>&quot;C002&quot;</td><td>&quot;sarah.connor@shopnow.com&quot;</td><td>&quot;Didn&#x27;t like product-x2, poor quality. Product-x1 …</td><td>&quot;P002&quot;</td><td>&quot;2023-06-02&quot;</td><td>&quot;{&quot;price&quot;: 150.0, &quot;shipping&quot;: {&quot;type&quot;: &quot;standard&quot;,…</td></tr><tr><td>&quot;C004&quot;</td><td>&quot;harry.potter@buyonline.org&quot;</td><td>&quot;The service was bad. Not happy with PRODUCT-M1. J…</td><td>&quot;M001&quot;</td><td>&quot;2023-06-04&quot;</td><td>&quot;{&quot;price&quot;: 250.0, &quot;shipping&quot;: {&quot;type&quot;: &quot;standard&quot;,…</td></tr></tbody></table></div>"
      ],
      "text/plain": [
       "shape: (2, 6)\n",
       "┌─────────────┬───────────────────┬───────────────────┬────────────┬────────────┬──────────────────┐\n",
       "│ customer_id ┆ email             ┆ feedback          ┆ product_id ┆ order_date ┆ transaction_deta │\n",
       "│ ---         ┆ ---               ┆ ---               ┆ ---        ┆ ---        ┆ ils              │\n",
       "│ str         ┆ str               ┆ str               ┆ str        ┆ str        ┆ ---              │\n",
       "│             ┆                   ┆                   ┆            ┆            ┆ str              │\n",
       "╞═════════════╪═══════════════════╪═══════════════════╪════════════╪════════════╪══════════════════╡\n",
       "│ C002        ┆ sarah.connor@shop ┆ Didn't like       ┆ P002       ┆ 2023-06-02 ┆ {\"price\": 150.0, │\n",
       "│             ┆ now.com           ┆ product-x2, poor  ┆            ┆            ┆ \"shipping\":      │\n",
       "│             ┆                   ┆ quality.          ┆            ┆            ┆ {\"type\":         │\n",
       "│             ┆                   ┆ Product-x1 i…     ┆            ┆            ┆ \"standard\", …    │\n",
       "│ C004        ┆ harry.potter@buyo ┆ The service was   ┆ M001       ┆ 2023-06-04 ┆ {\"price\": 250.0, │\n",
       "│             ┆ nline.org         ┆ bad. Not happy    ┆            ┆            ┆ \"shipping\":      │\n",
       "│             ┆                   ┆ with PRODUCT-M1.  ┆            ┆            ┆ {\"type\":         │\n",
       "│             ┆                   ┆ Ju…               ┆            ┆            ┆ \"standard\", …    │\n",
       "└─────────────┴───────────────────┴───────────────────┴────────────┴────────────┴──────────────────┘"
      ]
     },
     "execution_count": 118,
     "metadata": {},
     "output_type": "execute_result"
    }
   ],
   "source": [
    "# filter for rows containing 'service' or 'quality'\n",
    "\n",
    "df_feedback.filter(\n",
    "    pl.col('feedback').str.contains('service|quality')\n",
    ")"
   ]
  },
  {
   "cell_type": "code",
   "execution_count": 119,
   "metadata": {},
   "outputs": [
    {
     "data": {
      "text/html": [
       "<div><style>\n",
       ".dataframe > thead > tr > th,\n",
       ".dataframe > tbody > tr > td {\n",
       "  text-align: right;\n",
       "}\n",
       "</style>\n",
       "<small>shape: (1, 6)</small><table border=\"1\" class=\"dataframe\"><thead><tr><th>customer_id</th><th>email</th><th>feedback</th><th>product_id</th><th>order_date</th><th>transaction_details</th></tr><tr><td>str</td><td>str</td><td>str</td><td>str</td><td>str</td><td>str</td></tr></thead><tbody><tr><td>&quot;C004&quot;</td><td>&quot;harry.potter@buyonline.org&quot;</td><td>&quot;The service was bad. Not happy with PRODUCT-M1. J…</td><td>&quot;M001&quot;</td><td>&quot;2023-06-04&quot;</td><td>&quot;{&quot;price&quot;: 250.0, &quot;shipping&quot;: {&quot;type&quot;: &quot;standard&quot;,…</td></tr></tbody></table></div>"
      ],
      "text/plain": [
       "shape: (1, 6)\n",
       "┌─────────────┬───────────────────┬───────────────────┬────────────┬────────────┬──────────────────┐\n",
       "│ customer_id ┆ email             ┆ feedback          ┆ product_id ┆ order_date ┆ transaction_deta │\n",
       "│ ---         ┆ ---               ┆ ---               ┆ ---        ┆ ---        ┆ ils              │\n",
       "│ str         ┆ str               ┆ str               ┆ str        ┆ str        ┆ ---              │\n",
       "│             ┆                   ┆                   ┆            ┆            ┆ str              │\n",
       "╞═════════════╪═══════════════════╪═══════════════════╪════════════╪════════════╪══════════════════╡\n",
       "│ C004        ┆ harry.potter@buyo ┆ The service was   ┆ M001       ┆ 2023-06-04 ┆ {\"price\": 250.0, │\n",
       "│             ┆ nline.org         ┆ bad. Not happy    ┆            ┆            ┆ \"shipping\":      │\n",
       "│             ┆                   ┆ with PRODUCT-M1.  ┆            ┆            ┆ {\"type\":         │\n",
       "│             ┆                   ┆ Ju…               ┆            ┆            ┆ \"standard\", …    │\n",
       "└─────────────┴───────────────────┴───────────────────┴────────────┴────────────┴──────────────────┘"
      ]
     },
     "execution_count": 119,
     "metadata": {},
     "output_type": "execute_result"
    }
   ],
   "source": [
    "# filter for products starting with 'M'\n",
    "\n",
    "df_feedback.filter(\n",
    "    pl.col('product_id').str.starts_with('M')\n",
    ")"
   ]
  },
  {
   "cell_type": "code",
   "execution_count": 120,
   "metadata": {},
   "outputs": [
    {
     "data": {
      "text/html": [
       "<div><style>\n",
       ".dataframe > thead > tr > th,\n",
       ".dataframe > tbody > tr > td {\n",
       "  text-align: right;\n",
       "}\n",
       "</style>\n",
       "<small>shape: (5, 1)</small><table border=\"1\" class=\"dataframe\"><thead><tr><th>products_mentioned</th></tr><tr><td>list[str]</td></tr></thead><tbody><tr><td>[&quot;PRODUCT-X1&quot;]</td></tr><tr><td>[&quot;product-x2&quot;, &quot;Product-x1&quot;]</td></tr><tr><td>[&quot;product-x1&quot;]</td></tr><tr><td>[&quot;PRODUCT-M1&quot;, &quot;PRODUCT-M2&quot;]</td></tr><tr><td>[&quot;PRODUCT-X1&quot;]</td></tr></tbody></table></div>"
      ],
      "text/plain": [
       "shape: (5, 1)\n",
       "┌──────────────────────────────┐\n",
       "│ products_mentioned           │\n",
       "│ ---                          │\n",
       "│ list[str]                    │\n",
       "╞══════════════════════════════╡\n",
       "│ [\"PRODUCT-X1\"]               │\n",
       "│ [\"product-x2\", \"Product-x1\"] │\n",
       "│ [\"product-x1\"]               │\n",
       "│ [\"PRODUCT-M1\", \"PRODUCT-M2\"] │\n",
       "│ [\"PRODUCT-X1\"]               │\n",
       "└──────────────────────────────┘"
      ]
     },
     "execution_count": 120,
     "metadata": {},
     "output_type": "execute_result"
    }
   ],
   "source": [
    "# Extract product names from the feedback column using Regex\n",
    "\n",
    "df_feedback.select(\n",
    "    products_mentioned = pl.col('feedback').str.extract_all(r\"(?i)(product[-][\\w\\d]+)\")\n",
    ")"
   ]
  },
  {
   "cell_type": "code",
   "execution_count": 121,
   "metadata": {},
   "outputs": [
    {
     "data": {
      "text/html": [
       "<div><style>\n",
       ".dataframe > thead > tr > th,\n",
       ".dataframe > tbody > tr > td {\n",
       "  text-align: right;\n",
       "}\n",
       "</style>\n",
       "<small>shape: (5, 1)</small><table border=\"1\" class=\"dataframe\"><thead><tr><th>products_mentioned</th></tr><tr><td>list[str]</td></tr></thead><tbody><tr><td>[&quot;product-x1&quot;]</td></tr><tr><td>[&quot;product-x2&quot;, &quot;product-x1&quot;]</td></tr><tr><td>[&quot;product-x1&quot;]</td></tr><tr><td>[&quot;product-m1&quot;, &quot;product-m2&quot;]</td></tr><tr><td>[&quot;product-x1&quot;]</td></tr></tbody></table></div>"
      ],
      "text/plain": [
       "shape: (5, 1)\n",
       "┌──────────────────────────────┐\n",
       "│ products_mentioned           │\n",
       "│ ---                          │\n",
       "│ list[str]                    │\n",
       "╞══════════════════════════════╡\n",
       "│ [\"product-x1\"]               │\n",
       "│ [\"product-x2\", \"product-x1\"] │\n",
       "│ [\"product-x1\"]               │\n",
       "│ [\"product-m1\", \"product-m2\"] │\n",
       "│ [\"product-x1\"]               │\n",
       "└──────────────────────────────┘"
      ]
     },
     "execution_count": 121,
     "metadata": {},
     "output_type": "execute_result"
    }
   ],
   "source": [
    "# Extract product names from the feedback columns and convert to lowercase\n",
    "\n",
    "df_feedback.select(\n",
    "    products_mentioned = pl.col('feedback').str.extract_all(r\"(?i)(product[-][\\w\\d]+)\").list.eval(pl.element().str.to_lowercase())\n",
    ")"
   ]
  },
  {
   "cell_type": "code",
   "execution_count": 122,
   "metadata": {},
   "outputs": [
    {
     "data": {
      "text/html": [
       "<div><style>\n",
       ".dataframe > thead > tr > th,\n",
       ".dataframe > tbody > tr > td {\n",
       "  text-align: right;\n",
       "}\n",
       "</style>\n",
       "<small>shape: (5, 1)</small><table border=\"1\" class=\"dataframe\"><thead><tr><th>email_sanitized</th></tr><tr><td>str</td></tr></thead><tbody><tr><td>&quot;jo@example.com&quot;</td></tr><tr><td>&quot;sa@shopnow.com&quot;</td></tr><tr><td>&quot;ja@onlineshopping.net&quot;</td></tr><tr><td>&quot;ha@buyonline.org&quot;</td></tr><tr><td>&quot;li@webshop.com&quot;</td></tr></tbody></table></div>"
      ],
      "text/plain": [
       "shape: (5, 1)\n",
       "┌───────────────────────┐\n",
       "│ email_sanitized       │\n",
       "│ ---                   │\n",
       "│ str                   │\n",
       "╞═══════════════════════╡\n",
       "│ jo@example.com        │\n",
       "│ sa@shopnow.com        │\n",
       "│ ja@onlineshopping.net │\n",
       "│ ha@buyonline.org      │\n",
       "│ li@webshop.com        │\n",
       "└───────────────────────┘"
      ]
     },
     "execution_count": 122,
     "metadata": {},
     "output_type": "execute_result"
    }
   ],
   "source": [
    "# keep only 2 characters to hide confidential information\n",
    "\n",
    "df_feedback.select(\n",
    "    email_sanitized = pl.col(\"email\").str.replace(r\"^(..).*(@.*)$\", r\"$1$2\")\n",
    ")"
   ]
  },
  {
   "cell_type": "code",
   "execution_count": 123,
   "metadata": {},
   "outputs": [
    {
     "data": {
      "text/html": [
       "<div><style>\n",
       ".dataframe > thead > tr > th,\n",
       ".dataframe > tbody > tr > td {\n",
       "  text-align: right;\n",
       "}\n",
       "</style>\n",
       "<small>shape: (5, 1)</small><table border=\"1\" class=\"dataframe\"><thead><tr><th>email_sanitized</th></tr><tr><td>u64</td></tr></thead><tbody><tr><td>9259825263913001176</td></tr><tr><td>17451028542328997735</td></tr><tr><td>8060747887327259745</td></tr><tr><td>11270021373210591822</td></tr><tr><td>16256934851045840297</td></tr></tbody></table></div>"
      ],
      "text/plain": [
       "shape: (5, 1)\n",
       "┌──────────────────────┐\n",
       "│ email_sanitized      │\n",
       "│ ---                  │\n",
       "│ u64                  │\n",
       "╞══════════════════════╡\n",
       "│ 9259825263913001176  │\n",
       "│ 17451028542328997735 │\n",
       "│ 8060747887327259745  │\n",
       "│ 11270021373210591822 │\n",
       "│ 16256934851045840297 │\n",
       "└──────────────────────┘"
      ]
     },
     "execution_count": 123,
     "metadata": {},
     "output_type": "execute_result"
    }
   ],
   "source": [
    "# another way to hide confidential information is to use a hash function\n",
    "# careful: hashing is vulnerable to a brute force attack so it does not guarantee confidentiality\n",
    "\n",
    "df_feedback.select(\n",
    "    email_sanitized = pl.col(\"email\").hash()\n",
    ")"
   ]
  },
  {
   "cell_type": "code",
   "execution_count": 124,
   "metadata": {},
   "outputs": [
    {
     "data": {
      "text/html": [
       "<div><style>\n",
       ".dataframe > thead > tr > th,\n",
       ".dataframe > tbody > tr > td {\n",
       "  text-align: right;\n",
       "}\n",
       "</style>\n",
       "<small>shape: (5, 2)</small><table border=\"1\" class=\"dataframe\"><thead><tr><th>username</th><th>domain</th></tr><tr><td>str</td><td>str</td></tr></thead><tbody><tr><td>&quot;john.doe&quot;</td><td>&quot;example.com&quot;</td></tr><tr><td>&quot;sarah.connor&quot;</td><td>&quot;shopnow.com&quot;</td></tr><tr><td>&quot;jack.sparrow&quot;</td><td>&quot;onlineshopping.net&quot;</td></tr><tr><td>&quot;harry.potter&quot;</td><td>&quot;buyonline.org&quot;</td></tr><tr><td>&quot;lisa.simpson&quot;</td><td>&quot;webshop.com&quot;</td></tr></tbody></table></div>"
      ],
      "text/plain": [
       "shape: (5, 2)\n",
       "┌──────────────┬────────────────────┐\n",
       "│ username     ┆ domain             │\n",
       "│ ---          ┆ ---                │\n",
       "│ str          ┆ str                │\n",
       "╞══════════════╪════════════════════╡\n",
       "│ john.doe     ┆ example.com        │\n",
       "│ sarah.connor ┆ shopnow.com        │\n",
       "│ jack.sparrow ┆ onlineshopping.net │\n",
       "│ harry.potter ┆ buyonline.org      │\n",
       "│ lisa.simpson ┆ webshop.com        │\n",
       "└──────────────┴────────────────────┘"
      ]
     },
     "execution_count": 124,
     "metadata": {},
     "output_type": "execute_result"
    }
   ],
   "source": [
    "# we can split the email between the username and the domain\n",
    "\n",
    "df_feedback.select(\n",
    "    username = pl.col(\"email\").str.split(\"@\").list.get(0),\n",
    "    domain = pl.col(\"email\").str.split(\"@\").list.get(1)\n",
    ")"
   ]
  },
  {
   "cell_type": "code",
   "execution_count": 125,
   "metadata": {},
   "outputs": [
    {
     "data": {
      "text/html": [
       "<div><style>\n",
       ".dataframe > thead > tr > th,\n",
       ".dataframe > tbody > tr > td {\n",
       "  text-align: right;\n",
       "}\n",
       "</style>\n",
       "<small>shape: (5, 1)</small><table border=\"1\" class=\"dataframe\"><thead><tr><th>transaction_details_as_struct</th></tr><tr><td>struct[2]</td></tr></thead><tbody><tr><td>{200.0,{&quot;express&quot;,20.0}}</td></tr><tr><td>{150.0,{&quot;standard&quot;,10.0}}</td></tr><tr><td>{200.0,{&quot;express&quot;,20.0}}</td></tr><tr><td>{250.0,{&quot;standard&quot;,10.0}}</td></tr><tr><td>{200.0,{&quot;express&quot;,20.0}}</td></tr></tbody></table></div>"
      ],
      "text/plain": [
       "shape: (5, 1)\n",
       "┌───────────────────────────────┐\n",
       "│ transaction_details_as_struct │\n",
       "│ ---                           │\n",
       "│ struct[2]                     │\n",
       "╞═══════════════════════════════╡\n",
       "│ {200.0,{\"express\",20.0}}      │\n",
       "│ {150.0,{\"standard\",10.0}}     │\n",
       "│ {200.0,{\"express\",20.0}}      │\n",
       "│ {250.0,{\"standard\",10.0}}     │\n",
       "│ {200.0,{\"express\",20.0}}      │\n",
       "└───────────────────────────────┘"
      ]
     },
     "execution_count": 125,
     "metadata": {},
     "output_type": "execute_result"
    }
   ],
   "source": [
    "# we can convert the transaction details column from a JSON to a struct\n",
    "\n",
    "df_feedback.select(\n",
    "    transaction_details_as_struct = pl.col(\"transaction_details\").str.json_extract()\n",
    ")"
   ]
  },
  {
   "cell_type": "code",
   "execution_count": 126,
   "metadata": {},
   "outputs": [
    {
     "data": {
      "text/html": [
       "<div><style>\n",
       ".dataframe > thead > tr > th,\n",
       ".dataframe > tbody > tr > td {\n",
       "  text-align: right;\n",
       "}\n",
       "</style>\n",
       "<small>shape: (5, 2)</small><table border=\"1\" class=\"dataframe\"><thead><tr><th>price</th><th>shipping_cost</th></tr><tr><td>f64</td><td>f64</td></tr></thead><tbody><tr><td>200.0</td><td>20.0</td></tr><tr><td>150.0</td><td>10.0</td></tr><tr><td>200.0</td><td>20.0</td></tr><tr><td>250.0</td><td>10.0</td></tr><tr><td>200.0</td><td>20.0</td></tr></tbody></table></div>"
      ],
      "text/plain": [
       "shape: (5, 2)\n",
       "┌───────┬───────────────┐\n",
       "│ price ┆ shipping_cost │\n",
       "│ ---   ┆ ---           │\n",
       "│ f64   ┆ f64           │\n",
       "╞═══════╪═══════════════╡\n",
       "│ 200.0 ┆ 20.0          │\n",
       "│ 150.0 ┆ 10.0          │\n",
       "│ 200.0 ┆ 20.0          │\n",
       "│ 250.0 ┆ 10.0          │\n",
       "│ 200.0 ┆ 20.0          │\n",
       "└───────┴───────────────┘"
      ]
     },
     "execution_count": 126,
     "metadata": {},
     "output_type": "execute_result"
    }
   ],
   "source": [
    "# once the column is converted, we can access the price and shipping cost\n",
    "\n",
    "df_feedback.select(\n",
    "    transaction_details_as_struct = pl.col(\"transaction_details\").str.json_extract()\n",
    ").select(\n",
    "    price = pl.col(\"transaction_details_as_struct\").struct.field(\"price\"),\n",
    "    shipping_cost = pl.col(\"transaction_details_as_struct\").struct.field(\"shipping\").struct.field(\"cost\")\n",
    ")"
   ]
  },
  {
   "cell_type": "markdown",
   "metadata": {},
   "source": [
    "#### Time operations"
   ]
  },
  {
   "cell_type": "code",
   "execution_count": 127,
   "metadata": {},
   "outputs": [],
   "source": [
    "nypd = pl.read_parquet('../datasets/nypd_crimes_from_2018.parquet')"
   ]
  },
  {
   "cell_type": "code",
   "execution_count": 128,
   "metadata": {},
   "outputs": [
    {
     "data": {
      "text/html": [
       "<div><style>\n",
       ".dataframe > thead > tr > th,\n",
       ".dataframe > tbody > tr > td {\n",
       "  text-align: right;\n",
       "}\n",
       "</style>\n",
       "<small>shape: (5, 9)</small><table border=\"1\" class=\"dataframe\"><thead><tr><th>complaint_datetime</th><th>complaint_id</th><th>precinct</th><th>borough</th><th>crime_category</th><th>crime_description</th><th>victim_age_group</th><th>victim_race</th><th>victim_sex</th></tr><tr><td>str</td><td>str</td><td>i64</td><td>str</td><td>str</td><td>str</td><td>str</td><td>str</td><td>str</td></tr></thead><tbody><tr><td>&quot;2019-09-04 09:00:00&quot;</td><td>&quot;469069650&quot;</td><td>9</td><td>&quot;MANHATTAN&quot;</td><td>&quot;MISDEMEANOR&quot;</td><td>&quot;LARCENY,PETIT FROM AUTO&quot;</td><td>&quot;25-44&quot;</td><td>&quot;BLACK&quot;</td><td>&quot;F&quot;</td></tr><tr><td>&quot;2019-08-31 18:58:00&quot;</td><td>&quot;629841380&quot;</td><td>50</td><td>&quot;BRONX&quot;</td><td>&quot;MISDEMEANOR&quot;</td><td>&quot;LARCENY,PETIT OF BICYCLE&quot;</td><td>&quot;45-64&quot;</td><td>&quot;UNKNOWN&quot;</td><td>&quot;M&quot;</td></tr><tr><td>&quot;2019-09-07 22:00:00&quot;</td><td>&quot;224389328&quot;</td><td>19</td><td>&quot;MANHATTAN&quot;</td><td>&quot;MISDEMEANOR&quot;</td><td>&quot;LARCENY,PETIT FROM STORE-SHOPL&quot;</td><td>&quot;UNKNOWN&quot;</td><td>&quot;UNKNOWN&quot;</td><td>&quot;D&quot;</td></tr><tr><td>&quot;2019-08-31 18:00:00&quot;</td><td>&quot;211921838&quot;</td><td>71</td><td>&quot;BROOKLYN&quot;</td><td>&quot;MISDEMEANOR&quot;</td><td>&quot;LARCENY,PETIT FROM AUTO&quot;</td><td>&quot;45-64&quot;</td><td>&quot;BLACK&quot;</td><td>&quot;F&quot;</td></tr><tr><td>&quot;2019-09-07 13:00:00&quot;</td><td>&quot;381754893&quot;</td><td>62</td><td>&quot;BROOKLYN&quot;</td><td>&quot;MISDEMEANOR&quot;</td><td>&quot;CRIMINAL MISCHIEF 4TH, GRAFFIT&quot;</td><td>&quot;UNKNOWN&quot;</td><td>&quot;UNKNOWN&quot;</td><td>&quot;E&quot;</td></tr></tbody></table></div>"
      ],
      "text/plain": [
       "shape: (5, 9)\n",
       "┌────────────┬────────────┬──────────┬───────────┬───┬────────────┬────────────┬───────────┬──────────┐\n",
       "│ complaint_ ┆ complaint_ ┆ precinct ┆ borough   ┆ … ┆ crime_desc ┆ victim_age ┆ victim_ra ┆ victim_s │\n",
       "│ datetime   ┆ id         ┆ ---      ┆ ---       ┆   ┆ ription    ┆ _group     ┆ ce        ┆ ex       │\n",
       "│ ---        ┆ ---        ┆ i64      ┆ str       ┆   ┆ ---        ┆ ---        ┆ ---       ┆ ---      │\n",
       "│ str        ┆ str        ┆          ┆           ┆   ┆ str        ┆ str        ┆ str       ┆ str      │\n",
       "╞════════════╪════════════╪══════════╪═══════════╪═══╪════════════╪════════════╪═══════════╪══════════╡\n",
       "│ 2019-09-04 ┆ 469069650  ┆ 9        ┆ MANHATTAN ┆ … ┆ LARCENY,PE ┆ 25-44      ┆ BLACK     ┆ F        │\n",
       "│ 09:00:00   ┆            ┆          ┆           ┆   ┆ TIT FROM   ┆            ┆           ┆          │\n",
       "│            ┆            ┆          ┆           ┆   ┆ AUTO       ┆            ┆           ┆          │\n",
       "│ 2019-08-31 ┆ 629841380  ┆ 50       ┆ BRONX     ┆ … ┆ LARCENY,PE ┆ 45-64      ┆ UNKNOWN   ┆ M        │\n",
       "│ 18:58:00   ┆            ┆          ┆           ┆   ┆ TIT OF     ┆            ┆           ┆          │\n",
       "│            ┆            ┆          ┆           ┆   ┆ BICYCLE    ┆            ┆           ┆          │\n",
       "│ 2019-09-07 ┆ 224389328  ┆ 19       ┆ MANHATTAN ┆ … ┆ LARCENY,PE ┆ UNKNOWN    ┆ UNKNOWN   ┆ D        │\n",
       "│ 22:00:00   ┆            ┆          ┆           ┆   ┆ TIT FROM   ┆            ┆           ┆          │\n",
       "│            ┆            ┆          ┆           ┆   ┆ STORE-SHOP ┆            ┆           ┆          │\n",
       "│            ┆            ┆          ┆           ┆   ┆ L          ┆            ┆           ┆          │\n",
       "│ 2019-08-31 ┆ 211921838  ┆ 71       ┆ BROOKLYN  ┆ … ┆ LARCENY,PE ┆ 45-64      ┆ BLACK     ┆ F        │\n",
       "│ 18:00:00   ┆            ┆          ┆           ┆   ┆ TIT FROM   ┆            ┆           ┆          │\n",
       "│            ┆            ┆          ┆           ┆   ┆ AUTO       ┆            ┆           ┆          │\n",
       "│ 2019-09-07 ┆ 381754893  ┆ 62       ┆ BROOKLYN  ┆ … ┆ CRIMINAL   ┆ UNKNOWN    ┆ UNKNOWN   ┆ E        │\n",
       "│ 13:00:00   ┆            ┆          ┆           ┆   ┆ MISCHIEF   ┆            ┆           ┆          │\n",
       "│            ┆            ┆          ┆           ┆   ┆ 4TH,       ┆            ┆           ┆          │\n",
       "│            ┆            ┆          ┆           ┆   ┆ GRAFFIT    ┆            ┆           ┆          │\n",
       "└────────────┴────────────┴──────────┴───────────┴───┴────────────┴────────────┴───────────┴──────────┘"
      ]
     },
     "execution_count": 128,
     "metadata": {},
     "output_type": "execute_result"
    }
   ],
   "source": [
    "nypd.head(5)"
   ]
  },
  {
   "cell_type": "code",
   "execution_count": 129,
   "metadata": {},
   "outputs": [],
   "source": [
    "# We parse the datetime column to a datetime type\n",
    "\n",
    "nypd = nypd.with_columns(\n",
    "    pl.col('complaint_datetime').str.to_datetime(\"%Y-%m-%d %H:%M:%S\")\n",
    ")"
   ]
  },
  {
   "cell_type": "code",
   "execution_count": 130,
   "metadata": {},
   "outputs": [
    {
     "data": {
      "text/html": [
       "<div><style>\n",
       ".dataframe > thead > tr > th,\n",
       ".dataframe > tbody > tr > td {\n",
       "  text-align: right;\n",
       "}\n",
       "</style>\n",
       "<small>shape: (5, 9)</small><table border=\"1\" class=\"dataframe\"><thead><tr><th>complaint_datetime</th><th>complaint_id</th><th>precinct</th><th>borough</th><th>crime_category</th><th>crime_description</th><th>victim_age_group</th><th>victim_race</th><th>victim_sex</th></tr><tr><td>datetime[μs]</td><td>str</td><td>i64</td><td>str</td><td>str</td><td>str</td><td>str</td><td>str</td><td>str</td></tr></thead><tbody><tr><td>2020-06-05 20:20:00</td><td>&quot;314830920&quot;</td><td>75</td><td>null</td><td>&quot;FELONY&quot;</td><td>null</td><td>&quot;25-44&quot;</td><td>&quot;BLACK&quot;</td><td>&quot;M&quot;</td></tr><tr><td>2021-05-17 10:00:00</td><td>&quot;473765131&quot;</td><td>46</td><td>&quot;BRONX&quot;</td><td>&quot;MISDEMEANOR&quot;</td><td>&quot;PETIT LARCENY-CHECK FROM MAILB&quot;</td><td>&quot;45-64&quot;</td><td>&quot;WHITE HISPANIC&quot;</td><td>&quot;F&quot;</td></tr><tr><td>2021-05-29 23:10:00</td><td>&quot;251337835&quot;</td><td>63</td><td>&quot;BROOKLYN&quot;</td><td>&quot;MISDEMEANOR&quot;</td><td>&quot;FORGERY,ETC.-MISD.&quot;</td><td>&quot;UNKNOWN&quot;</td><td>&quot;UNKNOWN&quot;</td><td>&quot;E&quot;</td></tr><tr><td>2021-06-08 21:00:00</td><td>&quot;894959678&quot;</td><td>105</td><td>&quot;QUEENS&quot;</td><td>&quot;MISDEMEANOR&quot;</td><td>&quot;LARCENY,PETIT FROM AUTO&quot;</td><td>&quot;25-44&quot;</td><td>&quot;BLACK&quot;</td><td>&quot;F&quot;</td></tr><tr><td>2021-12-16 21:00:00</td><td>&quot;756737433&quot;</td><td>42</td><td>&quot;BRONX&quot;</td><td>&quot;MISDEMEANOR&quot;</td><td>&quot;ASSAULT 3&quot;</td><td>&quot;45-64&quot;</td><td>&quot;BLACK HISPANIC&quot;</td><td>&quot;M&quot;</td></tr></tbody></table></div>"
      ],
      "text/plain": [
       "shape: (5, 9)\n",
       "┌────────────┬────────────┬──────────┬──────────┬───┬────────────┬────────────┬───────────┬──────────┐\n",
       "│ complaint_ ┆ complaint_ ┆ precinct ┆ borough  ┆ … ┆ crime_desc ┆ victim_age ┆ victim_ra ┆ victim_s │\n",
       "│ datetime   ┆ id         ┆ ---      ┆ ---      ┆   ┆ ription    ┆ _group     ┆ ce        ┆ ex       │\n",
       "│ ---        ┆ ---        ┆ i64      ┆ str      ┆   ┆ ---        ┆ ---        ┆ ---       ┆ ---      │\n",
       "│ datetime[μ ┆ str        ┆          ┆          ┆   ┆ str        ┆ str        ┆ str       ┆ str      │\n",
       "│ s]         ┆            ┆          ┆          ┆   ┆            ┆            ┆           ┆          │\n",
       "╞════════════╪════════════╪══════════╪══════════╪═══╪════════════╪════════════╪═══════════╪══════════╡\n",
       "│ 2020-06-05 ┆ 314830920  ┆ 75       ┆ null     ┆ … ┆ null       ┆ 25-44      ┆ BLACK     ┆ M        │\n",
       "│ 20:20:00   ┆            ┆          ┆          ┆   ┆            ┆            ┆           ┆          │\n",
       "│ 2021-05-17 ┆ 473765131  ┆ 46       ┆ BRONX    ┆ … ┆ PETIT LARC ┆ 45-64      ┆ WHITE     ┆ F        │\n",
       "│ 10:00:00   ┆            ┆          ┆          ┆   ┆ ENY-CHECK  ┆            ┆ HISPANIC  ┆          │\n",
       "│            ┆            ┆          ┆          ┆   ┆ FROM MAILB ┆            ┆           ┆          │\n",
       "│ 2021-05-29 ┆ 251337835  ┆ 63       ┆ BROOKLYN ┆ … ┆ FORGERY,ET ┆ UNKNOWN    ┆ UNKNOWN   ┆ E        │\n",
       "│ 23:10:00   ┆            ┆          ┆          ┆   ┆ C.-MISD.   ┆            ┆           ┆          │\n",
       "│ 2021-06-08 ┆ 894959678  ┆ 105      ┆ QUEENS   ┆ … ┆ LARCENY,PE ┆ 25-44      ┆ BLACK     ┆ F        │\n",
       "│ 21:00:00   ┆            ┆          ┆          ┆   ┆ TIT FROM   ┆            ┆           ┆          │\n",
       "│            ┆            ┆          ┆          ┆   ┆ AUTO       ┆            ┆           ┆          │\n",
       "│ 2021-12-16 ┆ 756737433  ┆ 42       ┆ BRONX    ┆ … ┆ ASSAULT 3  ┆ 45-64      ┆ BLACK     ┆ M        │\n",
       "│ 21:00:00   ┆            ┆          ┆          ┆   ┆            ┆            ┆ HISPANIC  ┆          │\n",
       "└────────────┴────────────┴──────────┴──────────┴───┴────────────┴────────────┴───────────┴──────────┘"
      ]
     },
     "execution_count": 130,
     "metadata": {},
     "output_type": "execute_result"
    }
   ],
   "source": [
    "# We can filter for specific dates with the datetime Python package\n",
    "\n",
    "from datetime import datetime\n",
    "\n",
    "nypd.filter(\n",
    "    pl.col('complaint_datetime') > datetime(2020, 1, 1)\n",
    ").head(5)"
   ]
  },
  {
   "cell_type": "code",
   "execution_count": 131,
   "metadata": {},
   "outputs": [
    {
     "data": {
      "text/html": [
       "<div><style>\n",
       ".dataframe > thead > tr > th,\n",
       ".dataframe > tbody > tr > td {\n",
       "  text-align: right;\n",
       "}\n",
       "</style>\n",
       "<small>shape: (5, 9)</small><table border=\"1\" class=\"dataframe\"><thead><tr><th>complaint_datetime</th><th>complaint_id</th><th>precinct</th><th>borough</th><th>crime_category</th><th>crime_description</th><th>victim_age_group</th><th>victim_race</th><th>victim_sex</th></tr><tr><td>datetime[μs]</td><td>str</td><td>i64</td><td>str</td><td>str</td><td>str</td><td>str</td><td>str</td><td>str</td></tr></thead><tbody><tr><td>2020-01-02 14:45:00</td><td>&quot;591348983&quot;</td><td>18</td><td>&quot;MANHATTAN&quot;</td><td>&quot;FELONY&quot;</td><td>&quot;ROBBERY,OPEN AREA UNCLASSIFIED&quot;</td><td>&quot;18-24&quot;</td><td>&quot;WHITE&quot;</td><td>&quot;M&quot;</td></tr><tr><td>2020-01-03 15:33:00</td><td>&quot;211105656&quot;</td><td>44</td><td>&quot;BRONX&quot;</td><td>&quot;MISDEMEANOR&quot;</td><td>&quot;LARCENY,PETIT BY CREDIT CARD U&quot;</td><td>&quot;18-24&quot;</td><td>&quot;BLACK&quot;</td><td>&quot;F&quot;</td></tr><tr><td>2020-01-07 11:20:00</td><td>&quot;364136331&quot;</td><td>71</td><td>&quot;BROOKLYN&quot;</td><td>&quot;VIOLATION&quot;</td><td>&quot;HARASSMENT,SUBD 3,4,5&quot;</td><td>&quot;25-44&quot;</td><td>&quot;WHITE&quot;</td><td>&quot;F&quot;</td></tr><tr><td>2020-01-02 17:28:00</td><td>&quot;587143439&quot;</td><td>42</td><td>&quot;BRONX&quot;</td><td>&quot;FELONY&quot;</td><td>&quot;CONTROLLED SUBSTANCE,INTENT TO&quot;</td><td>&quot;UNKNOWN&quot;</td><td>&quot;UNKNOWN&quot;</td><td>&quot;E&quot;</td></tr><tr><td>2020-01-03 06:55:00</td><td>&quot;669190911&quot;</td><td>50</td><td>&quot;BRONX&quot;</td><td>&quot;MISDEMEANOR&quot;</td><td>&quot;LEAVING SCENE-ACCIDENT-PERSONA&quot;</td><td>&quot;65+&quot;</td><td>&quot;WHITE HISPANIC&quot;</td><td>&quot;M&quot;</td></tr></tbody></table></div>"
      ],
      "text/plain": [
       "shape: (5, 9)\n",
       "┌────────────┬────────────┬──────────┬───────────┬───┬────────────┬────────────┬───────────┬──────────┐\n",
       "│ complaint_ ┆ complaint_ ┆ precinct ┆ borough   ┆ … ┆ crime_desc ┆ victim_age ┆ victim_ra ┆ victim_s │\n",
       "│ datetime   ┆ id         ┆ ---      ┆ ---       ┆   ┆ ription    ┆ _group     ┆ ce        ┆ ex       │\n",
       "│ ---        ┆ ---        ┆ i64      ┆ str       ┆   ┆ ---        ┆ ---        ┆ ---       ┆ ---      │\n",
       "│ datetime[μ ┆ str        ┆          ┆           ┆   ┆ str        ┆ str        ┆ str       ┆ str      │\n",
       "│ s]         ┆            ┆          ┆           ┆   ┆            ┆            ┆           ┆          │\n",
       "╞════════════╪════════════╪══════════╪═══════════╪═══╪════════════╪════════════╪═══════════╪══════════╡\n",
       "│ 2020-01-02 ┆ 591348983  ┆ 18       ┆ MANHATTAN ┆ … ┆ ROBBERY,OP ┆ 18-24      ┆ WHITE     ┆ M        │\n",
       "│ 14:45:00   ┆            ┆          ┆           ┆   ┆ EN AREA    ┆            ┆           ┆          │\n",
       "│            ┆            ┆          ┆           ┆   ┆ UNCLASSIFI ┆            ┆           ┆          │\n",
       "│            ┆            ┆          ┆           ┆   ┆ ED         ┆            ┆           ┆          │\n",
       "│ 2020-01-03 ┆ 211105656  ┆ 44       ┆ BRONX     ┆ … ┆ LARCENY,PE ┆ 18-24      ┆ BLACK     ┆ F        │\n",
       "│ 15:33:00   ┆            ┆          ┆           ┆   ┆ TIT BY     ┆            ┆           ┆          │\n",
       "│            ┆            ┆          ┆           ┆   ┆ CREDIT     ┆            ┆           ┆          │\n",
       "│            ┆            ┆          ┆           ┆   ┆ CARD U     ┆            ┆           ┆          │\n",
       "│ 2020-01-07 ┆ 364136331  ┆ 71       ┆ BROOKLYN  ┆ … ┆ HARASSMENT ┆ 25-44      ┆ WHITE     ┆ F        │\n",
       "│ 11:20:00   ┆            ┆          ┆           ┆   ┆ ,SUBD      ┆            ┆           ┆          │\n",
       "│            ┆            ┆          ┆           ┆   ┆ 3,4,5      ┆            ┆           ┆          │\n",
       "│ 2020-01-02 ┆ 587143439  ┆ 42       ┆ BRONX     ┆ … ┆ CONTROLLED ┆ UNKNOWN    ┆ UNKNOWN   ┆ E        │\n",
       "│ 17:28:00   ┆            ┆          ┆           ┆   ┆ SUBSTANCE, ┆            ┆           ┆          │\n",
       "│            ┆            ┆          ┆           ┆   ┆ INTENT TO  ┆            ┆           ┆          │\n",
       "│ 2020-01-03 ┆ 669190911  ┆ 50       ┆ BRONX     ┆ … ┆ LEAVING    ┆ 65+        ┆ WHITE     ┆ M        │\n",
       "│ 06:55:00   ┆            ┆          ┆           ┆   ┆ SCENE-ACCI ┆            ┆ HISPANIC  ┆          │\n",
       "│            ┆            ┆          ┆           ┆   ┆ DENT-PERSO ┆            ┆           ┆          │\n",
       "│            ┆            ┆          ┆           ┆   ┆ NA         ┆            ┆           ┆          │\n",
       "└────────────┴────────────┴──────────┴───────────┴───┴────────────┴────────────┴───────────┴──────────┘"
      ]
     },
     "execution_count": 131,
     "metadata": {},
     "output_type": "execute_result"
    }
   ],
   "source": [
    "# We can filter for date ranges using the is_between method\n",
    "\n",
    "nypd.filter(\n",
    "    pl.col('complaint_datetime').is_between(datetime(2020, 1, 1), datetime(2020, 1, 10))\n",
    ").head(5)"
   ]
  },
  {
   "cell_type": "code",
   "execution_count": 132,
   "metadata": {},
   "outputs": [
    {
     "data": {
      "text/html": [
       "<div><style>\n",
       ".dataframe > thead > tr > th,\n",
       ".dataframe > tbody > tr > td {\n",
       "  text-align: right;\n",
       "}\n",
       "</style>\n",
       "<small>shape: (5, 2)</small><table border=\"1\" class=\"dataframe\"><thead><tr><th>year</th><th>count</th></tr><tr><td>i32</td><td>u32</td></tr></thead><tbody><tr><td>2018</td><td>462471</td></tr><tr><td>2019</td><td>458805</td></tr><tr><td>2020</td><td>413181</td></tr><tr><td>2021</td><td>448083</td></tr><tr><td>2022</td><td>520595</td></tr></tbody></table></div>"
      ],
      "text/plain": [
       "shape: (5, 2)\n",
       "┌──────┬────────┐\n",
       "│ year ┆ count  │\n",
       "│ ---  ┆ ---    │\n",
       "│ i32  ┆ u32    │\n",
       "╞══════╪════════╡\n",
       "│ 2018 ┆ 462471 │\n",
       "│ 2019 ┆ 458805 │\n",
       "│ 2020 ┆ 413181 │\n",
       "│ 2021 ┆ 448083 │\n",
       "│ 2022 ┆ 520595 │\n",
       "└──────┴────────┘"
      ]
     },
     "execution_count": 132,
     "metadata": {},
     "output_type": "execute_result"
    }
   ],
   "source": [
    "# With the column parsed to a datetime type, we can extract the year, month, day, etc.\n",
    "# Count of crimes per year\n",
    "\n",
    "nypd.groupby(\n",
    "    pl.col('complaint_datetime').dt.year().alias('year')\n",
    "    ).count()"
   ]
  },
  {
   "cell_type": "code",
   "execution_count": 133,
   "metadata": {},
   "outputs": [
    {
     "data": {
      "text/html": [
       "<div><style>\n",
       ".dataframe > thead > tr > th,\n",
       ".dataframe > tbody > tr > td {\n",
       "  text-align: right;\n",
       "}\n",
       "</style>\n",
       "<small>shape: (5, 2)</small><table border=\"1\" class=\"dataframe\"><thead><tr><th>week</th><th>count</th></tr><tr><td>u32</td><td>u32</td></tr></thead><tbody><tr><td>37</td><td>47729</td></tr><tr><td>38</td><td>47481</td></tr><tr><td>44</td><td>47326</td></tr><tr><td>31</td><td>47156</td></tr><tr><td>27</td><td>47117</td></tr></tbody></table></div>"
      ],
      "text/plain": [
       "shape: (5, 2)\n",
       "┌──────┬───────┐\n",
       "│ week ┆ count │\n",
       "│ ---  ┆ ---   │\n",
       "│ u32  ┆ u32   │\n",
       "╞══════╪═══════╡\n",
       "│ 37   ┆ 47729 │\n",
       "│ 38   ┆ 47481 │\n",
       "│ 44   ┆ 47326 │\n",
       "│ 31   ┆ 47156 │\n",
       "│ 27   ┆ 47117 │\n",
       "└──────┴───────┘"
      ]
     },
     "execution_count": 133,
     "metadata": {},
     "output_type": "execute_result"
    }
   ],
   "source": [
    "# Count of crimes per week of the year, show the 5 weeks with the most crimes\n",
    "\n",
    "(\n",
    "    nypd.groupby(\n",
    "        pl.col('complaint_datetime').dt.week().alias('week'))\n",
    "    .count()\n",
    "    .sort('count', descending=True)\n",
    "    .head(5)\n",
    ")"
   ]
  },
  {
   "cell_type": "code",
   "execution_count": 134,
   "metadata": {},
   "outputs": [
    {
     "data": {
      "text/html": [
       "<div><style>\n",
       ".dataframe > thead > tr > th,\n",
       ".dataframe > tbody > tr > td {\n",
       "  text-align: right;\n",
       "}\n",
       "</style>\n",
       "<small>shape: (5, 12)</small><table border=\"1\" class=\"dataframe\"><thead><tr><th>complaint_datetime</th><th>complaint_id</th><th>precinct</th><th>borough</th><th>crime_category</th><th>crime_description</th><th>victim_age_group</th><th>victim_race</th><th>victim_sex</th><th>day_of_week</th><th>day_of_month</th><th>day_of_year</th></tr><tr><td>datetime[μs]</td><td>str</td><td>i64</td><td>str</td><td>str</td><td>str</td><td>str</td><td>str</td><td>str</td><td>u32</td><td>u32</td><td>u32</td></tr></thead><tbody><tr><td>2019-09-04 09:00:00</td><td>&quot;469069650&quot;</td><td>9</td><td>&quot;MANHATTAN&quot;</td><td>&quot;MISDEMEANOR&quot;</td><td>&quot;LARCENY,PETIT FROM AUTO&quot;</td><td>&quot;25-44&quot;</td><td>&quot;BLACK&quot;</td><td>&quot;F&quot;</td><td>3</td><td>4</td><td>247</td></tr><tr><td>2019-08-31 18:58:00</td><td>&quot;629841380&quot;</td><td>50</td><td>&quot;BRONX&quot;</td><td>&quot;MISDEMEANOR&quot;</td><td>&quot;LARCENY,PETIT OF BICYCLE&quot;</td><td>&quot;45-64&quot;</td><td>&quot;UNKNOWN&quot;</td><td>&quot;M&quot;</td><td>6</td><td>31</td><td>243</td></tr><tr><td>2019-09-07 22:00:00</td><td>&quot;224389328&quot;</td><td>19</td><td>&quot;MANHATTAN&quot;</td><td>&quot;MISDEMEANOR&quot;</td><td>&quot;LARCENY,PETIT FROM STORE-SHOPL&quot;</td><td>&quot;UNKNOWN&quot;</td><td>&quot;UNKNOWN&quot;</td><td>&quot;D&quot;</td><td>6</td><td>7</td><td>250</td></tr><tr><td>2019-08-31 18:00:00</td><td>&quot;211921838&quot;</td><td>71</td><td>&quot;BROOKLYN&quot;</td><td>&quot;MISDEMEANOR&quot;</td><td>&quot;LARCENY,PETIT FROM AUTO&quot;</td><td>&quot;45-64&quot;</td><td>&quot;BLACK&quot;</td><td>&quot;F&quot;</td><td>6</td><td>31</td><td>243</td></tr><tr><td>2019-09-07 13:00:00</td><td>&quot;381754893&quot;</td><td>62</td><td>&quot;BROOKLYN&quot;</td><td>&quot;MISDEMEANOR&quot;</td><td>&quot;CRIMINAL MISCHIEF 4TH, GRAFFIT&quot;</td><td>&quot;UNKNOWN&quot;</td><td>&quot;UNKNOWN&quot;</td><td>&quot;E&quot;</td><td>6</td><td>7</td><td>250</td></tr></tbody></table></div>"
      ],
      "text/plain": [
       "shape: (5, 12)\n",
       "┌────────────┬────────────┬──────────┬───────────┬───┬──────────┬───────────┬────────────┬───────────┐\n",
       "│ complaint_ ┆ complaint_ ┆ precinct ┆ borough   ┆ … ┆ victim_s ┆ day_of_we ┆ day_of_mon ┆ day_of_ye │\n",
       "│ datetime   ┆ id         ┆ ---      ┆ ---       ┆   ┆ ex       ┆ ek        ┆ th         ┆ ar        │\n",
       "│ ---        ┆ ---        ┆ i64      ┆ str       ┆   ┆ ---      ┆ ---       ┆ ---        ┆ ---       │\n",
       "│ datetime[μ ┆ str        ┆          ┆           ┆   ┆ str      ┆ u32       ┆ u32        ┆ u32       │\n",
       "│ s]         ┆            ┆          ┆           ┆   ┆          ┆           ┆            ┆           │\n",
       "╞════════════╪════════════╪══════════╪═══════════╪═══╪══════════╪═══════════╪════════════╪═══════════╡\n",
       "│ 2019-09-04 ┆ 469069650  ┆ 9        ┆ MANHATTAN ┆ … ┆ F        ┆ 3         ┆ 4          ┆ 247       │\n",
       "│ 09:00:00   ┆            ┆          ┆           ┆   ┆          ┆           ┆            ┆           │\n",
       "│ 2019-08-31 ┆ 629841380  ┆ 50       ┆ BRONX     ┆ … ┆ M        ┆ 6         ┆ 31         ┆ 243       │\n",
       "│ 18:58:00   ┆            ┆          ┆           ┆   ┆          ┆           ┆            ┆           │\n",
       "│ 2019-09-07 ┆ 224389328  ┆ 19       ┆ MANHATTAN ┆ … ┆ D        ┆ 6         ┆ 7          ┆ 250       │\n",
       "│ 22:00:00   ┆            ┆          ┆           ┆   ┆          ┆           ┆            ┆           │\n",
       "│ 2019-08-31 ┆ 211921838  ┆ 71       ┆ BROOKLYN  ┆ … ┆ F        ┆ 6         ┆ 31         ┆ 243       │\n",
       "│ 18:00:00   ┆            ┆          ┆           ┆   ┆          ┆           ┆            ┆           │\n",
       "│ 2019-09-07 ┆ 381754893  ┆ 62       ┆ BROOKLYN  ┆ … ┆ E        ┆ 6         ┆ 7          ┆ 250       │\n",
       "│ 13:00:00   ┆            ┆          ┆           ┆   ┆          ┆           ┆            ┆           │\n",
       "└────────────┴────────────┴──────────┴───────────┴───┴──────────┴───────────┴────────────┴───────────┘"
      ]
     },
     "execution_count": 134,
     "metadata": {},
     "output_type": "execute_result"
    }
   ],
   "source": [
    "# There are multiple options for the days: day of the week, day of the month, and day of the year\n",
    "\n",
    "nypd.with_columns(\n",
    "    day_of_week = pl.col('complaint_datetime').dt.weekday(), # Monday is 1, Sunday is 7\n",
    "    day_of_month = pl.col('complaint_datetime').dt.day(),\n",
    "    day_of_year = pl.col('complaint_datetime').dt.ordinal_day()\n",
    ").head(5)"
   ]
  },
  {
   "cell_type": "code",
   "execution_count": 135,
   "metadata": {},
   "outputs": [
    {
     "data": {
      "text/html": [
       "<div><style>\n",
       ".dataframe > thead > tr > th,\n",
       ".dataframe > tbody > tr > td {\n",
       "  text-align: right;\n",
       "}\n",
       "</style>\n",
       "<small>shape: (3, 2)</small><table border=\"1\" class=\"dataframe\"><thead><tr><th>2year6months_bucket</th><th>count</th></tr><tr><td>datetime[μs]</td><td>u32</td></tr></thead><tbody><tr><td>2022-07-01 00:00:00</td><td>265927</td></tr><tr><td>2020-01-01 00:00:00</td><td>1115932</td></tr><tr><td>2017-07-01 00:00:00</td><td>921276</td></tr></tbody></table></div>"
      ],
      "text/plain": [
       "shape: (3, 2)\n",
       "┌─────────────────────┬─────────┐\n",
       "│ 2year6months_bucket ┆ count   │\n",
       "│ ---                 ┆ ---     │\n",
       "│ datetime[μs]        ┆ u32     │\n",
       "╞═════════════════════╪═════════╡\n",
       "│ 2022-07-01 00:00:00 ┆ 265927  │\n",
       "│ 2020-01-01 00:00:00 ┆ 1115932 │\n",
       "│ 2017-07-01 00:00:00 ┆ 921276  │\n",
       "└─────────────────────┴─────────┘"
      ]
     },
     "execution_count": 135,
     "metadata": {},
     "output_type": "execute_result"
    }
   ],
   "source": [
    "# Polars has another function to group dates together, which is truncate\n",
    "# we can bin the dates into buckets of 2 years and 6 months\n",
    "\n",
    "(\n",
    "    nypd.groupby(\n",
    "        pl.col('complaint_datetime').dt.truncate('2y6mo').alias('2year6months_bucket'))\n",
    "    .count()\n",
    ")\n"
   ]
  },
  {
   "cell_type": "code",
   "execution_count": 136,
   "metadata": {},
   "outputs": [
    {
     "data": {
      "text/html": [
       "<div><style>\n",
       ".dataframe > thead > tr > th,\n",
       ".dataframe > tbody > tr > td {\n",
       "  text-align: right;\n",
       "}\n",
       "</style>\n",
       "<small>shape: (5, 9)</small><table border=\"1\" class=\"dataframe\"><thead><tr><th>complaint_datetime</th><th>complaint_id</th><th>precinct</th><th>borough</th><th>crime_category</th><th>crime_description</th><th>victim_age_group</th><th>victim_race</th><th>victim_sex</th></tr><tr><td>datetime[μs, US/Eastern]</td><td>str</td><td>i64</td><td>str</td><td>str</td><td>str</td><td>str</td><td>str</td><td>str</td></tr></thead><tbody><tr><td>2019-09-04 09:00:00 EDT</td><td>&quot;469069650&quot;</td><td>9</td><td>&quot;MANHATTAN&quot;</td><td>&quot;MISDEMEANOR&quot;</td><td>&quot;LARCENY,PETIT FROM AUTO&quot;</td><td>&quot;25-44&quot;</td><td>&quot;BLACK&quot;</td><td>&quot;F&quot;</td></tr><tr><td>2019-08-31 18:58:00 EDT</td><td>&quot;629841380&quot;</td><td>50</td><td>&quot;BRONX&quot;</td><td>&quot;MISDEMEANOR&quot;</td><td>&quot;LARCENY,PETIT OF BICYCLE&quot;</td><td>&quot;45-64&quot;</td><td>&quot;UNKNOWN&quot;</td><td>&quot;M&quot;</td></tr><tr><td>2019-09-07 22:00:00 EDT</td><td>&quot;224389328&quot;</td><td>19</td><td>&quot;MANHATTAN&quot;</td><td>&quot;MISDEMEANOR&quot;</td><td>&quot;LARCENY,PETIT FROM STORE-SHOPL&quot;</td><td>&quot;UNKNOWN&quot;</td><td>&quot;UNKNOWN&quot;</td><td>&quot;D&quot;</td></tr><tr><td>2019-08-31 18:00:00 EDT</td><td>&quot;211921838&quot;</td><td>71</td><td>&quot;BROOKLYN&quot;</td><td>&quot;MISDEMEANOR&quot;</td><td>&quot;LARCENY,PETIT FROM AUTO&quot;</td><td>&quot;45-64&quot;</td><td>&quot;BLACK&quot;</td><td>&quot;F&quot;</td></tr><tr><td>2019-09-07 13:00:00 EDT</td><td>&quot;381754893&quot;</td><td>62</td><td>&quot;BROOKLYN&quot;</td><td>&quot;MISDEMEANOR&quot;</td><td>&quot;CRIMINAL MISCHIEF 4TH, GRAFFIT&quot;</td><td>&quot;UNKNOWN&quot;</td><td>&quot;UNKNOWN&quot;</td><td>&quot;E&quot;</td></tr></tbody></table></div>"
      ],
      "text/plain": [
       "shape: (5, 9)\n",
       "┌────────────┬────────────┬──────────┬───────────┬───┬────────────┬────────────┬───────────┬──────────┐\n",
       "│ complaint_ ┆ complaint_ ┆ precinct ┆ borough   ┆ … ┆ crime_desc ┆ victim_age ┆ victim_ra ┆ victim_s │\n",
       "│ datetime   ┆ id         ┆ ---      ┆ ---       ┆   ┆ ription    ┆ _group     ┆ ce        ┆ ex       │\n",
       "│ ---        ┆ ---        ┆ i64      ┆ str       ┆   ┆ ---        ┆ ---        ┆ ---       ┆ ---      │\n",
       "│ datetime[μ ┆ str        ┆          ┆           ┆   ┆ str        ┆ str        ┆ str       ┆ str      │\n",
       "│ s, US/East ┆            ┆          ┆           ┆   ┆            ┆            ┆           ┆          │\n",
       "│ ern]       ┆            ┆          ┆           ┆   ┆            ┆            ┆           ┆          │\n",
       "╞════════════╪════════════╪══════════╪═══════════╪═══╪════════════╪════════════╪═══════════╪══════════╡\n",
       "│ 2019-09-04 ┆ 469069650  ┆ 9        ┆ MANHATTAN ┆ … ┆ LARCENY,PE ┆ 25-44      ┆ BLACK     ┆ F        │\n",
       "│ 09:00:00   ┆            ┆          ┆           ┆   ┆ TIT FROM   ┆            ┆           ┆          │\n",
       "│ EDT        ┆            ┆          ┆           ┆   ┆ AUTO       ┆            ┆           ┆          │\n",
       "│ 2019-08-31 ┆ 629841380  ┆ 50       ┆ BRONX     ┆ … ┆ LARCENY,PE ┆ 45-64      ┆ UNKNOWN   ┆ M        │\n",
       "│ 18:58:00   ┆            ┆          ┆           ┆   ┆ TIT OF     ┆            ┆           ┆          │\n",
       "│ EDT        ┆            ┆          ┆           ┆   ┆ BICYCLE    ┆            ┆           ┆          │\n",
       "│ 2019-09-07 ┆ 224389328  ┆ 19       ┆ MANHATTAN ┆ … ┆ LARCENY,PE ┆ UNKNOWN    ┆ UNKNOWN   ┆ D        │\n",
       "│ 22:00:00   ┆            ┆          ┆           ┆   ┆ TIT FROM   ┆            ┆           ┆          │\n",
       "│ EDT        ┆            ┆          ┆           ┆   ┆ STORE-SHOP ┆            ┆           ┆          │\n",
       "│            ┆            ┆          ┆           ┆   ┆ L          ┆            ┆           ┆          │\n",
       "│ 2019-08-31 ┆ 211921838  ┆ 71       ┆ BROOKLYN  ┆ … ┆ LARCENY,PE ┆ 45-64      ┆ BLACK     ┆ F        │\n",
       "│ 18:00:00   ┆            ┆          ┆           ┆   ┆ TIT FROM   ┆            ┆           ┆          │\n",
       "│ EDT        ┆            ┆          ┆           ┆   ┆ AUTO       ┆            ┆           ┆          │\n",
       "│ 2019-09-07 ┆ 381754893  ┆ 62       ┆ BROOKLYN  ┆ … ┆ CRIMINAL   ┆ UNKNOWN    ┆ UNKNOWN   ┆ E        │\n",
       "│ 13:00:00   ┆            ┆          ┆           ┆   ┆ MISCHIEF   ┆            ┆           ┆          │\n",
       "│ EDT        ┆            ┆          ┆           ┆   ┆ 4TH,       ┆            ┆           ┆          │\n",
       "│            ┆            ┆          ┆           ┆   ┆ GRAFFIT    ┆            ┆           ┆          │\n",
       "└────────────┴────────────┴──────────┴───────────┴───┴────────────┴────────────┴───────────┴──────────┘"
      ]
     },
     "execution_count": 136,
     "metadata": {},
     "output_type": "execute_result"
    }
   ],
   "source": [
    "# Polars can work with time zones. For example, we can set the time zone to US/Eastern\n",
    "\n",
    "nypd_localised = nypd.head(100).with_columns(\n",
    "    complaint_datetime = pl.col('complaint_datetime').dt.replace_time_zone('US/Eastern', use_earliest=True)\n",
    ")\n",
    "\n",
    "nypd_localised.head(5)"
   ]
  },
  {
   "cell_type": "code",
   "execution_count": 137,
   "metadata": {},
   "outputs": [
    {
     "data": {
      "text/html": [
       "<div><style>\n",
       ".dataframe > thead > tr > th,\n",
       ".dataframe > tbody > tr > td {\n",
       "  text-align: right;\n",
       "}\n",
       "</style>\n",
       "<small>shape: (5, 9)</small><table border=\"1\" class=\"dataframe\"><thead><tr><th>complaint_datetime</th><th>complaint_id</th><th>precinct</th><th>borough</th><th>crime_category</th><th>crime_description</th><th>victim_age_group</th><th>victim_race</th><th>victim_sex</th></tr><tr><td>datetime[μs, UTC]</td><td>str</td><td>i64</td><td>str</td><td>str</td><td>str</td><td>str</td><td>str</td><td>str</td></tr></thead><tbody><tr><td>2019-09-04 13:00:00 UTC</td><td>&quot;469069650&quot;</td><td>9</td><td>&quot;MANHATTAN&quot;</td><td>&quot;MISDEMEANOR&quot;</td><td>&quot;LARCENY,PETIT FROM AUTO&quot;</td><td>&quot;25-44&quot;</td><td>&quot;BLACK&quot;</td><td>&quot;F&quot;</td></tr><tr><td>2019-08-31 22:58:00 UTC</td><td>&quot;629841380&quot;</td><td>50</td><td>&quot;BRONX&quot;</td><td>&quot;MISDEMEANOR&quot;</td><td>&quot;LARCENY,PETIT OF BICYCLE&quot;</td><td>&quot;45-64&quot;</td><td>&quot;UNKNOWN&quot;</td><td>&quot;M&quot;</td></tr><tr><td>2019-09-08 02:00:00 UTC</td><td>&quot;224389328&quot;</td><td>19</td><td>&quot;MANHATTAN&quot;</td><td>&quot;MISDEMEANOR&quot;</td><td>&quot;LARCENY,PETIT FROM STORE-SHOPL&quot;</td><td>&quot;UNKNOWN&quot;</td><td>&quot;UNKNOWN&quot;</td><td>&quot;D&quot;</td></tr><tr><td>2019-08-31 22:00:00 UTC</td><td>&quot;211921838&quot;</td><td>71</td><td>&quot;BROOKLYN&quot;</td><td>&quot;MISDEMEANOR&quot;</td><td>&quot;LARCENY,PETIT FROM AUTO&quot;</td><td>&quot;45-64&quot;</td><td>&quot;BLACK&quot;</td><td>&quot;F&quot;</td></tr><tr><td>2019-09-07 17:00:00 UTC</td><td>&quot;381754893&quot;</td><td>62</td><td>&quot;BROOKLYN&quot;</td><td>&quot;MISDEMEANOR&quot;</td><td>&quot;CRIMINAL MISCHIEF 4TH, GRAFFIT&quot;</td><td>&quot;UNKNOWN&quot;</td><td>&quot;UNKNOWN&quot;</td><td>&quot;E&quot;</td></tr></tbody></table></div>"
      ],
      "text/plain": [
       "shape: (5, 9)\n",
       "┌────────────┬────────────┬──────────┬───────────┬───┬────────────┬────────────┬───────────┬──────────┐\n",
       "│ complaint_ ┆ complaint_ ┆ precinct ┆ borough   ┆ … ┆ crime_desc ┆ victim_age ┆ victim_ra ┆ victim_s │\n",
       "│ datetime   ┆ id         ┆ ---      ┆ ---       ┆   ┆ ription    ┆ _group     ┆ ce        ┆ ex       │\n",
       "│ ---        ┆ ---        ┆ i64      ┆ str       ┆   ┆ ---        ┆ ---        ┆ ---       ┆ ---      │\n",
       "│ datetime[μ ┆ str        ┆          ┆           ┆   ┆ str        ┆ str        ┆ str       ┆ str      │\n",
       "│ s, UTC]    ┆            ┆          ┆           ┆   ┆            ┆            ┆           ┆          │\n",
       "╞════════════╪════════════╪══════════╪═══════════╪═══╪════════════╪════════════╪═══════════╪══════════╡\n",
       "│ 2019-09-04 ┆ 469069650  ┆ 9        ┆ MANHATTAN ┆ … ┆ LARCENY,PE ┆ 25-44      ┆ BLACK     ┆ F        │\n",
       "│ 13:00:00   ┆            ┆          ┆           ┆   ┆ TIT FROM   ┆            ┆           ┆          │\n",
       "│ UTC        ┆            ┆          ┆           ┆   ┆ AUTO       ┆            ┆           ┆          │\n",
       "│ 2019-08-31 ┆ 629841380  ┆ 50       ┆ BRONX     ┆ … ┆ LARCENY,PE ┆ 45-64      ┆ UNKNOWN   ┆ M        │\n",
       "│ 22:58:00   ┆            ┆          ┆           ┆   ┆ TIT OF     ┆            ┆           ┆          │\n",
       "│ UTC        ┆            ┆          ┆           ┆   ┆ BICYCLE    ┆            ┆           ┆          │\n",
       "│ 2019-09-08 ┆ 224389328  ┆ 19       ┆ MANHATTAN ┆ … ┆ LARCENY,PE ┆ UNKNOWN    ┆ UNKNOWN   ┆ D        │\n",
       "│ 02:00:00   ┆            ┆          ┆           ┆   ┆ TIT FROM   ┆            ┆           ┆          │\n",
       "│ UTC        ┆            ┆          ┆           ┆   ┆ STORE-SHOP ┆            ┆           ┆          │\n",
       "│            ┆            ┆          ┆           ┆   ┆ L          ┆            ┆           ┆          │\n",
       "│ 2019-08-31 ┆ 211921838  ┆ 71       ┆ BROOKLYN  ┆ … ┆ LARCENY,PE ┆ 45-64      ┆ BLACK     ┆ F        │\n",
       "│ 22:00:00   ┆            ┆          ┆           ┆   ┆ TIT FROM   ┆            ┆           ┆          │\n",
       "│ UTC        ┆            ┆          ┆           ┆   ┆ AUTO       ┆            ┆           ┆          │\n",
       "│ 2019-09-07 ┆ 381754893  ┆ 62       ┆ BROOKLYN  ┆ … ┆ CRIMINAL   ┆ UNKNOWN    ┆ UNKNOWN   ┆ E        │\n",
       "│ 17:00:00   ┆            ┆          ┆           ┆   ┆ MISCHIEF   ┆            ┆           ┆          │\n",
       "│ UTC        ┆            ┆          ┆           ┆   ┆ 4TH,       ┆            ┆           ┆          │\n",
       "│            ┆            ┆          ┆           ┆   ┆ GRAFFIT    ┆            ┆           ┆          │\n",
       "└────────────┴────────────┴──────────┴───────────┴───┴────────────┴────────────┴───────────┴──────────┘"
      ]
     },
     "execution_count": 137,
     "metadata": {},
     "output_type": "execute_result"
    }
   ],
   "source": [
    "# When we have a timezone, we can convert it to another timezone\n",
    "\n",
    "nypd_localised.with_columns(\n",
    "    complaint_datetime = pl.col('complaint_datetime').dt.convert_time_zone('UTC')\n",
    ").head(5)"
   ]
  },
  {
   "cell_type": "code",
   "execution_count": 138,
   "metadata": {},
   "outputs": [
    {
     "data": {
      "text/html": [
       "<div><style>\n",
       ".dataframe > thead > tr > th,\n",
       ".dataframe > tbody > tr > td {\n",
       "  text-align: right;\n",
       "}\n",
       "</style>\n",
       "<small>shape: (5,)</small><table border=\"1\" class=\"dataframe\"><thead><tr><th>date</th></tr><tr><td>date</td></tr></thead><tbody><tr><td>2020-01-01</td></tr><tr><td>2020-01-02</td></tr><tr><td>2020-01-03</td></tr><tr><td>2020-01-04</td></tr><tr><td>2020-01-05</td></tr></tbody></table></div>"
      ],
      "text/plain": [
       "shape: (5,)\n",
       "Series: 'date' [date]\n",
       "[\n",
       "\t2020-01-01\n",
       "\t2020-01-02\n",
       "\t2020-01-03\n",
       "\t2020-01-04\n",
       "\t2020-01-05\n",
       "]"
      ]
     },
     "execution_count": 138,
     "metadata": {},
     "output_type": "execute_result"
    }
   ],
   "source": [
    "# Polars also allows creating a date range and time range\n",
    "# the date range method has various parameters including the inteval, whether to include the start and end date, and time zone\n",
    "# the date_range method can be used to create a table, which is then joined existing data, for example with join_asof (which we'll see later)\n",
    "# the date_range method can also be used to create lists inside a column of an existing table \n",
    "\n",
    "from datetime import date\n",
    "\n",
    "pl.date_range(date(2020, 1, 1), date(2020, 1, 5), '1d', eager=True)    "
   ]
  },
  {
   "cell_type": "markdown",
   "metadata": {},
   "source": [
    "#### Change over time: Shift, diff, and pct_change"
   ]
  },
  {
   "cell_type": "code",
   "execution_count": 139,
   "metadata": {},
   "outputs": [
    {
     "data": {
      "text/html": [
       "<div><style>\n",
       ".dataframe > thead > tr > th,\n",
       ".dataframe > tbody > tr > td {\n",
       "  text-align: right;\n",
       "}\n",
       "</style>\n",
       "<small>shape: (5, 6)</small><table border=\"1\" class=\"dataframe\"><thead><tr><th>week</th><th>count</th><th>prior_week</th><th>prior_count</th><th>change_count</th><th>percent_change</th></tr><tr><td>date</td><td>i32</td><td>date</td><td>i32</td><td>i32</td><td>f64</td></tr></thead><tbody><tr><td>2022-12-26</td><td>6441</td><td>2022-12-19</td><td>7767</td><td>-1326</td><td>-17.0</td></tr><tr><td>2022-12-19</td><td>7767</td><td>2022-12-12</td><td>9149</td><td>-1382</td><td>-15.0</td></tr><tr><td>2022-12-12</td><td>9149</td><td>2022-12-05</td><td>9474</td><td>-325</td><td>-3.0</td></tr><tr><td>2022-12-05</td><td>9474</td><td>2022-11-28</td><td>9773</td><td>-299</td><td>-3.0</td></tr><tr><td>2022-11-28</td><td>9773</td><td>2022-11-21</td><td>9401</td><td>372</td><td>4.0</td></tr></tbody></table></div>"
      ],
      "text/plain": [
       "shape: (5, 6)\n",
       "┌────────────┬───────┬────────────┬─────────────┬──────────────┬────────────────┐\n",
       "│ week       ┆ count ┆ prior_week ┆ prior_count ┆ change_count ┆ percent_change │\n",
       "│ ---        ┆ ---   ┆ ---        ┆ ---         ┆ ---          ┆ ---            │\n",
       "│ date       ┆ i32   ┆ date       ┆ i32         ┆ i32          ┆ f64            │\n",
       "╞════════════╪═══════╪════════════╪═════════════╪══════════════╪════════════════╡\n",
       "│ 2022-12-26 ┆ 6441  ┆ 2022-12-19 ┆ 7767        ┆ -1326        ┆ -17.0          │\n",
       "│ 2022-12-19 ┆ 7767  ┆ 2022-12-12 ┆ 9149        ┆ -1382        ┆ -15.0          │\n",
       "│ 2022-12-12 ┆ 9149  ┆ 2022-12-05 ┆ 9474        ┆ -325         ┆ -3.0           │\n",
       "│ 2022-12-05 ┆ 9474  ┆ 2022-11-28 ┆ 9773        ┆ -299         ┆ -3.0           │\n",
       "│ 2022-11-28 ┆ 9773  ┆ 2022-11-21 ┆ 9401        ┆ 372          ┆ 4.0            │\n",
       "└────────────┴───────┴────────────┴─────────────┴──────────────┴────────────────┘"
      ]
     },
     "execution_count": 139,
     "metadata": {},
     "output_type": "execute_result"
    }
   ],
   "source": [
    "# We can shift rows up or down using shift, calculate difference using diff, and calculate percentage change using pct_change\n",
    "# for example, we can look at the change in weekly crime counts\n",
    "\n",
    "(\n",
    "    nypd.groupby(\n",
    "        pl.col('complaint_datetime').dt.truncate('1w').alias('week'))\n",
    "    .count()\n",
    "    .with_columns(\n",
    "        pl.col('count').cast(pl.Int32),\n",
    "        pl.col('week').cast(pl.Date))\n",
    "    .sort('week', descending=True)\n",
    "    .with_columns(\n",
    "        prior_week = pl.col('week').shift(-1),\n",
    "        prior_count = pl.col('count').shift(-1),\n",
    "        change_count = pl.col('count').diff(-1),\n",
    "        percent_change = pl.col('count').pct_change(-1).mul(100).round(0))\n",
    "    .head(5)\n",
    ")"
   ]
  },
  {
   "cell_type": "markdown",
   "metadata": {},
   "source": [
    "#### Horizontal expressions"
   ]
  },
  {
   "cell_type": "code",
   "execution_count": 140,
   "metadata": {},
   "outputs": [
    {
     "data": {
      "text/html": [
       "<div><style>\n",
       ".dataframe > thead > tr > th,\n",
       ".dataframe > tbody > tr > td {\n",
       "  text-align: right;\n",
       "}\n",
       "</style>\n",
       "<small>shape: (6, 6)</small><table border=\"1\" class=\"dataframe\"><thead><tr><th>borough</th><th>2019</th><th>2018</th><th>2020</th><th>2021</th><th>2022</th></tr><tr><td>str</td><td>u32</td><td>u32</td><td>u32</td><td>u32</td><td>u32</td></tr></thead><tbody><tr><td>&quot;MANHATTAN&quot;</td><td>115595</td><td>114201</td><td>97145</td><td>110296</td><td>130973</td></tr><tr><td>&quot;BRONX&quot;</td><td>100359</td><td>100615</td><td>90634</td><td>93825</td><td>110055</td></tr><tr><td>&quot;BROOKLYN&quot;</td><td>131782</td><td>136397</td><td>119012</td><td>125895</td><td>144319</td></tr><tr><td>&quot;STATEN ISLAND&quot;</td><td>18875</td><td>20799</td><td>17070</td><td>18848</td><td>22055</td></tr><tr><td>&quot;QUEENS&quot;</td><td>91886</td><td>90155</td><td>88845</td><td>98070</td><td>112244</td></tr><tr><td>null</td><td>308</td><td>304</td><td>475</td><td>1149</td><td>949</td></tr></tbody></table></div>"
      ],
      "text/plain": [
       "shape: (6, 6)\n",
       "┌───────────────┬────────┬────────┬────────┬────────┬────────┐\n",
       "│ borough       ┆ 2019   ┆ 2018   ┆ 2020   ┆ 2021   ┆ 2022   │\n",
       "│ ---           ┆ ---    ┆ ---    ┆ ---    ┆ ---    ┆ ---    │\n",
       "│ str           ┆ u32    ┆ u32    ┆ u32    ┆ u32    ┆ u32    │\n",
       "╞═══════════════╪════════╪════════╪════════╪════════╪════════╡\n",
       "│ MANHATTAN     ┆ 115595 ┆ 114201 ┆ 97145  ┆ 110296 ┆ 130973 │\n",
       "│ BRONX         ┆ 100359 ┆ 100615 ┆ 90634  ┆ 93825  ┆ 110055 │\n",
       "│ BROOKLYN      ┆ 131782 ┆ 136397 ┆ 119012 ┆ 125895 ┆ 144319 │\n",
       "│ STATEN ISLAND ┆ 18875  ┆ 20799  ┆ 17070  ┆ 18848  ┆ 22055  │\n",
       "│ QUEENS        ┆ 91886  ┆ 90155  ┆ 88845  ┆ 98070  ┆ 112244 │\n",
       "│ null          ┆ 308    ┆ 304    ┆ 475    ┆ 1149   ┆ 949    │\n",
       "└───────────────┴────────┴────────┴────────┴────────┴────────┘"
      ]
     },
     "execution_count": 140,
     "metadata": {},
     "output_type": "execute_result"
    }
   ],
   "source": [
    "# Let's start with a dataframe with one column per borough and one row per year\n",
    "\n",
    "nypd_crimes_by_borough = (\n",
    "     nypd.with_columns(\n",
    "        year = pl.col('complaint_datetime').dt.year())\n",
    "    .pivot(\n",
    "        index='borough',\n",
    "        columns= 'year',\n",
    "        values = 'complaint_id',\n",
    "        aggregate_function = pl.element().count())\n",
    ")\n",
    "\n",
    "nypd_crimes_by_borough"
   ]
  },
  {
   "cell_type": "code",
   "execution_count": 141,
   "metadata": {},
   "outputs": [
    {
     "data": {
      "text/html": [
       "<div><style>\n",
       ".dataframe > thead > tr > th,\n",
       ".dataframe > tbody > tr > td {\n",
       "  text-align: right;\n",
       "}\n",
       "</style>\n",
       "<small>shape: (6, 7)</small><table border=\"1\" class=\"dataframe\"><thead><tr><th>borough</th><th>2019</th><th>2018</th><th>2020</th><th>2021</th><th>2022</th><th>avg_crime_count_since_2020</th></tr><tr><td>str</td><td>u32</td><td>u32</td><td>u32</td><td>u32</td><td>u32</td><td>f64</td></tr></thead><tbody><tr><td>&quot;MANHATTAN&quot;</td><td>115595</td><td>114201</td><td>97145</td><td>110296</td><td>130973</td><td>112804.666667</td></tr><tr><td>&quot;BRONX&quot;</td><td>100359</td><td>100615</td><td>90634</td><td>93825</td><td>110055</td><td>98171.333333</td></tr><tr><td>&quot;BROOKLYN&quot;</td><td>131782</td><td>136397</td><td>119012</td><td>125895</td><td>144319</td><td>129742.0</td></tr><tr><td>&quot;STATEN ISLAND&quot;</td><td>18875</td><td>20799</td><td>17070</td><td>18848</td><td>22055</td><td>19324.333333</td></tr><tr><td>&quot;QUEENS&quot;</td><td>91886</td><td>90155</td><td>88845</td><td>98070</td><td>112244</td><td>99719.666667</td></tr><tr><td>null</td><td>308</td><td>304</td><td>475</td><td>1149</td><td>949</td><td>857.666667</td></tr></tbody></table></div>"
      ],
      "text/plain": [
       "shape: (6, 7)\n",
       "┌───────────────┬────────┬────────┬────────┬────────┬────────┬────────────────────────────┐\n",
       "│ borough       ┆ 2019   ┆ 2018   ┆ 2020   ┆ 2021   ┆ 2022   ┆ avg_crime_count_since_2020 │\n",
       "│ ---           ┆ ---    ┆ ---    ┆ ---    ┆ ---    ┆ ---    ┆ ---                        │\n",
       "│ str           ┆ u32    ┆ u32    ┆ u32    ┆ u32    ┆ u32    ┆ f64                        │\n",
       "╞═══════════════╪════════╪════════╪════════╪════════╪════════╪════════════════════════════╡\n",
       "│ MANHATTAN     ┆ 115595 ┆ 114201 ┆ 97145  ┆ 110296 ┆ 130973 ┆ 112804.666667              │\n",
       "│ BRONX         ┆ 100359 ┆ 100615 ┆ 90634  ┆ 93825  ┆ 110055 ┆ 98171.333333               │\n",
       "│ BROOKLYN      ┆ 131782 ┆ 136397 ┆ 119012 ┆ 125895 ┆ 144319 ┆ 129742.0                   │\n",
       "│ STATEN ISLAND ┆ 18875  ┆ 20799  ┆ 17070  ┆ 18848  ┆ 22055  ┆ 19324.333333               │\n",
       "│ QUEENS        ┆ 91886  ┆ 90155  ┆ 88845  ┆ 98070  ┆ 112244 ┆ 99719.666667               │\n",
       "│ null          ┆ 308    ┆ 304    ┆ 475    ┆ 1149   ┆ 949    ┆ 857.666667                 │\n",
       "└───────────────┴────────┴────────┴────────┴────────┴────────┴────────────────────────────┘"
      ]
     },
     "execution_count": 141,
     "metadata": {},
     "output_type": "execute_result"
    }
   ],
   "source": [
    "# we can calculate expressions horizontally concatenating the columns as lists\n",
    "\n",
    "nypd_crimes_by_borough.with_columns(\n",
    "    avg_crime_count_since_2020 = \n",
    "    pl.concat_list('2020','2021','2022').list.mean()\n",
    ")"
   ]
  },
  {
   "cell_type": "markdown",
   "metadata": {},
   "source": [
    "#### Advanced horizontal operations: reduce and fold"
   ]
  },
  {
   "cell_type": "code",
   "execution_count": 142,
   "metadata": {},
   "outputs": [
    {
     "data": {
      "text/html": [
       "<div><style>\n",
       ".dataframe > thead > tr > th,\n",
       ".dataframe > tbody > tr > td {\n",
       "  text-align: right;\n",
       "}\n",
       "</style>\n",
       "<small>shape: (6, 2)</small><table border=\"1\" class=\"dataframe\"><thead><tr><th>borough</th><th>avg_crime_count_since_2020</th></tr><tr><td>str</td><td>f64</td></tr></thead><tbody><tr><td>&quot;MANHATTAN&quot;</td><td>112804.666667</td></tr><tr><td>&quot;BRONX&quot;</td><td>98171.333333</td></tr><tr><td>&quot;BROOKLYN&quot;</td><td>129742.0</td></tr><tr><td>&quot;STATEN ISLAND&quot;</td><td>19324.333333</td></tr><tr><td>&quot;QUEENS&quot;</td><td>99719.666667</td></tr><tr><td>null</td><td>857.666667</td></tr></tbody></table></div>"
      ],
      "text/plain": [
       "shape: (6, 2)\n",
       "┌───────────────┬────────────────────────────┐\n",
       "│ borough       ┆ avg_crime_count_since_2020 │\n",
       "│ ---           ┆ ---                        │\n",
       "│ str           ┆ f64                        │\n",
       "╞═══════════════╪════════════════════════════╡\n",
       "│ MANHATTAN     ┆ 112804.666667              │\n",
       "│ BRONX         ┆ 98171.333333               │\n",
       "│ BROOKLYN      ┆ 129742.0                   │\n",
       "│ STATEN ISLAND ┆ 19324.333333               │\n",
       "│ QUEENS        ┆ 99719.666667               │\n",
       "│ null          ┆ 857.666667                 │\n",
       "└───────────────┴────────────────────────────┘"
      ]
     },
     "execution_count": 142,
     "metadata": {},
     "output_type": "execute_result"
    }
   ],
   "source": [
    "# we can reproduce the prior calculation using reduce\n",
    "\n",
    "nypd_crimes_by_borough.select(\n",
    "    'borough',\n",
    "    avg_crime_count_since_2020 = pl.reduce(\n",
    "        function=lambda accumulator, current: accumulator + current, \n",
    "        exprs=pl.col('2020','2021','2022') / 3)\n",
    ")"
   ]
  },
  {
   "cell_type": "code",
   "execution_count": 143,
   "metadata": {},
   "outputs": [
    {
     "data": {
      "text/html": [
       "<div><style>\n",
       ".dataframe > thead > tr > th,\n",
       ".dataframe > tbody > tr > td {\n",
       "  text-align: right;\n",
       "}\n",
       "</style>\n",
       "<small>shape: (6, 2)</small><table border=\"1\" class=\"dataframe\"><thead><tr><th>borough</th><th>max_yearly_crime_count</th></tr><tr><td>str</td><td>u32</td></tr></thead><tbody><tr><td>&quot;MANHATTAN&quot;</td><td>130973</td></tr><tr><td>&quot;BRONX&quot;</td><td>110055</td></tr><tr><td>&quot;BROOKLYN&quot;</td><td>144319</td></tr><tr><td>&quot;STATEN ISLAND&quot;</td><td>22055</td></tr><tr><td>&quot;QUEENS&quot;</td><td>112244</td></tr><tr><td>null</td><td>1149</td></tr></tbody></table></div>"
      ],
      "text/plain": [
       "shape: (6, 2)\n",
       "┌───────────────┬────────────────────────┐\n",
       "│ borough       ┆ max_yearly_crime_count │\n",
       "│ ---           ┆ ---                    │\n",
       "│ str           ┆ u32                    │\n",
       "╞═══════════════╪════════════════════════╡\n",
       "│ MANHATTAN     ┆ 130973                 │\n",
       "│ BRONX         ┆ 110055                 │\n",
       "│ BROOKLYN      ┆ 144319                 │\n",
       "│ STATEN ISLAND ┆ 22055                  │\n",
       "│ QUEENS        ┆ 112244                 │\n",
       "│ null          ┆ 1149                   │\n",
       "└───────────────┴────────────────────────┘"
      ]
     },
     "execution_count": 143,
     "metadata": {},
     "output_type": "execute_result"
    }
   ],
   "source": [
    "# a more useful example for reduce is to calculate the maximum crime count per borough\n",
    "\n",
    "nypd_crimes_by_borough.select(\n",
    "    'borough',\n",
    "    max_yearly_crime_count = pl.reduce(\n",
    "        function=lambda accumulator, current: pl.when(accumulator > current).then(accumulator).otherwise(current),\n",
    "        exprs=pl.all().exclude('borough'))\n",
    ")"
   ]
  },
  {
   "cell_type": "code",
   "execution_count": 144,
   "metadata": {},
   "outputs": [
    {
     "data": {
      "text/html": [
       "<div><style>\n",
       ".dataframe > thead > tr > th,\n",
       ".dataframe > tbody > tr > td {\n",
       "  text-align: right;\n",
       "}\n",
       "</style>\n",
       "<small>shape: (6, 2)</small><table border=\"1\" class=\"dataframe\"><thead><tr><th>borough</th><th>number_of_years_above_100k</th></tr><tr><td>str</td><td>i32</td></tr></thead><tbody><tr><td>&quot;MANHATTAN&quot;</td><td>4</td></tr><tr><td>&quot;BRONX&quot;</td><td>3</td></tr><tr><td>&quot;BROOKLYN&quot;</td><td>5</td></tr><tr><td>&quot;STATEN ISLAND&quot;</td><td>0</td></tr><tr><td>&quot;QUEENS&quot;</td><td>1</td></tr><tr><td>null</td><td>0</td></tr></tbody></table></div>"
      ],
      "text/plain": [
       "shape: (6, 2)\n",
       "┌───────────────┬────────────────────────────┐\n",
       "│ borough       ┆ number_of_years_above_100k │\n",
       "│ ---           ┆ ---                        │\n",
       "│ str           ┆ i32                        │\n",
       "╞═══════════════╪════════════════════════════╡\n",
       "│ MANHATTAN     ┆ 4                          │\n",
       "│ BRONX         ┆ 3                          │\n",
       "│ BROOKLYN      ┆ 5                          │\n",
       "│ STATEN ISLAND ┆ 0                          │\n",
       "│ QUEENS        ┆ 1                          │\n",
       "│ null          ┆ 0                          │\n",
       "└───────────────┴────────────────────────────┘"
      ]
     },
     "execution_count": 144,
     "metadata": {},
     "output_type": "execute_result"
    }
   ],
   "source": [
    "# fold has one additional parameter, which is the initial value of the accumulator\n",
    "# for example we want to know the number of years where the crime count was above 100,000\n",
    "\n",
    "nypd_crimes_by_borough.select(\n",
    "    'borough',\n",
    "    number_of_years_above_100k = pl.fold(\n",
    "        acc = pl.lit(0), # initial value of the accumulator 0\n",
    "        function=lambda accumulator, current: pl.when(current > 100000).then(accumulator + 1).otherwise(accumulator),\n",
    "        exprs=pl.all().exclude('borough'))\n",
    ")"
   ]
  },
  {
   "cell_type": "code",
   "execution_count": 145,
   "metadata": {},
   "outputs": [
    {
     "data": {
      "text/html": [
       "<div><style>\n",
       ".dataframe > thead > tr > th,\n",
       ".dataframe > tbody > tr > td {\n",
       "  text-align: right;\n",
       "}\n",
       "</style>\n",
       "<small>shape: (6, 2)</small><table border=\"1\" class=\"dataframe\"><thead><tr><th>borough</th><th>max_yearly_crime_count</th></tr><tr><td>str</td><td>struct[5]</td></tr></thead><tbody><tr><td>&quot;MANHATTAN&quot;</td><td>{115595,115595,115595,115595,130973}</td></tr><tr><td>&quot;BRONX&quot;</td><td>{100359,100615,100615,100615,110055}</td></tr><tr><td>&quot;BROOKLYN&quot;</td><td>{131782,136397,136397,136397,144319}</td></tr><tr><td>&quot;STATEN ISLAND&quot;</td><td>{18875,20799,20799,20799,22055}</td></tr><tr><td>&quot;QUEENS&quot;</td><td>{91886,91886,91886,98070,112244}</td></tr><tr><td>null</td><td>{308,308,475,1149,1149}</td></tr></tbody></table></div>"
      ],
      "text/plain": [
       "shape: (6, 2)\n",
       "┌───────────────┬──────────────────────────────────────┐\n",
       "│ borough       ┆ max_yearly_crime_count               │\n",
       "│ ---           ┆ ---                                  │\n",
       "│ str           ┆ struct[5]                            │\n",
       "╞═══════════════╪══════════════════════════════════════╡\n",
       "│ MANHATTAN     ┆ {115595,115595,115595,115595,130973} │\n",
       "│ BRONX         ┆ {100359,100615,100615,100615,110055} │\n",
       "│ BROOKLYN      ┆ {131782,136397,136397,136397,144319} │\n",
       "│ STATEN ISLAND ┆ {18875,20799,20799,20799,22055}      │\n",
       "│ QUEENS        ┆ {91886,91886,91886,98070,112244}     │\n",
       "│ null          ┆ {308,308,475,1149,1149}              │\n",
       "└───────────────┴──────────────────────────────────────┘"
      ]
     },
     "execution_count": 145,
     "metadata": {},
     "output_type": "execute_result"
    }
   ],
   "source": [
    "# one additional function is the cumfold function, which keeps track of intermediate values and returns a struct\n",
    "# we can use cumfold to see how the maximum crime count changed over time\n",
    "\n",
    "nypd_crimes_by_borough.select(\n",
    "    'borough',\n",
    "    max_yearly_crime_count = pl.cumfold(\n",
    "        acc = pl.lit(0), # initial value of the accumulator 0\n",
    "        function=lambda accumulator, current: pl.when(accumulator > current).then(accumulator).otherwise(current),\n",
    "        exprs=pl.all().exclude('borough'))\n",
    ")"
   ]
  },
  {
   "cell_type": "markdown",
   "metadata": {},
   "source": [
    "#### Cumulative functions"
   ]
  },
  {
   "cell_type": "code",
   "execution_count": 146,
   "metadata": {},
   "outputs": [],
   "source": [
    "sp500 = pl.read_csv('../datasets/SP500.csv', try_parse_dates=True)\n",
    "btc = pl.read_csv('../datasets/BTC-USD.csv', try_parse_dates=True)\n",
    "\n",
    "sp500 = sp500.with_columns(\n",
    "    pl.col('Date').set_sorted()\n",
    ")\n",
    "\n",
    "btc = btc.with_columns(\n",
    "    pl.col('Date').set_sorted()\n",
    ")"
   ]
  },
  {
   "cell_type": "code",
   "execution_count": 147,
   "metadata": {},
   "outputs": [
    {
     "data": {
      "text/html": [
       "<div><style>\n",
       ".dataframe > thead > tr > th,\n",
       ".dataframe > tbody > tr > td {\n",
       "  text-align: right;\n",
       "}\n",
       "</style>\n",
       "<small>shape: (5, 7)</small><table border=\"1\" class=\"dataframe\"><thead><tr><th>Date</th><th>Open</th><th>High</th><th>Low</th><th>Close</th><th>Adj Close</th><th>Volume</th></tr><tr><td>date</td><td>f64</td><td>f64</td><td>f64</td><td>f64</td><td>f64</td><td>i64</td></tr></thead><tbody><tr><td>2019-01-02</td><td>2476.96</td><td>2519.49</td><td>2467.47</td><td>2510.03</td><td>2510.03</td><td>3733160000</td></tr><tr><td>2019-01-03</td><td>2491.92</td><td>2493.14</td><td>2443.96</td><td>2447.89</td><td>2447.89</td><td>3858830000</td></tr><tr><td>2019-01-04</td><td>2474.33</td><td>2538.07</td><td>2474.33</td><td>2531.94</td><td>2531.94</td><td>4234140000</td></tr><tr><td>2019-01-07</td><td>2535.61</td><td>2566.16</td><td>2524.56</td><td>2549.69</td><td>2549.69</td><td>4133120000</td></tr><tr><td>2019-01-08</td><td>2568.11</td><td>2579.82</td><td>2547.56</td><td>2574.41</td><td>2574.41</td><td>4120060000</td></tr></tbody></table></div>"
      ],
      "text/plain": [
       "shape: (5, 7)\n",
       "┌────────────┬─────────┬─────────┬─────────┬─────────┬───────────┬────────────┐\n",
       "│ Date       ┆ Open    ┆ High    ┆ Low     ┆ Close   ┆ Adj Close ┆ Volume     │\n",
       "│ ---        ┆ ---     ┆ ---     ┆ ---     ┆ ---     ┆ ---       ┆ ---        │\n",
       "│ date       ┆ f64     ┆ f64     ┆ f64     ┆ f64     ┆ f64       ┆ i64        │\n",
       "╞════════════╪═════════╪═════════╪═════════╪═════════╪═══════════╪════════════╡\n",
       "│ 2019-01-02 ┆ 2476.96 ┆ 2519.49 ┆ 2467.47 ┆ 2510.03 ┆ 2510.03   ┆ 3733160000 │\n",
       "│ 2019-01-03 ┆ 2491.92 ┆ 2493.14 ┆ 2443.96 ┆ 2447.89 ┆ 2447.89   ┆ 3858830000 │\n",
       "│ 2019-01-04 ┆ 2474.33 ┆ 2538.07 ┆ 2474.33 ┆ 2531.94 ┆ 2531.94   ┆ 4234140000 │\n",
       "│ 2019-01-07 ┆ 2535.61 ┆ 2566.16 ┆ 2524.56 ┆ 2549.69 ┆ 2549.69   ┆ 4133120000 │\n",
       "│ 2019-01-08 ┆ 2568.11 ┆ 2579.82 ┆ 2547.56 ┆ 2574.41 ┆ 2574.41   ┆ 4120060000 │\n",
       "└────────────┴─────────┴─────────┴─────────┴─────────┴───────────┴────────────┘"
      ]
     },
     "execution_count": 147,
     "metadata": {},
     "output_type": "execute_result"
    }
   ],
   "source": [
    "sp500.head(5)"
   ]
  },
  {
   "cell_type": "code",
   "execution_count": 148,
   "metadata": {},
   "outputs": [
    {
     "data": {
      "text/html": [
       "<div><style>\n",
       ".dataframe > thead > tr > th,\n",
       ".dataframe > tbody > tr > td {\n",
       "  text-align: right;\n",
       "}\n",
       "</style>\n",
       "<small>shape: (5, 8)</small><table border=\"1\" class=\"dataframe\"><thead><tr><th>Date</th><th>Open</th><th>High</th><th>Low</th><th>Close</th><th>Adj Close</th><th>Volume</th><th>cum_max</th></tr><tr><td>date</td><td>f64</td><td>f64</td><td>f64</td><td>f64</td><td>f64</td><td>i64</td><td>f64</td></tr></thead><tbody><tr><td>2019-01-02</td><td>2476.96</td><td>2519.49</td><td>2467.47</td><td>2510.03</td><td>2510.03</td><td>3733160000</td><td>2510.03</td></tr><tr><td>2019-01-03</td><td>2491.92</td><td>2493.14</td><td>2443.96</td><td>2447.89</td><td>2447.89</td><td>3858830000</td><td>2510.03</td></tr><tr><td>2019-01-04</td><td>2474.33</td><td>2538.07</td><td>2474.33</td><td>2531.94</td><td>2531.94</td><td>4234140000</td><td>2531.94</td></tr><tr><td>2019-01-07</td><td>2535.61</td><td>2566.16</td><td>2524.56</td><td>2549.69</td><td>2549.69</td><td>4133120000</td><td>2549.69</td></tr><tr><td>2019-01-08</td><td>2568.11</td><td>2579.82</td><td>2547.56</td><td>2574.41</td><td>2574.41</td><td>4120060000</td><td>2574.41</td></tr></tbody></table></div>"
      ],
      "text/plain": [
       "shape: (5, 8)\n",
       "┌────────────┬─────────┬─────────┬─────────┬─────────┬───────────┬────────────┬─────────┐\n",
       "│ Date       ┆ Open    ┆ High    ┆ Low     ┆ Close   ┆ Adj Close ┆ Volume     ┆ cum_max │\n",
       "│ ---        ┆ ---     ┆ ---     ┆ ---     ┆ ---     ┆ ---       ┆ ---        ┆ ---     │\n",
       "│ date       ┆ f64     ┆ f64     ┆ f64     ┆ f64     ┆ f64       ┆ i64        ┆ f64     │\n",
       "╞════════════╪═════════╪═════════╪═════════╪═════════╪═══════════╪════════════╪═════════╡\n",
       "│ 2019-01-02 ┆ 2476.96 ┆ 2519.49 ┆ 2467.47 ┆ 2510.03 ┆ 2510.03   ┆ 3733160000 ┆ 2510.03 │\n",
       "│ 2019-01-03 ┆ 2491.92 ┆ 2493.14 ┆ 2443.96 ┆ 2447.89 ┆ 2447.89   ┆ 3858830000 ┆ 2510.03 │\n",
       "│ 2019-01-04 ┆ 2474.33 ┆ 2538.07 ┆ 2474.33 ┆ 2531.94 ┆ 2531.94   ┆ 4234140000 ┆ 2531.94 │\n",
       "│ 2019-01-07 ┆ 2535.61 ┆ 2566.16 ┆ 2524.56 ┆ 2549.69 ┆ 2549.69   ┆ 4133120000 ┆ 2549.69 │\n",
       "│ 2019-01-08 ┆ 2568.11 ┆ 2579.82 ┆ 2547.56 ┆ 2574.41 ┆ 2574.41   ┆ 4120060000 ┆ 2574.41 │\n",
       "└────────────┴─────────┴─────────┴─────────┴─────────┴───────────┴────────────┴─────────┘"
      ]
     },
     "execution_count": 148,
     "metadata": {},
     "output_type": "execute_result"
    }
   ],
   "source": [
    "# we can calculate the cumulative max of the adjusted close price\n",
    "\n",
    "sp500.with_columns(\n",
    "    pl.col(\"Adj Close\").cummax().alias(\"cum_max\")\n",
    ").head(5)"
   ]
  },
  {
   "cell_type": "code",
   "execution_count": 149,
   "metadata": {},
   "outputs": [
    {
     "data": {
      "text/html": [
       "<div><style>\n",
       ".dataframe > thead > tr > th,\n",
       ".dataframe > tbody > tr > td {\n",
       "  text-align: right;\n",
       "}\n",
       "</style>\n",
       "<small>shape: (5, 9)</small><table border=\"1\" class=\"dataframe\"><thead><tr><th>Date</th><th>Open</th><th>High</th><th>Low</th><th>Close</th><th>Adj Close</th><th>Volume</th><th>percent_change</th><th>cumulative_return_percent</th></tr><tr><td>date</td><td>f64</td><td>f64</td><td>f64</td><td>f64</td><td>f64</td><td>i64</td><td>f64</td><td>f64</td></tr></thead><tbody><tr><td>2019-01-02</td><td>2476.96</td><td>2519.49</td><td>2467.47</td><td>2510.03</td><td>2510.03</td><td>3733160000</td><td>null</td><td>null</td></tr><tr><td>2019-01-03</td><td>2491.92</td><td>2493.14</td><td>2443.96</td><td>2447.89</td><td>2447.89</td><td>3858830000</td><td>-0.024757</td><td>-0.024757</td></tr><tr><td>2019-01-04</td><td>2474.33</td><td>2538.07</td><td>2474.33</td><td>2531.94</td><td>2531.94</td><td>4234140000</td><td>0.034336</td><td>0.008729</td></tr><tr><td>2019-01-07</td><td>2535.61</td><td>2566.16</td><td>2524.56</td><td>2549.69</td><td>2549.69</td><td>4133120000</td><td>0.00701</td><td>0.015801</td></tr><tr><td>2019-01-08</td><td>2568.11</td><td>2579.82</td><td>2547.56</td><td>2574.41</td><td>2574.41</td><td>4120060000</td><td>0.009695</td><td>0.025649</td></tr></tbody></table></div>"
      ],
      "text/plain": [
       "shape: (5, 9)\n",
       "┌────────────┬─────────┬─────────┬─────────┬───┬───────────┬────────────┬────────────┬────────────┐\n",
       "│ Date       ┆ Open    ┆ High    ┆ Low     ┆ … ┆ Adj Close ┆ Volume     ┆ percent_ch ┆ cumulative │\n",
       "│ ---        ┆ ---     ┆ ---     ┆ ---     ┆   ┆ ---       ┆ ---        ┆ ange       ┆ _return_pe │\n",
       "│ date       ┆ f64     ┆ f64     ┆ f64     ┆   ┆ f64       ┆ i64        ┆ ---        ┆ rcent      │\n",
       "│            ┆         ┆         ┆         ┆   ┆           ┆            ┆ f64        ┆ ---        │\n",
       "│            ┆         ┆         ┆         ┆   ┆           ┆            ┆            ┆ f64        │\n",
       "╞════════════╪═════════╪═════════╪═════════╪═══╪═══════════╪════════════╪════════════╪════════════╡\n",
       "│ 2019-01-02 ┆ 2476.96 ┆ 2519.49 ┆ 2467.47 ┆ … ┆ 2510.03   ┆ 3733160000 ┆ null       ┆ null       │\n",
       "│ 2019-01-03 ┆ 2491.92 ┆ 2493.14 ┆ 2443.96 ┆ … ┆ 2447.89   ┆ 3858830000 ┆ -0.024757  ┆ -0.024757  │\n",
       "│ 2019-01-04 ┆ 2474.33 ┆ 2538.07 ┆ 2474.33 ┆ … ┆ 2531.94   ┆ 4234140000 ┆ 0.034336   ┆ 0.008729   │\n",
       "│ 2019-01-07 ┆ 2535.61 ┆ 2566.16 ┆ 2524.56 ┆ … ┆ 2549.69   ┆ 4133120000 ┆ 0.00701    ┆ 0.015801   │\n",
       "│ 2019-01-08 ┆ 2568.11 ┆ 2579.82 ┆ 2547.56 ┆ … ┆ 2574.41   ┆ 4120060000 ┆ 0.009695   ┆ 0.025649   │\n",
       "└────────────┴─────────┴─────────┴─────────┴───┴───────────┴────────────┴────────────┴────────────┘"
      ]
     },
     "execution_count": 149,
     "metadata": {},
     "output_type": "execute_result"
    }
   ],
   "source": [
    "# we can add a column with percent change, then calculate the cumulative return with cumprod\n",
    "\n",
    "sp500.with_columns(\n",
    "    pl.col(\"Adj Close\").pct_change().alias(\"percent_change\")\n",
    ").with_columns(\n",
    "    pl.col('percent_change').add(1).cumprod().sub(1).alias('cumulative_return_percent')\n",
    ").head(5)"
   ]
  },
  {
   "cell_type": "code",
   "execution_count": 150,
   "metadata": {},
   "outputs": [
    {
     "data": {
      "text/html": [
       "<div><style>\n",
       ".dataframe > thead > tr > th,\n",
       ".dataframe > tbody > tr > td {\n",
       "  text-align: right;\n",
       "}\n",
       "</style>\n",
       "<small>shape: (5, 8)</small><table border=\"1\" class=\"dataframe\"><thead><tr><th>Date</th><th>Open</th><th>High</th><th>Low</th><th>Close</th><th>Adj Close</th><th>Volume</th><th>Adj Close_diff_from_max</th></tr><tr><td>date</td><td>f64</td><td>f64</td><td>f64</td><td>f64</td><td>f64</td><td>i64</td><td>f64</td></tr></thead><tbody><tr><td>2019-01-02</td><td>2476.96</td><td>2519.49</td><td>2467.47</td><td>2510.03</td><td>2510.03</td><td>3733160000</td><td>0.0</td></tr><tr><td>2019-01-03</td><td>2491.92</td><td>2493.14</td><td>2443.96</td><td>2447.89</td><td>2447.89</td><td>3858830000</td><td>-62.14</td></tr><tr><td>2019-01-04</td><td>2474.33</td><td>2538.07</td><td>2474.33</td><td>2531.94</td><td>2531.94</td><td>4234140000</td><td>0.0</td></tr><tr><td>2019-01-07</td><td>2535.61</td><td>2566.16</td><td>2524.56</td><td>2549.69</td><td>2549.69</td><td>4133120000</td><td>0.0</td></tr><tr><td>2019-01-08</td><td>2568.11</td><td>2579.82</td><td>2547.56</td><td>2574.41</td><td>2574.41</td><td>4120060000</td><td>0.0</td></tr></tbody></table></div>"
      ],
      "text/plain": [
       "shape: (5, 8)\n",
       "┌────────────┬─────────┬─────────┬─────────┬─────────┬───────────┬────────────┬────────────────────┐\n",
       "│ Date       ┆ Open    ┆ High    ┆ Low     ┆ Close   ┆ Adj Close ┆ Volume     ┆ Adj Close_diff_fro │\n",
       "│ ---        ┆ ---     ┆ ---     ┆ ---     ┆ ---     ┆ ---       ┆ ---        ┆ m_max              │\n",
       "│ date       ┆ f64     ┆ f64     ┆ f64     ┆ f64     ┆ f64       ┆ i64        ┆ ---                │\n",
       "│            ┆         ┆         ┆         ┆         ┆           ┆            ┆ f64                │\n",
       "╞════════════╪═════════╪═════════╪═════════╪═════════╪═══════════╪════════════╪════════════════════╡\n",
       "│ 2019-01-02 ┆ 2476.96 ┆ 2519.49 ┆ 2467.47 ┆ 2510.03 ┆ 2510.03   ┆ 3733160000 ┆ 0.0                │\n",
       "│ 2019-01-03 ┆ 2491.92 ┆ 2493.14 ┆ 2443.96 ┆ 2447.89 ┆ 2447.89   ┆ 3858830000 ┆ -62.14             │\n",
       "│ 2019-01-04 ┆ 2474.33 ┆ 2538.07 ┆ 2474.33 ┆ 2531.94 ┆ 2531.94   ┆ 4234140000 ┆ 0.0                │\n",
       "│ 2019-01-07 ┆ 2535.61 ┆ 2566.16 ┆ 2524.56 ┆ 2549.69 ┆ 2549.69   ┆ 4133120000 ┆ 0.0                │\n",
       "│ 2019-01-08 ┆ 2568.11 ┆ 2579.82 ┆ 2547.56 ┆ 2574.41 ┆ 2574.41   ┆ 4120060000 ┆ 0.0                │\n",
       "└────────────┴─────────┴─────────┴─────────┴─────────┴───────────┴────────────┴────────────────────┘"
      ]
     },
     "execution_count": 150,
     "metadata": {},
     "output_type": "execute_result"
    }
   ],
   "source": [
    "# for more advanced calculation, a cumulative_eval function is available\n",
    "# cumulative_eval calculates a value for each row, by looking the current and all previous rows\n",
    "# for example, I want to calculate the difference between the current close value and the maximum value to date\n",
    "\n",
    "sp500.with_columns(\n",
    "    pl.col('Adj Close').cumulative_eval(\n",
    "        pl.element().last() - pl.element().max()\n",
    "    ).suffix('_diff_from_max')\n",
    ").head(5)"
   ]
  },
  {
   "cell_type": "markdown",
   "metadata": {},
   "source": [
    "#### Rolling functions"
   ]
  },
  {
   "cell_type": "code",
   "execution_count": 151,
   "metadata": {},
   "outputs": [
    {
     "data": {
      "text/html": [
       "<div><style>\n",
       ".dataframe > thead > tr > th,\n",
       ".dataframe > tbody > tr > td {\n",
       "  text-align: right;\n",
       "}\n",
       "</style>\n",
       "<small>shape: (5, 8)</small><table border=\"1\" class=\"dataframe\"><thead><tr><th>Date</th><th>Open</th><th>High</th><th>Low</th><th>Close</th><th>Adj Close</th><th>Volume</th><th>Adj Close_rolling_min</th></tr><tr><td>datetime[μs]</td><td>f64</td><td>f64</td><td>f64</td><td>f64</td><td>f64</td><td>i64</td><td>f64</td></tr></thead><tbody><tr><td>2019-01-02 00:00:00</td><td>2476.96</td><td>2519.49</td><td>2467.47</td><td>2510.03</td><td>2510.03</td><td>3733160000</td><td>null</td></tr><tr><td>2019-01-03 00:00:00</td><td>2491.92</td><td>2493.14</td><td>2443.96</td><td>2447.89</td><td>2447.89</td><td>3858830000</td><td>2510.03</td></tr><tr><td>2019-01-04 00:00:00</td><td>2474.33</td><td>2538.07</td><td>2474.33</td><td>2531.94</td><td>2531.94</td><td>4234140000</td><td>2447.89</td></tr><tr><td>2019-01-07 00:00:00</td><td>2535.61</td><td>2566.16</td><td>2524.56</td><td>2549.69</td><td>2549.69</td><td>4133120000</td><td>2531.94</td></tr><tr><td>2019-01-08 00:00:00</td><td>2568.11</td><td>2579.82</td><td>2547.56</td><td>2574.41</td><td>2574.41</td><td>4120060000</td><td>2549.69</td></tr></tbody></table></div>"
      ],
      "text/plain": [
       "shape: (5, 8)\n",
       "┌────────────────┬─────────┬─────────┬─────────┬─────────┬───────────┬────────────┬────────────────┐\n",
       "│ Date           ┆ Open    ┆ High    ┆ Low     ┆ Close   ┆ Adj Close ┆ Volume     ┆ Adj Close_roll │\n",
       "│ ---            ┆ ---     ┆ ---     ┆ ---     ┆ ---     ┆ ---       ┆ ---        ┆ ing_min        │\n",
       "│ datetime[μs]   ┆ f64     ┆ f64     ┆ f64     ┆ f64     ┆ f64       ┆ i64        ┆ ---            │\n",
       "│                ┆         ┆         ┆         ┆         ┆           ┆            ┆ f64            │\n",
       "╞════════════════╪═════════╪═════════╪═════════╪═════════╪═══════════╪════════════╪════════════════╡\n",
       "│ 2019-01-02     ┆ 2476.96 ┆ 2519.49 ┆ 2467.47 ┆ 2510.03 ┆ 2510.03   ┆ 3733160000 ┆ null           │\n",
       "│ 00:00:00       ┆         ┆         ┆         ┆         ┆           ┆            ┆                │\n",
       "│ 2019-01-03     ┆ 2491.92 ┆ 2493.14 ┆ 2443.96 ┆ 2447.89 ┆ 2447.89   ┆ 3858830000 ┆ 2510.03        │\n",
       "│ 00:00:00       ┆         ┆         ┆         ┆         ┆           ┆            ┆                │\n",
       "│ 2019-01-04     ┆ 2474.33 ┆ 2538.07 ┆ 2474.33 ┆ 2531.94 ┆ 2531.94   ┆ 4234140000 ┆ 2447.89        │\n",
       "│ 00:00:00       ┆         ┆         ┆         ┆         ┆           ┆            ┆                │\n",
       "│ 2019-01-07     ┆ 2535.61 ┆ 2566.16 ┆ 2524.56 ┆ 2549.69 ┆ 2549.69   ┆ 4133120000 ┆ 2531.94        │\n",
       "│ 00:00:00       ┆         ┆         ┆         ┆         ┆           ┆            ┆                │\n",
       "│ 2019-01-08     ┆ 2568.11 ┆ 2579.82 ┆ 2547.56 ┆ 2574.41 ┆ 2574.41   ┆ 4120060000 ┆ 2549.69        │\n",
       "│ 00:00:00       ┆         ┆         ┆         ┆         ┆           ┆            ┆                │\n",
       "└────────────────┴─────────┴─────────┴─────────┴─────────┴───────────┴────────────┴────────────────┘"
      ]
     },
     "execution_count": 151,
     "metadata": {},
     "output_type": "execute_result"
    }
   ],
   "source": [
    "# Rolling functions are similar to cumulative functions, but we are not limited to looking at all rows\n",
    "# can specify a number of rows to look at using window_size\n",
    "# window_size can also be a temporal interval, for example '3d' for 3 days\n",
    "# the date column should be of type datetime so we can it to datetime first\n",
    "\n",
    "from datetime import time\n",
    "\n",
    "(\n",
    "    sp500.head(5).with_columns(\n",
    "        pl.col('Date').dt.combine(time(0)))\n",
    "    .with_columns(\n",
    "        pl.col('Adj Close').rolling_min(by='Date', window_size='3d').suffix('_rolling_min'))\n",
    ")"
   ]
  },
  {
   "cell_type": "code",
   "execution_count": 152,
   "metadata": {},
   "outputs": [
    {
     "data": {
      "text/html": [
       "<div><style>\n",
       ".dataframe > thead > tr > th,\n",
       ".dataframe > tbody > tr > td {\n",
       "  text-align: right;\n",
       "}\n",
       "</style>\n",
       "<small>shape: (5, 8)</small><table border=\"1\" class=\"dataframe\"><thead><tr><th>Date</th><th>Open</th><th>High</th><th>Low</th><th>Close</th><th>Adj Close</th><th>Volume</th><th>Adj Close_rolling_min</th></tr><tr><td>date</td><td>f64</td><td>f64</td><td>f64</td><td>f64</td><td>f64</td><td>i64</td><td>f64</td></tr></thead><tbody><tr><td>2019-01-02</td><td>2476.96</td><td>2519.49</td><td>2467.47</td><td>2510.03</td><td>2510.03</td><td>3733160000</td><td>null</td></tr><tr><td>2019-01-03</td><td>2491.92</td><td>2493.14</td><td>2443.96</td><td>2447.89</td><td>2447.89</td><td>3858830000</td><td>null</td></tr><tr><td>2019-01-04</td><td>2474.33</td><td>2538.07</td><td>2474.33</td><td>2531.94</td><td>2531.94</td><td>4234140000</td><td>2447.89</td></tr><tr><td>2019-01-07</td><td>2535.61</td><td>2566.16</td><td>2524.56</td><td>2549.69</td><td>2549.69</td><td>4133120000</td><td>2447.89</td></tr><tr><td>2019-01-08</td><td>2568.11</td><td>2579.82</td><td>2547.56</td><td>2574.41</td><td>2574.41</td><td>4120060000</td><td>2531.94</td></tr></tbody></table></div>"
      ],
      "text/plain": [
       "shape: (5, 8)\n",
       "┌────────────┬─────────┬─────────┬─────────┬─────────┬───────────┬────────────┬────────────────────┐\n",
       "│ Date       ┆ Open    ┆ High    ┆ Low     ┆ Close   ┆ Adj Close ┆ Volume     ┆ Adj                │\n",
       "│ ---        ┆ ---     ┆ ---     ┆ ---     ┆ ---     ┆ ---       ┆ ---        ┆ Close_rolling_min  │\n",
       "│ date       ┆ f64     ┆ f64     ┆ f64     ┆ f64     ┆ f64       ┆ i64        ┆ ---                │\n",
       "│            ┆         ┆         ┆         ┆         ┆           ┆            ┆ f64                │\n",
       "╞════════════╪═════════╪═════════╪═════════╪═════════╪═══════════╪════════════╪════════════════════╡\n",
       "│ 2019-01-02 ┆ 2476.96 ┆ 2519.49 ┆ 2467.47 ┆ 2510.03 ┆ 2510.03   ┆ 3733160000 ┆ null               │\n",
       "│ 2019-01-03 ┆ 2491.92 ┆ 2493.14 ┆ 2443.96 ┆ 2447.89 ┆ 2447.89   ┆ 3858830000 ┆ null               │\n",
       "│ 2019-01-04 ┆ 2474.33 ┆ 2538.07 ┆ 2474.33 ┆ 2531.94 ┆ 2531.94   ┆ 4234140000 ┆ 2447.89            │\n",
       "│ 2019-01-07 ┆ 2535.61 ┆ 2566.16 ┆ 2524.56 ┆ 2549.69 ┆ 2549.69   ┆ 4133120000 ┆ 2447.89            │\n",
       "│ 2019-01-08 ┆ 2568.11 ┆ 2579.82 ┆ 2547.56 ┆ 2574.41 ┆ 2574.41   ┆ 4120060000 ┆ 2531.94            │\n",
       "└────────────┴─────────┴─────────┴─────────┴─────────┴───────────┴────────────┴────────────────────┘"
      ]
     },
     "execution_count": 152,
     "metadata": {},
     "output_type": "execute_result"
    }
   ],
   "source": [
    "# we can also use number of rows instead of a temporal interval\n",
    "# in that case, we pass an integer to window_size\n",
    "# the result is not the same, because the number of rows is not the same as the number of days\n",
    "\n",
    "(\n",
    "    sp500.head(5).with_columns(\n",
    "        pl.col('Adj Close').rolling_min(window_size=3).suffix('_rolling_min'))\n",
    ")"
   ]
  },
  {
   "cell_type": "code",
   "execution_count": 153,
   "metadata": {},
   "outputs": [
    {
     "data": {
      "text/plain": [
       "<Axes: xlabel='Date'>"
      ]
     },
     "execution_count": 153,
     "metadata": {},
     "output_type": "execute_result"
    },
    {
     "data": {
      "image/png": "[encoded data removed]",
      "text/plain": [
       "<Figure size 1000x500 with 1 Axes>"
      ]
     },
     "metadata": {},
     "output_type": "display_data"
    }
   ],
   "source": [
    "# we can join the 2 datasets together to calculate a rolling correlation between the S&P 500 and Bitcoin\n",
    "\n",
    "sp500_btc = (\n",
    "    sp500.select('Date',sp500='Adj Close')\n",
    "    .join(btc.select('Date', btc='Adj Close'), on='Date', how='inner')\n",
    ")\n",
    "\n",
    "(\n",
    "    sp500_btc\n",
    "    .with_columns(\n",
    "        corr = pl.rolling_corr('sp500', 'btc', window_size=30))\n",
    "    .to_pandas()\n",
    "    .plot(x='Date', y='corr', figsize=(10, 5))\n",
    ")"
   ]
  },
  {
   "cell_type": "code",
   "execution_count": 154,
   "metadata": {},
   "outputs": [
    {
     "data": {
      "text/html": [
       "<div><style>\n",
       ".dataframe > thead > tr > th,\n",
       ".dataframe > tbody > tr > td {\n",
       "  text-align: right;\n",
       "}\n",
       "</style>\n",
       "<small>shape: (10, 4)</small><table border=\"1\" class=\"dataframe\"><thead><tr><th>Date</th><th>Adj_Close</th><th>Adj_Close_rolling_min</th><th>Adj_Close_diff_from_max</th></tr><tr><td>date</td><td>f64</td><td>f64</td><td>f64</td></tr></thead><tbody><tr><td>2019-01-02</td><td>null</td><td>null</td><td>null</td></tr><tr><td>2019-01-03</td><td>2510.03</td><td>2510.03</td><td>0.0</td></tr><tr><td>2019-01-04</td><td>2447.89</td><td>2447.89</td><td>-62.14</td></tr><tr><td>2019-01-07</td><td>2531.94</td><td>2531.94</td><td>0.0</td></tr><tr><td>2019-01-08</td><td>2549.69</td><td>2549.69</td><td>0.0</td></tr><tr><td>2019-01-09</td><td>2574.41</td><td>2549.69</td><td>0.0</td></tr><tr><td>2019-01-10</td><td>2584.96</td><td>2549.69</td><td>0.0</td></tr><tr><td>2019-01-11</td><td>2596.64</td><td>2574.41</td><td>0.0</td></tr><tr><td>2019-01-14</td><td>2596.26</td><td>2596.26</td><td>0.0</td></tr><tr><td>2019-01-15</td><td>2582.61</td><td>2582.61</td><td>0.0</td></tr></tbody></table></div>"
      ],
      "text/plain": [
       "shape: (10, 4)\n",
       "┌────────────┬───────────┬───────────────────────┬─────────────────────────┐\n",
       "│ Date       ┆ Adj_Close ┆ Adj_Close_rolling_min ┆ Adj_Close_diff_from_max │\n",
       "│ ---        ┆ ---       ┆ ---                   ┆ ---                     │\n",
       "│ date       ┆ f64       ┆ f64                   ┆ f64                     │\n",
       "╞════════════╪═══════════╪═══════════════════════╪═════════════════════════╡\n",
       "│ 2019-01-02 ┆ null      ┆ null                  ┆ null                    │\n",
       "│ 2019-01-03 ┆ 2510.03   ┆ 2510.03               ┆ 0.0                     │\n",
       "│ 2019-01-04 ┆ 2447.89   ┆ 2447.89               ┆ -62.14                  │\n",
       "│ 2019-01-07 ┆ 2531.94   ┆ 2531.94               ┆ 0.0                     │\n",
       "│ …          ┆ …         ┆ …                     ┆ …                       │\n",
       "│ 2019-01-10 ┆ 2584.96   ┆ 2549.69               ┆ 0.0                     │\n",
       "│ 2019-01-11 ┆ 2596.64   ┆ 2574.41               ┆ 0.0                     │\n",
       "│ 2019-01-14 ┆ 2596.26   ┆ 2596.26               ┆ 0.0                     │\n",
       "│ 2019-01-15 ┆ 2582.61   ┆ 2582.61               ┆ 0.0                     │\n",
       "└────────────┴───────────┴───────────────────────┴─────────────────────────┘"
      ]
     },
     "execution_count": 154,
     "metadata": {},
     "output_type": "execute_result"
    }
   ],
   "source": [
    "# Finally, groupby rolling allows to define custom calculation for each rolling window\n",
    "# In this example below, we calculate the rolling minimum, and the difference between the current value and the maximum value\n",
    "\n",
    "(\n",
    "    sp500.groupby_rolling(\n",
    "        'Date',\n",
    "        period='3d',\n",
    "        closed='left')\n",
    "    .agg(\n",
    "        Adj_Close = pl.col('Adj Close').last(),\n",
    "        Adj_Close_rolling_min = pl.col('Adj Close').min(),\n",
    "        Adj_Close_diff_from_max = pl.col('Adj Close').last() - pl.col('Adj Close').max())\n",
    ").head(10)"
   ]
  },
  {
   "cell_type": "markdown",
   "metadata": {},
   "source": [
    "#### Dynamic groups: groupby_dynamic and groupby_rolling"
   ]
  },
  {
   "cell_type": "code",
   "execution_count": 155,
   "metadata": {},
   "outputs": [
    {
     "data": {
      "text/html": [
       "<div><style>\n",
       ".dataframe > thead > tr > th,\n",
       ".dataframe > tbody > tr > td {\n",
       "  text-align: right;\n",
       "}\n",
       "</style>\n",
       "<small>shape: (5, 4)</small><table border=\"1\" class=\"dataframe\"><thead><tr><th>Date</th><th>corr</th><th>from_date</th><th>to_date</th></tr><tr><td>date</td><td>f64</td><td>date</td><td>date</td></tr></thead><tbody><tr><td>2019-01-01</td><td>-0.73916</td><td>2019-01-02</td><td>2019-01-31</td></tr><tr><td>2019-02-01</td><td>0.820574</td><td>2019-02-01</td><td>2019-02-28</td></tr><tr><td>2019-03-01</td><td>0.599727</td><td>2019-03-01</td><td>2019-03-29</td></tr><tr><td>2019-04-01</td><td>0.65675</td><td>2019-04-01</td><td>2019-04-30</td></tr><tr><td>2019-05-01</td><td>-0.871049</td><td>2019-05-01</td><td>2019-05-31</td></tr></tbody></table></div>"
      ],
      "text/plain": [
       "shape: (5, 4)\n",
       "┌────────────┬───────────┬────────────┬────────────┐\n",
       "│ Date       ┆ corr      ┆ from_date  ┆ to_date    │\n",
       "│ ---        ┆ ---       ┆ ---        ┆ ---        │\n",
       "│ date       ┆ f64       ┆ date       ┆ date       │\n",
       "╞════════════╪═══════════╪════════════╪════════════╡\n",
       "│ 2019-01-01 ┆ -0.73916  ┆ 2019-01-02 ┆ 2019-01-31 │\n",
       "│ 2019-02-01 ┆ 0.820574  ┆ 2019-02-01 ┆ 2019-02-28 │\n",
       "│ 2019-03-01 ┆ 0.599727  ┆ 2019-03-01 ┆ 2019-03-29 │\n",
       "│ 2019-04-01 ┆ 0.65675   ┆ 2019-04-01 ┆ 2019-04-30 │\n",
       "│ 2019-05-01 ┆ -0.871049 ┆ 2019-05-01 ┆ 2019-05-31 │\n",
       "└────────────┴───────────┴────────────┴────────────┘"
      ]
     },
     "execution_count": 155,
     "metadata": {},
     "output_type": "execute_result"
    }
   ],
   "source": [
    "# Groupby_dynamic and groupby_rolling are advanced functions for grouping data\n",
    "# based on a time interval\n",
    "# They are different from the cumulative and rolling functions because we reduce the number of rows\n",
    "\n",
    "# 3 main parameters for groupby_dynamic:\n",
    "# 1. every: how often we start a new interval\n",
    "# 2. period: the length of the interval\n",
    "# 3. offset: the offset of the interval\n",
    "\n",
    "# Let's calculate the correlation between the S&P 500 and Bitcoin for each month\n",
    "# Now I calculate only one value per month\n",
    "\n",
    "(\n",
    "    sp500_btc\n",
    "    .groupby_dynamic(\n",
    "        'Date',\n",
    "        every='1mo',\n",
    "        period='1mo')\n",
    "    .agg(\n",
    "        corr = pl.corr('sp500', 'btc'),\n",
    "        from_date = pl.col('Date').min(),\n",
    "        to_date = pl.col('Date').max())\n",
    "    .head(5)\n",
    ")"
   ]
  },
  {
   "cell_type": "code",
   "execution_count": 156,
   "metadata": {},
   "outputs": [
    {
     "data": {
      "text/html": [
       "<div><style>\n",
       ".dataframe > thead > tr > th,\n",
       ".dataframe > tbody > tr > td {\n",
       "  text-align: right;\n",
       "}\n",
       "</style>\n",
       "<small>shape: (5, 4)</small><table border=\"1\" class=\"dataframe\"><thead><tr><th>Date</th><th>corr</th><th>from_date</th><th>to_date</th></tr><tr><td>date</td><td>f64</td><td>date</td><td>date</td></tr></thead><tbody><tr><td>2019-01-01</td><td>-0.083929</td><td>2019-01-02</td><td>2019-02-28</td></tr><tr><td>2019-02-01</td><td>0.840186</td><td>2019-02-01</td><td>2019-03-29</td></tr><tr><td>2019-03-01</td><td>0.923523</td><td>2019-03-01</td><td>2019-04-30</td></tr><tr><td>2019-04-01</td><td>-0.783081</td><td>2019-04-01</td><td>2019-05-31</td></tr><tr><td>2019-05-01</td><td>0.194892</td><td>2019-05-01</td><td>2019-06-28</td></tr></tbody></table></div>"
      ],
      "text/plain": [
       "shape: (5, 4)\n",
       "┌────────────┬───────────┬────────────┬────────────┐\n",
       "│ Date       ┆ corr      ┆ from_date  ┆ to_date    │\n",
       "│ ---        ┆ ---       ┆ ---        ┆ ---        │\n",
       "│ date       ┆ f64       ┆ date       ┆ date       │\n",
       "╞════════════╪═══════════╪════════════╪════════════╡\n",
       "│ 2019-01-01 ┆ -0.083929 ┆ 2019-01-02 ┆ 2019-02-28 │\n",
       "│ 2019-02-01 ┆ 0.840186  ┆ 2019-02-01 ┆ 2019-03-29 │\n",
       "│ 2019-03-01 ┆ 0.923523  ┆ 2019-03-01 ┆ 2019-04-30 │\n",
       "│ 2019-04-01 ┆ -0.783081 ┆ 2019-04-01 ┆ 2019-05-31 │\n",
       "│ 2019-05-01 ┆ 0.194892  ┆ 2019-05-01 ┆ 2019-06-28 │\n",
       "└────────────┴───────────┴────────────┴────────────┘"
      ]
     },
     "execution_count": 156,
     "metadata": {},
     "output_type": "execute_result"
    }
   ],
   "source": [
    "# Let's now calculate the correlation between the S&P 500 and Bitcoin\n",
    "# every month, but with a period of 2 months\n",
    "\n",
    "(\n",
    "    sp500_btc\n",
    "    .groupby_dynamic(\n",
    "        'Date',\n",
    "        every='1mo',\n",
    "        period='2mo')\n",
    "    .agg(\n",
    "        corr = pl.corr('sp500', 'btc'),\n",
    "        from_date = pl.col('Date').min(),\n",
    "        to_date = pl.col('Date').max())\n",
    "    .head(5)\n",
    ")"
   ]
  },
  {
   "cell_type": "code",
   "execution_count": 157,
   "metadata": {},
   "outputs": [
    {
     "data": {
      "text/html": [
       "<div><style>\n",
       ".dataframe > thead > tr > th,\n",
       ".dataframe > tbody > tr > td {\n",
       "  text-align: right;\n",
       "}\n",
       "</style>\n",
       "<small>shape: (5, 4)</small><table border=\"1\" class=\"dataframe\"><thead><tr><th>Date</th><th>corr</th><th>from_date</th><th>to_date</th></tr><tr><td>date</td><td>f64</td><td>date</td><td>date</td></tr></thead><tbody><tr><td>2019-01-01</td><td>-0.73916</td><td>2019-01-02</td><td>2019-01-31</td></tr><tr><td>2019-03-01</td><td>0.599727</td><td>2019-03-01</td><td>2019-03-29</td></tr><tr><td>2019-05-01</td><td>-0.871049</td><td>2019-05-01</td><td>2019-05-31</td></tr><tr><td>2019-07-01</td><td>-0.365423</td><td>2019-07-01</td><td>2019-07-31</td></tr><tr><td>2019-09-01</td><td>0.081172</td><td>2019-09-03</td><td>2019-09-30</td></tr></tbody></table></div>"
      ],
      "text/plain": [
       "shape: (5, 4)\n",
       "┌────────────┬───────────┬────────────┬────────────┐\n",
       "│ Date       ┆ corr      ┆ from_date  ┆ to_date    │\n",
       "│ ---        ┆ ---       ┆ ---        ┆ ---        │\n",
       "│ date       ┆ f64       ┆ date       ┆ date       │\n",
       "╞════════════╪═══════════╪════════════╪════════════╡\n",
       "│ 2019-01-01 ┆ -0.73916  ┆ 2019-01-02 ┆ 2019-01-31 │\n",
       "│ 2019-03-01 ┆ 0.599727  ┆ 2019-03-01 ┆ 2019-03-29 │\n",
       "│ 2019-05-01 ┆ -0.871049 ┆ 2019-05-01 ┆ 2019-05-31 │\n",
       "│ 2019-07-01 ┆ -0.365423 ┆ 2019-07-01 ┆ 2019-07-31 │\n",
       "│ 2019-09-01 ┆ 0.081172  ┆ 2019-09-03 ┆ 2019-09-30 │\n",
       "└────────────┴───────────┴────────────┴────────────┘"
      ]
     },
     "execution_count": 157,
     "metadata": {},
     "output_type": "execute_result"
    }
   ],
   "source": [
    "# Finally, let's calculate the correlation between the S&P 500 and Bitcoin\n",
    "# every 2 months, but with a period of 1 month\n",
    "\n",
    "(\n",
    "    sp500_btc\n",
    "    .groupby_dynamic(\n",
    "        'Date',\n",
    "        every='2mo',\n",
    "        period='1mo')\n",
    "    .agg(\n",
    "        corr = pl.corr('sp500', 'btc'),\n",
    "        from_date = pl.col('Date').min(),\n",
    "        to_date = pl.col('Date').max())\n",
    "    .head(5)\n",
    ")"
   ]
  },
  {
   "cell_type": "markdown",
   "metadata": {},
   "source": [
    "#### Join with nearest key: asof_join"
   ]
  },
  {
   "cell_type": "code",
   "execution_count": 175,
   "metadata": {},
   "outputs": [],
   "source": [
    "# Join_asof is a function that allows to join 2 datasets based on nearest keys\n",
    "# For example, we can find the price of purchase for an S&P 500 ETF by looking at opening price for the next available date\n",
    "\n",
    "trades = pl.DataFrame({\n",
    "    'Date': [date(2019, 1, 4), date(2019, 1, 6), date(2019, 1, 11)],\n",
    "    'Quantity': [10, -20, 30]\n",
    "}).with_columns(\n",
    "    pl.col('Date').set_sorted()\n",
    ")"
   ]
  },
  {
   "cell_type": "code",
   "execution_count": 178,
   "metadata": {},
   "outputs": [
    {
     "data": {
      "text/html": [
       "<div><style>\n",
       ".dataframe > thead > tr > th,\n",
       ".dataframe > tbody > tr > td {\n",
       "  text-align: right;\n",
       "}\n",
       "</style>\n",
       "<small>shape: (10, 2)</small><table border=\"1\" class=\"dataframe\"><thead><tr><th>Date</th><th>Open</th></tr><tr><td>date</td><td>f64</td></tr></thead><tbody><tr><td>2019-01-02</td><td>2476.96</td></tr><tr><td>2019-01-03</td><td>2491.92</td></tr><tr><td>2019-01-04</td><td>2474.33</td></tr><tr><td>2019-01-07</td><td>2535.61</td></tr><tr><td>2019-01-08</td><td>2568.11</td></tr><tr><td>2019-01-09</td><td>2580.0</td></tr><tr><td>2019-01-10</td><td>2573.51</td></tr><tr><td>2019-01-11</td><td>2588.11</td></tr><tr><td>2019-01-14</td><td>2580.31</td></tr><tr><td>2019-01-15</td><td>2585.1</td></tr></tbody></table></div>"
      ],
      "text/plain": [
       "shape: (10, 2)\n",
       "┌────────────┬─────────┐\n",
       "│ Date       ┆ Open    │\n",
       "│ ---        ┆ ---     │\n",
       "│ date       ┆ f64     │\n",
       "╞════════════╪═════════╡\n",
       "│ 2019-01-02 ┆ 2476.96 │\n",
       "│ 2019-01-03 ┆ 2491.92 │\n",
       "│ 2019-01-04 ┆ 2474.33 │\n",
       "│ 2019-01-07 ┆ 2535.61 │\n",
       "│ …          ┆ …       │\n",
       "│ 2019-01-10 ┆ 2573.51 │\n",
       "│ 2019-01-11 ┆ 2588.11 │\n",
       "│ 2019-01-14 ┆ 2580.31 │\n",
       "│ 2019-01-15 ┆ 2585.1  │\n",
       "└────────────┴─────────┘"
      ]
     },
     "execution_count": 178,
     "metadata": {},
     "output_type": "execute_result"
    }
   ],
   "source": [
    "# Here are the prices of the S&P 500 as a reminder\n",
    "sp500.select('Date', 'Open').head(10)"
   ]
  },
  {
   "cell_type": "code",
   "execution_count": 180,
   "metadata": {},
   "outputs": [
    {
     "data": {
      "text/html": [
       "<div><style>\n",
       ".dataframe > thead > tr > th,\n",
       ".dataframe > tbody > tr > td {\n",
       "  text-align: right;\n",
       "}\n",
       "</style>\n",
       "<small>shape: (3, 3)</small><table border=\"1\" class=\"dataframe\"><thead><tr><th>Date</th><th>Quantity</th><th>Price</th></tr><tr><td>date</td><td>i64</td><td>f64</td></tr></thead><tbody><tr><td>2019-01-04</td><td>10</td><td>2474.33</td></tr><tr><td>2019-01-06</td><td>-20</td><td>2535.61</td></tr><tr><td>2019-01-11</td><td>30</td><td>2588.11</td></tr></tbody></table></div>"
      ],
      "text/plain": [
       "shape: (3, 3)\n",
       "┌────────────┬──────────┬─────────┐\n",
       "│ Date       ┆ Quantity ┆ Price   │\n",
       "│ ---        ┆ ---      ┆ ---     │\n",
       "│ date       ┆ i64      ┆ f64     │\n",
       "╞════════════╪══════════╪═════════╡\n",
       "│ 2019-01-04 ┆ 10       ┆ 2474.33 │\n",
       "│ 2019-01-06 ┆ -20      ┆ 2535.61 │\n",
       "│ 2019-01-11 ┆ 30       ┆ 2588.11 │\n",
       "└────────────┴──────────┴─────────┘"
      ]
     },
     "execution_count": 180,
     "metadata": {},
     "output_type": "execute_result"
    }
   ],
   "source": [
    "trades.join_asof(sp500.select('Date', Price = 'Open'), on='Date', strategy='forward')"
   ]
  },
  {
   "cell_type": "code",
   "execution_count": null,
   "metadata": {},
   "outputs": [],
   "source": []
  }
 ],
 "metadata": {
  "kernelspec": {
   "display_name": "Python 3",
   "language": "python",
   "name": "python3"
  },
  "language_info": {
   "codemirror_mode": {
    "name": "ipython",
    "version": 3
   },
   "file_extension": ".py",
   "mimetype": "text/x-python",
   "name": "python",
   "nbconvert_exporter": "python",
   "pygments_lexer": "ipython3",
   "version": "3.10.6"
  },
  "orig_nbformat": 4
 },
 "nbformat": 4,
 "nbformat_minor": 2
}
