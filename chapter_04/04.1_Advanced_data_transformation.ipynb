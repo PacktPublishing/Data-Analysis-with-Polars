{
 "cells": [
  {
   "attachments": {},
   "cell_type": "markdown",
   "metadata": {},
   "source": [
    "### Advanced Data Transformation with Polars"
   ]
  },
  {
   "attachments": {},
   "cell_type": "markdown",
   "metadata": {},
   "source": [
    "The examples below use `.head()` to reduce the output to a few rows and take up less space.\n",
    "If you want the full output, remove `.head()` from the code.\n",
    "\n",
    "This notebooked is divided into sections. If your code editor supports it, you can use the **Outline** functionality to easily go to the code section you are interested in.\n",
    "\n",
    "For more details on Polars functions, check out the Polars API reference: https://pola-rs.github.io/polars/py-polars/html/reference/index.html"
   ]
  },
  {
   "cell_type": "code",
   "execution_count": 143,
   "metadata": {},
   "outputs": [
    {
     "data": {
      "text/plain": [
       "polars.config.Config"
      ]
     },
     "execution_count": 143,
     "metadata": {},
     "output_type": "execute_result"
    }
   ],
   "source": [
    "import polars as pl\n",
    "\n",
    "# Configure the number of characters to show for each string column\n",
    "pl.Config.set_fmt_str_lengths(50)"
   ]
  },
  {
   "cell_type": "markdown",
   "metadata": {},
   "source": [
    "#### List operations"
   ]
  },
  {
   "cell_type": "code",
   "execution_count": 144,
   "metadata": {},
   "outputs": [
    {
     "data": {
      "text/html": [
       "<div><style>\n",
       ".dataframe > thead > tr > th,\n",
       ".dataframe > tbody > tr > td {\n",
       "  text-align: right;\n",
       "}\n",
       "</style>\n",
       "<small>shape: (4, 5)</small><table border=\"1\" class=\"dataframe\"><thead><tr><th>branch</th><th>employees</th><th>weekly_sales</th><th>stock_items</th><th>customer_rating</th></tr><tr><td>str</td><td>list[str]</td><td>list[i64]</td><td>list[str]</td><td>list[i64]</td></tr></thead><tbody><tr><td>&quot;A&quot;</td><td>[&quot;John&quot;, &quot;Lisa&quot;, &quot;Sam&quot;]</td><td>[1200, 2500, 700]</td><td>[&quot;Item1&quot;, &quot;Item2&quot;]</td><td>[3, 4, 4]</td></tr><tr><td>&quot;B&quot;</td><td>[&quot;Lisa&quot;, &quot;Alex&quot;]</td><td>[1500, 2700]</td><td>[&quot;Item1&quot;, &quot;Item3&quot;]</td><td>[5, 4]</td></tr><tr><td>&quot;C&quot;</td><td>[&quot;Sam&quot;, &quot;Alex&quot;, &quot;John&quot;]</td><td>[1800, 2000, 900]</td><td>[&quot;Item2&quot;, &quot;Item3&quot;]</td><td>[4, 3, 3]</td></tr><tr><td>&quot;D&quot;</td><td>[&quot;Lisa&quot;, &quot;Sam&quot;]</td><td>[1700, 2100]</td><td>[&quot;Item1&quot;, &quot;Item2&quot;, &quot;Item3&quot;]</td><td>[5, 5]</td></tr></tbody></table></div>"
      ],
      "text/plain": [
       "shape: (4, 5)\n",
       "┌────────┬─────────────────────────┬───────────────────┬────────────────────┬─────────────────┐\n",
       "│ branch ┆ employees               ┆ weekly_sales      ┆ stock_items        ┆ customer_rating │\n",
       "│ ---    ┆ ---                     ┆ ---               ┆ ---                ┆ ---             │\n",
       "│ str    ┆ list[str]               ┆ list[i64]         ┆ list[str]          ┆ list[i64]       │\n",
       "╞════════╪═════════════════════════╪═══════════════════╪════════════════════╪═════════════════╡\n",
       "│ A      ┆ [\"John\", \"Lisa\", \"Sam\"] ┆ [1200, 2500, 700] ┆ [\"Item1\", \"Item2\"] ┆ [3, 4, 4]       │\n",
       "│ B      ┆ [\"Lisa\", \"Alex\"]        ┆ [1500, 2700]      ┆ [\"Item1\", \"Item3\"] ┆ [5, 4]          │\n",
       "│ C      ┆ [\"Sam\", \"Alex\", \"John\"] ┆ [1800, 2000, 900] ┆ [\"Item2\", \"Item3\"] ┆ [4, 3, 3]       │\n",
       "│ D      ┆ [\"Lisa\", \"Sam\"]         ┆ [1700, 2100]      ┆ [\"Item1\", \"Item2\", ┆ [5, 5]          │\n",
       "│        ┆                         ┆                   ┆ \"Item3\"]           ┆                 │\n",
       "└────────┴─────────────────────────┴───────────────────┴────────────────────┴─────────────────┘"
      ]
     },
     "execution_count": 144,
     "metadata": {},
     "output_type": "execute_result"
    }
   ],
   "source": [
    "data = {\n",
    "    \"branch\": ['A', 'B', 'C', 'D'],\n",
    "    \"employees\": [['John', 'Lisa', 'Sam'], ['Lisa', 'Alex'], ['Sam', 'Alex', 'John'], ['Lisa', 'Sam']],\n",
    "    \"weekly_sales\": [[1200, 2500, 700], [1500, 2700], [1800, 2000, 900], [1700, 2100]],\n",
    "    \"stock_items\": [['Item1', 'Item2'], ['Item1', 'Item3'], ['Item2', 'Item3'], ['Item1', 'Item2', 'Item3']],\n",
    "    \"customer_rating\": [[3, 4, 4], [5, 4], [4, 3, 3], [5, 5]]\n",
    "}\n",
    "\n",
    "df_retail = pl.DataFrame(data)\n",
    "\n",
    "df_retail"
   ]
  },
  {
   "cell_type": "code",
   "execution_count": 145,
   "metadata": {},
   "outputs": [
    {
     "data": {
      "text/html": [
       "<div><style>\n",
       ".dataframe > thead > tr > th,\n",
       ".dataframe > tbody > tr > td {\n",
       "  text-align: right;\n",
       "}\n",
       "</style>\n",
       "<small>shape: (4, 5)</small><table border=\"1\" class=\"dataframe\"><thead><tr><th>branch</th><th>employees</th><th>weekly_sales</th><th>stock_items</th><th>customer_rating</th></tr><tr><td>str</td><td>str</td><td>list[i64]</td><td>list[str]</td><td>list[i64]</td></tr></thead><tbody><tr><td>&quot;A&quot;</td><td>&quot;John, Lisa, Sam&quot;</td><td>[1200, 2500, 700]</td><td>[&quot;Item1&quot;, &quot;Item2&quot;]</td><td>[3, 4, 4]</td></tr><tr><td>&quot;B&quot;</td><td>&quot;Lisa, Alex&quot;</td><td>[1500, 2700]</td><td>[&quot;Item1&quot;, &quot;Item3&quot;]</td><td>[5, 4]</td></tr><tr><td>&quot;C&quot;</td><td>&quot;Sam, Alex, John&quot;</td><td>[1800, 2000, 900]</td><td>[&quot;Item2&quot;, &quot;Item3&quot;]</td><td>[4, 3, 3]</td></tr><tr><td>&quot;D&quot;</td><td>&quot;Lisa, Sam&quot;</td><td>[1700, 2100]</td><td>[&quot;Item1&quot;, &quot;Item2&quot;, &quot;Item3&quot;]</td><td>[5, 5]</td></tr></tbody></table></div>"
      ],
      "text/plain": [
       "shape: (4, 5)\n",
       "┌────────┬─────────────────┬───────────────────┬─────────────────────────────┬─────────────────┐\n",
       "│ branch ┆ employees       ┆ weekly_sales      ┆ stock_items                 ┆ customer_rating │\n",
       "│ ---    ┆ ---             ┆ ---               ┆ ---                         ┆ ---             │\n",
       "│ str    ┆ str             ┆ list[i64]         ┆ list[str]                   ┆ list[i64]       │\n",
       "╞════════╪═════════════════╪═══════════════════╪═════════════════════════════╪═════════════════╡\n",
       "│ A      ┆ John, Lisa, Sam ┆ [1200, 2500, 700] ┆ [\"Item1\", \"Item2\"]          ┆ [3, 4, 4]       │\n",
       "│ B      ┆ Lisa, Alex      ┆ [1500, 2700]      ┆ [\"Item1\", \"Item3\"]          ┆ [5, 4]          │\n",
       "│ C      ┆ Sam, Alex, John ┆ [1800, 2000, 900] ┆ [\"Item2\", \"Item3\"]          ┆ [4, 3, 3]       │\n",
       "│ D      ┆ Lisa, Sam       ┆ [1700, 2100]      ┆ [\"Item1\", \"Item2\", \"Item3\"] ┆ [5, 5]          │\n",
       "└────────┴─────────────────┴───────────────────┴─────────────────────────────┴─────────────────┘"
      ]
     },
     "execution_count": 145,
     "metadata": {},
     "output_type": "execute_result"
    }
   ],
   "source": [
    "# join the employees working in each branch in a single string\n",
    "\n",
    "df_retail.with_columns(pl.col(\"employees\").list.join(', '))"
   ]
  },
  {
   "cell_type": "code",
   "execution_count": 146,
   "metadata": {},
   "outputs": [
    {
     "data": {
      "text/html": [
       "<div><style>\n",
       ".dataframe > thead > tr > th,\n",
       ".dataframe > tbody > tr > td {\n",
       "  text-align: right;\n",
       "}\n",
       "</style>\n",
       "<small>shape: (4, 2)</small><table border=\"1\" class=\"dataframe\"><thead><tr><th>stock_items</th><th>has_item1</th></tr><tr><td>list[str]</td><td>bool</td></tr></thead><tbody><tr><td>[&quot;Item1&quot;, &quot;Item2&quot;]</td><td>true</td></tr><tr><td>[&quot;Item1&quot;, &quot;Item3&quot;]</td><td>true</td></tr><tr><td>[&quot;Item2&quot;, &quot;Item3&quot;]</td><td>false</td></tr><tr><td>[&quot;Item1&quot;, &quot;Item2&quot;, &quot;Item3&quot;]</td><td>true</td></tr></tbody></table></div>"
      ],
      "text/plain": [
       "shape: (4, 2)\n",
       "┌─────────────────────────────┬───────────┐\n",
       "│ stock_items                 ┆ has_item1 │\n",
       "│ ---                         ┆ ---       │\n",
       "│ list[str]                   ┆ bool      │\n",
       "╞═════════════════════════════╪═══════════╡\n",
       "│ [\"Item1\", \"Item2\"]          ┆ true      │\n",
       "│ [\"Item1\", \"Item3\"]          ┆ true      │\n",
       "│ [\"Item2\", \"Item3\"]          ┆ false     │\n",
       "│ [\"Item1\", \"Item2\", \"Item3\"] ┆ true      │\n",
       "└─────────────────────────────┴───────────┘"
      ]
     },
     "execution_count": 146,
     "metadata": {},
     "output_type": "execute_result"
    }
   ],
   "source": [
    "# check which branch has Item1 in stock\n",
    "\n",
    "df_retail.select(\n",
    "    'stock_items',\n",
    "    has_item1 = pl.col(\"stock_items\").list.contains(\"Item1\")\n",
    "    )"
   ]
  },
  {
   "cell_type": "code",
   "execution_count": 147,
   "metadata": {},
   "outputs": [
    {
     "data": {
      "text/html": [
       "<div><style>\n",
       ".dataframe > thead > tr > th,\n",
       ".dataframe > tbody > tr > td {\n",
       "  text-align: right;\n",
       "}\n",
       "</style>\n",
       "<small>shape: (4, 2)</small><table border=\"1\" class=\"dataframe\"><thead><tr><th>customer_rating</th><th>count_ratings_of_5</th></tr><tr><td>list[i64]</td><td>u32</td></tr></thead><tbody><tr><td>[3, 4, 4]</td><td>0</td></tr><tr><td>[5, 4]</td><td>1</td></tr><tr><td>[4, 3, 3]</td><td>0</td></tr><tr><td>[5, 5]</td><td>2</td></tr></tbody></table></div>"
      ],
      "text/plain": [
       "shape: (4, 2)\n",
       "┌─────────────────┬────────────────────┐\n",
       "│ customer_rating ┆ count_ratings_of_5 │\n",
       "│ ---             ┆ ---                │\n",
       "│ list[i64]       ┆ u32                │\n",
       "╞═════════════════╪════════════════════╡\n",
       "│ [3, 4, 4]       ┆ 0                  │\n",
       "│ [5, 4]          ┆ 1                  │\n",
       "│ [4, 3, 3]       ┆ 0                  │\n",
       "│ [5, 5]          ┆ 2                  │\n",
       "└─────────────────┴────────────────────┘"
      ]
     },
     "execution_count": 147,
     "metadata": {},
     "output_type": "execute_result"
    }
   ],
   "source": [
    "# count how many ratings of 5 each branch has\n",
    "\n",
    "df_retail.select(\n",
    "    'customer_rating',\n",
    "    count_ratings_of_5 = pl.col(\"customer_rating\").list.count_match(5)\n",
    "    )"
   ]
  },
  {
   "cell_type": "code",
   "execution_count": 148,
   "metadata": {},
   "outputs": [
    {
     "data": {
      "text/html": [
       "<div><style>\n",
       ".dataframe > thead > tr > th,\n",
       ".dataframe > tbody > tr > td {\n",
       "  text-align: right;\n",
       "}\n",
       "</style>\n",
       "<small>shape: (4, 2)</small><table border=\"1\" class=\"dataframe\"><thead><tr><th>weekly_sales</th><th>change_in_sales</th></tr><tr><td>list[i64]</td><td>list[i64]</td></tr></thead><tbody><tr><td>[1200, 2500, 700]</td><td>[null, 1300, -1800]</td></tr><tr><td>[1500, 2700]</td><td>[null, 1200]</td></tr><tr><td>[1800, 2000, 900]</td><td>[null, 200, -1100]</td></tr><tr><td>[1700, 2100]</td><td>[null, 400]</td></tr></tbody></table></div>"
      ],
      "text/plain": [
       "shape: (4, 2)\n",
       "┌───────────────────┬─────────────────────┐\n",
       "│ weekly_sales      ┆ change_in_sales     │\n",
       "│ ---               ┆ ---                 │\n",
       "│ list[i64]         ┆ list[i64]           │\n",
       "╞═══════════════════╪═════════════════════╡\n",
       "│ [1200, 2500, 700] ┆ [null, 1300, -1800] │\n",
       "│ [1500, 2700]      ┆ [null, 1200]        │\n",
       "│ [1800, 2000, 900] ┆ [null, 200, -1100]  │\n",
       "│ [1700, 2100]      ┆ [null, 400]         │\n",
       "└───────────────────┴─────────────────────┘"
      ]
     },
     "execution_count": 148,
     "metadata": {},
     "output_type": "execute_result"
    }
   ],
   "source": [
    "# calculate the change in sales at every change of employee\n",
    "\n",
    "df_retail.select(\n",
    "    'weekly_sales',\n",
    "    change_in_sales = pl.col(\"weekly_sales\").list.diff()\n",
    "    )"
   ]
  },
  {
   "cell_type": "code",
   "execution_count": 149,
   "metadata": {},
   "outputs": [
    {
     "data": {
      "text/html": [
       "<div><style>\n",
       ".dataframe > thead > tr > th,\n",
       ".dataframe > tbody > tr > td {\n",
       "  text-align: right;\n",
       "}\n",
       "</style>\n",
       "<small>shape: (4, 1)</small><table border=\"1\" class=\"dataframe\"><thead><tr><th>customer_rating</th></tr><tr><td>list[i64]</td></tr></thead><tbody><tr><td>[3, 4]</td></tr><tr><td>[5, 4]</td></tr><tr><td>[4, 3]</td></tr><tr><td>[5, 5]</td></tr></tbody></table></div>"
      ],
      "text/plain": [
       "shape: (4, 1)\n",
       "┌─────────────────┐\n",
       "│ customer_rating │\n",
       "│ ---             │\n",
       "│ list[i64]       │\n",
       "╞═════════════════╡\n",
       "│ [3, 4]          │\n",
       "│ [5, 4]          │\n",
       "│ [4, 3]          │\n",
       "│ [5, 5]          │\n",
       "└─────────────────┘"
      ]
     },
     "execution_count": 149,
     "metadata": {},
     "output_type": "execute_result"
    }
   ],
   "source": [
    "# i can visualize only some values from a list using head\n",
    "\n",
    "df_retail.select(\n",
    "    pl.col('customer_rating').list.head(2)\n",
    ")   "
   ]
  },
  {
   "cell_type": "code",
   "execution_count": 150,
   "metadata": {},
   "outputs": [
    {
     "data": {
      "text/html": [
       "<div><style>\n",
       ".dataframe > thead > tr > th,\n",
       ".dataframe > tbody > tr > td {\n",
       "  text-align: right;\n",
       "}\n",
       "</style>\n",
       "<small>shape: (4, 1)</small><table border=\"1\" class=\"dataframe\"><thead><tr><th>weekly_sales</th></tr><tr><td>i64</td></tr></thead><tbody><tr><td>2500</td></tr><tr><td>2700</td></tr><tr><td>2000</td></tr><tr><td>2100</td></tr></tbody></table></div>"
      ],
      "text/plain": [
       "shape: (4, 1)\n",
       "┌──────────────┐\n",
       "│ weekly_sales │\n",
       "│ ---          │\n",
       "│ i64          │\n",
       "╞══════════════╡\n",
       "│ 2500         │\n",
       "│ 2700         │\n",
       "│ 2000         │\n",
       "│ 2100         │\n",
       "└──────────────┘"
      ]
     },
     "execution_count": 150,
     "metadata": {},
     "output_type": "execute_result"
    }
   ],
   "source": [
    "# I can visualize the maximum value using max\n",
    "\n",
    "df_retail.select(\n",
    "    pl.col('weekly_sales').list.max()\n",
    ")"
   ]
  },
  {
   "cell_type": "code",
   "execution_count": 151,
   "metadata": {},
   "outputs": [
    {
     "data": {
      "text/html": [
       "<div><style>\n",
       ".dataframe > thead > tr > th,\n",
       ".dataframe > tbody > tr > td {\n",
       "  text-align: right;\n",
       "}\n",
       "</style>\n",
       "<small>shape: (4, 1)</small><table border=\"1\" class=\"dataframe\"><thead><tr><th>weekly_sales</th></tr><tr><td>list[i64]</td></tr></thead><tbody><tr><td>[1200]</td></tr><tr><td>[2700]</td></tr><tr><td>[1800]</td></tr><tr><td>[2100]</td></tr></tbody></table></div>"
      ],
      "text/plain": [
       "shape: (4, 1)\n",
       "┌──────────────┐\n",
       "│ weekly_sales │\n",
       "│ ---          │\n",
       "│ list[i64]    │\n",
       "╞══════════════╡\n",
       "│ [1200]       │\n",
       "│ [2700]       │\n",
       "│ [1800]       │\n",
       "│ [2100]       │\n",
       "└──────────────┘"
      ]
     },
     "execution_count": 151,
     "metadata": {},
     "output_type": "execute_result"
    }
   ],
   "source": [
    "# I can sort the values, and take the second biggest\n",
    "\n",
    "df_retail.select(\n",
    "    pl.col('weekly_sales').list.sort().list.take(1)\n",
    ")"
   ]
  },
  {
   "cell_type": "code",
   "execution_count": 152,
   "metadata": {},
   "outputs": [
    {
     "data": {
      "text/html": [
       "<div><style>\n",
       ".dataframe > thead > tr > th,\n",
       ".dataframe > tbody > tr > td {\n",
       "  text-align: right;\n",
       "}\n",
       "</style>\n",
       "<small>shape: (4, 1)</small><table border=\"1\" class=\"dataframe\"><thead><tr><th>customer_rating</th></tr><tr><td>list[i64]</td></tr></thead><tbody><tr><td>[3, 4]</td></tr><tr><td>[4, 5]</td></tr><tr><td>[3, 4]</td></tr><tr><td>[5]</td></tr></tbody></table></div>"
      ],
      "text/plain": [
       "shape: (4, 1)\n",
       "┌─────────────────┐\n",
       "│ customer_rating │\n",
       "│ ---             │\n",
       "│ list[i64]       │\n",
       "╞═════════════════╡\n",
       "│ [3, 4]          │\n",
       "│ [4, 5]          │\n",
       "│ [3, 4]          │\n",
       "│ [5]             │\n",
       "└─────────────────┘"
      ]
     },
     "execution_count": 152,
     "metadata": {},
     "output_type": "execute_result"
    }
   ],
   "source": [
    "# I can only the unique values\n",
    "\n",
    "df_retail.select(\n",
    "    pl.col('customer_rating').list.unique()\n",
    ")"
   ]
  },
  {
   "cell_type": "code",
   "execution_count": 153,
   "metadata": {},
   "outputs": [
    {
     "data": {
      "text/html": [
       "<div><style>\n",
       ".dataframe > thead > tr > th,\n",
       ".dataframe > tbody > tr > td {\n",
       "  text-align: right;\n",
       "}\n",
       "</style>\n",
       "<small>shape: (4, 2)</small><table border=\"1\" class=\"dataframe\"><thead><tr><th>weekly_sales</th><th>ranked_sales</th></tr><tr><td>list[i64]</td><td>list[u32]</td></tr></thead><tbody><tr><td>[1200, 2500, 700]</td><td>[2, 1, 3]</td></tr><tr><td>[1500, 2700]</td><td>[2, 1]</td></tr><tr><td>[1800, 2000, 900]</td><td>[2, 1, 3]</td></tr><tr><td>[1700, 2100]</td><td>[2, 1]</td></tr></tbody></table></div>"
      ],
      "text/plain": [
       "shape: (4, 2)\n",
       "┌───────────────────┬──────────────┐\n",
       "│ weekly_sales      ┆ ranked_sales │\n",
       "│ ---               ┆ ---          │\n",
       "│ list[i64]         ┆ list[u32]    │\n",
       "╞═══════════════════╪══════════════╡\n",
       "│ [1200, 2500, 700] ┆ [2, 1, 3]    │\n",
       "│ [1500, 2700]      ┆ [2, 1]       │\n",
       "│ [1800, 2000, 900] ┆ [2, 1, 3]    │\n",
       "│ [1700, 2100]      ┆ [2, 1]       │\n",
       "└───────────────────┴──────────────┘"
      ]
     },
     "execution_count": 153,
     "metadata": {},
     "output_type": "execute_result"
    }
   ],
   "source": [
    "# for functions not available in the list namespace, I can use eval and use all expressions\n",
    "# inside pl.eval, I can identify the list with pl.element()\n",
    "# for example, I can rank the sales\n",
    "\n",
    "df_retail.select(\n",
    "    'weekly_sales',\n",
    "    ranked_sales = pl.col('weekly_sales').list.eval(pl.element().rank(method=\"dense\", descending=True))\n",
    "    )\n"
   ]
  },
  {
   "cell_type": "code",
   "execution_count": 154,
   "metadata": {},
   "outputs": [
    {
     "data": {
      "text/html": [
       "<div><style>\n",
       ".dataframe > thead > tr > th,\n",
       ".dataframe > tbody > tr > td {\n",
       "  text-align: right;\n",
       "}\n",
       "</style>\n",
       "<small>shape: (4, 2)</small><table border=\"1\" class=\"dataframe\"><thead><tr><th>weekly_sales</th><th>filtered_sales</th></tr><tr><td>list[i64]</td><td>list[i64]</td></tr></thead><tbody><tr><td>[1200, 2500, 700]</td><td>[2500]</td></tr><tr><td>[1500, 2700]</td><td>[2700]</td></tr><tr><td>[1800, 2000, 900]</td><td>[]</td></tr><tr><td>[1700, 2100]</td><td>[]</td></tr></tbody></table></div>"
      ],
      "text/plain": [
       "shape: (4, 2)\n",
       "┌───────────────────┬────────────────┐\n",
       "│ weekly_sales      ┆ filtered_sales │\n",
       "│ ---               ┆ ---            │\n",
       "│ list[i64]         ┆ list[i64]      │\n",
       "╞═══════════════════╪════════════════╡\n",
       "│ [1200, 2500, 700] ┆ [2500]         │\n",
       "│ [1500, 2700]      ┆ [2700]         │\n",
       "│ [1800, 2000, 900] ┆ []             │\n",
       "│ [1700, 2100]      ┆ []             │\n",
       "└───────────────────┴────────────────┘"
      ]
     },
     "execution_count": 154,
     "metadata": {},
     "output_type": "execute_result"
    }
   ],
   "source": [
    "# using pl.eval I can filter for sales equal or bigger than 2500\n",
    "# note that here I am using pl.element() twice, the first time to identify the list, the second time to identify the element\n",
    "\n",
    "df_retail.select(\n",
    "    'weekly_sales',\n",
    "    filtered_sales = pl.col('weekly_sales').list.eval(pl.element().filter(pl.element()>= 2500))\n",
    ")"
   ]
  },
  {
   "cell_type": "markdown",
   "metadata": {},
   "source": [
    "#### String operations"
   ]
  },
  {
   "cell_type": "code",
   "execution_count": 155,
   "metadata": {},
   "outputs": [
    {
     "data": {
      "text/html": [
       "<div><style>\n",
       ".dataframe > thead > tr > th,\n",
       ".dataframe > tbody > tr > td {\n",
       "  text-align: right;\n",
       "}\n",
       "</style>\n",
       "<small>shape: (5, 6)</small><table border=\"1\" class=\"dataframe\"><thead><tr><th>customer_id</th><th>email</th><th>feedback</th><th>product_id</th><th>order_date</th><th>transaction_details</th></tr><tr><td>str</td><td>str</td><td>str</td><td>str</td><td>str</td><td>str</td></tr></thead><tbody><tr><td>&quot;C001&quot;</td><td>&quot;john.doe@example.com&quot;</td><td>&quot;The PRODUCT-X1 is AMAZING. I love it.&quot;</td><td>&quot;P001&quot;</td><td>&quot;2023-06-01&quot;</td><td>&quot;{&quot;price&quot;: 200.0, &quot;shipping&quot;: {&quot;type&quot;: &quot;express&quot;, …</td></tr><tr><td>&quot;C002&quot;</td><td>&quot;sarah.connor@shopnow.com&quot;</td><td>&quot;Didn&#x27;t like product-x2, poor quality. Product-x1 …</td><td>&quot;P002&quot;</td><td>&quot;2023-06-02&quot;</td><td>&quot;{&quot;price&quot;: 150.0, &quot;shipping&quot;: {&quot;type&quot;: &quot;standard&quot;,…</td></tr><tr><td>&quot;C003&quot;</td><td>&quot;jack.sparrow@onlineshopping.net&quot;</td><td>&quot;The product-x1 is fantastic. Super happy with it.…</td><td>&quot;P001&quot;</td><td>&quot;2023-06-03&quot;</td><td>&quot;{&quot;price&quot;: 200.0, &quot;shipping&quot;: {&quot;type&quot;: &quot;express&quot;, …</td></tr><tr><td>&quot;C004&quot;</td><td>&quot;harry.potter@buyonline.org&quot;</td><td>&quot;The service was bad. Not happy with PRODUCT-M1. J…</td><td>&quot;M001&quot;</td><td>&quot;2023-06-04&quot;</td><td>&quot;{&quot;price&quot;: 250.0, &quot;shipping&quot;: {&quot;type&quot;: &quot;standard&quot;,…</td></tr><tr><td>&quot;C005&quot;</td><td>&quot;lisa.simpson@webshop.com&quot;</td><td>&quot;Love PRODUCT-X1, worth every penny!&quot;</td><td>&quot;P001&quot;</td><td>&quot;2023-06-05&quot;</td><td>&quot;{&quot;price&quot;: 200.0, &quot;shipping&quot;: {&quot;type&quot;: &quot;express&quot;, …</td></tr></tbody></table></div>"
      ],
      "text/plain": [
       "shape: (5, 6)\n",
       "┌─────────────┬───────────────────┬───────────────────┬────────────┬────────────┬──────────────────┐\n",
       "│ customer_id ┆ email             ┆ feedback          ┆ product_id ┆ order_date ┆ transaction_deta │\n",
       "│ ---         ┆ ---               ┆ ---               ┆ ---        ┆ ---        ┆ ils              │\n",
       "│ str         ┆ str               ┆ str               ┆ str        ┆ str        ┆ ---              │\n",
       "│             ┆                   ┆                   ┆            ┆            ┆ str              │\n",
       "╞═════════════╪═══════════════════╪═══════════════════╪════════════╪════════════╪══════════════════╡\n",
       "│ C001        ┆ john.doe@example. ┆ The PRODUCT-X1 is ┆ P001       ┆ 2023-06-01 ┆ {\"price\": 200.0, │\n",
       "│             ┆ com               ┆ AMAZING. I love   ┆            ┆            ┆ \"shipping\":      │\n",
       "│             ┆                   ┆ it.               ┆            ┆            ┆ {\"type\":         │\n",
       "│             ┆                   ┆                   ┆            ┆            ┆ \"express\", \"…    │\n",
       "│ C002        ┆ sarah.connor@shop ┆ Didn't like       ┆ P002       ┆ 2023-06-02 ┆ {\"price\": 150.0, │\n",
       "│             ┆ now.com           ┆ product-x2, poor  ┆            ┆            ┆ \"shipping\":      │\n",
       "│             ┆                   ┆ quality.          ┆            ┆            ┆ {\"type\":         │\n",
       "│             ┆                   ┆ Product-x1 i…     ┆            ┆            ┆ \"standard\", …    │\n",
       "│ C003        ┆ jack.sparrow@onli ┆ The product-x1 is ┆ P001       ┆ 2023-06-03 ┆ {\"price\": 200.0, │\n",
       "│             ┆ neshopping.net    ┆ fantastic. Super  ┆            ┆            ┆ \"shipping\":      │\n",
       "│             ┆                   ┆ happy with it.    ┆            ┆            ┆ {\"type\":         │\n",
       "│             ┆                   ┆                   ┆            ┆            ┆ \"express\", \"…    │\n",
       "│ C004        ┆ harry.potter@buyo ┆ The service was   ┆ M001       ┆ 2023-06-04 ┆ {\"price\": 250.0, │\n",
       "│             ┆ nline.org         ┆ bad. Not happy    ┆            ┆            ┆ \"shipping\":      │\n",
       "│             ┆                   ┆ with PRODUCT-M1.  ┆            ┆            ┆ {\"type\":         │\n",
       "│             ┆                   ┆ Ju…               ┆            ┆            ┆ \"standard\", …    │\n",
       "│ C005        ┆ lisa.simpson@webs ┆ Love PRODUCT-X1,  ┆ P001       ┆ 2023-06-05 ┆ {\"price\": 200.0, │\n",
       "│             ┆ hop.com           ┆ worth every       ┆            ┆            ┆ \"shipping\":      │\n",
       "│             ┆                   ┆ penny!            ┆            ┆            ┆ {\"type\":         │\n",
       "│             ┆                   ┆                   ┆            ┆            ┆ \"express\", \"…    │\n",
       "└─────────────┴───────────────────┴───────────────────┴────────────┴────────────┴──────────────────┘"
      ]
     },
     "execution_count": 155,
     "metadata": {},
     "output_type": "execute_result"
    }
   ],
   "source": [
    "# Data\n",
    "data = {\n",
    "    \"customer_id\": [\"C001\", \"C002\", \"C003\", \"C004\", \"C005\"],\n",
    "    \"email\": [\"john.doe@example.com\", \"sarah.connor@shopnow.com\", \"jack.sparrow@onlineshopping.net\", \"harry.potter@buyonline.org\", \"lisa.simpson@webshop.com\"],\n",
    "    \"feedback\": [\n",
    "        \"The PRODUCT-X1 is AMAZING. I love it.\",\n",
    "        \"Didn't like product-x2, poor quality. Product-x1 is better.\",\n",
    "        \"The product-x1 is fantastic. Super happy with it.\",\n",
    "        \"The service was bad. Not happy with PRODUCT-M1. Just as bad as PRODUCT-M2.\",\n",
    "        \"Love PRODUCT-X1, worth every penny!\",\n",
    "    ],\n",
    "    \"product_id\": [\"P001\", \"P002\", \"P001\", \"M001\", \"P001\"],\n",
    "    \"order_date\": [\"2023-06-01\", \"2023-06-02\", \"2023-06-03\", \"2023-06-04\", \"2023-06-05\"],\n",
    "    \"transaction_details\": ['{\"price\": 200.0, \"shipping\": {\"type\": \"express\", \"cost\": 20.0}}',\n",
    "        '{\"price\": 150.0, \"shipping\": {\"type\": \"standard\", \"cost\": 10.0}}',\n",
    "        '{\"price\": 200.0, \"shipping\": {\"type\": \"express\", \"cost\": 20.0}}',\n",
    "        '{\"price\": 250.0, \"shipping\": {\"type\": \"standard\", \"cost\": 10.0}}',\n",
    "        '{\"price\": 200.0, \"shipping\": {\"type\": \"express\", \"cost\": 20.0}}'],\n",
    "}\n",
    "\n",
    "# Create DataFrame\n",
    "df_feedback = pl.DataFrame(data)\n",
    "\n",
    "df_feedback"
   ]
  },
  {
   "cell_type": "code",
   "execution_count": 156,
   "metadata": {},
   "outputs": [
    {
     "data": {
      "text/html": [
       "<div><style>\n",
       ".dataframe > thead > tr > th,\n",
       ".dataframe > tbody > tr > td {\n",
       "  text-align: right;\n",
       "}\n",
       "</style>\n",
       "<small>shape: (5, 1)</small><table border=\"1\" class=\"dataframe\"><thead><tr><th>feedback</th></tr><tr><td>str</td></tr></thead><tbody><tr><td>&quot;the product-x1 is amazing. i love it.&quot;</td></tr><tr><td>&quot;didn&#x27;t like product-x2, poor quality. product-x1 …</td></tr><tr><td>&quot;the product-x1 is fantastic. super happy with it.…</td></tr><tr><td>&quot;the service was bad. not happy with product-m1. j…</td></tr><tr><td>&quot;love product-x1, worth every penny!&quot;</td></tr></tbody></table></div>"
      ],
      "text/plain": [
       "shape: (5, 1)\n",
       "┌─────────────────────────────────────────────────────┐\n",
       "│ feedback                                            │\n",
       "│ ---                                                 │\n",
       "│ str                                                 │\n",
       "╞═════════════════════════════════════════════════════╡\n",
       "│ the product-x1 is amazing. i love it.               │\n",
       "│ didn't like product-x2, poor quality. product-x1 i… │\n",
       "│ the product-x1 is fantastic. super happy with it.   │\n",
       "│ the service was bad. not happy with product-m1. ju… │\n",
       "│ love product-x1, worth every penny!                 │\n",
       "└─────────────────────────────────────────────────────┘"
      ]
     },
     "execution_count": 156,
     "metadata": {},
     "output_type": "execute_result"
    }
   ],
   "source": [
    "# to lowercase\n",
    "\n",
    "df_feedback.select(\n",
    "    pl.col('feedback').str.to_lowercase(),\n",
    ")"
   ]
  },
  {
   "cell_type": "code",
   "execution_count": 157,
   "metadata": {},
   "outputs": [
    {
     "data": {
      "text/html": [
       "<div><style>\n",
       ".dataframe > thead > tr > th,\n",
       ".dataframe > tbody > tr > td {\n",
       "  text-align: right;\n",
       "}\n",
       "</style>\n",
       "<small>shape: (2, 6)</small><table border=\"1\" class=\"dataframe\"><thead><tr><th>customer_id</th><th>email</th><th>feedback</th><th>product_id</th><th>order_date</th><th>transaction_details</th></tr><tr><td>str</td><td>str</td><td>str</td><td>str</td><td>str</td><td>str</td></tr></thead><tbody><tr><td>&quot;C002&quot;</td><td>&quot;sarah.connor@shopnow.com&quot;</td><td>&quot;Didn&#x27;t like product-x2, poor quality. Product-x1 …</td><td>&quot;P002&quot;</td><td>&quot;2023-06-02&quot;</td><td>&quot;{&quot;price&quot;: 150.0, &quot;shipping&quot;: {&quot;type&quot;: &quot;standard&quot;,…</td></tr><tr><td>&quot;C004&quot;</td><td>&quot;harry.potter@buyonline.org&quot;</td><td>&quot;The service was bad. Not happy with PRODUCT-M1. J…</td><td>&quot;M001&quot;</td><td>&quot;2023-06-04&quot;</td><td>&quot;{&quot;price&quot;: 250.0, &quot;shipping&quot;: {&quot;type&quot;: &quot;standard&quot;,…</td></tr></tbody></table></div>"
      ],
      "text/plain": [
       "shape: (2, 6)\n",
       "┌─────────────┬───────────────────┬───────────────────┬────────────┬────────────┬──────────────────┐\n",
       "│ customer_id ┆ email             ┆ feedback          ┆ product_id ┆ order_date ┆ transaction_deta │\n",
       "│ ---         ┆ ---               ┆ ---               ┆ ---        ┆ ---        ┆ ils              │\n",
       "│ str         ┆ str               ┆ str               ┆ str        ┆ str        ┆ ---              │\n",
       "│             ┆                   ┆                   ┆            ┆            ┆ str              │\n",
       "╞═════════════╪═══════════════════╪═══════════════════╪════════════╪════════════╪══════════════════╡\n",
       "│ C002        ┆ sarah.connor@shop ┆ Didn't like       ┆ P002       ┆ 2023-06-02 ┆ {\"price\": 150.0, │\n",
       "│             ┆ now.com           ┆ product-x2, poor  ┆            ┆            ┆ \"shipping\":      │\n",
       "│             ┆                   ┆ quality.          ┆            ┆            ┆ {\"type\":         │\n",
       "│             ┆                   ┆ Product-x1 i…     ┆            ┆            ┆ \"standard\", …    │\n",
       "│ C004        ┆ harry.potter@buyo ┆ The service was   ┆ M001       ┆ 2023-06-04 ┆ {\"price\": 250.0, │\n",
       "│             ┆ nline.org         ┆ bad. Not happy    ┆            ┆            ┆ \"shipping\":      │\n",
       "│             ┆                   ┆ with PRODUCT-M1.  ┆            ┆            ┆ {\"type\":         │\n",
       "│             ┆                   ┆ Ju…               ┆            ┆            ┆ \"standard\", …    │\n",
       "└─────────────┴───────────────────┴───────────────────┴────────────┴────────────┴──────────────────┘"
      ]
     },
     "execution_count": 157,
     "metadata": {},
     "output_type": "execute_result"
    }
   ],
   "source": [
    "# filter for rows containing 'service' or 'quality'\n",
    "\n",
    "df_feedback.filter(\n",
    "    pl.col('feedback').str.contains('service|quality')\n",
    ")"
   ]
  },
  {
   "cell_type": "code",
   "execution_count": 158,
   "metadata": {},
   "outputs": [
    {
     "data": {
      "text/html": [
       "<div><style>\n",
       ".dataframe > thead > tr > th,\n",
       ".dataframe > tbody > tr > td {\n",
       "  text-align: right;\n",
       "}\n",
       "</style>\n",
       "<small>shape: (1, 6)</small><table border=\"1\" class=\"dataframe\"><thead><tr><th>customer_id</th><th>email</th><th>feedback</th><th>product_id</th><th>order_date</th><th>transaction_details</th></tr><tr><td>str</td><td>str</td><td>str</td><td>str</td><td>str</td><td>str</td></tr></thead><tbody><tr><td>&quot;C004&quot;</td><td>&quot;harry.potter@buyonline.org&quot;</td><td>&quot;The service was bad. Not happy with PRODUCT-M1. J…</td><td>&quot;M001&quot;</td><td>&quot;2023-06-04&quot;</td><td>&quot;{&quot;price&quot;: 250.0, &quot;shipping&quot;: {&quot;type&quot;: &quot;standard&quot;,…</td></tr></tbody></table></div>"
      ],
      "text/plain": [
       "shape: (1, 6)\n",
       "┌─────────────┬───────────────────┬───────────────────┬────────────┬────────────┬──────────────────┐\n",
       "│ customer_id ┆ email             ┆ feedback          ┆ product_id ┆ order_date ┆ transaction_deta │\n",
       "│ ---         ┆ ---               ┆ ---               ┆ ---        ┆ ---        ┆ ils              │\n",
       "│ str         ┆ str               ┆ str               ┆ str        ┆ str        ┆ ---              │\n",
       "│             ┆                   ┆                   ┆            ┆            ┆ str              │\n",
       "╞═════════════╪═══════════════════╪═══════════════════╪════════════╪════════════╪══════════════════╡\n",
       "│ C004        ┆ harry.potter@buyo ┆ The service was   ┆ M001       ┆ 2023-06-04 ┆ {\"price\": 250.0, │\n",
       "│             ┆ nline.org         ┆ bad. Not happy    ┆            ┆            ┆ \"shipping\":      │\n",
       "│             ┆                   ┆ with PRODUCT-M1.  ┆            ┆            ┆ {\"type\":         │\n",
       "│             ┆                   ┆ Ju…               ┆            ┆            ┆ \"standard\", …    │\n",
       "└─────────────┴───────────────────┴───────────────────┴────────────┴────────────┴──────────────────┘"
      ]
     },
     "execution_count": 158,
     "metadata": {},
     "output_type": "execute_result"
    }
   ],
   "source": [
    "# filter for products starting with 'M'\n",
    "\n",
    "df_feedback.filter(\n",
    "    pl.col('product_id').str.starts_with('M')\n",
    ")"
   ]
  },
  {
   "cell_type": "code",
   "execution_count": 159,
   "metadata": {},
   "outputs": [
    {
     "data": {
      "text/html": [
       "<div><style>\n",
       ".dataframe > thead > tr > th,\n",
       ".dataframe > tbody > tr > td {\n",
       "  text-align: right;\n",
       "}\n",
       "</style>\n",
       "<small>shape: (5, 1)</small><table border=\"1\" class=\"dataframe\"><thead><tr><th>products_mentioned</th></tr><tr><td>list[str]</td></tr></thead><tbody><tr><td>[&quot;PRODUCT-X1&quot;]</td></tr><tr><td>[&quot;product-x2&quot;, &quot;Product-x1&quot;]</td></tr><tr><td>[&quot;product-x1&quot;]</td></tr><tr><td>[&quot;PRODUCT-M1&quot;, &quot;PRODUCT-M2&quot;]</td></tr><tr><td>[&quot;PRODUCT-X1&quot;]</td></tr></tbody></table></div>"
      ],
      "text/plain": [
       "shape: (5, 1)\n",
       "┌──────────────────────────────┐\n",
       "│ products_mentioned           │\n",
       "│ ---                          │\n",
       "│ list[str]                    │\n",
       "╞══════════════════════════════╡\n",
       "│ [\"PRODUCT-X1\"]               │\n",
       "│ [\"product-x2\", \"Product-x1\"] │\n",
       "│ [\"product-x1\"]               │\n",
       "│ [\"PRODUCT-M1\", \"PRODUCT-M2\"] │\n",
       "│ [\"PRODUCT-X1\"]               │\n",
       "└──────────────────────────────┘"
      ]
     },
     "execution_count": 159,
     "metadata": {},
     "output_type": "execute_result"
    }
   ],
   "source": [
    "# Extract product names from the feedback column using Regex\n",
    "\n",
    "df_feedback.select(\n",
    "    products_mentioned = pl.col('feedback').str.extract_all(r\"(?i)(product[-][\\w\\d]+)\")\n",
    ")"
   ]
  },
  {
   "cell_type": "code",
   "execution_count": 160,
   "metadata": {},
   "outputs": [
    {
     "data": {
      "text/html": [
       "<div><style>\n",
       ".dataframe > thead > tr > th,\n",
       ".dataframe > tbody > tr > td {\n",
       "  text-align: right;\n",
       "}\n",
       "</style>\n",
       "<small>shape: (5, 1)</small><table border=\"1\" class=\"dataframe\"><thead><tr><th>products_mentioned</th></tr><tr><td>list[str]</td></tr></thead><tbody><tr><td>[&quot;product-x1&quot;]</td></tr><tr><td>[&quot;product-x2&quot;, &quot;product-x1&quot;]</td></tr><tr><td>[&quot;product-x1&quot;]</td></tr><tr><td>[&quot;product-m1&quot;, &quot;product-m2&quot;]</td></tr><tr><td>[&quot;product-x1&quot;]</td></tr></tbody></table></div>"
      ],
      "text/plain": [
       "shape: (5, 1)\n",
       "┌──────────────────────────────┐\n",
       "│ products_mentioned           │\n",
       "│ ---                          │\n",
       "│ list[str]                    │\n",
       "╞══════════════════════════════╡\n",
       "│ [\"product-x1\"]               │\n",
       "│ [\"product-x2\", \"product-x1\"] │\n",
       "│ [\"product-x1\"]               │\n",
       "│ [\"product-m1\", \"product-m2\"] │\n",
       "│ [\"product-x1\"]               │\n",
       "└──────────────────────────────┘"
      ]
     },
     "execution_count": 160,
     "metadata": {},
     "output_type": "execute_result"
    }
   ],
   "source": [
    "# Extract product names from the feedback columns and convert to lowercase\n",
    "\n",
    "df_feedback.select(\n",
    "    products_mentioned = pl.col('feedback').str.extract_all(r\"(?i)(product[-][\\w\\d]+)\").list.eval(pl.element().str.to_lowercase())\n",
    ")"
   ]
  },
  {
   "cell_type": "code",
   "execution_count": 161,
   "metadata": {},
   "outputs": [
    {
     "data": {
      "text/html": [
       "<div><style>\n",
       ".dataframe > thead > tr > th,\n",
       ".dataframe > tbody > tr > td {\n",
       "  text-align: right;\n",
       "}\n",
       "</style>\n",
       "<small>shape: (5, 1)</small><table border=\"1\" class=\"dataframe\"><thead><tr><th>email_sanitized</th></tr><tr><td>str</td></tr></thead><tbody><tr><td>&quot;jo@example.com&quot;</td></tr><tr><td>&quot;sa@shopnow.com&quot;</td></tr><tr><td>&quot;ja@onlineshopping.net&quot;</td></tr><tr><td>&quot;ha@buyonline.org&quot;</td></tr><tr><td>&quot;li@webshop.com&quot;</td></tr></tbody></table></div>"
      ],
      "text/plain": [
       "shape: (5, 1)\n",
       "┌───────────────────────┐\n",
       "│ email_sanitized       │\n",
       "│ ---                   │\n",
       "│ str                   │\n",
       "╞═══════════════════════╡\n",
       "│ jo@example.com        │\n",
       "│ sa@shopnow.com        │\n",
       "│ ja@onlineshopping.net │\n",
       "│ ha@buyonline.org      │\n",
       "│ li@webshop.com        │\n",
       "└───────────────────────┘"
      ]
     },
     "execution_count": 161,
     "metadata": {},
     "output_type": "execute_result"
    }
   ],
   "source": [
    "# keep only 2 characters to hide confidential information\n",
    "\n",
    "df_feedback.select(\n",
    "    email_sanitized = pl.col(\"email\").str.replace(r\"^(..).*(@.*)$\", r\"$1$2\")\n",
    ")"
   ]
  },
  {
   "cell_type": "code",
   "execution_count": 162,
   "metadata": {},
   "outputs": [
    {
     "data": {
      "text/html": [
       "<div><style>\n",
       ".dataframe > thead > tr > th,\n",
       ".dataframe > tbody > tr > td {\n",
       "  text-align: right;\n",
       "}\n",
       "</style>\n",
       "<small>shape: (5, 1)</small><table border=\"1\" class=\"dataframe\"><thead><tr><th>email_sanitized</th></tr><tr><td>u64</td></tr></thead><tbody><tr><td>9259825263913001176</td></tr><tr><td>17451028542328997735</td></tr><tr><td>8060747887327259745</td></tr><tr><td>11270021373210591822</td></tr><tr><td>16256934851045840297</td></tr></tbody></table></div>"
      ],
      "text/plain": [
       "shape: (5, 1)\n",
       "┌──────────────────────┐\n",
       "│ email_sanitized      │\n",
       "│ ---                  │\n",
       "│ u64                  │\n",
       "╞══════════════════════╡\n",
       "│ 9259825263913001176  │\n",
       "│ 17451028542328997735 │\n",
       "│ 8060747887327259745  │\n",
       "│ 11270021373210591822 │\n",
       "│ 16256934851045840297 │\n",
       "└──────────────────────┘"
      ]
     },
     "execution_count": 162,
     "metadata": {},
     "output_type": "execute_result"
    }
   ],
   "source": [
    "# another way to hide confidential information is to use a hash function\n",
    "# careful: hashing is vulnerable to a brute force attack so it does not guarantee confidentiality\n",
    "\n",
    "df_feedback.select(\n",
    "    email_sanitized = pl.col(\"email\").hash()\n",
    ")"
   ]
  },
  {
   "cell_type": "code",
   "execution_count": 163,
   "metadata": {},
   "outputs": [
    {
     "data": {
      "text/html": [
       "<div><style>\n",
       ".dataframe > thead > tr > th,\n",
       ".dataframe > tbody > tr > td {\n",
       "  text-align: right;\n",
       "}\n",
       "</style>\n",
       "<small>shape: (5, 2)</small><table border=\"1\" class=\"dataframe\"><thead><tr><th>username</th><th>domain</th></tr><tr><td>str</td><td>str</td></tr></thead><tbody><tr><td>&quot;john.doe&quot;</td><td>&quot;example.com&quot;</td></tr><tr><td>&quot;sarah.connor&quot;</td><td>&quot;shopnow.com&quot;</td></tr><tr><td>&quot;jack.sparrow&quot;</td><td>&quot;onlineshopping.net&quot;</td></tr><tr><td>&quot;harry.potter&quot;</td><td>&quot;buyonline.org&quot;</td></tr><tr><td>&quot;lisa.simpson&quot;</td><td>&quot;webshop.com&quot;</td></tr></tbody></table></div>"
      ],
      "text/plain": [
       "shape: (5, 2)\n",
       "┌──────────────┬────────────────────┐\n",
       "│ username     ┆ domain             │\n",
       "│ ---          ┆ ---                │\n",
       "│ str          ┆ str                │\n",
       "╞══════════════╪════════════════════╡\n",
       "│ john.doe     ┆ example.com        │\n",
       "│ sarah.connor ┆ shopnow.com        │\n",
       "│ jack.sparrow ┆ onlineshopping.net │\n",
       "│ harry.potter ┆ buyonline.org      │\n",
       "│ lisa.simpson ┆ webshop.com        │\n",
       "└──────────────┴────────────────────┘"
      ]
     },
     "execution_count": 163,
     "metadata": {},
     "output_type": "execute_result"
    }
   ],
   "source": [
    "# we can split the email between the username and the domain\n",
    "\n",
    "df_feedback.select(\n",
    "    username = pl.col(\"email\").str.split(\"@\").list.get(0),\n",
    "    domain = pl.col(\"email\").str.split(\"@\").list.get(1)\n",
    ")"
   ]
  },
  {
   "cell_type": "code",
   "execution_count": 164,
   "metadata": {},
   "outputs": [
    {
     "data": {
      "text/html": [
       "<div><style>\n",
       ".dataframe > thead > tr > th,\n",
       ".dataframe > tbody > tr > td {\n",
       "  text-align: right;\n",
       "}\n",
       "</style>\n",
       "<small>shape: (5, 1)</small><table border=\"1\" class=\"dataframe\"><thead><tr><th>transaction_details_as_struct</th></tr><tr><td>struct[2]</td></tr></thead><tbody><tr><td>{200.0,{&quot;express&quot;,20.0}}</td></tr><tr><td>{150.0,{&quot;standard&quot;,10.0}}</td></tr><tr><td>{200.0,{&quot;express&quot;,20.0}}</td></tr><tr><td>{250.0,{&quot;standard&quot;,10.0}}</td></tr><tr><td>{200.0,{&quot;express&quot;,20.0}}</td></tr></tbody></table></div>"
      ],
      "text/plain": [
       "shape: (5, 1)\n",
       "┌───────────────────────────────┐\n",
       "│ transaction_details_as_struct │\n",
       "│ ---                           │\n",
       "│ struct[2]                     │\n",
       "╞═══════════════════════════════╡\n",
       "│ {200.0,{\"express\",20.0}}      │\n",
       "│ {150.0,{\"standard\",10.0}}     │\n",
       "│ {200.0,{\"express\",20.0}}      │\n",
       "│ {250.0,{\"standard\",10.0}}     │\n",
       "│ {200.0,{\"express\",20.0}}      │\n",
       "└───────────────────────────────┘"
      ]
     },
     "execution_count": 164,
     "metadata": {},
     "output_type": "execute_result"
    }
   ],
   "source": [
    "# we can convert the transaction details column from a JSON to a struct\n",
    "\n",
    "df_feedback.select(\n",
    "    transaction_details_as_struct = pl.col(\"transaction_details\").str.json_extract()\n",
    ")"
   ]
  },
  {
   "cell_type": "code",
   "execution_count": 165,
   "metadata": {},
   "outputs": [
    {
     "data": {
      "text/html": [
       "<div><style>\n",
       ".dataframe > thead > tr > th,\n",
       ".dataframe > tbody > tr > td {\n",
       "  text-align: right;\n",
       "}\n",
       "</style>\n",
       "<small>shape: (5, 2)</small><table border=\"1\" class=\"dataframe\"><thead><tr><th>price</th><th>shipping_cost</th></tr><tr><td>f64</td><td>f64</td></tr></thead><tbody><tr><td>200.0</td><td>20.0</td></tr><tr><td>150.0</td><td>10.0</td></tr><tr><td>200.0</td><td>20.0</td></tr><tr><td>250.0</td><td>10.0</td></tr><tr><td>200.0</td><td>20.0</td></tr></tbody></table></div>"
      ],
      "text/plain": [
       "shape: (5, 2)\n",
       "┌───────┬───────────────┐\n",
       "│ price ┆ shipping_cost │\n",
       "│ ---   ┆ ---           │\n",
       "│ f64   ┆ f64           │\n",
       "╞═══════╪═══════════════╡\n",
       "│ 200.0 ┆ 20.0          │\n",
       "│ 150.0 ┆ 10.0          │\n",
       "│ 200.0 ┆ 20.0          │\n",
       "│ 250.0 ┆ 10.0          │\n",
       "│ 200.0 ┆ 20.0          │\n",
       "└───────┴───────────────┘"
      ]
     },
     "execution_count": 165,
     "metadata": {},
     "output_type": "execute_result"
    }
   ],
   "source": [
    "# once the column is converted, we can access the price and shipping cost\n",
    "\n",
    "df_feedback.select(\n",
    "    transaction_details_as_struct = pl.col(\"transaction_details\").str.json_extract()\n",
    ").select(\n",
    "    price = pl.col(\"transaction_details_as_struct\").struct.field(\"price\"),\n",
    "    shipping_cost = pl.col(\"transaction_details_as_struct\").struct.field(\"shipping\").struct.field(\"cost\")\n",
    ")"
   ]
  },
  {
   "cell_type": "markdown",
   "metadata": {},
   "source": [
    "#### Time operations"
   ]
  },
  {
   "cell_type": "code",
   "execution_count": 166,
   "metadata": {},
   "outputs": [],
   "source": [
    "nypd = pl.read_parquet('../datasets/nypd_crimes_from_2018.parquet')"
   ]
  },
  {
   "cell_type": "code",
   "execution_count": 167,
   "metadata": {},
   "outputs": [
    {
     "data": {
      "text/html": [
       "<div><style>\n",
       ".dataframe > thead > tr > th,\n",
       ".dataframe > tbody > tr > td {\n",
       "  text-align: right;\n",
       "}\n",
       "</style>\n",
       "<small>shape: (5, 9)</small><table border=\"1\" class=\"dataframe\"><thead><tr><th>complaint_datetime</th><th>complaint_id</th><th>precinct</th><th>borough</th><th>crime_category</th><th>crime_description</th><th>victim_age_group</th><th>victim_race</th><th>victim_sex</th></tr><tr><td>str</td><td>str</td><td>i64</td><td>str</td><td>str</td><td>str</td><td>str</td><td>str</td><td>str</td></tr></thead><tbody><tr><td>&quot;2019-09-04 09:00:00&quot;</td><td>&quot;469069650&quot;</td><td>9</td><td>&quot;MANHATTAN&quot;</td><td>&quot;MISDEMEANOR&quot;</td><td>&quot;LARCENY,PETIT FROM AUTO&quot;</td><td>&quot;25-44&quot;</td><td>&quot;BLACK&quot;</td><td>&quot;F&quot;</td></tr><tr><td>&quot;2019-08-31 18:58:00&quot;</td><td>&quot;629841380&quot;</td><td>50</td><td>&quot;BRONX&quot;</td><td>&quot;MISDEMEANOR&quot;</td><td>&quot;LARCENY,PETIT OF BICYCLE&quot;</td><td>&quot;45-64&quot;</td><td>&quot;UNKNOWN&quot;</td><td>&quot;M&quot;</td></tr><tr><td>&quot;2019-09-07 22:00:00&quot;</td><td>&quot;224389328&quot;</td><td>19</td><td>&quot;MANHATTAN&quot;</td><td>&quot;MISDEMEANOR&quot;</td><td>&quot;LARCENY,PETIT FROM STORE-SHOPL&quot;</td><td>&quot;UNKNOWN&quot;</td><td>&quot;UNKNOWN&quot;</td><td>&quot;D&quot;</td></tr><tr><td>&quot;2019-08-31 18:00:00&quot;</td><td>&quot;211921838&quot;</td><td>71</td><td>&quot;BROOKLYN&quot;</td><td>&quot;MISDEMEANOR&quot;</td><td>&quot;LARCENY,PETIT FROM AUTO&quot;</td><td>&quot;45-64&quot;</td><td>&quot;BLACK&quot;</td><td>&quot;F&quot;</td></tr><tr><td>&quot;2019-09-07 13:00:00&quot;</td><td>&quot;381754893&quot;</td><td>62</td><td>&quot;BROOKLYN&quot;</td><td>&quot;MISDEMEANOR&quot;</td><td>&quot;CRIMINAL MISCHIEF 4TH, GRAFFIT&quot;</td><td>&quot;UNKNOWN&quot;</td><td>&quot;UNKNOWN&quot;</td><td>&quot;E&quot;</td></tr></tbody></table></div>"
      ],
      "text/plain": [
       "shape: (5, 9)\n",
       "┌────────────┬────────────┬──────────┬───────────┬───┬────────────┬────────────┬───────────┬──────────┐\n",
       "│ complaint_ ┆ complaint_ ┆ precinct ┆ borough   ┆ … ┆ crime_desc ┆ victim_age ┆ victim_ra ┆ victim_s │\n",
       "│ datetime   ┆ id         ┆ ---      ┆ ---       ┆   ┆ ription    ┆ _group     ┆ ce        ┆ ex       │\n",
       "│ ---        ┆ ---        ┆ i64      ┆ str       ┆   ┆ ---        ┆ ---        ┆ ---       ┆ ---      │\n",
       "│ str        ┆ str        ┆          ┆           ┆   ┆ str        ┆ str        ┆ str       ┆ str      │\n",
       "╞════════════╪════════════╪══════════╪═══════════╪═══╪════════════╪════════════╪═══════════╪══════════╡\n",
       "│ 2019-09-04 ┆ 469069650  ┆ 9        ┆ MANHATTAN ┆ … ┆ LARCENY,PE ┆ 25-44      ┆ BLACK     ┆ F        │\n",
       "│ 09:00:00   ┆            ┆          ┆           ┆   ┆ TIT FROM   ┆            ┆           ┆          │\n",
       "│            ┆            ┆          ┆           ┆   ┆ AUTO       ┆            ┆           ┆          │\n",
       "│ 2019-08-31 ┆ 629841380  ┆ 50       ┆ BRONX     ┆ … ┆ LARCENY,PE ┆ 45-64      ┆ UNKNOWN   ┆ M        │\n",
       "│ 18:58:00   ┆            ┆          ┆           ┆   ┆ TIT OF     ┆            ┆           ┆          │\n",
       "│            ┆            ┆          ┆           ┆   ┆ BICYCLE    ┆            ┆           ┆          │\n",
       "│ 2019-09-07 ┆ 224389328  ┆ 19       ┆ MANHATTAN ┆ … ┆ LARCENY,PE ┆ UNKNOWN    ┆ UNKNOWN   ┆ D        │\n",
       "│ 22:00:00   ┆            ┆          ┆           ┆   ┆ TIT FROM   ┆            ┆           ┆          │\n",
       "│            ┆            ┆          ┆           ┆   ┆ STORE-SHOP ┆            ┆           ┆          │\n",
       "│            ┆            ┆          ┆           ┆   ┆ L          ┆            ┆           ┆          │\n",
       "│ 2019-08-31 ┆ 211921838  ┆ 71       ┆ BROOKLYN  ┆ … ┆ LARCENY,PE ┆ 45-64      ┆ BLACK     ┆ F        │\n",
       "│ 18:00:00   ┆            ┆          ┆           ┆   ┆ TIT FROM   ┆            ┆           ┆          │\n",
       "│            ┆            ┆          ┆           ┆   ┆ AUTO       ┆            ┆           ┆          │\n",
       "│ 2019-09-07 ┆ 381754893  ┆ 62       ┆ BROOKLYN  ┆ … ┆ CRIMINAL   ┆ UNKNOWN    ┆ UNKNOWN   ┆ E        │\n",
       "│ 13:00:00   ┆            ┆          ┆           ┆   ┆ MISCHIEF   ┆            ┆           ┆          │\n",
       "│            ┆            ┆          ┆           ┆   ┆ 4TH,       ┆            ┆           ┆          │\n",
       "│            ┆            ┆          ┆           ┆   ┆ GRAFFIT    ┆            ┆           ┆          │\n",
       "└────────────┴────────────┴──────────┴───────────┴───┴────────────┴────────────┴───────────┴──────────┘"
      ]
     },
     "execution_count": 167,
     "metadata": {},
     "output_type": "execute_result"
    }
   ],
   "source": [
    "nypd.head(5)"
   ]
  },
  {
   "cell_type": "code",
   "execution_count": 168,
   "metadata": {},
   "outputs": [],
   "source": [
    "# We parse the datetime column to a datetime type\n",
    "\n",
    "nypd = nypd.with_columns(\n",
    "    pl.col('complaint_datetime').str.to_datetime(\"%Y-%m-%d %H:%M:%S\")\n",
    ")"
   ]
  },
  {
   "cell_type": "code",
   "execution_count": 169,
   "metadata": {},
   "outputs": [
    {
     "data": {
      "text/html": [
       "<div><style>\n",
       ".dataframe > thead > tr > th,\n",
       ".dataframe > tbody > tr > td {\n",
       "  text-align: right;\n",
       "}\n",
       "</style>\n",
       "<small>shape: (5, 9)</small><table border=\"1\" class=\"dataframe\"><thead><tr><th>complaint_datetime</th><th>complaint_id</th><th>precinct</th><th>borough</th><th>crime_category</th><th>crime_description</th><th>victim_age_group</th><th>victim_race</th><th>victim_sex</th></tr><tr><td>datetime[μs]</td><td>str</td><td>i64</td><td>str</td><td>str</td><td>str</td><td>str</td><td>str</td><td>str</td></tr></thead><tbody><tr><td>2020-06-05 20:20:00</td><td>&quot;314830920&quot;</td><td>75</td><td>null</td><td>&quot;FELONY&quot;</td><td>null</td><td>&quot;25-44&quot;</td><td>&quot;BLACK&quot;</td><td>&quot;M&quot;</td></tr><tr><td>2021-05-17 10:00:00</td><td>&quot;473765131&quot;</td><td>46</td><td>&quot;BRONX&quot;</td><td>&quot;MISDEMEANOR&quot;</td><td>&quot;PETIT LARCENY-CHECK FROM MAILB&quot;</td><td>&quot;45-64&quot;</td><td>&quot;WHITE HISPANIC&quot;</td><td>&quot;F&quot;</td></tr><tr><td>2021-05-29 23:10:00</td><td>&quot;251337835&quot;</td><td>63</td><td>&quot;BROOKLYN&quot;</td><td>&quot;MISDEMEANOR&quot;</td><td>&quot;FORGERY,ETC.-MISD.&quot;</td><td>&quot;UNKNOWN&quot;</td><td>&quot;UNKNOWN&quot;</td><td>&quot;E&quot;</td></tr><tr><td>2021-06-08 21:00:00</td><td>&quot;894959678&quot;</td><td>105</td><td>&quot;QUEENS&quot;</td><td>&quot;MISDEMEANOR&quot;</td><td>&quot;LARCENY,PETIT FROM AUTO&quot;</td><td>&quot;25-44&quot;</td><td>&quot;BLACK&quot;</td><td>&quot;F&quot;</td></tr><tr><td>2021-12-16 21:00:00</td><td>&quot;756737433&quot;</td><td>42</td><td>&quot;BRONX&quot;</td><td>&quot;MISDEMEANOR&quot;</td><td>&quot;ASSAULT 3&quot;</td><td>&quot;45-64&quot;</td><td>&quot;BLACK HISPANIC&quot;</td><td>&quot;M&quot;</td></tr></tbody></table></div>"
      ],
      "text/plain": [
       "shape: (5, 9)\n",
       "┌────────────┬────────────┬──────────┬──────────┬───┬────────────┬────────────┬───────────┬──────────┐\n",
       "│ complaint_ ┆ complaint_ ┆ precinct ┆ borough  ┆ … ┆ crime_desc ┆ victim_age ┆ victim_ra ┆ victim_s │\n",
       "│ datetime   ┆ id         ┆ ---      ┆ ---      ┆   ┆ ription    ┆ _group     ┆ ce        ┆ ex       │\n",
       "│ ---        ┆ ---        ┆ i64      ┆ str      ┆   ┆ ---        ┆ ---        ┆ ---       ┆ ---      │\n",
       "│ datetime[μ ┆ str        ┆          ┆          ┆   ┆ str        ┆ str        ┆ str       ┆ str      │\n",
       "│ s]         ┆            ┆          ┆          ┆   ┆            ┆            ┆           ┆          │\n",
       "╞════════════╪════════════╪══════════╪══════════╪═══╪════════════╪════════════╪═══════════╪══════════╡\n",
       "│ 2020-06-05 ┆ 314830920  ┆ 75       ┆ null     ┆ … ┆ null       ┆ 25-44      ┆ BLACK     ┆ M        │\n",
       "│ 20:20:00   ┆            ┆          ┆          ┆   ┆            ┆            ┆           ┆          │\n",
       "│ 2021-05-17 ┆ 473765131  ┆ 46       ┆ BRONX    ┆ … ┆ PETIT LARC ┆ 45-64      ┆ WHITE     ┆ F        │\n",
       "│ 10:00:00   ┆            ┆          ┆          ┆   ┆ ENY-CHECK  ┆            ┆ HISPANIC  ┆          │\n",
       "│            ┆            ┆          ┆          ┆   ┆ FROM MAILB ┆            ┆           ┆          │\n",
       "│ 2021-05-29 ┆ 251337835  ┆ 63       ┆ BROOKLYN ┆ … ┆ FORGERY,ET ┆ UNKNOWN    ┆ UNKNOWN   ┆ E        │\n",
       "│ 23:10:00   ┆            ┆          ┆          ┆   ┆ C.-MISD.   ┆            ┆           ┆          │\n",
       "│ 2021-06-08 ┆ 894959678  ┆ 105      ┆ QUEENS   ┆ … ┆ LARCENY,PE ┆ 25-44      ┆ BLACK     ┆ F        │\n",
       "│ 21:00:00   ┆            ┆          ┆          ┆   ┆ TIT FROM   ┆            ┆           ┆          │\n",
       "│            ┆            ┆          ┆          ┆   ┆ AUTO       ┆            ┆           ┆          │\n",
       "│ 2021-12-16 ┆ 756737433  ┆ 42       ┆ BRONX    ┆ … ┆ ASSAULT 3  ┆ 45-64      ┆ BLACK     ┆ M        │\n",
       "│ 21:00:00   ┆            ┆          ┆          ┆   ┆            ┆            ┆ HISPANIC  ┆          │\n",
       "└────────────┴────────────┴──────────┴──────────┴───┴────────────┴────────────┴───────────┴──────────┘"
      ]
     },
     "execution_count": 169,
     "metadata": {},
     "output_type": "execute_result"
    }
   ],
   "source": [
    "# We can filter for specific dates with the datetime Python package\n",
    "\n",
    "from datetime import datetime\n",
    "\n",
    "nypd.filter(\n",
    "    pl.col('complaint_datetime') > datetime(2020, 1, 1)\n",
    ").head(5)"
   ]
  },
  {
   "cell_type": "code",
   "execution_count": 170,
   "metadata": {},
   "outputs": [
    {
     "data": {
      "text/html": [
       "<div><style>\n",
       ".dataframe > thead > tr > th,\n",
       ".dataframe > tbody > tr > td {\n",
       "  text-align: right;\n",
       "}\n",
       "</style>\n",
       "<small>shape: (5, 9)</small><table border=\"1\" class=\"dataframe\"><thead><tr><th>complaint_datetime</th><th>complaint_id</th><th>precinct</th><th>borough</th><th>crime_category</th><th>crime_description</th><th>victim_age_group</th><th>victim_race</th><th>victim_sex</th></tr><tr><td>datetime[μs]</td><td>str</td><td>i64</td><td>str</td><td>str</td><td>str</td><td>str</td><td>str</td><td>str</td></tr></thead><tbody><tr><td>2020-01-02 14:45:00</td><td>&quot;591348983&quot;</td><td>18</td><td>&quot;MANHATTAN&quot;</td><td>&quot;FELONY&quot;</td><td>&quot;ROBBERY,OPEN AREA UNCLASSIFIED&quot;</td><td>&quot;18-24&quot;</td><td>&quot;WHITE&quot;</td><td>&quot;M&quot;</td></tr><tr><td>2020-01-03 15:33:00</td><td>&quot;211105656&quot;</td><td>44</td><td>&quot;BRONX&quot;</td><td>&quot;MISDEMEANOR&quot;</td><td>&quot;LARCENY,PETIT BY CREDIT CARD U&quot;</td><td>&quot;18-24&quot;</td><td>&quot;BLACK&quot;</td><td>&quot;F&quot;</td></tr><tr><td>2020-01-07 11:20:00</td><td>&quot;364136331&quot;</td><td>71</td><td>&quot;BROOKLYN&quot;</td><td>&quot;VIOLATION&quot;</td><td>&quot;HARASSMENT,SUBD 3,4,5&quot;</td><td>&quot;25-44&quot;</td><td>&quot;WHITE&quot;</td><td>&quot;F&quot;</td></tr><tr><td>2020-01-02 17:28:00</td><td>&quot;587143439&quot;</td><td>42</td><td>&quot;BRONX&quot;</td><td>&quot;FELONY&quot;</td><td>&quot;CONTROLLED SUBSTANCE,INTENT TO&quot;</td><td>&quot;UNKNOWN&quot;</td><td>&quot;UNKNOWN&quot;</td><td>&quot;E&quot;</td></tr><tr><td>2020-01-03 06:55:00</td><td>&quot;669190911&quot;</td><td>50</td><td>&quot;BRONX&quot;</td><td>&quot;MISDEMEANOR&quot;</td><td>&quot;LEAVING SCENE-ACCIDENT-PERSONA&quot;</td><td>&quot;65+&quot;</td><td>&quot;WHITE HISPANIC&quot;</td><td>&quot;M&quot;</td></tr></tbody></table></div>"
      ],
      "text/plain": [
       "shape: (5, 9)\n",
       "┌────────────┬────────────┬──────────┬───────────┬───┬────────────┬────────────┬───────────┬──────────┐\n",
       "│ complaint_ ┆ complaint_ ┆ precinct ┆ borough   ┆ … ┆ crime_desc ┆ victim_age ┆ victim_ra ┆ victim_s │\n",
       "│ datetime   ┆ id         ┆ ---      ┆ ---       ┆   ┆ ription    ┆ _group     ┆ ce        ┆ ex       │\n",
       "│ ---        ┆ ---        ┆ i64      ┆ str       ┆   ┆ ---        ┆ ---        ┆ ---       ┆ ---      │\n",
       "│ datetime[μ ┆ str        ┆          ┆           ┆   ┆ str        ┆ str        ┆ str       ┆ str      │\n",
       "│ s]         ┆            ┆          ┆           ┆   ┆            ┆            ┆           ┆          │\n",
       "╞════════════╪════════════╪══════════╪═══════════╪═══╪════════════╪════════════╪═══════════╪══════════╡\n",
       "│ 2020-01-02 ┆ 591348983  ┆ 18       ┆ MANHATTAN ┆ … ┆ ROBBERY,OP ┆ 18-24      ┆ WHITE     ┆ M        │\n",
       "│ 14:45:00   ┆            ┆          ┆           ┆   ┆ EN AREA    ┆            ┆           ┆          │\n",
       "│            ┆            ┆          ┆           ┆   ┆ UNCLASSIFI ┆            ┆           ┆          │\n",
       "│            ┆            ┆          ┆           ┆   ┆ ED         ┆            ┆           ┆          │\n",
       "│ 2020-01-03 ┆ 211105656  ┆ 44       ┆ BRONX     ┆ … ┆ LARCENY,PE ┆ 18-24      ┆ BLACK     ┆ F        │\n",
       "│ 15:33:00   ┆            ┆          ┆           ┆   ┆ TIT BY     ┆            ┆           ┆          │\n",
       "│            ┆            ┆          ┆           ┆   ┆ CREDIT     ┆            ┆           ┆          │\n",
       "│            ┆            ┆          ┆           ┆   ┆ CARD U     ┆            ┆           ┆          │\n",
       "│ 2020-01-07 ┆ 364136331  ┆ 71       ┆ BROOKLYN  ┆ … ┆ HARASSMENT ┆ 25-44      ┆ WHITE     ┆ F        │\n",
       "│ 11:20:00   ┆            ┆          ┆           ┆   ┆ ,SUBD      ┆            ┆           ┆          │\n",
       "│            ┆            ┆          ┆           ┆   ┆ 3,4,5      ┆            ┆           ┆          │\n",
       "│ 2020-01-02 ┆ 587143439  ┆ 42       ┆ BRONX     ┆ … ┆ CONTROLLED ┆ UNKNOWN    ┆ UNKNOWN   ┆ E        │\n",
       "│ 17:28:00   ┆            ┆          ┆           ┆   ┆ SUBSTANCE, ┆            ┆           ┆          │\n",
       "│            ┆            ┆          ┆           ┆   ┆ INTENT TO  ┆            ┆           ┆          │\n",
       "│ 2020-01-03 ┆ 669190911  ┆ 50       ┆ BRONX     ┆ … ┆ LEAVING    ┆ 65+        ┆ WHITE     ┆ M        │\n",
       "│ 06:55:00   ┆            ┆          ┆           ┆   ┆ SCENE-ACCI ┆            ┆ HISPANIC  ┆          │\n",
       "│            ┆            ┆          ┆           ┆   ┆ DENT-PERSO ┆            ┆           ┆          │\n",
       "│            ┆            ┆          ┆           ┆   ┆ NA         ┆            ┆           ┆          │\n",
       "└────────────┴────────────┴──────────┴───────────┴───┴────────────┴────────────┴───────────┴──────────┘"
      ]
     },
     "execution_count": 170,
     "metadata": {},
     "output_type": "execute_result"
    }
   ],
   "source": [
    "# We can filter for date ranges using the is_between method\n",
    "\n",
    "nypd.filter(\n",
    "    pl.col('complaint_datetime').is_between(datetime(2020, 1, 1), datetime(2020, 1, 10))\n",
    ").head(5)"
   ]
  },
  {
   "cell_type": "code",
   "execution_count": 171,
   "metadata": {},
   "outputs": [
    {
     "data": {
      "text/html": [
       "<div><style>\n",
       ".dataframe > thead > tr > th,\n",
       ".dataframe > tbody > tr > td {\n",
       "  text-align: right;\n",
       "}\n",
       "</style>\n",
       "<small>shape: (5, 2)</small><table border=\"1\" class=\"dataframe\"><thead><tr><th>year</th><th>count</th></tr><tr><td>i32</td><td>u32</td></tr></thead><tbody><tr><td>2018</td><td>462471</td></tr><tr><td>2019</td><td>458805</td></tr><tr><td>2020</td><td>413181</td></tr><tr><td>2021</td><td>448083</td></tr><tr><td>2022</td><td>520595</td></tr></tbody></table></div>"
      ],
      "text/plain": [
       "shape: (5, 2)\n",
       "┌──────┬────────┐\n",
       "│ year ┆ count  │\n",
       "│ ---  ┆ ---    │\n",
       "│ i32  ┆ u32    │\n",
       "╞══════╪════════╡\n",
       "│ 2018 ┆ 462471 │\n",
       "│ 2019 ┆ 458805 │\n",
       "│ 2020 ┆ 413181 │\n",
       "│ 2021 ┆ 448083 │\n",
       "│ 2022 ┆ 520595 │\n",
       "└──────┴────────┘"
      ]
     },
     "execution_count": 171,
     "metadata": {},
     "output_type": "execute_result"
    }
   ],
   "source": [
    "# With the column parsed to a datetime type, we can extract the year, month, day, etc.\n",
    "# Count of crimes per year\n",
    "\n",
    "nypd.groupby(\n",
    "    pl.col('complaint_datetime').dt.year().alias('year')\n",
    "    ).count()"
   ]
  },
  {
   "cell_type": "code",
   "execution_count": 172,
   "metadata": {},
   "outputs": [
    {
     "data": {
      "text/html": [
       "<div><style>\n",
       ".dataframe > thead > tr > th,\n",
       ".dataframe > tbody > tr > td {\n",
       "  text-align: right;\n",
       "}\n",
       "</style>\n",
       "<small>shape: (5, 2)</small><table border=\"1\" class=\"dataframe\"><thead><tr><th>week</th><th>count</th></tr><tr><td>u32</td><td>u32</td></tr></thead><tbody><tr><td>37</td><td>47729</td></tr><tr><td>38</td><td>47481</td></tr><tr><td>44</td><td>47326</td></tr><tr><td>31</td><td>47156</td></tr><tr><td>27</td><td>47117</td></tr></tbody></table></div>"
      ],
      "text/plain": [
       "shape: (5, 2)\n",
       "┌──────┬───────┐\n",
       "│ week ┆ count │\n",
       "│ ---  ┆ ---   │\n",
       "│ u32  ┆ u32   │\n",
       "╞══════╪═══════╡\n",
       "│ 37   ┆ 47729 │\n",
       "│ 38   ┆ 47481 │\n",
       "│ 44   ┆ 47326 │\n",
       "│ 31   ┆ 47156 │\n",
       "│ 27   ┆ 47117 │\n",
       "└──────┴───────┘"
      ]
     },
     "execution_count": 172,
     "metadata": {},
     "output_type": "execute_result"
    }
   ],
   "source": [
    "# Count of crimes per week of the year, show the 5 weeks with the most crimes\n",
    "\n",
    "(\n",
    "    nypd.groupby(\n",
    "        pl.col('complaint_datetime').dt.week().alias('week'))\n",
    "    .count()\n",
    "    .sort('count', descending=True)\n",
    "    .head(5)\n",
    ")"
   ]
  },
  {
   "cell_type": "code",
   "execution_count": 173,
   "metadata": {},
   "outputs": [
    {
     "data": {
      "text/html": [
       "<div><style>\n",
       ".dataframe > thead > tr > th,\n",
       ".dataframe > tbody > tr > td {\n",
       "  text-align: right;\n",
       "}\n",
       "</style>\n",
       "<small>shape: (5, 12)</small><table border=\"1\" class=\"dataframe\"><thead><tr><th>complaint_datetime</th><th>complaint_id</th><th>precinct</th><th>borough</th><th>crime_category</th><th>crime_description</th><th>victim_age_group</th><th>victim_race</th><th>victim_sex</th><th>day_of_week</th><th>day_of_month</th><th>day_of_year</th></tr><tr><td>datetime[μs]</td><td>str</td><td>i64</td><td>str</td><td>str</td><td>str</td><td>str</td><td>str</td><td>str</td><td>u32</td><td>u32</td><td>u32</td></tr></thead><tbody><tr><td>2019-09-04 09:00:00</td><td>&quot;469069650&quot;</td><td>9</td><td>&quot;MANHATTAN&quot;</td><td>&quot;MISDEMEANOR&quot;</td><td>&quot;LARCENY,PETIT FROM AUTO&quot;</td><td>&quot;25-44&quot;</td><td>&quot;BLACK&quot;</td><td>&quot;F&quot;</td><td>3</td><td>4</td><td>247</td></tr><tr><td>2019-08-31 18:58:00</td><td>&quot;629841380&quot;</td><td>50</td><td>&quot;BRONX&quot;</td><td>&quot;MISDEMEANOR&quot;</td><td>&quot;LARCENY,PETIT OF BICYCLE&quot;</td><td>&quot;45-64&quot;</td><td>&quot;UNKNOWN&quot;</td><td>&quot;M&quot;</td><td>6</td><td>31</td><td>243</td></tr><tr><td>2019-09-07 22:00:00</td><td>&quot;224389328&quot;</td><td>19</td><td>&quot;MANHATTAN&quot;</td><td>&quot;MISDEMEANOR&quot;</td><td>&quot;LARCENY,PETIT FROM STORE-SHOPL&quot;</td><td>&quot;UNKNOWN&quot;</td><td>&quot;UNKNOWN&quot;</td><td>&quot;D&quot;</td><td>6</td><td>7</td><td>250</td></tr><tr><td>2019-08-31 18:00:00</td><td>&quot;211921838&quot;</td><td>71</td><td>&quot;BROOKLYN&quot;</td><td>&quot;MISDEMEANOR&quot;</td><td>&quot;LARCENY,PETIT FROM AUTO&quot;</td><td>&quot;45-64&quot;</td><td>&quot;BLACK&quot;</td><td>&quot;F&quot;</td><td>6</td><td>31</td><td>243</td></tr><tr><td>2019-09-07 13:00:00</td><td>&quot;381754893&quot;</td><td>62</td><td>&quot;BROOKLYN&quot;</td><td>&quot;MISDEMEANOR&quot;</td><td>&quot;CRIMINAL MISCHIEF 4TH, GRAFFIT&quot;</td><td>&quot;UNKNOWN&quot;</td><td>&quot;UNKNOWN&quot;</td><td>&quot;E&quot;</td><td>6</td><td>7</td><td>250</td></tr></tbody></table></div>"
      ],
      "text/plain": [
       "shape: (5, 12)\n",
       "┌────────────┬────────────┬──────────┬───────────┬───┬──────────┬───────────┬────────────┬───────────┐\n",
       "│ complaint_ ┆ complaint_ ┆ precinct ┆ borough   ┆ … ┆ victim_s ┆ day_of_we ┆ day_of_mon ┆ day_of_ye │\n",
       "│ datetime   ┆ id         ┆ ---      ┆ ---       ┆   ┆ ex       ┆ ek        ┆ th         ┆ ar        │\n",
       "│ ---        ┆ ---        ┆ i64      ┆ str       ┆   ┆ ---      ┆ ---       ┆ ---        ┆ ---       │\n",
       "│ datetime[μ ┆ str        ┆          ┆           ┆   ┆ str      ┆ u32       ┆ u32        ┆ u32       │\n",
       "│ s]         ┆            ┆          ┆           ┆   ┆          ┆           ┆            ┆           │\n",
       "╞════════════╪════════════╪══════════╪═══════════╪═══╪══════════╪═══════════╪════════════╪═══════════╡\n",
       "│ 2019-09-04 ┆ 469069650  ┆ 9        ┆ MANHATTAN ┆ … ┆ F        ┆ 3         ┆ 4          ┆ 247       │\n",
       "│ 09:00:00   ┆            ┆          ┆           ┆   ┆          ┆           ┆            ┆           │\n",
       "│ 2019-08-31 ┆ 629841380  ┆ 50       ┆ BRONX     ┆ … ┆ M        ┆ 6         ┆ 31         ┆ 243       │\n",
       "│ 18:58:00   ┆            ┆          ┆           ┆   ┆          ┆           ┆            ┆           │\n",
       "│ 2019-09-07 ┆ 224389328  ┆ 19       ┆ MANHATTAN ┆ … ┆ D        ┆ 6         ┆ 7          ┆ 250       │\n",
       "│ 22:00:00   ┆            ┆          ┆           ┆   ┆          ┆           ┆            ┆           │\n",
       "│ 2019-08-31 ┆ 211921838  ┆ 71       ┆ BROOKLYN  ┆ … ┆ F        ┆ 6         ┆ 31         ┆ 243       │\n",
       "│ 18:00:00   ┆            ┆          ┆           ┆   ┆          ┆           ┆            ┆           │\n",
       "│ 2019-09-07 ┆ 381754893  ┆ 62       ┆ BROOKLYN  ┆ … ┆ E        ┆ 6         ┆ 7          ┆ 250       │\n",
       "│ 13:00:00   ┆            ┆          ┆           ┆   ┆          ┆           ┆            ┆           │\n",
       "└────────────┴────────────┴──────────┴───────────┴───┴──────────┴───────────┴────────────┴───────────┘"
      ]
     },
     "execution_count": 173,
     "metadata": {},
     "output_type": "execute_result"
    }
   ],
   "source": [
    "# There are multiple options for the days: day of the week, day of the month, and day of the year\n",
    "\n",
    "nypd.with_columns(\n",
    "    day_of_week = pl.col('complaint_datetime').dt.weekday(), # Monday is 1, Sunday is 7\n",
    "    day_of_month = pl.col('complaint_datetime').dt.day(),\n",
    "    day_of_year = pl.col('complaint_datetime').dt.ordinal_day()\n",
    ").head(5)"
   ]
  },
  {
   "cell_type": "code",
   "execution_count": 174,
   "metadata": {},
   "outputs": [
    {
     "data": {
      "text/html": [
       "<div><style>\n",
       ".dataframe > thead > tr > th,\n",
       ".dataframe > tbody > tr > td {\n",
       "  text-align: right;\n",
       "}\n",
       "</style>\n",
       "<small>shape: (3, 2)</small><table border=\"1\" class=\"dataframe\"><thead><tr><th>2year6months_bucket</th><th>count</th></tr><tr><td>datetime[μs]</td><td>u32</td></tr></thead><tbody><tr><td>2020-01-01 00:00:00</td><td>1115932</td></tr><tr><td>2017-07-01 00:00:00</td><td>921276</td></tr><tr><td>2022-07-01 00:00:00</td><td>265927</td></tr></tbody></table></div>"
      ],
      "text/plain": [
       "shape: (3, 2)\n",
       "┌─────────────────────┬─────────┐\n",
       "│ 2year6months_bucket ┆ count   │\n",
       "│ ---                 ┆ ---     │\n",
       "│ datetime[μs]        ┆ u32     │\n",
       "╞═════════════════════╪═════════╡\n",
       "│ 2020-01-01 00:00:00 ┆ 1115932 │\n",
       "│ 2017-07-01 00:00:00 ┆ 921276  │\n",
       "│ 2022-07-01 00:00:00 ┆ 265927  │\n",
       "└─────────────────────┴─────────┘"
      ]
     },
     "execution_count": 174,
     "metadata": {},
     "output_type": "execute_result"
    }
   ],
   "source": [
    "# Polars has another function to group dates together, which is truncate\n",
    "# we can bin the dates into buckets of 2 years and 6 months\n",
    "\n",
    "(\n",
    "    nypd.groupby(\n",
    "        pl.col('complaint_datetime').dt.truncate('2y6mo').alias('2year6months_bucket'))\n",
    "    .count()\n",
    ")\n"
   ]
  },
  {
   "cell_type": "code",
   "execution_count": 175,
   "metadata": {},
   "outputs": [
    {
     "data": {
      "text/html": [
       "<div><style>\n",
       ".dataframe > thead > tr > th,\n",
       ".dataframe > tbody > tr > td {\n",
       "  text-align: right;\n",
       "}\n",
       "</style>\n",
       "<small>shape: (5, 9)</small><table border=\"1\" class=\"dataframe\"><thead><tr><th>complaint_datetime</th><th>complaint_id</th><th>precinct</th><th>borough</th><th>crime_category</th><th>crime_description</th><th>victim_age_group</th><th>victim_race</th><th>victim_sex</th></tr><tr><td>datetime[μs, US/Eastern]</td><td>str</td><td>i64</td><td>str</td><td>str</td><td>str</td><td>str</td><td>str</td><td>str</td></tr></thead><tbody><tr><td>2019-09-04 09:00:00 EDT</td><td>&quot;469069650&quot;</td><td>9</td><td>&quot;MANHATTAN&quot;</td><td>&quot;MISDEMEANOR&quot;</td><td>&quot;LARCENY,PETIT FROM AUTO&quot;</td><td>&quot;25-44&quot;</td><td>&quot;BLACK&quot;</td><td>&quot;F&quot;</td></tr><tr><td>2019-08-31 18:58:00 EDT</td><td>&quot;629841380&quot;</td><td>50</td><td>&quot;BRONX&quot;</td><td>&quot;MISDEMEANOR&quot;</td><td>&quot;LARCENY,PETIT OF BICYCLE&quot;</td><td>&quot;45-64&quot;</td><td>&quot;UNKNOWN&quot;</td><td>&quot;M&quot;</td></tr><tr><td>2019-09-07 22:00:00 EDT</td><td>&quot;224389328&quot;</td><td>19</td><td>&quot;MANHATTAN&quot;</td><td>&quot;MISDEMEANOR&quot;</td><td>&quot;LARCENY,PETIT FROM STORE-SHOPL&quot;</td><td>&quot;UNKNOWN&quot;</td><td>&quot;UNKNOWN&quot;</td><td>&quot;D&quot;</td></tr><tr><td>2019-08-31 18:00:00 EDT</td><td>&quot;211921838&quot;</td><td>71</td><td>&quot;BROOKLYN&quot;</td><td>&quot;MISDEMEANOR&quot;</td><td>&quot;LARCENY,PETIT FROM AUTO&quot;</td><td>&quot;45-64&quot;</td><td>&quot;BLACK&quot;</td><td>&quot;F&quot;</td></tr><tr><td>2019-09-07 13:00:00 EDT</td><td>&quot;381754893&quot;</td><td>62</td><td>&quot;BROOKLYN&quot;</td><td>&quot;MISDEMEANOR&quot;</td><td>&quot;CRIMINAL MISCHIEF 4TH, GRAFFIT&quot;</td><td>&quot;UNKNOWN&quot;</td><td>&quot;UNKNOWN&quot;</td><td>&quot;E&quot;</td></tr></tbody></table></div>"
      ],
      "text/plain": [
       "shape: (5, 9)\n",
       "┌────────────┬────────────┬──────────┬───────────┬───┬────────────┬────────────┬───────────┬──────────┐\n",
       "│ complaint_ ┆ complaint_ ┆ precinct ┆ borough   ┆ … ┆ crime_desc ┆ victim_age ┆ victim_ra ┆ victim_s │\n",
       "│ datetime   ┆ id         ┆ ---      ┆ ---       ┆   ┆ ription    ┆ _group     ┆ ce        ┆ ex       │\n",
       "│ ---        ┆ ---        ┆ i64      ┆ str       ┆   ┆ ---        ┆ ---        ┆ ---       ┆ ---      │\n",
       "│ datetime[μ ┆ str        ┆          ┆           ┆   ┆ str        ┆ str        ┆ str       ┆ str      │\n",
       "│ s, US/East ┆            ┆          ┆           ┆   ┆            ┆            ┆           ┆          │\n",
       "│ ern]       ┆            ┆          ┆           ┆   ┆            ┆            ┆           ┆          │\n",
       "╞════════════╪════════════╪══════════╪═══════════╪═══╪════════════╪════════════╪═══════════╪══════════╡\n",
       "│ 2019-09-04 ┆ 469069650  ┆ 9        ┆ MANHATTAN ┆ … ┆ LARCENY,PE ┆ 25-44      ┆ BLACK     ┆ F        │\n",
       "│ 09:00:00   ┆            ┆          ┆           ┆   ┆ TIT FROM   ┆            ┆           ┆          │\n",
       "│ EDT        ┆            ┆          ┆           ┆   ┆ AUTO       ┆            ┆           ┆          │\n",
       "│ 2019-08-31 ┆ 629841380  ┆ 50       ┆ BRONX     ┆ … ┆ LARCENY,PE ┆ 45-64      ┆ UNKNOWN   ┆ M        │\n",
       "│ 18:58:00   ┆            ┆          ┆           ┆   ┆ TIT OF     ┆            ┆           ┆          │\n",
       "│ EDT        ┆            ┆          ┆           ┆   ┆ BICYCLE    ┆            ┆           ┆          │\n",
       "│ 2019-09-07 ┆ 224389328  ┆ 19       ┆ MANHATTAN ┆ … ┆ LARCENY,PE ┆ UNKNOWN    ┆ UNKNOWN   ┆ D        │\n",
       "│ 22:00:00   ┆            ┆          ┆           ┆   ┆ TIT FROM   ┆            ┆           ┆          │\n",
       "│ EDT        ┆            ┆          ┆           ┆   ┆ STORE-SHOP ┆            ┆           ┆          │\n",
       "│            ┆            ┆          ┆           ┆   ┆ L          ┆            ┆           ┆          │\n",
       "│ 2019-08-31 ┆ 211921838  ┆ 71       ┆ BROOKLYN  ┆ … ┆ LARCENY,PE ┆ 45-64      ┆ BLACK     ┆ F        │\n",
       "│ 18:00:00   ┆            ┆          ┆           ┆   ┆ TIT FROM   ┆            ┆           ┆          │\n",
       "│ EDT        ┆            ┆          ┆           ┆   ┆ AUTO       ┆            ┆           ┆          │\n",
       "│ 2019-09-07 ┆ 381754893  ┆ 62       ┆ BROOKLYN  ┆ … ┆ CRIMINAL   ┆ UNKNOWN    ┆ UNKNOWN   ┆ E        │\n",
       "│ 13:00:00   ┆            ┆          ┆           ┆   ┆ MISCHIEF   ┆            ┆           ┆          │\n",
       "│ EDT        ┆            ┆          ┆           ┆   ┆ 4TH,       ┆            ┆           ┆          │\n",
       "│            ┆            ┆          ┆           ┆   ┆ GRAFFIT    ┆            ┆           ┆          │\n",
       "└────────────┴────────────┴──────────┴───────────┴───┴────────────┴────────────┴───────────┴──────────┘"
      ]
     },
     "execution_count": 175,
     "metadata": {},
     "output_type": "execute_result"
    }
   ],
   "source": [
    "# Polars can work with time zones. For example, we can set the time zone to US/Eastern\n",
    "\n",
    "nypd_localised = nypd.head(100).with_columns(\n",
    "    complaint_datetime = pl.col('complaint_datetime').dt.replace_time_zone('US/Eastern', use_earliest=True)\n",
    ")\n",
    "\n",
    "nypd_localised.head(5)"
   ]
  },
  {
   "cell_type": "code",
   "execution_count": 176,
   "metadata": {},
   "outputs": [
    {
     "data": {
      "text/html": [
       "<div><style>\n",
       ".dataframe > thead > tr > th,\n",
       ".dataframe > tbody > tr > td {\n",
       "  text-align: right;\n",
       "}\n",
       "</style>\n",
       "<small>shape: (5, 9)</small><table border=\"1\" class=\"dataframe\"><thead><tr><th>complaint_datetime</th><th>complaint_id</th><th>precinct</th><th>borough</th><th>crime_category</th><th>crime_description</th><th>victim_age_group</th><th>victim_race</th><th>victim_sex</th></tr><tr><td>datetime[μs, UTC]</td><td>str</td><td>i64</td><td>str</td><td>str</td><td>str</td><td>str</td><td>str</td><td>str</td></tr></thead><tbody><tr><td>2019-09-04 13:00:00 UTC</td><td>&quot;469069650&quot;</td><td>9</td><td>&quot;MANHATTAN&quot;</td><td>&quot;MISDEMEANOR&quot;</td><td>&quot;LARCENY,PETIT FROM AUTO&quot;</td><td>&quot;25-44&quot;</td><td>&quot;BLACK&quot;</td><td>&quot;F&quot;</td></tr><tr><td>2019-08-31 22:58:00 UTC</td><td>&quot;629841380&quot;</td><td>50</td><td>&quot;BRONX&quot;</td><td>&quot;MISDEMEANOR&quot;</td><td>&quot;LARCENY,PETIT OF BICYCLE&quot;</td><td>&quot;45-64&quot;</td><td>&quot;UNKNOWN&quot;</td><td>&quot;M&quot;</td></tr><tr><td>2019-09-08 02:00:00 UTC</td><td>&quot;224389328&quot;</td><td>19</td><td>&quot;MANHATTAN&quot;</td><td>&quot;MISDEMEANOR&quot;</td><td>&quot;LARCENY,PETIT FROM STORE-SHOPL&quot;</td><td>&quot;UNKNOWN&quot;</td><td>&quot;UNKNOWN&quot;</td><td>&quot;D&quot;</td></tr><tr><td>2019-08-31 22:00:00 UTC</td><td>&quot;211921838&quot;</td><td>71</td><td>&quot;BROOKLYN&quot;</td><td>&quot;MISDEMEANOR&quot;</td><td>&quot;LARCENY,PETIT FROM AUTO&quot;</td><td>&quot;45-64&quot;</td><td>&quot;BLACK&quot;</td><td>&quot;F&quot;</td></tr><tr><td>2019-09-07 17:00:00 UTC</td><td>&quot;381754893&quot;</td><td>62</td><td>&quot;BROOKLYN&quot;</td><td>&quot;MISDEMEANOR&quot;</td><td>&quot;CRIMINAL MISCHIEF 4TH, GRAFFIT&quot;</td><td>&quot;UNKNOWN&quot;</td><td>&quot;UNKNOWN&quot;</td><td>&quot;E&quot;</td></tr></tbody></table></div>"
      ],
      "text/plain": [
       "shape: (5, 9)\n",
       "┌────────────┬────────────┬──────────┬───────────┬───┬────────────┬────────────┬───────────┬──────────┐\n",
       "│ complaint_ ┆ complaint_ ┆ precinct ┆ borough   ┆ … ┆ crime_desc ┆ victim_age ┆ victim_ra ┆ victim_s │\n",
       "│ datetime   ┆ id         ┆ ---      ┆ ---       ┆   ┆ ription    ┆ _group     ┆ ce        ┆ ex       │\n",
       "│ ---        ┆ ---        ┆ i64      ┆ str       ┆   ┆ ---        ┆ ---        ┆ ---       ┆ ---      │\n",
       "│ datetime[μ ┆ str        ┆          ┆           ┆   ┆ str        ┆ str        ┆ str       ┆ str      │\n",
       "│ s, UTC]    ┆            ┆          ┆           ┆   ┆            ┆            ┆           ┆          │\n",
       "╞════════════╪════════════╪══════════╪═══════════╪═══╪════════════╪════════════╪═══════════╪══════════╡\n",
       "│ 2019-09-04 ┆ 469069650  ┆ 9        ┆ MANHATTAN ┆ … ┆ LARCENY,PE ┆ 25-44      ┆ BLACK     ┆ F        │\n",
       "│ 13:00:00   ┆            ┆          ┆           ┆   ┆ TIT FROM   ┆            ┆           ┆          │\n",
       "│ UTC        ┆            ┆          ┆           ┆   ┆ AUTO       ┆            ┆           ┆          │\n",
       "│ 2019-08-31 ┆ 629841380  ┆ 50       ┆ BRONX     ┆ … ┆ LARCENY,PE ┆ 45-64      ┆ UNKNOWN   ┆ M        │\n",
       "│ 22:58:00   ┆            ┆          ┆           ┆   ┆ TIT OF     ┆            ┆           ┆          │\n",
       "│ UTC        ┆            ┆          ┆           ┆   ┆ BICYCLE    ┆            ┆           ┆          │\n",
       "│ 2019-09-08 ┆ 224389328  ┆ 19       ┆ MANHATTAN ┆ … ┆ LARCENY,PE ┆ UNKNOWN    ┆ UNKNOWN   ┆ D        │\n",
       "│ 02:00:00   ┆            ┆          ┆           ┆   ┆ TIT FROM   ┆            ┆           ┆          │\n",
       "│ UTC        ┆            ┆          ┆           ┆   ┆ STORE-SHOP ┆            ┆           ┆          │\n",
       "│            ┆            ┆          ┆           ┆   ┆ L          ┆            ┆           ┆          │\n",
       "│ 2019-08-31 ┆ 211921838  ┆ 71       ┆ BROOKLYN  ┆ … ┆ LARCENY,PE ┆ 45-64      ┆ BLACK     ┆ F        │\n",
       "│ 22:00:00   ┆            ┆          ┆           ┆   ┆ TIT FROM   ┆            ┆           ┆          │\n",
       "│ UTC        ┆            ┆          ┆           ┆   ┆ AUTO       ┆            ┆           ┆          │\n",
       "│ 2019-09-07 ┆ 381754893  ┆ 62       ┆ BROOKLYN  ┆ … ┆ CRIMINAL   ┆ UNKNOWN    ┆ UNKNOWN   ┆ E        │\n",
       "│ 17:00:00   ┆            ┆          ┆           ┆   ┆ MISCHIEF   ┆            ┆           ┆          │\n",
       "│ UTC        ┆            ┆          ┆           ┆   ┆ 4TH,       ┆            ┆           ┆          │\n",
       "│            ┆            ┆          ┆           ┆   ┆ GRAFFIT    ┆            ┆           ┆          │\n",
       "└────────────┴────────────┴──────────┴───────────┴───┴────────────┴────────────┴───────────┴──────────┘"
      ]
     },
     "execution_count": 176,
     "metadata": {},
     "output_type": "execute_result"
    }
   ],
   "source": [
    "# When we have a timezone, we can convert it to another timezone\n",
    "\n",
    "nypd_localised.with_columns(\n",
    "    complaint_datetime = pl.col('complaint_datetime').dt.convert_time_zone('UTC')\n",
    ").head(5)"
   ]
  },
  {
   "cell_type": "code",
   "execution_count": 177,
   "metadata": {},
   "outputs": [
    {
     "data": {
      "text/html": [
       "<div><style>\n",
       ".dataframe > thead > tr > th,\n",
       ".dataframe > tbody > tr > td {\n",
       "  text-align: right;\n",
       "}\n",
       "</style>\n",
       "<small>shape: (5,)</small><table border=\"1\" class=\"dataframe\"><thead><tr><th>date</th></tr><tr><td>date</td></tr></thead><tbody><tr><td>2020-01-01</td></tr><tr><td>2020-01-02</td></tr><tr><td>2020-01-03</td></tr><tr><td>2020-01-04</td></tr><tr><td>2020-01-05</td></tr></tbody></table></div>"
      ],
      "text/plain": [
       "shape: (5,)\n",
       "Series: 'date' [date]\n",
       "[\n",
       "\t2020-01-01\n",
       "\t2020-01-02\n",
       "\t2020-01-03\n",
       "\t2020-01-04\n",
       "\t2020-01-05\n",
       "]"
      ]
     },
     "execution_count": 177,
     "metadata": {},
     "output_type": "execute_result"
    }
   ],
   "source": [
    "# Polars also allows creating a date range and time range\n",
    "# the date range method has various parameters including the inteval, whether to include the start and end date, and time zone\n",
    "# the date_range method can be used to create a table, which is then joined existing data, for example with join_asof (which we'll see later)\n",
    "# the date_range method can also be used to create lists inside a column of an existing table \n",
    "\n",
    "from datetime import date\n",
    "\n",
    "pl.date_range(date(2020, 1, 1), date(2020, 1, 5), '1d', eager=True)    "
   ]
  },
  {
   "cell_type": "markdown",
   "metadata": {},
   "source": [
    "#### Change over time: Shift, diff, and pct_change"
   ]
  },
  {
   "cell_type": "code",
   "execution_count": 178,
   "metadata": {},
   "outputs": [
    {
     "data": {
      "text/html": [
       "<div><style>\n",
       ".dataframe > thead > tr > th,\n",
       ".dataframe > tbody > tr > td {\n",
       "  text-align: right;\n",
       "}\n",
       "</style>\n",
       "<small>shape: (5, 6)</small><table border=\"1\" class=\"dataframe\"><thead><tr><th>week</th><th>count</th><th>prior_week</th><th>prior_count</th><th>change_count</th><th>percent_change</th></tr><tr><td>date</td><td>i32</td><td>date</td><td>i32</td><td>i32</td><td>f64</td></tr></thead><tbody><tr><td>2022-12-26</td><td>6441</td><td>2022-12-19</td><td>7767</td><td>-1326</td><td>-17.0</td></tr><tr><td>2022-12-19</td><td>7767</td><td>2022-12-12</td><td>9149</td><td>-1382</td><td>-15.0</td></tr><tr><td>2022-12-12</td><td>9149</td><td>2022-12-05</td><td>9474</td><td>-325</td><td>-3.0</td></tr><tr><td>2022-12-05</td><td>9474</td><td>2022-11-28</td><td>9773</td><td>-299</td><td>-3.0</td></tr><tr><td>2022-11-28</td><td>9773</td><td>2022-11-21</td><td>9401</td><td>372</td><td>4.0</td></tr></tbody></table></div>"
      ],
      "text/plain": [
       "shape: (5, 6)\n",
       "┌────────────┬───────┬────────────┬─────────────┬──────────────┬────────────────┐\n",
       "│ week       ┆ count ┆ prior_week ┆ prior_count ┆ change_count ┆ percent_change │\n",
       "│ ---        ┆ ---   ┆ ---        ┆ ---         ┆ ---          ┆ ---            │\n",
       "│ date       ┆ i32   ┆ date       ┆ i32         ┆ i32          ┆ f64            │\n",
       "╞════════════╪═══════╪════════════╪═════════════╪══════════════╪════════════════╡\n",
       "│ 2022-12-26 ┆ 6441  ┆ 2022-12-19 ┆ 7767        ┆ -1326        ┆ -17.0          │\n",
       "│ 2022-12-19 ┆ 7767  ┆ 2022-12-12 ┆ 9149        ┆ -1382        ┆ -15.0          │\n",
       "│ 2022-12-12 ┆ 9149  ┆ 2022-12-05 ┆ 9474        ┆ -325         ┆ -3.0           │\n",
       "│ 2022-12-05 ┆ 9474  ┆ 2022-11-28 ┆ 9773        ┆ -299         ┆ -3.0           │\n",
       "│ 2022-11-28 ┆ 9773  ┆ 2022-11-21 ┆ 9401        ┆ 372          ┆ 4.0            │\n",
       "└────────────┴───────┴────────────┴─────────────┴──────────────┴────────────────┘"
      ]
     },
     "execution_count": 178,
     "metadata": {},
     "output_type": "execute_result"
    }
   ],
   "source": [
    "# We can shift rows up or down using shift, calculate difference using diff, and calculate percentage change using pct_change\n",
    "# for example, we can look at the change in weekly crime counts\n",
    "\n",
    "(\n",
    "    nypd.groupby(\n",
    "        pl.col('complaint_datetime').dt.truncate('1w').alias('week'))\n",
    "    .count()\n",
    "    .with_columns(\n",
    "        pl.col('count').cast(pl.Int32),\n",
    "        pl.col('week').cast(pl.Date))\n",
    "    .sort('week', descending=True)\n",
    "    .with_columns(\n",
    "        prior_week = pl.col('week').shift(-1),\n",
    "        prior_count = pl.col('count').shift(-1),\n",
    "        change_count = pl.col('count').diff(-1),\n",
    "        percent_change = pl.col('count').pct_change(-1).mul(100).round(0))\n",
    "    .head(5)\n",
    ")"
   ]
  },
  {
   "cell_type": "markdown",
   "metadata": {},
   "source": [
    "#### Horizontal expressions"
   ]
  },
  {
   "cell_type": "code",
   "execution_count": 183,
   "metadata": {},
   "outputs": [
    {
     "data": {
      "text/html": [
       "<div><style>\n",
       ".dataframe > thead > tr > th,\n",
       ".dataframe > tbody > tr > td {\n",
       "  text-align: right;\n",
       "}\n",
       "</style>\n",
       "<small>shape: (6, 6)</small><table border=\"1\" class=\"dataframe\"><thead><tr><th>borough</th><th>2019</th><th>2018</th><th>2020</th><th>2021</th><th>2022</th></tr><tr><td>str</td><td>u32</td><td>u32</td><td>u32</td><td>u32</td><td>u32</td></tr></thead><tbody><tr><td>&quot;MANHATTAN&quot;</td><td>115595</td><td>114201</td><td>97145</td><td>110296</td><td>130973</td></tr><tr><td>&quot;BRONX&quot;</td><td>100359</td><td>100615</td><td>90634</td><td>93825</td><td>110055</td></tr><tr><td>&quot;BROOKLYN&quot;</td><td>131782</td><td>136397</td><td>119012</td><td>125895</td><td>144319</td></tr><tr><td>&quot;STATEN ISLAND&quot;</td><td>18875</td><td>20799</td><td>17070</td><td>18848</td><td>22055</td></tr><tr><td>&quot;QUEENS&quot;</td><td>91886</td><td>90155</td><td>88845</td><td>98070</td><td>112244</td></tr><tr><td>null</td><td>308</td><td>304</td><td>475</td><td>1149</td><td>949</td></tr></tbody></table></div>"
      ],
      "text/plain": [
       "shape: (6, 6)\n",
       "┌───────────────┬────────┬────────┬────────┬────────┬────────┐\n",
       "│ borough       ┆ 2019   ┆ 2018   ┆ 2020   ┆ 2021   ┆ 2022   │\n",
       "│ ---           ┆ ---    ┆ ---    ┆ ---    ┆ ---    ┆ ---    │\n",
       "│ str           ┆ u32    ┆ u32    ┆ u32    ┆ u32    ┆ u32    │\n",
       "╞═══════════════╪════════╪════════╪════════╪════════╪════════╡\n",
       "│ MANHATTAN     ┆ 115595 ┆ 114201 ┆ 97145  ┆ 110296 ┆ 130973 │\n",
       "│ BRONX         ┆ 100359 ┆ 100615 ┆ 90634  ┆ 93825  ┆ 110055 │\n",
       "│ BROOKLYN      ┆ 131782 ┆ 136397 ┆ 119012 ┆ 125895 ┆ 144319 │\n",
       "│ STATEN ISLAND ┆ 18875  ┆ 20799  ┆ 17070  ┆ 18848  ┆ 22055  │\n",
       "│ QUEENS        ┆ 91886  ┆ 90155  ┆ 88845  ┆ 98070  ┆ 112244 │\n",
       "│ null          ┆ 308    ┆ 304    ┆ 475    ┆ 1149   ┆ 949    │\n",
       "└───────────────┴────────┴────────┴────────┴────────┴────────┘"
      ]
     },
     "execution_count": 183,
     "metadata": {},
     "output_type": "execute_result"
    }
   ],
   "source": [
    "# Let's start with a dataframe with one column per borough and one row per year\n",
    "\n",
    "nypd_crimes_by_borough = (\n",
    "     nypd.with_columns(\n",
    "        year = pl.col('complaint_datetime').dt.year())\n",
    "    .pivot(\n",
    "        index='borough',\n",
    "        columns= 'year',\n",
    "        values = 'complaint_id',\n",
    "        aggregate_function = pl.element().count())\n",
    ")\n",
    "\n",
    "nypd_crimes_by_borough"
   ]
  },
  {
   "cell_type": "code",
   "execution_count": 206,
   "metadata": {},
   "outputs": [
    {
     "data": {
      "text/html": [
       "<div><style>\n",
       ".dataframe > thead > tr > th,\n",
       ".dataframe > tbody > tr > td {\n",
       "  text-align: right;\n",
       "}\n",
       "</style>\n",
       "<small>shape: (6, 7)</small><table border=\"1\" class=\"dataframe\"><thead><tr><th>borough</th><th>2019</th><th>2018</th><th>2020</th><th>2021</th><th>2022</th><th>avg_crime_count_since_2020</th></tr><tr><td>str</td><td>u32</td><td>u32</td><td>u32</td><td>u32</td><td>u32</td><td>f64</td></tr></thead><tbody><tr><td>&quot;MANHATTAN&quot;</td><td>115595</td><td>114201</td><td>97145</td><td>110296</td><td>130973</td><td>112804.666667</td></tr><tr><td>&quot;BRONX&quot;</td><td>100359</td><td>100615</td><td>90634</td><td>93825</td><td>110055</td><td>98171.333333</td></tr><tr><td>&quot;BROOKLYN&quot;</td><td>131782</td><td>136397</td><td>119012</td><td>125895</td><td>144319</td><td>129742.0</td></tr><tr><td>&quot;STATEN ISLAND&quot;</td><td>18875</td><td>20799</td><td>17070</td><td>18848</td><td>22055</td><td>19324.333333</td></tr><tr><td>&quot;QUEENS&quot;</td><td>91886</td><td>90155</td><td>88845</td><td>98070</td><td>112244</td><td>99719.666667</td></tr><tr><td>null</td><td>308</td><td>304</td><td>475</td><td>1149</td><td>949</td><td>857.666667</td></tr></tbody></table></div>"
      ],
      "text/plain": [
       "shape: (6, 7)\n",
       "┌───────────────┬────────┬────────┬────────┬────────┬────────┬────────────────────────────┐\n",
       "│ borough       ┆ 2019   ┆ 2018   ┆ 2020   ┆ 2021   ┆ 2022   ┆ avg_crime_count_since_2020 │\n",
       "│ ---           ┆ ---    ┆ ---    ┆ ---    ┆ ---    ┆ ---    ┆ ---                        │\n",
       "│ str           ┆ u32    ┆ u32    ┆ u32    ┆ u32    ┆ u32    ┆ f64                        │\n",
       "╞═══════════════╪════════╪════════╪════════╪════════╪════════╪════════════════════════════╡\n",
       "│ MANHATTAN     ┆ 115595 ┆ 114201 ┆ 97145  ┆ 110296 ┆ 130973 ┆ 112804.666667              │\n",
       "│ BRONX         ┆ 100359 ┆ 100615 ┆ 90634  ┆ 93825  ┆ 110055 ┆ 98171.333333               │\n",
       "│ BROOKLYN      ┆ 131782 ┆ 136397 ┆ 119012 ┆ 125895 ┆ 144319 ┆ 129742.0                   │\n",
       "│ STATEN ISLAND ┆ 18875  ┆ 20799  ┆ 17070  ┆ 18848  ┆ 22055  ┆ 19324.333333               │\n",
       "│ QUEENS        ┆ 91886  ┆ 90155  ┆ 88845  ┆ 98070  ┆ 112244 ┆ 99719.666667               │\n",
       "│ null          ┆ 308    ┆ 304    ┆ 475    ┆ 1149   ┆ 949    ┆ 857.666667                 │\n",
       "└───────────────┴────────┴────────┴────────┴────────┴────────┴────────────────────────────┘"
      ]
     },
     "execution_count": 206,
     "metadata": {},
     "output_type": "execute_result"
    }
   ],
   "source": [
    "# we can calculate expressions horizontally concatenating the columns as lists\n",
    "\n",
    "nypd_crimes_by_borough.with_columns(\n",
    "    avg_crime_count_since_2020 = \n",
    "    pl.concat_list('2020','2021','2022').list.mean()\n",
    ")"
   ]
  },
  {
   "cell_type": "markdown",
   "metadata": {},
   "source": [
    "#### Advanced horizontal operations: reduce and fold"
   ]
  },
  {
   "cell_type": "code",
   "execution_count": 204,
   "metadata": {},
   "outputs": [
    {
     "data": {
      "text/html": [
       "<div><style>\n",
       ".dataframe > thead > tr > th,\n",
       ".dataframe > tbody > tr > td {\n",
       "  text-align: right;\n",
       "}\n",
       "</style>\n",
       "<small>shape: (6, 2)</small><table border=\"1\" class=\"dataframe\"><thead><tr><th>borough</th><th>avg_crime_count_since_2020</th></tr><tr><td>str</td><td>f64</td></tr></thead><tbody><tr><td>&quot;MANHATTAN&quot;</td><td>112804.666667</td></tr><tr><td>&quot;BRONX&quot;</td><td>98171.333333</td></tr><tr><td>&quot;BROOKLYN&quot;</td><td>129742.0</td></tr><tr><td>&quot;STATEN ISLAND&quot;</td><td>19324.333333</td></tr><tr><td>&quot;QUEENS&quot;</td><td>99719.666667</td></tr><tr><td>null</td><td>857.666667</td></tr></tbody></table></div>"
      ],
      "text/plain": [
       "shape: (6, 2)\n",
       "┌───────────────┬────────────────────────────┐\n",
       "│ borough       ┆ avg_crime_count_since_2020 │\n",
       "│ ---           ┆ ---                        │\n",
       "│ str           ┆ f64                        │\n",
       "╞═══════════════╪════════════════════════════╡\n",
       "│ MANHATTAN     ┆ 112804.666667              │\n",
       "│ BRONX         ┆ 98171.333333               │\n",
       "│ BROOKLYN      ┆ 129742.0                   │\n",
       "│ STATEN ISLAND ┆ 19324.333333               │\n",
       "│ QUEENS        ┆ 99719.666667               │\n",
       "│ null          ┆ 857.666667                 │\n",
       "└───────────────┴────────────────────────────┘"
      ]
     },
     "execution_count": 204,
     "metadata": {},
     "output_type": "execute_result"
    }
   ],
   "source": [
    "# we can reproduce the prior calculation using reduce\n",
    "\n",
    "nypd_crimes_by_borough.select(\n",
    "    'borough',\n",
    "    avg_crime_count_since_2020 = pl.reduce(\n",
    "        function=lambda accumulator, current: accumulator + current, \n",
    "        exprs=pl.col('2020','2021','2022') / 3)\n",
    ")"
   ]
  },
  {
   "cell_type": "code",
   "execution_count": 208,
   "metadata": {},
   "outputs": [
    {
     "data": {
      "text/html": [
       "<div><style>\n",
       ".dataframe > thead > tr > th,\n",
       ".dataframe > tbody > tr > td {\n",
       "  text-align: right;\n",
       "}\n",
       "</style>\n",
       "<small>shape: (6, 2)</small><table border=\"1\" class=\"dataframe\"><thead><tr><th>borough</th><th>max_yearly_crime_count</th></tr><tr><td>str</td><td>u32</td></tr></thead><tbody><tr><td>&quot;MANHATTAN&quot;</td><td>130973</td></tr><tr><td>&quot;BRONX&quot;</td><td>110055</td></tr><tr><td>&quot;BROOKLYN&quot;</td><td>144319</td></tr><tr><td>&quot;STATEN ISLAND&quot;</td><td>22055</td></tr><tr><td>&quot;QUEENS&quot;</td><td>112244</td></tr><tr><td>null</td><td>1149</td></tr></tbody></table></div>"
      ],
      "text/plain": [
       "shape: (6, 2)\n",
       "┌───────────────┬────────────────────────┐\n",
       "│ borough       ┆ max_yearly_crime_count │\n",
       "│ ---           ┆ ---                    │\n",
       "│ str           ┆ u32                    │\n",
       "╞═══════════════╪════════════════════════╡\n",
       "│ MANHATTAN     ┆ 130973                 │\n",
       "│ BRONX         ┆ 110055                 │\n",
       "│ BROOKLYN      ┆ 144319                 │\n",
       "│ STATEN ISLAND ┆ 22055                  │\n",
       "│ QUEENS        ┆ 112244                 │\n",
       "│ null          ┆ 1149                   │\n",
       "└───────────────┴────────────────────────┘"
      ]
     },
     "execution_count": 208,
     "metadata": {},
     "output_type": "execute_result"
    }
   ],
   "source": [
    "# a more useful example for reduce is to calculate the maximum crime count per borough\n",
    "\n",
    "nypd_crimes_by_borough.select(\n",
    "    'borough',\n",
    "    max_yearly_crime_count = pl.reduce(\n",
    "        function=lambda accumulator, current: pl.when(accumulator > current).then(accumulator).otherwise(current),\n",
    "        exprs=pl.all().exclude('borough'))\n",
    ")"
   ]
  },
  {
   "cell_type": "code",
   "execution_count": 210,
   "metadata": {},
   "outputs": [
    {
     "data": {
      "text/html": [
       "<div><style>\n",
       ".dataframe > thead > tr > th,\n",
       ".dataframe > tbody > tr > td {\n",
       "  text-align: right;\n",
       "}\n",
       "</style>\n",
       "<small>shape: (6, 2)</small><table border=\"1\" class=\"dataframe\"><thead><tr><th>borough</th><th>number_of_years_above_100k</th></tr><tr><td>str</td><td>i32</td></tr></thead><tbody><tr><td>&quot;MANHATTAN&quot;</td><td>4</td></tr><tr><td>&quot;BRONX&quot;</td><td>3</td></tr><tr><td>&quot;BROOKLYN&quot;</td><td>5</td></tr><tr><td>&quot;STATEN ISLAND&quot;</td><td>0</td></tr><tr><td>&quot;QUEENS&quot;</td><td>1</td></tr><tr><td>null</td><td>0</td></tr></tbody></table></div>"
      ],
      "text/plain": [
       "shape: (6, 2)\n",
       "┌───────────────┬────────────────────────────┐\n",
       "│ borough       ┆ number_of_years_above_100k │\n",
       "│ ---           ┆ ---                        │\n",
       "│ str           ┆ i32                        │\n",
       "╞═══════════════╪════════════════════════════╡\n",
       "│ MANHATTAN     ┆ 4                          │\n",
       "│ BRONX         ┆ 3                          │\n",
       "│ BROOKLYN      ┆ 5                          │\n",
       "│ STATEN ISLAND ┆ 0                          │\n",
       "│ QUEENS        ┆ 1                          │\n",
       "│ null          ┆ 0                          │\n",
       "└───────────────┴────────────────────────────┘"
      ]
     },
     "execution_count": 210,
     "metadata": {},
     "output_type": "execute_result"
    }
   ],
   "source": [
    "# fold has one additional parameter, which is the initial value of the accumulator\n",
    "# for example we want to know the number of years where the crime count was above 100,000\n",
    "\n",
    "nypd_crimes_by_borough.select(\n",
    "    'borough',\n",
    "    number_of_years_above_100k = pl.fold(\n",
    "        acc = pl.lit(0), # initial value of the accumulator 0\n",
    "        function=lambda accumulator, current: pl.when(current > 100000).then(accumulator + 1).otherwise(accumulator),\n",
    "        exprs=pl.all().exclude('borough'))\n",
    ")"
   ]
  },
  {
   "cell_type": "code",
   "execution_count": 213,
   "metadata": {},
   "outputs": [
    {
     "data": {
      "text/html": [
       "<div><style>\n",
       ".dataframe > thead > tr > th,\n",
       ".dataframe > tbody > tr > td {\n",
       "  text-align: right;\n",
       "}\n",
       "</style>\n",
       "<small>shape: (6, 2)</small><table border=\"1\" class=\"dataframe\"><thead><tr><th>borough</th><th>max_yearly_crime_count</th></tr><tr><td>str</td><td>struct[5]</td></tr></thead><tbody><tr><td>&quot;MANHATTAN&quot;</td><td>{115595,115595,115595,115595,130973}</td></tr><tr><td>&quot;BRONX&quot;</td><td>{100359,100615,100615,100615,110055}</td></tr><tr><td>&quot;BROOKLYN&quot;</td><td>{131782,136397,136397,136397,144319}</td></tr><tr><td>&quot;STATEN ISLAND&quot;</td><td>{18875,20799,20799,20799,22055}</td></tr><tr><td>&quot;QUEENS&quot;</td><td>{91886,91886,91886,98070,112244}</td></tr><tr><td>null</td><td>{308,308,475,1149,1149}</td></tr></tbody></table></div>"
      ],
      "text/plain": [
       "shape: (6, 2)\n",
       "┌───────────────┬──────────────────────────────────────┐\n",
       "│ borough       ┆ max_yearly_crime_count               │\n",
       "│ ---           ┆ ---                                  │\n",
       "│ str           ┆ struct[5]                            │\n",
       "╞═══════════════╪══════════════════════════════════════╡\n",
       "│ MANHATTAN     ┆ {115595,115595,115595,115595,130973} │\n",
       "│ BRONX         ┆ {100359,100615,100615,100615,110055} │\n",
       "│ BROOKLYN      ┆ {131782,136397,136397,136397,144319} │\n",
       "│ STATEN ISLAND ┆ {18875,20799,20799,20799,22055}      │\n",
       "│ QUEENS        ┆ {91886,91886,91886,98070,112244}     │\n",
       "│ null          ┆ {308,308,475,1149,1149}              │\n",
       "└───────────────┴──────────────────────────────────────┘"
      ]
     },
     "execution_count": 213,
     "metadata": {},
     "output_type": "execute_result"
    }
   ],
   "source": [
    "# one additional function is the cumfold function, which keeps track of intermediate values and returns a struct\n",
    "# we can use cumfold to see how the maximum crime count changed over time\n",
    "\n",
    "nypd_crimes_by_borough.select(\n",
    "    'borough',\n",
    "    max_yearly_crime_count = pl.cumfold(\n",
    "        acc = pl.lit(0), # initial value of the accumulator 0\n",
    "        function=lambda accumulator, current: pl.when(accumulator > current).then(accumulator).otherwise(current),\n",
    "        exprs=pl.all().exclude('borough'))\n",
    ")"
   ]
  },
  {
   "cell_type": "markdown",
   "metadata": {},
   "source": [
    "#### Cumulative functions"
   ]
  },
  {
   "cell_type": "code",
   "execution_count": 241,
   "metadata": {},
   "outputs": [
    {
     "data": {
      "text/html": [
       "<div><style>\n",
       ".dataframe > thead > tr > th,\n",
       ".dataframe > tbody > tr > td {\n",
       "  text-align: right;\n",
       "}\n",
       "</style>\n",
       "<small>shape: (12, 3)</small><table border=\"1\" class=\"dataframe\"><thead><tr><th>month</th><th>2021</th><th>2022</th></tr><tr><td>i32</td><td>i32</td><td>i32</td></tr></thead><tbody><tr><td>1</td><td>33249</td><td>38218</td></tr><tr><td>2</td><td>28416</td><td>37468</td></tr><tr><td>3</td><td>34775</td><td>43555</td></tr><tr><td>4</td><td>32821</td><td>42540</td></tr><tr><td>5</td><td>36881</td><td>45907</td></tr><tr><td>6</td><td>37708</td><td>46980</td></tr><tr><td>7</td><td>39553</td><td>47309</td></tr><tr><td>8</td><td>39148</td><td>46485</td></tr><tr><td>9</td><td>40088</td><td>44856</td></tr><tr><td>10</td><td>43124</td><td>45769</td></tr><tr><td>11</td><td>41472</td><td>43150</td></tr><tr><td>12</td><td>40848</td><td>38358</td></tr></tbody></table></div>"
      ],
      "text/plain": [
       "shape: (12, 3)\n",
       "┌───────┬───────┬───────┐\n",
       "│ month ┆ 2021  ┆ 2022  │\n",
       "│ ---   ┆ ---   ┆ ---   │\n",
       "│ i32   ┆ i32   ┆ i32   │\n",
       "╞═══════╪═══════╪═══════╡\n",
       "│ 1     ┆ 33249 ┆ 38218 │\n",
       "│ 2     ┆ 28416 ┆ 37468 │\n",
       "│ 3     ┆ 34775 ┆ 43555 │\n",
       "│ 4     ┆ 32821 ┆ 42540 │\n",
       "│ …     ┆ …     ┆ …     │\n",
       "│ 9     ┆ 40088 ┆ 44856 │\n",
       "│ 10    ┆ 43124 ┆ 45769 │\n",
       "│ 11    ┆ 41472 ┆ 43150 │\n",
       "│ 12    ┆ 40848 ┆ 38358 │\n",
       "└───────┴───────┴───────┘"
      ]
     },
     "execution_count": 241,
     "metadata": {},
     "output_type": "execute_result"
    }
   ],
   "source": [
    "# let's create a dataframe with one column per year and one row per month\n",
    "\n",
    "nypd_crimes_by_month_first_semester = (\n",
    "        nypd.with_columns(\n",
    "            year = pl.col('complaint_datetime').dt.year(),\n",
    "            month = pl.col('complaint_datetime').dt.month())\n",
    "        .filter(pl.col('year') >= 2021)\n",
    "        .pivot(\n",
    "            index='month',\n",
    "            columns= 'year',\n",
    "            values = 'complaint_id',\n",
    "            aggregate_function = pl.element().count())\n",
    "        .sort('month')\n",
    "        .with_columns(pl.all().cast(pl.Int32))\n",
    ")\n",
    "\n",
    "nypd_crimes_by_month_first_semester"
   ]
  },
  {
   "cell_type": "code",
   "execution_count": 242,
   "metadata": {},
   "outputs": [
    {
     "data": {
      "text/html": [
       "<div><style>\n",
       ".dataframe > thead > tr > th,\n",
       ".dataframe > tbody > tr > td {\n",
       "  text-align: right;\n",
       "}\n",
       "</style>\n",
       "<small>shape: (12, 5)</small><table border=\"1\" class=\"dataframe\"><thead><tr><th>month</th><th>2021</th><th>2022</th><th>2021_cummax</th><th>2022_cummax</th></tr><tr><td>i32</td><td>i32</td><td>i32</td><td>i32</td><td>i32</td></tr></thead><tbody><tr><td>1</td><td>33249</td><td>38218</td><td>33249</td><td>38218</td></tr><tr><td>2</td><td>28416</td><td>37468</td><td>33249</td><td>38218</td></tr><tr><td>3</td><td>34775</td><td>43555</td><td>34775</td><td>43555</td></tr><tr><td>4</td><td>32821</td><td>42540</td><td>34775</td><td>43555</td></tr><tr><td>5</td><td>36881</td><td>45907</td><td>36881</td><td>45907</td></tr><tr><td>6</td><td>37708</td><td>46980</td><td>37708</td><td>46980</td></tr><tr><td>7</td><td>39553</td><td>47309</td><td>39553</td><td>47309</td></tr><tr><td>8</td><td>39148</td><td>46485</td><td>39553</td><td>47309</td></tr><tr><td>9</td><td>40088</td><td>44856</td><td>40088</td><td>47309</td></tr><tr><td>10</td><td>43124</td><td>45769</td><td>43124</td><td>47309</td></tr><tr><td>11</td><td>41472</td><td>43150</td><td>43124</td><td>47309</td></tr><tr><td>12</td><td>40848</td><td>38358</td><td>43124</td><td>47309</td></tr></tbody></table></div>"
      ],
      "text/plain": [
       "shape: (12, 5)\n",
       "┌───────┬───────┬───────┬─────────────┬─────────────┐\n",
       "│ month ┆ 2021  ┆ 2022  ┆ 2021_cummax ┆ 2022_cummax │\n",
       "│ ---   ┆ ---   ┆ ---   ┆ ---         ┆ ---         │\n",
       "│ i32   ┆ i32   ┆ i32   ┆ i32         ┆ i32         │\n",
       "╞═══════╪═══════╪═══════╪═════════════╪═════════════╡\n",
       "│ 1     ┆ 33249 ┆ 38218 ┆ 33249       ┆ 38218       │\n",
       "│ 2     ┆ 28416 ┆ 37468 ┆ 33249       ┆ 38218       │\n",
       "│ 3     ┆ 34775 ┆ 43555 ┆ 34775       ┆ 43555       │\n",
       "│ 4     ┆ 32821 ┆ 42540 ┆ 34775       ┆ 43555       │\n",
       "│ …     ┆ …     ┆ …     ┆ …           ┆ …           │\n",
       "│ 9     ┆ 40088 ┆ 44856 ┆ 40088       ┆ 47309       │\n",
       "│ 10    ┆ 43124 ┆ 45769 ┆ 43124       ┆ 47309       │\n",
       "│ 11    ┆ 41472 ┆ 43150 ┆ 43124       ┆ 47309       │\n",
       "│ 12    ┆ 40848 ┆ 38358 ┆ 43124       ┆ 47309       │\n",
       "└───────┴───────┴───────┴─────────────┴─────────────┘"
      ]
     },
     "execution_count": 242,
     "metadata": {},
     "output_type": "execute_result"
    }
   ],
   "source": [
    "# let's calculate the cumulative max crime count per month\n",
    "# other functions are cummin, cumsum, cumprod, cumcount\n",
    "\n",
    "nypd_crimes_by_month_first_semester.with_columns(\n",
    "    pl.col('2021', '2022').cummax().suffix('_cummax'),\n",
    ")\n"
   ]
  },
  {
   "cell_type": "code",
   "execution_count": 243,
   "metadata": {},
   "outputs": [
    {
     "data": {
      "text/html": [
       "<div><style>\n",
       ".dataframe > thead > tr > th,\n",
       ".dataframe > tbody > tr > td {\n",
       "  text-align: right;\n",
       "}\n",
       "</style>\n",
       "<small>shape: (12, 5)</small><table border=\"1\" class=\"dataframe\"><thead><tr><th>month</th><th>2021</th><th>2022</th><th>2021_diff_from_max</th><th>2022_diff_from_max</th></tr><tr><td>i32</td><td>i32</td><td>i32</td><td>i32</td><td>i32</td></tr></thead><tbody><tr><td>1</td><td>33249</td><td>38218</td><td>0</td><td>0</td></tr><tr><td>2</td><td>28416</td><td>37468</td><td>-4833</td><td>-750</td></tr><tr><td>3</td><td>34775</td><td>43555</td><td>0</td><td>0</td></tr><tr><td>4</td><td>32821</td><td>42540</td><td>-1954</td><td>-1015</td></tr><tr><td>5</td><td>36881</td><td>45907</td><td>0</td><td>0</td></tr><tr><td>6</td><td>37708</td><td>46980</td><td>0</td><td>0</td></tr><tr><td>7</td><td>39553</td><td>47309</td><td>0</td><td>0</td></tr><tr><td>8</td><td>39148</td><td>46485</td><td>-405</td><td>-824</td></tr><tr><td>9</td><td>40088</td><td>44856</td><td>0</td><td>-2453</td></tr><tr><td>10</td><td>43124</td><td>45769</td><td>0</td><td>-1540</td></tr><tr><td>11</td><td>41472</td><td>43150</td><td>-1652</td><td>-4159</td></tr><tr><td>12</td><td>40848</td><td>38358</td><td>-2276</td><td>-8951</td></tr></tbody></table></div>"
      ],
      "text/plain": [
       "shape: (12, 5)\n",
       "┌───────┬───────┬───────┬────────────────────┬────────────────────┐\n",
       "│ month ┆ 2021  ┆ 2022  ┆ 2021_diff_from_max ┆ 2022_diff_from_max │\n",
       "│ ---   ┆ ---   ┆ ---   ┆ ---                ┆ ---                │\n",
       "│ i32   ┆ i32   ┆ i32   ┆ i32                ┆ i32                │\n",
       "╞═══════╪═══════╪═══════╪════════════════════╪════════════════════╡\n",
       "│ 1     ┆ 33249 ┆ 38218 ┆ 0                  ┆ 0                  │\n",
       "│ 2     ┆ 28416 ┆ 37468 ┆ -4833              ┆ -750               │\n",
       "│ 3     ┆ 34775 ┆ 43555 ┆ 0                  ┆ 0                  │\n",
       "│ 4     ┆ 32821 ┆ 42540 ┆ -1954              ┆ -1015              │\n",
       "│ …     ┆ …     ┆ …     ┆ …                  ┆ …                  │\n",
       "│ 9     ┆ 40088 ┆ 44856 ┆ 0                  ┆ -2453              │\n",
       "│ 10    ┆ 43124 ┆ 45769 ┆ 0                  ┆ -1540              │\n",
       "│ 11    ┆ 41472 ┆ 43150 ┆ -1652              ┆ -4159              │\n",
       "│ 12    ┆ 40848 ┆ 38358 ┆ -2276              ┆ -8951              │\n",
       "└───────┴───────┴───────┴────────────────────┴────────────────────┘"
      ]
     },
     "execution_count": 243,
     "metadata": {},
     "output_type": "execute_result"
    }
   ],
   "source": [
    "# for more advanced calculation, a cumulative_eval function is available\n",
    "# cumulative_eval calculates a value for each row, by looking the current and all previous rows\n",
    "# for example, I want to calculate the difference between the current crime count and the maximum crime count to date\n",
    "\n",
    "nypd_crimes_by_month_first_semester.with_columns(\n",
    "    pl.col('2021', '2022').cumulative_eval(\n",
    "        pl.element().last() - pl.element().max()\n",
    "    ).suffix('_diff_from_max')\n",
    ")\n"
   ]
  },
  {
   "cell_type": "markdown",
   "metadata": {},
   "source": [
    "#### Rolling functions"
   ]
  },
  {
   "cell_type": "code",
   "execution_count": 244,
   "metadata": {},
   "outputs": [
    {
     "data": {
      "text/html": [
       "<div><style>\n",
       ".dataframe > thead > tr > th,\n",
       ".dataframe > tbody > tr > td {\n",
       "  text-align: right;\n",
       "}\n",
       "</style>\n",
       "<small>shape: (12, 5)</small><table border=\"1\" class=\"dataframe\"><thead><tr><th>month</th><th>2021</th><th>2022</th><th>2021_rolling_max</th><th>2022_rolling_max</th></tr><tr><td>i32</td><td>i32</td><td>i32</td><td>i32</td><td>i32</td></tr></thead><tbody><tr><td>1</td><td>33249</td><td>38218</td><td>null</td><td>null</td></tr><tr><td>2</td><td>28416</td><td>37468</td><td>null</td><td>null</td></tr><tr><td>3</td><td>34775</td><td>43555</td><td>34775</td><td>43555</td></tr><tr><td>4</td><td>32821</td><td>42540</td><td>34775</td><td>43555</td></tr><tr><td>5</td><td>36881</td><td>45907</td><td>36881</td><td>45907</td></tr><tr><td>6</td><td>37708</td><td>46980</td><td>37708</td><td>46980</td></tr><tr><td>7</td><td>39553</td><td>47309</td><td>39553</td><td>47309</td></tr><tr><td>8</td><td>39148</td><td>46485</td><td>39553</td><td>47309</td></tr><tr><td>9</td><td>40088</td><td>44856</td><td>40088</td><td>47309</td></tr><tr><td>10</td><td>43124</td><td>45769</td><td>43124</td><td>46485</td></tr><tr><td>11</td><td>41472</td><td>43150</td><td>43124</td><td>45769</td></tr><tr><td>12</td><td>40848</td><td>38358</td><td>43124</td><td>45769</td></tr></tbody></table></div>"
      ],
      "text/plain": [
       "shape: (12, 5)\n",
       "┌───────┬───────┬───────┬──────────────────┬──────────────────┐\n",
       "│ month ┆ 2021  ┆ 2022  ┆ 2021_rolling_max ┆ 2022_rolling_max │\n",
       "│ ---   ┆ ---   ┆ ---   ┆ ---              ┆ ---              │\n",
       "│ i32   ┆ i32   ┆ i32   ┆ i32              ┆ i32              │\n",
       "╞═══════╪═══════╪═══════╪══════════════════╪══════════════════╡\n",
       "│ 1     ┆ 33249 ┆ 38218 ┆ null             ┆ null             │\n",
       "│ 2     ┆ 28416 ┆ 37468 ┆ null             ┆ null             │\n",
       "│ 3     ┆ 34775 ┆ 43555 ┆ 34775            ┆ 43555            │\n",
       "│ 4     ┆ 32821 ┆ 42540 ┆ 34775            ┆ 43555            │\n",
       "│ …     ┆ …     ┆ …     ┆ …                ┆ …                │\n",
       "│ 9     ┆ 40088 ┆ 44856 ┆ 40088            ┆ 47309            │\n",
       "│ 10    ┆ 43124 ┆ 45769 ┆ 43124            ┆ 46485            │\n",
       "│ 11    ┆ 41472 ┆ 43150 ┆ 43124            ┆ 45769            │\n",
       "│ 12    ┆ 40848 ┆ 38358 ┆ 43124            ┆ 45769            │\n",
       "└───────┴───────┴───────┴──────────────────┴──────────────────┘"
      ]
     },
     "execution_count": 244,
     "metadata": {},
     "output_type": "execute_result"
    }
   ],
   "source": [
    "# Rolling functions are similar to cumulative functions, but we can specify a number of rows to look at\n",
    "# window_size can also be a temporal interval, for example '1w' for 1 week\n",
    "\n",
    "nypd_crimes_by_month_first_semester.with_columns(\n",
    "    pl.col('2021', '2022').rolling_max(window_size=3).suffix('_rolling_max')\n",
    ")"
   ]
  },
  {
   "cell_type": "code",
   "execution_count": 245,
   "metadata": {},
   "outputs": [
    {
     "data": {
      "text/html": [
       "<div><style>\n",
       ".dataframe > thead > tr > th,\n",
       ".dataframe > tbody > tr > td {\n",
       "  text-align: right;\n",
       "}\n",
       "</style>\n",
       "<small>shape: (12, 5)</small><table border=\"1\" class=\"dataframe\"><thead><tr><th>month</th><th>2021</th><th>2022</th><th>2021_rolling_max</th><th>2022_rolling_max</th></tr><tr><td>i32</td><td>i32</td><td>i32</td><td>i32</td><td>i32</td></tr></thead><tbody><tr><td>1</td><td>33249</td><td>38218</td><td>33249</td><td>38218</td></tr><tr><td>2</td><td>28416</td><td>37468</td><td>33249</td><td>38218</td></tr><tr><td>3</td><td>34775</td><td>43555</td><td>34775</td><td>43555</td></tr><tr><td>4</td><td>32821</td><td>42540</td><td>34775</td><td>43555</td></tr><tr><td>5</td><td>36881</td><td>45907</td><td>36881</td><td>45907</td></tr><tr><td>6</td><td>37708</td><td>46980</td><td>37708</td><td>46980</td></tr><tr><td>7</td><td>39553</td><td>47309</td><td>39553</td><td>47309</td></tr><tr><td>8</td><td>39148</td><td>46485</td><td>39553</td><td>47309</td></tr><tr><td>9</td><td>40088</td><td>44856</td><td>40088</td><td>47309</td></tr><tr><td>10</td><td>43124</td><td>45769</td><td>43124</td><td>46485</td></tr><tr><td>11</td><td>41472</td><td>43150</td><td>43124</td><td>45769</td></tr><tr><td>12</td><td>40848</td><td>38358</td><td>43124</td><td>45769</td></tr></tbody></table></div>"
      ],
      "text/plain": [
       "shape: (12, 5)\n",
       "┌───────┬───────┬───────┬──────────────────┬──────────────────┐\n",
       "│ month ┆ 2021  ┆ 2022  ┆ 2021_rolling_max ┆ 2022_rolling_max │\n",
       "│ ---   ┆ ---   ┆ ---   ┆ ---              ┆ ---              │\n",
       "│ i32   ┆ i32   ┆ i32   ┆ i32              ┆ i32              │\n",
       "╞═══════╪═══════╪═══════╪══════════════════╪══════════════════╡\n",
       "│ 1     ┆ 33249 ┆ 38218 ┆ 33249            ┆ 38218            │\n",
       "│ 2     ┆ 28416 ┆ 37468 ┆ 33249            ┆ 38218            │\n",
       "│ 3     ┆ 34775 ┆ 43555 ┆ 34775            ┆ 43555            │\n",
       "│ 4     ┆ 32821 ┆ 42540 ┆ 34775            ┆ 43555            │\n",
       "│ …     ┆ …     ┆ …     ┆ …                ┆ …                │\n",
       "│ 9     ┆ 40088 ┆ 44856 ┆ 40088            ┆ 47309            │\n",
       "│ 10    ┆ 43124 ┆ 45769 ┆ 43124            ┆ 46485            │\n",
       "│ 11    ┆ 41472 ┆ 43150 ┆ 43124            ┆ 45769            │\n",
       "│ 12    ┆ 40848 ┆ 38358 ┆ 43124            ┆ 45769            │\n",
       "└───────┴───────┴───────┴──────────────────┴──────────────────┘"
      ]
     },
     "execution_count": 245,
     "metadata": {},
     "output_type": "execute_result"
    }
   ],
   "source": [
    "# with a window_size of 3, we look at the current row and the two previous rows\n",
    "# if the previous rows do not exist or they are null, the value is not calculated\n",
    "# we can change the minimum periods needed for calculating a value with min_periods\n",
    "\n",
    "nypd_crimes_by_month_first_semester.with_columns(\n",
    "    pl.col('2021', '2022').rolling_max(window_size=3, min_periods=1).suffix('_rolling_max')\n",
    ")"
   ]
  },
  {
   "cell_type": "code",
   "execution_count": null,
   "metadata": {},
   "outputs": [],
   "source": [
    "# there are several rolling functions, including rolling_mean, rolling_min, rolling_corr, etc\n",
    "# rolling correlation for example can be useful to check the correlation between 2 variables across time, such as crime count and population"
   ]
  },
  {
   "cell_type": "code",
   "execution_count": 246,
   "metadata": {},
   "outputs": [],
   "source": [
    "# Polars also has exponentially-weighted moving average functions, which are useful for time series analysis\n",
    "# and popular in finance\n",
    "# they are ewm_mean, ewm_std, ewm_var"
   ]
  },
  {
   "cell_type": "markdown",
   "metadata": {},
   "source": [
    "#### Dynamic groups: groupby_dynamic and groupby_rolling"
   ]
  },
  {
   "cell_type": "code",
   "execution_count": null,
   "metadata": {},
   "outputs": [],
   "source": []
  }
 ],
 "metadata": {
  "kernelspec": {
   "display_name": "Python 3",
   "language": "python",
   "name": "python3"
  },
  "language_info": {
   "codemirror_mode": {
    "name": "ipython",
    "version": 3
   },
   "file_extension": ".py",
   "mimetype": "text/x-python",
   "name": "python",
   "nbconvert_exporter": "python",
   "pygments_lexer": "ipython3",
   "version": "3.10.6"
  },
  "orig_nbformat": 4
 },
 "nbformat": 4,
 "nbformat_minor": 2
}
