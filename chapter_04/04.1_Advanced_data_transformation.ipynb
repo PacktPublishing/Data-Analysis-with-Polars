{
 "cells": [
  {
   "attachments": {},
   "cell_type": "markdown",
   "metadata": {},
   "source": [
    "### Advanced Data Transformation with Polars"
   ]
  },
  {
   "attachments": {},
   "cell_type": "markdown",
   "metadata": {},
   "source": [
    "The examples below use `.head()` to reduce the output to a few rows and take up less space.\n",
    "If you want the full output, remove `.head()` from the code.\n",
    "\n",
    "This notebooked is divided into sections. If your code editor supports it, you can use the **Outline** functionality to easily go to the code section you are interested in.\n",
    "\n",
    "For more details on Polars functions, check out the Polars API reference: https://pola-rs.github.io/polars/py-polars/html/reference/index.html"
   ]
  },
  {
   "cell_type": "code",
   "execution_count": 1,
   "metadata": {},
   "outputs": [
    {
     "data": {
      "text/plain": [
       "polars.config.Config"
      ]
     },
     "execution_count": 1,
     "metadata": {},
     "output_type": "execute_result"
    }
   ],
   "source": [
    "import polars as pl\n",
    "\n",
    "# Configure the number of characters to show for each string column\n",
    "pl.Config.set_fmt_str_lengths(50)"
   ]
  },
  {
   "cell_type": "markdown",
   "metadata": {},
   "source": [
    "#### List operations"
   ]
  },
  {
   "cell_type": "code",
   "execution_count": 2,
   "metadata": {},
   "outputs": [
    {
     "data": {
      "text/html": [
       "<div><style>\n",
       ".dataframe > thead > tr > th,\n",
       ".dataframe > tbody > tr > td {\n",
       "  text-align: right;\n",
       "}\n",
       "</style>\n",
       "<small>shape: (4, 5)</small><table border=\"1\" class=\"dataframe\"><thead><tr><th>branch</th><th>employees</th><th>weekly_sales</th><th>stock_items</th><th>customer_rating</th></tr><tr><td>str</td><td>list[str]</td><td>list[i64]</td><td>list[str]</td><td>list[i64]</td></tr></thead><tbody><tr><td>&quot;A&quot;</td><td>[&quot;John&quot;, &quot;Lisa&quot;, &quot;Sam&quot;]</td><td>[1200, 2500, 700]</td><td>[&quot;Item1&quot;, &quot;Item2&quot;]</td><td>[3, 4, 4]</td></tr><tr><td>&quot;B&quot;</td><td>[&quot;Lisa&quot;, &quot;Alex&quot;]</td><td>[1500, 2700]</td><td>[&quot;Item1&quot;, &quot;Item3&quot;]</td><td>[5, 4]</td></tr><tr><td>&quot;C&quot;</td><td>[&quot;Sam&quot;, &quot;Alex&quot;, &quot;John&quot;]</td><td>[1800, 2000, 900]</td><td>[&quot;Item2&quot;, &quot;Item3&quot;]</td><td>[4, 3, 3]</td></tr><tr><td>&quot;D&quot;</td><td>[&quot;Lisa&quot;, &quot;Sam&quot;]</td><td>[1700, 2100]</td><td>[&quot;Item1&quot;, &quot;Item2&quot;, &quot;Item3&quot;]</td><td>[5, 5]</td></tr></tbody></table></div>"
      ],
      "text/plain": [
       "shape: (4, 5)\n",
       "┌────────┬─────────────────────────┬───────────────────┬────────────────────┬─────────────────┐\n",
       "│ branch ┆ employees               ┆ weekly_sales      ┆ stock_items        ┆ customer_rating │\n",
       "│ ---    ┆ ---                     ┆ ---               ┆ ---                ┆ ---             │\n",
       "│ str    ┆ list[str]               ┆ list[i64]         ┆ list[str]          ┆ list[i64]       │\n",
       "╞════════╪═════════════════════════╪═══════════════════╪════════════════════╪═════════════════╡\n",
       "│ A      ┆ [\"John\", \"Lisa\", \"Sam\"] ┆ [1200, 2500, 700] ┆ [\"Item1\", \"Item2\"] ┆ [3, 4, 4]       │\n",
       "│ B      ┆ [\"Lisa\", \"Alex\"]        ┆ [1500, 2700]      ┆ [\"Item1\", \"Item3\"] ┆ [5, 4]          │\n",
       "│ C      ┆ [\"Sam\", \"Alex\", \"John\"] ┆ [1800, 2000, 900] ┆ [\"Item2\", \"Item3\"] ┆ [4, 3, 3]       │\n",
       "│ D      ┆ [\"Lisa\", \"Sam\"]         ┆ [1700, 2100]      ┆ [\"Item1\", \"Item2\", ┆ [5, 5]          │\n",
       "│        ┆                         ┆                   ┆ \"Item3\"]           ┆                 │\n",
       "└────────┴─────────────────────────┴───────────────────┴────────────────────┴─────────────────┘"
      ]
     },
     "execution_count": 2,
     "metadata": {},
     "output_type": "execute_result"
    }
   ],
   "source": [
    "data = {\n",
    "    \"branch\": ['A', 'B', 'C', 'D'],\n",
    "    \"employees\": [['John', 'Lisa', 'Sam'], ['Lisa', 'Alex'], ['Sam', 'Alex', 'John'], ['Lisa', 'Sam']],\n",
    "    \"weekly_sales\": [[1200, 2500, 700], [1500, 2700], [1800, 2000, 900], [1700, 2100]],\n",
    "    \"stock_items\": [['Item1', 'Item2'], ['Item1', 'Item3'], ['Item2', 'Item3'], ['Item1', 'Item2', 'Item3']],\n",
    "    \"customer_rating\": [[3, 4, 4], [5, 4], [4, 3, 3], [5, 5]]\n",
    "}\n",
    "\n",
    "df_retail = pl.DataFrame(data)\n",
    "\n",
    "df_retail"
   ]
  },
  {
   "cell_type": "code",
   "execution_count": 3,
   "metadata": {},
   "outputs": [
    {
     "data": {
      "text/html": [
       "<div><style>\n",
       ".dataframe > thead > tr > th,\n",
       ".dataframe > tbody > tr > td {\n",
       "  text-align: right;\n",
       "}\n",
       "</style>\n",
       "<small>shape: (4, 2)</small><table border=\"1\" class=\"dataframe\"><thead><tr><th>employees</th><th>employees_joined</th></tr><tr><td>list[str]</td><td>str</td></tr></thead><tbody><tr><td>[&quot;John&quot;, &quot;Lisa&quot;, &quot;Sam&quot;]</td><td>&quot;John, Lisa, Sam&quot;</td></tr><tr><td>[&quot;Lisa&quot;, &quot;Alex&quot;]</td><td>&quot;Lisa, Alex&quot;</td></tr><tr><td>[&quot;Sam&quot;, &quot;Alex&quot;, &quot;John&quot;]</td><td>&quot;Sam, Alex, John&quot;</td></tr><tr><td>[&quot;Lisa&quot;, &quot;Sam&quot;]</td><td>&quot;Lisa, Sam&quot;</td></tr></tbody></table></div>"
      ],
      "text/plain": [
       "shape: (4, 2)\n",
       "┌─────────────────────────┬──────────────────┐\n",
       "│ employees               ┆ employees_joined │\n",
       "│ ---                     ┆ ---              │\n",
       "│ list[str]               ┆ str              │\n",
       "╞═════════════════════════╪══════════════════╡\n",
       "│ [\"John\", \"Lisa\", \"Sam\"] ┆ John, Lisa, Sam  │\n",
       "│ [\"Lisa\", \"Alex\"]        ┆ Lisa, Alex       │\n",
       "│ [\"Sam\", \"Alex\", \"John\"] ┆ Sam, Alex, John  │\n",
       "│ [\"Lisa\", \"Sam\"]         ┆ Lisa, Sam        │\n",
       "└─────────────────────────┴──────────────────┘"
      ]
     },
     "execution_count": 3,
     "metadata": {},
     "output_type": "execute_result"
    }
   ],
   "source": [
    "# join the employees working in each branch in a single string\n",
    "\n",
    "df_retail.select(\n",
    "    'employees',\n",
    "    employees_joined = pl.col(\"employees\").list.join(', ')\n",
    "    )"
   ]
  },
  {
   "cell_type": "code",
   "execution_count": 4,
   "metadata": {},
   "outputs": [
    {
     "data": {
      "text/html": [
       "<div><style>\n",
       ".dataframe > thead > tr > th,\n",
       ".dataframe > tbody > tr > td {\n",
       "  text-align: right;\n",
       "}\n",
       "</style>\n",
       "<small>shape: (4, 3)</small><table border=\"1\" class=\"dataframe\"><thead><tr><th>branch</th><th>stock_items</th><th>has_item1</th></tr><tr><td>str</td><td>list[str]</td><td>bool</td></tr></thead><tbody><tr><td>&quot;A&quot;</td><td>[&quot;Item1&quot;, &quot;Item2&quot;]</td><td>true</td></tr><tr><td>&quot;B&quot;</td><td>[&quot;Item1&quot;, &quot;Item3&quot;]</td><td>true</td></tr><tr><td>&quot;C&quot;</td><td>[&quot;Item2&quot;, &quot;Item3&quot;]</td><td>false</td></tr><tr><td>&quot;D&quot;</td><td>[&quot;Item1&quot;, &quot;Item2&quot;, &quot;Item3&quot;]</td><td>true</td></tr></tbody></table></div>"
      ],
      "text/plain": [
       "shape: (4, 3)\n",
       "┌────────┬─────────────────────────────┬───────────┐\n",
       "│ branch ┆ stock_items                 ┆ has_item1 │\n",
       "│ ---    ┆ ---                         ┆ ---       │\n",
       "│ str    ┆ list[str]                   ┆ bool      │\n",
       "╞════════╪═════════════════════════════╪═══════════╡\n",
       "│ A      ┆ [\"Item1\", \"Item2\"]          ┆ true      │\n",
       "│ B      ┆ [\"Item1\", \"Item3\"]          ┆ true      │\n",
       "│ C      ┆ [\"Item2\", \"Item3\"]          ┆ false     │\n",
       "│ D      ┆ [\"Item1\", \"Item2\", \"Item3\"] ┆ true      │\n",
       "└────────┴─────────────────────────────┴───────────┘"
      ]
     },
     "execution_count": 4,
     "metadata": {},
     "output_type": "execute_result"
    }
   ],
   "source": [
    "# check which branch has Item1 in stock\n",
    "\n",
    "df_retail.select(\n",
    "    'branch',\n",
    "    'stock_items',\n",
    "    has_item1 = pl.col(\"stock_items\").list.contains(\"Item1\")\n",
    "    )"
   ]
  },
  {
   "cell_type": "code",
   "execution_count": 5,
   "metadata": {},
   "outputs": [
    {
     "data": {
      "text/html": [
       "<div><style>\n",
       ".dataframe > thead > tr > th,\n",
       ".dataframe > tbody > tr > td {\n",
       "  text-align: right;\n",
       "}\n",
       "</style>\n",
       "<small>shape: (4, 2)</small><table border=\"1\" class=\"dataframe\"><thead><tr><th>customer_rating</th><th>count_ratings_of_5</th></tr><tr><td>list[i64]</td><td>u32</td></tr></thead><tbody><tr><td>[3, 4, 4]</td><td>0</td></tr><tr><td>[5, 4]</td><td>1</td></tr><tr><td>[4, 3, 3]</td><td>0</td></tr><tr><td>[5, 5]</td><td>2</td></tr></tbody></table></div>"
      ],
      "text/plain": [
       "shape: (4, 2)\n",
       "┌─────────────────┬────────────────────┐\n",
       "│ customer_rating ┆ count_ratings_of_5 │\n",
       "│ ---             ┆ ---                │\n",
       "│ list[i64]       ┆ u32                │\n",
       "╞═════════════════╪════════════════════╡\n",
       "│ [3, 4, 4]       ┆ 0                  │\n",
       "│ [5, 4]          ┆ 1                  │\n",
       "│ [4, 3, 3]       ┆ 0                  │\n",
       "│ [5, 5]          ┆ 2                  │\n",
       "└─────────────────┴────────────────────┘"
      ]
     },
     "execution_count": 5,
     "metadata": {},
     "output_type": "execute_result"
    }
   ],
   "source": [
    "# count how many ratings of 5 each branch has\n",
    "\n",
    "df_retail.select(\n",
    "    'customer_rating',\n",
    "    count_ratings_of_5 = pl.col(\"customer_rating\").list.count_match(5)\n",
    "    )"
   ]
  },
  {
   "cell_type": "code",
   "execution_count": 6,
   "metadata": {},
   "outputs": [
    {
     "data": {
      "text/html": [
       "<div><style>\n",
       ".dataframe > thead > tr > th,\n",
       ".dataframe > tbody > tr > td {\n",
       "  text-align: right;\n",
       "}\n",
       "</style>\n",
       "<small>shape: (4, 1)</small><table border=\"1\" class=\"dataframe\"><thead><tr><th>weekly_sales</th></tr><tr><td>i64</td></tr></thead><tbody><tr><td>2500</td></tr><tr><td>2700</td></tr><tr><td>2000</td></tr><tr><td>2100</td></tr></tbody></table></div>"
      ],
      "text/plain": [
       "shape: (4, 1)\n",
       "┌──────────────┐\n",
       "│ weekly_sales │\n",
       "│ ---          │\n",
       "│ i64          │\n",
       "╞══════════════╡\n",
       "│ 2500         │\n",
       "│ 2700         │\n",
       "│ 2000         │\n",
       "│ 2100         │\n",
       "└──────────────┘"
      ]
     },
     "execution_count": 6,
     "metadata": {},
     "output_type": "execute_result"
    }
   ],
   "source": [
    "# I can visualize the maximum value using max\n",
    "\n",
    "df_retail.select(\n",
    "    pl.col('weekly_sales').list.max()\n",
    ")"
   ]
  },
  {
   "cell_type": "code",
   "execution_count": 7,
   "metadata": {},
   "outputs": [
    {
     "data": {
      "text/html": [
       "<div><style>\n",
       ".dataframe > thead > tr > th,\n",
       ".dataframe > tbody > tr > td {\n",
       "  text-align: right;\n",
       "}\n",
       "</style>\n",
       "<small>shape: (4, 1)</small><table border=\"1\" class=\"dataframe\"><thead><tr><th>customer_rating</th></tr><tr><td>list[i64]</td></tr></thead><tbody><tr><td>[3, 4]</td></tr><tr><td>[4, 5]</td></tr><tr><td>[3, 4]</td></tr><tr><td>[5]</td></tr></tbody></table></div>"
      ],
      "text/plain": [
       "shape: (4, 1)\n",
       "┌─────────────────┐\n",
       "│ customer_rating │\n",
       "│ ---             │\n",
       "│ list[i64]       │\n",
       "╞═════════════════╡\n",
       "│ [3, 4]          │\n",
       "│ [4, 5]          │\n",
       "│ [3, 4]          │\n",
       "│ [5]             │\n",
       "└─────────────────┘"
      ]
     },
     "execution_count": 7,
     "metadata": {},
     "output_type": "execute_result"
    }
   ],
   "source": [
    "# I can only the unique values\n",
    "\n",
    "df_retail.select(\n",
    "    pl.col('customer_rating').list.unique()\n",
    ")"
   ]
  },
  {
   "cell_type": "code",
   "execution_count": 8,
   "metadata": {},
   "outputs": [
    {
     "data": {
      "text/html": [
       "<div><style>\n",
       ".dataframe > thead > tr > th,\n",
       ".dataframe > tbody > tr > td {\n",
       "  text-align: right;\n",
       "}\n",
       "</style>\n",
       "<small>shape: (4, 1)</small><table border=\"1\" class=\"dataframe\"><thead><tr><th>weekly_sales</th></tr><tr><td>list[i64]</td></tr></thead><tbody><tr><td>[1200]</td></tr><tr><td>[2700]</td></tr><tr><td>[1800]</td></tr><tr><td>[2100]</td></tr></tbody></table></div>"
      ],
      "text/plain": [
       "shape: (4, 1)\n",
       "┌──────────────┐\n",
       "│ weekly_sales │\n",
       "│ ---          │\n",
       "│ list[i64]    │\n",
       "╞══════════════╡\n",
       "│ [1200]       │\n",
       "│ [2700]       │\n",
       "│ [1800]       │\n",
       "│ [2100]       │\n",
       "└──────────────┘"
      ]
     },
     "execution_count": 8,
     "metadata": {},
     "output_type": "execute_result"
    }
   ],
   "source": [
    "# I can sort the values, and take the second biggest\n",
    "\n",
    "df_retail.select(\n",
    "    pl.col('weekly_sales').list.sort().list.take(1)\n",
    ")"
   ]
  },
  {
   "cell_type": "code",
   "execution_count": 9,
   "metadata": {},
   "outputs": [
    {
     "data": {
      "text/html": [
       "<div><style>\n",
       ".dataframe > thead > tr > th,\n",
       ".dataframe > tbody > tr > td {\n",
       "  text-align: right;\n",
       "}\n",
       "</style>\n",
       "<small>shape: (4, 2)</small><table border=\"1\" class=\"dataframe\"><thead><tr><th>weekly_sales</th><th>ranked_sales</th></tr><tr><td>list[i64]</td><td>list[u32]</td></tr></thead><tbody><tr><td>[1200, 2500, 700]</td><td>[2, 1, 3]</td></tr><tr><td>[1500, 2700]</td><td>[2, 1]</td></tr><tr><td>[1800, 2000, 900]</td><td>[2, 1, 3]</td></tr><tr><td>[1700, 2100]</td><td>[2, 1]</td></tr></tbody></table></div>"
      ],
      "text/plain": [
       "shape: (4, 2)\n",
       "┌───────────────────┬──────────────┐\n",
       "│ weekly_sales      ┆ ranked_sales │\n",
       "│ ---               ┆ ---          │\n",
       "│ list[i64]         ┆ list[u32]    │\n",
       "╞═══════════════════╪══════════════╡\n",
       "│ [1200, 2500, 700] ┆ [2, 1, 3]    │\n",
       "│ [1500, 2700]      ┆ [2, 1]       │\n",
       "│ [1800, 2000, 900] ┆ [2, 1, 3]    │\n",
       "│ [1700, 2100]      ┆ [2, 1]       │\n",
       "└───────────────────┴──────────────┘"
      ]
     },
     "execution_count": 9,
     "metadata": {},
     "output_type": "execute_result"
    }
   ],
   "source": [
    "# for functions not available in the list namespace, I can use eval and use all expressions\n",
    "# inside pl.eval, I can identify the list with pl.element()\n",
    "# for example, I can rank the sales\n",
    "\n",
    "df_retail.select(\n",
    "    'weekly_sales',\n",
    "    ranked_sales = \n",
    "        pl.col('weekly_sales').list.eval(\n",
    "            pl.element().rank(method=\"dense\", descending=True))\n",
    "    )\n"
   ]
  },
  {
   "cell_type": "code",
   "execution_count": 10,
   "metadata": {},
   "outputs": [
    {
     "data": {
      "text/html": [
       "<div><style>\n",
       ".dataframe > thead > tr > th,\n",
       ".dataframe > tbody > tr > td {\n",
       "  text-align: right;\n",
       "}\n",
       "</style>\n",
       "<small>shape: (4, 2)</small><table border=\"1\" class=\"dataframe\"><thead><tr><th>weekly_sales</th><th>filtered_sales</th></tr><tr><td>list[i64]</td><td>list[i64]</td></tr></thead><tbody><tr><td>[1200, 2500, 700]</td><td>[2500]</td></tr><tr><td>[1500, 2700]</td><td>[2700]</td></tr><tr><td>[1800, 2000, 900]</td><td>[]</td></tr><tr><td>[1700, 2100]</td><td>[]</td></tr></tbody></table></div>"
      ],
      "text/plain": [
       "shape: (4, 2)\n",
       "┌───────────────────┬────────────────┐\n",
       "│ weekly_sales      ┆ filtered_sales │\n",
       "│ ---               ┆ ---            │\n",
       "│ list[i64]         ┆ list[i64]      │\n",
       "╞═══════════════════╪════════════════╡\n",
       "│ [1200, 2500, 700] ┆ [2500]         │\n",
       "│ [1500, 2700]      ┆ [2700]         │\n",
       "│ [1800, 2000, 900] ┆ []             │\n",
       "│ [1700, 2100]      ┆ []             │\n",
       "└───────────────────┴────────────────┘"
      ]
     },
     "execution_count": 10,
     "metadata": {},
     "output_type": "execute_result"
    }
   ],
   "source": [
    "# using pl.eval I can filter for sales equal or bigger than 2500\n",
    "# note that here I am using pl.element() twice, the first time to identify the list, the second time to identify the element\n",
    "\n",
    "df_retail.select(\n",
    "    'weekly_sales',\n",
    "    filtered_sales = \n",
    "        pl.col('weekly_sales').list.eval(\n",
    "            pl.element().filter(pl.element()>= 2500))\n",
    ")"
   ]
  },
  {
   "cell_type": "markdown",
   "metadata": {},
   "source": [
    "#### String operations"
   ]
  },
  {
   "cell_type": "code",
   "execution_count": 11,
   "metadata": {},
   "outputs": [
    {
     "data": {
      "text/html": [
       "<div><style>\n",
       ".dataframe > thead > tr > th,\n",
       ".dataframe > tbody > tr > td {\n",
       "  text-align: right;\n",
       "}\n",
       "</style>\n",
       "<small>shape: (5, 6)</small><table border=\"1\" class=\"dataframe\"><thead><tr><th>customer_id</th><th>email</th><th>feedback</th><th>product_id</th><th>order_date</th><th>transaction_details</th></tr><tr><td>str</td><td>str</td><td>str</td><td>str</td><td>str</td><td>str</td></tr></thead><tbody><tr><td>&quot;C001&quot;</td><td>&quot;john.doe@example.com&quot;</td><td>&quot;The #PRODUCT-X1 is AMAZING. I love it.&quot;</td><td>&quot;P001&quot;</td><td>&quot;2023-06-01&quot;</td><td>&quot;{&quot;price&quot;: 200.0, &quot;shipping&quot;: {&quot;type&quot;: &quot;express&quot;, …</td></tr><tr><td>&quot;C002&quot;</td><td>&quot;sarah.connor@shopnow.com&quot;</td><td>&quot;Didn&#x27;t like #product-x2, poor quality. #Product-x…</td><td>&quot;P002&quot;</td><td>&quot;2023-06-02&quot;</td><td>&quot;{&quot;price&quot;: 150.0, &quot;shipping&quot;: {&quot;type&quot;: &quot;standard&quot;,…</td></tr><tr><td>&quot;C003&quot;</td><td>&quot;jack.sparrow@onlineshopping.net&quot;</td><td>&quot;The #product-x1 is fantastic. Super #happy with i…</td><td>&quot;P001&quot;</td><td>&quot;2023-06-03&quot;</td><td>&quot;{&quot;price&quot;: 200.0, &quot;shipping&quot;: {&quot;type&quot;: &quot;express&quot;, …</td></tr><tr><td>&quot;C004&quot;</td><td>&quot;harry.potter@buyonline.org&quot;</td><td>&quot;The service was bad. Not happy with #PRODUCT-M1. …</td><td>&quot;M001&quot;</td><td>&quot;2023-06-04&quot;</td><td>&quot;{&quot;price&quot;: 250.0, &quot;shipping&quot;: {&quot;type&quot;: &quot;standard&quot;,…</td></tr><tr><td>&quot;C005&quot;</td><td>&quot;lisa.simpson@webshop.com&quot;</td><td>&quot;Love #PRODUCT-X1, worth every penny!&quot;</td><td>&quot;P001&quot;</td><td>&quot;2023-06-05&quot;</td><td>&quot;{&quot;price&quot;: 200.0, &quot;shipping&quot;: {&quot;type&quot;: &quot;express&quot;, …</td></tr></tbody></table></div>"
      ],
      "text/plain": [
       "shape: (5, 6)\n",
       "┌─────────────┬───────────────────┬───────────────────┬────────────┬────────────┬──────────────────┐\n",
       "│ customer_id ┆ email             ┆ feedback          ┆ product_id ┆ order_date ┆ transaction_deta │\n",
       "│ ---         ┆ ---               ┆ ---               ┆ ---        ┆ ---        ┆ ils              │\n",
       "│ str         ┆ str               ┆ str               ┆ str        ┆ str        ┆ ---              │\n",
       "│             ┆                   ┆                   ┆            ┆            ┆ str              │\n",
       "╞═════════════╪═══════════════════╪═══════════════════╪════════════╪════════════╪══════════════════╡\n",
       "│ C001        ┆ john.doe@example. ┆ The #PRODUCT-X1   ┆ P001       ┆ 2023-06-01 ┆ {\"price\": 200.0, │\n",
       "│             ┆ com               ┆ is AMAZING. I     ┆            ┆            ┆ \"shipping\":      │\n",
       "│             ┆                   ┆ love it.          ┆            ┆            ┆ {\"type\":         │\n",
       "│             ┆                   ┆                   ┆            ┆            ┆ \"express\", \"…    │\n",
       "│ C002        ┆ sarah.connor@shop ┆ Didn't like       ┆ P002       ┆ 2023-06-02 ┆ {\"price\": 150.0, │\n",
       "│             ┆ now.com           ┆ #product-x2, poor ┆            ┆            ┆ \"shipping\":      │\n",
       "│             ┆                   ┆ quality.          ┆            ┆            ┆ {\"type\":         │\n",
       "│             ┆                   ┆ #Product-x1…      ┆            ┆            ┆ \"standard\", …    │\n",
       "│ C003        ┆ jack.sparrow@onli ┆ The #product-x1   ┆ P001       ┆ 2023-06-03 ┆ {\"price\": 200.0, │\n",
       "│             ┆ neshopping.net    ┆ is fantastic.     ┆            ┆            ┆ \"shipping\":      │\n",
       "│             ┆                   ┆ Super #happy with ┆            ┆            ┆ {\"type\":         │\n",
       "│             ┆                   ┆ it…               ┆            ┆            ┆ \"express\", \"…    │\n",
       "│ C004        ┆ harry.potter@buyo ┆ The service was   ┆ M001       ┆ 2023-06-04 ┆ {\"price\": 250.0, │\n",
       "│             ┆ nline.org         ┆ bad. Not happy    ┆            ┆            ┆ \"shipping\":      │\n",
       "│             ┆                   ┆ with #PRODUCT-M1. ┆            ┆            ┆ {\"type\":         │\n",
       "│             ┆                   ┆ J…                ┆            ┆            ┆ \"standard\", …    │\n",
       "│ C005        ┆ lisa.simpson@webs ┆ Love #PRODUCT-X1, ┆ P001       ┆ 2023-06-05 ┆ {\"price\": 200.0, │\n",
       "│             ┆ hop.com           ┆ worth every       ┆            ┆            ┆ \"shipping\":      │\n",
       "│             ┆                   ┆ penny!            ┆            ┆            ┆ {\"type\":         │\n",
       "│             ┆                   ┆                   ┆            ┆            ┆ \"express\", \"…    │\n",
       "└─────────────┴───────────────────┴───────────────────┴────────────┴────────────┴──────────────────┘"
      ]
     },
     "execution_count": 11,
     "metadata": {},
     "output_type": "execute_result"
    }
   ],
   "source": [
    "# Data\n",
    "data = {\n",
    "    \"customer_id\": [\"C001\", \"C002\", \"C003\", \"C004\", \"C005\"],\n",
    "    \"email\": [\"john.doe@example.com\", \"sarah.connor@shopnow.com\", \"jack.sparrow@onlineshopping.net\", \"harry.potter@buyonline.org\", \"lisa.simpson@webshop.com\"],\n",
    "    \"feedback\": [\n",
    "        \"The #PRODUCT-X1 is AMAZING. I love it.\",\n",
    "        \"Didn't like #product-x2, poor quality. #Product-x1 is better.\",\n",
    "        \"The #product-x1 is fantastic. Super #happy with it.\",\n",
    "        \"The service was bad. Not happy with #PRODUCT-M1. Just as bad as #PRODUCT-M2.\",\n",
    "        \"Love #PRODUCT-X1, worth every penny!\",\n",
    "    ],\n",
    "    \"product_id\": [\"P001\", \"P002\", \"P001\", \"M001\", \"P001\"],\n",
    "    \"order_date\": [\"2023-06-01\", \"2023-06-02\", \"2023-06-03\", \"2023-06-04\", \"2023-06-05\"],\n",
    "    \"transaction_details\": ['{\"price\": 200.0, \"shipping\": {\"type\": \"express\", \"cost\": 20.0}}',\n",
    "        '{\"price\": 150.0, \"shipping\": {\"type\": \"standard\", \"cost\": 10.0}}',\n",
    "        '{\"price\": 200.0, \"shipping\": {\"type\": \"express\", \"cost\": 20.0}}',\n",
    "        '{\"price\": 250.0, \"shipping\": {\"type\": \"standard\", \"cost\": 10.0}}',\n",
    "        '{\"price\": 200.0, \"shipping\": {\"type\": \"express\", \"cost\": 20.0}}'],\n",
    "}\n",
    "\n",
    "# Create DataFrame\n",
    "df_feedback = pl.DataFrame(data)\n",
    "\n",
    "df_feedback"
   ]
  },
  {
   "cell_type": "code",
   "execution_count": 12,
   "metadata": {},
   "outputs": [
    {
     "data": {
      "text/html": [
       "<div><style>\n",
       ".dataframe > thead > tr > th,\n",
       ".dataframe > tbody > tr > td {\n",
       "  text-align: right;\n",
       "}\n",
       "</style>\n",
       "<small>shape: (5, 1)</small><table border=\"1\" class=\"dataframe\"><thead><tr><th>feedback</th></tr><tr><td>str</td></tr></thead><tbody><tr><td>&quot;the #product-x1 is amazing. i love it.&quot;</td></tr><tr><td>&quot;didn&#x27;t like #product-x2, poor quality. #product-x…</td></tr><tr><td>&quot;the #product-x1 is fantastic. super #happy with i…</td></tr><tr><td>&quot;the service was bad. not happy with #product-m1. …</td></tr><tr><td>&quot;love #product-x1, worth every penny!&quot;</td></tr></tbody></table></div>"
      ],
      "text/plain": [
       "shape: (5, 1)\n",
       "┌─────────────────────────────────────────────────────┐\n",
       "│ feedback                                            │\n",
       "│ ---                                                 │\n",
       "│ str                                                 │\n",
       "╞═════════════════════════════════════════════════════╡\n",
       "│ the #product-x1 is amazing. i love it.              │\n",
       "│ didn't like #product-x2, poor quality. #product-x1… │\n",
       "│ the #product-x1 is fantastic. super #happy with it… │\n",
       "│ the service was bad. not happy with #product-m1. j… │\n",
       "│ love #product-x1, worth every penny!                │\n",
       "└─────────────────────────────────────────────────────┘"
      ]
     },
     "execution_count": 12,
     "metadata": {},
     "output_type": "execute_result"
    }
   ],
   "source": [
    "# to lowercase\n",
    "\n",
    "df_feedback.select(\n",
    "    pl.col('feedback').str.to_lowercase(),\n",
    ")"
   ]
  },
  {
   "cell_type": "code",
   "execution_count": 13,
   "metadata": {},
   "outputs": [
    {
     "data": {
      "text/html": [
       "<div><style>\n",
       ".dataframe > thead > tr > th,\n",
       ".dataframe > tbody > tr > td {\n",
       "  text-align: right;\n",
       "}\n",
       "</style>\n",
       "<small>shape: (2, 6)</small><table border=\"1\" class=\"dataframe\"><thead><tr><th>customer_id</th><th>email</th><th>feedback</th><th>product_id</th><th>order_date</th><th>transaction_details</th></tr><tr><td>str</td><td>str</td><td>str</td><td>str</td><td>str</td><td>str</td></tr></thead><tbody><tr><td>&quot;C002&quot;</td><td>&quot;sarah.connor@shopnow.com&quot;</td><td>&quot;Didn&#x27;t like #product-x2, poor quality. #Product-x…</td><td>&quot;P002&quot;</td><td>&quot;2023-06-02&quot;</td><td>&quot;{&quot;price&quot;: 150.0, &quot;shipping&quot;: {&quot;type&quot;: &quot;standard&quot;,…</td></tr><tr><td>&quot;C004&quot;</td><td>&quot;harry.potter@buyonline.org&quot;</td><td>&quot;The service was bad. Not happy with #PRODUCT-M1. …</td><td>&quot;M001&quot;</td><td>&quot;2023-06-04&quot;</td><td>&quot;{&quot;price&quot;: 250.0, &quot;shipping&quot;: {&quot;type&quot;: &quot;standard&quot;,…</td></tr></tbody></table></div>"
      ],
      "text/plain": [
       "shape: (2, 6)\n",
       "┌─────────────┬───────────────────┬───────────────────┬────────────┬────────────┬──────────────────┐\n",
       "│ customer_id ┆ email             ┆ feedback          ┆ product_id ┆ order_date ┆ transaction_deta │\n",
       "│ ---         ┆ ---               ┆ ---               ┆ ---        ┆ ---        ┆ ils              │\n",
       "│ str         ┆ str               ┆ str               ┆ str        ┆ str        ┆ ---              │\n",
       "│             ┆                   ┆                   ┆            ┆            ┆ str              │\n",
       "╞═════════════╪═══════════════════╪═══════════════════╪════════════╪════════════╪══════════════════╡\n",
       "│ C002        ┆ sarah.connor@shop ┆ Didn't like       ┆ P002       ┆ 2023-06-02 ┆ {\"price\": 150.0, │\n",
       "│             ┆ now.com           ┆ #product-x2, poor ┆            ┆            ┆ \"shipping\":      │\n",
       "│             ┆                   ┆ quality.          ┆            ┆            ┆ {\"type\":         │\n",
       "│             ┆                   ┆ #Product-x1…      ┆            ┆            ┆ \"standard\", …    │\n",
       "│ C004        ┆ harry.potter@buyo ┆ The service was   ┆ M001       ┆ 2023-06-04 ┆ {\"price\": 250.0, │\n",
       "│             ┆ nline.org         ┆ bad. Not happy    ┆            ┆            ┆ \"shipping\":      │\n",
       "│             ┆                   ┆ with #PRODUCT-M1. ┆            ┆            ┆ {\"type\":         │\n",
       "│             ┆                   ┆ J…                ┆            ┆            ┆ \"standard\", …    │\n",
       "└─────────────┴───────────────────┴───────────────────┴────────────┴────────────┴──────────────────┘"
      ]
     },
     "execution_count": 13,
     "metadata": {},
     "output_type": "execute_result"
    }
   ],
   "source": [
    "# filter for rows containing 'service' or 'quality'\n",
    "\n",
    "df_feedback.filter(\n",
    "    pl.col('feedback').str.contains('service|quality')\n",
    ")"
   ]
  },
  {
   "cell_type": "code",
   "execution_count": 14,
   "metadata": {},
   "outputs": [
    {
     "data": {
      "text/html": [
       "<div><style>\n",
       ".dataframe > thead > tr > th,\n",
       ".dataframe > tbody > tr > td {\n",
       "  text-align: right;\n",
       "}\n",
       "</style>\n",
       "<small>shape: (1, 6)</small><table border=\"1\" class=\"dataframe\"><thead><tr><th>customer_id</th><th>email</th><th>feedback</th><th>product_id</th><th>order_date</th><th>transaction_details</th></tr><tr><td>str</td><td>str</td><td>str</td><td>str</td><td>str</td><td>str</td></tr></thead><tbody><tr><td>&quot;C004&quot;</td><td>&quot;harry.potter@buyonline.org&quot;</td><td>&quot;The service was bad. Not happy with #PRODUCT-M1. …</td><td>&quot;M001&quot;</td><td>&quot;2023-06-04&quot;</td><td>&quot;{&quot;price&quot;: 250.0, &quot;shipping&quot;: {&quot;type&quot;: &quot;standard&quot;,…</td></tr></tbody></table></div>"
      ],
      "text/plain": [
       "shape: (1, 6)\n",
       "┌─────────────┬───────────────────┬───────────────────┬────────────┬────────────┬──────────────────┐\n",
       "│ customer_id ┆ email             ┆ feedback          ┆ product_id ┆ order_date ┆ transaction_deta │\n",
       "│ ---         ┆ ---               ┆ ---               ┆ ---        ┆ ---        ┆ ils              │\n",
       "│ str         ┆ str               ┆ str               ┆ str        ┆ str        ┆ ---              │\n",
       "│             ┆                   ┆                   ┆            ┆            ┆ str              │\n",
       "╞═════════════╪═══════════════════╪═══════════════════╪════════════╪════════════╪══════════════════╡\n",
       "│ C004        ┆ harry.potter@buyo ┆ The service was   ┆ M001       ┆ 2023-06-04 ┆ {\"price\": 250.0, │\n",
       "│             ┆ nline.org         ┆ bad. Not happy    ┆            ┆            ┆ \"shipping\":      │\n",
       "│             ┆                   ┆ with #PRODUCT-M1. ┆            ┆            ┆ {\"type\":         │\n",
       "│             ┆                   ┆ J…                ┆            ┆            ┆ \"standard\", …    │\n",
       "└─────────────┴───────────────────┴───────────────────┴────────────┴────────────┴──────────────────┘"
      ]
     },
     "execution_count": 14,
     "metadata": {},
     "output_type": "execute_result"
    }
   ],
   "source": [
    "# filter for products starting with 'M'\n",
    "\n",
    "df_feedback.filter(\n",
    "    pl.col('product_id').str.starts_with('M')\n",
    ")"
   ]
  },
  {
   "cell_type": "code",
   "execution_count": 15,
   "metadata": {},
   "outputs": [
    {
     "data": {
      "text/html": [
       "<div><style>\n",
       ".dataframe > thead > tr > th,\n",
       ".dataframe > tbody > tr > td {\n",
       "  text-align: right;\n",
       "}\n",
       "</style>\n",
       "<small>shape: (5, 1)</small><table border=\"1\" class=\"dataframe\"><thead><tr><th>hashtags</th></tr><tr><td>list[str]</td></tr></thead><tbody><tr><td>[&quot;#PRODUCT-X1&quot;]</td></tr><tr><td>[&quot;#product-x2&quot;, &quot;#Product-x1&quot;]</td></tr><tr><td>[&quot;#product-x1&quot;, &quot;#happy&quot;]</td></tr><tr><td>[&quot;#PRODUCT-M1&quot;, &quot;#PRODUCT-M2&quot;]</td></tr><tr><td>[&quot;#PRODUCT-X1&quot;]</td></tr></tbody></table></div>"
      ],
      "text/plain": [
       "shape: (5, 1)\n",
       "┌────────────────────────────────┐\n",
       "│ hashtags                       │\n",
       "│ ---                            │\n",
       "│ list[str]                      │\n",
       "╞════════════════════════════════╡\n",
       "│ [\"#PRODUCT-X1\"]                │\n",
       "│ [\"#product-x2\", \"#Product-x1\"] │\n",
       "│ [\"#product-x1\", \"#happy\"]      │\n",
       "│ [\"#PRODUCT-M1\", \"#PRODUCT-M2\"] │\n",
       "│ [\"#PRODUCT-X1\"]                │\n",
       "└────────────────────────────────┘"
      ]
     },
     "execution_count": 15,
     "metadata": {},
     "output_type": "execute_result"
    }
   ],
   "source": [
    "# Extract tags the feedback column using Regex\n",
    "\n",
    "df_feedback.select(\n",
    "    hashtags = pl.col('feedback').str.extract_all(r\"(?i)#([\\w\\d-]+)\")\n",
    ")"
   ]
  },
  {
   "cell_type": "code",
   "execution_count": 16,
   "metadata": {},
   "outputs": [
    {
     "data": {
      "text/html": [
       "<div><style>\n",
       ".dataframe > thead > tr > th,\n",
       ".dataframe > tbody > tr > td {\n",
       "  text-align: right;\n",
       "}\n",
       "</style>\n",
       "<small>shape: (5, 1)</small><table border=\"1\" class=\"dataframe\"><thead><tr><th>hashtags</th></tr><tr><td>list[str]</td></tr></thead><tbody><tr><td>[&quot;#product-x1&quot;]</td></tr><tr><td>[&quot;#product-x2&quot;, &quot;#product-x1&quot;]</td></tr><tr><td>[&quot;#product-x1&quot;, &quot;#happy&quot;]</td></tr><tr><td>[&quot;#product-m1&quot;, &quot;#product-m2&quot;]</td></tr><tr><td>[&quot;#product-x1&quot;]</td></tr></tbody></table></div>"
      ],
      "text/plain": [
       "shape: (5, 1)\n",
       "┌────────────────────────────────┐\n",
       "│ hashtags                       │\n",
       "│ ---                            │\n",
       "│ list[str]                      │\n",
       "╞════════════════════════════════╡\n",
       "│ [\"#product-x1\"]                │\n",
       "│ [\"#product-x2\", \"#product-x1\"] │\n",
       "│ [\"#product-x1\", \"#happy\"]      │\n",
       "│ [\"#product-m1\", \"#product-m2\"] │\n",
       "│ [\"#product-x1\"]                │\n",
       "└────────────────────────────────┘"
      ]
     },
     "execution_count": 16,
     "metadata": {},
     "output_type": "execute_result"
    }
   ],
   "source": [
    "# Extract tags the feedback column using Regex and convert to lowercase\n",
    "\n",
    "df_feedback.select(\n",
    "    hashtags = pl.col('feedback').str.extract_all(r\"(?i)#([\\w\\d-]+)\")\n",
    "        .list.eval(pl.element().str.to_lowercase())\n",
    ")"
   ]
  },
  {
   "cell_type": "code",
   "execution_count": 17,
   "metadata": {},
   "outputs": [
    {
     "data": {
      "text/html": [
       "<div><style>\n",
       ".dataframe > thead > tr > th,\n",
       ".dataframe > tbody > tr > td {\n",
       "  text-align: right;\n",
       "}\n",
       "</style>\n",
       "<small>shape: (5, 1)</small><table border=\"1\" class=\"dataframe\"><thead><tr><th>email_sanitized</th></tr><tr><td>str</td></tr></thead><tbody><tr><td>&quot;jo@example.com&quot;</td></tr><tr><td>&quot;sa@shopnow.com&quot;</td></tr><tr><td>&quot;ja@onlineshopping.net&quot;</td></tr><tr><td>&quot;ha@buyonline.org&quot;</td></tr><tr><td>&quot;li@webshop.com&quot;</td></tr></tbody></table></div>"
      ],
      "text/plain": [
       "shape: (5, 1)\n",
       "┌───────────────────────┐\n",
       "│ email_sanitized       │\n",
       "│ ---                   │\n",
       "│ str                   │\n",
       "╞═══════════════════════╡\n",
       "│ jo@example.com        │\n",
       "│ sa@shopnow.com        │\n",
       "│ ja@onlineshopping.net │\n",
       "│ ha@buyonline.org      │\n",
       "│ li@webshop.com        │\n",
       "└───────────────────────┘"
      ]
     },
     "execution_count": 17,
     "metadata": {},
     "output_type": "execute_result"
    }
   ],
   "source": [
    "# keep only 2 characters to hide confidential information\n",
    "\n",
    "df_feedback.select(\n",
    "    email_sanitized = pl.col(\"email\").str.replace(r\"^(..).*(@.*)$\", r\"$1$2\")\n",
    ")"
   ]
  },
  {
   "cell_type": "code",
   "execution_count": 18,
   "metadata": {},
   "outputs": [
    {
     "data": {
      "text/html": [
       "<div><style>\n",
       ".dataframe > thead > tr > th,\n",
       ".dataframe > tbody > tr > td {\n",
       "  text-align: right;\n",
       "}\n",
       "</style>\n",
       "<small>shape: (5, 1)</small><table border=\"1\" class=\"dataframe\"><thead><tr><th>email_sanitized</th></tr><tr><td>u64</td></tr></thead><tbody><tr><td>9259825263913001176</td></tr><tr><td>17451028542328997735</td></tr><tr><td>8060747887327259745</td></tr><tr><td>11270021373210591822</td></tr><tr><td>16256934851045840297</td></tr></tbody></table></div>"
      ],
      "text/plain": [
       "shape: (5, 1)\n",
       "┌──────────────────────┐\n",
       "│ email_sanitized      │\n",
       "│ ---                  │\n",
       "│ u64                  │\n",
       "╞══════════════════════╡\n",
       "│ 9259825263913001176  │\n",
       "│ 17451028542328997735 │\n",
       "│ 8060747887327259745  │\n",
       "│ 11270021373210591822 │\n",
       "│ 16256934851045840297 │\n",
       "└──────────────────────┘"
      ]
     },
     "execution_count": 18,
     "metadata": {},
     "output_type": "execute_result"
    }
   ],
   "source": [
    "# another way to hide confidential information is to use a hash function\n",
    "# careful: hashing is vulnerable to a brute force attack so it does not guarantee confidentiality\n",
    "\n",
    "df_feedback.select(\n",
    "    email_sanitized = pl.col(\"email\").hash()\n",
    ")"
   ]
  },
  {
   "cell_type": "code",
   "execution_count": 19,
   "metadata": {},
   "outputs": [
    {
     "data": {
      "text/html": [
       "<div><style>\n",
       ".dataframe > thead > tr > th,\n",
       ".dataframe > tbody > tr > td {\n",
       "  text-align: right;\n",
       "}\n",
       "</style>\n",
       "<small>shape: (5, 2)</small><table border=\"1\" class=\"dataframe\"><thead><tr><th>username</th><th>domain</th></tr><tr><td>str</td><td>str</td></tr></thead><tbody><tr><td>&quot;john.doe&quot;</td><td>&quot;example.com&quot;</td></tr><tr><td>&quot;sarah.connor&quot;</td><td>&quot;shopnow.com&quot;</td></tr><tr><td>&quot;jack.sparrow&quot;</td><td>&quot;onlineshopping.net&quot;</td></tr><tr><td>&quot;harry.potter&quot;</td><td>&quot;buyonline.org&quot;</td></tr><tr><td>&quot;lisa.simpson&quot;</td><td>&quot;webshop.com&quot;</td></tr></tbody></table></div>"
      ],
      "text/plain": [
       "shape: (5, 2)\n",
       "┌──────────────┬────────────────────┐\n",
       "│ username     ┆ domain             │\n",
       "│ ---          ┆ ---                │\n",
       "│ str          ┆ str                │\n",
       "╞══════════════╪════════════════════╡\n",
       "│ john.doe     ┆ example.com        │\n",
       "│ sarah.connor ┆ shopnow.com        │\n",
       "│ jack.sparrow ┆ onlineshopping.net │\n",
       "│ harry.potter ┆ buyonline.org      │\n",
       "│ lisa.simpson ┆ webshop.com        │\n",
       "└──────────────┴────────────────────┘"
      ]
     },
     "execution_count": 19,
     "metadata": {},
     "output_type": "execute_result"
    }
   ],
   "source": [
    "# we can split the email between the username and the domain\n",
    "\n",
    "df_feedback.select(\n",
    "    username = pl.col(\"email\").str.split(\"@\").list.get(0),\n",
    "    domain = pl.col(\"email\").str.split(\"@\").list.get(1)\n",
    ")"
   ]
  },
  {
   "cell_type": "code",
   "execution_count": 20,
   "metadata": {},
   "outputs": [
    {
     "name": "stderr",
     "output_type": "stream",
     "text": [
      "[/home/runner/work/polars/polars/polars/polars-json/src/ndjson/file.rs:147] &v = [\n",
      "    Struct(\n",
      "        [\n",
      "            Field {\n",
      "                name: \"price\",\n",
      "                data_type: Float64,\n",
      "                is_nullable: true,\n",
      "                metadata: {},\n",
      "            },\n",
      "            Field {\n",
      "                name: \"shipping\",\n",
      "                data_type: Struct(\n",
      "                    [\n",
      "                        Field {\n",
      "                            name: \"type\",\n",
      "                            data_type: LargeUtf8,\n",
      "                            is_nullable: true,\n",
      "                            metadata: {},\n",
      "                        },\n",
      "                        Field {\n",
      "                            name: \"cost\",\n",
      "                            data_type: Float64,\n",
      "                            is_nullable: true,\n",
      "                            metadata: {},\n",
      "                        },\n",
      "                    ],\n",
      "                ),\n",
      "                is_nullable: true,\n",
      "                metadata: {},\n",
      "            },\n",
      "        ],\n",
      "    ),\n",
      "]\n",
      "[/home/runner/work/polars/polars/polars/polars-json/src/ndjson/file.rs:148] Ok(crate::json::infer_schema::coerce_data_type(&v)) = Ok(\n",
      "    Struct(\n",
      "        [\n",
      "            Field {\n",
      "                name: \"price\",\n",
      "                data_type: Float64,\n",
      "                is_nullable: true,\n",
      "                metadata: {},\n",
      "            },\n",
      "            Field {\n",
      "                name: \"shipping\",\n",
      "                data_type: Struct(\n",
      "                    [\n",
      "                        Field {\n",
      "                            name: \"type\",\n",
      "                            data_type: LargeUtf8,\n",
      "                            is_nullable: true,\n",
      "                            metadata: {},\n",
      "                        },\n",
      "                        Field {\n",
      "                            name: \"cost\",\n",
      "                            data_type: Float64,\n",
      "                            is_nullable: true,\n",
      "                            metadata: {},\n",
      "                        },\n",
      "                    ],\n",
      "                ),\n",
      "                is_nullable: true,\n",
      "                metadata: {},\n",
      "            },\n",
      "        ],\n",
      "    ),\n",
      ")\n"
     ]
    },
    {
     "data": {
      "text/html": [
       "<div><style>\n",
       ".dataframe > thead > tr > th,\n",
       ".dataframe > tbody > tr > td {\n",
       "  text-align: right;\n",
       "}\n",
       "</style>\n",
       "<small>shape: (5, 1)</small><table border=\"1\" class=\"dataframe\"><thead><tr><th>transaction_details_as_struct</th></tr><tr><td>struct[2]</td></tr></thead><tbody><tr><td>{200.0,{&quot;express&quot;,20.0}}</td></tr><tr><td>{150.0,{&quot;standard&quot;,10.0}}</td></tr><tr><td>{200.0,{&quot;express&quot;,20.0}}</td></tr><tr><td>{250.0,{&quot;standard&quot;,10.0}}</td></tr><tr><td>{200.0,{&quot;express&quot;,20.0}}</td></tr></tbody></table></div>"
      ],
      "text/plain": [
       "shape: (5, 1)\n",
       "┌───────────────────────────────┐\n",
       "│ transaction_details_as_struct │\n",
       "│ ---                           │\n",
       "│ struct[2]                     │\n",
       "╞═══════════════════════════════╡\n",
       "│ {200.0,{\"express\",20.0}}      │\n",
       "│ {150.0,{\"standard\",10.0}}     │\n",
       "│ {200.0,{\"express\",20.0}}      │\n",
       "│ {250.0,{\"standard\",10.0}}     │\n",
       "│ {200.0,{\"express\",20.0}}      │\n",
       "└───────────────────────────────┘"
      ]
     },
     "execution_count": 20,
     "metadata": {},
     "output_type": "execute_result"
    }
   ],
   "source": [
    "# we can convert the transaction details column from a JSON to a struct\n",
    "\n",
    "df_feedback.select(\n",
    "    transaction_details_as_struct = pl.col(\"transaction_details\").str.json_extract()\n",
    ")"
   ]
  },
  {
   "cell_type": "code",
   "execution_count": 21,
   "metadata": {},
   "outputs": [
    {
     "name": "stderr",
     "output_type": "stream",
     "text": [
      "[/home/runner/work/polars/polars/polars/polars-json/src/ndjson/file.rs:147] &v = [\n",
      "    Struct(\n",
      "        [\n",
      "            Field {\n",
      "                name: \"price\",\n",
      "                data_type: Float64,\n",
      "                is_nullable: true,\n",
      "                metadata: {},\n",
      "            },\n",
      "            Field {\n",
      "                name: \"shipping\",\n",
      "                data_type: Struct(\n",
      "                    [\n",
      "                        Field {\n",
      "                            name: \"type\",\n",
      "                            data_type: LargeUtf8,\n",
      "                            is_nullable: true,\n",
      "                            metadata: {},\n",
      "                        },\n",
      "                        Field {\n",
      "                            name: \"cost\",\n",
      "                            data_type: Float64,\n",
      "                            is_nullable: true,\n",
      "                            metadata: {},\n",
      "                        },\n",
      "                    ],\n",
      "                ),\n",
      "                is_nullable: true,\n",
      "                metadata: {},\n",
      "            },\n",
      "        ],\n",
      "    ),\n",
      "]\n",
      "[/home/runner/work/polars/polars/polars/polars-json/src/ndjson/file.rs:148] Ok(crate::json::infer_schema::coerce_data_type(&v)) = Ok(\n",
      "    Struct(\n",
      "        [\n",
      "            Field {\n",
      "                name: \"price\",\n",
      "                data_type: Float64,\n",
      "                is_nullable: true,\n",
      "                metadata: {},\n",
      "            },\n",
      "            Field {\n",
      "                name: \"shipping\",\n",
      "                data_type: Struct(\n",
      "                    [\n",
      "                        Field {\n",
      "                            name: \"type\",\n",
      "                            data_type: LargeUtf8,\n",
      "                            is_nullable: true,\n",
      "                            metadata: {},\n",
      "                        },\n",
      "                        Field {\n",
      "                            name: \"cost\",\n",
      "                            data_type: Float64,\n",
      "                            is_nullable: true,\n",
      "                            metadata: {},\n",
      "                        },\n",
      "                    ],\n",
      "                ),\n",
      "                is_nullable: true,\n",
      "                metadata: {},\n",
      "            },\n",
      "        ],\n",
      "    ),\n",
      ")\n"
     ]
    },
    {
     "data": {
      "text/html": [
       "<div><style>\n",
       ".dataframe > thead > tr > th,\n",
       ".dataframe > tbody > tr > td {\n",
       "  text-align: right;\n",
       "}\n",
       "</style>\n",
       "<small>shape: (5, 2)</small><table border=\"1\" class=\"dataframe\"><thead><tr><th>price</th><th>shipping_cost</th></tr><tr><td>f64</td><td>f64</td></tr></thead><tbody><tr><td>200.0</td><td>20.0</td></tr><tr><td>150.0</td><td>10.0</td></tr><tr><td>200.0</td><td>20.0</td></tr><tr><td>250.0</td><td>10.0</td></tr><tr><td>200.0</td><td>20.0</td></tr></tbody></table></div>"
      ],
      "text/plain": [
       "shape: (5, 2)\n",
       "┌───────┬───────────────┐\n",
       "│ price ┆ shipping_cost │\n",
       "│ ---   ┆ ---           │\n",
       "│ f64   ┆ f64           │\n",
       "╞═══════╪═══════════════╡\n",
       "│ 200.0 ┆ 20.0          │\n",
       "│ 150.0 ┆ 10.0          │\n",
       "│ 200.0 ┆ 20.0          │\n",
       "│ 250.0 ┆ 10.0          │\n",
       "│ 200.0 ┆ 20.0          │\n",
       "└───────┴───────────────┘"
      ]
     },
     "execution_count": 21,
     "metadata": {},
     "output_type": "execute_result"
    }
   ],
   "source": [
    "# once the column is converted, we can access the price and shipping cost\n",
    "\n",
    "df_feedback.select(\n",
    "    transaction_details_as_struct = \n",
    "        pl.col(\"transaction_details\").str.json_extract()\n",
    ").select(\n",
    "    price = \n",
    "        pl.col(\"transaction_details_as_struct\").struct.field(\"price\"),\n",
    "    shipping_cost = \n",
    "        pl.col(\"transaction_details_as_struct\").struct.field(\"shipping\")\n",
    "        .struct.field(\"cost\")\n",
    ")"
   ]
  },
  {
   "cell_type": "markdown",
   "metadata": {},
   "source": [
    "#### Time operations"
   ]
  },
  {
   "cell_type": "code",
   "execution_count": 22,
   "metadata": {},
   "outputs": [],
   "source": [
    "nypd = pl.read_parquet('../datasets/nypd_crimes_from_2018.parquet')"
   ]
  },
  {
   "cell_type": "code",
   "execution_count": 23,
   "metadata": {},
   "outputs": [
    {
     "data": {
      "text/html": [
       "<div><style>\n",
       ".dataframe > thead > tr > th,\n",
       ".dataframe > tbody > tr > td {\n",
       "  text-align: right;\n",
       "}\n",
       "</style>\n",
       "<small>shape: (3, 6)</small><table border=\"1\" class=\"dataframe\"><thead><tr><th>complaint_datetime</th><th>complaint_id</th><th>precinct</th><th>borough</th><th>crime_category</th><th>crime_description</th></tr><tr><td>str</td><td>str</td><td>i64</td><td>str</td><td>str</td><td>str</td></tr></thead><tbody><tr><td>&quot;2019-09-04 09:00:00&quot;</td><td>&quot;469069650&quot;</td><td>9</td><td>&quot;MANHATTAN&quot;</td><td>&quot;MISDEMEANOR&quot;</td><td>&quot;LARCENY,PETIT FROM AUTO&quot;</td></tr><tr><td>&quot;2019-08-31 18:58:00&quot;</td><td>&quot;629841380&quot;</td><td>50</td><td>&quot;BRONX&quot;</td><td>&quot;MISDEMEANOR&quot;</td><td>&quot;LARCENY,PETIT OF BICYCLE&quot;</td></tr><tr><td>&quot;2019-09-07 22:00:00&quot;</td><td>&quot;224389328&quot;</td><td>19</td><td>&quot;MANHATTAN&quot;</td><td>&quot;MISDEMEANOR&quot;</td><td>&quot;LARCENY,PETIT FROM STORE-SHOPL&quot;</td></tr></tbody></table></div>"
      ],
      "text/plain": [
       "shape: (3, 6)\n",
       "┌─────────────────────┬──────────────┬──────────┬───────────┬────────────────┬─────────────────────┐\n",
       "│ complaint_datetime  ┆ complaint_id ┆ precinct ┆ borough   ┆ crime_category ┆ crime_description   │\n",
       "│ ---                 ┆ ---          ┆ ---      ┆ ---       ┆ ---            ┆ ---                 │\n",
       "│ str                 ┆ str          ┆ i64      ┆ str       ┆ str            ┆ str                 │\n",
       "╞═════════════════════╪══════════════╪══════════╪═══════════╪════════════════╪═════════════════════╡\n",
       "│ 2019-09-04 09:00:00 ┆ 469069650    ┆ 9        ┆ MANHATTAN ┆ MISDEMEANOR    ┆ LARCENY,PETIT FROM  │\n",
       "│                     ┆              ┆          ┆           ┆                ┆ AUTO                │\n",
       "│ 2019-08-31 18:58:00 ┆ 629841380    ┆ 50       ┆ BRONX     ┆ MISDEMEANOR    ┆ LARCENY,PETIT OF    │\n",
       "│                     ┆              ┆          ┆           ┆                ┆ BICYCLE             │\n",
       "│ 2019-09-07 22:00:00 ┆ 224389328    ┆ 19       ┆ MANHATTAN ┆ MISDEMEANOR    ┆ LARCENY,PETIT FROM  │\n",
       "│                     ┆              ┆          ┆           ┆                ┆ STORE-SHOPL         │\n",
       "└─────────────────────┴──────────────┴──────────┴───────────┴────────────────┴─────────────────────┘"
      ]
     },
     "execution_count": 23,
     "metadata": {},
     "output_type": "execute_result"
    }
   ],
   "source": [
    "nypd.head(3)"
   ]
  },
  {
   "cell_type": "code",
   "execution_count": 24,
   "metadata": {},
   "outputs": [],
   "source": [
    "# We parse the datetime column to a datetime type\n",
    "\n",
    "nypd = nypd.with_columns(\n",
    "    pl.col('complaint_datetime').str.to_datetime(\"%Y-%m-%d %H:%M:%S\")\n",
    ")"
   ]
  },
  {
   "cell_type": "code",
   "execution_count": 25,
   "metadata": {},
   "outputs": [
    {
     "data": {
      "text/html": [
       "<div><style>\n",
       ".dataframe > thead > tr > th,\n",
       ".dataframe > tbody > tr > td {\n",
       "  text-align: right;\n",
       "}\n",
       "</style>\n",
       "<small>shape: (3, 6)</small><table border=\"1\" class=\"dataframe\"><thead><tr><th>complaint_datetime</th><th>complaint_id</th><th>precinct</th><th>borough</th><th>crime_category</th><th>crime_description</th></tr><tr><td>datetime[μs]</td><td>str</td><td>i64</td><td>str</td><td>str</td><td>str</td></tr></thead><tbody><tr><td>2020-06-05 20:20:00</td><td>&quot;314830920&quot;</td><td>75</td><td>null</td><td>&quot;FELONY&quot;</td><td>null</td></tr><tr><td>2021-05-17 10:00:00</td><td>&quot;473765131&quot;</td><td>46</td><td>&quot;BRONX&quot;</td><td>&quot;MISDEMEANOR&quot;</td><td>&quot;PETIT LARCENY-CHECK FROM MAILB&quot;</td></tr><tr><td>2021-05-29 23:10:00</td><td>&quot;251337835&quot;</td><td>63</td><td>&quot;BROOKLYN&quot;</td><td>&quot;MISDEMEANOR&quot;</td><td>&quot;FORGERY,ETC.-MISD.&quot;</td></tr></tbody></table></div>"
      ],
      "text/plain": [
       "shape: (3, 6)\n",
       "┌─────────────────────┬──────────────┬──────────┬──────────┬────────────────┬──────────────────────┐\n",
       "│ complaint_datetime  ┆ complaint_id ┆ precinct ┆ borough  ┆ crime_category ┆ crime_description    │\n",
       "│ ---                 ┆ ---          ┆ ---      ┆ ---      ┆ ---            ┆ ---                  │\n",
       "│ datetime[μs]        ┆ str          ┆ i64      ┆ str      ┆ str            ┆ str                  │\n",
       "╞═════════════════════╪══════════════╪══════════╪══════════╪════════════════╪══════════════════════╡\n",
       "│ 2020-06-05 20:20:00 ┆ 314830920    ┆ 75       ┆ null     ┆ FELONY         ┆ null                 │\n",
       "│ 2021-05-17 10:00:00 ┆ 473765131    ┆ 46       ┆ BRONX    ┆ MISDEMEANOR    ┆ PETIT LARCENY-CHECK  │\n",
       "│                     ┆              ┆          ┆          ┆                ┆ FROM MAILB           │\n",
       "│ 2021-05-29 23:10:00 ┆ 251337835    ┆ 63       ┆ BROOKLYN ┆ MISDEMEANOR    ┆ FORGERY,ETC.-MISD.   │\n",
       "└─────────────────────┴──────────────┴──────────┴──────────┴────────────────┴──────────────────────┘"
      ]
     },
     "execution_count": 25,
     "metadata": {},
     "output_type": "execute_result"
    }
   ],
   "source": [
    "# We can filter for specific dates with the datetime Python package\n",
    "\n",
    "from datetime import datetime\n",
    "\n",
    "nypd.filter(\n",
    "    pl.col('complaint_datetime') >= datetime(2020, 1, 1)\n",
    ").head(3)"
   ]
  },
  {
   "cell_type": "code",
   "execution_count": 26,
   "metadata": {},
   "outputs": [
    {
     "data": {
      "text/html": [
       "<div><style>\n",
       ".dataframe > thead > tr > th,\n",
       ".dataframe > tbody > tr > td {\n",
       "  text-align: right;\n",
       "}\n",
       "</style>\n",
       "<small>shape: (5, 6)</small><table border=\"1\" class=\"dataframe\"><thead><tr><th>complaint_datetime</th><th>complaint_id</th><th>precinct</th><th>borough</th><th>crime_category</th><th>crime_description</th></tr><tr><td>datetime[μs]</td><td>str</td><td>i64</td><td>str</td><td>str</td><td>str</td></tr></thead><tbody><tr><td>2020-01-02 14:45:00</td><td>&quot;591348983&quot;</td><td>18</td><td>&quot;MANHATTAN&quot;</td><td>&quot;FELONY&quot;</td><td>&quot;ROBBERY,OPEN AREA UNCLASSIFIED&quot;</td></tr><tr><td>2020-01-03 15:33:00</td><td>&quot;211105656&quot;</td><td>44</td><td>&quot;BRONX&quot;</td><td>&quot;MISDEMEANOR&quot;</td><td>&quot;LARCENY,PETIT BY CREDIT CARD U&quot;</td></tr><tr><td>2020-01-07 11:20:00</td><td>&quot;364136331&quot;</td><td>71</td><td>&quot;BROOKLYN&quot;</td><td>&quot;VIOLATION&quot;</td><td>&quot;HARASSMENT,SUBD 3,4,5&quot;</td></tr><tr><td>2020-01-02 17:28:00</td><td>&quot;587143439&quot;</td><td>42</td><td>&quot;BRONX&quot;</td><td>&quot;FELONY&quot;</td><td>&quot;CONTROLLED SUBSTANCE,INTENT TO&quot;</td></tr><tr><td>2020-01-03 06:55:00</td><td>&quot;669190911&quot;</td><td>50</td><td>&quot;BRONX&quot;</td><td>&quot;MISDEMEANOR&quot;</td><td>&quot;LEAVING SCENE-ACCIDENT-PERSONA&quot;</td></tr></tbody></table></div>"
      ],
      "text/plain": [
       "shape: (5, 6)\n",
       "┌─────────────────────┬──────────────┬──────────┬───────────┬────────────────┬─────────────────────┐\n",
       "│ complaint_datetime  ┆ complaint_id ┆ precinct ┆ borough   ┆ crime_category ┆ crime_description   │\n",
       "│ ---                 ┆ ---          ┆ ---      ┆ ---       ┆ ---            ┆ ---                 │\n",
       "│ datetime[μs]        ┆ str          ┆ i64      ┆ str       ┆ str            ┆ str                 │\n",
       "╞═════════════════════╪══════════════╪══════════╪═══════════╪════════════════╪═════════════════════╡\n",
       "│ 2020-01-02 14:45:00 ┆ 591348983    ┆ 18       ┆ MANHATTAN ┆ FELONY         ┆ ROBBERY,OPEN AREA   │\n",
       "│                     ┆              ┆          ┆           ┆                ┆ UNCLASSIFIED        │\n",
       "│ 2020-01-03 15:33:00 ┆ 211105656    ┆ 44       ┆ BRONX     ┆ MISDEMEANOR    ┆ LARCENY,PETIT BY    │\n",
       "│                     ┆              ┆          ┆           ┆                ┆ CREDIT CARD U       │\n",
       "│ 2020-01-07 11:20:00 ┆ 364136331    ┆ 71       ┆ BROOKLYN  ┆ VIOLATION      ┆ HARASSMENT,SUBD     │\n",
       "│                     ┆              ┆          ┆           ┆                ┆ 3,4,5               │\n",
       "│ 2020-01-02 17:28:00 ┆ 587143439    ┆ 42       ┆ BRONX     ┆ FELONY         ┆ CONTROLLED          │\n",
       "│                     ┆              ┆          ┆           ┆                ┆ SUBSTANCE,INTENT TO │\n",
       "│ 2020-01-03 06:55:00 ┆ 669190911    ┆ 50       ┆ BRONX     ┆ MISDEMEANOR    ┆ LEAVING SCENE-ACCID │\n",
       "│                     ┆              ┆          ┆           ┆                ┆ ENT-PERSONA         │\n",
       "└─────────────────────┴──────────────┴──────────┴───────────┴────────────────┴─────────────────────┘"
      ]
     },
     "execution_count": 26,
     "metadata": {},
     "output_type": "execute_result"
    }
   ],
   "source": [
    "# We can filter for date ranges using the is_between method\n",
    "\n",
    "nypd.filter(\n",
    "    pl.col('complaint_datetime')\n",
    "    .is_between(datetime(2020, 1, 1), datetime(2020, 1, 10))\n",
    ").head(5)"
   ]
  },
  {
   "cell_type": "code",
   "execution_count": 27,
   "metadata": {},
   "outputs": [
    {
     "data": {
      "text/html": [
       "<div><style>\n",
       ".dataframe > thead > tr > th,\n",
       ".dataframe > tbody > tr > td {\n",
       "  text-align: right;\n",
       "}\n",
       "</style>\n",
       "<small>shape: (5, 2)</small><table border=\"1\" class=\"dataframe\"><thead><tr><th>year</th><th>count</th></tr><tr><td>i32</td><td>u32</td></tr></thead><tbody><tr><td>2018</td><td>462471</td></tr><tr><td>2019</td><td>458805</td></tr><tr><td>2020</td><td>413181</td></tr><tr><td>2021</td><td>448083</td></tr><tr><td>2022</td><td>520595</td></tr></tbody></table></div>"
      ],
      "text/plain": [
       "shape: (5, 2)\n",
       "┌──────┬────────┐\n",
       "│ year ┆ count  │\n",
       "│ ---  ┆ ---    │\n",
       "│ i32  ┆ u32    │\n",
       "╞══════╪════════╡\n",
       "│ 2018 ┆ 462471 │\n",
       "│ 2019 ┆ 458805 │\n",
       "│ 2020 ┆ 413181 │\n",
       "│ 2021 ┆ 448083 │\n",
       "│ 2022 ┆ 520595 │\n",
       "└──────┴────────┘"
      ]
     },
     "execution_count": 27,
     "metadata": {},
     "output_type": "execute_result"
    }
   ],
   "source": [
    "# With the column parsed to a datetime type, we can extract the year, month, day, etc.\n",
    "# Count of crimes per year\n",
    "\n",
    "nypd.groupby(\n",
    "    pl.col('complaint_datetime').dt.year().alias('year')\n",
    "    ).count()"
   ]
  },
  {
   "cell_type": "code",
   "execution_count": 28,
   "metadata": {},
   "outputs": [
    {
     "data": {
      "text/html": [
       "<div><style>\n",
       ".dataframe > thead > tr > th,\n",
       ".dataframe > tbody > tr > td {\n",
       "  text-align: right;\n",
       "}\n",
       "</style>\n",
       "<small>shape: (5, 2)</small><table border=\"1\" class=\"dataframe\"><thead><tr><th>week</th><th>count</th></tr><tr><td>u32</td><td>u32</td></tr></thead><tbody><tr><td>37</td><td>47729</td></tr><tr><td>38</td><td>47481</td></tr><tr><td>44</td><td>47326</td></tr><tr><td>31</td><td>47156</td></tr><tr><td>27</td><td>47117</td></tr></tbody></table></div>"
      ],
      "text/plain": [
       "shape: (5, 2)\n",
       "┌──────┬───────┐\n",
       "│ week ┆ count │\n",
       "│ ---  ┆ ---   │\n",
       "│ u32  ┆ u32   │\n",
       "╞══════╪═══════╡\n",
       "│ 37   ┆ 47729 │\n",
       "│ 38   ┆ 47481 │\n",
       "│ 44   ┆ 47326 │\n",
       "│ 31   ┆ 47156 │\n",
       "│ 27   ┆ 47117 │\n",
       "└──────┴───────┘"
      ]
     },
     "execution_count": 28,
     "metadata": {},
     "output_type": "execute_result"
    }
   ],
   "source": [
    "# Count of crimes per week of the year, show the 5 weeks with the most crimes\n",
    "\n",
    "(\n",
    "    nypd.groupby(\n",
    "        pl.col('complaint_datetime').dt.week().alias('week'))\n",
    "    .count()\n",
    "    .sort('count', descending=True)\n",
    "    .head(5)\n",
    ")"
   ]
  },
  {
   "cell_type": "code",
   "execution_count": 29,
   "metadata": {},
   "outputs": [
    {
     "data": {
      "text/html": [
       "<div><style>\n",
       ".dataframe > thead > tr > th,\n",
       ".dataframe > tbody > tr > td {\n",
       "  text-align: right;\n",
       "}\n",
       "</style>\n",
       "<small>shape: (5, 9)</small><table border=\"1\" class=\"dataframe\"><thead><tr><th>complaint_datetime</th><th>complaint_id</th><th>precinct</th><th>borough</th><th>crime_category</th><th>crime_description</th><th>day_of_week</th><th>day_of_month</th><th>day_of_year</th></tr><tr><td>datetime[μs]</td><td>str</td><td>i64</td><td>str</td><td>str</td><td>str</td><td>u32</td><td>u32</td><td>u32</td></tr></thead><tbody><tr><td>2019-09-04 09:00:00</td><td>&quot;469069650&quot;</td><td>9</td><td>&quot;MANHATTAN&quot;</td><td>&quot;MISDEMEANOR&quot;</td><td>&quot;LARCENY,PETIT FROM AUTO&quot;</td><td>3</td><td>4</td><td>247</td></tr><tr><td>2019-08-31 18:58:00</td><td>&quot;629841380&quot;</td><td>50</td><td>&quot;BRONX&quot;</td><td>&quot;MISDEMEANOR&quot;</td><td>&quot;LARCENY,PETIT OF BICYCLE&quot;</td><td>6</td><td>31</td><td>243</td></tr><tr><td>2019-09-07 22:00:00</td><td>&quot;224389328&quot;</td><td>19</td><td>&quot;MANHATTAN&quot;</td><td>&quot;MISDEMEANOR&quot;</td><td>&quot;LARCENY,PETIT FROM STORE-SHOPL&quot;</td><td>6</td><td>7</td><td>250</td></tr><tr><td>2019-08-31 18:00:00</td><td>&quot;211921838&quot;</td><td>71</td><td>&quot;BROOKLYN&quot;</td><td>&quot;MISDEMEANOR&quot;</td><td>&quot;LARCENY,PETIT FROM AUTO&quot;</td><td>6</td><td>31</td><td>243</td></tr><tr><td>2019-09-07 13:00:00</td><td>&quot;381754893&quot;</td><td>62</td><td>&quot;BROOKLYN&quot;</td><td>&quot;MISDEMEANOR&quot;</td><td>&quot;CRIMINAL MISCHIEF 4TH, GRAFFIT&quot;</td><td>6</td><td>7</td><td>250</td></tr></tbody></table></div>"
      ],
      "text/plain": [
       "shape: (5, 9)\n",
       "┌────────────┬────────────┬──────────┬───────────┬───┬────────────┬───────────┬────────────┬───────────┐\n",
       "│ complaint_ ┆ complaint_ ┆ precinct ┆ borough   ┆ … ┆ crime_desc ┆ day_of_we ┆ day_of_mon ┆ day_of_ye │\n",
       "│ datetime   ┆ id         ┆ ---      ┆ ---       ┆   ┆ ription    ┆ ek        ┆ th         ┆ ar        │\n",
       "│ ---        ┆ ---        ┆ i64      ┆ str       ┆   ┆ ---        ┆ ---       ┆ ---        ┆ ---       │\n",
       "│ datetime[μ ┆ str        ┆          ┆           ┆   ┆ str        ┆ u32       ┆ u32        ┆ u32       │\n",
       "│ s]         ┆            ┆          ┆           ┆   ┆            ┆           ┆            ┆           │\n",
       "╞════════════╪════════════╪══════════╪═══════════╪═══╪════════════╪═══════════╪════════════╪═══════════╡\n",
       "│ 2019-09-04 ┆ 469069650  ┆ 9        ┆ MANHATTAN ┆ … ┆ LARCENY,PE ┆ 3         ┆ 4          ┆ 247       │\n",
       "│ 09:00:00   ┆            ┆          ┆           ┆   ┆ TIT FROM   ┆           ┆            ┆           │\n",
       "│            ┆            ┆          ┆           ┆   ┆ AUTO       ┆           ┆            ┆           │\n",
       "│ 2019-08-31 ┆ 629841380  ┆ 50       ┆ BRONX     ┆ … ┆ LARCENY,PE ┆ 6         ┆ 31         ┆ 243       │\n",
       "│ 18:58:00   ┆            ┆          ┆           ┆   ┆ TIT OF     ┆           ┆            ┆           │\n",
       "│            ┆            ┆          ┆           ┆   ┆ BICYCLE    ┆           ┆            ┆           │\n",
       "│ 2019-09-07 ┆ 224389328  ┆ 19       ┆ MANHATTAN ┆ … ┆ LARCENY,PE ┆ 6         ┆ 7          ┆ 250       │\n",
       "│ 22:00:00   ┆            ┆          ┆           ┆   ┆ TIT FROM   ┆           ┆            ┆           │\n",
       "│            ┆            ┆          ┆           ┆   ┆ STORE-SHOP ┆           ┆            ┆           │\n",
       "│            ┆            ┆          ┆           ┆   ┆ L          ┆           ┆            ┆           │\n",
       "│ 2019-08-31 ┆ 211921838  ┆ 71       ┆ BROOKLYN  ┆ … ┆ LARCENY,PE ┆ 6         ┆ 31         ┆ 243       │\n",
       "│ 18:00:00   ┆            ┆          ┆           ┆   ┆ TIT FROM   ┆           ┆            ┆           │\n",
       "│            ┆            ┆          ┆           ┆   ┆ AUTO       ┆           ┆            ┆           │\n",
       "│ 2019-09-07 ┆ 381754893  ┆ 62       ┆ BROOKLYN  ┆ … ┆ CRIMINAL   ┆ 6         ┆ 7          ┆ 250       │\n",
       "│ 13:00:00   ┆            ┆          ┆           ┆   ┆ MISCHIEF   ┆           ┆            ┆           │\n",
       "│            ┆            ┆          ┆           ┆   ┆ 4TH,       ┆           ┆            ┆           │\n",
       "│            ┆            ┆          ┆           ┆   ┆ GRAFFIT    ┆           ┆            ┆           │\n",
       "└────────────┴────────────┴──────────┴───────────┴───┴────────────┴───────────┴────────────┴───────────┘"
      ]
     },
     "execution_count": 29,
     "metadata": {},
     "output_type": "execute_result"
    }
   ],
   "source": [
    "# There are multiple options for the days: day of the week, day of the month, and day of the year\n",
    "\n",
    "nypd.with_columns(\n",
    "    day_of_week = pl.col('complaint_datetime').dt.weekday(), # Monday is 1, Sunday is 7\n",
    "    day_of_month = pl.col('complaint_datetime').dt.day(),\n",
    "    day_of_year = pl.col('complaint_datetime').dt.ordinal_day()\n",
    ").head(5)"
   ]
  },
  {
   "cell_type": "code",
   "execution_count": 30,
   "metadata": {},
   "outputs": [
    {
     "data": {
      "text/html": [
       "<div><style>\n",
       ".dataframe > thead > tr > th,\n",
       ".dataframe > tbody > tr > td {\n",
       "  text-align: right;\n",
       "}\n",
       "</style>\n",
       "<small>shape: (3, 2)</small><table border=\"1\" class=\"dataframe\"><thead><tr><th>2year6months_bucket</th><th>count</th></tr><tr><td>datetime[μs]</td><td>u32</td></tr></thead><tbody><tr><td>2020-01-01 00:00:00</td><td>1115932</td></tr><tr><td>2022-07-01 00:00:00</td><td>265927</td></tr><tr><td>2017-07-01 00:00:00</td><td>921276</td></tr></tbody></table></div>"
      ],
      "text/plain": [
       "shape: (3, 2)\n",
       "┌─────────────────────┬─────────┐\n",
       "│ 2year6months_bucket ┆ count   │\n",
       "│ ---                 ┆ ---     │\n",
       "│ datetime[μs]        ┆ u32     │\n",
       "╞═════════════════════╪═════════╡\n",
       "│ 2020-01-01 00:00:00 ┆ 1115932 │\n",
       "│ 2022-07-01 00:00:00 ┆ 265927  │\n",
       "│ 2017-07-01 00:00:00 ┆ 921276  │\n",
       "└─────────────────────┴─────────┘"
      ]
     },
     "execution_count": 30,
     "metadata": {},
     "output_type": "execute_result"
    }
   ],
   "source": [
    "# Polars has another function to group dates together, which is truncate\n",
    "# we can bin the dates into buckets of 2 years and 6 months\n",
    "\n",
    "(\n",
    "    nypd.groupby(\n",
    "        pl.col('complaint_datetime').dt.truncate('2y6mo').alias('2year6months_bucket'))\n",
    "    .count()\n",
    ")\n"
   ]
  },
  {
   "cell_type": "code",
   "execution_count": 31,
   "metadata": {},
   "outputs": [
    {
     "data": {
      "text/html": [
       "<div><style>\n",
       ".dataframe > thead > tr > th,\n",
       ".dataframe > tbody > tr > td {\n",
       "  text-align: right;\n",
       "}\n",
       "</style>\n",
       "<small>shape: (5, 6)</small><table border=\"1\" class=\"dataframe\"><thead><tr><th>complaint_datetime</th><th>complaint_id</th><th>precinct</th><th>borough</th><th>crime_category</th><th>crime_description</th></tr><tr><td>datetime[μs, US/Eastern]</td><td>str</td><td>i64</td><td>str</td><td>str</td><td>str</td></tr></thead><tbody><tr><td>2019-09-04 09:00:00 EDT</td><td>&quot;469069650&quot;</td><td>9</td><td>&quot;MANHATTAN&quot;</td><td>&quot;MISDEMEANOR&quot;</td><td>&quot;LARCENY,PETIT FROM AUTO&quot;</td></tr><tr><td>2019-08-31 18:58:00 EDT</td><td>&quot;629841380&quot;</td><td>50</td><td>&quot;BRONX&quot;</td><td>&quot;MISDEMEANOR&quot;</td><td>&quot;LARCENY,PETIT OF BICYCLE&quot;</td></tr><tr><td>2019-09-07 22:00:00 EDT</td><td>&quot;224389328&quot;</td><td>19</td><td>&quot;MANHATTAN&quot;</td><td>&quot;MISDEMEANOR&quot;</td><td>&quot;LARCENY,PETIT FROM STORE-SHOPL&quot;</td></tr><tr><td>2019-08-31 18:00:00 EDT</td><td>&quot;211921838&quot;</td><td>71</td><td>&quot;BROOKLYN&quot;</td><td>&quot;MISDEMEANOR&quot;</td><td>&quot;LARCENY,PETIT FROM AUTO&quot;</td></tr><tr><td>2019-09-07 13:00:00 EDT</td><td>&quot;381754893&quot;</td><td>62</td><td>&quot;BROOKLYN&quot;</td><td>&quot;MISDEMEANOR&quot;</td><td>&quot;CRIMINAL MISCHIEF 4TH, GRAFFIT&quot;</td></tr></tbody></table></div>"
      ],
      "text/plain": [
       "shape: (5, 6)\n",
       "┌─────────────────────┬──────────────┬──────────┬───────────┬────────────────┬─────────────────────┐\n",
       "│ complaint_datetime  ┆ complaint_id ┆ precinct ┆ borough   ┆ crime_category ┆ crime_description   │\n",
       "│ ---                 ┆ ---          ┆ ---      ┆ ---       ┆ ---            ┆ ---                 │\n",
       "│ datetime[μs,        ┆ str          ┆ i64      ┆ str       ┆ str            ┆ str                 │\n",
       "│ US/Eastern]         ┆              ┆          ┆           ┆                ┆                     │\n",
       "╞═════════════════════╪══════════════╪══════════╪═══════════╪════════════════╪═════════════════════╡\n",
       "│ 2019-09-04 09:00:00 ┆ 469069650    ┆ 9        ┆ MANHATTAN ┆ MISDEMEANOR    ┆ LARCENY,PETIT FROM  │\n",
       "│ EDT                 ┆              ┆          ┆           ┆                ┆ AUTO                │\n",
       "│ 2019-08-31 18:58:00 ┆ 629841380    ┆ 50       ┆ BRONX     ┆ MISDEMEANOR    ┆ LARCENY,PETIT OF    │\n",
       "│ EDT                 ┆              ┆          ┆           ┆                ┆ BICYCLE             │\n",
       "│ 2019-09-07 22:00:00 ┆ 224389328    ┆ 19       ┆ MANHATTAN ┆ MISDEMEANOR    ┆ LARCENY,PETIT FROM  │\n",
       "│ EDT                 ┆              ┆          ┆           ┆                ┆ STORE-SHOPL         │\n",
       "│ 2019-08-31 18:00:00 ┆ 211921838    ┆ 71       ┆ BROOKLYN  ┆ MISDEMEANOR    ┆ LARCENY,PETIT FROM  │\n",
       "│ EDT                 ┆              ┆          ┆           ┆                ┆ AUTO                │\n",
       "│ 2019-09-07 13:00:00 ┆ 381754893    ┆ 62       ┆ BROOKLYN  ┆ MISDEMEANOR    ┆ CRIMINAL MISCHIEF   │\n",
       "│ EDT                 ┆              ┆          ┆           ┆                ┆ 4TH, GRAFFIT        │\n",
       "└─────────────────────┴──────────────┴──────────┴───────────┴────────────────┴─────────────────────┘"
      ]
     },
     "execution_count": 31,
     "metadata": {},
     "output_type": "execute_result"
    }
   ],
   "source": [
    "# Polars can work with time zones. For example, we can set the time zone to US/Eastern\n",
    "\n",
    "nypd_localised = nypd.head(100).with_columns(\n",
    "    complaint_datetime = pl.col('complaint_datetime').dt.replace_time_zone('US/Eastern', use_earliest=True)\n",
    ")\n",
    "\n",
    "nypd_localised.head(5)"
   ]
  },
  {
   "cell_type": "code",
   "execution_count": 32,
   "metadata": {},
   "outputs": [
    {
     "data": {
      "text/html": [
       "<div><style>\n",
       ".dataframe > thead > tr > th,\n",
       ".dataframe > tbody > tr > td {\n",
       "  text-align: right;\n",
       "}\n",
       "</style>\n",
       "<small>shape: (5, 6)</small><table border=\"1\" class=\"dataframe\"><thead><tr><th>complaint_datetime</th><th>complaint_id</th><th>precinct</th><th>borough</th><th>crime_category</th><th>crime_description</th></tr><tr><td>datetime[μs, UTC]</td><td>str</td><td>i64</td><td>str</td><td>str</td><td>str</td></tr></thead><tbody><tr><td>2019-09-04 13:00:00 UTC</td><td>&quot;469069650&quot;</td><td>9</td><td>&quot;MANHATTAN&quot;</td><td>&quot;MISDEMEANOR&quot;</td><td>&quot;LARCENY,PETIT FROM AUTO&quot;</td></tr><tr><td>2019-08-31 22:58:00 UTC</td><td>&quot;629841380&quot;</td><td>50</td><td>&quot;BRONX&quot;</td><td>&quot;MISDEMEANOR&quot;</td><td>&quot;LARCENY,PETIT OF BICYCLE&quot;</td></tr><tr><td>2019-09-08 02:00:00 UTC</td><td>&quot;224389328&quot;</td><td>19</td><td>&quot;MANHATTAN&quot;</td><td>&quot;MISDEMEANOR&quot;</td><td>&quot;LARCENY,PETIT FROM STORE-SHOPL&quot;</td></tr><tr><td>2019-08-31 22:00:00 UTC</td><td>&quot;211921838&quot;</td><td>71</td><td>&quot;BROOKLYN&quot;</td><td>&quot;MISDEMEANOR&quot;</td><td>&quot;LARCENY,PETIT FROM AUTO&quot;</td></tr><tr><td>2019-09-07 17:00:00 UTC</td><td>&quot;381754893&quot;</td><td>62</td><td>&quot;BROOKLYN&quot;</td><td>&quot;MISDEMEANOR&quot;</td><td>&quot;CRIMINAL MISCHIEF 4TH, GRAFFIT&quot;</td></tr></tbody></table></div>"
      ],
      "text/plain": [
       "shape: (5, 6)\n",
       "┌─────────────────────┬──────────────┬──────────┬───────────┬────────────────┬─────────────────────┐\n",
       "│ complaint_datetime  ┆ complaint_id ┆ precinct ┆ borough   ┆ crime_category ┆ crime_description   │\n",
       "│ ---                 ┆ ---          ┆ ---      ┆ ---       ┆ ---            ┆ ---                 │\n",
       "│ datetime[μs, UTC]   ┆ str          ┆ i64      ┆ str       ┆ str            ┆ str                 │\n",
       "╞═════════════════════╪══════════════╪══════════╪═══════════╪════════════════╪═════════════════════╡\n",
       "│ 2019-09-04 13:00:00 ┆ 469069650    ┆ 9        ┆ MANHATTAN ┆ MISDEMEANOR    ┆ LARCENY,PETIT FROM  │\n",
       "│ UTC                 ┆              ┆          ┆           ┆                ┆ AUTO                │\n",
       "│ 2019-08-31 22:58:00 ┆ 629841380    ┆ 50       ┆ BRONX     ┆ MISDEMEANOR    ┆ LARCENY,PETIT OF    │\n",
       "│ UTC                 ┆              ┆          ┆           ┆                ┆ BICYCLE             │\n",
       "│ 2019-09-08 02:00:00 ┆ 224389328    ┆ 19       ┆ MANHATTAN ┆ MISDEMEANOR    ┆ LARCENY,PETIT FROM  │\n",
       "│ UTC                 ┆              ┆          ┆           ┆                ┆ STORE-SHOPL         │\n",
       "│ 2019-08-31 22:00:00 ┆ 211921838    ┆ 71       ┆ BROOKLYN  ┆ MISDEMEANOR    ┆ LARCENY,PETIT FROM  │\n",
       "│ UTC                 ┆              ┆          ┆           ┆                ┆ AUTO                │\n",
       "│ 2019-09-07 17:00:00 ┆ 381754893    ┆ 62       ┆ BROOKLYN  ┆ MISDEMEANOR    ┆ CRIMINAL MISCHIEF   │\n",
       "│ UTC                 ┆              ┆          ┆           ┆                ┆ 4TH, GRAFFIT        │\n",
       "└─────────────────────┴──────────────┴──────────┴───────────┴────────────────┴─────────────────────┘"
      ]
     },
     "execution_count": 32,
     "metadata": {},
     "output_type": "execute_result"
    }
   ],
   "source": [
    "# When we have a timezone, we can convert it to another timezone\n",
    "\n",
    "nypd_localised.with_columns(\n",
    "    complaint_datetime = pl.col('complaint_datetime').dt.convert_time_zone('UTC')\n",
    ").head(5)"
   ]
  },
  {
   "cell_type": "markdown",
   "metadata": {},
   "source": [
    "#### Creating a date range and time range"
   ]
  },
  {
   "cell_type": "code",
   "execution_count": 33,
   "metadata": {},
   "outputs": [
    {
     "data": {
      "text/html": [
       "<div><style>\n",
       ".dataframe > thead > tr > th,\n",
       ".dataframe > tbody > tr > td {\n",
       "  text-align: right;\n",
       "}\n",
       "</style>\n",
       "<small>shape: (5,)</small><table border=\"1\" class=\"dataframe\"><thead><tr><th>date</th></tr><tr><td>date</td></tr></thead><tbody><tr><td>2020-01-01</td></tr><tr><td>2020-01-02</td></tr><tr><td>2020-01-03</td></tr><tr><td>2020-01-04</td></tr><tr><td>2020-01-05</td></tr></tbody></table></div>"
      ],
      "text/plain": [
       "shape: (5,)\n",
       "Series: 'date' [date]\n",
       "[\n",
       "\t2020-01-01\n",
       "\t2020-01-02\n",
       "\t2020-01-03\n",
       "\t2020-01-04\n",
       "\t2020-01-05\n",
       "]"
      ]
     },
     "execution_count": 33,
     "metadata": {},
     "output_type": "execute_result"
    }
   ],
   "source": [
    "# Polars also allows creating a date range and time range\n",
    "# the date range method has various parameters including the inteval, whether to include the start and end date, and time zone\n",
    "# the date_range method can be used to create a table, which is then joined existing data, for example with join_asof (which we'll see later)\n",
    "# the date_range method can also be used to create lists inside a column of an existing table \n",
    "\n",
    "from datetime import date\n",
    "\n",
    "pl.date_range(date(2020, 1, 1), date(2020, 1, 5), '1d', eager=True)    "
   ]
  },
  {
   "cell_type": "code",
   "execution_count": 34,
   "metadata": {},
   "outputs": [
    {
     "data": {
      "text/html": [
       "<div><style>\n",
       ".dataframe > thead > tr > th,\n",
       ".dataframe > tbody > tr > td {\n",
       "  text-align: right;\n",
       "}\n",
       "</style>\n",
       "<small>shape: (5,)</small><table border=\"1\" class=\"dataframe\"><thead><tr><th>date</th></tr><tr><td>date</td></tr></thead><tbody><tr><td>2020-01-31</td></tr><tr><td>2020-02-29</td></tr><tr><td>2020-03-31</td></tr><tr><td>2020-04-30</td></tr><tr><td>2020-05-31</td></tr></tbody></table></div>"
      ],
      "text/plain": [
       "shape: (5,)\n",
       "Series: 'date' [date]\n",
       "[\n",
       "\t2020-01-31\n",
       "\t2020-02-29\n",
       "\t2020-03-31\n",
       "\t2020-04-30\n",
       "\t2020-05-31\n",
       "]"
      ]
     },
     "execution_count": 34,
     "metadata": {},
     "output_type": "execute_result"
    }
   ],
   "source": [
    "pl.date_range(\n",
    "    date(2020, 1, 1), date(2020, 5, 1), \n",
    "    '1mo', eager=True).dt.month_end()    "
   ]
  },
  {
   "cell_type": "code",
   "execution_count": 35,
   "metadata": {},
   "outputs": [
    {
     "data": {
      "text/html": [
       "<div><style>\n",
       ".dataframe > thead > tr > th,\n",
       ".dataframe > tbody > tr > td {\n",
       "  text-align: right;\n",
       "}\n",
       "</style>\n",
       "<small>shape: (5, 2)</small><table border=\"1\" class=\"dataframe\"><thead><tr><th>complaint_datetime</th><th>date</th></tr><tr><td>datetime[μs, US/Eastern]</td><td>list[date]</td></tr></thead><tbody><tr><td>2019-09-04 09:00:00 EDT</td><td>[2020-01-01, 2020-02-01, … 2020-05-01]</td></tr><tr><td>2019-08-31 18:58:00 EDT</td><td>[2020-01-01, 2020-02-01, … 2020-05-01]</td></tr><tr><td>2019-09-07 22:00:00 EDT</td><td>[2020-01-01, 2020-02-01, … 2020-05-01]</td></tr><tr><td>2019-08-31 18:00:00 EDT</td><td>[2020-01-01, 2020-02-01, … 2020-05-01]</td></tr><tr><td>2019-09-07 13:00:00 EDT</td><td>[2020-01-01, 2020-02-01, … 2020-05-01]</td></tr></tbody></table></div>"
      ],
      "text/plain": [
       "shape: (5, 2)\n",
       "┌──────────────────────────┬────────────────────────────────────────┐\n",
       "│ complaint_datetime       ┆ date                                   │\n",
       "│ ---                      ┆ ---                                    │\n",
       "│ datetime[μs, US/Eastern] ┆ list[date]                             │\n",
       "╞══════════════════════════╪════════════════════════════════════════╡\n",
       "│ 2019-09-04 09:00:00 EDT  ┆ [2020-01-01, 2020-02-01, … 2020-05-01] │\n",
       "│ 2019-08-31 18:58:00 EDT  ┆ [2020-01-01, 2020-02-01, … 2020-05-01] │\n",
       "│ 2019-09-07 22:00:00 EDT  ┆ [2020-01-01, 2020-02-01, … 2020-05-01] │\n",
       "│ 2019-08-31 18:00:00 EDT  ┆ [2020-01-01, 2020-02-01, … 2020-05-01] │\n",
       "│ 2019-09-07 13:00:00 EDT  ┆ [2020-01-01, 2020-02-01, … 2020-05-01] │\n",
       "└──────────────────────────┴────────────────────────────────────────┘"
      ]
     },
     "execution_count": 35,
     "metadata": {},
     "output_type": "execute_result"
    }
   ],
   "source": [
    "nypd_localised.select(\n",
    "    'complaint_datetime',\n",
    "    pl.date_range(date(2020, 1, 1), date(2020, 5, 1), '1mo', eager=False)\n",
    ").head(5)"
   ]
  },
  {
   "cell_type": "markdown",
   "metadata": {},
   "source": [
    "#### Shifting, differences and percentages: shift, diff, and pct_change"
   ]
  },
  {
   "cell_type": "code",
   "execution_count": 36,
   "metadata": {},
   "outputs": [
    {
     "data": {
      "text/html": [
       "<div><style>\n",
       ".dataframe > thead > tr > th,\n",
       ".dataframe > tbody > tr > td {\n",
       "  text-align: right;\n",
       "}\n",
       "</style>\n",
       "<small>shape: (5, 6)</small><table border=\"1\" class=\"dataframe\"><thead><tr><th>week</th><th>count</th><th>prior_week</th><th>prior_count</th><th>change</th><th>percent_change</th></tr><tr><td>date</td><td>i32</td><td>date</td><td>i32</td><td>i32</td><td>f64</td></tr></thead><tbody><tr><td>2018-01-01</td><td>8128</td><td>null</td><td>null</td><td>null</td><td>null</td></tr><tr><td>2018-01-08</td><td>8314</td><td>2018-01-01</td><td>8128</td><td>186</td><td>2.0</td></tr><tr><td>2018-01-15</td><td>8644</td><td>2018-01-08</td><td>8314</td><td>330</td><td>4.0</td></tr><tr><td>2018-01-22</td><td>9020</td><td>2018-01-15</td><td>8644</td><td>376</td><td>4.0</td></tr><tr><td>2018-01-29</td><td>8736</td><td>2018-01-22</td><td>9020</td><td>-284</td><td>-3.0</td></tr></tbody></table></div>"
      ],
      "text/plain": [
       "shape: (5, 6)\n",
       "┌────────────┬───────┬────────────┬─────────────┬────────┬────────────────┐\n",
       "│ week       ┆ count ┆ prior_week ┆ prior_count ┆ change ┆ percent_change │\n",
       "│ ---        ┆ ---   ┆ ---        ┆ ---         ┆ ---    ┆ ---            │\n",
       "│ date       ┆ i32   ┆ date       ┆ i32         ┆ i32    ┆ f64            │\n",
       "╞════════════╪═══════╪════════════╪═════════════╪════════╪════════════════╡\n",
       "│ 2018-01-01 ┆ 8128  ┆ null       ┆ null        ┆ null   ┆ null           │\n",
       "│ 2018-01-08 ┆ 8314  ┆ 2018-01-01 ┆ 8128        ┆ 186    ┆ 2.0            │\n",
       "│ 2018-01-15 ┆ 8644  ┆ 2018-01-08 ┆ 8314        ┆ 330    ┆ 4.0            │\n",
       "│ 2018-01-22 ┆ 9020  ┆ 2018-01-15 ┆ 8644        ┆ 376    ┆ 4.0            │\n",
       "│ 2018-01-29 ┆ 8736  ┆ 2018-01-22 ┆ 9020        ┆ -284   ┆ -3.0           │\n",
       "└────────────┴───────┴────────────┴─────────────┴────────┴────────────────┘"
      ]
     },
     "execution_count": 36,
     "metadata": {},
     "output_type": "execute_result"
    }
   ],
   "source": [
    "# We can shift rows up or down using shift, calculate difference using diff, and calculate percentage change using pct_change\n",
    "# for example, we can look at the change in weekly crime counts\n",
    "\n",
    "(\n",
    "    nypd.groupby(\n",
    "        pl.col('complaint_datetime').dt.truncate('1w')\n",
    "        .cast(pl.Date).alias('week'))\n",
    "    .count()\n",
    "    .with_columns(pl.col('count').cast(pl.Int32))\n",
    "    .sort('week')\n",
    "    .with_columns(\n",
    "        prior_week = pl.col('week').shift(1),\n",
    "        prior_count = pl.col('count').shift(1),\n",
    "        change = pl.col('count').diff(1),\n",
    "        percent_change = pl.col('count').pct_change(1).mul(100).round(0))\n",
    ").head(5)"
   ]
  },
  {
   "cell_type": "markdown",
   "metadata": {},
   "source": [
    "#### Horizontal operations"
   ]
  },
  {
   "cell_type": "code",
   "execution_count": 37,
   "metadata": {},
   "outputs": [
    {
     "data": {
      "text/html": [
       "<div><style>\n",
       ".dataframe > thead > tr > th,\n",
       ".dataframe > tbody > tr > td {\n",
       "  text-align: right;\n",
       "}\n",
       "</style>\n",
       "<small>shape: (5, 6)</small><table border=\"1\" class=\"dataframe\"><thead><tr><th>borough</th><th>2018</th><th>2019</th><th>2020</th><th>2021</th><th>2022</th></tr><tr><td>str</td><td>u32</td><td>u32</td><td>u32</td><td>u32</td><td>u32</td></tr></thead><tbody><tr><td>&quot;MANHATTAN&quot;</td><td>114201</td><td>115595</td><td>97145</td><td>110296</td><td>130973</td></tr><tr><td>&quot;BRONX&quot;</td><td>100615</td><td>100359</td><td>90634</td><td>93825</td><td>110055</td></tr><tr><td>&quot;BROOKLYN&quot;</td><td>136397</td><td>131782</td><td>119012</td><td>125895</td><td>144319</td></tr><tr><td>&quot;STATEN ISLAND&quot;</td><td>20799</td><td>18875</td><td>17070</td><td>18848</td><td>22055</td></tr><tr><td>&quot;QUEENS&quot;</td><td>90155</td><td>91886</td><td>88845</td><td>98070</td><td>112244</td></tr></tbody></table></div>"
      ],
      "text/plain": [
       "shape: (5, 6)\n",
       "┌───────────────┬────────┬────────┬────────┬────────┬────────┐\n",
       "│ borough       ┆ 2018   ┆ 2019   ┆ 2020   ┆ 2021   ┆ 2022   │\n",
       "│ ---           ┆ ---    ┆ ---    ┆ ---    ┆ ---    ┆ ---    │\n",
       "│ str           ┆ u32    ┆ u32    ┆ u32    ┆ u32    ┆ u32    │\n",
       "╞═══════════════╪════════╪════════╪════════╪════════╪════════╡\n",
       "│ MANHATTAN     ┆ 114201 ┆ 115595 ┆ 97145  ┆ 110296 ┆ 130973 │\n",
       "│ BRONX         ┆ 100615 ┆ 100359 ┆ 90634  ┆ 93825  ┆ 110055 │\n",
       "│ BROOKLYN      ┆ 136397 ┆ 131782 ┆ 119012 ┆ 125895 ┆ 144319 │\n",
       "│ STATEN ISLAND ┆ 20799  ┆ 18875  ┆ 17070  ┆ 18848  ┆ 22055  │\n",
       "│ QUEENS        ┆ 90155  ┆ 91886  ┆ 88845  ┆ 98070  ┆ 112244 │\n",
       "└───────────────┴────────┴────────┴────────┴────────┴────────┘"
      ]
     },
     "execution_count": 37,
     "metadata": {},
     "output_type": "execute_result"
    }
   ],
   "source": [
    "# Let's start with a dataframe with one column per borough and one row per year\n",
    "\n",
    "nypd_crimes_by_borough = (\n",
    "     nypd.with_columns(\n",
    "        year = pl.col('complaint_datetime').dt.year())\n",
    "    .pivot(\n",
    "        index='borough',\n",
    "        columns= 'year',\n",
    "        values = 'complaint_id',\n",
    "        aggregate_function = pl.element().count())\n",
    "    .filter(pl.col('borough').is_not_null())\n",
    "    .select('borough', '2018', '2019', '2020', '2021', '2022')\n",
    ")\n",
    "\n",
    "nypd_crimes_by_borough"
   ]
  },
  {
   "cell_type": "code",
   "execution_count": 38,
   "metadata": {},
   "outputs": [
    {
     "data": {
      "text/html": [
       "<div><style>\n",
       ".dataframe > thead > tr > th,\n",
       ".dataframe > tbody > tr > td {\n",
       "  text-align: right;\n",
       "}\n",
       "</style>\n",
       "<small>shape: (5, 2)</small><table border=\"1\" class=\"dataframe\"><thead><tr><th>borough</th><th>total_crime_count</th></tr><tr><td>str</td><td>u32</td></tr></thead><tbody><tr><td>&quot;MANHATTAN&quot;</td><td>568210</td></tr><tr><td>&quot;BRONX&quot;</td><td>495488</td></tr><tr><td>&quot;BROOKLYN&quot;</td><td>657405</td></tr><tr><td>&quot;STATEN ISLAND&quot;</td><td>97647</td></tr><tr><td>&quot;QUEENS&quot;</td><td>481200</td></tr></tbody></table></div>"
      ],
      "text/plain": [
       "shape: (5, 2)\n",
       "┌───────────────┬───────────────────┐\n",
       "│ borough       ┆ total_crime_count │\n",
       "│ ---           ┆ ---               │\n",
       "│ str           ┆ u32               │\n",
       "╞═══════════════╪═══════════════════╡\n",
       "│ MANHATTAN     ┆ 568210            │\n",
       "│ BRONX         ┆ 495488            │\n",
       "│ BROOKLYN      ┆ 657405            │\n",
       "│ STATEN ISLAND ┆ 97647             │\n",
       "│ QUEENS        ┆ 481200            │\n",
       "└───────────────┴───────────────────┘"
      ]
     },
     "execution_count": 38,
     "metadata": {},
     "output_type": "execute_result"
    }
   ],
   "source": [
    "# certain Polars functions calculate the result horizontally if multiple columns are passed \n",
    "# one example is sum\n",
    "# however, not all functions allow it\n",
    "\n",
    "nypd_crimes_by_borough.select(\n",
    "    'borough',\n",
    "    total_crime_count = pl.sum(pl.all().exclude('borough'))\n",
    ")"
   ]
  },
  {
   "cell_type": "code",
   "execution_count": 39,
   "metadata": {},
   "outputs": [
    {
     "data": {
      "text/html": [
       "<div><style>\n",
       ".dataframe > thead > tr > th,\n",
       ".dataframe > tbody > tr > td {\n",
       "  text-align: right;\n",
       "}\n",
       "</style>\n",
       "<small>shape: (5, 2)</small><table border=\"1\" class=\"dataframe\"><thead><tr><th>borough</th><th>avg_crime_count</th></tr><tr><td>str</td><td>f64</td></tr></thead><tbody><tr><td>&quot;MANHATTAN&quot;</td><td>113642.0</td></tr><tr><td>&quot;BRONX&quot;</td><td>99097.6</td></tr><tr><td>&quot;BROOKLYN&quot;</td><td>131481.0</td></tr><tr><td>&quot;STATEN ISLAND&quot;</td><td>19529.4</td></tr><tr><td>&quot;QUEENS&quot;</td><td>96240.0</td></tr></tbody></table></div>"
      ],
      "text/plain": [
       "shape: (5, 2)\n",
       "┌───────────────┬─────────────────┐\n",
       "│ borough       ┆ avg_crime_count │\n",
       "│ ---           ┆ ---             │\n",
       "│ str           ┆ f64             │\n",
       "╞═══════════════╪═════════════════╡\n",
       "│ MANHATTAN     ┆ 113642.0        │\n",
       "│ BRONX         ┆ 99097.6         │\n",
       "│ BROOKLYN      ┆ 131481.0        │\n",
       "│ STATEN ISLAND ┆ 19529.4         │\n",
       "│ QUEENS        ┆ 96240.0         │\n",
       "└───────────────┴─────────────────┘"
      ]
     },
     "execution_count": 39,
     "metadata": {},
     "output_type": "execute_result"
    }
   ],
   "source": [
    "# a general way to calculate expressions horizontally is concatenating the columns as lists\n",
    "# we can use it with sum, mean, and all functions available in the list namespace\n",
    "\n",
    "nypd_crimes_by_borough.select(\n",
    "    'borough',\n",
    "    avg_crime_count = \n",
    "        pl.concat_list(pl.all().exclude('borough')).list.mean()\n",
    ")"
   ]
  },
  {
   "cell_type": "code",
   "execution_count": 40,
   "metadata": {},
   "outputs": [
    {
     "data": {
      "text/html": [
       "<div><style>\n",
       ".dataframe > thead > tr > th,\n",
       ".dataframe > tbody > tr > td {\n",
       "  text-align: right;\n",
       "}\n",
       "</style>\n",
       "<small>shape: (5, 2)</small><table border=\"1\" class=\"dataframe\"><thead><tr><th>borough</th><th>median_crime_count</th></tr><tr><td>str</td><td>f64</td></tr></thead><tbody><tr><td>&quot;MANHATTAN&quot;</td><td>114201.0</td></tr><tr><td>&quot;BRONX&quot;</td><td>100359.0</td></tr><tr><td>&quot;BROOKLYN&quot;</td><td>131782.0</td></tr><tr><td>&quot;STATEN ISLAND&quot;</td><td>18875.0</td></tr><tr><td>&quot;QUEENS&quot;</td><td>91886.0</td></tr></tbody></table></div>"
      ],
      "text/plain": [
       "shape: (5, 2)\n",
       "┌───────────────┬────────────────────┐\n",
       "│ borough       ┆ median_crime_count │\n",
       "│ ---           ┆ ---                │\n",
       "│ str           ┆ f64                │\n",
       "╞═══════════════╪════════════════════╡\n",
       "│ MANHATTAN     ┆ 114201.0           │\n",
       "│ BRONX         ┆ 100359.0           │\n",
       "│ BROOKLYN      ┆ 131782.0           │\n",
       "│ STATEN ISLAND ┆ 18875.0            │\n",
       "│ QUEENS        ┆ 91886.0            │\n",
       "└───────────────┴────────────────────┘"
      ]
     },
     "execution_count": 40,
     "metadata": {},
     "output_type": "execute_result"
    }
   ],
   "source": [
    "# we can calculate expressions horizontally concatenating the columns as lists\n",
    "\n",
    "nypd_crimes_by_borough.select(\n",
    "    'borough',\n",
    "    median_crime_count = \n",
    "        pl.concat_list(pl.all().exclude('borough'))\n",
    "        .list.eval(pl.element().median()).flatten()\n",
    ")"
   ]
  },
  {
   "cell_type": "markdown",
   "metadata": {},
   "source": [
    "#### Advanced horizontal operations: reduce and fold"
   ]
  },
  {
   "cell_type": "code",
   "execution_count": 41,
   "metadata": {},
   "outputs": [
    {
     "data": {
      "text/html": [
       "<div><style>\n",
       ".dataframe > thead > tr > th,\n",
       ".dataframe > tbody > tr > td {\n",
       "  text-align: right;\n",
       "}\n",
       "</style>\n",
       "<small>shape: (5, 2)</small><table border=\"1\" class=\"dataframe\"><thead><tr><th>borough</th><th>total_crime_count</th></tr><tr><td>str</td><td>u32</td></tr></thead><tbody><tr><td>&quot;MANHATTAN&quot;</td><td>568210</td></tr><tr><td>&quot;BRONX&quot;</td><td>495488</td></tr><tr><td>&quot;BROOKLYN&quot;</td><td>657405</td></tr><tr><td>&quot;STATEN ISLAND&quot;</td><td>97647</td></tr><tr><td>&quot;QUEENS&quot;</td><td>481200</td></tr></tbody></table></div>"
      ],
      "text/plain": [
       "shape: (5, 2)\n",
       "┌───────────────┬───────────────────┐\n",
       "│ borough       ┆ total_crime_count │\n",
       "│ ---           ┆ ---               │\n",
       "│ str           ┆ u32               │\n",
       "╞═══════════════╪═══════════════════╡\n",
       "│ MANHATTAN     ┆ 568210            │\n",
       "│ BRONX         ┆ 495488            │\n",
       "│ BROOKLYN      ┆ 657405            │\n",
       "│ STATEN ISLAND ┆ 97647             │\n",
       "│ QUEENS        ┆ 481200            │\n",
       "└───────────────┴───────────────────┘"
      ]
     },
     "execution_count": 41,
     "metadata": {},
     "output_type": "execute_result"
    }
   ],
   "source": [
    "# We reproduce the sum of crimes per borough using reduce\n",
    "\n",
    "nypd_crimes_by_borough.select(\n",
    "    'borough',\n",
    "    total_crime_count = pl.reduce(\n",
    "        function=lambda accumulator, current: accumulator + current, \n",
    "        exprs=pl.all().exclude('borough'))\n",
    ")"
   ]
  },
  {
   "cell_type": "code",
   "execution_count": 42,
   "metadata": {},
   "outputs": [
    {
     "data": {
      "text/html": [
       "<div><style>\n",
       ".dataframe > thead > tr > th,\n",
       ".dataframe > tbody > tr > td {\n",
       "  text-align: right;\n",
       "}\n",
       "</style>\n",
       "<small>shape: (5, 2)</small><table border=\"1\" class=\"dataframe\"><thead><tr><th>borough</th><th>max_yearly_crime_count</th></tr><tr><td>str</td><td>u32</td></tr></thead><tbody><tr><td>&quot;MANHATTAN&quot;</td><td>130973</td></tr><tr><td>&quot;BRONX&quot;</td><td>110055</td></tr><tr><td>&quot;BROOKLYN&quot;</td><td>144319</td></tr><tr><td>&quot;STATEN ISLAND&quot;</td><td>22055</td></tr><tr><td>&quot;QUEENS&quot;</td><td>112244</td></tr></tbody></table></div>"
      ],
      "text/plain": [
       "shape: (5, 2)\n",
       "┌───────────────┬────────────────────────┐\n",
       "│ borough       ┆ max_yearly_crime_count │\n",
       "│ ---           ┆ ---                    │\n",
       "│ str           ┆ u32                    │\n",
       "╞═══════════════╪════════════════════════╡\n",
       "│ MANHATTAN     ┆ 130973                 │\n",
       "│ BRONX         ┆ 110055                 │\n",
       "│ BROOKLYN      ┆ 144319                 │\n",
       "│ STATEN ISLAND ┆ 22055                  │\n",
       "│ QUEENS        ┆ 112244                 │\n",
       "└───────────────┴────────────────────────┘"
      ]
     },
     "execution_count": 42,
     "metadata": {},
     "output_type": "execute_result"
    }
   ],
   "source": [
    "# a more useful example for reduce is to calculate the maximum crime count per borough\n",
    "\n",
    "nypd_crimes_by_borough.select(\n",
    "    'borough',\n",
    "    max_yearly_crime_count = pl.reduce(\n",
    "        function=lambda accumulator, current: \n",
    "            pl.when(accumulator > current)\n",
    "            .then(accumulator).otherwise(current),\n",
    "        exprs=pl.all().exclude('borough'))\n",
    ")"
   ]
  },
  {
   "cell_type": "code",
   "execution_count": 43,
   "metadata": {},
   "outputs": [
    {
     "data": {
      "text/html": [
       "<div><style>\n",
       ".dataframe > thead > tr > th,\n",
       ".dataframe > tbody > tr > td {\n",
       "  text-align: right;\n",
       "}\n",
       "</style>\n",
       "<small>shape: (5, 2)</small><table border=\"1\" class=\"dataframe\"><thead><tr><th>borough</th><th>number_of_years_above_100k</th></tr><tr><td>str</td><td>i32</td></tr></thead><tbody><tr><td>&quot;MANHATTAN&quot;</td><td>4</td></tr><tr><td>&quot;BRONX&quot;</td><td>3</td></tr><tr><td>&quot;BROOKLYN&quot;</td><td>5</td></tr><tr><td>&quot;STATEN ISLAND&quot;</td><td>0</td></tr><tr><td>&quot;QUEENS&quot;</td><td>1</td></tr></tbody></table></div>"
      ],
      "text/plain": [
       "shape: (5, 2)\n",
       "┌───────────────┬────────────────────────────┐\n",
       "│ borough       ┆ number_of_years_above_100k │\n",
       "│ ---           ┆ ---                        │\n",
       "│ str           ┆ i32                        │\n",
       "╞═══════════════╪════════════════════════════╡\n",
       "│ MANHATTAN     ┆ 4                          │\n",
       "│ BRONX         ┆ 3                          │\n",
       "│ BROOKLYN      ┆ 5                          │\n",
       "│ STATEN ISLAND ┆ 0                          │\n",
       "│ QUEENS        ┆ 1                          │\n",
       "└───────────────┴────────────────────────────┘"
      ]
     },
     "execution_count": 43,
     "metadata": {},
     "output_type": "execute_result"
    }
   ],
   "source": [
    "# fold has one additional parameter, which is the initial value of the accumulator\n",
    "# for example we want to know the number of years where the crime count was above 100,000\n",
    "\n",
    "nypd_crimes_by_borough.select(\n",
    "    'borough',\n",
    "    number_of_years_above_100k = pl.fold(\n",
    "        acc = pl.lit(0), # initial value of the accumulator 0\n",
    "        function=lambda accumulator, current: pl.when(current > 100000).then(accumulator + 1).otherwise(accumulator),\n",
    "        exprs=pl.all().exclude('borough'))\n",
    ")"
   ]
  },
  {
   "cell_type": "code",
   "execution_count": 44,
   "metadata": {},
   "outputs": [
    {
     "data": {
      "text/html": [
       "<div><style>\n",
       ".dataframe > thead > tr > th,\n",
       ".dataframe > tbody > tr > td {\n",
       "  text-align: right;\n",
       "}\n",
       "</style>\n",
       "<small>shape: (5, 2)</small><table border=\"1\" class=\"dataframe\"><thead><tr><th>borough</th><th>max_yearly_crime_count</th></tr><tr><td>str</td><td>struct[5]</td></tr></thead><tbody><tr><td>&quot;MANHATTAN&quot;</td><td>{114201,115595,115595,115595,130973}</td></tr><tr><td>&quot;BRONX&quot;</td><td>{100615,100615,100615,100615,110055}</td></tr><tr><td>&quot;BROOKLYN&quot;</td><td>{136397,136397,136397,136397,144319}</td></tr><tr><td>&quot;STATEN ISLAND&quot;</td><td>{20799,20799,20799,20799,22055}</td></tr><tr><td>&quot;QUEENS&quot;</td><td>{90155,91886,91886,98070,112244}</td></tr></tbody></table></div>"
      ],
      "text/plain": [
       "shape: (5, 2)\n",
       "┌───────────────┬──────────────────────────────────────┐\n",
       "│ borough       ┆ max_yearly_crime_count               │\n",
       "│ ---           ┆ ---                                  │\n",
       "│ str           ┆ struct[5]                            │\n",
       "╞═══════════════╪══════════════════════════════════════╡\n",
       "│ MANHATTAN     ┆ {114201,115595,115595,115595,130973} │\n",
       "│ BRONX         ┆ {100615,100615,100615,100615,110055} │\n",
       "│ BROOKLYN      ┆ {136397,136397,136397,136397,144319} │\n",
       "│ STATEN ISLAND ┆ {20799,20799,20799,20799,22055}      │\n",
       "│ QUEENS        ┆ {90155,91886,91886,98070,112244}     │\n",
       "└───────────────┴──────────────────────────────────────┘"
      ]
     },
     "execution_count": 44,
     "metadata": {},
     "output_type": "execute_result"
    }
   ],
   "source": [
    "# one additional function is the cumfold function, which keeps track of intermediate values and returns a struct\n",
    "# we can use cumfold to see how the maximum crime count changed over time\n",
    "\n",
    "nypd_crimes_by_borough.select(\n",
    "    'borough',\n",
    "    max_yearly_crime_count = pl.cumfold(\n",
    "        acc = pl.lit(0), # initial value of the accumulator 0\n",
    "        function= lambda accumulator, current: \n",
    "            pl.when(accumulator > current)\n",
    "            .then(accumulator).otherwise(current),\n",
    "        exprs=pl.all().exclude('borough'))\n",
    ")"
   ]
  },
  {
   "cell_type": "markdown",
   "metadata": {},
   "source": [
    "#### Cumulative functions"
   ]
  },
  {
   "cell_type": "code",
   "execution_count": 45,
   "metadata": {},
   "outputs": [],
   "source": [
    "sp500 = pl.read_csv('../datasets/SP500.csv', try_parse_dates=True)\n",
    "btc = pl.read_csv('../datasets/BTC-USD.csv', try_parse_dates=True)\n",
    "\n",
    "# We know the dates are sorted in the source files, so we can tell Polars about it\n",
    "# This will make some operations faster \n",
    "sp500 = sp500.with_columns(pl.col('Date').set_sorted())\n",
    "btc = btc.with_columns(pl.col('Date').set_sorted())"
   ]
  },
  {
   "cell_type": "code",
   "execution_count": 46,
   "metadata": {},
   "outputs": [
    {
     "data": {
      "text/html": [
       "<div><style>\n",
       ".dataframe > thead > tr > th,\n",
       ".dataframe > tbody > tr > td {\n",
       "  text-align: right;\n",
       "}\n",
       "</style>\n",
       "<small>shape: (5, 7)</small><table border=\"1\" class=\"dataframe\"><thead><tr><th>Date</th><th>Open</th><th>High</th><th>Low</th><th>Close</th><th>Adj Close</th><th>Volume</th></tr><tr><td>date</td><td>f64</td><td>f64</td><td>f64</td><td>f64</td><td>f64</td><td>i64</td></tr></thead><tbody><tr><td>2019-01-02</td><td>2476.96</td><td>2519.49</td><td>2467.47</td><td>2510.03</td><td>2510.03</td><td>3733160000</td></tr><tr><td>2019-01-03</td><td>2491.92</td><td>2493.14</td><td>2443.96</td><td>2447.89</td><td>2447.89</td><td>3858830000</td></tr><tr><td>2019-01-04</td><td>2474.33</td><td>2538.07</td><td>2474.33</td><td>2531.94</td><td>2531.94</td><td>4234140000</td></tr><tr><td>2019-01-07</td><td>2535.61</td><td>2566.16</td><td>2524.56</td><td>2549.69</td><td>2549.69</td><td>4133120000</td></tr><tr><td>2019-01-08</td><td>2568.11</td><td>2579.82</td><td>2547.56</td><td>2574.41</td><td>2574.41</td><td>4120060000</td></tr></tbody></table></div>"
      ],
      "text/plain": [
       "shape: (5, 7)\n",
       "┌────────────┬─────────┬─────────┬─────────┬─────────┬───────────┬────────────┐\n",
       "│ Date       ┆ Open    ┆ High    ┆ Low     ┆ Close   ┆ Adj Close ┆ Volume     │\n",
       "│ ---        ┆ ---     ┆ ---     ┆ ---     ┆ ---     ┆ ---       ┆ ---        │\n",
       "│ date       ┆ f64     ┆ f64     ┆ f64     ┆ f64     ┆ f64       ┆ i64        │\n",
       "╞════════════╪═════════╪═════════╪═════════╪═════════╪═══════════╪════════════╡\n",
       "│ 2019-01-02 ┆ 2476.96 ┆ 2519.49 ┆ 2467.47 ┆ 2510.03 ┆ 2510.03   ┆ 3733160000 │\n",
       "│ 2019-01-03 ┆ 2491.92 ┆ 2493.14 ┆ 2443.96 ┆ 2447.89 ┆ 2447.89   ┆ 3858830000 │\n",
       "│ 2019-01-04 ┆ 2474.33 ┆ 2538.07 ┆ 2474.33 ┆ 2531.94 ┆ 2531.94   ┆ 4234140000 │\n",
       "│ 2019-01-07 ┆ 2535.61 ┆ 2566.16 ┆ 2524.56 ┆ 2549.69 ┆ 2549.69   ┆ 4133120000 │\n",
       "│ 2019-01-08 ┆ 2568.11 ┆ 2579.82 ┆ 2547.56 ┆ 2574.41 ┆ 2574.41   ┆ 4120060000 │\n",
       "└────────────┴─────────┴─────────┴─────────┴─────────┴───────────┴────────────┘"
      ]
     },
     "execution_count": 46,
     "metadata": {},
     "output_type": "execute_result"
    }
   ],
   "source": [
    "sp500.head(5)"
   ]
  },
  {
   "cell_type": "code",
   "execution_count": 47,
   "metadata": {},
   "outputs": [
    {
     "data": {
      "text/html": [
       "<div><style>\n",
       ".dataframe > thead > tr > th,\n",
       ".dataframe > tbody > tr > td {\n",
       "  text-align: right;\n",
       "}\n",
       "</style>\n",
       "<small>shape: (5, 3)</small><table border=\"1\" class=\"dataframe\"><thead><tr><th>Date</th><th>Adj Close</th><th>cum_max_adj_close</th></tr><tr><td>date</td><td>f64</td><td>f64</td></tr></thead><tbody><tr><td>2019-01-02</td><td>2510.03</td><td>2510.03</td></tr><tr><td>2019-01-03</td><td>2447.89</td><td>2510.03</td></tr><tr><td>2019-01-04</td><td>2531.94</td><td>2531.94</td></tr><tr><td>2019-01-07</td><td>2549.69</td><td>2549.69</td></tr><tr><td>2019-01-08</td><td>2574.41</td><td>2574.41</td></tr></tbody></table></div>"
      ],
      "text/plain": [
       "shape: (5, 3)\n",
       "┌────────────┬───────────┬───────────────────┐\n",
       "│ Date       ┆ Adj Close ┆ cum_max_adj_close │\n",
       "│ ---        ┆ ---       ┆ ---               │\n",
       "│ date       ┆ f64       ┆ f64               │\n",
       "╞════════════╪═══════════╪═══════════════════╡\n",
       "│ 2019-01-02 ┆ 2510.03   ┆ 2510.03           │\n",
       "│ 2019-01-03 ┆ 2447.89   ┆ 2510.03           │\n",
       "│ 2019-01-04 ┆ 2531.94   ┆ 2531.94           │\n",
       "│ 2019-01-07 ┆ 2549.69   ┆ 2549.69           │\n",
       "│ 2019-01-08 ┆ 2574.41   ┆ 2574.41           │\n",
       "└────────────┴───────────┴───────────────────┘"
      ]
     },
     "execution_count": 47,
     "metadata": {},
     "output_type": "execute_result"
    }
   ],
   "source": [
    "# we can calculate the cumulative max of the adjusted close price\n",
    "\n",
    "sp500.select(\n",
    "    'Date','Adj Close',\n",
    "    cum_max_adj_close = pl.col(\"Adj Close\").cummax()\n",
    ").head(5)"
   ]
  },
  {
   "cell_type": "code",
   "execution_count": 48,
   "metadata": {},
   "outputs": [
    {
     "data": {
      "text/html": [
       "<div><style>\n",
       ".dataframe > thead > tr > th,\n",
       ".dataframe > tbody > tr > td {\n",
       "  text-align: right;\n",
       "}\n",
       "</style>\n",
       "<small>shape: (5, 4)</small><table border=\"1\" class=\"dataframe\"><thead><tr><th>Date</th><th>Adj Close</th><th>daily_return_percent</th><th>cumulative_return_percent</th></tr><tr><td>date</td><td>f64</td><td>f64</td><td>f64</td></tr></thead><tbody><tr><td>2019-01-02</td><td>2510.03</td><td>null</td><td>null</td></tr><tr><td>2019-01-03</td><td>2447.89</td><td>-2.475668</td><td>-2.475668</td></tr><tr><td>2019-01-04</td><td>2531.94</td><td>3.433569</td><td>0.872898</td></tr><tr><td>2019-01-07</td><td>2549.69</td><td>0.701043</td><td>1.580061</td></tr><tr><td>2019-01-08</td><td>2574.41</td><td>0.96953</td><td>2.56491</td></tr></tbody></table></div>"
      ],
      "text/plain": [
       "shape: (5, 4)\n",
       "┌────────────┬───────────┬──────────────────────┬───────────────────────────┐\n",
       "│ Date       ┆ Adj Close ┆ daily_return_percent ┆ cumulative_return_percent │\n",
       "│ ---        ┆ ---       ┆ ---                  ┆ ---                       │\n",
       "│ date       ┆ f64       ┆ f64                  ┆ f64                       │\n",
       "╞════════════╪═══════════╪══════════════════════╪═══════════════════════════╡\n",
       "│ 2019-01-02 ┆ 2510.03   ┆ null                 ┆ null                      │\n",
       "│ 2019-01-03 ┆ 2447.89   ┆ -2.475668            ┆ -2.475668                 │\n",
       "│ 2019-01-04 ┆ 2531.94   ┆ 3.433569             ┆ 0.872898                  │\n",
       "│ 2019-01-07 ┆ 2549.69   ┆ 0.701043             ┆ 1.580061                  │\n",
       "│ 2019-01-08 ┆ 2574.41   ┆ 0.96953              ┆ 2.56491                   │\n",
       "└────────────┴───────────┴──────────────────────┴───────────────────────────┘"
      ]
     },
     "execution_count": 48,
     "metadata": {},
     "output_type": "execute_result"
    }
   ],
   "source": [
    "# we can add a column with percent change, then calculate the cumulative return with cumprod\n",
    "\n",
    "sp500.select(\n",
    "    'Date', 'Adj Close',\n",
    "    daily_return_percent = pl.col(\"Adj Close\").pct_change().mul(100),\n",
    "    cumulative_return_percent = \n",
    "        pl.col(\"Adj Close\").pct_change()\n",
    "        .add(1).cumprod().sub(1).mul(100)\n",
    ").head(5)"
   ]
  },
  {
   "cell_type": "code",
   "execution_count": 49,
   "metadata": {},
   "outputs": [
    {
     "data": {
      "text/html": [
       "<div><style>\n",
       ".dataframe > thead > tr > th,\n",
       ".dataframe > tbody > tr > td {\n",
       "  text-align: right;\n",
       "}\n",
       "</style>\n",
       "<small>shape: (5, 4)</small><table border=\"1\" class=\"dataframe\"><thead><tr><th>Date</th><th>Adj Close</th><th>max_to_date</th><th>diff_from_max</th></tr><tr><td>date</td><td>f64</td><td>f64</td><td>f64</td></tr></thead><tbody><tr><td>2019-01-02</td><td>2510.03</td><td>2510.03</td><td>0.0</td></tr><tr><td>2019-01-03</td><td>2447.89</td><td>2510.03</td><td>-62.14</td></tr><tr><td>2019-01-04</td><td>2531.94</td><td>2531.94</td><td>0.0</td></tr><tr><td>2019-01-07</td><td>2549.69</td><td>2549.69</td><td>0.0</td></tr><tr><td>2019-01-08</td><td>2574.41</td><td>2574.41</td><td>0.0</td></tr></tbody></table></div>"
      ],
      "text/plain": [
       "shape: (5, 4)\n",
       "┌────────────┬───────────┬─────────────┬───────────────┐\n",
       "│ Date       ┆ Adj Close ┆ max_to_date ┆ diff_from_max │\n",
       "│ ---        ┆ ---       ┆ ---         ┆ ---           │\n",
       "│ date       ┆ f64       ┆ f64         ┆ f64           │\n",
       "╞════════════╪═══════════╪═════════════╪═══════════════╡\n",
       "│ 2019-01-02 ┆ 2510.03   ┆ 2510.03     ┆ 0.0           │\n",
       "│ 2019-01-03 ┆ 2447.89   ┆ 2510.03     ┆ -62.14        │\n",
       "│ 2019-01-04 ┆ 2531.94   ┆ 2531.94     ┆ 0.0           │\n",
       "│ 2019-01-07 ┆ 2549.69   ┆ 2549.69     ┆ 0.0           │\n",
       "│ 2019-01-08 ┆ 2574.41   ┆ 2574.41     ┆ 0.0           │\n",
       "└────────────┴───────────┴─────────────┴───────────────┘"
      ]
     },
     "execution_count": 49,
     "metadata": {},
     "output_type": "execute_result"
    }
   ],
   "source": [
    "# for more advanced calculation, a cumulative_eval function is available\n",
    "# cumulative_eval calculates a value for each row, by looking the current and all previous rows\n",
    "# for example, I want to calculate the difference between the current close value and the maximum value to date\n",
    "\n",
    "sp500.select(\n",
    "    'Date','Adj Close',\n",
    "    max_to_date = pl.col('Adj Close').cummax(),\n",
    "    diff_from_max = pl.col('Adj Close').cumulative_eval(\n",
    "        pl.element().last() - pl.element().max())\n",
    ").head(5)"
   ]
  },
  {
   "cell_type": "markdown",
   "metadata": {},
   "source": [
    "#### Rolling functions"
   ]
  },
  {
   "cell_type": "code",
   "execution_count": 50,
   "metadata": {},
   "outputs": [
    {
     "data": {
      "text/html": [
       "<div><style>\n",
       ".dataframe > thead > tr > th,\n",
       ".dataframe > tbody > tr > td {\n",
       "  text-align: right;\n",
       "}\n",
       "</style>\n",
       "<small>shape: (5, 3)</small><table border=\"1\" class=\"dataframe\"><thead><tr><th>Date</th><th>Adj Close</th><th>rolling_min_price</th></tr><tr><td>datetime[μs]</td><td>f64</td><td>f64</td></tr></thead><tbody><tr><td>2019-01-02 00:00:00</td><td>2510.03</td><td>null</td></tr><tr><td>2019-01-03 00:00:00</td><td>2447.89</td><td>2510.03</td></tr><tr><td>2019-01-04 00:00:00</td><td>2531.94</td><td>2447.89</td></tr><tr><td>2019-01-07 00:00:00</td><td>2549.69</td><td>2531.94</td></tr><tr><td>2019-01-08 00:00:00</td><td>2574.41</td><td>2549.69</td></tr></tbody></table></div>"
      ],
      "text/plain": [
       "shape: (5, 3)\n",
       "┌─────────────────────┬───────────┬───────────────────┐\n",
       "│ Date                ┆ Adj Close ┆ rolling_min_price │\n",
       "│ ---                 ┆ ---       ┆ ---               │\n",
       "│ datetime[μs]        ┆ f64       ┆ f64               │\n",
       "╞═════════════════════╪═══════════╪═══════════════════╡\n",
       "│ 2019-01-02 00:00:00 ┆ 2510.03   ┆ null              │\n",
       "│ 2019-01-03 00:00:00 ┆ 2447.89   ┆ 2510.03           │\n",
       "│ 2019-01-04 00:00:00 ┆ 2531.94   ┆ 2447.89           │\n",
       "│ 2019-01-07 00:00:00 ┆ 2549.69   ┆ 2531.94           │\n",
       "│ 2019-01-08 00:00:00 ┆ 2574.41   ┆ 2549.69           │\n",
       "└─────────────────────┴───────────┴───────────────────┘"
      ]
     },
     "execution_count": 50,
     "metadata": {},
     "output_type": "execute_result"
    }
   ],
   "source": [
    "# Rolling functions are similar to cumulative functions, but we are not limited to looking at all rows\n",
    "# can specify a number of rows to look at using window_size\n",
    "# window_size can also be a temporal interval, for example '3d' for 3 days\n",
    "# the date column should be of type datetime so we can it to datetime first\n",
    "\n",
    "from datetime import time\n",
    "\n",
    "(\n",
    "    sp500.head(5).with_columns(\n",
    "        pl.col('Date').dt.combine(time(0)))\n",
    "    .select(\n",
    "        'Date', 'Adj Close',\n",
    "        rolling_min_price = \n",
    "            pl.col('Adj Close').rolling_min(\n",
    "                by='Date', window_size='3d', closed='left'))\n",
    ")"
   ]
  },
  {
   "cell_type": "code",
   "execution_count": 51,
   "metadata": {},
   "outputs": [
    {
     "data": {
      "text/html": [
       "<div><style>\n",
       ".dataframe > thead > tr > th,\n",
       ".dataframe > tbody > tr > td {\n",
       "  text-align: right;\n",
       "}\n",
       "</style>\n",
       "<small>shape: (5, 3)</small><table border=\"1\" class=\"dataframe\"><thead><tr><th>Date</th><th>Adj Close</th><th>rolling_min_price</th></tr><tr><td>date</td><td>f64</td><td>f64</td></tr></thead><tbody><tr><td>2019-01-02</td><td>2510.03</td><td>null</td></tr><tr><td>2019-01-03</td><td>2447.89</td><td>null</td></tr><tr><td>2019-01-04</td><td>2531.94</td><td>2447.89</td></tr><tr><td>2019-01-07</td><td>2549.69</td><td>2447.89</td></tr><tr><td>2019-01-08</td><td>2574.41</td><td>2531.94</td></tr></tbody></table></div>"
      ],
      "text/plain": [
       "shape: (5, 3)\n",
       "┌────────────┬───────────┬───────────────────┐\n",
       "│ Date       ┆ Adj Close ┆ rolling_min_price │\n",
       "│ ---        ┆ ---       ┆ ---               │\n",
       "│ date       ┆ f64       ┆ f64               │\n",
       "╞════════════╪═══════════╪═══════════════════╡\n",
       "│ 2019-01-02 ┆ 2510.03   ┆ null              │\n",
       "│ 2019-01-03 ┆ 2447.89   ┆ null              │\n",
       "│ 2019-01-04 ┆ 2531.94   ┆ 2447.89           │\n",
       "│ 2019-01-07 ┆ 2549.69   ┆ 2447.89           │\n",
       "│ 2019-01-08 ┆ 2574.41   ┆ 2531.94           │\n",
       "└────────────┴───────────┴───────────────────┘"
      ]
     },
     "execution_count": 51,
     "metadata": {},
     "output_type": "execute_result"
    }
   ],
   "source": [
    "# we can also use number of rows instead of a temporal interval\n",
    "# in that case, we pass an integer to window_size\n",
    "# the result is not the same, because the number of rows is not the same as the number of days\n",
    "\n",
    "(\n",
    "    sp500.head(5).select(\n",
    "        'Date', 'Adj Close',\n",
    "        rolling_min_price = \n",
    "            pl.col('Adj Close').rolling_min(window_size=3))\n",
    ")"
   ]
  },
  {
   "cell_type": "code",
   "execution_count": 62,
   "metadata": {},
   "outputs": [
    {
     "data": {
      "application/vnd.plotly.v1+json": {
       "config": {
        "plotlyServerURL": "https://plot.ly"
       },
       "data": [
        {
         "hovertemplate": "Date=%{x}<br>corr=%{y}<extra></extra>",
         "legendgroup": "",
         "line": {
          "color": "#636efa",
          "dash": "solid"
         },
         "marker": {
          "symbol": "circle"
         },
         "mode": "lines",
         "name": "",
         "showlegend": false,
         "type": "scattergl",
         "x": [
          "2019-01-02T00:00:00",
          "2019-01-03T00:00:00",
          "2019-01-04T00:00:00",
          "2019-01-07T00:00:00",
          "2019-01-08T00:00:00",
          "2019-01-09T00:00:00",
          "2019-01-10T00:00:00",
          "2019-01-11T00:00:00",
          "2019-01-14T00:00:00",
          "2019-01-15T00:00:00",
          "2019-01-16T00:00:00",
          "2019-01-17T00:00:00",
          "2019-01-18T00:00:00",
          "2019-01-22T00:00:00",
          "2019-01-23T00:00:00",
          "2019-01-24T00:00:00",
          "2019-01-25T00:00:00",
          "2019-01-28T00:00:00",
          "2019-01-29T00:00:00",
          "2019-01-30T00:00:00",
          "2019-01-31T00:00:00",
          "2019-02-01T00:00:00",
          "2019-02-04T00:00:00",
          "2019-02-05T00:00:00",
          "2019-02-06T00:00:00",
          "2019-02-07T00:00:00",
          "2019-02-08T00:00:00",
          "2019-02-11T00:00:00",
          "2019-02-12T00:00:00",
          "2019-02-13T00:00:00",
          "2019-02-14T00:00:00",
          "2019-02-15T00:00:00",
          "2019-02-19T00:00:00",
          "2019-02-20T00:00:00",
          "2019-02-21T00:00:00",
          "2019-02-22T00:00:00",
          "2019-02-25T00:00:00",
          "2019-02-26T00:00:00",
          "2019-02-27T00:00:00",
          "2019-02-28T00:00:00",
          "2019-03-01T00:00:00",
          "2019-03-04T00:00:00",
          "2019-03-05T00:00:00",
          "2019-03-06T00:00:00",
          "2019-03-07T00:00:00",
          "2019-03-08T00:00:00",
          "2019-03-11T00:00:00",
          "2019-03-12T00:00:00",
          "2019-03-13T00:00:00",
          "2019-03-14T00:00:00",
          "2019-03-15T00:00:00",
          "2019-03-18T00:00:00",
          "2019-03-19T00:00:00",
          "2019-03-20T00:00:00",
          "2019-03-21T00:00:00",
          "2019-03-22T00:00:00",
          "2019-03-25T00:00:00",
          "2019-03-26T00:00:00",
          "2019-03-27T00:00:00",
          "2019-03-28T00:00:00",
          "2019-03-29T00:00:00",
          "2019-04-01T00:00:00",
          "2019-04-02T00:00:00",
          "2019-04-03T00:00:00",
          "2019-04-04T00:00:00",
          "2019-04-05T00:00:00",
          "2019-04-08T00:00:00",
          "2019-04-09T00:00:00",
          "2019-04-10T00:00:00",
          "2019-04-11T00:00:00",
          "2019-04-12T00:00:00",
          "2019-04-15T00:00:00",
          "2019-04-16T00:00:00",
          "2019-04-17T00:00:00",
          "2019-04-18T00:00:00",
          "2019-04-22T00:00:00",
          "2019-04-23T00:00:00",
          "2019-04-24T00:00:00",
          "2019-04-25T00:00:00",
          "2019-04-26T00:00:00",
          "2019-04-29T00:00:00",
          "2019-04-30T00:00:00",
          "2019-05-01T00:00:00",
          "2019-05-02T00:00:00",
          "2019-05-03T00:00:00",
          "2019-05-06T00:00:00",
          "2019-05-07T00:00:00",
          "2019-05-08T00:00:00",
          "2019-05-09T00:00:00",
          "2019-05-10T00:00:00",
          "2019-05-13T00:00:00",
          "2019-05-14T00:00:00",
          "2019-05-15T00:00:00",
          "2019-05-16T00:00:00",
          "2019-05-17T00:00:00",
          "2019-05-20T00:00:00",
          "2019-05-21T00:00:00",
          "2019-05-22T00:00:00",
          "2019-05-23T00:00:00",
          "2019-05-24T00:00:00",
          "2019-05-28T00:00:00",
          "2019-05-29T00:00:00",
          "2019-05-30T00:00:00",
          "2019-05-31T00:00:00",
          "2019-06-03T00:00:00",
          "2019-06-04T00:00:00",
          "2019-06-05T00:00:00",
          "2019-06-06T00:00:00",
          "2019-06-07T00:00:00",
          "2019-06-10T00:00:00",
          "2019-06-11T00:00:00",
          "2019-06-12T00:00:00",
          "2019-06-13T00:00:00",
          "2019-06-14T00:00:00",
          "2019-06-17T00:00:00",
          "2019-06-18T00:00:00",
          "2019-06-19T00:00:00",
          "2019-06-20T00:00:00",
          "2019-06-21T00:00:00",
          "2019-06-24T00:00:00",
          "2019-06-25T00:00:00",
          "2019-06-26T00:00:00",
          "2019-06-27T00:00:00",
          "2019-06-28T00:00:00",
          "2019-07-01T00:00:00",
          "2019-07-02T00:00:00",
          "2019-07-03T00:00:00",
          "2019-07-05T00:00:00",
          "2019-07-08T00:00:00",
          "2019-07-09T00:00:00",
          "2019-07-10T00:00:00",
          "2019-07-11T00:00:00",
          "2019-07-12T00:00:00",
          "2019-07-15T00:00:00",
          "2019-07-16T00:00:00",
          "2019-07-17T00:00:00",
          "2019-07-18T00:00:00",
          "2019-07-19T00:00:00",
          "2019-07-22T00:00:00",
          "2019-07-23T00:00:00",
          "2019-07-24T00:00:00",
          "2019-07-25T00:00:00",
          "2019-07-26T00:00:00",
          "2019-07-29T00:00:00",
          "2019-07-30T00:00:00",
          "2019-07-31T00:00:00",
          "2019-08-01T00:00:00",
          "2019-08-02T00:00:00",
          "2019-08-05T00:00:00",
          "2019-08-06T00:00:00",
          "2019-08-07T00:00:00",
          "2019-08-08T00:00:00",
          "2019-08-09T00:00:00",
          "2019-08-12T00:00:00",
          "2019-08-13T00:00:00",
          "2019-08-14T00:00:00",
          "2019-08-15T00:00:00",
          "2019-08-16T00:00:00",
          "2019-08-19T00:00:00",
          "2019-08-20T00:00:00",
          "2019-08-21T00:00:00",
          "2019-08-22T00:00:00",
          "2019-08-23T00:00:00",
          "2019-08-26T00:00:00",
          "2019-08-27T00:00:00",
          "2019-08-28T00:00:00",
          "2019-08-29T00:00:00",
          "2019-08-30T00:00:00",
          "2019-09-03T00:00:00",
          "2019-09-04T00:00:00",
          "2019-09-05T00:00:00",
          "2019-09-06T00:00:00",
          "2019-09-09T00:00:00",
          "2019-09-10T00:00:00",
          "2019-09-11T00:00:00",
          "2019-09-12T00:00:00",
          "2019-09-13T00:00:00",
          "2019-09-16T00:00:00",
          "2019-09-17T00:00:00",
          "2019-09-18T00:00:00",
          "2019-09-19T00:00:00",
          "2019-09-20T00:00:00",
          "2019-09-23T00:00:00",
          "2019-09-24T00:00:00",
          "2019-09-25T00:00:00",
          "2019-09-26T00:00:00",
          "2019-09-27T00:00:00",
          "2019-09-30T00:00:00",
          "2019-10-01T00:00:00",
          "2019-10-02T00:00:00",
          "2019-10-03T00:00:00",
          "2019-10-04T00:00:00",
          "2019-10-07T00:00:00",
          "2019-10-08T00:00:00",
          "2019-10-09T00:00:00",
          "2019-10-10T00:00:00",
          "2019-10-11T00:00:00",
          "2019-10-14T00:00:00",
          "2019-10-15T00:00:00",
          "2019-10-16T00:00:00",
          "2019-10-17T00:00:00",
          "2019-10-18T00:00:00",
          "2019-10-21T00:00:00",
          "2019-10-22T00:00:00",
          "2019-10-23T00:00:00",
          "2019-10-24T00:00:00",
          "2019-10-25T00:00:00",
          "2019-10-28T00:00:00",
          "2019-10-29T00:00:00",
          "2019-10-30T00:00:00",
          "2019-10-31T00:00:00",
          "2019-11-01T00:00:00",
          "2019-11-04T00:00:00",
          "2019-11-05T00:00:00",
          "2019-11-06T00:00:00",
          "2019-11-07T00:00:00",
          "2019-11-08T00:00:00",
          "2019-11-11T00:00:00",
          "2019-11-12T00:00:00",
          "2019-11-13T00:00:00",
          "2019-11-14T00:00:00",
          "2019-11-15T00:00:00",
          "2019-11-18T00:00:00",
          "2019-11-19T00:00:00",
          "2019-11-20T00:00:00",
          "2019-11-21T00:00:00",
          "2019-11-22T00:00:00",
          "2019-11-25T00:00:00",
          "2019-11-26T00:00:00",
          "2019-11-27T00:00:00",
          "2019-11-29T00:00:00",
          "2019-12-02T00:00:00",
          "2019-12-03T00:00:00",
          "2019-12-04T00:00:00",
          "2019-12-05T00:00:00",
          "2019-12-06T00:00:00",
          "2019-12-09T00:00:00",
          "2019-12-10T00:00:00",
          "2019-12-11T00:00:00",
          "2019-12-12T00:00:00",
          "2019-12-13T00:00:00",
          "2019-12-16T00:00:00",
          "2019-12-17T00:00:00",
          "2019-12-18T00:00:00",
          "2019-12-19T00:00:00",
          "2019-12-20T00:00:00",
          "2019-12-23T00:00:00",
          "2019-12-24T00:00:00",
          "2019-12-26T00:00:00",
          "2019-12-27T00:00:00",
          "2019-12-30T00:00:00",
          "2019-12-31T00:00:00",
          "2020-01-02T00:00:00",
          "2020-01-03T00:00:00",
          "2020-01-06T00:00:00",
          "2020-01-07T00:00:00",
          "2020-01-08T00:00:00",
          "2020-01-09T00:00:00",
          "2020-01-10T00:00:00",
          "2020-01-13T00:00:00",
          "2020-01-14T00:00:00",
          "2020-01-15T00:00:00",
          "2020-01-16T00:00:00",
          "2020-01-17T00:00:00",
          "2020-01-21T00:00:00",
          "2020-01-22T00:00:00",
          "2020-01-23T00:00:00",
          "2020-01-24T00:00:00",
          "2020-01-27T00:00:00",
          "2020-01-28T00:00:00",
          "2020-01-29T00:00:00",
          "2020-01-30T00:00:00",
          "2020-01-31T00:00:00",
          "2020-02-03T00:00:00",
          "2020-02-04T00:00:00",
          "2020-02-05T00:00:00",
          "2020-02-06T00:00:00",
          "2020-02-07T00:00:00",
          "2020-02-10T00:00:00",
          "2020-02-11T00:00:00",
          "2020-02-12T00:00:00",
          "2020-02-13T00:00:00",
          "2020-02-14T00:00:00",
          "2020-02-18T00:00:00",
          "2020-02-19T00:00:00",
          "2020-02-20T00:00:00",
          "2020-02-21T00:00:00",
          "2020-02-24T00:00:00",
          "2020-02-25T00:00:00",
          "2020-02-26T00:00:00",
          "2020-02-27T00:00:00",
          "2020-02-28T00:00:00",
          "2020-03-02T00:00:00",
          "2020-03-03T00:00:00",
          "2020-03-04T00:00:00",
          "2020-03-05T00:00:00",
          "2020-03-06T00:00:00",
          "2020-03-09T00:00:00",
          "2020-03-10T00:00:00",
          "2020-03-11T00:00:00",
          "2020-03-12T00:00:00",
          "2020-03-13T00:00:00",
          "2020-03-16T00:00:00",
          "2020-03-17T00:00:00",
          "2020-03-18T00:00:00",
          "2020-03-19T00:00:00",
          "2020-03-20T00:00:00",
          "2020-03-23T00:00:00",
          "2020-03-24T00:00:00",
          "2020-03-25T00:00:00",
          "2020-03-26T00:00:00",
          "2020-03-27T00:00:00",
          "2020-03-30T00:00:00",
          "2020-03-31T00:00:00",
          "2020-04-01T00:00:00",
          "2020-04-02T00:00:00",
          "2020-04-03T00:00:00",
          "2020-04-06T00:00:00",
          "2020-04-07T00:00:00",
          "2020-04-08T00:00:00",
          "2020-04-09T00:00:00",
          "2020-04-13T00:00:00",
          "2020-04-14T00:00:00",
          "2020-04-15T00:00:00",
          "2020-04-16T00:00:00",
          "2020-04-17T00:00:00",
          "2020-04-20T00:00:00",
          "2020-04-21T00:00:00",
          "2020-04-22T00:00:00",
          "2020-04-23T00:00:00",
          "2020-04-24T00:00:00",
          "2020-04-27T00:00:00",
          "2020-04-28T00:00:00",
          "2020-04-29T00:00:00",
          "2020-04-30T00:00:00",
          "2020-05-01T00:00:00",
          "2020-05-04T00:00:00",
          "2020-05-05T00:00:00",
          "2020-05-06T00:00:00",
          "2020-05-07T00:00:00",
          "2020-05-08T00:00:00",
          "2020-05-11T00:00:00",
          "2020-05-12T00:00:00",
          "2020-05-13T00:00:00",
          "2020-05-14T00:00:00",
          "2020-05-15T00:00:00",
          "2020-05-18T00:00:00",
          "2020-05-19T00:00:00",
          "2020-05-20T00:00:00",
          "2020-05-21T00:00:00",
          "2020-05-22T00:00:00",
          "2020-05-26T00:00:00",
          "2020-05-27T00:00:00",
          "2020-05-28T00:00:00",
          "2020-05-29T00:00:00",
          "2020-06-01T00:00:00",
          "2020-06-02T00:00:00",
          "2020-06-03T00:00:00",
          "2020-06-04T00:00:00",
          "2020-06-05T00:00:00",
          "2020-06-08T00:00:00",
          "2020-06-09T00:00:00",
          "2020-06-10T00:00:00",
          "2020-06-11T00:00:00",
          "2020-06-12T00:00:00",
          "2020-06-15T00:00:00",
          "2020-06-16T00:00:00",
          "2020-06-17T00:00:00",
          "2020-06-18T00:00:00",
          "2020-06-19T00:00:00",
          "2020-06-22T00:00:00",
          "2020-06-23T00:00:00",
          "2020-06-24T00:00:00",
          "2020-06-25T00:00:00",
          "2020-06-26T00:00:00",
          "2020-06-29T00:00:00",
          "2020-06-30T00:00:00",
          "2020-07-01T00:00:00",
          "2020-07-02T00:00:00",
          "2020-07-06T00:00:00",
          "2020-07-07T00:00:00",
          "2020-07-08T00:00:00",
          "2020-07-09T00:00:00",
          "2020-07-10T00:00:00",
          "2020-07-13T00:00:00",
          "2020-07-14T00:00:00",
          "2020-07-15T00:00:00",
          "2020-07-16T00:00:00",
          "2020-07-17T00:00:00",
          "2020-07-20T00:00:00",
          "2020-07-21T00:00:00",
          "2020-07-22T00:00:00",
          "2020-07-23T00:00:00",
          "2020-07-24T00:00:00",
          "2020-07-27T00:00:00",
          "2020-07-28T00:00:00",
          "2020-07-29T00:00:00",
          "2020-07-30T00:00:00",
          "2020-07-31T00:00:00",
          "2020-08-03T00:00:00",
          "2020-08-04T00:00:00",
          "2020-08-05T00:00:00",
          "2020-08-06T00:00:00",
          "2020-08-07T00:00:00",
          "2020-08-10T00:00:00",
          "2020-08-11T00:00:00",
          "2020-08-12T00:00:00",
          "2020-08-13T00:00:00",
          "2020-08-14T00:00:00",
          "2020-08-17T00:00:00",
          "2020-08-18T00:00:00",
          "2020-08-19T00:00:00",
          "2020-08-20T00:00:00",
          "2020-08-21T00:00:00",
          "2020-08-24T00:00:00",
          "2020-08-25T00:00:00",
          "2020-08-26T00:00:00",
          "2020-08-27T00:00:00",
          "2020-08-28T00:00:00",
          "2020-08-31T00:00:00",
          "2020-09-01T00:00:00",
          "2020-09-02T00:00:00",
          "2020-09-03T00:00:00",
          "2020-09-04T00:00:00",
          "2020-09-08T00:00:00",
          "2020-09-09T00:00:00",
          "2020-09-10T00:00:00",
          "2020-09-11T00:00:00",
          "2020-09-14T00:00:00",
          "2020-09-15T00:00:00",
          "2020-09-16T00:00:00",
          "2020-09-17T00:00:00",
          "2020-09-18T00:00:00",
          "2020-09-21T00:00:00",
          "2020-09-22T00:00:00",
          "2020-09-23T00:00:00",
          "2020-09-24T00:00:00",
          "2020-09-25T00:00:00",
          "2020-09-28T00:00:00",
          "2020-09-29T00:00:00",
          "2020-09-30T00:00:00",
          "2020-10-01T00:00:00",
          "2020-10-02T00:00:00",
          "2020-10-05T00:00:00",
          "2020-10-06T00:00:00",
          "2020-10-07T00:00:00",
          "2020-10-08T00:00:00",
          "2020-10-09T00:00:00",
          "2020-10-12T00:00:00",
          "2020-10-13T00:00:00",
          "2020-10-14T00:00:00",
          "2020-10-15T00:00:00",
          "2020-10-16T00:00:00",
          "2020-10-19T00:00:00",
          "2020-10-20T00:00:00",
          "2020-10-21T00:00:00",
          "2020-10-22T00:00:00",
          "2020-10-23T00:00:00",
          "2020-10-26T00:00:00",
          "2020-10-27T00:00:00",
          "2020-10-28T00:00:00",
          "2020-10-29T00:00:00",
          "2020-10-30T00:00:00",
          "2020-11-02T00:00:00",
          "2020-11-03T00:00:00",
          "2020-11-04T00:00:00",
          "2020-11-05T00:00:00",
          "2020-11-06T00:00:00",
          "2020-11-09T00:00:00",
          "2020-11-10T00:00:00",
          "2020-11-11T00:00:00",
          "2020-11-12T00:00:00",
          "2020-11-13T00:00:00",
          "2020-11-16T00:00:00",
          "2020-11-17T00:00:00",
          "2020-11-18T00:00:00",
          "2020-11-19T00:00:00",
          "2020-11-20T00:00:00",
          "2020-11-23T00:00:00",
          "2020-11-24T00:00:00",
          "2020-11-25T00:00:00",
          "2020-11-27T00:00:00",
          "2020-11-30T00:00:00",
          "2020-12-01T00:00:00",
          "2020-12-02T00:00:00",
          "2020-12-03T00:00:00",
          "2020-12-04T00:00:00",
          "2020-12-07T00:00:00",
          "2020-12-08T00:00:00",
          "2020-12-09T00:00:00",
          "2020-12-10T00:00:00",
          "2020-12-11T00:00:00",
          "2020-12-14T00:00:00",
          "2020-12-15T00:00:00",
          "2020-12-16T00:00:00",
          "2020-12-17T00:00:00",
          "2020-12-18T00:00:00",
          "2020-12-21T00:00:00",
          "2020-12-22T00:00:00",
          "2020-12-23T00:00:00",
          "2020-12-24T00:00:00",
          "2020-12-28T00:00:00",
          "2020-12-29T00:00:00",
          "2020-12-30T00:00:00",
          "2020-12-31T00:00:00",
          "2021-01-04T00:00:00",
          "2021-01-05T00:00:00",
          "2021-01-06T00:00:00",
          "2021-01-07T00:00:00",
          "2021-01-08T00:00:00",
          "2021-01-11T00:00:00",
          "2021-01-12T00:00:00",
          "2021-01-13T00:00:00",
          "2021-01-14T00:00:00",
          "2021-01-15T00:00:00",
          "2021-01-19T00:00:00",
          "2021-01-20T00:00:00",
          "2021-01-21T00:00:00",
          "2021-01-22T00:00:00",
          "2021-01-25T00:00:00",
          "2021-01-26T00:00:00",
          "2021-01-27T00:00:00",
          "2021-01-28T00:00:00",
          "2021-01-29T00:00:00",
          "2021-02-01T00:00:00",
          "2021-02-02T00:00:00",
          "2021-02-03T00:00:00",
          "2021-02-04T00:00:00",
          "2021-02-05T00:00:00",
          "2021-02-08T00:00:00",
          "2021-02-09T00:00:00",
          "2021-02-10T00:00:00",
          "2021-02-11T00:00:00",
          "2021-02-12T00:00:00",
          "2021-02-16T00:00:00",
          "2021-02-17T00:00:00",
          "2021-02-18T00:00:00",
          "2021-02-19T00:00:00",
          "2021-02-22T00:00:00",
          "2021-02-23T00:00:00",
          "2021-02-24T00:00:00",
          "2021-02-25T00:00:00",
          "2021-02-26T00:00:00",
          "2021-03-01T00:00:00",
          "2021-03-02T00:00:00",
          "2021-03-03T00:00:00",
          "2021-03-04T00:00:00",
          "2021-03-05T00:00:00",
          "2021-03-08T00:00:00",
          "2021-03-09T00:00:00",
          "2021-03-10T00:00:00",
          "2021-03-11T00:00:00",
          "2021-03-12T00:00:00",
          "2021-03-15T00:00:00",
          "2021-03-16T00:00:00",
          "2021-03-17T00:00:00",
          "2021-03-18T00:00:00",
          "2021-03-19T00:00:00",
          "2021-03-22T00:00:00",
          "2021-03-23T00:00:00",
          "2021-03-24T00:00:00",
          "2021-03-25T00:00:00",
          "2021-03-26T00:00:00",
          "2021-03-29T00:00:00",
          "2021-03-30T00:00:00",
          "2021-03-31T00:00:00",
          "2021-04-01T00:00:00",
          "2021-04-05T00:00:00",
          "2021-04-06T00:00:00",
          "2021-04-07T00:00:00",
          "2021-04-08T00:00:00",
          "2021-04-09T00:00:00",
          "2021-04-12T00:00:00",
          "2021-04-13T00:00:00",
          "2021-04-14T00:00:00",
          "2021-04-15T00:00:00",
          "2021-04-16T00:00:00",
          "2021-04-19T00:00:00",
          "2021-04-20T00:00:00",
          "2021-04-21T00:00:00",
          "2021-04-22T00:00:00",
          "2021-04-23T00:00:00",
          "2021-04-26T00:00:00",
          "2021-04-27T00:00:00",
          "2021-04-28T00:00:00",
          "2021-04-29T00:00:00",
          "2021-04-30T00:00:00",
          "2021-05-03T00:00:00",
          "2021-05-04T00:00:00",
          "2021-05-05T00:00:00",
          "2021-05-06T00:00:00",
          "2021-05-07T00:00:00",
          "2021-05-10T00:00:00",
          "2021-05-11T00:00:00",
          "2021-05-12T00:00:00",
          "2021-05-13T00:00:00",
          "2021-05-14T00:00:00",
          "2021-05-17T00:00:00",
          "2021-05-18T00:00:00",
          "2021-05-19T00:00:00",
          "2021-05-20T00:00:00",
          "2021-05-21T00:00:00",
          "2021-05-24T00:00:00",
          "2021-05-25T00:00:00",
          "2021-05-26T00:00:00",
          "2021-05-27T00:00:00",
          "2021-05-28T00:00:00",
          "2021-06-01T00:00:00",
          "2021-06-02T00:00:00",
          "2021-06-03T00:00:00",
          "2021-06-04T00:00:00",
          "2021-06-07T00:00:00",
          "2021-06-08T00:00:00",
          "2021-06-09T00:00:00",
          "2021-06-10T00:00:00",
          "2021-06-11T00:00:00",
          "2021-06-14T00:00:00",
          "2021-06-15T00:00:00",
          "2021-06-16T00:00:00",
          "2021-06-17T00:00:00",
          "2021-06-18T00:00:00",
          "2021-06-21T00:00:00",
          "2021-06-22T00:00:00",
          "2021-06-23T00:00:00",
          "2021-06-24T00:00:00",
          "2021-06-25T00:00:00",
          "2021-06-28T00:00:00",
          "2021-06-29T00:00:00",
          "2021-06-30T00:00:00",
          "2021-07-01T00:00:00",
          "2021-07-02T00:00:00",
          "2021-07-06T00:00:00",
          "2021-07-07T00:00:00",
          "2021-07-08T00:00:00",
          "2021-07-09T00:00:00",
          "2021-07-12T00:00:00",
          "2021-07-13T00:00:00",
          "2021-07-14T00:00:00",
          "2021-07-15T00:00:00",
          "2021-07-16T00:00:00",
          "2021-07-19T00:00:00",
          "2021-07-20T00:00:00",
          "2021-07-21T00:00:00",
          "2021-07-22T00:00:00",
          "2021-07-23T00:00:00",
          "2021-07-26T00:00:00",
          "2021-07-27T00:00:00",
          "2021-07-28T00:00:00",
          "2021-07-29T00:00:00",
          "2021-07-30T00:00:00",
          "2021-08-02T00:00:00",
          "2021-08-03T00:00:00",
          "2021-08-04T00:00:00",
          "2021-08-05T00:00:00",
          "2021-08-06T00:00:00",
          "2021-08-09T00:00:00",
          "2021-08-10T00:00:00",
          "2021-08-11T00:00:00",
          "2021-08-12T00:00:00",
          "2021-08-13T00:00:00",
          "2021-08-16T00:00:00",
          "2021-08-17T00:00:00",
          "2021-08-18T00:00:00",
          "2021-08-19T00:00:00",
          "2021-08-20T00:00:00",
          "2021-08-23T00:00:00",
          "2021-08-24T00:00:00",
          "2021-08-25T00:00:00",
          "2021-08-26T00:00:00",
          "2021-08-27T00:00:00",
          "2021-08-30T00:00:00",
          "2021-08-31T00:00:00",
          "2021-09-01T00:00:00",
          "2021-09-02T00:00:00",
          "2021-09-03T00:00:00",
          "2021-09-07T00:00:00",
          "2021-09-08T00:00:00",
          "2021-09-09T00:00:00",
          "2021-09-10T00:00:00",
          "2021-09-13T00:00:00",
          "2021-09-14T00:00:00",
          "2021-09-15T00:00:00",
          "2021-09-16T00:00:00",
          "2021-09-17T00:00:00",
          "2021-09-20T00:00:00",
          "2021-09-21T00:00:00",
          "2021-09-22T00:00:00",
          "2021-09-23T00:00:00",
          "2021-09-24T00:00:00",
          "2021-09-27T00:00:00",
          "2021-09-28T00:00:00",
          "2021-09-29T00:00:00",
          "2021-09-30T00:00:00",
          "2021-10-01T00:00:00",
          "2021-10-04T00:00:00",
          "2021-10-05T00:00:00",
          "2021-10-06T00:00:00",
          "2021-10-07T00:00:00",
          "2021-10-08T00:00:00",
          "2021-10-11T00:00:00",
          "2021-10-12T00:00:00",
          "2021-10-13T00:00:00",
          "2021-10-14T00:00:00",
          "2021-10-15T00:00:00",
          "2021-10-18T00:00:00",
          "2021-10-19T00:00:00",
          "2021-10-20T00:00:00",
          "2021-10-21T00:00:00",
          "2021-10-22T00:00:00",
          "2021-10-25T00:00:00",
          "2021-10-26T00:00:00",
          "2021-10-27T00:00:00",
          "2021-10-28T00:00:00",
          "2021-10-29T00:00:00",
          "2021-11-01T00:00:00",
          "2021-11-02T00:00:00",
          "2021-11-03T00:00:00",
          "2021-11-04T00:00:00",
          "2021-11-05T00:00:00",
          "2021-11-08T00:00:00",
          "2021-11-09T00:00:00",
          "2021-11-10T00:00:00",
          "2021-11-11T00:00:00",
          "2021-11-12T00:00:00",
          "2021-11-15T00:00:00",
          "2021-11-16T00:00:00",
          "2021-11-17T00:00:00",
          "2021-11-18T00:00:00",
          "2021-11-19T00:00:00",
          "2021-11-22T00:00:00",
          "2021-11-23T00:00:00",
          "2021-11-24T00:00:00",
          "2021-11-26T00:00:00",
          "2021-11-29T00:00:00",
          "2021-11-30T00:00:00",
          "2021-12-01T00:00:00",
          "2021-12-02T00:00:00",
          "2021-12-03T00:00:00",
          "2021-12-06T00:00:00",
          "2021-12-07T00:00:00",
          "2021-12-08T00:00:00",
          "2021-12-09T00:00:00",
          "2021-12-10T00:00:00",
          "2021-12-13T00:00:00",
          "2021-12-14T00:00:00",
          "2021-12-15T00:00:00",
          "2021-12-16T00:00:00",
          "2021-12-17T00:00:00",
          "2021-12-20T00:00:00",
          "2021-12-21T00:00:00",
          "2021-12-22T00:00:00",
          "2021-12-23T00:00:00",
          "2021-12-27T00:00:00",
          "2021-12-28T00:00:00",
          "2021-12-29T00:00:00",
          "2021-12-30T00:00:00",
          "2021-12-31T00:00:00",
          "2022-01-03T00:00:00",
          "2022-01-04T00:00:00",
          "2022-01-05T00:00:00",
          "2022-01-06T00:00:00",
          "2022-01-07T00:00:00",
          "2022-01-10T00:00:00",
          "2022-01-11T00:00:00",
          "2022-01-12T00:00:00",
          "2022-01-13T00:00:00",
          "2022-01-14T00:00:00",
          "2022-01-18T00:00:00",
          "2022-01-19T00:00:00",
          "2022-01-20T00:00:00",
          "2022-01-21T00:00:00",
          "2022-01-24T00:00:00",
          "2022-01-25T00:00:00",
          "2022-01-26T00:00:00",
          "2022-01-27T00:00:00",
          "2022-01-28T00:00:00",
          "2022-01-31T00:00:00",
          "2022-02-01T00:00:00",
          "2022-02-02T00:00:00",
          "2022-02-03T00:00:00",
          "2022-02-04T00:00:00",
          "2022-02-07T00:00:00",
          "2022-02-08T00:00:00",
          "2022-02-09T00:00:00",
          "2022-02-10T00:00:00",
          "2022-02-11T00:00:00",
          "2022-02-14T00:00:00",
          "2022-02-15T00:00:00",
          "2022-02-16T00:00:00",
          "2022-02-17T00:00:00",
          "2022-02-18T00:00:00",
          "2022-02-22T00:00:00",
          "2022-02-23T00:00:00",
          "2022-02-24T00:00:00",
          "2022-02-25T00:00:00",
          "2022-02-28T00:00:00",
          "2022-03-01T00:00:00",
          "2022-03-02T00:00:00",
          "2022-03-03T00:00:00",
          "2022-03-04T00:00:00",
          "2022-03-07T00:00:00",
          "2022-03-08T00:00:00",
          "2022-03-09T00:00:00",
          "2022-03-10T00:00:00",
          "2022-03-11T00:00:00",
          "2022-03-14T00:00:00",
          "2022-03-15T00:00:00",
          "2022-03-16T00:00:00",
          "2022-03-17T00:00:00",
          "2022-03-18T00:00:00",
          "2022-03-21T00:00:00",
          "2022-03-22T00:00:00",
          "2022-03-23T00:00:00",
          "2022-03-24T00:00:00",
          "2022-03-25T00:00:00",
          "2022-03-28T00:00:00",
          "2022-03-29T00:00:00",
          "2022-03-30T00:00:00",
          "2022-03-31T00:00:00",
          "2022-04-01T00:00:00",
          "2022-04-04T00:00:00",
          "2022-04-05T00:00:00",
          "2022-04-06T00:00:00",
          "2022-04-07T00:00:00",
          "2022-04-08T00:00:00",
          "2022-04-11T00:00:00",
          "2022-04-12T00:00:00",
          "2022-04-13T00:00:00",
          "2022-04-14T00:00:00",
          "2022-04-18T00:00:00",
          "2022-04-19T00:00:00",
          "2022-04-20T00:00:00",
          "2022-04-21T00:00:00",
          "2022-04-22T00:00:00",
          "2022-04-25T00:00:00",
          "2022-04-26T00:00:00",
          "2022-04-27T00:00:00",
          "2022-04-28T00:00:00",
          "2022-04-29T00:00:00",
          "2022-05-02T00:00:00",
          "2022-05-03T00:00:00",
          "2022-05-04T00:00:00",
          "2022-05-05T00:00:00",
          "2022-05-06T00:00:00",
          "2022-05-09T00:00:00",
          "2022-05-10T00:00:00",
          "2022-05-11T00:00:00",
          "2022-05-12T00:00:00",
          "2022-05-13T00:00:00",
          "2022-05-16T00:00:00",
          "2022-05-17T00:00:00",
          "2022-05-18T00:00:00",
          "2022-05-19T00:00:00",
          "2022-05-20T00:00:00",
          "2022-05-23T00:00:00",
          "2022-05-24T00:00:00",
          "2022-05-25T00:00:00",
          "2022-05-26T00:00:00",
          "2022-05-27T00:00:00",
          "2022-05-31T00:00:00",
          "2022-06-01T00:00:00",
          "2022-06-02T00:00:00",
          "2022-06-03T00:00:00",
          "2022-06-06T00:00:00",
          "2022-06-07T00:00:00",
          "2022-06-08T00:00:00",
          "2022-06-09T00:00:00",
          "2022-06-10T00:00:00",
          "2022-06-13T00:00:00",
          "2022-06-14T00:00:00",
          "2022-06-15T00:00:00",
          "2022-06-16T00:00:00",
          "2022-06-17T00:00:00",
          "2022-06-21T00:00:00",
          "2022-06-22T00:00:00",
          "2022-06-23T00:00:00",
          "2022-06-24T00:00:00",
          "2022-06-27T00:00:00",
          "2022-06-28T00:00:00",
          "2022-06-29T00:00:00",
          "2022-06-30T00:00:00",
          "2022-07-01T00:00:00",
          "2022-07-05T00:00:00",
          "2022-07-06T00:00:00",
          "2022-07-07T00:00:00",
          "2022-07-08T00:00:00",
          "2022-07-11T00:00:00",
          "2022-07-12T00:00:00",
          "2022-07-13T00:00:00",
          "2022-07-14T00:00:00",
          "2022-07-15T00:00:00",
          "2022-07-18T00:00:00",
          "2022-07-19T00:00:00",
          "2022-07-20T00:00:00",
          "2022-07-21T00:00:00",
          "2022-07-22T00:00:00",
          "2022-07-25T00:00:00",
          "2022-07-26T00:00:00",
          "2022-07-27T00:00:00",
          "2022-07-28T00:00:00",
          "2022-07-29T00:00:00",
          "2022-08-01T00:00:00",
          "2022-08-02T00:00:00",
          "2022-08-03T00:00:00",
          "2022-08-04T00:00:00",
          "2022-08-05T00:00:00",
          "2022-08-08T00:00:00",
          "2022-08-09T00:00:00",
          "2022-08-10T00:00:00",
          "2022-08-11T00:00:00",
          "2022-08-12T00:00:00",
          "2022-08-15T00:00:00",
          "2022-08-16T00:00:00",
          "2022-08-17T00:00:00",
          "2022-08-18T00:00:00",
          "2022-08-19T00:00:00",
          "2022-08-22T00:00:00",
          "2022-08-23T00:00:00",
          "2022-08-24T00:00:00",
          "2022-08-25T00:00:00",
          "2022-08-26T00:00:00",
          "2022-08-29T00:00:00",
          "2022-08-30T00:00:00",
          "2022-08-31T00:00:00",
          "2022-09-01T00:00:00",
          "2022-09-02T00:00:00",
          "2022-09-06T00:00:00",
          "2022-09-07T00:00:00",
          "2022-09-08T00:00:00",
          "2022-09-09T00:00:00",
          "2022-09-12T00:00:00",
          "2022-09-13T00:00:00",
          "2022-09-14T00:00:00",
          "2022-09-15T00:00:00",
          "2022-09-16T00:00:00",
          "2022-09-19T00:00:00",
          "2022-09-20T00:00:00",
          "2022-09-21T00:00:00",
          "2022-09-22T00:00:00",
          "2022-09-23T00:00:00",
          "2022-09-26T00:00:00",
          "2022-09-27T00:00:00",
          "2022-09-28T00:00:00",
          "2022-09-29T00:00:00",
          "2022-09-30T00:00:00",
          "2022-10-03T00:00:00",
          "2022-10-04T00:00:00",
          "2022-10-05T00:00:00",
          "2022-10-06T00:00:00",
          "2022-10-07T00:00:00",
          "2022-10-10T00:00:00",
          "2022-10-11T00:00:00",
          "2022-10-12T00:00:00",
          "2022-10-13T00:00:00",
          "2022-10-14T00:00:00",
          "2022-10-17T00:00:00",
          "2022-10-18T00:00:00",
          "2022-10-19T00:00:00",
          "2022-10-20T00:00:00",
          "2022-10-21T00:00:00",
          "2022-10-24T00:00:00",
          "2022-10-25T00:00:00",
          "2022-10-26T00:00:00",
          "2022-10-27T00:00:00",
          "2022-10-28T00:00:00",
          "2022-10-31T00:00:00",
          "2022-11-01T00:00:00",
          "2022-11-02T00:00:00",
          "2022-11-03T00:00:00",
          "2022-11-04T00:00:00",
          "2022-11-07T00:00:00",
          "2022-11-08T00:00:00",
          "2022-11-09T00:00:00",
          "2022-11-10T00:00:00",
          "2022-11-11T00:00:00",
          "2022-11-14T00:00:00",
          "2022-11-15T00:00:00",
          "2022-11-16T00:00:00",
          "2022-11-17T00:00:00",
          "2022-11-18T00:00:00",
          "2022-11-21T00:00:00",
          "2022-11-22T00:00:00",
          "2022-11-23T00:00:00",
          "2022-11-25T00:00:00",
          "2022-11-28T00:00:00",
          "2022-11-29T00:00:00",
          "2022-11-30T00:00:00",
          "2022-12-01T00:00:00",
          "2022-12-02T00:00:00",
          "2022-12-05T00:00:00",
          "2022-12-06T00:00:00",
          "2022-12-07T00:00:00",
          "2022-12-08T00:00:00",
          "2022-12-09T00:00:00",
          "2022-12-12T00:00:00",
          "2022-12-13T00:00:00",
          "2022-12-14T00:00:00",
          "2022-12-15T00:00:00",
          "2022-12-16T00:00:00",
          "2022-12-19T00:00:00",
          "2022-12-20T00:00:00",
          "2022-12-21T00:00:00",
          "2022-12-22T00:00:00",
          "2022-12-23T00:00:00",
          "2022-12-27T00:00:00",
          "2022-12-28T00:00:00",
          "2022-12-29T00:00:00",
          "2022-12-30T00:00:00"
         ],
         "xaxis": "x",
         "y": [
          null,
          null,
          null,
          null,
          null,
          null,
          null,
          null,
          null,
          null,
          null,
          null,
          null,
          null,
          null,
          null,
          null,
          null,
          null,
          null,
          null,
          null,
          null,
          null,
          null,
          null,
          null,
          null,
          null,
          -0.7190262270723317,
          -0.6724838872678601,
          -0.6402393364144059,
          -0.434502915498318,
          -0.16737461525403238,
          0.06143755409836993,
          0.3285789720709515,
          0.4097469620841491,
          0.4811540127891138,
          0.568902783679327,
          0.6115395757127594,
          0.6634715223930093,
          0.6988292839597771,
          0.7226145683563991,
          0.7475546853376952,
          0.7549996096812709,
          0.7662385118131636,
          0.7850587221463372,
          0.7903665796372203,
          0.7969371659648521,
          0.7920478722262663,
          0.777855062142091,
          0.7715222797404268,
          0.7728154804259667,
          0.7820728773317738,
          0.7804503845193077,
          0.7357145032505257,
          0.7101259027096988,
          0.672176245421299,
          0.6278226807585673,
          0.5943622377127374,
          0.5466776679190118,
          0.6369332391757129,
          0.6347311696285161,
          0.698526580166425,
          0.7538505839985082,
          0.8001896573409785,
          0.8267835347509803,
          0.8330030832456556,
          0.842943802800882,
          0.8517278029065767,
          0.8628636109439877,
          0.8686862073917648,
          0.8753531144684364,
          0.8810221749069864,
          0.898981332809081,
          0.928213862155657,
          0.9365707900416044,
          0.9399985020465571,
          0.9341477483302875,
          0.9252067616368552,
          0.9154518436577191,
          0.9120880796725657,
          0.9119822152266673,
          0.9071159141566897,
          0.9232388946524716,
          0.9150816641291968,
          0.8510925444808431,
          0.7506204921520115,
          0.5725543495273386,
          0.34633871553771894,
          -0.3152117701312871,
          -0.5609769991661616,
          -0.6476159049784456,
          -0.6726980002443126,
          -0.724575190489687,
          -0.7677646481385739,
          -0.7755768948870715,
          -0.810414835126199,
          -0.8377803507410778,
          -0.8685834014165368,
          -0.889202421835473,
          -0.9042529341205601,
          -0.9101757292635446,
          -0.9122683500980742,
          -0.9020982798240689,
          -0.9022066824566154,
          -0.8993364905128988,
          -0.8933759743250053,
          -0.8716075565158844,
          -0.8361892228588144,
          -0.7975242778613264,
          -0.7468295735216118,
          -0.6849004660651709,
          -0.6004427902865574,
          -0.432331771117102,
          -0.2167488922960448,
          -0.04446878476898231,
          0.1652336456248235,
          0.36662567114528344,
          0.5495198045381586,
          0.5399839311344914,
          0.519772695317385,
          0.5460877134275477,
          0.591171174112444,
          0.6184297854617773,
          0.6349106191052887,
          0.6756644160889318,
          0.6914566242271961,
          0.702804009507196,
          0.7125206920316988,
          0.7291527496439905,
          0.7389928579238325,
          0.744566778859963,
          0.7557778991626689,
          0.7359612369032194,
          0.6929608860449966,
          0.6576952557263888,
          0.6153113611887616,
          0.5692483201935379,
          0.49426069864616173,
          0.38558008083426315,
          0.26920507480039435,
          0.11886953585993615,
          -0.06028242223619904,
          -0.21443999873246922,
          -0.3372873019320962,
          -0.4375081513383401,
          -0.4568002617796232,
          -0.48477041886689526,
          -0.4854973234658178,
          -0.4947482938596267,
          -0.4637951549873462,
          -0.4849155083506002,
          -0.47343153324920606,
          -0.46937113887141724,
          -0.3452857649390205,
          -0.31332759662242515,
          -0.2911846485906937,
          -0.32655171541827005,
          -0.38483107958313656,
          -0.4435455503231591,
          -0.47233697208527625,
          -0.5399694120085712,
          -0.5612869274778214,
          -0.5047893885286623,
          -0.4448668649366186,
          -0.44434579403934527,
          -0.44071782761308265,
          -0.44466440590543244,
          -0.4238484238781933,
          -0.3831910330220039,
          -0.3581490173468444,
          -0.32432312093555227,
          -0.2658763132736993,
          -0.21044718400020876,
          -0.1875100990940877,
          -0.19299973989118374,
          -0.20845702711975533,
          -0.1443125277832294,
          -0.12445323141565517,
          -0.06953295210551678,
          -0.10274265971543604,
          -0.12848786944040083,
          -0.08309256813171119,
          -0.13973735266724477,
          -0.19218310484232734,
          -0.17679522214893126,
          -0.17954298311418876,
          -0.1238405311665736,
          0.010006475508857133,
          0.07333848347260342,
          0.08620282186640421,
          0.19019897979606684,
          0.32228267729962434,
          0.4357193043064799,
          0.49892906637021417,
          0.49557184865064613,
          0.5055237805626541,
          0.5824251984401817,
          0.6142418671342569,
          0.5821289051946046,
          0.5591862188706386,
          0.5274100718242999,
          0.5023028712070814,
          0.4164019607151823,
          0.30834861582642575,
          0.25696266093270725,
          0.26436516310836233,
          0.27440379621336397,
          0.28039824222560095,
          0.2914229442233006,
          0.3768209717500027,
          0.47987505799819663,
          0.5380551227239347,
          0.5795926652496446,
          0.60957483031487,
          0.5998880788273517,
          0.5915087290698917,
          0.5872449309160268,
          0.6023903159369998,
          0.5900447384629407,
          0.5377718655884469,
          0.47049103843425066,
          0.3996066270084723,
          0.36874892074504534,
          0.3108634471501324,
          0.19368661507900514,
          0.05808716255117652,
          -0.0627276706697275,
          -0.1697655142403061,
          -0.23966321160462659,
          -0.328166398497755,
          -0.3588422063430781,
          -0.435702799903958,
          -0.5800047513111835,
          -0.7538555092144452,
          -0.8027958500792824,
          -0.8035045735782578,
          -0.7998827151790755,
          -0.7926577178631776,
          -0.7887386862320046,
          -0.7733633497000704,
          -0.7788800266396483,
          -0.7453183058701621,
          -0.7077958741472827,
          -0.6696920538315526,
          -0.6261877437778873,
          -0.5816276325561869,
          -0.5399434457881596,
          -0.4917251336209685,
          -0.44361022409237494,
          -0.4396078481853827,
          -0.4648760895760673,
          -0.42825895734342884,
          -0.22152296467385285,
          0.009014932628634061,
          0.12559710345003652,
          0.1916896277233524,
          0.26664244041062013,
          0.3627430459611271,
          0.4797063708417626,
          0.54183056077126,
          0.6206288277655921,
          0.6832109391360198,
          0.7428945753195313,
          0.786419281279552,
          0.8158732756735019,
          0.8434187453980982,
          0.8170135212251548,
          0.7954865992603782,
          0.7808697669729654,
          0.7522929088633749,
          0.6309084402000937,
          0.5695999403271269,
          0.5548408291526303,
          0.5729881464049046,
          0.595098408603946,
          0.5987269868165005,
          0.6182111499580966,
          0.6427858512513736,
          0.6577473996355707,
          0.6620515331669099,
          0.6977775429014272,
          0.6918251516558365,
          0.668358024030952,
          0.6449957340200749,
          0.6215910252488233,
          0.5323588422555894,
          0.40823034450093854,
          0.44443322323791873,
          0.45644029500172323,
          0.503114455842484,
          0.5487442361549582,
          0.5916033904736451,
          0.6403716261348369,
          0.6781652658700066,
          0.7467355873943794,
          0.8721162473952814,
          0.9010807522195837,
          0.9190746566883814,
          0.9186297169526432,
          0.9099044233078007,
          0.9319760291961595,
          0.9397736361130994,
          0.9507395492578996,
          0.9507276129378285,
          0.9458282698437134,
          0.9348962916481252,
          0.9320204225396008,
          0.9291203935504007,
          0.9259932825638124,
          0.9228835173976857,
          0.916988358376564,
          0.9108576499191284,
          0.9062959320254383,
          0.9007837228971225,
          0.8908375805290939,
          0.8779286578487345,
          0.8656667016275734,
          0.857062646402043,
          0.8467219662795413,
          0.8319342460393856,
          0.7990490318345084,
          0.766026500905063,
          0.728601718877142,
          0.6704806678605683,
          0.6041819340240596,
          0.5979964761573594,
          0.5687758006852056,
          0.580421236851975,
          0.6063148156339515,
          0.6962116840031298,
          0.7000279067327441,
          0.7474459978354789,
          0.7422377432431847,
          0.6984519522223034,
          0.6650632000666286,
          0.6743805366231364,
          0.6699109547487464,
          0.6620651007921594,
          0.6748536838110407,
          0.6693688278528599,
          0.6589597471059155,
          0.6224191310834324,
          0.5977426448069474,
          0.5882152792217983,
          0.6381587702926945,
          0.6666771312820073,
          0.6990616475382697,
          0.6944044281684029,
          0.6866432043003046,
          0.6356575281996899,
          0.6244968621689637,
          0.6016620226783066,
          0.5799392841791353,
          0.6332120162232838,
          0.6204966767342566,
          0.5521320904606284,
          0.5274888101238586,
          0.4768278019404769,
          0.4628737438548589,
          0.4826632040489208,
          0.5063299747445223,
          0.5060949709669337,
          0.5013744993884679,
          0.4635479363667111,
          0.42510567752183076,
          0.3874300026190666,
          0.36121737507380186,
          0.42837948527389513,
          0.4877599167861487,
          0.47098925788287455,
          0.39309772682486593,
          0.3448058680907887,
          0.46153512562062043,
          0.45682658973764206,
          0.4979556692159147,
          0.5900612371821512,
          0.5863056782789247,
          0.5228709739247334,
          0.47087178526457385,
          0.3739464776638099,
          0.3150786075283887,
          0.29183335254745074,
          0.2691051883074218,
          0.39449489848974845,
          0.3250963158593846,
          0.2571678470052746,
          0.2247595844656327,
          0.11909851793337971,
          0.029331175441821598,
          0.013996485735822923,
          0.006033397406087261,
          0.04546523947302971,
          0.24988933360237073,
          0.30650670806919805,
          0.3930822460015319,
          0.439403709890147,
          0.4933500133611035,
          0.5433749644108533,
          0.5948508131547022,
          0.6472383323437475,
          0.6983609065614567,
          0.7277009196825904,
          0.7803302923472588,
          0.809622415716718,
          0.8216544387343682,
          0.835701303462196,
          0.8413827563119867,
          0.8506442200896422,
          0.855264397694098,
          0.8559263515586875,
          0.8556870120125699,
          0.8434299531921103,
          0.8257472791423274,
          0.7835854858102183,
          0.739436964291749,
          0.6805634191384863,
          0.6308279706446,
          0.6120036180779344,
          0.6108344326927412,
          0.5597540570240995,
          0.40014417303142313,
          0.20269035874715116,
          0.18687382697214186,
          0.10460408205256785,
          0.11375572028123437,
          0.12471124759888545,
          0.13268146751969057,
          0.12794004894665031,
          0.1272045866564783,
          0.1759255483682352,
          0.22489877637350403,
          0.30462630280140524,
          0.3677664860767935,
          0.44981897847280544,
          0.46598713820949983,
          0.4961612304231047,
          0.5208993141989334,
          0.568541023110465,
          0.6010326171825527,
          0.6314670143923078,
          0.6755195076846611,
          0.6919761735580169,
          0.7064979415244182,
          0.6934654621269336,
          0.6757204201833865,
          0.6640115283994938,
          0.6721208534650694,
          0.6719917396549944,
          0.6542565188831607,
          0.630630242696544,
          0.7330137834142696,
          0.7323433441221476,
          0.715817388865016,
          0.6524345540625426,
          0.615752061884687,
          0.6093729906669503,
          0.5539887932502437,
          0.48203006782509206,
          0.32722386553612515,
          0.23022487864210883,
          0.10679877911323439,
          0.0033026141215320407,
          -0.044596141237235584,
          -0.09679278202374803,
          -0.022214059951930914,
          0.035289691961654795,
          0.11876274866860455,
          0.16739303232017927,
          0.2333167123830212,
          0.2734540296167582,
          0.31332536801765176,
          0.38924635996305584,
          0.4304531330120572,
          0.4600656594220119,
          0.5007893902447912,
          0.5367235060673553,
          0.6029743349289639,
          0.6766140033176875,
          0.727830321138696,
          0.7631474635067942,
          0.8072329739193338,
          0.8280220487871797,
          0.8534515862943864,
          0.865673207475597,
          0.8790555027338631,
          0.8990482569399917,
          0.8977349390947814,
          0.8949638133833068,
          0.8847852504919802,
          0.8690672427028963,
          0.8561354519739552,
          0.8398732939609567,
          0.815993608200419,
          0.7872636633406058,
          0.7730368359761505,
          0.7542720329035407,
          0.7180199259192087,
          0.6879042353840502,
          0.6743190236852558,
          0.6787890874526622,
          0.676613394971713,
          0.687936441529645,
          0.7158039085378393,
          0.6650934893358196,
          0.6563875329571167,
          0.7136966431977496,
          0.8130175183365499,
          0.8587946999987481,
          0.8747232143439175,
          0.8744815022977268,
          0.8981611819325511,
          0.903452794644882,
          0.9013763117519458,
          0.9021388628886198,
          0.886852034677851,
          0.8434395113981037,
          0.833814588953136,
          0.8039184167026793,
          0.7764198177847388,
          0.7543656785139473,
          0.724701177485823,
          0.6749722194640158,
          0.6551127695698503,
          0.6534256424215702,
          0.6459189889959799,
          0.6205889128943242,
          0.5931620681391718,
          0.6183920027454824,
          0.6345336356800115,
          0.6569452700919146,
          0.6740885811807005,
          0.6949170569915039,
          0.7165931205021757,
          0.7343751294612019,
          0.7485556729199826,
          0.7574612177513166,
          0.7425944929781644,
          0.7467616816761271,
          0.7550325952042211,
          0.7267416082998532,
          0.6960724052243602,
          0.70581922803905,
          0.702282444798519,
          0.6492766689158582,
          0.582024027010748,
          0.5887982078889409,
          0.5566126869907301,
          0.5736718042088323,
          0.6009123708101796,
          0.5687841603127316,
          0.5565213817793084,
          0.4956024043172272,
          0.4356414234121191,
          0.43825740238887034,
          0.39313618630962716,
          0.40143642963903525,
          0.4522706290059676,
          0.48546996676891463,
          0.5138472364333041,
          0.5612912472812083,
          0.6000363210507045,
          0.6823751995643593,
          0.7367200474721227,
          0.7641383031999996,
          0.7857516829660901,
          0.7863141660873313,
          0.7851881986315191,
          0.7577635923075416,
          0.773132742717267,
          0.7515062923910122,
          0.7456469881177632,
          0.7879731408769581,
          0.8144205990024165,
          0.8208749791032276,
          0.7983102904271536,
          0.7132586100723299,
          0.6379618671537591,
          0.5070465095212231,
          0.3867248031543411,
          0.26306360264345346,
          0.20862239358914272,
          0.16497947080089018,
          0.13144950684080484,
          0.09689613397564908,
          0.12234172814659013,
          0.15459697298689554,
          0.0960682524737322,
          0.062182751406977745,
          -0.05083913825336177,
          -0.21552942889053572,
          -0.2916562157309486,
          -0.30856016653890067,
          -0.15425817181760118,
          -0.056985434455821646,
          -0.022023328479897516,
          0.003095542181449301,
          0.10774983328934588,
          0.2279101702670138,
          0.26342223915831414,
          0.2778312981536943,
          0.23170084611681505,
          0.22008769987606314,
          0.24192105986044748,
          0.18454000016433425,
          0.0923635301617181,
          0.046629695031820226,
          0.036006977196119,
          0.016272076387929425,
          -0.028287184928133667,
          -0.09613621149406298,
          -0.15989144472880817,
          -0.1957778222656438,
          -0.2370066370424057,
          -0.2981510213586957,
          -0.3152062840706296,
          -0.3440586357148419,
          -0.340003623102643,
          -0.3370465571168073,
          -0.3599678177878338,
          -0.5165767404552564,
          -0.6044159084852087,
          -0.6484219721237763,
          -0.5633716101978612,
          -0.5035396314051067,
          -0.5365245676341696,
          -0.49388843522258286,
          -0.40915655914154164,
          -0.4853699794297582,
          -0.45229933261897587,
          -0.4661159448180091,
          -0.4669867308127085,
          -0.47534864322894244,
          -0.4602291683515122,
          -0.4636623108469093,
          -0.498722512177915,
          -0.5139459787173803,
          -0.5250686156752034,
          -0.4964333476074336,
          -0.43793021076389965,
          -0.4691411625581081,
          -0.5087279865097064,
          -0.4968397183448231,
          -0.4635776165195765,
          -0.326559511183028,
          -0.1570871638291207,
          0.03822517657858296,
          0.23488135140352745,
          0.39082177767227394,
          0.5244683066956727,
          0.5347746596269201,
          0.5508321516144657,
          0.6107654119980295,
          0.6788882604743709,
          0.6862837377147367,
          0.7248477320766725,
          0.7808486393903723,
          0.8250173952350082,
          0.8470308771844135,
          0.8581183600087552,
          0.8631683144549475,
          0.8434995316440208,
          0.8184809858126334,
          0.8144304597061622,
          0.8335717619753706,
          0.8400648050918672,
          0.8499394249046911,
          0.8499588794558359,
          0.8413082208652798,
          0.8181568042427578,
          0.7676205527217898,
          0.7427298735726714,
          0.7204897149674684,
          0.7593358764893707,
          0.765516610844167,
          0.7421115973181028,
          0.7232594385620162,
          0.7137312004252341,
          0.6963521225163275,
          0.6338065323221058,
          0.6280696308645702,
          0.5666217672885824,
          0.5241846447227698,
          0.6087581579705199,
          0.7018277285277067,
          0.7205046319936965,
          0.7186966690335028,
          0.7043902538039336,
          0.6949895976400736,
          0.742659806991976,
          0.770078032079195,
          0.7508231423368832,
          0.6894847090559014,
          0.5593993115694474,
          0.4131576741228458,
          0.24106791661830373,
          0.16912128434089801,
          0.11581777888901884,
          0.002304248612018339,
          -0.06618198052808713,
          -0.11536028706198981,
          -0.10400136285682464,
          -0.04144790950252531,
          0.03168574307767674,
          0.1796078081458154,
          0.33353183105086537,
          0.4337207135869782,
          0.4977659785217529,
          0.5710726349993244,
          0.6008772724665657,
          0.6286487553952671,
          0.6581832451299651,
          0.679433731259611,
          0.6759651296697816,
          0.679220584439212,
          0.6883003510902981,
          0.7022701704849675,
          0.7254679969305953,
          0.7805836494062728,
          0.8021212748153416,
          0.8301555784507156,
          0.8331144309694124,
          0.8371670650507417,
          0.8153894938283821,
          0.759853189934567,
          0.7086516280190205,
          0.5852431620639608,
          0.46221419513964523,
          0.33020182816685567,
          0.15717472657466333,
          -0.036506746440553746,
          -0.11595824531501313,
          -0.13286376686268814,
          -0.07399068987998682,
          0.06208224584567047,
          0.19527630943631888,
          0.31139082985458244,
          0.3598410685858085,
          0.3155314413335143,
          0.23987462778121918,
          0.19504126364996627,
          0.11339219517564245,
          0.1122605062989644,
          0.14777408368161654,
          0.11653895446640622,
          0.10491917221520289,
          0.12663261442515142,
          0.16967108885401302,
          0.12171037834318199,
          0.057228816081515824,
          0.04152954567357578,
          0.009669253541502042,
          -0.08599678743810801,
          -0.1877442408551485,
          -0.27093456995001025,
          -0.34586995314512914,
          -0.4134250090073152,
          -0.48566817846624044,
          -0.4994047603545901,
          -0.5292388174691405,
          -0.5395203858845201,
          -0.48925261944672155,
          -0.5100397899286105,
          -0.46197485791506127,
          -0.29113169693053453,
          -0.13781206574973967,
          0.14700252166890931,
          0.34512811097531776,
          0.46616372585503596,
          0.6289522637222174,
          0.7105621169798852,
          0.7567262054419917,
          0.7915934131222049,
          0.8185135089984293,
          0.8323416024577918,
          0.8394002572545796,
          0.8449600453710484,
          0.8513199582567362,
          0.8765678548981005,
          0.8819086382698587,
          0.8781926086738253,
          0.8616067157962753,
          0.8427364752521395,
          0.809359524376574,
          0.7612563666981734,
          0.7021576597608221,
          0.621486669105291,
          0.5440520462666081,
          0.518052389031395,
          0.4982185819717444,
          0.5246663013546856,
          0.5579417635107903,
          0.5608288549478523,
          0.5288788872756788,
          0.4737214210322936,
          0.34839271854201653,
          0.2985576053313745,
          0.26746116738643105,
          0.2764141000736989,
          0.31151952105169745,
          0.33977905321564367,
          0.30466116611239247,
          0.30625210583321866,
          0.3155392279021468,
          0.34764730553843126,
          0.4087305256977373,
          0.47342859788409447,
          0.6471968556538085,
          0.755878495944439,
          0.7589225603558216,
          0.7439826929080661,
          0.7324829331695442,
          0.726784297093832,
          0.7363878989303528,
          0.7722735062773225,
          0.809756643819698,
          0.8283166095057752,
          0.8337706428644138,
          0.8456726958488139,
          0.857756158973285,
          0.8640550452281577,
          0.8556575436534188,
          0.8534760982026899,
          0.8602124497042054,
          0.846687307964992,
          0.8749150319563166,
          0.8785362918576715,
          0.8772054927785163,
          0.8756123956914184,
          0.8580718460662146,
          0.8458735483301869,
          0.8682671485687629,
          0.8667808353978617,
          0.8612330304419774,
          0.8903927036950007,
          0.8760061249469001,
          0.8792549925000128,
          0.8748005764714355,
          0.8815499589506269,
          0.8984596757710622,
          0.9060096331217787,
          0.9151297756932424,
          0.9223986762205294,
          0.9300431324315005,
          0.9359746598938278,
          0.9393518659345653,
          0.9425873088667212,
          0.9382327248171085,
          0.9369875533982907,
          0.9264232338028676,
          0.9280393105915952,
          0.9279309694097327,
          0.9284600802411005,
          0.9276496967219348,
          0.9332559020238875,
          0.9342866780156512,
          0.9268113426972169,
          0.8964196036201882,
          0.8850687697500156,
          0.8685571964276045,
          0.8356551818751076,
          0.8077827281264952,
          0.7837032530090183,
          0.7373122043096408,
          0.7173936636987163,
          0.7100220790580077,
          0.6623424495317994,
          0.7401426178203362,
          0.7913239243372342,
          0.8117873845175466,
          0.8204412249482796,
          0.8522566769332145,
          0.866962041350813,
          0.8724940047920813,
          0.8776091906108293,
          0.8594451540713702,
          0.8467163335180969,
          0.8447307336252526,
          0.8443293452417611,
          0.8434437097540703,
          0.8456482853488718,
          0.8649677538132049,
          0.8777887291618729,
          0.8759198511935625,
          0.8839628369037138,
          0.8863038213551429,
          0.8818148590044825,
          0.882323063738098,
          0.8717315953552396,
          0.8578807802402169,
          0.8376626406333655,
          0.814004303820207,
          0.76741859703015,
          0.6739653760771125,
          0.5468508584195423,
          0.4027646972415311,
          0.46521260120437585,
          0.5786347391574415,
          0.7041085889494957,
          0.7905240163914765,
          0.8198978172910346,
          0.8447952677684557,
          0.8377695501162288,
          0.8171491006908432,
          0.8302413227534622,
          0.8424772964736994,
          0.8465431412138741,
          0.8503264667093214,
          0.8520331721924589,
          0.8518396842308088,
          0.8542798443922797,
          0.8452670319850321,
          0.8280058165741262,
          0.8129719707398205,
          0.7273601868850204,
          0.6793871813461486,
          0.6146572757884909,
          0.5208875917010195,
          0.39246748408610965,
          0.3120743682341306,
          0.35199491911564873,
          0.4581366654634189,
          0.5540695340820541,
          0.621854123020387,
          0.6914013367332159,
          0.7295717845376948,
          0.7532267208095451,
          0.7883013416393884,
          0.8224972092856755,
          0.8344709833259107,
          0.8462766385211143,
          0.8610207398488752,
          0.8661895683883006,
          0.8668631392092229,
          0.8759910371982655,
          0.8961633043139535,
          0.9105922995106489,
          0.9026189763848451,
          0.8915716939796643,
          0.8741241968690697,
          0.857841748268475,
          0.8392656530756746,
          0.8038903940680427,
          0.7585626509316679,
          0.7478723592715636,
          0.7121487859945806,
          0.674455622092494,
          0.6286991117695495,
          0.5531524490531198,
          0.5601555486094651,
          0.5657482504939801,
          0.5831991738958759,
          0.5815512777557452,
          0.5807308121937907,
          0.5749817916312874,
          0.6283286466430502,
          0.6797017493955221,
          0.7467766595476039,
          0.6831232966667944,
          0.48268210804748685,
          0.4452628819855731,
          0.40173096147916915,
          0.4234942688830594,
          0.49374183360350027,
          0.57138402028032,
          0.7020979641069103,
          0.8112420108792671,
          0.8098828914092787,
          0.7683235121113132,
          0.7703451852305742,
          0.6282552712635181,
          0.394587703154511,
          0.19361162494129291,
          -0.013039464137810033,
          -0.14606474622741608,
          -0.25590513451864,
          -0.3292657440219215,
          -0.37533061284168495,
          -0.4155025390430571,
          -0.4645296394819454,
          -0.5246582838958177,
          -0.576270509589868,
          -0.6022307138787641,
          -0.6460887094480287,
          -0.656708293719655,
          -0.653457255255555,
          -0.6647334640897696,
          -0.6866282539825378,
          -0.6931496569771279,
          -0.6872925486534516,
          -0.6808321131352535,
          -0.6706248131911229,
          -0.6486885703955892,
          -0.6671277918231983,
          -0.6571292883358252,
          -0.6428502428573074,
          -0.5842892314646192,
          -0.4436587792982775,
          -0.19400345319048634,
          0.11500073284442078,
          0.3439715281394607,
          0.1829884366530759,
          0.19294359396615554,
          0.19386284645184365,
          0.2272033456115844,
          0.23743099999291964,
          0.2553209392329986
         ],
         "yaxis": "y"
        }
       ],
       "layout": {
        "legend": {
         "tracegroupgap": 0
        },
        "margin": {
         "t": 60
        },
        "template": {
         "data": {
          "bar": [
           {
            "error_x": {
             "color": "#2a3f5f"
            },
            "error_y": {
             "color": "#2a3f5f"
            },
            "marker": {
             "line": {
              "color": "#E5ECF6",
              "width": 0.5
             },
             "pattern": {
              "fillmode": "overlay",
              "size": 10,
              "solidity": 0.2
             }
            },
            "type": "bar"
           }
          ],
          "barpolar": [
           {
            "marker": {
             "line": {
              "color": "#E5ECF6",
              "width": 0.5
             },
             "pattern": {
              "fillmode": "overlay",
              "size": 10,
              "solidity": 0.2
             }
            },
            "type": "barpolar"
           }
          ],
          "carpet": [
           {
            "aaxis": {
             "endlinecolor": "#2a3f5f",
             "gridcolor": "white",
             "linecolor": "white",
             "minorgridcolor": "white",
             "startlinecolor": "#2a3f5f"
            },
            "baxis": {
             "endlinecolor": "#2a3f5f",
             "gridcolor": "white",
             "linecolor": "white",
             "minorgridcolor": "white",
             "startlinecolor": "#2a3f5f"
            },
            "type": "carpet"
           }
          ],
          "choropleth": [
           {
            "colorbar": {
             "outlinewidth": 0,
             "ticks": ""
            },
            "type": "choropleth"
           }
          ],
          "contour": [
           {
            "colorbar": {
             "outlinewidth": 0,
             "ticks": ""
            },
            "colorscale": [
             [
              0,
              "#0d0887"
             ],
             [
              0.1111111111111111,
              "#46039f"
             ],
             [
              0.2222222222222222,
              "#7201a8"
             ],
             [
              0.3333333333333333,
              "#9c179e"
             ],
             [
              0.4444444444444444,
              "#bd3786"
             ],
             [
              0.5555555555555556,
              "#d8576b"
             ],
             [
              0.6666666666666666,
              "#ed7953"
             ],
             [
              0.7777777777777778,
              "#fb9f3a"
             ],
             [
              0.8888888888888888,
              "#fdca26"
             ],
             [
              1,
              "#f0f921"
             ]
            ],
            "type": "contour"
           }
          ],
          "contourcarpet": [
           {
            "colorbar": {
             "outlinewidth": 0,
             "ticks": ""
            },
            "type": "contourcarpet"
           }
          ],
          "heatmap": [
           {
            "colorbar": {
             "outlinewidth": 0,
             "ticks": ""
            },
            "colorscale": [
             [
              0,
              "#0d0887"
             ],
             [
              0.1111111111111111,
              "#46039f"
             ],
             [
              0.2222222222222222,
              "#7201a8"
             ],
             [
              0.3333333333333333,
              "#9c179e"
             ],
             [
              0.4444444444444444,
              "#bd3786"
             ],
             [
              0.5555555555555556,
              "#d8576b"
             ],
             [
              0.6666666666666666,
              "#ed7953"
             ],
             [
              0.7777777777777778,
              "#fb9f3a"
             ],
             [
              0.8888888888888888,
              "#fdca26"
             ],
             [
              1,
              "#f0f921"
             ]
            ],
            "type": "heatmap"
           }
          ],
          "heatmapgl": [
           {
            "colorbar": {
             "outlinewidth": 0,
             "ticks": ""
            },
            "colorscale": [
             [
              0,
              "#0d0887"
             ],
             [
              0.1111111111111111,
              "#46039f"
             ],
             [
              0.2222222222222222,
              "#7201a8"
             ],
             [
              0.3333333333333333,
              "#9c179e"
             ],
             [
              0.4444444444444444,
              "#bd3786"
             ],
             [
              0.5555555555555556,
              "#d8576b"
             ],
             [
              0.6666666666666666,
              "#ed7953"
             ],
             [
              0.7777777777777778,
              "#fb9f3a"
             ],
             [
              0.8888888888888888,
              "#fdca26"
             ],
             [
              1,
              "#f0f921"
             ]
            ],
            "type": "heatmapgl"
           }
          ],
          "histogram": [
           {
            "marker": {
             "pattern": {
              "fillmode": "overlay",
              "size": 10,
              "solidity": 0.2
             }
            },
            "type": "histogram"
           }
          ],
          "histogram2d": [
           {
            "colorbar": {
             "outlinewidth": 0,
             "ticks": ""
            },
            "colorscale": [
             [
              0,
              "#0d0887"
             ],
             [
              0.1111111111111111,
              "#46039f"
             ],
             [
              0.2222222222222222,
              "#7201a8"
             ],
             [
              0.3333333333333333,
              "#9c179e"
             ],
             [
              0.4444444444444444,
              "#bd3786"
             ],
             [
              0.5555555555555556,
              "#d8576b"
             ],
             [
              0.6666666666666666,
              "#ed7953"
             ],
             [
              0.7777777777777778,
              "#fb9f3a"
             ],
             [
              0.8888888888888888,
              "#fdca26"
             ],
             [
              1,
              "#f0f921"
             ]
            ],
            "type": "histogram2d"
           }
          ],
          "histogram2dcontour": [
           {
            "colorbar": {
             "outlinewidth": 0,
             "ticks": ""
            },
            "colorscale": [
             [
              0,
              "#0d0887"
             ],
             [
              0.1111111111111111,
              "#46039f"
             ],
             [
              0.2222222222222222,
              "#7201a8"
             ],
             [
              0.3333333333333333,
              "#9c179e"
             ],
             [
              0.4444444444444444,
              "#bd3786"
             ],
             [
              0.5555555555555556,
              "#d8576b"
             ],
             [
              0.6666666666666666,
              "#ed7953"
             ],
             [
              0.7777777777777778,
              "#fb9f3a"
             ],
             [
              0.8888888888888888,
              "#fdca26"
             ],
             [
              1,
              "#f0f921"
             ]
            ],
            "type": "histogram2dcontour"
           }
          ],
          "mesh3d": [
           {
            "colorbar": {
             "outlinewidth": 0,
             "ticks": ""
            },
            "type": "mesh3d"
           }
          ],
          "parcoords": [
           {
            "line": {
             "colorbar": {
              "outlinewidth": 0,
              "ticks": ""
             }
            },
            "type": "parcoords"
           }
          ],
          "pie": [
           {
            "automargin": true,
            "type": "pie"
           }
          ],
          "scatter": [
           {
            "fillpattern": {
             "fillmode": "overlay",
             "size": 10,
             "solidity": 0.2
            },
            "type": "scatter"
           }
          ],
          "scatter3d": [
           {
            "line": {
             "colorbar": {
              "outlinewidth": 0,
              "ticks": ""
             }
            },
            "marker": {
             "colorbar": {
              "outlinewidth": 0,
              "ticks": ""
             }
            },
            "type": "scatter3d"
           }
          ],
          "scattercarpet": [
           {
            "marker": {
             "colorbar": {
              "outlinewidth": 0,
              "ticks": ""
             }
            },
            "type": "scattercarpet"
           }
          ],
          "scattergeo": [
           {
            "marker": {
             "colorbar": {
              "outlinewidth": 0,
              "ticks": ""
             }
            },
            "type": "scattergeo"
           }
          ],
          "scattergl": [
           {
            "marker": {
             "colorbar": {
              "outlinewidth": 0,
              "ticks": ""
             }
            },
            "type": "scattergl"
           }
          ],
          "scattermapbox": [
           {
            "marker": {
             "colorbar": {
              "outlinewidth": 0,
              "ticks": ""
             }
            },
            "type": "scattermapbox"
           }
          ],
          "scatterpolar": [
           {
            "marker": {
             "colorbar": {
              "outlinewidth": 0,
              "ticks": ""
             }
            },
            "type": "scatterpolar"
           }
          ],
          "scatterpolargl": [
           {
            "marker": {
             "colorbar": {
              "outlinewidth": 0,
              "ticks": ""
             }
            },
            "type": "scatterpolargl"
           }
          ],
          "scatterternary": [
           {
            "marker": {
             "colorbar": {
              "outlinewidth": 0,
              "ticks": ""
             }
            },
            "type": "scatterternary"
           }
          ],
          "surface": [
           {
            "colorbar": {
             "outlinewidth": 0,
             "ticks": ""
            },
            "colorscale": [
             [
              0,
              "#0d0887"
             ],
             [
              0.1111111111111111,
              "#46039f"
             ],
             [
              0.2222222222222222,
              "#7201a8"
             ],
             [
              0.3333333333333333,
              "#9c179e"
             ],
             [
              0.4444444444444444,
              "#bd3786"
             ],
             [
              0.5555555555555556,
              "#d8576b"
             ],
             [
              0.6666666666666666,
              "#ed7953"
             ],
             [
              0.7777777777777778,
              "#fb9f3a"
             ],
             [
              0.8888888888888888,
              "#fdca26"
             ],
             [
              1,
              "#f0f921"
             ]
            ],
            "type": "surface"
           }
          ],
          "table": [
           {
            "cells": {
             "fill": {
              "color": "#EBF0F8"
             },
             "line": {
              "color": "white"
             }
            },
            "header": {
             "fill": {
              "color": "#C8D4E3"
             },
             "line": {
              "color": "white"
             }
            },
            "type": "table"
           }
          ]
         },
         "layout": {
          "annotationdefaults": {
           "arrowcolor": "#2a3f5f",
           "arrowhead": 0,
           "arrowwidth": 1
          },
          "autotypenumbers": "strict",
          "coloraxis": {
           "colorbar": {
            "outlinewidth": 0,
            "ticks": ""
           }
          },
          "colorscale": {
           "diverging": [
            [
             0,
             "#8e0152"
            ],
            [
             0.1,
             "#c51b7d"
            ],
            [
             0.2,
             "#de77ae"
            ],
            [
             0.3,
             "#f1b6da"
            ],
            [
             0.4,
             "#fde0ef"
            ],
            [
             0.5,
             "#f7f7f7"
            ],
            [
             0.6,
             "#e6f5d0"
            ],
            [
             0.7,
             "#b8e186"
            ],
            [
             0.8,
             "#7fbc41"
            ],
            [
             0.9,
             "#4d9221"
            ],
            [
             1,
             "#276419"
            ]
           ],
           "sequential": [
            [
             0,
             "#0d0887"
            ],
            [
             0.1111111111111111,
             "#46039f"
            ],
            [
             0.2222222222222222,
             "#7201a8"
            ],
            [
             0.3333333333333333,
             "#9c179e"
            ],
            [
             0.4444444444444444,
             "#bd3786"
            ],
            [
             0.5555555555555556,
             "#d8576b"
            ],
            [
             0.6666666666666666,
             "#ed7953"
            ],
            [
             0.7777777777777778,
             "#fb9f3a"
            ],
            [
             0.8888888888888888,
             "#fdca26"
            ],
            [
             1,
             "#f0f921"
            ]
           ],
           "sequentialminus": [
            [
             0,
             "#0d0887"
            ],
            [
             0.1111111111111111,
             "#46039f"
            ],
            [
             0.2222222222222222,
             "#7201a8"
            ],
            [
             0.3333333333333333,
             "#9c179e"
            ],
            [
             0.4444444444444444,
             "#bd3786"
            ],
            [
             0.5555555555555556,
             "#d8576b"
            ],
            [
             0.6666666666666666,
             "#ed7953"
            ],
            [
             0.7777777777777778,
             "#fb9f3a"
            ],
            [
             0.8888888888888888,
             "#fdca26"
            ],
            [
             1,
             "#f0f921"
            ]
           ]
          },
          "colorway": [
           "#636efa",
           "#EF553B",
           "#00cc96",
           "#ab63fa",
           "#FFA15A",
           "#19d3f3",
           "#FF6692",
           "#B6E880",
           "#FF97FF",
           "#FECB52"
          ],
          "font": {
           "color": "#2a3f5f"
          },
          "geo": {
           "bgcolor": "white",
           "lakecolor": "white",
           "landcolor": "#E5ECF6",
           "showlakes": true,
           "showland": true,
           "subunitcolor": "white"
          },
          "hoverlabel": {
           "align": "left"
          },
          "hovermode": "closest",
          "mapbox": {
           "style": "light"
          },
          "paper_bgcolor": "white",
          "plot_bgcolor": "#E5ECF6",
          "polar": {
           "angularaxis": {
            "gridcolor": "white",
            "linecolor": "white",
            "ticks": ""
           },
           "bgcolor": "#E5ECF6",
           "radialaxis": {
            "gridcolor": "white",
            "linecolor": "white",
            "ticks": ""
           }
          },
          "scene": {
           "xaxis": {
            "backgroundcolor": "#E5ECF6",
            "gridcolor": "white",
            "gridwidth": 2,
            "linecolor": "white",
            "showbackground": true,
            "ticks": "",
            "zerolinecolor": "white"
           },
           "yaxis": {
            "backgroundcolor": "#E5ECF6",
            "gridcolor": "white",
            "gridwidth": 2,
            "linecolor": "white",
            "showbackground": true,
            "ticks": "",
            "zerolinecolor": "white"
           },
           "zaxis": {
            "backgroundcolor": "#E5ECF6",
            "gridcolor": "white",
            "gridwidth": 2,
            "linecolor": "white",
            "showbackground": true,
            "ticks": "",
            "zerolinecolor": "white"
           }
          },
          "shapedefaults": {
           "line": {
            "color": "#2a3f5f"
           }
          },
          "ternary": {
           "aaxis": {
            "gridcolor": "white",
            "linecolor": "white",
            "ticks": ""
           },
           "baxis": {
            "gridcolor": "white",
            "linecolor": "white",
            "ticks": ""
           },
           "bgcolor": "#E5ECF6",
           "caxis": {
            "gridcolor": "white",
            "linecolor": "white",
            "ticks": ""
           }
          },
          "title": {
           "x": 0.05
          },
          "xaxis": {
           "automargin": true,
           "gridcolor": "white",
           "linecolor": "white",
           "ticks": "",
           "title": {
            "standoff": 15
           },
           "zerolinecolor": "white",
           "zerolinewidth": 2
          },
          "yaxis": {
           "automargin": true,
           "gridcolor": "white",
           "linecolor": "white",
           "ticks": "",
           "title": {
            "standoff": 15
           },
           "zerolinecolor": "white",
           "zerolinewidth": 2
          }
         }
        },
        "xaxis": {
         "anchor": "y",
         "domain": [
          0,
          1
         ],
         "title": {
          "text": "Date"
         }
        },
        "yaxis": {
         "anchor": "x",
         "domain": [
          0,
          1
         ],
         "title": {
          "text": "corr"
         }
        }
       }
      },
      "text/html": [
       "<div>                            <div id=\"954ee71e-ee01-4267-8a73-294602fb315d\" class=\"plotly-graph-div\" style=\"height:525px; width:100%;\"></div>            <script type=\"text/javascript\">                require([\"plotly\"], function(Plotly) {                    window.PLOTLYENV=window.PLOTLYENV || {};                                    if (document.getElementById(\"954ee71e-ee01-4267-8a73-294602fb315d\")) {                    Plotly.newPlot(                        \"954ee71e-ee01-4267-8a73-294602fb315d\",                        [{\"hovertemplate\":\"Date=%{x}\\u003cbr\\u003ecorr=%{y}\\u003cextra\\u003e\\u003c\\u002fextra\\u003e\",\"legendgroup\":\"\",\"line\":{\"color\":\"#636efa\",\"dash\":\"solid\"},\"marker\":{\"symbol\":\"circle\"},\"mode\":\"lines\",\"name\":\"\",\"showlegend\":false,\"x\":[\"2019-01-02T00:00:00\",\"2019-01-03T00:00:00\",\"2019-01-04T00:00:00\",\"2019-01-07T00:00:00\",\"2019-01-08T00:00:00\",\"2019-01-09T00:00:00\",\"2019-01-10T00:00:00\",\"2019-01-11T00:00:00\",\"2019-01-14T00:00:00\",\"2019-01-15T00:00:00\",\"2019-01-16T00:00:00\",\"2019-01-17T00:00:00\",\"2019-01-18T00:00:00\",\"2019-01-22T00:00:00\",\"2019-01-23T00:00:00\",\"2019-01-24T00:00:00\",\"2019-01-25T00:00:00\",\"2019-01-28T00:00:00\",\"2019-01-29T00:00:00\",\"2019-01-30T00:00:00\",\"2019-01-31T00:00:00\",\"2019-02-01T00:00:00\",\"2019-02-04T00:00:00\",\"2019-02-05T00:00:00\",\"2019-02-06T00:00:00\",\"2019-02-07T00:00:00\",\"2019-02-08T00:00:00\",\"2019-02-11T00:00:00\",\"2019-02-12T00:00:00\",\"2019-02-13T00:00:00\",\"2019-02-14T00:00:00\",\"2019-02-15T00:00:00\",\"2019-02-19T00:00:00\",\"2019-02-20T00:00:00\",\"2019-02-21T00:00:00\",\"2019-02-22T00:00:00\",\"2019-02-25T00:00:00\",\"2019-02-26T00:00:00\",\"2019-02-27T00:00:00\",\"2019-02-28T00:00:00\",\"2019-03-01T00:00:00\",\"2019-03-04T00:00:00\",\"2019-03-05T00:00:00\",\"2019-03-06T00:00:00\",\"2019-03-07T00:00:00\",\"2019-03-08T00:00:00\",\"2019-03-11T00:00:00\",\"2019-03-12T00:00:00\",\"2019-03-13T00:00:00\",\"2019-03-14T00:00:00\",\"2019-03-15T00:00:00\",\"2019-03-18T00:00:00\",\"2019-03-19T00:00:00\",\"2019-03-20T00:00:00\",\"2019-03-21T00:00:00\",\"2019-03-22T00:00:00\",\"2019-03-25T00:00:00\",\"2019-03-26T00:00:00\",\"2019-03-27T00:00:00\",\"2019-03-28T00:00:00\",\"2019-03-29T00:00:00\",\"2019-04-01T00:00:00\",\"2019-04-02T00:00:00\",\"2019-04-03T00:00:00\",\"2019-04-04T00:00:00\",\"2019-04-05T00:00:00\",\"2019-04-08T00:00:00\",\"2019-04-09T00:00:00\",\"2019-04-10T00:00:00\",\"2019-04-11T00:00:00\",\"2019-04-12T00:00:00\",\"2019-04-15T00:00:00\",\"2019-04-16T00:00:00\",\"2019-04-17T00:00:00\",\"2019-04-18T00:00:00\",\"2019-04-22T00:00:00\",\"2019-04-23T00:00:00\",\"2019-04-24T00:00:00\",\"2019-04-25T00:00:00\",\"2019-04-26T00:00:00\",\"2019-04-29T00:00:00\",\"2019-04-30T00:00:00\",\"2019-05-01T00:00:00\",\"2019-05-02T00:00:00\",\"2019-05-03T00:00:00\",\"2019-05-06T00:00:00\",\"2019-05-07T00:00:00\",\"2019-05-08T00:00:00\",\"2019-05-09T00:00:00\",\"2019-05-10T00:00:00\",\"2019-05-13T00:00:00\",\"2019-05-14T00:00:00\",\"2019-05-15T00:00:00\",\"2019-05-16T00:00:00\",\"2019-05-17T00:00:00\",\"2019-05-20T00:00:00\",\"2019-05-21T00:00:00\",\"2019-05-22T00:00:00\",\"2019-05-23T00:00:00\",\"2019-05-24T00:00:00\",\"2019-05-28T00:00:00\",\"2019-05-29T00:00:00\",\"2019-05-30T00:00:00\",\"2019-05-31T00:00:00\",\"2019-06-03T00:00:00\",\"2019-06-04T00:00:00\",\"2019-06-05T00:00:00\",\"2019-06-06T00:00:00\",\"2019-06-07T00:00:00\",\"2019-06-10T00:00:00\",\"2019-06-11T00:00:00\",\"2019-06-12T00:00:00\",\"2019-06-13T00:00:00\",\"2019-06-14T00:00:00\",\"2019-06-17T00:00:00\",\"2019-06-18T00:00:00\",\"2019-06-19T00:00:00\",\"2019-06-20T00:00:00\",\"2019-06-21T00:00:00\",\"2019-06-24T00:00:00\",\"2019-06-25T00:00:00\",\"2019-06-26T00:00:00\",\"2019-06-27T00:00:00\",\"2019-06-28T00:00:00\",\"2019-07-01T00:00:00\",\"2019-07-02T00:00:00\",\"2019-07-03T00:00:00\",\"2019-07-05T00:00:00\",\"2019-07-08T00:00:00\",\"2019-07-09T00:00:00\",\"2019-07-10T00:00:00\",\"2019-07-11T00:00:00\",\"2019-07-12T00:00:00\",\"2019-07-15T00:00:00\",\"2019-07-16T00:00:00\",\"2019-07-17T00:00:00\",\"2019-07-18T00:00:00\",\"2019-07-19T00:00:00\",\"2019-07-22T00:00:00\",\"2019-07-23T00:00:00\",\"2019-07-24T00:00:00\",\"2019-07-25T00:00:00\",\"2019-07-26T00:00:00\",\"2019-07-29T00:00:00\",\"2019-07-30T00:00:00\",\"2019-07-31T00:00:00\",\"2019-08-01T00:00:00\",\"2019-08-02T00:00:00\",\"2019-08-05T00:00:00\",\"2019-08-06T00:00:00\",\"2019-08-07T00:00:00\",\"2019-08-08T00:00:00\",\"2019-08-09T00:00:00\",\"2019-08-12T00:00:00\",\"2019-08-13T00:00:00\",\"2019-08-14T00:00:00\",\"2019-08-15T00:00:00\",\"2019-08-16T00:00:00\",\"2019-08-19T00:00:00\",\"2019-08-20T00:00:00\",\"2019-08-21T00:00:00\",\"2019-08-22T00:00:00\",\"2019-08-23T00:00:00\",\"2019-08-26T00:00:00\",\"2019-08-27T00:00:00\",\"2019-08-28T00:00:00\",\"2019-08-29T00:00:00\",\"2019-08-30T00:00:00\",\"2019-09-03T00:00:00\",\"2019-09-04T00:00:00\",\"2019-09-05T00:00:00\",\"2019-09-06T00:00:00\",\"2019-09-09T00:00:00\",\"2019-09-10T00:00:00\",\"2019-09-11T00:00:00\",\"2019-09-12T00:00:00\",\"2019-09-13T00:00:00\",\"2019-09-16T00:00:00\",\"2019-09-17T00:00:00\",\"2019-09-18T00:00:00\",\"2019-09-19T00:00:00\",\"2019-09-20T00:00:00\",\"2019-09-23T00:00:00\",\"2019-09-24T00:00:00\",\"2019-09-25T00:00:00\",\"2019-09-26T00:00:00\",\"2019-09-27T00:00:00\",\"2019-09-30T00:00:00\",\"2019-10-01T00:00:00\",\"2019-10-02T00:00:00\",\"2019-10-03T00:00:00\",\"2019-10-04T00:00:00\",\"2019-10-07T00:00:00\",\"2019-10-08T00:00:00\",\"2019-10-09T00:00:00\",\"2019-10-10T00:00:00\",\"2019-10-11T00:00:00\",\"2019-10-14T00:00:00\",\"2019-10-15T00:00:00\",\"2019-10-16T00:00:00\",\"2019-10-17T00:00:00\",\"2019-10-18T00:00:00\",\"2019-10-21T00:00:00\",\"2019-10-22T00:00:00\",\"2019-10-23T00:00:00\",\"2019-10-24T00:00:00\",\"2019-10-25T00:00:00\",\"2019-10-28T00:00:00\",\"2019-10-29T00:00:00\",\"2019-10-30T00:00:00\",\"2019-10-31T00:00:00\",\"2019-11-01T00:00:00\",\"2019-11-04T00:00:00\",\"2019-11-05T00:00:00\",\"2019-11-06T00:00:00\",\"2019-11-07T00:00:00\",\"2019-11-08T00:00:00\",\"2019-11-11T00:00:00\",\"2019-11-12T00:00:00\",\"2019-11-13T00:00:00\",\"2019-11-14T00:00:00\",\"2019-11-15T00:00:00\",\"2019-11-18T00:00:00\",\"2019-11-19T00:00:00\",\"2019-11-20T00:00:00\",\"2019-11-21T00:00:00\",\"2019-11-22T00:00:00\",\"2019-11-25T00:00:00\",\"2019-11-26T00:00:00\",\"2019-11-27T00:00:00\",\"2019-11-29T00:00:00\",\"2019-12-02T00:00:00\",\"2019-12-03T00:00:00\",\"2019-12-04T00:00:00\",\"2019-12-05T00:00:00\",\"2019-12-06T00:00:00\",\"2019-12-09T00:00:00\",\"2019-12-10T00:00:00\",\"2019-12-11T00:00:00\",\"2019-12-12T00:00:00\",\"2019-12-13T00:00:00\",\"2019-12-16T00:00:00\",\"2019-12-17T00:00:00\",\"2019-12-18T00:00:00\",\"2019-12-19T00:00:00\",\"2019-12-20T00:00:00\",\"2019-12-23T00:00:00\",\"2019-12-24T00:00:00\",\"2019-12-26T00:00:00\",\"2019-12-27T00:00:00\",\"2019-12-30T00:00:00\",\"2019-12-31T00:00:00\",\"2020-01-02T00:00:00\",\"2020-01-03T00:00:00\",\"2020-01-06T00:00:00\",\"2020-01-07T00:00:00\",\"2020-01-08T00:00:00\",\"2020-01-09T00:00:00\",\"2020-01-10T00:00:00\",\"2020-01-13T00:00:00\",\"2020-01-14T00:00:00\",\"2020-01-15T00:00:00\",\"2020-01-16T00:00:00\",\"2020-01-17T00:00:00\",\"2020-01-21T00:00:00\",\"2020-01-22T00:00:00\",\"2020-01-23T00:00:00\",\"2020-01-24T00:00:00\",\"2020-01-27T00:00:00\",\"2020-01-28T00:00:00\",\"2020-01-29T00:00:00\",\"2020-01-30T00:00:00\",\"2020-01-31T00:00:00\",\"2020-02-03T00:00:00\",\"2020-02-04T00:00:00\",\"2020-02-05T00:00:00\",\"2020-02-06T00:00:00\",\"2020-02-07T00:00:00\",\"2020-02-10T00:00:00\",\"2020-02-11T00:00:00\",\"2020-02-12T00:00:00\",\"2020-02-13T00:00:00\",\"2020-02-14T00:00:00\",\"2020-02-18T00:00:00\",\"2020-02-19T00:00:00\",\"2020-02-20T00:00:00\",\"2020-02-21T00:00:00\",\"2020-02-24T00:00:00\",\"2020-02-25T00:00:00\",\"2020-02-26T00:00:00\",\"2020-02-27T00:00:00\",\"2020-02-28T00:00:00\",\"2020-03-02T00:00:00\",\"2020-03-03T00:00:00\",\"2020-03-04T00:00:00\",\"2020-03-05T00:00:00\",\"2020-03-06T00:00:00\",\"2020-03-09T00:00:00\",\"2020-03-10T00:00:00\",\"2020-03-11T00:00:00\",\"2020-03-12T00:00:00\",\"2020-03-13T00:00:00\",\"2020-03-16T00:00:00\",\"2020-03-17T00:00:00\",\"2020-03-18T00:00:00\",\"2020-03-19T00:00:00\",\"2020-03-20T00:00:00\",\"2020-03-23T00:00:00\",\"2020-03-24T00:00:00\",\"2020-03-25T00:00:00\",\"2020-03-26T00:00:00\",\"2020-03-27T00:00:00\",\"2020-03-30T00:00:00\",\"2020-03-31T00:00:00\",\"2020-04-01T00:00:00\",\"2020-04-02T00:00:00\",\"2020-04-03T00:00:00\",\"2020-04-06T00:00:00\",\"2020-04-07T00:00:00\",\"2020-04-08T00:00:00\",\"2020-04-09T00:00:00\",\"2020-04-13T00:00:00\",\"2020-04-14T00:00:00\",\"2020-04-15T00:00:00\",\"2020-04-16T00:00:00\",\"2020-04-17T00:00:00\",\"2020-04-20T00:00:00\",\"2020-04-21T00:00:00\",\"2020-04-22T00:00:00\",\"2020-04-23T00:00:00\",\"2020-04-24T00:00:00\",\"2020-04-27T00:00:00\",\"2020-04-28T00:00:00\",\"2020-04-29T00:00:00\",\"2020-04-30T00:00:00\",\"2020-05-01T00:00:00\",\"2020-05-04T00:00:00\",\"2020-05-05T00:00:00\",\"2020-05-06T00:00:00\",\"2020-05-07T00:00:00\",\"2020-05-08T00:00:00\",\"2020-05-11T00:00:00\",\"2020-05-12T00:00:00\",\"2020-05-13T00:00:00\",\"2020-05-14T00:00:00\",\"2020-05-15T00:00:00\",\"2020-05-18T00:00:00\",\"2020-05-19T00:00:00\",\"2020-05-20T00:00:00\",\"2020-05-21T00:00:00\",\"2020-05-22T00:00:00\",\"2020-05-26T00:00:00\",\"2020-05-27T00:00:00\",\"2020-05-28T00:00:00\",\"2020-05-29T00:00:00\",\"2020-06-01T00:00:00\",\"2020-06-02T00:00:00\",\"2020-06-03T00:00:00\",\"2020-06-04T00:00:00\",\"2020-06-05T00:00:00\",\"2020-06-08T00:00:00\",\"2020-06-09T00:00:00\",\"2020-06-10T00:00:00\",\"2020-06-11T00:00:00\",\"2020-06-12T00:00:00\",\"2020-06-15T00:00:00\",\"2020-06-16T00:00:00\",\"2020-06-17T00:00:00\",\"2020-06-18T00:00:00\",\"2020-06-19T00:00:00\",\"2020-06-22T00:00:00\",\"2020-06-23T00:00:00\",\"2020-06-24T00:00:00\",\"2020-06-25T00:00:00\",\"2020-06-26T00:00:00\",\"2020-06-29T00:00:00\",\"2020-06-30T00:00:00\",\"2020-07-01T00:00:00\",\"2020-07-02T00:00:00\",\"2020-07-06T00:00:00\",\"2020-07-07T00:00:00\",\"2020-07-08T00:00:00\",\"2020-07-09T00:00:00\",\"2020-07-10T00:00:00\",\"2020-07-13T00:00:00\",\"2020-07-14T00:00:00\",\"2020-07-15T00:00:00\",\"2020-07-16T00:00:00\",\"2020-07-17T00:00:00\",\"2020-07-20T00:00:00\",\"2020-07-21T00:00:00\",\"2020-07-22T00:00:00\",\"2020-07-23T00:00:00\",\"2020-07-24T00:00:00\",\"2020-07-27T00:00:00\",\"2020-07-28T00:00:00\",\"2020-07-29T00:00:00\",\"2020-07-30T00:00:00\",\"2020-07-31T00:00:00\",\"2020-08-03T00:00:00\",\"2020-08-04T00:00:00\",\"2020-08-05T00:00:00\",\"2020-08-06T00:00:00\",\"2020-08-07T00:00:00\",\"2020-08-10T00:00:00\",\"2020-08-11T00:00:00\",\"2020-08-12T00:00:00\",\"2020-08-13T00:00:00\",\"2020-08-14T00:00:00\",\"2020-08-17T00:00:00\",\"2020-08-18T00:00:00\",\"2020-08-19T00:00:00\",\"2020-08-20T00:00:00\",\"2020-08-21T00:00:00\",\"2020-08-24T00:00:00\",\"2020-08-25T00:00:00\",\"2020-08-26T00:00:00\",\"2020-08-27T00:00:00\",\"2020-08-28T00:00:00\",\"2020-08-31T00:00:00\",\"2020-09-01T00:00:00\",\"2020-09-02T00:00:00\",\"2020-09-03T00:00:00\",\"2020-09-04T00:00:00\",\"2020-09-08T00:00:00\",\"2020-09-09T00:00:00\",\"2020-09-10T00:00:00\",\"2020-09-11T00:00:00\",\"2020-09-14T00:00:00\",\"2020-09-15T00:00:00\",\"2020-09-16T00:00:00\",\"2020-09-17T00:00:00\",\"2020-09-18T00:00:00\",\"2020-09-21T00:00:00\",\"2020-09-22T00:00:00\",\"2020-09-23T00:00:00\",\"2020-09-24T00:00:00\",\"2020-09-25T00:00:00\",\"2020-09-28T00:00:00\",\"2020-09-29T00:00:00\",\"2020-09-30T00:00:00\",\"2020-10-01T00:00:00\",\"2020-10-02T00:00:00\",\"2020-10-05T00:00:00\",\"2020-10-06T00:00:00\",\"2020-10-07T00:00:00\",\"2020-10-08T00:00:00\",\"2020-10-09T00:00:00\",\"2020-10-12T00:00:00\",\"2020-10-13T00:00:00\",\"2020-10-14T00:00:00\",\"2020-10-15T00:00:00\",\"2020-10-16T00:00:00\",\"2020-10-19T00:00:00\",\"2020-10-20T00:00:00\",\"2020-10-21T00:00:00\",\"2020-10-22T00:00:00\",\"2020-10-23T00:00:00\",\"2020-10-26T00:00:00\",\"2020-10-27T00:00:00\",\"2020-10-28T00:00:00\",\"2020-10-29T00:00:00\",\"2020-10-30T00:00:00\",\"2020-11-02T00:00:00\",\"2020-11-03T00:00:00\",\"2020-11-04T00:00:00\",\"2020-11-05T00:00:00\",\"2020-11-06T00:00:00\",\"2020-11-09T00:00:00\",\"2020-11-10T00:00:00\",\"2020-11-11T00:00:00\",\"2020-11-12T00:00:00\",\"2020-11-13T00:00:00\",\"2020-11-16T00:00:00\",\"2020-11-17T00:00:00\",\"2020-11-18T00:00:00\",\"2020-11-19T00:00:00\",\"2020-11-20T00:00:00\",\"2020-11-23T00:00:00\",\"2020-11-24T00:00:00\",\"2020-11-25T00:00:00\",\"2020-11-27T00:00:00\",\"2020-11-30T00:00:00\",\"2020-12-01T00:00:00\",\"2020-12-02T00:00:00\",\"2020-12-03T00:00:00\",\"2020-12-04T00:00:00\",\"2020-12-07T00:00:00\",\"2020-12-08T00:00:00\",\"2020-12-09T00:00:00\",\"2020-12-10T00:00:00\",\"2020-12-11T00:00:00\",\"2020-12-14T00:00:00\",\"2020-12-15T00:00:00\",\"2020-12-16T00:00:00\",\"2020-12-17T00:00:00\",\"2020-12-18T00:00:00\",\"2020-12-21T00:00:00\",\"2020-12-22T00:00:00\",\"2020-12-23T00:00:00\",\"2020-12-24T00:00:00\",\"2020-12-28T00:00:00\",\"2020-12-29T00:00:00\",\"2020-12-30T00:00:00\",\"2020-12-31T00:00:00\",\"2021-01-04T00:00:00\",\"2021-01-05T00:00:00\",\"2021-01-06T00:00:00\",\"2021-01-07T00:00:00\",\"2021-01-08T00:00:00\",\"2021-01-11T00:00:00\",\"2021-01-12T00:00:00\",\"2021-01-13T00:00:00\",\"2021-01-14T00:00:00\",\"2021-01-15T00:00:00\",\"2021-01-19T00:00:00\",\"2021-01-20T00:00:00\",\"2021-01-21T00:00:00\",\"2021-01-22T00:00:00\",\"2021-01-25T00:00:00\",\"2021-01-26T00:00:00\",\"2021-01-27T00:00:00\",\"2021-01-28T00:00:00\",\"2021-01-29T00:00:00\",\"2021-02-01T00:00:00\",\"2021-02-02T00:00:00\",\"2021-02-03T00:00:00\",\"2021-02-04T00:00:00\",\"2021-02-05T00:00:00\",\"2021-02-08T00:00:00\",\"2021-02-09T00:00:00\",\"2021-02-10T00:00:00\",\"2021-02-11T00:00:00\",\"2021-02-12T00:00:00\",\"2021-02-16T00:00:00\",\"2021-02-17T00:00:00\",\"2021-02-18T00:00:00\",\"2021-02-19T00:00:00\",\"2021-02-22T00:00:00\",\"2021-02-23T00:00:00\",\"2021-02-24T00:00:00\",\"2021-02-25T00:00:00\",\"2021-02-26T00:00:00\",\"2021-03-01T00:00:00\",\"2021-03-02T00:00:00\",\"2021-03-03T00:00:00\",\"2021-03-04T00:00:00\",\"2021-03-05T00:00:00\",\"2021-03-08T00:00:00\",\"2021-03-09T00:00:00\",\"2021-03-10T00:00:00\",\"2021-03-11T00:00:00\",\"2021-03-12T00:00:00\",\"2021-03-15T00:00:00\",\"2021-03-16T00:00:00\",\"2021-03-17T00:00:00\",\"2021-03-18T00:00:00\",\"2021-03-19T00:00:00\",\"2021-03-22T00:00:00\",\"2021-03-23T00:00:00\",\"2021-03-24T00:00:00\",\"2021-03-25T00:00:00\",\"2021-03-26T00:00:00\",\"2021-03-29T00:00:00\",\"2021-03-30T00:00:00\",\"2021-03-31T00:00:00\",\"2021-04-01T00:00:00\",\"2021-04-05T00:00:00\",\"2021-04-06T00:00:00\",\"2021-04-07T00:00:00\",\"2021-04-08T00:00:00\",\"2021-04-09T00:00:00\",\"2021-04-12T00:00:00\",\"2021-04-13T00:00:00\",\"2021-04-14T00:00:00\",\"2021-04-15T00:00:00\",\"2021-04-16T00:00:00\",\"2021-04-19T00:00:00\",\"2021-04-20T00:00:00\",\"2021-04-21T00:00:00\",\"2021-04-22T00:00:00\",\"2021-04-23T00:00:00\",\"2021-04-26T00:00:00\",\"2021-04-27T00:00:00\",\"2021-04-28T00:00:00\",\"2021-04-29T00:00:00\",\"2021-04-30T00:00:00\",\"2021-05-03T00:00:00\",\"2021-05-04T00:00:00\",\"2021-05-05T00:00:00\",\"2021-05-06T00:00:00\",\"2021-05-07T00:00:00\",\"2021-05-10T00:00:00\",\"2021-05-11T00:00:00\",\"2021-05-12T00:00:00\",\"2021-05-13T00:00:00\",\"2021-05-14T00:00:00\",\"2021-05-17T00:00:00\",\"2021-05-18T00:00:00\",\"2021-05-19T00:00:00\",\"2021-05-20T00:00:00\",\"2021-05-21T00:00:00\",\"2021-05-24T00:00:00\",\"2021-05-25T00:00:00\",\"2021-05-26T00:00:00\",\"2021-05-27T00:00:00\",\"2021-05-28T00:00:00\",\"2021-06-01T00:00:00\",\"2021-06-02T00:00:00\",\"2021-06-03T00:00:00\",\"2021-06-04T00:00:00\",\"2021-06-07T00:00:00\",\"2021-06-08T00:00:00\",\"2021-06-09T00:00:00\",\"2021-06-10T00:00:00\",\"2021-06-11T00:00:00\",\"2021-06-14T00:00:00\",\"2021-06-15T00:00:00\",\"2021-06-16T00:00:00\",\"2021-06-17T00:00:00\",\"2021-06-18T00:00:00\",\"2021-06-21T00:00:00\",\"2021-06-22T00:00:00\",\"2021-06-23T00:00:00\",\"2021-06-24T00:00:00\",\"2021-06-25T00:00:00\",\"2021-06-28T00:00:00\",\"2021-06-29T00:00:00\",\"2021-06-30T00:00:00\",\"2021-07-01T00:00:00\",\"2021-07-02T00:00:00\",\"2021-07-06T00:00:00\",\"2021-07-07T00:00:00\",\"2021-07-08T00:00:00\",\"2021-07-09T00:00:00\",\"2021-07-12T00:00:00\",\"2021-07-13T00:00:00\",\"2021-07-14T00:00:00\",\"2021-07-15T00:00:00\",\"2021-07-16T00:00:00\",\"2021-07-19T00:00:00\",\"2021-07-20T00:00:00\",\"2021-07-21T00:00:00\",\"2021-07-22T00:00:00\",\"2021-07-23T00:00:00\",\"2021-07-26T00:00:00\",\"2021-07-27T00:00:00\",\"2021-07-28T00:00:00\",\"2021-07-29T00:00:00\",\"2021-07-30T00:00:00\",\"2021-08-02T00:00:00\",\"2021-08-03T00:00:00\",\"2021-08-04T00:00:00\",\"2021-08-05T00:00:00\",\"2021-08-06T00:00:00\",\"2021-08-09T00:00:00\",\"2021-08-10T00:00:00\",\"2021-08-11T00:00:00\",\"2021-08-12T00:00:00\",\"2021-08-13T00:00:00\",\"2021-08-16T00:00:00\",\"2021-08-17T00:00:00\",\"2021-08-18T00:00:00\",\"2021-08-19T00:00:00\",\"2021-08-20T00:00:00\",\"2021-08-23T00:00:00\",\"2021-08-24T00:00:00\",\"2021-08-25T00:00:00\",\"2021-08-26T00:00:00\",\"2021-08-27T00:00:00\",\"2021-08-30T00:00:00\",\"2021-08-31T00:00:00\",\"2021-09-01T00:00:00\",\"2021-09-02T00:00:00\",\"2021-09-03T00:00:00\",\"2021-09-07T00:00:00\",\"2021-09-08T00:00:00\",\"2021-09-09T00:00:00\",\"2021-09-10T00:00:00\",\"2021-09-13T00:00:00\",\"2021-09-14T00:00:00\",\"2021-09-15T00:00:00\",\"2021-09-16T00:00:00\",\"2021-09-17T00:00:00\",\"2021-09-20T00:00:00\",\"2021-09-21T00:00:00\",\"2021-09-22T00:00:00\",\"2021-09-23T00:00:00\",\"2021-09-24T00:00:00\",\"2021-09-27T00:00:00\",\"2021-09-28T00:00:00\",\"2021-09-29T00:00:00\",\"2021-09-30T00:00:00\",\"2021-10-01T00:00:00\",\"2021-10-04T00:00:00\",\"2021-10-05T00:00:00\",\"2021-10-06T00:00:00\",\"2021-10-07T00:00:00\",\"2021-10-08T00:00:00\",\"2021-10-11T00:00:00\",\"2021-10-12T00:00:00\",\"2021-10-13T00:00:00\",\"2021-10-14T00:00:00\",\"2021-10-15T00:00:00\",\"2021-10-18T00:00:00\",\"2021-10-19T00:00:00\",\"2021-10-20T00:00:00\",\"2021-10-21T00:00:00\",\"2021-10-22T00:00:00\",\"2021-10-25T00:00:00\",\"2021-10-26T00:00:00\",\"2021-10-27T00:00:00\",\"2021-10-28T00:00:00\",\"2021-10-29T00:00:00\",\"2021-11-01T00:00:00\",\"2021-11-02T00:00:00\",\"2021-11-03T00:00:00\",\"2021-11-04T00:00:00\",\"2021-11-05T00:00:00\",\"2021-11-08T00:00:00\",\"2021-11-09T00:00:00\",\"2021-11-10T00:00:00\",\"2021-11-11T00:00:00\",\"2021-11-12T00:00:00\",\"2021-11-15T00:00:00\",\"2021-11-16T00:00:00\",\"2021-11-17T00:00:00\",\"2021-11-18T00:00:00\",\"2021-11-19T00:00:00\",\"2021-11-22T00:00:00\",\"2021-11-23T00:00:00\",\"2021-11-24T00:00:00\",\"2021-11-26T00:00:00\",\"2021-11-29T00:00:00\",\"2021-11-30T00:00:00\",\"2021-12-01T00:00:00\",\"2021-12-02T00:00:00\",\"2021-12-03T00:00:00\",\"2021-12-06T00:00:00\",\"2021-12-07T00:00:00\",\"2021-12-08T00:00:00\",\"2021-12-09T00:00:00\",\"2021-12-10T00:00:00\",\"2021-12-13T00:00:00\",\"2021-12-14T00:00:00\",\"2021-12-15T00:00:00\",\"2021-12-16T00:00:00\",\"2021-12-17T00:00:00\",\"2021-12-20T00:00:00\",\"2021-12-21T00:00:00\",\"2021-12-22T00:00:00\",\"2021-12-23T00:00:00\",\"2021-12-27T00:00:00\",\"2021-12-28T00:00:00\",\"2021-12-29T00:00:00\",\"2021-12-30T00:00:00\",\"2021-12-31T00:00:00\",\"2022-01-03T00:00:00\",\"2022-01-04T00:00:00\",\"2022-01-05T00:00:00\",\"2022-01-06T00:00:00\",\"2022-01-07T00:00:00\",\"2022-01-10T00:00:00\",\"2022-01-11T00:00:00\",\"2022-01-12T00:00:00\",\"2022-01-13T00:00:00\",\"2022-01-14T00:00:00\",\"2022-01-18T00:00:00\",\"2022-01-19T00:00:00\",\"2022-01-20T00:00:00\",\"2022-01-21T00:00:00\",\"2022-01-24T00:00:00\",\"2022-01-25T00:00:00\",\"2022-01-26T00:00:00\",\"2022-01-27T00:00:00\",\"2022-01-28T00:00:00\",\"2022-01-31T00:00:00\",\"2022-02-01T00:00:00\",\"2022-02-02T00:00:00\",\"2022-02-03T00:00:00\",\"2022-02-04T00:00:00\",\"2022-02-07T00:00:00\",\"2022-02-08T00:00:00\",\"2022-02-09T00:00:00\",\"2022-02-10T00:00:00\",\"2022-02-11T00:00:00\",\"2022-02-14T00:00:00\",\"2022-02-15T00:00:00\",\"2022-02-16T00:00:00\",\"2022-02-17T00:00:00\",\"2022-02-18T00:00:00\",\"2022-02-22T00:00:00\",\"2022-02-23T00:00:00\",\"2022-02-24T00:00:00\",\"2022-02-25T00:00:00\",\"2022-02-28T00:00:00\",\"2022-03-01T00:00:00\",\"2022-03-02T00:00:00\",\"2022-03-03T00:00:00\",\"2022-03-04T00:00:00\",\"2022-03-07T00:00:00\",\"2022-03-08T00:00:00\",\"2022-03-09T00:00:00\",\"2022-03-10T00:00:00\",\"2022-03-11T00:00:00\",\"2022-03-14T00:00:00\",\"2022-03-15T00:00:00\",\"2022-03-16T00:00:00\",\"2022-03-17T00:00:00\",\"2022-03-18T00:00:00\",\"2022-03-21T00:00:00\",\"2022-03-22T00:00:00\",\"2022-03-23T00:00:00\",\"2022-03-24T00:00:00\",\"2022-03-25T00:00:00\",\"2022-03-28T00:00:00\",\"2022-03-29T00:00:00\",\"2022-03-30T00:00:00\",\"2022-03-31T00:00:00\",\"2022-04-01T00:00:00\",\"2022-04-04T00:00:00\",\"2022-04-05T00:00:00\",\"2022-04-06T00:00:00\",\"2022-04-07T00:00:00\",\"2022-04-08T00:00:00\",\"2022-04-11T00:00:00\",\"2022-04-12T00:00:00\",\"2022-04-13T00:00:00\",\"2022-04-14T00:00:00\",\"2022-04-18T00:00:00\",\"2022-04-19T00:00:00\",\"2022-04-20T00:00:00\",\"2022-04-21T00:00:00\",\"2022-04-22T00:00:00\",\"2022-04-25T00:00:00\",\"2022-04-26T00:00:00\",\"2022-04-27T00:00:00\",\"2022-04-28T00:00:00\",\"2022-04-29T00:00:00\",\"2022-05-02T00:00:00\",\"2022-05-03T00:00:00\",\"2022-05-04T00:00:00\",\"2022-05-05T00:00:00\",\"2022-05-06T00:00:00\",\"2022-05-09T00:00:00\",\"2022-05-10T00:00:00\",\"2022-05-11T00:00:00\",\"2022-05-12T00:00:00\",\"2022-05-13T00:00:00\",\"2022-05-16T00:00:00\",\"2022-05-17T00:00:00\",\"2022-05-18T00:00:00\",\"2022-05-19T00:00:00\",\"2022-05-20T00:00:00\",\"2022-05-23T00:00:00\",\"2022-05-24T00:00:00\",\"2022-05-25T00:00:00\",\"2022-05-26T00:00:00\",\"2022-05-27T00:00:00\",\"2022-05-31T00:00:00\",\"2022-06-01T00:00:00\",\"2022-06-02T00:00:00\",\"2022-06-03T00:00:00\",\"2022-06-06T00:00:00\",\"2022-06-07T00:00:00\",\"2022-06-08T00:00:00\",\"2022-06-09T00:00:00\",\"2022-06-10T00:00:00\",\"2022-06-13T00:00:00\",\"2022-06-14T00:00:00\",\"2022-06-15T00:00:00\",\"2022-06-16T00:00:00\",\"2022-06-17T00:00:00\",\"2022-06-21T00:00:00\",\"2022-06-22T00:00:00\",\"2022-06-23T00:00:00\",\"2022-06-24T00:00:00\",\"2022-06-27T00:00:00\",\"2022-06-28T00:00:00\",\"2022-06-29T00:00:00\",\"2022-06-30T00:00:00\",\"2022-07-01T00:00:00\",\"2022-07-05T00:00:00\",\"2022-07-06T00:00:00\",\"2022-07-07T00:00:00\",\"2022-07-08T00:00:00\",\"2022-07-11T00:00:00\",\"2022-07-12T00:00:00\",\"2022-07-13T00:00:00\",\"2022-07-14T00:00:00\",\"2022-07-15T00:00:00\",\"2022-07-18T00:00:00\",\"2022-07-19T00:00:00\",\"2022-07-20T00:00:00\",\"2022-07-21T00:00:00\",\"2022-07-22T00:00:00\",\"2022-07-25T00:00:00\",\"2022-07-26T00:00:00\",\"2022-07-27T00:00:00\",\"2022-07-28T00:00:00\",\"2022-07-29T00:00:00\",\"2022-08-01T00:00:00\",\"2022-08-02T00:00:00\",\"2022-08-03T00:00:00\",\"2022-08-04T00:00:00\",\"2022-08-05T00:00:00\",\"2022-08-08T00:00:00\",\"2022-08-09T00:00:00\",\"2022-08-10T00:00:00\",\"2022-08-11T00:00:00\",\"2022-08-12T00:00:00\",\"2022-08-15T00:00:00\",\"2022-08-16T00:00:00\",\"2022-08-17T00:00:00\",\"2022-08-18T00:00:00\",\"2022-08-19T00:00:00\",\"2022-08-22T00:00:00\",\"2022-08-23T00:00:00\",\"2022-08-24T00:00:00\",\"2022-08-25T00:00:00\",\"2022-08-26T00:00:00\",\"2022-08-29T00:00:00\",\"2022-08-30T00:00:00\",\"2022-08-31T00:00:00\",\"2022-09-01T00:00:00\",\"2022-09-02T00:00:00\",\"2022-09-06T00:00:00\",\"2022-09-07T00:00:00\",\"2022-09-08T00:00:00\",\"2022-09-09T00:00:00\",\"2022-09-12T00:00:00\",\"2022-09-13T00:00:00\",\"2022-09-14T00:00:00\",\"2022-09-15T00:00:00\",\"2022-09-16T00:00:00\",\"2022-09-19T00:00:00\",\"2022-09-20T00:00:00\",\"2022-09-21T00:00:00\",\"2022-09-22T00:00:00\",\"2022-09-23T00:00:00\",\"2022-09-26T00:00:00\",\"2022-09-27T00:00:00\",\"2022-09-28T00:00:00\",\"2022-09-29T00:00:00\",\"2022-09-30T00:00:00\",\"2022-10-03T00:00:00\",\"2022-10-04T00:00:00\",\"2022-10-05T00:00:00\",\"2022-10-06T00:00:00\",\"2022-10-07T00:00:00\",\"2022-10-10T00:00:00\",\"2022-10-11T00:00:00\",\"2022-10-12T00:00:00\",\"2022-10-13T00:00:00\",\"2022-10-14T00:00:00\",\"2022-10-17T00:00:00\",\"2022-10-18T00:00:00\",\"2022-10-19T00:00:00\",\"2022-10-20T00:00:00\",\"2022-10-21T00:00:00\",\"2022-10-24T00:00:00\",\"2022-10-25T00:00:00\",\"2022-10-26T00:00:00\",\"2022-10-27T00:00:00\",\"2022-10-28T00:00:00\",\"2022-10-31T00:00:00\",\"2022-11-01T00:00:00\",\"2022-11-02T00:00:00\",\"2022-11-03T00:00:00\",\"2022-11-04T00:00:00\",\"2022-11-07T00:00:00\",\"2022-11-08T00:00:00\",\"2022-11-09T00:00:00\",\"2022-11-10T00:00:00\",\"2022-11-11T00:00:00\",\"2022-11-14T00:00:00\",\"2022-11-15T00:00:00\",\"2022-11-16T00:00:00\",\"2022-11-17T00:00:00\",\"2022-11-18T00:00:00\",\"2022-11-21T00:00:00\",\"2022-11-22T00:00:00\",\"2022-11-23T00:00:00\",\"2022-11-25T00:00:00\",\"2022-11-28T00:00:00\",\"2022-11-29T00:00:00\",\"2022-11-30T00:00:00\",\"2022-12-01T00:00:00\",\"2022-12-02T00:00:00\",\"2022-12-05T00:00:00\",\"2022-12-06T00:00:00\",\"2022-12-07T00:00:00\",\"2022-12-08T00:00:00\",\"2022-12-09T00:00:00\",\"2022-12-12T00:00:00\",\"2022-12-13T00:00:00\",\"2022-12-14T00:00:00\",\"2022-12-15T00:00:00\",\"2022-12-16T00:00:00\",\"2022-12-19T00:00:00\",\"2022-12-20T00:00:00\",\"2022-12-21T00:00:00\",\"2022-12-22T00:00:00\",\"2022-12-23T00:00:00\",\"2022-12-27T00:00:00\",\"2022-12-28T00:00:00\",\"2022-12-29T00:00:00\",\"2022-12-30T00:00:00\"],\"xaxis\":\"x\",\"y\":[null,null,null,null,null,null,null,null,null,null,null,null,null,null,null,null,null,null,null,null,null,null,null,null,null,null,null,null,null,-0.7190262270723317,-0.6724838872678601,-0.6402393364144059,-0.434502915498318,-0.16737461525403238,0.06143755409836993,0.3285789720709515,0.4097469620841491,0.4811540127891138,0.568902783679327,0.6115395757127594,0.6634715223930093,0.6988292839597771,0.7226145683563991,0.7475546853376952,0.7549996096812709,0.7662385118131636,0.7850587221463372,0.7903665796372203,0.7969371659648521,0.7920478722262663,0.777855062142091,0.7715222797404268,0.7728154804259667,0.7820728773317738,0.7804503845193077,0.7357145032505257,0.7101259027096988,0.672176245421299,0.6278226807585673,0.5943622377127374,0.5466776679190118,0.6369332391757129,0.6347311696285161,0.698526580166425,0.7538505839985082,0.8001896573409785,0.8267835347509803,0.8330030832456556,0.842943802800882,0.8517278029065767,0.8628636109439877,0.8686862073917648,0.8753531144684364,0.8810221749069864,0.898981332809081,0.928213862155657,0.9365707900416044,0.9399985020465571,0.9341477483302875,0.9252067616368552,0.9154518436577191,0.9120880796725657,0.9119822152266673,0.9071159141566897,0.9232388946524716,0.9150816641291968,0.8510925444808431,0.7506204921520115,0.5725543495273386,0.34633871553771894,-0.3152117701312871,-0.5609769991661616,-0.6476159049784456,-0.6726980002443126,-0.724575190489687,-0.7677646481385739,-0.7755768948870715,-0.810414835126199,-0.8377803507410778,-0.8685834014165368,-0.889202421835473,-0.9042529341205601,-0.9101757292635446,-0.9122683500980742,-0.9020982798240689,-0.9022066824566154,-0.8993364905128988,-0.8933759743250053,-0.8716075565158844,-0.8361892228588144,-0.7975242778613264,-0.7468295735216118,-0.6849004660651709,-0.6004427902865574,-0.432331771117102,-0.2167488922960448,-0.04446878476898231,0.1652336456248235,0.36662567114528344,0.5495198045381586,0.5399839311344914,0.519772695317385,0.5460877134275477,0.591171174112444,0.6184297854617773,0.6349106191052887,0.6756644160889318,0.6914566242271961,0.702804009507196,0.7125206920316988,0.7291527496439905,0.7389928579238325,0.744566778859963,0.7557778991626689,0.7359612369032194,0.6929608860449966,0.6576952557263888,0.6153113611887616,0.5692483201935379,0.49426069864616173,0.38558008083426315,0.26920507480039435,0.11886953585993615,-0.06028242223619904,-0.21443999873246922,-0.3372873019320962,-0.4375081513383401,-0.4568002617796232,-0.48477041886689526,-0.4854973234658178,-0.4947482938596267,-0.4637951549873462,-0.4849155083506002,-0.47343153324920606,-0.46937113887141724,-0.3452857649390205,-0.31332759662242515,-0.2911846485906937,-0.32655171541827005,-0.38483107958313656,-0.4435455503231591,-0.47233697208527625,-0.5399694120085712,-0.5612869274778214,-0.5047893885286623,-0.4448668649366186,-0.44434579403934527,-0.44071782761308265,-0.44466440590543244,-0.4238484238781933,-0.3831910330220039,-0.3581490173468444,-0.32432312093555227,-0.2658763132736993,-0.21044718400020876,-0.1875100990940877,-0.19299973989118374,-0.20845702711975533,-0.1443125277832294,-0.12445323141565517,-0.06953295210551678,-0.10274265971543604,-0.12848786944040083,-0.08309256813171119,-0.13973735266724477,-0.19218310484232734,-0.17679522214893126,-0.17954298311418876,-0.1238405311665736,0.010006475508857133,0.07333848347260342,0.08620282186640421,0.19019897979606684,0.32228267729962434,0.4357193043064799,0.49892906637021417,0.49557184865064613,0.5055237805626541,0.5824251984401817,0.6142418671342569,0.5821289051946046,0.5591862188706386,0.5274100718242999,0.5023028712070814,0.4164019607151823,0.30834861582642575,0.25696266093270725,0.26436516310836233,0.27440379621336397,0.28039824222560095,0.2914229442233006,0.3768209717500027,0.47987505799819663,0.5380551227239347,0.5795926652496446,0.60957483031487,0.5998880788273517,0.5915087290698917,0.5872449309160268,0.6023903159369998,0.5900447384629407,0.5377718655884469,0.47049103843425066,0.3996066270084723,0.36874892074504534,0.3108634471501324,0.19368661507900514,0.05808716255117652,-0.0627276706697275,-0.1697655142403061,-0.23966321160462659,-0.328166398497755,-0.3588422063430781,-0.435702799903958,-0.5800047513111835,-0.7538555092144452,-0.8027958500792824,-0.8035045735782578,-0.7998827151790755,-0.7926577178631776,-0.7887386862320046,-0.7733633497000704,-0.7788800266396483,-0.7453183058701621,-0.7077958741472827,-0.6696920538315526,-0.6261877437778873,-0.5816276325561869,-0.5399434457881596,-0.4917251336209685,-0.44361022409237494,-0.4396078481853827,-0.4648760895760673,-0.42825895734342884,-0.22152296467385285,0.009014932628634061,0.12559710345003652,0.1916896277233524,0.26664244041062013,0.3627430459611271,0.4797063708417626,0.54183056077126,0.6206288277655921,0.6832109391360198,0.7428945753195313,0.786419281279552,0.8158732756735019,0.8434187453980982,0.8170135212251548,0.7954865992603782,0.7808697669729654,0.7522929088633749,0.6309084402000937,0.5695999403271269,0.5548408291526303,0.5729881464049046,0.595098408603946,0.5987269868165005,0.6182111499580966,0.6427858512513736,0.6577473996355707,0.6620515331669099,0.6977775429014272,0.6918251516558365,0.668358024030952,0.6449957340200749,0.6215910252488233,0.5323588422555894,0.40823034450093854,0.44443322323791873,0.45644029500172323,0.503114455842484,0.5487442361549582,0.5916033904736451,0.6403716261348369,0.6781652658700066,0.7467355873943794,0.8721162473952814,0.9010807522195837,0.9190746566883814,0.9186297169526432,0.9099044233078007,0.9319760291961595,0.9397736361130994,0.9507395492578996,0.9507276129378285,0.9458282698437134,0.9348962916481252,0.9320204225396008,0.9291203935504007,0.9259932825638124,0.9228835173976857,0.916988358376564,0.9108576499191284,0.9062959320254383,0.9007837228971225,0.8908375805290939,0.8779286578487345,0.8656667016275734,0.857062646402043,0.8467219662795413,0.8319342460393856,0.7990490318345084,0.766026500905063,0.728601718877142,0.6704806678605683,0.6041819340240596,0.5979964761573594,0.5687758006852056,0.580421236851975,0.6063148156339515,0.6962116840031298,0.7000279067327441,0.7474459978354789,0.7422377432431847,0.6984519522223034,0.6650632000666286,0.6743805366231364,0.6699109547487464,0.6620651007921594,0.6748536838110407,0.6693688278528599,0.6589597471059155,0.6224191310834324,0.5977426448069474,0.5882152792217983,0.6381587702926945,0.6666771312820073,0.6990616475382697,0.6944044281684029,0.6866432043003046,0.6356575281996899,0.6244968621689637,0.6016620226783066,0.5799392841791353,0.6332120162232838,0.6204966767342566,0.5521320904606284,0.5274888101238586,0.4768278019404769,0.4628737438548589,0.4826632040489208,0.5063299747445223,0.5060949709669337,0.5013744993884679,0.4635479363667111,0.42510567752183076,0.3874300026190666,0.36121737507380186,0.42837948527389513,0.4877599167861487,0.47098925788287455,0.39309772682486593,0.3448058680907887,0.46153512562062043,0.45682658973764206,0.4979556692159147,0.5900612371821512,0.5863056782789247,0.5228709739247334,0.47087178526457385,0.3739464776638099,0.3150786075283887,0.29183335254745074,0.2691051883074218,0.39449489848974845,0.3250963158593846,0.2571678470052746,0.2247595844656327,0.11909851793337971,0.029331175441821598,0.013996485735822923,0.006033397406087261,0.04546523947302971,0.24988933360237073,0.30650670806919805,0.3930822460015319,0.439403709890147,0.4933500133611035,0.5433749644108533,0.5948508131547022,0.6472383323437475,0.6983609065614567,0.7277009196825904,0.7803302923472588,0.809622415716718,0.8216544387343682,0.835701303462196,0.8413827563119867,0.8506442200896422,0.855264397694098,0.8559263515586875,0.8556870120125699,0.8434299531921103,0.8257472791423274,0.7835854858102183,0.739436964291749,0.6805634191384863,0.6308279706446,0.6120036180779344,0.6108344326927412,0.5597540570240995,0.40014417303142313,0.20269035874715116,0.18687382697214186,0.10460408205256785,0.11375572028123437,0.12471124759888545,0.13268146751969057,0.12794004894665031,0.1272045866564783,0.1759255483682352,0.22489877637350403,0.30462630280140524,0.3677664860767935,0.44981897847280544,0.46598713820949983,0.4961612304231047,0.5208993141989334,0.568541023110465,0.6010326171825527,0.6314670143923078,0.6755195076846611,0.6919761735580169,0.7064979415244182,0.6934654621269336,0.6757204201833865,0.6640115283994938,0.6721208534650694,0.6719917396549944,0.6542565188831607,0.630630242696544,0.7330137834142696,0.7323433441221476,0.715817388865016,0.6524345540625426,0.615752061884687,0.6093729906669503,0.5539887932502437,0.48203006782509206,0.32722386553612515,0.23022487864210883,0.10679877911323439,0.0033026141215320407,-0.044596141237235584,-0.09679278202374803,-0.022214059951930914,0.035289691961654795,0.11876274866860455,0.16739303232017927,0.2333167123830212,0.2734540296167582,0.31332536801765176,0.38924635996305584,0.4304531330120572,0.4600656594220119,0.5007893902447912,0.5367235060673553,0.6029743349289639,0.6766140033176875,0.727830321138696,0.7631474635067942,0.8072329739193338,0.8280220487871797,0.8534515862943864,0.865673207475597,0.8790555027338631,0.8990482569399917,0.8977349390947814,0.8949638133833068,0.8847852504919802,0.8690672427028963,0.8561354519739552,0.8398732939609567,0.815993608200419,0.7872636633406058,0.7730368359761505,0.7542720329035407,0.7180199259192087,0.6879042353840502,0.6743190236852558,0.6787890874526622,0.676613394971713,0.687936441529645,0.7158039085378393,0.6650934893358196,0.6563875329571167,0.7136966431977496,0.8130175183365499,0.8587946999987481,0.8747232143439175,0.8744815022977268,0.8981611819325511,0.903452794644882,0.9013763117519458,0.9021388628886198,0.886852034677851,0.8434395113981037,0.833814588953136,0.8039184167026793,0.7764198177847388,0.7543656785139473,0.724701177485823,0.6749722194640158,0.6551127695698503,0.6534256424215702,0.6459189889959799,0.6205889128943242,0.5931620681391718,0.6183920027454824,0.6345336356800115,0.6569452700919146,0.6740885811807005,0.6949170569915039,0.7165931205021757,0.7343751294612019,0.7485556729199826,0.7574612177513166,0.7425944929781644,0.7467616816761271,0.7550325952042211,0.7267416082998532,0.6960724052243602,0.70581922803905,0.702282444798519,0.6492766689158582,0.582024027010748,0.5887982078889409,0.5566126869907301,0.5736718042088323,0.6009123708101796,0.5687841603127316,0.5565213817793084,0.4956024043172272,0.4356414234121191,0.43825740238887034,0.39313618630962716,0.40143642963903525,0.4522706290059676,0.48546996676891463,0.5138472364333041,0.5612912472812083,0.6000363210507045,0.6823751995643593,0.7367200474721227,0.7641383031999996,0.7857516829660901,0.7863141660873313,0.7851881986315191,0.7577635923075416,0.773132742717267,0.7515062923910122,0.7456469881177632,0.7879731408769581,0.8144205990024165,0.8208749791032276,0.7983102904271536,0.7132586100723299,0.6379618671537591,0.5070465095212231,0.3867248031543411,0.26306360264345346,0.20862239358914272,0.16497947080089018,0.13144950684080484,0.09689613397564908,0.12234172814659013,0.15459697298689554,0.0960682524737322,0.062182751406977745,-0.05083913825336177,-0.21552942889053572,-0.2916562157309486,-0.30856016653890067,-0.15425817181760118,-0.056985434455821646,-0.022023328479897516,0.003095542181449301,0.10774983328934588,0.2279101702670138,0.26342223915831414,0.2778312981536943,0.23170084611681505,0.22008769987606314,0.24192105986044748,0.18454000016433425,0.0923635301617181,0.046629695031820226,0.036006977196119,0.016272076387929425,-0.028287184928133667,-0.09613621149406298,-0.15989144472880817,-0.1957778222656438,-0.2370066370424057,-0.2981510213586957,-0.3152062840706296,-0.3440586357148419,-0.340003623102643,-0.3370465571168073,-0.3599678177878338,-0.5165767404552564,-0.6044159084852087,-0.6484219721237763,-0.5633716101978612,-0.5035396314051067,-0.5365245676341696,-0.49388843522258286,-0.40915655914154164,-0.4853699794297582,-0.45229933261897587,-0.4661159448180091,-0.4669867308127085,-0.47534864322894244,-0.4602291683515122,-0.4636623108469093,-0.498722512177915,-0.5139459787173803,-0.5250686156752034,-0.4964333476074336,-0.43793021076389965,-0.4691411625581081,-0.5087279865097064,-0.4968397183448231,-0.4635776165195765,-0.326559511183028,-0.1570871638291207,0.03822517657858296,0.23488135140352745,0.39082177767227394,0.5244683066956727,0.5347746596269201,0.5508321516144657,0.6107654119980295,0.6788882604743709,0.6862837377147367,0.7248477320766725,0.7808486393903723,0.8250173952350082,0.8470308771844135,0.8581183600087552,0.8631683144549475,0.8434995316440208,0.8184809858126334,0.8144304597061622,0.8335717619753706,0.8400648050918672,0.8499394249046911,0.8499588794558359,0.8413082208652798,0.8181568042427578,0.7676205527217898,0.7427298735726714,0.7204897149674684,0.7593358764893707,0.765516610844167,0.7421115973181028,0.7232594385620162,0.7137312004252341,0.6963521225163275,0.6338065323221058,0.6280696308645702,0.5666217672885824,0.5241846447227698,0.6087581579705199,0.7018277285277067,0.7205046319936965,0.7186966690335028,0.7043902538039336,0.6949895976400736,0.742659806991976,0.770078032079195,0.7508231423368832,0.6894847090559014,0.5593993115694474,0.4131576741228458,0.24106791661830373,0.16912128434089801,0.11581777888901884,0.002304248612018339,-0.06618198052808713,-0.11536028706198981,-0.10400136285682464,-0.04144790950252531,0.03168574307767674,0.1796078081458154,0.33353183105086537,0.4337207135869782,0.4977659785217529,0.5710726349993244,0.6008772724665657,0.6286487553952671,0.6581832451299651,0.679433731259611,0.6759651296697816,0.679220584439212,0.6883003510902981,0.7022701704849675,0.7254679969305953,0.7805836494062728,0.8021212748153416,0.8301555784507156,0.8331144309694124,0.8371670650507417,0.8153894938283821,0.759853189934567,0.7086516280190205,0.5852431620639608,0.46221419513964523,0.33020182816685567,0.15717472657466333,-0.036506746440553746,-0.11595824531501313,-0.13286376686268814,-0.07399068987998682,0.06208224584567047,0.19527630943631888,0.31139082985458244,0.3598410685858085,0.3155314413335143,0.23987462778121918,0.19504126364996627,0.11339219517564245,0.1122605062989644,0.14777408368161654,0.11653895446640622,0.10491917221520289,0.12663261442515142,0.16967108885401302,0.12171037834318199,0.057228816081515824,0.04152954567357578,0.009669253541502042,-0.08599678743810801,-0.1877442408551485,-0.27093456995001025,-0.34586995314512914,-0.4134250090073152,-0.48566817846624044,-0.4994047603545901,-0.5292388174691405,-0.5395203858845201,-0.48925261944672155,-0.5100397899286105,-0.46197485791506127,-0.29113169693053453,-0.13781206574973967,0.14700252166890931,0.34512811097531776,0.46616372585503596,0.6289522637222174,0.7105621169798852,0.7567262054419917,0.7915934131222049,0.8185135089984293,0.8323416024577918,0.8394002572545796,0.8449600453710484,0.8513199582567362,0.8765678548981005,0.8819086382698587,0.8781926086738253,0.8616067157962753,0.8427364752521395,0.809359524376574,0.7612563666981734,0.7021576597608221,0.621486669105291,0.5440520462666081,0.518052389031395,0.4982185819717444,0.5246663013546856,0.5579417635107903,0.5608288549478523,0.5288788872756788,0.4737214210322936,0.34839271854201653,0.2985576053313745,0.26746116738643105,0.2764141000736989,0.31151952105169745,0.33977905321564367,0.30466116611239247,0.30625210583321866,0.3155392279021468,0.34764730553843126,0.4087305256977373,0.47342859788409447,0.6471968556538085,0.755878495944439,0.7589225603558216,0.7439826929080661,0.7324829331695442,0.726784297093832,0.7363878989303528,0.7722735062773225,0.809756643819698,0.8283166095057752,0.8337706428644138,0.8456726958488139,0.857756158973285,0.8640550452281577,0.8556575436534188,0.8534760982026899,0.8602124497042054,0.846687307964992,0.8749150319563166,0.8785362918576715,0.8772054927785163,0.8756123956914184,0.8580718460662146,0.8458735483301869,0.8682671485687629,0.8667808353978617,0.8612330304419774,0.8903927036950007,0.8760061249469001,0.8792549925000128,0.8748005764714355,0.8815499589506269,0.8984596757710622,0.9060096331217787,0.9151297756932424,0.9223986762205294,0.9300431324315005,0.9359746598938278,0.9393518659345653,0.9425873088667212,0.9382327248171085,0.9369875533982907,0.9264232338028676,0.9280393105915952,0.9279309694097327,0.9284600802411005,0.9276496967219348,0.9332559020238875,0.9342866780156512,0.9268113426972169,0.8964196036201882,0.8850687697500156,0.8685571964276045,0.8356551818751076,0.8077827281264952,0.7837032530090183,0.7373122043096408,0.7173936636987163,0.7100220790580077,0.6623424495317994,0.7401426178203362,0.7913239243372342,0.8117873845175466,0.8204412249482796,0.8522566769332145,0.866962041350813,0.8724940047920813,0.8776091906108293,0.8594451540713702,0.8467163335180969,0.8447307336252526,0.8443293452417611,0.8434437097540703,0.8456482853488718,0.8649677538132049,0.8777887291618729,0.8759198511935625,0.8839628369037138,0.8863038213551429,0.8818148590044825,0.882323063738098,0.8717315953552396,0.8578807802402169,0.8376626406333655,0.814004303820207,0.76741859703015,0.6739653760771125,0.5468508584195423,0.4027646972415311,0.46521260120437585,0.5786347391574415,0.7041085889494957,0.7905240163914765,0.8198978172910346,0.8447952677684557,0.8377695501162288,0.8171491006908432,0.8302413227534622,0.8424772964736994,0.8465431412138741,0.8503264667093214,0.8520331721924589,0.8518396842308088,0.8542798443922797,0.8452670319850321,0.8280058165741262,0.8129719707398205,0.7273601868850204,0.6793871813461486,0.6146572757884909,0.5208875917010195,0.39246748408610965,0.3120743682341306,0.35199491911564873,0.4581366654634189,0.5540695340820541,0.621854123020387,0.6914013367332159,0.7295717845376948,0.7532267208095451,0.7883013416393884,0.8224972092856755,0.8344709833259107,0.8462766385211143,0.8610207398488752,0.8661895683883006,0.8668631392092229,0.8759910371982655,0.8961633043139535,0.9105922995106489,0.9026189763848451,0.8915716939796643,0.8741241968690697,0.857841748268475,0.8392656530756746,0.8038903940680427,0.7585626509316679,0.7478723592715636,0.7121487859945806,0.674455622092494,0.6286991117695495,0.5531524490531198,0.5601555486094651,0.5657482504939801,0.5831991738958759,0.5815512777557452,0.5807308121937907,0.5749817916312874,0.6283286466430502,0.6797017493955221,0.7467766595476039,0.6831232966667944,0.48268210804748685,0.4452628819855731,0.40173096147916915,0.4234942688830594,0.49374183360350027,0.57138402028032,0.7020979641069103,0.8112420108792671,0.8098828914092787,0.7683235121113132,0.7703451852305742,0.6282552712635181,0.394587703154511,0.19361162494129291,-0.013039464137810033,-0.14606474622741608,-0.25590513451864,-0.3292657440219215,-0.37533061284168495,-0.4155025390430571,-0.4645296394819454,-0.5246582838958177,-0.576270509589868,-0.6022307138787641,-0.6460887094480287,-0.656708293719655,-0.653457255255555,-0.6647334640897696,-0.6866282539825378,-0.6931496569771279,-0.6872925486534516,-0.6808321131352535,-0.6706248131911229,-0.6486885703955892,-0.6671277918231983,-0.6571292883358252,-0.6428502428573074,-0.5842892314646192,-0.4436587792982775,-0.19400345319048634,0.11500073284442078,0.3439715281394607,0.1829884366530759,0.19294359396615554,0.19386284645184365,0.2272033456115844,0.23743099999291964,0.2553209392329986],\"yaxis\":\"y\",\"type\":\"scattergl\"}],                        {\"template\":{\"data\":{\"histogram2dcontour\":[{\"type\":\"histogram2dcontour\",\"colorbar\":{\"outlinewidth\":0,\"ticks\":\"\"},\"colorscale\":[[0.0,\"#0d0887\"],[0.1111111111111111,\"#46039f\"],[0.2222222222222222,\"#7201a8\"],[0.3333333333333333,\"#9c179e\"],[0.4444444444444444,\"#bd3786\"],[0.5555555555555556,\"#d8576b\"],[0.6666666666666666,\"#ed7953\"],[0.7777777777777778,\"#fb9f3a\"],[0.8888888888888888,\"#fdca26\"],[1.0,\"#f0f921\"]]}],\"choropleth\":[{\"type\":\"choropleth\",\"colorbar\":{\"outlinewidth\":0,\"ticks\":\"\"}}],\"histogram2d\":[{\"type\":\"histogram2d\",\"colorbar\":{\"outlinewidth\":0,\"ticks\":\"\"},\"colorscale\":[[0.0,\"#0d0887\"],[0.1111111111111111,\"#46039f\"],[0.2222222222222222,\"#7201a8\"],[0.3333333333333333,\"#9c179e\"],[0.4444444444444444,\"#bd3786\"],[0.5555555555555556,\"#d8576b\"],[0.6666666666666666,\"#ed7953\"],[0.7777777777777778,\"#fb9f3a\"],[0.8888888888888888,\"#fdca26\"],[1.0,\"#f0f921\"]]}],\"heatmap\":[{\"type\":\"heatmap\",\"colorbar\":{\"outlinewidth\":0,\"ticks\":\"\"},\"colorscale\":[[0.0,\"#0d0887\"],[0.1111111111111111,\"#46039f\"],[0.2222222222222222,\"#7201a8\"],[0.3333333333333333,\"#9c179e\"],[0.4444444444444444,\"#bd3786\"],[0.5555555555555556,\"#d8576b\"],[0.6666666666666666,\"#ed7953\"],[0.7777777777777778,\"#fb9f3a\"],[0.8888888888888888,\"#fdca26\"],[1.0,\"#f0f921\"]]}],\"heatmapgl\":[{\"type\":\"heatmapgl\",\"colorbar\":{\"outlinewidth\":0,\"ticks\":\"\"},\"colorscale\":[[0.0,\"#0d0887\"],[0.1111111111111111,\"#46039f\"],[0.2222222222222222,\"#7201a8\"],[0.3333333333333333,\"#9c179e\"],[0.4444444444444444,\"#bd3786\"],[0.5555555555555556,\"#d8576b\"],[0.6666666666666666,\"#ed7953\"],[0.7777777777777778,\"#fb9f3a\"],[0.8888888888888888,\"#fdca26\"],[1.0,\"#f0f921\"]]}],\"contourcarpet\":[{\"type\":\"contourcarpet\",\"colorbar\":{\"outlinewidth\":0,\"ticks\":\"\"}}],\"contour\":[{\"type\":\"contour\",\"colorbar\":{\"outlinewidth\":0,\"ticks\":\"\"},\"colorscale\":[[0.0,\"#0d0887\"],[0.1111111111111111,\"#46039f\"],[0.2222222222222222,\"#7201a8\"],[0.3333333333333333,\"#9c179e\"],[0.4444444444444444,\"#bd3786\"],[0.5555555555555556,\"#d8576b\"],[0.6666666666666666,\"#ed7953\"],[0.7777777777777778,\"#fb9f3a\"],[0.8888888888888888,\"#fdca26\"],[1.0,\"#f0f921\"]]}],\"surface\":[{\"type\":\"surface\",\"colorbar\":{\"outlinewidth\":0,\"ticks\":\"\"},\"colorscale\":[[0.0,\"#0d0887\"],[0.1111111111111111,\"#46039f\"],[0.2222222222222222,\"#7201a8\"],[0.3333333333333333,\"#9c179e\"],[0.4444444444444444,\"#bd3786\"],[0.5555555555555556,\"#d8576b\"],[0.6666666666666666,\"#ed7953\"],[0.7777777777777778,\"#fb9f3a\"],[0.8888888888888888,\"#fdca26\"],[1.0,\"#f0f921\"]]}],\"mesh3d\":[{\"type\":\"mesh3d\",\"colorbar\":{\"outlinewidth\":0,\"ticks\":\"\"}}],\"scatter\":[{\"fillpattern\":{\"fillmode\":\"overlay\",\"size\":10,\"solidity\":0.2},\"type\":\"scatter\"}],\"parcoords\":[{\"type\":\"parcoords\",\"line\":{\"colorbar\":{\"outlinewidth\":0,\"ticks\":\"\"}}}],\"scatterpolargl\":[{\"type\":\"scatterpolargl\",\"marker\":{\"colorbar\":{\"outlinewidth\":0,\"ticks\":\"\"}}}],\"bar\":[{\"error_x\":{\"color\":\"#2a3f5f\"},\"error_y\":{\"color\":\"#2a3f5f\"},\"marker\":{\"line\":{\"color\":\"#E5ECF6\",\"width\":0.5},\"pattern\":{\"fillmode\":\"overlay\",\"size\":10,\"solidity\":0.2}},\"type\":\"bar\"}],\"scattergeo\":[{\"type\":\"scattergeo\",\"marker\":{\"colorbar\":{\"outlinewidth\":0,\"ticks\":\"\"}}}],\"scatterpolar\":[{\"type\":\"scatterpolar\",\"marker\":{\"colorbar\":{\"outlinewidth\":0,\"ticks\":\"\"}}}],\"histogram\":[{\"marker\":{\"pattern\":{\"fillmode\":\"overlay\",\"size\":10,\"solidity\":0.2}},\"type\":\"histogram\"}],\"scattergl\":[{\"type\":\"scattergl\",\"marker\":{\"colorbar\":{\"outlinewidth\":0,\"ticks\":\"\"}}}],\"scatter3d\":[{\"type\":\"scatter3d\",\"line\":{\"colorbar\":{\"outlinewidth\":0,\"ticks\":\"\"}},\"marker\":{\"colorbar\":{\"outlinewidth\":0,\"ticks\":\"\"}}}],\"scattermapbox\":[{\"type\":\"scattermapbox\",\"marker\":{\"colorbar\":{\"outlinewidth\":0,\"ticks\":\"\"}}}],\"scatterternary\":[{\"type\":\"scatterternary\",\"marker\":{\"colorbar\":{\"outlinewidth\":0,\"ticks\":\"\"}}}],\"scattercarpet\":[{\"type\":\"scattercarpet\",\"marker\":{\"colorbar\":{\"outlinewidth\":0,\"ticks\":\"\"}}}],\"carpet\":[{\"aaxis\":{\"endlinecolor\":\"#2a3f5f\",\"gridcolor\":\"white\",\"linecolor\":\"white\",\"minorgridcolor\":\"white\",\"startlinecolor\":\"#2a3f5f\"},\"baxis\":{\"endlinecolor\":\"#2a3f5f\",\"gridcolor\":\"white\",\"linecolor\":\"white\",\"minorgridcolor\":\"white\",\"startlinecolor\":\"#2a3f5f\"},\"type\":\"carpet\"}],\"table\":[{\"cells\":{\"fill\":{\"color\":\"#EBF0F8\"},\"line\":{\"color\":\"white\"}},\"header\":{\"fill\":{\"color\":\"#C8D4E3\"},\"line\":{\"color\":\"white\"}},\"type\":\"table\"}],\"barpolar\":[{\"marker\":{\"line\":{\"color\":\"#E5ECF6\",\"width\":0.5},\"pattern\":{\"fillmode\":\"overlay\",\"size\":10,\"solidity\":0.2}},\"type\":\"barpolar\"}],\"pie\":[{\"automargin\":true,\"type\":\"pie\"}]},\"layout\":{\"autotypenumbers\":\"strict\",\"colorway\":[\"#636efa\",\"#EF553B\",\"#00cc96\",\"#ab63fa\",\"#FFA15A\",\"#19d3f3\",\"#FF6692\",\"#B6E880\",\"#FF97FF\",\"#FECB52\"],\"font\":{\"color\":\"#2a3f5f\"},\"hovermode\":\"closest\",\"hoverlabel\":{\"align\":\"left\"},\"paper_bgcolor\":\"white\",\"plot_bgcolor\":\"#E5ECF6\",\"polar\":{\"bgcolor\":\"#E5ECF6\",\"angularaxis\":{\"gridcolor\":\"white\",\"linecolor\":\"white\",\"ticks\":\"\"},\"radialaxis\":{\"gridcolor\":\"white\",\"linecolor\":\"white\",\"ticks\":\"\"}},\"ternary\":{\"bgcolor\":\"#E5ECF6\",\"aaxis\":{\"gridcolor\":\"white\",\"linecolor\":\"white\",\"ticks\":\"\"},\"baxis\":{\"gridcolor\":\"white\",\"linecolor\":\"white\",\"ticks\":\"\"},\"caxis\":{\"gridcolor\":\"white\",\"linecolor\":\"white\",\"ticks\":\"\"}},\"coloraxis\":{\"colorbar\":{\"outlinewidth\":0,\"ticks\":\"\"}},\"colorscale\":{\"sequential\":[[0.0,\"#0d0887\"],[0.1111111111111111,\"#46039f\"],[0.2222222222222222,\"#7201a8\"],[0.3333333333333333,\"#9c179e\"],[0.4444444444444444,\"#bd3786\"],[0.5555555555555556,\"#d8576b\"],[0.6666666666666666,\"#ed7953\"],[0.7777777777777778,\"#fb9f3a\"],[0.8888888888888888,\"#fdca26\"],[1.0,\"#f0f921\"]],\"sequentialminus\":[[0.0,\"#0d0887\"],[0.1111111111111111,\"#46039f\"],[0.2222222222222222,\"#7201a8\"],[0.3333333333333333,\"#9c179e\"],[0.4444444444444444,\"#bd3786\"],[0.5555555555555556,\"#d8576b\"],[0.6666666666666666,\"#ed7953\"],[0.7777777777777778,\"#fb9f3a\"],[0.8888888888888888,\"#fdca26\"],[1.0,\"#f0f921\"]],\"diverging\":[[0,\"#8e0152\"],[0.1,\"#c51b7d\"],[0.2,\"#de77ae\"],[0.3,\"#f1b6da\"],[0.4,\"#fde0ef\"],[0.5,\"#f7f7f7\"],[0.6,\"#e6f5d0\"],[0.7,\"#b8e186\"],[0.8,\"#7fbc41\"],[0.9,\"#4d9221\"],[1,\"#276419\"]]},\"xaxis\":{\"gridcolor\":\"white\",\"linecolor\":\"white\",\"ticks\":\"\",\"title\":{\"standoff\":15},\"zerolinecolor\":\"white\",\"automargin\":true,\"zerolinewidth\":2},\"yaxis\":{\"gridcolor\":\"white\",\"linecolor\":\"white\",\"ticks\":\"\",\"title\":{\"standoff\":15},\"zerolinecolor\":\"white\",\"automargin\":true,\"zerolinewidth\":2},\"scene\":{\"xaxis\":{\"backgroundcolor\":\"#E5ECF6\",\"gridcolor\":\"white\",\"linecolor\":\"white\",\"showbackground\":true,\"ticks\":\"\",\"zerolinecolor\":\"white\",\"gridwidth\":2},\"yaxis\":{\"backgroundcolor\":\"#E5ECF6\",\"gridcolor\":\"white\",\"linecolor\":\"white\",\"showbackground\":true,\"ticks\":\"\",\"zerolinecolor\":\"white\",\"gridwidth\":2},\"zaxis\":{\"backgroundcolor\":\"#E5ECF6\",\"gridcolor\":\"white\",\"linecolor\":\"white\",\"showbackground\":true,\"ticks\":\"\",\"zerolinecolor\":\"white\",\"gridwidth\":2}},\"shapedefaults\":{\"line\":{\"color\":\"#2a3f5f\"}},\"annotationdefaults\":{\"arrowcolor\":\"#2a3f5f\",\"arrowhead\":0,\"arrowwidth\":1},\"geo\":{\"bgcolor\":\"white\",\"landcolor\":\"#E5ECF6\",\"subunitcolor\":\"white\",\"showland\":true,\"showlakes\":true,\"lakecolor\":\"white\"},\"title\":{\"x\":0.05},\"mapbox\":{\"style\":\"light\"}}},\"xaxis\":{\"anchor\":\"y\",\"domain\":[0.0,1.0],\"title\":{\"text\":\"Date\"}},\"yaxis\":{\"anchor\":\"x\",\"domain\":[0.0,1.0],\"title\":{\"text\":\"corr\"}},\"legend\":{\"tracegroupgap\":0},\"margin\":{\"t\":60}},                        {\"responsive\": true}                    ).then(function(){\n",
       "                            \n",
       "var gd = document.getElementById('954ee71e-ee01-4267-8a73-294602fb315d');\n",
       "var x = new MutationObserver(function (mutations, observer) {{\n",
       "        var display = window.getComputedStyle(gd).display;\n",
       "        if (!display || display === 'none') {{\n",
       "            console.log([gd, 'removed!']);\n",
       "            Plotly.purge(gd);\n",
       "            observer.disconnect();\n",
       "        }}\n",
       "}});\n",
       "\n",
       "// Listen for the removal of the full notebook cells\n",
       "var notebookContainer = gd.closest('#notebook-container');\n",
       "if (notebookContainer) {{\n",
       "    x.observe(notebookContainer, {childList: true});\n",
       "}}\n",
       "\n",
       "// Listen for the clearing of the current output cell\n",
       "var outputEl = gd.closest('.output');\n",
       "if (outputEl) {{\n",
       "    x.observe(outputEl, {childList: true});\n",
       "}}\n",
       "\n",
       "                        })                };                });            </script>        </div>"
      ]
     },
     "metadata": {},
     "output_type": "display_data"
    }
   ],
   "source": [
    "# we can join the 2 datasets together to calculate a rolling correlation between the S&P 500 and Bitcoin\n",
    "import plotly.express\n",
    "\n",
    "sp500_btc = (\n",
    "    sp500.select('Date',sp500='Adj Close')\n",
    "    .join(btc.select('Date', btc='Adj Close'), on='Date', how='inner')\n",
    ")\n",
    "\n",
    "(\n",
    "    sp500_btc\n",
    "    .with_columns(\n",
    "        corr = pl.rolling_corr('sp500', 'btc', window_size=30))\n",
    "    .pipe(plotly.express.line, x='Date', y='corr')\n",
    ")"
   ]
  },
  {
   "cell_type": "code",
   "execution_count": 64,
   "metadata": {},
   "outputs": [
    {
     "data": {
      "text/html": [
       "<div><style>\n",
       ".dataframe > thead > tr > th,\n",
       ".dataframe > tbody > tr > td {\n",
       "  text-align: right;\n",
       "}\n",
       "</style>\n",
       "<small>shape: (5, 4)</small><table border=\"1\" class=\"dataframe\"><thead><tr><th>Date</th><th>Adj_Close</th><th>rolling_max_price</th><th>rolling_diff_from_max</th></tr><tr><td>date</td><td>f64</td><td>f64</td><td>f64</td></tr></thead><tbody><tr><td>2019-01-02</td><td>null</td><td>null</td><td>null</td></tr><tr><td>2019-01-03</td><td>2510.03</td><td>2510.03</td><td>0.0</td></tr><tr><td>2019-01-04</td><td>2447.89</td><td>2510.03</td><td>-62.14</td></tr><tr><td>2019-01-07</td><td>2531.94</td><td>2531.94</td><td>0.0</td></tr><tr><td>2019-01-08</td><td>2549.69</td><td>2549.69</td><td>0.0</td></tr></tbody></table></div>"
      ],
      "text/plain": [
       "shape: (5, 4)\n",
       "┌────────────┬───────────┬───────────────────┬───────────────────────┐\n",
       "│ Date       ┆ Adj_Close ┆ rolling_max_price ┆ rolling_diff_from_max │\n",
       "│ ---        ┆ ---       ┆ ---               ┆ ---                   │\n",
       "│ date       ┆ f64       ┆ f64               ┆ f64                   │\n",
       "╞════════════╪═══════════╪═══════════════════╪═══════════════════════╡\n",
       "│ 2019-01-02 ┆ null      ┆ null              ┆ null                  │\n",
       "│ 2019-01-03 ┆ 2510.03   ┆ 2510.03           ┆ 0.0                   │\n",
       "│ 2019-01-04 ┆ 2447.89   ┆ 2510.03           ┆ -62.14                │\n",
       "│ 2019-01-07 ┆ 2531.94   ┆ 2531.94           ┆ 0.0                   │\n",
       "│ 2019-01-08 ┆ 2549.69   ┆ 2549.69           ┆ 0.0                   │\n",
       "└────────────┴───────────┴───────────────────┴───────────────────────┘"
      ]
     },
     "execution_count": 64,
     "metadata": {},
     "output_type": "execute_result"
    }
   ],
   "source": [
    "# Finally, groupby rolling allows to define custom calculation for each rolling window\n",
    "# In this example below, we calculate the rolling maximum, and the difference between the current value and the maximum value\n",
    "\n",
    "(\n",
    "    sp500.groupby_rolling(\n",
    "        'Date',\n",
    "        period='3d',\n",
    "        closed='left')\n",
    "    .agg(\n",
    "        Adj_Close = pl.col('Adj Close').last(),\n",
    "        rolling_max_price = pl.col('Adj Close').max(),\n",
    "        rolling_diff_from_max = \n",
    "        pl.col('Adj Close').last() - pl.col('Adj Close').max())\n",
    ").head(5)"
   ]
  },
  {
   "cell_type": "markdown",
   "metadata": {},
   "source": [
    "#### Dynamic groups: groupby_dynamic"
   ]
  },
  {
   "cell_type": "code",
   "execution_count": 66,
   "metadata": {},
   "outputs": [
    {
     "data": {
      "text/html": [
       "<div><style>\n",
       ".dataframe > thead > tr > th,\n",
       ".dataframe > tbody > tr > td {\n",
       "  text-align: right;\n",
       "}\n",
       "</style>\n",
       "<small>shape: (5, 4)</small><table border=\"1\" class=\"dataframe\"><thead><tr><th>Date</th><th>from_date</th><th>to_date</th><th>corr</th></tr><tr><td>date</td><td>date</td><td>date</td><td>f64</td></tr></thead><tbody><tr><td>2019-01-01</td><td>2019-01-02</td><td>2019-01-31</td><td>-0.73916</td></tr><tr><td>2019-02-01</td><td>2019-02-01</td><td>2019-02-28</td><td>0.820574</td></tr><tr><td>2019-03-01</td><td>2019-03-01</td><td>2019-03-29</td><td>0.599727</td></tr><tr><td>2019-04-01</td><td>2019-04-01</td><td>2019-04-30</td><td>0.65675</td></tr><tr><td>2019-05-01</td><td>2019-05-01</td><td>2019-05-31</td><td>-0.871049</td></tr></tbody></table></div>"
      ],
      "text/plain": [
       "shape: (5, 4)\n",
       "┌────────────┬────────────┬────────────┬───────────┐\n",
       "│ Date       ┆ from_date  ┆ to_date    ┆ corr      │\n",
       "│ ---        ┆ ---        ┆ ---        ┆ ---       │\n",
       "│ date       ┆ date       ┆ date       ┆ f64       │\n",
       "╞════════════╪════════════╪════════════╪═══════════╡\n",
       "│ 2019-01-01 ┆ 2019-01-02 ┆ 2019-01-31 ┆ -0.73916  │\n",
       "│ 2019-02-01 ┆ 2019-02-01 ┆ 2019-02-28 ┆ 0.820574  │\n",
       "│ 2019-03-01 ┆ 2019-03-01 ┆ 2019-03-29 ┆ 0.599727  │\n",
       "│ 2019-04-01 ┆ 2019-04-01 ┆ 2019-04-30 ┆ 0.65675   │\n",
       "│ 2019-05-01 ┆ 2019-05-01 ┆ 2019-05-31 ┆ -0.871049 │\n",
       "└────────────┴────────────┴────────────┴───────────┘"
      ]
     },
     "execution_count": 66,
     "metadata": {},
     "output_type": "execute_result"
    }
   ],
   "source": [
    "# Groupby_dynamic and groupby_rolling are advanced functions for grouping data\n",
    "# based on a time interval\n",
    "# They are different from the cumulative and rolling functions because we reduce the number of rows\n",
    "\n",
    "# 3 main parameters for groupby_dynamic:\n",
    "# 1. every: how often we start a new interval\n",
    "# 2. period: the length of the interval\n",
    "# 3. offset: the offset of the interval\n",
    "\n",
    "# Let's calculate the correlation between the S&P 500 and Bitcoin for each month\n",
    "# Now I calculate only one value per month\n",
    "\n",
    "(\n",
    "    sp500_btc\n",
    "    .groupby_dynamic(\n",
    "        'Date',\n",
    "        every='1mo',\n",
    "        period='1mo')\n",
    "    .agg(\n",
    "        from_date = pl.col('Date').min(),\n",
    "        to_date = pl.col('Date').max(),\n",
    "        corr = pl.corr('sp500', 'btc'))\n",
    ").head(5)"
   ]
  },
  {
   "cell_type": "code",
   "execution_count": 68,
   "metadata": {},
   "outputs": [
    {
     "data": {
      "text/html": [
       "<div><style>\n",
       ".dataframe > thead > tr > th,\n",
       ".dataframe > tbody > tr > td {\n",
       "  text-align: right;\n",
       "}\n",
       "</style>\n",
       "<small>shape: (5, 4)</small><table border=\"1\" class=\"dataframe\"><thead><tr><th>Date</th><th>from_date</th><th>to_date</th><th>corr</th></tr><tr><td>date</td><td>date</td><td>date</td><td>f64</td></tr></thead><tbody><tr><td>2019-01-01</td><td>2019-01-02</td><td>2019-02-28</td><td>-0.083929</td></tr><tr><td>2019-02-01</td><td>2019-02-01</td><td>2019-03-29</td><td>0.840186</td></tr><tr><td>2019-03-01</td><td>2019-03-01</td><td>2019-04-30</td><td>0.923523</td></tr><tr><td>2019-04-01</td><td>2019-04-01</td><td>2019-05-31</td><td>-0.783081</td></tr><tr><td>2019-05-01</td><td>2019-05-01</td><td>2019-06-28</td><td>0.194892</td></tr></tbody></table></div>"
      ],
      "text/plain": [
       "shape: (5, 4)\n",
       "┌────────────┬────────────┬────────────┬───────────┐\n",
       "│ Date       ┆ from_date  ┆ to_date    ┆ corr      │\n",
       "│ ---        ┆ ---        ┆ ---        ┆ ---       │\n",
       "│ date       ┆ date       ┆ date       ┆ f64       │\n",
       "╞════════════╪════════════╪════════════╪═══════════╡\n",
       "│ 2019-01-01 ┆ 2019-01-02 ┆ 2019-02-28 ┆ -0.083929 │\n",
       "│ 2019-02-01 ┆ 2019-02-01 ┆ 2019-03-29 ┆ 0.840186  │\n",
       "│ 2019-03-01 ┆ 2019-03-01 ┆ 2019-04-30 ┆ 0.923523  │\n",
       "│ 2019-04-01 ┆ 2019-04-01 ┆ 2019-05-31 ┆ -0.783081 │\n",
       "│ 2019-05-01 ┆ 2019-05-01 ┆ 2019-06-28 ┆ 0.194892  │\n",
       "└────────────┴────────────┴────────────┴───────────┘"
      ]
     },
     "execution_count": 68,
     "metadata": {},
     "output_type": "execute_result"
    }
   ],
   "source": [
    "# Let's now calculate the correlation between the S&P 500 and Bitcoin\n",
    "# every month, but with a period of 2 months\n",
    "\n",
    "(\n",
    "    sp500_btc\n",
    "    .groupby_dynamic(\n",
    "        'Date',\n",
    "        every='1mo',\n",
    "        period='2mo')\n",
    "    .agg(\n",
    "        from_date = pl.col('Date').min(),\n",
    "        to_date = pl.col('Date').max(),\n",
    "        corr = pl.corr('sp500', 'btc'))\n",
    ").head(5)"
   ]
  },
  {
   "cell_type": "code",
   "execution_count": 69,
   "metadata": {},
   "outputs": [
    {
     "data": {
      "text/html": [
       "<div><style>\n",
       ".dataframe > thead > tr > th,\n",
       ".dataframe > tbody > tr > td {\n",
       "  text-align: right;\n",
       "}\n",
       "</style>\n",
       "<small>shape: (5, 4)</small><table border=\"1\" class=\"dataframe\"><thead><tr><th>Date</th><th>from_date</th><th>to_date</th><th>corr</th></tr><tr><td>date</td><td>date</td><td>date</td><td>f64</td></tr></thead><tbody><tr><td>2019-01-01</td><td>2019-01-02</td><td>2019-01-31</td><td>-0.73916</td></tr><tr><td>2019-03-01</td><td>2019-03-01</td><td>2019-03-29</td><td>0.599727</td></tr><tr><td>2019-05-01</td><td>2019-05-01</td><td>2019-05-31</td><td>-0.871049</td></tr><tr><td>2019-07-01</td><td>2019-07-01</td><td>2019-07-31</td><td>-0.365423</td></tr><tr><td>2019-09-01</td><td>2019-09-03</td><td>2019-09-30</td><td>0.081172</td></tr></tbody></table></div>"
      ],
      "text/plain": [
       "shape: (5, 4)\n",
       "┌────────────┬────────────┬────────────┬───────────┐\n",
       "│ Date       ┆ from_date  ┆ to_date    ┆ corr      │\n",
       "│ ---        ┆ ---        ┆ ---        ┆ ---       │\n",
       "│ date       ┆ date       ┆ date       ┆ f64       │\n",
       "╞════════════╪════════════╪════════════╪═══════════╡\n",
       "│ 2019-01-01 ┆ 2019-01-02 ┆ 2019-01-31 ┆ -0.73916  │\n",
       "│ 2019-03-01 ┆ 2019-03-01 ┆ 2019-03-29 ┆ 0.599727  │\n",
       "│ 2019-05-01 ┆ 2019-05-01 ┆ 2019-05-31 ┆ -0.871049 │\n",
       "│ 2019-07-01 ┆ 2019-07-01 ┆ 2019-07-31 ┆ -0.365423 │\n",
       "│ 2019-09-01 ┆ 2019-09-03 ┆ 2019-09-30 ┆ 0.081172  │\n",
       "└────────────┴────────────┴────────────┴───────────┘"
      ]
     },
     "execution_count": 69,
     "metadata": {},
     "output_type": "execute_result"
    }
   ],
   "source": [
    "# Finally, let's calculate the correlation between the S&P 500 and Bitcoin\n",
    "# every 2 months, but with a period of 1 month\n",
    "\n",
    "(\n",
    "    sp500_btc\n",
    "    .groupby_dynamic(\n",
    "        'Date',\n",
    "        every='2mo',\n",
    "        period='1mo')\n",
    "    .agg(\n",
    "        from_date = pl.col('Date').min(),\n",
    "        to_date = pl.col('Date').max(),\n",
    "        corr = pl.corr('sp500', 'btc'))\n",
    ").head(5)"
   ]
  },
  {
   "cell_type": "markdown",
   "metadata": {},
   "source": [
    "#### Join with nearest key: asof_join"
   ]
  },
  {
   "cell_type": "code",
   "execution_count": 70,
   "metadata": {},
   "outputs": [
    {
     "data": {
      "text/html": [
       "<div><style>\n",
       ".dataframe > thead > tr > th,\n",
       ".dataframe > tbody > tr > td {\n",
       "  text-align: right;\n",
       "}\n",
       "</style>\n",
       "<small>shape: (3, 2)</small><table border=\"1\" class=\"dataframe\"><thead><tr><th>Date</th><th>Quantity</th></tr><tr><td>date</td><td>i64</td></tr></thead><tbody><tr><td>2019-01-04</td><td>10</td></tr><tr><td>2019-01-06</td><td>-20</td></tr><tr><td>2019-01-11</td><td>30</td></tr></tbody></table></div>"
      ],
      "text/plain": [
       "shape: (3, 2)\n",
       "┌────────────┬──────────┐\n",
       "│ Date       ┆ Quantity │\n",
       "│ ---        ┆ ---      │\n",
       "│ date       ┆ i64      │\n",
       "╞════════════╪══════════╡\n",
       "│ 2019-01-04 ┆ 10       │\n",
       "│ 2019-01-06 ┆ -20      │\n",
       "│ 2019-01-11 ┆ 30       │\n",
       "└────────────┴──────────┘"
      ]
     },
     "execution_count": 70,
     "metadata": {},
     "output_type": "execute_result"
    }
   ],
   "source": [
    "# Join_asof is a function that allows to join 2 datasets based on nearest keys\n",
    "# For example, we can find the price of purchase for an S&P 500 ETF by looking at opening price for the next available date\n",
    "\n",
    "trades = pl.DataFrame({\n",
    "    'Date': [date(2019, 1, 4), date(2019, 1, 6), date(2019, 1, 11)],\n",
    "    'Quantity': [10, -20, 30]\n",
    "}).with_columns(\n",
    "    pl.col('Date').set_sorted()\n",
    ")\n",
    "\n",
    "trades"
   ]
  },
  {
   "cell_type": "code",
   "execution_count": 72,
   "metadata": {},
   "outputs": [
    {
     "data": {
      "text/html": [
       "<div><style>\n",
       ".dataframe > thead > tr > th,\n",
       ".dataframe > tbody > tr > td {\n",
       "  text-align: right;\n",
       "}\n",
       "</style>\n",
       "<small>shape: (10, 2)</small><table border=\"1\" class=\"dataframe\"><thead><tr><th>Date</th><th>Open</th></tr><tr><td>date</td><td>f64</td></tr></thead><tbody><tr><td>2019-01-01</td><td>3746.713379</td></tr><tr><td>2019-01-02</td><td>3849.216309</td></tr><tr><td>2019-01-03</td><td>3931.048584</td></tr><tr><td>2019-01-04</td><td>3832.040039</td></tr><tr><td>2019-01-05</td><td>3851.973877</td></tr><tr><td>2019-01-06</td><td>3836.519043</td></tr><tr><td>2019-01-07</td><td>4078.584961</td></tr><tr><td>2019-01-08</td><td>4028.472168</td></tr><tr><td>2019-01-09</td><td>4031.552002</td></tr><tr><td>2019-01-10</td><td>4034.411377</td></tr></tbody></table></div>"
      ],
      "text/plain": [
       "shape: (10, 2)\n",
       "┌────────────┬─────────────┐\n",
       "│ Date       ┆ Open        │\n",
       "│ ---        ┆ ---         │\n",
       "│ date       ┆ f64         │\n",
       "╞════════════╪═════════════╡\n",
       "│ 2019-01-01 ┆ 3746.713379 │\n",
       "│ 2019-01-02 ┆ 3849.216309 │\n",
       "│ 2019-01-03 ┆ 3931.048584 │\n",
       "│ 2019-01-04 ┆ 3832.040039 │\n",
       "│ …          ┆ …           │\n",
       "│ 2019-01-07 ┆ 4078.584961 │\n",
       "│ 2019-01-08 ┆ 4028.472168 │\n",
       "│ 2019-01-09 ┆ 4031.552002 │\n",
       "│ 2019-01-10 ┆ 4034.411377 │\n",
       "└────────────┴─────────────┘"
      ]
     },
     "execution_count": 72,
     "metadata": {},
     "output_type": "execute_result"
    }
   ],
   "source": [
    "# Here are the prices of the S&P 500 as a reminder\n",
    "btc.select('Date', 'Open').head(10)"
   ]
  },
  {
   "cell_type": "code",
   "execution_count": 73,
   "metadata": {},
   "outputs": [
    {
     "data": {
      "text/html": [
       "<div><style>\n",
       ".dataframe > thead > tr > th,\n",
       ".dataframe > tbody > tr > td {\n",
       "  text-align: right;\n",
       "}\n",
       "</style>\n",
       "<small>shape: (3, 3)</small><table border=\"1\" class=\"dataframe\"><thead><tr><th>Date</th><th>Quantity</th><th>Price</th></tr><tr><td>date</td><td>i64</td><td>f64</td></tr></thead><tbody><tr><td>2019-01-04</td><td>10</td><td>3832.040039</td></tr><tr><td>2019-01-06</td><td>-20</td><td>3836.519043</td></tr><tr><td>2019-01-11</td><td>30</td><td>3674.015381</td></tr></tbody></table></div>"
      ],
      "text/plain": [
       "shape: (3, 3)\n",
       "┌────────────┬──────────┬─────────────┐\n",
       "│ Date       ┆ Quantity ┆ Price       │\n",
       "│ ---        ┆ ---      ┆ ---         │\n",
       "│ date       ┆ i64      ┆ f64         │\n",
       "╞════════════╪══════════╪═════════════╡\n",
       "│ 2019-01-04 ┆ 10       ┆ 3832.040039 │\n",
       "│ 2019-01-06 ┆ -20      ┆ 3836.519043 │\n",
       "│ 2019-01-11 ┆ 30       ┆ 3674.015381 │\n",
       "└────────────┴──────────┴─────────────┘"
      ]
     },
     "execution_count": 73,
     "metadata": {},
     "output_type": "execute_result"
    }
   ],
   "source": [
    "trades.join_asof(\n",
    "    btc.select('Date', Price = 'Open'), \n",
    "    on='Date', \n",
    "    strategy='forward')"
   ]
  },
  {
   "cell_type": "code",
   "execution_count": null,
   "metadata": {},
   "outputs": [],
   "source": []
  }
 ],
 "metadata": {
  "kernelspec": {
   "display_name": "Python 3",
   "language": "python",
   "name": "python3"
  },
  "language_info": {
   "codemirror_mode": {
    "name": "ipython",
    "version": 3
   },
   "file_extension": ".py",
   "mimetype": "text/x-python",
   "name": "python",
   "nbconvert_exporter": "python",
   "pygments_lexer": "ipython3",
   "version": "3.10.6"
  },
  "orig_nbformat": 4
 },
 "nbformat": 4,
 "nbformat_minor": 2
}
