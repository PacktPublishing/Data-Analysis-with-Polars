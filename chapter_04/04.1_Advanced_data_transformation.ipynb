{
 "cells": [
  {
   "attachments": {},
   "cell_type": "markdown",
   "metadata": {},
   "source": [
    "### Advanced Data Transformation with Polars"
   ]
  },
  {
   "attachments": {},
   "cell_type": "markdown",
   "metadata": {},
   "source": [
    "The examples below use `.head()` to reduce the output to a few rows and take up less space.\n",
    "If you want the full output, remove `.head()` from the code.\n",
    "\n",
    "This notebooked is divided into sections. If your code editor supports it, you can use the **Outline** functionality to easily go to the code section you are interested in.\n",
    "\n",
    "For more details on Polars functions, check out the Polars API reference: https://pola-rs.github.io/polars/py-polars/html/reference/index.html"
   ]
  },
  {
   "cell_type": "code",
   "execution_count": 214,
   "metadata": {},
   "outputs": [
    {
     "data": {
      "text/plain": [
       "polars.config.Config"
      ]
     },
     "execution_count": 214,
     "metadata": {},
     "output_type": "execute_result"
    }
   ],
   "source": [
    "import polars as pl\n",
    "\n",
    "# Configure the number of characters to show for each string column\n",
    "pl.Config.set_fmt_str_lengths(50)"
   ]
  },
  {
   "cell_type": "markdown",
   "metadata": {},
   "source": [
    "#### List operations"
   ]
  },
  {
   "cell_type": "code",
   "execution_count": 215,
   "metadata": {},
   "outputs": [
    {
     "data": {
      "text/html": [
       "<div><style>\n",
       ".dataframe > thead > tr,\n",
       ".dataframe > tbody > tr {\n",
       "  text-align: right;\n",
       "  white-space: pre-wrap;\n",
       "}\n",
       "</style>\n",
       "<small>shape: (4, 5)</small><table border=\"1\" class=\"dataframe\"><thead><tr><th>branch</th><th>employees</th><th>weekly_sales</th><th>stock_items</th><th>customer_rating</th></tr><tr><td>str</td><td>list[str]</td><td>list[i64]</td><td>list[str]</td><td>list[i64]</td></tr></thead><tbody><tr><td>&quot;A&quot;</td><td>[&quot;John&quot;, &quot;Lisa&quot;, &quot;Sam&quot;]</td><td>[1200, 2500, 700]</td><td>[&quot;Item1&quot;, &quot;Item2&quot;]</td><td>[3, 4, 4]</td></tr><tr><td>&quot;B&quot;</td><td>[&quot;Lisa&quot;, &quot;Alex&quot;]</td><td>[1500, 2700]</td><td>[&quot;Item1&quot;, &quot;Item3&quot;]</td><td>[5, 4]</td></tr><tr><td>&quot;C&quot;</td><td>[&quot;Sam&quot;, &quot;Alex&quot;, &quot;John&quot;]</td><td>[1800, 2000, 900]</td><td>[&quot;Item2&quot;, &quot;Item3&quot;]</td><td>[4, 3, 3]</td></tr><tr><td>&quot;D&quot;</td><td>[&quot;Lisa&quot;, &quot;Sam&quot;]</td><td>[1700, 2100]</td><td>[&quot;Item1&quot;, &quot;Item2&quot;, &quot;Item3&quot;]</td><td>[5, 5]</td></tr></tbody></table></div>"
      ],
      "text/plain": [
       "shape: (4, 5)\n",
       "┌────────┬─────────────────────────┬───────────────────┬────────────────────┬─────────────────┐\n",
       "│ branch ┆ employees               ┆ weekly_sales      ┆ stock_items        ┆ customer_rating │\n",
       "│ ---    ┆ ---                     ┆ ---               ┆ ---                ┆ ---             │\n",
       "│ str    ┆ list[str]               ┆ list[i64]         ┆ list[str]          ┆ list[i64]       │\n",
       "╞════════╪═════════════════════════╪═══════════════════╪════════════════════╪═════════════════╡\n",
       "│ A      ┆ [\"John\", \"Lisa\", \"Sam\"] ┆ [1200, 2500, 700] ┆ [\"Item1\", \"Item2\"] ┆ [3, 4, 4]       │\n",
       "│ B      ┆ [\"Lisa\", \"Alex\"]        ┆ [1500, 2700]      ┆ [\"Item1\", \"Item3\"] ┆ [5, 4]          │\n",
       "│ C      ┆ [\"Sam\", \"Alex\", \"John\"] ┆ [1800, 2000, 900] ┆ [\"Item2\", \"Item3\"] ┆ [4, 3, 3]       │\n",
       "│ D      ┆ [\"Lisa\", \"Sam\"]         ┆ [1700, 2100]      ┆ [\"Item1\", \"Item2\", ┆ [5, 5]          │\n",
       "│        ┆                         ┆                   ┆ \"Item3\"]           ┆                 │\n",
       "└────────┴─────────────────────────┴───────────────────┴────────────────────┴─────────────────┘"
      ]
     },
     "execution_count": 215,
     "metadata": {},
     "output_type": "execute_result"
    }
   ],
   "source": [
    "data = {\n",
    "    \"branch\": [\"A\", \"B\", \"C\", \"D\"],\n",
    "    \"employees\": [\n",
    "        [\"John\", \"Lisa\", \"Sam\"],\n",
    "        [\"Lisa\", \"Alex\"],\n",
    "        [\"Sam\", \"Alex\", \"John\"],\n",
    "        [\"Lisa\", \"Sam\"],\n",
    "    ],\n",
    "    \"weekly_sales\": [[1200, 2500, 700], [1500, 2700], [1800, 2000, 900], [1700, 2100]],\n",
    "    \"stock_items\": [\n",
    "        [\"Item1\", \"Item2\"],\n",
    "        [\"Item1\", \"Item3\"],\n",
    "        [\"Item2\", \"Item3\"],\n",
    "        [\"Item1\", \"Item2\", \"Item3\"],\n",
    "    ],\n",
    "    \"customer_rating\": [[3, 4, 4], [5, 4], [4, 3, 3], [5, 5]],\n",
    "}\n",
    "\n",
    "df_retail = pl.DataFrame(data)\n",
    "\n",
    "df_retail"
   ]
  },
  {
   "cell_type": "code",
   "execution_count": 216,
   "metadata": {},
   "outputs": [
    {
     "data": {
      "text/html": [
       "<div><style>\n",
       ".dataframe > thead > tr,\n",
       ".dataframe > tbody > tr {\n",
       "  text-align: right;\n",
       "  white-space: pre-wrap;\n",
       "}\n",
       "</style>\n",
       "<small>shape: (4, 2)</small><table border=\"1\" class=\"dataframe\"><thead><tr><th>employees</th><th>employees_joined</th></tr><tr><td>list[str]</td><td>str</td></tr></thead><tbody><tr><td>[&quot;John&quot;, &quot;Lisa&quot;, &quot;Sam&quot;]</td><td>&quot;John, Lisa, Sam&quot;</td></tr><tr><td>[&quot;Lisa&quot;, &quot;Alex&quot;]</td><td>&quot;Lisa, Alex&quot;</td></tr><tr><td>[&quot;Sam&quot;, &quot;Alex&quot;, &quot;John&quot;]</td><td>&quot;Sam, Alex, John&quot;</td></tr><tr><td>[&quot;Lisa&quot;, &quot;Sam&quot;]</td><td>&quot;Lisa, Sam&quot;</td></tr></tbody></table></div>"
      ],
      "text/plain": [
       "shape: (4, 2)\n",
       "┌─────────────────────────┬──────────────────┐\n",
       "│ employees               ┆ employees_joined │\n",
       "│ ---                     ┆ ---              │\n",
       "│ list[str]               ┆ str              │\n",
       "╞═════════════════════════╪══════════════════╡\n",
       "│ [\"John\", \"Lisa\", \"Sam\"] ┆ John, Lisa, Sam  │\n",
       "│ [\"Lisa\", \"Alex\"]        ┆ Lisa, Alex       │\n",
       "│ [\"Sam\", \"Alex\", \"John\"] ┆ Sam, Alex, John  │\n",
       "│ [\"Lisa\", \"Sam\"]         ┆ Lisa, Sam        │\n",
       "└─────────────────────────┴──────────────────┘"
      ]
     },
     "execution_count": 216,
     "metadata": {},
     "output_type": "execute_result"
    }
   ],
   "source": [
    "# join the employees working in each branch in a single string\n",
    "\n",
    "df_retail.select(\"employees\", employees_joined=pl.col(\"employees\").list.join(\", \"))"
   ]
  },
  {
   "cell_type": "code",
   "execution_count": 217,
   "metadata": {},
   "outputs": [
    {
     "data": {
      "text/html": [
       "<div><style>\n",
       ".dataframe > thead > tr,\n",
       ".dataframe > tbody > tr {\n",
       "  text-align: right;\n",
       "  white-space: pre-wrap;\n",
       "}\n",
       "</style>\n",
       "<small>shape: (4, 3)</small><table border=\"1\" class=\"dataframe\"><thead><tr><th>branch</th><th>stock_items</th><th>has_item1</th></tr><tr><td>str</td><td>list[str]</td><td>bool</td></tr></thead><tbody><tr><td>&quot;A&quot;</td><td>[&quot;Item1&quot;, &quot;Item2&quot;]</td><td>true</td></tr><tr><td>&quot;B&quot;</td><td>[&quot;Item1&quot;, &quot;Item3&quot;]</td><td>true</td></tr><tr><td>&quot;C&quot;</td><td>[&quot;Item2&quot;, &quot;Item3&quot;]</td><td>false</td></tr><tr><td>&quot;D&quot;</td><td>[&quot;Item1&quot;, &quot;Item2&quot;, &quot;Item3&quot;]</td><td>true</td></tr></tbody></table></div>"
      ],
      "text/plain": [
       "shape: (4, 3)\n",
       "┌────────┬─────────────────────────────┬───────────┐\n",
       "│ branch ┆ stock_items                 ┆ has_item1 │\n",
       "│ ---    ┆ ---                         ┆ ---       │\n",
       "│ str    ┆ list[str]                   ┆ bool      │\n",
       "╞════════╪═════════════════════════════╪═══════════╡\n",
       "│ A      ┆ [\"Item1\", \"Item2\"]          ┆ true      │\n",
       "│ B      ┆ [\"Item1\", \"Item3\"]          ┆ true      │\n",
       "│ C      ┆ [\"Item2\", \"Item3\"]          ┆ false     │\n",
       "│ D      ┆ [\"Item1\", \"Item2\", \"Item3\"] ┆ true      │\n",
       "└────────┴─────────────────────────────┴───────────┘"
      ]
     },
     "execution_count": 217,
     "metadata": {},
     "output_type": "execute_result"
    }
   ],
   "source": [
    "# check which branch has Item1 in stock\n",
    "\n",
    "df_retail.select(\n",
    "    \"branch\", \"stock_items\", has_item1=pl.col(\"stock_items\").list.contains(\"Item1\")\n",
    ")"
   ]
  },
  {
   "cell_type": "code",
   "execution_count": 218,
   "metadata": {},
   "outputs": [
    {
     "data": {
      "text/html": [
       "<div><style>\n",
       ".dataframe > thead > tr,\n",
       ".dataframe > tbody > tr {\n",
       "  text-align: right;\n",
       "  white-space: pre-wrap;\n",
       "}\n",
       "</style>\n",
       "<small>shape: (4, 2)</small><table border=\"1\" class=\"dataframe\"><thead><tr><th>customer_rating</th><th>count_ratings_of_5</th></tr><tr><td>list[i64]</td><td>u32</td></tr></thead><tbody><tr><td>[3, 4, 4]</td><td>0</td></tr><tr><td>[5, 4]</td><td>1</td></tr><tr><td>[4, 3, 3]</td><td>0</td></tr><tr><td>[5, 5]</td><td>2</td></tr></tbody></table></div>"
      ],
      "text/plain": [
       "shape: (4, 2)\n",
       "┌─────────────────┬────────────────────┐\n",
       "│ customer_rating ┆ count_ratings_of_5 │\n",
       "│ ---             ┆ ---                │\n",
       "│ list[i64]       ┆ u32                │\n",
       "╞═════════════════╪════════════════════╡\n",
       "│ [3, 4, 4]       ┆ 0                  │\n",
       "│ [5, 4]          ┆ 1                  │\n",
       "│ [4, 3, 3]       ┆ 0                  │\n",
       "│ [5, 5]          ┆ 2                  │\n",
       "└─────────────────┴────────────────────┘"
      ]
     },
     "execution_count": 218,
     "metadata": {},
     "output_type": "execute_result"
    }
   ],
   "source": [
    "# count how many ratings of 5 each branch has\n",
    "\n",
    "df_retail.select(\n",
    "    \"customer_rating\",\n",
    "    count_ratings_of_5=pl.col(\"customer_rating\").list.count_matches(5),\n",
    ")"
   ]
  },
  {
   "cell_type": "code",
   "execution_count": 219,
   "metadata": {},
   "outputs": [
    {
     "data": {
      "text/html": [
       "<div><style>\n",
       ".dataframe > thead > tr,\n",
       ".dataframe > tbody > tr {\n",
       "  text-align: right;\n",
       "  white-space: pre-wrap;\n",
       "}\n",
       "</style>\n",
       "<small>shape: (4, 1)</small><table border=\"1\" class=\"dataframe\"><thead><tr><th>weekly_sales</th></tr><tr><td>i64</td></tr></thead><tbody><tr><td>2500</td></tr><tr><td>2700</td></tr><tr><td>2000</td></tr><tr><td>2100</td></tr></tbody></table></div>"
      ],
      "text/plain": [
       "shape: (4, 1)\n",
       "┌──────────────┐\n",
       "│ weekly_sales │\n",
       "│ ---          │\n",
       "│ i64          │\n",
       "╞══════════════╡\n",
       "│ 2500         │\n",
       "│ 2700         │\n",
       "│ 2000         │\n",
       "│ 2100         │\n",
       "└──────────────┘"
      ]
     },
     "execution_count": 219,
     "metadata": {},
     "output_type": "execute_result"
    }
   ],
   "source": [
    "# I can visualize the maximum value using max\n",
    "\n",
    "df_retail.select(pl.col(\"weekly_sales\").list.max())"
   ]
  },
  {
   "cell_type": "code",
   "execution_count": 220,
   "metadata": {},
   "outputs": [
    {
     "data": {
      "text/html": [
       "<div><style>\n",
       ".dataframe > thead > tr,\n",
       ".dataframe > tbody > tr {\n",
       "  text-align: right;\n",
       "  white-space: pre-wrap;\n",
       "}\n",
       "</style>\n",
       "<small>shape: (4, 1)</small><table border=\"1\" class=\"dataframe\"><thead><tr><th>customer_rating</th></tr><tr><td>list[i64]</td></tr></thead><tbody><tr><td>[3, 4]</td></tr><tr><td>[4, 5]</td></tr><tr><td>[3, 4]</td></tr><tr><td>[5]</td></tr></tbody></table></div>"
      ],
      "text/plain": [
       "shape: (4, 1)\n",
       "┌─────────────────┐\n",
       "│ customer_rating │\n",
       "│ ---             │\n",
       "│ list[i64]       │\n",
       "╞═════════════════╡\n",
       "│ [3, 4]          │\n",
       "│ [4, 5]          │\n",
       "│ [3, 4]          │\n",
       "│ [5]             │\n",
       "└─────────────────┘"
      ]
     },
     "execution_count": 220,
     "metadata": {},
     "output_type": "execute_result"
    }
   ],
   "source": [
    "# I can only the unique values\n",
    "\n",
    "df_retail.select(pl.col(\"customer_rating\").list.unique())"
   ]
  },
  {
   "cell_type": "code",
   "execution_count": 221,
   "metadata": {},
   "outputs": [
    {
     "data": {
      "text/html": [
       "<div><style>\n",
       ".dataframe > thead > tr,\n",
       ".dataframe > tbody > tr {\n",
       "  text-align: right;\n",
       "  white-space: pre-wrap;\n",
       "}\n",
       "</style>\n",
       "<small>shape: (4, 1)</small><table border=\"1\" class=\"dataframe\"><thead><tr><th>weekly_sales</th></tr><tr><td>list[i64]</td></tr></thead><tbody><tr><td>[1200]</td></tr><tr><td>[2700]</td></tr><tr><td>[1800]</td></tr><tr><td>[2100]</td></tr></tbody></table></div>"
      ],
      "text/plain": [
       "shape: (4, 1)\n",
       "┌──────────────┐\n",
       "│ weekly_sales │\n",
       "│ ---          │\n",
       "│ list[i64]    │\n",
       "╞══════════════╡\n",
       "│ [1200]       │\n",
       "│ [2700]       │\n",
       "│ [1800]       │\n",
       "│ [2100]       │\n",
       "└──────────────┘"
      ]
     },
     "execution_count": 221,
     "metadata": {},
     "output_type": "execute_result"
    }
   ],
   "source": [
    "# I can sort the values, and take the second biggest\n",
    "\n",
    "df_retail.select(pl.col(\"weekly_sales\").list.sort().list.gather(1))"
   ]
  },
  {
   "cell_type": "code",
   "execution_count": 222,
   "metadata": {},
   "outputs": [
    {
     "data": {
      "text/html": [
       "<div><style>\n",
       ".dataframe > thead > tr,\n",
       ".dataframe > tbody > tr {\n",
       "  text-align: right;\n",
       "  white-space: pre-wrap;\n",
       "}\n",
       "</style>\n",
       "<small>shape: (4, 2)</small><table border=\"1\" class=\"dataframe\"><thead><tr><th>weekly_sales</th><th>ranked_sales</th></tr><tr><td>list[i64]</td><td>list[u32]</td></tr></thead><tbody><tr><td>[1200, 2500, 700]</td><td>[2, 1, 3]</td></tr><tr><td>[1500, 2700]</td><td>[2, 1]</td></tr><tr><td>[1800, 2000, 900]</td><td>[2, 1, 3]</td></tr><tr><td>[1700, 2100]</td><td>[2, 1]</td></tr></tbody></table></div>"
      ],
      "text/plain": [
       "shape: (4, 2)\n",
       "┌───────────────────┬──────────────┐\n",
       "│ weekly_sales      ┆ ranked_sales │\n",
       "│ ---               ┆ ---          │\n",
       "│ list[i64]         ┆ list[u32]    │\n",
       "╞═══════════════════╪══════════════╡\n",
       "│ [1200, 2500, 700] ┆ [2, 1, 3]    │\n",
       "│ [1500, 2700]      ┆ [2, 1]       │\n",
       "│ [1800, 2000, 900] ┆ [2, 1, 3]    │\n",
       "│ [1700, 2100]      ┆ [2, 1]       │\n",
       "└───────────────────┴──────────────┘"
      ]
     },
     "execution_count": 222,
     "metadata": {},
     "output_type": "execute_result"
    }
   ],
   "source": [
    "# for functions not available in the list namespace, I can use eval and use all expressions\n",
    "# inside pl.eval, I can identify the list with pl.element()\n",
    "# for example, I can rank the sales\n",
    "\n",
    "df_retail.select(\n",
    "    \"weekly_sales\",\n",
    "    ranked_sales=pl.col(\"weekly_sales\").list.eval(\n",
    "        pl.element().rank(method=\"dense\", descending=True)\n",
    "    ),\n",
    ")"
   ]
  },
  {
   "cell_type": "code",
   "execution_count": 223,
   "metadata": {},
   "outputs": [
    {
     "data": {
      "text/html": [
       "<div><style>\n",
       ".dataframe > thead > tr,\n",
       ".dataframe > tbody > tr {\n",
       "  text-align: right;\n",
       "  white-space: pre-wrap;\n",
       "}\n",
       "</style>\n",
       "<small>shape: (4, 2)</small><table border=\"1\" class=\"dataframe\"><thead><tr><th>weekly_sales</th><th>filtered_sales</th></tr><tr><td>list[i64]</td><td>list[i64]</td></tr></thead><tbody><tr><td>[1200, 2500, 700]</td><td>[2500]</td></tr><tr><td>[1500, 2700]</td><td>[2700]</td></tr><tr><td>[1800, 2000, 900]</td><td>[]</td></tr><tr><td>[1700, 2100]</td><td>[]</td></tr></tbody></table></div>"
      ],
      "text/plain": [
       "shape: (4, 2)\n",
       "┌───────────────────┬────────────────┐\n",
       "│ weekly_sales      ┆ filtered_sales │\n",
       "│ ---               ┆ ---            │\n",
       "│ list[i64]         ┆ list[i64]      │\n",
       "╞═══════════════════╪════════════════╡\n",
       "│ [1200, 2500, 700] ┆ [2500]         │\n",
       "│ [1500, 2700]      ┆ [2700]         │\n",
       "│ [1800, 2000, 900] ┆ []             │\n",
       "│ [1700, 2100]      ┆ []             │\n",
       "└───────────────────┴────────────────┘"
      ]
     },
     "execution_count": 223,
     "metadata": {},
     "output_type": "execute_result"
    }
   ],
   "source": [
    "# using pl.eval I can filter for sales equal or bigger than 2500\n",
    "# note that here I am using pl.element() twice, the first time to identify the list, the second time to identify the element\n",
    "\n",
    "df_retail.select(\n",
    "    \"weekly_sales\",\n",
    "    filtered_sales=pl.col(\"weekly_sales\").list.eval(\n",
    "        pl.element().filter(pl.element() >= 2500)\n",
    "    ),\n",
    ")"
   ]
  },
  {
   "cell_type": "markdown",
   "metadata": {},
   "source": [
    "#### String operations"
   ]
  },
  {
   "cell_type": "code",
   "execution_count": 224,
   "metadata": {},
   "outputs": [
    {
     "data": {
      "text/html": [
       "<div><style>\n",
       ".dataframe > thead > tr,\n",
       ".dataframe > tbody > tr {\n",
       "  text-align: right;\n",
       "  white-space: pre-wrap;\n",
       "}\n",
       "</style>\n",
       "<small>shape: (5, 6)</small><table border=\"1\" class=\"dataframe\"><thead><tr><th>customer_id</th><th>email</th><th>feedback</th><th>product_id</th><th>order_date</th><th>transaction_details</th></tr><tr><td>str</td><td>str</td><td>str</td><td>str</td><td>str</td><td>str</td></tr></thead><tbody><tr><td>&quot;C001&quot;</td><td>&quot;john.doe@example.com&quot;</td><td>&quot;The #PRODUCT-X1 is AMAZING. I love it.&quot;</td><td>&quot;P001&quot;</td><td>&quot;2023-06-01&quot;</td><td>&quot;{&quot;price&quot;: 200.0, &quot;shipping&quot;: {&quot;type&quot;: &quot;express&quot;, &quot;…</td></tr><tr><td>&quot;C002&quot;</td><td>&quot;sarah.connor@shopnow.com&quot;</td><td>&quot;Didn&#x27;t like #product-x2, poor quality. #Product-x1…</td><td>&quot;P002&quot;</td><td>&quot;2023-06-02&quot;</td><td>&quot;{&quot;price&quot;: 150.0, &quot;shipping&quot;: {&quot;type&quot;: &quot;standard&quot;, …</td></tr><tr><td>&quot;C003&quot;</td><td>&quot;jack.sparrow@onlineshopping.net&quot;</td><td>&quot;The #product-x1 is fantastic. Super #happy with it…</td><td>&quot;P001&quot;</td><td>&quot;2023-06-03&quot;</td><td>&quot;{&quot;price&quot;: 200.0, &quot;shipping&quot;: {&quot;type&quot;: &quot;express&quot;, &quot;…</td></tr><tr><td>&quot;C004&quot;</td><td>&quot;harry.potter@buyonline.org&quot;</td><td>&quot;The service was bad. Not happy with #PRODUCT-M1. J…</td><td>&quot;M001&quot;</td><td>&quot;2023-06-04&quot;</td><td>&quot;{&quot;price&quot;: 250.0, &quot;shipping&quot;: {&quot;type&quot;: &quot;standard&quot;, …</td></tr><tr><td>&quot;C005&quot;</td><td>&quot;lisa.simpson@webshop.com&quot;</td><td>&quot;Love #PRODUCT-X1, worth every penny!&quot;</td><td>&quot;P001&quot;</td><td>&quot;2023-06-05&quot;</td><td>&quot;{&quot;price&quot;: 200.0, &quot;shipping&quot;: {&quot;type&quot;: &quot;express&quot;, &quot;…</td></tr></tbody></table></div>"
      ],
      "text/plain": [
       "shape: (5, 6)\n",
       "┌─────────────┬───────────────────┬───────────────────┬────────────┬────────────┬──────────────────┐\n",
       "│ customer_id ┆ email             ┆ feedback          ┆ product_id ┆ order_date ┆ transaction_deta │\n",
       "│ ---         ┆ ---               ┆ ---               ┆ ---        ┆ ---        ┆ ils              │\n",
       "│ str         ┆ str               ┆ str               ┆ str        ┆ str        ┆ ---              │\n",
       "│             ┆                   ┆                   ┆            ┆            ┆ str              │\n",
       "╞═════════════╪═══════════════════╪═══════════════════╪════════════╪════════════╪══════════════════╡\n",
       "│ C001        ┆ john.doe@example. ┆ The #PRODUCT-X1   ┆ P001       ┆ 2023-06-01 ┆ {\"price\": 200.0, │\n",
       "│             ┆ com               ┆ is AMAZING. I     ┆            ┆            ┆ \"shipping\":      │\n",
       "│             ┆                   ┆ love it.          ┆            ┆            ┆ {\"type\":         │\n",
       "│             ┆                   ┆                   ┆            ┆            ┆ \"express\", \"…    │\n",
       "│ C002        ┆ sarah.connor@shop ┆ Didn't like       ┆ P002       ┆ 2023-06-02 ┆ {\"price\": 150.0, │\n",
       "│             ┆ now.com           ┆ #product-x2, poor ┆            ┆            ┆ \"shipping\":      │\n",
       "│             ┆                   ┆ quality.          ┆            ┆            ┆ {\"type\":         │\n",
       "│             ┆                   ┆ #Product-x1…      ┆            ┆            ┆ \"standard\", …    │\n",
       "│ C003        ┆ jack.sparrow@onli ┆ The #product-x1   ┆ P001       ┆ 2023-06-03 ┆ {\"price\": 200.0, │\n",
       "│             ┆ neshopping.net    ┆ is fantastic.     ┆            ┆            ┆ \"shipping\":      │\n",
       "│             ┆                   ┆ Super #happy with ┆            ┆            ┆ {\"type\":         │\n",
       "│             ┆                   ┆ it…               ┆            ┆            ┆ \"express\", \"…    │\n",
       "│ C004        ┆ harry.potter@buyo ┆ The service was   ┆ M001       ┆ 2023-06-04 ┆ {\"price\": 250.0, │\n",
       "│             ┆ nline.org         ┆ bad. Not happy    ┆            ┆            ┆ \"shipping\":      │\n",
       "│             ┆                   ┆ with #PRODUCT-M1. ┆            ┆            ┆ {\"type\":         │\n",
       "│             ┆                   ┆ J…                ┆            ┆            ┆ \"standard\", …    │\n",
       "│ C005        ┆ lisa.simpson@webs ┆ Love #PRODUCT-X1, ┆ P001       ┆ 2023-06-05 ┆ {\"price\": 200.0, │\n",
       "│             ┆ hop.com           ┆ worth every       ┆            ┆            ┆ \"shipping\":      │\n",
       "│             ┆                   ┆ penny!            ┆            ┆            ┆ {\"type\":         │\n",
       "│             ┆                   ┆                   ┆            ┆            ┆ \"express\", \"…    │\n",
       "└─────────────┴───────────────────┴───────────────────┴────────────┴────────────┴──────────────────┘"
      ]
     },
     "execution_count": 224,
     "metadata": {},
     "output_type": "execute_result"
    }
   ],
   "source": [
    "# Data\n",
    "data = {\n",
    "    \"customer_id\": [\"C001\", \"C002\", \"C003\", \"C004\", \"C005\"],\n",
    "    \"email\": [\n",
    "        \"john.doe@example.com\",\n",
    "        \"sarah.connor@shopnow.com\",\n",
    "        \"jack.sparrow@onlineshopping.net\",\n",
    "        \"harry.potter@buyonline.org\",\n",
    "        \"lisa.simpson@webshop.com\",\n",
    "    ],\n",
    "    \"feedback\": [\n",
    "        \"The #PRODUCT-X1 is AMAZING. I love it.\",\n",
    "        \"Didn't like #product-x2, poor quality. #Product-x1 is better.\",\n",
    "        \"The #product-x1 is fantastic. Super #happy with it.\",\n",
    "        \"The service was bad. Not happy with #PRODUCT-M1. Just as bad as #PRODUCT-M2.\",\n",
    "        \"Love #PRODUCT-X1, worth every penny!\",\n",
    "    ],\n",
    "    \"product_id\": [\"P001\", \"P002\", \"P001\", \"M001\", \"P001\"],\n",
    "    \"order_date\": [\n",
    "        \"2023-06-01\",\n",
    "        \"2023-06-02\",\n",
    "        \"2023-06-03\",\n",
    "        \"2023-06-04\",\n",
    "        \"2023-06-05\",\n",
    "    ],\n",
    "    \"transaction_details\": [\n",
    "        '{\"price\": 200.0, \"shipping\": {\"type\": \"express\", \"cost\": 20.0}}',\n",
    "        '{\"price\": 150.0, \"shipping\": {\"type\": \"standard\", \"cost\": 10.0}}',\n",
    "        '{\"price\": 200.0, \"shipping\": {\"type\": \"express\", \"cost\": 20.0}}',\n",
    "        '{\"price\": 250.0, \"shipping\": {\"type\": \"standard\", \"cost\": 10.0}}',\n",
    "        '{\"price\": 200.0, \"shipping\": {\"type\": \"express\", \"cost\": 20.0}}',\n",
    "    ],\n",
    "}\n",
    "\n",
    "# Create DataFrame\n",
    "df_feedback = pl.DataFrame(data)\n",
    "\n",
    "df_feedback"
   ]
  },
  {
   "cell_type": "code",
   "execution_count": 225,
   "metadata": {},
   "outputs": [
    {
     "data": {
      "text/html": [
       "<div><style>\n",
       ".dataframe > thead > tr,\n",
       ".dataframe > tbody > tr {\n",
       "  text-align: right;\n",
       "  white-space: pre-wrap;\n",
       "}\n",
       "</style>\n",
       "<small>shape: (5, 1)</small><table border=\"1\" class=\"dataframe\"><thead><tr><th>feedback</th></tr><tr><td>str</td></tr></thead><tbody><tr><td>&quot;the #product-x1 is amazing. i love it.&quot;</td></tr><tr><td>&quot;didn&#x27;t like #product-x2, poor quality. #product-x1…</td></tr><tr><td>&quot;the #product-x1 is fantastic. super #happy with it…</td></tr><tr><td>&quot;the service was bad. not happy with #product-m1. j…</td></tr><tr><td>&quot;love #product-x1, worth every penny!&quot;</td></tr></tbody></table></div>"
      ],
      "text/plain": [
       "shape: (5, 1)\n",
       "┌─────────────────────────────────────────────────────┐\n",
       "│ feedback                                            │\n",
       "│ ---                                                 │\n",
       "│ str                                                 │\n",
       "╞═════════════════════════════════════════════════════╡\n",
       "│ the #product-x1 is amazing. i love it.              │\n",
       "│ didn't like #product-x2, poor quality. #product-x1… │\n",
       "│ the #product-x1 is fantastic. super #happy with it… │\n",
       "│ the service was bad. not happy with #product-m1. j… │\n",
       "│ love #product-x1, worth every penny!                │\n",
       "└─────────────────────────────────────────────────────┘"
      ]
     },
     "execution_count": 225,
     "metadata": {},
     "output_type": "execute_result"
    }
   ],
   "source": [
    "# to lowercase\n",
    "\n",
    "df_feedback.select(\n",
    "    pl.col(\"feedback\").str.to_lowercase(),\n",
    ")"
   ]
  },
  {
   "cell_type": "code",
   "execution_count": 226,
   "metadata": {},
   "outputs": [
    {
     "data": {
      "text/html": [
       "<div><style>\n",
       ".dataframe > thead > tr,\n",
       ".dataframe > tbody > tr {\n",
       "  text-align: right;\n",
       "  white-space: pre-wrap;\n",
       "}\n",
       "</style>\n",
       "<small>shape: (2, 6)</small><table border=\"1\" class=\"dataframe\"><thead><tr><th>customer_id</th><th>email</th><th>feedback</th><th>product_id</th><th>order_date</th><th>transaction_details</th></tr><tr><td>str</td><td>str</td><td>str</td><td>str</td><td>str</td><td>str</td></tr></thead><tbody><tr><td>&quot;C002&quot;</td><td>&quot;sarah.connor@shopnow.com&quot;</td><td>&quot;Didn&#x27;t like #product-x2, poor quality. #Product-x1…</td><td>&quot;P002&quot;</td><td>&quot;2023-06-02&quot;</td><td>&quot;{&quot;price&quot;: 150.0, &quot;shipping&quot;: {&quot;type&quot;: &quot;standard&quot;, …</td></tr><tr><td>&quot;C004&quot;</td><td>&quot;harry.potter@buyonline.org&quot;</td><td>&quot;The service was bad. Not happy with #PRODUCT-M1. J…</td><td>&quot;M001&quot;</td><td>&quot;2023-06-04&quot;</td><td>&quot;{&quot;price&quot;: 250.0, &quot;shipping&quot;: {&quot;type&quot;: &quot;standard&quot;, …</td></tr></tbody></table></div>"
      ],
      "text/plain": [
       "shape: (2, 6)\n",
       "┌─────────────┬───────────────────┬───────────────────┬────────────┬────────────┬──────────────────┐\n",
       "│ customer_id ┆ email             ┆ feedback          ┆ product_id ┆ order_date ┆ transaction_deta │\n",
       "│ ---         ┆ ---               ┆ ---               ┆ ---        ┆ ---        ┆ ils              │\n",
       "│ str         ┆ str               ┆ str               ┆ str        ┆ str        ┆ ---              │\n",
       "│             ┆                   ┆                   ┆            ┆            ┆ str              │\n",
       "╞═════════════╪═══════════════════╪═══════════════════╪════════════╪════════════╪══════════════════╡\n",
       "│ C002        ┆ sarah.connor@shop ┆ Didn't like       ┆ P002       ┆ 2023-06-02 ┆ {\"price\": 150.0, │\n",
       "│             ┆ now.com           ┆ #product-x2, poor ┆            ┆            ┆ \"shipping\":      │\n",
       "│             ┆                   ┆ quality.          ┆            ┆            ┆ {\"type\":         │\n",
       "│             ┆                   ┆ #Product-x1…      ┆            ┆            ┆ \"standard\", …    │\n",
       "│ C004        ┆ harry.potter@buyo ┆ The service was   ┆ M001       ┆ 2023-06-04 ┆ {\"price\": 250.0, │\n",
       "│             ┆ nline.org         ┆ bad. Not happy    ┆            ┆            ┆ \"shipping\":      │\n",
       "│             ┆                   ┆ with #PRODUCT-M1. ┆            ┆            ┆ {\"type\":         │\n",
       "│             ┆                   ┆ J…                ┆            ┆            ┆ \"standard\", …    │\n",
       "└─────────────┴───────────────────┴───────────────────┴────────────┴────────────┴──────────────────┘"
      ]
     },
     "execution_count": 226,
     "metadata": {},
     "output_type": "execute_result"
    }
   ],
   "source": [
    "# filter for rows containing 'service' or 'quality'\n",
    "\n",
    "df_feedback.filter(pl.col(\"feedback\").str.contains(\"service|quality\"))"
   ]
  },
  {
   "cell_type": "code",
   "execution_count": 227,
   "metadata": {},
   "outputs": [
    {
     "data": {
      "text/html": [
       "<div><style>\n",
       ".dataframe > thead > tr,\n",
       ".dataframe > tbody > tr {\n",
       "  text-align: right;\n",
       "  white-space: pre-wrap;\n",
       "}\n",
       "</style>\n",
       "<small>shape: (1, 6)</small><table border=\"1\" class=\"dataframe\"><thead><tr><th>customer_id</th><th>email</th><th>feedback</th><th>product_id</th><th>order_date</th><th>transaction_details</th></tr><tr><td>str</td><td>str</td><td>str</td><td>str</td><td>str</td><td>str</td></tr></thead><tbody><tr><td>&quot;C004&quot;</td><td>&quot;harry.potter@buyonline.org&quot;</td><td>&quot;The service was bad. Not happy with #PRODUCT-M1. J…</td><td>&quot;M001&quot;</td><td>&quot;2023-06-04&quot;</td><td>&quot;{&quot;price&quot;: 250.0, &quot;shipping&quot;: {&quot;type&quot;: &quot;standard&quot;, …</td></tr></tbody></table></div>"
      ],
      "text/plain": [
       "shape: (1, 6)\n",
       "┌─────────────┬───────────────────┬───────────────────┬────────────┬────────────┬──────────────────┐\n",
       "│ customer_id ┆ email             ┆ feedback          ┆ product_id ┆ order_date ┆ transaction_deta │\n",
       "│ ---         ┆ ---               ┆ ---               ┆ ---        ┆ ---        ┆ ils              │\n",
       "│ str         ┆ str               ┆ str               ┆ str        ┆ str        ┆ ---              │\n",
       "│             ┆                   ┆                   ┆            ┆            ┆ str              │\n",
       "╞═════════════╪═══════════════════╪═══════════════════╪════════════╪════════════╪══════════════════╡\n",
       "│ C004        ┆ harry.potter@buyo ┆ The service was   ┆ M001       ┆ 2023-06-04 ┆ {\"price\": 250.0, │\n",
       "│             ┆ nline.org         ┆ bad. Not happy    ┆            ┆            ┆ \"shipping\":      │\n",
       "│             ┆                   ┆ with #PRODUCT-M1. ┆            ┆            ┆ {\"type\":         │\n",
       "│             ┆                   ┆ J…                ┆            ┆            ┆ \"standard\", …    │\n",
       "└─────────────┴───────────────────┴───────────────────┴────────────┴────────────┴──────────────────┘"
      ]
     },
     "execution_count": 227,
     "metadata": {},
     "output_type": "execute_result"
    }
   ],
   "source": [
    "# filter for products starting with 'M'\n",
    "\n",
    "df_feedback.filter(pl.col(\"product_id\").str.starts_with(\"M\"))"
   ]
  },
  {
   "cell_type": "code",
   "execution_count": 228,
   "metadata": {},
   "outputs": [
    {
     "data": {
      "text/html": [
       "<div><style>\n",
       ".dataframe > thead > tr,\n",
       ".dataframe > tbody > tr {\n",
       "  text-align: right;\n",
       "  white-space: pre-wrap;\n",
       "}\n",
       "</style>\n",
       "<small>shape: (5, 1)</small><table border=\"1\" class=\"dataframe\"><thead><tr><th>hashtags</th></tr><tr><td>list[str]</td></tr></thead><tbody><tr><td>[&quot;#PRODUCT-X1&quot;]</td></tr><tr><td>[&quot;#product-x2&quot;, &quot;#Product-x1&quot;]</td></tr><tr><td>[&quot;#product-x1&quot;, &quot;#happy&quot;]</td></tr><tr><td>[&quot;#PRODUCT-M1&quot;, &quot;#PRODUCT-M2&quot;]</td></tr><tr><td>[&quot;#PRODUCT-X1&quot;]</td></tr></tbody></table></div>"
      ],
      "text/plain": [
       "shape: (5, 1)\n",
       "┌────────────────────────────────┐\n",
       "│ hashtags                       │\n",
       "│ ---                            │\n",
       "│ list[str]                      │\n",
       "╞════════════════════════════════╡\n",
       "│ [\"#PRODUCT-X1\"]                │\n",
       "│ [\"#product-x2\", \"#Product-x1\"] │\n",
       "│ [\"#product-x1\", \"#happy\"]      │\n",
       "│ [\"#PRODUCT-M1\", \"#PRODUCT-M2\"] │\n",
       "│ [\"#PRODUCT-X1\"]                │\n",
       "└────────────────────────────────┘"
      ]
     },
     "execution_count": 228,
     "metadata": {},
     "output_type": "execute_result"
    }
   ],
   "source": [
    "# Extract tags the feedback column using Regex\n",
    "\n",
    "df_feedback.select(hashtags=pl.col(\"feedback\").str.extract_all(r\"(?i)#([\\w\\d-]+)\"))"
   ]
  },
  {
   "cell_type": "code",
   "execution_count": 229,
   "metadata": {},
   "outputs": [
    {
     "data": {
      "text/html": [
       "<div><style>\n",
       ".dataframe > thead > tr,\n",
       ".dataframe > tbody > tr {\n",
       "  text-align: right;\n",
       "  white-space: pre-wrap;\n",
       "}\n",
       "</style>\n",
       "<small>shape: (5, 1)</small><table border=\"1\" class=\"dataframe\"><thead><tr><th>hashtags</th></tr><tr><td>list[str]</td></tr></thead><tbody><tr><td>[&quot;#product-x1&quot;]</td></tr><tr><td>[&quot;#product-x2&quot;, &quot;#product-x1&quot;]</td></tr><tr><td>[&quot;#product-x1&quot;, &quot;#happy&quot;]</td></tr><tr><td>[&quot;#product-m1&quot;, &quot;#product-m2&quot;]</td></tr><tr><td>[&quot;#product-x1&quot;]</td></tr></tbody></table></div>"
      ],
      "text/plain": [
       "shape: (5, 1)\n",
       "┌────────────────────────────────┐\n",
       "│ hashtags                       │\n",
       "│ ---                            │\n",
       "│ list[str]                      │\n",
       "╞════════════════════════════════╡\n",
       "│ [\"#product-x1\"]                │\n",
       "│ [\"#product-x2\", \"#product-x1\"] │\n",
       "│ [\"#product-x1\", \"#happy\"]      │\n",
       "│ [\"#product-m1\", \"#product-m2\"] │\n",
       "│ [\"#product-x1\"]                │\n",
       "└────────────────────────────────┘"
      ]
     },
     "execution_count": 229,
     "metadata": {},
     "output_type": "execute_result"
    }
   ],
   "source": [
    "# Extract tags the feedback column using Regex and convert to lowercase\n",
    "\n",
    "df_feedback.select(\n",
    "    hashtags=pl.col(\"feedback\")\n",
    "    .str.extract_all(r\"(?i)#([\\w\\d-]+)\")\n",
    "    .list.eval(pl.element().str.to_lowercase())\n",
    ")"
   ]
  },
  {
   "cell_type": "code",
   "execution_count": 230,
   "metadata": {},
   "outputs": [
    {
     "data": {
      "text/html": [
       "<div><style>\n",
       ".dataframe > thead > tr,\n",
       ".dataframe > tbody > tr {\n",
       "  text-align: right;\n",
       "  white-space: pre-wrap;\n",
       "}\n",
       "</style>\n",
       "<small>shape: (5, 1)</small><table border=\"1\" class=\"dataframe\"><thead><tr><th>email_sanitized</th></tr><tr><td>str</td></tr></thead><tbody><tr><td>&quot;jo@example.com&quot;</td></tr><tr><td>&quot;sa@shopnow.com&quot;</td></tr><tr><td>&quot;ja@onlineshopping.net&quot;</td></tr><tr><td>&quot;ha@buyonline.org&quot;</td></tr><tr><td>&quot;li@webshop.com&quot;</td></tr></tbody></table></div>"
      ],
      "text/plain": [
       "shape: (5, 1)\n",
       "┌───────────────────────┐\n",
       "│ email_sanitized       │\n",
       "│ ---                   │\n",
       "│ str                   │\n",
       "╞═══════════════════════╡\n",
       "│ jo@example.com        │\n",
       "│ sa@shopnow.com        │\n",
       "│ ja@onlineshopping.net │\n",
       "│ ha@buyonline.org      │\n",
       "│ li@webshop.com        │\n",
       "└───────────────────────┘"
      ]
     },
     "execution_count": 230,
     "metadata": {},
     "output_type": "execute_result"
    }
   ],
   "source": [
    "# keep only 2 characters to hide confidential information\n",
    "\n",
    "df_feedback.select(\n",
    "    email_sanitized=pl.col(\"email\").str.replace(r\"^(..).*(@.*)$\", r\"$1$2\")\n",
    ")"
   ]
  },
  {
   "cell_type": "code",
   "execution_count": 231,
   "metadata": {},
   "outputs": [
    {
     "data": {
      "text/html": [
       "<div><style>\n",
       ".dataframe > thead > tr,\n",
       ".dataframe > tbody > tr {\n",
       "  text-align: right;\n",
       "  white-space: pre-wrap;\n",
       "}\n",
       "</style>\n",
       "<small>shape: (5, 1)</small><table border=\"1\" class=\"dataframe\"><thead><tr><th>email_sanitized</th></tr><tr><td>u64</td></tr></thead><tbody><tr><td>3716356430663396929</td></tr><tr><td>16925181968104229187</td></tr><tr><td>11860107049750707255</td></tr><tr><td>7215484579799054672</td></tr><tr><td>7584526847076819254</td></tr></tbody></table></div>"
      ],
      "text/plain": [
       "shape: (5, 1)\n",
       "┌──────────────────────┐\n",
       "│ email_sanitized      │\n",
       "│ ---                  │\n",
       "│ u64                  │\n",
       "╞══════════════════════╡\n",
       "│ 3716356430663396929  │\n",
       "│ 16925181968104229187 │\n",
       "│ 11860107049750707255 │\n",
       "│ 7215484579799054672  │\n",
       "│ 7584526847076819254  │\n",
       "└──────────────────────┘"
      ]
     },
     "execution_count": 231,
     "metadata": {},
     "output_type": "execute_result"
    }
   ],
   "source": [
    "# another way to hide confidential information is to use a hash function\n",
    "# careful: hashing is vulnerable to a brute force attack so it does not guarantee confidentiality\n",
    "\n",
    "df_feedback.select(email_sanitized=pl.col(\"email\").hash())"
   ]
  },
  {
   "cell_type": "code",
   "execution_count": 232,
   "metadata": {},
   "outputs": [
    {
     "data": {
      "text/html": [
       "<div><style>\n",
       ".dataframe > thead > tr,\n",
       ".dataframe > tbody > tr {\n",
       "  text-align: right;\n",
       "  white-space: pre-wrap;\n",
       "}\n",
       "</style>\n",
       "<small>shape: (5, 2)</small><table border=\"1\" class=\"dataframe\"><thead><tr><th>username</th><th>domain</th></tr><tr><td>str</td><td>str</td></tr></thead><tbody><tr><td>&quot;john.doe&quot;</td><td>&quot;example.com&quot;</td></tr><tr><td>&quot;sarah.connor&quot;</td><td>&quot;shopnow.com&quot;</td></tr><tr><td>&quot;jack.sparrow&quot;</td><td>&quot;onlineshopping.net&quot;</td></tr><tr><td>&quot;harry.potter&quot;</td><td>&quot;buyonline.org&quot;</td></tr><tr><td>&quot;lisa.simpson&quot;</td><td>&quot;webshop.com&quot;</td></tr></tbody></table></div>"
      ],
      "text/plain": [
       "shape: (5, 2)\n",
       "┌──────────────┬────────────────────┐\n",
       "│ username     ┆ domain             │\n",
       "│ ---          ┆ ---                │\n",
       "│ str          ┆ str                │\n",
       "╞══════════════╪════════════════════╡\n",
       "│ john.doe     ┆ example.com        │\n",
       "│ sarah.connor ┆ shopnow.com        │\n",
       "│ jack.sparrow ┆ onlineshopping.net │\n",
       "│ harry.potter ┆ buyonline.org      │\n",
       "│ lisa.simpson ┆ webshop.com        │\n",
       "└──────────────┴────────────────────┘"
      ]
     },
     "execution_count": 232,
     "metadata": {},
     "output_type": "execute_result"
    }
   ],
   "source": [
    "# we can split the email between the username and the domain\n",
    "\n",
    "df_feedback.select(\n",
    "    username=pl.col(\"email\").str.split(\"@\").list.get(0),\n",
    "    domain=pl.col(\"email\").str.split(\"@\").list.get(1),\n",
    ")"
   ]
  },
  {
   "cell_type": "code",
   "execution_count": 233,
   "metadata": {},
   "outputs": [
    {
     "data": {
      "text/html": [
       "<div><style>\n",
       ".dataframe > thead > tr,\n",
       ".dataframe > tbody > tr {\n",
       "  text-align: right;\n",
       "  white-space: pre-wrap;\n",
       "}\n",
       "</style>\n",
       "<small>shape: (5, 1)</small><table border=\"1\" class=\"dataframe\"><thead><tr><th>transaction_details_as_struct</th></tr><tr><td>struct[2]</td></tr></thead><tbody><tr><td>{200.0,{&quot;express&quot;,20.0}}</td></tr><tr><td>{150.0,{&quot;standard&quot;,10.0}}</td></tr><tr><td>{200.0,{&quot;express&quot;,20.0}}</td></tr><tr><td>{250.0,{&quot;standard&quot;,10.0}}</td></tr><tr><td>{200.0,{&quot;express&quot;,20.0}}</td></tr></tbody></table></div>"
      ],
      "text/plain": [
       "shape: (5, 1)\n",
       "┌───────────────────────────────┐\n",
       "│ transaction_details_as_struct │\n",
       "│ ---                           │\n",
       "│ struct[2]                     │\n",
       "╞═══════════════════════════════╡\n",
       "│ {200.0,{\"express\",20.0}}      │\n",
       "│ {150.0,{\"standard\",10.0}}     │\n",
       "│ {200.0,{\"express\",20.0}}      │\n",
       "│ {250.0,{\"standard\",10.0}}     │\n",
       "│ {200.0,{\"express\",20.0}}      │\n",
       "└───────────────────────────────┘"
      ]
     },
     "execution_count": 233,
     "metadata": {},
     "output_type": "execute_result"
    }
   ],
   "source": [
    "# we can convert the transaction details column from a JSON to a struct\n",
    "\n",
    "df_feedback.select(\n",
    "    transaction_details_as_struct=pl.col(\"transaction_details\").str.json_decode()\n",
    ")"
   ]
  },
  {
   "cell_type": "code",
   "execution_count": 234,
   "metadata": {},
   "outputs": [
    {
     "data": {
      "text/html": [
       "<div><style>\n",
       ".dataframe > thead > tr,\n",
       ".dataframe > tbody > tr {\n",
       "  text-align: right;\n",
       "  white-space: pre-wrap;\n",
       "}\n",
       "</style>\n",
       "<small>shape: (5, 2)</small><table border=\"1\" class=\"dataframe\"><thead><tr><th>price</th><th>shipping_cost</th></tr><tr><td>f64</td><td>f64</td></tr></thead><tbody><tr><td>200.0</td><td>20.0</td></tr><tr><td>150.0</td><td>10.0</td></tr><tr><td>200.0</td><td>20.0</td></tr><tr><td>250.0</td><td>10.0</td></tr><tr><td>200.0</td><td>20.0</td></tr></tbody></table></div>"
      ],
      "text/plain": [
       "shape: (5, 2)\n",
       "┌───────┬───────────────┐\n",
       "│ price ┆ shipping_cost │\n",
       "│ ---   ┆ ---           │\n",
       "│ f64   ┆ f64           │\n",
       "╞═══════╪═══════════════╡\n",
       "│ 200.0 ┆ 20.0          │\n",
       "│ 150.0 ┆ 10.0          │\n",
       "│ 200.0 ┆ 20.0          │\n",
       "│ 250.0 ┆ 10.0          │\n",
       "│ 200.0 ┆ 20.0          │\n",
       "└───────┴───────────────┘"
      ]
     },
     "execution_count": 234,
     "metadata": {},
     "output_type": "execute_result"
    }
   ],
   "source": [
    "# once the column is converted, we can access the price and shipping cost\n",
    "\n",
    "df_feedback.select(\n",
    "    transaction_details_as_struct=pl.col(\"transaction_details\").str.json_decode()\n",
    ").select(\n",
    "    price=pl.col(\"transaction_details_as_struct\").struct.field(\"price\"),\n",
    "    shipping_cost=pl.col(\"transaction_details_as_struct\")\n",
    "    .struct.field(\"shipping\")\n",
    "    .struct.field(\"cost\"),\n",
    ")"
   ]
  },
  {
   "cell_type": "markdown",
   "metadata": {},
   "source": [
    "#### Time operations"
   ]
  },
  {
   "cell_type": "code",
   "execution_count": 235,
   "metadata": {},
   "outputs": [],
   "source": [
    "nypd = pl.read_parquet(\"../datasets/nypd_crimes_from_2018.parquet\")"
   ]
  },
  {
   "cell_type": "code",
   "execution_count": 236,
   "metadata": {},
   "outputs": [
    {
     "data": {
      "text/html": [
       "<div><style>\n",
       ".dataframe > thead > tr,\n",
       ".dataframe > tbody > tr {\n",
       "  text-align: right;\n",
       "  white-space: pre-wrap;\n",
       "}\n",
       "</style>\n",
       "<small>shape: (3, 6)</small><table border=\"1\" class=\"dataframe\"><thead><tr><th>complaint_datetime</th><th>complaint_id</th><th>precinct</th><th>borough</th><th>crime_category</th><th>crime_description</th></tr><tr><td>str</td><td>str</td><td>i64</td><td>str</td><td>str</td><td>str</td></tr></thead><tbody><tr><td>&quot;2019-09-04 09:00:00&quot;</td><td>&quot;469069650&quot;</td><td>9</td><td>&quot;MANHATTAN&quot;</td><td>&quot;MISDEMEANOR&quot;</td><td>&quot;LARCENY,PETIT FROM AUTO&quot;</td></tr><tr><td>&quot;2019-08-31 18:58:00&quot;</td><td>&quot;629841380&quot;</td><td>50</td><td>&quot;BRONX&quot;</td><td>&quot;MISDEMEANOR&quot;</td><td>&quot;LARCENY,PETIT OF BICYCLE&quot;</td></tr><tr><td>&quot;2019-09-07 22:00:00&quot;</td><td>&quot;224389328&quot;</td><td>19</td><td>&quot;MANHATTAN&quot;</td><td>&quot;MISDEMEANOR&quot;</td><td>&quot;LARCENY,PETIT FROM STORE-SHOPL&quot;</td></tr></tbody></table></div>"
      ],
      "text/plain": [
       "shape: (3, 6)\n",
       "┌─────────────────────┬──────────────┬──────────┬───────────┬────────────────┬─────────────────────┐\n",
       "│ complaint_datetime  ┆ complaint_id ┆ precinct ┆ borough   ┆ crime_category ┆ crime_description   │\n",
       "│ ---                 ┆ ---          ┆ ---      ┆ ---       ┆ ---            ┆ ---                 │\n",
       "│ str                 ┆ str          ┆ i64      ┆ str       ┆ str            ┆ str                 │\n",
       "╞═════════════════════╪══════════════╪══════════╪═══════════╪════════════════╪═════════════════════╡\n",
       "│ 2019-09-04 09:00:00 ┆ 469069650    ┆ 9        ┆ MANHATTAN ┆ MISDEMEANOR    ┆ LARCENY,PETIT FROM  │\n",
       "│                     ┆              ┆          ┆           ┆                ┆ AUTO                │\n",
       "│ 2019-08-31 18:58:00 ┆ 629841380    ┆ 50       ┆ BRONX     ┆ MISDEMEANOR    ┆ LARCENY,PETIT OF    │\n",
       "│                     ┆              ┆          ┆           ┆                ┆ BICYCLE             │\n",
       "│ 2019-09-07 22:00:00 ┆ 224389328    ┆ 19       ┆ MANHATTAN ┆ MISDEMEANOR    ┆ LARCENY,PETIT FROM  │\n",
       "│                     ┆              ┆          ┆           ┆                ┆ STORE-SHOPL         │\n",
       "└─────────────────────┴──────────────┴──────────┴───────────┴────────────────┴─────────────────────┘"
      ]
     },
     "execution_count": 236,
     "metadata": {},
     "output_type": "execute_result"
    }
   ],
   "source": [
    "nypd.head(3)"
   ]
  },
  {
   "cell_type": "code",
   "execution_count": 237,
   "metadata": {},
   "outputs": [],
   "source": [
    "# We parse the datetime column to a datetime type\n",
    "\n",
    "nypd = nypd.with_columns(\n",
    "    pl.col(\"complaint_datetime\").str.to_datetime(\"%Y-%m-%d %H:%M:%S\")\n",
    ")"
   ]
  },
  {
   "cell_type": "code",
   "execution_count": 238,
   "metadata": {},
   "outputs": [
    {
     "data": {
      "text/html": [
       "<div><style>\n",
       ".dataframe > thead > tr,\n",
       ".dataframe > tbody > tr {\n",
       "  text-align: right;\n",
       "  white-space: pre-wrap;\n",
       "}\n",
       "</style>\n",
       "<small>shape: (3, 6)</small><table border=\"1\" class=\"dataframe\"><thead><tr><th>complaint_datetime</th><th>complaint_id</th><th>precinct</th><th>borough</th><th>crime_category</th><th>crime_description</th></tr><tr><td>datetime[μs]</td><td>str</td><td>i64</td><td>str</td><td>str</td><td>str</td></tr></thead><tbody><tr><td>2020-06-05 20:20:00</td><td>&quot;314830920&quot;</td><td>75</td><td>null</td><td>&quot;FELONY&quot;</td><td>null</td></tr><tr><td>2021-05-17 10:00:00</td><td>&quot;473765131&quot;</td><td>46</td><td>&quot;BRONX&quot;</td><td>&quot;MISDEMEANOR&quot;</td><td>&quot;PETIT LARCENY-CHECK FROM MAILB&quot;</td></tr><tr><td>2021-05-29 23:10:00</td><td>&quot;251337835&quot;</td><td>63</td><td>&quot;BROOKLYN&quot;</td><td>&quot;MISDEMEANOR&quot;</td><td>&quot;FORGERY,ETC.-MISD.&quot;</td></tr></tbody></table></div>"
      ],
      "text/plain": [
       "shape: (3, 6)\n",
       "┌─────────────────────┬──────────────┬──────────┬──────────┬────────────────┬──────────────────────┐\n",
       "│ complaint_datetime  ┆ complaint_id ┆ precinct ┆ borough  ┆ crime_category ┆ crime_description    │\n",
       "│ ---                 ┆ ---          ┆ ---      ┆ ---      ┆ ---            ┆ ---                  │\n",
       "│ datetime[μs]        ┆ str          ┆ i64      ┆ str      ┆ str            ┆ str                  │\n",
       "╞═════════════════════╪══════════════╪══════════╪══════════╪════════════════╪══════════════════════╡\n",
       "│ 2020-06-05 20:20:00 ┆ 314830920    ┆ 75       ┆ null     ┆ FELONY         ┆ null                 │\n",
       "│ 2021-05-17 10:00:00 ┆ 473765131    ┆ 46       ┆ BRONX    ┆ MISDEMEANOR    ┆ PETIT LARCENY-CHECK  │\n",
       "│                     ┆              ┆          ┆          ┆                ┆ FROM MAILB           │\n",
       "│ 2021-05-29 23:10:00 ┆ 251337835    ┆ 63       ┆ BROOKLYN ┆ MISDEMEANOR    ┆ FORGERY,ETC.-MISD.   │\n",
       "└─────────────────────┴──────────────┴──────────┴──────────┴────────────────┴──────────────────────┘"
      ]
     },
     "execution_count": 238,
     "metadata": {},
     "output_type": "execute_result"
    }
   ],
   "source": [
    "# We can filter for specific dates with the datetime Python package\n",
    "\n",
    "from datetime import datetime\n",
    "\n",
    "nypd.filter(pl.col(\"complaint_datetime\") >= datetime(2020, 1, 1)).head(3)"
   ]
  },
  {
   "cell_type": "code",
   "execution_count": 239,
   "metadata": {},
   "outputs": [
    {
     "data": {
      "text/html": [
       "<div><style>\n",
       ".dataframe > thead > tr,\n",
       ".dataframe > tbody > tr {\n",
       "  text-align: right;\n",
       "  white-space: pre-wrap;\n",
       "}\n",
       "</style>\n",
       "<small>shape: (5, 6)</small><table border=\"1\" class=\"dataframe\"><thead><tr><th>complaint_datetime</th><th>complaint_id</th><th>precinct</th><th>borough</th><th>crime_category</th><th>crime_description</th></tr><tr><td>datetime[μs]</td><td>str</td><td>i64</td><td>str</td><td>str</td><td>str</td></tr></thead><tbody><tr><td>2020-01-02 14:45:00</td><td>&quot;591348983&quot;</td><td>18</td><td>&quot;MANHATTAN&quot;</td><td>&quot;FELONY&quot;</td><td>&quot;ROBBERY,OPEN AREA UNCLASSIFIED&quot;</td></tr><tr><td>2020-01-03 15:33:00</td><td>&quot;211105656&quot;</td><td>44</td><td>&quot;BRONX&quot;</td><td>&quot;MISDEMEANOR&quot;</td><td>&quot;LARCENY,PETIT BY CREDIT CARD U&quot;</td></tr><tr><td>2020-01-07 11:20:00</td><td>&quot;364136331&quot;</td><td>71</td><td>&quot;BROOKLYN&quot;</td><td>&quot;VIOLATION&quot;</td><td>&quot;HARASSMENT,SUBD 3,4,5&quot;</td></tr><tr><td>2020-01-02 17:28:00</td><td>&quot;587143439&quot;</td><td>42</td><td>&quot;BRONX&quot;</td><td>&quot;FELONY&quot;</td><td>&quot;CONTROLLED SUBSTANCE,INTENT TO&quot;</td></tr><tr><td>2020-01-03 06:55:00</td><td>&quot;669190911&quot;</td><td>50</td><td>&quot;BRONX&quot;</td><td>&quot;MISDEMEANOR&quot;</td><td>&quot;LEAVING SCENE-ACCIDENT-PERSONA&quot;</td></tr></tbody></table></div>"
      ],
      "text/plain": [
       "shape: (5, 6)\n",
       "┌─────────────────────┬──────────────┬──────────┬───────────┬────────────────┬─────────────────────┐\n",
       "│ complaint_datetime  ┆ complaint_id ┆ precinct ┆ borough   ┆ crime_category ┆ crime_description   │\n",
       "│ ---                 ┆ ---          ┆ ---      ┆ ---       ┆ ---            ┆ ---                 │\n",
       "│ datetime[μs]        ┆ str          ┆ i64      ┆ str       ┆ str            ┆ str                 │\n",
       "╞═════════════════════╪══════════════╪══════════╪═══════════╪════════════════╪═════════════════════╡\n",
       "│ 2020-01-02 14:45:00 ┆ 591348983    ┆ 18       ┆ MANHATTAN ┆ FELONY         ┆ ROBBERY,OPEN AREA   │\n",
       "│                     ┆              ┆          ┆           ┆                ┆ UNCLASSIFIED        │\n",
       "│ 2020-01-03 15:33:00 ┆ 211105656    ┆ 44       ┆ BRONX     ┆ MISDEMEANOR    ┆ LARCENY,PETIT BY    │\n",
       "│                     ┆              ┆          ┆           ┆                ┆ CREDIT CARD U       │\n",
       "│ 2020-01-07 11:20:00 ┆ 364136331    ┆ 71       ┆ BROOKLYN  ┆ VIOLATION      ┆ HARASSMENT,SUBD     │\n",
       "│                     ┆              ┆          ┆           ┆                ┆ 3,4,5               │\n",
       "│ 2020-01-02 17:28:00 ┆ 587143439    ┆ 42       ┆ BRONX     ┆ FELONY         ┆ CONTROLLED          │\n",
       "│                     ┆              ┆          ┆           ┆                ┆ SUBSTANCE,INTENT TO │\n",
       "│ 2020-01-03 06:55:00 ┆ 669190911    ┆ 50       ┆ BRONX     ┆ MISDEMEANOR    ┆ LEAVING SCENE-ACCID │\n",
       "│                     ┆              ┆          ┆           ┆                ┆ ENT-PERSONA         │\n",
       "└─────────────────────┴──────────────┴──────────┴───────────┴────────────────┴─────────────────────┘"
      ]
     },
     "execution_count": 239,
     "metadata": {},
     "output_type": "execute_result"
    }
   ],
   "source": [
    "# We can filter for date ranges using the is_between method\n",
    "\n",
    "nypd.filter(\n",
    "    pl.col(\"complaint_datetime\").is_between(datetime(2020, 1, 1), datetime(2020, 1, 10))\n",
    ").head(5)"
   ]
  },
  {
   "cell_type": "code",
   "execution_count": 240,
   "metadata": {},
   "outputs": [
    {
     "name": "stderr",
     "output_type": "stream",
     "text": [
      "/tmp/ipykernel_66217/1224254659.py:4: DeprecationWarning:\n",
      "\n",
      "`GroupBy.count` is deprecated. It has been renamed to `len`.\n",
      "\n"
     ]
    },
    {
     "data": {
      "text/html": [
       "<div><style>\n",
       ".dataframe > thead > tr,\n",
       ".dataframe > tbody > tr {\n",
       "  text-align: right;\n",
       "  white-space: pre-wrap;\n",
       "}\n",
       "</style>\n",
       "<small>shape: (5, 2)</small><table border=\"1\" class=\"dataframe\"><thead><tr><th>year</th><th>count</th></tr><tr><td>i32</td><td>u32</td></tr></thead><tbody><tr><td>2022</td><td>520595</td></tr><tr><td>2019</td><td>458805</td></tr><tr><td>2020</td><td>413181</td></tr><tr><td>2021</td><td>448083</td></tr><tr><td>2018</td><td>462471</td></tr></tbody></table></div>"
      ],
      "text/plain": [
       "shape: (5, 2)\n",
       "┌──────┬────────┐\n",
       "│ year ┆ count  │\n",
       "│ ---  ┆ ---    │\n",
       "│ i32  ┆ u32    │\n",
       "╞══════╪════════╡\n",
       "│ 2022 ┆ 520595 │\n",
       "│ 2019 ┆ 458805 │\n",
       "│ 2020 ┆ 413181 │\n",
       "│ 2021 ┆ 448083 │\n",
       "│ 2018 ┆ 462471 │\n",
       "└──────┴────────┘"
      ]
     },
     "execution_count": 240,
     "metadata": {},
     "output_type": "execute_result"
    }
   ],
   "source": [
    "# With the column parsed to a datetime type, we can extract the year, month, day, etc.\n",
    "# Count of crimes per year\n",
    "\n",
    "nypd.group_by(pl.col(\"complaint_datetime\").dt.year().alias(\"year\")).count()"
   ]
  },
  {
   "cell_type": "code",
   "execution_count": 241,
   "metadata": {},
   "outputs": [
    {
     "data": {
      "text/html": [
       "<div><style>\n",
       ".dataframe > thead > tr,\n",
       ".dataframe > tbody > tr {\n",
       "  text-align: right;\n",
       "  white-space: pre-wrap;\n",
       "}\n",
       "</style>\n",
       "<small>shape: (5, 2)</small><table border=\"1\" class=\"dataframe\"><thead><tr><th>week</th><th>count</th></tr><tr><td>i8</td><td>u32</td></tr></thead><tbody><tr><td>37</td><td>47729</td></tr><tr><td>38</td><td>47481</td></tr><tr><td>44</td><td>47326</td></tr><tr><td>31</td><td>47156</td></tr><tr><td>27</td><td>47117</td></tr></tbody></table></div>"
      ],
      "text/plain": [
       "shape: (5, 2)\n",
       "┌──────┬───────┐\n",
       "│ week ┆ count │\n",
       "│ ---  ┆ ---   │\n",
       "│ i8   ┆ u32   │\n",
       "╞══════╪═══════╡\n",
       "│ 37   ┆ 47729 │\n",
       "│ 38   ┆ 47481 │\n",
       "│ 44   ┆ 47326 │\n",
       "│ 31   ┆ 47156 │\n",
       "│ 27   ┆ 47117 │\n",
       "└──────┴───────┘"
      ]
     },
     "execution_count": 241,
     "metadata": {},
     "output_type": "execute_result"
    }
   ],
   "source": [
    "# Count of crimes per week of the year, show the 5 weeks with the most crimes\n",
    "\n",
    "(\n",
    "    nypd.group_by(pl.col(\"complaint_datetime\").dt.week().alias(\"week\"))\n",
    "    .len(name=\"count\")\n",
    "    .sort(\"count\", descending=True)\n",
    "    .head(5)\n",
    ")"
   ]
  },
  {
   "cell_type": "code",
   "execution_count": 242,
   "metadata": {},
   "outputs": [
    {
     "data": {
      "text/html": [
       "<div><style>\n",
       ".dataframe > thead > tr,\n",
       ".dataframe > tbody > tr {\n",
       "  text-align: right;\n",
       "  white-space: pre-wrap;\n",
       "}\n",
       "</style>\n",
       "<small>shape: (5, 9)</small><table border=\"1\" class=\"dataframe\"><thead><tr><th>complaint_datetime</th><th>complaint_id</th><th>precinct</th><th>borough</th><th>crime_category</th><th>crime_description</th><th>day_of_week</th><th>day_of_month</th><th>day_of_year</th></tr><tr><td>datetime[μs]</td><td>str</td><td>i64</td><td>str</td><td>str</td><td>str</td><td>i8</td><td>i8</td><td>i16</td></tr></thead><tbody><tr><td>2019-09-04 09:00:00</td><td>&quot;469069650&quot;</td><td>9</td><td>&quot;MANHATTAN&quot;</td><td>&quot;MISDEMEANOR&quot;</td><td>&quot;LARCENY,PETIT FROM AUTO&quot;</td><td>3</td><td>4</td><td>247</td></tr><tr><td>2019-08-31 18:58:00</td><td>&quot;629841380&quot;</td><td>50</td><td>&quot;BRONX&quot;</td><td>&quot;MISDEMEANOR&quot;</td><td>&quot;LARCENY,PETIT OF BICYCLE&quot;</td><td>6</td><td>31</td><td>243</td></tr><tr><td>2019-09-07 22:00:00</td><td>&quot;224389328&quot;</td><td>19</td><td>&quot;MANHATTAN&quot;</td><td>&quot;MISDEMEANOR&quot;</td><td>&quot;LARCENY,PETIT FROM STORE-SHOPL&quot;</td><td>6</td><td>7</td><td>250</td></tr><tr><td>2019-08-31 18:00:00</td><td>&quot;211921838&quot;</td><td>71</td><td>&quot;BROOKLYN&quot;</td><td>&quot;MISDEMEANOR&quot;</td><td>&quot;LARCENY,PETIT FROM AUTO&quot;</td><td>6</td><td>31</td><td>243</td></tr><tr><td>2019-09-07 13:00:00</td><td>&quot;381754893&quot;</td><td>62</td><td>&quot;BROOKLYN&quot;</td><td>&quot;MISDEMEANOR&quot;</td><td>&quot;CRIMINAL MISCHIEF 4TH, GRAFFIT&quot;</td><td>6</td><td>7</td><td>250</td></tr></tbody></table></div>"
      ],
      "text/plain": [
       "shape: (5, 9)\n",
       "┌───────────┬───────────┬──────────┬───────────┬───┬───────────┬───────────┬───────────┬───────────┐\n",
       "│ complaint ┆ complaint ┆ precinct ┆ borough   ┆ … ┆ crime_des ┆ day_of_we ┆ day_of_mo ┆ day_of_ye │\n",
       "│ _datetime ┆ _id       ┆ ---      ┆ ---       ┆   ┆ cription  ┆ ek        ┆ nth       ┆ ar        │\n",
       "│ ---       ┆ ---       ┆ i64      ┆ str       ┆   ┆ ---       ┆ ---       ┆ ---       ┆ ---       │\n",
       "│ datetime[ ┆ str       ┆          ┆           ┆   ┆ str       ┆ i8        ┆ i8        ┆ i16       │\n",
       "│ μs]       ┆           ┆          ┆           ┆   ┆           ┆           ┆           ┆           │\n",
       "╞═══════════╪═══════════╪══════════╪═══════════╪═══╪═══════════╪═══════════╪═══════════╪═══════════╡\n",
       "│ 2019-09-0 ┆ 469069650 ┆ 9        ┆ MANHATTAN ┆ … ┆ LARCENY,P ┆ 3         ┆ 4         ┆ 247       │\n",
       "│ 4         ┆           ┆          ┆           ┆   ┆ ETIT FROM ┆           ┆           ┆           │\n",
       "│ 09:00:00  ┆           ┆          ┆           ┆   ┆ AUTO      ┆           ┆           ┆           │\n",
       "│ 2019-08-3 ┆ 629841380 ┆ 50       ┆ BRONX     ┆ … ┆ LARCENY,P ┆ 6         ┆ 31        ┆ 243       │\n",
       "│ 1         ┆           ┆          ┆           ┆   ┆ ETIT OF   ┆           ┆           ┆           │\n",
       "│ 18:58:00  ┆           ┆          ┆           ┆   ┆ BICYCLE   ┆           ┆           ┆           │\n",
       "│ 2019-09-0 ┆ 224389328 ┆ 19       ┆ MANHATTAN ┆ … ┆ LARCENY,P ┆ 6         ┆ 7         ┆ 250       │\n",
       "│ 7         ┆           ┆          ┆           ┆   ┆ ETIT FROM ┆           ┆           ┆           │\n",
       "│ 22:00:00  ┆           ┆          ┆           ┆   ┆ STORE-SHO ┆           ┆           ┆           │\n",
       "│           ┆           ┆          ┆           ┆   ┆ PL        ┆           ┆           ┆           │\n",
       "│ 2019-08-3 ┆ 211921838 ┆ 71       ┆ BROOKLYN  ┆ … ┆ LARCENY,P ┆ 6         ┆ 31        ┆ 243       │\n",
       "│ 1         ┆           ┆          ┆           ┆   ┆ ETIT FROM ┆           ┆           ┆           │\n",
       "│ 18:00:00  ┆           ┆          ┆           ┆   ┆ AUTO      ┆           ┆           ┆           │\n",
       "│ 2019-09-0 ┆ 381754893 ┆ 62       ┆ BROOKLYN  ┆ … ┆ CRIMINAL  ┆ 6         ┆ 7         ┆ 250       │\n",
       "│ 7         ┆           ┆          ┆           ┆   ┆ MISCHIEF  ┆           ┆           ┆           │\n",
       "│ 13:00:00  ┆           ┆          ┆           ┆   ┆ 4TH,      ┆           ┆           ┆           │\n",
       "│           ┆           ┆          ┆           ┆   ┆ GRAFFIT   ┆           ┆           ┆           │\n",
       "└───────────┴───────────┴──────────┴───────────┴───┴───────────┴───────────┴───────────┴───────────┘"
      ]
     },
     "execution_count": 242,
     "metadata": {},
     "output_type": "execute_result"
    }
   ],
   "source": [
    "# There are multiple options for the days: day of the week, day of the month, and day of the year\n",
    "\n",
    "nypd.with_columns(\n",
    "    day_of_week=pl.col(\"complaint_datetime\").dt.weekday(),  # Monday is 1, Sunday is 7\n",
    "    day_of_month=pl.col(\"complaint_datetime\").dt.day(),\n",
    "    day_of_year=pl.col(\"complaint_datetime\").dt.ordinal_day(),\n",
    ").head(5)"
   ]
  },
  {
   "cell_type": "code",
   "execution_count": 243,
   "metadata": {},
   "outputs": [
    {
     "data": {
      "text/html": [
       "<div><style>\n",
       ".dataframe > thead > tr,\n",
       ".dataframe > tbody > tr {\n",
       "  text-align: right;\n",
       "  white-space: pre-wrap;\n",
       "}\n",
       "</style>\n",
       "<small>shape: (3, 2)</small><table border=\"1\" class=\"dataframe\"><thead><tr><th>2year6months_bucket</th><th>len</th></tr><tr><td>datetime[μs]</td><td>u32</td></tr></thead><tbody><tr><td>2022-07-01 00:00:00</td><td>265927</td></tr><tr><td>2017-07-01 00:00:00</td><td>921276</td></tr><tr><td>2020-01-01 00:00:00</td><td>1115932</td></tr></tbody></table></div>"
      ],
      "text/plain": [
       "shape: (3, 2)\n",
       "┌─────────────────────┬─────────┐\n",
       "│ 2year6months_bucket ┆ len     │\n",
       "│ ---                 ┆ ---     │\n",
       "│ datetime[μs]        ┆ u32     │\n",
       "╞═════════════════════╪═════════╡\n",
       "│ 2022-07-01 00:00:00 ┆ 265927  │\n",
       "│ 2017-07-01 00:00:00 ┆ 921276  │\n",
       "│ 2020-01-01 00:00:00 ┆ 1115932 │\n",
       "└─────────────────────┴─────────┘"
      ]
     },
     "execution_count": 243,
     "metadata": {},
     "output_type": "execute_result"
    }
   ],
   "source": [
    "# Polars has another function to group dates together, which is truncate\n",
    "# we can bin the dates into buckets of 2 years and 6 months\n",
    "\n",
    "(\n",
    "    nypd.group_by(\n",
    "        pl.col(\"complaint_datetime\").dt.truncate(\"2y6mo\").alias(\"2year6months_bucket\")\n",
    "    ).len()\n",
    ")"
   ]
  },
  {
   "cell_type": "code",
   "execution_count": 244,
   "metadata": {},
   "outputs": [
    {
     "data": {
      "text/html": [
       "<div><style>\n",
       ".dataframe > thead > tr,\n",
       ".dataframe > tbody > tr {\n",
       "  text-align: right;\n",
       "  white-space: pre-wrap;\n",
       "}\n",
       "</style>\n",
       "<small>shape: (5, 6)</small><table border=\"1\" class=\"dataframe\"><thead><tr><th>complaint_datetime</th><th>complaint_id</th><th>precinct</th><th>borough</th><th>crime_category</th><th>crime_description</th></tr><tr><td>datetime[μs, US/Eastern]</td><td>str</td><td>i64</td><td>str</td><td>str</td><td>str</td></tr></thead><tbody><tr><td>2019-09-04 09:00:00 EDT</td><td>&quot;469069650&quot;</td><td>9</td><td>&quot;MANHATTAN&quot;</td><td>&quot;MISDEMEANOR&quot;</td><td>&quot;LARCENY,PETIT FROM AUTO&quot;</td></tr><tr><td>2019-08-31 18:58:00 EDT</td><td>&quot;629841380&quot;</td><td>50</td><td>&quot;BRONX&quot;</td><td>&quot;MISDEMEANOR&quot;</td><td>&quot;LARCENY,PETIT OF BICYCLE&quot;</td></tr><tr><td>2019-09-07 22:00:00 EDT</td><td>&quot;224389328&quot;</td><td>19</td><td>&quot;MANHATTAN&quot;</td><td>&quot;MISDEMEANOR&quot;</td><td>&quot;LARCENY,PETIT FROM STORE-SHOPL&quot;</td></tr><tr><td>2019-08-31 18:00:00 EDT</td><td>&quot;211921838&quot;</td><td>71</td><td>&quot;BROOKLYN&quot;</td><td>&quot;MISDEMEANOR&quot;</td><td>&quot;LARCENY,PETIT FROM AUTO&quot;</td></tr><tr><td>2019-09-07 13:00:00 EDT</td><td>&quot;381754893&quot;</td><td>62</td><td>&quot;BROOKLYN&quot;</td><td>&quot;MISDEMEANOR&quot;</td><td>&quot;CRIMINAL MISCHIEF 4TH, GRAFFIT&quot;</td></tr></tbody></table></div>"
      ],
      "text/plain": [
       "shape: (5, 6)\n",
       "┌─────────────────────┬──────────────┬──────────┬───────────┬────────────────┬─────────────────────┐\n",
       "│ complaint_datetime  ┆ complaint_id ┆ precinct ┆ borough   ┆ crime_category ┆ crime_description   │\n",
       "│ ---                 ┆ ---          ┆ ---      ┆ ---       ┆ ---            ┆ ---                 │\n",
       "│ datetime[μs,        ┆ str          ┆ i64      ┆ str       ┆ str            ┆ str                 │\n",
       "│ US/Eastern]         ┆              ┆          ┆           ┆                ┆                     │\n",
       "╞═════════════════════╪══════════════╪══════════╪═══════════╪════════════════╪═════════════════════╡\n",
       "│ 2019-09-04 09:00:00 ┆ 469069650    ┆ 9        ┆ MANHATTAN ┆ MISDEMEANOR    ┆ LARCENY,PETIT FROM  │\n",
       "│ EDT                 ┆              ┆          ┆           ┆                ┆ AUTO                │\n",
       "│ 2019-08-31 18:58:00 ┆ 629841380    ┆ 50       ┆ BRONX     ┆ MISDEMEANOR    ┆ LARCENY,PETIT OF    │\n",
       "│ EDT                 ┆              ┆          ┆           ┆                ┆ BICYCLE             │\n",
       "│ 2019-09-07 22:00:00 ┆ 224389328    ┆ 19       ┆ MANHATTAN ┆ MISDEMEANOR    ┆ LARCENY,PETIT FROM  │\n",
       "│ EDT                 ┆              ┆          ┆           ┆                ┆ STORE-SHOPL         │\n",
       "│ 2019-08-31 18:00:00 ┆ 211921838    ┆ 71       ┆ BROOKLYN  ┆ MISDEMEANOR    ┆ LARCENY,PETIT FROM  │\n",
       "│ EDT                 ┆              ┆          ┆           ┆                ┆ AUTO                │\n",
       "│ 2019-09-07 13:00:00 ┆ 381754893    ┆ 62       ┆ BROOKLYN  ┆ MISDEMEANOR    ┆ CRIMINAL MISCHIEF   │\n",
       "│ EDT                 ┆              ┆          ┆           ┆                ┆ 4TH, GRAFFIT        │\n",
       "└─────────────────────┴──────────────┴──────────┴───────────┴────────────────┴─────────────────────┘"
      ]
     },
     "execution_count": 244,
     "metadata": {},
     "output_type": "execute_result"
    }
   ],
   "source": [
    "# Polars can work with time zones. For example, we can set the time zone to US/Eastern\n",
    "\n",
    "nypd_localised = nypd.head(100).with_columns(\n",
    "    complaint_datetime=pl.col(\"complaint_datetime\").dt.replace_time_zone(\n",
    "        \"US/Eastern\", ambiguous=\"earliest\"\n",
    "    )\n",
    ")\n",
    "\n",
    "nypd_localised.head(5)"
   ]
  },
  {
   "cell_type": "code",
   "execution_count": 245,
   "metadata": {},
   "outputs": [
    {
     "data": {
      "text/html": [
       "<div><style>\n",
       ".dataframe > thead > tr,\n",
       ".dataframe > tbody > tr {\n",
       "  text-align: right;\n",
       "  white-space: pre-wrap;\n",
       "}\n",
       "</style>\n",
       "<small>shape: (5, 6)</small><table border=\"1\" class=\"dataframe\"><thead><tr><th>complaint_datetime</th><th>complaint_id</th><th>precinct</th><th>borough</th><th>crime_category</th><th>crime_description</th></tr><tr><td>datetime[μs, UTC]</td><td>str</td><td>i64</td><td>str</td><td>str</td><td>str</td></tr></thead><tbody><tr><td>2019-09-04 13:00:00 UTC</td><td>&quot;469069650&quot;</td><td>9</td><td>&quot;MANHATTAN&quot;</td><td>&quot;MISDEMEANOR&quot;</td><td>&quot;LARCENY,PETIT FROM AUTO&quot;</td></tr><tr><td>2019-08-31 22:58:00 UTC</td><td>&quot;629841380&quot;</td><td>50</td><td>&quot;BRONX&quot;</td><td>&quot;MISDEMEANOR&quot;</td><td>&quot;LARCENY,PETIT OF BICYCLE&quot;</td></tr><tr><td>2019-09-08 02:00:00 UTC</td><td>&quot;224389328&quot;</td><td>19</td><td>&quot;MANHATTAN&quot;</td><td>&quot;MISDEMEANOR&quot;</td><td>&quot;LARCENY,PETIT FROM STORE-SHOPL&quot;</td></tr><tr><td>2019-08-31 22:00:00 UTC</td><td>&quot;211921838&quot;</td><td>71</td><td>&quot;BROOKLYN&quot;</td><td>&quot;MISDEMEANOR&quot;</td><td>&quot;LARCENY,PETIT FROM AUTO&quot;</td></tr><tr><td>2019-09-07 17:00:00 UTC</td><td>&quot;381754893&quot;</td><td>62</td><td>&quot;BROOKLYN&quot;</td><td>&quot;MISDEMEANOR&quot;</td><td>&quot;CRIMINAL MISCHIEF 4TH, GRAFFIT&quot;</td></tr></tbody></table></div>"
      ],
      "text/plain": [
       "shape: (5, 6)\n",
       "┌─────────────────────┬──────────────┬──────────┬───────────┬────────────────┬─────────────────────┐\n",
       "│ complaint_datetime  ┆ complaint_id ┆ precinct ┆ borough   ┆ crime_category ┆ crime_description   │\n",
       "│ ---                 ┆ ---          ┆ ---      ┆ ---       ┆ ---            ┆ ---                 │\n",
       "│ datetime[μs, UTC]   ┆ str          ┆ i64      ┆ str       ┆ str            ┆ str                 │\n",
       "╞═════════════════════╪══════════════╪══════════╪═══════════╪════════════════╪═════════════════════╡\n",
       "│ 2019-09-04 13:00:00 ┆ 469069650    ┆ 9        ┆ MANHATTAN ┆ MISDEMEANOR    ┆ LARCENY,PETIT FROM  │\n",
       "│ UTC                 ┆              ┆          ┆           ┆                ┆ AUTO                │\n",
       "│ 2019-08-31 22:58:00 ┆ 629841380    ┆ 50       ┆ BRONX     ┆ MISDEMEANOR    ┆ LARCENY,PETIT OF    │\n",
       "│ UTC                 ┆              ┆          ┆           ┆                ┆ BICYCLE             │\n",
       "│ 2019-09-08 02:00:00 ┆ 224389328    ┆ 19       ┆ MANHATTAN ┆ MISDEMEANOR    ┆ LARCENY,PETIT FROM  │\n",
       "│ UTC                 ┆              ┆          ┆           ┆                ┆ STORE-SHOPL         │\n",
       "│ 2019-08-31 22:00:00 ┆ 211921838    ┆ 71       ┆ BROOKLYN  ┆ MISDEMEANOR    ┆ LARCENY,PETIT FROM  │\n",
       "│ UTC                 ┆              ┆          ┆           ┆                ┆ AUTO                │\n",
       "│ 2019-09-07 17:00:00 ┆ 381754893    ┆ 62       ┆ BROOKLYN  ┆ MISDEMEANOR    ┆ CRIMINAL MISCHIEF   │\n",
       "│ UTC                 ┆              ┆          ┆           ┆                ┆ 4TH, GRAFFIT        │\n",
       "└─────────────────────┴──────────────┴──────────┴───────────┴────────────────┴─────────────────────┘"
      ]
     },
     "execution_count": 245,
     "metadata": {},
     "output_type": "execute_result"
    }
   ],
   "source": [
    "# When we have a timezone, we can convert it to another timezone\n",
    "\n",
    "nypd_localised.with_columns(\n",
    "    complaint_datetime=pl.col(\"complaint_datetime\").dt.convert_time_zone(\"UTC\")\n",
    ").head(5)"
   ]
  },
  {
   "cell_type": "markdown",
   "metadata": {},
   "source": [
    "#### Creating a date range and time range"
   ]
  },
  {
   "cell_type": "code",
   "execution_count": 246,
   "metadata": {},
   "outputs": [
    {
     "data": {
      "text/html": [
       "<div><style>\n",
       ".dataframe > thead > tr,\n",
       ".dataframe > tbody > tr {\n",
       "  text-align: right;\n",
       "  white-space: pre-wrap;\n",
       "}\n",
       "</style>\n",
       "<small>shape: (5,)</small><table border=\"1\" class=\"dataframe\"><thead><tr><th>literal</th></tr><tr><td>date</td></tr></thead><tbody><tr><td>2020-01-01</td></tr><tr><td>2020-01-02</td></tr><tr><td>2020-01-03</td></tr><tr><td>2020-01-04</td></tr><tr><td>2020-01-05</td></tr></tbody></table></div>"
      ],
      "text/plain": [
       "shape: (5,)\n",
       "Series: 'literal' [date]\n",
       "[\n",
       "\t2020-01-01\n",
       "\t2020-01-02\n",
       "\t2020-01-03\n",
       "\t2020-01-04\n",
       "\t2020-01-05\n",
       "]"
      ]
     },
     "execution_count": 246,
     "metadata": {},
     "output_type": "execute_result"
    }
   ],
   "source": [
    "# Polars also allows creating a date range and time range\n",
    "# the date range method has various parameters including the inteval, whether to include the start and end date, and time zone\n",
    "# the date_range method can be used to create a table, which is then joined existing data, for example with join_asof (which we'll see later)\n",
    "# the date_range method can also be used to create lists inside a column of an existing table\n",
    "\n",
    "from datetime import date\n",
    "\n",
    "pl.date_range(date(2020, 1, 1), date(2020, 1, 5), \"1d\", eager=True)"
   ]
  },
  {
   "cell_type": "code",
   "execution_count": 247,
   "metadata": {},
   "outputs": [
    {
     "data": {
      "text/html": [
       "<div><style>\n",
       ".dataframe > thead > tr,\n",
       ".dataframe > tbody > tr {\n",
       "  text-align: right;\n",
       "  white-space: pre-wrap;\n",
       "}\n",
       "</style>\n",
       "<small>shape: (5,)</small><table border=\"1\" class=\"dataframe\"><thead><tr><th>literal</th></tr><tr><td>date</td></tr></thead><tbody><tr><td>2020-01-31</td></tr><tr><td>2020-02-29</td></tr><tr><td>2020-03-31</td></tr><tr><td>2020-04-30</td></tr><tr><td>2020-05-31</td></tr></tbody></table></div>"
      ],
      "text/plain": [
       "shape: (5,)\n",
       "Series: 'literal' [date]\n",
       "[\n",
       "\t2020-01-31\n",
       "\t2020-02-29\n",
       "\t2020-03-31\n",
       "\t2020-04-30\n",
       "\t2020-05-31\n",
       "]"
      ]
     },
     "execution_count": 247,
     "metadata": {},
     "output_type": "execute_result"
    }
   ],
   "source": [
    "pl.date_range(date(2020, 1, 1), date(2020, 5, 1), \"1mo\", eager=True).dt.month_end()"
   ]
  },
  {
   "cell_type": "code",
   "execution_count": 248,
   "metadata": {},
   "outputs": [
    {
     "data": {
      "text/html": [
       "<div><style>\n",
       ".dataframe > thead > tr,\n",
       ".dataframe > tbody > tr {\n",
       "  text-align: right;\n",
       "  white-space: pre-wrap;\n",
       "}\n",
       "</style>\n",
       "<small>shape: (5, 2)</small><table border=\"1\" class=\"dataframe\"><thead><tr><th>complaint_datetime</th><th>literal</th></tr><tr><td>datetime[μs, US/Eastern]</td><td>date</td></tr></thead><tbody><tr><td>2019-09-04 09:00:00 EDT</td><td>2020-01-01</td></tr><tr><td>2019-08-31 18:58:00 EDT</td><td>2020-02-01</td></tr><tr><td>2019-09-07 22:00:00 EDT</td><td>2020-03-01</td></tr><tr><td>2019-08-31 18:00:00 EDT</td><td>2020-04-01</td></tr><tr><td>2019-09-07 13:00:00 EDT</td><td>2020-05-01</td></tr></tbody></table></div>"
      ],
      "text/plain": [
       "shape: (5, 2)\n",
       "┌──────────────────────────┬────────────┐\n",
       "│ complaint_datetime       ┆ literal    │\n",
       "│ ---                      ┆ ---        │\n",
       "│ datetime[μs, US/Eastern] ┆ date       │\n",
       "╞══════════════════════════╪════════════╡\n",
       "│ 2019-09-04 09:00:00 EDT  ┆ 2020-01-01 │\n",
       "│ 2019-08-31 18:58:00 EDT  ┆ 2020-02-01 │\n",
       "│ 2019-09-07 22:00:00 EDT  ┆ 2020-03-01 │\n",
       "│ 2019-08-31 18:00:00 EDT  ┆ 2020-04-01 │\n",
       "│ 2019-09-07 13:00:00 EDT  ┆ 2020-05-01 │\n",
       "└──────────────────────────┴────────────┘"
      ]
     },
     "execution_count": 248,
     "metadata": {},
     "output_type": "execute_result"
    }
   ],
   "source": [
    "nypd_localised.head(5).select(\n",
    "    \"complaint_datetime\",\n",
    "    pl.date_range(date(2020, 1, 1), date(2020, 5, 1), \"1mo\", eager=False),\n",
    ")"
   ]
  },
  {
   "cell_type": "markdown",
   "metadata": {},
   "source": [
    "#### Shifting, differences and percentages: shift, diff, and pct_change"
   ]
  },
  {
   "cell_type": "code",
   "execution_count": 249,
   "metadata": {},
   "outputs": [
    {
     "data": {
      "text/html": [
       "<div><style>\n",
       ".dataframe > thead > tr,\n",
       ".dataframe > tbody > tr {\n",
       "  text-align: right;\n",
       "  white-space: pre-wrap;\n",
       "}\n",
       "</style>\n",
       "<small>shape: (5, 6)</small><table border=\"1\" class=\"dataframe\"><thead><tr><th>week</th><th>count</th><th>prior_week</th><th>prior_count</th><th>change</th><th>percent_change</th></tr><tr><td>date</td><td>i32</td><td>date</td><td>i32</td><td>i32</td><td>f64</td></tr></thead><tbody><tr><td>2018-01-01</td><td>8128</td><td>null</td><td>null</td><td>null</td><td>null</td></tr><tr><td>2018-01-08</td><td>8314</td><td>2018-01-01</td><td>8128</td><td>186</td><td>2.0</td></tr><tr><td>2018-01-15</td><td>8644</td><td>2018-01-08</td><td>8314</td><td>330</td><td>4.0</td></tr><tr><td>2018-01-22</td><td>9020</td><td>2018-01-15</td><td>8644</td><td>376</td><td>4.0</td></tr><tr><td>2018-01-29</td><td>8736</td><td>2018-01-22</td><td>9020</td><td>-284</td><td>-3.0</td></tr></tbody></table></div>"
      ],
      "text/plain": [
       "shape: (5, 6)\n",
       "┌────────────┬───────┬────────────┬─────────────┬────────┬────────────────┐\n",
       "│ week       ┆ count ┆ prior_week ┆ prior_count ┆ change ┆ percent_change │\n",
       "│ ---        ┆ ---   ┆ ---        ┆ ---         ┆ ---    ┆ ---            │\n",
       "│ date       ┆ i32   ┆ date       ┆ i32         ┆ i32    ┆ f64            │\n",
       "╞════════════╪═══════╪════════════╪═════════════╪════════╪════════════════╡\n",
       "│ 2018-01-01 ┆ 8128  ┆ null       ┆ null        ┆ null   ┆ null           │\n",
       "│ 2018-01-08 ┆ 8314  ┆ 2018-01-01 ┆ 8128        ┆ 186    ┆ 2.0            │\n",
       "│ 2018-01-15 ┆ 8644  ┆ 2018-01-08 ┆ 8314        ┆ 330    ┆ 4.0            │\n",
       "│ 2018-01-22 ┆ 9020  ┆ 2018-01-15 ┆ 8644        ┆ 376    ┆ 4.0            │\n",
       "│ 2018-01-29 ┆ 8736  ┆ 2018-01-22 ┆ 9020        ┆ -284   ┆ -3.0           │\n",
       "└────────────┴───────┴────────────┴─────────────┴────────┴────────────────┘"
      ]
     },
     "execution_count": 249,
     "metadata": {},
     "output_type": "execute_result"
    }
   ],
   "source": [
    "# We can shift rows up or down using shift, calculate difference using diff, and calculate percentage change using pct_change\n",
    "# for example, we can look at the change in weekly crime counts\n",
    "\n",
    "(\n",
    "    nypd.group_by(\n",
    "        pl.col(\"complaint_datetime\").dt.truncate(\"1w\").cast(pl.Date).alias(\"week\")\n",
    "    )\n",
    "    .len(name=\"count\")\n",
    "    .with_columns(pl.col(\"count\").cast(pl.Int32))\n",
    "    .sort(\"week\")\n",
    "    .with_columns(\n",
    "        prior_week=pl.col(\"week\").shift(1),\n",
    "        prior_count=pl.col(\"count\").shift(1),\n",
    "        change=pl.col(\"count\").diff(1),\n",
    "        percent_change=pl.col(\"count\").pct_change(1).mul(100).round(0),\n",
    "    )\n",
    ").head(5)"
   ]
  },
  {
   "cell_type": "code",
   "execution_count": 250,
   "metadata": {},
   "outputs": [
    {
     "data": {},
     "metadata": {},
     "output_type": "display_data"
    },
    {
     "data": {
      "application/vnd.holoviews_exec.v0+json": "",
      "text/html": [
       "<div id='p1454'>\n",
       "  <div id=\"ffbceb31-b8ad-4088-a50f-aafe4eae0e63\" data-root-id=\"p1454\" style=\"display: contents;\"></div>\n",
       "</div>\n",
       "<script type=\"application/javascript\">(function(root) {\n",
       "  var docs_json = {\"09232095-270c-4ce5-96d5-703d4e73d48b\":{\"version\":\"3.4.1\",\"title\":\"Bokeh Application\",\"roots\":[{\"type\":\"object\",\"name\":\"Row\",\"id\":\"p1454\",\"attributes\":{\"name\":\"Row01593\",\"tags\":[\"embedded\"],\"stylesheets\":[\"\\n:host(.pn-loading):before, .pn-loading:before {\\n  background-color: #c3c3c3;\\n  mask-size: auto calc(min(50%, 400px));\\n  -webkit-mask-size: auto calc(min(50%, 400px));\\n}\",{\"type\":\"object\",\"name\":\"ImportedStyleSheet\",\"id\":\"p1457\",\"attributes\":{\"url\":\"https://cdn.holoviz.org/panel/1.4.2/dist/css/loading.css\"}},{\"type\":\"object\",\"name\":\"ImportedStyleSheet\",\"id\":\"p1525\",\"attributes\":{\"url\":\"https://cdn.holoviz.org/panel/1.4.2/dist/css/listpanel.css\"}},{\"type\":\"object\",\"name\":\"ImportedStyleSheet\",\"id\":\"p1455\",\"attributes\":{\"url\":\"https://cdn.holoviz.org/panel/1.4.2/dist/bundled/theme/default.css\"}},{\"type\":\"object\",\"name\":\"ImportedStyleSheet\",\"id\":\"p1456\",\"attributes\":{\"url\":\"https://cdn.holoviz.org/panel/1.4.2/dist/bundled/theme/native.css\"}}],\"min_width\":700,\"margin\":0,\"sizing_mode\":\"stretch_width\",\"align\":\"start\",\"children\":[{\"type\":\"object\",\"name\":\"Spacer\",\"id\":\"p1458\",\"attributes\":{\"name\":\"HSpacer01600\",\"stylesheets\":[\"\\n:host(.pn-loading):before, .pn-loading:before {\\n  background-color: #c3c3c3;\\n  mask-size: auto calc(min(50%, 400px));\\n  -webkit-mask-size: auto calc(min(50%, 400px));\\n}\",{\"id\":\"p1457\"},{\"id\":\"p1455\"},{\"id\":\"p1456\"}],\"margin\":0,\"sizing_mode\":\"stretch_width\",\"align\":\"start\"}},{\"type\":\"object\",\"name\":\"Figure\",\"id\":\"p1466\",\"attributes\":{\"width\":700,\"height\":300,\"margin\":[5,10],\"sizing_mode\":\"fixed\",\"align\":\"start\",\"x_range\":{\"type\":\"object\",\"name\":\"Range1d\",\"id\":\"p1459\",\"attributes\":{\"tags\":[[[\"week\",\"week\",null]],[]],\"start\":1514764800000.0,\"end\":1672012800000.0,\"reset_start\":1514764800000.0,\"reset_end\":1672012800000.0}},\"y_range\":{\"type\":\"object\",\"name\":\"Range1d\",\"id\":\"p1460\",\"attributes\":{\"tags\":[[[\"count\",\"count\",null]],{\"type\":\"map\",\"entries\":[[\"invert_yaxis\",false],[\"autorange\",false]]}],\"start\":4967.3,\"end\":11599.7,\"reset_start\":4967.3,\"reset_end\":11599.7}},\"x_scale\":{\"type\":\"object\",\"name\":\"LinearScale\",\"id\":\"p1476\"},\"y_scale\":{\"type\":\"object\",\"name\":\"LinearScale\",\"id\":\"p1477\"},\"title\":{\"type\":\"object\",\"name\":\"Title\",\"id\":\"p1469\",\"attributes\":{\"text_color\":\"black\",\"text_font_size\":\"12pt\"}},\"renderers\":[{\"type\":\"object\",\"name\":\"GlyphRenderer\",\"id\":\"p1518\",\"attributes\":{\"data_source\":{\"type\":\"object\",\"name\":\"ColumnDataSource\",\"id\":\"p1509\",\"attributes\":{\"selected\":{\"type\":\"object\",\"name\":\"Selection\",\"id\":\"p1510\",\"attributes\":{\"indices\":[],\"line_indices\":[]}},\"selection_policy\":{\"type\":\"object\",\"name\":\"UnionRenderers\",\"id\":\"p1511\"},\"data\":{\"type\":\"map\",\"entries\":[[\"week\",{\"type\":\"ndarray\",\"array\":{\"type\":\"bytes\",\"data\":\"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\"},\"shape\":[261],\"dtype\":\"float64\",\"order\":\"little\"}],[\"count\",{\"type\":\"ndarray\",\"array\":{\"type\":\"bytes\",\"data\":\"wB8AAHogAADEIQAAPCMAACAiAAAAIQAAIiIAAD4hAAAHIgAAox8AAAkhAAB7IAAAoCIAAPIfAABcIwAADSIAANsiAAAfJgAAWCMAAGkjAABBJAAAVCUAAI0jAADWJAAAxiQAAFEkAACZJAAADSQAAJ4kAAApJQAArSUAAKckAAAHJAAAJyQAABgmAADrIgAAPSMAAAwkAAC/IgAAuSQAAAMiAABpIQAAPiEAAIMkAABoIQAAWB8AANUeAACiIgAAZyEAAGUhAADwIAAA7RwAAEAkAADZHwAAIx8AAGUeAAAOHgAARiAAAI4fAADCHQAAFx8AAPYdAAA5IQAAzx8AAEQhAAAFIgAAniEAAFUhAAAFIAAAjyIAAAwjAACKIgAA7yQAAOAkAAADJAAAByQAABskAADSJAAAvCYAAEElAAAGJQAABCUAAL8lAAAwJAAAKiUAANkiAACaIwAAJSMAAIslAADTJQAA9yQAAN8iAAB7IwAAFCIAAJAjAACzIwAAoiEAAGEhAADNIgAAtyAAABIiAAALIgAA0x8AACoeAACRIgAAYiEAAHIiAAAyIQAAQCIAAD0iAABzIQAAiCEAAE0hAADqIQAAViIAAJsaAAC7FQAAtBUAAJAVAACuFgAADhgAAF4aAAAgGgAAnhsAAMQcAAD6HgAAXx8AAPEbAADpHAAAQB8AAH0fAADaHgAA+x8AAMAeAAB+IQAAvR8AAKEhAADdIQAA/iAAAIIhAAAcIgAAcSAAAKQfAACeIQAApCEAANwfAAB7IgAAXSAAALEgAACgHwAAdR8AACcfAAAhIQAApR8AALYbAADWGwAAeh4AAE0dAABzHgAA9xwAACEbAAAOGgAApBsAAKwbAACiHQAAch8AAAwfAABeHgAAPR4AAHwdAACKHgAAMx0AAJcdAACzHwAAuR4AAGYhAACyIgAAZx8AAOEiAAD0IQAAjCEAAK8iAABKIgAAjyIAALkjAAAxIwAAkyIAAGkiAABFIwAAHSIAAMshAAC3IgAAkSIAAMglAAARJgAAbCYAANolAAC/JgAAIiYAAMokAADPJQAA0yUAAJcnAADOIwAAACgAAJYlAAA3JQAAYSAAAJ4iAAAmIAAAuSIAAMAiAAAGIAAAtSIAADwmAAAUJQAARSMAADQmAABHJAAAhCgAAM4mAADbJgAAeScAAIgmAABtJQAAuCcAALcmAAA3KAAAISkAAPEoAAAnKwAA4SoAAHwqAADIKgAA2CoAAKwqAABwKgAAlCgAAMUoAADhKAAAeCgAAIwoAACvKQAAsSkAADQoAADFKQAAGCkAAA8nAAADJwAAoSgAAJMoAAAvKgAAfCoAAMknAADFJgAAuSQAAC0mAAACJQAAvSMAAFceAAApGQAA\"},\"shape\":[261],\"dtype\":\"int32\",\"order\":\"little\"}]]}}},\"view\":{\"type\":\"object\",\"name\":\"CDSView\",\"id\":\"p1519\",\"attributes\":{\"filter\":{\"type\":\"object\",\"name\":\"AllIndices\",\"id\":\"p1520\"}}},\"glyph\":{\"type\":\"object\",\"name\":\"Line\",\"id\":\"p1515\",\"attributes\":{\"tags\":[\"apply_ranges\"],\"x\":{\"type\":\"field\",\"field\":\"week\"},\"y\":{\"type\":\"field\",\"field\":\"count\"},\"line_color\":\"#30a2da\",\"line_width\":2}},\"selection_glyph\":{\"type\":\"object\",\"name\":\"Line\",\"id\":\"p1521\",\"attributes\":{\"tags\":[\"apply_ranges\"],\"x\":{\"type\":\"field\",\"field\":\"week\"},\"y\":{\"type\":\"field\",\"field\":\"count\"},\"line_color\":\"#30a2da\",\"line_width\":2}},\"nonselection_glyph\":{\"type\":\"object\",\"name\":\"Line\",\"id\":\"p1516\",\"attributes\":{\"tags\":[\"apply_ranges\"],\"x\":{\"type\":\"field\",\"field\":\"week\"},\"y\":{\"type\":\"field\",\"field\":\"count\"},\"line_color\":\"#30a2da\",\"line_alpha\":0.1,\"line_width\":2}},\"muted_glyph\":{\"type\":\"object\",\"name\":\"Line\",\"id\":\"p1517\",\"attributes\":{\"tags\":[\"apply_ranges\"],\"x\":{\"type\":\"field\",\"field\":\"week\"},\"y\":{\"type\":\"field\",\"field\":\"count\"},\"line_color\":\"#30a2da\",\"line_alpha\":0.2,\"line_width\":2}}}}],\"toolbar\":{\"type\":\"object\",\"name\":\"Toolbar\",\"id\":\"p1475\",\"attributes\":{\"tools\":[{\"type\":\"object\",\"name\":\"WheelZoomTool\",\"id\":\"p1464\",\"attributes\":{\"tags\":[\"hv_created\"],\"renderers\":\"auto\",\"zoom_together\":\"none\"}},{\"type\":\"object\",\"name\":\"HoverTool\",\"id\":\"p1465\",\"attributes\":{\"tags\":[\"hv_created\"],\"renderers\":[{\"id\":\"p1518\"}],\"tooltips\":[[\"week\",\"@{week}{%F %T}\"],[\"count\",\"@{count}\"]],\"formatters\":{\"type\":\"map\",\"entries\":[[\"@{week}\",\"datetime\"]]}}},{\"type\":\"object\",\"name\":\"SaveTool\",\"id\":\"p1500\"},{\"type\":\"object\",\"name\":\"PanTool\",\"id\":\"p1501\"},{\"type\":\"object\",\"name\":\"BoxZoomTool\",\"id\":\"p1502\",\"attributes\":{\"overlay\":{\"type\":\"object\",\"name\":\"BoxAnnotation\",\"id\":\"p1503\",\"attributes\":{\"syncable\":false,\"level\":\"overlay\",\"visible\":false,\"left\":{\"type\":\"number\",\"value\":\"nan\"},\"right\":{\"type\":\"number\",\"value\":\"nan\"},\"top\":{\"type\":\"number\",\"value\":\"nan\"},\"bottom\":{\"type\":\"number\",\"value\":\"nan\"},\"left_units\":\"canvas\",\"right_units\":\"canvas\",\"top_units\":\"canvas\",\"bottom_units\":\"canvas\",\"line_color\":\"black\",\"line_alpha\":1.0,\"line_width\":2,\"line_dash\":[4,4],\"fill_color\":\"lightgrey\",\"fill_alpha\":0.5}}}},{\"type\":\"object\",\"name\":\"ResetTool\",\"id\":\"p1508\"}],\"active_drag\":{\"id\":\"p1501\"},\"active_scroll\":{\"id\":\"p1464\"}}},\"left\":[{\"type\":\"object\",\"name\":\"LinearAxis\",\"id\":\"p1495\",\"attributes\":{\"ticker\":{\"type\":\"object\",\"name\":\"BasicTicker\",\"id\":\"p1496\",\"attributes\":{\"mantissas\":[1,2,5]}},\"formatter\":{\"type\":\"object\",\"name\":\"BasicTickFormatter\",\"id\":\"p1497\"},\"axis_label\":\"count\",\"major_label_policy\":{\"type\":\"object\",\"name\":\"AllLabels\",\"id\":\"p1498\"}}}],\"below\":[{\"type\":\"object\",\"name\":\"DatetimeAxis\",\"id\":\"p1478\",\"attributes\":{\"ticker\":{\"type\":\"object\",\"name\":\"DatetimeTicker\",\"id\":\"p1479\",\"attributes\":{\"num_minor_ticks\":5,\"tickers\":[{\"type\":\"object\",\"name\":\"AdaptiveTicker\",\"id\":\"p1480\",\"attributes\":{\"num_minor_ticks\":0,\"mantissas\":[1,2,5],\"max_interval\":500.0}},{\"type\":\"object\",\"name\":\"AdaptiveTicker\",\"id\":\"p1481\",\"attributes\":{\"num_minor_ticks\":0,\"base\":60,\"mantissas\":[1,2,5,10,15,20,30],\"min_interval\":1000.0,\"max_interval\":1800000.0}},{\"type\":\"object\",\"name\":\"AdaptiveTicker\",\"id\":\"p1482\",\"attributes\":{\"num_minor_ticks\":0,\"base\":24,\"mantissas\":[1,2,4,6,8,12],\"min_interval\":3600000.0,\"max_interval\":43200000.0}},{\"type\":\"object\",\"name\":\"DaysTicker\",\"id\":\"p1483\",\"attributes\":{\"days\":[1,2,3,4,5,6,7,8,9,10,11,12,13,14,15,16,17,18,19,20,21,22,23,24,25,26,27,28,29,30,31]}},{\"type\":\"object\",\"name\":\"DaysTicker\",\"id\":\"p1484\",\"attributes\":{\"days\":[1,4,7,10,13,16,19,22,25,28]}},{\"type\":\"object\",\"name\":\"DaysTicker\",\"id\":\"p1485\",\"attributes\":{\"days\":[1,8,15,22]}},{\"type\":\"object\",\"name\":\"DaysTicker\",\"id\":\"p1486\",\"attributes\":{\"days\":[1,15]}},{\"type\":\"object\",\"name\":\"MonthsTicker\",\"id\":\"p1487\",\"attributes\":{\"months\":[0,1,2,3,4,5,6,7,8,9,10,11]}},{\"type\":\"object\",\"name\":\"MonthsTicker\",\"id\":\"p1488\",\"attributes\":{\"months\":[0,2,4,6,8,10]}},{\"type\":\"object\",\"name\":\"MonthsTicker\",\"id\":\"p1489\",\"attributes\":{\"months\":[0,4,8]}},{\"type\":\"object\",\"name\":\"MonthsTicker\",\"id\":\"p1490\",\"attributes\":{\"months\":[0,6]}},{\"type\":\"object\",\"name\":\"YearsTicker\",\"id\":\"p1491\"}]}},\"formatter\":{\"type\":\"object\",\"name\":\"DatetimeTickFormatter\",\"id\":\"p1492\"},\"axis_label\":\"week\",\"major_label_policy\":{\"type\":\"object\",\"name\":\"AllLabels\",\"id\":\"p1493\"}}}],\"center\":[{\"type\":\"object\",\"name\":\"Grid\",\"id\":\"p1494\",\"attributes\":{\"axis\":{\"id\":\"p1478\"},\"grid_line_color\":null}},{\"type\":\"object\",\"name\":\"Grid\",\"id\":\"p1499\",\"attributes\":{\"dimension\":1,\"axis\":{\"id\":\"p1495\"},\"grid_line_color\":null}}],\"min_border_top\":10,\"min_border_bottom\":10,\"min_border_left\":10,\"min_border_right\":10,\"output_backend\":\"webgl\"}},{\"type\":\"object\",\"name\":\"Spacer\",\"id\":\"p1523\",\"attributes\":{\"name\":\"HSpacer01601\",\"stylesheets\":[\"\\n:host(.pn-loading):before, .pn-loading:before {\\n  background-color: #c3c3c3;\\n  mask-size: auto calc(min(50%, 400px));\\n  -webkit-mask-size: auto calc(min(50%, 400px));\\n}\",{\"id\":\"p1457\"},{\"id\":\"p1455\"},{\"id\":\"p1456\"}],\"margin\":0,\"sizing_mode\":\"stretch_width\",\"align\":\"start\"}}]}}],\"defs\":[{\"type\":\"model\",\"name\":\"ReactiveHTML1\"},{\"type\":\"model\",\"name\":\"FlexBox1\",\"properties\":[{\"name\":\"align_content\",\"kind\":\"Any\",\"default\":\"flex-start\"},{\"name\":\"align_items\",\"kind\":\"Any\",\"default\":\"flex-start\"},{\"name\":\"flex_direction\",\"kind\":\"Any\",\"default\":\"row\"},{\"name\":\"flex_wrap\",\"kind\":\"Any\",\"default\":\"wrap\"},{\"name\":\"gap\",\"kind\":\"Any\",\"default\":\"\"},{\"name\":\"justify_content\",\"kind\":\"Any\",\"default\":\"flex-start\"}]},{\"type\":\"model\",\"name\":\"FloatPanel1\",\"properties\":[{\"name\":\"config\",\"kind\":\"Any\",\"default\":{\"type\":\"map\"}},{\"name\":\"contained\",\"kind\":\"Any\",\"default\":true},{\"name\":\"position\",\"kind\":\"Any\",\"default\":\"right-top\"},{\"name\":\"offsetx\",\"kind\":\"Any\",\"default\":null},{\"name\":\"offsety\",\"kind\":\"Any\",\"default\":null},{\"name\":\"theme\",\"kind\":\"Any\",\"default\":\"primary\"},{\"name\":\"status\",\"kind\":\"Any\",\"default\":\"normalized\"}]},{\"type\":\"model\",\"name\":\"GridStack1\",\"properties\":[{\"name\":\"mode\",\"kind\":\"Any\",\"default\":\"warn\"},{\"name\":\"ncols\",\"kind\":\"Any\",\"default\":null},{\"name\":\"nrows\",\"kind\":\"Any\",\"default\":null},{\"name\":\"allow_resize\",\"kind\":\"Any\",\"default\":true},{\"name\":\"allow_drag\",\"kind\":\"Any\",\"default\":true},{\"name\":\"state\",\"kind\":\"Any\",\"default\":[]}]},{\"type\":\"model\",\"name\":\"drag1\",\"properties\":[{\"name\":\"slider_width\",\"kind\":\"Any\",\"default\":5},{\"name\":\"slider_color\",\"kind\":\"Any\",\"default\":\"black\"},{\"name\":\"value\",\"kind\":\"Any\",\"default\":50}]},{\"type\":\"model\",\"name\":\"click1\",\"properties\":[{\"name\":\"terminal_output\",\"kind\":\"Any\",\"default\":\"\"},{\"name\":\"debug_name\",\"kind\":\"Any\",\"default\":\"\"},{\"name\":\"clears\",\"kind\":\"Any\",\"default\":0}]},{\"type\":\"model\",\"name\":\"FastWrapper1\",\"properties\":[{\"name\":\"object\",\"kind\":\"Any\",\"default\":null},{\"name\":\"style\",\"kind\":\"Any\",\"default\":null}]},{\"type\":\"model\",\"name\":\"NotificationAreaBase1\",\"properties\":[{\"name\":\"js_events\",\"kind\":\"Any\",\"default\":{\"type\":\"map\"}},{\"name\":\"position\",\"kind\":\"Any\",\"default\":\"bottom-right\"},{\"name\":\"_clear\",\"kind\":\"Any\",\"default\":0}]},{\"type\":\"model\",\"name\":\"NotificationArea1\",\"properties\":[{\"name\":\"js_events\",\"kind\":\"Any\",\"default\":{\"type\":\"map\"}},{\"name\":\"notifications\",\"kind\":\"Any\",\"default\":[]},{\"name\":\"position\",\"kind\":\"Any\",\"default\":\"bottom-right\"},{\"name\":\"_clear\",\"kind\":\"Any\",\"default\":0},{\"name\":\"types\",\"kind\":\"Any\",\"default\":[{\"type\":\"map\",\"entries\":[[\"type\",\"warning\"],[\"background\",\"#ffc107\"],[\"icon\",{\"type\":\"map\",\"entries\":[[\"className\",\"fas fa-exclamation-triangle\"],[\"tagName\",\"i\"],[\"color\",\"white\"]]}]]},{\"type\":\"map\",\"entries\":[[\"type\",\"info\"],[\"background\",\"#007bff\"],[\"icon\",{\"type\":\"map\",\"entries\":[[\"className\",\"fas fa-info-circle\"],[\"tagName\",\"i\"],[\"color\",\"white\"]]}]]}]}]},{\"type\":\"model\",\"name\":\"Notification\",\"properties\":[{\"name\":\"background\",\"kind\":\"Any\",\"default\":null},{\"name\":\"duration\",\"kind\":\"Any\",\"default\":3000},{\"name\":\"icon\",\"kind\":\"Any\",\"default\":null},{\"name\":\"message\",\"kind\":\"Any\",\"default\":\"\"},{\"name\":\"notification_type\",\"kind\":\"Any\",\"default\":null},{\"name\":\"_destroyed\",\"kind\":\"Any\",\"default\":false}]},{\"type\":\"model\",\"name\":\"TemplateActions1\",\"properties\":[{\"name\":\"open_modal\",\"kind\":\"Any\",\"default\":0},{\"name\":\"close_modal\",\"kind\":\"Any\",\"default\":0}]},{\"type\":\"model\",\"name\":\"BootstrapTemplateActions1\",\"properties\":[{\"name\":\"open_modal\",\"kind\":\"Any\",\"default\":0},{\"name\":\"close_modal\",\"kind\":\"Any\",\"default\":0}]},{\"type\":\"model\",\"name\":\"TemplateEditor1\",\"properties\":[{\"name\":\"layout\",\"kind\":\"Any\",\"default\":[]}]},{\"type\":\"model\",\"name\":\"MaterialTemplateActions1\",\"properties\":[{\"name\":\"open_modal\",\"kind\":\"Any\",\"default\":0},{\"name\":\"close_modal\",\"kind\":\"Any\",\"default\":0}]},{\"type\":\"model\",\"name\":\"copy_to_clipboard1\",\"properties\":[{\"name\":\"fill\",\"kind\":\"Any\",\"default\":\"none\"},{\"name\":\"value\",\"kind\":\"Any\",\"default\":null}]}]}};\n",
       "  var render_items = [{\"docid\":\"09232095-270c-4ce5-96d5-703d4e73d48b\",\"roots\":{\"p1454\":\"ffbceb31-b8ad-4088-a50f-aafe4eae0e63\"},\"root_ids\":[\"p1454\"]}];\n",
       "  var docs = Object.values(docs_json)\n",
       "  if (!docs) {\n",
       "    return\n",
       "  }\n",
       "  const py_version = docs[0].version.replace('rc', '-rc.').replace('.dev', '-dev.')\n",
       "  function embed_document(root) {\n",
       "    var Bokeh = get_bokeh(root)\n",
       "    Bokeh.embed.embed_items_notebook(docs_json, render_items);\n",
       "    for (const render_item of render_items) {\n",
       "      for (const root_id of render_item.root_ids) {\n",
       "\tconst id_el = document.getElementById(root_id)\n",
       "\tif (id_el.children.length && (id_el.children[0].className === 'bk-root')) {\n",
       "\t  const root_el = id_el.children[0]\n",
       "\t  root_el.id = root_el.id + '-rendered'\n",
       "\t}\n",
       "      }\n",
       "    }\n",
       "  }\n",
       "  function get_bokeh(root) {\n",
       "    if (root.Bokeh === undefined) {\n",
       "      return null\n",
       "    } else if (root.Bokeh.version !== py_version) {\n",
       "      if (root.Bokeh.versions === undefined || !root.Bokeh.versions.has(py_version)) {\n",
       "\treturn null\n",
       "      }\n",
       "      return root.Bokeh.versions.get(py_version);\n",
       "    } else if (root.Bokeh.version === py_version) {\n",
       "      return root.Bokeh\n",
       "    }\n",
       "    return null\n",
       "  }\n",
       "  function is_loaded(root) {\n",
       "    var Bokeh = get_bokeh(root)\n",
       "    return (Bokeh != null && Bokeh.Panel !== undefined)\n",
       "  }\n",
       "  if (is_loaded(root)) {\n",
       "    embed_document(root);\n",
       "  } else {\n",
       "    var attempts = 0;\n",
       "    var timer = setInterval(function(root) {\n",
       "      if (is_loaded(root)) {\n",
       "        clearInterval(timer);\n",
       "        embed_document(root);\n",
       "      } else if (document.readyState == \"complete\") {\n",
       "        attempts++;\n",
       "        if (attempts > 200) {\n",
       "          clearInterval(timer);\n",
       "\t  var Bokeh = get_bokeh(root)\n",
       "\t  if (Bokeh == null || Bokeh.Panel == null) {\n",
       "            console.warn(\"Panel: ERROR: Unable to run Panel code because Bokeh or Panel library is missing\");\n",
       "\t  } else {\n",
       "\t    console.warn(\"Panel: WARNING: Attempting to render but not all required libraries could be resolved.\")\n",
       "\t    embed_document(root)\n",
       "\t  }\n",
       "        }\n",
       "      }\n",
       "    }, 25, root)\n",
       "  }\n",
       "})(window);</script>"
      ],
      "text/plain": [
       ":Curve   [week]   (count)"
      ]
     },
     "execution_count": 250,
     "metadata": {
      "application/vnd.holoviews_exec.v0+json": {
       "id": "p1454"
      }
     },
     "output_type": "execute_result"
    }
   ],
   "source": [
    "# let's plot the result!\n",
    "\n",
    "(\n",
    "    nypd.group_by(\n",
    "        pl.col(\"complaint_datetime\").dt.truncate(\"1w\").cast(pl.Date).alias(\"week\")\n",
    "    )\n",
    "    .len(name=\"count\")\n",
    "    .with_columns(pl.col(\"count\").cast(pl.Int32))\n",
    "    .sort(\"week\")\n",
    "    .with_columns(\n",
    "        prior_week=pl.col(\"week\").shift(1),\n",
    "        prior_count=pl.col(\"count\").shift(1),\n",
    "        change=pl.col(\"count\").diff(1),\n",
    "        percent_change=pl.col(\"count\").pct_change(1).mul(100).round(0),\n",
    "    )\n",
    ").select(\"week\", \"count\", \"prior_count\").plot(\"week\", [\"count\"])"
   ]
  },
  {
   "cell_type": "markdown",
   "metadata": {},
   "source": [
    "#### Horizontal operations"
   ]
  },
  {
   "cell_type": "code",
   "execution_count": 251,
   "metadata": {},
   "outputs": [
    {
     "data": {
      "text/html": [
       "<div><style>\n",
       ".dataframe > thead > tr,\n",
       ".dataframe > tbody > tr {\n",
       "  text-align: right;\n",
       "  white-space: pre-wrap;\n",
       "}\n",
       "</style>\n",
       "<small>shape: (5, 6)</small><table border=\"1\" class=\"dataframe\"><thead><tr><th>borough</th><th>2018</th><th>2019</th><th>2020</th><th>2021</th><th>2022</th></tr><tr><td>str</td><td>u32</td><td>u32</td><td>u32</td><td>u32</td><td>u32</td></tr></thead><tbody><tr><td>&quot;MANHATTAN&quot;</td><td>114201</td><td>115595</td><td>97145</td><td>110296</td><td>130973</td></tr><tr><td>&quot;BRONX&quot;</td><td>100615</td><td>100359</td><td>90634</td><td>93825</td><td>110055</td></tr><tr><td>&quot;BROOKLYN&quot;</td><td>136397</td><td>131782</td><td>119012</td><td>125895</td><td>144319</td></tr><tr><td>&quot;STATEN ISLAND&quot;</td><td>20799</td><td>18875</td><td>17070</td><td>18848</td><td>22055</td></tr><tr><td>&quot;QUEENS&quot;</td><td>90155</td><td>91886</td><td>88845</td><td>98070</td><td>112244</td></tr></tbody></table></div>"
      ],
      "text/plain": [
       "shape: (5, 6)\n",
       "┌───────────────┬────────┬────────┬────────┬────────┬────────┐\n",
       "│ borough       ┆ 2018   ┆ 2019   ┆ 2020   ┆ 2021   ┆ 2022   │\n",
       "│ ---           ┆ ---    ┆ ---    ┆ ---    ┆ ---    ┆ ---    │\n",
       "│ str           ┆ u32    ┆ u32    ┆ u32    ┆ u32    ┆ u32    │\n",
       "╞═══════════════╪════════╪════════╪════════╪════════╪════════╡\n",
       "│ MANHATTAN     ┆ 114201 ┆ 115595 ┆ 97145  ┆ 110296 ┆ 130973 │\n",
       "│ BRONX         ┆ 100615 ┆ 100359 ┆ 90634  ┆ 93825  ┆ 110055 │\n",
       "│ BROOKLYN      ┆ 136397 ┆ 131782 ┆ 119012 ┆ 125895 ┆ 144319 │\n",
       "│ STATEN ISLAND ┆ 20799  ┆ 18875  ┆ 17070  ┆ 18848  ┆ 22055  │\n",
       "│ QUEENS        ┆ 90155  ┆ 91886  ┆ 88845  ┆ 98070  ┆ 112244 │\n",
       "└───────────────┴────────┴────────┴────────┴────────┴────────┘"
      ]
     },
     "execution_count": 251,
     "metadata": {},
     "output_type": "execute_result"
    }
   ],
   "source": [
    "# Let's start with a dataframe with one column per borough and one row per year\n",
    "\n",
    "nypd_crimes_by_borough = (\n",
    "    nypd.with_columns(year=pl.col(\"complaint_datetime\").dt.year())\n",
    "    .pivot(\n",
    "        index=\"borough\",\n",
    "        on=\"year\",\n",
    "        values=\"complaint_id\",\n",
    "        aggregate_function=pl.element().count(),\n",
    "    )\n",
    "    .filter(pl.col(\"borough\").is_not_null())\n",
    "    .select(\"borough\", \"2018\", \"2019\", \"2020\", \"2021\", \"2022\")\n",
    ")\n",
    "\n",
    "nypd_crimes_by_borough"
   ]
  },
  {
   "cell_type": "code",
   "execution_count": 252,
   "metadata": {},
   "outputs": [
    {
     "data": {
      "text/html": [
       "<div><style>\n",
       ".dataframe > thead > tr,\n",
       ".dataframe > tbody > tr {\n",
       "  text-align: right;\n",
       "  white-space: pre-wrap;\n",
       "}\n",
       "</style>\n",
       "<small>shape: (5, 2)</small><table border=\"1\" class=\"dataframe\"><thead><tr><th>borough</th><th>total_crime_count</th></tr><tr><td>str</td><td>u32</td></tr></thead><tbody><tr><td>&quot;MANHATTAN&quot;</td><td>568210</td></tr><tr><td>&quot;BRONX&quot;</td><td>495488</td></tr><tr><td>&quot;BROOKLYN&quot;</td><td>657405</td></tr><tr><td>&quot;STATEN ISLAND&quot;</td><td>97647</td></tr><tr><td>&quot;QUEENS&quot;</td><td>481200</td></tr></tbody></table></div>"
      ],
      "text/plain": [
       "shape: (5, 2)\n",
       "┌───────────────┬───────────────────┐\n",
       "│ borough       ┆ total_crime_count │\n",
       "│ ---           ┆ ---               │\n",
       "│ str           ┆ u32               │\n",
       "╞═══════════════╪═══════════════════╡\n",
       "│ MANHATTAN     ┆ 568210            │\n",
       "│ BRONX         ┆ 495488            │\n",
       "│ BROOKLYN      ┆ 657405            │\n",
       "│ STATEN ISLAND ┆ 97647             │\n",
       "│ QUEENS        ┆ 481200            │\n",
       "└───────────────┴───────────────────┘"
      ]
     },
     "execution_count": 252,
     "metadata": {},
     "output_type": "execute_result"
    }
   ],
   "source": [
    "# certain Polars functions calculate the result horizontally if multiple columns are passed\n",
    "# one example is sum\n",
    "# however, not all functions allow it\n",
    "\n",
    "nypd_crimes_by_borough.select(\n",
    "    \"borough\", \n",
    "    total_crime_count=pl.sum_horizontal(pl.all().exclude(\"borough\"))\n",
    ")"
   ]
  },
  {
   "cell_type": "code",
   "execution_count": 253,
   "metadata": {},
   "outputs": [
    {
     "data": {
      "text/html": [
       "<div><style>\n",
       ".dataframe > thead > tr,\n",
       ".dataframe > tbody > tr {\n",
       "  text-align: right;\n",
       "  white-space: pre-wrap;\n",
       "}\n",
       "</style>\n",
       "<small>shape: (5, 2)</small><table border=\"1\" class=\"dataframe\"><thead><tr><th>borough</th><th>avg_crime_count</th></tr><tr><td>str</td><td>f64</td></tr></thead><tbody><tr><td>&quot;MANHATTAN&quot;</td><td>113642.0</td></tr><tr><td>&quot;BRONX&quot;</td><td>99097.6</td></tr><tr><td>&quot;BROOKLYN&quot;</td><td>131481.0</td></tr><tr><td>&quot;STATEN ISLAND&quot;</td><td>19529.4</td></tr><tr><td>&quot;QUEENS&quot;</td><td>96240.0</td></tr></tbody></table></div>"
      ],
      "text/plain": [
       "shape: (5, 2)\n",
       "┌───────────────┬─────────────────┐\n",
       "│ borough       ┆ avg_crime_count │\n",
       "│ ---           ┆ ---             │\n",
       "│ str           ┆ f64             │\n",
       "╞═══════════════╪═════════════════╡\n",
       "│ MANHATTAN     ┆ 113642.0        │\n",
       "│ BRONX         ┆ 99097.6         │\n",
       "│ BROOKLYN      ┆ 131481.0        │\n",
       "│ STATEN ISLAND ┆ 19529.4         │\n",
       "│ QUEENS        ┆ 96240.0         │\n",
       "└───────────────┴─────────────────┘"
      ]
     },
     "execution_count": 253,
     "metadata": {},
     "output_type": "execute_result"
    }
   ],
   "source": [
    "# a general way to calculate expressions horizontally is concatenating the columns as lists\n",
    "# we can use it with sum, mean, and all functions available in the list namespace\n",
    "\n",
    "nypd_crimes_by_borough.select(\n",
    "    'borough',\n",
    "    avg_crime_count = \n",
    "        pl.concat_list(pl.all().exclude('borough')).list.mean()\n",
    ")"
   ]
  },
  {
   "cell_type": "code",
   "execution_count": 254,
   "metadata": {},
   "outputs": [
    {
     "data": {
      "text/html": [
       "<div><style>\n",
       ".dataframe > thead > tr,\n",
       ".dataframe > tbody > tr {\n",
       "  text-align: right;\n",
       "  white-space: pre-wrap;\n",
       "}\n",
       "</style>\n",
       "<small>shape: (5, 2)</small><table border=\"1\" class=\"dataframe\"><thead><tr><th>borough</th><th>median_crime_count</th></tr><tr><td>str</td><td>f64</td></tr></thead><tbody><tr><td>&quot;MANHATTAN&quot;</td><td>114201.0</td></tr><tr><td>&quot;BRONX&quot;</td><td>100359.0</td></tr><tr><td>&quot;BROOKLYN&quot;</td><td>131782.0</td></tr><tr><td>&quot;STATEN ISLAND&quot;</td><td>18875.0</td></tr><tr><td>&quot;QUEENS&quot;</td><td>91886.0</td></tr></tbody></table></div>"
      ],
      "text/plain": [
       "shape: (5, 2)\n",
       "┌───────────────┬────────────────────┐\n",
       "│ borough       ┆ median_crime_count │\n",
       "│ ---           ┆ ---                │\n",
       "│ str           ┆ f64                │\n",
       "╞═══════════════╪════════════════════╡\n",
       "│ MANHATTAN     ┆ 114201.0           │\n",
       "│ BRONX         ┆ 100359.0           │\n",
       "│ BROOKLYN      ┆ 131782.0           │\n",
       "│ STATEN ISLAND ┆ 18875.0            │\n",
       "│ QUEENS        ┆ 91886.0            │\n",
       "└───────────────┴────────────────────┘"
      ]
     },
     "execution_count": 254,
     "metadata": {},
     "output_type": "execute_result"
    }
   ],
   "source": [
    "# we can calculate expressions horizontally concatenating the columns as lists\n",
    "\n",
    "nypd_crimes_by_borough.select(\n",
    "    \"borough\",\n",
    "    median_crime_count=pl.concat_list(pl.all().exclude(\"borough\"))\n",
    "    .list.eval(pl.element().median())\n",
    "    .flatten(),\n",
    ")"
   ]
  },
  {
   "cell_type": "markdown",
   "metadata": {},
   "source": [
    "#### Advanced horizontal operations: reduce and fold"
   ]
  },
  {
   "cell_type": "code",
   "execution_count": 255,
   "metadata": {},
   "outputs": [
    {
     "data": {
      "text/html": [
       "<div><style>\n",
       ".dataframe > thead > tr,\n",
       ".dataframe > tbody > tr {\n",
       "  text-align: right;\n",
       "  white-space: pre-wrap;\n",
       "}\n",
       "</style>\n",
       "<small>shape: (5, 2)</small><table border=\"1\" class=\"dataframe\"><thead><tr><th>borough</th><th>total_crime_count</th></tr><tr><td>str</td><td>u32</td></tr></thead><tbody><tr><td>&quot;MANHATTAN&quot;</td><td>568210</td></tr><tr><td>&quot;BRONX&quot;</td><td>495488</td></tr><tr><td>&quot;BROOKLYN&quot;</td><td>657405</td></tr><tr><td>&quot;STATEN ISLAND&quot;</td><td>97647</td></tr><tr><td>&quot;QUEENS&quot;</td><td>481200</td></tr></tbody></table></div>"
      ],
      "text/plain": [
       "shape: (5, 2)\n",
       "┌───────────────┬───────────────────┐\n",
       "│ borough       ┆ total_crime_count │\n",
       "│ ---           ┆ ---               │\n",
       "│ str           ┆ u32               │\n",
       "╞═══════════════╪═══════════════════╡\n",
       "│ MANHATTAN     ┆ 568210            │\n",
       "│ BRONX         ┆ 495488            │\n",
       "│ BROOKLYN      ┆ 657405            │\n",
       "│ STATEN ISLAND ┆ 97647             │\n",
       "│ QUEENS        ┆ 481200            │\n",
       "└───────────────┴───────────────────┘"
      ]
     },
     "execution_count": 255,
     "metadata": {},
     "output_type": "execute_result"
    }
   ],
   "source": [
    "# We reproduce the sum of crimes per borough using reduce\n",
    "\n",
    "nypd_crimes_by_borough.select(\n",
    "    \"borough\",\n",
    "    total_crime_count=pl.reduce(\n",
    "        function=lambda accumulator, current: accumulator + current,\n",
    "        exprs=pl.all().exclude(\"borough\"),\n",
    "    ),\n",
    ")"
   ]
  },
  {
   "cell_type": "code",
   "execution_count": 256,
   "metadata": {},
   "outputs": [
    {
     "data": {
      "text/html": [
       "<div><style>\n",
       ".dataframe > thead > tr,\n",
       ".dataframe > tbody > tr {\n",
       "  text-align: right;\n",
       "  white-space: pre-wrap;\n",
       "}\n",
       "</style>\n",
       "<small>shape: (5, 2)</small><table border=\"1\" class=\"dataframe\"><thead><tr><th>borough</th><th>max_yearly_crime_count</th></tr><tr><td>str</td><td>u32</td></tr></thead><tbody><tr><td>&quot;MANHATTAN&quot;</td><td>130973</td></tr><tr><td>&quot;BRONX&quot;</td><td>110055</td></tr><tr><td>&quot;BROOKLYN&quot;</td><td>144319</td></tr><tr><td>&quot;STATEN ISLAND&quot;</td><td>22055</td></tr><tr><td>&quot;QUEENS&quot;</td><td>112244</td></tr></tbody></table></div>"
      ],
      "text/plain": [
       "shape: (5, 2)\n",
       "┌───────────────┬────────────────────────┐\n",
       "│ borough       ┆ max_yearly_crime_count │\n",
       "│ ---           ┆ ---                    │\n",
       "│ str           ┆ u32                    │\n",
       "╞═══════════════╪════════════════════════╡\n",
       "│ MANHATTAN     ┆ 130973                 │\n",
       "│ BRONX         ┆ 110055                 │\n",
       "│ BROOKLYN      ┆ 144319                 │\n",
       "│ STATEN ISLAND ┆ 22055                  │\n",
       "│ QUEENS        ┆ 112244                 │\n",
       "└───────────────┴────────────────────────┘"
      ]
     },
     "execution_count": 256,
     "metadata": {},
     "output_type": "execute_result"
    }
   ],
   "source": [
    "# a more useful example for reduce is to calculate the maximum crime count per borough\n",
    "\n",
    "nypd_crimes_by_borough.select(\n",
    "    \"borough\",\n",
    "    max_yearly_crime_count=pl.reduce(\n",
    "        function=lambda accumulator, current: pl.when(accumulator > current)\n",
    "        .then(accumulator)\n",
    "        .otherwise(current),\n",
    "        exprs=pl.all().exclude(\"borough\"),\n",
    "    ),\n",
    ")"
   ]
  },
  {
   "cell_type": "code",
   "execution_count": 257,
   "metadata": {},
   "outputs": [
    {
     "data": {
      "text/html": [
       "<div><style>\n",
       ".dataframe > thead > tr,\n",
       ".dataframe > tbody > tr {\n",
       "  text-align: right;\n",
       "  white-space: pre-wrap;\n",
       "}\n",
       "</style>\n",
       "<small>shape: (5, 2)</small><table border=\"1\" class=\"dataframe\"><thead><tr><th>borough</th><th>number_of_years_above_100k</th></tr><tr><td>str</td><td>i32</td></tr></thead><tbody><tr><td>&quot;MANHATTAN&quot;</td><td>4</td></tr><tr><td>&quot;BRONX&quot;</td><td>3</td></tr><tr><td>&quot;BROOKLYN&quot;</td><td>5</td></tr><tr><td>&quot;STATEN ISLAND&quot;</td><td>0</td></tr><tr><td>&quot;QUEENS&quot;</td><td>1</td></tr></tbody></table></div>"
      ],
      "text/plain": [
       "shape: (5, 2)\n",
       "┌───────────────┬────────────────────────────┐\n",
       "│ borough       ┆ number_of_years_above_100k │\n",
       "│ ---           ┆ ---                        │\n",
       "│ str           ┆ i32                        │\n",
       "╞═══════════════╪════════════════════════════╡\n",
       "│ MANHATTAN     ┆ 4                          │\n",
       "│ BRONX         ┆ 3                          │\n",
       "│ BROOKLYN      ┆ 5                          │\n",
       "│ STATEN ISLAND ┆ 0                          │\n",
       "│ QUEENS        ┆ 1                          │\n",
       "└───────────────┴────────────────────────────┘"
      ]
     },
     "execution_count": 257,
     "metadata": {},
     "output_type": "execute_result"
    }
   ],
   "source": [
    "# fold has one additional parameter, which is the initial value of the accumulator\n",
    "# for example we want to know the number of years where the crime count was above 100,000\n",
    "\n",
    "nypd_crimes_by_borough.select(\n",
    "    \"borough\",\n",
    "    number_of_years_above_100k=pl.fold(\n",
    "        acc=pl.lit(0),  # initial value of the accumulator 0\n",
    "        function=lambda accumulator, current: pl.when(current > 100000)\n",
    "        .then(accumulator + 1)\n",
    "        .otherwise(accumulator),\n",
    "        exprs=pl.all().exclude(\"borough\"),\n",
    "    ),\n",
    ")"
   ]
  },
  {
   "cell_type": "code",
   "execution_count": 258,
   "metadata": {},
   "outputs": [
    {
     "data": {
      "text/html": [
       "<div><style>\n",
       ".dataframe > thead > tr,\n",
       ".dataframe > tbody > tr {\n",
       "  text-align: right;\n",
       "  white-space: pre-wrap;\n",
       "}\n",
       "</style>\n",
       "<small>shape: (5, 2)</small><table border=\"1\" class=\"dataframe\"><thead><tr><th>borough</th><th>max_yearly_crime_count</th></tr><tr><td>str</td><td>struct[5]</td></tr></thead><tbody><tr><td>&quot;MANHATTAN&quot;</td><td>{114201,115595,115595,115595,130973}</td></tr><tr><td>&quot;BRONX&quot;</td><td>{100615,100615,100615,100615,110055}</td></tr><tr><td>&quot;BROOKLYN&quot;</td><td>{136397,136397,136397,136397,144319}</td></tr><tr><td>&quot;STATEN ISLAND&quot;</td><td>{20799,20799,20799,20799,22055}</td></tr><tr><td>&quot;QUEENS&quot;</td><td>{90155,91886,91886,98070,112244}</td></tr></tbody></table></div>"
      ],
      "text/plain": [
       "shape: (5, 2)\n",
       "┌───────────────┬──────────────────────────────────────┐\n",
       "│ borough       ┆ max_yearly_crime_count               │\n",
       "│ ---           ┆ ---                                  │\n",
       "│ str           ┆ struct[5]                            │\n",
       "╞═══════════════╪══════════════════════════════════════╡\n",
       "│ MANHATTAN     ┆ {114201,115595,115595,115595,130973} │\n",
       "│ BRONX         ┆ {100615,100615,100615,100615,110055} │\n",
       "│ BROOKLYN      ┆ {136397,136397,136397,136397,144319} │\n",
       "│ STATEN ISLAND ┆ {20799,20799,20799,20799,22055}      │\n",
       "│ QUEENS        ┆ {90155,91886,91886,98070,112244}     │\n",
       "└───────────────┴──────────────────────────────────────┘"
      ]
     },
     "execution_count": 258,
     "metadata": {},
     "output_type": "execute_result"
    }
   ],
   "source": [
    "# one additional function is the cumfold function, which keeps track of intermediate values and returns a struct\n",
    "# we can use cumfold to see how the maximum crime count changed over time\n",
    "\n",
    "nypd_crimes_by_borough.select(\n",
    "    \"borough\",\n",
    "    max_yearly_crime_count=pl.cum_fold(\n",
    "        acc=pl.lit(0),  # initial value of the accumulator 0\n",
    "        function=lambda accumulator, current: pl.when(accumulator > current)\n",
    "        .then(accumulator)\n",
    "        .otherwise(current),\n",
    "        exprs=pl.all().exclude(\"borough\"),\n",
    "    ),\n",
    ")"
   ]
  },
  {
   "cell_type": "markdown",
   "metadata": {},
   "source": [
    "#### Cumulative functions"
   ]
  },
  {
   "cell_type": "code",
   "execution_count": 259,
   "metadata": {},
   "outputs": [],
   "source": [
    "sp500 = pl.read_csv(\"../datasets/SP500.csv\", try_parse_dates=True)\n",
    "btc = pl.read_csv(\"../datasets/BTC-USD.csv\", try_parse_dates=True)\n",
    "\n",
    "# We know the dates are sorted in the source files, so we can tell Polars about it\n",
    "# This will make some operations faster\n",
    "sp500 = sp500.with_columns(pl.col(\"Date\").set_sorted())\n",
    "btc = btc.with_columns(pl.col(\"Date\").set_sorted())"
   ]
  },
  {
   "cell_type": "code",
   "execution_count": 260,
   "metadata": {},
   "outputs": [
    {
     "data": {
      "text/html": [
       "<div><style>\n",
       ".dataframe > thead > tr,\n",
       ".dataframe > tbody > tr {\n",
       "  text-align: right;\n",
       "  white-space: pre-wrap;\n",
       "}\n",
       "</style>\n",
       "<small>shape: (5, 7)</small><table border=\"1\" class=\"dataframe\"><thead><tr><th>Date</th><th>Open</th><th>High</th><th>Low</th><th>Close</th><th>Adj Close</th><th>Volume</th></tr><tr><td>date</td><td>f64</td><td>f64</td><td>f64</td><td>f64</td><td>f64</td><td>i64</td></tr></thead><tbody><tr><td>2019-01-02</td><td>2476.96</td><td>2519.49</td><td>2467.47</td><td>2510.03</td><td>2510.03</td><td>3733160000</td></tr><tr><td>2019-01-03</td><td>2491.92</td><td>2493.14</td><td>2443.96</td><td>2447.89</td><td>2447.89</td><td>3858830000</td></tr><tr><td>2019-01-04</td><td>2474.33</td><td>2538.07</td><td>2474.33</td><td>2531.94</td><td>2531.94</td><td>4234140000</td></tr><tr><td>2019-01-07</td><td>2535.61</td><td>2566.16</td><td>2524.56</td><td>2549.69</td><td>2549.69</td><td>4133120000</td></tr><tr><td>2019-01-08</td><td>2568.11</td><td>2579.82</td><td>2547.56</td><td>2574.41</td><td>2574.41</td><td>4120060000</td></tr></tbody></table></div>"
      ],
      "text/plain": [
       "shape: (5, 7)\n",
       "┌────────────┬─────────┬─────────┬─────────┬─────────┬───────────┬────────────┐\n",
       "│ Date       ┆ Open    ┆ High    ┆ Low     ┆ Close   ┆ Adj Close ┆ Volume     │\n",
       "│ ---        ┆ ---     ┆ ---     ┆ ---     ┆ ---     ┆ ---       ┆ ---        │\n",
       "│ date       ┆ f64     ┆ f64     ┆ f64     ┆ f64     ┆ f64       ┆ i64        │\n",
       "╞════════════╪═════════╪═════════╪═════════╪═════════╪═══════════╪════════════╡\n",
       "│ 2019-01-02 ┆ 2476.96 ┆ 2519.49 ┆ 2467.47 ┆ 2510.03 ┆ 2510.03   ┆ 3733160000 │\n",
       "│ 2019-01-03 ┆ 2491.92 ┆ 2493.14 ┆ 2443.96 ┆ 2447.89 ┆ 2447.89   ┆ 3858830000 │\n",
       "│ 2019-01-04 ┆ 2474.33 ┆ 2538.07 ┆ 2474.33 ┆ 2531.94 ┆ 2531.94   ┆ 4234140000 │\n",
       "│ 2019-01-07 ┆ 2535.61 ┆ 2566.16 ┆ 2524.56 ┆ 2549.69 ┆ 2549.69   ┆ 4133120000 │\n",
       "│ 2019-01-08 ┆ 2568.11 ┆ 2579.82 ┆ 2547.56 ┆ 2574.41 ┆ 2574.41   ┆ 4120060000 │\n",
       "└────────────┴─────────┴─────────┴─────────┴─────────┴───────────┴────────────┘"
      ]
     },
     "execution_count": 260,
     "metadata": {},
     "output_type": "execute_result"
    }
   ],
   "source": [
    "sp500.head(5)"
   ]
  },
  {
   "cell_type": "code",
   "execution_count": 261,
   "metadata": {},
   "outputs": [
    {
     "data": {
      "text/html": [
       "<div><style>\n",
       ".dataframe > thead > tr,\n",
       ".dataframe > tbody > tr {\n",
       "  text-align: right;\n",
       "  white-space: pre-wrap;\n",
       "}\n",
       "</style>\n",
       "<small>shape: (5, 3)</small><table border=\"1\" class=\"dataframe\"><thead><tr><th>Date</th><th>Adj Close</th><th>cum_max_adj_close</th></tr><tr><td>date</td><td>f64</td><td>f64</td></tr></thead><tbody><tr><td>2019-01-02</td><td>2510.03</td><td>2510.03</td></tr><tr><td>2019-01-03</td><td>2447.89</td><td>2510.03</td></tr><tr><td>2019-01-04</td><td>2531.94</td><td>2531.94</td></tr><tr><td>2019-01-07</td><td>2549.69</td><td>2549.69</td></tr><tr><td>2019-01-08</td><td>2574.41</td><td>2574.41</td></tr></tbody></table></div>"
      ],
      "text/plain": [
       "shape: (5, 3)\n",
       "┌────────────┬───────────┬───────────────────┐\n",
       "│ Date       ┆ Adj Close ┆ cum_max_adj_close │\n",
       "│ ---        ┆ ---       ┆ ---               │\n",
       "│ date       ┆ f64       ┆ f64               │\n",
       "╞════════════╪═══════════╪═══════════════════╡\n",
       "│ 2019-01-02 ┆ 2510.03   ┆ 2510.03           │\n",
       "│ 2019-01-03 ┆ 2447.89   ┆ 2510.03           │\n",
       "│ 2019-01-04 ┆ 2531.94   ┆ 2531.94           │\n",
       "│ 2019-01-07 ┆ 2549.69   ┆ 2549.69           │\n",
       "│ 2019-01-08 ┆ 2574.41   ┆ 2574.41           │\n",
       "└────────────┴───────────┴───────────────────┘"
      ]
     },
     "execution_count": 261,
     "metadata": {},
     "output_type": "execute_result"
    }
   ],
   "source": [
    "# we can calculate the cumulative max of the adjusted close price\n",
    "\n",
    "sp500.select(\"Date\", \"Adj Close\", cum_max_adj_close=pl.col(\"Adj Close\").cum_max()).head(\n",
    "    5\n",
    ")"
   ]
  },
  {
   "cell_type": "code",
   "execution_count": 262,
   "metadata": {},
   "outputs": [
    {
     "data": {
      "text/html": [
       "<div><style>\n",
       ".dataframe > thead > tr,\n",
       ".dataframe > tbody > tr {\n",
       "  text-align: right;\n",
       "  white-space: pre-wrap;\n",
       "}\n",
       "</style>\n",
       "<small>shape: (5, 4)</small><table border=\"1\" class=\"dataframe\"><thead><tr><th>Date</th><th>Adj Close</th><th>daily_return_percent</th><th>cumulative_return_percent</th></tr><tr><td>date</td><td>f64</td><td>f64</td><td>f64</td></tr></thead><tbody><tr><td>2019-01-02</td><td>2510.03</td><td>null</td><td>null</td></tr><tr><td>2019-01-03</td><td>2447.89</td><td>-2.475668</td><td>-2.475668</td></tr><tr><td>2019-01-04</td><td>2531.94</td><td>3.433569</td><td>0.872898</td></tr><tr><td>2019-01-07</td><td>2549.69</td><td>0.701043</td><td>1.580061</td></tr><tr><td>2019-01-08</td><td>2574.41</td><td>0.96953</td><td>2.56491</td></tr></tbody></table></div>"
      ],
      "text/plain": [
       "shape: (5, 4)\n",
       "┌────────────┬───────────┬──────────────────────┬───────────────────────────┐\n",
       "│ Date       ┆ Adj Close ┆ daily_return_percent ┆ cumulative_return_percent │\n",
       "│ ---        ┆ ---       ┆ ---                  ┆ ---                       │\n",
       "│ date       ┆ f64       ┆ f64                  ┆ f64                       │\n",
       "╞════════════╪═══════════╪══════════════════════╪═══════════════════════════╡\n",
       "│ 2019-01-02 ┆ 2510.03   ┆ null                 ┆ null                      │\n",
       "│ 2019-01-03 ┆ 2447.89   ┆ -2.475668            ┆ -2.475668                 │\n",
       "│ 2019-01-04 ┆ 2531.94   ┆ 3.433569             ┆ 0.872898                  │\n",
       "│ 2019-01-07 ┆ 2549.69   ┆ 0.701043             ┆ 1.580061                  │\n",
       "│ 2019-01-08 ┆ 2574.41   ┆ 0.96953              ┆ 2.56491                   │\n",
       "└────────────┴───────────┴──────────────────────┴───────────────────────────┘"
      ]
     },
     "execution_count": 262,
     "metadata": {},
     "output_type": "execute_result"
    }
   ],
   "source": [
    "# we can add a column with percent change, then calculate the cumulative return with cumprod\n",
    "\n",
    "sp500.select(\n",
    "    \"Date\",\n",
    "    \"Adj Close\",\n",
    "    daily_return_percent=pl.col(\"Adj Close\").pct_change().mul(100),\n",
    "    cumulative_return_percent=pl.col(\"Adj Close\")\n",
    "    .pct_change()\n",
    "    .add(1)\n",
    "    .cum_prod()\n",
    "    .sub(1)\n",
    "    .mul(100),\n",
    ").head(5)"
   ]
  },
  {
   "cell_type": "code",
   "execution_count": 263,
   "metadata": {},
   "outputs": [
    {
     "data": {
      "text/html": [
       "<div><style>\n",
       ".dataframe > thead > tr,\n",
       ".dataframe > tbody > tr {\n",
       "  text-align: right;\n",
       "  white-space: pre-wrap;\n",
       "}\n",
       "</style>\n",
       "<small>shape: (5, 4)</small><table border=\"1\" class=\"dataframe\"><thead><tr><th>Date</th><th>Adj Close</th><th>max_to_date</th><th>diff_from_max</th></tr><tr><td>date</td><td>f64</td><td>f64</td><td>f64</td></tr></thead><tbody><tr><td>2019-01-02</td><td>2510.03</td><td>2510.03</td><td>0.0</td></tr><tr><td>2019-01-03</td><td>2447.89</td><td>2510.03</td><td>-62.14</td></tr><tr><td>2019-01-04</td><td>2531.94</td><td>2531.94</td><td>0.0</td></tr><tr><td>2019-01-07</td><td>2549.69</td><td>2549.69</td><td>0.0</td></tr><tr><td>2019-01-08</td><td>2574.41</td><td>2574.41</td><td>0.0</td></tr></tbody></table></div>"
      ],
      "text/plain": [
       "shape: (5, 4)\n",
       "┌────────────┬───────────┬─────────────┬───────────────┐\n",
       "│ Date       ┆ Adj Close ┆ max_to_date ┆ diff_from_max │\n",
       "│ ---        ┆ ---       ┆ ---         ┆ ---           │\n",
       "│ date       ┆ f64       ┆ f64         ┆ f64           │\n",
       "╞════════════╪═══════════╪═════════════╪═══════════════╡\n",
       "│ 2019-01-02 ┆ 2510.03   ┆ 2510.03     ┆ 0.0           │\n",
       "│ 2019-01-03 ┆ 2447.89   ┆ 2510.03     ┆ -62.14        │\n",
       "│ 2019-01-04 ┆ 2531.94   ┆ 2531.94     ┆ 0.0           │\n",
       "│ 2019-01-07 ┆ 2549.69   ┆ 2549.69     ┆ 0.0           │\n",
       "│ 2019-01-08 ┆ 2574.41   ┆ 2574.41     ┆ 0.0           │\n",
       "└────────────┴───────────┴─────────────┴───────────────┘"
      ]
     },
     "execution_count": 263,
     "metadata": {},
     "output_type": "execute_result"
    }
   ],
   "source": [
    "# for more advanced calculation, a cumulative_eval function is available\n",
    "# cumulative_eval calculates a value for each row, by looking the current and all previous rows\n",
    "# for example, I want to calculate the difference between the current close value and the maximum value to date\n",
    "\n",
    "sp500.select(\n",
    "    \"Date\",\n",
    "    \"Adj Close\",\n",
    "    max_to_date=pl.col(\"Adj Close\").cum_max(),\n",
    "    diff_from_max=pl.col(\"Adj Close\").cumulative_eval(\n",
    "        pl.element().last() - pl.element().max()\n",
    "    ),\n",
    ").head(5)"
   ]
  },
  {
   "cell_type": "markdown",
   "metadata": {},
   "source": [
    "#### Rolling functions"
   ]
  },
  {
   "cell_type": "code",
   "execution_count": 264,
   "metadata": {},
   "outputs": [
    {
     "data": {
      "text/html": [
       "<div><style>\n",
       ".dataframe > thead > tr,\n",
       ".dataframe > tbody > tr {\n",
       "  text-align: right;\n",
       "  white-space: pre-wrap;\n",
       "}\n",
       "</style>\n",
       "<small>shape: (5, 3)</small><table border=\"1\" class=\"dataframe\"><thead><tr><th>Date</th><th>Adj Close</th><th>rolling_min_price</th></tr><tr><td>datetime[μs]</td><td>f64</td><td>f64</td></tr></thead><tbody><tr><td>2019-01-02 00:00:00</td><td>2510.03</td><td>null</td></tr><tr><td>2019-01-03 00:00:00</td><td>2447.89</td><td>2510.03</td></tr><tr><td>2019-01-04 00:00:00</td><td>2531.94</td><td>2447.89</td></tr><tr><td>2019-01-07 00:00:00</td><td>2549.69</td><td>2531.94</td></tr><tr><td>2019-01-08 00:00:00</td><td>2574.41</td><td>2549.69</td></tr></tbody></table></div>"
      ],
      "text/plain": [
       "shape: (5, 3)\n",
       "┌─────────────────────┬───────────┬───────────────────┐\n",
       "│ Date                ┆ Adj Close ┆ rolling_min_price │\n",
       "│ ---                 ┆ ---       ┆ ---               │\n",
       "│ datetime[μs]        ┆ f64       ┆ f64               │\n",
       "╞═════════════════════╪═══════════╪═══════════════════╡\n",
       "│ 2019-01-02 00:00:00 ┆ 2510.03   ┆ null              │\n",
       "│ 2019-01-03 00:00:00 ┆ 2447.89   ┆ 2510.03           │\n",
       "│ 2019-01-04 00:00:00 ┆ 2531.94   ┆ 2447.89           │\n",
       "│ 2019-01-07 00:00:00 ┆ 2549.69   ┆ 2531.94           │\n",
       "│ 2019-01-08 00:00:00 ┆ 2574.41   ┆ 2549.69           │\n",
       "└─────────────────────┴───────────┴───────────────────┘"
      ]
     },
     "execution_count": 264,
     "metadata": {},
     "output_type": "execute_result"
    }
   ],
   "source": [
    "# Rolling functions are similar to cumulative functions, but we are not limited to looking at all rows\n",
    "# can specify a number of rows to look at using window_size\n",
    "# window_size can also be a temporal interval, for example '3d' for 3 days\n",
    "# the date column should be of type datetime so we can it to datetime first\n",
    "\n",
    "from datetime import time\n",
    "\n",
    "(\n",
    "    sp500.head(5)\n",
    "    .with_columns(pl.col(\"Date\").dt.combine(time(0)))\n",
    "    .select(\n",
    "        \"Date\",\n",
    "        \"Adj Close\",\n",
    "        rolling_min_price=pl.col(\"Adj Close\").rolling_min_by(\n",
    "            by=\"Date\", window_size=\"3d\", closed=\"left\"\n",
    "        ),\n",
    "    )\n",
    ")"
   ]
  },
  {
   "cell_type": "code",
   "execution_count": 265,
   "metadata": {},
   "outputs": [
    {
     "data": {
      "text/html": [
       "<div><style>\n",
       ".dataframe > thead > tr,\n",
       ".dataframe > tbody > tr {\n",
       "  text-align: right;\n",
       "  white-space: pre-wrap;\n",
       "}\n",
       "</style>\n",
       "<small>shape: (5, 3)</small><table border=\"1\" class=\"dataframe\"><thead><tr><th>Date</th><th>Adj Close</th><th>rolling_min_price</th></tr><tr><td>date</td><td>f64</td><td>f64</td></tr></thead><tbody><tr><td>2019-01-02</td><td>2510.03</td><td>null</td></tr><tr><td>2019-01-03</td><td>2447.89</td><td>null</td></tr><tr><td>2019-01-04</td><td>2531.94</td><td>2447.89</td></tr><tr><td>2019-01-07</td><td>2549.69</td><td>2447.89</td></tr><tr><td>2019-01-08</td><td>2574.41</td><td>2531.94</td></tr></tbody></table></div>"
      ],
      "text/plain": [
       "shape: (5, 3)\n",
       "┌────────────┬───────────┬───────────────────┐\n",
       "│ Date       ┆ Adj Close ┆ rolling_min_price │\n",
       "│ ---        ┆ ---       ┆ ---               │\n",
       "│ date       ┆ f64       ┆ f64               │\n",
       "╞════════════╪═══════════╪═══════════════════╡\n",
       "│ 2019-01-02 ┆ 2510.03   ┆ null              │\n",
       "│ 2019-01-03 ┆ 2447.89   ┆ null              │\n",
       "│ 2019-01-04 ┆ 2531.94   ┆ 2447.89           │\n",
       "│ 2019-01-07 ┆ 2549.69   ┆ 2447.89           │\n",
       "│ 2019-01-08 ┆ 2574.41   ┆ 2531.94           │\n",
       "└────────────┴───────────┴───────────────────┘"
      ]
     },
     "execution_count": 265,
     "metadata": {},
     "output_type": "execute_result"
    }
   ],
   "source": [
    "# we can also use number of rows instead of a temporal interval\n",
    "# in that case, we pass an integer to window_size\n",
    "# the result is not the same, because the number of rows is not the same as the number of days\n",
    "\n",
    "(\n",
    "    sp500.head(5).select(\n",
    "        \"Date\",\n",
    "        \"Adj Close\",\n",
    "        rolling_min_price=pl.col(\"Adj Close\").rolling_min(window_size=3),\n",
    "    )\n",
    ")"
   ]
  },
  {
   "cell_type": "code",
   "execution_count": 266,
   "metadata": {},
   "outputs": [
    {
     "data": {
      "application/vnd.plotly.v1+json": {
       "config": {
        "plotlyServerURL": "https://plot.ly"
       },
       "data": [
        {
         "hovertemplate": "Date=%{x}<br>corr=%{y}<extra></extra>",
         "legendgroup": "",
         "line": {
          "color": "#636efa",
          "dash": "solid"
         },
         "marker": {
          "symbol": "circle"
         },
         "mode": "lines",
         "name": "",
         "showlegend": false,
         "type": "scattergl",
         "x": [
          "2019-01-02T00:00:00",
          "2019-01-03T00:00:00",
          "2019-01-04T00:00:00",
          "2019-01-07T00:00:00",
          "2019-01-08T00:00:00",
          "2019-01-09T00:00:00",
          "2019-01-10T00:00:00",
          "2019-01-11T00:00:00",
          "2019-01-14T00:00:00",
          "2019-01-15T00:00:00",
          "2019-01-16T00:00:00",
          "2019-01-17T00:00:00",
          "2019-01-18T00:00:00",
          "2019-01-22T00:00:00",
          "2019-01-23T00:00:00",
          "2019-01-24T00:00:00",
          "2019-01-25T00:00:00",
          "2019-01-28T00:00:00",
          "2019-01-29T00:00:00",
          "2019-01-30T00:00:00",
          "2019-01-31T00:00:00",
          "2019-02-01T00:00:00",
          "2019-02-04T00:00:00",
          "2019-02-05T00:00:00",
          "2019-02-06T00:00:00",
          "2019-02-07T00:00:00",
          "2019-02-08T00:00:00",
          "2019-02-11T00:00:00",
          "2019-02-12T00:00:00",
          "2019-02-13T00:00:00",
          "2019-02-14T00:00:00",
          "2019-02-15T00:00:00",
          "2019-02-19T00:00:00",
          "2019-02-20T00:00:00",
          "2019-02-21T00:00:00",
          "2019-02-22T00:00:00",
          "2019-02-25T00:00:00",
          "2019-02-26T00:00:00",
          "2019-02-27T00:00:00",
          "2019-02-28T00:00:00",
          "2019-03-01T00:00:00",
          "2019-03-04T00:00:00",
          "2019-03-05T00:00:00",
          "2019-03-06T00:00:00",
          "2019-03-07T00:00:00",
          "2019-03-08T00:00:00",
          "2019-03-11T00:00:00",
          "2019-03-12T00:00:00",
          "2019-03-13T00:00:00",
          "2019-03-14T00:00:00",
          "2019-03-15T00:00:00",
          "2019-03-18T00:00:00",
          "2019-03-19T00:00:00",
          "2019-03-20T00:00:00",
          "2019-03-21T00:00:00",
          "2019-03-22T00:00:00",
          "2019-03-25T00:00:00",
          "2019-03-26T00:00:00",
          "2019-03-27T00:00:00",
          "2019-03-28T00:00:00",
          "2019-03-29T00:00:00",
          "2019-04-01T00:00:00",
          "2019-04-02T00:00:00",
          "2019-04-03T00:00:00",
          "2019-04-04T00:00:00",
          "2019-04-05T00:00:00",
          "2019-04-08T00:00:00",
          "2019-04-09T00:00:00",
          "2019-04-10T00:00:00",
          "2019-04-11T00:00:00",
          "2019-04-12T00:00:00",
          "2019-04-15T00:00:00",
          "2019-04-16T00:00:00",
          "2019-04-17T00:00:00",
          "2019-04-18T00:00:00",
          "2019-04-22T00:00:00",
          "2019-04-23T00:00:00",
          "2019-04-24T00:00:00",
          "2019-04-25T00:00:00",
          "2019-04-26T00:00:00",
          "2019-04-29T00:00:00",
          "2019-04-30T00:00:00",
          "2019-05-01T00:00:00",
          "2019-05-02T00:00:00",
          "2019-05-03T00:00:00",
          "2019-05-06T00:00:00",
          "2019-05-07T00:00:00",
          "2019-05-08T00:00:00",
          "2019-05-09T00:00:00",
          "2019-05-10T00:00:00",
          "2019-05-13T00:00:00",
          "2019-05-14T00:00:00",
          "2019-05-15T00:00:00",
          "2019-05-16T00:00:00",
          "2019-05-17T00:00:00",
          "2019-05-20T00:00:00",
          "2019-05-21T00:00:00",
          "2019-05-22T00:00:00",
          "2019-05-23T00:00:00",
          "2019-05-24T00:00:00",
          "2019-05-28T00:00:00",
          "2019-05-29T00:00:00",
          "2019-05-30T00:00:00",
          "2019-05-31T00:00:00",
          "2019-06-03T00:00:00",
          "2019-06-04T00:00:00",
          "2019-06-05T00:00:00",
          "2019-06-06T00:00:00",
          "2019-06-07T00:00:00",
          "2019-06-10T00:00:00",
          "2019-06-11T00:00:00",
          "2019-06-12T00:00:00",
          "2019-06-13T00:00:00",
          "2019-06-14T00:00:00",
          "2019-06-17T00:00:00",
          "2019-06-18T00:00:00",
          "2019-06-19T00:00:00",
          "2019-06-20T00:00:00",
          "2019-06-21T00:00:00",
          "2019-06-24T00:00:00",
          "2019-06-25T00:00:00",
          "2019-06-26T00:00:00",
          "2019-06-27T00:00:00",
          "2019-06-28T00:00:00",
          "2019-07-01T00:00:00",
          "2019-07-02T00:00:00",
          "2019-07-03T00:00:00",
          "2019-07-05T00:00:00",
          "2019-07-08T00:00:00",
          "2019-07-09T00:00:00",
          "2019-07-10T00:00:00",
          "2019-07-11T00:00:00",
          "2019-07-12T00:00:00",
          "2019-07-15T00:00:00",
          "2019-07-16T00:00:00",
          "2019-07-17T00:00:00",
          "2019-07-18T00:00:00",
          "2019-07-19T00:00:00",
          "2019-07-22T00:00:00",
          "2019-07-23T00:00:00",
          "2019-07-24T00:00:00",
          "2019-07-25T00:00:00",
          "2019-07-26T00:00:00",
          "2019-07-29T00:00:00",
          "2019-07-30T00:00:00",
          "2019-07-31T00:00:00",
          "2019-08-01T00:00:00",
          "2019-08-02T00:00:00",
          "2019-08-05T00:00:00",
          "2019-08-06T00:00:00",
          "2019-08-07T00:00:00",
          "2019-08-08T00:00:00",
          "2019-08-09T00:00:00",
          "2019-08-12T00:00:00",
          "2019-08-13T00:00:00",
          "2019-08-14T00:00:00",
          "2019-08-15T00:00:00",
          "2019-08-16T00:00:00",
          "2019-08-19T00:00:00",
          "2019-08-20T00:00:00",
          "2019-08-21T00:00:00",
          "2019-08-22T00:00:00",
          "2019-08-23T00:00:00",
          "2019-08-26T00:00:00",
          "2019-08-27T00:00:00",
          "2019-08-28T00:00:00",
          "2019-08-29T00:00:00",
          "2019-08-30T00:00:00",
          "2019-09-03T00:00:00",
          "2019-09-04T00:00:00",
          "2019-09-05T00:00:00",
          "2019-09-06T00:00:00",
          "2019-09-09T00:00:00",
          "2019-09-10T00:00:00",
          "2019-09-11T00:00:00",
          "2019-09-12T00:00:00",
          "2019-09-13T00:00:00",
          "2019-09-16T00:00:00",
          "2019-09-17T00:00:00",
          "2019-09-18T00:00:00",
          "2019-09-19T00:00:00",
          "2019-09-20T00:00:00",
          "2019-09-23T00:00:00",
          "2019-09-24T00:00:00",
          "2019-09-25T00:00:00",
          "2019-09-26T00:00:00",
          "2019-09-27T00:00:00",
          "2019-09-30T00:00:00",
          "2019-10-01T00:00:00",
          "2019-10-02T00:00:00",
          "2019-10-03T00:00:00",
          "2019-10-04T00:00:00",
          "2019-10-07T00:00:00",
          "2019-10-08T00:00:00",
          "2019-10-09T00:00:00",
          "2019-10-10T00:00:00",
          "2019-10-11T00:00:00",
          "2019-10-14T00:00:00",
          "2019-10-15T00:00:00",
          "2019-10-16T00:00:00",
          "2019-10-17T00:00:00",
          "2019-10-18T00:00:00",
          "2019-10-21T00:00:00",
          "2019-10-22T00:00:00",
          "2019-10-23T00:00:00",
          "2019-10-24T00:00:00",
          "2019-10-25T00:00:00",
          "2019-10-28T00:00:00",
          "2019-10-29T00:00:00",
          "2019-10-30T00:00:00",
          "2019-10-31T00:00:00",
          "2019-11-01T00:00:00",
          "2019-11-04T00:00:00",
          "2019-11-05T00:00:00",
          "2019-11-06T00:00:00",
          "2019-11-07T00:00:00",
          "2019-11-08T00:00:00",
          "2019-11-11T00:00:00",
          "2019-11-12T00:00:00",
          "2019-11-13T00:00:00",
          "2019-11-14T00:00:00",
          "2019-11-15T00:00:00",
          "2019-11-18T00:00:00",
          "2019-11-19T00:00:00",
          "2019-11-20T00:00:00",
          "2019-11-21T00:00:00",
          "2019-11-22T00:00:00",
          "2019-11-25T00:00:00",
          "2019-11-26T00:00:00",
          "2019-11-27T00:00:00",
          "2019-11-29T00:00:00",
          "2019-12-02T00:00:00",
          "2019-12-03T00:00:00",
          "2019-12-04T00:00:00",
          "2019-12-05T00:00:00",
          "2019-12-06T00:00:00",
          "2019-12-09T00:00:00",
          "2019-12-10T00:00:00",
          "2019-12-11T00:00:00",
          "2019-12-12T00:00:00",
          "2019-12-13T00:00:00",
          "2019-12-16T00:00:00",
          "2019-12-17T00:00:00",
          "2019-12-18T00:00:00",
          "2019-12-19T00:00:00",
          "2019-12-20T00:00:00",
          "2019-12-23T00:00:00",
          "2019-12-24T00:00:00",
          "2019-12-26T00:00:00",
          "2019-12-27T00:00:00",
          "2019-12-30T00:00:00",
          "2019-12-31T00:00:00",
          "2020-01-02T00:00:00",
          "2020-01-03T00:00:00",
          "2020-01-06T00:00:00",
          "2020-01-07T00:00:00",
          "2020-01-08T00:00:00",
          "2020-01-09T00:00:00",
          "2020-01-10T00:00:00",
          "2020-01-13T00:00:00",
          "2020-01-14T00:00:00",
          "2020-01-15T00:00:00",
          "2020-01-16T00:00:00",
          "2020-01-17T00:00:00",
          "2020-01-21T00:00:00",
          "2020-01-22T00:00:00",
          "2020-01-23T00:00:00",
          "2020-01-24T00:00:00",
          "2020-01-27T00:00:00",
          "2020-01-28T00:00:00",
          "2020-01-29T00:00:00",
          "2020-01-30T00:00:00",
          "2020-01-31T00:00:00",
          "2020-02-03T00:00:00",
          "2020-02-04T00:00:00",
          "2020-02-05T00:00:00",
          "2020-02-06T00:00:00",
          "2020-02-07T00:00:00",
          "2020-02-10T00:00:00",
          "2020-02-11T00:00:00",
          "2020-02-12T00:00:00",
          "2020-02-13T00:00:00",
          "2020-02-14T00:00:00",
          "2020-02-18T00:00:00",
          "2020-02-19T00:00:00",
          "2020-02-20T00:00:00",
          "2020-02-21T00:00:00",
          "2020-02-24T00:00:00",
          "2020-02-25T00:00:00",
          "2020-02-26T00:00:00",
          "2020-02-27T00:00:00",
          "2020-02-28T00:00:00",
          "2020-03-02T00:00:00",
          "2020-03-03T00:00:00",
          "2020-03-04T00:00:00",
          "2020-03-05T00:00:00",
          "2020-03-06T00:00:00",
          "2020-03-09T00:00:00",
          "2020-03-10T00:00:00",
          "2020-03-11T00:00:00",
          "2020-03-12T00:00:00",
          "2020-03-13T00:00:00",
          "2020-03-16T00:00:00",
          "2020-03-17T00:00:00",
          "2020-03-18T00:00:00",
          "2020-03-19T00:00:00",
          "2020-03-20T00:00:00",
          "2020-03-23T00:00:00",
          "2020-03-24T00:00:00",
          "2020-03-25T00:00:00",
          "2020-03-26T00:00:00",
          "2020-03-27T00:00:00",
          "2020-03-30T00:00:00",
          "2020-03-31T00:00:00",
          "2020-04-01T00:00:00",
          "2020-04-02T00:00:00",
          "2020-04-03T00:00:00",
          "2020-04-06T00:00:00",
          "2020-04-07T00:00:00",
          "2020-04-08T00:00:00",
          "2020-04-09T00:00:00",
          "2020-04-13T00:00:00",
          "2020-04-14T00:00:00",
          "2020-04-15T00:00:00",
          "2020-04-16T00:00:00",
          "2020-04-17T00:00:00",
          "2020-04-20T00:00:00",
          "2020-04-21T00:00:00",
          "2020-04-22T00:00:00",
          "2020-04-23T00:00:00",
          "2020-04-24T00:00:00",
          "2020-04-27T00:00:00",
          "2020-04-28T00:00:00",
          "2020-04-29T00:00:00",
          "2020-04-30T00:00:00",
          "2020-05-01T00:00:00",
          "2020-05-04T00:00:00",
          "2020-05-05T00:00:00",
          "2020-05-06T00:00:00",
          "2020-05-07T00:00:00",
          "2020-05-08T00:00:00",
          "2020-05-11T00:00:00",
          "2020-05-12T00:00:00",
          "2020-05-13T00:00:00",
          "2020-05-14T00:00:00",
          "2020-05-15T00:00:00",
          "2020-05-18T00:00:00",
          "2020-05-19T00:00:00",
          "2020-05-20T00:00:00",
          "2020-05-21T00:00:00",
          "2020-05-22T00:00:00",
          "2020-05-26T00:00:00",
          "2020-05-27T00:00:00",
          "2020-05-28T00:00:00",
          "2020-05-29T00:00:00",
          "2020-06-01T00:00:00",
          "2020-06-02T00:00:00",
          "2020-06-03T00:00:00",
          "2020-06-04T00:00:00",
          "2020-06-05T00:00:00",
          "2020-06-08T00:00:00",
          "2020-06-09T00:00:00",
          "2020-06-10T00:00:00",
          "2020-06-11T00:00:00",
          "2020-06-12T00:00:00",
          "2020-06-15T00:00:00",
          "2020-06-16T00:00:00",
          "2020-06-17T00:00:00",
          "2020-06-18T00:00:00",
          "2020-06-19T00:00:00",
          "2020-06-22T00:00:00",
          "2020-06-23T00:00:00",
          "2020-06-24T00:00:00",
          "2020-06-25T00:00:00",
          "2020-06-26T00:00:00",
          "2020-06-29T00:00:00",
          "2020-06-30T00:00:00",
          "2020-07-01T00:00:00",
          "2020-07-02T00:00:00",
          "2020-07-06T00:00:00",
          "2020-07-07T00:00:00",
          "2020-07-08T00:00:00",
          "2020-07-09T00:00:00",
          "2020-07-10T00:00:00",
          "2020-07-13T00:00:00",
          "2020-07-14T00:00:00",
          "2020-07-15T00:00:00",
          "2020-07-16T00:00:00",
          "2020-07-17T00:00:00",
          "2020-07-20T00:00:00",
          "2020-07-21T00:00:00",
          "2020-07-22T00:00:00",
          "2020-07-23T00:00:00",
          "2020-07-24T00:00:00",
          "2020-07-27T00:00:00",
          "2020-07-28T00:00:00",
          "2020-07-29T00:00:00",
          "2020-07-30T00:00:00",
          "2020-07-31T00:00:00",
          "2020-08-03T00:00:00",
          "2020-08-04T00:00:00",
          "2020-08-05T00:00:00",
          "2020-08-06T00:00:00",
          "2020-08-07T00:00:00",
          "2020-08-10T00:00:00",
          "2020-08-11T00:00:00",
          "2020-08-12T00:00:00",
          "2020-08-13T00:00:00",
          "2020-08-14T00:00:00",
          "2020-08-17T00:00:00",
          "2020-08-18T00:00:00",
          "2020-08-19T00:00:00",
          "2020-08-20T00:00:00",
          "2020-08-21T00:00:00",
          "2020-08-24T00:00:00",
          "2020-08-25T00:00:00",
          "2020-08-26T00:00:00",
          "2020-08-27T00:00:00",
          "2020-08-28T00:00:00",
          "2020-08-31T00:00:00",
          "2020-09-01T00:00:00",
          "2020-09-02T00:00:00",
          "2020-09-03T00:00:00",
          "2020-09-04T00:00:00",
          "2020-09-08T00:00:00",
          "2020-09-09T00:00:00",
          "2020-09-10T00:00:00",
          "2020-09-11T00:00:00",
          "2020-09-14T00:00:00",
          "2020-09-15T00:00:00",
          "2020-09-16T00:00:00",
          "2020-09-17T00:00:00",
          "2020-09-18T00:00:00",
          "2020-09-21T00:00:00",
          "2020-09-22T00:00:00",
          "2020-09-23T00:00:00",
          "2020-09-24T00:00:00",
          "2020-09-25T00:00:00",
          "2020-09-28T00:00:00",
          "2020-09-29T00:00:00",
          "2020-09-30T00:00:00",
          "2020-10-01T00:00:00",
          "2020-10-02T00:00:00",
          "2020-10-05T00:00:00",
          "2020-10-06T00:00:00",
          "2020-10-07T00:00:00",
          "2020-10-08T00:00:00",
          "2020-10-09T00:00:00",
          "2020-10-12T00:00:00",
          "2020-10-13T00:00:00",
          "2020-10-14T00:00:00",
          "2020-10-15T00:00:00",
          "2020-10-16T00:00:00",
          "2020-10-19T00:00:00",
          "2020-10-20T00:00:00",
          "2020-10-21T00:00:00",
          "2020-10-22T00:00:00",
          "2020-10-23T00:00:00",
          "2020-10-26T00:00:00",
          "2020-10-27T00:00:00",
          "2020-10-28T00:00:00",
          "2020-10-29T00:00:00",
          "2020-10-30T00:00:00",
          "2020-11-02T00:00:00",
          "2020-11-03T00:00:00",
          "2020-11-04T00:00:00",
          "2020-11-05T00:00:00",
          "2020-11-06T00:00:00",
          "2020-11-09T00:00:00",
          "2020-11-10T00:00:00",
          "2020-11-11T00:00:00",
          "2020-11-12T00:00:00",
          "2020-11-13T00:00:00",
          "2020-11-16T00:00:00",
          "2020-11-17T00:00:00",
          "2020-11-18T00:00:00",
          "2020-11-19T00:00:00",
          "2020-11-20T00:00:00",
          "2020-11-23T00:00:00",
          "2020-11-24T00:00:00",
          "2020-11-25T00:00:00",
          "2020-11-27T00:00:00",
          "2020-11-30T00:00:00",
          "2020-12-01T00:00:00",
          "2020-12-02T00:00:00",
          "2020-12-03T00:00:00",
          "2020-12-04T00:00:00",
          "2020-12-07T00:00:00",
          "2020-12-08T00:00:00",
          "2020-12-09T00:00:00",
          "2020-12-10T00:00:00",
          "2020-12-11T00:00:00",
          "2020-12-14T00:00:00",
          "2020-12-15T00:00:00",
          "2020-12-16T00:00:00",
          "2020-12-17T00:00:00",
          "2020-12-18T00:00:00",
          "2020-12-21T00:00:00",
          "2020-12-22T00:00:00",
          "2020-12-23T00:00:00",
          "2020-12-24T00:00:00",
          "2020-12-28T00:00:00",
          "2020-12-29T00:00:00",
          "2020-12-30T00:00:00",
          "2020-12-31T00:00:00",
          "2021-01-04T00:00:00",
          "2021-01-05T00:00:00",
          "2021-01-06T00:00:00",
          "2021-01-07T00:00:00",
          "2021-01-08T00:00:00",
          "2021-01-11T00:00:00",
          "2021-01-12T00:00:00",
          "2021-01-13T00:00:00",
          "2021-01-14T00:00:00",
          "2021-01-15T00:00:00",
          "2021-01-19T00:00:00",
          "2021-01-20T00:00:00",
          "2021-01-21T00:00:00",
          "2021-01-22T00:00:00",
          "2021-01-25T00:00:00",
          "2021-01-26T00:00:00",
          "2021-01-27T00:00:00",
          "2021-01-28T00:00:00",
          "2021-01-29T00:00:00",
          "2021-02-01T00:00:00",
          "2021-02-02T00:00:00",
          "2021-02-03T00:00:00",
          "2021-02-04T00:00:00",
          "2021-02-05T00:00:00",
          "2021-02-08T00:00:00",
          "2021-02-09T00:00:00",
          "2021-02-10T00:00:00",
          "2021-02-11T00:00:00",
          "2021-02-12T00:00:00",
          "2021-02-16T00:00:00",
          "2021-02-17T00:00:00",
          "2021-02-18T00:00:00",
          "2021-02-19T00:00:00",
          "2021-02-22T00:00:00",
          "2021-02-23T00:00:00",
          "2021-02-24T00:00:00",
          "2021-02-25T00:00:00",
          "2021-02-26T00:00:00",
          "2021-03-01T00:00:00",
          "2021-03-02T00:00:00",
          "2021-03-03T00:00:00",
          "2021-03-04T00:00:00",
          "2021-03-05T00:00:00",
          "2021-03-08T00:00:00",
          "2021-03-09T00:00:00",
          "2021-03-10T00:00:00",
          "2021-03-11T00:00:00",
          "2021-03-12T00:00:00",
          "2021-03-15T00:00:00",
          "2021-03-16T00:00:00",
          "2021-03-17T00:00:00",
          "2021-03-18T00:00:00",
          "2021-03-19T00:00:00",
          "2021-03-22T00:00:00",
          "2021-03-23T00:00:00",
          "2021-03-24T00:00:00",
          "2021-03-25T00:00:00",
          "2021-03-26T00:00:00",
          "2021-03-29T00:00:00",
          "2021-03-30T00:00:00",
          "2021-03-31T00:00:00",
          "2021-04-01T00:00:00",
          "2021-04-05T00:00:00",
          "2021-04-06T00:00:00",
          "2021-04-07T00:00:00",
          "2021-04-08T00:00:00",
          "2021-04-09T00:00:00",
          "2021-04-12T00:00:00",
          "2021-04-13T00:00:00",
          "2021-04-14T00:00:00",
          "2021-04-15T00:00:00",
          "2021-04-16T00:00:00",
          "2021-04-19T00:00:00",
          "2021-04-20T00:00:00",
          "2021-04-21T00:00:00",
          "2021-04-22T00:00:00",
          "2021-04-23T00:00:00",
          "2021-04-26T00:00:00",
          "2021-04-27T00:00:00",
          "2021-04-28T00:00:00",
          "2021-04-29T00:00:00",
          "2021-04-30T00:00:00",
          "2021-05-03T00:00:00",
          "2021-05-04T00:00:00",
          "2021-05-05T00:00:00",
          "2021-05-06T00:00:00",
          "2021-05-07T00:00:00",
          "2021-05-10T00:00:00",
          "2021-05-11T00:00:00",
          "2021-05-12T00:00:00",
          "2021-05-13T00:00:00",
          "2021-05-14T00:00:00",
          "2021-05-17T00:00:00",
          "2021-05-18T00:00:00",
          "2021-05-19T00:00:00",
          "2021-05-20T00:00:00",
          "2021-05-21T00:00:00",
          "2021-05-24T00:00:00",
          "2021-05-25T00:00:00",
          "2021-05-26T00:00:00",
          "2021-05-27T00:00:00",
          "2021-05-28T00:00:00",
          "2021-06-01T00:00:00",
          "2021-06-02T00:00:00",
          "2021-06-03T00:00:00",
          "2021-06-04T00:00:00",
          "2021-06-07T00:00:00",
          "2021-06-08T00:00:00",
          "2021-06-09T00:00:00",
          "2021-06-10T00:00:00",
          "2021-06-11T00:00:00",
          "2021-06-14T00:00:00",
          "2021-06-15T00:00:00",
          "2021-06-16T00:00:00",
          "2021-06-17T00:00:00",
          "2021-06-18T00:00:00",
          "2021-06-21T00:00:00",
          "2021-06-22T00:00:00",
          "2021-06-23T00:00:00",
          "2021-06-24T00:00:00",
          "2021-06-25T00:00:00",
          "2021-06-28T00:00:00",
          "2021-06-29T00:00:00",
          "2021-06-30T00:00:00",
          "2021-07-01T00:00:00",
          "2021-07-02T00:00:00",
          "2021-07-06T00:00:00",
          "2021-07-07T00:00:00",
          "2021-07-08T00:00:00",
          "2021-07-09T00:00:00",
          "2021-07-12T00:00:00",
          "2021-07-13T00:00:00",
          "2021-07-14T00:00:00",
          "2021-07-15T00:00:00",
          "2021-07-16T00:00:00",
          "2021-07-19T00:00:00",
          "2021-07-20T00:00:00",
          "2021-07-21T00:00:00",
          "2021-07-22T00:00:00",
          "2021-07-23T00:00:00",
          "2021-07-26T00:00:00",
          "2021-07-27T00:00:00",
          "2021-07-28T00:00:00",
          "2021-07-29T00:00:00",
          "2021-07-30T00:00:00",
          "2021-08-02T00:00:00",
          "2021-08-03T00:00:00",
          "2021-08-04T00:00:00",
          "2021-08-05T00:00:00",
          "2021-08-06T00:00:00",
          "2021-08-09T00:00:00",
          "2021-08-10T00:00:00",
          "2021-08-11T00:00:00",
          "2021-08-12T00:00:00",
          "2021-08-13T00:00:00",
          "2021-08-16T00:00:00",
          "2021-08-17T00:00:00",
          "2021-08-18T00:00:00",
          "2021-08-19T00:00:00",
          "2021-08-20T00:00:00",
          "2021-08-23T00:00:00",
          "2021-08-24T00:00:00",
          "2021-08-25T00:00:00",
          "2021-08-26T00:00:00",
          "2021-08-27T00:00:00",
          "2021-08-30T00:00:00",
          "2021-08-31T00:00:00",
          "2021-09-01T00:00:00",
          "2021-09-02T00:00:00",
          "2021-09-03T00:00:00",
          "2021-09-07T00:00:00",
          "2021-09-08T00:00:00",
          "2021-09-09T00:00:00",
          "2021-09-10T00:00:00",
          "2021-09-13T00:00:00",
          "2021-09-14T00:00:00",
          "2021-09-15T00:00:00",
          "2021-09-16T00:00:00",
          "2021-09-17T00:00:00",
          "2021-09-20T00:00:00",
          "2021-09-21T00:00:00",
          "2021-09-22T00:00:00",
          "2021-09-23T00:00:00",
          "2021-09-24T00:00:00",
          "2021-09-27T00:00:00",
          "2021-09-28T00:00:00",
          "2021-09-29T00:00:00",
          "2021-09-30T00:00:00",
          "2021-10-01T00:00:00",
          "2021-10-04T00:00:00",
          "2021-10-05T00:00:00",
          "2021-10-06T00:00:00",
          "2021-10-07T00:00:00",
          "2021-10-08T00:00:00",
          "2021-10-11T00:00:00",
          "2021-10-12T00:00:00",
          "2021-10-13T00:00:00",
          "2021-10-14T00:00:00",
          "2021-10-15T00:00:00",
          "2021-10-18T00:00:00",
          "2021-10-19T00:00:00",
          "2021-10-20T00:00:00",
          "2021-10-21T00:00:00",
          "2021-10-22T00:00:00",
          "2021-10-25T00:00:00",
          "2021-10-26T00:00:00",
          "2021-10-27T00:00:00",
          "2021-10-28T00:00:00",
          "2021-10-29T00:00:00",
          "2021-11-01T00:00:00",
          "2021-11-02T00:00:00",
          "2021-11-03T00:00:00",
          "2021-11-04T00:00:00",
          "2021-11-05T00:00:00",
          "2021-11-08T00:00:00",
          "2021-11-09T00:00:00",
          "2021-11-10T00:00:00",
          "2021-11-11T00:00:00",
          "2021-11-12T00:00:00",
          "2021-11-15T00:00:00",
          "2021-11-16T00:00:00",
          "2021-11-17T00:00:00",
          "2021-11-18T00:00:00",
          "2021-11-19T00:00:00",
          "2021-11-22T00:00:00",
          "2021-11-23T00:00:00",
          "2021-11-24T00:00:00",
          "2021-11-26T00:00:00",
          "2021-11-29T00:00:00",
          "2021-11-30T00:00:00",
          "2021-12-01T00:00:00",
          "2021-12-02T00:00:00",
          "2021-12-03T00:00:00",
          "2021-12-06T00:00:00",
          "2021-12-07T00:00:00",
          "2021-12-08T00:00:00",
          "2021-12-09T00:00:00",
          "2021-12-10T00:00:00",
          "2021-12-13T00:00:00",
          "2021-12-14T00:00:00",
          "2021-12-15T00:00:00",
          "2021-12-16T00:00:00",
          "2021-12-17T00:00:00",
          "2021-12-20T00:00:00",
          "2021-12-21T00:00:00",
          "2021-12-22T00:00:00",
          "2021-12-23T00:00:00",
          "2021-12-27T00:00:00",
          "2021-12-28T00:00:00",
          "2021-12-29T00:00:00",
          "2021-12-30T00:00:00",
          "2021-12-31T00:00:00",
          "2022-01-03T00:00:00",
          "2022-01-04T00:00:00",
          "2022-01-05T00:00:00",
          "2022-01-06T00:00:00",
          "2022-01-07T00:00:00",
          "2022-01-10T00:00:00",
          "2022-01-11T00:00:00",
          "2022-01-12T00:00:00",
          "2022-01-13T00:00:00",
          "2022-01-14T00:00:00",
          "2022-01-18T00:00:00",
          "2022-01-19T00:00:00",
          "2022-01-20T00:00:00",
          "2022-01-21T00:00:00",
          "2022-01-24T00:00:00",
          "2022-01-25T00:00:00",
          "2022-01-26T00:00:00",
          "2022-01-27T00:00:00",
          "2022-01-28T00:00:00",
          "2022-01-31T00:00:00",
          "2022-02-01T00:00:00",
          "2022-02-02T00:00:00",
          "2022-02-03T00:00:00",
          "2022-02-04T00:00:00",
          "2022-02-07T00:00:00",
          "2022-02-08T00:00:00",
          "2022-02-09T00:00:00",
          "2022-02-10T00:00:00",
          "2022-02-11T00:00:00",
          "2022-02-14T00:00:00",
          "2022-02-15T00:00:00",
          "2022-02-16T00:00:00",
          "2022-02-17T00:00:00",
          "2022-02-18T00:00:00",
          "2022-02-22T00:00:00",
          "2022-02-23T00:00:00",
          "2022-02-24T00:00:00",
          "2022-02-25T00:00:00",
          "2022-02-28T00:00:00",
          "2022-03-01T00:00:00",
          "2022-03-02T00:00:00",
          "2022-03-03T00:00:00",
          "2022-03-04T00:00:00",
          "2022-03-07T00:00:00",
          "2022-03-08T00:00:00",
          "2022-03-09T00:00:00",
          "2022-03-10T00:00:00",
          "2022-03-11T00:00:00",
          "2022-03-14T00:00:00",
          "2022-03-15T00:00:00",
          "2022-03-16T00:00:00",
          "2022-03-17T00:00:00",
          "2022-03-18T00:00:00",
          "2022-03-21T00:00:00",
          "2022-03-22T00:00:00",
          "2022-03-23T00:00:00",
          "2022-03-24T00:00:00",
          "2022-03-25T00:00:00",
          "2022-03-28T00:00:00",
          "2022-03-29T00:00:00",
          "2022-03-30T00:00:00",
          "2022-03-31T00:00:00",
          "2022-04-01T00:00:00",
          "2022-04-04T00:00:00",
          "2022-04-05T00:00:00",
          "2022-04-06T00:00:00",
          "2022-04-07T00:00:00",
          "2022-04-08T00:00:00",
          "2022-04-11T00:00:00",
          "2022-04-12T00:00:00",
          "2022-04-13T00:00:00",
          "2022-04-14T00:00:00",
          "2022-04-18T00:00:00",
          "2022-04-19T00:00:00",
          "2022-04-20T00:00:00",
          "2022-04-21T00:00:00",
          "2022-04-22T00:00:00",
          "2022-04-25T00:00:00",
          "2022-04-26T00:00:00",
          "2022-04-27T00:00:00",
          "2022-04-28T00:00:00",
          "2022-04-29T00:00:00",
          "2022-05-02T00:00:00",
          "2022-05-03T00:00:00",
          "2022-05-04T00:00:00",
          "2022-05-05T00:00:00",
          "2022-05-06T00:00:00",
          "2022-05-09T00:00:00",
          "2022-05-10T00:00:00",
          "2022-05-11T00:00:00",
          "2022-05-12T00:00:00",
          "2022-05-13T00:00:00",
          "2022-05-16T00:00:00",
          "2022-05-17T00:00:00",
          "2022-05-18T00:00:00",
          "2022-05-19T00:00:00",
          "2022-05-20T00:00:00",
          "2022-05-23T00:00:00",
          "2022-05-24T00:00:00",
          "2022-05-25T00:00:00",
          "2022-05-26T00:00:00",
          "2022-05-27T00:00:00",
          "2022-05-31T00:00:00",
          "2022-06-01T00:00:00",
          "2022-06-02T00:00:00",
          "2022-06-03T00:00:00",
          "2022-06-06T00:00:00",
          "2022-06-07T00:00:00",
          "2022-06-08T00:00:00",
          "2022-06-09T00:00:00",
          "2022-06-10T00:00:00",
          "2022-06-13T00:00:00",
          "2022-06-14T00:00:00",
          "2022-06-15T00:00:00",
          "2022-06-16T00:00:00",
          "2022-06-17T00:00:00",
          "2022-06-21T00:00:00",
          "2022-06-22T00:00:00",
          "2022-06-23T00:00:00",
          "2022-06-24T00:00:00",
          "2022-06-27T00:00:00",
          "2022-06-28T00:00:00",
          "2022-06-29T00:00:00",
          "2022-06-30T00:00:00",
          "2022-07-01T00:00:00",
          "2022-07-05T00:00:00",
          "2022-07-06T00:00:00",
          "2022-07-07T00:00:00",
          "2022-07-08T00:00:00",
          "2022-07-11T00:00:00",
          "2022-07-12T00:00:00",
          "2022-07-13T00:00:00",
          "2022-07-14T00:00:00",
          "2022-07-15T00:00:00",
          "2022-07-18T00:00:00",
          "2022-07-19T00:00:00",
          "2022-07-20T00:00:00",
          "2022-07-21T00:00:00",
          "2022-07-22T00:00:00",
          "2022-07-25T00:00:00",
          "2022-07-26T00:00:00",
          "2022-07-27T00:00:00",
          "2022-07-28T00:00:00",
          "2022-07-29T00:00:00",
          "2022-08-01T00:00:00",
          "2022-08-02T00:00:00",
          "2022-08-03T00:00:00",
          "2022-08-04T00:00:00",
          "2022-08-05T00:00:00",
          "2022-08-08T00:00:00",
          "2022-08-09T00:00:00",
          "2022-08-10T00:00:00",
          "2022-08-11T00:00:00",
          "2022-08-12T00:00:00",
          "2022-08-15T00:00:00",
          "2022-08-16T00:00:00",
          "2022-08-17T00:00:00",
          "2022-08-18T00:00:00",
          "2022-08-19T00:00:00",
          "2022-08-22T00:00:00",
          "2022-08-23T00:00:00",
          "2022-08-24T00:00:00",
          "2022-08-25T00:00:00",
          "2022-08-26T00:00:00",
          "2022-08-29T00:00:00",
          "2022-08-30T00:00:00",
          "2022-08-31T00:00:00",
          "2022-09-01T00:00:00",
          "2022-09-02T00:00:00",
          "2022-09-06T00:00:00",
          "2022-09-07T00:00:00",
          "2022-09-08T00:00:00",
          "2022-09-09T00:00:00",
          "2022-09-12T00:00:00",
          "2022-09-13T00:00:00",
          "2022-09-14T00:00:00",
          "2022-09-15T00:00:00",
          "2022-09-16T00:00:00",
          "2022-09-19T00:00:00",
          "2022-09-20T00:00:00",
          "2022-09-21T00:00:00",
          "2022-09-22T00:00:00",
          "2022-09-23T00:00:00",
          "2022-09-26T00:00:00",
          "2022-09-27T00:00:00",
          "2022-09-28T00:00:00",
          "2022-09-29T00:00:00",
          "2022-09-30T00:00:00",
          "2022-10-03T00:00:00",
          "2022-10-04T00:00:00",
          "2022-10-05T00:00:00",
          "2022-10-06T00:00:00",
          "2022-10-07T00:00:00",
          "2022-10-10T00:00:00",
          "2022-10-11T00:00:00",
          "2022-10-12T00:00:00",
          "2022-10-13T00:00:00",
          "2022-10-14T00:00:00",
          "2022-10-17T00:00:00",
          "2022-10-18T00:00:00",
          "2022-10-19T00:00:00",
          "2022-10-20T00:00:00",
          "2022-10-21T00:00:00",
          "2022-10-24T00:00:00",
          "2022-10-25T00:00:00",
          "2022-10-26T00:00:00",
          "2022-10-27T00:00:00",
          "2022-10-28T00:00:00",
          "2022-10-31T00:00:00",
          "2022-11-01T00:00:00",
          "2022-11-02T00:00:00",
          "2022-11-03T00:00:00",
          "2022-11-04T00:00:00",
          "2022-11-07T00:00:00",
          "2022-11-08T00:00:00",
          "2022-11-09T00:00:00",
          "2022-11-10T00:00:00",
          "2022-11-11T00:00:00",
          "2022-11-14T00:00:00",
          "2022-11-15T00:00:00",
          "2022-11-16T00:00:00",
          "2022-11-17T00:00:00",
          "2022-11-18T00:00:00",
          "2022-11-21T00:00:00",
          "2022-11-22T00:00:00",
          "2022-11-23T00:00:00",
          "2022-11-25T00:00:00",
          "2022-11-28T00:00:00",
          "2022-11-29T00:00:00",
          "2022-11-30T00:00:00",
          "2022-12-01T00:00:00",
          "2022-12-02T00:00:00",
          "2022-12-05T00:00:00",
          "2022-12-06T00:00:00",
          "2022-12-07T00:00:00",
          "2022-12-08T00:00:00",
          "2022-12-09T00:00:00",
          "2022-12-12T00:00:00",
          "2022-12-13T00:00:00",
          "2022-12-14T00:00:00",
          "2022-12-15T00:00:00",
          "2022-12-16T00:00:00",
          "2022-12-19T00:00:00",
          "2022-12-20T00:00:00",
          "2022-12-21T00:00:00",
          "2022-12-22T00:00:00",
          "2022-12-23T00:00:00",
          "2022-12-27T00:00:00",
          "2022-12-28T00:00:00",
          "2022-12-29T00:00:00",
          "2022-12-30T00:00:00"
         ],
         "xaxis": "x",
         "y": [
          null,
          null,
          null,
          null,
          null,
          null,
          null,
          null,
          null,
          null,
          null,
          null,
          null,
          null,
          null,
          null,
          null,
          null,
          null,
          null,
          null,
          null,
          null,
          null,
          null,
          null,
          null,
          null,
          null,
          -0.7190262270722465,
          -0.6724838872677877,
          -0.6402393364142124,
          -0.434502915498251,
          -0.16737461525403882,
          0.06143755409836733,
          0.3285789720709787,
          0.40974696208416056,
          0.48115401278910735,
          0.5689027836793632,
          0.6115395757126847,
          0.6634715223929568,
          0.6988292839599404,
          0.7226145683568437,
          0.7475546853381052,
          0.7549996096818601,
          0.7662385118136511,
          0.7850587221462811,
          0.7903665796372744,
          0.796937165965003,
          0.7920478722269301,
          0.7778550621435926,
          0.7715222797414262,
          0.7728154804262505,
          0.7820728773322302,
          0.7804503845194838,
          0.7357145032504405,
          0.7101259027102422,
          0.6721762454216715,
          0.6278226807588849,
          0.5943622377120941,
          0.5466776679190826,
          0.6369332391761086,
          0.6347311696275252,
          0.698526580165666,
          0.7538505839980327,
          0.8001896573402828,
          0.8267835347504059,
          0.833003083245119,
          0.8429438027998518,
          0.8517278029059265,
          0.8628636109433964,
          0.8686862073907555,
          0.8753531144671728,
          0.8810221749059036,
          0.8989813328078524,
          0.9282138621542702,
          0.9365707900408718,
          0.9399985020459417,
          0.9341477483297069,
          0.925206761636044,
          0.9154518436570389,
          0.9120880796720694,
          0.9119822152266966,
          0.9071159141559889,
          0.9232388946523054,
          0.9150816641295781,
          0.8510925444810485,
          0.7506204921523222,
          0.5725543495277015,
          0.34633871553835155,
          -0.3152117701317391,
          -0.5609769991665622,
          -0.6476159049790172,
          -0.6726980002443291,
          -0.7245751904894724,
          -0.767764648139065,
          -0.7755768948878355,
          -0.8104148351265652,
          -0.8377803507413548,
          -0.8685834014172897,
          -0.8892024218363509,
          -0.9042529341209996,
          -0.9101757292638265,
          -0.9122683500983961,
          -0.9020982798243248,
          -0.9022066824568993,
          -0.8993364905131513,
          -0.8933759743250294,
          -0.8716075565161202,
          -0.8361892228593152,
          -0.7975242778615891,
          -0.7468295735219888,
          -0.684900466065439,
          -0.6004427902870141,
          -0.43233177111752097,
          -0.21674889229623678,
          -0.0444687847690088,
          0.16523364562498263,
          0.3666256711455056,
          0.5495198045383024,
          0.5399839311343624,
          0.5197726953173553,
          0.5460877134275712,
          0.5911711741126292,
          0.6184297854620066,
          0.6349106191054875,
          0.6756644160890514,
          0.6914566242273363,
          0.7028040095074594,
          0.7125206920320233,
          0.7291527496441903,
          0.7389928579240419,
          0.7445667788601337,
          0.7557778991627295,
          0.7359612369032256,
          0.6929608860451915,
          0.6576952557264775,
          0.6153113611889945,
          0.5692483201935605,
          0.49426069864604805,
          0.38558008083412754,
          0.2692050748003881,
          0.11886953585989393,
          -0.0602824222361506,
          -0.21443999873235478,
          -0.33728730193191264,
          -0.4375081513382257,
          -0.45680026177897726,
          -0.48477041886669214,
          -0.4854973234654843,
          -0.49474829385958413,
          -0.46379515498730717,
          -0.4849155083508235,
          -0.47343153324932763,
          -0.469371138871336,
          -0.345285764938861,
          -0.313327596622206,
          -0.2911846485905988,
          -0.32655171541814965,
          -0.3848310795831231,
          -0.4435455503233138,
          -0.47233697208557296,
          -0.5399694120089946,
          -0.5612869274781774,
          -0.504789388528859,
          -0.44486686493671385,
          -0.44434579403948976,
          -0.44071782761313094,
          -0.44466440590548983,
          -0.4238484238782946,
          -0.38319103302212126,
          -0.3581490173468602,
          -0.3243231209357592,
          -0.26587631327387257,
          -0.2104471840003572,
          -0.18751009909414953,
          -0.19299973989118144,
          -0.2084570271197692,
          -0.14431252778328815,
          -0.12445323141572666,
          -0.06953295210555105,
          -0.10274265971544135,
          -0.12848786944034382,
          -0.08309256813169534,
          -0.1397373526673085,
          -0.1921831048425372,
          -0.1767952221492276,
          -0.17954298311443434,
          -0.12384053116674593,
          0.010006475508863322,
          0.07333848347263218,
          0.08620282186646204,
          0.1901989797962306,
          0.3222826773000216,
          0.4357193043074932,
          0.49892906637144874,
          0.49557184865179343,
          0.5055237805644973,
          0.5824251984430312,
          0.6142418671367474,
          0.582128905197075,
          0.5591862188733893,
          0.5274100718264392,
          0.5023028712089209,
          0.41640196071647545,
          0.30834861582762735,
          0.25696266093353337,
          0.2643651631093086,
          0.27440379621421884,
          0.2803982422263139,
          0.29142294422388015,
          0.3768209717506574,
          0.4798750579987081,
          0.5380551227247325,
          0.579592665250463,
          0.60957483031542,
          0.5998880788277612,
          0.5915087290704627,
          0.5872449309167046,
          0.6023903159380266,
          0.5900447384638833,
          0.5377718655891844,
          0.47049103843485124,
          0.39960662700905647,
          0.3687489207454821,
          0.3108634471507623,
          0.1936866150795147,
          0.05808716255131588,
          -0.06272767066985929,
          -0.16976551424065972,
          -0.23966321160514462,
          -0.32816639849872165,
          -0.3588422063443135,
          -0.4357027999062764,
          -0.5800047513148614,
          -0.753855509219101,
          -0.8027958500841729,
          -0.8035045735832858,
          -0.7998827151848972,
          -0.7926577178685376,
          -0.7887386862371519,
          -0.7733633497063284,
          -0.7788800266448501,
          -0.7453183058738337,
          -0.7077958741512582,
          -0.6696920538346596,
          -0.6261877437805917,
          -0.5816276325579506,
          -0.5399434457890765,
          -0.4917251336214969,
          -0.4436102240932089,
          -0.4396078481863091,
          -0.4648760895765334,
          -0.42825895734337566,
          -0.2215229646737474,
          0.00901493262863585,
          0.12559710345004085,
          0.19168962772335588,
          0.26664244041054097,
          0.36274304596074797,
          0.47970637084147205,
          0.5418305607710793,
          0.6206288277651545,
          0.6832109391354287,
          0.7428945753191092,
          0.7864192812791877,
          0.815873275673491,
          0.8434187453984396,
          0.8170135212254492,
          0.7954865992605783,
          0.7808697669734008,
          0.7522929088631857,
          0.6309084402001296,
          0.5695999403271172,
          0.5548408291526901,
          0.5729881464048389,
          0.5950984086036982,
          0.5987269868159526,
          0.6182111499580836,
          0.6427858512514522,
          0.6577473996354698,
          0.66205153316677,
          0.6977775429013537,
          0.6918251516561685,
          0.668358024031319,
          0.6449957340200984,
          0.6215910252489211,
          0.5323588422557446,
          0.4082303445008309,
          0.44443322323779044,
          0.45644029500151856,
          0.503114455842154,
          0.548744236154617,
          0.5916033904732702,
          0.6403716261344206,
          0.678165265869558,
          0.7467355873937985,
          0.8721162473947053,
          0.9010807522191115,
          0.9190746566879932,
          0.9186297169524652,
          0.9099044233076818,
          0.931976029196074,
          0.9397736361130263,
          0.9507395492578331,
          0.9507276129377707,
          0.9458282698436534,
          0.9348962916480777,
          0.9320204225395531,
          0.9291203935503507,
          0.9259932825637566,
          0.9228835173976233,
          0.9169883583765026,
          0.9108576499190626,
          0.9062959320253628,
          0.9007837228970453,
          0.8908375805290116,
          0.8779286578486476,
          0.8656667016274889,
          0.8570626464019621,
          0.8467219662794445,
          0.8319342460392779,
          0.799049031834401,
          0.7660265009049413,
          0.7286017188769967,
          0.6704806678604214,
          0.6041819340238707,
          0.5979964761571636,
          0.5687758006849991,
          0.5804212368517634,
          0.6063148156336846,
          0.6962116840028203,
          0.7000279067324168,
          0.7474459978351745,
          0.7422377432428878,
          0.6984519522220618,
          0.6650632000664207,
          0.67438053662293,
          0.6699109547485613,
          0.6620651007920054,
          0.6748536838109139,
          0.6693688278527401,
          0.6589597471057657,
          0.6224191310832828,
          0.5977426448067794,
          0.5882152792215806,
          0.638158770292324,
          0.6666771312815081,
          0.6990616475376542,
          0.6944044281678229,
          0.6866432042998786,
          0.6356575281992751,
          0.6244968621684572,
          0.6016620226778258,
          0.5799392841787109,
          0.6332120162228573,
          0.6204966767338705,
          0.5521320904602727,
          0.5274888101234214,
          0.47682780194013086,
          0.46287374385450564,
          0.4826632040484971,
          0.506329974743931,
          0.5060949709662645,
          0.5013744993877238,
          0.46354793636594177,
          0.4251056775210998,
          0.38743000261838817,
          0.3612173750731928,
          0.42837948527310343,
          0.4877599167851652,
          0.47098925788171425,
          0.3930977268236451,
          0.3448058680898139,
          0.46153512561936805,
          0.45682658973622786,
          0.4979556692145337,
          0.5900612371806218,
          0.5863056782774345,
          0.5228709739231494,
          0.4708717852631946,
          0.37394647766251304,
          0.31507860752732425,
          0.29183335254639176,
          0.2691051883064083,
          0.39449489848781366,
          0.32509631585795395,
          0.2571678470041391,
          0.2247595844647034,
          0.11909851793303625,
          0.029331175441721088,
          0.01399648573575618,
          0.006033397406044583,
          0.04546523947273229,
          0.24988933360207644,
          0.306506708068896,
          0.3930822460012693,
          0.4394037098899506,
          0.49335001336103773,
          0.5433749644109765,
          0.594850813154834,
          0.6472383323437784,
          0.6983609065615354,
          0.7277009196825512,
          0.7803302923473288,
          0.8096224157168328,
          0.8216544387342054,
          0.835701303462246,
          0.8413827563118378,
          0.850644220089284,
          0.8552643976939609,
          0.8559263515583759,
          0.855687012012366,
          0.8434299531917331,
          0.8257472791422472,
          0.7835854858103222,
          0.7394369642919443,
          0.6805634191386232,
          0.6308279706446157,
          0.6120036180778219,
          0.6108344326926259,
          0.5597540570239123,
          0.4001441730312707,
          0.20269035874697025,
          0.18687382697206595,
          0.10460408205256243,
          0.11375572028125694,
          0.1247112475989386,
          0.13268146751975052,
          0.1279400489467326,
          0.12720458665651402,
          0.17592554836833368,
          0.22489877637362052,
          0.30462630280159647,
          0.36776648607697143,
          0.44981897847298674,
          0.46598713820964793,
          0.49616123042308163,
          0.520899314198868,
          0.5685410231104366,
          0.6010326171823734,
          0.6314670143920915,
          0.6755195076843151,
          0.6919761735575044,
          0.7064979415237611,
          0.6934654621262155,
          0.6757204201826504,
          0.6640115283988396,
          0.6721208534643232,
          0.671991739654334,
          0.6542565188821314,
          0.6306302426955674,
          0.7330137834130335,
          0.732343344121181,
          0.715817388864189,
          0.6524345540622637,
          0.6157520618845496,
          0.6093729906668897,
          0.5539887932502794,
          0.48203006782525465,
          0.3272238655362659,
          0.23022487864222047,
          0.10679877911327124,
          0.003302614121533037,
          -0.04459614123724918,
          -0.09679278202377725,
          -0.022214059951941763,
          0.035289691961677104,
          0.11876274866869953,
          0.16739303232031305,
          0.23331671238319834,
          0.27345402961703563,
          0.31332536801798155,
          0.3892463599634203,
          0.43045313301245913,
          0.46006565942247873,
          0.5007893902453182,
          0.53672350606795,
          0.6029743349296508,
          0.6766140033183375,
          0.7278303211393841,
          0.7631474635073888,
          0.8072329739198436,
          0.8280220487877209,
          0.8534515862949236,
          0.8656732074760306,
          0.8790555027343533,
          0.8990482569404283,
          0.8977349390951782,
          0.8949638133835467,
          0.8847852504922191,
          0.8690672427030885,
          0.8561354519742053,
          0.8398732939616416,
          0.815993608201325,
          0.7872636633420985,
          0.7730368359776878,
          0.7542720329052793,
          0.7180199259211003,
          0.6879042353863056,
          0.6743190236878853,
          0.6787890874551337,
          0.6766133949745164,
          0.6879364415323658,
          0.7158039085403046,
          0.6650934893385926,
          0.6563875329600416,
          0.7136966432016446,
          0.8130175183407585,
          0.858794700002842,
          0.8747232143479728,
          0.8744815023016043,
          0.8981611819372662,
          0.9034527946494085,
          0.9013763117562844,
          0.902138862892869,
          0.8868520346809902,
          0.8434395114007057,
          0.8338145889556513,
          0.8039184167046242,
          0.7764198177868873,
          0.754365678516346,
          0.7247011774882914,
          0.6749722194657893,
          0.6551127695717102,
          0.6534256424232631,
          0.6459189889977787,
          0.6205889128958005,
          0.5931620681403151,
          0.6183920027465588,
          0.634533635680949,
          0.6569452700928478,
          0.6740885811816645,
          0.6949170569920249,
          0.7165931205029988,
          0.7343751294616735,
          0.7485556729206176,
          0.7574612177518335,
          0.7425944929787359,
          0.7467616816763829,
          0.7550325952047826,
          0.7267416083002534,
          0.6960724052248665,
          0.7058192280390397,
          0.7022824447988633,
          0.6492766689162609,
          0.5820240270112077,
          0.5887982078895316,
          0.5566126869910047,
          0.57367180420901,
          0.60091237081034,
          0.5687841603133288,
          0.5565213817799873,
          0.4956024043180164,
          0.4356414234126226,
          0.4382574023894177,
          0.3931361863099966,
          0.40143642963945,
          0.45227062900648946,
          0.4854699667693681,
          0.5138472364335713,
          0.5612912472813111,
          0.6000363210512666,
          0.6823751995652118,
          0.7367200474727582,
          0.7641383032006481,
          0.7857516829667492,
          0.7863141660879213,
          0.7851881986318674,
          0.7577635923078726,
          0.7731327427175286,
          0.7515062923910888,
          0.7456469881176365,
          0.7879731408770194,
          0.8144205990023483,
          0.8208749791031427,
          0.798310290427033,
          0.7132586100723358,
          0.6379618671537676,
          0.5070465095212382,
          0.38672480315432606,
          0.26306360264348827,
          0.20862239358916437,
          0.16497947080092945,
          0.13144950684085388,
          0.09689613397569251,
          0.12234172814665382,
          0.15459697298695485,
          0.09606825247378335,
          0.06218275140700091,
          -0.050839138253412644,
          -0.2155294288907242,
          -0.29165621573125244,
          -0.30856016653913115,
          -0.15425817181792378,
          -0.056985434455963935,
          -0.022023328479922673,
          0.003095542181459354,
          0.10774983328991442,
          0.22791017026848537,
          0.2634222391594816,
          0.27783129815532953,
          0.23170084611848532,
          0.22008769987707363,
          0.24192105986197157,
          0.1845400001652999,
          0.09236353016214954,
          0.04662969503205153,
          0.03600697719638796,
          0.016272076387989623,
          -0.028287184928279672,
          -0.09613621149456601,
          -0.15989144472943037,
          -0.1957778222663802,
          -0.23700663704308392,
          -0.29815102135984783,
          -0.31520628407212603,
          -0.34405863571580675,
          -0.3400036231044475,
          -0.3370465571185003,
          -0.3599678177892197,
          -0.5165767404577208,
          -0.6044159084878078,
          -0.6484219721276275,
          -0.5633716102007061,
          -0.5035396314078927,
          -0.5365245676372966,
          -0.4938884352255463,
          -0.4091565591442509,
          -0.4853699794332587,
          -0.45229933262219213,
          -0.4661159448210071,
          -0.46698673081542746,
          -0.4753486432319775,
          -0.46022916835439515,
          -0.4636623108493892,
          -0.4987225121803599,
          -0.5139459787190679,
          -0.5250686156773597,
          -0.49643334760967633,
          -0.4379302107653707,
          -0.46914116255977634,
          -0.5087279865116213,
          -0.4968397183468544,
          -0.4635776165214801,
          -0.32655951118406873,
          -0.15708716382954155,
          0.038225176578656025,
          0.23488135140413433,
          0.39082177767359433,
          0.5244683066970934,
          0.5347746596291009,
          0.5508321516168716,
          0.6107654120010362,
          0.6788882604773983,
          0.6862837377171446,
          0.7248477320800536,
          0.7808486393940567,
          0.8250173952401242,
          0.8470308771898485,
          0.8581183600138425,
          0.8631683144593935,
          0.8434995316497252,
          0.8184809858208034,
          0.8144304597145006,
          0.8335717619837838,
          0.8400648051006493,
          0.8499394249141178,
          0.8499588794644816,
          0.8413082208750129,
          0.8181568042550741,
          0.7676205527347917,
          0.7427298735850747,
          0.7204897149796097,
          0.7593358764996562,
          0.7655166108542508,
          0.7421115973285217,
          0.7232594385716131,
          0.713731200435545,
          0.6963521225263745,
          0.6338065323335048,
          0.6280696308754332,
          0.566621767299709,
          0.5241846447353334,
          0.6087581579819304,
          0.7018277285380282,
          0.720504632003379,
          0.7186966690439258,
          0.7043902538141088,
          0.6949895976507694,
          0.7426598070021091,
          0.7700780320881294,
          0.7508231423442846,
          0.6894847090628277,
          0.5593993115738994,
          0.41315767412596965,
          0.24106791661993968,
          0.1691212843419424,
          0.11581777888975534,
          0.002304248612032185,
          -0.06618198052849501,
          -0.11536028706272222,
          -0.10400136285751961,
          -0.041447909502808376,
          0.03168574307792582,
          0.17960780814709637,
          0.33353183105324913,
          0.43372071358986497,
          0.49776597852439963,
          0.5710726350020883,
          0.6008772724694149,
          0.6286487553977296,
          0.6581832451323153,
          0.6794337312617645,
          0.675965129671574,
          0.6792205844410257,
          0.6883003510919133,
          0.7022701704863012,
          0.7254679969317704,
          0.7805836494074161,
          0.8021212748165607,
          0.830155578451862,
          0.8331144309705958,
          0.837167065051803,
          0.8153894938296726,
          0.7598531899358995,
          0.7086516280200359,
          0.5852431620648945,
          0.46221419514050754,
          0.330201828167524,
          0.1571747265749851,
          -0.03650674644063918,
          -0.11595824531535406,
          -0.13286376686319512,
          -0.07399068988034511,
          0.062082245845898984,
          0.19527630943716714,
          0.31139082985581557,
          0.35984106858715204,
          0.3155314413348746,
          0.23987462778253368,
          0.19504126365076793,
          0.11339219517612498,
          0.11226050629959451,
          0.14777408368264547,
          0.11653895446715702,
          0.10491917221585934,
          0.12663261442575605,
          0.1696710888548283,
          0.12171037834386476,
          0.05722881608185305,
          0.041529545673754394,
          0.009669253541533144,
          -0.08599678743829213,
          -0.18774424085539054,
          -0.2709345699503881,
          -0.3458699531456822,
          -0.4134250090082019,
          -0.48566817846697957,
          -0.49940476035565745,
          -0.5292388174704026,
          -0.5395203858857257,
          -0.48925261944801135,
          -0.5100397899297837,
          -0.4619748579159176,
          -0.29113169693140417,
          -0.13781206575025393,
          0.14700252166955977,
          0.34512811097651813,
          0.46616372585635546,
          0.6289522637232406,
          0.7105621169809682,
          0.7567262054426431,
          0.7915934131227969,
          0.8185135089987992,
          0.832341602458149,
          0.8394002572550495,
          0.8449600453716092,
          0.8513199582572007,
          0.876567854898453,
          0.8819086382702547,
          0.8781926086742982,
          0.8616067157968147,
          0.8427364752527551,
          0.8093595243772278,
          0.7612563666987746,
          0.7021576597613506,
          0.6214866691057438,
          0.5440520462670729,
          0.5180523890317011,
          0.4982185819721117,
          0.5246663013550253,
          0.5579417635110868,
          0.5608288549481133,
          0.5288788872760212,
          0.47372142103267956,
          0.34839271854239184,
          0.29855760533166026,
          0.2674611673867245,
          0.27641410007392486,
          0.31151952105190117,
          0.3397790532158207,
          0.30466116611260435,
          0.30625210583339463,
          0.3155392279022598,
          0.34764730553857337,
          0.40873052569802354,
          0.4734285978843874,
          0.6471968556543556,
          0.7558784959449338,
          0.758922560356495,
          0.7439826929085477,
          0.7324829331699441,
          0.7267842970944616,
          0.7363878989309326,
          0.7722735062777518,
          0.8097566438200209,
          0.8283166095061031,
          0.8337706428647457,
          0.8456726958490214,
          0.8577561589734245,
          0.864055045228082,
          0.8556575436533927,
          0.8534760982026849,
          0.8602124497042438,
          0.8466873079650429,
          0.8749150319564203,
          0.8785362918576869,
          0.8772054927784254,
          0.8756123956913294,
          0.8580718460661736,
          0.8458735483301871,
          0.868267148568787,
          0.8667808353976535,
          0.8612330304418179,
          0.8903927036946964,
          0.8760061249465572,
          0.8792549924998093,
          0.8748005764711969,
          0.8815499589503354,
          0.8984596757706298,
          0.9060096331214428,
          0.9151297756929268,
          0.9223986762202351,
          0.930043132431112,
          0.9359746598934984,
          0.9393518659344285,
          0.942587308866428,
          0.9382327248168169,
          0.9369875533980043,
          0.9264232338026546,
          0.9280393105914699,
          0.9279309694095139,
          0.9284600802409305,
          0.9276496967217644,
          0.9332559020237265,
          0.9342866780155428,
          0.9268113426970567,
          0.8964196036199996,
          0.8850687697498253,
          0.8685571964273993,
          0.8356551818748854,
          0.8077827281263801,
          0.7837032530088359,
          0.7373122043094223,
          0.7173936636984388,
          0.710022079057721,
          0.662342449531451,
          0.7401426178199099,
          0.7913239243369119,
          0.81178738451719,
          0.8204412249479273,
          0.8522566769328913,
          0.8669620413505178,
          0.8724940047917862,
          0.8776091906106104,
          0.8594451540711157,
          0.8467163335178255,
          0.8447307336249377,
          0.8443293452414186,
          0.8434437097537557,
          0.8456482853485411,
          0.8649677538127957,
          0.8777887291614442,
          0.8759198511931562,
          0.8839628369032446,
          0.8863038213547244,
          0.8818148590040071,
          0.8823230637376025,
          0.8717315953546546,
          0.8578807802394933,
          0.8376626406325276,
          0.8140043038191608,
          0.7674185970291647,
          0.6739653760759229,
          0.54685085841836,
          0.4027646972407071,
          0.4652126012034666,
          0.5786347391565393,
          0.7041085889486574,
          0.7905240163907425,
          0.819897817290325,
          0.8447952677676207,
          0.8377695501155458,
          0.8171491006902187,
          0.8302413227527715,
          0.8424772964731403,
          0.8465431412133494,
          0.8503264667087832,
          0.8520331721917448,
          0.8518396842301539,
          0.8542798443916562,
          0.8452670319844663,
          0.8280058165736243,
          0.8129719707392539,
          0.7273601868845248,
          0.6793871813455984,
          0.6146572757879631,
          0.5208875917004702,
          0.3924674840856308,
          0.31207436823375073,
          0.3519949191151061,
          0.45813666546280757,
          0.5540695340812051,
          0.6218541230194191,
          0.6914013367322323,
          0.729571784536687,
          0.7532267208083966,
          0.7883013416384733,
          0.8224972092843735,
          0.8344709833247224,
          0.8462766385197809,
          0.8610207398479052,
          0.8661895683871789,
          0.8668631392083056,
          0.875991037197396,
          0.8961633043130673,
          0.910592299509951,
          0.9026189763841085,
          0.8915716939790206,
          0.8741241968684755,
          0.8578417482679294,
          0.8392656530750946,
          0.8038903940673897,
          0.7585626509309654,
          0.7478723592709184,
          0.7121487859938755,
          0.6744556220917562,
          0.6286991117688361,
          0.5531524490523803,
          0.5601555486087924,
          0.5657482504933385,
          0.583199173895137,
          0.5815512777550024,
          0.5807308121930325,
          0.5749817916304849,
          0.6283286466422077,
          0.6797017493944539,
          0.746776659546397,
          0.6831232966653787,
          0.4826821080455036,
          0.4452628819837892,
          0.4017309614774859,
          0.42349426888141195,
          0.4937418336017974,
          0.5713840202785322,
          0.7020979641046361,
          0.8112420108760585,
          0.8098828914061985,
          0.7683235121087755,
          0.7703451852279283,
          0.6282552712613649,
          0.39458770315336733,
          0.19361162494079423,
          -0.013039464137782088,
          -0.14606474622713286,
          -0.2559051345181992,
          -0.3292657440214334,
          -0.3753306128412216,
          -0.41550253904255463,
          -0.46452963948137116,
          -0.5246582838951305,
          -0.5762705095890994,
          -0.6022307138780193,
          -0.6460887094471601,
          -0.6567082937186908,
          -0.6534572552545831,
          -0.664733464088795,
          -0.6866282539814113,
          -0.6931496569759608,
          -0.6872925486522051,
          -0.6808321131340309,
          -0.6706248131899565,
          -0.6486885703943887,
          -0.6671277918219454,
          -0.6571292883346362,
          -0.6428502428561115,
          -0.5842892314634242,
          -0.44365877929717024,
          -0.1940034531899047,
          0.11500073284398804,
          0.34397152813798126,
          0.18298843665221626,
          0.1929435939651684,
          0.19386284645082308,
          0.22720334561052455,
          0.2374309999919345,
          0.25532093923183696
         ],
         "yaxis": "y"
        }
       ],
       "layout": {
        "legend": {
         "tracegroupgap": 0
        },
        "margin": {
         "t": 60
        },
        "template": {
         "data": {
          "bar": [
           {
            "error_x": {
             "color": "#2a3f5f"
            },
            "error_y": {
             "color": "#2a3f5f"
            },
            "marker": {
             "line": {
              "color": "#E5ECF6",
              "width": 0.5
             },
             "pattern": {
              "fillmode": "overlay",
              "size": 10,
              "solidity": 0.2
             }
            },
            "type": "bar"
           }
          ],
          "barpolar": [
           {
            "marker": {
             "line": {
              "color": "#E5ECF6",
              "width": 0.5
             },
             "pattern": {
              "fillmode": "overlay",
              "size": 10,
              "solidity": 0.2
             }
            },
            "type": "barpolar"
           }
          ],
          "carpet": [
           {
            "aaxis": {
             "endlinecolor": "#2a3f5f",
             "gridcolor": "white",
             "linecolor": "white",
             "minorgridcolor": "white",
             "startlinecolor": "#2a3f5f"
            },
            "baxis": {
             "endlinecolor": "#2a3f5f",
             "gridcolor": "white",
             "linecolor": "white",
             "minorgridcolor": "white",
             "startlinecolor": "#2a3f5f"
            },
            "type": "carpet"
           }
          ],
          "choropleth": [
           {
            "colorbar": {
             "outlinewidth": 0,
             "ticks": ""
            },
            "type": "choropleth"
           }
          ],
          "contour": [
           {
            "colorbar": {
             "outlinewidth": 0,
             "ticks": ""
            },
            "colorscale": [
             [
              0,
              "#0d0887"
             ],
             [
              0.1111111111111111,
              "#46039f"
             ],
             [
              0.2222222222222222,
              "#7201a8"
             ],
             [
              0.3333333333333333,
              "#9c179e"
             ],
             [
              0.4444444444444444,
              "#bd3786"
             ],
             [
              0.5555555555555556,
              "#d8576b"
             ],
             [
              0.6666666666666666,
              "#ed7953"
             ],
             [
              0.7777777777777778,
              "#fb9f3a"
             ],
             [
              0.8888888888888888,
              "#fdca26"
             ],
             [
              1,
              "#f0f921"
             ]
            ],
            "type": "contour"
           }
          ],
          "contourcarpet": [
           {
            "colorbar": {
             "outlinewidth": 0,
             "ticks": ""
            },
            "type": "contourcarpet"
           }
          ],
          "heatmap": [
           {
            "colorbar": {
             "outlinewidth": 0,
             "ticks": ""
            },
            "colorscale": [
             [
              0,
              "#0d0887"
             ],
             [
              0.1111111111111111,
              "#46039f"
             ],
             [
              0.2222222222222222,
              "#7201a8"
             ],
             [
              0.3333333333333333,
              "#9c179e"
             ],
             [
              0.4444444444444444,
              "#bd3786"
             ],
             [
              0.5555555555555556,
              "#d8576b"
             ],
             [
              0.6666666666666666,
              "#ed7953"
             ],
             [
              0.7777777777777778,
              "#fb9f3a"
             ],
             [
              0.8888888888888888,
              "#fdca26"
             ],
             [
              1,
              "#f0f921"
             ]
            ],
            "type": "heatmap"
           }
          ],
          "heatmapgl": [
           {
            "colorbar": {
             "outlinewidth": 0,
             "ticks": ""
            },
            "colorscale": [
             [
              0,
              "#0d0887"
             ],
             [
              0.1111111111111111,
              "#46039f"
             ],
             [
              0.2222222222222222,
              "#7201a8"
             ],
             [
              0.3333333333333333,
              "#9c179e"
             ],
             [
              0.4444444444444444,
              "#bd3786"
             ],
             [
              0.5555555555555556,
              "#d8576b"
             ],
             [
              0.6666666666666666,
              "#ed7953"
             ],
             [
              0.7777777777777778,
              "#fb9f3a"
             ],
             [
              0.8888888888888888,
              "#fdca26"
             ],
             [
              1,
              "#f0f921"
             ]
            ],
            "type": "heatmapgl"
           }
          ],
          "histogram": [
           {
            "marker": {
             "pattern": {
              "fillmode": "overlay",
              "size": 10,
              "solidity": 0.2
             }
            },
            "type": "histogram"
           }
          ],
          "histogram2d": [
           {
            "colorbar": {
             "outlinewidth": 0,
             "ticks": ""
            },
            "colorscale": [
             [
              0,
              "#0d0887"
             ],
             [
              0.1111111111111111,
              "#46039f"
             ],
             [
              0.2222222222222222,
              "#7201a8"
             ],
             [
              0.3333333333333333,
              "#9c179e"
             ],
             [
              0.4444444444444444,
              "#bd3786"
             ],
             [
              0.5555555555555556,
              "#d8576b"
             ],
             [
              0.6666666666666666,
              "#ed7953"
             ],
             [
              0.7777777777777778,
              "#fb9f3a"
             ],
             [
              0.8888888888888888,
              "#fdca26"
             ],
             [
              1,
              "#f0f921"
             ]
            ],
            "type": "histogram2d"
           }
          ],
          "histogram2dcontour": [
           {
            "colorbar": {
             "outlinewidth": 0,
             "ticks": ""
            },
            "colorscale": [
             [
              0,
              "#0d0887"
             ],
             [
              0.1111111111111111,
              "#46039f"
             ],
             [
              0.2222222222222222,
              "#7201a8"
             ],
             [
              0.3333333333333333,
              "#9c179e"
             ],
             [
              0.4444444444444444,
              "#bd3786"
             ],
             [
              0.5555555555555556,
              "#d8576b"
             ],
             [
              0.6666666666666666,
              "#ed7953"
             ],
             [
              0.7777777777777778,
              "#fb9f3a"
             ],
             [
              0.8888888888888888,
              "#fdca26"
             ],
             [
              1,
              "#f0f921"
             ]
            ],
            "type": "histogram2dcontour"
           }
          ],
          "mesh3d": [
           {
            "colorbar": {
             "outlinewidth": 0,
             "ticks": ""
            },
            "type": "mesh3d"
           }
          ],
          "parcoords": [
           {
            "line": {
             "colorbar": {
              "outlinewidth": 0,
              "ticks": ""
             }
            },
            "type": "parcoords"
           }
          ],
          "pie": [
           {
            "automargin": true,
            "type": "pie"
           }
          ],
          "scatter": [
           {
            "fillpattern": {
             "fillmode": "overlay",
             "size": 10,
             "solidity": 0.2
            },
            "type": "scatter"
           }
          ],
          "scatter3d": [
           {
            "line": {
             "colorbar": {
              "outlinewidth": 0,
              "ticks": ""
             }
            },
            "marker": {
             "colorbar": {
              "outlinewidth": 0,
              "ticks": ""
             }
            },
            "type": "scatter3d"
           }
          ],
          "scattercarpet": [
           {
            "marker": {
             "colorbar": {
              "outlinewidth": 0,
              "ticks": ""
             }
            },
            "type": "scattercarpet"
           }
          ],
          "scattergeo": [
           {
            "marker": {
             "colorbar": {
              "outlinewidth": 0,
              "ticks": ""
             }
            },
            "type": "scattergeo"
           }
          ],
          "scattergl": [
           {
            "marker": {
             "colorbar": {
              "outlinewidth": 0,
              "ticks": ""
             }
            },
            "type": "scattergl"
           }
          ],
          "scattermapbox": [
           {
            "marker": {
             "colorbar": {
              "outlinewidth": 0,
              "ticks": ""
             }
            },
            "type": "scattermapbox"
           }
          ],
          "scatterpolar": [
           {
            "marker": {
             "colorbar": {
              "outlinewidth": 0,
              "ticks": ""
             }
            },
            "type": "scatterpolar"
           }
          ],
          "scatterpolargl": [
           {
            "marker": {
             "colorbar": {
              "outlinewidth": 0,
              "ticks": ""
             }
            },
            "type": "scatterpolargl"
           }
          ],
          "scatterternary": [
           {
            "marker": {
             "colorbar": {
              "outlinewidth": 0,
              "ticks": ""
             }
            },
            "type": "scatterternary"
           }
          ],
          "surface": [
           {
            "colorbar": {
             "outlinewidth": 0,
             "ticks": ""
            },
            "colorscale": [
             [
              0,
              "#0d0887"
             ],
             [
              0.1111111111111111,
              "#46039f"
             ],
             [
              0.2222222222222222,
              "#7201a8"
             ],
             [
              0.3333333333333333,
              "#9c179e"
             ],
             [
              0.4444444444444444,
              "#bd3786"
             ],
             [
              0.5555555555555556,
              "#d8576b"
             ],
             [
              0.6666666666666666,
              "#ed7953"
             ],
             [
              0.7777777777777778,
              "#fb9f3a"
             ],
             [
              0.8888888888888888,
              "#fdca26"
             ],
             [
              1,
              "#f0f921"
             ]
            ],
            "type": "surface"
           }
          ],
          "table": [
           {
            "cells": {
             "fill": {
              "color": "#EBF0F8"
             },
             "line": {
              "color": "white"
             }
            },
            "header": {
             "fill": {
              "color": "#C8D4E3"
             },
             "line": {
              "color": "white"
             }
            },
            "type": "table"
           }
          ]
         },
         "layout": {
          "annotationdefaults": {
           "arrowcolor": "#2a3f5f",
           "arrowhead": 0,
           "arrowwidth": 1
          },
          "autotypenumbers": "strict",
          "coloraxis": {
           "colorbar": {
            "outlinewidth": 0,
            "ticks": ""
           }
          },
          "colorscale": {
           "diverging": [
            [
             0,
             "#8e0152"
            ],
            [
             0.1,
             "#c51b7d"
            ],
            [
             0.2,
             "#de77ae"
            ],
            [
             0.3,
             "#f1b6da"
            ],
            [
             0.4,
             "#fde0ef"
            ],
            [
             0.5,
             "#f7f7f7"
            ],
            [
             0.6,
             "#e6f5d0"
            ],
            [
             0.7,
             "#b8e186"
            ],
            [
             0.8,
             "#7fbc41"
            ],
            [
             0.9,
             "#4d9221"
            ],
            [
             1,
             "#276419"
            ]
           ],
           "sequential": [
            [
             0,
             "#0d0887"
            ],
            [
             0.1111111111111111,
             "#46039f"
            ],
            [
             0.2222222222222222,
             "#7201a8"
            ],
            [
             0.3333333333333333,
             "#9c179e"
            ],
            [
             0.4444444444444444,
             "#bd3786"
            ],
            [
             0.5555555555555556,
             "#d8576b"
            ],
            [
             0.6666666666666666,
             "#ed7953"
            ],
            [
             0.7777777777777778,
             "#fb9f3a"
            ],
            [
             0.8888888888888888,
             "#fdca26"
            ],
            [
             1,
             "#f0f921"
            ]
           ],
           "sequentialminus": [
            [
             0,
             "#0d0887"
            ],
            [
             0.1111111111111111,
             "#46039f"
            ],
            [
             0.2222222222222222,
             "#7201a8"
            ],
            [
             0.3333333333333333,
             "#9c179e"
            ],
            [
             0.4444444444444444,
             "#bd3786"
            ],
            [
             0.5555555555555556,
             "#d8576b"
            ],
            [
             0.6666666666666666,
             "#ed7953"
            ],
            [
             0.7777777777777778,
             "#fb9f3a"
            ],
            [
             0.8888888888888888,
             "#fdca26"
            ],
            [
             1,
             "#f0f921"
            ]
           ]
          },
          "colorway": [
           "#636efa",
           "#EF553B",
           "#00cc96",
           "#ab63fa",
           "#FFA15A",
           "#19d3f3",
           "#FF6692",
           "#B6E880",
           "#FF97FF",
           "#FECB52"
          ],
          "font": {
           "color": "#2a3f5f"
          },
          "geo": {
           "bgcolor": "white",
           "lakecolor": "white",
           "landcolor": "#E5ECF6",
           "showlakes": true,
           "showland": true,
           "subunitcolor": "white"
          },
          "hoverlabel": {
           "align": "left"
          },
          "hovermode": "closest",
          "mapbox": {
           "style": "light"
          },
          "paper_bgcolor": "white",
          "plot_bgcolor": "#E5ECF6",
          "polar": {
           "angularaxis": {
            "gridcolor": "white",
            "linecolor": "white",
            "ticks": ""
           },
           "bgcolor": "#E5ECF6",
           "radialaxis": {
            "gridcolor": "white",
            "linecolor": "white",
            "ticks": ""
           }
          },
          "scene": {
           "xaxis": {
            "backgroundcolor": "#E5ECF6",
            "gridcolor": "white",
            "gridwidth": 2,
            "linecolor": "white",
            "showbackground": true,
            "ticks": "",
            "zerolinecolor": "white"
           },
           "yaxis": {
            "backgroundcolor": "#E5ECF6",
            "gridcolor": "white",
            "gridwidth": 2,
            "linecolor": "white",
            "showbackground": true,
            "ticks": "",
            "zerolinecolor": "white"
           },
           "zaxis": {
            "backgroundcolor": "#E5ECF6",
            "gridcolor": "white",
            "gridwidth": 2,
            "linecolor": "white",
            "showbackground": true,
            "ticks": "",
            "zerolinecolor": "white"
           }
          },
          "shapedefaults": {
           "line": {
            "color": "#2a3f5f"
           }
          },
          "ternary": {
           "aaxis": {
            "gridcolor": "white",
            "linecolor": "white",
            "ticks": ""
           },
           "baxis": {
            "gridcolor": "white",
            "linecolor": "white",
            "ticks": ""
           },
           "bgcolor": "#E5ECF6",
           "caxis": {
            "gridcolor": "white",
            "linecolor": "white",
            "ticks": ""
           }
          },
          "title": {
           "x": 0.05
          },
          "xaxis": {
           "automargin": true,
           "gridcolor": "white",
           "linecolor": "white",
           "ticks": "",
           "title": {
            "standoff": 15
           },
           "zerolinecolor": "white",
           "zerolinewidth": 2
          },
          "yaxis": {
           "automargin": true,
           "gridcolor": "white",
           "linecolor": "white",
           "ticks": "",
           "title": {
            "standoff": 15
           },
           "zerolinecolor": "white",
           "zerolinewidth": 2
          }
         }
        },
        "xaxis": {
         "anchor": "y",
         "domain": [
          0,
          1
         ],
         "title": {
          "text": "Date"
         }
        },
        "yaxis": {
         "anchor": "x",
         "domain": [
          0,
          1
         ],
         "title": {
          "text": "corr"
         }
        }
       }
      },
      "text/html": [
       "<div>                            <div id=\"39ebb9de-2d28-4ebc-859e-6c05b2a17d01\" class=\"plotly-graph-div\" style=\"height:525px; width:100%;\"></div>            <script type=\"text/javascript\">                require([\"plotly\"], function(Plotly) {                    window.PLOTLYENV=window.PLOTLYENV || {};                                    if (document.getElementById(\"39ebb9de-2d28-4ebc-859e-6c05b2a17d01\")) {                    Plotly.newPlot(                        \"39ebb9de-2d28-4ebc-859e-6c05b2a17d01\",                        [{\"hovertemplate\":\"Date=%{x}\\u003cbr\\u003ecorr=%{y}\\u003cextra\\u003e\\u003c\\u002fextra\\u003e\",\"legendgroup\":\"\",\"line\":{\"color\":\"#636efa\",\"dash\":\"solid\"},\"marker\":{\"symbol\":\"circle\"},\"mode\":\"lines\",\"name\":\"\",\"showlegend\":false,\"x\":[\"2019-01-02T00:00:00\",\"2019-01-03T00:00:00\",\"2019-01-04T00:00:00\",\"2019-01-07T00:00:00\",\"2019-01-08T00:00:00\",\"2019-01-09T00:00:00\",\"2019-01-10T00:00:00\",\"2019-01-11T00:00:00\",\"2019-01-14T00:00:00\",\"2019-01-15T00:00:00\",\"2019-01-16T00:00:00\",\"2019-01-17T00:00:00\",\"2019-01-18T00:00:00\",\"2019-01-22T00:00:00\",\"2019-01-23T00:00:00\",\"2019-01-24T00:00:00\",\"2019-01-25T00:00:00\",\"2019-01-28T00:00:00\",\"2019-01-29T00:00:00\",\"2019-01-30T00:00:00\",\"2019-01-31T00:00:00\",\"2019-02-01T00:00:00\",\"2019-02-04T00:00:00\",\"2019-02-05T00:00:00\",\"2019-02-06T00:00:00\",\"2019-02-07T00:00:00\",\"2019-02-08T00:00:00\",\"2019-02-11T00:00:00\",\"2019-02-12T00:00:00\",\"2019-02-13T00:00:00\",\"2019-02-14T00:00:00\",\"2019-02-15T00:00:00\",\"2019-02-19T00:00:00\",\"2019-02-20T00:00:00\",\"2019-02-21T00:00:00\",\"2019-02-22T00:00:00\",\"2019-02-25T00:00:00\",\"2019-02-26T00:00:00\",\"2019-02-27T00:00:00\",\"2019-02-28T00:00:00\",\"2019-03-01T00:00:00\",\"2019-03-04T00:00:00\",\"2019-03-05T00:00:00\",\"2019-03-06T00:00:00\",\"2019-03-07T00:00:00\",\"2019-03-08T00:00:00\",\"2019-03-11T00:00:00\",\"2019-03-12T00:00:00\",\"2019-03-13T00:00:00\",\"2019-03-14T00:00:00\",\"2019-03-15T00:00:00\",\"2019-03-18T00:00:00\",\"2019-03-19T00:00:00\",\"2019-03-20T00:00:00\",\"2019-03-21T00:00:00\",\"2019-03-22T00:00:00\",\"2019-03-25T00:00:00\",\"2019-03-26T00:00:00\",\"2019-03-27T00:00:00\",\"2019-03-28T00:00:00\",\"2019-03-29T00:00:00\",\"2019-04-01T00:00:00\",\"2019-04-02T00:00:00\",\"2019-04-03T00:00:00\",\"2019-04-04T00:00:00\",\"2019-04-05T00:00:00\",\"2019-04-08T00:00:00\",\"2019-04-09T00:00:00\",\"2019-04-10T00:00:00\",\"2019-04-11T00:00:00\",\"2019-04-12T00:00:00\",\"2019-04-15T00:00:00\",\"2019-04-16T00:00:00\",\"2019-04-17T00:00:00\",\"2019-04-18T00:00:00\",\"2019-04-22T00:00:00\",\"2019-04-23T00:00:00\",\"2019-04-24T00:00:00\",\"2019-04-25T00:00:00\",\"2019-04-26T00:00:00\",\"2019-04-29T00:00:00\",\"2019-04-30T00:00:00\",\"2019-05-01T00:00:00\",\"2019-05-02T00:00:00\",\"2019-05-03T00:00:00\",\"2019-05-06T00:00:00\",\"2019-05-07T00:00:00\",\"2019-05-08T00:00:00\",\"2019-05-09T00:00:00\",\"2019-05-10T00:00:00\",\"2019-05-13T00:00:00\",\"2019-05-14T00:00:00\",\"2019-05-15T00:00:00\",\"2019-05-16T00:00:00\",\"2019-05-17T00:00:00\",\"2019-05-20T00:00:00\",\"2019-05-21T00:00:00\",\"2019-05-22T00:00:00\",\"2019-05-23T00:00:00\",\"2019-05-24T00:00:00\",\"2019-05-28T00:00:00\",\"2019-05-29T00:00:00\",\"2019-05-30T00:00:00\",\"2019-05-31T00:00:00\",\"2019-06-03T00:00:00\",\"2019-06-04T00:00:00\",\"2019-06-05T00:00:00\",\"2019-06-06T00:00:00\",\"2019-06-07T00:00:00\",\"2019-06-10T00:00:00\",\"2019-06-11T00:00:00\",\"2019-06-12T00:00:00\",\"2019-06-13T00:00:00\",\"2019-06-14T00:00:00\",\"2019-06-17T00:00:00\",\"2019-06-18T00:00:00\",\"2019-06-19T00:00:00\",\"2019-06-20T00:00:00\",\"2019-06-21T00:00:00\",\"2019-06-24T00:00:00\",\"2019-06-25T00:00:00\",\"2019-06-26T00:00:00\",\"2019-06-27T00:00:00\",\"2019-06-28T00:00:00\",\"2019-07-01T00:00:00\",\"2019-07-02T00:00:00\",\"2019-07-03T00:00:00\",\"2019-07-05T00:00:00\",\"2019-07-08T00:00:00\",\"2019-07-09T00:00:00\",\"2019-07-10T00:00:00\",\"2019-07-11T00:00:00\",\"2019-07-12T00:00:00\",\"2019-07-15T00:00:00\",\"2019-07-16T00:00:00\",\"2019-07-17T00:00:00\",\"2019-07-18T00:00:00\",\"2019-07-19T00:00:00\",\"2019-07-22T00:00:00\",\"2019-07-23T00:00:00\",\"2019-07-24T00:00:00\",\"2019-07-25T00:00:00\",\"2019-07-26T00:00:00\",\"2019-07-29T00:00:00\",\"2019-07-30T00:00:00\",\"2019-07-31T00:00:00\",\"2019-08-01T00:00:00\",\"2019-08-02T00:00:00\",\"2019-08-05T00:00:00\",\"2019-08-06T00:00:00\",\"2019-08-07T00:00:00\",\"2019-08-08T00:00:00\",\"2019-08-09T00:00:00\",\"2019-08-12T00:00:00\",\"2019-08-13T00:00:00\",\"2019-08-14T00:00:00\",\"2019-08-15T00:00:00\",\"2019-08-16T00:00:00\",\"2019-08-19T00:00:00\",\"2019-08-20T00:00:00\",\"2019-08-21T00:00:00\",\"2019-08-22T00:00:00\",\"2019-08-23T00:00:00\",\"2019-08-26T00:00:00\",\"2019-08-27T00:00:00\",\"2019-08-28T00:00:00\",\"2019-08-29T00:00:00\",\"2019-08-30T00:00:00\",\"2019-09-03T00:00:00\",\"2019-09-04T00:00:00\",\"2019-09-05T00:00:00\",\"2019-09-06T00:00:00\",\"2019-09-09T00:00:00\",\"2019-09-10T00:00:00\",\"2019-09-11T00:00:00\",\"2019-09-12T00:00:00\",\"2019-09-13T00:00:00\",\"2019-09-16T00:00:00\",\"2019-09-17T00:00:00\",\"2019-09-18T00:00:00\",\"2019-09-19T00:00:00\",\"2019-09-20T00:00:00\",\"2019-09-23T00:00:00\",\"2019-09-24T00:00:00\",\"2019-09-25T00:00:00\",\"2019-09-26T00:00:00\",\"2019-09-27T00:00:00\",\"2019-09-30T00:00:00\",\"2019-10-01T00:00:00\",\"2019-10-02T00:00:00\",\"2019-10-03T00:00:00\",\"2019-10-04T00:00:00\",\"2019-10-07T00:00:00\",\"2019-10-08T00:00:00\",\"2019-10-09T00:00:00\",\"2019-10-10T00:00:00\",\"2019-10-11T00:00:00\",\"2019-10-14T00:00:00\",\"2019-10-15T00:00:00\",\"2019-10-16T00:00:00\",\"2019-10-17T00:00:00\",\"2019-10-18T00:00:00\",\"2019-10-21T00:00:00\",\"2019-10-22T00:00:00\",\"2019-10-23T00:00:00\",\"2019-10-24T00:00:00\",\"2019-10-25T00:00:00\",\"2019-10-28T00:00:00\",\"2019-10-29T00:00:00\",\"2019-10-30T00:00:00\",\"2019-10-31T00:00:00\",\"2019-11-01T00:00:00\",\"2019-11-04T00:00:00\",\"2019-11-05T00:00:00\",\"2019-11-06T00:00:00\",\"2019-11-07T00:00:00\",\"2019-11-08T00:00:00\",\"2019-11-11T00:00:00\",\"2019-11-12T00:00:00\",\"2019-11-13T00:00:00\",\"2019-11-14T00:00:00\",\"2019-11-15T00:00:00\",\"2019-11-18T00:00:00\",\"2019-11-19T00:00:00\",\"2019-11-20T00:00:00\",\"2019-11-21T00:00:00\",\"2019-11-22T00:00:00\",\"2019-11-25T00:00:00\",\"2019-11-26T00:00:00\",\"2019-11-27T00:00:00\",\"2019-11-29T00:00:00\",\"2019-12-02T00:00:00\",\"2019-12-03T00:00:00\",\"2019-12-04T00:00:00\",\"2019-12-05T00:00:00\",\"2019-12-06T00:00:00\",\"2019-12-09T00:00:00\",\"2019-12-10T00:00:00\",\"2019-12-11T00:00:00\",\"2019-12-12T00:00:00\",\"2019-12-13T00:00:00\",\"2019-12-16T00:00:00\",\"2019-12-17T00:00:00\",\"2019-12-18T00:00:00\",\"2019-12-19T00:00:00\",\"2019-12-20T00:00:00\",\"2019-12-23T00:00:00\",\"2019-12-24T00:00:00\",\"2019-12-26T00:00:00\",\"2019-12-27T00:00:00\",\"2019-12-30T00:00:00\",\"2019-12-31T00:00:00\",\"2020-01-02T00:00:00\",\"2020-01-03T00:00:00\",\"2020-01-06T00:00:00\",\"2020-01-07T00:00:00\",\"2020-01-08T00:00:00\",\"2020-01-09T00:00:00\",\"2020-01-10T00:00:00\",\"2020-01-13T00:00:00\",\"2020-01-14T00:00:00\",\"2020-01-15T00:00:00\",\"2020-01-16T00:00:00\",\"2020-01-17T00:00:00\",\"2020-01-21T00:00:00\",\"2020-01-22T00:00:00\",\"2020-01-23T00:00:00\",\"2020-01-24T00:00:00\",\"2020-01-27T00:00:00\",\"2020-01-28T00:00:00\",\"2020-01-29T00:00:00\",\"2020-01-30T00:00:00\",\"2020-01-31T00:00:00\",\"2020-02-03T00:00:00\",\"2020-02-04T00:00:00\",\"2020-02-05T00:00:00\",\"2020-02-06T00:00:00\",\"2020-02-07T00:00:00\",\"2020-02-10T00:00:00\",\"2020-02-11T00:00:00\",\"2020-02-12T00:00:00\",\"2020-02-13T00:00:00\",\"2020-02-14T00:00:00\",\"2020-02-18T00:00:00\",\"2020-02-19T00:00:00\",\"2020-02-20T00:00:00\",\"2020-02-21T00:00:00\",\"2020-02-24T00:00:00\",\"2020-02-25T00:00:00\",\"2020-02-26T00:00:00\",\"2020-02-27T00:00:00\",\"2020-02-28T00:00:00\",\"2020-03-02T00:00:00\",\"2020-03-03T00:00:00\",\"2020-03-04T00:00:00\",\"2020-03-05T00:00:00\",\"2020-03-06T00:00:00\",\"2020-03-09T00:00:00\",\"2020-03-10T00:00:00\",\"2020-03-11T00:00:00\",\"2020-03-12T00:00:00\",\"2020-03-13T00:00:00\",\"2020-03-16T00:00:00\",\"2020-03-17T00:00:00\",\"2020-03-18T00:00:00\",\"2020-03-19T00:00:00\",\"2020-03-20T00:00:00\",\"2020-03-23T00:00:00\",\"2020-03-24T00:00:00\",\"2020-03-25T00:00:00\",\"2020-03-26T00:00:00\",\"2020-03-27T00:00:00\",\"2020-03-30T00:00:00\",\"2020-03-31T00:00:00\",\"2020-04-01T00:00:00\",\"2020-04-02T00:00:00\",\"2020-04-03T00:00:00\",\"2020-04-06T00:00:00\",\"2020-04-07T00:00:00\",\"2020-04-08T00:00:00\",\"2020-04-09T00:00:00\",\"2020-04-13T00:00:00\",\"2020-04-14T00:00:00\",\"2020-04-15T00:00:00\",\"2020-04-16T00:00:00\",\"2020-04-17T00:00:00\",\"2020-04-20T00:00:00\",\"2020-04-21T00:00:00\",\"2020-04-22T00:00:00\",\"2020-04-23T00:00:00\",\"2020-04-24T00:00:00\",\"2020-04-27T00:00:00\",\"2020-04-28T00:00:00\",\"2020-04-29T00:00:00\",\"2020-04-30T00:00:00\",\"2020-05-01T00:00:00\",\"2020-05-04T00:00:00\",\"2020-05-05T00:00:00\",\"2020-05-06T00:00:00\",\"2020-05-07T00:00:00\",\"2020-05-08T00:00:00\",\"2020-05-11T00:00:00\",\"2020-05-12T00:00:00\",\"2020-05-13T00:00:00\",\"2020-05-14T00:00:00\",\"2020-05-15T00:00:00\",\"2020-05-18T00:00:00\",\"2020-05-19T00:00:00\",\"2020-05-20T00:00:00\",\"2020-05-21T00:00:00\",\"2020-05-22T00:00:00\",\"2020-05-26T00:00:00\",\"2020-05-27T00:00:00\",\"2020-05-28T00:00:00\",\"2020-05-29T00:00:00\",\"2020-06-01T00:00:00\",\"2020-06-02T00:00:00\",\"2020-06-03T00:00:00\",\"2020-06-04T00:00:00\",\"2020-06-05T00:00:00\",\"2020-06-08T00:00:00\",\"2020-06-09T00:00:00\",\"2020-06-10T00:00:00\",\"2020-06-11T00:00:00\",\"2020-06-12T00:00:00\",\"2020-06-15T00:00:00\",\"2020-06-16T00:00:00\",\"2020-06-17T00:00:00\",\"2020-06-18T00:00:00\",\"2020-06-19T00:00:00\",\"2020-06-22T00:00:00\",\"2020-06-23T00:00:00\",\"2020-06-24T00:00:00\",\"2020-06-25T00:00:00\",\"2020-06-26T00:00:00\",\"2020-06-29T00:00:00\",\"2020-06-30T00:00:00\",\"2020-07-01T00:00:00\",\"2020-07-02T00:00:00\",\"2020-07-06T00:00:00\",\"2020-07-07T00:00:00\",\"2020-07-08T00:00:00\",\"2020-07-09T00:00:00\",\"2020-07-10T00:00:00\",\"2020-07-13T00:00:00\",\"2020-07-14T00:00:00\",\"2020-07-15T00:00:00\",\"2020-07-16T00:00:00\",\"2020-07-17T00:00:00\",\"2020-07-20T00:00:00\",\"2020-07-21T00:00:00\",\"2020-07-22T00:00:00\",\"2020-07-23T00:00:00\",\"2020-07-24T00:00:00\",\"2020-07-27T00:00:00\",\"2020-07-28T00:00:00\",\"2020-07-29T00:00:00\",\"2020-07-30T00:00:00\",\"2020-07-31T00:00:00\",\"2020-08-03T00:00:00\",\"2020-08-04T00:00:00\",\"2020-08-05T00:00:00\",\"2020-08-06T00:00:00\",\"2020-08-07T00:00:00\",\"2020-08-10T00:00:00\",\"2020-08-11T00:00:00\",\"2020-08-12T00:00:00\",\"2020-08-13T00:00:00\",\"2020-08-14T00:00:00\",\"2020-08-17T00:00:00\",\"2020-08-18T00:00:00\",\"2020-08-19T00:00:00\",\"2020-08-20T00:00:00\",\"2020-08-21T00:00:00\",\"2020-08-24T00:00:00\",\"2020-08-25T00:00:00\",\"2020-08-26T00:00:00\",\"2020-08-27T00:00:00\",\"2020-08-28T00:00:00\",\"2020-08-31T00:00:00\",\"2020-09-01T00:00:00\",\"2020-09-02T00:00:00\",\"2020-09-03T00:00:00\",\"2020-09-04T00:00:00\",\"2020-09-08T00:00:00\",\"2020-09-09T00:00:00\",\"2020-09-10T00:00:00\",\"2020-09-11T00:00:00\",\"2020-09-14T00:00:00\",\"2020-09-15T00:00:00\",\"2020-09-16T00:00:00\",\"2020-09-17T00:00:00\",\"2020-09-18T00:00:00\",\"2020-09-21T00:00:00\",\"2020-09-22T00:00:00\",\"2020-09-23T00:00:00\",\"2020-09-24T00:00:00\",\"2020-09-25T00:00:00\",\"2020-09-28T00:00:00\",\"2020-09-29T00:00:00\",\"2020-09-30T00:00:00\",\"2020-10-01T00:00:00\",\"2020-10-02T00:00:00\",\"2020-10-05T00:00:00\",\"2020-10-06T00:00:00\",\"2020-10-07T00:00:00\",\"2020-10-08T00:00:00\",\"2020-10-09T00:00:00\",\"2020-10-12T00:00:00\",\"2020-10-13T00:00:00\",\"2020-10-14T00:00:00\",\"2020-10-15T00:00:00\",\"2020-10-16T00:00:00\",\"2020-10-19T00:00:00\",\"2020-10-20T00:00:00\",\"2020-10-21T00:00:00\",\"2020-10-22T00:00:00\",\"2020-10-23T00:00:00\",\"2020-10-26T00:00:00\",\"2020-10-27T00:00:00\",\"2020-10-28T00:00:00\",\"2020-10-29T00:00:00\",\"2020-10-30T00:00:00\",\"2020-11-02T00:00:00\",\"2020-11-03T00:00:00\",\"2020-11-04T00:00:00\",\"2020-11-05T00:00:00\",\"2020-11-06T00:00:00\",\"2020-11-09T00:00:00\",\"2020-11-10T00:00:00\",\"2020-11-11T00:00:00\",\"2020-11-12T00:00:00\",\"2020-11-13T00:00:00\",\"2020-11-16T00:00:00\",\"2020-11-17T00:00:00\",\"2020-11-18T00:00:00\",\"2020-11-19T00:00:00\",\"2020-11-20T00:00:00\",\"2020-11-23T00:00:00\",\"2020-11-24T00:00:00\",\"2020-11-25T00:00:00\",\"2020-11-27T00:00:00\",\"2020-11-30T00:00:00\",\"2020-12-01T00:00:00\",\"2020-12-02T00:00:00\",\"2020-12-03T00:00:00\",\"2020-12-04T00:00:00\",\"2020-12-07T00:00:00\",\"2020-12-08T00:00:00\",\"2020-12-09T00:00:00\",\"2020-12-10T00:00:00\",\"2020-12-11T00:00:00\",\"2020-12-14T00:00:00\",\"2020-12-15T00:00:00\",\"2020-12-16T00:00:00\",\"2020-12-17T00:00:00\",\"2020-12-18T00:00:00\",\"2020-12-21T00:00:00\",\"2020-12-22T00:00:00\",\"2020-12-23T00:00:00\",\"2020-12-24T00:00:00\",\"2020-12-28T00:00:00\",\"2020-12-29T00:00:00\",\"2020-12-30T00:00:00\",\"2020-12-31T00:00:00\",\"2021-01-04T00:00:00\",\"2021-01-05T00:00:00\",\"2021-01-06T00:00:00\",\"2021-01-07T00:00:00\",\"2021-01-08T00:00:00\",\"2021-01-11T00:00:00\",\"2021-01-12T00:00:00\",\"2021-01-13T00:00:00\",\"2021-01-14T00:00:00\",\"2021-01-15T00:00:00\",\"2021-01-19T00:00:00\",\"2021-01-20T00:00:00\",\"2021-01-21T00:00:00\",\"2021-01-22T00:00:00\",\"2021-01-25T00:00:00\",\"2021-01-26T00:00:00\",\"2021-01-27T00:00:00\",\"2021-01-28T00:00:00\",\"2021-01-29T00:00:00\",\"2021-02-01T00:00:00\",\"2021-02-02T00:00:00\",\"2021-02-03T00:00:00\",\"2021-02-04T00:00:00\",\"2021-02-05T00:00:00\",\"2021-02-08T00:00:00\",\"2021-02-09T00:00:00\",\"2021-02-10T00:00:00\",\"2021-02-11T00:00:00\",\"2021-02-12T00:00:00\",\"2021-02-16T00:00:00\",\"2021-02-17T00:00:00\",\"2021-02-18T00:00:00\",\"2021-02-19T00:00:00\",\"2021-02-22T00:00:00\",\"2021-02-23T00:00:00\",\"2021-02-24T00:00:00\",\"2021-02-25T00:00:00\",\"2021-02-26T00:00:00\",\"2021-03-01T00:00:00\",\"2021-03-02T00:00:00\",\"2021-03-03T00:00:00\",\"2021-03-04T00:00:00\",\"2021-03-05T00:00:00\",\"2021-03-08T00:00:00\",\"2021-03-09T00:00:00\",\"2021-03-10T00:00:00\",\"2021-03-11T00:00:00\",\"2021-03-12T00:00:00\",\"2021-03-15T00:00:00\",\"2021-03-16T00:00:00\",\"2021-03-17T00:00:00\",\"2021-03-18T00:00:00\",\"2021-03-19T00:00:00\",\"2021-03-22T00:00:00\",\"2021-03-23T00:00:00\",\"2021-03-24T00:00:00\",\"2021-03-25T00:00:00\",\"2021-03-26T00:00:00\",\"2021-03-29T00:00:00\",\"2021-03-30T00:00:00\",\"2021-03-31T00:00:00\",\"2021-04-01T00:00:00\",\"2021-04-05T00:00:00\",\"2021-04-06T00:00:00\",\"2021-04-07T00:00:00\",\"2021-04-08T00:00:00\",\"2021-04-09T00:00:00\",\"2021-04-12T00:00:00\",\"2021-04-13T00:00:00\",\"2021-04-14T00:00:00\",\"2021-04-15T00:00:00\",\"2021-04-16T00:00:00\",\"2021-04-19T00:00:00\",\"2021-04-20T00:00:00\",\"2021-04-21T00:00:00\",\"2021-04-22T00:00:00\",\"2021-04-23T00:00:00\",\"2021-04-26T00:00:00\",\"2021-04-27T00:00:00\",\"2021-04-28T00:00:00\",\"2021-04-29T00:00:00\",\"2021-04-30T00:00:00\",\"2021-05-03T00:00:00\",\"2021-05-04T00:00:00\",\"2021-05-05T00:00:00\",\"2021-05-06T00:00:00\",\"2021-05-07T00:00:00\",\"2021-05-10T00:00:00\",\"2021-05-11T00:00:00\",\"2021-05-12T00:00:00\",\"2021-05-13T00:00:00\",\"2021-05-14T00:00:00\",\"2021-05-17T00:00:00\",\"2021-05-18T00:00:00\",\"2021-05-19T00:00:00\",\"2021-05-20T00:00:00\",\"2021-05-21T00:00:00\",\"2021-05-24T00:00:00\",\"2021-05-25T00:00:00\",\"2021-05-26T00:00:00\",\"2021-05-27T00:00:00\",\"2021-05-28T00:00:00\",\"2021-06-01T00:00:00\",\"2021-06-02T00:00:00\",\"2021-06-03T00:00:00\",\"2021-06-04T00:00:00\",\"2021-06-07T00:00:00\",\"2021-06-08T00:00:00\",\"2021-06-09T00:00:00\",\"2021-06-10T00:00:00\",\"2021-06-11T00:00:00\",\"2021-06-14T00:00:00\",\"2021-06-15T00:00:00\",\"2021-06-16T00:00:00\",\"2021-06-17T00:00:00\",\"2021-06-18T00:00:00\",\"2021-06-21T00:00:00\",\"2021-06-22T00:00:00\",\"2021-06-23T00:00:00\",\"2021-06-24T00:00:00\",\"2021-06-25T00:00:00\",\"2021-06-28T00:00:00\",\"2021-06-29T00:00:00\",\"2021-06-30T00:00:00\",\"2021-07-01T00:00:00\",\"2021-07-02T00:00:00\",\"2021-07-06T00:00:00\",\"2021-07-07T00:00:00\",\"2021-07-08T00:00:00\",\"2021-07-09T00:00:00\",\"2021-07-12T00:00:00\",\"2021-07-13T00:00:00\",\"2021-07-14T00:00:00\",\"2021-07-15T00:00:00\",\"2021-07-16T00:00:00\",\"2021-07-19T00:00:00\",\"2021-07-20T00:00:00\",\"2021-07-21T00:00:00\",\"2021-07-22T00:00:00\",\"2021-07-23T00:00:00\",\"2021-07-26T00:00:00\",\"2021-07-27T00:00:00\",\"2021-07-28T00:00:00\",\"2021-07-29T00:00:00\",\"2021-07-30T00:00:00\",\"2021-08-02T00:00:00\",\"2021-08-03T00:00:00\",\"2021-08-04T00:00:00\",\"2021-08-05T00:00:00\",\"2021-08-06T00:00:00\",\"2021-08-09T00:00:00\",\"2021-08-10T00:00:00\",\"2021-08-11T00:00:00\",\"2021-08-12T00:00:00\",\"2021-08-13T00:00:00\",\"2021-08-16T00:00:00\",\"2021-08-17T00:00:00\",\"2021-08-18T00:00:00\",\"2021-08-19T00:00:00\",\"2021-08-20T00:00:00\",\"2021-08-23T00:00:00\",\"2021-08-24T00:00:00\",\"2021-08-25T00:00:00\",\"2021-08-26T00:00:00\",\"2021-08-27T00:00:00\",\"2021-08-30T00:00:00\",\"2021-08-31T00:00:00\",\"2021-09-01T00:00:00\",\"2021-09-02T00:00:00\",\"2021-09-03T00:00:00\",\"2021-09-07T00:00:00\",\"2021-09-08T00:00:00\",\"2021-09-09T00:00:00\",\"2021-09-10T00:00:00\",\"2021-09-13T00:00:00\",\"2021-09-14T00:00:00\",\"2021-09-15T00:00:00\",\"2021-09-16T00:00:00\",\"2021-09-17T00:00:00\",\"2021-09-20T00:00:00\",\"2021-09-21T00:00:00\",\"2021-09-22T00:00:00\",\"2021-09-23T00:00:00\",\"2021-09-24T00:00:00\",\"2021-09-27T00:00:00\",\"2021-09-28T00:00:00\",\"2021-09-29T00:00:00\",\"2021-09-30T00:00:00\",\"2021-10-01T00:00:00\",\"2021-10-04T00:00:00\",\"2021-10-05T00:00:00\",\"2021-10-06T00:00:00\",\"2021-10-07T00:00:00\",\"2021-10-08T00:00:00\",\"2021-10-11T00:00:00\",\"2021-10-12T00:00:00\",\"2021-10-13T00:00:00\",\"2021-10-14T00:00:00\",\"2021-10-15T00:00:00\",\"2021-10-18T00:00:00\",\"2021-10-19T00:00:00\",\"2021-10-20T00:00:00\",\"2021-10-21T00:00:00\",\"2021-10-22T00:00:00\",\"2021-10-25T00:00:00\",\"2021-10-26T00:00:00\",\"2021-10-27T00:00:00\",\"2021-10-28T00:00:00\",\"2021-10-29T00:00:00\",\"2021-11-01T00:00:00\",\"2021-11-02T00:00:00\",\"2021-11-03T00:00:00\",\"2021-11-04T00:00:00\",\"2021-11-05T00:00:00\",\"2021-11-08T00:00:00\",\"2021-11-09T00:00:00\",\"2021-11-10T00:00:00\",\"2021-11-11T00:00:00\",\"2021-11-12T00:00:00\",\"2021-11-15T00:00:00\",\"2021-11-16T00:00:00\",\"2021-11-17T00:00:00\",\"2021-11-18T00:00:00\",\"2021-11-19T00:00:00\",\"2021-11-22T00:00:00\",\"2021-11-23T00:00:00\",\"2021-11-24T00:00:00\",\"2021-11-26T00:00:00\",\"2021-11-29T00:00:00\",\"2021-11-30T00:00:00\",\"2021-12-01T00:00:00\",\"2021-12-02T00:00:00\",\"2021-12-03T00:00:00\",\"2021-12-06T00:00:00\",\"2021-12-07T00:00:00\",\"2021-12-08T00:00:00\",\"2021-12-09T00:00:00\",\"2021-12-10T00:00:00\",\"2021-12-13T00:00:00\",\"2021-12-14T00:00:00\",\"2021-12-15T00:00:00\",\"2021-12-16T00:00:00\",\"2021-12-17T00:00:00\",\"2021-12-20T00:00:00\",\"2021-12-21T00:00:00\",\"2021-12-22T00:00:00\",\"2021-12-23T00:00:00\",\"2021-12-27T00:00:00\",\"2021-12-28T00:00:00\",\"2021-12-29T00:00:00\",\"2021-12-30T00:00:00\",\"2021-12-31T00:00:00\",\"2022-01-03T00:00:00\",\"2022-01-04T00:00:00\",\"2022-01-05T00:00:00\",\"2022-01-06T00:00:00\",\"2022-01-07T00:00:00\",\"2022-01-10T00:00:00\",\"2022-01-11T00:00:00\",\"2022-01-12T00:00:00\",\"2022-01-13T00:00:00\",\"2022-01-14T00:00:00\",\"2022-01-18T00:00:00\",\"2022-01-19T00:00:00\",\"2022-01-20T00:00:00\",\"2022-01-21T00:00:00\",\"2022-01-24T00:00:00\",\"2022-01-25T00:00:00\",\"2022-01-26T00:00:00\",\"2022-01-27T00:00:00\",\"2022-01-28T00:00:00\",\"2022-01-31T00:00:00\",\"2022-02-01T00:00:00\",\"2022-02-02T00:00:00\",\"2022-02-03T00:00:00\",\"2022-02-04T00:00:00\",\"2022-02-07T00:00:00\",\"2022-02-08T00:00:00\",\"2022-02-09T00:00:00\",\"2022-02-10T00:00:00\",\"2022-02-11T00:00:00\",\"2022-02-14T00:00:00\",\"2022-02-15T00:00:00\",\"2022-02-16T00:00:00\",\"2022-02-17T00:00:00\",\"2022-02-18T00:00:00\",\"2022-02-22T00:00:00\",\"2022-02-23T00:00:00\",\"2022-02-24T00:00:00\",\"2022-02-25T00:00:00\",\"2022-02-28T00:00:00\",\"2022-03-01T00:00:00\",\"2022-03-02T00:00:00\",\"2022-03-03T00:00:00\",\"2022-03-04T00:00:00\",\"2022-03-07T00:00:00\",\"2022-03-08T00:00:00\",\"2022-03-09T00:00:00\",\"2022-03-10T00:00:00\",\"2022-03-11T00:00:00\",\"2022-03-14T00:00:00\",\"2022-03-15T00:00:00\",\"2022-03-16T00:00:00\",\"2022-03-17T00:00:00\",\"2022-03-18T00:00:00\",\"2022-03-21T00:00:00\",\"2022-03-22T00:00:00\",\"2022-03-23T00:00:00\",\"2022-03-24T00:00:00\",\"2022-03-25T00:00:00\",\"2022-03-28T00:00:00\",\"2022-03-29T00:00:00\",\"2022-03-30T00:00:00\",\"2022-03-31T00:00:00\",\"2022-04-01T00:00:00\",\"2022-04-04T00:00:00\",\"2022-04-05T00:00:00\",\"2022-04-06T00:00:00\",\"2022-04-07T00:00:00\",\"2022-04-08T00:00:00\",\"2022-04-11T00:00:00\",\"2022-04-12T00:00:00\",\"2022-04-13T00:00:00\",\"2022-04-14T00:00:00\",\"2022-04-18T00:00:00\",\"2022-04-19T00:00:00\",\"2022-04-20T00:00:00\",\"2022-04-21T00:00:00\",\"2022-04-22T00:00:00\",\"2022-04-25T00:00:00\",\"2022-04-26T00:00:00\",\"2022-04-27T00:00:00\",\"2022-04-28T00:00:00\",\"2022-04-29T00:00:00\",\"2022-05-02T00:00:00\",\"2022-05-03T00:00:00\",\"2022-05-04T00:00:00\",\"2022-05-05T00:00:00\",\"2022-05-06T00:00:00\",\"2022-05-09T00:00:00\",\"2022-05-10T00:00:00\",\"2022-05-11T00:00:00\",\"2022-05-12T00:00:00\",\"2022-05-13T00:00:00\",\"2022-05-16T00:00:00\",\"2022-05-17T00:00:00\",\"2022-05-18T00:00:00\",\"2022-05-19T00:00:00\",\"2022-05-20T00:00:00\",\"2022-05-23T00:00:00\",\"2022-05-24T00:00:00\",\"2022-05-25T00:00:00\",\"2022-05-26T00:00:00\",\"2022-05-27T00:00:00\",\"2022-05-31T00:00:00\",\"2022-06-01T00:00:00\",\"2022-06-02T00:00:00\",\"2022-06-03T00:00:00\",\"2022-06-06T00:00:00\",\"2022-06-07T00:00:00\",\"2022-06-08T00:00:00\",\"2022-06-09T00:00:00\",\"2022-06-10T00:00:00\",\"2022-06-13T00:00:00\",\"2022-06-14T00:00:00\",\"2022-06-15T00:00:00\",\"2022-06-16T00:00:00\",\"2022-06-17T00:00:00\",\"2022-06-21T00:00:00\",\"2022-06-22T00:00:00\",\"2022-06-23T00:00:00\",\"2022-06-24T00:00:00\",\"2022-06-27T00:00:00\",\"2022-06-28T00:00:00\",\"2022-06-29T00:00:00\",\"2022-06-30T00:00:00\",\"2022-07-01T00:00:00\",\"2022-07-05T00:00:00\",\"2022-07-06T00:00:00\",\"2022-07-07T00:00:00\",\"2022-07-08T00:00:00\",\"2022-07-11T00:00:00\",\"2022-07-12T00:00:00\",\"2022-07-13T00:00:00\",\"2022-07-14T00:00:00\",\"2022-07-15T00:00:00\",\"2022-07-18T00:00:00\",\"2022-07-19T00:00:00\",\"2022-07-20T00:00:00\",\"2022-07-21T00:00:00\",\"2022-07-22T00:00:00\",\"2022-07-25T00:00:00\",\"2022-07-26T00:00:00\",\"2022-07-27T00:00:00\",\"2022-07-28T00:00:00\",\"2022-07-29T00:00:00\",\"2022-08-01T00:00:00\",\"2022-08-02T00:00:00\",\"2022-08-03T00:00:00\",\"2022-08-04T00:00:00\",\"2022-08-05T00:00:00\",\"2022-08-08T00:00:00\",\"2022-08-09T00:00:00\",\"2022-08-10T00:00:00\",\"2022-08-11T00:00:00\",\"2022-08-12T00:00:00\",\"2022-08-15T00:00:00\",\"2022-08-16T00:00:00\",\"2022-08-17T00:00:00\",\"2022-08-18T00:00:00\",\"2022-08-19T00:00:00\",\"2022-08-22T00:00:00\",\"2022-08-23T00:00:00\",\"2022-08-24T00:00:00\",\"2022-08-25T00:00:00\",\"2022-08-26T00:00:00\",\"2022-08-29T00:00:00\",\"2022-08-30T00:00:00\",\"2022-08-31T00:00:00\",\"2022-09-01T00:00:00\",\"2022-09-02T00:00:00\",\"2022-09-06T00:00:00\",\"2022-09-07T00:00:00\",\"2022-09-08T00:00:00\",\"2022-09-09T00:00:00\",\"2022-09-12T00:00:00\",\"2022-09-13T00:00:00\",\"2022-09-14T00:00:00\",\"2022-09-15T00:00:00\",\"2022-09-16T00:00:00\",\"2022-09-19T00:00:00\",\"2022-09-20T00:00:00\",\"2022-09-21T00:00:00\",\"2022-09-22T00:00:00\",\"2022-09-23T00:00:00\",\"2022-09-26T00:00:00\",\"2022-09-27T00:00:00\",\"2022-09-28T00:00:00\",\"2022-09-29T00:00:00\",\"2022-09-30T00:00:00\",\"2022-10-03T00:00:00\",\"2022-10-04T00:00:00\",\"2022-10-05T00:00:00\",\"2022-10-06T00:00:00\",\"2022-10-07T00:00:00\",\"2022-10-10T00:00:00\",\"2022-10-11T00:00:00\",\"2022-10-12T00:00:00\",\"2022-10-13T00:00:00\",\"2022-10-14T00:00:00\",\"2022-10-17T00:00:00\",\"2022-10-18T00:00:00\",\"2022-10-19T00:00:00\",\"2022-10-20T00:00:00\",\"2022-10-21T00:00:00\",\"2022-10-24T00:00:00\",\"2022-10-25T00:00:00\",\"2022-10-26T00:00:00\",\"2022-10-27T00:00:00\",\"2022-10-28T00:00:00\",\"2022-10-31T00:00:00\",\"2022-11-01T00:00:00\",\"2022-11-02T00:00:00\",\"2022-11-03T00:00:00\",\"2022-11-04T00:00:00\",\"2022-11-07T00:00:00\",\"2022-11-08T00:00:00\",\"2022-11-09T00:00:00\",\"2022-11-10T00:00:00\",\"2022-11-11T00:00:00\",\"2022-11-14T00:00:00\",\"2022-11-15T00:00:00\",\"2022-11-16T00:00:00\",\"2022-11-17T00:00:00\",\"2022-11-18T00:00:00\",\"2022-11-21T00:00:00\",\"2022-11-22T00:00:00\",\"2022-11-23T00:00:00\",\"2022-11-25T00:00:00\",\"2022-11-28T00:00:00\",\"2022-11-29T00:00:00\",\"2022-11-30T00:00:00\",\"2022-12-01T00:00:00\",\"2022-12-02T00:00:00\",\"2022-12-05T00:00:00\",\"2022-12-06T00:00:00\",\"2022-12-07T00:00:00\",\"2022-12-08T00:00:00\",\"2022-12-09T00:00:00\",\"2022-12-12T00:00:00\",\"2022-12-13T00:00:00\",\"2022-12-14T00:00:00\",\"2022-12-15T00:00:00\",\"2022-12-16T00:00:00\",\"2022-12-19T00:00:00\",\"2022-12-20T00:00:00\",\"2022-12-21T00:00:00\",\"2022-12-22T00:00:00\",\"2022-12-23T00:00:00\",\"2022-12-27T00:00:00\",\"2022-12-28T00:00:00\",\"2022-12-29T00:00:00\",\"2022-12-30T00:00:00\"],\"xaxis\":\"x\",\"y\":[null,null,null,null,null,null,null,null,null,null,null,null,null,null,null,null,null,null,null,null,null,null,null,null,null,null,null,null,null,-0.7190262270722465,-0.6724838872677877,-0.6402393364142124,-0.434502915498251,-0.16737461525403882,0.06143755409836733,0.3285789720709787,0.40974696208416056,0.48115401278910735,0.5689027836793632,0.6115395757126847,0.6634715223929568,0.6988292839599404,0.7226145683568437,0.7475546853381052,0.7549996096818601,0.7662385118136511,0.7850587221462811,0.7903665796372744,0.796937165965003,0.7920478722269301,0.7778550621435926,0.7715222797414262,0.7728154804262505,0.7820728773322302,0.7804503845194838,0.7357145032504405,0.7101259027102422,0.6721762454216715,0.6278226807588849,0.5943622377120941,0.5466776679190826,0.6369332391761086,0.6347311696275252,0.698526580165666,0.7538505839980327,0.8001896573402828,0.8267835347504059,0.833003083245119,0.8429438027998518,0.8517278029059265,0.8628636109433964,0.8686862073907555,0.8753531144671728,0.8810221749059036,0.8989813328078524,0.9282138621542702,0.9365707900408718,0.9399985020459417,0.9341477483297069,0.925206761636044,0.9154518436570389,0.9120880796720694,0.9119822152266966,0.9071159141559889,0.9232388946523054,0.9150816641295781,0.8510925444810485,0.7506204921523222,0.5725543495277015,0.34633871553835155,-0.3152117701317391,-0.5609769991665622,-0.6476159049790172,-0.6726980002443291,-0.7245751904894724,-0.767764648139065,-0.7755768948878355,-0.8104148351265652,-0.8377803507413548,-0.8685834014172897,-0.8892024218363509,-0.9042529341209996,-0.9101757292638265,-0.9122683500983961,-0.9020982798243248,-0.9022066824568993,-0.8993364905131513,-0.8933759743250294,-0.8716075565161202,-0.8361892228593152,-0.7975242778615891,-0.7468295735219888,-0.684900466065439,-0.6004427902870141,-0.43233177111752097,-0.21674889229623678,-0.0444687847690088,0.16523364562498263,0.3666256711455056,0.5495198045383024,0.5399839311343624,0.5197726953173553,0.5460877134275712,0.5911711741126292,0.6184297854620066,0.6349106191054875,0.6756644160890514,0.6914566242273363,0.7028040095074594,0.7125206920320233,0.7291527496441903,0.7389928579240419,0.7445667788601337,0.7557778991627295,0.7359612369032256,0.6929608860451915,0.6576952557264775,0.6153113611889945,0.5692483201935605,0.49426069864604805,0.38558008083412754,0.2692050748003881,0.11886953585989393,-0.0602824222361506,-0.21443999873235478,-0.33728730193191264,-0.4375081513382257,-0.45680026177897726,-0.48477041886669214,-0.4854973234654843,-0.49474829385958413,-0.46379515498730717,-0.4849155083508235,-0.47343153324932763,-0.469371138871336,-0.345285764938861,-0.313327596622206,-0.2911846485905988,-0.32655171541814965,-0.3848310795831231,-0.4435455503233138,-0.47233697208557296,-0.5399694120089946,-0.5612869274781774,-0.504789388528859,-0.44486686493671385,-0.44434579403948976,-0.44071782761313094,-0.44466440590548983,-0.4238484238782946,-0.38319103302212126,-0.3581490173468602,-0.3243231209357592,-0.26587631327387257,-0.2104471840003572,-0.18751009909414953,-0.19299973989118144,-0.2084570271197692,-0.14431252778328815,-0.12445323141572666,-0.06953295210555105,-0.10274265971544135,-0.12848786944034382,-0.08309256813169534,-0.1397373526673085,-0.1921831048425372,-0.1767952221492276,-0.17954298311443434,-0.12384053116674593,0.010006475508863322,0.07333848347263218,0.08620282186646204,0.1901989797962306,0.3222826773000216,0.4357193043074932,0.49892906637144874,0.49557184865179343,0.5055237805644973,0.5824251984430312,0.6142418671367474,0.582128905197075,0.5591862188733893,0.5274100718264392,0.5023028712089209,0.41640196071647545,0.30834861582762735,0.25696266093353337,0.2643651631093086,0.27440379621421884,0.2803982422263139,0.29142294422388015,0.3768209717506574,0.4798750579987081,0.5380551227247325,0.579592665250463,0.60957483031542,0.5998880788277612,0.5915087290704627,0.5872449309167046,0.6023903159380266,0.5900447384638833,0.5377718655891844,0.47049103843485124,0.39960662700905647,0.3687489207454821,0.3108634471507623,0.1936866150795147,0.05808716255131588,-0.06272767066985929,-0.16976551424065972,-0.23966321160514462,-0.32816639849872165,-0.3588422063443135,-0.4357027999062764,-0.5800047513148614,-0.753855509219101,-0.8027958500841729,-0.8035045735832858,-0.7998827151848972,-0.7926577178685376,-0.7887386862371519,-0.7733633497063284,-0.7788800266448501,-0.7453183058738337,-0.7077958741512582,-0.6696920538346596,-0.6261877437805917,-0.5816276325579506,-0.5399434457890765,-0.4917251336214969,-0.4436102240932089,-0.4396078481863091,-0.4648760895765334,-0.42825895734337566,-0.2215229646737474,0.00901493262863585,0.12559710345004085,0.19168962772335588,0.26664244041054097,0.36274304596074797,0.47970637084147205,0.5418305607710793,0.6206288277651545,0.6832109391354287,0.7428945753191092,0.7864192812791877,0.815873275673491,0.8434187453984396,0.8170135212254492,0.7954865992605783,0.7808697669734008,0.7522929088631857,0.6309084402001296,0.5695999403271172,0.5548408291526901,0.5729881464048389,0.5950984086036982,0.5987269868159526,0.6182111499580836,0.6427858512514522,0.6577473996354698,0.66205153316677,0.6977775429013537,0.6918251516561685,0.668358024031319,0.6449957340200984,0.6215910252489211,0.5323588422557446,0.4082303445008309,0.44443322323779044,0.45644029500151856,0.503114455842154,0.548744236154617,0.5916033904732702,0.6403716261344206,0.678165265869558,0.7467355873937985,0.8721162473947053,0.9010807522191115,0.9190746566879932,0.9186297169524652,0.9099044233076818,0.931976029196074,0.9397736361130263,0.9507395492578331,0.9507276129377707,0.9458282698436534,0.9348962916480777,0.9320204225395531,0.9291203935503507,0.9259932825637566,0.9228835173976233,0.9169883583765026,0.9108576499190626,0.9062959320253628,0.9007837228970453,0.8908375805290116,0.8779286578486476,0.8656667016274889,0.8570626464019621,0.8467219662794445,0.8319342460392779,0.799049031834401,0.7660265009049413,0.7286017188769967,0.6704806678604214,0.6041819340238707,0.5979964761571636,0.5687758006849991,0.5804212368517634,0.6063148156336846,0.6962116840028203,0.7000279067324168,0.7474459978351745,0.7422377432428878,0.6984519522220618,0.6650632000664207,0.67438053662293,0.6699109547485613,0.6620651007920054,0.6748536838109139,0.6693688278527401,0.6589597471057657,0.6224191310832828,0.5977426448067794,0.5882152792215806,0.638158770292324,0.6666771312815081,0.6990616475376542,0.6944044281678229,0.6866432042998786,0.6356575281992751,0.6244968621684572,0.6016620226778258,0.5799392841787109,0.6332120162228573,0.6204966767338705,0.5521320904602727,0.5274888101234214,0.47682780194013086,0.46287374385450564,0.4826632040484971,0.506329974743931,0.5060949709662645,0.5013744993877238,0.46354793636594177,0.4251056775210998,0.38743000261838817,0.3612173750731928,0.42837948527310343,0.4877599167851652,0.47098925788171425,0.3930977268236451,0.3448058680898139,0.46153512561936805,0.45682658973622786,0.4979556692145337,0.5900612371806218,0.5863056782774345,0.5228709739231494,0.4708717852631946,0.37394647766251304,0.31507860752732425,0.29183335254639176,0.2691051883064083,0.39449489848781366,0.32509631585795395,0.2571678470041391,0.2247595844647034,0.11909851793303625,0.029331175441721088,0.01399648573575618,0.006033397406044583,0.04546523947273229,0.24988933360207644,0.306506708068896,0.3930822460012693,0.4394037098899506,0.49335001336103773,0.5433749644109765,0.594850813154834,0.6472383323437784,0.6983609065615354,0.7277009196825512,0.7803302923473288,0.8096224157168328,0.8216544387342054,0.835701303462246,0.8413827563118378,0.850644220089284,0.8552643976939609,0.8559263515583759,0.855687012012366,0.8434299531917331,0.8257472791422472,0.7835854858103222,0.7394369642919443,0.6805634191386232,0.6308279706446157,0.6120036180778219,0.6108344326926259,0.5597540570239123,0.4001441730312707,0.20269035874697025,0.18687382697206595,0.10460408205256243,0.11375572028125694,0.1247112475989386,0.13268146751975052,0.1279400489467326,0.12720458665651402,0.17592554836833368,0.22489877637362052,0.30462630280159647,0.36776648607697143,0.44981897847298674,0.46598713820964793,0.49616123042308163,0.520899314198868,0.5685410231104366,0.6010326171823734,0.6314670143920915,0.6755195076843151,0.6919761735575044,0.7064979415237611,0.6934654621262155,0.6757204201826504,0.6640115283988396,0.6721208534643232,0.671991739654334,0.6542565188821314,0.6306302426955674,0.7330137834130335,0.732343344121181,0.715817388864189,0.6524345540622637,0.6157520618845496,0.6093729906668897,0.5539887932502794,0.48203006782525465,0.3272238655362659,0.23022487864222047,0.10679877911327124,0.003302614121533037,-0.04459614123724918,-0.09679278202377725,-0.022214059951941763,0.035289691961677104,0.11876274866869953,0.16739303232031305,0.23331671238319834,0.27345402961703563,0.31332536801798155,0.3892463599634203,0.43045313301245913,0.46006565942247873,0.5007893902453182,0.53672350606795,0.6029743349296508,0.6766140033183375,0.7278303211393841,0.7631474635073888,0.8072329739198436,0.8280220487877209,0.8534515862949236,0.8656732074760306,0.8790555027343533,0.8990482569404283,0.8977349390951782,0.8949638133835467,0.8847852504922191,0.8690672427030885,0.8561354519742053,0.8398732939616416,0.815993608201325,0.7872636633420985,0.7730368359776878,0.7542720329052793,0.7180199259211003,0.6879042353863056,0.6743190236878853,0.6787890874551337,0.6766133949745164,0.6879364415323658,0.7158039085403046,0.6650934893385926,0.6563875329600416,0.7136966432016446,0.8130175183407585,0.858794700002842,0.8747232143479728,0.8744815023016043,0.8981611819372662,0.9034527946494085,0.9013763117562844,0.902138862892869,0.8868520346809902,0.8434395114007057,0.8338145889556513,0.8039184167046242,0.7764198177868873,0.754365678516346,0.7247011774882914,0.6749722194657893,0.6551127695717102,0.6534256424232631,0.6459189889977787,0.6205889128958005,0.5931620681403151,0.6183920027465588,0.634533635680949,0.6569452700928478,0.6740885811816645,0.6949170569920249,0.7165931205029988,0.7343751294616735,0.7485556729206176,0.7574612177518335,0.7425944929787359,0.7467616816763829,0.7550325952047826,0.7267416083002534,0.6960724052248665,0.7058192280390397,0.7022824447988633,0.6492766689162609,0.5820240270112077,0.5887982078895316,0.5566126869910047,0.57367180420901,0.60091237081034,0.5687841603133288,0.5565213817799873,0.4956024043180164,0.4356414234126226,0.4382574023894177,0.3931361863099966,0.40143642963945,0.45227062900648946,0.4854699667693681,0.5138472364335713,0.5612912472813111,0.6000363210512666,0.6823751995652118,0.7367200474727582,0.7641383032006481,0.7857516829667492,0.7863141660879213,0.7851881986318674,0.7577635923078726,0.7731327427175286,0.7515062923910888,0.7456469881176365,0.7879731408770194,0.8144205990023483,0.8208749791031427,0.798310290427033,0.7132586100723358,0.6379618671537676,0.5070465095212382,0.38672480315432606,0.26306360264348827,0.20862239358916437,0.16497947080092945,0.13144950684085388,0.09689613397569251,0.12234172814665382,0.15459697298695485,0.09606825247378335,0.06218275140700091,-0.050839138253412644,-0.2155294288907242,-0.29165621573125244,-0.30856016653913115,-0.15425817181792378,-0.056985434455963935,-0.022023328479922673,0.003095542181459354,0.10774983328991442,0.22791017026848537,0.2634222391594816,0.27783129815532953,0.23170084611848532,0.22008769987707363,0.24192105986197157,0.1845400001652999,0.09236353016214954,0.04662969503205153,0.03600697719638796,0.016272076387989623,-0.028287184928279672,-0.09613621149456601,-0.15989144472943037,-0.1957778222663802,-0.23700663704308392,-0.29815102135984783,-0.31520628407212603,-0.34405863571580675,-0.3400036231044475,-0.3370465571185003,-0.3599678177892197,-0.5165767404577208,-0.6044159084878078,-0.6484219721276275,-0.5633716102007061,-0.5035396314078927,-0.5365245676372966,-0.4938884352255463,-0.4091565591442509,-0.4853699794332587,-0.45229933262219213,-0.4661159448210071,-0.46698673081542746,-0.4753486432319775,-0.46022916835439515,-0.4636623108493892,-0.4987225121803599,-0.5139459787190679,-0.5250686156773597,-0.49643334760967633,-0.4379302107653707,-0.46914116255977634,-0.5087279865116213,-0.4968397183468544,-0.4635776165214801,-0.32655951118406873,-0.15708716382954155,0.038225176578656025,0.23488135140413433,0.39082177767359433,0.5244683066970934,0.5347746596291009,0.5508321516168716,0.6107654120010362,0.6788882604773983,0.6862837377171446,0.7248477320800536,0.7808486393940567,0.8250173952401242,0.8470308771898485,0.8581183600138425,0.8631683144593935,0.8434995316497252,0.8184809858208034,0.8144304597145006,0.8335717619837838,0.8400648051006493,0.8499394249141178,0.8499588794644816,0.8413082208750129,0.8181568042550741,0.7676205527347917,0.7427298735850747,0.7204897149796097,0.7593358764996562,0.7655166108542508,0.7421115973285217,0.7232594385716131,0.713731200435545,0.6963521225263745,0.6338065323335048,0.6280696308754332,0.566621767299709,0.5241846447353334,0.6087581579819304,0.7018277285380282,0.720504632003379,0.7186966690439258,0.7043902538141088,0.6949895976507694,0.7426598070021091,0.7700780320881294,0.7508231423442846,0.6894847090628277,0.5593993115738994,0.41315767412596965,0.24106791661993968,0.1691212843419424,0.11581777888975534,0.002304248612032185,-0.06618198052849501,-0.11536028706272222,-0.10400136285751961,-0.041447909502808376,0.03168574307792582,0.17960780814709637,0.33353183105324913,0.43372071358986497,0.49776597852439963,0.5710726350020883,0.6008772724694149,0.6286487553977296,0.6581832451323153,0.6794337312617645,0.675965129671574,0.6792205844410257,0.6883003510919133,0.7022701704863012,0.7254679969317704,0.7805836494074161,0.8021212748165607,0.830155578451862,0.8331144309705958,0.837167065051803,0.8153894938296726,0.7598531899358995,0.7086516280200359,0.5852431620648945,0.46221419514050754,0.330201828167524,0.1571747265749851,-0.03650674644063918,-0.11595824531535406,-0.13286376686319512,-0.07399068988034511,0.062082245845898984,0.19527630943716714,0.31139082985581557,0.35984106858715204,0.3155314413348746,0.23987462778253368,0.19504126365076793,0.11339219517612498,0.11226050629959451,0.14777408368264547,0.11653895446715702,0.10491917221585934,0.12663261442575605,0.1696710888548283,0.12171037834386476,0.05722881608185305,0.041529545673754394,0.009669253541533144,-0.08599678743829213,-0.18774424085539054,-0.2709345699503881,-0.3458699531456822,-0.4134250090082019,-0.48566817846697957,-0.49940476035565745,-0.5292388174704026,-0.5395203858857257,-0.48925261944801135,-0.5100397899297837,-0.4619748579159176,-0.29113169693140417,-0.13781206575025393,0.14700252166955977,0.34512811097651813,0.46616372585635546,0.6289522637232406,0.7105621169809682,0.7567262054426431,0.7915934131227969,0.8185135089987992,0.832341602458149,0.8394002572550495,0.8449600453716092,0.8513199582572007,0.876567854898453,0.8819086382702547,0.8781926086742982,0.8616067157968147,0.8427364752527551,0.8093595243772278,0.7612563666987746,0.7021576597613506,0.6214866691057438,0.5440520462670729,0.5180523890317011,0.4982185819721117,0.5246663013550253,0.5579417635110868,0.5608288549481133,0.5288788872760212,0.47372142103267956,0.34839271854239184,0.29855760533166026,0.2674611673867245,0.27641410007392486,0.31151952105190117,0.3397790532158207,0.30466116611260435,0.30625210583339463,0.3155392279022598,0.34764730553857337,0.40873052569802354,0.4734285978843874,0.6471968556543556,0.7558784959449338,0.758922560356495,0.7439826929085477,0.7324829331699441,0.7267842970944616,0.7363878989309326,0.7722735062777518,0.8097566438200209,0.8283166095061031,0.8337706428647457,0.8456726958490214,0.8577561589734245,0.864055045228082,0.8556575436533927,0.8534760982026849,0.8602124497042438,0.8466873079650429,0.8749150319564203,0.8785362918576869,0.8772054927784254,0.8756123956913294,0.8580718460661736,0.8458735483301871,0.868267148568787,0.8667808353976535,0.8612330304418179,0.8903927036946964,0.8760061249465572,0.8792549924998093,0.8748005764711969,0.8815499589503354,0.8984596757706298,0.9060096331214428,0.9151297756929268,0.9223986762202351,0.930043132431112,0.9359746598934984,0.9393518659344285,0.942587308866428,0.9382327248168169,0.9369875533980043,0.9264232338026546,0.9280393105914699,0.9279309694095139,0.9284600802409305,0.9276496967217644,0.9332559020237265,0.9342866780155428,0.9268113426970567,0.8964196036199996,0.8850687697498253,0.8685571964273993,0.8356551818748854,0.8077827281263801,0.7837032530088359,0.7373122043094223,0.7173936636984388,0.710022079057721,0.662342449531451,0.7401426178199099,0.7913239243369119,0.81178738451719,0.8204412249479273,0.8522566769328913,0.8669620413505178,0.8724940047917862,0.8776091906106104,0.8594451540711157,0.8467163335178255,0.8447307336249377,0.8443293452414186,0.8434437097537557,0.8456482853485411,0.8649677538127957,0.8777887291614442,0.8759198511931562,0.8839628369032446,0.8863038213547244,0.8818148590040071,0.8823230637376025,0.8717315953546546,0.8578807802394933,0.8376626406325276,0.8140043038191608,0.7674185970291647,0.6739653760759229,0.54685085841836,0.4027646972407071,0.4652126012034666,0.5786347391565393,0.7041085889486574,0.7905240163907425,0.819897817290325,0.8447952677676207,0.8377695501155458,0.8171491006902187,0.8302413227527715,0.8424772964731403,0.8465431412133494,0.8503264667087832,0.8520331721917448,0.8518396842301539,0.8542798443916562,0.8452670319844663,0.8280058165736243,0.8129719707392539,0.7273601868845248,0.6793871813455984,0.6146572757879631,0.5208875917004702,0.3924674840856308,0.31207436823375073,0.3519949191151061,0.45813666546280757,0.5540695340812051,0.6218541230194191,0.6914013367322323,0.729571784536687,0.7532267208083966,0.7883013416384733,0.8224972092843735,0.8344709833247224,0.8462766385197809,0.8610207398479052,0.8661895683871789,0.8668631392083056,0.875991037197396,0.8961633043130673,0.910592299509951,0.9026189763841085,0.8915716939790206,0.8741241968684755,0.8578417482679294,0.8392656530750946,0.8038903940673897,0.7585626509309654,0.7478723592709184,0.7121487859938755,0.6744556220917562,0.6286991117688361,0.5531524490523803,0.5601555486087924,0.5657482504933385,0.583199173895137,0.5815512777550024,0.5807308121930325,0.5749817916304849,0.6283286466422077,0.6797017493944539,0.746776659546397,0.6831232966653787,0.4826821080455036,0.4452628819837892,0.4017309614774859,0.42349426888141195,0.4937418336017974,0.5713840202785322,0.7020979641046361,0.8112420108760585,0.8098828914061985,0.7683235121087755,0.7703451852279283,0.6282552712613649,0.39458770315336733,0.19361162494079423,-0.013039464137782088,-0.14606474622713286,-0.2559051345181992,-0.3292657440214334,-0.3753306128412216,-0.41550253904255463,-0.46452963948137116,-0.5246582838951305,-0.5762705095890994,-0.6022307138780193,-0.6460887094471601,-0.6567082937186908,-0.6534572552545831,-0.664733464088795,-0.6866282539814113,-0.6931496569759608,-0.6872925486522051,-0.6808321131340309,-0.6706248131899565,-0.6486885703943887,-0.6671277918219454,-0.6571292883346362,-0.6428502428561115,-0.5842892314634242,-0.44365877929717024,-0.1940034531899047,0.11500073284398804,0.34397152813798126,0.18298843665221626,0.1929435939651684,0.19386284645082308,0.22720334561052455,0.2374309999919345,0.25532093923183696],\"yaxis\":\"y\",\"type\":\"scattergl\"}],                        {\"template\":{\"data\":{\"histogram2dcontour\":[{\"type\":\"histogram2dcontour\",\"colorbar\":{\"outlinewidth\":0,\"ticks\":\"\"},\"colorscale\":[[0.0,\"#0d0887\"],[0.1111111111111111,\"#46039f\"],[0.2222222222222222,\"#7201a8\"],[0.3333333333333333,\"#9c179e\"],[0.4444444444444444,\"#bd3786\"],[0.5555555555555556,\"#d8576b\"],[0.6666666666666666,\"#ed7953\"],[0.7777777777777778,\"#fb9f3a\"],[0.8888888888888888,\"#fdca26\"],[1.0,\"#f0f921\"]]}],\"choropleth\":[{\"type\":\"choropleth\",\"colorbar\":{\"outlinewidth\":0,\"ticks\":\"\"}}],\"histogram2d\":[{\"type\":\"histogram2d\",\"colorbar\":{\"outlinewidth\":0,\"ticks\":\"\"},\"colorscale\":[[0.0,\"#0d0887\"],[0.1111111111111111,\"#46039f\"],[0.2222222222222222,\"#7201a8\"],[0.3333333333333333,\"#9c179e\"],[0.4444444444444444,\"#bd3786\"],[0.5555555555555556,\"#d8576b\"],[0.6666666666666666,\"#ed7953\"],[0.7777777777777778,\"#fb9f3a\"],[0.8888888888888888,\"#fdca26\"],[1.0,\"#f0f921\"]]}],\"heatmap\":[{\"type\":\"heatmap\",\"colorbar\":{\"outlinewidth\":0,\"ticks\":\"\"},\"colorscale\":[[0.0,\"#0d0887\"],[0.1111111111111111,\"#46039f\"],[0.2222222222222222,\"#7201a8\"],[0.3333333333333333,\"#9c179e\"],[0.4444444444444444,\"#bd3786\"],[0.5555555555555556,\"#d8576b\"],[0.6666666666666666,\"#ed7953\"],[0.7777777777777778,\"#fb9f3a\"],[0.8888888888888888,\"#fdca26\"],[1.0,\"#f0f921\"]]}],\"heatmapgl\":[{\"type\":\"heatmapgl\",\"colorbar\":{\"outlinewidth\":0,\"ticks\":\"\"},\"colorscale\":[[0.0,\"#0d0887\"],[0.1111111111111111,\"#46039f\"],[0.2222222222222222,\"#7201a8\"],[0.3333333333333333,\"#9c179e\"],[0.4444444444444444,\"#bd3786\"],[0.5555555555555556,\"#d8576b\"],[0.6666666666666666,\"#ed7953\"],[0.7777777777777778,\"#fb9f3a\"],[0.8888888888888888,\"#fdca26\"],[1.0,\"#f0f921\"]]}],\"contourcarpet\":[{\"type\":\"contourcarpet\",\"colorbar\":{\"outlinewidth\":0,\"ticks\":\"\"}}],\"contour\":[{\"type\":\"contour\",\"colorbar\":{\"outlinewidth\":0,\"ticks\":\"\"},\"colorscale\":[[0.0,\"#0d0887\"],[0.1111111111111111,\"#46039f\"],[0.2222222222222222,\"#7201a8\"],[0.3333333333333333,\"#9c179e\"],[0.4444444444444444,\"#bd3786\"],[0.5555555555555556,\"#d8576b\"],[0.6666666666666666,\"#ed7953\"],[0.7777777777777778,\"#fb9f3a\"],[0.8888888888888888,\"#fdca26\"],[1.0,\"#f0f921\"]]}],\"surface\":[{\"type\":\"surface\",\"colorbar\":{\"outlinewidth\":0,\"ticks\":\"\"},\"colorscale\":[[0.0,\"#0d0887\"],[0.1111111111111111,\"#46039f\"],[0.2222222222222222,\"#7201a8\"],[0.3333333333333333,\"#9c179e\"],[0.4444444444444444,\"#bd3786\"],[0.5555555555555556,\"#d8576b\"],[0.6666666666666666,\"#ed7953\"],[0.7777777777777778,\"#fb9f3a\"],[0.8888888888888888,\"#fdca26\"],[1.0,\"#f0f921\"]]}],\"mesh3d\":[{\"type\":\"mesh3d\",\"colorbar\":{\"outlinewidth\":0,\"ticks\":\"\"}}],\"scatter\":[{\"fillpattern\":{\"fillmode\":\"overlay\",\"size\":10,\"solidity\":0.2},\"type\":\"scatter\"}],\"parcoords\":[{\"type\":\"parcoords\",\"line\":{\"colorbar\":{\"outlinewidth\":0,\"ticks\":\"\"}}}],\"scatterpolargl\":[{\"type\":\"scatterpolargl\",\"marker\":{\"colorbar\":{\"outlinewidth\":0,\"ticks\":\"\"}}}],\"bar\":[{\"error_x\":{\"color\":\"#2a3f5f\"},\"error_y\":{\"color\":\"#2a3f5f\"},\"marker\":{\"line\":{\"color\":\"#E5ECF6\",\"width\":0.5},\"pattern\":{\"fillmode\":\"overlay\",\"size\":10,\"solidity\":0.2}},\"type\":\"bar\"}],\"scattergeo\":[{\"type\":\"scattergeo\",\"marker\":{\"colorbar\":{\"outlinewidth\":0,\"ticks\":\"\"}}}],\"scatterpolar\":[{\"type\":\"scatterpolar\",\"marker\":{\"colorbar\":{\"outlinewidth\":0,\"ticks\":\"\"}}}],\"histogram\":[{\"marker\":{\"pattern\":{\"fillmode\":\"overlay\",\"size\":10,\"solidity\":0.2}},\"type\":\"histogram\"}],\"scattergl\":[{\"type\":\"scattergl\",\"marker\":{\"colorbar\":{\"outlinewidth\":0,\"ticks\":\"\"}}}],\"scatter3d\":[{\"type\":\"scatter3d\",\"line\":{\"colorbar\":{\"outlinewidth\":0,\"ticks\":\"\"}},\"marker\":{\"colorbar\":{\"outlinewidth\":0,\"ticks\":\"\"}}}],\"scattermapbox\":[{\"type\":\"scattermapbox\",\"marker\":{\"colorbar\":{\"outlinewidth\":0,\"ticks\":\"\"}}}],\"scatterternary\":[{\"type\":\"scatterternary\",\"marker\":{\"colorbar\":{\"outlinewidth\":0,\"ticks\":\"\"}}}],\"scattercarpet\":[{\"type\":\"scattercarpet\",\"marker\":{\"colorbar\":{\"outlinewidth\":0,\"ticks\":\"\"}}}],\"carpet\":[{\"aaxis\":{\"endlinecolor\":\"#2a3f5f\",\"gridcolor\":\"white\",\"linecolor\":\"white\",\"minorgridcolor\":\"white\",\"startlinecolor\":\"#2a3f5f\"},\"baxis\":{\"endlinecolor\":\"#2a3f5f\",\"gridcolor\":\"white\",\"linecolor\":\"white\",\"minorgridcolor\":\"white\",\"startlinecolor\":\"#2a3f5f\"},\"type\":\"carpet\"}],\"table\":[{\"cells\":{\"fill\":{\"color\":\"#EBF0F8\"},\"line\":{\"color\":\"white\"}},\"header\":{\"fill\":{\"color\":\"#C8D4E3\"},\"line\":{\"color\":\"white\"}},\"type\":\"table\"}],\"barpolar\":[{\"marker\":{\"line\":{\"color\":\"#E5ECF6\",\"width\":0.5},\"pattern\":{\"fillmode\":\"overlay\",\"size\":10,\"solidity\":0.2}},\"type\":\"barpolar\"}],\"pie\":[{\"automargin\":true,\"type\":\"pie\"}]},\"layout\":{\"autotypenumbers\":\"strict\",\"colorway\":[\"#636efa\",\"#EF553B\",\"#00cc96\",\"#ab63fa\",\"#FFA15A\",\"#19d3f3\",\"#FF6692\",\"#B6E880\",\"#FF97FF\",\"#FECB52\"],\"font\":{\"color\":\"#2a3f5f\"},\"hovermode\":\"closest\",\"hoverlabel\":{\"align\":\"left\"},\"paper_bgcolor\":\"white\",\"plot_bgcolor\":\"#E5ECF6\",\"polar\":{\"bgcolor\":\"#E5ECF6\",\"angularaxis\":{\"gridcolor\":\"white\",\"linecolor\":\"white\",\"ticks\":\"\"},\"radialaxis\":{\"gridcolor\":\"white\",\"linecolor\":\"white\",\"ticks\":\"\"}},\"ternary\":{\"bgcolor\":\"#E5ECF6\",\"aaxis\":{\"gridcolor\":\"white\",\"linecolor\":\"white\",\"ticks\":\"\"},\"baxis\":{\"gridcolor\":\"white\",\"linecolor\":\"white\",\"ticks\":\"\"},\"caxis\":{\"gridcolor\":\"white\",\"linecolor\":\"white\",\"ticks\":\"\"}},\"coloraxis\":{\"colorbar\":{\"outlinewidth\":0,\"ticks\":\"\"}},\"colorscale\":{\"sequential\":[[0.0,\"#0d0887\"],[0.1111111111111111,\"#46039f\"],[0.2222222222222222,\"#7201a8\"],[0.3333333333333333,\"#9c179e\"],[0.4444444444444444,\"#bd3786\"],[0.5555555555555556,\"#d8576b\"],[0.6666666666666666,\"#ed7953\"],[0.7777777777777778,\"#fb9f3a\"],[0.8888888888888888,\"#fdca26\"],[1.0,\"#f0f921\"]],\"sequentialminus\":[[0.0,\"#0d0887\"],[0.1111111111111111,\"#46039f\"],[0.2222222222222222,\"#7201a8\"],[0.3333333333333333,\"#9c179e\"],[0.4444444444444444,\"#bd3786\"],[0.5555555555555556,\"#d8576b\"],[0.6666666666666666,\"#ed7953\"],[0.7777777777777778,\"#fb9f3a\"],[0.8888888888888888,\"#fdca26\"],[1.0,\"#f0f921\"]],\"diverging\":[[0,\"#8e0152\"],[0.1,\"#c51b7d\"],[0.2,\"#de77ae\"],[0.3,\"#f1b6da\"],[0.4,\"#fde0ef\"],[0.5,\"#f7f7f7\"],[0.6,\"#e6f5d0\"],[0.7,\"#b8e186\"],[0.8,\"#7fbc41\"],[0.9,\"#4d9221\"],[1,\"#276419\"]]},\"xaxis\":{\"gridcolor\":\"white\",\"linecolor\":\"white\",\"ticks\":\"\",\"title\":{\"standoff\":15},\"zerolinecolor\":\"white\",\"automargin\":true,\"zerolinewidth\":2},\"yaxis\":{\"gridcolor\":\"white\",\"linecolor\":\"white\",\"ticks\":\"\",\"title\":{\"standoff\":15},\"zerolinecolor\":\"white\",\"automargin\":true,\"zerolinewidth\":2},\"scene\":{\"xaxis\":{\"backgroundcolor\":\"#E5ECF6\",\"gridcolor\":\"white\",\"linecolor\":\"white\",\"showbackground\":true,\"ticks\":\"\",\"zerolinecolor\":\"white\",\"gridwidth\":2},\"yaxis\":{\"backgroundcolor\":\"#E5ECF6\",\"gridcolor\":\"white\",\"linecolor\":\"white\",\"showbackground\":true,\"ticks\":\"\",\"zerolinecolor\":\"white\",\"gridwidth\":2},\"zaxis\":{\"backgroundcolor\":\"#E5ECF6\",\"gridcolor\":\"white\",\"linecolor\":\"white\",\"showbackground\":true,\"ticks\":\"\",\"zerolinecolor\":\"white\",\"gridwidth\":2}},\"shapedefaults\":{\"line\":{\"color\":\"#2a3f5f\"}},\"annotationdefaults\":{\"arrowcolor\":\"#2a3f5f\",\"arrowhead\":0,\"arrowwidth\":1},\"geo\":{\"bgcolor\":\"white\",\"landcolor\":\"#E5ECF6\",\"subunitcolor\":\"white\",\"showland\":true,\"showlakes\":true,\"lakecolor\":\"white\"},\"title\":{\"x\":0.05},\"mapbox\":{\"style\":\"light\"}}},\"xaxis\":{\"anchor\":\"y\",\"domain\":[0.0,1.0],\"title\":{\"text\":\"Date\"}},\"yaxis\":{\"anchor\":\"x\",\"domain\":[0.0,1.0],\"title\":{\"text\":\"corr\"}},\"legend\":{\"tracegroupgap\":0},\"margin\":{\"t\":60}},                        {\"responsive\": true}                    ).then(function(){\n",
       "                            \n",
       "var gd = document.getElementById('39ebb9de-2d28-4ebc-859e-6c05b2a17d01');\n",
       "var x = new MutationObserver(function (mutations, observer) {{\n",
       "        var display = window.getComputedStyle(gd).display;\n",
       "        if (!display || display === 'none') {{\n",
       "            console.log([gd, 'removed!']);\n",
       "            Plotly.purge(gd);\n",
       "            observer.disconnect();\n",
       "        }}\n",
       "}});\n",
       "\n",
       "// Listen for the removal of the full notebook cells\n",
       "var notebookContainer = gd.closest('#notebook-container');\n",
       "if (notebookContainer) {{\n",
       "    x.observe(notebookContainer, {childList: true});\n",
       "}}\n",
       "\n",
       "// Listen for the clearing of the current output cell\n",
       "var outputEl = gd.closest('.output');\n",
       "if (outputEl) {{\n",
       "    x.observe(outputEl, {childList: true});\n",
       "}}\n",
       "\n",
       "                        })                };                });            </script>        </div>"
      ]
     },
     "metadata": {},
     "output_type": "display_data"
    }
   ],
   "source": [
    "# we can join the 2 datasets together to calculate a rolling correlation between the S&P 500 and Bitcoin\n",
    "import plotly.express\n",
    "\n",
    "sp500_btc = sp500.select(\"Date\", sp500=\"Adj Close\").join(\n",
    "    btc.select(\"Date\", btc=\"Adj Close\"), on=\"Date\", how=\"inner\"\n",
    ")\n",
    "\n",
    "(\n",
    "    sp500_btc.with_columns(corr=pl.rolling_corr(\"sp500\", \"btc\", window_size=30)).pipe(\n",
    "        plotly.express.line, x=\"Date\", y=\"corr\"\n",
    "    )\n",
    ")"
   ]
  },
  {
   "cell_type": "code",
   "execution_count": 267,
   "metadata": {},
   "outputs": [
    {
     "data": {
      "text/html": [
       "<div><style>\n",
       ".dataframe > thead > tr,\n",
       ".dataframe > tbody > tr {\n",
       "  text-align: right;\n",
       "  white-space: pre-wrap;\n",
       "}\n",
       "</style>\n",
       "<small>shape: (5, 4)</small><table border=\"1\" class=\"dataframe\"><thead><tr><th>Date</th><th>Adj_Close</th><th>rolling_max_price</th><th>rolling_diff_from_max</th></tr><tr><td>date</td><td>f64</td><td>f64</td><td>f64</td></tr></thead><tbody><tr><td>2019-01-02</td><td>null</td><td>null</td><td>null</td></tr><tr><td>2019-01-03</td><td>2510.03</td><td>2510.03</td><td>0.0</td></tr><tr><td>2019-01-04</td><td>2447.89</td><td>2510.03</td><td>-62.14</td></tr><tr><td>2019-01-07</td><td>2531.94</td><td>2531.94</td><td>0.0</td></tr><tr><td>2019-01-08</td><td>2549.69</td><td>2549.69</td><td>0.0</td></tr></tbody></table></div>"
      ],
      "text/plain": [
       "shape: (5, 4)\n",
       "┌────────────┬───────────┬───────────────────┬───────────────────────┐\n",
       "│ Date       ┆ Adj_Close ┆ rolling_max_price ┆ rolling_diff_from_max │\n",
       "│ ---        ┆ ---       ┆ ---               ┆ ---                   │\n",
       "│ date       ┆ f64       ┆ f64               ┆ f64                   │\n",
       "╞════════════╪═══════════╪═══════════════════╪═══════════════════════╡\n",
       "│ 2019-01-02 ┆ null      ┆ null              ┆ null                  │\n",
       "│ 2019-01-03 ┆ 2510.03   ┆ 2510.03           ┆ 0.0                   │\n",
       "│ 2019-01-04 ┆ 2447.89   ┆ 2510.03           ┆ -62.14                │\n",
       "│ 2019-01-07 ┆ 2531.94   ┆ 2531.94           ┆ 0.0                   │\n",
       "│ 2019-01-08 ┆ 2549.69   ┆ 2549.69           ┆ 0.0                   │\n",
       "└────────────┴───────────┴───────────────────┴───────────────────────┘"
      ]
     },
     "execution_count": 267,
     "metadata": {},
     "output_type": "execute_result"
    }
   ],
   "source": [
    "# Finally, groupby rolling allows to define custom calculation for each rolling window\n",
    "# In this example below, we calculate the rolling maximum, and the difference between the current value and the maximum value\n",
    "\n",
    "(\n",
    "    sp500.rolling(\"Date\", period=\"3d\", closed=\"left\").agg(\n",
    "        Adj_Close=pl.col(\"Adj Close\").last(),\n",
    "        rolling_max_price=pl.col(\"Adj Close\").max(),\n",
    "        rolling_diff_from_max=pl.col(\"Adj Close\").last() - pl.col(\"Adj Close\").max(),\n",
    "    )\n",
    ").head(5)"
   ]
  },
  {
   "cell_type": "markdown",
   "metadata": {},
   "source": [
    "#### Dynamic groups: groupby_dynamic"
   ]
  },
  {
   "cell_type": "code",
   "execution_count": 268,
   "metadata": {},
   "outputs": [
    {
     "data": {
      "text/html": [
       "<div><style>\n",
       ".dataframe > thead > tr,\n",
       ".dataframe > tbody > tr {\n",
       "  text-align: right;\n",
       "  white-space: pre-wrap;\n",
       "}\n",
       "</style>\n",
       "<small>shape: (5, 4)</small><table border=\"1\" class=\"dataframe\"><thead><tr><th>Date</th><th>from_date</th><th>to_date</th><th>corr</th></tr><tr><td>date</td><td>date</td><td>date</td><td>f64</td></tr></thead><tbody><tr><td>2019-01-01</td><td>2019-01-02</td><td>2019-01-31</td><td>-0.73916</td></tr><tr><td>2019-02-01</td><td>2019-02-01</td><td>2019-02-28</td><td>0.820574</td></tr><tr><td>2019-03-01</td><td>2019-03-01</td><td>2019-03-29</td><td>0.599727</td></tr><tr><td>2019-04-01</td><td>2019-04-01</td><td>2019-04-30</td><td>0.65675</td></tr><tr><td>2019-05-01</td><td>2019-05-01</td><td>2019-05-31</td><td>-0.871049</td></tr></tbody></table></div>"
      ],
      "text/plain": [
       "shape: (5, 4)\n",
       "┌────────────┬────────────┬────────────┬───────────┐\n",
       "│ Date       ┆ from_date  ┆ to_date    ┆ corr      │\n",
       "│ ---        ┆ ---        ┆ ---        ┆ ---       │\n",
       "│ date       ┆ date       ┆ date       ┆ f64       │\n",
       "╞════════════╪════════════╪════════════╪═══════════╡\n",
       "│ 2019-01-01 ┆ 2019-01-02 ┆ 2019-01-31 ┆ -0.73916  │\n",
       "│ 2019-02-01 ┆ 2019-02-01 ┆ 2019-02-28 ┆ 0.820574  │\n",
       "│ 2019-03-01 ┆ 2019-03-01 ┆ 2019-03-29 ┆ 0.599727  │\n",
       "│ 2019-04-01 ┆ 2019-04-01 ┆ 2019-04-30 ┆ 0.65675   │\n",
       "│ 2019-05-01 ┆ 2019-05-01 ┆ 2019-05-31 ┆ -0.871049 │\n",
       "└────────────┴────────────┴────────────┴───────────┘"
      ]
     },
     "execution_count": 268,
     "metadata": {},
     "output_type": "execute_result"
    }
   ],
   "source": [
    "# Groupby_dynamic and groupby_rolling are advanced functions for grouping data\n",
    "# based on a time interval\n",
    "# They are different from the cumulative and rolling functions because we reduce the number of rows\n",
    "\n",
    "# 3 main parameters for groupby_dynamic:\n",
    "# 1. every: how often we start a new interval\n",
    "# 2. period: the length of the interval\n",
    "# 3. offset: the offset of the interval\n",
    "\n",
    "# Let's calculate the correlation between the S&P 500 and Bitcoin for each month\n",
    "# Now I calculate only one value per month\n",
    "\n",
    "(\n",
    "    sp500_btc.group_by_dynamic(\"Date\", every=\"1mo\", period=\"1mo\").agg(\n",
    "        from_date=pl.col(\"Date\").min(),\n",
    "        to_date=pl.col(\"Date\").max(),\n",
    "        corr=pl.corr(\"sp500\", \"btc\"),\n",
    "    )\n",
    ").head(5)"
   ]
  },
  {
   "cell_type": "code",
   "execution_count": 269,
   "metadata": {},
   "outputs": [
    {
     "data": {
      "text/html": [
       "<div><style>\n",
       ".dataframe > thead > tr,\n",
       ".dataframe > tbody > tr {\n",
       "  text-align: right;\n",
       "  white-space: pre-wrap;\n",
       "}\n",
       "</style>\n",
       "<small>shape: (5, 4)</small><table border=\"1\" class=\"dataframe\"><thead><tr><th>Date</th><th>from_date</th><th>to_date</th><th>corr</th></tr><tr><td>date</td><td>date</td><td>date</td><td>f64</td></tr></thead><tbody><tr><td>2019-01-01</td><td>2019-01-02</td><td>2019-02-28</td><td>-0.083929</td></tr><tr><td>2019-02-01</td><td>2019-02-01</td><td>2019-03-29</td><td>0.840186</td></tr><tr><td>2019-03-01</td><td>2019-03-01</td><td>2019-04-30</td><td>0.923523</td></tr><tr><td>2019-04-01</td><td>2019-04-01</td><td>2019-05-31</td><td>-0.783081</td></tr><tr><td>2019-05-01</td><td>2019-05-01</td><td>2019-06-28</td><td>0.194892</td></tr></tbody></table></div>"
      ],
      "text/plain": [
       "shape: (5, 4)\n",
       "┌────────────┬────────────┬────────────┬───────────┐\n",
       "│ Date       ┆ from_date  ┆ to_date    ┆ corr      │\n",
       "│ ---        ┆ ---        ┆ ---        ┆ ---       │\n",
       "│ date       ┆ date       ┆ date       ┆ f64       │\n",
       "╞════════════╪════════════╪════════════╪═══════════╡\n",
       "│ 2019-01-01 ┆ 2019-01-02 ┆ 2019-02-28 ┆ -0.083929 │\n",
       "│ 2019-02-01 ┆ 2019-02-01 ┆ 2019-03-29 ┆ 0.840186  │\n",
       "│ 2019-03-01 ┆ 2019-03-01 ┆ 2019-04-30 ┆ 0.923523  │\n",
       "│ 2019-04-01 ┆ 2019-04-01 ┆ 2019-05-31 ┆ -0.783081 │\n",
       "│ 2019-05-01 ┆ 2019-05-01 ┆ 2019-06-28 ┆ 0.194892  │\n",
       "└────────────┴────────────┴────────────┴───────────┘"
      ]
     },
     "execution_count": 269,
     "metadata": {},
     "output_type": "execute_result"
    }
   ],
   "source": [
    "# Let's now calculate the correlation between the S&P 500 and Bitcoin\n",
    "# every month, but with a period of 2 months\n",
    "\n",
    "(\n",
    "    sp500_btc.group_by_dynamic(\"Date\", every=\"1mo\", period=\"2mo\").agg(\n",
    "        from_date=pl.col(\"Date\").min(),\n",
    "        to_date=pl.col(\"Date\").max(),\n",
    "        corr=pl.corr(\"sp500\", \"btc\"),\n",
    "    )\n",
    ").head(5)"
   ]
  },
  {
   "cell_type": "code",
   "execution_count": 270,
   "metadata": {},
   "outputs": [
    {
     "data": {
      "text/html": [
       "<div><style>\n",
       ".dataframe > thead > tr,\n",
       ".dataframe > tbody > tr {\n",
       "  text-align: right;\n",
       "  white-space: pre-wrap;\n",
       "}\n",
       "</style>\n",
       "<small>shape: (5, 4)</small><table border=\"1\" class=\"dataframe\"><thead><tr><th>Date</th><th>from_date</th><th>to_date</th><th>corr</th></tr><tr><td>date</td><td>date</td><td>date</td><td>f64</td></tr></thead><tbody><tr><td>2019-01-01</td><td>2019-01-02</td><td>2019-01-31</td><td>-0.73916</td></tr><tr><td>2019-03-01</td><td>2019-03-01</td><td>2019-03-29</td><td>0.599727</td></tr><tr><td>2019-05-01</td><td>2019-05-01</td><td>2019-05-31</td><td>-0.871049</td></tr><tr><td>2019-07-01</td><td>2019-07-01</td><td>2019-07-31</td><td>-0.365423</td></tr><tr><td>2019-09-01</td><td>2019-09-03</td><td>2019-09-30</td><td>0.081172</td></tr></tbody></table></div>"
      ],
      "text/plain": [
       "shape: (5, 4)\n",
       "┌────────────┬────────────┬────────────┬───────────┐\n",
       "│ Date       ┆ from_date  ┆ to_date    ┆ corr      │\n",
       "│ ---        ┆ ---        ┆ ---        ┆ ---       │\n",
       "│ date       ┆ date       ┆ date       ┆ f64       │\n",
       "╞════════════╪════════════╪════════════╪═══════════╡\n",
       "│ 2019-01-01 ┆ 2019-01-02 ┆ 2019-01-31 ┆ -0.73916  │\n",
       "│ 2019-03-01 ┆ 2019-03-01 ┆ 2019-03-29 ┆ 0.599727  │\n",
       "│ 2019-05-01 ┆ 2019-05-01 ┆ 2019-05-31 ┆ -0.871049 │\n",
       "│ 2019-07-01 ┆ 2019-07-01 ┆ 2019-07-31 ┆ -0.365423 │\n",
       "│ 2019-09-01 ┆ 2019-09-03 ┆ 2019-09-30 ┆ 0.081172  │\n",
       "└────────────┴────────────┴────────────┴───────────┘"
      ]
     },
     "execution_count": 270,
     "metadata": {},
     "output_type": "execute_result"
    }
   ],
   "source": [
    "# Finally, let's calculate the correlation between the S&P 500 and Bitcoin\n",
    "# every 2 months, but with a period of 1 month\n",
    "\n",
    "(\n",
    "    sp500_btc.group_by_dynamic(\"Date\", every=\"2mo\", period=\"1mo\").agg(\n",
    "        from_date=pl.col(\"Date\").min(),\n",
    "        to_date=pl.col(\"Date\").max(),\n",
    "        corr=pl.corr(\"sp500\", \"btc\"),\n",
    "    )\n",
    ").head(5)"
   ]
  },
  {
   "cell_type": "markdown",
   "metadata": {},
   "source": [
    "#### Join with nearest key: asof_join"
   ]
  },
  {
   "cell_type": "code",
   "execution_count": 271,
   "metadata": {},
   "outputs": [
    {
     "data": {
      "text/html": [
       "<div><style>\n",
       ".dataframe > thead > tr,\n",
       ".dataframe > tbody > tr {\n",
       "  text-align: right;\n",
       "  white-space: pre-wrap;\n",
       "}\n",
       "</style>\n",
       "<small>shape: (3, 2)</small><table border=\"1\" class=\"dataframe\"><thead><tr><th>Date</th><th>Quantity</th></tr><tr><td>date</td><td>i64</td></tr></thead><tbody><tr><td>2019-01-04</td><td>10</td></tr><tr><td>2019-01-06</td><td>-20</td></tr><tr><td>2019-01-11</td><td>30</td></tr></tbody></table></div>"
      ],
      "text/plain": [
       "shape: (3, 2)\n",
       "┌────────────┬──────────┐\n",
       "│ Date       ┆ Quantity │\n",
       "│ ---        ┆ ---      │\n",
       "│ date       ┆ i64      │\n",
       "╞════════════╪══════════╡\n",
       "│ 2019-01-04 ┆ 10       │\n",
       "│ 2019-01-06 ┆ -20      │\n",
       "│ 2019-01-11 ┆ 30       │\n",
       "└────────────┴──────────┘"
      ]
     },
     "execution_count": 271,
     "metadata": {},
     "output_type": "execute_result"
    }
   ],
   "source": [
    "# Join_asof is a function that allows to join 2 datasets based on nearest keys\n",
    "# For example, we can find the price of purchase for an S&P 500 ETF by looking at opening price for the next available date\n",
    "\n",
    "trades = pl.DataFrame(\n",
    "    {\n",
    "        \"Date\": [date(2019, 1, 4), date(2019, 1, 6), date(2019, 1, 11)],\n",
    "        \"Quantity\": [10, -20, 30],\n",
    "    }\n",
    ").with_columns(pl.col(\"Date\").set_sorted())\n",
    "\n",
    "trades"
   ]
  },
  {
   "cell_type": "code",
   "execution_count": 272,
   "metadata": {},
   "outputs": [
    {
     "data": {
      "text/html": [
       "<div><style>\n",
       ".dataframe > thead > tr,\n",
       ".dataframe > tbody > tr {\n",
       "  text-align: right;\n",
       "  white-space: pre-wrap;\n",
       "}\n",
       "</style>\n",
       "<small>shape: (10, 2)</small><table border=\"1\" class=\"dataframe\"><thead><tr><th>Date</th><th>Open</th></tr><tr><td>date</td><td>f64</td></tr></thead><tbody><tr><td>2019-01-01</td><td>3746.713379</td></tr><tr><td>2019-01-02</td><td>3849.216309</td></tr><tr><td>2019-01-03</td><td>3931.048584</td></tr><tr><td>2019-01-04</td><td>3832.040039</td></tr><tr><td>2019-01-05</td><td>3851.973877</td></tr><tr><td>2019-01-06</td><td>3836.519043</td></tr><tr><td>2019-01-07</td><td>4078.584961</td></tr><tr><td>2019-01-08</td><td>4028.472168</td></tr><tr><td>2019-01-09</td><td>4031.552002</td></tr><tr><td>2019-01-10</td><td>4034.411377</td></tr></tbody></table></div>"
      ],
      "text/plain": [
       "shape: (10, 2)\n",
       "┌────────────┬─────────────┐\n",
       "│ Date       ┆ Open        │\n",
       "│ ---        ┆ ---         │\n",
       "│ date       ┆ f64         │\n",
       "╞════════════╪═════════════╡\n",
       "│ 2019-01-01 ┆ 3746.713379 │\n",
       "│ 2019-01-02 ┆ 3849.216309 │\n",
       "│ 2019-01-03 ┆ 3931.048584 │\n",
       "│ 2019-01-04 ┆ 3832.040039 │\n",
       "│ 2019-01-05 ┆ 3851.973877 │\n",
       "│ 2019-01-06 ┆ 3836.519043 │\n",
       "│ 2019-01-07 ┆ 4078.584961 │\n",
       "│ 2019-01-08 ┆ 4028.472168 │\n",
       "│ 2019-01-09 ┆ 4031.552002 │\n",
       "│ 2019-01-10 ┆ 4034.411377 │\n",
       "└────────────┴─────────────┘"
      ]
     },
     "execution_count": 272,
     "metadata": {},
     "output_type": "execute_result"
    }
   ],
   "source": [
    "# Here are the prices of the S&P 500 as a reminder\n",
    "btc.select(\"Date\", \"Open\").head(10)"
   ]
  },
  {
   "cell_type": "code",
   "execution_count": 273,
   "metadata": {},
   "outputs": [
    {
     "data": {
      "text/html": [
       "<div><style>\n",
       ".dataframe > thead > tr,\n",
       ".dataframe > tbody > tr {\n",
       "  text-align: right;\n",
       "  white-space: pre-wrap;\n",
       "}\n",
       "</style>\n",
       "<small>shape: (3, 3)</small><table border=\"1\" class=\"dataframe\"><thead><tr><th>Date</th><th>Quantity</th><th>Price</th></tr><tr><td>date</td><td>i64</td><td>f64</td></tr></thead><tbody><tr><td>2019-01-04</td><td>10</td><td>3832.040039</td></tr><tr><td>2019-01-06</td><td>-20</td><td>3836.519043</td></tr><tr><td>2019-01-11</td><td>30</td><td>3674.015381</td></tr></tbody></table></div>"
      ],
      "text/plain": [
       "shape: (3, 3)\n",
       "┌────────────┬──────────┬─────────────┐\n",
       "│ Date       ┆ Quantity ┆ Price       │\n",
       "│ ---        ┆ ---      ┆ ---         │\n",
       "│ date       ┆ i64      ┆ f64         │\n",
       "╞════════════╪══════════╪═════════════╡\n",
       "│ 2019-01-04 ┆ 10       ┆ 3832.040039 │\n",
       "│ 2019-01-06 ┆ -20      ┆ 3836.519043 │\n",
       "│ 2019-01-11 ┆ 30       ┆ 3674.015381 │\n",
       "└────────────┴──────────┴─────────────┘"
      ]
     },
     "execution_count": 273,
     "metadata": {},
     "output_type": "execute_result"
    }
   ],
   "source": [
    "trades.join_asof(btc.select(\"Date\", Price=\"Open\"), on=\"Date\", strategy=\"forward\")"
   ]
  },
  {
   "cell_type": "code",
   "execution_count": null,
   "metadata": {},
   "outputs": [],
   "source": []
  }
 ],
 "metadata": {
  "kernelspec": {
   "display_name": "Python 3",
   "language": "python",
   "name": "python3"
  },
  "language_info": {
   "codemirror_mode": {
    "name": "ipython",
    "version": 3
   },
   "file_extension": ".py",
   "mimetype": "text/x-python",
   "name": "python",
   "nbconvert_exporter": "python",
   "pygments_lexer": "ipython3",
   "version": "3.10.12"
  },
  "orig_nbformat": 4
 },
 "nbformat": 4,
 "nbformat_minor": 2
}
