{
 "cells": [
  {
   "attachments": {},
   "cell_type": "markdown",
   "metadata": {},
   "source": [
    "### Chapter 4 Exercises"
   ]
  },
  {
   "cell_type": "code",
   "execution_count": 10,
   "metadata": {},
   "outputs": [
    {
     "data": {
      "text/plain": [
       "polars.config.Config"
      ]
     },
     "execution_count": 10,
     "metadata": {},
     "output_type": "execute_result"
    }
   ],
   "source": [
    "import polars as pl\n",
    "\n",
    "pl.Config.set_fmt_str_lengths(50)"
   ]
  },
  {
   "attachments": {},
   "cell_type": "markdown",
   "metadata": {},
   "source": [
    "1.\tUse Polars to read the Parquet file nypd_crimes_from_2018 from the dataset folder. \n",
    "Filter the dataset for the dates of 31st December 2019 and 1st January 2020.\n",
    "We will use this filtered dataset for the rest of the exercises"
   ]
  },
  {
   "cell_type": "code",
   "execution_count": 11,
   "metadata": {},
   "outputs": [],
   "source": [
    "nypd = pl.read_parquet(\"../datasets/nypd_crimes_from_2018.parquet\")\n",
    "\n",
    "nypd = nypd.with_columns(\n",
    "    pl.col(\"complaint_datetime\").str.to_datetime(\"%Y-%m-%d %H:%M:%S\")\n",
    ")"
   ]
  },
  {
   "cell_type": "code",
   "execution_count": 12,
   "metadata": {},
   "outputs": [],
   "source": [
    "from datetime import datetime\n",
    "\n",
    "nypd_filtered = nypd.filter(\n",
    "    pl.col(\"complaint_datetime\").is_between(\n",
    "        datetime(2019, 12, 31), datetime(2020, 1, 2)\n",
    "    )\n",
    ")"
   ]
  },
  {
   "cell_type": "markdown",
   "metadata": {},
   "source": [
    "2.\tTake the dataset from question 1, group it dataset by crime_category, and add 2 list columns: one with a list of precincts, and another with a list of boroughs. Do not worry about duplicated values in the lists."
   ]
  },
  {
   "cell_type": "code",
   "execution_count": 14,
   "metadata": {},
   "outputs": [
    {
     "data": {
      "text/html": [
       "<div><style>\n",
       ".dataframe > thead > tr,\n",
       ".dataframe > tbody > tr {\n",
       "  text-align: right;\n",
       "  white-space: pre-wrap;\n",
       "}\n",
       "</style>\n",
       "<small>shape: (3, 3)</small><table border=\"1\" class=\"dataframe\"><thead><tr><th>crime_category</th><th>precinct</th><th>borough</th></tr><tr><td>str</td><td>list[i64]</td><td>list[str]</td></tr></thead><tbody><tr><td>&quot;MISDEMEANOR&quot;</td><td>[19, 48, … 44]</td><td>[&quot;MANHATTAN&quot;, &quot;BRONX&quot;, … &quot;BRONX&quot;]</td></tr><tr><td>&quot;VIOLATION&quot;</td><td>[20, 42, … 73]</td><td>[&quot;MANHATTAN&quot;, &quot;BRONX&quot;, … &quot;BROOKLYN&quot;]</td></tr><tr><td>&quot;FELONY&quot;</td><td>[105, 114, … 72]</td><td>[&quot;QUEENS&quot;, &quot;QUEENS&quot;, … &quot;BROOKLYN&quot;]</td></tr></tbody></table></div>"
      ],
      "text/plain": [
       "shape: (3, 3)\n",
       "┌────────────────┬──────────────────┬──────────────────────────────────────┐\n",
       "│ crime_category ┆ precinct         ┆ borough                              │\n",
       "│ ---            ┆ ---              ┆ ---                                  │\n",
       "│ str            ┆ list[i64]        ┆ list[str]                            │\n",
       "╞════════════════╪══════════════════╪══════════════════════════════════════╡\n",
       "│ MISDEMEANOR    ┆ [19, 48, … 44]   ┆ [\"MANHATTAN\", \"BRONX\", … \"BRONX\"]    │\n",
       "│ VIOLATION      ┆ [20, 42, … 73]   ┆ [\"MANHATTAN\", \"BRONX\", … \"BROOKLYN\"] │\n",
       "│ FELONY         ┆ [105, 114, … 72] ┆ [\"QUEENS\", \"QUEENS\", … \"BROOKLYN\"]   │\n",
       "└────────────────┴──────────────────┴──────────────────────────────────────┘"
      ]
     },
     "execution_count": 14,
     "metadata": {},
     "output_type": "execute_result"
    }
   ],
   "source": [
    "nypd_grouped = nypd_filtered.group_by(\"crime_category\").agg(\"precinct\", \"borough\")\n",
    "\n",
    "nypd_grouped"
   ]
  },
  {
   "cell_type": "markdown",
   "metadata": {},
   "source": [
    "3.\tStart with the grouped dataframe of question 2, then add the following columns:\n",
    "\n",
    "- 'borough_unique' with the list of boroughs without duplicated values\n",
    "- 'precinct_count' with the count of precincts (you need to remove duplicated values first)\n",
    "- 'top_borough' with the borough having the most crimes (hint: check out the 'mode' method)"
   ]
  },
  {
   "cell_type": "code",
   "execution_count": 15,
   "metadata": {},
   "outputs": [
    {
     "data": {
      "text/html": [
       "<div><style>\n",
       ".dataframe > thead > tr,\n",
       ".dataframe > tbody > tr {\n",
       "  text-align: right;\n",
       "  white-space: pre-wrap;\n",
       "}\n",
       "</style>\n",
       "<small>shape: (3, 6)</small><table border=\"1\" class=\"dataframe\"><thead><tr><th>crime_category</th><th>precinct</th><th>borough</th><th>borough_unique</th><th>precinct_count</th><th>top_borough</th></tr><tr><td>str</td><td>list[i64]</td><td>list[str]</td><td>list[str]</td><td>u32</td><td>list[str]</td></tr></thead><tbody><tr><td>&quot;MISDEMEANOR&quot;</td><td>[19, 48, … 44]</td><td>[&quot;MANHATTAN&quot;, &quot;BRONX&quot;, … &quot;BRONX&quot;]</td><td>[&quot;BROOKLYN&quot;, &quot;BRONX&quot;, … &quot;MANHATTAN&quot;]</td><td>77</td><td>[&quot;BROOKLYN&quot;]</td></tr><tr><td>&quot;VIOLATION&quot;</td><td>[20, 42, … 73]</td><td>[&quot;MANHATTAN&quot;, &quot;BRONX&quot;, … &quot;BROOKLYN&quot;]</td><td>[&quot;QUEENS&quot;, &quot;STATEN ISLAND&quot;, … &quot;BROOKLYN&quot;]</td><td>74</td><td>[&quot;QUEENS&quot;]</td></tr><tr><td>&quot;FELONY&quot;</td><td>[105, 114, … 72]</td><td>[&quot;QUEENS&quot;, &quot;QUEENS&quot;, … &quot;BROOKLYN&quot;]</td><td>[&quot;MANHATTAN&quot;, &quot;QUEENS&quot;, … &quot;BRONX&quot;]</td><td>76</td><td>[&quot;BROOKLYN&quot;]</td></tr></tbody></table></div>"
      ],
      "text/plain": [
       "shape: (3, 6)\n",
       "┌────────────────┬────────────────┬────────────────┬────────────────┬───────────────┬──────────────┐\n",
       "│ crime_category ┆ precinct       ┆ borough        ┆ borough_unique ┆ precinct_coun ┆ top_borough  │\n",
       "│ ---            ┆ ---            ┆ ---            ┆ ---            ┆ t             ┆ ---          │\n",
       "│ str            ┆ list[i64]      ┆ list[str]      ┆ list[str]      ┆ ---           ┆ list[str]    │\n",
       "│                ┆                ┆                ┆                ┆ u32           ┆              │\n",
       "╞════════════════╪════════════════╪════════════════╪════════════════╪═══════════════╪══════════════╡\n",
       "│ MISDEMEANOR    ┆ [19, 48, … 44] ┆ [\"MANHATTAN\",  ┆ [\"BROOKLYN\",   ┆ 77            ┆ [\"BROOKLYN\"] │\n",
       "│                ┆                ┆ \"BRONX\", …     ┆ \"BRONX\", …     ┆               ┆              │\n",
       "│                ┆                ┆ \"BRONX\"]       ┆ \"MANHATTAN\"]   ┆               ┆              │\n",
       "│ VIOLATION      ┆ [20, 42, … 73] ┆ [\"MANHATTAN\",  ┆ [\"QUEENS\",     ┆ 74            ┆ [\"QUEENS\"]   │\n",
       "│                ┆                ┆ \"BRONX\", …     ┆ \"STATEN        ┆               ┆              │\n",
       "│                ┆                ┆ \"BROOKLYN\"]    ┆ ISLAND\", …     ┆               ┆              │\n",
       "│                ┆                ┆                ┆ \"BROOKLYN\"]    ┆               ┆              │\n",
       "│ FELONY         ┆ [105, 114, …   ┆ [\"QUEENS\",     ┆ [\"MANHATTAN\",  ┆ 76            ┆ [\"BROOKLYN\"] │\n",
       "│                ┆ 72]            ┆ \"QUEENS\", …    ┆ \"QUEENS\", …    ┆               ┆              │\n",
       "│                ┆                ┆ \"BROOKLYN\"]    ┆ \"BRONX\"]       ┆               ┆              │\n",
       "└────────────────┴────────────────┴────────────────┴────────────────┴───────────────┴──────────────┘"
      ]
     },
     "execution_count": 15,
     "metadata": {},
     "output_type": "execute_result"
    }
   ],
   "source": [
    "nypd_grouped.with_columns(\n",
    "    borough_unique=pl.col(\"borough\").list.unique(),\n",
    "    precinct_count=pl.col(\"precinct\").list.unique().list.len(),\n",
    "    top_borough=pl.col(\"borough\").list.eval(pl.element().mode()),\n",
    ")"
   ]
  },
  {
   "cell_type": "markdown",
   "metadata": {},
   "source": [
    "4.\tGo back to the filtered dataframe of question 1, then filter it to keep only rows where crime_description contains the word 'COMMERCIAL'"
   ]
  },
  {
   "cell_type": "code",
   "execution_count": 16,
   "metadata": {},
   "outputs": [
    {
     "data": {
      "text/html": [
       "<div><style>\n",
       ".dataframe > thead > tr,\n",
       ".dataframe > tbody > tr {\n",
       "  text-align: right;\n",
       "  white-space: pre-wrap;\n",
       "}\n",
       "</style>\n",
       "<small>shape: (17, 6)</small><table border=\"1\" class=\"dataframe\"><thead><tr><th>complaint_datetime</th><th>complaint_id</th><th>precinct</th><th>borough</th><th>crime_category</th><th>crime_description</th></tr><tr><td>datetime[μs]</td><td>str</td><td>i64</td><td>str</td><td>str</td><td>str</td></tr></thead><tbody><tr><td>2019-12-31 05:45:00</td><td>&quot;102079547&quot;</td><td>18</td><td>&quot;MANHATTAN&quot;</td><td>&quot;FELONY&quot;</td><td>&quot;BURGLARY,COMMERCIAL,DAY&quot;</td></tr><tr><td>2020-01-01 02:30:00</td><td>&quot;268949120&quot;</td><td>114</td><td>&quot;QUEENS&quot;</td><td>&quot;FELONY&quot;</td><td>&quot;BURGLARY,COMMERCIAL,NIGHT&quot;</td></tr><tr><td>2020-01-01 08:35:00</td><td>&quot;938871036&quot;</td><td>13</td><td>&quot;MANHATTAN&quot;</td><td>&quot;FELONY&quot;</td><td>&quot;BURGLARY,COMMERCIAL,DAY&quot;</td></tr><tr><td>2019-12-31 15:15:00</td><td>&quot;207059189&quot;</td><td>6</td><td>&quot;MANHATTAN&quot;</td><td>&quot;FELONY&quot;</td><td>&quot;BURGLARY,COMMERCIAL,DAY&quot;</td></tr><tr><td>2020-01-01 06:30:00</td><td>&quot;526074457&quot;</td><td>109</td><td>&quot;QUEENS&quot;</td><td>&quot;FELONY&quot;</td><td>&quot;ROBBERY,COMMERCIAL UNCLASSIFIED&quot;</td></tr><tr><td>&hellip;</td><td>&hellip;</td><td>&hellip;</td><td>&hellip;</td><td>&hellip;</td><td>&hellip;</td></tr><tr><td>2019-12-31 04:14:00</td><td>&quot;600601396&quot;</td><td>6</td><td>&quot;MANHATTAN&quot;</td><td>&quot;FELONY&quot;</td><td>&quot;BURGLARY,COMMERCIAL,NIGHT&quot;</td></tr><tr><td>2019-12-31 08:45:00</td><td>&quot;703654894&quot;</td><td>25</td><td>&quot;MANHATTAN&quot;</td><td>&quot;FELONY&quot;</td><td>&quot;BURGLARY,COMMERCIAL,DAY&quot;</td></tr><tr><td>2019-12-31 04:20:00</td><td>&quot;937278379&quot;</td><td>78</td><td>&quot;BROOKLYN&quot;</td><td>&quot;FELONY&quot;</td><td>&quot;BURGLARY,COMMERCIAL,NIGHT&quot;</td></tr><tr><td>2019-12-31 01:40:00</td><td>&quot;628817315&quot;</td><td>14</td><td>&quot;MANHATTAN&quot;</td><td>&quot;FELONY&quot;</td><td>&quot;BURGLARY,COMMERCIAL,NIGHT&quot;</td></tr><tr><td>2019-12-31 21:25:00</td><td>&quot;656419638&quot;</td><td>84</td><td>&quot;BROOKLYN&quot;</td><td>&quot;FELONY&quot;</td><td>&quot;BURGLARY,COMMERCIAL,DAY&quot;</td></tr></tbody></table></div>"
      ],
      "text/plain": [
       "shape: (17, 6)\n",
       "┌─────────────────────┬──────────────┬──────────┬───────────┬────────────────┬─────────────────────┐\n",
       "│ complaint_datetime  ┆ complaint_id ┆ precinct ┆ borough   ┆ crime_category ┆ crime_description   │\n",
       "│ ---                 ┆ ---          ┆ ---      ┆ ---       ┆ ---            ┆ ---                 │\n",
       "│ datetime[μs]        ┆ str          ┆ i64      ┆ str       ┆ str            ┆ str                 │\n",
       "╞═════════════════════╪══════════════╪══════════╪═══════════╪════════════════╪═════════════════════╡\n",
       "│ 2019-12-31 05:45:00 ┆ 102079547    ┆ 18       ┆ MANHATTAN ┆ FELONY         ┆ BURGLARY,COMMERCIAL │\n",
       "│                     ┆              ┆          ┆           ┆                ┆ ,DAY                │\n",
       "│ 2020-01-01 02:30:00 ┆ 268949120    ┆ 114      ┆ QUEENS    ┆ FELONY         ┆ BURGLARY,COMMERCIAL │\n",
       "│                     ┆              ┆          ┆           ┆                ┆ ,NIGHT              │\n",
       "│ 2020-01-01 08:35:00 ┆ 938871036    ┆ 13       ┆ MANHATTAN ┆ FELONY         ┆ BURGLARY,COMMERCIAL │\n",
       "│                     ┆              ┆          ┆           ┆                ┆ ,DAY                │\n",
       "│ 2019-12-31 15:15:00 ┆ 207059189    ┆ 6        ┆ MANHATTAN ┆ FELONY         ┆ BURGLARY,COMMERCIAL │\n",
       "│                     ┆              ┆          ┆           ┆                ┆ ,DAY                │\n",
       "│ 2020-01-01 06:30:00 ┆ 526074457    ┆ 109      ┆ QUEENS    ┆ FELONY         ┆ ROBBERY,COMMERCIAL  │\n",
       "│                     ┆              ┆          ┆           ┆                ┆ UNCLASSIFIED        │\n",
       "│ …                   ┆ …            ┆ …        ┆ …         ┆ …              ┆ …                   │\n",
       "│ 2019-12-31 04:14:00 ┆ 600601396    ┆ 6        ┆ MANHATTAN ┆ FELONY         ┆ BURGLARY,COMMERCIAL │\n",
       "│                     ┆              ┆          ┆           ┆                ┆ ,NIGHT              │\n",
       "│ 2019-12-31 08:45:00 ┆ 703654894    ┆ 25       ┆ MANHATTAN ┆ FELONY         ┆ BURGLARY,COMMERCIAL │\n",
       "│                     ┆              ┆          ┆           ┆                ┆ ,DAY                │\n",
       "│ 2019-12-31 04:20:00 ┆ 937278379    ┆ 78       ┆ BROOKLYN  ┆ FELONY         ┆ BURGLARY,COMMERCIAL │\n",
       "│                     ┆              ┆          ┆           ┆                ┆ ,NIGHT              │\n",
       "│ 2019-12-31 01:40:00 ┆ 628817315    ┆ 14       ┆ MANHATTAN ┆ FELONY         ┆ BURGLARY,COMMERCIAL │\n",
       "│                     ┆              ┆          ┆           ┆                ┆ ,NIGHT              │\n",
       "│ 2019-12-31 21:25:00 ┆ 656419638    ┆ 84       ┆ BROOKLYN  ┆ FELONY         ┆ BURGLARY,COMMERCIAL │\n",
       "│                     ┆              ┆          ┆           ┆                ┆ ,DAY                │\n",
       "└─────────────────────┴──────────────┴──────────┴───────────┴────────────────┴─────────────────────┘"
      ]
     },
     "execution_count": 16,
     "metadata": {},
     "output_type": "execute_result"
    }
   ],
   "source": [
    "nypd_filtered.filter(pl.col(\"crime_description\").str.contains(\"COMMERCIAL\"))"
   ]
  },
  {
   "cell_type": "markdown",
   "metadata": {},
   "source": [
    "5.\tUse the filtered dataframe of question 1, group it by hour using truncate, sort it, then add the following columns\n",
    "\n",
    "- 'crime_count' with the count of crimes in the hour\n",
    "- 'crime_count_one_hour_earlier' with the count of crimes one hour earlier\n",
    "- 'crime_count_24_hours_earlier' with the count of crimes 24 hours earlier\n",
    "- 'crime_count_difference_one_hour' with the change in the count of crimes vs one hour earlier\n",
    "\n",
    "Assume that the dataset has data for every hour"
   ]
  },
  {
   "cell_type": "code",
   "execution_count": 17,
   "metadata": {},
   "outputs": [
    {
     "data": {
      "text/html": [
       "<div><style>\n",
       ".dataframe > thead > tr,\n",
       ".dataframe > tbody > tr {\n",
       "  text-align: right;\n",
       "  white-space: pre-wrap;\n",
       "}\n",
       "</style>\n",
       "<small>shape: (49, 5)</small><table border=\"1\" class=\"dataframe\"><thead><tr><th>complaint_datetime</th><th>crime_count</th><th>crime_count_one_hour_earlier</th><th>crime_count_24_hours_earlier</th><th>crime_count_difference_one_hour</th></tr><tr><td>datetime[μs]</td><td>u32</td><td>u32</td><td>u32</td><td>i64</td></tr></thead><tbody><tr><td>2019-12-31 00:00:00</td><td>50</td><td>null</td><td>null</td><td>null</td></tr><tr><td>2019-12-31 01:00:00</td><td>38</td><td>50</td><td>null</td><td>-12</td></tr><tr><td>2019-12-31 02:00:00</td><td>18</td><td>38</td><td>null</td><td>-20</td></tr><tr><td>2019-12-31 03:00:00</td><td>18</td><td>18</td><td>null</td><td>0</td></tr><tr><td>2019-12-31 04:00:00</td><td>12</td><td>18</td><td>null</td><td>-6</td></tr><tr><td>&hellip;</td><td>&hellip;</td><td>&hellip;</td><td>&hellip;</td><td>&hellip;</td></tr><tr><td>2020-01-01 20:00:00</td><td>57</td><td>51</td><td>60</td><td>6</td></tr><tr><td>2020-01-01 21:00:00</td><td>43</td><td>57</td><td>49</td><td>-14</td></tr><tr><td>2020-01-01 22:00:00</td><td>36</td><td>43</td><td>69</td><td>-7</td></tr><tr><td>2020-01-01 23:00:00</td><td>43</td><td>36</td><td>64</td><td>7</td></tr><tr><td>2020-01-02 00:00:00</td><td>9</td><td>43</td><td>373</td><td>-34</td></tr></tbody></table></div>"
      ],
      "text/plain": [
       "shape: (49, 5)\n",
       "┌─────────────────────┬─────────────┬────────────────────┬────────────────────┬────────────────────┐\n",
       "│ complaint_datetime  ┆ crime_count ┆ crime_count_one_ho ┆ crime_count_24_hou ┆ crime_count_differ │\n",
       "│ ---                 ┆ ---         ┆ ur_earlier         ┆ rs_earlier         ┆ ence_one_hour      │\n",
       "│ datetime[μs]        ┆ u32         ┆ ---                ┆ ---                ┆ ---                │\n",
       "│                     ┆             ┆ u32                ┆ u32                ┆ i64                │\n",
       "╞═════════════════════╪═════════════╪════════════════════╪════════════════════╪════════════════════╡\n",
       "│ 2019-12-31 00:00:00 ┆ 50          ┆ null               ┆ null               ┆ null               │\n",
       "│ 2019-12-31 01:00:00 ┆ 38          ┆ 50                 ┆ null               ┆ -12                │\n",
       "│ 2019-12-31 02:00:00 ┆ 18          ┆ 38                 ┆ null               ┆ -20                │\n",
       "│ 2019-12-31 03:00:00 ┆ 18          ┆ 18                 ┆ null               ┆ 0                  │\n",
       "│ 2019-12-31 04:00:00 ┆ 12          ┆ 18                 ┆ null               ┆ -6                 │\n",
       "│ …                   ┆ …           ┆ …                  ┆ …                  ┆ …                  │\n",
       "│ 2020-01-01 20:00:00 ┆ 57          ┆ 51                 ┆ 60                 ┆ 6                  │\n",
       "│ 2020-01-01 21:00:00 ┆ 43          ┆ 57                 ┆ 49                 ┆ -14                │\n",
       "│ 2020-01-01 22:00:00 ┆ 36          ┆ 43                 ┆ 69                 ┆ -7                 │\n",
       "│ 2020-01-01 23:00:00 ┆ 43          ┆ 36                 ┆ 64                 ┆ 7                  │\n",
       "│ 2020-01-02 00:00:00 ┆ 9           ┆ 43                 ┆ 373                ┆ -34                │\n",
       "└─────────────────────┴─────────────┴────────────────────┴────────────────────┴────────────────────┘"
      ]
     },
     "execution_count": 17,
     "metadata": {},
     "output_type": "execute_result"
    }
   ],
   "source": [
    "(\n",
    "    nypd_filtered.group_by(pl.col(\"complaint_datetime\").dt.truncate(\"1h\"))\n",
    "    .len(name=\"count\")\n",
    "    .sort(\"complaint_datetime\")\n",
    "    .rename({\"count\": \"crime_count\"})\n",
    "    .with_columns(\n",
    "        crime_count_one_hour_earlier=pl.col(\"crime_count\").shift(1),\n",
    "        crime_count_24_hours_earlier=pl.col(\"crime_count\").shift(24),\n",
    "        crime_count_difference_one_hour=pl.col(\"crime_count\").diff(1),\n",
    "    )\n",
    ")"
   ]
  },
  {
   "cell_type": "markdown",
   "metadata": {},
   "source": [
    "6.\tUse the filtered dataframe of question 1, group it by hour using truncate, sort it, then add the following columns\n",
    "\n",
    "- 'crime_count' with the count of crimes in the hour\n",
    "- 'cumulative_crime_count' with the cumulative count of crimes\n",
    "- 'cumulative_average_crime' with the cumulative average of the crime count\n",
    "- 'cumulative_median_crime' with the cumulative median of the crime count\n",
    "\n",
    "Assume that the dataset has data for every hour"
   ]
  },
  {
   "cell_type": "code",
   "execution_count": 18,
   "metadata": {},
   "outputs": [
    {
     "data": {
      "text/html": [
       "<div><style>\n",
       ".dataframe > thead > tr,\n",
       ".dataframe > tbody > tr {\n",
       "  text-align: right;\n",
       "  white-space: pre-wrap;\n",
       "}\n",
       "</style>\n",
       "<small>shape: (49, 5)</small><table border=\"1\" class=\"dataframe\"><thead><tr><th>complaint_datetime</th><th>crime_count</th><th>cumulative_crime_count</th><th>cumulative_average_crime</th><th>cumulative_median_crime</th></tr><tr><td>datetime[μs]</td><td>u32</td><td>u32</td><td>f64</td><td>f64</td></tr></thead><tbody><tr><td>2019-12-31 00:00:00</td><td>50</td><td>50</td><td>50.0</td><td>50.0</td></tr><tr><td>2019-12-31 01:00:00</td><td>38</td><td>88</td><td>44.0</td><td>44.0</td></tr><tr><td>2019-12-31 02:00:00</td><td>18</td><td>106</td><td>35.333333</td><td>38.0</td></tr><tr><td>2019-12-31 03:00:00</td><td>18</td><td>124</td><td>31.0</td><td>28.0</td></tr><tr><td>2019-12-31 04:00:00</td><td>12</td><td>136</td><td>27.2</td><td>18.0</td></tr><tr><td>&hellip;</td><td>&hellip;</td><td>&hellip;</td><td>&hellip;</td><td>&hellip;</td></tr><tr><td>2020-01-01 20:00:00</td><td>57</td><td>2835</td><td>63.0</td><td>55.0</td></tr><tr><td>2020-01-01 21:00:00</td><td>43</td><td>2878</td><td>62.565217</td><td>54.5</td></tr><tr><td>2020-01-01 22:00:00</td><td>36</td><td>2914</td><td>62.0</td><td>54.0</td></tr><tr><td>2020-01-01 23:00:00</td><td>43</td><td>2957</td><td>61.604167</td><td>53.5</td></tr><tr><td>2020-01-02 00:00:00</td><td>9</td><td>2966</td><td>60.530612</td><td>53.0</td></tr></tbody></table></div>"
      ],
      "text/plain": [
       "shape: (49, 5)\n",
       "┌─────────────────────┬─────────────┬────────────────────┬────────────────────┬────────────────────┐\n",
       "│ complaint_datetime  ┆ crime_count ┆ cumulative_crime_c ┆ cumulative_average ┆ cumulative_median_ │\n",
       "│ ---                 ┆ ---         ┆ ount               ┆ _crime             ┆ crime              │\n",
       "│ datetime[μs]        ┆ u32         ┆ ---                ┆ ---                ┆ ---                │\n",
       "│                     ┆             ┆ u32                ┆ f64                ┆ f64                │\n",
       "╞═════════════════════╪═════════════╪════════════════════╪════════════════════╪════════════════════╡\n",
       "│ 2019-12-31 00:00:00 ┆ 50          ┆ 50                 ┆ 50.0               ┆ 50.0               │\n",
       "│ 2019-12-31 01:00:00 ┆ 38          ┆ 88                 ┆ 44.0               ┆ 44.0               │\n",
       "│ 2019-12-31 02:00:00 ┆ 18          ┆ 106                ┆ 35.333333          ┆ 38.0               │\n",
       "│ 2019-12-31 03:00:00 ┆ 18          ┆ 124                ┆ 31.0               ┆ 28.0               │\n",
       "│ 2019-12-31 04:00:00 ┆ 12          ┆ 136                ┆ 27.2               ┆ 18.0               │\n",
       "│ …                   ┆ …           ┆ …                  ┆ …                  ┆ …                  │\n",
       "│ 2020-01-01 20:00:00 ┆ 57          ┆ 2835               ┆ 63.0               ┆ 55.0               │\n",
       "│ 2020-01-01 21:00:00 ┆ 43          ┆ 2878               ┆ 62.565217          ┆ 54.5               │\n",
       "│ 2020-01-01 22:00:00 ┆ 36          ┆ 2914               ┆ 62.0               ┆ 54.0               │\n",
       "│ 2020-01-01 23:00:00 ┆ 43          ┆ 2957               ┆ 61.604167          ┆ 53.5               │\n",
       "│ 2020-01-02 00:00:00 ┆ 9           ┆ 2966               ┆ 60.530612          ┆ 53.0               │\n",
       "└─────────────────────┴─────────────┴────────────────────┴────────────────────┴────────────────────┘"
      ]
     },
     "execution_count": 18,
     "metadata": {},
     "output_type": "execute_result"
    }
   ],
   "source": [
    "(\n",
    "    nypd_filtered.group_by(pl.col(\"complaint_datetime\").dt.truncate(\"1h\"))\n",
    "    .len(name=\"count\")\n",
    "    .sort(\"complaint_datetime\")\n",
    "    .rename({\"count\": \"crime_count\"})\n",
    "    .with_columns(\n",
    "        cumulative_crime_count=pl.col(\"crime_count\").cum_sum(),\n",
    "        cumulative_average_crime=pl.col(\"crime_count\").cumulative_eval(\n",
    "            pl.element().mean()\n",
    "        ),\n",
    "        cumulative_median_crime=pl.col(\"crime_count\").cumulative_eval(\n",
    "            pl.element().median()\n",
    "        ),\n",
    "    )\n",
    ")"
   ]
  },
  {
   "cell_type": "markdown",
   "metadata": {},
   "source": [
    "7.\tUse the filtered dataframe of question 1, group it by hour using truncate, sort it, then add the following columns\n",
    "\n",
    "- 'crime_count' with the number of crimes in the hour\n",
    "- 'rolling_5hours_crime_count' with the number of crimes for the past 5 hours\n",
    "- 'rolling_5hours_average_crime' with the average number of crimes of the past 5 hours\n",
    "- 'rolling_5hours_median_crime' with the median number of crimes of the past 5 hours\n",
    "- 'crimes_past_5hours' with a list of the number of crimes for the past 5 hours\n",
    "\n",
    "Assume that the dataset has data for every hour"
   ]
  },
  {
   "cell_type": "code",
   "execution_count": 20,
   "metadata": {},
   "outputs": [
    {
     "name": "stderr",
     "output_type": "stream",
     "text": [
      "/tmp/ipykernel_41392/1145695252.py:2: DeprecationWarning: `group_by_rolling` is deprecated. It has been renamed to `rolling`.\n",
      "  nypd_filtered.group_by(pl.col(\"complaint_datetime\").dt.truncate(\"1h\"))\n"
     ]
    },
    {
     "data": {
      "text/html": [
       "<div><style>\n",
       ".dataframe > thead > tr,\n",
       ".dataframe > tbody > tr {\n",
       "  text-align: right;\n",
       "  white-space: pre-wrap;\n",
       "}\n",
       "</style>\n",
       "<small>shape: (49, 5)</small><table border=\"1\" class=\"dataframe\"><thead><tr><th>complaint_datetime</th><th>rolling_5hours_crime_count</th><th>rolling_5hours_average_crime</th><th>rolling_5hours_median_crime</th><th>crimes_past_5hours</th></tr><tr><td>datetime[μs]</td><td>u32</td><td>f64</td><td>f64</td><td>list[u32]</td></tr></thead><tbody><tr><td>2019-12-31 00:00:00</td><td>50</td><td>50.0</td><td>50.0</td><td>[50]</td></tr><tr><td>2019-12-31 01:00:00</td><td>88</td><td>44.0</td><td>44.0</td><td>[50, 38]</td></tr><tr><td>2019-12-31 02:00:00</td><td>106</td><td>35.333333</td><td>38.0</td><td>[50, 38, 18]</td></tr><tr><td>2019-12-31 03:00:00</td><td>124</td><td>31.0</td><td>28.0</td><td>[50, 38, … 18]</td></tr><tr><td>2019-12-31 04:00:00</td><td>136</td><td>27.2</td><td>18.0</td><td>[50, 38, … 12]</td></tr><tr><td>&hellip;</td><td>&hellip;</td><td>&hellip;</td><td>&hellip;</td><td>&hellip;</td></tr><tr><td>2020-01-01 20:00:00</td><td>308</td><td>61.6</td><td>60.0</td><td>[61, 60, … 57]</td></tr><tr><td>2020-01-01 21:00:00</td><td>290</td><td>58.0</td><td>57.0</td><td>[60, 79, … 43]</td></tr><tr><td>2020-01-01 22:00:00</td><td>266</td><td>53.2</td><td>51.0</td><td>[79, 51, … 36]</td></tr><tr><td>2020-01-01 23:00:00</td><td>230</td><td>46.0</td><td>43.0</td><td>[51, 57, … 43]</td></tr><tr><td>2020-01-02 00:00:00</td><td>188</td><td>37.6</td><td>43.0</td><td>[57, 43, … 9]</td></tr></tbody></table></div>"
      ],
      "text/plain": [
       "shape: (49, 5)\n",
       "┌───────────────────┬───────────────────┬───────────────────┬───────────────────┬──────────────────┐\n",
       "│ complaint_datetim ┆ rolling_5hours_cr ┆ rolling_5hours_av ┆ rolling_5hours_me ┆ crimes_past_5hou │\n",
       "│ e                 ┆ ime_count         ┆ erage_crime       ┆ dian_crime        ┆ rs               │\n",
       "│ ---               ┆ ---               ┆ ---               ┆ ---               ┆ ---              │\n",
       "│ datetime[μs]      ┆ u32               ┆ f64               ┆ f64               ┆ list[u32]        │\n",
       "╞═══════════════════╪═══════════════════╪═══════════════════╪═══════════════════╪══════════════════╡\n",
       "│ 2019-12-31        ┆ 50                ┆ 50.0              ┆ 50.0              ┆ [50]             │\n",
       "│ 00:00:00          ┆                   ┆                   ┆                   ┆                  │\n",
       "│ 2019-12-31        ┆ 88                ┆ 44.0              ┆ 44.0              ┆ [50, 38]         │\n",
       "│ 01:00:00          ┆                   ┆                   ┆                   ┆                  │\n",
       "│ 2019-12-31        ┆ 106               ┆ 35.333333         ┆ 38.0              ┆ [50, 38, 18]     │\n",
       "│ 02:00:00          ┆                   ┆                   ┆                   ┆                  │\n",
       "│ 2019-12-31        ┆ 124               ┆ 31.0              ┆ 28.0              ┆ [50, 38, … 18]   │\n",
       "│ 03:00:00          ┆                   ┆                   ┆                   ┆                  │\n",
       "│ 2019-12-31        ┆ 136               ┆ 27.2              ┆ 18.0              ┆ [50, 38, … 12]   │\n",
       "│ 04:00:00          ┆                   ┆                   ┆                   ┆                  │\n",
       "│ …                 ┆ …                 ┆ …                 ┆ …                 ┆ …                │\n",
       "│ 2020-01-01        ┆ 308               ┆ 61.6              ┆ 60.0              ┆ [61, 60, … 57]   │\n",
       "│ 20:00:00          ┆                   ┆                   ┆                   ┆                  │\n",
       "│ 2020-01-01        ┆ 290               ┆ 58.0              ┆ 57.0              ┆ [60, 79, … 43]   │\n",
       "│ 21:00:00          ┆                   ┆                   ┆                   ┆                  │\n",
       "│ 2020-01-01        ┆ 266               ┆ 53.2              ┆ 51.0              ┆ [79, 51, … 36]   │\n",
       "│ 22:00:00          ┆                   ┆                   ┆                   ┆                  │\n",
       "│ 2020-01-01        ┆ 230               ┆ 46.0              ┆ 43.0              ┆ [51, 57, … 43]   │\n",
       "│ 23:00:00          ┆                   ┆                   ┆                   ┆                  │\n",
       "│ 2020-01-02        ┆ 188               ┆ 37.6              ┆ 43.0              ┆ [57, 43, … 9]    │\n",
       "│ 00:00:00          ┆                   ┆                   ┆                   ┆                  │\n",
       "└───────────────────┴───────────────────┴───────────────────┴───────────────────┴──────────────────┘"
      ]
     },
     "execution_count": 20,
     "metadata": {},
     "output_type": "execute_result"
    }
   ],
   "source": [
    "(\n",
    "    nypd_filtered.group_by(pl.col(\"complaint_datetime\").dt.truncate(\"1h\"))\n",
    "    .len(name=\"count\")\n",
    "    .sort(\"complaint_datetime\")\n",
    "    .rename({\"count\": \"crime_count\"})\n",
    "    .group_by_rolling(index_column=\"complaint_datetime\", period=\"5h\")\n",
    "    .agg(\n",
    "        rolling_5hours_crime_count=pl.col(\"crime_count\").sum(),\n",
    "        rolling_5hours_average_crime=pl.col(\"crime_count\").mean(),\n",
    "        rolling_5hours_median_crime=pl.col(\"crime_count\").median(),\n",
    "        crimes_past_5hours=pl.col(\"crime_count\"),\n",
    "    )\n",
    ")"
   ]
  },
  {
   "cell_type": "code",
   "execution_count": null,
   "metadata": {},
   "outputs": [],
   "source": []
  }
 ],
 "metadata": {
  "kernelspec": {
   "display_name": "Python 3",
   "language": "python",
   "name": "python3"
  },
  "language_info": {
   "codemirror_mode": {
    "name": "ipython",
    "version": 3
   },
   "file_extension": ".py",
   "mimetype": "text/x-python",
   "name": "python",
   "nbconvert_exporter": "python",
   "pygments_lexer": "ipython3",
   "version": "3.10.12"
  },
  "orig_nbformat": 4
 },
 "nbformat": 4,
 "nbformat_minor": 2
}
