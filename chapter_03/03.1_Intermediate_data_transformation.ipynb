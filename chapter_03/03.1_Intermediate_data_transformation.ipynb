{
 "cells": [
  {
   "attachments": {},
   "cell_type": "markdown",
   "metadata": {},
   "source": [
    "### Intermediate Data Transformation with Polars"
   ]
  },
  {
   "attachments": {},
   "cell_type": "markdown",
   "metadata": {},
   "source": [
    "The examples below use `.head()` to reduce the output to a few rows and take up less space.\n",
    "If you want the full output, remove `.head()` from the code.\n",
    "\n",
    "This notebooked is divided into sections. If your code editor supports it, you can use the **Outline** functionality to easily go to the code section you are interested in.\n",
    "\n",
    "For more details on Polars functions, check out the Polars API reference: https://pola-rs.github.io/polars/py-polars/html/reference/index.html"
   ]
  },
  {
   "cell_type": "code",
   "execution_count": 1,
   "metadata": {},
   "outputs": [
    {
     "data": {
      "text/plain": [
       "polars.config.Config"
      ]
     },
     "execution_count": 1,
     "metadata": {},
     "output_type": "execute_result"
    }
   ],
   "source": [
    "import polars as pl\n",
    "\n",
    "# Configure the number of characters to show for each string column, and the number of decimals to show for float columns\n",
    "pl.Config.set_fmt_str_lengths(30)\n",
    "pl.Config.set_float_precision(2)"
   ]
  },
  {
   "cell_type": "code",
   "execution_count": 2,
   "metadata": {},
   "outputs": [],
   "source": [
    "pokemon = pl.read_parquet('../datasets/pokemon_simplified.parquet')"
   ]
  },
  {
   "cell_type": "code",
   "execution_count": 3,
   "metadata": {},
   "outputs": [
    {
     "data": {
      "text/html": [
       "<div><style>\n",
       ".dataframe > thead > tr,\n",
       ".dataframe > tbody > tr {\n",
       "  text-align: right;\n",
       "  white-space: pre-wrap;\n",
       "}\n",
       "</style>\n",
       "<small>shape: (3, 9)</small><table border=\"1\" class=\"dataframe\"><thead><tr><th>name</th><th>type1</th><th>type2</th><th>abilities</th><th>hp</th><th>attack</th><th>defense</th><th>speed</th><th>is_legendary</th></tr><tr><td>str</td><td>str</td><td>str</td><td>list[str]</td><td>i64</td><td>i64</td><td>i64</td><td>i64</td><td>i64</td></tr></thead><tbody><tr><td>&quot;Bulbasaur&quot;</td><td>&quot;grass&quot;</td><td>&quot;poison&quot;</td><td>[&quot;Overgrow&quot;, &quot;Chlorophyll&quot;]</td><td>45</td><td>49</td><td>49</td><td>45</td><td>0</td></tr><tr><td>&quot;Ivysaur&quot;</td><td>&quot;grass&quot;</td><td>&quot;poison&quot;</td><td>[&quot;Overgrow&quot;, &quot;Chlorophyll&quot;]</td><td>60</td><td>62</td><td>63</td><td>60</td><td>0</td></tr><tr><td>&quot;Venusaur&quot;</td><td>&quot;grass&quot;</td><td>&quot;poison&quot;</td><td>[&quot;Overgrow&quot;, &quot;Chlorophyll&quot;]</td><td>80</td><td>100</td><td>123</td><td>80</td><td>0</td></tr></tbody></table></div>"
      ],
      "text/plain": [
       "shape: (3, 9)\n",
       "┌───────────┬───────┬────────┬────────────────┬───┬────────┬─────────┬───────┬──────────────┐\n",
       "│ name      ┆ type1 ┆ type2  ┆ abilities      ┆ … ┆ attack ┆ defense ┆ speed ┆ is_legendary │\n",
       "│ ---       ┆ ---   ┆ ---    ┆ ---            ┆   ┆ ---    ┆ ---     ┆ ---   ┆ ---          │\n",
       "│ str       ┆ str   ┆ str    ┆ list[str]      ┆   ┆ i64    ┆ i64     ┆ i64   ┆ i64          │\n",
       "╞═══════════╪═══════╪════════╪════════════════╪═══╪════════╪═════════╪═══════╪══════════════╡\n",
       "│ Bulbasaur ┆ grass ┆ poison ┆ [\"Overgrow\",   ┆ … ┆ 49     ┆ 49      ┆ 45    ┆ 0            │\n",
       "│           ┆       ┆        ┆ \"Chlorophyll\"] ┆   ┆        ┆         ┆       ┆              │\n",
       "│ Ivysaur   ┆ grass ┆ poison ┆ [\"Overgrow\",   ┆ … ┆ 62     ┆ 63      ┆ 60    ┆ 0            │\n",
       "│           ┆       ┆        ┆ \"Chlorophyll\"] ┆   ┆        ┆         ┆       ┆              │\n",
       "│ Venusaur  ┆ grass ┆ poison ┆ [\"Overgrow\",   ┆ … ┆ 100    ┆ 123     ┆ 80    ┆ 0            │\n",
       "│           ┆       ┆        ┆ \"Chlorophyll\"] ┆   ┆        ┆         ┆       ┆              │\n",
       "└───────────┴───────┴────────┴────────────────┴───┴────────┴─────────┴───────┴──────────────┘"
      ]
     },
     "execution_count": 3,
     "metadata": {},
     "output_type": "execute_result"
    }
   ],
   "source": [
    "pokemon.head(3)"
   ]
  },
  {
   "attachments": {},
   "cell_type": "markdown",
   "metadata": {},
   "source": [
    "#### Conditions"
   ]
  },
  {
   "cell_type": "code",
   "execution_count": 4,
   "metadata": {},
   "outputs": [
    {
     "data": {
      "text/html": [
       "<div><style>\n",
       ".dataframe > thead > tr,\n",
       ".dataframe > tbody > tr {\n",
       "  text-align: right;\n",
       "  white-space: pre-wrap;\n",
       "}\n",
       "</style>\n",
       "<small>shape: (6, 3)</small><table border=\"1\" class=\"dataframe\"><thead><tr><th>name</th><th>attack</th><th>attack_category</th></tr><tr><td>str</td><td>i64</td><td>str</td></tr></thead><tbody><tr><td>&quot;Bulbasaur&quot;</td><td>49</td><td>null</td></tr><tr><td>&quot;Ivysaur&quot;</td><td>62</td><td>null</td></tr><tr><td>&quot;Venusaur&quot;</td><td>100</td><td>null</td></tr><tr><td>&quot;Charmander&quot;</td><td>52</td><td>null</td></tr><tr><td>&quot;Charmeleon&quot;</td><td>64</td><td>null</td></tr><tr><td>&quot;Charizard&quot;</td><td>104</td><td>&quot;Top 25%&quot;</td></tr></tbody></table></div>"
      ],
      "text/plain": [
       "shape: (6, 3)\n",
       "┌────────────┬────────┬─────────────────┐\n",
       "│ name       ┆ attack ┆ attack_category │\n",
       "│ ---        ┆ ---    ┆ ---             │\n",
       "│ str        ┆ i64    ┆ str             │\n",
       "╞════════════╪════════╪═════════════════╡\n",
       "│ Bulbasaur  ┆ 49     ┆ null            │\n",
       "│ Ivysaur    ┆ 62     ┆ null            │\n",
       "│ Venusaur   ┆ 100    ┆ null            │\n",
       "│ Charmander ┆ 52     ┆ null            │\n",
       "│ Charmeleon ┆ 64     ┆ null            │\n",
       "│ Charizard  ┆ 104    ┆ Top 25%         │\n",
       "└────────────┴────────┴─────────────────┘"
      ]
     },
     "execution_count": 4,
     "metadata": {},
     "output_type": "execute_result"
    }
   ],
   "source": [
    "# Identify the top 25% of Pokemon based on the attack stats\n",
    "# Use the quantile function to get the 75th percentile\n",
    "\n",
    "pokemon.select(\n",
    "    'name', 'attack',\n",
    "    attack_category = \n",
    "    pl.when(pl.col('attack') > pl.col('attack').quantile(0.75))\n",
    "    .then(pl.lit('Top 25%'))\n",
    ").head(6)"
   ]
  },
  {
   "cell_type": "code",
   "execution_count": 5,
   "metadata": {},
   "outputs": [
    {
     "data": {
      "text/html": [
       "<div><style>\n",
       ".dataframe > thead > tr,\n",
       ".dataframe > tbody > tr {\n",
       "  text-align: right;\n",
       "  white-space: pre-wrap;\n",
       "}\n",
       "</style>\n",
       "<small>shape: (6, 3)</small><table border=\"1\" class=\"dataframe\"><thead><tr><th>name</th><th>attack</th><th>attack_category</th></tr><tr><td>str</td><td>i64</td><td>str</td></tr></thead><tbody><tr><td>&quot;Bulbasaur&quot;</td><td>49</td><td>&quot;Other&quot;</td></tr><tr><td>&quot;Ivysaur&quot;</td><td>62</td><td>&quot;Other&quot;</td></tr><tr><td>&quot;Venusaur&quot;</td><td>100</td><td>&quot;Other&quot;</td></tr><tr><td>&quot;Charmander&quot;</td><td>52</td><td>&quot;Other&quot;</td></tr><tr><td>&quot;Charmeleon&quot;</td><td>64</td><td>&quot;Other&quot;</td></tr><tr><td>&quot;Charizard&quot;</td><td>104</td><td>&quot;Top 25%&quot;</td></tr></tbody></table></div>"
      ],
      "text/plain": [
       "shape: (6, 3)\n",
       "┌────────────┬────────┬─────────────────┐\n",
       "│ name       ┆ attack ┆ attack_category │\n",
       "│ ---        ┆ ---    ┆ ---             │\n",
       "│ str        ┆ i64    ┆ str             │\n",
       "╞════════════╪════════╪═════════════════╡\n",
       "│ Bulbasaur  ┆ 49     ┆ Other           │\n",
       "│ Ivysaur    ┆ 62     ┆ Other           │\n",
       "│ Venusaur   ┆ 100    ┆ Other           │\n",
       "│ Charmander ┆ 52     ┆ Other           │\n",
       "│ Charmeleon ┆ 64     ┆ Other           │\n",
       "│ Charizard  ┆ 104    ┆ Top 25%         │\n",
       "└────────────┴────────┴─────────────────┘"
      ]
     },
     "execution_count": 5,
     "metadata": {},
     "output_type": "execute_result"
    }
   ],
   "source": [
    "# Identify the top 25% of Pokemon based on the attack stats\n",
    "# Use otherwise to assign the remaining 75% of Pokemon to the 'Other' category\n",
    "\n",
    "pokemon.select(\n",
    "    'name', 'attack',\n",
    "    attack_category = \n",
    "        pl.when(pl.col('attack') > pl.col('attack').quantile(0.75))\n",
    "        .then(pl.lit('Top 25%'))\n",
    "        .otherwise(pl.lit('Other'))\n",
    ").head(6)"
   ]
  },
  {
   "cell_type": "code",
   "execution_count": 6,
   "metadata": {},
   "outputs": [
    {
     "data": {
      "text/html": [
       "<div><style>\n",
       ".dataframe > thead > tr,\n",
       ".dataframe > tbody > tr {\n",
       "  text-align: right;\n",
       "  white-space: pre-wrap;\n",
       "}\n",
       "</style>\n",
       "<small>shape: (6, 3)</small><table border=\"1\" class=\"dataframe\"><thead><tr><th>name</th><th>attack</th><th>attack_category</th></tr><tr><td>str</td><td>i64</td><td>str</td></tr></thead><tbody><tr><td>&quot;Bulbasaur&quot;</td><td>49</td><td>&quot;Bottom 25%&quot;</td></tr><tr><td>&quot;Ivysaur&quot;</td><td>62</td><td>&quot;Other&quot;</td></tr><tr><td>&quot;Venusaur&quot;</td><td>100</td><td>&quot;Other&quot;</td></tr><tr><td>&quot;Charmander&quot;</td><td>52</td><td>&quot;Bottom 25%&quot;</td></tr><tr><td>&quot;Charmeleon&quot;</td><td>64</td><td>&quot;Other&quot;</td></tr><tr><td>&quot;Charizard&quot;</td><td>104</td><td>&quot;Top 25%&quot;</td></tr></tbody></table></div>"
      ],
      "text/plain": [
       "shape: (6, 3)\n",
       "┌────────────┬────────┬─────────────────┐\n",
       "│ name       ┆ attack ┆ attack_category │\n",
       "│ ---        ┆ ---    ┆ ---             │\n",
       "│ str        ┆ i64    ┆ str             │\n",
       "╞════════════╪════════╪═════════════════╡\n",
       "│ Bulbasaur  ┆ 49     ┆ Bottom 25%      │\n",
       "│ Ivysaur    ┆ 62     ┆ Other           │\n",
       "│ Venusaur   ┆ 100    ┆ Other           │\n",
       "│ Charmander ┆ 52     ┆ Bottom 25%      │\n",
       "│ Charmeleon ┆ 64     ┆ Other           │\n",
       "│ Charizard  ┆ 104    ┆ Top 25%         │\n",
       "└────────────┴────────┴─────────────────┘"
      ]
     },
     "execution_count": 6,
     "metadata": {},
     "output_type": "execute_result"
    }
   ],
   "source": [
    "# Identify the top 25% of Pokemon based on the attack stats AND the bottom 25%\n",
    "# Use multiple when then statements\n",
    "\n",
    "pokemon.select(\n",
    "    'name', 'attack',\n",
    "    attack_category = \n",
    "        pl.when(pl.col('attack') > pl.col('attack').quantile(0.75))\n",
    "        .then(pl.lit('Top 25%'))\n",
    "        .when(pl.col('attack') < pl.col('attack').quantile(0.25))\n",
    "        .then(pl.lit('Bottom 25%'))\n",
    "        .otherwise(pl.lit('Other'))\n",
    ").head(6)"
   ]
  },
  {
   "cell_type": "code",
   "execution_count": 7,
   "metadata": {},
   "outputs": [
    {
     "data": {
      "text/html": [
       "<div><style>\n",
       ".dataframe > thead > tr,\n",
       ".dataframe > tbody > tr {\n",
       "  text-align: right;\n",
       "  white-space: pre-wrap;\n",
       "}\n",
       "</style>\n",
       "<small>shape: (7, 3)</small><table border=\"1\" class=\"dataframe\"><thead><tr><th>name</th><th>type1</th><th>color</th></tr><tr><td>str</td><td>str</td><td>str</td></tr></thead><tbody><tr><td>&quot;Bulbasaur&quot;</td><td>&quot;grass&quot;</td><td>&quot;green&quot;</td></tr><tr><td>&quot;Ivysaur&quot;</td><td>&quot;grass&quot;</td><td>&quot;green&quot;</td></tr><tr><td>&quot;Venusaur&quot;</td><td>&quot;grass&quot;</td><td>&quot;green&quot;</td></tr><tr><td>&quot;Charmander&quot;</td><td>&quot;fire&quot;</td><td>&quot;red&quot;</td></tr><tr><td>&quot;Charmeleon&quot;</td><td>&quot;fire&quot;</td><td>&quot;red&quot;</td></tr><tr><td>&quot;Charizard&quot;</td><td>&quot;fire&quot;</td><td>&quot;red&quot;</td></tr><tr><td>&quot;Squirtle&quot;</td><td>&quot;water&quot;</td><td>&quot;water&quot;</td></tr></tbody></table></div>"
      ],
      "text/plain": [
       "shape: (7, 3)\n",
       "┌────────────┬───────┬───────┐\n",
       "│ name       ┆ type1 ┆ color │\n",
       "│ ---        ┆ ---   ┆ ---   │\n",
       "│ str        ┆ str   ┆ str   │\n",
       "╞════════════╪═══════╪═══════╡\n",
       "│ Bulbasaur  ┆ grass ┆ green │\n",
       "│ Ivysaur    ┆ grass ┆ green │\n",
       "│ Venusaur   ┆ grass ┆ green │\n",
       "│ Charmander ┆ fire  ┆ red   │\n",
       "│ Charmeleon ┆ fire  ┆ red   │\n",
       "│ Charizard  ┆ fire  ┆ red   │\n",
       "│ Squirtle   ┆ water ┆ water │\n",
       "└────────────┴───────┴───────┘"
      ]
     },
     "execution_count": 7,
     "metadata": {},
     "output_type": "execute_result"
    }
   ],
   "source": [
    "# We can use replace instead of pl.when().then() to map colors to Pokemon types\n",
    "\n",
    "type_colors = {'grass': 'green', 'fire': 'red'}\n",
    "\n",
    "pokemon.select(\n",
    "    'name', 'type1',\n",
    "    color = pl.col('type1').replace(type_colors)\n",
    ").head(7)"
   ]
  },
  {
   "attachments": {},
   "cell_type": "markdown",
   "metadata": {},
   "source": [
    "#### One hot encoding"
   ]
  },
  {
   "cell_type": "code",
   "execution_count": 8,
   "metadata": {},
   "outputs": [
    {
     "data": {
      "text/html": [
       "<div><style>\n",
       ".dataframe > thead > tr,\n",
       ".dataframe > tbody > tr {\n",
       "  text-align: right;\n",
       "  white-space: pre-wrap;\n",
       "}\n",
       "</style>\n",
       "<small>shape: (6, 3)</small><table border=\"1\" class=\"dataframe\"><thead><tr><th>name</th><th>type1_fire</th><th>type1_grass</th></tr><tr><td>str</td><td>u8</td><td>u8</td></tr></thead><tbody><tr><td>&quot;Bulbasaur&quot;</td><td>0</td><td>1</td></tr><tr><td>&quot;Ivysaur&quot;</td><td>0</td><td>1</td></tr><tr><td>&quot;Venusaur&quot;</td><td>0</td><td>1</td></tr><tr><td>&quot;Charmander&quot;</td><td>1</td><td>0</td></tr><tr><td>&quot;Charmeleon&quot;</td><td>1</td><td>0</td></tr><tr><td>&quot;Charizard&quot;</td><td>1</td><td>0</td></tr></tbody></table></div>"
      ],
      "text/plain": [
       "shape: (6, 3)\n",
       "┌────────────┬────────────┬─────────────┐\n",
       "│ name       ┆ type1_fire ┆ type1_grass │\n",
       "│ ---        ┆ ---        ┆ ---         │\n",
       "│ str        ┆ u8         ┆ u8          │\n",
       "╞════════════╪════════════╪═════════════╡\n",
       "│ Bulbasaur  ┆ 0          ┆ 1           │\n",
       "│ Ivysaur    ┆ 0          ┆ 1           │\n",
       "│ Venusaur   ┆ 0          ┆ 1           │\n",
       "│ Charmander ┆ 1          ┆ 0           │\n",
       "│ Charmeleon ┆ 1          ┆ 0           │\n",
       "│ Charizard  ┆ 1          ┆ 0           │\n",
       "└────────────┴────────────┴─────────────┘"
      ]
     },
     "execution_count": 8,
     "metadata": {},
     "output_type": "execute_result"
    }
   ],
   "source": [
    "# Convert the column type1 to dummies\n",
    "\n",
    "pokemon.head(6).select('name','type1').to_dummies(columns=['type1'])"
   ]
  },
  {
   "attachments": {},
   "cell_type": "markdown",
   "metadata": {},
   "source": [
    "#### Aggregating data"
   ]
  },
  {
   "cell_type": "code",
   "execution_count": 9,
   "metadata": {},
   "outputs": [
    {
     "data": {
      "text/html": [
       "<div><style>\n",
       ".dataframe > thead > tr,\n",
       ".dataframe > tbody > tr {\n",
       "  text-align: right;\n",
       "  white-space: pre-wrap;\n",
       "}\n",
       "</style>\n",
       "<small>shape: (3, 5)</small><table border=\"1\" class=\"dataframe\"><thead><tr><th>type1</th><th>hp</th><th>attack</th><th>defense</th><th>speed</th></tr><tr><td>str</td><td>f64</td><td>f64</td><td>f64</td><td>f64</td></tr></thead><tbody><tr><td>&quot;bug&quot;</td><td>60.00</td><td>65.00</td><td>60.00</td><td>58.50</td></tr><tr><td>&quot;fighting&quot;</td><td>70.00</td><td>100.00</td><td>66.00</td><td>60.00</td></tr><tr><td>&quot;poison&quot;</td><td>65.00</td><td>68.50</td><td>66.00</td><td>62.50</td></tr></tbody></table></div>"
      ],
      "text/plain": [
       "shape: (3, 5)\n",
       "┌──────────┬───────┬────────┬─────────┬───────┐\n",
       "│ type1    ┆ hp    ┆ attack ┆ defense ┆ speed │\n",
       "│ ---      ┆ ---   ┆ ---    ┆ ---     ┆ ---   │\n",
       "│ str      ┆ f64   ┆ f64    ┆ f64     ┆ f64   │\n",
       "╞══════════╪═══════╪════════╪═════════╪═══════╡\n",
       "│ bug      ┆ 60.00 ┆ 65.00  ┆ 60.00   ┆ 58.50 │\n",
       "│ fighting ┆ 70.00 ┆ 100.00 ┆ 66.00   ┆ 60.00 │\n",
       "│ poison   ┆ 65.00 ┆ 68.50  ┆ 66.00   ┆ 62.50 │\n",
       "└──────────┴───────┴────────┴─────────┴───────┘"
      ]
     },
     "execution_count": 9,
     "metadata": {},
     "output_type": "execute_result"
    }
   ],
   "source": [
    "# Group by type and calculate median stats\n",
    "# Group by is run in parallel so the order of the rows can change\n",
    "\n",
    "pokemon.group_by('type1').agg(\n",
    "    pl.col('hp', 'attack', 'defense', 'speed').median()\n",
    ").head(3)"
   ]
  },
  {
   "cell_type": "code",
   "execution_count": 10,
   "metadata": {},
   "outputs": [
    {
     "data": {
      "text/html": [
       "<div><style>\n",
       ".dataframe > thead > tr,\n",
       ".dataframe > tbody > tr {\n",
       "  text-align: right;\n",
       "  white-space: pre-wrap;\n",
       "}\n",
       "</style>\n",
       "<small>shape: (3, 5)</small><table border=\"1\" class=\"dataframe\"><thead><tr><th>type1</th><th>hp</th><th>attack</th><th>defense</th><th>speed</th></tr><tr><td>str</td><td>f64</td><td>f64</td><td>f64</td><td>f64</td></tr></thead><tbody><tr><td>&quot;grass&quot;</td><td>65.00</td><td>68.00</td><td>66.00</td><td>55.00</td></tr><tr><td>&quot;fire&quot;</td><td>65.00</td><td>79.50</td><td>61.50</td><td>72.50</td></tr><tr><td>&quot;water&quot;</td><td>68.00</td><td>70.00</td><td>70.00</td><td>64.00</td></tr></tbody></table></div>"
      ],
      "text/plain": [
       "shape: (3, 5)\n",
       "┌───────┬───────┬────────┬─────────┬───────┐\n",
       "│ type1 ┆ hp    ┆ attack ┆ defense ┆ speed │\n",
       "│ ---   ┆ ---   ┆ ---    ┆ ---     ┆ ---   │\n",
       "│ str   ┆ f64   ┆ f64    ┆ f64     ┆ f64   │\n",
       "╞═══════╪═══════╪════════╪═════════╪═══════╡\n",
       "│ grass ┆ 65.00 ┆ 68.00  ┆ 66.00   ┆ 55.00 │\n",
       "│ fire  ┆ 65.00 ┆ 79.50  ┆ 61.50   ┆ 72.50 │\n",
       "│ water ┆ 68.00 ┆ 70.00  ┆ 70.00   ┆ 64.00 │\n",
       "└───────┴───────┴────────┴─────────┴───────┘"
      ]
     },
     "execution_count": 10,
     "metadata": {},
     "output_type": "execute_result"
    }
   ],
   "source": [
    "# Group by type and calculate median stats\n",
    "# Maintaining the order is possible but it is slower\n",
    "\n",
    "pokemon.group_by('type1', maintain_order=True).agg(\n",
    "    pl.col('hp', 'attack', 'defense', 'speed').median()\n",
    ").head(3)"
   ]
  },
  {
   "cell_type": "code",
   "execution_count": 11,
   "metadata": {},
   "outputs": [
    {
     "data": {
      "text/html": [
       "<div><style>\n",
       ".dataframe > thead > tr,\n",
       ".dataframe > tbody > tr {\n",
       "  text-align: right;\n",
       "  white-space: pre-wrap;\n",
       "}\n",
       "</style>\n",
       "<small>shape: (3, 6)</small><table border=\"1\" class=\"dataframe\"><thead><tr><th>type1</th><th>type2</th><th>hp</th><th>attack</th><th>defense</th><th>speed</th></tr><tr><td>str</td><td>str</td><td>f64</td><td>f64</td><td>f64</td><td>f64</td></tr></thead><tbody><tr><td>&quot;poison&quot;</td><td>null</td><td>61.00</td><td>65.00</td><td>62.00</td><td>56.00</td></tr><tr><td>&quot;poison&quot;</td><td>&quot;flying&quot;</td><td>75.00</td><td>80.00</td><td>70.00</td><td>90.00</td></tr><tr><td>&quot;ground&quot;</td><td>null</td><td>80.00</td><td>100.00</td><td>86.50</td><td>42.50</td></tr></tbody></table></div>"
      ],
      "text/plain": [
       "shape: (3, 6)\n",
       "┌────────┬────────┬───────┬────────┬─────────┬───────┐\n",
       "│ type1  ┆ type2  ┆ hp    ┆ attack ┆ defense ┆ speed │\n",
       "│ ---    ┆ ---    ┆ ---   ┆ ---    ┆ ---     ┆ ---   │\n",
       "│ str    ┆ str    ┆ f64   ┆ f64    ┆ f64     ┆ f64   │\n",
       "╞════════╪════════╪═══════╪════════╪═════════╪═══════╡\n",
       "│ poison ┆ null   ┆ 61.00 ┆ 65.00  ┆ 62.00   ┆ 56.00 │\n",
       "│ poison ┆ flying ┆ 75.00 ┆ 80.00  ┆ 70.00   ┆ 90.00 │\n",
       "│ ground ┆ null   ┆ 80.00 ┆ 100.00 ┆ 86.50   ┆ 42.50 │\n",
       "└────────┴────────┴───────┴────────┴─────────┴───────┘"
      ]
     },
     "execution_count": 11,
     "metadata": {},
     "output_type": "execute_result"
    }
   ],
   "source": [
    "# Group on multiple columns works the same way\n",
    "\n",
    "pokemon.group_by(['type1', 'type2']).agg(\n",
    "    pl.col('hp', 'attack', 'defense', 'speed').median()\n",
    ").head(3)"
   ]
  },
  {
   "cell_type": "code",
   "execution_count": 12,
   "metadata": {},
   "outputs": [
    {
     "data": {
      "text/html": [
       "<div><style>\n",
       ".dataframe > thead > tr,\n",
       ".dataframe > tbody > tr {\n",
       "  text-align: right;\n",
       "  white-space: pre-wrap;\n",
       "}\n",
       "</style>\n",
       "<small>shape: (3, 7)</small><table border=\"1\" class=\"dataframe\"><thead><tr><th>type1</th><th>avg_attack</th><th>max_attack</th><th>quantile_75</th><th>count</th><th>first_pokemon</th><th>strongest_pokemon</th></tr><tr><td>str</td><td>f64</td><td>i64</td><td>f64</td><td>u32</td><td>str</td><td>str</td></tr></thead><tbody><tr><td>&quot;bug&quot;</td><td>70.12</td><td>185</td><td>90.00</td><td>72</td><td>&quot;Caterpie&quot;</td><td>&quot;Heracross&quot;</td></tr><tr><td>&quot;electric&quot;</td><td>70.82</td><td>123</td><td>89.00</td><td>39</td><td>&quot;Pikachu&quot;</td><td>&quot;Electivire&quot;</td></tr><tr><td>&quot;ghost&quot;</td><td>72.74</td><td>165</td><td>92.00</td><td>27</td><td>&quot;Gastly&quot;</td><td>&quot;Banette&quot;</td></tr></tbody></table></div>"
      ],
      "text/plain": [
       "shape: (3, 7)\n",
       "┌──────────┬────────────┬────────────┬─────────────┬───────┬───────────────┬───────────────────┐\n",
       "│ type1    ┆ avg_attack ┆ max_attack ┆ quantile_75 ┆ count ┆ first_pokemon ┆ strongest_pokemon │\n",
       "│ ---      ┆ ---        ┆ ---        ┆ ---         ┆ ---   ┆ ---           ┆ ---               │\n",
       "│ str      ┆ f64        ┆ i64        ┆ f64         ┆ u32   ┆ str           ┆ str               │\n",
       "╞══════════╪════════════╪════════════╪═════════════╪═══════╪═══════════════╪═══════════════════╡\n",
       "│ bug      ┆ 70.12      ┆ 185        ┆ 90.00       ┆ 72    ┆ Caterpie      ┆ Heracross         │\n",
       "│ electric ┆ 70.82      ┆ 123        ┆ 89.00       ┆ 39    ┆ Pikachu       ┆ Electivire        │\n",
       "│ ghost    ┆ 72.74      ┆ 165        ┆ 92.00       ┆ 27    ┆ Gastly        ┆ Banette           │\n",
       "└──────────┴────────────┴────────────┴─────────────┴───────┴───────────────┴───────────────────┘"
      ]
     },
     "execution_count": 12,
     "metadata": {},
     "output_type": "execute_result"
    }
   ],
   "source": [
    "# Lots of aggregations functions are available\n",
    "\n",
    "pokemon.group_by('type1').agg(\n",
    "    avg_attack = pl.col('attack').mean(),\n",
    "    max_attack = pl.col('attack').max(),\n",
    "    quantile_75 = pl.col('attack').quantile(0.75),\n",
    "    count = pl.count(), \n",
    "    first_pokemon = pl.first('name'), \n",
    "    strongest_pokemon = pl.col('name').sort_by('attack', descending=True).first()\n",
    ").head(3)"
   ]
  },
  {
   "cell_type": "code",
   "execution_count": 13,
   "metadata": {},
   "outputs": [
    {
     "data": {
      "text/html": [
       "<div><style>\n",
       ".dataframe > thead > tr,\n",
       ".dataframe > tbody > tr {\n",
       "  text-align: right;\n",
       "  white-space: pre-wrap;\n",
       "}\n",
       "</style>\n",
       "<small>shape: (3, 2)</small><table border=\"1\" class=\"dataframe\"><thead><tr><th>type1</th><th>sqrt_attack_mean</th></tr><tr><td>str</td><td>f64</td></tr></thead><tbody><tr><td>&quot;fire&quot;</td><td>8.91</td></tr><tr><td>&quot;psychic&quot;</td><td>7.80</td></tr><tr><td>&quot;grass&quot;</td><td>8.42</td></tr></tbody></table></div>"
      ],
      "text/plain": [
       "shape: (3, 2)\n",
       "┌─────────┬──────────────────┐\n",
       "│ type1   ┆ sqrt_attack_mean │\n",
       "│ ---     ┆ ---              │\n",
       "│ str     ┆ f64              │\n",
       "╞═════════╪══════════════════╡\n",
       "│ fire    ┆ 8.91             │\n",
       "│ psychic ┆ 7.80             │\n",
       "│ grass   ┆ 8.42             │\n",
       "└─────────┴──────────────────┘"
      ]
     },
     "execution_count": 13,
     "metadata": {},
     "output_type": "execute_result"
    }
   ],
   "source": [
    "# Possible to use Numpy universal functions (ufuncs) in aggregations\n",
    "\n",
    "import numpy as np\n",
    "\n",
    "pokemon.group_by('type1').agg(\n",
    "    sqrt_attack_mean = np.sqrt(pl.col('attack')).mean() # sqrt is the square root function\n",
    ").head(3)"
   ]
  },
  {
   "cell_type": "code",
   "execution_count": 14,
   "metadata": {},
   "outputs": [
    {
     "data": {
      "text/html": [
       "<div><style>\n",
       ".dataframe > thead > tr,\n",
       ".dataframe > tbody > tr {\n",
       "  text-align: right;\n",
       "  white-space: pre-wrap;\n",
       "}\n",
       "</style>\n",
       "<small>shape: (3, 2)</small><table border=\"1\" class=\"dataframe\"><thead><tr><th>type1</th><th>name</th></tr><tr><td>str</td><td>list[str]</td></tr></thead><tbody><tr><td>&quot;grass&quot;</td><td>[&quot;Bulbasaur&quot;, &quot;Ivysaur&quot;, &quot;Venusaur&quot;]</td></tr><tr><td>&quot;poison&quot;</td><td>[&quot;Ekans&quot;, &quot;Arbok&quot;, &quot;Nidoran♀&quot;]</td></tr><tr><td>&quot;fairy&quot;</td><td>[&quot;Clefairy&quot;, &quot;Clefable&quot;, &quot;Cleffa&quot;]</td></tr></tbody></table></div>"
      ],
      "text/plain": [
       "shape: (3, 2)\n",
       "┌────────┬─────────────────────────────────┐\n",
       "│ type1  ┆ name                            │\n",
       "│ ---    ┆ ---                             │\n",
       "│ str    ┆ list[str]                       │\n",
       "╞════════╪═════════════════════════════════╡\n",
       "│ grass  ┆ [\"Bulbasaur\", \"Ivysaur\", \"Venu… │\n",
       "│ poison ┆ [\"Ekans\", \"Arbok\", \"Nidoran♀\"]  │\n",
       "│ fairy  ┆ [\"Clefairy\", \"Clefable\", \"Clef… │\n",
       "└────────┴─────────────────────────────────┘"
      ]
     },
     "execution_count": 14,
     "metadata": {},
     "output_type": "execute_result"
    }
   ],
   "source": [
    "# If aggregation functions are not specified, the result if aggregated in a list\n",
    "\n",
    "pokemon.group_by('type1').agg(\n",
    "    pl.col('name').head(3)\n",
    ").head(3)"
   ]
  },
  {
   "cell_type": "code",
   "execution_count": 15,
   "metadata": {},
   "outputs": [
    {
     "data": {
      "text/html": [
       "<div><style>\n",
       ".dataframe > thead > tr,\n",
       ".dataframe > tbody > tr {\n",
       "  text-align: right;\n",
       "  white-space: pre-wrap;\n",
       "}\n",
       "</style>\n",
       "<small>shape: (3, 2)</small><table border=\"1\" class=\"dataframe\"><thead><tr><th>type1</th><th>name</th></tr><tr><td>str</td><td>str</td></tr></thead><tbody><tr><td>&quot;electric&quot;</td><td>&quot;Pikachu, Raichu, Magnemite&quot;</td></tr><tr><td>&quot;fire&quot;</td><td>&quot;Charmander, Charmeleon, Chari…</td></tr><tr><td>&quot;bug&quot;</td><td>&quot;Caterpie, Metapod, Butterfree…</td></tr></tbody></table></div>"
      ],
      "text/plain": [
       "shape: (3, 2)\n",
       "┌──────────┬─────────────────────────────────┐\n",
       "│ type1    ┆ name                            │\n",
       "│ ---      ┆ ---                             │\n",
       "│ str      ┆ str                             │\n",
       "╞══════════╪═════════════════════════════════╡\n",
       "│ electric ┆ Pikachu, Raichu, Magnemite      │\n",
       "│ fire     ┆ Charmander, Charmeleon, Chariz… │\n",
       "│ bug      ┆ Caterpie, Metapod, Butterfree   │\n",
       "└──────────┴─────────────────────────────────┘"
      ]
     },
     "execution_count": 15,
     "metadata": {},
     "output_type": "execute_result"
    }
   ],
   "source": [
    "# Concatenate the names of the pokemon into a string\n",
    "\n",
    "pokemon.group_by('type1').agg(\n",
    "    pl.col('name').head(3).str.concat(', ')\n",
    ").head(3)"
   ]
  },
  {
   "cell_type": "code",
   "execution_count": 16,
   "metadata": {},
   "outputs": [
    {
     "data": {
      "text/html": [
       "<div><style>\n",
       ".dataframe > thead > tr,\n",
       ".dataframe > tbody > tr {\n",
       "  text-align: right;\n",
       "  white-space: pre-wrap;\n",
       "}\n",
       "</style>\n",
       "<small>shape: (3, 3)</small><table border=\"1\" class=\"dataframe\"><thead><tr><th>type1</th><th>avg_attack_when_speed_above_50</th><th>avg_attack_when_speed_above_100</th></tr><tr><td>str</td><td>f64</td><td>f64</td></tr></thead><tbody><tr><td>&quot;electric&quot;</td><td>71.00</td><td>79.25</td></tr><tr><td>&quot;fighting&quot;</td><td>102.53</td><td>120.67</td></tr><tr><td>&quot;dragon&quot;</td><td>117.20</td><td>138.75</td></tr></tbody></table></div>"
      ],
      "text/plain": [
       "shape: (3, 3)\n",
       "┌──────────┬────────────────────────────────┬─────────────────────────────────┐\n",
       "│ type1    ┆ avg_attack_when_speed_above_50 ┆ avg_attack_when_speed_above_10… │\n",
       "│ ---      ┆ ---                            ┆ ---                             │\n",
       "│ str      ┆ f64                            ┆ f64                             │\n",
       "╞══════════╪════════════════════════════════╪═════════════════════════════════╡\n",
       "│ electric ┆ 71.00                          ┆ 79.25                           │\n",
       "│ fighting ┆ 102.53                         ┆ 120.67                          │\n",
       "│ dragon   ┆ 117.20                         ┆ 138.75                          │\n",
       "└──────────┴────────────────────────────────┴─────────────────────────────────┘"
      ]
     },
     "execution_count": 16,
     "metadata": {},
     "output_type": "execute_result"
    }
   ],
   "source": [
    "# Aggregation with conditions\n",
    "# Calculate the average attack for Pokemons with a speed above 100, by type\n",
    "\n",
    "pokemon.group_by('type1').agg(\n",
    "    avg_attack_when_speed_above_50 = \n",
    "        pl.col('attack').filter(pl.col('speed') > 50).mean(),\n",
    "    avg_attack_when_speed_above_100 = \n",
    "        pl.col('attack').filter(pl.col('speed') > 100).mean()\n",
    ").head(3)\n"
   ]
  },
  {
   "cell_type": "code",
   "execution_count": 17,
   "metadata": {},
   "outputs": [
    {
     "data": {
      "text/html": [
       "<div><style>\n",
       ".dataframe > thead > tr,\n",
       ".dataframe > tbody > tr {\n",
       "  text-align: right;\n",
       "  white-space: pre-wrap;\n",
       "}\n",
       "</style>\n",
       "<small>shape: (3, 3)</small><table border=\"1\" class=\"dataframe\"><thead><tr><th>type1</th><th>avg_attack_when_speed_above_50</th><th>avg_attack_when_speed_above_100</th></tr><tr><td>str</td><td>f64</td><td>f64</td></tr></thead><tbody><tr><td>&quot;flying&quot;</td><td>66.67</td><td>85.00</td></tr><tr><td>&quot;ice&quot;</td><td>75.00</td><td>65.00</td></tr><tr><td>&quot;grass&quot;</td><td>81.02</td><td>97.38</td></tr></tbody></table></div>"
      ],
      "text/plain": [
       "shape: (3, 3)\n",
       "┌────────┬────────────────────────────────┬─────────────────────────────────┐\n",
       "│ type1  ┆ avg_attack_when_speed_above_50 ┆ avg_attack_when_speed_above_10… │\n",
       "│ ---    ┆ ---                            ┆ ---                             │\n",
       "│ str    ┆ f64                            ┆ f64                             │\n",
       "╞════════╪════════════════════════════════╪═════════════════════════════════╡\n",
       "│ flying ┆ 66.67                          ┆ 85.00                           │\n",
       "│ ice    ┆ 75.00                          ┆ 65.00                           │\n",
       "│ grass  ┆ 81.02                          ┆ 97.38                           │\n",
       "└────────┴────────────────────────────────┴─────────────────────────────────┘"
      ]
     },
     "execution_count": 17,
     "metadata": {},
     "output_type": "execute_result"
    }
   ],
   "source": [
    "# We can also create functions to use in aggregations\n",
    "\n",
    "def avg_attack_when_speed_above_threshold(speed):\n",
    "    result = (\n",
    "        pl.col('attack')\n",
    "        .filter(pl.col('speed') > speed)\n",
    "        .mean()\n",
    "        .alias(f'avg_attack_when_speed_above_{speed}'))\n",
    "    return result\n",
    "\n",
    "pokemon.group_by('type1').agg(\n",
    "    avg_attack_when_speed_above_threshold(speed) for speed in [50, 100]\n",
    ").head(3)"
   ]
  },
  {
   "cell_type": "code",
   "execution_count": 18,
   "metadata": {},
   "outputs": [
    {
     "data": {
      "text/html": [
       "<div><style>\n",
       ".dataframe > thead > tr,\n",
       ".dataframe > tbody > tr {\n",
       "  text-align: right;\n",
       "  white-space: pre-wrap;\n",
       "}\n",
       "</style>\n",
       "<small>shape: (3, 3)</small><table border=\"1\" class=\"dataframe\"><thead><tr><th>type1</th><th>top_3_pokemon_by_attack</th><th>top_3_pokemon_by_defense</th></tr><tr><td>str</td><td>list[str]</td><td>list[str]</td></tr></thead><tbody><tr><td>&quot;ground&quot;</td><td>[&quot;Groudon&quot;, &quot;Landorus&quot;, &quot;Rhyperior&quot;]</td><td>[&quot;Groudon&quot;, &quot;Rhyperior&quot;, &quot;Gliscor&quot;]</td></tr><tr><td>&quot;bug&quot;</td><td>[&quot;Heracross&quot;, &quot;Pinsir&quot;, &quot;Beedrill&quot;]</td><td>[&quot;Shuckle&quot;, &quot;Forretress&quot;, &quot;Scizor&quot;]</td></tr><tr><td>&quot;poison&quot;</td><td>[&quot;Toxicroak&quot;, &quot;Muk&quot;, &quot;Nidoking&quot;]</td><td>[&quot;Toxapex&quot;, &quot;Weezing&quot;, &quot;Drapion&quot;]</td></tr></tbody></table></div>"
      ],
      "text/plain": [
       "shape: (3, 3)\n",
       "┌────────┬─────────────────────────────────┬─────────────────────────────────┐\n",
       "│ type1  ┆ top_3_pokemon_by_attack         ┆ top_3_pokemon_by_defense        │\n",
       "│ ---    ┆ ---                             ┆ ---                             │\n",
       "│ str    ┆ list[str]                       ┆ list[str]                       │\n",
       "╞════════╪═════════════════════════════════╪═════════════════════════════════╡\n",
       "│ ground ┆ [\"Groudon\", \"Landorus\", \"Rhype… ┆ [\"Groudon\", \"Rhyperior\", \"Glis… │\n",
       "│ bug    ┆ [\"Heracross\", \"Pinsir\", \"Beedr… ┆ [\"Shuckle\", \"Forretress\", \"Sci… │\n",
       "│ poison ┆ [\"Toxicroak\", \"Muk\", \"Nidoking… ┆ [\"Toxapex\", \"Weezing\", \"Drapio… │\n",
       "└────────┴─────────────────────────────────┴─────────────────────────────────┘"
      ]
     },
     "execution_count": 18,
     "metadata": {},
     "output_type": "execute_result"
    }
   ],
   "source": [
    "# Show the top 3 pokemon by attack and the top 3 pokemon by health in each group\n",
    "(\n",
    "    pokemon.group_by('type1').agg(\n",
    "        top_3_pokemon_by_attack = \n",
    "            pl.col('name').sort_by('attack', descending=True).head(3),\n",
    "        top_3_pokemon_by_defense = \n",
    "            pl.col('name').sort_by('defense', descending=True).head(3) \n",
    "    )\n",
    ").head(3)"
   ]
  },
  {
   "attachments": {},
   "cell_type": "markdown",
   "metadata": {},
   "source": [
    "#### Window functions"
   ]
  },
  {
   "cell_type": "code",
   "execution_count": 19,
   "metadata": {},
   "outputs": [
    {
     "data": {
      "text/html": [
       "<div><style>\n",
       ".dataframe > thead > tr,\n",
       ".dataframe > tbody > tr {\n",
       "  text-align: right;\n",
       "  white-space: pre-wrap;\n",
       "}\n",
       "</style>\n",
       "<small>shape: (5, 5)</small><table border=\"1\" class=\"dataframe\"><thead><tr><th>name</th><th>type1</th><th>attack</th><th>avg_attack_for_same_type1</th><th>ratio_attack_vs_avg_attack</th></tr><tr><td>str</td><td>str</td><td>i64</td><td>f64</td><td>f64</td></tr></thead><tbody><tr><td>&quot;Bulbasaur&quot;</td><td>&quot;grass&quot;</td><td>49</td><td>73.77</td><td>0.66</td></tr><tr><td>&quot;Ivysaur&quot;</td><td>&quot;grass&quot;</td><td>62</td><td>73.77</td><td>0.84</td></tr><tr><td>&quot;Venusaur&quot;</td><td>&quot;grass&quot;</td><td>100</td><td>73.77</td><td>1.36</td></tr><tr><td>&quot;Charmander&quot;</td><td>&quot;fire&quot;</td><td>52</td><td>81.50</td><td>0.64</td></tr><tr><td>&quot;Charmeleon&quot;</td><td>&quot;fire&quot;</td><td>64</td><td>81.50</td><td>0.79</td></tr></tbody></table></div>"
      ],
      "text/plain": [
       "shape: (5, 5)\n",
       "┌────────────┬───────┬────────┬───────────────────────────┬────────────────────────────┐\n",
       "│ name       ┆ type1 ┆ attack ┆ avg_attack_for_same_type1 ┆ ratio_attack_vs_avg_attack │\n",
       "│ ---        ┆ ---   ┆ ---    ┆ ---                       ┆ ---                        │\n",
       "│ str        ┆ str   ┆ i64    ┆ f64                       ┆ f64                        │\n",
       "╞════════════╪═══════╪════════╪═══════════════════════════╪════════════════════════════╡\n",
       "│ Bulbasaur  ┆ grass ┆ 49     ┆ 73.77                     ┆ 0.66                       │\n",
       "│ Ivysaur    ┆ grass ┆ 62     ┆ 73.77                     ┆ 0.84                       │\n",
       "│ Venusaur   ┆ grass ┆ 100    ┆ 73.77                     ┆ 1.36                       │\n",
       "│ Charmander ┆ fire  ┆ 52     ┆ 81.50                     ┆ 0.64                       │\n",
       "│ Charmeleon ┆ fire  ┆ 64     ┆ 81.50                     ┆ 0.79                       │\n",
       "└────────────┴───────┴────────┴───────────────────────────┴────────────────────────────┘"
      ]
     },
     "execution_count": 19,
     "metadata": {},
     "output_type": "execute_result"
    }
   ],
   "source": [
    "# For each pokemon show its attack, the average attack for pokemons of the same type 1\n",
    "# and the ratio of the attack of the pokemon vs the average attack for pokemons of the same type 1\n",
    "\n",
    "pokemon.select(\n",
    "    'name', 'type1', 'attack',\n",
    "    avg_attack_for_same_type1 = pl.mean('attack').over('type1'),\n",
    "    ratio_attack_vs_avg_attack =  \n",
    "        (pl.col('attack') / pl.mean('attack')).over('type1') \n",
    ").head(5)"
   ]
  },
  {
   "cell_type": "code",
   "execution_count": 20,
   "metadata": {},
   "outputs": [
    {
     "data": {
      "text/html": [
       "<div><style>\n",
       ".dataframe > thead > tr,\n",
       ".dataframe > tbody > tr {\n",
       "  text-align: right;\n",
       "  white-space: pre-wrap;\n",
       "}\n",
       "</style>\n",
       "<small>shape: (5, 6)</small><table border=\"1\" class=\"dataframe\"><thead><tr><th>name</th><th>type1</th><th>type2</th><th>attack</th><th>avg_attack_for_same_type1</th><th>avg_attack_for_same_type2</th></tr><tr><td>str</td><td>str</td><td>str</td><td>i64</td><td>f64</td><td>f64</td></tr></thead><tbody><tr><td>&quot;Bulbasaur&quot;</td><td>&quot;grass&quot;</td><td>&quot;poison&quot;</td><td>49</td><td>73.77</td><td>67.62</td></tr><tr><td>&quot;Ivysaur&quot;</td><td>&quot;grass&quot;</td><td>&quot;poison&quot;</td><td>62</td><td>73.77</td><td>67.62</td></tr><tr><td>&quot;Venusaur&quot;</td><td>&quot;grass&quot;</td><td>&quot;poison&quot;</td><td>100</td><td>73.77</td><td>67.62</td></tr><tr><td>&quot;Charmander&quot;</td><td>&quot;fire&quot;</td><td>null</td><td>52</td><td>81.50</td><td>74.23</td></tr><tr><td>&quot;Charmeleon&quot;</td><td>&quot;fire&quot;</td><td>null</td><td>64</td><td>81.50</td><td>74.23</td></tr></tbody></table></div>"
      ],
      "text/plain": [
       "shape: (5, 6)\n",
       "┌────────────┬───────┬────────┬────────┬───────────────────────────┬───────────────────────────┐\n",
       "│ name       ┆ type1 ┆ type2  ┆ attack ┆ avg_attack_for_same_type1 ┆ avg_attack_for_same_type2 │\n",
       "│ ---        ┆ ---   ┆ ---    ┆ ---    ┆ ---                       ┆ ---                       │\n",
       "│ str        ┆ str   ┆ str    ┆ i64    ┆ f64                       ┆ f64                       │\n",
       "╞════════════╪═══════╪════════╪════════╪═══════════════════════════╪═══════════════════════════╡\n",
       "│ Bulbasaur  ┆ grass ┆ poison ┆ 49     ┆ 73.77                     ┆ 67.62                     │\n",
       "│ Ivysaur    ┆ grass ┆ poison ┆ 62     ┆ 73.77                     ┆ 67.62                     │\n",
       "│ Venusaur   ┆ grass ┆ poison ┆ 100    ┆ 73.77                     ┆ 67.62                     │\n",
       "│ Charmander ┆ fire  ┆ null   ┆ 52     ┆ 81.50                     ┆ 74.23                     │\n",
       "│ Charmeleon ┆ fire  ┆ null   ┆ 64     ┆ 81.50                     ┆ 74.23                     │\n",
       "└────────────┴───────┴────────┴────────┴───────────────────────────┴───────────────────────────┘"
      ]
     },
     "execution_count": 20,
     "metadata": {},
     "output_type": "execute_result"
    }
   ],
   "source": [
    "# For each pokemon show its attack and the average attack for pokemons of the same type 1 and pokemons of the same type 2\n",
    "\n",
    "pokemon.select(\n",
    "    'name', 'type1', 'type2', 'attack',\n",
    "    avg_attack_for_same_type1 = pl.mean('attack').over('type1'),\n",
    "    avg_attack_for_same_type2 = pl.mean('attack').over('type2')\n",
    ").head(5)"
   ]
  },
  {
   "cell_type": "code",
   "execution_count": 21,
   "metadata": {},
   "outputs": [],
   "source": [
    "df = pl.DataFrame({\n",
    "    'group': ['A', 'A', 'B', 'B', 'A'],\n",
    "    'value': [1, 2, 3, 4, 5]\n",
    "})"
   ]
  },
  {
   "cell_type": "code",
   "execution_count": 22,
   "metadata": {},
   "outputs": [
    {
     "data": {
      "text/html": [
       "<div><style>\n",
       ".dataframe > thead > tr,\n",
       ".dataframe > tbody > tr {\n",
       "  text-align: right;\n",
       "  white-space: pre-wrap;\n",
       "}\n",
       "</style>\n",
       "<small>shape: (5, 4)</small><table border=\"1\" class=\"dataframe\"><thead><tr><th>name</th><th>type1</th><th>attack</th><th>top_3_attack_pokemon_same_type</th></tr><tr><td>str</td><td>str</td><td>i64</td><td>list[str]</td></tr></thead><tbody><tr><td>&quot;Bulbasaur&quot;</td><td>&quot;grass&quot;</td><td>49</td><td>[&quot;Kartana&quot;, &quot;Abomasnow&quot;, &quot;Breloom&quot;]</td></tr><tr><td>&quot;Ivysaur&quot;</td><td>&quot;grass&quot;</td><td>62</td><td>[&quot;Kartana&quot;, &quot;Abomasnow&quot;, &quot;Breloom&quot;]</td></tr><tr><td>&quot;Venusaur&quot;</td><td>&quot;grass&quot;</td><td>100</td><td>[&quot;Kartana&quot;, &quot;Abomasnow&quot;, &quot;Breloom&quot;]</td></tr><tr><td>&quot;Charmander&quot;</td><td>&quot;fire&quot;</td><td>52</td><td>[&quot;Blaziken&quot;, &quot;Flareon&quot;, &quot;Ho-Oh&quot;]</td></tr><tr><td>&quot;Charmeleon&quot;</td><td>&quot;fire&quot;</td><td>64</td><td>[&quot;Blaziken&quot;, &quot;Flareon&quot;, &quot;Ho-Oh&quot;]</td></tr></tbody></table></div>"
      ],
      "text/plain": [
       "shape: (5, 4)\n",
       "┌────────────┬───────┬────────┬─────────────────────────────────┐\n",
       "│ name       ┆ type1 ┆ attack ┆ top_3_attack_pokemon_same_type  │\n",
       "│ ---        ┆ ---   ┆ ---    ┆ ---                             │\n",
       "│ str        ┆ str   ┆ i64    ┆ list[str]                       │\n",
       "╞════════════╪═══════╪════════╪═════════════════════════════════╡\n",
       "│ Bulbasaur  ┆ grass ┆ 49     ┆ [\"Kartana\", \"Abomasnow\", \"Brel… │\n",
       "│ Ivysaur    ┆ grass ┆ 62     ┆ [\"Kartana\", \"Abomasnow\", \"Brel… │\n",
       "│ Venusaur   ┆ grass ┆ 100    ┆ [\"Kartana\", \"Abomasnow\", \"Brel… │\n",
       "│ Charmander ┆ fire  ┆ 52     ┆ [\"Blaziken\", \"Flareon\", \"Ho-Oh… │\n",
       "│ Charmeleon ┆ fire  ┆ 64     ┆ [\"Blaziken\", \"Flareon\", \"Ho-Oh… │\n",
       "└────────────┴───────┴────────┴─────────────────────────────────┘"
      ]
     },
     "execution_count": 22,
     "metadata": {},
     "output_type": "execute_result"
    }
   ],
   "source": [
    "# For each pokemon, show the top 3 pokemon by attack of the same type\n",
    "\n",
    "pokemon.select(\n",
    "    'name', 'type1', 'attack',\n",
    "    top_3_attack_pokemon_same_type = \n",
    "        pl.col('name').sort_by('attack', descending=True).head(3)\n",
    "        .over('type1', mapping_strategy='join')\n",
    ").head(5)"
   ]
  },
  {
   "cell_type": "code",
   "execution_count": 23,
   "metadata": {},
   "outputs": [
    {
     "data": {
      "text/html": [
       "<div><style>\n",
       ".dataframe > thead > tr,\n",
       ".dataframe > tbody > tr {\n",
       "  text-align: right;\n",
       "  white-space: pre-wrap;\n",
       "}\n",
       "</style>\n",
       "<small>shape: (6, 3)</small><table border=\"1\" class=\"dataframe\"><thead><tr><th>type1</th><th>top_3_attack</th><th>top_3_defense</th></tr><tr><td>str</td><td>str</td><td>str</td></tr></thead><tbody><tr><td>&quot;grass&quot;</td><td>&quot;Kartana&quot;</td><td>&quot;Ferrothorn&quot;</td></tr><tr><td>&quot;grass&quot;</td><td>&quot;Abomasnow&quot;</td><td>&quot;Kartana&quot;</td></tr><tr><td>&quot;grass&quot;</td><td>&quot;Breloom&quot;</td><td>&quot;Leafeon&quot;</td></tr><tr><td>&quot;fire&quot;</td><td>&quot;Blaziken&quot;</td><td>&quot;Torkoal&quot;</td></tr><tr><td>&quot;fire&quot;</td><td>&quot;Flareon&quot;</td><td>&quot;Turtonator&quot;</td></tr><tr><td>&quot;fire&quot;</td><td>&quot;Ho-Oh&quot;</td><td>&quot;Magcargo&quot;</td></tr></tbody></table></div>"
      ],
      "text/plain": [
       "shape: (6, 3)\n",
       "┌───────┬──────────────┬───────────────┐\n",
       "│ type1 ┆ top_3_attack ┆ top_3_defense │\n",
       "│ ---   ┆ ---          ┆ ---           │\n",
       "│ str   ┆ str          ┆ str           │\n",
       "╞═══════╪══════════════╪═══════════════╡\n",
       "│ grass ┆ Kartana      ┆ Ferrothorn    │\n",
       "│ grass ┆ Abomasnow    ┆ Kartana       │\n",
       "│ grass ┆ Breloom      ┆ Leafeon       │\n",
       "│ fire  ┆ Blaziken     ┆ Torkoal       │\n",
       "│ fire  ┆ Flareon      ┆ Turtonator    │\n",
       "│ fire  ┆ Ho-Oh        ┆ Magcargo      │\n",
       "└───────┴──────────────┴───────────────┘"
      ]
     },
     "execution_count": 23,
     "metadata": {},
     "output_type": "execute_result"
    }
   ],
   "source": [
    "# Show top 3 pokemon by attack and defense\n",
    "\n",
    "pokemon.select(\n",
    "    pl.col('type1').head(3).over('type1', mapping_strategy='explode'),\n",
    "    top_3_attack = \n",
    "        pl.col('name').sort_by('attack', descending=True)\n",
    "        .head(3).over('type1', mapping_strategy='explode'), \n",
    "    top_3_defense = \n",
    "        pl.col('name').sort_by('defense', descending=True)\n",
    "        .head(3).over('type1', mapping_strategy='explode')\n",
    ").head(6)"
   ]
  },
  {
   "cell_type": "code",
   "execution_count": 24,
   "metadata": {},
   "outputs": [
    {
     "data": {
      "text/html": [
       "<div><style>\n",
       ".dataframe > thead > tr,\n",
       ".dataframe > tbody > tr {\n",
       "  text-align: right;\n",
       "  white-space: pre-wrap;\n",
       "}\n",
       "</style>\n",
       "<small>shape: (6, 6)</small><table border=\"1\" class=\"dataframe\"><thead><tr><th>name</th><th>type1</th><th>attack</th><th>defense</th><th>attack_rank</th><th>defense_rank</th></tr><tr><td>str</td><td>str</td><td>i64</td><td>i64</td><td>u32</td><td>u32</td></tr></thead><tbody><tr><td>&quot;Bulbasaur&quot;</td><td>&quot;grass&quot;</td><td>49</td><td>49</td><td>61</td><td>62</td></tr><tr><td>&quot;Ivysaur&quot;</td><td>&quot;grass&quot;</td><td>62</td><td>63</td><td>45</td><td>45</td></tr><tr><td>&quot;Venusaur&quot;</td><td>&quot;grass&quot;</td><td>100</td><td>123</td><td>16</td><td>5</td></tr><tr><td>&quot;Charmander&quot;</td><td>&quot;fire&quot;</td><td>52</td><td>43</td><td>45</td><td>44</td></tr><tr><td>&quot;Charmeleon&quot;</td><td>&quot;fire&quot;</td><td>64</td><td>58</td><td>37</td><td>29</td></tr><tr><td>&quot;Charizard&quot;</td><td>&quot;fire&quot;</td><td>104</td><td>78</td><td>10</td><td>14</td></tr></tbody></table></div>"
      ],
      "text/plain": [
       "shape: (6, 6)\n",
       "┌────────────┬───────┬────────┬─────────┬─────────────┬──────────────┐\n",
       "│ name       ┆ type1 ┆ attack ┆ defense ┆ attack_rank ┆ defense_rank │\n",
       "│ ---        ┆ ---   ┆ ---    ┆ ---     ┆ ---         ┆ ---          │\n",
       "│ str        ┆ str   ┆ i64    ┆ i64     ┆ u32         ┆ u32          │\n",
       "╞════════════╪═══════╪════════╪═════════╪═════════════╪══════════════╡\n",
       "│ Bulbasaur  ┆ grass ┆ 49     ┆ 49      ┆ 61          ┆ 62           │\n",
       "│ Ivysaur    ┆ grass ┆ 62     ┆ 63      ┆ 45          ┆ 45           │\n",
       "│ Venusaur   ┆ grass ┆ 100    ┆ 123     ┆ 16          ┆ 5            │\n",
       "│ Charmander ┆ fire  ┆ 52     ┆ 43      ┆ 45          ┆ 44           │\n",
       "│ Charmeleon ┆ fire  ┆ 64     ┆ 58      ┆ 37          ┆ 29           │\n",
       "│ Charizard  ┆ fire  ┆ 104    ┆ 78      ┆ 10          ┆ 14           │\n",
       "└────────────┴───────┴────────┴─────────┴─────────────┴──────────────┘"
      ]
     },
     "execution_count": 24,
     "metadata": {},
     "output_type": "execute_result"
    }
   ],
   "source": [
    "# Rank the pokemon by attack and defense by type\n",
    "\n",
    "pokemon.select(\n",
    "    'name', 'type1', 'attack', 'defense',\n",
    "    attack_rank = \n",
    "        pl.col('attack').rank(method='ordinal', descending=True).over('type1'),\n",
    "    defense_rank = \n",
    "        pl.col('defense').rank(method='ordinal', descending=True).over('type1')\n",
    ").head(6)"
   ]
  },
  {
   "attachments": {},
   "cell_type": "markdown",
   "metadata": {},
   "source": [
    "#### Range function"
   ]
  },
  {
   "cell_type": "code",
   "execution_count": 25,
   "metadata": {},
   "outputs": [
    {
     "data": {
      "text/html": [
       "<div><style>\n",
       ".dataframe > thead > tr,\n",
       ".dataframe > tbody > tr {\n",
       "  text-align: right;\n",
       "  white-space: pre-wrap;\n",
       "}\n",
       "</style>\n",
       "<small>shape: (6, 3)</small><table border=\"1\" class=\"dataframe\"><thead><tr><th>name</th><th>type1</th><th>type_index</th></tr><tr><td>str</td><td>str</td><td>i64</td></tr></thead><tbody><tr><td>&quot;Bulbasaur&quot;</td><td>&quot;grass&quot;</td><td>1</td></tr><tr><td>&quot;Ivysaur&quot;</td><td>&quot;grass&quot;</td><td>2</td></tr><tr><td>&quot;Venusaur&quot;</td><td>&quot;grass&quot;</td><td>3</td></tr><tr><td>&quot;Charmander&quot;</td><td>&quot;fire&quot;</td><td>1</td></tr><tr><td>&quot;Charmeleon&quot;</td><td>&quot;fire&quot;</td><td>2</td></tr><tr><td>&quot;Charizard&quot;</td><td>&quot;fire&quot;</td><td>3</td></tr></tbody></table></div>"
      ],
      "text/plain": [
       "shape: (6, 3)\n",
       "┌────────────┬───────┬────────────┐\n",
       "│ name       ┆ type1 ┆ type_index │\n",
       "│ ---        ┆ ---   ┆ ---        │\n",
       "│ str        ┆ str   ┆ i64        │\n",
       "╞════════════╪═══════╪════════════╡\n",
       "│ Bulbasaur  ┆ grass ┆ 1          │\n",
       "│ Ivysaur    ┆ grass ┆ 2          │\n",
       "│ Venusaur   ┆ grass ┆ 3          │\n",
       "│ Charmander ┆ fire  ┆ 1          │\n",
       "│ Charmeleon ┆ fire  ┆ 2          │\n",
       "│ Charizard  ┆ fire  ┆ 3          │\n",
       "└────────────┴───────┴────────────┘"
      ]
     },
     "execution_count": 25,
     "metadata": {},
     "output_type": "execute_result"
    }
   ],
   "source": [
    "# Add an increasing index for the pokemon of each type\n",
    "\n",
    "pokemon.select(\n",
    "    'name', 'type1',\n",
    "    type_index = pl.int_range(1, pl.count()+1).over('type1')\n",
    ").head(6)"
   ]
  },
  {
   "cell_type": "code",
   "execution_count": 26,
   "metadata": {},
   "outputs": [
    {
     "data": {
      "text/html": [
       "<div><style>\n",
       ".dataframe > thead > tr,\n",
       ".dataframe > tbody > tr {\n",
       "  text-align: right;\n",
       "  white-space: pre-wrap;\n",
       "}\n",
       "</style>\n",
       "<small>shape: (4, 2)</small><table border=\"1\" class=\"dataframe\"><thead><tr><th>name</th><th>type1</th></tr><tr><td>str</td><td>str</td></tr></thead><tbody><tr><td>&quot;Ariados&quot;</td><td>&quot;bug&quot;</td></tr><tr><td>&quot;Surskit&quot;</td><td>&quot;bug&quot;</td></tr><tr><td>&quot;Bisharp&quot;</td><td>&quot;dark&quot;</td></tr><tr><td>&quot;Zweilous&quot;</td><td>&quot;dark&quot;</td></tr></tbody></table></div>"
      ],
      "text/plain": [
       "shape: (4, 2)\n",
       "┌──────────┬───────┐\n",
       "│ name     ┆ type1 │\n",
       "│ ---      ┆ ---   │\n",
       "│ str      ┆ str   │\n",
       "╞══════════╪═══════╡\n",
       "│ Ariados  ┆ bug   │\n",
       "│ Surskit  ┆ bug   │\n",
       "│ Bisharp  ┆ dark  │\n",
       "│ Zweilous ┆ dark  │\n",
       "└──────────┴───────┘"
      ]
     },
     "execution_count": 26,
     "metadata": {},
     "output_type": "execute_result"
    }
   ],
   "source": [
    "# Take a random sample of 2 pokemons for each group\n",
    "\n",
    "pokemon.select('name','type1').filter(\n",
    "    pl.int_range(1, pl.count()+1).shuffle().over(\"type1\") <= 2\n",
    ").sort(by='type1').head(4)"
   ]
  },
  {
   "cell_type": "code",
   "execution_count": 27,
   "metadata": {},
   "outputs": [
    {
     "data": {
      "text/html": [
       "<div><style>\n",
       ".dataframe > thead > tr,\n",
       ".dataframe > tbody > tr {\n",
       "  text-align: right;\n",
       "  white-space: pre-wrap;\n",
       "}\n",
       "</style>\n",
       "<small>shape: (6, 9)</small><table border=\"1\" class=\"dataframe\"><thead><tr><th>name</th><th>type1</th><th>type2</th><th>abilities</th><th>hp</th><th>attack</th><th>defense</th><th>speed</th><th>is_legendary</th></tr><tr><td>str</td><td>str</td><td>str</td><td>list[str]</td><td>i64</td><td>i64</td><td>i64</td><td>i64</td><td>i64</td></tr></thead><tbody><tr><td>&quot;Scizor&quot;</td><td>&quot;bug&quot;</td><td>&quot;steel&quot;</td><td>[&quot;Swarm&quot;, &quot;Technician&quot;, &quot;Light Metal&quot;]</td><td>70</td><td>150</td><td>140</td><td>75</td><td>0</td></tr><tr><td>&quot;Heracross&quot;</td><td>&quot;bug&quot;</td><td>&quot;fighting&quot;</td><td>[&quot;Swarm&quot;, &quot;Guts&quot;, &quot;Moxie&quot;]</td><td>80</td><td>185</td><td>115</td><td>75</td><td>0</td></tr><tr><td>&quot;Masquerain&quot;</td><td>&quot;bug&quot;</td><td>&quot;flying&quot;</td><td>[&quot;Intimidate&quot;, &quot;Unnerve&quot;]</td><td>70</td><td>60</td><td>62</td><td>80</td><td>0</td></tr><tr><td>&quot;Murkrow&quot;</td><td>&quot;dark&quot;</td><td>&quot;flying&quot;</td><td>[&quot;Insomnia&quot;, &quot;Super Luck&quot;, &quot;Prankster&quot;]</td><td>60</td><td>85</td><td>42</td><td>91</td><td>0</td></tr><tr><td>&quot;Hakamo-o&quot;</td><td>&quot;dragon&quot;</td><td>&quot;fighting&quot;</td><td>[&quot;Bulletproof&quot;, &quot;Soundproof&quot;, &quot;Overcoat&quot;]</td><td>55</td><td>75</td><td>90</td><td>65</td><td>0</td></tr><tr><td>&quot;Elekid&quot;</td><td>&quot;electric&quot;</td><td>null</td><td>[&quot;Static&quot;, &quot;Vital Spirit&quot;]</td><td>45</td><td>63</td><td>37</td><td>95</td><td>0</td></tr></tbody></table></div>"
      ],
      "text/plain": [
       "shape: (6, 9)\n",
       "┌────────────┬──────────┬──────────┬─────────────────┬───┬────────┬─────────┬───────┬──────────────┐\n",
       "│ name       ┆ type1    ┆ type2    ┆ abilities       ┆ … ┆ attack ┆ defense ┆ speed ┆ is_legendary │\n",
       "│ ---        ┆ ---      ┆ ---      ┆ ---             ┆   ┆ ---    ┆ ---     ┆ ---   ┆ ---          │\n",
       "│ str        ┆ str      ┆ str      ┆ list[str]       ┆   ┆ i64    ┆ i64     ┆ i64   ┆ i64          │\n",
       "╞════════════╪══════════╪══════════╪═════════════════╪═══╪════════╪═════════╪═══════╪══════════════╡\n",
       "│ Scizor     ┆ bug      ┆ steel    ┆ [\"Swarm\",       ┆ … ┆ 150    ┆ 140     ┆ 75    ┆ 0            │\n",
       "│            ┆          ┆          ┆ \"Technician\",   ┆   ┆        ┆         ┆       ┆              │\n",
       "│            ┆          ┆          ┆ \"Light…         ┆   ┆        ┆         ┆       ┆              │\n",
       "│ Heracross  ┆ bug      ┆ fighting ┆ [\"Swarm\",       ┆ … ┆ 185    ┆ 115     ┆ 75    ┆ 0            │\n",
       "│            ┆          ┆          ┆ \"Guts\",         ┆   ┆        ┆         ┆       ┆              │\n",
       "│            ┆          ┆          ┆ \"Moxie\"]        ┆   ┆        ┆         ┆       ┆              │\n",
       "│ Masquerain ┆ bug      ┆ flying   ┆ [\"Intimidate\",  ┆ … ┆ 60     ┆ 62      ┆ 80    ┆ 0            │\n",
       "│            ┆          ┆          ┆ \"Unnerve\"]      ┆   ┆        ┆         ┆       ┆              │\n",
       "│ Murkrow    ┆ dark     ┆ flying   ┆ [\"Insomnia\",    ┆ … ┆ 85     ┆ 42      ┆ 91    ┆ 0            │\n",
       "│            ┆          ┆          ┆ \"Super Luck\",   ┆   ┆        ┆         ┆       ┆              │\n",
       "│            ┆          ┆          ┆ \"Pr…            ┆   ┆        ┆         ┆       ┆              │\n",
       "│ Hakamo-o   ┆ dragon   ┆ fighting ┆ [\"Bulletproof\", ┆ … ┆ 75     ┆ 90      ┆ 65    ┆ 0            │\n",
       "│            ┆          ┆          ┆ \"Soundproof\", … ┆   ┆        ┆         ┆       ┆              │\n",
       "│ Elekid     ┆ electric ┆ null     ┆ [\"Static\",      ┆ … ┆ 63     ┆ 37      ┆ 95    ┆ 0            │\n",
       "│            ┆          ┆          ┆ \"Vital Spirit\"] ┆   ┆        ┆         ┆       ┆              │\n",
       "└────────────┴──────────┴──────────┴─────────────────┴───┴────────┴─────────┴───────┴──────────────┘"
      ]
     },
     "execution_count": 27,
     "metadata": {},
     "output_type": "execute_result"
    }
   ],
   "source": [
    "# Take a random sample of 5% of pokemons for each group\n",
    "\n",
    "pokemon.filter(\n",
    "    pl.int_range(1, pl.count() + 1).shuffle().over(\"type1\") \n",
    "    <= pl.count().over(\"type1\") * 0.05\n",
    ").sort(by=\"type1\").head(6)"
   ]
  },
  {
   "attachments": {},
   "cell_type": "markdown",
   "metadata": {},
   "source": [
    "#### Binning functions: Cut and Qcut"
   ]
  },
  {
   "cell_type": "code",
   "execution_count": 35,
   "metadata": {},
   "outputs": [
    {
     "data": {
      "text/html": [
       "<div><style>\n",
       ".dataframe > thead > tr,\n",
       ".dataframe > tbody > tr {\n",
       "  text-align: right;\n",
       "  white-space: pre-wrap;\n",
       "}\n",
       "</style>\n",
       "<small>shape: (6, 4)</small><table border=\"1\" class=\"dataframe\"><thead><tr><th>name</th><th>type1</th><th>attack</th><th>attack_category</th></tr><tr><td>str</td><td>str</td><td>i64</td><td>cat</td></tr></thead><tbody><tr><td>&quot;Bulbasaur&quot;</td><td>&quot;grass&quot;</td><td>49</td><td>&quot;weak&quot;</td></tr><tr><td>&quot;Ivysaur&quot;</td><td>&quot;grass&quot;</td><td>62</td><td>&quot;medium&quot;</td></tr><tr><td>&quot;Venusaur&quot;</td><td>&quot;grass&quot;</td><td>100</td><td>&quot;medium&quot;</td></tr><tr><td>&quot;Charmander&quot;</td><td>&quot;fire&quot;</td><td>52</td><td>&quot;medium&quot;</td></tr><tr><td>&quot;Charmeleon&quot;</td><td>&quot;fire&quot;</td><td>64</td><td>&quot;medium&quot;</td></tr><tr><td>&quot;Charizard&quot;</td><td>&quot;fire&quot;</td><td>104</td><td>&quot;strong&quot;</td></tr></tbody></table></div>"
      ],
      "text/plain": [
       "shape: (6, 4)\n",
       "┌────────────┬───────┬────────┬─────────────────┐\n",
       "│ name       ┆ type1 ┆ attack ┆ attack_category │\n",
       "│ ---        ┆ ---   ┆ ---    ┆ ---             │\n",
       "│ str        ┆ str   ┆ i64    ┆ cat             │\n",
       "╞════════════╪═══════╪════════╪═════════════════╡\n",
       "│ Bulbasaur  ┆ grass ┆ 49     ┆ weak            │\n",
       "│ Ivysaur    ┆ grass ┆ 62     ┆ medium          │\n",
       "│ Venusaur   ┆ grass ┆ 100    ┆ medium          │\n",
       "│ Charmander ┆ fire  ┆ 52     ┆ medium          │\n",
       "│ Charmeleon ┆ fire  ┆ 64     ┆ medium          │\n",
       "│ Charizard  ┆ fire  ┆ 104    ┆ strong          │\n",
       "└────────────┴───────┴────────┴─────────────────┘"
      ]
     },
     "execution_count": 35,
     "metadata": {},
     "output_type": "execute_result"
    }
   ],
   "source": [
    "# Assigns the pokemon a category based on their attack stats:\n",
    "# <= 50 - weak, <= 100 - medium, > 100 - strong\n",
    "\n",
    "pokemon.select(\n",
    "    'name', 'type1', 'attack',\n",
    "    attack_category = pl.col('attack').cut([50, 100], labels=['weak', 'medium', 'strong'])\n",
    ").head(6)"
   ]
  },
  {
   "cell_type": "code",
   "execution_count": 38,
   "metadata": {},
   "outputs": [
    {
     "data": {
      "text/html": [
       "<div><style>\n",
       ".dataframe > thead > tr,\n",
       ".dataframe > tbody > tr {\n",
       "  text-align: right;\n",
       "  white-space: pre-wrap;\n",
       "}\n",
       "</style>\n",
       "<small>shape: (6, 4)</small><table border=\"1\" class=\"dataframe\"><thead><tr><th>name</th><th>type1</th><th>attack</th><th>attack_category_percentiles</th></tr><tr><td>str</td><td>str</td><td>i64</td><td>cat</td></tr></thead><tbody><tr><td>&quot;Bulbasaur&quot;</td><td>&quot;grass&quot;</td><td>49</td><td>&quot;weak&quot;</td></tr><tr><td>&quot;Ivysaur&quot;</td><td>&quot;grass&quot;</td><td>62</td><td>&quot;weak&quot;</td></tr><tr><td>&quot;Venusaur&quot;</td><td>&quot;grass&quot;</td><td>100</td><td>&quot;medium&quot;</td></tr><tr><td>&quot;Charmander&quot;</td><td>&quot;fire&quot;</td><td>52</td><td>&quot;weak&quot;</td></tr><tr><td>&quot;Charmeleon&quot;</td><td>&quot;fire&quot;</td><td>64</td><td>&quot;weak&quot;</td></tr><tr><td>&quot;Charizard&quot;</td><td>&quot;fire&quot;</td><td>104</td><td>&quot;medium&quot;</td></tr></tbody></table></div>"
      ],
      "text/plain": [
       "shape: (6, 4)\n",
       "┌────────────┬───────┬────────┬─────────────────────────────┐\n",
       "│ name       ┆ type1 ┆ attack ┆ attack_category_percentiles │\n",
       "│ ---        ┆ ---   ┆ ---    ┆ ---                         │\n",
       "│ str        ┆ str   ┆ i64    ┆ cat                         │\n",
       "╞════════════╪═══════╪════════╪═════════════════════════════╡\n",
       "│ Bulbasaur  ┆ grass ┆ 49     ┆ weak                        │\n",
       "│ Ivysaur    ┆ grass ┆ 62     ┆ weak                        │\n",
       "│ Venusaur   ┆ grass ┆ 100    ┆ medium                      │\n",
       "│ Charmander ┆ fire  ┆ 52     ┆ weak                        │\n",
       "│ Charmeleon ┆ fire  ┆ 64     ┆ weak                        │\n",
       "│ Charizard  ┆ fire  ┆ 104    ┆ medium                      │\n",
       "└────────────┴───────┴────────┴─────────────────────────────┘"
      ]
     },
     "execution_count": 38,
     "metadata": {},
     "output_type": "execute_result"
    }
   ],
   "source": [
    "# Assigns the pokemon a category based on their attack stats using percentiles:\n",
    "# bottom 40% - weak, top 20% - strong, rest - medium\n",
    "\n",
    "pokemon.select(\n",
    "    'name', 'type1', 'attack',\n",
    "    attack_category_percentiles = \n",
    "        pl.col('attack').qcut([0.4, 0.8], labels=['weak', 'medium', 'strong'])\n",
    ").head(6)"
   ]
  },
  {
   "attachments": {},
   "cell_type": "markdown",
   "metadata": {},
   "source": [
    "#### Repeat"
   ]
  },
  {
   "cell_type": "code",
   "execution_count": 39,
   "metadata": {},
   "outputs": [
    {
     "data": {
      "text/html": [
       "<div><style>\n",
       ".dataframe > thead > tr,\n",
       ".dataframe > tbody > tr {\n",
       "  text-align: right;\n",
       "  white-space: pre-wrap;\n",
       "}\n",
       "</style>\n",
       "<small>shape: (3, 2)</small><table border=\"1\" class=\"dataframe\"><thead><tr><th>fruit</th><th>order_quantity</th></tr><tr><td>str</td><td>i64</td></tr></thead><tbody><tr><td>&quot;Apple&quot;</td><td>1</td></tr><tr><td>&quot;Banana&quot;</td><td>3</td></tr><tr><td>&quot;Cherry&quot;</td><td>2</td></tr></tbody></table></div>"
      ],
      "text/plain": [
       "shape: (3, 2)\n",
       "┌────────┬────────────────┐\n",
       "│ fruit  ┆ order_quantity │\n",
       "│ ---    ┆ ---            │\n",
       "│ str    ┆ i64            │\n",
       "╞════════╪════════════════╡\n",
       "│ Apple  ┆ 1              │\n",
       "│ Banana ┆ 3              │\n",
       "│ Cherry ┆ 2              │\n",
       "└────────┴────────────────┘"
      ]
     },
     "execution_count": 39,
     "metadata": {},
     "output_type": "execute_result"
    }
   ],
   "source": [
    "# Use a different dataframe for this example\n",
    "# Based on a dataframe with 3 fruits and their order quantities\n",
    "# Repeat the fruit names based on their order quantities\n",
    "\n",
    "df = pl.DataFrame(\n",
    "    {\n",
    "        \"fruit\": [\"Apple\", \"Banana\", \"Cherry\"],\n",
    "        \"order_quantity\": [1, 3, 2],\n",
    "    }\n",
    ")\n",
    "\n",
    "df"
   ]
  },
  {
   "cell_type": "code",
   "execution_count": null,
   "metadata": {},
   "outputs": [
    {
     "data": {
      "text/html": [
       "<div><style>\n",
       ".dataframe > thead > tr > th,\n",
       ".dataframe > tbody > tr > td {\n",
       "  text-align: right;\n",
       "  white-space: pre-wrap;\n",
       "}\n",
       "</style>\n",
       "<small>shape: (3, 3)</small><table border=\"1\" class=\"dataframe\"><thead><tr><th>fruit</th><th>order_quantity</th><th>fruits_repeated</th></tr><tr><td>str</td><td>i64</td><td>list[str]</td></tr></thead><tbody><tr><td>&quot;Apple&quot;</td><td>1</td><td>[&quot;Apple&quot;]</td></tr><tr><td>&quot;Banana&quot;</td><td>3</td><td>[&quot;Banana&quot;, &quot;Banana&quot;, &quot;Banana&quot;]</td></tr><tr><td>&quot;Cherry&quot;</td><td>2</td><td>[&quot;Cherry&quot;, &quot;Cherry&quot;]</td></tr></tbody></table></div>"
      ],
      "text/plain": [
       "shape: (3, 3)\n",
       "┌────────┬────────────────┬────────────────────────────────┐\n",
       "│ fruit  ┆ order_quantity ┆ fruits_repeated                │\n",
       "│ ---    ┆ ---            ┆ ---                            │\n",
       "│ str    ┆ i64            ┆ list[str]                      │\n",
       "╞════════╪════════════════╪════════════════════════════════╡\n",
       "│ Apple  ┆ 1              ┆ [\"Apple\"]                      │\n",
       "│ Banana ┆ 3              ┆ [\"Banana\", \"Banana\", \"Banana\"] │\n",
       "│ Cherry ┆ 2              ┆ [\"Cherry\", \"Cherry\"]           │\n",
       "└────────┴────────────────┴────────────────────────────────┘"
      ]
     },
     "execution_count": 32,
     "metadata": {},
     "output_type": "execute_result"
    }
   ],
   "source": [
    "df.with_columns(\n",
    "    fruits_repeated = pl.col('fruit').repeat_by('order_quantity')\n",
    ")"
   ]
  },
  {
   "attachments": {},
   "cell_type": "markdown",
   "metadata": {},
   "source": [
    "#### Explode and Implode"
   ]
  },
  {
   "cell_type": "code",
   "execution_count": 40,
   "metadata": {},
   "outputs": [
    {
     "data": {
      "text/html": [
       "<div><style>\n",
       ".dataframe > thead > tr,\n",
       ".dataframe > tbody > tr {\n",
       "  text-align: right;\n",
       "  white-space: pre-wrap;\n",
       "}\n",
       "</style>\n",
       "<small>shape: (3, 1)</small><table border=\"1\" class=\"dataframe\"><thead><tr><th>abilities</th></tr><tr><td>list[str]</td></tr></thead><tbody><tr><td>[&quot;Overgrow&quot;, &quot;Chlorophyll&quot;]</td></tr><tr><td>[&quot;Overgrow&quot;, &quot;Chlorophyll&quot;]</td></tr><tr><td>[&quot;Overgrow&quot;, &quot;Chlorophyll&quot;]</td></tr></tbody></table></div>"
      ],
      "text/plain": [
       "shape: (3, 1)\n",
       "┌─────────────────────────────┐\n",
       "│ abilities                   │\n",
       "│ ---                         │\n",
       "│ list[str]                   │\n",
       "╞═════════════════════════════╡\n",
       "│ [\"Overgrow\", \"Chlorophyll\"] │\n",
       "│ [\"Overgrow\", \"Chlorophyll\"] │\n",
       "│ [\"Overgrow\", \"Chlorophyll\"] │\n",
       "└─────────────────────────────┘"
      ]
     },
     "execution_count": 40,
     "metadata": {},
     "output_type": "execute_result"
    }
   ],
   "source": [
    "# Explode the list of pokemon abilities: from a column of list to a column of values\n",
    "# Point of attention when using explode: explode increases the number of rows\n",
    "# All columns in a Polars dataframe should have the same number of rows\n",
    "\n",
    "pokemon.head(3).select(\n",
    "    pl.col('abilities')\n",
    ")"
   ]
  },
  {
   "cell_type": "code",
   "execution_count": 41,
   "metadata": {},
   "outputs": [
    {
     "data": {
      "text/html": [
       "<div><style>\n",
       ".dataframe > thead > tr,\n",
       ".dataframe > tbody > tr {\n",
       "  text-align: right;\n",
       "  white-space: pre-wrap;\n",
       "}\n",
       "</style>\n",
       "<small>shape: (6, 1)</small><table border=\"1\" class=\"dataframe\"><thead><tr><th>abilities</th></tr><tr><td>str</td></tr></thead><tbody><tr><td>&quot;Overgrow&quot;</td></tr><tr><td>&quot;Chlorophyll&quot;</td></tr><tr><td>&quot;Overgrow&quot;</td></tr><tr><td>&quot;Chlorophyll&quot;</td></tr><tr><td>&quot;Overgrow&quot;</td></tr><tr><td>&quot;Chlorophyll&quot;</td></tr></tbody></table></div>"
      ],
      "text/plain": [
       "shape: (6, 1)\n",
       "┌─────────────┐\n",
       "│ abilities   │\n",
       "│ ---         │\n",
       "│ str         │\n",
       "╞═════════════╡\n",
       "│ Overgrow    │\n",
       "│ Chlorophyll │\n",
       "│ Overgrow    │\n",
       "│ Chlorophyll │\n",
       "│ Overgrow    │\n",
       "│ Chlorophyll │\n",
       "└─────────────┘"
      ]
     },
     "execution_count": 41,
     "metadata": {},
     "output_type": "execute_result"
    }
   ],
   "source": [
    "pokemon.head(3).select(\n",
    "    pl.col('abilities').explode()\n",
    ")"
   ]
  },
  {
   "cell_type": "code",
   "execution_count": 42,
   "metadata": {},
   "outputs": [
    {
     "data": {
      "text/html": [
       "<div><style>\n",
       ".dataframe > thead > tr,\n",
       ".dataframe > tbody > tr {\n",
       "  text-align: right;\n",
       "  white-space: pre-wrap;\n",
       "}\n",
       "</style>\n",
       "<small>shape: (1, 9)</small><table border=\"1\" class=\"dataframe\"><thead><tr><th>name</th><th>type1</th><th>type2</th><th>abilities</th><th>hp</th><th>attack</th><th>defense</th><th>speed</th><th>is_legendary</th></tr><tr><td>list[str]</td><td>list[str]</td><td>list[str]</td><td>list[list[str]]</td><td>list[i64]</td><td>list[i64]</td><td>list[i64]</td><td>list[i64]</td><td>list[i64]</td></tr></thead><tbody><tr><td>[&quot;Bulbasaur&quot;, &quot;Ivysaur&quot;, &quot;Venusaur&quot;]</td><td>[&quot;grass&quot;, &quot;grass&quot;, &quot;grass&quot;]</td><td>[&quot;poison&quot;, &quot;poison&quot;, &quot;poison&quot;]</td><td>[[&quot;Overgrow&quot;, &quot;Chlorophyll&quot;], [&quot;Overgrow&quot;, &quot;Chlorophyll&quot;], [&quot;Overgrow&quot;, &quot;Chlorophyll&quot;]]</td><td>[45, 60, 80]</td><td>[49, 62, 100]</td><td>[49, 63, 123]</td><td>[45, 60, 80]</td><td>[0, 0, 0]</td></tr></tbody></table></div>"
      ],
      "text/plain": [
       "shape: (1, 9)\n",
       "┌───────────┬───────────┬───────────┬───────────┬───┬───────────┬───────────┬───────────┬──────────┐\n",
       "│ name      ┆ type1     ┆ type2     ┆ abilities ┆ … ┆ attack    ┆ defense   ┆ speed     ┆ is_legen │\n",
       "│ ---       ┆ ---       ┆ ---       ┆ ---       ┆   ┆ ---       ┆ ---       ┆ ---       ┆ dary     │\n",
       "│ list[str] ┆ list[str] ┆ list[str] ┆ list[list ┆   ┆ list[i64] ┆ list[i64] ┆ list[i64] ┆ ---      │\n",
       "│           ┆           ┆           ┆ [str]]    ┆   ┆           ┆           ┆           ┆ list[i64 │\n",
       "│           ┆           ┆           ┆           ┆   ┆           ┆           ┆           ┆ ]        │\n",
       "╞═══════════╪═══════════╪═══════════╪═══════════╪═══╪═══════════╪═══════════╪═══════════╪══════════╡\n",
       "│ [\"Bulbasa ┆ [\"grass\", ┆ [\"poison\" ┆ [[\"Overgr ┆ … ┆ [49, 62,  ┆ [49, 63,  ┆ [45, 60,  ┆ [0, 0,   │\n",
       "│ ur\", \"Ivy ┆ \"grass\",  ┆ ,         ┆ ow\", \"Chl ┆   ┆ 100]      ┆ 123]      ┆ 80]       ┆ 0]       │\n",
       "│ saur\",    ┆ \"grass\"]  ┆ \"poison\", ┆ orophyll\" ┆   ┆           ┆           ┆           ┆          │\n",
       "│ \"Venu…    ┆           ┆ \"poison\"] ┆ ], …      ┆   ┆           ┆           ┆           ┆          │\n",
       "└───────────┴───────────┴───────────┴───────────┴───┴───────────┴───────────┴───────────┴──────────┘"
      ]
     },
     "execution_count": 42,
     "metadata": {},
     "output_type": "execute_result"
    }
   ],
   "source": [
    "# Implode is the opposite of explode, and aggregates values into lists\n",
    "\n",
    "pokemon.head(3).select(\n",
    "    pl.all().implode(),\n",
    ")"
   ]
  },
  {
   "attachments": {},
   "cell_type": "markdown",
   "metadata": {},
   "source": [
    "#### Conversion between structs and lists"
   ]
  },
  {
   "cell_type": "code",
   "execution_count": 43,
   "metadata": {},
   "outputs": [
    {
     "data": {
      "text/html": [
       "<div><style>\n",
       ".dataframe > thead > tr,\n",
       ".dataframe > tbody > tr {\n",
       "  text-align: right;\n",
       "  white-space: pre-wrap;\n",
       "}\n",
       "</style>\n",
       "<small>shape: (5, 2)</small><table border=\"1\" class=\"dataframe\"><thead><tr><th>name</th><th>type_is_legendary</th></tr><tr><td>str</td><td>struct[2]</td></tr></thead><tbody><tr><td>&quot;Bulbasaur&quot;</td><td>{&quot;grass&quot;,0}</td></tr><tr><td>&quot;Ivysaur&quot;</td><td>{&quot;grass&quot;,0}</td></tr><tr><td>&quot;Venusaur&quot;</td><td>{&quot;grass&quot;,0}</td></tr><tr><td>&quot;Charmander&quot;</td><td>{&quot;fire&quot;,0}</td></tr><tr><td>&quot;Charmeleon&quot;</td><td>{&quot;fire&quot;,0}</td></tr></tbody></table></div>"
      ],
      "text/plain": [
       "shape: (5, 2)\n",
       "┌────────────┬───────────────────┐\n",
       "│ name       ┆ type_is_legendary │\n",
       "│ ---        ┆ ---               │\n",
       "│ str        ┆ struct[2]         │\n",
       "╞════════════╪═══════════════════╡\n",
       "│ Bulbasaur  ┆ {\"grass\",0}       │\n",
       "│ Ivysaur    ┆ {\"grass\",0}       │\n",
       "│ Venusaur   ┆ {\"grass\",0}       │\n",
       "│ Charmander ┆ {\"fire\",0}        │\n",
       "│ Charmeleon ┆ {\"fire\",0}        │\n",
       "└────────────┴───────────────────┘"
      ]
     },
     "execution_count": 43,
     "metadata": {},
     "output_type": "execute_result"
    }
   ],
   "source": [
    "# Combine type 1 and type 2 in a new struct column\n",
    "\n",
    "pokemon.select(\n",
    "    'name',\n",
    "    type_is_legendary = pl.struct('type1', 'is_legendary')\n",
    ").head(5)"
   ]
  },
  {
   "cell_type": "code",
   "execution_count": 44,
   "metadata": {},
   "outputs": [
    {
     "data": {
      "text/plain": [
       "OrderedDict([('name', Utf8),\n",
       "             ('type_is_legendary',\n",
       "              Struct([Field('type1', Utf8), Field('is_legendary', Int64)]))])"
      ]
     },
     "execution_count": 44,
     "metadata": {},
     "output_type": "execute_result"
    }
   ],
   "source": [
    "# The struct column retains the type information of each initial column:\n",
    "# Struct are views on the initial columns so the data is not copied\n",
    "# The table schema shows that the names of the initial columns are retained \n",
    "\n",
    "pokemon.select(\n",
    "    'name',\n",
    "    type_is_legendary = pl.struct('type1', 'is_legendary')\n",
    ").schema"
   ]
  },
  {
   "cell_type": "code",
   "execution_count": 47,
   "metadata": {},
   "outputs": [
    {
     "data": {
      "text/html": [
       "<div><style>\n",
       ".dataframe > thead > tr,\n",
       ".dataframe > tbody > tr {\n",
       "  text-align: right;\n",
       "  white-space: pre-wrap;\n",
       "}\n",
       "</style>\n",
       "<small>shape: (5, 2)</small><table border=\"1\" class=\"dataframe\"><thead><tr><th>name</th><th>types</th></tr><tr><td>str</td><td>list[str]</td></tr></thead><tbody><tr><td>&quot;Bulbasaur&quot;</td><td>[&quot;grass&quot;, &quot;poison&quot;]</td></tr><tr><td>&quot;Ivysaur&quot;</td><td>[&quot;grass&quot;, &quot;poison&quot;]</td></tr><tr><td>&quot;Venusaur&quot;</td><td>[&quot;grass&quot;, &quot;poison&quot;]</td></tr><tr><td>&quot;Charmander&quot;</td><td>[&quot;fire&quot;, null]</td></tr><tr><td>&quot;Charmeleon&quot;</td><td>[&quot;fire&quot;, null]</td></tr></tbody></table></div>"
      ],
      "text/plain": [
       "shape: (5, 2)\n",
       "┌────────────┬─────────────────────┐\n",
       "│ name       ┆ types               │\n",
       "│ ---        ┆ ---                 │\n",
       "│ str        ┆ list[str]           │\n",
       "╞════════════╪═════════════════════╡\n",
       "│ Bulbasaur  ┆ [\"grass\", \"poison\"] │\n",
       "│ Ivysaur    ┆ [\"grass\", \"poison\"] │\n",
       "│ Venusaur   ┆ [\"grass\", \"poison\"] │\n",
       "│ Charmander ┆ [\"fire\", null]      │\n",
       "│ Charmeleon ┆ [\"fire\", null]      │\n",
       "└────────────┴─────────────────────┘"
      ]
     },
     "execution_count": 47,
     "metadata": {},
     "output_type": "execute_result"
    }
   ],
   "source": [
    "# Combine type 1 and type 2 in a new list column\n",
    "\n",
    "pokemon.select(\n",
    "    'name',\n",
    "    types = pl.concat_list('type1', 'type2')\n",
    ").head(5)"
   ]
  },
  {
   "cell_type": "code",
   "execution_count": null,
   "metadata": {},
   "outputs": [
    {
     "data": {
      "text/plain": [
       "{'name': Utf8, 'types': List(Utf8)}"
      ]
     },
     "execution_count": 39,
     "metadata": {},
     "output_type": "execute_result"
    }
   ],
   "source": [
    "# List columns do not retain the name of the initial columns\n",
    "# In List columns, each row can have a different number of elements differently from Struct columns\n",
    "# where each row has the same number of elements\n",
    "\n",
    "pokemon.select(\n",
    "    'name',\n",
    "    types = pl.concat_list('type1', 'type2')\n",
    ").schema"
   ]
  },
  {
   "cell_type": "code",
   "execution_count": 48,
   "metadata": {},
   "outputs": [
    {
     "data": {
      "text/html": [
       "<div><style>\n",
       ".dataframe > thead > tr,\n",
       ".dataframe > tbody > tr {\n",
       "  text-align: right;\n",
       "  white-space: pre-wrap;\n",
       "}\n",
       "</style>\n",
       "<small>shape: (5, 3)</small><table border=\"1\" class=\"dataframe\"><thead><tr><th>name</th><th>type1</th><th>is_legendary</th></tr><tr><td>str</td><td>str</td><td>i64</td></tr></thead><tbody><tr><td>&quot;Bulbasaur&quot;</td><td>&quot;grass&quot;</td><td>0</td></tr><tr><td>&quot;Ivysaur&quot;</td><td>&quot;grass&quot;</td><td>0</td></tr><tr><td>&quot;Venusaur&quot;</td><td>&quot;grass&quot;</td><td>0</td></tr><tr><td>&quot;Charmander&quot;</td><td>&quot;fire&quot;</td><td>0</td></tr><tr><td>&quot;Charmeleon&quot;</td><td>&quot;fire&quot;</td><td>0</td></tr></tbody></table></div>"
      ],
      "text/plain": [
       "shape: (5, 3)\n",
       "┌────────────┬───────┬──────────────┐\n",
       "│ name       ┆ type1 ┆ is_legendary │\n",
       "│ ---        ┆ ---   ┆ ---          │\n",
       "│ str        ┆ str   ┆ i64          │\n",
       "╞════════════╪═══════╪══════════════╡\n",
       "│ Bulbasaur  ┆ grass ┆ 0            │\n",
       "│ Ivysaur    ┆ grass ┆ 0            │\n",
       "│ Venusaur   ┆ grass ┆ 0            │\n",
       "│ Charmander ┆ fire  ┆ 0            │\n",
       "│ Charmeleon ┆ fire  ┆ 0            │\n",
       "└────────────┴───────┴──────────────┘"
      ]
     },
     "execution_count": 48,
     "metadata": {},
     "output_type": "execute_result"
    }
   ],
   "source": [
    "pokemon.select(\n",
    "    'name',\n",
    "    type_is_legendary = pl.struct('type1', 'is_legendary')\n",
    ").unnest('type_is_legendary').head(5)"
   ]
  },
  {
   "cell_type": "code",
   "execution_count": 49,
   "metadata": {},
   "outputs": [
    {
     "data": {
      "text/html": [
       "<div><style>\n",
       ".dataframe > thead > tr,\n",
       ".dataframe > tbody > tr {\n",
       "  text-align: right;\n",
       "  white-space: pre-wrap;\n",
       "}\n",
       "</style>\n",
       "<small>shape: (5, 1)</small><table border=\"1\" class=\"dataframe\"><thead><tr><th>abilities</th></tr><tr><td>struct[6]</td></tr></thead><tbody><tr><td>{&quot;Overgrow&quot;,&quot;Chlorophyll&quot;,null,null,null,null}</td></tr><tr><td>{&quot;Overgrow&quot;,&quot;Chlorophyll&quot;,null,null,null,null}</td></tr><tr><td>{&quot;Overgrow&quot;,&quot;Chlorophyll&quot;,null,null,null,null}</td></tr><tr><td>{&quot;Blaze&quot;,&quot;Solar Power&quot;,null,null,null,null}</td></tr><tr><td>{&quot;Blaze&quot;,&quot;Solar Power&quot;,null,null,null,null}</td></tr></tbody></table></div>"
      ],
      "text/plain": [
       "shape: (5, 1)\n",
       "┌─────────────────────────────────┐\n",
       "│ abilities                       │\n",
       "│ ---                             │\n",
       "│ struct[6]                       │\n",
       "╞═════════════════════════════════╡\n",
       "│ {\"Overgrow\",\"Chlorophyll\",null… │\n",
       "│ {\"Overgrow\",\"Chlorophyll\",null… │\n",
       "│ {\"Overgrow\",\"Chlorophyll\",null… │\n",
       "│ {\"Blaze\",\"Solar Power\",null,nu… │\n",
       "│ {\"Blaze\",\"Solar Power\",null,nu… │\n",
       "└─────────────────────────────────┘"
      ]
     },
     "execution_count": 49,
     "metadata": {},
     "output_type": "execute_result"
    }
   ],
   "source": [
    "# List columns can be converted to a struct\n",
    "# If number of elements are not the same, then the missing values are filled with null\n",
    "\n",
    "pokemon.select(\n",
    "    pl.col('abilities').list.to_struct(n_field_strategy = 'max_width')\n",
    ").head(5)"
   ]
  },
  {
   "cell_type": "code",
   "execution_count": 50,
   "metadata": {},
   "outputs": [
    {
     "data": {
      "text/plain": [
       "OrderedDict([('abilities',\n",
       "              Struct([Field('field_0', Utf8), Field('field_1', Utf8), Field('field_2', Utf8), Field('field_3', Utf8), Field('field_4', Utf8), Field('field_5', Utf8)]))])"
      ]
     },
     "execution_count": 50,
     "metadata": {},
     "output_type": "execute_result"
    }
   ],
   "source": [
    "# By default, the fields inside of the struct are called field_0, field_1, etc.\n",
    "\n",
    "pokemon.select(\n",
    "    pl.col('abilities').list.to_struct(n_field_strategy = 'max_width')\n",
    ").schema"
   ]
  },
  {
   "cell_type": "code",
   "execution_count": 51,
   "metadata": {},
   "outputs": [
    {
     "data": {
      "text/plain": [
       "OrderedDict([('abilities',\n",
       "              Struct([Field('ability_0', Utf8), Field('ability_1', Utf8), Field('ability_2', Utf8), Field('ability_3', Utf8), Field('ability_4', Utf8), Field('ability_5', Utf8)]))])"
      ]
     },
     "execution_count": 51,
     "metadata": {},
     "output_type": "execute_result"
    }
   ],
   "source": [
    "# It's possible to change the name with the argument fields, for example calling them ability_0, ability_1, etc.\n",
    "\n",
    "pokemon.select(\n",
    "    pl.col('abilities')\n",
    "    .list.to_struct(n_field_strategy = 'max_width', fields = lambda i: f'ability_{i}')\n",
    ").schema"
   ]
  },
  {
   "cell_type": "code",
   "execution_count": 53,
   "metadata": {},
   "outputs": [
    {
     "data": {
      "text/html": [
       "<div><style>\n",
       ".dataframe > thead > tr,\n",
       ".dataframe > tbody > tr {\n",
       "  text-align: right;\n",
       "  white-space: pre-wrap;\n",
       "}\n",
       "</style>\n",
       "<small>shape: (5, 7)</small><table border=\"1\" class=\"dataframe\"><thead><tr><th>name</th><th>ability_0</th><th>ability_1</th><th>ability_2</th><th>ability_3</th><th>ability_4</th><th>ability_5</th></tr><tr><td>str</td><td>str</td><td>str</td><td>str</td><td>str</td><td>str</td><td>str</td></tr></thead><tbody><tr><td>&quot;Bulbasaur&quot;</td><td>&quot;Overgrow&quot;</td><td>&quot;Chlorophyll&quot;</td><td>null</td><td>null</td><td>null</td><td>null</td></tr><tr><td>&quot;Ivysaur&quot;</td><td>&quot;Overgrow&quot;</td><td>&quot;Chlorophyll&quot;</td><td>null</td><td>null</td><td>null</td><td>null</td></tr><tr><td>&quot;Venusaur&quot;</td><td>&quot;Overgrow&quot;</td><td>&quot;Chlorophyll&quot;</td><td>null</td><td>null</td><td>null</td><td>null</td></tr><tr><td>&quot;Charmander&quot;</td><td>&quot;Blaze&quot;</td><td>&quot;Solar Power&quot;</td><td>null</td><td>null</td><td>null</td><td>null</td></tr><tr><td>&quot;Charmeleon&quot;</td><td>&quot;Blaze&quot;</td><td>&quot;Solar Power&quot;</td><td>null</td><td>null</td><td>null</td><td>null</td></tr></tbody></table></div>"
      ],
      "text/plain": [
       "shape: (5, 7)\n",
       "┌────────────┬───────────┬─────────────┬───────────┬───────────┬───────────┬───────────┐\n",
       "│ name       ┆ ability_0 ┆ ability_1   ┆ ability_2 ┆ ability_3 ┆ ability_4 ┆ ability_5 │\n",
       "│ ---        ┆ ---       ┆ ---         ┆ ---       ┆ ---       ┆ ---       ┆ ---       │\n",
       "│ str        ┆ str       ┆ str         ┆ str       ┆ str       ┆ str       ┆ str       │\n",
       "╞════════════╪═══════════╪═════════════╪═══════════╪═══════════╪═══════════╪═══════════╡\n",
       "│ Bulbasaur  ┆ Overgrow  ┆ Chlorophyll ┆ null      ┆ null      ┆ null      ┆ null      │\n",
       "│ Ivysaur    ┆ Overgrow  ┆ Chlorophyll ┆ null      ┆ null      ┆ null      ┆ null      │\n",
       "│ Venusaur   ┆ Overgrow  ┆ Chlorophyll ┆ null      ┆ null      ┆ null      ┆ null      │\n",
       "│ Charmander ┆ Blaze     ┆ Solar Power ┆ null      ┆ null      ┆ null      ┆ null      │\n",
       "│ Charmeleon ┆ Blaze     ┆ Solar Power ┆ null      ┆ null      ┆ null      ┆ null      │\n",
       "└────────────┴───────────┴─────────────┴───────────┴───────────┴───────────┴───────────┘"
      ]
     },
     "execution_count": 53,
     "metadata": {},
     "output_type": "execute_result"
    }
   ],
   "source": [
    "# We can un-nest struct columns and expand them into multiple columns\n",
    "\n",
    "pokemon.select(\n",
    "    'name',\n",
    "    pl.col('abilities')\n",
    "    .list.to_struct(n_field_strategy = 'max_width', fields = lambda i: f'ability_{i}')\n",
    ").unnest('abilities').head(5)"
   ]
  },
  {
   "attachments": {},
   "cell_type": "markdown",
   "metadata": {},
   "source": [
    "#### Advanced reshaping: Pivot, Melt, Unstack and Transpose"
   ]
  },
  {
   "cell_type": "code",
   "execution_count": 55,
   "metadata": {},
   "outputs": [
    {
     "data": {
      "text/html": [
       "<div><style>\n",
       ".dataframe > thead > tr,\n",
       ".dataframe > tbody > tr {\n",
       "  text-align: right;\n",
       "  white-space: pre-wrap;\n",
       "}\n",
       "</style>\n",
       "<small>shape: (5, 5)</small><table border=\"1\" class=\"dataframe\"><thead><tr><th>type1</th><th>poison</th><th>null</th><th>flying</th><th>dark</th></tr><tr><td>str</td><td>u32</td><td>u32</td><td>u32</td><td>u32</td></tr></thead><tbody><tr><td>&quot;grass&quot;</td><td>3</td><td>null</td><td>null</td><td>null</td></tr><tr><td>&quot;fire&quot;</td><td>null</td><td>2</td><td>1</td><td>null</td></tr><tr><td>&quot;water&quot;</td><td>null</td><td>3</td><td>null</td><td>null</td></tr><tr><td>&quot;bug&quot;</td><td>3</td><td>2</td><td>1</td><td>null</td></tr><tr><td>&quot;normal&quot;</td><td>null</td><td>null</td><td>3</td><td>2</td></tr></tbody></table></div>"
      ],
      "text/plain": [
       "shape: (5, 5)\n",
       "┌────────┬────────┬──────┬────────┬──────┐\n",
       "│ type1  ┆ poison ┆ null ┆ flying ┆ dark │\n",
       "│ ---    ┆ ---    ┆ ---  ┆ ---    ┆ ---  │\n",
       "│ str    ┆ u32    ┆ u32  ┆ u32    ┆ u32  │\n",
       "╞════════╪════════╪══════╪════════╪══════╡\n",
       "│ grass  ┆ 3      ┆ null ┆ null   ┆ null │\n",
       "│ fire   ┆ null   ┆ 2    ┆ 1      ┆ null │\n",
       "│ water  ┆ null   ┆ 3    ┆ null   ┆ null │\n",
       "│ bug    ┆ 3      ┆ 2    ┆ 1      ┆ null │\n",
       "│ normal ┆ null   ┆ null ┆ 3      ┆ 2    │\n",
       "└────────┴────────┴──────┴────────┴──────┘"
      ]
     },
     "execution_count": 55,
     "metadata": {},
     "output_type": "execute_result"
    }
   ],
   "source": [
    "# Pivot type 2 to the columns and count the number of pokemons for each type 1 and type 2 combination\n",
    "\n",
    "pokemon.head(20).pivot(\n",
    "    values = 'name',\n",
    "    index = 'type1',\n",
    "    columns = 'type2',\n",
    "    aggregate_function=pl.element().count()\n",
    ")\n"
   ]
  },
  {
   "cell_type": "code",
   "execution_count": null,
   "metadata": {},
   "outputs": [
    {
     "data": {
      "text/html": [
       "<div><style>\n",
       ".dataframe > thead > tr > th,\n",
       ".dataframe > tbody > tr > td {\n",
       "  text-align: right;\n",
       "  white-space: pre-wrap;\n",
       "}\n",
       "</style>\n",
       "<small>shape: (6, 5)</small><table border=\"1\" class=\"dataframe\"><thead><tr><th>name</th><th>type1</th><th>type2</th><th>stat</th><th>value</th></tr><tr><td>str</td><td>str</td><td>str</td><td>str</td><td>i64</td></tr></thead><tbody><tr><td>&quot;Abomasnow&quot;</td><td>&quot;grass&quot;</td><td>&quot;ice&quot;</td><td>&quot;hp&quot;</td><td>90</td></tr><tr><td>&quot;Abomasnow&quot;</td><td>&quot;grass&quot;</td><td>&quot;ice&quot;</td><td>&quot;attack&quot;</td><td>132</td></tr><tr><td>&quot;Abomasnow&quot;</td><td>&quot;grass&quot;</td><td>&quot;ice&quot;</td><td>&quot;defense&quot;</td><td>105</td></tr><tr><td>&quot;Abra&quot;</td><td>&quot;psychic&quot;</td><td>null</td><td>&quot;hp&quot;</td><td>25</td></tr><tr><td>&quot;Abra&quot;</td><td>&quot;psychic&quot;</td><td>null</td><td>&quot;attack&quot;</td><td>20</td></tr><tr><td>&quot;Abra&quot;</td><td>&quot;psychic&quot;</td><td>null</td><td>&quot;defense&quot;</td><td>15</td></tr></tbody></table></div>"
      ],
      "text/plain": [
       "shape: (6, 5)\n",
       "┌───────────┬─────────┬───────┬─────────┬───────┐\n",
       "│ name      ┆ type1   ┆ type2 ┆ stat    ┆ value │\n",
       "│ ---       ┆ ---     ┆ ---   ┆ ---     ┆ ---   │\n",
       "│ str       ┆ str     ┆ str   ┆ str     ┆ i64   │\n",
       "╞═══════════╪═════════╪═══════╪═════════╪═══════╡\n",
       "│ Abomasnow ┆ grass   ┆ ice   ┆ hp      ┆ 90    │\n",
       "│ Abomasnow ┆ grass   ┆ ice   ┆ attack  ┆ 132   │\n",
       "│ Abomasnow ┆ grass   ┆ ice   ┆ defense ┆ 105   │\n",
       "│ Abra      ┆ psychic ┆ null  ┆ hp      ┆ 25    │\n",
       "│ Abra      ┆ psychic ┆ null  ┆ attack  ┆ 20    │\n",
       "│ Abra      ┆ psychic ┆ null  ┆ defense ┆ 15    │\n",
       "└───────────┴─────────┴───────┴─────────┴───────┘"
      ]
     },
     "execution_count": 45,
     "metadata": {},
     "output_type": "execute_result"
    }
   ],
   "source": [
    "# Melt is the opposite of pivot, it brings the header of multiple columns into one column\n",
    "# and their value in another column\n",
    "\n",
    "pokemon.melt(\n",
    "    id_vars = ['name', 'type1', 'type2'],\n",
    "    value_vars = ['hp','attack', 'defense'],\n",
    "    variable_name = 'stat',\n",
    ").sort(by='name').head(6)"
   ]
  },
  {
   "cell_type": "code",
   "execution_count": 56,
   "metadata": {},
   "outputs": [
    {
     "data": {
      "text/html": [
       "<div><style>\n",
       ".dataframe > thead > tr,\n",
       ".dataframe > tbody > tr {\n",
       "  text-align: right;\n",
       "  white-space: pre-wrap;\n",
       "}\n",
       "</style>\n",
       "<small>shape: (3, 7)</small><table border=\"1\" class=\"dataframe\"><thead><tr><th>name_0</th><th>name_1</th><th>name_2</th><th>attack_0</th><th>attack_1</th><th>attack_2</th><th>level</th></tr><tr><td>str</td><td>str</td><td>str</td><td>i64</td><td>i64</td><td>i64</td><td>i64</td></tr></thead><tbody><tr><td>&quot;Bulbasaur&quot;</td><td>&quot;Charmander&quot;</td><td>&quot;Squirtle&quot;</td><td>49</td><td>52</td><td>48</td><td>1</td></tr><tr><td>&quot;Ivysaur&quot;</td><td>&quot;Charmeleon&quot;</td><td>&quot;Wartortle&quot;</td><td>62</td><td>64</td><td>63</td><td>2</td></tr><tr><td>&quot;Venusaur&quot;</td><td>&quot;Charizard&quot;</td><td>&quot;Blastoise&quot;</td><td>100</td><td>104</td><td>103</td><td>3</td></tr></tbody></table></div>"
      ],
      "text/plain": [
       "shape: (3, 7)\n",
       "┌───────────┬────────────┬───────────┬──────────┬──────────┬──────────┬───────┐\n",
       "│ name_0    ┆ name_1     ┆ name_2    ┆ attack_0 ┆ attack_1 ┆ attack_2 ┆ level │\n",
       "│ ---       ┆ ---        ┆ ---       ┆ ---      ┆ ---      ┆ ---      ┆ ---   │\n",
       "│ str       ┆ str        ┆ str       ┆ i64      ┆ i64      ┆ i64      ┆ i64   │\n",
       "╞═══════════╪════════════╪═══════════╪══════════╪══════════╪══════════╪═══════╡\n",
       "│ Bulbasaur ┆ Charmander ┆ Squirtle  ┆ 49       ┆ 52       ┆ 48       ┆ 1     │\n",
       "│ Ivysaur   ┆ Charmeleon ┆ Wartortle ┆ 62       ┆ 64       ┆ 63       ┆ 2     │\n",
       "│ Venusaur  ┆ Charizard  ┆ Blastoise ┆ 100      ┆ 104      ┆ 103      ┆ 3     │\n",
       "└───────────┴────────────┴───────────┴──────────┴──────────┴──────────┴───────┘"
      ]
     },
     "execution_count": 56,
     "metadata": {},
     "output_type": "execute_result"
    }
   ],
   "source": [
    "# Unstack breaks the dataframe into multiple groups of the same size \n",
    "# and moves these groups to new columns\n",
    "# Here we split the dataframe into groups of 3, and add a column with the level of the pokemon\n",
    "\n",
    "(\n",
    "    pokemon.select('name', 'attack').head(9)\n",
    "    .unstack(columns = ['name', 'attack'], step=3, how=\"vertical\")\n",
    "    .with_columns(\n",
    "        level = pl.int_range(1,4)\n",
    "        )\n",
    ")"
   ]
  },
  {
   "cell_type": "code",
   "execution_count": 60,
   "metadata": {},
   "outputs": [
    {
     "data": {
      "text/html": [
       "<div><style>\n",
       ".dataframe > thead > tr,\n",
       ".dataframe > tbody > tr {\n",
       "  text-align: right;\n",
       "  white-space: pre-wrap;\n",
       "}\n",
       "</style>\n",
       "<small>shape: (3, 4)</small><table border=\"1\" class=\"dataframe\"><thead><tr><th>column</th><th>column_0</th><th>column_1</th><th>column_2</th></tr><tr><td>str</td><td>str</td><td>str</td><td>str</td></tr></thead><tbody><tr><td>&quot;name&quot;</td><td>&quot;Bulbasaur&quot;</td><td>&quot;Ivysaur&quot;</td><td>&quot;Venusaur&quot;</td></tr><tr><td>&quot;type1&quot;</td><td>&quot;grass&quot;</td><td>&quot;grass&quot;</td><td>&quot;grass&quot;</td></tr><tr><td>&quot;attack&quot;</td><td>&quot;49&quot;</td><td>&quot;62&quot;</td><td>&quot;100&quot;</td></tr></tbody></table></div>"
      ],
      "text/plain": [
       "shape: (3, 4)\n",
       "┌────────┬───────────┬──────────┬──────────┐\n",
       "│ column ┆ column_0  ┆ column_1 ┆ column_2 │\n",
       "│ ---    ┆ ---       ┆ ---      ┆ ---      │\n",
       "│ str    ┆ str       ┆ str      ┆ str      │\n",
       "╞════════╪═══════════╪══════════╪══════════╡\n",
       "│ name   ┆ Bulbasaur ┆ Ivysaur  ┆ Venusaur │\n",
       "│ type1  ┆ grass     ┆ grass    ┆ grass    │\n",
       "│ attack ┆ 49        ┆ 62       ┆ 100      │\n",
       "└────────┴───────────┴──────────┴──────────┘"
      ]
     },
     "execution_count": 60,
     "metadata": {},
     "output_type": "execute_result"
    }
   ],
   "source": [
    "# Transpose inverses the rows and columns of a dataframe\n",
    "# It's a computationally expensive operation, so it should be used only if no other option is available\n",
    "\n",
    "pokemon.head(3).select(\n",
    "    'name', 'type1', 'attack'\n",
    "    ).transpose(include_header= True)"
   ]
  },
  {
   "attachments": {},
   "cell_type": "markdown",
   "metadata": {},
   "source": [
    "#### Merge DataFrames: hstack, vstack, extend, concat, join"
   ]
  },
  {
   "cell_type": "code",
   "execution_count": 61,
   "metadata": {},
   "outputs": [
    {
     "data": {
      "text/html": [
       "<div><style>\n",
       ".dataframe > thead > tr,\n",
       ".dataframe > tbody > tr {\n",
       "  text-align: right;\n",
       "  white-space: pre-wrap;\n",
       "}\n",
       "</style>\n",
       "<small>shape: (6, 5)</small><table border=\"1\" class=\"dataframe\"><thead><tr><th>name</th><th>type1</th><th>type2</th><th>abilities</th><th>color</th></tr><tr><td>str</td><td>str</td><td>str</td><td>list[str]</td><td>str</td></tr></thead><tbody><tr><td>&quot;Bulbasaur&quot;</td><td>&quot;grass&quot;</td><td>&quot;poison&quot;</td><td>[&quot;Overgrow&quot;, &quot;Chlorophyll&quot;]</td><td>&quot;green&quot;</td></tr><tr><td>&quot;Ivysaur&quot;</td><td>&quot;grass&quot;</td><td>&quot;poison&quot;</td><td>[&quot;Overgrow&quot;, &quot;Chlorophyll&quot;]</td><td>&quot;green&quot;</td></tr><tr><td>&quot;Venusaur&quot;</td><td>&quot;grass&quot;</td><td>&quot;poison&quot;</td><td>[&quot;Overgrow&quot;, &quot;Chlorophyll&quot;]</td><td>&quot;green&quot;</td></tr><tr><td>&quot;Charmander&quot;</td><td>&quot;fire&quot;</td><td>null</td><td>[&quot;Blaze&quot;, &quot;Solar Power&quot;]</td><td>&quot;red&quot;</td></tr><tr><td>&quot;Charmeleon&quot;</td><td>&quot;fire&quot;</td><td>null</td><td>[&quot;Blaze&quot;, &quot;Solar Power&quot;]</td><td>&quot;red&quot;</td></tr><tr><td>&quot;Charizard&quot;</td><td>&quot;fire&quot;</td><td>&quot;flying&quot;</td><td>[&quot;Blaze&quot;, &quot;Solar Power&quot;]</td><td>&quot;red&quot;</td></tr></tbody></table></div>"
      ],
      "text/plain": [
       "shape: (6, 5)\n",
       "┌────────────┬───────┬────────┬─────────────────────────────┬───────┐\n",
       "│ name       ┆ type1 ┆ type2  ┆ abilities                   ┆ color │\n",
       "│ ---        ┆ ---   ┆ ---    ┆ ---                         ┆ ---   │\n",
       "│ str        ┆ str   ┆ str    ┆ list[str]                   ┆ str   │\n",
       "╞════════════╪═══════╪════════╪═════════════════════════════╪═══════╡\n",
       "│ Bulbasaur  ┆ grass ┆ poison ┆ [\"Overgrow\", \"Chlorophyll\"] ┆ green │\n",
       "│ Ivysaur    ┆ grass ┆ poison ┆ [\"Overgrow\", \"Chlorophyll\"] ┆ green │\n",
       "│ Venusaur   ┆ grass ┆ poison ┆ [\"Overgrow\", \"Chlorophyll\"] ┆ green │\n",
       "│ Charmander ┆ fire  ┆ null   ┆ [\"Blaze\", \"Solar Power\"]    ┆ red   │\n",
       "│ Charmeleon ┆ fire  ┆ null   ┆ [\"Blaze\", \"Solar Power\"]    ┆ red   │\n",
       "│ Charizard  ┆ fire  ┆ flying ┆ [\"Blaze\", \"Solar Power\"]    ┆ red   │\n",
       "└────────────┴───────┴────────┴─────────────────────────────┴───────┘"
      ]
     },
     "execution_count": 61,
     "metadata": {},
     "output_type": "execute_result"
    }
   ],
   "source": [
    "# Horizontally stack 2 dataframes\n",
    "# We have a new dataframe with the pokemon color\n",
    "\n",
    "pokemon_color = pl.DataFrame({\n",
    "    'color': ['green', 'green', 'green', 'red', 'red', 'red']\n",
    "})\n",
    "\n",
    "pokemon.select('name','type1','type2','abilities').head(6).hstack(pokemon_color)"
   ]
  },
  {
   "cell_type": "code",
   "execution_count": 62,
   "metadata": {},
   "outputs": [
    {
     "data": {
      "text/html": [
       "<div><style>\n",
       ".dataframe > thead > tr,\n",
       ".dataframe > tbody > tr {\n",
       "  text-align: right;\n",
       "  white-space: pre-wrap;\n",
       "}\n",
       "</style>\n",
       "<small>shape: (5, 4)</small><table border=\"1\" class=\"dataframe\"><thead><tr><th>name</th><th>type1</th><th>type2</th><th>abilities</th></tr><tr><td>str</td><td>str</td><td>str</td><td>list[str]</td></tr></thead><tbody><tr><td>&quot;Kartana&quot;</td><td>&quot;grass&quot;</td><td>&quot;steel&quot;</td><td>[&quot;Beast Boost&quot;]</td></tr><tr><td>&quot;Guzzlord&quot;</td><td>&quot;dark&quot;</td><td>&quot;dragon&quot;</td><td>[&quot;Beast Boost&quot;]</td></tr><tr><td>&quot;Necrozma&quot;</td><td>&quot;psychic&quot;</td><td>null</td><td>[&quot;Prism Armor&quot;]</td></tr><tr><td>&quot;Magearna&quot;</td><td>&quot;steel&quot;</td><td>&quot;fairy&quot;</td><td>[&quot;Soul-Heart&quot;]</td></tr><tr><td>&quot;Polarizard&quot;</td><td>&quot;ice&quot;</td><td>&quot;flying&quot;</td><td>[&quot;snow warning&quot;, &quot;blaze&quot;]</td></tr></tbody></table></div>"
      ],
      "text/plain": [
       "shape: (5, 4)\n",
       "┌────────────┬─────────┬────────┬───────────────────────────┐\n",
       "│ name       ┆ type1   ┆ type2  ┆ abilities                 │\n",
       "│ ---        ┆ ---     ┆ ---    ┆ ---                       │\n",
       "│ str        ┆ str     ┆ str    ┆ list[str]                 │\n",
       "╞════════════╪═════════╪════════╪═══════════════════════════╡\n",
       "│ Kartana    ┆ grass   ┆ steel  ┆ [\"Beast Boost\"]           │\n",
       "│ Guzzlord   ┆ dark    ┆ dragon ┆ [\"Beast Boost\"]           │\n",
       "│ Necrozma   ┆ psychic ┆ null   ┆ [\"Prism Armor\"]           │\n",
       "│ Magearna   ┆ steel   ┆ fairy  ┆ [\"Soul-Heart\"]            │\n",
       "│ Polarizard ┆ ice     ┆ flying ┆ [\"snow warning\", \"blaze\"] │\n",
       "└────────────┴─────────┴────────┴───────────────────────────┘"
      ]
     },
     "execution_count": 62,
     "metadata": {},
     "output_type": "execute_result"
    }
   ],
   "source": [
    "# Vertically stack 2 dataframes\n",
    "# We have a new dataframe with a new pokemon\n",
    "\n",
    "new_pokemon = pl.DataFrame({\n",
    "    'name': ['Polarizard'],\n",
    "    'type1': ['ice'],\n",
    "    'type2': ['flying'],\n",
    "    'abilities': [['snow warning', 'blaze']]\n",
    "})\n",
    "\n",
    "pokemon.select('name','type1','type2','abilities').vstack(new_pokemon).tail(5)"
   ]
  },
  {
   "cell_type": "code",
   "execution_count": 63,
   "metadata": {},
   "outputs": [
    {
     "data": {
      "text/html": [
       "<div><style>\n",
       ".dataframe > thead > tr,\n",
       ".dataframe > tbody > tr {\n",
       "  text-align: right;\n",
       "  white-space: pre-wrap;\n",
       "}\n",
       "</style>\n",
       "<small>shape: (5, 4)</small><table border=\"1\" class=\"dataframe\"><thead><tr><th>name</th><th>type1</th><th>type2</th><th>abilities</th></tr><tr><td>str</td><td>str</td><td>str</td><td>list[str]</td></tr></thead><tbody><tr><td>&quot;Kartana&quot;</td><td>&quot;grass&quot;</td><td>&quot;steel&quot;</td><td>[&quot;Beast Boost&quot;]</td></tr><tr><td>&quot;Guzzlord&quot;</td><td>&quot;dark&quot;</td><td>&quot;dragon&quot;</td><td>[&quot;Beast Boost&quot;]</td></tr><tr><td>&quot;Necrozma&quot;</td><td>&quot;psychic&quot;</td><td>null</td><td>[&quot;Prism Armor&quot;]</td></tr><tr><td>&quot;Magearna&quot;</td><td>&quot;steel&quot;</td><td>&quot;fairy&quot;</td><td>[&quot;Soul-Heart&quot;]</td></tr><tr><td>&quot;Polarizard&quot;</td><td>&quot;ice&quot;</td><td>&quot;flying&quot;</td><td>[&quot;snow warning&quot;, &quot;blaze&quot;]</td></tr></tbody></table></div>"
      ],
      "text/plain": [
       "shape: (5, 4)\n",
       "┌────────────┬─────────┬────────┬───────────────────────────┐\n",
       "│ name       ┆ type1   ┆ type2  ┆ abilities                 │\n",
       "│ ---        ┆ ---     ┆ ---    ┆ ---                       │\n",
       "│ str        ┆ str     ┆ str    ┆ list[str]                 │\n",
       "╞════════════╪═════════╪════════╪═══════════════════════════╡\n",
       "│ Kartana    ┆ grass   ┆ steel  ┆ [\"Beast Boost\"]           │\n",
       "│ Guzzlord   ┆ dark    ┆ dragon ┆ [\"Beast Boost\"]           │\n",
       "│ Necrozma   ┆ psychic ┆ null   ┆ [\"Prism Armor\"]           │\n",
       "│ Magearna   ┆ steel   ┆ fairy  ┆ [\"Soul-Heart\"]            │\n",
       "│ Polarizard ┆ ice     ┆ flying ┆ [\"snow warning\", \"blaze\"] │\n",
       "└────────────┴─────────┴────────┴───────────────────────────┘"
      ]
     },
     "execution_count": 63,
     "metadata": {},
     "output_type": "execute_result"
    }
   ],
   "source": [
    "# Extend is similar to vstack, but it copies the data instead of referencing it\n",
    "\n",
    "pokemon.select('name','type1','type2','abilities').extend(new_pokemon).tail(5)"
   ]
  },
  {
   "cell_type": "code",
   "execution_count": 64,
   "metadata": {},
   "outputs": [
    {
     "data": {
      "text/html": [
       "<div><style>\n",
       ".dataframe > thead > tr,\n",
       ".dataframe > tbody > tr {\n",
       "  text-align: right;\n",
       "  white-space: pre-wrap;\n",
       "}\n",
       "</style>\n",
       "<small>shape: (5, 4)</small><table border=\"1\" class=\"dataframe\"><thead><tr><th>name</th><th>type1</th><th>type2</th><th>abilities</th></tr><tr><td>str</td><td>str</td><td>str</td><td>list[str]</td></tr></thead><tbody><tr><td>&quot;Kartana&quot;</td><td>&quot;grass&quot;</td><td>&quot;steel&quot;</td><td>[&quot;Beast Boost&quot;]</td></tr><tr><td>&quot;Guzzlord&quot;</td><td>&quot;dark&quot;</td><td>&quot;dragon&quot;</td><td>[&quot;Beast Boost&quot;]</td></tr><tr><td>&quot;Necrozma&quot;</td><td>&quot;psychic&quot;</td><td>null</td><td>[&quot;Prism Armor&quot;]</td></tr><tr><td>&quot;Magearna&quot;</td><td>&quot;steel&quot;</td><td>&quot;fairy&quot;</td><td>[&quot;Soul-Heart&quot;]</td></tr><tr><td>&quot;Polarizard&quot;</td><td>&quot;ice&quot;</td><td>&quot;flying&quot;</td><td>[&quot;snow warning&quot;, &quot;blaze&quot;]</td></tr></tbody></table></div>"
      ],
      "text/plain": [
       "shape: (5, 4)\n",
       "┌────────────┬─────────┬────────┬───────────────────────────┐\n",
       "│ name       ┆ type1   ┆ type2  ┆ abilities                 │\n",
       "│ ---        ┆ ---     ┆ ---    ┆ ---                       │\n",
       "│ str        ┆ str     ┆ str    ┆ list[str]                 │\n",
       "╞════════════╪═════════╪════════╪═══════════════════════════╡\n",
       "│ Kartana    ┆ grass   ┆ steel  ┆ [\"Beast Boost\"]           │\n",
       "│ Guzzlord   ┆ dark    ┆ dragon ┆ [\"Beast Boost\"]           │\n",
       "│ Necrozma   ┆ psychic ┆ null   ┆ [\"Prism Armor\"]           │\n",
       "│ Magearna   ┆ steel   ┆ fairy  ┆ [\"Soul-Heart\"]            │\n",
       "│ Polarizard ┆ ice     ┆ flying ┆ [\"snow warning\", \"blaze\"] │\n",
       "└────────────┴─────────┴────────┴───────────────────────────┘"
      ]
     },
     "execution_count": 64,
     "metadata": {},
     "output_type": "execute_result"
    }
   ],
   "source": [
    "# concat can reproduce both hstack and vstack when rechunk is set to False\n",
    "# when rechunk is set to True, all data is copied to a contiguous memory space which allows it to be faster\n",
    "\n",
    "pl.concat(\n",
    "    [pokemon.select('name','type1','type2','abilities'), new_pokemon],\n",
    "    rechunk = True,\n",
    "    how= 'vertical'\n",
    ").tail(5)"
   ]
  },
  {
   "cell_type": "code",
   "execution_count": 65,
   "metadata": {},
   "outputs": [
    {
     "data": {
      "text/html": [
       "<div><style>\n",
       ".dataframe > thead > tr,\n",
       ".dataframe > tbody > tr {\n",
       "  text-align: right;\n",
       "  white-space: pre-wrap;\n",
       "}\n",
       "</style>\n",
       "<small>shape: (5, 5)</small><table border=\"1\" class=\"dataframe\"><thead><tr><th>name</th><th>type1</th><th>type2</th><th>abilities</th><th>color</th></tr><tr><td>str</td><td>str</td><td>str</td><td>list[str]</td><td>str</td></tr></thead><tbody><tr><td>&quot;Kartana&quot;</td><td>&quot;grass&quot;</td><td>&quot;steel&quot;</td><td>[&quot;Beast Boost&quot;]</td><td>null</td></tr><tr><td>&quot;Guzzlord&quot;</td><td>&quot;dark&quot;</td><td>&quot;dragon&quot;</td><td>[&quot;Beast Boost&quot;]</td><td>null</td></tr><tr><td>&quot;Necrozma&quot;</td><td>&quot;psychic&quot;</td><td>null</td><td>[&quot;Prism Armor&quot;]</td><td>null</td></tr><tr><td>&quot;Magearna&quot;</td><td>&quot;steel&quot;</td><td>&quot;fairy&quot;</td><td>[&quot;Soul-Heart&quot;]</td><td>null</td></tr><tr><td>&quot;Polarizard&quot;</td><td>null</td><td>null</td><td>[&quot;Snow warning&quot;, &quot;Blaze&quot;]</td><td>&quot;white&quot;</td></tr></tbody></table></div>"
      ],
      "text/plain": [
       "shape: (5, 5)\n",
       "┌────────────┬─────────┬────────┬───────────────────────────┬───────┐\n",
       "│ name       ┆ type1   ┆ type2  ┆ abilities                 ┆ color │\n",
       "│ ---        ┆ ---     ┆ ---    ┆ ---                       ┆ ---   │\n",
       "│ str        ┆ str     ┆ str    ┆ list[str]                 ┆ str   │\n",
       "╞════════════╪═════════╪════════╪═══════════════════════════╪═══════╡\n",
       "│ Kartana    ┆ grass   ┆ steel  ┆ [\"Beast Boost\"]           ┆ null  │\n",
       "│ Guzzlord   ┆ dark    ┆ dragon ┆ [\"Beast Boost\"]           ┆ null  │\n",
       "│ Necrozma   ┆ psychic ┆ null   ┆ [\"Prism Armor\"]           ┆ null  │\n",
       "│ Magearna   ┆ steel   ┆ fairy  ┆ [\"Soul-Heart\"]            ┆ null  │\n",
       "│ Polarizard ┆ null    ┆ null   ┆ [\"Snow warning\", \"Blaze\"] ┆ white │\n",
       "└────────────┴─────────┴────────┴───────────────────────────┴───────┘"
      ]
     },
     "execution_count": 65,
     "metadata": {},
     "output_type": "execute_result"
    }
   ],
   "source": [
    "# concat diagonal stacks dataframes diagonally\n",
    "# this means that columns missing from one dataframe are filled with nulls\n",
    "\n",
    "new_pokemon_color = pl.DataFrame({\n",
    "    'name': ['Polarizard'],\n",
    "    'abilities': [['Snow warning', 'Blaze']],\n",
    "    'color': ['white']\n",
    "})\n",
    "\n",
    "pl.concat([\n",
    "    pokemon.select('name','type1','type2','abilities'),\n",
    "    new_pokemon_color\n",
    "    ],\n",
    "    how = 'diagonal'\n",
    ").tail(5)"
   ]
  },
  {
   "cell_type": "code",
   "execution_count": 66,
   "metadata": {},
   "outputs": [
    {
     "data": {
      "text/html": [
       "<div><style>\n",
       ".dataframe > thead > tr,\n",
       ".dataframe > tbody > tr {\n",
       "  text-align: right;\n",
       "  white-space: pre-wrap;\n",
       "}\n",
       "</style>\n",
       "<small>shape: (5, 3)</small><table border=\"1\" class=\"dataframe\"><thead><tr><th>name</th><th>type1</th><th>color</th></tr><tr><td>str</td><td>str</td><td>str</td></tr></thead><tbody><tr><td>&quot;Bulbasaur&quot;</td><td>&quot;grass&quot;</td><td>&quot;green&quot;</td></tr><tr><td>&quot;Charmander&quot;</td><td>&quot;fire&quot;</td><td>&quot;red&quot;</td></tr><tr><td>&quot;Ivysaur&quot;</td><td>&quot;grass&quot;</td><td>null</td></tr><tr><td>&quot;Squirtle&quot;</td><td>null</td><td>&quot;blue&quot;</td></tr><tr><td>&quot;Venusaur&quot;</td><td>&quot;grass&quot;</td><td>null</td></tr></tbody></table></div>"
      ],
      "text/plain": [
       "shape: (5, 3)\n",
       "┌────────────┬───────┬───────┐\n",
       "│ name       ┆ type1 ┆ color │\n",
       "│ ---        ┆ ---   ┆ ---   │\n",
       "│ str        ┆ str   ┆ str   │\n",
       "╞════════════╪═══════╪═══════╡\n",
       "│ Bulbasaur  ┆ grass ┆ green │\n",
       "│ Charmander ┆ fire  ┆ red   │\n",
       "│ Ivysaur    ┆ grass ┆ null  │\n",
       "│ Squirtle   ┆ null  ┆ blue  │\n",
       "│ Venusaur   ┆ grass ┆ null  │\n",
       "└────────────┴───────┴───────┘"
      ]
     },
     "execution_count": 66,
     "metadata": {},
     "output_type": "execute_result"
    }
   ],
   "source": [
    "# concat has another method, which is align.\n",
    "# the align method ensures that the columns of the 2 dataframes are in the same order\n",
    "\n",
    "pokemon_new_order = pl.DataFrame({\n",
    "    'name' : ['Bulbasaur', 'Charmander', 'Squirtle'],\n",
    "    'color': ['green', 'red', 'blue']\n",
    "})\n",
    "\n",
    "pl.concat([\n",
    "    pokemon.select('name','type1',).head(4),\n",
    "    pokemon_new_order\n",
    "], how='align'\n",
    ")"
   ]
  },
  {
   "cell_type": "code",
   "execution_count": 67,
   "metadata": {},
   "outputs": [
    {
     "data": {
      "text/html": [
       "<div><style>\n",
       ".dataframe > thead > tr,\n",
       ".dataframe > tbody > tr {\n",
       "  text-align: right;\n",
       "  white-space: pre-wrap;\n",
       "}\n",
       "</style>\n",
       "<small>shape: (1, 10)</small><table border=\"1\" class=\"dataframe\"><thead><tr><th>name</th><th>type1</th><th>type2</th><th>abilities</th><th>hp</th><th>attack</th><th>defense</th><th>speed</th><th>is_legendary</th><th>color</th></tr><tr><td>str</td><td>str</td><td>str</td><td>list[str]</td><td>i64</td><td>i64</td><td>i64</td><td>i64</td><td>i64</td><td>str</td></tr></thead><tbody><tr><td>&quot;Bulbasaur&quot;</td><td>&quot;grass&quot;</td><td>&quot;poison&quot;</td><td>[&quot;Overgrow&quot;, &quot;Chlorophyll&quot;]</td><td>45</td><td>49</td><td>49</td><td>45</td><td>0</td><td>&quot;green&quot;</td></tr></tbody></table></div>"
      ],
      "text/plain": [
       "shape: (1, 10)\n",
       "┌───────────┬───────┬────────┬────────────────┬───┬─────────┬───────┬──────────────┬───────┐\n",
       "│ name      ┆ type1 ┆ type2  ┆ abilities      ┆ … ┆ defense ┆ speed ┆ is_legendary ┆ color │\n",
       "│ ---       ┆ ---   ┆ ---    ┆ ---            ┆   ┆ ---     ┆ ---   ┆ ---          ┆ ---   │\n",
       "│ str       ┆ str   ┆ str    ┆ list[str]      ┆   ┆ i64     ┆ i64   ┆ i64          ┆ str   │\n",
       "╞═══════════╪═══════╪════════╪════════════════╪═══╪═════════╪═══════╪══════════════╪═══════╡\n",
       "│ Bulbasaur ┆ grass ┆ poison ┆ [\"Overgrow\",   ┆ … ┆ 49      ┆ 45    ┆ 0            ┆ green │\n",
       "│           ┆       ┆        ┆ \"Chlorophyll\"] ┆   ┆         ┆       ┆              ┆       │\n",
       "└───────────┴───────┴────────┴────────────────┴───┴─────────┴───────┴──────────────┴───────┘"
      ]
     },
     "execution_count": 67,
     "metadata": {},
     "output_type": "execute_result"
    }
   ],
   "source": [
    "# join reproduces SQL joins, such as inner, left, outer, semi, anti, cross\n",
    "# inner join keeps only the rows that are present in both dataframes\n",
    "\n",
    "pokemon_new = pl.DataFrame({\n",
    "    'name' : ['Bulbasaur', 'Polarizard'],\n",
    "    'color': ['green', 'white']\n",
    "})\n",
    "\n",
    "pokemon.head(3).join(pokemon_new, on = 'name', how = 'inner')"
   ]
  },
  {
   "cell_type": "code",
   "execution_count": 68,
   "metadata": {},
   "outputs": [
    {
     "data": {
      "text/html": [
       "<div><style>\n",
       ".dataframe > thead > tr,\n",
       ".dataframe > tbody > tr {\n",
       "  text-align: right;\n",
       "  white-space: pre-wrap;\n",
       "}\n",
       "</style>\n",
       "<small>shape: (3, 10)</small><table border=\"1\" class=\"dataframe\"><thead><tr><th>name</th><th>type1</th><th>type2</th><th>abilities</th><th>hp</th><th>attack</th><th>defense</th><th>speed</th><th>is_legendary</th><th>color</th></tr><tr><td>str</td><td>str</td><td>str</td><td>list[str]</td><td>i64</td><td>i64</td><td>i64</td><td>i64</td><td>i64</td><td>str</td></tr></thead><tbody><tr><td>&quot;Bulbasaur&quot;</td><td>&quot;grass&quot;</td><td>&quot;poison&quot;</td><td>[&quot;Overgrow&quot;, &quot;Chlorophyll&quot;]</td><td>45</td><td>49</td><td>49</td><td>45</td><td>0</td><td>&quot;green&quot;</td></tr><tr><td>&quot;Ivysaur&quot;</td><td>&quot;grass&quot;</td><td>&quot;poison&quot;</td><td>[&quot;Overgrow&quot;, &quot;Chlorophyll&quot;]</td><td>60</td><td>62</td><td>63</td><td>60</td><td>0</td><td>null</td></tr><tr><td>&quot;Venusaur&quot;</td><td>&quot;grass&quot;</td><td>&quot;poison&quot;</td><td>[&quot;Overgrow&quot;, &quot;Chlorophyll&quot;]</td><td>80</td><td>100</td><td>123</td><td>80</td><td>0</td><td>null</td></tr></tbody></table></div>"
      ],
      "text/plain": [
       "shape: (3, 10)\n",
       "┌───────────┬───────┬────────┬────────────────┬───┬─────────┬───────┬──────────────┬───────┐\n",
       "│ name      ┆ type1 ┆ type2  ┆ abilities      ┆ … ┆ defense ┆ speed ┆ is_legendary ┆ color │\n",
       "│ ---       ┆ ---   ┆ ---    ┆ ---            ┆   ┆ ---     ┆ ---   ┆ ---          ┆ ---   │\n",
       "│ str       ┆ str   ┆ str    ┆ list[str]      ┆   ┆ i64     ┆ i64   ┆ i64          ┆ str   │\n",
       "╞═══════════╪═══════╪════════╪════════════════╪═══╪═════════╪═══════╪══════════════╪═══════╡\n",
       "│ Bulbasaur ┆ grass ┆ poison ┆ [\"Overgrow\",   ┆ … ┆ 49      ┆ 45    ┆ 0            ┆ green │\n",
       "│           ┆       ┆        ┆ \"Chlorophyll\"] ┆   ┆         ┆       ┆              ┆       │\n",
       "│ Ivysaur   ┆ grass ┆ poison ┆ [\"Overgrow\",   ┆ … ┆ 63      ┆ 60    ┆ 0            ┆ null  │\n",
       "│           ┆       ┆        ┆ \"Chlorophyll\"] ┆   ┆         ┆       ┆              ┆       │\n",
       "│ Venusaur  ┆ grass ┆ poison ┆ [\"Overgrow\",   ┆ … ┆ 123     ┆ 80    ┆ 0            ┆ null  │\n",
       "│           ┆       ┆        ┆ \"Chlorophyll\"] ┆   ┆         ┆       ┆              ┆       │\n",
       "└───────────┴───────┴────────┴────────────────┴───┴─────────┴───────┴──────────────┴───────┘"
      ]
     },
     "execution_count": 68,
     "metadata": {},
     "output_type": "execute_result"
    }
   ],
   "source": [
    "# left join keeps all rows from the left dataframe and fills the missing values with nulls\n",
    "# to keep the rows from the right dataframe, we can inverse the order of the dataframes\n",
    "\n",
    "pokemon.head(3).join(pokemon_new, on = 'name', how = 'left')"
   ]
  },
  {
   "cell_type": "code",
   "execution_count": 69,
   "metadata": {},
   "outputs": [
    {
     "data": {
      "text/html": [
       "<div><style>\n",
       ".dataframe > thead > tr,\n",
       ".dataframe > tbody > tr {\n",
       "  text-align: right;\n",
       "  white-space: pre-wrap;\n",
       "}\n",
       "</style>\n",
       "<small>shape: (4, 10)</small><table border=\"1\" class=\"dataframe\"><thead><tr><th>name</th><th>type1</th><th>type2</th><th>abilities</th><th>hp</th><th>attack</th><th>defense</th><th>speed</th><th>is_legendary</th><th>color</th></tr><tr><td>str</td><td>str</td><td>str</td><td>list[str]</td><td>i64</td><td>i64</td><td>i64</td><td>i64</td><td>i64</td><td>str</td></tr></thead><tbody><tr><td>&quot;Bulbasaur&quot;</td><td>&quot;grass&quot;</td><td>&quot;poison&quot;</td><td>[&quot;Overgrow&quot;, &quot;Chlorophyll&quot;]</td><td>45</td><td>49</td><td>49</td><td>45</td><td>0</td><td>&quot;green&quot;</td></tr><tr><td>&quot;Ivysaur&quot;</td><td>&quot;grass&quot;</td><td>&quot;poison&quot;</td><td>[&quot;Overgrow&quot;, &quot;Chlorophyll&quot;]</td><td>60</td><td>62</td><td>63</td><td>60</td><td>0</td><td>null</td></tr><tr><td>&quot;Venusaur&quot;</td><td>&quot;grass&quot;</td><td>&quot;poison&quot;</td><td>[&quot;Overgrow&quot;, &quot;Chlorophyll&quot;]</td><td>80</td><td>100</td><td>123</td><td>80</td><td>0</td><td>null</td></tr><tr><td>&quot;Polarizard&quot;</td><td>null</td><td>null</td><td>null</td><td>null</td><td>null</td><td>null</td><td>null</td><td>null</td><td>&quot;white&quot;</td></tr></tbody></table></div>"
      ],
      "text/plain": [
       "shape: (4, 10)\n",
       "┌────────────┬───────┬────────┬────────────────┬───┬─────────┬───────┬──────────────┬───────┐\n",
       "│ name       ┆ type1 ┆ type2  ┆ abilities      ┆ … ┆ defense ┆ speed ┆ is_legendary ┆ color │\n",
       "│ ---        ┆ ---   ┆ ---    ┆ ---            ┆   ┆ ---     ┆ ---   ┆ ---          ┆ ---   │\n",
       "│ str        ┆ str   ┆ str    ┆ list[str]      ┆   ┆ i64     ┆ i64   ┆ i64          ┆ str   │\n",
       "╞════════════╪═══════╪════════╪════════════════╪═══╪═════════╪═══════╪══════════════╪═══════╡\n",
       "│ Bulbasaur  ┆ grass ┆ poison ┆ [\"Overgrow\",   ┆ … ┆ 49      ┆ 45    ┆ 0            ┆ green │\n",
       "│            ┆       ┆        ┆ \"Chlorophyll\"] ┆   ┆         ┆       ┆              ┆       │\n",
       "│ Ivysaur    ┆ grass ┆ poison ┆ [\"Overgrow\",   ┆ … ┆ 63      ┆ 60    ┆ 0            ┆ null  │\n",
       "│            ┆       ┆        ┆ \"Chlorophyll\"] ┆   ┆         ┆       ┆              ┆       │\n",
       "│ Venusaur   ┆ grass ┆ poison ┆ [\"Overgrow\",   ┆ … ┆ 123     ┆ 80    ┆ 0            ┆ null  │\n",
       "│            ┆       ┆        ┆ \"Chlorophyll\"] ┆   ┆         ┆       ┆              ┆       │\n",
       "│ Polarizard ┆ null  ┆ null   ┆ null           ┆ … ┆ null    ┆ null  ┆ null         ┆ white │\n",
       "└────────────┴───────┴────────┴────────────────┴───┴─────────┴───────┴──────────────┴───────┘"
      ]
     },
     "execution_count": 69,
     "metadata": {},
     "output_type": "execute_result"
    }
   ],
   "source": [
    "# outer join keeps all rows from both dataframes and fills the missing values with nulls\n",
    "\n",
    "pokemon.head(3).join(pokemon_new, on = 'name', how = 'outer')"
   ]
  },
  {
   "cell_type": "code",
   "execution_count": 70,
   "metadata": {},
   "outputs": [
    {
     "data": {
      "text/html": [
       "<div><style>\n",
       ".dataframe > thead > tr,\n",
       ".dataframe > tbody > tr {\n",
       "  text-align: right;\n",
       "  white-space: pre-wrap;\n",
       "}\n",
       "</style>\n",
       "<small>shape: (1, 9)</small><table border=\"1\" class=\"dataframe\"><thead><tr><th>name</th><th>type1</th><th>type2</th><th>abilities</th><th>hp</th><th>attack</th><th>defense</th><th>speed</th><th>is_legendary</th></tr><tr><td>str</td><td>str</td><td>str</td><td>list[str]</td><td>i64</td><td>i64</td><td>i64</td><td>i64</td><td>i64</td></tr></thead><tbody><tr><td>&quot;Bulbasaur&quot;</td><td>&quot;grass&quot;</td><td>&quot;poison&quot;</td><td>[&quot;Overgrow&quot;, &quot;Chlorophyll&quot;]</td><td>45</td><td>49</td><td>49</td><td>45</td><td>0</td></tr></tbody></table></div>"
      ],
      "text/plain": [
       "shape: (1, 9)\n",
       "┌───────────┬───────┬────────┬────────────────┬───┬────────┬─────────┬───────┬──────────────┐\n",
       "│ name      ┆ type1 ┆ type2  ┆ abilities      ┆ … ┆ attack ┆ defense ┆ speed ┆ is_legendary │\n",
       "│ ---       ┆ ---   ┆ ---    ┆ ---            ┆   ┆ ---    ┆ ---     ┆ ---   ┆ ---          │\n",
       "│ str       ┆ str   ┆ str    ┆ list[str]      ┆   ┆ i64    ┆ i64     ┆ i64   ┆ i64          │\n",
       "╞═══════════╪═══════╪════════╪════════════════╪═══╪════════╪═════════╪═══════╪══════════════╡\n",
       "│ Bulbasaur ┆ grass ┆ poison ┆ [\"Overgrow\",   ┆ … ┆ 49     ┆ 49      ┆ 45    ┆ 0            │\n",
       "│           ┆       ┆        ┆ \"Chlorophyll\"] ┆   ┆        ┆         ┆       ┆              │\n",
       "└───────────┴───────┴────────┴────────────────┴───┴────────┴─────────┴───────┴──────────────┘"
      ]
     },
     "execution_count": 70,
     "metadata": {},
     "output_type": "execute_result"
    }
   ],
   "source": [
    "# semi keeps the rows from the left dataframe that are present in the right dataframe\n",
    "# it does not add any columns from the right dataframe (differently from inner)\n",
    "\n",
    "pokemon.head(3).join(pokemon_new, on = 'name', how = 'semi')"
   ]
  },
  {
   "cell_type": "code",
   "execution_count": 71,
   "metadata": {},
   "outputs": [
    {
     "data": {
      "text/html": [
       "<div><style>\n",
       ".dataframe > thead > tr,\n",
       ".dataframe > tbody > tr {\n",
       "  text-align: right;\n",
       "  white-space: pre-wrap;\n",
       "}\n",
       "</style>\n",
       "<small>shape: (2, 9)</small><table border=\"1\" class=\"dataframe\"><thead><tr><th>name</th><th>type1</th><th>type2</th><th>abilities</th><th>hp</th><th>attack</th><th>defense</th><th>speed</th><th>is_legendary</th></tr><tr><td>str</td><td>str</td><td>str</td><td>list[str]</td><td>i64</td><td>i64</td><td>i64</td><td>i64</td><td>i64</td></tr></thead><tbody><tr><td>&quot;Ivysaur&quot;</td><td>&quot;grass&quot;</td><td>&quot;poison&quot;</td><td>[&quot;Overgrow&quot;, &quot;Chlorophyll&quot;]</td><td>60</td><td>62</td><td>63</td><td>60</td><td>0</td></tr><tr><td>&quot;Venusaur&quot;</td><td>&quot;grass&quot;</td><td>&quot;poison&quot;</td><td>[&quot;Overgrow&quot;, &quot;Chlorophyll&quot;]</td><td>80</td><td>100</td><td>123</td><td>80</td><td>0</td></tr></tbody></table></div>"
      ],
      "text/plain": [
       "shape: (2, 9)\n",
       "┌──────────┬───────┬────────┬────────────────┬───┬────────┬─────────┬───────┬──────────────┐\n",
       "│ name     ┆ type1 ┆ type2  ┆ abilities      ┆ … ┆ attack ┆ defense ┆ speed ┆ is_legendary │\n",
       "│ ---      ┆ ---   ┆ ---    ┆ ---            ┆   ┆ ---    ┆ ---     ┆ ---   ┆ ---          │\n",
       "│ str      ┆ str   ┆ str    ┆ list[str]      ┆   ┆ i64    ┆ i64     ┆ i64   ┆ i64          │\n",
       "╞══════════╪═══════╪════════╪════════════════╪═══╪════════╪═════════╪═══════╪══════════════╡\n",
       "│ Ivysaur  ┆ grass ┆ poison ┆ [\"Overgrow\",   ┆ … ┆ 62     ┆ 63      ┆ 60    ┆ 0            │\n",
       "│          ┆       ┆        ┆ \"Chlorophyll\"] ┆   ┆        ┆         ┆       ┆              │\n",
       "│ Venusaur ┆ grass ┆ poison ┆ [\"Overgrow\",   ┆ … ┆ 100    ┆ 123     ┆ 80    ┆ 0            │\n",
       "│          ┆       ┆        ┆ \"Chlorophyll\"] ┆   ┆        ┆         ┆       ┆              │\n",
       "└──────────┴───────┴────────┴────────────────┴───┴────────┴─────────┴───────┴──────────────┘"
      ]
     },
     "execution_count": 71,
     "metadata": {},
     "output_type": "execute_result"
    }
   ],
   "source": [
    "# anti keeps the rows present in either dataframe but not in both\n",
    "# it keeps the opposite rows as inner\n",
    "\n",
    "pokemon.head(3).join(pokemon_new, on = 'name', how = 'anti')"
   ]
  },
  {
   "cell_type": "code",
   "execution_count": 72,
   "metadata": {},
   "outputs": [
    {
     "data": {
      "text/html": [
       "<div><style>\n",
       ".dataframe > thead > tr,\n",
       ".dataframe > tbody > tr {\n",
       "  text-align: right;\n",
       "  white-space: pre-wrap;\n",
       "}\n",
       "</style>\n",
       "<small>shape: (4, 10)</small><table border=\"1\" class=\"dataframe\"><thead><tr><th>name</th><th>type1</th><th>type2</th><th>abilities</th><th>hp</th><th>attack</th><th>defense</th><th>speed</th><th>is_legendary</th><th>trainer</th></tr><tr><td>str</td><td>str</td><td>str</td><td>list[str]</td><td>i64</td><td>i64</td><td>i64</td><td>i64</td><td>i64</td><td>str</td></tr></thead><tbody><tr><td>&quot;Bulbasaur&quot;</td><td>&quot;grass&quot;</td><td>&quot;poison&quot;</td><td>[&quot;Overgrow&quot;, &quot;Chlorophyll&quot;]</td><td>45</td><td>49</td><td>49</td><td>45</td><td>0</td><td>&quot;trainer1&quot;</td></tr><tr><td>&quot;Bulbasaur&quot;</td><td>&quot;grass&quot;</td><td>&quot;poison&quot;</td><td>[&quot;Overgrow&quot;, &quot;Chlorophyll&quot;]</td><td>45</td><td>49</td><td>49</td><td>45</td><td>0</td><td>&quot;trainer2&quot;</td></tr><tr><td>&quot;Ivysaur&quot;</td><td>&quot;grass&quot;</td><td>&quot;poison&quot;</td><td>[&quot;Overgrow&quot;, &quot;Chlorophyll&quot;]</td><td>60</td><td>62</td><td>63</td><td>60</td><td>0</td><td>&quot;trainer1&quot;</td></tr><tr><td>&quot;Ivysaur&quot;</td><td>&quot;grass&quot;</td><td>&quot;poison&quot;</td><td>[&quot;Overgrow&quot;, &quot;Chlorophyll&quot;]</td><td>60</td><td>62</td><td>63</td><td>60</td><td>0</td><td>&quot;trainer2&quot;</td></tr></tbody></table></div>"
      ],
      "text/plain": [
       "shape: (4, 10)\n",
       "┌───────────┬───────┬────────┬────────────────┬───┬─────────┬───────┬──────────────┬──────────┐\n",
       "│ name      ┆ type1 ┆ type2  ┆ abilities      ┆ … ┆ defense ┆ speed ┆ is_legendary ┆ trainer  │\n",
       "│ ---       ┆ ---   ┆ ---    ┆ ---            ┆   ┆ ---     ┆ ---   ┆ ---          ┆ ---      │\n",
       "│ str       ┆ str   ┆ str    ┆ list[str]      ┆   ┆ i64     ┆ i64   ┆ i64          ┆ str      │\n",
       "╞═══════════╪═══════╪════════╪════════════════╪═══╪═════════╪═══════╪══════════════╪══════════╡\n",
       "│ Bulbasaur ┆ grass ┆ poison ┆ [\"Overgrow\",   ┆ … ┆ 49      ┆ 45    ┆ 0            ┆ trainer1 │\n",
       "│           ┆       ┆        ┆ \"Chlorophyll\"] ┆   ┆         ┆       ┆              ┆          │\n",
       "│ Bulbasaur ┆ grass ┆ poison ┆ [\"Overgrow\",   ┆ … ┆ 49      ┆ 45    ┆ 0            ┆ trainer2 │\n",
       "│           ┆       ┆        ┆ \"Chlorophyll\"] ┆   ┆         ┆       ┆              ┆          │\n",
       "│ Ivysaur   ┆ grass ┆ poison ┆ [\"Overgrow\",   ┆ … ┆ 63      ┆ 60    ┆ 0            ┆ trainer1 │\n",
       "│           ┆       ┆        ┆ \"Chlorophyll\"] ┆   ┆         ┆       ┆              ┆          │\n",
       "│ Ivysaur   ┆ grass ┆ poison ┆ [\"Overgrow\",   ┆ … ┆ 63      ┆ 60    ┆ 0            ┆ trainer2 │\n",
       "│           ┆       ┆        ┆ \"Chlorophyll\"] ┆   ┆         ┆       ┆              ┆          │\n",
       "└───────────┴───────┴────────┴────────────────┴───┴─────────┴───────┴──────────────┴──────────┘"
      ]
     },
     "execution_count": 72,
     "metadata": {},
     "output_type": "execute_result"
    }
   ],
   "source": [
    "# cross combines all rows of the first dataframe with all rows of the second dataframe\n",
    "\n",
    "pokemon_trainers = pl.DataFrame({\n",
    "    'trainer': ['trainer1', 'trainer2']\n",
    "})\n",
    "\n",
    "pokemon.head(2).join(pokemon_trainers, how = 'cross')"
   ]
  },
  {
   "attachments": {},
   "cell_type": "markdown",
   "metadata": {},
   "source": [
    "#### Custom functions: map"
   ]
  },
  {
   "cell_type": "code",
   "execution_count": 74,
   "metadata": {},
   "outputs": [],
   "source": [
    "# map will be slower than using the native polars functions. \n",
    "# It's recommended to avoid map whenever possible\n",
    "# a common use case for map is passing data to a third-party library"
   ]
  },
  {
   "cell_type": "code",
   "execution_count": null,
   "metadata": {},
   "outputs": [],
   "source": [
    "# increase the attack by 10% for pokemons with attack < 50\n",
    "# in the first 2 functions, we receive a column (a list) and process it using a Python list comprehension\n",
    "# the first function returns a Python list, the second a Polars series\n",
    "# the last function receives a single value and returns a single value"
   ]
  },
  {
   "cell_type": "code",
   "execution_count": 75,
   "metadata": {},
   "outputs": [
    {
     "data": {
      "text/html": [
       "<div><style>\n",
       ".dataframe > thead > tr,\n",
       ".dataframe > tbody > tr {\n",
       "  text-align: right;\n",
       "  white-space: pre-wrap;\n",
       "}\n",
       "</style>\n",
       "<small>shape: (3, 3)</small><table border=\"1\" class=\"dataframe\"><thead><tr><th>name</th><th>attack</th><th>simulated_attack</th></tr><tr><td>str</td><td>i64</td><td>list[f64]</td></tr></thead><tbody><tr><td>&quot;Bulbasaur&quot;</td><td>49</td><td>[53.90, 62.00, … 95.00]</td></tr><tr><td>&quot;Ivysaur&quot;</td><td>62</td><td>[53.90, 62.00, … 95.00]</td></tr><tr><td>&quot;Venusaur&quot;</td><td>100</td><td>[53.90, 62.00, … 95.00]</td></tr></tbody></table></div>"
      ],
      "text/plain": [
       "shape: (3, 3)\n",
       "┌───────────┬────────┬─────────────────────────┐\n",
       "│ name      ┆ attack ┆ simulated_attack        │\n",
       "│ ---       ┆ ---    ┆ ---                     │\n",
       "│ str       ┆ i64    ┆ list[f64]               │\n",
       "╞═══════════╪════════╪═════════════════════════╡\n",
       "│ Bulbasaur ┆ 49     ┆ [53.90, 62.00, … 95.00] │\n",
       "│ Ivysaur   ┆ 62     ┆ [53.90, 62.00, … 95.00] │\n",
       "│ Venusaur  ┆ 100    ┆ [53.90, 62.00, … 95.00] │\n",
       "└───────────┴────────┴─────────────────────────┘"
      ]
     },
     "execution_count": 75,
     "metadata": {},
     "output_type": "execute_result"
    }
   ],
   "source": [
    "def simulated_attack_list(attack_column):\n",
    "    return [attack * 1.1 if attack < 50 else attack for attack in attack_column]\n",
    "\n",
    "pokemon.select(\n",
    "    'name','attack',\n",
    "    simulated_attack = pl.col('attack').map_batches(simulated_attack_list)\n",
    ").head(3)"
   ]
  },
  {
   "cell_type": "code",
   "execution_count": 76,
   "metadata": {},
   "outputs": [
    {
     "data": {
      "text/html": [
       "<div><style>\n",
       ".dataframe > thead > tr,\n",
       ".dataframe > tbody > tr {\n",
       "  text-align: right;\n",
       "  white-space: pre-wrap;\n",
       "}\n",
       "</style>\n",
       "<small>shape: (3, 3)</small><table border=\"1\" class=\"dataframe\"><thead><tr><th>name</th><th>attack</th><th>simulated_attack</th></tr><tr><td>str</td><td>i64</td><td>f64</td></tr></thead><tbody><tr><td>&quot;Bulbasaur&quot;</td><td>49</td><td>53.90</td></tr><tr><td>&quot;Ivysaur&quot;</td><td>62</td><td>62.00</td></tr><tr><td>&quot;Venusaur&quot;</td><td>100</td><td>100.00</td></tr></tbody></table></div>"
      ],
      "text/plain": [
       "shape: (3, 3)\n",
       "┌───────────┬────────┬──────────────────┐\n",
       "│ name      ┆ attack ┆ simulated_attack │\n",
       "│ ---       ┆ ---    ┆ ---              │\n",
       "│ str       ┆ i64    ┆ f64              │\n",
       "╞═══════════╪════════╪══════════════════╡\n",
       "│ Bulbasaur ┆ 49     ┆ 53.90            │\n",
       "│ Ivysaur   ┆ 62     ┆ 62.00            │\n",
       "│ Venusaur  ┆ 100    ┆ 100.00           │\n",
       "└───────────┴────────┴──────────────────┘"
      ]
     },
     "execution_count": 76,
     "metadata": {},
     "output_type": "execute_result"
    }
   ],
   "source": [
    "def simulated_attack_series(attack_column):\n",
    "    return pl.Series([attack * 1.1 if attack < 50 else attack for attack in attack_column])\n",
    "\n",
    "pokemon.select(\n",
    "    'name','attack',\n",
    "    simulated_attack = pl.col('attack').map_batches(simulated_attack_series)\n",
    ").head(3)"
   ]
  },
  {
   "cell_type": "code",
   "execution_count": 77,
   "metadata": {},
   "outputs": [
    {
     "data": {
      "text/html": [
       "<div><style>\n",
       ".dataframe > thead > tr,\n",
       ".dataframe > tbody > tr {\n",
       "  text-align: right;\n",
       "  white-space: pre-wrap;\n",
       "}\n",
       "</style>\n",
       "<small>shape: (3, 3)</small><table border=\"1\" class=\"dataframe\"><thead><tr><th>name</th><th>attack</th><th>simulated_attack</th></tr><tr><td>str</td><td>i64</td><td>f64</td></tr></thead><tbody><tr><td>&quot;Bulbasaur&quot;</td><td>49</td><td>53.90</td></tr><tr><td>&quot;Ivysaur&quot;</td><td>62</td><td>62.00</td></tr><tr><td>&quot;Venusaur&quot;</td><td>100</td><td>100.00</td></tr></tbody></table></div>"
      ],
      "text/plain": [
       "shape: (3, 3)\n",
       "┌───────────┬────────┬──────────────────┐\n",
       "│ name      ┆ attack ┆ simulated_attack │\n",
       "│ ---       ┆ ---    ┆ ---              │\n",
       "│ str       ┆ i64    ┆ f64              │\n",
       "╞═══════════╪════════╪══════════════════╡\n",
       "│ Bulbasaur ┆ 49     ┆ 53.90            │\n",
       "│ Ivysaur   ┆ 62     ┆ 62.00            │\n",
       "│ Venusaur  ┆ 100    ┆ 100.00           │\n",
       "└───────────┴────────┴──────────────────┘"
      ]
     },
     "execution_count": 77,
     "metadata": {},
     "output_type": "execute_result"
    }
   ],
   "source": [
    "def simulated_attack_single_value(attack_number):\n",
    "    return attack_number * 1.1 if attack_number < 50 else attack_number\n",
    "\n",
    "pokemon.select(\n",
    "    'name','attack',    \n",
    "    simulated_attack = pl.col('attack').map_elements(simulated_attack_single_value)\n",
    ").head(3)"
   ]
  },
  {
   "cell_type": "code",
   "execution_count": 79,
   "metadata": {},
   "outputs": [],
   "source": [
    "# let's check their speed\n",
    "# we create a bigger dataframe by repeating the original one 100 times\n",
    "# no need to test the first function, as the result is not what we want\n",
    "\n",
    "pokemon_100 = pl.concat([pokemon] * 100, rechunk = True)"
   ]
  },
  {
   "cell_type": "code",
   "execution_count": 80,
   "metadata": {},
   "outputs": [
    {
     "name": "stdout",
     "output_type": "stream",
     "text": [
      "4.71 ms ± 34.7 µs per loop (mean ± std. dev. of 7 runs, 100 loops each)\n"
     ]
    }
   ],
   "source": [
    "%%timeit\n",
    "pokemon_100.select(\n",
    "    'name', 'attack',\n",
    "    simulated_attack = pl.col('attack').map_batches(simulated_attack_series)\n",
    ")"
   ]
  },
  {
   "cell_type": "code",
   "execution_count": 81,
   "metadata": {},
   "outputs": [
    {
     "name": "stdout",
     "output_type": "stream",
     "text": [
      "6.29 ms ± 51.2 µs per loop (mean ± std. dev. of 7 runs, 100 loops each)\n"
     ]
    }
   ],
   "source": [
    "%%timeit\n",
    "pokemon_100.select(\n",
    "    'name', 'attack',\n",
    "    simulated_attack = pl.col('attack').map_elements(simulated_attack_single_value)\n",
    ")"
   ]
  },
  {
   "cell_type": "code",
   "execution_count": 82,
   "metadata": {},
   "outputs": [
    {
     "name": "stdout",
     "output_type": "stream",
     "text": [
      "524 µs ± 10.6 µs per loop (mean ± std. dev. of 7 runs, 1,000 loops each)\n"
     ]
    }
   ],
   "source": [
    "%%timeit\n",
    "pokemon_100.select(\n",
    "    'name', 'attack',\n",
    "    simulated_attack = pl.when(pl.col('attack') < 50).then(pl.col('attack') * 1.1).otherwise(pl.col('attack'))\n",
    ")"
   ]
  },
  {
   "cell_type": "code",
   "execution_count": null,
   "metadata": {},
   "outputs": [],
   "source": [
    "# map_batches and map_elements are considerably slower than the native Polars functions\n",
    "# in this case by a factor of 10\n",
    "# map_batches is faster than apply because we operate on the full column instead of one row at a time"
   ]
  },
  {
   "cell_type": "code",
   "execution_count": 86,
   "metadata": {},
   "outputs": [
    {
     "data": {
      "text/html": [
       "<div><style>\n",
       ".dataframe > thead > tr,\n",
       ".dataframe > tbody > tr {\n",
       "  text-align: right;\n",
       "  white-space: pre-wrap;\n",
       "}\n",
       "</style>\n",
       "<small>shape: (3, 4)</small><table border=\"1\" class=\"dataframe\"><thead><tr><th>name</th><th>attack</th><th>defense</th><th>attack_plus_defense</th></tr><tr><td>str</td><td>i64</td><td>i64</td><td>i64</td></tr></thead><tbody><tr><td>&quot;Bulbasaur&quot;</td><td>49</td><td>49</td><td>98</td></tr><tr><td>&quot;Ivysaur&quot;</td><td>62</td><td>63</td><td>125</td></tr><tr><td>&quot;Venusaur&quot;</td><td>100</td><td>123</td><td>223</td></tr></tbody></table></div>"
      ],
      "text/plain": [
       "shape: (3, 4)\n",
       "┌───────────┬────────┬─────────┬─────────────────────┐\n",
       "│ name      ┆ attack ┆ defense ┆ attack_plus_defense │\n",
       "│ ---       ┆ ---    ┆ ---     ┆ ---                 │\n",
       "│ str       ┆ i64    ┆ i64     ┆ i64                 │\n",
       "╞═══════════╪════════╪═════════╪═════════════════════╡\n",
       "│ Bulbasaur ┆ 49     ┆ 49      ┆ 98                  │\n",
       "│ Ivysaur   ┆ 62     ┆ 63      ┆ 125                 │\n",
       "│ Venusaur  ┆ 100    ┆ 123     ┆ 223                 │\n",
       "└───────────┴────────┴─────────┴─────────────────────┘"
      ]
     },
     "execution_count": 86,
     "metadata": {},
     "output_type": "execute_result"
    }
   ],
   "source": [
    "# if we want to apply a function to multiple columns, we can use pl.struct\n",
    "# to create a struct, then use apply with it\n",
    "\n",
    "pokemon.head(3).select(\n",
    "    'name','attack','defense',\n",
    "    attack_plus_defense = pl.struct('attack','defense')\n",
    "    .map_elements(lambda columns: columns['attack'] + columns['defense'])\n",
    ")"
   ]
  },
  {
   "cell_type": "code",
   "execution_count": null,
   "metadata": {},
   "outputs": [],
   "source": []
  },
  {
   "cell_type": "code",
   "execution_count": null,
   "metadata": {},
   "outputs": [],
   "source": []
  }
 ],
 "metadata": {
  "kernelspec": {
   "display_name": "Python 3",
   "language": "python",
   "name": "python3"
  },
  "language_info": {
   "codemirror_mode": {
    "name": "ipython",
    "version": 3
   },
   "file_extension": ".py",
   "mimetype": "text/x-python",
   "name": "python",
   "nbconvert_exporter": "python",
   "pygments_lexer": "ipython3",
   "version": "3.10.12"
  },
  "orig_nbformat": 4
 },
 "nbformat": 4,
 "nbformat_minor": 2
}
