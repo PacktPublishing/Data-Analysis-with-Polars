{
 "cells": [
  {
   "attachments": {},
   "cell_type": "markdown",
   "metadata": {},
   "source": [
    "### Chapter 3 Exercises"
   ]
  },
  {
   "cell_type": "code",
   "execution_count": 1,
   "metadata": {},
   "outputs": [
    {
     "data": {
      "text/plain": [
       "polars.config.Config"
      ]
     },
     "execution_count": 1,
     "metadata": {},
     "output_type": "execute_result"
    }
   ],
   "source": [
    "import polars as pl\n",
    "\n",
    "pl.Config.set_fmt_str_lengths(50)"
   ]
  },
  {
   "attachments": {},
   "cell_type": "markdown",
   "metadata": {},
   "source": [
    "1.\tUse Polars to read the Parquet file pokemon_simplifed from the dataset folder. \n",
    "Add a column with 'attack' if the pokémon has attack higher or equal to defense, and 'defense' otherwise."
   ]
  },
  {
   "cell_type": "code",
   "execution_count": 2,
   "metadata": {},
   "outputs": [],
   "source": [
    "pokemon = pl.read_parquet('../datasets/pokemon_simplified.parquet')"
   ]
  },
  {
   "cell_type": "code",
   "execution_count": 9,
   "metadata": {},
   "outputs": [
    {
     "data": {
      "text/html": [
       "<div><style>\n",
       ".dataframe > thead > tr,\n",
       ".dataframe > tbody > tr {\n",
       "  text-align: right;\n",
       "  white-space: pre-wrap;\n",
       "}\n",
       "</style>\n",
       "<small>shape: (6, 10)</small><table border=\"1\" class=\"dataframe\"><thead><tr><th>name</th><th>type1</th><th>type2</th><th>abilities</th><th>hp</th><th>attack</th><th>defense</th><th>speed</th><th>is_legendary</th><th>attack_or_defense</th></tr><tr><td>str</td><td>str</td><td>str</td><td>list[str]</td><td>i64</td><td>i64</td><td>i64</td><td>i64</td><td>i64</td><td>str</td></tr></thead><tbody><tr><td>&quot;Bulbasaur&quot;</td><td>&quot;grass&quot;</td><td>&quot;poison&quot;</td><td>[&quot;Overgrow&quot;, &quot;Chlorophyll&quot;]</td><td>45</td><td>49</td><td>49</td><td>45</td><td>0</td><td>&quot;attack&quot;</td></tr><tr><td>&quot;Ivysaur&quot;</td><td>&quot;grass&quot;</td><td>&quot;poison&quot;</td><td>[&quot;Overgrow&quot;, &quot;Chlorophyll&quot;]</td><td>60</td><td>62</td><td>63</td><td>60</td><td>0</td><td>&quot;defense&quot;</td></tr><tr><td>&quot;Venusaur&quot;</td><td>&quot;grass&quot;</td><td>&quot;poison&quot;</td><td>[&quot;Overgrow&quot;, &quot;Chlorophyll&quot;]</td><td>80</td><td>100</td><td>123</td><td>80</td><td>0</td><td>&quot;defense&quot;</td></tr><tr><td>&quot;Charmander&quot;</td><td>&quot;fire&quot;</td><td>null</td><td>[&quot;Blaze&quot;, &quot;Solar Power&quot;]</td><td>39</td><td>52</td><td>43</td><td>65</td><td>0</td><td>&quot;attack&quot;</td></tr><tr><td>&quot;Charmeleon&quot;</td><td>&quot;fire&quot;</td><td>null</td><td>[&quot;Blaze&quot;, &quot;Solar Power&quot;]</td><td>58</td><td>64</td><td>58</td><td>80</td><td>0</td><td>&quot;attack&quot;</td></tr><tr><td>&quot;Charizard&quot;</td><td>&quot;fire&quot;</td><td>&quot;flying&quot;</td><td>[&quot;Blaze&quot;, &quot;Solar Power&quot;]</td><td>78</td><td>104</td><td>78</td><td>100</td><td>0</td><td>&quot;attack&quot;</td></tr></tbody></table></div>"
      ],
      "text/plain": [
       "shape: (6, 10)\n",
       "┌────────────┬───────┬────────┬───────────────┬───┬─────────┬───────┬──────────────┬───────────────┐\n",
       "│ name       ┆ type1 ┆ type2  ┆ abilities     ┆ … ┆ defense ┆ speed ┆ is_legendary ┆ attack_or_def │\n",
       "│ ---        ┆ ---   ┆ ---    ┆ ---           ┆   ┆ ---     ┆ ---   ┆ ---          ┆ ense          │\n",
       "│ str        ┆ str   ┆ str    ┆ list[str]     ┆   ┆ i64     ┆ i64   ┆ i64          ┆ ---           │\n",
       "│            ┆       ┆        ┆               ┆   ┆         ┆       ┆              ┆ str           │\n",
       "╞════════════╪═══════╪════════╪═══════════════╪═══╪═════════╪═══════╪══════════════╪═══════════════╡\n",
       "│ Bulbasaur  ┆ grass ┆ poison ┆ [\"Overgrow\",  ┆ … ┆ 49      ┆ 45    ┆ 0            ┆ attack        │\n",
       "│            ┆       ┆        ┆ \"Chlorophyll\" ┆   ┆         ┆       ┆              ┆               │\n",
       "│            ┆       ┆        ┆ ]             ┆   ┆         ┆       ┆              ┆               │\n",
       "│ Ivysaur    ┆ grass ┆ poison ┆ [\"Overgrow\",  ┆ … ┆ 63      ┆ 60    ┆ 0            ┆ defense       │\n",
       "│            ┆       ┆        ┆ \"Chlorophyll\" ┆   ┆         ┆       ┆              ┆               │\n",
       "│            ┆       ┆        ┆ ]             ┆   ┆         ┆       ┆              ┆               │\n",
       "│ Venusaur   ┆ grass ┆ poison ┆ [\"Overgrow\",  ┆ … ┆ 123     ┆ 80    ┆ 0            ┆ defense       │\n",
       "│            ┆       ┆        ┆ \"Chlorophyll\" ┆   ┆         ┆       ┆              ┆               │\n",
       "│            ┆       ┆        ┆ ]             ┆   ┆         ┆       ┆              ┆               │\n",
       "│ Charmander ┆ fire  ┆ null   ┆ [\"Blaze\",     ┆ … ┆ 43      ┆ 65    ┆ 0            ┆ attack        │\n",
       "│            ┆       ┆        ┆ \"Solar        ┆   ┆         ┆       ┆              ┆               │\n",
       "│            ┆       ┆        ┆ Power\"]       ┆   ┆         ┆       ┆              ┆               │\n",
       "│ Charmeleon ┆ fire  ┆ null   ┆ [\"Blaze\",     ┆ … ┆ 58      ┆ 80    ┆ 0            ┆ attack        │\n",
       "│            ┆       ┆        ┆ \"Solar        ┆   ┆         ┆       ┆              ┆               │\n",
       "│            ┆       ┆        ┆ Power\"]       ┆   ┆         ┆       ┆              ┆               │\n",
       "│ Charizard  ┆ fire  ┆ flying ┆ [\"Blaze\",     ┆ … ┆ 78      ┆ 100   ┆ 0            ┆ attack        │\n",
       "│            ┆       ┆        ┆ \"Solar        ┆   ┆         ┆       ┆              ┆               │\n",
       "│            ┆       ┆        ┆ Power\"]       ┆   ┆         ┆       ┆              ┆               │\n",
       "└────────────┴───────┴────────┴───────────────┴───┴─────────┴───────┴──────────────┴───────────────┘"
      ]
     },
     "execution_count": 9,
     "metadata": {},
     "output_type": "execute_result"
    }
   ],
   "source": [
    "pokemon.with_columns(\n",
    "    attack_or_defense = pl.when(pl.col('attack') >= pl.col('defense')).then(pl.lit('attack')).otherwise(pl.lit('defense'))\n",
    ").head(6)"
   ]
  },
  {
   "attachments": {},
   "cell_type": "markdown",
   "metadata": {},
   "source": [
    "2. Transform the column you just added to 2 binary columns using the one-hot-encoding technique."
   ]
  },
  {
   "cell_type": "code",
   "execution_count": 10,
   "metadata": {},
   "outputs": [
    {
     "data": {
      "text/html": [
       "<div><style>\n",
       ".dataframe > thead > tr,\n",
       ".dataframe > tbody > tr {\n",
       "  text-align: right;\n",
       "  white-space: pre-wrap;\n",
       "}\n",
       "</style>\n",
       "<small>shape: (6, 11)</small><table border=\"1\" class=\"dataframe\"><thead><tr><th>name</th><th>type1</th><th>type2</th><th>abilities</th><th>hp</th><th>attack</th><th>defense</th><th>speed</th><th>is_legendary</th><th>attack_or_defense_attack</th><th>attack_or_defense_defense</th></tr><tr><td>str</td><td>str</td><td>str</td><td>list[str]</td><td>i64</td><td>i64</td><td>i64</td><td>i64</td><td>i64</td><td>u8</td><td>u8</td></tr></thead><tbody><tr><td>&quot;Bulbasaur&quot;</td><td>&quot;grass&quot;</td><td>&quot;poison&quot;</td><td>[&quot;Overgrow&quot;, &quot;Chlorophyll&quot;]</td><td>45</td><td>49</td><td>49</td><td>45</td><td>0</td><td>1</td><td>0</td></tr><tr><td>&quot;Ivysaur&quot;</td><td>&quot;grass&quot;</td><td>&quot;poison&quot;</td><td>[&quot;Overgrow&quot;, &quot;Chlorophyll&quot;]</td><td>60</td><td>62</td><td>63</td><td>60</td><td>0</td><td>0</td><td>1</td></tr><tr><td>&quot;Venusaur&quot;</td><td>&quot;grass&quot;</td><td>&quot;poison&quot;</td><td>[&quot;Overgrow&quot;, &quot;Chlorophyll&quot;]</td><td>80</td><td>100</td><td>123</td><td>80</td><td>0</td><td>0</td><td>1</td></tr><tr><td>&quot;Charmander&quot;</td><td>&quot;fire&quot;</td><td>null</td><td>[&quot;Blaze&quot;, &quot;Solar Power&quot;]</td><td>39</td><td>52</td><td>43</td><td>65</td><td>0</td><td>1</td><td>0</td></tr><tr><td>&quot;Charmeleon&quot;</td><td>&quot;fire&quot;</td><td>null</td><td>[&quot;Blaze&quot;, &quot;Solar Power&quot;]</td><td>58</td><td>64</td><td>58</td><td>80</td><td>0</td><td>1</td><td>0</td></tr><tr><td>&quot;Charizard&quot;</td><td>&quot;fire&quot;</td><td>&quot;flying&quot;</td><td>[&quot;Blaze&quot;, &quot;Solar Power&quot;]</td><td>78</td><td>104</td><td>78</td><td>100</td><td>0</td><td>1</td><td>0</td></tr></tbody></table></div>"
      ],
      "text/plain": [
       "shape: (6, 11)\n",
       "┌────────────┬───────┬────────┬──────────────┬───┬───────┬─────────────┬─────────────┬─────────────┐\n",
       "│ name       ┆ type1 ┆ type2  ┆ abilities    ┆ … ┆ speed ┆ is_legendar ┆ attack_or_d ┆ attack_or_d │\n",
       "│ ---        ┆ ---   ┆ ---    ┆ ---          ┆   ┆ ---   ┆ y           ┆ efense_atta ┆ efense_defe │\n",
       "│ str        ┆ str   ┆ str    ┆ list[str]    ┆   ┆ i64   ┆ ---         ┆ ck          ┆ nse         │\n",
       "│            ┆       ┆        ┆              ┆   ┆       ┆ i64         ┆ ---         ┆ ---         │\n",
       "│            ┆       ┆        ┆              ┆   ┆       ┆             ┆ u8          ┆ u8          │\n",
       "╞════════════╪═══════╪════════╪══════════════╪═══╪═══════╪═════════════╪═════════════╪═════════════╡\n",
       "│ Bulbasaur  ┆ grass ┆ poison ┆ [\"Overgrow\", ┆ … ┆ 45    ┆ 0           ┆ 1           ┆ 0           │\n",
       "│            ┆       ┆        ┆ \"Chlorophyll ┆   ┆       ┆             ┆             ┆             │\n",
       "│            ┆       ┆        ┆ \"]           ┆   ┆       ┆             ┆             ┆             │\n",
       "│ Ivysaur    ┆ grass ┆ poison ┆ [\"Overgrow\", ┆ … ┆ 60    ┆ 0           ┆ 0           ┆ 1           │\n",
       "│            ┆       ┆        ┆ \"Chlorophyll ┆   ┆       ┆             ┆             ┆             │\n",
       "│            ┆       ┆        ┆ \"]           ┆   ┆       ┆             ┆             ┆             │\n",
       "│ Venusaur   ┆ grass ┆ poison ┆ [\"Overgrow\", ┆ … ┆ 80    ┆ 0           ┆ 0           ┆ 1           │\n",
       "│            ┆       ┆        ┆ \"Chlorophyll ┆   ┆       ┆             ┆             ┆             │\n",
       "│            ┆       ┆        ┆ \"]           ┆   ┆       ┆             ┆             ┆             │\n",
       "│ Charmander ┆ fire  ┆ null   ┆ [\"Blaze\",    ┆ … ┆ 65    ┆ 0           ┆ 1           ┆ 0           │\n",
       "│            ┆       ┆        ┆ \"Solar       ┆   ┆       ┆             ┆             ┆             │\n",
       "│            ┆       ┆        ┆ Power\"]      ┆   ┆       ┆             ┆             ┆             │\n",
       "│ Charmeleon ┆ fire  ┆ null   ┆ [\"Blaze\",    ┆ … ┆ 80    ┆ 0           ┆ 1           ┆ 0           │\n",
       "│            ┆       ┆        ┆ \"Solar       ┆   ┆       ┆             ┆             ┆             │\n",
       "│            ┆       ┆        ┆ Power\"]      ┆   ┆       ┆             ┆             ┆             │\n",
       "│ Charizard  ┆ fire  ┆ flying ┆ [\"Blaze\",    ┆ … ┆ 100   ┆ 0           ┆ 1           ┆ 0           │\n",
       "│            ┆       ┆        ┆ \"Solar       ┆   ┆       ┆             ┆             ┆             │\n",
       "│            ┆       ┆        ┆ Power\"]      ┆   ┆       ┆             ┆             ┆             │\n",
       "└────────────┴───────┴────────┴──────────────┴───┴───────┴─────────────┴─────────────┴─────────────┘"
      ]
     },
     "execution_count": 10,
     "metadata": {},
     "output_type": "execute_result"
    }
   ],
   "source": [
    "pokemon.with_columns(\n",
    "    attack_or_defense = pl.when(pl.col('attack') >= pl.col('defense')).then(pl.lit('attack')).otherwise(pl.lit('defense'))\n",
    ").to_dummies('attack_or_defense').head(6)"
   ]
  },
  {
   "attachments": {},
   "cell_type": "markdown",
   "metadata": {},
   "source": [
    "3. Group the pokémons by type1. \n",
    "Add 3 columns: in the first column count the pokémons with higher attack, in the second column the pokémons with higher defense.\n",
    "In the third column show the total count. Assign meaningful names to the columns."
   ]
  },
  {
   "cell_type": "code",
   "execution_count": 11,
   "metadata": {},
   "outputs": [
    {
     "data": {
      "text/html": [
       "<div><style>\n",
       ".dataframe > thead > tr,\n",
       ".dataframe > tbody > tr {\n",
       "  text-align: right;\n",
       "  white-space: pre-wrap;\n",
       "}\n",
       "</style>\n",
       "<small>shape: (18, 4)</small><table border=\"1\" class=\"dataframe\"><thead><tr><th>type1</th><th>attack_pokemons_count</th><th>defense_pokemons_count</th><th>total_pokemons</th></tr><tr><td>str</td><td>u32</td><td>u32</td><td>u32</td></tr></thead><tbody><tr><td>&quot;fire&quot;</td><td>42</td><td>10</td><td>52</td></tr><tr><td>&quot;fairy&quot;</td><td>5</td><td>13</td><td>18</td></tr><tr><td>&quot;poison&quot;</td><td>20</td><td>12</td><td>32</td></tr><tr><td>&quot;flying&quot;</td><td>1</td><td>2</td><td>3</td></tr><tr><td>&quot;dragon&quot;</td><td>21</td><td>6</td><td>27</td></tr><tr><td>&quot;electric&quot;</td><td>29</td><td>10</td><td>39</td></tr><tr><td>&quot;steel&quot;</td><td>3</td><td>21</td><td>24</td></tr><tr><td>&quot;grass&quot;</td><td>40</td><td>38</td><td>78</td></tr><tr><td>&quot;bug&quot;</td><td>32</td><td>40</td><td>72</td></tr><tr><td>&quot;ground&quot;</td><td>20</td><td>12</td><td>32</td></tr><tr><td>&quot;rock&quot;</td><td>24</td><td>21</td><td>45</td></tr><tr><td>&quot;psychic&quot;</td><td>28</td><td>25</td><td>53</td></tr><tr><td>&quot;dark&quot;</td><td>24</td><td>5</td><td>29</td></tr><tr><td>&quot;ice&quot;</td><td>15</td><td>8</td><td>23</td></tr><tr><td>&quot;water&quot;</td><td>68</td><td>46</td><td>114</td></tr><tr><td>&quot;ghost&quot;</td><td>13</td><td>14</td><td>27</td></tr><tr><td>&quot;normal&quot;</td><td>91</td><td>14</td><td>105</td></tr><tr><td>&quot;fighting&quot;</td><td>27</td><td>1</td><td>28</td></tr></tbody></table></div>"
      ],
      "text/plain": [
       "shape: (18, 4)\n",
       "┌──────────┬───────────────────────┬────────────────────────┬────────────────┐\n",
       "│ type1    ┆ attack_pokemons_count ┆ defense_pokemons_count ┆ total_pokemons │\n",
       "│ ---      ┆ ---                   ┆ ---                    ┆ ---            │\n",
       "│ str      ┆ u32                   ┆ u32                    ┆ u32            │\n",
       "╞══════════╪═══════════════════════╪════════════════════════╪════════════════╡\n",
       "│ fire     ┆ 42                    ┆ 10                     ┆ 52             │\n",
       "│ fairy    ┆ 5                     ┆ 13                     ┆ 18             │\n",
       "│ poison   ┆ 20                    ┆ 12                     ┆ 32             │\n",
       "│ flying   ┆ 1                     ┆ 2                      ┆ 3              │\n",
       "│ …        ┆ …                     ┆ …                      ┆ …              │\n",
       "│ water    ┆ 68                    ┆ 46                     ┆ 114            │\n",
       "│ ghost    ┆ 13                    ┆ 14                     ┆ 27             │\n",
       "│ normal   ┆ 91                    ┆ 14                     ┆ 105            │\n",
       "│ fighting ┆ 27                    ┆ 1                      ┆ 28             │\n",
       "└──────────┴───────────────────────┴────────────────────────┴────────────────┘"
      ]
     },
     "execution_count": 11,
     "metadata": {},
     "output_type": "execute_result"
    }
   ],
   "source": [
    "pokemon.group_by('type1').agg(\n",
    "    attack_pokemons_count = pl.col('name').filter(pl.col('attack') >= pl.col('defense')).count(),\n",
    "    defense_pokemons_count = pl.col('name').filter(pl.col('defense') > pl.col('attack')).count(),\n",
    "    total_pokemons = pl.count()\n",
    ")"
   ]
  },
  {
   "attachments": {},
   "cell_type": "markdown",
   "metadata": {},
   "source": [
    "4. Start with the result of question 3, then add an column showing the percentage of 'attack' pokemon out of total pokémons for each type.\n",
    "Sort the types based on the percentage of attack pokémons."
   ]
  },
  {
   "cell_type": "code",
   "execution_count": 13,
   "metadata": {},
   "outputs": [
    {
     "data": {
      "text/html": [
       "<div><style>\n",
       ".dataframe > thead > tr,\n",
       ".dataframe > tbody > tr {\n",
       "  text-align: right;\n",
       "  white-space: pre-wrap;\n",
       "}\n",
       "</style>\n",
       "<small>shape: (18, 5)</small><table border=\"1\" class=\"dataframe\"><thead><tr><th>type1</th><th>attack_pokemons_count</th><th>defense_pokemons_count</th><th>total_pokemons</th><th>attack_pokemons_percentage</th></tr><tr><td>str</td><td>u32</td><td>u32</td><td>u32</td><td>f64</td></tr></thead><tbody><tr><td>&quot;fighting&quot;</td><td>27</td><td>1</td><td>28</td><td>96.428571</td></tr><tr><td>&quot;normal&quot;</td><td>91</td><td>14</td><td>105</td><td>86.666667</td></tr><tr><td>&quot;dark&quot;</td><td>24</td><td>5</td><td>29</td><td>82.758621</td></tr><tr><td>&quot;fire&quot;</td><td>42</td><td>10</td><td>52</td><td>80.769231</td></tr><tr><td>&quot;dragon&quot;</td><td>21</td><td>6</td><td>27</td><td>77.777778</td></tr><tr><td>&quot;electric&quot;</td><td>29</td><td>10</td><td>39</td><td>74.358974</td></tr><tr><td>&quot;ice&quot;</td><td>15</td><td>8</td><td>23</td><td>65.217391</td></tr><tr><td>&quot;poison&quot;</td><td>20</td><td>12</td><td>32</td><td>62.5</td></tr><tr><td>&quot;ground&quot;</td><td>20</td><td>12</td><td>32</td><td>62.5</td></tr><tr><td>&quot;water&quot;</td><td>68</td><td>46</td><td>114</td><td>59.649123</td></tr><tr><td>&quot;rock&quot;</td><td>24</td><td>21</td><td>45</td><td>53.333333</td></tr><tr><td>&quot;psychic&quot;</td><td>28</td><td>25</td><td>53</td><td>52.830189</td></tr><tr><td>&quot;grass&quot;</td><td>40</td><td>38</td><td>78</td><td>51.282051</td></tr><tr><td>&quot;ghost&quot;</td><td>13</td><td>14</td><td>27</td><td>48.148148</td></tr><tr><td>&quot;bug&quot;</td><td>32</td><td>40</td><td>72</td><td>44.444444</td></tr><tr><td>&quot;flying&quot;</td><td>1</td><td>2</td><td>3</td><td>33.333333</td></tr><tr><td>&quot;fairy&quot;</td><td>5</td><td>13</td><td>18</td><td>27.777778</td></tr><tr><td>&quot;steel&quot;</td><td>3</td><td>21</td><td>24</td><td>12.5</td></tr></tbody></table></div>"
      ],
      "text/plain": [
       "shape: (18, 5)\n",
       "┌──────────┬───────────────────────┬───────────────────────┬────────────────┬──────────────────────┐\n",
       "│ type1    ┆ attack_pokemons_count ┆ defense_pokemons_coun ┆ total_pokemons ┆ attack_pokemons_perc │\n",
       "│ ---      ┆ ---                   ┆ t                     ┆ ---            ┆ entage               │\n",
       "│ str      ┆ u32                   ┆ ---                   ┆ u32            ┆ ---                  │\n",
       "│          ┆                       ┆ u32                   ┆                ┆ f64                  │\n",
       "╞══════════╪═══════════════════════╪═══════════════════════╪════════════════╪══════════════════════╡\n",
       "│ fighting ┆ 27                    ┆ 1                     ┆ 28             ┆ 96.428571            │\n",
       "│ normal   ┆ 91                    ┆ 14                    ┆ 105            ┆ 86.666667            │\n",
       "│ dark     ┆ 24                    ┆ 5                     ┆ 29             ┆ 82.758621            │\n",
       "│ fire     ┆ 42                    ┆ 10                    ┆ 52             ┆ 80.769231            │\n",
       "│ …        ┆ …                     ┆ …                     ┆ …              ┆ …                    │\n",
       "│ bug      ┆ 32                    ┆ 40                    ┆ 72             ┆ 44.444444            │\n",
       "│ flying   ┆ 1                     ┆ 2                     ┆ 3              ┆ 33.333333            │\n",
       "│ fairy    ┆ 5                     ┆ 13                    ┆ 18             ┆ 27.777778            │\n",
       "│ steel    ┆ 3                     ┆ 21                    ┆ 24             ┆ 12.5                 │\n",
       "└──────────┴───────────────────────┴───────────────────────┴────────────────┴──────────────────────┘"
      ]
     },
     "execution_count": 13,
     "metadata": {},
     "output_type": "execute_result"
    }
   ],
   "source": [
    "pokemon.group_by('type1').agg(\n",
    "    attack_pokemons_count = pl.col('name').filter(pl.col('attack') >= pl.col('defense')).count(),\n",
    "    defense_pokemons_count = pl.col('name').filter(pl.col('defense') > pl.col('attack')).count(),\n",
    "    total_pokemons = pl.count()\n",
    ").with_columns(\n",
    "    attack_pokemons_percentage = pl.col('attack_pokemons_count') / pl.col('total_pokemons') * 100\n",
    ").sort('attack_pokemons_percentage', descending=True)"
   ]
  },
  {
   "attachments": {},
   "cell_type": "markdown",
   "metadata": {},
   "source": [
    "5. For each ability, show 3 information: \n",
    "- the strongest 3 pokémons with the ability. \n",
    "- the weakest 3 pokémons with the ability.\n",
    "- the total number of pokémons with the ability\n",
    "Sort the dataframe by the number of pokémons with the ability.\n",
    "\n",
    "Determine strongest and weakest based on the 'attack' column. Hint: the abilities column is a list which can be exploded"
   ]
  },
  {
   "cell_type": "code",
   "execution_count": 15,
   "metadata": {},
   "outputs": [
    {
     "data": {
      "text/html": [
       "<div><style>\n",
       ".dataframe > thead > tr,\n",
       ".dataframe > tbody > tr {\n",
       "  text-align: right;\n",
       "  white-space: pre-wrap;\n",
       "}\n",
       "</style>\n",
       "<small>shape: (10, 4)</small><table border=\"1\" class=\"dataframe\"><thead><tr><th>abilities</th><th>strongest_3_pokemons</th><th>weakest_3_pokemons</th><th>pokemons_count</th></tr><tr><td>str</td><td>list[str]</td><td>list[str]</td><td>u32</td></tr></thead><tbody><tr><td>&quot;Sturdy&quot;</td><td>[&quot;Aggron&quot;, &quot;Gigalith&quot;, &quot;Steelix&quot;]</td><td>[&quot;Shuckle&quot;, &quot;Cosmoem&quot;, &quot;Magnemite&quot;]</td><td>41</td></tr><tr><td>&quot;Swift Swim&quot;</td><td>[&quot;Beartic&quot;, &quot;Armaldo&quot;, &quot;Kabutops&quot;]</td><td>[&quot;Magikarp&quot;, &quot;Feebas&quot;, &quot;Mantyke&quot;]</td><td>38</td></tr><tr><td>&quot;Keen Eye&quot;</td><td>[&quot;Braviary&quot;, &quot;Toucannon&quot;, &quot;Lycanroc&quot;]</td><td>[&quot;Hoothoot&quot;, &quot;Wingull&quot;, &quot;Ducklett&quot;]</td><td>37</td></tr><tr><td>&quot;Chlorophyll&quot;</td><td>[&quot;Leafeon&quot;, &quot;Victreebel&quot;, &quot;Exeggutor&quot;]</td><td>[&quot;Cottonee&quot;, &quot;Sunkern&quot;, &quot;Hoppip&quot;]</td><td>35</td></tr><tr><td>&quot;Levitate&quot;</td><td>[&quot;Latios&quot;, &quot;Azelf&quot;, &quot;Giratina&quot;]</td><td>[&quot;Bronzor&quot;, &quot;Chingling&quot;, &quot;Gastly&quot;]</td><td>33</td></tr><tr><td>&quot;Inner Focus&quot;</td><td>[&quot;Lucario&quot;, &quot;Dragonite&quot;, &quot;Kangaskhan&quot;]</td><td>[&quot;Abra&quot;, &quot;Kadabra&quot;, &quot;Zubat&quot;]</td><td>32</td></tr><tr><td>&quot;Intimidate&quot;</td><td>[&quot;Gyarados&quot;, &quot;Salamence&quot;, &quot;Landorus&quot;]</td><td>[&quot;Ekans&quot;, &quot;Masquerain&quot;, &quot;Shinx&quot;]</td><td>31</td></tr><tr><td>&quot;Swarm&quot;</td><td>[&quot;Heracross&quot;, &quot;Beedrill&quot;, &quot;Scizor&quot;]</td><td>[&quot;Ledyba&quot;, &quot;Ledian&quot;, &quot;Venipede&quot;]</td><td>25</td></tr><tr><td>&quot;Pressure&quot;</td><td>[&quot;Mewtwo&quot;, &quot;Absol&quot;, &quot;Aerodactyl&quot;]</td><td>[&quot;Wailmer&quot;, &quot;Dusclops&quot;, &quot;Suicune&quot;]</td><td>25</td></tr><tr><td>&quot;Sheer Force&quot;</td><td>[&quot;Rampardos&quot;, &quot;Landorus&quot;, &quot;Conkeldurr&quot;]</td><td>[&quot;Darmanitan&quot;, &quot;Makuhita&quot;, &quot;Totodile&quot;]</td><td>25</td></tr></tbody></table></div>"
      ],
      "text/plain": [
       "shape: (10, 4)\n",
       "┌─────────────┬───────────────────────────┬───────────────────────────────────────┬────────────────┐\n",
       "│ abilities   ┆ strongest_3_pokemons      ┆ weakest_3_pokemons                    ┆ pokemons_count │\n",
       "│ ---         ┆ ---                       ┆ ---                                   ┆ ---            │\n",
       "│ str         ┆ list[str]                 ┆ list[str]                             ┆ u32            │\n",
       "╞═════════════╪═══════════════════════════╪═══════════════════════════════════════╪════════════════╡\n",
       "│ Sturdy      ┆ [\"Aggron\", \"Gigalith\",    ┆ [\"Shuckle\", \"Cosmoem\", \"Magnemite\"]   ┆ 41             │\n",
       "│             ┆ \"Steelix\"]                ┆                                       ┆                │\n",
       "│ Swift Swim  ┆ [\"Beartic\", \"Armaldo\",    ┆ [\"Magikarp\", \"Feebas\", \"Mantyke\"]     ┆ 38             │\n",
       "│             ┆ \"Kabutops\"]               ┆                                       ┆                │\n",
       "│ Keen Eye    ┆ [\"Braviary\", \"Toucannon\", ┆ [\"Hoothoot\", \"Wingull\", \"Ducklett\"]   ┆ 37             │\n",
       "│             ┆ \"Lycanroc\"]               ┆                                       ┆                │\n",
       "│ Chlorophyll ┆ [\"Leafeon\", \"Victreebel\", ┆ [\"Cottonee\", \"Sunkern\", \"Hoppip\"]     ┆ 35             │\n",
       "│             ┆ \"Exeggutor\"]              ┆                                       ┆                │\n",
       "│ …           ┆ …                         ┆ …                                     ┆ …              │\n",
       "│ Intimidate  ┆ [\"Gyarados\", \"Salamence\", ┆ [\"Ekans\", \"Masquerain\", \"Shinx\"]      ┆ 31             │\n",
       "│             ┆ \"Landorus\"]               ┆                                       ┆                │\n",
       "│ Swarm       ┆ [\"Heracross\", \"Beedrill\", ┆ [\"Ledyba\", \"Ledian\", \"Venipede\"]      ┆ 25             │\n",
       "│             ┆ \"Scizor\"]                 ┆                                       ┆                │\n",
       "│ Pressure    ┆ [\"Mewtwo\", \"Absol\",       ┆ [\"Wailmer\", \"Dusclops\", \"Suicune\"]    ┆ 25             │\n",
       "│             ┆ \"Aerodactyl\"]             ┆                                       ┆                │\n",
       "│ Sheer Force ┆ [\"Rampardos\", \"Landorus\", ┆ [\"Darmanitan\", \"Makuhita\",            ┆ 25             │\n",
       "│             ┆ \"Conkeldurr\"]             ┆ \"Totodile\"]                           ┆                │\n",
       "└─────────────┴───────────────────────────┴───────────────────────────────────────┴────────────────┘"
      ]
     },
     "execution_count": 15,
     "metadata": {},
     "output_type": "execute_result"
    }
   ],
   "source": [
    "pokemon.explode('abilities').group_by('abilities').agg(\n",
    "    strongest_3_pokemons = pl.col('name').sort_by('attack', descending=True).head(3),\n",
    "    weakest_3_pokemons = pl.col('name').sort_by('attack', descending=False).head(3),\n",
    "    pokemons_count = pl.count()\n",
    ").sort('pokemons_count', descending=True).head(10)"
   ]
  },
  {
   "attachments": {},
   "cell_type": "markdown",
   "metadata": {},
   "source": [
    "6. Split the pokémons into 3 categories based on their HP: the 33% of pokémons with the lowest HP, the 33% in the middle, and the 33% with the highest HP.\n",
    "Then sample 3 random pokémons for each category"
   ]
  },
  {
   "cell_type": "code",
   "execution_count": 19,
   "metadata": {},
   "outputs": [
    {
     "data": {
      "text/html": [
       "<div><style>\n",
       ".dataframe > thead > tr,\n",
       ".dataframe > tbody > tr {\n",
       "  text-align: right;\n",
       "  white-space: pre-wrap;\n",
       "}\n",
       "</style>\n",
       "<small>shape: (9, 10)</small><table border=\"1\" class=\"dataframe\"><thead><tr><th>name</th><th>type1</th><th>type2</th><th>abilities</th><th>hp</th><th>attack</th><th>defense</th><th>speed</th><th>is_legendary</th><th>category</th></tr><tr><td>str</td><td>str</td><td>str</td><td>list[str]</td><td>i64</td><td>i64</td><td>i64</td><td>i64</td><td>i64</td><td>cat</td></tr></thead><tbody><tr><td>&quot;Rattata&quot;</td><td>&quot;normal&quot;</td><td>&quot;dark&quot;</td><td>[&quot;Run Away&quot;, &quot;Guts&quot;, … &quot;Thick Fat&quot;]</td><td>30</td><td>56</td><td>35</td><td>72</td><td>0</td><td>&quot;low_hp&quot;</td></tr><tr><td>&quot;Skrelp&quot;</td><td>&quot;poison&quot;</td><td>&quot;water&quot;</td><td>[&quot;Poison Point&quot;, &quot;Poison Touch&quot;, &quot;Adaptability&quot;]</td><td>50</td><td>60</td><td>60</td><td>30</td><td>0</td><td>&quot;low_hp&quot;</td></tr><tr><td>&quot;Mimikyu&quot;</td><td>&quot;ghost&quot;</td><td>&quot;fairy&quot;</td><td>[&quot;Disguise&quot;]</td><td>55</td><td>90</td><td>80</td><td>96</td><td>0</td><td>&quot;low_hp&quot;</td></tr><tr><td>&quot;Poliwhirl&quot;</td><td>&quot;water&quot;</td><td>null</td><td>[&quot;Water Absorb&quot;, &quot;Damp&quot;, &quot;Swift Swim&quot;]</td><td>65</td><td>65</td><td>65</td><td>90</td><td>0</td><td>&quot;medium_hp&quot;</td></tr><tr><td>&quot;Weezing&quot;</td><td>&quot;poison&quot;</td><td>null</td><td>[&quot;Levitate&quot;]</td><td>65</td><td>90</td><td>120</td><td>60</td><td>0</td><td>&quot;medium_hp&quot;</td></tr><tr><td>&quot;Girafarig&quot;</td><td>&quot;normal&quot;</td><td>&quot;psychic&quot;</td><td>[&quot;Inner Focus&quot;, &quot;Early Bird&quot;, &quot;Sap Sipper&quot;]</td><td>70</td><td>80</td><td>65</td><td>85</td><td>0</td><td>&quot;medium_hp&quot;</td></tr><tr><td>&quot;Rhyhorn&quot;</td><td>&quot;ground&quot;</td><td>&quot;rock&quot;</td><td>[&quot;Lightningrod&quot;, &quot;Rock Head&quot;, &quot;Reckless&quot;]</td><td>80</td><td>85</td><td>95</td><td>25</td><td>0</td><td>&quot;high_hp&quot;</td></tr><tr><td>&quot;Phanpy&quot;</td><td>&quot;ground&quot;</td><td>null</td><td>[&quot;Pickup&quot;, &quot;Sand Veil&quot;]</td><td>90</td><td>60</td><td>60</td><td>40</td><td>0</td><td>&quot;high_hp&quot;</td></tr><tr><td>&quot;Gumshoos&quot;</td><td>&quot;normal&quot;</td><td>null</td><td>[&quot;Stakeout&quot;, &quot;Strong Jaw&quot;, &quot;Adaptability&quot;]</td><td>88</td><td>110</td><td>60</td><td>45</td><td>0</td><td>&quot;high_hp&quot;</td></tr></tbody></table></div>"
      ],
      "text/plain": [
       "shape: (9, 10)\n",
       "┌───────────┬────────┬─────────┬──────────────────┬───┬─────────┬───────┬──────────────┬───────────┐\n",
       "│ name      ┆ type1  ┆ type2   ┆ abilities        ┆ … ┆ defense ┆ speed ┆ is_legendary ┆ category  │\n",
       "│ ---       ┆ ---    ┆ ---     ┆ ---              ┆   ┆ ---     ┆ ---   ┆ ---          ┆ ---       │\n",
       "│ str       ┆ str    ┆ str     ┆ list[str]        ┆   ┆ i64     ┆ i64   ┆ i64          ┆ cat       │\n",
       "╞═══════════╪════════╪═════════╪══════════════════╪═══╪═════════╪═══════╪══════════════╪═══════════╡\n",
       "│ Rattata   ┆ normal ┆ dark    ┆ [\"Run Away\",     ┆ … ┆ 35      ┆ 72    ┆ 0            ┆ low_hp    │\n",
       "│           ┆        ┆         ┆ \"Guts\", … \"Thick ┆   ┆         ┆       ┆              ┆           │\n",
       "│           ┆        ┆         ┆ Fat\"]            ┆   ┆         ┆       ┆              ┆           │\n",
       "│ Skrelp    ┆ poison ┆ water   ┆ [\"Poison Point\", ┆ … ┆ 60      ┆ 30    ┆ 0            ┆ low_hp    │\n",
       "│           ┆        ┆         ┆ \"Poison Touch\",  ┆   ┆         ┆       ┆              ┆           │\n",
       "│           ┆        ┆         ┆ \"Adaptability\"]  ┆   ┆         ┆       ┆              ┆           │\n",
       "│ Mimikyu   ┆ ghost  ┆ fairy   ┆ [\"Disguise\"]     ┆ … ┆ 80      ┆ 96    ┆ 0            ┆ low_hp    │\n",
       "│ Poliwhirl ┆ water  ┆ null    ┆ [\"Water Absorb\", ┆ … ┆ 65      ┆ 90    ┆ 0            ┆ medium_hp │\n",
       "│           ┆        ┆         ┆ \"Damp\", \"Swift   ┆   ┆         ┆       ┆              ┆           │\n",
       "│           ┆        ┆         ┆ Swim\"]           ┆   ┆         ┆       ┆              ┆           │\n",
       "│ Weezing   ┆ poison ┆ null    ┆ [\"Levitate\"]     ┆ … ┆ 120     ┆ 60    ┆ 0            ┆ medium_hp │\n",
       "│ Girafarig ┆ normal ┆ psychic ┆ [\"Inner Focus\",  ┆ … ┆ 65      ┆ 85    ┆ 0            ┆ medium_hp │\n",
       "│           ┆        ┆         ┆ \"Early Bird\",    ┆   ┆         ┆       ┆              ┆           │\n",
       "│           ┆        ┆         ┆ \"Sap Sipper\"]    ┆   ┆         ┆       ┆              ┆           │\n",
       "│ Rhyhorn   ┆ ground ┆ rock    ┆ [\"Lightningrod\", ┆ … ┆ 95      ┆ 25    ┆ 0            ┆ high_hp   │\n",
       "│           ┆        ┆         ┆ \"Rock Head\",     ┆   ┆         ┆       ┆              ┆           │\n",
       "│           ┆        ┆         ┆ \"Reckless\"]      ┆   ┆         ┆       ┆              ┆           │\n",
       "│ Phanpy    ┆ ground ┆ null    ┆ [\"Pickup\", \"Sand ┆ … ┆ 60      ┆ 40    ┆ 0            ┆ high_hp   │\n",
       "│           ┆        ┆         ┆ Veil\"]           ┆   ┆         ┆       ┆              ┆           │\n",
       "│ Gumshoos  ┆ normal ┆ null    ┆ [\"Stakeout\",     ┆ … ┆ 60      ┆ 45    ┆ 0            ┆ high_hp   │\n",
       "│           ┆        ┆         ┆ \"Strong Jaw\",    ┆   ┆         ┆       ┆              ┆           │\n",
       "│           ┆        ┆         ┆ \"Adaptability\"]  ┆   ┆         ┆       ┆              ┆           │\n",
       "└───────────┴────────┴─────────┴──────────────────┴───┴─────────┴───────┴──────────────┴───────────┘"
      ]
     },
     "execution_count": 19,
     "metadata": {},
     "output_type": "execute_result"
    }
   ],
   "source": [
    "(\n",
    "    pokemon.with_columns(\n",
    "        category = pl.col('hp').qcut(quantiles=[0.33,0.66], labels=['low_hp', 'medium_hp', 'high_hp']))\n",
    "    .filter(\n",
    "        pl.int_range(1, pl.count()+1).shuffle().over(\"category\") <= 3)\n",
    "    .sort(by='category')\n",
    ")"
   ]
  },
  {
   "attachments": {},
   "cell_type": "markdown",
   "metadata": {},
   "source": [
    "7. As a continuation of question 6, add one column with the average hp for each category.\n",
    "Hint: think about the right position for the filter"
   ]
  },
  {
   "cell_type": "code",
   "execution_count": 20,
   "metadata": {},
   "outputs": [
    {
     "data": {
      "text/html": [
       "<div><style>\n",
       ".dataframe > thead > tr,\n",
       ".dataframe > tbody > tr {\n",
       "  text-align: right;\n",
       "  white-space: pre-wrap;\n",
       "}\n",
       "</style>\n",
       "<small>shape: (9, 11)</small><table border=\"1\" class=\"dataframe\"><thead><tr><th>name</th><th>type1</th><th>type2</th><th>abilities</th><th>hp</th><th>attack</th><th>defense</th><th>speed</th><th>is_legendary</th><th>category</th><th>avg_hp_category</th></tr><tr><td>str</td><td>str</td><td>str</td><td>list[str]</td><td>i64</td><td>i64</td><td>i64</td><td>i64</td><td>i64</td><td>cat</td><td>f64</td></tr></thead><tbody><tr><td>&quot;Doduo&quot;</td><td>&quot;normal&quot;</td><td>&quot;flying&quot;</td><td>[&quot;Run Away&quot;, &quot;Early Bird&quot;, &quot;Tangled Feet&quot;]</td><td>35</td><td>85</td><td>45</td><td>75</td><td>0</td><td>&quot;low_hp&quot;</td><td>44.217228</td></tr><tr><td>&quot;Meditite&quot;</td><td>&quot;fighting&quot;</td><td>&quot;psychic&quot;</td><td>[&quot;Pure Power&quot;, &quot;Telepathy&quot;]</td><td>30</td><td>40</td><td>55</td><td>60</td><td>0</td><td>&quot;low_hp&quot;</td><td>44.217228</td></tr><tr><td>&quot;Anorith&quot;</td><td>&quot;rock&quot;</td><td>&quot;bug&quot;</td><td>[&quot;Battle Armor&quot;, &quot;Swift Swim&quot;]</td><td>45</td><td>95</td><td>50</td><td>75</td><td>0</td><td>&quot;low_hp&quot;</td><td>44.217228</td></tr><tr><td>&quot;Leafeon&quot;</td><td>&quot;grass&quot;</td><td>null</td><td>[&quot;Leaf Guard&quot;, &quot;Chlorophyll&quot;]</td><td>65</td><td>110</td><td>130</td><td>95</td><td>0</td><td>&quot;medium_hp&quot;</td><td>66.560284</td></tr><tr><td>&quot;Sigilyph&quot;</td><td>&quot;psychic&quot;</td><td>&quot;flying&quot;</td><td>[&quot;Wonder Skin &quot;, &quot;Magic Guard&quot;, &quot;Tinted Lens&quot;]</td><td>72</td><td>58</td><td>80</td><td>97</td><td>0</td><td>&quot;medium_hp&quot;</td><td>66.560284</td></tr><tr><td>&quot;Kartana&quot;</td><td>&quot;grass&quot;</td><td>&quot;steel&quot;</td><td>[&quot;Beast Boost&quot;]</td><td>59</td><td>181</td><td>131</td><td>109</td><td>1</td><td>&quot;medium_hp&quot;</td><td>66.560284</td></tr><tr><td>&quot;Relicanth&quot;</td><td>&quot;water&quot;</td><td>&quot;rock&quot;</td><td>[&quot;Swift Swim&quot;, &quot;Rock Head&quot;, &quot;Sturdy&quot;]</td><td>100</td><td>90</td><td>130</td><td>55</td><td>0</td><td>&quot;high_hp&quot;</td><td>97.857143</td></tr><tr><td>&quot;Empoleon&quot;</td><td>&quot;water&quot;</td><td>&quot;steel&quot;</td><td>[&quot;Torrent&quot;, &quot;Defiant&quot;]</td><td>84</td><td>86</td><td>88</td><td>60</td><td>0</td><td>&quot;high_hp&quot;</td><td>97.857143</td></tr><tr><td>&quot;Toxicroak&quot;</td><td>&quot;poison&quot;</td><td>&quot;fighting&quot;</td><td>[&quot;Anticipation&quot;, &quot;Dry Skin&quot;, &quot;Poison Touch&quot;]</td><td>83</td><td>106</td><td>65</td><td>85</td><td>0</td><td>&quot;high_hp&quot;</td><td>97.857143</td></tr></tbody></table></div>"
      ],
      "text/plain": [
       "shape: (9, 11)\n",
       "┌───────────┬──────────┬──────────┬─────────────┬───┬───────┬─────────────┬───────────┬────────────┐\n",
       "│ name      ┆ type1    ┆ type2    ┆ abilities   ┆ … ┆ speed ┆ is_legendar ┆ category  ┆ avg_hp_cat │\n",
       "│ ---       ┆ ---      ┆ ---      ┆ ---         ┆   ┆ ---   ┆ y           ┆ ---       ┆ egory      │\n",
       "│ str       ┆ str      ┆ str      ┆ list[str]   ┆   ┆ i64   ┆ ---         ┆ cat       ┆ ---        │\n",
       "│           ┆          ┆          ┆             ┆   ┆       ┆ i64         ┆           ┆ f64        │\n",
       "╞═══════════╪══════════╪══════════╪═════════════╪═══╪═══════╪═════════════╪═══════════╪════════════╡\n",
       "│ Doduo     ┆ normal   ┆ flying   ┆ [\"Run       ┆ … ┆ 75    ┆ 0           ┆ low_hp    ┆ 44.217228  │\n",
       "│           ┆          ┆          ┆ Away\",      ┆   ┆       ┆             ┆           ┆            │\n",
       "│           ┆          ┆          ┆ \"Early      ┆   ┆       ┆             ┆           ┆            │\n",
       "│           ┆          ┆          ┆ Bird\",      ┆   ┆       ┆             ┆           ┆            │\n",
       "│           ┆          ┆          ┆ \"Tangled    ┆   ┆       ┆             ┆           ┆            │\n",
       "│           ┆          ┆          ┆ Feet\"]      ┆   ┆       ┆             ┆           ┆            │\n",
       "│ Meditite  ┆ fighting ┆ psychic  ┆ [\"Pure      ┆ … ┆ 60    ┆ 0           ┆ low_hp    ┆ 44.217228  │\n",
       "│           ┆          ┆          ┆ Power\", \"Te ┆   ┆       ┆             ┆           ┆            │\n",
       "│           ┆          ┆          ┆ lepathy\"]   ┆   ┆       ┆             ┆           ┆            │\n",
       "│ Anorith   ┆ rock     ┆ bug      ┆ [\"Battle    ┆ … ┆ 75    ┆ 0           ┆ low_hp    ┆ 44.217228  │\n",
       "│           ┆          ┆          ┆ Armor\",     ┆   ┆       ┆             ┆           ┆            │\n",
       "│           ┆          ┆          ┆ \"Swift      ┆   ┆       ┆             ┆           ┆            │\n",
       "│           ┆          ┆          ┆ Swim\"]      ┆   ┆       ┆             ┆           ┆            │\n",
       "│ Leafeon   ┆ grass    ┆ null     ┆ [\"Leaf      ┆ … ┆ 95    ┆ 0           ┆ medium_hp ┆ 66.560284  │\n",
       "│           ┆          ┆          ┆ Guard\", \"Ch ┆   ┆       ┆             ┆           ┆            │\n",
       "│           ┆          ┆          ┆ lorophyll\"] ┆   ┆       ┆             ┆           ┆            │\n",
       "│ Sigilyph  ┆ psychic  ┆ flying   ┆ [\"Wonder    ┆ … ┆ 97    ┆ 0           ┆ medium_hp ┆ 66.560284  │\n",
       "│           ┆          ┆          ┆ Skin \",     ┆   ┆       ┆             ┆           ┆            │\n",
       "│           ┆          ┆          ┆ \"Magic      ┆   ┆       ┆             ┆           ┆            │\n",
       "│           ┆          ┆          ┆ Guard\",     ┆   ┆       ┆             ┆           ┆            │\n",
       "│           ┆          ┆          ┆ \"Tinted     ┆   ┆       ┆             ┆           ┆            │\n",
       "│           ┆          ┆          ┆ Lens\"]      ┆   ┆       ┆             ┆           ┆            │\n",
       "│ Kartana   ┆ grass    ┆ steel    ┆ [\"Beast     ┆ … ┆ 109   ┆ 1           ┆ medium_hp ┆ 66.560284  │\n",
       "│           ┆          ┆          ┆ Boost\"]     ┆   ┆       ┆             ┆           ┆            │\n",
       "│ Relicanth ┆ water    ┆ rock     ┆ [\"Swift     ┆ … ┆ 55    ┆ 0           ┆ high_hp   ┆ 97.857143  │\n",
       "│           ┆          ┆          ┆ Swim\",      ┆   ┆       ┆             ┆           ┆            │\n",
       "│           ┆          ┆          ┆ \"Rock       ┆   ┆       ┆             ┆           ┆            │\n",
       "│           ┆          ┆          ┆ Head\",      ┆   ┆       ┆             ┆           ┆            │\n",
       "│           ┆          ┆          ┆ \"Sturdy\"]   ┆   ┆       ┆             ┆           ┆            │\n",
       "│ Empoleon  ┆ water    ┆ steel    ┆ [\"Torrent\", ┆ … ┆ 60    ┆ 0           ┆ high_hp   ┆ 97.857143  │\n",
       "│           ┆          ┆          ┆ \"Defiant\"]  ┆   ┆       ┆             ┆           ┆            │\n",
       "│ Toxicroak ┆ poison   ┆ fighting ┆ [\"Anticipat ┆ … ┆ 85    ┆ 0           ┆ high_hp   ┆ 97.857143  │\n",
       "│           ┆          ┆          ┆ ion\", \"Dry  ┆   ┆       ┆             ┆           ┆            │\n",
       "│           ┆          ┆          ┆ Skin\",      ┆   ┆       ┆             ┆           ┆            │\n",
       "│           ┆          ┆          ┆ \"Poison     ┆   ┆       ┆             ┆           ┆            │\n",
       "│           ┆          ┆          ┆ Touch\"]     ┆   ┆       ┆             ┆           ┆            │\n",
       "└───────────┴──────────┴──────────┴─────────────┴───┴───────┴─────────────┴───────────┴────────────┘"
      ]
     },
     "execution_count": 20,
     "metadata": {},
     "output_type": "execute_result"
    }
   ],
   "source": [
    "(\n",
    "    pokemon.with_columns(\n",
    "        category = pl.col('hp').qcut(quantiles=[0.33,0.66], labels=['low_hp', 'medium_hp', 'high_hp']))\n",
    "    .with_columns(\n",
    "        avg_hp_category = pl.col('hp').mean().over('category'))\n",
    "    .filter(\n",
    "        pl.int_range(1, pl.count()+1).shuffle().over(\"category\") <= 3)\n",
    "    .sort(by='category')\n",
    ")"
   ]
  },
  {
   "attachments": {},
   "cell_type": "markdown",
   "metadata": {},
   "source": [
    "8. Create a dataframe that has: one row for each ability, one column for each type 1. Inside the dataframe, show the count of pokémon belonging to the type and having that ability.\n",
    "Hint: check out the n_unique function"
   ]
  },
  {
   "cell_type": "code",
   "execution_count": 21,
   "metadata": {},
   "outputs": [
    {
     "data": {
      "text/html": [
       "<div><style>\n",
       ".dataframe > thead > tr,\n",
       ".dataframe > tbody > tr {\n",
       "  text-align: right;\n",
       "  white-space: pre-wrap;\n",
       "}\n",
       "</style>\n",
       "<small>shape: (227, 19)</small><table border=\"1\" class=\"dataframe\"><thead><tr><th>abilities</th><th>grass</th><th>fire</th><th>water</th><th>bug</th><th>normal</th><th>poison</th><th>electric</th><th>ground</th><th>fairy</th><th>fighting</th><th>psychic</th><th>rock</th><th>ghost</th><th>ice</th><th>dragon</th><th>dark</th><th>steel</th><th>flying</th></tr><tr><td>str</td><td>u32</td><td>u32</td><td>u32</td><td>u32</td><td>u32</td><td>u32</td><td>u32</td><td>u32</td><td>u32</td><td>u32</td><td>u32</td><td>u32</td><td>u32</td><td>u32</td><td>u32</td><td>u32</td><td>u32</td><td>u32</td></tr></thead><tbody><tr><td>&quot;Overgrow&quot;</td><td>23</td><td>null</td><td>null</td><td>null</td><td>null</td><td>null</td><td>null</td><td>null</td><td>null</td><td>null</td><td>null</td><td>null</td><td>null</td><td>null</td><td>null</td><td>null</td><td>null</td><td>null</td></tr><tr><td>&quot;Chlorophyll&quot;</td><td>30</td><td>null</td><td>null</td><td>3</td><td>2</td><td>null</td><td>null</td><td>null</td><td>null</td><td>null</td><td>null</td><td>null</td><td>null</td><td>null</td><td>null</td><td>null</td><td>null</td><td>null</td></tr><tr><td>&quot;Blaze&quot;</td><td>null</td><td>23</td><td>null</td><td>null</td><td>null</td><td>null</td><td>null</td><td>null</td><td>null</td><td>null</td><td>null</td><td>null</td><td>null</td><td>null</td><td>null</td><td>null</td><td>null</td><td>null</td></tr><tr><td>&quot;Solar Power&quot;</td><td>3</td><td>3</td><td>null</td><td>null</td><td>null</td><td>null</td><td>2</td><td>null</td><td>null</td><td>null</td><td>null</td><td>null</td><td>null</td><td>null</td><td>null</td><td>null</td><td>null</td><td>null</td></tr><tr><td>&quot;Torrent&quot;</td><td>null</td><td>null</td><td>23</td><td>null</td><td>null</td><td>null</td><td>null</td><td>null</td><td>null</td><td>null</td><td>null</td><td>null</td><td>null</td><td>null</td><td>null</td><td>null</td><td>null</td><td>null</td></tr><tr><td>&quot;Rain Dish&quot;</td><td>2</td><td>null</td><td>10</td><td>1</td><td>null</td><td>null</td><td>null</td><td>null</td><td>null</td><td>null</td><td>null</td><td>null</td><td>null</td><td>null</td><td>null</td><td>null</td><td>null</td><td>null</td></tr><tr><td>&quot;Shield Dust&quot;</td><td>null</td><td>null</td><td>null</td><td>9</td><td>null</td><td>null</td><td>null</td><td>null</td><td>null</td><td>null</td><td>null</td><td>null</td><td>null</td><td>null</td><td>null</td><td>null</td><td>null</td><td>null</td></tr><tr><td>&quot;Run Away&quot;</td><td>1</td><td>2</td><td>null</td><td>6</td><td>12</td><td>null</td><td>1</td><td>null</td><td>1</td><td>null</td><td>null</td><td>null</td><td>null</td><td>null</td><td>null</td><td>1</td><td>null</td><td>null</td></tr><tr><td>&quot;Shed Skin&quot;</td><td>null</td><td>null</td><td>null</td><td>8</td><td>null</td><td>3</td><td>null</td><td>null</td><td>null</td><td>null</td><td>null</td><td>1</td><td>null</td><td>null</td><td>2</td><td>2</td><td>null</td><td>null</td></tr><tr><td>&quot;Compoundeyes&quot;</td><td>null</td><td>null</td><td>null</td><td>9</td><td>null</td><td>null</td><td>null</td><td>null</td><td>null</td><td>null</td><td>null</td><td>null</td><td>null</td><td>null</td><td>null</td><td>null</td><td>null</td><td>null</td></tr><tr><td>&quot;Tinted Lens&quot;</td><td>null</td><td>null</td><td>null</td><td>6</td><td>2</td><td>null</td><td>null</td><td>null</td><td>null</td><td>null</td><td>1</td><td>null</td><td>null</td><td>null</td><td>null</td><td>null</td><td>null</td><td>null</td></tr><tr><td>&quot;Swarm&quot;</td><td>null</td><td>null</td><td>null</td><td>25</td><td>null</td><td>null</td><td>null</td><td>null</td><td>null</td><td>null</td><td>null</td><td>null</td><td>null</td><td>null</td><td>null</td><td>null</td><td>null</td><td>null</td></tr><tr><td>&hellip;</td><td>&hellip;</td><td>&hellip;</td><td>&hellip;</td><td>&hellip;</td><td>&hellip;</td><td>&hellip;</td><td>&hellip;</td><td>&hellip;</td><td>&hellip;</td><td>&hellip;</td><td>&hellip;</td><td>&hellip;</td><td>&hellip;</td><td>&hellip;</td><td>&hellip;</td><td>&hellip;</td><td>&hellip;</td><td>&hellip;</td></tr><tr><td>&quot;Dazzling&quot;</td><td>null</td><td>null</td><td>1</td><td>null</td><td>null</td><td>null</td><td>null</td><td>null</td><td>null</td><td>null</td><td>null</td><td>null</td><td>null</td><td>null</td><td>null</td><td>null</td><td>null</td><td>null</td></tr><tr><td>&quot;Berserk&quot;</td><td>null</td><td>null</td><td>null</td><td>null</td><td>1</td><td>null</td><td>null</td><td>null</td><td>null</td><td>null</td><td>null</td><td>null</td><td>null</td><td>null</td><td>null</td><td>null</td><td>null</td><td>null</td></tr><tr><td>&quot;Steelworker&quot;</td><td>null</td><td>null</td><td>null</td><td>null</td><td>null</td><td>null</td><td>null</td><td>null</td><td>null</td><td>null</td><td>null</td><td>null</td><td>1</td><td>null</td><td>null</td><td>null</td><td>null</td><td>null</td></tr><tr><td>&quot;Electric Surge&quot;</td><td>null</td><td>null</td><td>null</td><td>null</td><td>null</td><td>null</td><td>1</td><td>null</td><td>null</td><td>null</td><td>null</td><td>null</td><td>null</td><td>null</td><td>null</td><td>null</td><td>null</td><td>null</td></tr><tr><td>&quot;Psychic Surge&quot;</td><td>null</td><td>null</td><td>null</td><td>null</td><td>null</td><td>null</td><td>null</td><td>null</td><td>null</td><td>null</td><td>1</td><td>null</td><td>null</td><td>null</td><td>null</td><td>null</td><td>null</td><td>null</td></tr><tr><td>&quot;Grassy Surge&quot;</td><td>1</td><td>null</td><td>null</td><td>null</td><td>null</td><td>null</td><td>null</td><td>null</td><td>null</td><td>null</td><td>null</td><td>null</td><td>null</td><td>null</td><td>null</td><td>null</td><td>null</td><td>null</td></tr><tr><td>&quot;Misty Surge&quot;</td><td>null</td><td>null</td><td>1</td><td>null</td><td>null</td><td>null</td><td>null</td><td>null</td><td>null</td><td>null</td><td>null</td><td>null</td><td>null</td><td>null</td><td>null</td><td>null</td><td>null</td><td>null</td></tr><tr><td>&quot;Full Metal Body&quot;</td><td>null</td><td>null</td><td>null</td><td>null</td><td>null</td><td>null</td><td>null</td><td>null</td><td>null</td><td>null</td><td>1</td><td>null</td><td>null</td><td>null</td><td>null</td><td>null</td><td>null</td><td>null</td></tr><tr><td>&quot;Shadow Shield&quot;</td><td>null</td><td>null</td><td>null</td><td>null</td><td>null</td><td>null</td><td>null</td><td>null</td><td>null</td><td>null</td><td>1</td><td>null</td><td>null</td><td>null</td><td>null</td><td>null</td><td>null</td><td>null</td></tr><tr><td>&quot;Beast Boost&quot;</td><td>1</td><td>null</td><td>null</td><td>2</td><td>null</td><td>null</td><td>1</td><td>null</td><td>null</td><td>null</td><td>null</td><td>1</td><td>null</td><td>null</td><td>null</td><td>1</td><td>1</td><td>null</td></tr><tr><td>&quot;Prism Armor&quot;</td><td>null</td><td>null</td><td>null</td><td>null</td><td>null</td><td>null</td><td>null</td><td>null</td><td>null</td><td>null</td><td>1</td><td>null</td><td>null</td><td>null</td><td>null</td><td>null</td><td>null</td><td>null</td></tr><tr><td>&quot;Soul-Heart&quot;</td><td>null</td><td>null</td><td>null</td><td>null</td><td>null</td><td>null</td><td>null</td><td>null</td><td>null</td><td>null</td><td>null</td><td>null</td><td>null</td><td>null</td><td>null</td><td>null</td><td>1</td><td>null</td></tr></tbody></table></div>"
      ],
      "text/plain": [
       "shape: (227, 19)\n",
       "┌───────────────┬───────┬──────┬───────┬───┬────────┬──────┬───────┬────────┐\n",
       "│ abilities     ┆ grass ┆ fire ┆ water ┆ … ┆ dragon ┆ dark ┆ steel ┆ flying │\n",
       "│ ---           ┆ ---   ┆ ---  ┆ ---   ┆   ┆ ---    ┆ ---  ┆ ---   ┆ ---    │\n",
       "│ str           ┆ u32   ┆ u32  ┆ u32   ┆   ┆ u32    ┆ u32  ┆ u32   ┆ u32    │\n",
       "╞═══════════════╪═══════╪══════╪═══════╪═══╪════════╪══════╪═══════╪════════╡\n",
       "│ Overgrow      ┆ 23    ┆ null ┆ null  ┆ … ┆ null   ┆ null ┆ null  ┆ null   │\n",
       "│ Chlorophyll   ┆ 30    ┆ null ┆ null  ┆ … ┆ null   ┆ null ┆ null  ┆ null   │\n",
       "│ Blaze         ┆ null  ┆ 23   ┆ null  ┆ … ┆ null   ┆ null ┆ null  ┆ null   │\n",
       "│ Solar Power   ┆ 3     ┆ 3    ┆ null  ┆ … ┆ null   ┆ null ┆ null  ┆ null   │\n",
       "│ …             ┆ …     ┆ …    ┆ …     ┆ … ┆ …      ┆ …    ┆ …     ┆ …      │\n",
       "│ Shadow Shield ┆ null  ┆ null ┆ null  ┆ … ┆ null   ┆ null ┆ null  ┆ null   │\n",
       "│ Beast Boost   ┆ 1     ┆ null ┆ null  ┆ … ┆ null   ┆ 1    ┆ 1     ┆ null   │\n",
       "│ Prism Armor   ┆ null  ┆ null ┆ null  ┆ … ┆ null   ┆ null ┆ null  ┆ null   │\n",
       "│ Soul-Heart    ┆ null  ┆ null ┆ null  ┆ … ┆ null   ┆ null ┆ 1     ┆ null   │\n",
       "└───────────────┴───────┴──────┴───────┴───┴────────┴──────┴───────┴────────┘"
      ]
     },
     "execution_count": 21,
     "metadata": {},
     "output_type": "execute_result"
    }
   ],
   "source": [
    "pokemon.explode('abilities').pivot(\n",
    "    values = 'name',\n",
    "    index = 'abilities',\n",
    "    columns = 'type1',\n",
    "    aggregate_function=pl.n_unique('name')\n",
    ")"
   ]
  },
  {
   "attachments": {},
   "cell_type": "markdown",
   "metadata": {},
   "source": [
    "9. Create a new DataFrame with 2 pokémons: Charizard and Polarizard. Include the pokémon names, and you can include other columns if you wish to.\n",
    "Then do an inner join with the pokémon dataframe."
   ]
  },
  {
   "cell_type": "code",
   "execution_count": 22,
   "metadata": {},
   "outputs": [
    {
     "data": {
      "text/html": [
       "<div><style>\n",
       ".dataframe > thead > tr,\n",
       ".dataframe > tbody > tr {\n",
       "  text-align: right;\n",
       "  white-space: pre-wrap;\n",
       "}\n",
       "</style>\n",
       "<small>shape: (1, 9)</small><table border=\"1\" class=\"dataframe\"><thead><tr><th>name</th><th>type1</th><th>type2</th><th>abilities</th><th>hp</th><th>attack</th><th>defense</th><th>speed</th><th>is_legendary</th></tr><tr><td>str</td><td>str</td><td>str</td><td>list[str]</td><td>i64</td><td>i64</td><td>i64</td><td>i64</td><td>i64</td></tr></thead><tbody><tr><td>&quot;Charizard&quot;</td><td>&quot;fire&quot;</td><td>&quot;flying&quot;</td><td>[&quot;Blaze&quot;, &quot;Solar Power&quot;]</td><td>78</td><td>104</td><td>78</td><td>100</td><td>0</td></tr></tbody></table></div>"
      ],
      "text/plain": [
       "shape: (1, 9)\n",
       "┌───────────┬───────┬────────┬──────────────────┬───┬────────┬─────────┬───────┬──────────────┐\n",
       "│ name      ┆ type1 ┆ type2  ┆ abilities        ┆ … ┆ attack ┆ defense ┆ speed ┆ is_legendary │\n",
       "│ ---       ┆ ---   ┆ ---    ┆ ---              ┆   ┆ ---    ┆ ---     ┆ ---   ┆ ---          │\n",
       "│ str       ┆ str   ┆ str    ┆ list[str]        ┆   ┆ i64    ┆ i64     ┆ i64   ┆ i64          │\n",
       "╞═══════════╪═══════╪════════╪══════════════════╪═══╪════════╪═════════╪═══════╪══════════════╡\n",
       "│ Charizard ┆ fire  ┆ flying ┆ [\"Blaze\", \"Solar ┆ … ┆ 104    ┆ 78      ┆ 100   ┆ 0            │\n",
       "│           ┆       ┆        ┆ Power\"]          ┆   ┆        ┆         ┆       ┆              │\n",
       "└───────────┴───────┴────────┴──────────────────┴───┴────────┴─────────┴───────┴──────────────┘"
      ]
     },
     "execution_count": 22,
     "metadata": {},
     "output_type": "execute_result"
    }
   ],
   "source": [
    "new_pokemon = pl.DataFrame({\n",
    "    'name': ['Charizard', 'Polarizard']\n",
    "})\n",
    "\n",
    "pokemon.join(new_pokemon, on='name', how='inner')"
   ]
  },
  {
   "attachments": {},
   "cell_type": "markdown",
   "metadata": {},
   "source": [
    "10. Build a custom function that concatenates the abilities column (which is a list) to string, using a comma as the separator. \n",
    "Then use it with map_batches."
   ]
  },
  {
   "cell_type": "code",
   "execution_count": 23,
   "metadata": {},
   "outputs": [
    {
     "name": "stderr",
     "output_type": "stream",
     "text": [
      "/tmp/ipykernel_26821/2005258044.py:5: DeprecationWarning: `map` is deprecated. It has been renamed to `map_batches`.\n",
      "  pl.col('abilities').map(abilities_to_string)\n"
     ]
    },
    {
     "data": {
      "text/html": [
       "<div><style>\n",
       ".dataframe > thead > tr,\n",
       ".dataframe > tbody > tr {\n",
       "  text-align: right;\n",
       "  white-space: pre-wrap;\n",
       "}\n",
       "</style>\n",
       "<small>shape: (801, 9)</small><table border=\"1\" class=\"dataframe\"><thead><tr><th>name</th><th>type1</th><th>type2</th><th>abilities</th><th>hp</th><th>attack</th><th>defense</th><th>speed</th><th>is_legendary</th></tr><tr><td>str</td><td>str</td><td>str</td><td>str</td><td>i64</td><td>i64</td><td>i64</td><td>i64</td><td>i64</td></tr></thead><tbody><tr><td>&quot;Bulbasaur&quot;</td><td>&quot;grass&quot;</td><td>&quot;poison&quot;</td><td>&quot;Overgrow, Chlorophyll&quot;</td><td>45</td><td>49</td><td>49</td><td>45</td><td>0</td></tr><tr><td>&quot;Ivysaur&quot;</td><td>&quot;grass&quot;</td><td>&quot;poison&quot;</td><td>&quot;Overgrow, Chlorophyll&quot;</td><td>60</td><td>62</td><td>63</td><td>60</td><td>0</td></tr><tr><td>&quot;Venusaur&quot;</td><td>&quot;grass&quot;</td><td>&quot;poison&quot;</td><td>&quot;Overgrow, Chlorophyll&quot;</td><td>80</td><td>100</td><td>123</td><td>80</td><td>0</td></tr><tr><td>&quot;Charmander&quot;</td><td>&quot;fire&quot;</td><td>null</td><td>&quot;Blaze, Solar Power&quot;</td><td>39</td><td>52</td><td>43</td><td>65</td><td>0</td></tr><tr><td>&quot;Charmeleon&quot;</td><td>&quot;fire&quot;</td><td>null</td><td>&quot;Blaze, Solar Power&quot;</td><td>58</td><td>64</td><td>58</td><td>80</td><td>0</td></tr><tr><td>&quot;Charizard&quot;</td><td>&quot;fire&quot;</td><td>&quot;flying&quot;</td><td>&quot;Blaze, Solar Power&quot;</td><td>78</td><td>104</td><td>78</td><td>100</td><td>0</td></tr><tr><td>&quot;Squirtle&quot;</td><td>&quot;water&quot;</td><td>null</td><td>&quot;Torrent, Rain Dish&quot;</td><td>44</td><td>48</td><td>65</td><td>43</td><td>0</td></tr><tr><td>&quot;Wartortle&quot;</td><td>&quot;water&quot;</td><td>null</td><td>&quot;Torrent, Rain Dish&quot;</td><td>59</td><td>63</td><td>80</td><td>58</td><td>0</td></tr><tr><td>&quot;Blastoise&quot;</td><td>&quot;water&quot;</td><td>null</td><td>&quot;Torrent, Rain Dish&quot;</td><td>79</td><td>103</td><td>120</td><td>78</td><td>0</td></tr><tr><td>&quot;Caterpie&quot;</td><td>&quot;bug&quot;</td><td>null</td><td>&quot;Shield Dust, Run Away&quot;</td><td>45</td><td>30</td><td>35</td><td>45</td><td>0</td></tr><tr><td>&quot;Metapod&quot;</td><td>&quot;bug&quot;</td><td>null</td><td>&quot;Shed Skin&quot;</td><td>50</td><td>20</td><td>55</td><td>30</td><td>0</td></tr><tr><td>&quot;Butterfree&quot;</td><td>&quot;bug&quot;</td><td>&quot;flying&quot;</td><td>&quot;Compoundeyes, Tinted Lens&quot;</td><td>60</td><td>45</td><td>50</td><td>70</td><td>0</td></tr><tr><td>&hellip;</td><td>&hellip;</td><td>&hellip;</td><td>&hellip;</td><td>&hellip;</td><td>&hellip;</td><td>&hellip;</td><td>&hellip;</td><td>&hellip;</td></tr><tr><td>&quot;Cosmoem&quot;</td><td>&quot;psychic&quot;</td><td>null</td><td>&quot;Sturdy&quot;</td><td>43</td><td>29</td><td>131</td><td>37</td><td>1</td></tr><tr><td>&quot;Solgaleo&quot;</td><td>&quot;psychic&quot;</td><td>&quot;steel&quot;</td><td>&quot;Full Metal Body&quot;</td><td>137</td><td>137</td><td>107</td><td>97</td><td>1</td></tr><tr><td>&quot;Lunala&quot;</td><td>&quot;psychic&quot;</td><td>&quot;ghost&quot;</td><td>&quot;Shadow Shield&quot;</td><td>137</td><td>113</td><td>89</td><td>97</td><td>1</td></tr><tr><td>&quot;Nihilego&quot;</td><td>&quot;rock&quot;</td><td>&quot;poison&quot;</td><td>&quot;Beast Boost&quot;</td><td>109</td><td>53</td><td>47</td><td>103</td><td>1</td></tr><tr><td>&quot;Buzzwole&quot;</td><td>&quot;bug&quot;</td><td>&quot;fighting&quot;</td><td>&quot;Beast Boost&quot;</td><td>107</td><td>139</td><td>139</td><td>79</td><td>1</td></tr><tr><td>&quot;Pheromosa&quot;</td><td>&quot;bug&quot;</td><td>&quot;fighting&quot;</td><td>&quot;Beast Boost&quot;</td><td>71</td><td>137</td><td>37</td><td>151</td><td>1</td></tr><tr><td>&quot;Xurkitree&quot;</td><td>&quot;electric&quot;</td><td>null</td><td>&quot;Beast Boost&quot;</td><td>83</td><td>89</td><td>71</td><td>83</td><td>1</td></tr><tr><td>&quot;Celesteela&quot;</td><td>&quot;steel&quot;</td><td>&quot;flying&quot;</td><td>&quot;Beast Boost&quot;</td><td>97</td><td>101</td><td>103</td><td>61</td><td>1</td></tr><tr><td>&quot;Kartana&quot;</td><td>&quot;grass&quot;</td><td>&quot;steel&quot;</td><td>&quot;Beast Boost&quot;</td><td>59</td><td>181</td><td>131</td><td>109</td><td>1</td></tr><tr><td>&quot;Guzzlord&quot;</td><td>&quot;dark&quot;</td><td>&quot;dragon&quot;</td><td>&quot;Beast Boost&quot;</td><td>223</td><td>101</td><td>53</td><td>43</td><td>1</td></tr><tr><td>&quot;Necrozma&quot;</td><td>&quot;psychic&quot;</td><td>null</td><td>&quot;Prism Armor&quot;</td><td>97</td><td>107</td><td>101</td><td>79</td><td>1</td></tr><tr><td>&quot;Magearna&quot;</td><td>&quot;steel&quot;</td><td>&quot;fairy&quot;</td><td>&quot;Soul-Heart&quot;</td><td>80</td><td>95</td><td>115</td><td>65</td><td>1</td></tr></tbody></table></div>"
      ],
      "text/plain": [
       "shape: (801, 9)\n",
       "┌────────────┬─────────┬────────┬────────────────────┬───┬────────┬─────────┬───────┬──────────────┐\n",
       "│ name       ┆ type1   ┆ type2  ┆ abilities          ┆ … ┆ attack ┆ defense ┆ speed ┆ is_legendary │\n",
       "│ ---        ┆ ---     ┆ ---    ┆ ---                ┆   ┆ ---    ┆ ---     ┆ ---   ┆ ---          │\n",
       "│ str        ┆ str     ┆ str    ┆ str                ┆   ┆ i64    ┆ i64     ┆ i64   ┆ i64          │\n",
       "╞════════════╪═════════╪════════╪════════════════════╪═══╪════════╪═════════╪═══════╪══════════════╡\n",
       "│ Bulbasaur  ┆ grass   ┆ poison ┆ Overgrow,          ┆ … ┆ 49     ┆ 49      ┆ 45    ┆ 0            │\n",
       "│            ┆         ┆        ┆ Chlorophyll        ┆   ┆        ┆         ┆       ┆              │\n",
       "│ Ivysaur    ┆ grass   ┆ poison ┆ Overgrow,          ┆ … ┆ 62     ┆ 63      ┆ 60    ┆ 0            │\n",
       "│            ┆         ┆        ┆ Chlorophyll        ┆   ┆        ┆         ┆       ┆              │\n",
       "│ Venusaur   ┆ grass   ┆ poison ┆ Overgrow,          ┆ … ┆ 100    ┆ 123     ┆ 80    ┆ 0            │\n",
       "│            ┆         ┆        ┆ Chlorophyll        ┆   ┆        ┆         ┆       ┆              │\n",
       "│ Charmander ┆ fire    ┆ null   ┆ Blaze, Solar Power ┆ … ┆ 52     ┆ 43      ┆ 65    ┆ 0            │\n",
       "│ …          ┆ …       ┆ …      ┆ …                  ┆ … ┆ …      ┆ …       ┆ …     ┆ …            │\n",
       "│ Kartana    ┆ grass   ┆ steel  ┆ Beast Boost        ┆ … ┆ 181    ┆ 131     ┆ 109   ┆ 1            │\n",
       "│ Guzzlord   ┆ dark    ┆ dragon ┆ Beast Boost        ┆ … ┆ 101    ┆ 53      ┆ 43    ┆ 1            │\n",
       "│ Necrozma   ┆ psychic ┆ null   ┆ Prism Armor        ┆ … ┆ 107    ┆ 101     ┆ 79    ┆ 1            │\n",
       "│ Magearna   ┆ steel   ┆ fairy  ┆ Soul-Heart         ┆ … ┆ 95     ┆ 115     ┆ 65    ┆ 1            │\n",
       "└────────────┴─────────┴────────┴────────────────────┴───┴────────┴─────────┴───────┴──────────────┘"
      ]
     },
     "execution_count": 23,
     "metadata": {},
     "output_type": "execute_result"
    }
   ],
   "source": [
    "def abilities_to_string(column):\n",
    "    return pl.Series([', '.join(abilities) for abilities in column])\n",
    "\n",
    "pokemon.with_columns(\n",
    "    pl.col('abilities').map(abilities_to_string)\n",
    ")"
   ]
  },
  {
   "cell_type": "code",
   "execution_count": null,
   "metadata": {},
   "outputs": [],
   "source": []
  }
 ],
 "metadata": {
  "kernelspec": {
   "display_name": "Python 3",
   "language": "python",
   "name": "python3"
  },
  "language_info": {
   "codemirror_mode": {
    "name": "ipython",
    "version": 3
   },
   "file_extension": ".py",
   "mimetype": "text/x-python",
   "name": "python",
   "nbconvert_exporter": "python",
   "pygments_lexer": "ipython3",
   "version": "3.10.12"
  },
  "orig_nbformat": 4
 },
 "nbformat": 4,
 "nbformat_minor": 2
}
