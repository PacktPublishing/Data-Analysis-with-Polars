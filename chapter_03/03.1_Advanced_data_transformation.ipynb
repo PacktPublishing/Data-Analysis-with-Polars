{
 "cells": [
  {
   "attachments": {},
   "cell_type": "markdown",
   "metadata": {},
   "source": [
    "### Advanced Data Transformation with Polars"
   ]
  },
  {
   "attachments": {},
   "cell_type": "markdown",
   "metadata": {},
   "source": [
    "The examples below use `.head()` to reduce the output to a few rows and take up less space.\n",
    "If you want the full output, remove `.head()` from the code.\n",
    "\n",
    "This notebooked is divided into sections. If your code editor supports it, you can use the **Outline** functionality to easily go to the code section you are interested in.\n",
    "\n",
    "For more details on Polars functions, check out the Polars API reference: https://pola-rs.github.io/polars/py-polars/html/reference/index.html"
   ]
  },
  {
   "cell_type": "code",
   "execution_count": 2,
   "metadata": {},
   "outputs": [
    {
     "data": {
      "text/plain": [
       "polars.config.Config"
      ]
     },
     "execution_count": 2,
     "metadata": {},
     "output_type": "execute_result"
    }
   ],
   "source": [
    "import polars as pl\n",
    "\n",
    "# Configure the number of characters to show for each string column\n",
    "pl.Config.set_fmt_str_lengths(30)"
   ]
  },
  {
   "cell_type": "code",
   "execution_count": 3,
   "metadata": {},
   "outputs": [],
   "source": [
    "pokemon = pl.read_parquet('../datasets/pokemon_simplified.parquet')"
   ]
  },
  {
   "cell_type": "code",
   "execution_count": 4,
   "metadata": {},
   "outputs": [
    {
     "data": {
      "text/html": [
       "<div><style>\n",
       ".dataframe > thead > tr > th,\n",
       ".dataframe > tbody > tr > td {\n",
       "  text-align: right;\n",
       "}\n",
       "</style>\n",
       "<small>shape: (2, 10)</small><table border=\"1\" class=\"dataframe\"><thead><tr><th>name</th><th>type1</th><th>type2</th><th>abilities</th><th>hp</th><th>attack</th><th>defense</th><th>speed</th><th>generation</th><th>is_legendary</th></tr><tr><td>str</td><td>str</td><td>str</td><td>list[str]</td><td>i64</td><td>i64</td><td>i64</td><td>i64</td><td>i64</td><td>i64</td></tr></thead><tbody><tr><td>&quot;Bulbasaur&quot;</td><td>&quot;grass&quot;</td><td>&quot;poison&quot;</td><td>[&quot;Overgrow&quot;, &quot;Chlorophyll&quot;]</td><td>45</td><td>49</td><td>49</td><td>45</td><td>1</td><td>0</td></tr><tr><td>&quot;Ivysaur&quot;</td><td>&quot;grass&quot;</td><td>&quot;poison&quot;</td><td>[&quot;Overgrow&quot;, &quot;Chlorophyll&quot;]</td><td>60</td><td>62</td><td>63</td><td>60</td><td>1</td><td>0</td></tr></tbody></table></div>"
      ],
      "text/plain": [
       "shape: (2, 10)\n",
       "┌───────────┬───────┬────────┬────────────────┬───┬─────────┬───────┬────────────┬──────────────┐\n",
       "│ name      ┆ type1 ┆ type2  ┆ abilities      ┆ … ┆ defense ┆ speed ┆ generation ┆ is_legendary │\n",
       "│ ---       ┆ ---   ┆ ---    ┆ ---            ┆   ┆ ---     ┆ ---   ┆ ---        ┆ ---          │\n",
       "│ str       ┆ str   ┆ str    ┆ list[str]      ┆   ┆ i64     ┆ i64   ┆ i64        ┆ i64          │\n",
       "╞═══════════╪═══════╪════════╪════════════════╪═══╪═════════╪═══════╪════════════╪══════════════╡\n",
       "│ Bulbasaur ┆ grass ┆ poison ┆ [\"Overgrow\",   ┆ … ┆ 49      ┆ 45    ┆ 1          ┆ 0            │\n",
       "│           ┆       ┆        ┆ \"Chlorophyll\"] ┆   ┆         ┆       ┆            ┆              │\n",
       "│ Ivysaur   ┆ grass ┆ poison ┆ [\"Overgrow\",   ┆ … ┆ 63      ┆ 60    ┆ 1          ┆ 0            │\n",
       "│           ┆       ┆        ┆ \"Chlorophyll\"] ┆   ┆         ┆       ┆            ┆              │\n",
       "└───────────┴───────┴────────┴────────────────┴───┴─────────┴───────┴────────────┴──────────────┘"
      ]
     },
     "execution_count": 4,
     "metadata": {},
     "output_type": "execute_result"
    }
   ],
   "source": [
    "pokemon.head(2)"
   ]
  },
  {
   "attachments": {},
   "cell_type": "markdown",
   "metadata": {},
   "source": [
    "#### Conditions"
   ]
  },
  {
   "cell_type": "code",
   "execution_count": 5,
   "metadata": {},
   "outputs": [
    {
     "data": {
      "text/html": [
       "<div><style>\n",
       ".dataframe > thead > tr > th,\n",
       ".dataframe > tbody > tr > td {\n",
       "  text-align: right;\n",
       "}\n",
       "</style>\n",
       "<small>shape: (8, 11)</small><table border=\"1\" class=\"dataframe\"><thead><tr><th>name</th><th>type1</th><th>type2</th><th>abilities</th><th>hp</th><th>attack</th><th>defense</th><th>speed</th><th>generation</th><th>is_legendary</th><th>attack_category</th></tr><tr><td>str</td><td>str</td><td>str</td><td>list[str]</td><td>i64</td><td>i64</td><td>i64</td><td>i64</td><td>i64</td><td>i64</td><td>str</td></tr></thead><tbody><tr><td>&quot;Bulbasaur&quot;</td><td>&quot;grass&quot;</td><td>&quot;poison&quot;</td><td>[&quot;Overgrow&quot;, &quot;Chlorophyll&quot;]</td><td>45</td><td>49</td><td>49</td><td>45</td><td>1</td><td>0</td><td>null</td></tr><tr><td>&quot;Ivysaur&quot;</td><td>&quot;grass&quot;</td><td>&quot;poison&quot;</td><td>[&quot;Overgrow&quot;, &quot;Chlorophyll&quot;]</td><td>60</td><td>62</td><td>63</td><td>60</td><td>1</td><td>0</td><td>null</td></tr><tr><td>&quot;Venusaur&quot;</td><td>&quot;grass&quot;</td><td>&quot;poison&quot;</td><td>[&quot;Overgrow&quot;, &quot;Chlorophyll&quot;]</td><td>80</td><td>100</td><td>123</td><td>80</td><td>1</td><td>0</td><td>null</td></tr><tr><td>&quot;Charmander&quot;</td><td>&quot;fire&quot;</td><td>null</td><td>[&quot;Blaze&quot;, &quot;Solar Power&quot;]</td><td>39</td><td>52</td><td>43</td><td>65</td><td>1</td><td>0</td><td>null</td></tr><tr><td>&quot;Charmeleon&quot;</td><td>&quot;fire&quot;</td><td>null</td><td>[&quot;Blaze&quot;, &quot;Solar Power&quot;]</td><td>58</td><td>64</td><td>58</td><td>80</td><td>1</td><td>0</td><td>null</td></tr><tr><td>&quot;Charizard&quot;</td><td>&quot;fire&quot;</td><td>&quot;flying&quot;</td><td>[&quot;Blaze&quot;, &quot;Solar Power&quot;]</td><td>78</td><td>104</td><td>78</td><td>100</td><td>1</td><td>0</td><td>&quot;Top 25%&quot;</td></tr><tr><td>&quot;Squirtle&quot;</td><td>&quot;water&quot;</td><td>null</td><td>[&quot;Torrent&quot;, &quot;Rain Dish&quot;]</td><td>44</td><td>48</td><td>65</td><td>43</td><td>1</td><td>0</td><td>null</td></tr><tr><td>&quot;Wartortle&quot;</td><td>&quot;water&quot;</td><td>null</td><td>[&quot;Torrent&quot;, &quot;Rain Dish&quot;]</td><td>59</td><td>63</td><td>80</td><td>58</td><td>1</td><td>0</td><td>null</td></tr></tbody></table></div>"
      ],
      "text/plain": [
       "shape: (8, 11)\n",
       "┌────────────┬───────┬────────┬───────────────┬───┬───────┬────────────┬────────────┬──────────────┐\n",
       "│ name       ┆ type1 ┆ type2  ┆ abilities     ┆ … ┆ speed ┆ generation ┆ is_legenda ┆ attack_categ │\n",
       "│ ---        ┆ ---   ┆ ---    ┆ ---           ┆   ┆ ---   ┆ ---        ┆ ry         ┆ ory          │\n",
       "│ str        ┆ str   ┆ str    ┆ list[str]     ┆   ┆ i64   ┆ i64        ┆ ---        ┆ ---          │\n",
       "│            ┆       ┆        ┆               ┆   ┆       ┆            ┆ i64        ┆ str          │\n",
       "╞════════════╪═══════╪════════╪═══════════════╪═══╪═══════╪════════════╪════════════╪══════════════╡\n",
       "│ Bulbasaur  ┆ grass ┆ poison ┆ [\"Overgrow\",  ┆ … ┆ 45    ┆ 1          ┆ 0          ┆ null         │\n",
       "│            ┆       ┆        ┆ \"Chlorophyll\" ┆   ┆       ┆            ┆            ┆              │\n",
       "│            ┆       ┆        ┆ ]             ┆   ┆       ┆            ┆            ┆              │\n",
       "│ Ivysaur    ┆ grass ┆ poison ┆ [\"Overgrow\",  ┆ … ┆ 60    ┆ 1          ┆ 0          ┆ null         │\n",
       "│            ┆       ┆        ┆ \"Chlorophyll\" ┆   ┆       ┆            ┆            ┆              │\n",
       "│            ┆       ┆        ┆ ]             ┆   ┆       ┆            ┆            ┆              │\n",
       "│ Venusaur   ┆ grass ┆ poison ┆ [\"Overgrow\",  ┆ … ┆ 80    ┆ 1          ┆ 0          ┆ null         │\n",
       "│            ┆       ┆        ┆ \"Chlorophyll\" ┆   ┆       ┆            ┆            ┆              │\n",
       "│            ┆       ┆        ┆ ]             ┆   ┆       ┆            ┆            ┆              │\n",
       "│ Charmander ┆ fire  ┆ null   ┆ [\"Blaze\",     ┆ … ┆ 65    ┆ 1          ┆ 0          ┆ null         │\n",
       "│            ┆       ┆        ┆ \"Solar        ┆   ┆       ┆            ┆            ┆              │\n",
       "│            ┆       ┆        ┆ Power\"]       ┆   ┆       ┆            ┆            ┆              │\n",
       "│ Charmeleon ┆ fire  ┆ null   ┆ [\"Blaze\",     ┆ … ┆ 80    ┆ 1          ┆ 0          ┆ null         │\n",
       "│            ┆       ┆        ┆ \"Solar        ┆   ┆       ┆            ┆            ┆              │\n",
       "│            ┆       ┆        ┆ Power\"]       ┆   ┆       ┆            ┆            ┆              │\n",
       "│ Charizard  ┆ fire  ┆ flying ┆ [\"Blaze\",     ┆ … ┆ 100   ┆ 1          ┆ 0          ┆ Top 25%      │\n",
       "│            ┆       ┆        ┆ \"Solar        ┆   ┆       ┆            ┆            ┆              │\n",
       "│            ┆       ┆        ┆ Power\"]       ┆   ┆       ┆            ┆            ┆              │\n",
       "│ Squirtle   ┆ water ┆ null   ┆ [\"Torrent\",   ┆ … ┆ 43    ┆ 1          ┆ 0          ┆ null         │\n",
       "│            ┆       ┆        ┆ \"Rain Dish\"]  ┆   ┆       ┆            ┆            ┆              │\n",
       "│ Wartortle  ┆ water ┆ null   ┆ [\"Torrent\",   ┆ … ┆ 58    ┆ 1          ┆ 0          ┆ null         │\n",
       "│            ┆       ┆        ┆ \"Rain Dish\"]  ┆   ┆       ┆            ┆            ┆              │\n",
       "└────────────┴───────┴────────┴───────────────┴───┴───────┴────────────┴────────────┴──────────────┘"
      ]
     },
     "execution_count": 5,
     "metadata": {},
     "output_type": "execute_result"
    }
   ],
   "source": [
    "# Identify the top 25% of Pokemon based on the attack stats\n",
    "# Use the quantile function to get the 75th percentile\n",
    "\n",
    "pokemon.with_columns(\n",
    "    attack_category = pl.when(pl.col('attack') > pl.col('attack').quantile(0.75)).then('Top 25%')\n",
    ").head(8)"
   ]
  },
  {
   "cell_type": "code",
   "execution_count": 6,
   "metadata": {},
   "outputs": [
    {
     "data": {
      "text/html": [
       "<div><style>\n",
       ".dataframe > thead > tr > th,\n",
       ".dataframe > tbody > tr > td {\n",
       "  text-align: right;\n",
       "}\n",
       "</style>\n",
       "<small>shape: (8, 11)</small><table border=\"1\" class=\"dataframe\"><thead><tr><th>name</th><th>type1</th><th>type2</th><th>abilities</th><th>hp</th><th>attack</th><th>defense</th><th>speed</th><th>generation</th><th>is_legendary</th><th>attack_category</th></tr><tr><td>str</td><td>str</td><td>str</td><td>list[str]</td><td>i64</td><td>i64</td><td>i64</td><td>i64</td><td>i64</td><td>i64</td><td>str</td></tr></thead><tbody><tr><td>&quot;Bulbasaur&quot;</td><td>&quot;grass&quot;</td><td>&quot;poison&quot;</td><td>[&quot;Overgrow&quot;, &quot;Chlorophyll&quot;]</td><td>45</td><td>49</td><td>49</td><td>45</td><td>1</td><td>0</td><td>&quot;Other&quot;</td></tr><tr><td>&quot;Ivysaur&quot;</td><td>&quot;grass&quot;</td><td>&quot;poison&quot;</td><td>[&quot;Overgrow&quot;, &quot;Chlorophyll&quot;]</td><td>60</td><td>62</td><td>63</td><td>60</td><td>1</td><td>0</td><td>&quot;Other&quot;</td></tr><tr><td>&quot;Venusaur&quot;</td><td>&quot;grass&quot;</td><td>&quot;poison&quot;</td><td>[&quot;Overgrow&quot;, &quot;Chlorophyll&quot;]</td><td>80</td><td>100</td><td>123</td><td>80</td><td>1</td><td>0</td><td>&quot;Other&quot;</td></tr><tr><td>&quot;Charmander&quot;</td><td>&quot;fire&quot;</td><td>null</td><td>[&quot;Blaze&quot;, &quot;Solar Power&quot;]</td><td>39</td><td>52</td><td>43</td><td>65</td><td>1</td><td>0</td><td>&quot;Other&quot;</td></tr><tr><td>&quot;Charmeleon&quot;</td><td>&quot;fire&quot;</td><td>null</td><td>[&quot;Blaze&quot;, &quot;Solar Power&quot;]</td><td>58</td><td>64</td><td>58</td><td>80</td><td>1</td><td>0</td><td>&quot;Other&quot;</td></tr><tr><td>&quot;Charizard&quot;</td><td>&quot;fire&quot;</td><td>&quot;flying&quot;</td><td>[&quot;Blaze&quot;, &quot;Solar Power&quot;]</td><td>78</td><td>104</td><td>78</td><td>100</td><td>1</td><td>0</td><td>&quot;Top 25%&quot;</td></tr><tr><td>&quot;Squirtle&quot;</td><td>&quot;water&quot;</td><td>null</td><td>[&quot;Torrent&quot;, &quot;Rain Dish&quot;]</td><td>44</td><td>48</td><td>65</td><td>43</td><td>1</td><td>0</td><td>&quot;Other&quot;</td></tr><tr><td>&quot;Wartortle&quot;</td><td>&quot;water&quot;</td><td>null</td><td>[&quot;Torrent&quot;, &quot;Rain Dish&quot;]</td><td>59</td><td>63</td><td>80</td><td>58</td><td>1</td><td>0</td><td>&quot;Other&quot;</td></tr></tbody></table></div>"
      ],
      "text/plain": [
       "shape: (8, 11)\n",
       "┌────────────┬───────┬────────┬───────────────┬───┬───────┬────────────┬────────────┬──────────────┐\n",
       "│ name       ┆ type1 ┆ type2  ┆ abilities     ┆ … ┆ speed ┆ generation ┆ is_legenda ┆ attack_categ │\n",
       "│ ---        ┆ ---   ┆ ---    ┆ ---           ┆   ┆ ---   ┆ ---        ┆ ry         ┆ ory          │\n",
       "│ str        ┆ str   ┆ str    ┆ list[str]     ┆   ┆ i64   ┆ i64        ┆ ---        ┆ ---          │\n",
       "│            ┆       ┆        ┆               ┆   ┆       ┆            ┆ i64        ┆ str          │\n",
       "╞════════════╪═══════╪════════╪═══════════════╪═══╪═══════╪════════════╪════════════╪══════════════╡\n",
       "│ Bulbasaur  ┆ grass ┆ poison ┆ [\"Overgrow\",  ┆ … ┆ 45    ┆ 1          ┆ 0          ┆ Other        │\n",
       "│            ┆       ┆        ┆ \"Chlorophyll\" ┆   ┆       ┆            ┆            ┆              │\n",
       "│            ┆       ┆        ┆ ]             ┆   ┆       ┆            ┆            ┆              │\n",
       "│ Ivysaur    ┆ grass ┆ poison ┆ [\"Overgrow\",  ┆ … ┆ 60    ┆ 1          ┆ 0          ┆ Other        │\n",
       "│            ┆       ┆        ┆ \"Chlorophyll\" ┆   ┆       ┆            ┆            ┆              │\n",
       "│            ┆       ┆        ┆ ]             ┆   ┆       ┆            ┆            ┆              │\n",
       "│ Venusaur   ┆ grass ┆ poison ┆ [\"Overgrow\",  ┆ … ┆ 80    ┆ 1          ┆ 0          ┆ Other        │\n",
       "│            ┆       ┆        ┆ \"Chlorophyll\" ┆   ┆       ┆            ┆            ┆              │\n",
       "│            ┆       ┆        ┆ ]             ┆   ┆       ┆            ┆            ┆              │\n",
       "│ Charmander ┆ fire  ┆ null   ┆ [\"Blaze\",     ┆ … ┆ 65    ┆ 1          ┆ 0          ┆ Other        │\n",
       "│            ┆       ┆        ┆ \"Solar        ┆   ┆       ┆            ┆            ┆              │\n",
       "│            ┆       ┆        ┆ Power\"]       ┆   ┆       ┆            ┆            ┆              │\n",
       "│ Charmeleon ┆ fire  ┆ null   ┆ [\"Blaze\",     ┆ … ┆ 80    ┆ 1          ┆ 0          ┆ Other        │\n",
       "│            ┆       ┆        ┆ \"Solar        ┆   ┆       ┆            ┆            ┆              │\n",
       "│            ┆       ┆        ┆ Power\"]       ┆   ┆       ┆            ┆            ┆              │\n",
       "│ Charizard  ┆ fire  ┆ flying ┆ [\"Blaze\",     ┆ … ┆ 100   ┆ 1          ┆ 0          ┆ Top 25%      │\n",
       "│            ┆       ┆        ┆ \"Solar        ┆   ┆       ┆            ┆            ┆              │\n",
       "│            ┆       ┆        ┆ Power\"]       ┆   ┆       ┆            ┆            ┆              │\n",
       "│ Squirtle   ┆ water ┆ null   ┆ [\"Torrent\",   ┆ … ┆ 43    ┆ 1          ┆ 0          ┆ Other        │\n",
       "│            ┆       ┆        ┆ \"Rain Dish\"]  ┆   ┆       ┆            ┆            ┆              │\n",
       "│ Wartortle  ┆ water ┆ null   ┆ [\"Torrent\",   ┆ … ┆ 58    ┆ 1          ┆ 0          ┆ Other        │\n",
       "│            ┆       ┆        ┆ \"Rain Dish\"]  ┆   ┆       ┆            ┆            ┆              │\n",
       "└────────────┴───────┴────────┴───────────────┴───┴───────┴────────────┴────────────┴──────────────┘"
      ]
     },
     "execution_count": 6,
     "metadata": {},
     "output_type": "execute_result"
    }
   ],
   "source": [
    "# Identify the top 25% of Pokemon based on the attack stats\n",
    "# Use otherwise to assign the remaining 75% of Pokemon to the 'Other' category\n",
    "\n",
    "pokemon.with_columns(\n",
    "    attack_category = pl.when(pl.col('attack') > pl.col('attack').quantile(0.75)).then('Top 25%').otherwise('Other')\n",
    ").head(8)"
   ]
  },
  {
   "cell_type": "code",
   "execution_count": 7,
   "metadata": {},
   "outputs": [
    {
     "data": {
      "text/html": [
       "<div><style>\n",
       ".dataframe > thead > tr > th,\n",
       ".dataframe > tbody > tr > td {\n",
       "  text-align: right;\n",
       "}\n",
       "</style>\n",
       "<small>shape: (8, 11)</small><table border=\"1\" class=\"dataframe\"><thead><tr><th>name</th><th>type1</th><th>type2</th><th>abilities</th><th>hp</th><th>attack</th><th>defense</th><th>speed</th><th>generation</th><th>is_legendary</th><th>attack_category</th></tr><tr><td>str</td><td>str</td><td>str</td><td>list[str]</td><td>i64</td><td>i64</td><td>i64</td><td>i64</td><td>i64</td><td>i64</td><td>str</td></tr></thead><tbody><tr><td>&quot;Bulbasaur&quot;</td><td>&quot;grass&quot;</td><td>&quot;poison&quot;</td><td>[&quot;Overgrow&quot;, &quot;Chlorophyll&quot;]</td><td>45</td><td>49</td><td>49</td><td>45</td><td>1</td><td>0</td><td>&quot;Bottom 25%&quot;</td></tr><tr><td>&quot;Ivysaur&quot;</td><td>&quot;grass&quot;</td><td>&quot;poison&quot;</td><td>[&quot;Overgrow&quot;, &quot;Chlorophyll&quot;]</td><td>60</td><td>62</td><td>63</td><td>60</td><td>1</td><td>0</td><td>&quot;Other&quot;</td></tr><tr><td>&quot;Venusaur&quot;</td><td>&quot;grass&quot;</td><td>&quot;poison&quot;</td><td>[&quot;Overgrow&quot;, &quot;Chlorophyll&quot;]</td><td>80</td><td>100</td><td>123</td><td>80</td><td>1</td><td>0</td><td>&quot;Other&quot;</td></tr><tr><td>&quot;Charmander&quot;</td><td>&quot;fire&quot;</td><td>null</td><td>[&quot;Blaze&quot;, &quot;Solar Power&quot;]</td><td>39</td><td>52</td><td>43</td><td>65</td><td>1</td><td>0</td><td>&quot;Bottom 25%&quot;</td></tr><tr><td>&quot;Charmeleon&quot;</td><td>&quot;fire&quot;</td><td>null</td><td>[&quot;Blaze&quot;, &quot;Solar Power&quot;]</td><td>58</td><td>64</td><td>58</td><td>80</td><td>1</td><td>0</td><td>&quot;Other&quot;</td></tr><tr><td>&quot;Charizard&quot;</td><td>&quot;fire&quot;</td><td>&quot;flying&quot;</td><td>[&quot;Blaze&quot;, &quot;Solar Power&quot;]</td><td>78</td><td>104</td><td>78</td><td>100</td><td>1</td><td>0</td><td>&quot;Top 25%&quot;</td></tr><tr><td>&quot;Squirtle&quot;</td><td>&quot;water&quot;</td><td>null</td><td>[&quot;Torrent&quot;, &quot;Rain Dish&quot;]</td><td>44</td><td>48</td><td>65</td><td>43</td><td>1</td><td>0</td><td>&quot;Bottom 25%&quot;</td></tr><tr><td>&quot;Wartortle&quot;</td><td>&quot;water&quot;</td><td>null</td><td>[&quot;Torrent&quot;, &quot;Rain Dish&quot;]</td><td>59</td><td>63</td><td>80</td><td>58</td><td>1</td><td>0</td><td>&quot;Other&quot;</td></tr></tbody></table></div>"
      ],
      "text/plain": [
       "shape: (8, 11)\n",
       "┌────────────┬───────┬────────┬───────────────┬───┬───────┬────────────┬────────────┬──────────────┐\n",
       "│ name       ┆ type1 ┆ type2  ┆ abilities     ┆ … ┆ speed ┆ generation ┆ is_legenda ┆ attack_categ │\n",
       "│ ---        ┆ ---   ┆ ---    ┆ ---           ┆   ┆ ---   ┆ ---        ┆ ry         ┆ ory          │\n",
       "│ str        ┆ str   ┆ str    ┆ list[str]     ┆   ┆ i64   ┆ i64        ┆ ---        ┆ ---          │\n",
       "│            ┆       ┆        ┆               ┆   ┆       ┆            ┆ i64        ┆ str          │\n",
       "╞════════════╪═══════╪════════╪═══════════════╪═══╪═══════╪════════════╪════════════╪══════════════╡\n",
       "│ Bulbasaur  ┆ grass ┆ poison ┆ [\"Overgrow\",  ┆ … ┆ 45    ┆ 1          ┆ 0          ┆ Bottom 25%   │\n",
       "│            ┆       ┆        ┆ \"Chlorophyll\" ┆   ┆       ┆            ┆            ┆              │\n",
       "│            ┆       ┆        ┆ ]             ┆   ┆       ┆            ┆            ┆              │\n",
       "│ Ivysaur    ┆ grass ┆ poison ┆ [\"Overgrow\",  ┆ … ┆ 60    ┆ 1          ┆ 0          ┆ Other        │\n",
       "│            ┆       ┆        ┆ \"Chlorophyll\" ┆   ┆       ┆            ┆            ┆              │\n",
       "│            ┆       ┆        ┆ ]             ┆   ┆       ┆            ┆            ┆              │\n",
       "│ Venusaur   ┆ grass ┆ poison ┆ [\"Overgrow\",  ┆ … ┆ 80    ┆ 1          ┆ 0          ┆ Other        │\n",
       "│            ┆       ┆        ┆ \"Chlorophyll\" ┆   ┆       ┆            ┆            ┆              │\n",
       "│            ┆       ┆        ┆ ]             ┆   ┆       ┆            ┆            ┆              │\n",
       "│ Charmander ┆ fire  ┆ null   ┆ [\"Blaze\",     ┆ … ┆ 65    ┆ 1          ┆ 0          ┆ Bottom 25%   │\n",
       "│            ┆       ┆        ┆ \"Solar        ┆   ┆       ┆            ┆            ┆              │\n",
       "│            ┆       ┆        ┆ Power\"]       ┆   ┆       ┆            ┆            ┆              │\n",
       "│ Charmeleon ┆ fire  ┆ null   ┆ [\"Blaze\",     ┆ … ┆ 80    ┆ 1          ┆ 0          ┆ Other        │\n",
       "│            ┆       ┆        ┆ \"Solar        ┆   ┆       ┆            ┆            ┆              │\n",
       "│            ┆       ┆        ┆ Power\"]       ┆   ┆       ┆            ┆            ┆              │\n",
       "│ Charizard  ┆ fire  ┆ flying ┆ [\"Blaze\",     ┆ … ┆ 100   ┆ 1          ┆ 0          ┆ Top 25%      │\n",
       "│            ┆       ┆        ┆ \"Solar        ┆   ┆       ┆            ┆            ┆              │\n",
       "│            ┆       ┆        ┆ Power\"]       ┆   ┆       ┆            ┆            ┆              │\n",
       "│ Squirtle   ┆ water ┆ null   ┆ [\"Torrent\",   ┆ … ┆ 43    ┆ 1          ┆ 0          ┆ Bottom 25%   │\n",
       "│            ┆       ┆        ┆ \"Rain Dish\"]  ┆   ┆       ┆            ┆            ┆              │\n",
       "│ Wartortle  ┆ water ┆ null   ┆ [\"Torrent\",   ┆ … ┆ 58    ┆ 1          ┆ 0          ┆ Other        │\n",
       "│            ┆       ┆        ┆ \"Rain Dish\"]  ┆   ┆       ┆            ┆            ┆              │\n",
       "└────────────┴───────┴────────┴───────────────┴───┴───────┴────────────┴────────────┴──────────────┘"
      ]
     },
     "execution_count": 7,
     "metadata": {},
     "output_type": "execute_result"
    }
   ],
   "source": [
    "# Identify the top 25% of Pokemon based on the attack stats AND the bottom 25%\n",
    "# Use multiple when then statements\n",
    "\n",
    "pokemon.with_columns(\n",
    "    attack_category = \n",
    "        pl.when(pl.col('attack') > pl.col('attack').quantile(0.75)).then('Top 25%')\n",
    "        .when(pl.col('attack') < pl.col('attack').quantile(0.25)).then('Bottom 25%')\n",
    "        .otherwise('Other')\n",
    ").head(8)"
   ]
  },
  {
   "attachments": {},
   "cell_type": "markdown",
   "metadata": {},
   "source": [
    "#### Convert columns to dummies"
   ]
  },
  {
   "cell_type": "code",
   "execution_count": 8,
   "metadata": {},
   "outputs": [
    {
     "data": {
      "text/html": [
       "<div><style>\n",
       ".dataframe > thead > tr > th,\n",
       ".dataframe > tbody > tr > td {\n",
       "  text-align: right;\n",
       "}\n",
       "</style>\n",
       "<small>shape: (8, 12)</small><table border=\"1\" class=\"dataframe\"><thead><tr><th>name</th><th>type1_fire</th><th>type1_grass</th><th>type1_water</th><th>type2</th><th>abilities</th><th>hp</th><th>attack</th><th>defense</th><th>speed</th><th>generation</th><th>is_legendary</th></tr><tr><td>str</td><td>u8</td><td>u8</td><td>u8</td><td>str</td><td>list[str]</td><td>i64</td><td>i64</td><td>i64</td><td>i64</td><td>i64</td><td>i64</td></tr></thead><tbody><tr><td>&quot;Bulbasaur&quot;</td><td>0</td><td>1</td><td>0</td><td>&quot;poison&quot;</td><td>[&quot;Overgrow&quot;, &quot;Chlorophyll&quot;]</td><td>45</td><td>49</td><td>49</td><td>45</td><td>1</td><td>0</td></tr><tr><td>&quot;Ivysaur&quot;</td><td>0</td><td>1</td><td>0</td><td>&quot;poison&quot;</td><td>[&quot;Overgrow&quot;, &quot;Chlorophyll&quot;]</td><td>60</td><td>62</td><td>63</td><td>60</td><td>1</td><td>0</td></tr><tr><td>&quot;Venusaur&quot;</td><td>0</td><td>1</td><td>0</td><td>&quot;poison&quot;</td><td>[&quot;Overgrow&quot;, &quot;Chlorophyll&quot;]</td><td>80</td><td>100</td><td>123</td><td>80</td><td>1</td><td>0</td></tr><tr><td>&quot;Charmander&quot;</td><td>1</td><td>0</td><td>0</td><td>null</td><td>[&quot;Blaze&quot;, &quot;Solar Power&quot;]</td><td>39</td><td>52</td><td>43</td><td>65</td><td>1</td><td>0</td></tr><tr><td>&quot;Charmeleon&quot;</td><td>1</td><td>0</td><td>0</td><td>null</td><td>[&quot;Blaze&quot;, &quot;Solar Power&quot;]</td><td>58</td><td>64</td><td>58</td><td>80</td><td>1</td><td>0</td></tr><tr><td>&quot;Charizard&quot;</td><td>1</td><td>0</td><td>0</td><td>&quot;flying&quot;</td><td>[&quot;Blaze&quot;, &quot;Solar Power&quot;]</td><td>78</td><td>104</td><td>78</td><td>100</td><td>1</td><td>0</td></tr><tr><td>&quot;Squirtle&quot;</td><td>0</td><td>0</td><td>1</td><td>null</td><td>[&quot;Torrent&quot;, &quot;Rain Dish&quot;]</td><td>44</td><td>48</td><td>65</td><td>43</td><td>1</td><td>0</td></tr><tr><td>&quot;Wartortle&quot;</td><td>0</td><td>0</td><td>1</td><td>null</td><td>[&quot;Torrent&quot;, &quot;Rain Dish&quot;]</td><td>59</td><td>63</td><td>80</td><td>58</td><td>1</td><td>0</td></tr></tbody></table></div>"
      ],
      "text/plain": [
       "shape: (8, 12)\n",
       "┌──────────────┬──────────┬───────────┬───────────┬───┬─────────┬───────┬─────────────┬────────────┐\n",
       "│ name         ┆ type1_fi ┆ type1_gra ┆ type1_wat ┆ … ┆ defense ┆ speed ┆ generation  ┆ is_legenda │\n",
       "│ ---          ┆ re       ┆ ss        ┆ er        ┆   ┆ ---     ┆ ---   ┆ ---         ┆ ry         │\n",
       "│ str          ┆ ---      ┆ ---       ┆ ---       ┆   ┆ i64     ┆ i64   ┆ i64         ┆ ---        │\n",
       "│              ┆ u8       ┆ u8        ┆ u8        ┆   ┆         ┆       ┆             ┆ i64        │\n",
       "╞══════════════╪══════════╪═══════════╪═══════════╪═══╪═════════╪═══════╪═════════════╪════════════╡\n",
       "│ Bulbasaur    ┆ 0        ┆ 1         ┆ 0         ┆ … ┆ 49      ┆ 45    ┆ 1           ┆ 0          │\n",
       "│ Ivysaur      ┆ 0        ┆ 1         ┆ 0         ┆ … ┆ 63      ┆ 60    ┆ 1           ┆ 0          │\n",
       "│ Venusaur     ┆ 0        ┆ 1         ┆ 0         ┆ … ┆ 123     ┆ 80    ┆ 1           ┆ 0          │\n",
       "│ Charmander   ┆ 1        ┆ 0         ┆ 0         ┆ … ┆ 43      ┆ 65    ┆ 1           ┆ 0          │\n",
       "│ Charmeleon   ┆ 1        ┆ 0         ┆ 0         ┆ … ┆ 58      ┆ 80    ┆ 1           ┆ 0          │\n",
       "│ Charizard    ┆ 1        ┆ 0         ┆ 0         ┆ … ┆ 78      ┆ 100   ┆ 1           ┆ 0          │\n",
       "│ Squirtle     ┆ 0        ┆ 0         ┆ 1         ┆ … ┆ 65      ┆ 43    ┆ 1           ┆ 0          │\n",
       "│ Wartortle    ┆ 0        ┆ 0         ┆ 1         ┆ … ┆ 80      ┆ 58    ┆ 1           ┆ 0          │\n",
       "└──────────────┴──────────┴───────────┴───────────┴───┴─────────┴───────┴─────────────┴────────────┘"
      ]
     },
     "execution_count": 8,
     "metadata": {},
     "output_type": "execute_result"
    }
   ],
   "source": [
    "# Convert the column type1 to dummies\n",
    "\n",
    "pokemon.head(8).to_dummies(columns=['type1'])"
   ]
  },
  {
   "attachments": {},
   "cell_type": "markdown",
   "metadata": {},
   "source": [
    "#### Grouping and aggregating data"
   ]
  },
  {
   "cell_type": "code",
   "execution_count": 9,
   "metadata": {},
   "outputs": [
    {
     "data": {
      "text/html": [
       "<div><style>\n",
       ".dataframe > thead > tr > th,\n",
       ".dataframe > tbody > tr > td {\n",
       "  text-align: right;\n",
       "}\n",
       "</style>\n",
       "<small>shape: (3, 5)</small><table border=\"1\" class=\"dataframe\"><thead><tr><th>type1</th><th>hp</th><th>attack</th><th>defense</th><th>speed</th></tr><tr><td>str</td><td>f64</td><td>f64</td><td>f64</td><td>f64</td></tr></thead><tbody><tr><td>&quot;water&quot;</td><td>68.0</td><td>70.0</td><td>70.0</td><td>64.0</td></tr><tr><td>&quot;grass&quot;</td><td>65.0</td><td>68.0</td><td>66.0</td><td>55.0</td></tr><tr><td>&quot;fairy&quot;</td><td>76.0</td><td>58.5</td><td>67.5</td><td>47.0</td></tr></tbody></table></div>"
      ],
      "text/plain": [
       "shape: (3, 5)\n",
       "┌───────┬──────┬────────┬─────────┬───────┐\n",
       "│ type1 ┆ hp   ┆ attack ┆ defense ┆ speed │\n",
       "│ ---   ┆ ---  ┆ ---    ┆ ---     ┆ ---   │\n",
       "│ str   ┆ f64  ┆ f64    ┆ f64     ┆ f64   │\n",
       "╞═══════╪══════╪════════╪═════════╪═══════╡\n",
       "│ water ┆ 68.0 ┆ 70.0   ┆ 70.0    ┆ 64.0  │\n",
       "│ grass ┆ 65.0 ┆ 68.0   ┆ 66.0    ┆ 55.0  │\n",
       "│ fairy ┆ 76.0 ┆ 58.5   ┆ 67.5    ┆ 47.0  │\n",
       "└───────┴──────┴────────┴─────────┴───────┘"
      ]
     },
     "execution_count": 9,
     "metadata": {},
     "output_type": "execute_result"
    }
   ],
   "source": [
    "# Group by type and calculate median stats\n",
    "# Group by is run in parallel so the order of the rows can change\n",
    "\n",
    "pokemon.groupby('type1').agg(\n",
    "    pl.col('hp', 'attack', 'defense', 'speed').median()\n",
    ").head(3)"
   ]
  },
  {
   "cell_type": "code",
   "execution_count": 10,
   "metadata": {},
   "outputs": [
    {
     "data": {
      "text/html": [
       "<div><style>\n",
       ".dataframe > thead > tr > th,\n",
       ".dataframe > tbody > tr > td {\n",
       "  text-align: right;\n",
       "}\n",
       "</style>\n",
       "<small>shape: (3, 5)</small><table border=\"1\" class=\"dataframe\"><thead><tr><th>type1</th><th>hp</th><th>attack</th><th>defense</th><th>speed</th></tr><tr><td>str</td><td>f64</td><td>f64</td><td>f64</td><td>f64</td></tr></thead><tbody><tr><td>&quot;grass&quot;</td><td>65.0</td><td>68.0</td><td>66.0</td><td>55.0</td></tr><tr><td>&quot;fire&quot;</td><td>65.0</td><td>79.5</td><td>61.5</td><td>72.5</td></tr><tr><td>&quot;water&quot;</td><td>68.0</td><td>70.0</td><td>70.0</td><td>64.0</td></tr></tbody></table></div>"
      ],
      "text/plain": [
       "shape: (3, 5)\n",
       "┌───────┬──────┬────────┬─────────┬───────┐\n",
       "│ type1 ┆ hp   ┆ attack ┆ defense ┆ speed │\n",
       "│ ---   ┆ ---  ┆ ---    ┆ ---     ┆ ---   │\n",
       "│ str   ┆ f64  ┆ f64    ┆ f64     ┆ f64   │\n",
       "╞═══════╪══════╪════════╪═════════╪═══════╡\n",
       "│ grass ┆ 65.0 ┆ 68.0   ┆ 66.0    ┆ 55.0  │\n",
       "│ fire  ┆ 65.0 ┆ 79.5   ┆ 61.5    ┆ 72.5  │\n",
       "│ water ┆ 68.0 ┆ 70.0   ┆ 70.0    ┆ 64.0  │\n",
       "└───────┴──────┴────────┴─────────┴───────┘"
      ]
     },
     "execution_count": 10,
     "metadata": {},
     "output_type": "execute_result"
    }
   ],
   "source": [
    "# Group by type and calculate median stats\n",
    "# Maintaining the order is possible but it is slower\n",
    "\n",
    "pokemon.groupby('type1', maintain_order=True).agg(\n",
    "    pl.col('hp', 'attack', 'defense', 'speed').median()\n",
    ").head(3)"
   ]
  },
  {
   "cell_type": "code",
   "execution_count": 11,
   "metadata": {},
   "outputs": [
    {
     "data": {
      "text/html": [
       "<div><style>\n",
       ".dataframe > thead > tr > th,\n",
       ".dataframe > tbody > tr > td {\n",
       "  text-align: right;\n",
       "}\n",
       "</style>\n",
       "<small>shape: (3, 6)</small><table border=\"1\" class=\"dataframe\"><thead><tr><th>type1</th><th>is_legendary</th><th>hp</th><th>attack</th><th>defense</th><th>speed</th></tr><tr><td>str</td><td>i64</td><td>f64</td><td>f64</td><td>f64</td><td>f64</td></tr></thead><tbody><tr><td>&quot;water&quot;</td><td>0</td><td>65.0</td><td>70.0</td><td>69.0</td><td>60.0</td></tr><tr><td>&quot;rock&quot;</td><td>0</td><td>66.0</td><td>84.0</td><td>95.0</td><td>50.0</td></tr><tr><td>&quot;dark&quot;</td><td>0</td><td>65.0</td><td>85.0</td><td>68.0</td><td>68.0</td></tr></tbody></table></div>"
      ],
      "text/plain": [
       "shape: (3, 6)\n",
       "┌───────┬──────────────┬──────┬────────┬─────────┬───────┐\n",
       "│ type1 ┆ is_legendary ┆ hp   ┆ attack ┆ defense ┆ speed │\n",
       "│ ---   ┆ ---          ┆ ---  ┆ ---    ┆ ---     ┆ ---   │\n",
       "│ str   ┆ i64          ┆ f64  ┆ f64    ┆ f64     ┆ f64   │\n",
       "╞═══════╪══════════════╪══════╪════════╪═════════╪═══════╡\n",
       "│ water ┆ 0            ┆ 65.0 ┆ 70.0   ┆ 69.0    ┆ 60.0  │\n",
       "│ rock  ┆ 0            ┆ 66.0 ┆ 84.0   ┆ 95.0    ┆ 50.0  │\n",
       "│ dark  ┆ 0            ┆ 65.0 ┆ 85.0   ┆ 68.0    ┆ 68.0  │\n",
       "└───────┴──────────────┴──────┴────────┴─────────┴───────┘"
      ]
     },
     "execution_count": 11,
     "metadata": {},
     "output_type": "execute_result"
    }
   ],
   "source": [
    "# Group on multiple columns works the same way\n",
    "\n",
    "pokemon.groupby(['type1', 'is_legendary']).agg(\n",
    "    pl.col('hp', 'attack', 'defense', 'speed').median().round(0)\n",
    ").head(3)"
   ]
  },
  {
   "cell_type": "code",
   "execution_count": 12,
   "metadata": {},
   "outputs": [
    {
     "data": {
      "text/html": [
       "<div><style>\n",
       ".dataframe > thead > tr > th,\n",
       ".dataframe > tbody > tr > td {\n",
       "  text-align: right;\n",
       "}\n",
       "</style>\n",
       "<small>shape: (3, 9)</small><table border=\"1\" class=\"dataframe\"><thead><tr><th>type1</th><th>avg_attack</th><th>median_attack</th><th>min_attack</th><th>max_attack</th><th>quantile_25</th><th>quantile_75</th><th>count</th><th>first_pokemon</th></tr><tr><td>str</td><td>f64</td><td>f64</td><td>i64</td><td>i64</td><td>f64</td><td>f64</td><td>u32</td><td>str</td></tr></thead><tbody><tr><td>&quot;ghost&quot;</td><td>72.740741</td><td>66.0</td><td>30</td><td>165</td><td>50.0</td><td>92.0</td><td>27</td><td>&quot;Gastly&quot;</td></tr><tr><td>&quot;psychic&quot;</td><td>65.566038</td><td>55.0</td><td>20</td><td>165</td><td>35.0</td><td>85.0</td><td>53</td><td>&quot;Abra&quot;</td></tr><tr><td>&quot;flying&quot;</td><td>66.666667</td><td>70.0</td><td>30</td><td>100</td><td>30.0</td><td>100.0</td><td>3</td><td>&quot;Tornadus&quot;</td></tr></tbody></table></div>"
      ],
      "text/plain": [
       "shape: (3, 9)\n",
       "┌─────────┬──────────┬────────────┬────────────┬───┬───────────┬───────────┬───────┬────────────┐\n",
       "│ type1   ┆ avg_atta ┆ median_att ┆ min_attack ┆ … ┆ quantile_ ┆ quantile_ ┆ count ┆ first_poke │\n",
       "│ ---     ┆ ck       ┆ ack        ┆ ---        ┆   ┆ 25        ┆ 75        ┆ ---   ┆ mon        │\n",
       "│ str     ┆ ---      ┆ ---        ┆ i64        ┆   ┆ ---       ┆ ---       ┆ u32   ┆ ---        │\n",
       "│         ┆ f64      ┆ f64        ┆            ┆   ┆ f64       ┆ f64       ┆       ┆ str        │\n",
       "╞═════════╪══════════╪════════════╪════════════╪═══╪═══════════╪═══════════╪═══════╪════════════╡\n",
       "│ ghost   ┆ 72.74074 ┆ 66.0       ┆ 30         ┆ … ┆ 50.0      ┆ 92.0      ┆ 27    ┆ Gastly     │\n",
       "│         ┆ 1        ┆            ┆            ┆   ┆           ┆           ┆       ┆            │\n",
       "│ psychic ┆ 65.56603 ┆ 55.0       ┆ 20         ┆ … ┆ 35.0      ┆ 85.0      ┆ 53    ┆ Abra       │\n",
       "│         ┆ 8        ┆            ┆            ┆   ┆           ┆           ┆       ┆            │\n",
       "│ flying  ┆ 66.66666 ┆ 70.0       ┆ 30         ┆ … ┆ 30.0      ┆ 100.0     ┆ 3     ┆ Tornadus   │\n",
       "│         ┆ 7        ┆            ┆            ┆   ┆           ┆           ┆       ┆            │\n",
       "└─────────┴──────────┴────────────┴────────────┴───┴───────────┴───────────┴───────┴────────────┘"
      ]
     },
     "execution_count": 12,
     "metadata": {},
     "output_type": "execute_result"
    }
   ],
   "source": [
    "# Lots of aggregations functions are available\n",
    "\n",
    "pokemon.groupby('type1').agg(\n",
    "    avg_attack = pl.col('attack').mean(),\n",
    "    median_attack = pl.col('attack').median(),\n",
    "    min_attack = pl.col('attack').min(),\n",
    "    max_attack = pl.col('attack').max(),\n",
    "    quantile_25 = pl.col('attack').quantile(0.25),\n",
    "    quantile_75 = pl.col('attack').quantile(0.75),\n",
    "    count = pl.count(), # Count the number of pokemon in each group\n",
    "    first_pokemon = pl.first('name') # Get the first pokemon in each group\n",
    ").head(3)"
   ]
  },
  {
   "cell_type": "code",
   "execution_count": 13,
   "metadata": {},
   "outputs": [
    {
     "data": {
      "text/html": [
       "<div><style>\n",
       ".dataframe > thead > tr > th,\n",
       ".dataframe > tbody > tr > td {\n",
       "  text-align: right;\n",
       "}\n",
       "</style>\n",
       "<small>shape: (3, 2)</small><table border=\"1\" class=\"dataframe\"><thead><tr><th>type1</th><th>sqrt_attack_mean</th></tr><tr><td>str</td><td>f64</td></tr></thead><tbody><tr><td>&quot;fighting&quot;</td><td>9.847137</td></tr><tr><td>&quot;grass&quot;</td><td>8.416553</td></tr><tr><td>&quot;bug&quot;</td><td>8.086296</td></tr></tbody></table></div>"
      ],
      "text/plain": [
       "shape: (3, 2)\n",
       "┌──────────┬──────────────────┐\n",
       "│ type1    ┆ sqrt_attack_mean │\n",
       "│ ---      ┆ ---              │\n",
       "│ str      ┆ f64              │\n",
       "╞══════════╪══════════════════╡\n",
       "│ fighting ┆ 9.847137         │\n",
       "│ grass    ┆ 8.416553         │\n",
       "│ bug      ┆ 8.086296         │\n",
       "└──────────┴──────────────────┘"
      ]
     },
     "execution_count": 13,
     "metadata": {},
     "output_type": "execute_result"
    }
   ],
   "source": [
    "# Possible to use Numpy universal functions (ufuncs) in aggregations\n",
    "\n",
    "import numpy as np\n",
    "\n",
    "pokemon.groupby('type1').agg(\n",
    "    sqrt_attack_mean = np.sqrt(pl.col('attack')).mean() # sqrt is the square root function\n",
    ").head(3)"
   ]
  },
  {
   "cell_type": "code",
   "execution_count": 14,
   "metadata": {},
   "outputs": [
    {
     "data": {
      "text/html": [
       "<div><style>\n",
       ".dataframe > thead > tr > th,\n",
       ".dataframe > tbody > tr > td {\n",
       "  text-align: right;\n",
       "}\n",
       "</style>\n",
       "<small>shape: (3, 2)</small><table border=\"1\" class=\"dataframe\"><thead><tr><th>type1</th><th>name</th></tr><tr><td>str</td><td>list[str]</td></tr></thead><tbody><tr><td>&quot;psychic&quot;</td><td>[&quot;Abra&quot;, &quot;Kadabra&quot;, … &quot;Necrozma&quot;]</td></tr><tr><td>&quot;fighting&quot;</td><td>[&quot;Mankey&quot;, &quot;Primeape&quot;, … &quot;Passimian&quot;]</td></tr><tr><td>&quot;electric&quot;</td><td>[&quot;Pikachu&quot;, &quot;Raichu&quot;, … &quot;Xurkitree&quot;]</td></tr></tbody></table></div>"
      ],
      "text/plain": [
       "shape: (3, 2)\n",
       "┌──────────┬─────────────────────────────────┐\n",
       "│ type1    ┆ name                            │\n",
       "│ ---      ┆ ---                             │\n",
       "│ str      ┆ list[str]                       │\n",
       "╞══════════╪═════════════════════════════════╡\n",
       "│ psychic  ┆ [\"Abra\", \"Kadabra\", … \"Necrozm… │\n",
       "│ fighting ┆ [\"Mankey\", \"Primeape\", … \"Pass… │\n",
       "│ electric ┆ [\"Pikachu\", \"Raichu\", … \"Xurki… │\n",
       "└──────────┴─────────────────────────────────┘"
      ]
     },
     "execution_count": 14,
     "metadata": {},
     "output_type": "execute_result"
    }
   ],
   "source": [
    "# If aggregation functions are not specified, the result if aggregated in a list\n",
    "\n",
    "pokemon.groupby('type1').agg(\n",
    "    pl.col('name')\n",
    ").head(3)"
   ]
  },
  {
   "cell_type": "code",
   "execution_count": 15,
   "metadata": {},
   "outputs": [
    {
     "data": {
      "text/html": [
       "<div><style>\n",
       ".dataframe > thead > tr > th,\n",
       ".dataframe > tbody > tr > td {\n",
       "  text-align: right;\n",
       "}\n",
       "</style>\n",
       "<small>shape: (3, 2)</small><table border=\"1\" class=\"dataframe\"><thead><tr><th>type1</th><th>name</th></tr><tr><td>str</td><td>str</td></tr></thead><tbody><tr><td>&quot;grass&quot;</td><td>&quot;Bulbasaur, Ivysaur, Venusaur,…</td></tr><tr><td>&quot;flying&quot;</td><td>&quot;Tornadus, Noibat, Noivern&quot;</td></tr><tr><td>&quot;fairy&quot;</td><td>&quot;Clefairy, Clefable, Cleffa, T…</td></tr></tbody></table></div>"
      ],
      "text/plain": [
       "shape: (3, 2)\n",
       "┌────────┬─────────────────────────────────┐\n",
       "│ type1  ┆ name                            │\n",
       "│ ---    ┆ ---                             │\n",
       "│ str    ┆ str                             │\n",
       "╞════════╪═════════════════════════════════╡\n",
       "│ grass  ┆ Bulbasaur, Ivysaur, Venusaur, … │\n",
       "│ flying ┆ Tornadus, Noibat, Noivern       │\n",
       "│ fairy  ┆ Clefairy, Clefable, Cleffa, To… │\n",
       "└────────┴─────────────────────────────────┘"
      ]
     },
     "execution_count": 15,
     "metadata": {},
     "output_type": "execute_result"
    }
   ],
   "source": [
    "# Concatenate the names of the pokemon into a string\n",
    "\n",
    "pokemon.groupby('type1').agg(\n",
    "    pl.col('name').str.concat(', ')\n",
    ").head(3)"
   ]
  },
  {
   "cell_type": "code",
   "execution_count": 16,
   "metadata": {},
   "outputs": [
    {
     "data": {
      "text/html": [
       "<div><style>\n",
       ".dataframe > thead > tr > th,\n",
       ".dataframe > tbody > tr > td {\n",
       "  text-align: right;\n",
       "}\n",
       "</style>\n",
       "<small>shape: (3, 2)</small><table border=\"1\" class=\"dataframe\"><thead><tr><th>type1</th><th>avg_attack_when_speed_above_100</th></tr><tr><td>str</td><td>f64</td></tr></thead><tbody><tr><td>&quot;normal&quot;</td><td>98.0</td></tr><tr><td>&quot;dark&quot;</td><td>105.428571</td></tr><tr><td>&quot;electric&quot;</td><td>79.25</td></tr></tbody></table></div>"
      ],
      "text/plain": [
       "shape: (3, 2)\n",
       "┌──────────┬─────────────────────────────────┐\n",
       "│ type1    ┆ avg_attack_when_speed_above_10… │\n",
       "│ ---      ┆ ---                             │\n",
       "│ str      ┆ f64                             │\n",
       "╞══════════╪═════════════════════════════════╡\n",
       "│ normal   ┆ 98.0                            │\n",
       "│ dark     ┆ 105.428571                      │\n",
       "│ electric ┆ 79.25                           │\n",
       "└──────────┴─────────────────────────────────┘"
      ]
     },
     "execution_count": 16,
     "metadata": {},
     "output_type": "execute_result"
    }
   ],
   "source": [
    "# Aggregation with conditions\n",
    "# Calculate the average attack for Pokemons with a speed above 100, by type\n",
    "\n",
    "pokemon.groupby('type1').agg(\n",
    "    avg_attack_when_speed_above_100 = pl.col('attack').filter(pl.col('speed') > 100).mean()\n",
    ").head(3)\n"
   ]
  },
  {
   "cell_type": "code",
   "execution_count": 17,
   "metadata": {},
   "outputs": [
    {
     "data": {
      "text/html": [
       "<div><style>\n",
       ".dataframe > thead > tr > th,\n",
       ".dataframe > tbody > tr > td {\n",
       "  text-align: right;\n",
       "}\n",
       "</style>\n",
       "<small>shape: (3, 5)</small><table border=\"1\" class=\"dataframe\"><thead><tr><th>type1</th><th>avg_attack_when_speed_above_20</th><th>avg_attack_when_speed_above_40</th><th>avg_attack_when_speed_above_60</th><th>avg_attack_when_speed_above_80</th></tr><tr><td>str</td><td>f64</td><td>f64</td><td>f64</td><td>f64</td></tr></thead><tbody><tr><td>&quot;dark&quot;</td><td>87.892857</td><td>90.038462</td><td>94.526316</td><td>105.9</td></tr><tr><td>&quot;normal&quot;</td><td>76.66</td><td>78.333333</td><td>84.859649</td><td>92.228571</td></tr><tr><td>&quot;rock&quot;</td><td>91.219512</td><td>97.96875</td><td>108.6875</td><td>118.857143</td></tr></tbody></table></div>"
      ],
      "text/plain": [
       "shape: (3, 5)\n",
       "┌────────┬──────────────────────┬──────────────────────┬─────────────────────┬─────────────────────┐\n",
       "│ type1  ┆ avg_attack_when_spee ┆ avg_attack_when_spee ┆ avg_attack_when_spe ┆ avg_attack_when_spe │\n",
       "│ ---    ┆ d_above_20           ┆ d_above_40           ┆ ed_above_60         ┆ ed_above_80         │\n",
       "│ str    ┆ ---                  ┆ ---                  ┆ ---                 ┆ ---                 │\n",
       "│        ┆ f64                  ┆ f64                  ┆ f64                 ┆ f64                 │\n",
       "╞════════╪══════════════════════╪══════════════════════╪═════════════════════╪═════════════════════╡\n",
       "│ dark   ┆ 87.892857            ┆ 90.038462            ┆ 94.526316           ┆ 105.9               │\n",
       "│ normal ┆ 76.66                ┆ 78.333333            ┆ 84.859649           ┆ 92.228571           │\n",
       "│ rock   ┆ 91.219512            ┆ 97.96875             ┆ 108.6875            ┆ 118.857143          │\n",
       "└────────┴──────────────────────┴──────────────────────┴─────────────────────┴─────────────────────┘"
      ]
     },
     "execution_count": 17,
     "metadata": {},
     "output_type": "execute_result"
    }
   ],
   "source": [
    "# We can also create functions to use in aggregations\n",
    "\n",
    "def avg_attack_when_speed_above_threshold(speed):\n",
    "    return pl.col('attack').filter(pl.col('speed') > speed).mean().alias(f'avg_attack_when_speed_above_{speed}')\n",
    "\n",
    "pokemon.groupby('type1').agg(\n",
    "    avg_attack_when_speed_above_threshold(speed) for speed in range(20,100,20)\n",
    ").head(3)"
   ]
  },
  {
   "cell_type": "code",
   "execution_count": 18,
   "metadata": {},
   "outputs": [
    {
     "data": {
      "text/html": [
       "<div><style>\n",
       ".dataframe > thead > tr > th,\n",
       ".dataframe > tbody > tr > td {\n",
       "  text-align: right;\n",
       "}\n",
       "</style>\n",
       "<small>shape: (5, 2)</small><table border=\"1\" class=\"dataframe\"><thead><tr><th>type1</th><th>top_3_pokemon_by_attack</th></tr><tr><td>str</td><td>list[str]</td></tr></thead><tbody><tr><td>&quot;fairy&quot;</td><td>[&quot;Xerneas&quot;, &quot;Granbull&quot;, &quot;Snubbull&quot;]</td></tr><tr><td>&quot;rock&quot;</td><td>[&quot;Rampardos&quot;, &quot;Tyranitar&quot;, &quot;Diancie&quot;]</td></tr><tr><td>&quot;ice&quot;</td><td>[&quot;Mamoswine&quot;, &quot;Beartic&quot;, &quot;Glalie&quot;]</td></tr><tr><td>&quot;water&quot;</td><td>[&quot;Gyarados&quot;, &quot;Swampert&quot;, &quot;Kyogre&quot;]</td></tr><tr><td>&quot;normal&quot;</td><td>[&quot;Slaking&quot;, &quot;Regigigas&quot;, &quot;Lopunny&quot;]</td></tr></tbody></table></div>"
      ],
      "text/plain": [
       "shape: (5, 2)\n",
       "┌────────┬─────────────────────────────────┐\n",
       "│ type1  ┆ top_3_pokemon_by_attack         │\n",
       "│ ---    ┆ ---                             │\n",
       "│ str    ┆ list[str]                       │\n",
       "╞════════╪═════════════════════════════════╡\n",
       "│ fairy  ┆ [\"Xerneas\", \"Granbull\", \"Snubb… │\n",
       "│ rock   ┆ [\"Rampardos\", \"Tyranitar\", \"Di… │\n",
       "│ ice    ┆ [\"Mamoswine\", \"Beartic\", \"Glal… │\n",
       "│ water  ┆ [\"Gyarados\", \"Swampert\", \"Kyog… │\n",
       "│ normal ┆ [\"Slaking\", \"Regigigas\", \"Lopu… │\n",
       "└────────┴─────────────────────────────────┘"
      ]
     },
     "execution_count": 18,
     "metadata": {},
     "output_type": "execute_result"
    }
   ],
   "source": [
    "# Show the top 3 pokemon by attack in each group\n",
    "# We sort before aggregation to make sure we get the top 3\n",
    "(\n",
    "    pokemon\n",
    "    .sort(by='attack', descending=True)\n",
    "    .groupby('type1').agg(\n",
    "        top_3_pokemon_by_attack = pl.col('name').head(3) # head(3) filters top 3 pokemons per type\n",
    "    )\n",
    ").head(5) # head(5) filters 5 types"
   ]
  },
  {
   "cell_type": "code",
   "execution_count": 19,
   "metadata": {},
   "outputs": [
    {
     "data": {
      "text/html": [
       "<div><style>\n",
       ".dataframe > thead > tr > th,\n",
       ".dataframe > tbody > tr > td {\n",
       "  text-align: right;\n",
       "}\n",
       "</style>\n",
       "<small>shape: (5, 3)</small><table border=\"1\" class=\"dataframe\"><thead><tr><th>type1</th><th>top_3_pokemon_by_attack</th><th>top_3_pokemon_by_defense</th></tr><tr><td>str</td><td>list[str]</td><td>list[str]</td></tr></thead><tbody><tr><td>&quot;fighting&quot;</td><td>[&quot;Lucario&quot;, &quot;Conkeldurr&quot;, &quot;Crabominable&quot;]</td><td>[&quot;Hitmontop&quot;, &quot;Conkeldurr&quot;, &quot;Passimian&quot;]</td></tr><tr><td>&quot;fairy&quot;</td><td>[&quot;Xerneas&quot;, &quot;Granbull&quot;, &quot;Snubbull&quot;]</td><td>[&quot;Togekiss&quot;, &quot;Xerneas&quot;, &quot;Comfey&quot;]</td></tr><tr><td>&quot;water&quot;</td><td>[&quot;Gyarados&quot;, &quot;Swampert&quot;, &quot;Kyogre&quot;]</td><td>[&quot;Slowbro&quot;, &quot;Cloyster&quot;, &quot;Carracosta&quot;]</td></tr><tr><td>&quot;normal&quot;</td><td>[&quot;Slaking&quot;, &quot;Regigigas&quot;, &quot;Lopunny&quot;]</td><td>[&quot;Audino&quot;, &quot;Arceus&quot;, &quot;Regigigas&quot;]</td></tr><tr><td>&quot;ground&quot;</td><td>[&quot;Groudon&quot;, &quot;Landorus&quot;, &quot;Rhyperior&quot;]</td><td>[&quot;Groudon&quot;, &quot;Rhyperior&quot;, &quot;Gliscor&quot;]</td></tr></tbody></table></div>"
      ],
      "text/plain": [
       "shape: (5, 3)\n",
       "┌──────────┬─────────────────────────────────┬─────────────────────────────────┐\n",
       "│ type1    ┆ top_3_pokemon_by_attack         ┆ top_3_pokemon_by_defense        │\n",
       "│ ---      ┆ ---                             ┆ ---                             │\n",
       "│ str      ┆ list[str]                       ┆ list[str]                       │\n",
       "╞══════════╪═════════════════════════════════╪═════════════════════════════════╡\n",
       "│ fighting ┆ [\"Lucario\", \"Conkeldurr\", \"Cra… ┆ [\"Hitmontop\", \"Conkeldurr\", \"P… │\n",
       "│ fairy    ┆ [\"Xerneas\", \"Granbull\", \"Snubb… ┆ [\"Togekiss\", \"Xerneas\", \"Comfe… │\n",
       "│ water    ┆ [\"Gyarados\", \"Swampert\", \"Kyog… ┆ [\"Slowbro\", \"Cloyster\", \"Carra… │\n",
       "│ normal   ┆ [\"Slaking\", \"Regigigas\", \"Lopu… ┆ [\"Audino\", \"Arceus\", \"Regigiga… │\n",
       "│ ground   ┆ [\"Groudon\", \"Landorus\", \"Rhype… ┆ [\"Groudon\", \"Rhyperior\", \"Glis… │\n",
       "└──────────┴─────────────────────────────────┴─────────────────────────────────┘"
      ]
     },
     "execution_count": 19,
     "metadata": {},
     "output_type": "execute_result"
    }
   ],
   "source": [
    "# Show the top 3 pokemon by attack and the top 3 pokemon by health in each group\n",
    "(\n",
    "    pokemon\n",
    "    .groupby('type1').agg(\n",
    "        top_3_pokemon_by_attack = pl.col('name').sort_by('attack', descending=True).head(3),\n",
    "        top_3_pokemon_by_defense = pl.col('name').sort_by('defense', descending=True).head(3) \n",
    "    )\n",
    ").head(5)"
   ]
  },
  {
   "cell_type": "code",
   "execution_count": 20,
   "metadata": {},
   "outputs": [
    {
     "data": {
      "text/html": [
       "<div><style>\n",
       ".dataframe > thead > tr > th,\n",
       ".dataframe > tbody > tr > td {\n",
       "  text-align: right;\n",
       "}\n",
       "</style>\n",
       "<small>shape: (1, 2)</small><table border=\"1\" class=\"dataframe\"><thead><tr><th>top_3_pokemon_by_attack</th><th>top_3_pokemon_by_defense</th></tr><tr><td>list[str]</td><td>list[str]</td></tr></thead><tbody><tr><td>[&quot;Heracross&quot;, &quot;Kartana&quot;, &quot;Groudon&quot;]</td><td>[&quot;Steelix&quot;, &quot;Shuckle&quot;, &quot;Aggron&quot;]</td></tr></tbody></table></div>"
      ],
      "text/plain": [
       "shape: (1, 2)\n",
       "┌─────────────────────────────────┬─────────────────────────────────┐\n",
       "│ top_3_pokemon_by_attack         ┆ top_3_pokemon_by_defense        │\n",
       "│ ---                             ┆ ---                             │\n",
       "│ list[str]                       ┆ list[str]                       │\n",
       "╞═════════════════════════════════╪═════════════════════════════════╡\n",
       "│ [\"Heracross\", \"Kartana\", \"Grou… ┆ [\"Steelix\", \"Shuckle\", \"Aggron… │\n",
       "└─────────────────────────────────┴─────────────────────────────────┘"
      ]
     },
     "execution_count": 20,
     "metadata": {},
     "output_type": "execute_result"
    }
   ],
   "source": [
    "# Show the top 3 pokemon by attack and the top 3 pokemon by health without grouping by type\n",
    "\n",
    "pokemon.select(\n",
    "    top_3_pokemon_by_attack = pl.col('name').sort_by('attack', descending=True).head(3).implode(),\n",
    "    top_3_pokemon_by_defense = pl.col('name').sort_by('defense', descending=True).head(3).implode()\n",
    ")"
   ]
  },
  {
   "cell_type": "code",
   "execution_count": 21,
   "metadata": {},
   "outputs": [
    {
     "name": "stdout",
     "output_type": "stream",
     "text": [
      "1\n",
      "shape: (2, 10)\n",
      "┌──────────┬──────────┬────────┬─────────────────┬───┬─────────┬───────┬────────────┬──────────────┐\n",
      "│ name     ┆ type1    ┆ type2  ┆ abilities       ┆ … ┆ defense ┆ speed ┆ generation ┆ is_legendary │\n",
      "│ ---      ┆ ---      ┆ ---    ┆ ---             ┆   ┆ ---     ┆ ---   ┆ ---        ┆ ---          │\n",
      "│ str      ┆ str      ┆ str    ┆ list[str]       ┆   ┆ i64     ┆ i64   ┆ i64        ┆ i64          │\n",
      "╞══════════╪══════════╪════════╪═════════════════╪═══╪═════════╪═══════╪════════════╪══════════════╡\n",
      "│ Articuno ┆ ice      ┆ flying ┆ [\"Pressure\",    ┆ … ┆ 100     ┆ 85    ┆ 1          ┆ 1            │\n",
      "│          ┆          ┆        ┆ \"Snow Cloak\"]   ┆   ┆         ┆       ┆            ┆              │\n",
      "│ Zapdos   ┆ electric ┆ flying ┆ [\"Pressure\",    ┆ … ┆ 85      ┆ 100   ┆ 1          ┆ 1            │\n",
      "│          ┆          ┆        ┆ \"Static\"]       ┆   ┆         ┆       ┆            ┆              │\n",
      "└──────────┴──────────┴────────┴─────────────────┴───┴─────────┴───────┴────────────┴──────────────┘\n",
      "0\n",
      "shape: (2, 10)\n",
      "┌───────────┬───────┬────────┬────────────────┬───┬─────────┬───────┬────────────┬──────────────┐\n",
      "│ name      ┆ type1 ┆ type2  ┆ abilities      ┆ … ┆ defense ┆ speed ┆ generation ┆ is_legendary │\n",
      "│ ---       ┆ ---   ┆ ---    ┆ ---            ┆   ┆ ---     ┆ ---   ┆ ---        ┆ ---          │\n",
      "│ str       ┆ str   ┆ str    ┆ list[str]      ┆   ┆ i64     ┆ i64   ┆ i64        ┆ i64          │\n",
      "╞═══════════╪═══════╪════════╪════════════════╪═══╪═════════╪═══════╪════════════╪══════════════╡\n",
      "│ Bulbasaur ┆ grass ┆ poison ┆ [\"Overgrow\",   ┆ … ┆ 49      ┆ 45    ┆ 1          ┆ 0            │\n",
      "│           ┆       ┆        ┆ \"Chlorophyll\"] ┆   ┆         ┆       ┆            ┆              │\n",
      "│ Ivysaur   ┆ grass ┆ poison ┆ [\"Overgrow\",   ┆ … ┆ 63      ┆ 60    ┆ 1          ┆ 0            │\n",
      "│           ┆       ┆        ┆ \"Chlorophyll\"] ┆   ┆         ┆       ┆            ┆              │\n",
      "└───────────┴───────┴────────┴────────────────┴───┴─────────┴───────┴────────────┴──────────────┘\n"
     ]
    }
   ],
   "source": [
    "# I can iterate over the groups and do any action on them\n",
    "\n",
    "for name, data in pokemon.groupby(\"is_legendary\"):\n",
    "    print(name)\n",
    "    print(data.head(2))"
   ]
  },
  {
   "attachments": {},
   "cell_type": "markdown",
   "metadata": {},
   "source": [
    "#### Window functions"
   ]
  },
  {
   "cell_type": "code",
   "execution_count": 22,
   "metadata": {},
   "outputs": [
    {
     "data": {
      "text/html": [
       "<div><style>\n",
       ".dataframe > thead > tr > th,\n",
       ".dataframe > tbody > tr > td {\n",
       "  text-align: right;\n",
       "}\n",
       "</style>\n",
       "<small>shape: (5, 4)</small><table border=\"1\" class=\"dataframe\"><thead><tr><th>name</th><th>type1</th><th>attack</th><th>avg_attack_for_same_type1</th></tr><tr><td>str</td><td>str</td><td>i64</td><td>f64</td></tr></thead><tbody><tr><td>&quot;Bulbasaur&quot;</td><td>&quot;grass&quot;</td><td>49</td><td>73.769231</td></tr><tr><td>&quot;Ivysaur&quot;</td><td>&quot;grass&quot;</td><td>62</td><td>73.769231</td></tr><tr><td>&quot;Venusaur&quot;</td><td>&quot;grass&quot;</td><td>100</td><td>73.769231</td></tr><tr><td>&quot;Charmander&quot;</td><td>&quot;fire&quot;</td><td>52</td><td>81.5</td></tr><tr><td>&quot;Charmeleon&quot;</td><td>&quot;fire&quot;</td><td>64</td><td>81.5</td></tr></tbody></table></div>"
      ],
      "text/plain": [
       "shape: (5, 4)\n",
       "┌────────────┬───────┬────────┬───────────────────────────┐\n",
       "│ name       ┆ type1 ┆ attack ┆ avg_attack_for_same_type1 │\n",
       "│ ---        ┆ ---   ┆ ---    ┆ ---                       │\n",
       "│ str        ┆ str   ┆ i64    ┆ f64                       │\n",
       "╞════════════╪═══════╪════════╪═══════════════════════════╡\n",
       "│ Bulbasaur  ┆ grass ┆ 49     ┆ 73.769231                 │\n",
       "│ Ivysaur    ┆ grass ┆ 62     ┆ 73.769231                 │\n",
       "│ Venusaur   ┆ grass ┆ 100    ┆ 73.769231                 │\n",
       "│ Charmander ┆ fire  ┆ 52     ┆ 81.5                      │\n",
       "│ Charmeleon ┆ fire  ┆ 64     ┆ 81.5                      │\n",
       "└────────────┴───────┴────────┴───────────────────────────┘"
      ]
     },
     "execution_count": 22,
     "metadata": {},
     "output_type": "execute_result"
    }
   ],
   "source": [
    "# For each pokemon show its attack and the average attack for pokemons of the same type 1\n",
    "\n",
    "pokemon.select(\n",
    "    'name', 'type1', 'attack',\n",
    "    avg_attack_for_same_type1 = pl.mean('attack').over('type1')\n",
    ").head(5)"
   ]
  },
  {
   "cell_type": "code",
   "execution_count": 23,
   "metadata": {},
   "outputs": [
    {
     "data": {
      "text/html": [
       "<div><style>\n",
       ".dataframe > thead > tr > th,\n",
       ".dataframe > tbody > tr > td {\n",
       "  text-align: right;\n",
       "}\n",
       "</style>\n",
       "<small>shape: (5, 6)</small><table border=\"1\" class=\"dataframe\"><thead><tr><th>name</th><th>type1</th><th>type2</th><th>attack</th><th>avg_attack_for_same_type1</th><th>avg_attack_for_same_type2</th></tr><tr><td>str</td><td>str</td><td>str</td><td>i64</td><td>f64</td><td>f64</td></tr></thead><tbody><tr><td>&quot;Bulbasaur&quot;</td><td>&quot;grass&quot;</td><td>&quot;poison&quot;</td><td>49</td><td>73.769231</td><td>67.617647</td></tr><tr><td>&quot;Ivysaur&quot;</td><td>&quot;grass&quot;</td><td>&quot;poison&quot;</td><td>62</td><td>73.769231</td><td>67.617647</td></tr><tr><td>&quot;Venusaur&quot;</td><td>&quot;grass&quot;</td><td>&quot;poison&quot;</td><td>100</td><td>73.769231</td><td>67.617647</td></tr><tr><td>&quot;Charmander&quot;</td><td>&quot;fire&quot;</td><td>null</td><td>52</td><td>81.5</td><td>74.231771</td></tr><tr><td>&quot;Charmeleon&quot;</td><td>&quot;fire&quot;</td><td>null</td><td>64</td><td>81.5</td><td>74.231771</td></tr></tbody></table></div>"
      ],
      "text/plain": [
       "shape: (5, 6)\n",
       "┌────────────┬───────┬────────┬────────┬───────────────────────────┬───────────────────────────┐\n",
       "│ name       ┆ type1 ┆ type2  ┆ attack ┆ avg_attack_for_same_type1 ┆ avg_attack_for_same_type2 │\n",
       "│ ---        ┆ ---   ┆ ---    ┆ ---    ┆ ---                       ┆ ---                       │\n",
       "│ str        ┆ str   ┆ str    ┆ i64    ┆ f64                       ┆ f64                       │\n",
       "╞════════════╪═══════╪════════╪════════╪═══════════════════════════╪═══════════════════════════╡\n",
       "│ Bulbasaur  ┆ grass ┆ poison ┆ 49     ┆ 73.769231                 ┆ 67.617647                 │\n",
       "│ Ivysaur    ┆ grass ┆ poison ┆ 62     ┆ 73.769231                 ┆ 67.617647                 │\n",
       "│ Venusaur   ┆ grass ┆ poison ┆ 100    ┆ 73.769231                 ┆ 67.617647                 │\n",
       "│ Charmander ┆ fire  ┆ null   ┆ 52     ┆ 81.5                      ┆ 74.231771                 │\n",
       "│ Charmeleon ┆ fire  ┆ null   ┆ 64     ┆ 81.5                      ┆ 74.231771                 │\n",
       "└────────────┴───────┴────────┴────────┴───────────────────────────┴───────────────────────────┘"
      ]
     },
     "execution_count": 23,
     "metadata": {},
     "output_type": "execute_result"
    }
   ],
   "source": [
    "# For each pokemon show its attack and the average attack for pokemons of the same type 1 and pokemons of the same type 2\n",
    "\n",
    "pokemon.select(\n",
    "    'name', 'type1', 'type2', 'attack',\n",
    "    avg_attack_for_same_type1 = pl.mean('attack').over('type1'),\n",
    "    avg_attack_for_same_type2 = pl.mean('attack').over('type2')\n",
    ").head(5)"
   ]
  },
  {
   "cell_type": "code",
   "execution_count": 24,
   "metadata": {},
   "outputs": [
    {
     "data": {
      "text/html": [
       "<div><style>\n",
       ".dataframe > thead > tr > th,\n",
       ".dataframe > tbody > tr > td {\n",
       "  text-align: right;\n",
       "}\n",
       "</style>\n",
       "<small>shape: (5, 4)</small><table border=\"1\" class=\"dataframe\"><thead><tr><th>name</th><th>type1</th><th>attack</th><th>top_3_attack_pokemon_same_type</th></tr><tr><td>str</td><td>str</td><td>i64</td><td>list[str]</td></tr></thead><tbody><tr><td>&quot;Bulbasaur&quot;</td><td>&quot;grass&quot;</td><td>49</td><td>[&quot;Kartana&quot;, &quot;Abomasnow&quot;, &quot;Breloom&quot;]</td></tr><tr><td>&quot;Ivysaur&quot;</td><td>&quot;grass&quot;</td><td>62</td><td>[&quot;Kartana&quot;, &quot;Abomasnow&quot;, &quot;Breloom&quot;]</td></tr><tr><td>&quot;Venusaur&quot;</td><td>&quot;grass&quot;</td><td>100</td><td>[&quot;Kartana&quot;, &quot;Abomasnow&quot;, &quot;Breloom&quot;]</td></tr><tr><td>&quot;Charmander&quot;</td><td>&quot;fire&quot;</td><td>52</td><td>[&quot;Blaziken&quot;, &quot;Flareon&quot;, &quot;Ho-Oh&quot;]</td></tr><tr><td>&quot;Charmeleon&quot;</td><td>&quot;fire&quot;</td><td>64</td><td>[&quot;Blaziken&quot;, &quot;Flareon&quot;, &quot;Ho-Oh&quot;]</td></tr></tbody></table></div>"
      ],
      "text/plain": [
       "shape: (5, 4)\n",
       "┌────────────┬───────┬────────┬─────────────────────────────────┐\n",
       "│ name       ┆ type1 ┆ attack ┆ top_3_attack_pokemon_same_type  │\n",
       "│ ---        ┆ ---   ┆ ---    ┆ ---                             │\n",
       "│ str        ┆ str   ┆ i64    ┆ list[str]                       │\n",
       "╞════════════╪═══════╪════════╪═════════════════════════════════╡\n",
       "│ Bulbasaur  ┆ grass ┆ 49     ┆ [\"Kartana\", \"Abomasnow\", \"Brel… │\n",
       "│ Ivysaur    ┆ grass ┆ 62     ┆ [\"Kartana\", \"Abomasnow\", \"Brel… │\n",
       "│ Venusaur   ┆ grass ┆ 100    ┆ [\"Kartana\", \"Abomasnow\", \"Brel… │\n",
       "│ Charmander ┆ fire  ┆ 52     ┆ [\"Blaziken\", \"Flareon\", \"Ho-Oh… │\n",
       "│ Charmeleon ┆ fire  ┆ 64     ┆ [\"Blaziken\", \"Flareon\", \"Ho-Oh… │\n",
       "└────────────┴───────┴────────┴─────────────────────────────────┘"
      ]
     },
     "execution_count": 24,
     "metadata": {},
     "output_type": "execute_result"
    }
   ],
   "source": [
    "# For each pokemon, show the top 3 pokemon by attack of the same type\n",
    "\n",
    "pokemon.select(\n",
    "    'name', 'type1', 'attack',\n",
    "    top_3_attack_pokemon_same_type = pl.col('name').sort_by('attack', descending=True).head(3).implode().over('type1')\n",
    ").head(5)"
   ]
  },
  {
   "cell_type": "code",
   "execution_count": 25,
   "metadata": {},
   "outputs": [
    {
     "data": {
      "text/html": [
       "<div><style>\n",
       ".dataframe > thead > tr > th,\n",
       ".dataframe > tbody > tr > td {\n",
       "  text-align: right;\n",
       "}\n",
       "</style>\n",
       "<small>shape: (6, 3)</small><table border=\"1\" class=\"dataframe\"><thead><tr><th>type1</th><th>top_3_attack</th><th>top_3_defense</th></tr><tr><td>str</td><td>str</td><td>str</td></tr></thead><tbody><tr><td>&quot;grass&quot;</td><td>&quot;Kartana&quot;</td><td>&quot;Ferrothorn&quot;</td></tr><tr><td>&quot;grass&quot;</td><td>&quot;Abomasnow&quot;</td><td>&quot;Kartana&quot;</td></tr><tr><td>&quot;grass&quot;</td><td>&quot;Breloom&quot;</td><td>&quot;Leafeon&quot;</td></tr><tr><td>&quot;fire&quot;</td><td>&quot;Blaziken&quot;</td><td>&quot;Torkoal&quot;</td></tr><tr><td>&quot;fire&quot;</td><td>&quot;Flareon&quot;</td><td>&quot;Turtonator&quot;</td></tr><tr><td>&quot;fire&quot;</td><td>&quot;Ho-Oh&quot;</td><td>&quot;Magcargo&quot;</td></tr></tbody></table></div>"
      ],
      "text/plain": [
       "shape: (6, 3)\n",
       "┌───────┬──────────────┬───────────────┐\n",
       "│ type1 ┆ top_3_attack ┆ top_3_defense │\n",
       "│ ---   ┆ ---          ┆ ---           │\n",
       "│ str   ┆ str          ┆ str           │\n",
       "╞═══════╪══════════════╪═══════════════╡\n",
       "│ grass ┆ Kartana      ┆ Ferrothorn    │\n",
       "│ grass ┆ Abomasnow    ┆ Kartana       │\n",
       "│ grass ┆ Breloom      ┆ Leafeon       │\n",
       "│ fire  ┆ Blaziken     ┆ Torkoal       │\n",
       "│ fire  ┆ Flareon      ┆ Turtonator    │\n",
       "│ fire  ┆ Ho-Oh        ┆ Magcargo      │\n",
       "└───────┴──────────────┴───────────────┘"
      ]
     },
     "execution_count": 25,
     "metadata": {},
     "output_type": "execute_result"
    }
   ],
   "source": [
    "# Show top 3 pokemon by attack and defense\n",
    "\n",
    "pokemon.select(\n",
    "    pl.col('type1').head(3).implode().over('type1').flatten(),\n",
    "    # flatten changes 2D lists (each row has a list of 3 pokemons) to 1D array (each pokemon in a separate row)\n",
    "    top_3_attack = pl.col('name').sort_by('attack', descending=True).head(3).implode().over('type1').flatten(), \n",
    "    top_3_defense = pl.col('name').sort_by('defense', descending=True).head(3).implode().over('type1').flatten()\n",
    ").head(6)"
   ]
  },
  {
   "cell_type": "code",
   "execution_count": 26,
   "metadata": {},
   "outputs": [
    {
     "data": {
      "text/html": [
       "<div><style>\n",
       ".dataframe > thead > tr > th,\n",
       ".dataframe > tbody > tr > td {\n",
       "  text-align: right;\n",
       "}\n",
       "</style>\n",
       "<small>shape: (6, 6)</small><table border=\"1\" class=\"dataframe\"><thead><tr><th>name</th><th>type1</th><th>attack</th><th>defense</th><th>attack_rank</th><th>defense_rank</th></tr><tr><td>str</td><td>str</td><td>i64</td><td>i64</td><td>u32</td><td>u32</td></tr></thead><tbody><tr><td>&quot;Bulbasaur&quot;</td><td>&quot;grass&quot;</td><td>49</td><td>49</td><td>61</td><td>62</td></tr><tr><td>&quot;Ivysaur&quot;</td><td>&quot;grass&quot;</td><td>62</td><td>63</td><td>45</td><td>45</td></tr><tr><td>&quot;Venusaur&quot;</td><td>&quot;grass&quot;</td><td>100</td><td>123</td><td>16</td><td>5</td></tr><tr><td>&quot;Charmander&quot;</td><td>&quot;fire&quot;</td><td>52</td><td>43</td><td>45</td><td>44</td></tr><tr><td>&quot;Charmeleon&quot;</td><td>&quot;fire&quot;</td><td>64</td><td>58</td><td>37</td><td>29</td></tr><tr><td>&quot;Charizard&quot;</td><td>&quot;fire&quot;</td><td>104</td><td>78</td><td>10</td><td>14</td></tr></tbody></table></div>"
      ],
      "text/plain": [
       "shape: (6, 6)\n",
       "┌────────────┬───────┬────────┬─────────┬─────────────┬──────────────┐\n",
       "│ name       ┆ type1 ┆ attack ┆ defense ┆ attack_rank ┆ defense_rank │\n",
       "│ ---        ┆ ---   ┆ ---    ┆ ---     ┆ ---         ┆ ---          │\n",
       "│ str        ┆ str   ┆ i64    ┆ i64     ┆ u32         ┆ u32          │\n",
       "╞════════════╪═══════╪════════╪═════════╪═════════════╪══════════════╡\n",
       "│ Bulbasaur  ┆ grass ┆ 49     ┆ 49      ┆ 61          ┆ 62           │\n",
       "│ Ivysaur    ┆ grass ┆ 62     ┆ 63      ┆ 45          ┆ 45           │\n",
       "│ Venusaur   ┆ grass ┆ 100    ┆ 123     ┆ 16          ┆ 5            │\n",
       "│ Charmander ┆ fire  ┆ 52     ┆ 43      ┆ 45          ┆ 44           │\n",
       "│ Charmeleon ┆ fire  ┆ 64     ┆ 58      ┆ 37          ┆ 29           │\n",
       "│ Charizard  ┆ fire  ┆ 104    ┆ 78      ┆ 10          ┆ 14           │\n",
       "└────────────┴───────┴────────┴─────────┴─────────────┴──────────────┘"
      ]
     },
     "execution_count": 26,
     "metadata": {},
     "output_type": "execute_result"
    }
   ],
   "source": [
    "# Rank the pokemon by attack and defense by type\n",
    "\n",
    "pokemon.select(\n",
    "    'name', 'type1', 'attack', 'defense',\n",
    "    attack_rank = pl.col('attack').rank(method='ordinal', descending=True).over('type1'),\n",
    "    defense_rank = pl.col('defense').rank(method='ordinal', descending=True).over('type1')\n",
    ").head(6)"
   ]
  },
  {
   "attachments": {},
   "cell_type": "markdown",
   "metadata": {},
   "source": [
    "#### Range function"
   ]
  },
  {
   "cell_type": "code",
   "execution_count": 27,
   "metadata": {},
   "outputs": [
    {
     "data": {
      "text/html": [
       "<div><style>\n",
       ".dataframe > thead > tr > th,\n",
       ".dataframe > tbody > tr > td {\n",
       "  text-align: right;\n",
       "}\n",
       "</style>\n",
       "<small>shape: (6, 5)</small><table border=\"1\" class=\"dataframe\"><thead><tr><th>name</th><th>type1</th><th>attack</th><th>defense</th><th>type_index</th></tr><tr><td>str</td><td>str</td><td>i64</td><td>i64</td><td>i64</td></tr></thead><tbody><tr><td>&quot;Bulbasaur&quot;</td><td>&quot;grass&quot;</td><td>49</td><td>49</td><td>1</td></tr><tr><td>&quot;Ivysaur&quot;</td><td>&quot;grass&quot;</td><td>62</td><td>63</td><td>2</td></tr><tr><td>&quot;Venusaur&quot;</td><td>&quot;grass&quot;</td><td>100</td><td>123</td><td>3</td></tr><tr><td>&quot;Charmander&quot;</td><td>&quot;fire&quot;</td><td>52</td><td>43</td><td>1</td></tr><tr><td>&quot;Charmeleon&quot;</td><td>&quot;fire&quot;</td><td>64</td><td>58</td><td>2</td></tr><tr><td>&quot;Charizard&quot;</td><td>&quot;fire&quot;</td><td>104</td><td>78</td><td>3</td></tr></tbody></table></div>"
      ],
      "text/plain": [
       "shape: (6, 5)\n",
       "┌────────────┬───────┬────────┬─────────┬────────────┐\n",
       "│ name       ┆ type1 ┆ attack ┆ defense ┆ type_index │\n",
       "│ ---        ┆ ---   ┆ ---    ┆ ---     ┆ ---        │\n",
       "│ str        ┆ str   ┆ i64    ┆ i64     ┆ i64        │\n",
       "╞════════════╪═══════╪════════╪═════════╪════════════╡\n",
       "│ Bulbasaur  ┆ grass ┆ 49     ┆ 49      ┆ 1          │\n",
       "│ Ivysaur    ┆ grass ┆ 62     ┆ 63      ┆ 2          │\n",
       "│ Venusaur   ┆ grass ┆ 100    ┆ 123     ┆ 3          │\n",
       "│ Charmander ┆ fire  ┆ 52     ┆ 43      ┆ 1          │\n",
       "│ Charmeleon ┆ fire  ┆ 64     ┆ 58      ┆ 2          │\n",
       "│ Charizard  ┆ fire  ┆ 104    ┆ 78      ┆ 3          │\n",
       "└────────────┴───────┴────────┴─────────┴────────────┘"
      ]
     },
     "execution_count": 27,
     "metadata": {},
     "output_type": "execute_result"
    }
   ],
   "source": [
    "# Add an increasing index for the pokemon of each type\n",
    "\n",
    "pokemon.select(\n",
    "    'name', 'type1', 'attack', 'defense',\n",
    "    type_index = pl.arange(1, pl.count()+1).over('type1')\n",
    ").head(6)"
   ]
  },
  {
   "cell_type": "code",
   "execution_count": 28,
   "metadata": {},
   "outputs": [
    {
     "data": {
      "text/html": [
       "<div><style>\n",
       ".dataframe > thead > tr > th,\n",
       ".dataframe > tbody > tr > td {\n",
       "  text-align: right;\n",
       "}\n",
       "</style>\n",
       "<small>shape: (6, 10)</small><table border=\"1\" class=\"dataframe\"><thead><tr><th>name</th><th>type1</th><th>type2</th><th>abilities</th><th>hp</th><th>attack</th><th>defense</th><th>speed</th><th>generation</th><th>is_legendary</th></tr><tr><td>str</td><td>str</td><td>str</td><td>list[str]</td><td>i64</td><td>i64</td><td>i64</td><td>i64</td><td>i64</td><td>i64</td></tr></thead><tbody><tr><td>&quot;Sewaddle&quot;</td><td>&quot;bug&quot;</td><td>&quot;grass&quot;</td><td>[&quot;Swarm&quot;, &quot;Chlorophyll&quot;, &quot;Overcoat&quot;]</td><td>45</td><td>53</td><td>70</td><td>42</td><td>5</td><td>0</td></tr><tr><td>&quot;Shelmet&quot;</td><td>&quot;bug&quot;</td><td>null</td><td>[&quot;Hydration&quot;, &quot;Shell Armor&quot;, &quot;Overcoat&quot;]</td><td>50</td><td>40</td><td>85</td><td>25</td><td>5</td><td>0</td></tr><tr><td>&quot;Volcarona&quot;</td><td>&quot;bug&quot;</td><td>&quot;fire&quot;</td><td>[&quot;Flame Body&quot;, &quot;Swarm&quot;]</td><td>85</td><td>60</td><td>65</td><td>100</td><td>5</td><td>0</td></tr><tr><td>&quot;Purrloin&quot;</td><td>&quot;dark&quot;</td><td>null</td><td>[&quot;Limber&quot;, &quot;Unburden&quot;, &quot;Prankster&quot;]</td><td>41</td><td>50</td><td>37</td><td>66</td><td>5</td><td>0</td></tr><tr><td>&quot;Scrafty&quot;</td><td>&quot;dark&quot;</td><td>&quot;fighting&quot;</td><td>[&quot;Shed Skin&quot;, &quot;Moxie&quot;, &quot;Intimidate&quot;]</td><td>65</td><td>90</td><td>115</td><td>58</td><td>5</td><td>0</td></tr><tr><td>&quot;Pawniard&quot;</td><td>&quot;dark&quot;</td><td>&quot;steel&quot;</td><td>[&quot;Defiant&quot;, &quot;Inner Focus&quot;, &quot;Pressure&quot;]</td><td>45</td><td>85</td><td>70</td><td>60</td><td>5</td><td>0</td></tr></tbody></table></div>"
      ],
      "text/plain": [
       "shape: (6, 10)\n",
       "┌───────────┬───────┬──────────┬─────────────────┬───┬─────────┬───────┬────────────┬──────────────┐\n",
       "│ name      ┆ type1 ┆ type2    ┆ abilities       ┆ … ┆ defense ┆ speed ┆ generation ┆ is_legendary │\n",
       "│ ---       ┆ ---   ┆ ---      ┆ ---             ┆   ┆ ---     ┆ ---   ┆ ---        ┆ ---          │\n",
       "│ str       ┆ str   ┆ str      ┆ list[str]       ┆   ┆ i64     ┆ i64   ┆ i64        ┆ i64          │\n",
       "╞═══════════╪═══════╪══════════╪═════════════════╪═══╪═════════╪═══════╪════════════╪══════════════╡\n",
       "│ Sewaddle  ┆ bug   ┆ grass    ┆ [\"Swarm\",       ┆ … ┆ 70      ┆ 42    ┆ 5          ┆ 0            │\n",
       "│           ┆       ┆          ┆ \"Chlorophyll\",  ┆   ┆         ┆       ┆            ┆              │\n",
       "│           ┆       ┆          ┆ \"Over…          ┆   ┆         ┆       ┆            ┆              │\n",
       "│ Shelmet   ┆ bug   ┆ null     ┆ [\"Hydration\",   ┆ … ┆ 85      ┆ 25    ┆ 5          ┆ 0            │\n",
       "│           ┆       ┆          ┆ \"Shell Armor\",  ┆   ┆         ┆       ┆            ┆              │\n",
       "│           ┆       ┆          ┆ \"…              ┆   ┆         ┆       ┆            ┆              │\n",
       "│ Volcarona ┆ bug   ┆ fire     ┆ [\"Flame Body\",  ┆ … ┆ 65      ┆ 100   ┆ 5          ┆ 0            │\n",
       "│           ┆       ┆          ┆ \"Swarm\"]        ┆   ┆         ┆       ┆            ┆              │\n",
       "│ Purrloin  ┆ dark  ┆ null     ┆ [\"Limber\",      ┆ … ┆ 37      ┆ 66    ┆ 5          ┆ 0            │\n",
       "│           ┆       ┆          ┆ \"Unburden\",     ┆   ┆         ┆       ┆            ┆              │\n",
       "│           ┆       ┆          ┆ \"Pranks…        ┆   ┆         ┆       ┆            ┆              │\n",
       "│ Scrafty   ┆ dark  ┆ fighting ┆ [\"Shed Skin\",   ┆ … ┆ 115     ┆ 58    ┆ 5          ┆ 0            │\n",
       "│           ┆       ┆          ┆ \"Moxie\",        ┆   ┆         ┆       ┆            ┆              │\n",
       "│           ┆       ┆          ┆ \"Intimi…        ┆   ┆         ┆       ┆            ┆              │\n",
       "│ Pawniard  ┆ dark  ┆ steel    ┆ [\"Defiant\",     ┆ … ┆ 70      ┆ 60    ┆ 5          ┆ 0            │\n",
       "│           ┆       ┆          ┆ \"Inner Focus\",  ┆   ┆         ┆       ┆            ┆              │\n",
       "│           ┆       ┆          ┆ \"Pr…            ┆   ┆         ┆       ┆            ┆              │\n",
       "└───────────┴───────┴──────────┴─────────────────┴───┴─────────┴───────┴────────────┴──────────────┘"
      ]
     },
     "execution_count": 28,
     "metadata": {},
     "output_type": "execute_result"
    }
   ],
   "source": [
    "# Take a random sample of 3 pokemons for each group\n",
    "\n",
    "pokemon.filter(\n",
    "    pl.arange(1, pl.count()+1).shuffle().over(\"type1\") <= 3\n",
    ").sort(by='type1').head(6)"
   ]
  },
  {
   "cell_type": "code",
   "execution_count": 29,
   "metadata": {},
   "outputs": [
    {
     "data": {
      "text/html": [
       "<div><style>\n",
       ".dataframe > thead > tr > th,\n",
       ".dataframe > tbody > tr > td {\n",
       "  text-align: right;\n",
       "}\n",
       "</style>\n",
       "<small>shape: (6, 10)</small><table border=\"1\" class=\"dataframe\"><thead><tr><th>name</th><th>type1</th><th>type2</th><th>abilities</th><th>hp</th><th>attack</th><th>defense</th><th>speed</th><th>generation</th><th>is_legendary</th></tr><tr><td>str</td><td>str</td><td>str</td><td>list[str]</td><td>i64</td><td>i64</td><td>i64</td><td>i64</td><td>i64</td><td>i64</td></tr></thead><tbody><tr><td>&quot;Scyther&quot;</td><td>&quot;bug&quot;</td><td>&quot;flying&quot;</td><td>[&quot;Swarm&quot;, &quot;Technician&quot;, &quot;Steadfast&quot;]</td><td>70</td><td>110</td><td>80</td><td>105</td><td>1</td><td>0</td></tr><tr><td>&quot;Kricketune&quot;</td><td>&quot;bug&quot;</td><td>null</td><td>[&quot;Swarm&quot;, &quot;Technician&quot;]</td><td>77</td><td>85</td><td>51</td><td>65</td><td>4</td><td>0</td></tr><tr><td>&quot;Grubbin&quot;</td><td>&quot;bug&quot;</td><td>null</td><td>[&quot;Swarm&quot;]</td><td>47</td><td>62</td><td>45</td><td>46</td><td>7</td><td>0</td></tr><tr><td>&quot;Weavile&quot;</td><td>&quot;dark&quot;</td><td>&quot;ice&quot;</td><td>[&quot;Pressure&quot;, &quot;Pickpocket&quot;]</td><td>70</td><td>120</td><td>65</td><td>125</td><td>4</td><td>0</td></tr><tr><td>&quot;Gible&quot;</td><td>&quot;dragon&quot;</td><td>&quot;ground&quot;</td><td>[&quot;Sand Veil&quot;, &quot;Rough Skin&quot;]</td><td>58</td><td>70</td><td>45</td><td>42</td><td>4</td><td>0</td></tr><tr><td>&quot;Luxray&quot;</td><td>&quot;electric&quot;</td><td>null</td><td>[&quot;Rivalry&quot;, &quot;Intimidate&quot;, &quot;Guts&quot;]</td><td>80</td><td>120</td><td>79</td><td>70</td><td>4</td><td>0</td></tr></tbody></table></div>"
      ],
      "text/plain": [
       "shape: (6, 10)\n",
       "┌────────────┬──────────┬────────┬───────────────┬───┬─────────┬───────┬────────────┬──────────────┐\n",
       "│ name       ┆ type1    ┆ type2  ┆ abilities     ┆ … ┆ defense ┆ speed ┆ generation ┆ is_legendary │\n",
       "│ ---        ┆ ---      ┆ ---    ┆ ---           ┆   ┆ ---     ┆ ---   ┆ ---        ┆ ---          │\n",
       "│ str        ┆ str      ┆ str    ┆ list[str]     ┆   ┆ i64     ┆ i64   ┆ i64        ┆ i64          │\n",
       "╞════════════╪══════════╪════════╪═══════════════╪═══╪═════════╪═══════╪════════════╪══════════════╡\n",
       "│ Scyther    ┆ bug      ┆ flying ┆ [\"Swarm\",     ┆ … ┆ 80      ┆ 105   ┆ 1          ┆ 0            │\n",
       "│            ┆          ┆        ┆ \"Technician\", ┆   ┆         ┆       ┆            ┆              │\n",
       "│            ┆          ┆        ┆ \"Stead…       ┆   ┆         ┆       ┆            ┆              │\n",
       "│ Kricketune ┆ bug      ┆ null   ┆ [\"Swarm\",     ┆ … ┆ 51      ┆ 65    ┆ 4          ┆ 0            │\n",
       "│            ┆          ┆        ┆ \"Technician\"] ┆   ┆         ┆       ┆            ┆              │\n",
       "│ Grubbin    ┆ bug      ┆ null   ┆ [\"Swarm\"]     ┆ … ┆ 45      ┆ 46    ┆ 7          ┆ 0            │\n",
       "│ Weavile    ┆ dark     ┆ ice    ┆ [\"Pressure\",  ┆ … ┆ 65      ┆ 125   ┆ 4          ┆ 0            │\n",
       "│            ┆          ┆        ┆ \"Pickpocket\"] ┆   ┆         ┆       ┆            ┆              │\n",
       "│ Gible      ┆ dragon   ┆ ground ┆ [\"Sand Veil\", ┆ … ┆ 45      ┆ 42    ┆ 4          ┆ 0            │\n",
       "│            ┆          ┆        ┆ \"Rough Skin\"] ┆   ┆         ┆       ┆            ┆              │\n",
       "│ Luxray     ┆ electric ┆ null   ┆ [\"Rivalry\",   ┆ … ┆ 79      ┆ 70    ┆ 4          ┆ 0            │\n",
       "│            ┆          ┆        ┆ \"Intimidate\", ┆   ┆         ┆       ┆            ┆              │\n",
       "│            ┆          ┆        ┆ \"Gut…         ┆   ┆         ┆       ┆            ┆              │\n",
       "└────────────┴──────────┴────────┴───────────────┴───┴─────────┴───────┴────────────┴──────────────┘"
      ]
     },
     "execution_count": 29,
     "metadata": {},
     "output_type": "execute_result"
    }
   ],
   "source": [
    "# Take a random sample of 5% of pokemons for each group\n",
    "\n",
    "pokemon.filter(\n",
    "    pl.arange(1, pl.count() + 1).shuffle().over(\"type1\") <= pl.count().over(\"type1\") * 0.05\n",
    ").sort(by=\"type1\").head(6)"
   ]
  },
  {
   "cell_type": "code",
   "execution_count": 30,
   "metadata": {},
   "outputs": [
    {
     "data": {
      "text/html": [
       "<div><style>\n",
       ".dataframe > thead > tr > th,\n",
       ".dataframe > tbody > tr > td {\n",
       "  text-align: right;\n",
       "}\n",
       "</style>\n",
       "<small>shape: (5, 10)</small><table border=\"1\" class=\"dataframe\"><thead><tr><th>name</th><th>type1</th><th>type2</th><th>abilities</th><th>hp</th><th>attack</th><th>defense</th><th>speed</th><th>generation</th><th>is_legendary</th></tr><tr><td>str</td><td>str</td><td>str</td><td>list[str]</td><td>i64</td><td>i64</td><td>i64</td><td>i64</td><td>i64</td><td>i64</td></tr></thead><tbody><tr><td>&quot;Kakuna&quot;</td><td>&quot;bug&quot;</td><td>&quot;poison&quot;</td><td>[&quot;Shed Skin&quot;]</td><td>45</td><td>25</td><td>50</td><td>35</td><td>1</td><td>0</td></tr><tr><td>&quot;Raticate&quot;</td><td>&quot;normal&quot;</td><td>&quot;dark&quot;</td><td>[&quot;Run Away&quot;, &quot;Guts&quot;, … &quot;Thick Fat&quot;]</td><td>75</td><td>71</td><td>70</td><td>77</td><td>1</td><td>0</td></tr><tr><td>&quot;Nidoqueen&quot;</td><td>&quot;poison&quot;</td><td>&quot;ground&quot;</td><td>[&quot;Poison Point&quot;, &quot;Rivalry&quot;, &quot;Sheer Force&quot;]</td><td>90</td><td>92</td><td>87</td><td>76</td><td>1</td><td>0</td></tr><tr><td>&quot;Ninetales&quot;</td><td>&quot;fire&quot;</td><td>&quot;ice&quot;</td><td>[&quot;Flash Fire&quot;, &quot;Drought&quot;, … &quot;Snow Warning&quot;]</td><td>73</td><td>67</td><td>75</td><td>109</td><td>1</td><td>0</td></tr><tr><td>&quot;Gloom&quot;</td><td>&quot;grass&quot;</td><td>&quot;poison&quot;</td><td>[&quot;Chlorophyll&quot;, &quot;Stench&quot;]</td><td>60</td><td>65</td><td>70</td><td>40</td><td>1</td><td>0</td></tr></tbody></table></div>"
      ],
      "text/plain": [
       "shape: (5, 10)\n",
       "┌───────────┬────────┬────────┬──────────────────┬───┬─────────┬───────┬────────────┬──────────────┐\n",
       "│ name      ┆ type1  ┆ type2  ┆ abilities        ┆ … ┆ defense ┆ speed ┆ generation ┆ is_legendary │\n",
       "│ ---       ┆ ---    ┆ ---    ┆ ---              ┆   ┆ ---     ┆ ---   ┆ ---        ┆ ---          │\n",
       "│ str       ┆ str    ┆ str    ┆ list[str]        ┆   ┆ i64     ┆ i64   ┆ i64        ┆ i64          │\n",
       "╞═══════════╪════════╪════════╪══════════════════╪═══╪═════════╪═══════╪════════════╪══════════════╡\n",
       "│ Kakuna    ┆ bug    ┆ poison ┆ [\"Shed Skin\"]    ┆ … ┆ 50      ┆ 35    ┆ 1          ┆ 0            │\n",
       "│ Raticate  ┆ normal ┆ dark   ┆ [\"Run Away\",     ┆ … ┆ 70      ┆ 77    ┆ 1          ┆ 0            │\n",
       "│           ┆        ┆        ┆ \"Guts\", … \"Thick ┆   ┆         ┆       ┆            ┆              │\n",
       "│           ┆        ┆        ┆ …                ┆   ┆         ┆       ┆            ┆              │\n",
       "│ Nidoqueen ┆ poison ┆ ground ┆ [\"Poison Point\", ┆ … ┆ 87      ┆ 76    ┆ 1          ┆ 0            │\n",
       "│           ┆        ┆        ┆ \"Rivalry\", \"S…   ┆   ┆         ┆       ┆            ┆              │\n",
       "│ Ninetales ┆ fire   ┆ ice    ┆ [\"Flash Fire\",   ┆ … ┆ 75      ┆ 109   ┆ 1          ┆ 0            │\n",
       "│           ┆        ┆        ┆ \"Drought\", … \"S… ┆   ┆         ┆       ┆            ┆              │\n",
       "│ Gloom     ┆ grass  ┆ poison ┆ [\"Chlorophyll\",  ┆ … ┆ 70      ┆ 40    ┆ 1          ┆ 0            │\n",
       "│           ┆        ┆        ┆ \"Stench\"]        ┆   ┆         ┆       ┆            ┆              │\n",
       "└───────────┴────────┴────────┴──────────────────┴───┴─────────┴───────┴────────────┴──────────────┘"
      ]
     },
     "execution_count": 30,
     "metadata": {},
     "output_type": "execute_result"
    }
   ],
   "source": [
    "# Get the 5th pokemon for each group\n",
    "\n",
    "pokemon.filter(\n",
    "    pl.arange(1, pl.count() + 1).over(\"type1\") == 5\n",
    ").head(5)"
   ]
  },
  {
   "attachments": {},
   "cell_type": "markdown",
   "metadata": {},
   "source": [
    "#### Binning functions: Cut and Qcut"
   ]
  },
  {
   "cell_type": "code",
   "execution_count": 31,
   "metadata": {},
   "outputs": [
    {
     "data": {
      "text/html": [
       "<div><style>\n",
       ".dataframe > thead > tr > th,\n",
       ".dataframe > tbody > tr > td {\n",
       "  text-align: right;\n",
       "}\n",
       "</style>\n",
       "<small>shape: (5, 3)</small><table border=\"1\" class=\"dataframe\"><thead><tr><th>attack</th><th>break_point</th><th>category</th></tr><tr><td>f64</td><td>f64</td><td>cat</td></tr></thead><tbody><tr><td>49.0</td><td>50.0</td><td>&quot;weak&quot;</td></tr><tr><td>62.0</td><td>100.0</td><td>&quot;medium&quot;</td></tr><tr><td>100.0</td><td>100.0</td><td>&quot;medium&quot;</td></tr><tr><td>52.0</td><td>100.0</td><td>&quot;medium&quot;</td></tr><tr><td>64.0</td><td>100.0</td><td>&quot;medium&quot;</td></tr></tbody></table></div>"
      ],
      "text/plain": [
       "shape: (5, 3)\n",
       "┌────────┬─────────────┬──────────┐\n",
       "│ attack ┆ break_point ┆ category │\n",
       "│ ---    ┆ ---         ┆ ---      │\n",
       "│ f64    ┆ f64         ┆ cat      │\n",
       "╞════════╪═════════════╪══════════╡\n",
       "│ 49.0   ┆ 50.0        ┆ weak     │\n",
       "│ 62.0   ┆ 100.0       ┆ medium   │\n",
       "│ 100.0  ┆ 100.0       ┆ medium   │\n",
       "│ 52.0   ┆ 100.0       ┆ medium   │\n",
       "│ 64.0   ┆ 100.0       ┆ medium   │\n",
       "└────────┴─────────────┴──────────┘"
      ]
     },
     "execution_count": 31,
     "metadata": {},
     "output_type": "execute_result"
    }
   ],
   "source": [
    "# Bin the attack column into 3 bins\n",
    "# <= 50 - weak, <= 100 - medium, > 100 - strong\n",
    "\n",
    "pokemon.get_column('attack').cut([50, 100], labels=['weak', 'medium', 'strong'], maintain_order=True).head(5)"
   ]
  },
  {
   "cell_type": "code",
   "execution_count": 32,
   "metadata": {},
   "outputs": [
    {
     "data": {
      "text/html": [
       "<div><style>\n",
       ".dataframe > thead > tr > th,\n",
       ".dataframe > tbody > tr > td {\n",
       "  text-align: right;\n",
       "}\n",
       "</style>\n",
       "<small>shape: (6, 11)</small><table border=\"1\" class=\"dataframe\"><thead><tr><th>name</th><th>type1</th><th>type2</th><th>abilities</th><th>hp</th><th>attack</th><th>defense</th><th>speed</th><th>generation</th><th>is_legendary</th><th>category</th></tr><tr><td>str</td><td>str</td><td>str</td><td>list[str]</td><td>i64</td><td>i64</td><td>i64</td><td>i64</td><td>i64</td><td>i64</td><td>cat</td></tr></thead><tbody><tr><td>&quot;Bulbasaur&quot;</td><td>&quot;grass&quot;</td><td>&quot;poison&quot;</td><td>[&quot;Overgrow&quot;, &quot;Chlorophyll&quot;]</td><td>45</td><td>49</td><td>49</td><td>45</td><td>1</td><td>0</td><td>&quot;weak&quot;</td></tr><tr><td>&quot;Ivysaur&quot;</td><td>&quot;grass&quot;</td><td>&quot;poison&quot;</td><td>[&quot;Overgrow&quot;, &quot;Chlorophyll&quot;]</td><td>60</td><td>62</td><td>63</td><td>60</td><td>1</td><td>0</td><td>&quot;medium&quot;</td></tr><tr><td>&quot;Venusaur&quot;</td><td>&quot;grass&quot;</td><td>&quot;poison&quot;</td><td>[&quot;Overgrow&quot;, &quot;Chlorophyll&quot;]</td><td>80</td><td>100</td><td>123</td><td>80</td><td>1</td><td>0</td><td>&quot;medium&quot;</td></tr><tr><td>&quot;Charmander&quot;</td><td>&quot;fire&quot;</td><td>null</td><td>[&quot;Blaze&quot;, &quot;Solar Power&quot;]</td><td>39</td><td>52</td><td>43</td><td>65</td><td>1</td><td>0</td><td>&quot;medium&quot;</td></tr><tr><td>&quot;Charmeleon&quot;</td><td>&quot;fire&quot;</td><td>null</td><td>[&quot;Blaze&quot;, &quot;Solar Power&quot;]</td><td>58</td><td>64</td><td>58</td><td>80</td><td>1</td><td>0</td><td>&quot;medium&quot;</td></tr><tr><td>&quot;Charizard&quot;</td><td>&quot;fire&quot;</td><td>&quot;flying&quot;</td><td>[&quot;Blaze&quot;, &quot;Solar Power&quot;]</td><td>78</td><td>104</td><td>78</td><td>100</td><td>1</td><td>0</td><td>&quot;strong&quot;</td></tr></tbody></table></div>"
      ],
      "text/plain": [
       "shape: (6, 11)\n",
       "┌────────────┬───────┬────────┬─────────────────┬───┬───────┬────────────┬──────────────┬──────────┐\n",
       "│ name       ┆ type1 ┆ type2  ┆ abilities       ┆ … ┆ speed ┆ generation ┆ is_legendary ┆ category │\n",
       "│ ---        ┆ ---   ┆ ---    ┆ ---             ┆   ┆ ---   ┆ ---        ┆ ---          ┆ ---      │\n",
       "│ str        ┆ str   ┆ str    ┆ list[str]       ┆   ┆ i64   ┆ i64        ┆ i64          ┆ cat      │\n",
       "╞════════════╪═══════╪════════╪═════════════════╪═══╪═══════╪════════════╪══════════════╪══════════╡\n",
       "│ Bulbasaur  ┆ grass ┆ poison ┆ [\"Overgrow\",    ┆ … ┆ 45    ┆ 1          ┆ 0            ┆ weak     │\n",
       "│            ┆       ┆        ┆ \"Chlorophyll\"]  ┆   ┆       ┆            ┆              ┆          │\n",
       "│ Ivysaur    ┆ grass ┆ poison ┆ [\"Overgrow\",    ┆ … ┆ 60    ┆ 1          ┆ 0            ┆ medium   │\n",
       "│            ┆       ┆        ┆ \"Chlorophyll\"]  ┆   ┆       ┆            ┆              ┆          │\n",
       "│ Venusaur   ┆ grass ┆ poison ┆ [\"Overgrow\",    ┆ … ┆ 80    ┆ 1          ┆ 0            ┆ medium   │\n",
       "│            ┆       ┆        ┆ \"Chlorophyll\"]  ┆   ┆       ┆            ┆              ┆          │\n",
       "│ Charmander ┆ fire  ┆ null   ┆ [\"Blaze\",       ┆ … ┆ 65    ┆ 1          ┆ 0            ┆ medium   │\n",
       "│            ┆       ┆        ┆ \"Solar Power\"]  ┆   ┆       ┆            ┆              ┆          │\n",
       "│ Charmeleon ┆ fire  ┆ null   ┆ [\"Blaze\",       ┆ … ┆ 80    ┆ 1          ┆ 0            ┆ medium   │\n",
       "│            ┆       ┆        ┆ \"Solar Power\"]  ┆   ┆       ┆            ┆              ┆          │\n",
       "│ Charizard  ┆ fire  ┆ flying ┆ [\"Blaze\",       ┆ … ┆ 100   ┆ 1          ┆ 0            ┆ strong   │\n",
       "│            ┆       ┆        ┆ \"Solar Power\"]  ┆   ┆       ┆            ┆              ┆          │\n",
       "└────────────┴───────┴────────┴─────────────────┴───┴───────┴────────────┴──────────────┴──────────┘"
      ]
     },
     "execution_count": 32,
     "metadata": {},
     "output_type": "execute_result"
    }
   ],
   "source": [
    "# Assigns the pokemon a category based on their attack stats:\n",
    "# <= 50 - weak, <= 100 - medium, > 100 - strong\n",
    "\n",
    "pokemon.with_columns(\n",
    "    'name', 'type1', 'attack',\n",
    "    pokemon.get_column('attack').cut([50, 100], labels=['weak', 'medium', 'strong'], maintain_order=True).get_column('category')\n",
    ").head(6)"
   ]
  },
  {
   "cell_type": "code",
   "execution_count": 33,
   "metadata": {},
   "outputs": [
    {
     "data": {
      "text/html": [
       "<div><style>\n",
       ".dataframe > thead > tr > th,\n",
       ".dataframe > tbody > tr > td {\n",
       "  text-align: right;\n",
       "}\n",
       "</style>\n",
       "<small>shape: (6, 11)</small><table border=\"1\" class=\"dataframe\"><thead><tr><th>name</th><th>type1</th><th>type2</th><th>abilities</th><th>hp</th><th>attack</th><th>defense</th><th>speed</th><th>generation</th><th>is_legendary</th><th>category</th></tr><tr><td>str</td><td>str</td><td>str</td><td>list[str]</td><td>i64</td><td>i64</td><td>i64</td><td>i64</td><td>i64</td><td>i64</td><td>cat</td></tr></thead><tbody><tr><td>&quot;Bulbasaur&quot;</td><td>&quot;grass&quot;</td><td>&quot;poison&quot;</td><td>[&quot;Overgrow&quot;, &quot;Chlorophyll&quot;]</td><td>45</td><td>49</td><td>49</td><td>45</td><td>1</td><td>0</td><td>&quot;weak&quot;</td></tr><tr><td>&quot;Ivysaur&quot;</td><td>&quot;grass&quot;</td><td>&quot;poison&quot;</td><td>[&quot;Overgrow&quot;, &quot;Chlorophyll&quot;]</td><td>60</td><td>62</td><td>63</td><td>60</td><td>1</td><td>0</td><td>&quot;weak&quot;</td></tr><tr><td>&quot;Venusaur&quot;</td><td>&quot;grass&quot;</td><td>&quot;poison&quot;</td><td>[&quot;Overgrow&quot;, &quot;Chlorophyll&quot;]</td><td>80</td><td>100</td><td>123</td><td>80</td><td>1</td><td>0</td><td>&quot;medium&quot;</td></tr><tr><td>&quot;Charmander&quot;</td><td>&quot;fire&quot;</td><td>null</td><td>[&quot;Blaze&quot;, &quot;Solar Power&quot;]</td><td>39</td><td>52</td><td>43</td><td>65</td><td>1</td><td>0</td><td>&quot;weak&quot;</td></tr><tr><td>&quot;Charmeleon&quot;</td><td>&quot;fire&quot;</td><td>null</td><td>[&quot;Blaze&quot;, &quot;Solar Power&quot;]</td><td>58</td><td>64</td><td>58</td><td>80</td><td>1</td><td>0</td><td>&quot;weak&quot;</td></tr><tr><td>&quot;Charizard&quot;</td><td>&quot;fire&quot;</td><td>&quot;flying&quot;</td><td>[&quot;Blaze&quot;, &quot;Solar Power&quot;]</td><td>78</td><td>104</td><td>78</td><td>100</td><td>1</td><td>0</td><td>&quot;medium&quot;</td></tr></tbody></table></div>"
      ],
      "text/plain": [
       "shape: (6, 11)\n",
       "┌────────────┬───────┬────────┬─────────────────┬───┬───────┬────────────┬──────────────┬──────────┐\n",
       "│ name       ┆ type1 ┆ type2  ┆ abilities       ┆ … ┆ speed ┆ generation ┆ is_legendary ┆ category │\n",
       "│ ---        ┆ ---   ┆ ---    ┆ ---             ┆   ┆ ---   ┆ ---        ┆ ---          ┆ ---      │\n",
       "│ str        ┆ str   ┆ str    ┆ list[str]       ┆   ┆ i64   ┆ i64        ┆ i64          ┆ cat      │\n",
       "╞════════════╪═══════╪════════╪═════════════════╪═══╪═══════╪════════════╪══════════════╪══════════╡\n",
       "│ Bulbasaur  ┆ grass ┆ poison ┆ [\"Overgrow\",    ┆ … ┆ 45    ┆ 1          ┆ 0            ┆ weak     │\n",
       "│            ┆       ┆        ┆ \"Chlorophyll\"]  ┆   ┆       ┆            ┆              ┆          │\n",
       "│ Ivysaur    ┆ grass ┆ poison ┆ [\"Overgrow\",    ┆ … ┆ 60    ┆ 1          ┆ 0            ┆ weak     │\n",
       "│            ┆       ┆        ┆ \"Chlorophyll\"]  ┆   ┆       ┆            ┆              ┆          │\n",
       "│ Venusaur   ┆ grass ┆ poison ┆ [\"Overgrow\",    ┆ … ┆ 80    ┆ 1          ┆ 0            ┆ medium   │\n",
       "│            ┆       ┆        ┆ \"Chlorophyll\"]  ┆   ┆       ┆            ┆              ┆          │\n",
       "│ Charmander ┆ fire  ┆ null   ┆ [\"Blaze\",       ┆ … ┆ 65    ┆ 1          ┆ 0            ┆ weak     │\n",
       "│            ┆       ┆        ┆ \"Solar Power\"]  ┆   ┆       ┆            ┆              ┆          │\n",
       "│ Charmeleon ┆ fire  ┆ null   ┆ [\"Blaze\",       ┆ … ┆ 80    ┆ 1          ┆ 0            ┆ weak     │\n",
       "│            ┆       ┆        ┆ \"Solar Power\"]  ┆   ┆       ┆            ┆              ┆          │\n",
       "│ Charizard  ┆ fire  ┆ flying ┆ [\"Blaze\",       ┆ … ┆ 100   ┆ 1          ┆ 0            ┆ medium   │\n",
       "│            ┆       ┆        ┆ \"Solar Power\"]  ┆   ┆       ┆            ┆              ┆          │\n",
       "└────────────┴───────┴────────┴─────────────────┴───┴───────┴────────────┴──────────────┴──────────┘"
      ]
     },
     "execution_count": 33,
     "metadata": {},
     "output_type": "execute_result"
    }
   ],
   "source": [
    "# Assigns the pokemon a category based on their attack stats using percentiles:\n",
    "# bottom 40% - weak, top 20% - strong, rest - medium\n",
    "\n",
    "pokemon.with_columns(\n",
    "    'name', 'type1', 'attack',\n",
    "    pokemon.get_column('attack').qcut(quantiles=[0.4,0.8], labels=['weak', 'medium', 'strong'], maintain_order=True).get_column('category')\n",
    ").head(6)"
   ]
  },
  {
   "attachments": {},
   "cell_type": "markdown",
   "metadata": {},
   "source": [
    "#### Repeat"
   ]
  },
  {
   "cell_type": "code",
   "execution_count": 34,
   "metadata": {},
   "outputs": [
    {
     "data": {
      "text/html": [
       "<div><style>\n",
       ".dataframe > thead > tr > th,\n",
       ".dataframe > tbody > tr > td {\n",
       "  text-align: right;\n",
       "}\n",
       "</style>\n",
       "<small>shape: (6, 1)</small><table border=\"1\" class=\"dataframe\"><thead><tr><th>Fruit</th></tr><tr><td>str</td></tr></thead><tbody><tr><td>&quot;Apple&quot;</td></tr><tr><td>&quot;Banana&quot;</td></tr><tr><td>&quot;Banana&quot;</td></tr><tr><td>&quot;Banana&quot;</td></tr><tr><td>&quot;Cherry&quot;</td></tr><tr><td>&quot;Cherry&quot;</td></tr></tbody></table></div>"
      ],
      "text/plain": [
       "shape: (6, 1)\n",
       "┌────────┐\n",
       "│ Fruit  │\n",
       "│ ---    │\n",
       "│ str    │\n",
       "╞════════╡\n",
       "│ Apple  │\n",
       "│ Banana │\n",
       "│ Banana │\n",
       "│ Banana │\n",
       "│ Cherry │\n",
       "│ Cherry │\n",
       "└────────┘"
      ]
     },
     "execution_count": 34,
     "metadata": {},
     "output_type": "execute_result"
    }
   ],
   "source": [
    "# Use a different dataframe for this example\n",
    "# Based on a dataframe with 3 fruits and their order quantities\n",
    "# Repeat the fruit names based on their order quantities\n",
    "\n",
    "df = pl.DataFrame(\n",
    "    {\n",
    "        \"Fruit\": [\"Apple\", \"Banana\", \"Cherry\"],\n",
    "        \"Order_Quantity\": [1, 3, 2],\n",
    "    }\n",
    ")\n",
    "\n",
    "df.select(\n",
    "    pl.col('Fruit').repeat_by('Order_Quantity').flatten()\n",
    "    )"
   ]
  },
  {
   "attachments": {},
   "cell_type": "markdown",
   "metadata": {},
   "source": [
    "#### Explode, Implode and Flatten"
   ]
  },
  {
   "cell_type": "code",
   "execution_count": 35,
   "metadata": {},
   "outputs": [
    {
     "data": {
      "text/html": [
       "<div><style>\n",
       ".dataframe > thead > tr > th,\n",
       ".dataframe > tbody > tr > td {\n",
       "  text-align: right;\n",
       "}\n",
       "</style>\n",
       "<small>shape: (6, 1)</small><table border=\"1\" class=\"dataframe\"><thead><tr><th>abilities</th></tr><tr><td>str</td></tr></thead><tbody><tr><td>&quot;Overgrow&quot;</td></tr><tr><td>&quot;Chlorophyll&quot;</td></tr><tr><td>&quot;Overgrow&quot;</td></tr><tr><td>&quot;Chlorophyll&quot;</td></tr><tr><td>&quot;Overgrow&quot;</td></tr><tr><td>&quot;Chlorophyll&quot;</td></tr></tbody></table></div>"
      ],
      "text/plain": [
       "shape: (6, 1)\n",
       "┌─────────────┐\n",
       "│ abilities   │\n",
       "│ ---         │\n",
       "│ str         │\n",
       "╞═════════════╡\n",
       "│ Overgrow    │\n",
       "│ Chlorophyll │\n",
       "│ Overgrow    │\n",
       "│ Chlorophyll │\n",
       "│ Overgrow    │\n",
       "│ Chlorophyll │\n",
       "└─────────────┘"
      ]
     },
     "execution_count": 35,
     "metadata": {},
     "output_type": "execute_result"
    }
   ],
   "source": [
    "# Explode the list of pokemon abilities: from a column of list to a column of values\n",
    "# Point of attention when using explode: explode increases the number of rows\n",
    "# All columns in a Polars dataframe should have the same number of rows\n",
    "\n",
    "pokemon.head(3).select(\n",
    "    pl.col('abilities').explode()\n",
    ")"
   ]
  },
  {
   "cell_type": "code",
   "execution_count": 36,
   "metadata": {},
   "outputs": [
    {
     "data": {
      "text/html": [
       "<div><style>\n",
       ".dataframe > thead > tr > th,\n",
       ".dataframe > tbody > tr > td {\n",
       "  text-align: right;\n",
       "}\n",
       "</style>\n",
       "<small>shape: (1, 10)</small><table border=\"1\" class=\"dataframe\"><thead><tr><th>name</th><th>type1</th><th>type2</th><th>abilities</th><th>hp</th><th>attack</th><th>defense</th><th>speed</th><th>generation</th><th>is_legendary</th></tr><tr><td>list[str]</td><td>list[str]</td><td>list[str]</td><td>list[list[str]]</td><td>list[i64]</td><td>list[i64]</td><td>list[i64]</td><td>list[i64]</td><td>list[i64]</td><td>list[i64]</td></tr></thead><tbody><tr><td>[&quot;Bulbasaur&quot;, &quot;Ivysaur&quot;, &quot;Venusaur&quot;]</td><td>[&quot;grass&quot;, &quot;grass&quot;, &quot;grass&quot;]</td><td>[&quot;poison&quot;, &quot;poison&quot;, &quot;poison&quot;]</td><td>[[&quot;Overgrow&quot;, &quot;Chlorophyll&quot;], [&quot;Overgrow&quot;, &quot;Chlorophyll&quot;], [&quot;Overgrow&quot;, &quot;Chlorophyll&quot;]]</td><td>[45, 60, 80]</td><td>[49, 62, 100]</td><td>[49, 63, 123]</td><td>[45, 60, 80]</td><td>[1, 1, 1]</td><td>[0, 0, 0]</td></tr></tbody></table></div>"
      ],
      "text/plain": [
       "shape: (1, 10)\n",
       "┌────────────┬───────────┬───────────┬─────────┬───┬───────────┬───────────┬──────────┬────────────┐\n",
       "│ name       ┆ type1     ┆ type2     ┆ abiliti ┆ … ┆ defense   ┆ speed     ┆ generati ┆ is_legenda │\n",
       "│ ---        ┆ ---       ┆ ---       ┆ es      ┆   ┆ ---       ┆ ---       ┆ on       ┆ ry         │\n",
       "│ list[str]  ┆ list[str] ┆ list[str] ┆ ---     ┆   ┆ list[i64] ┆ list[i64] ┆ ---      ┆ ---        │\n",
       "│            ┆           ┆           ┆ list[li ┆   ┆           ┆           ┆ list[i64 ┆ list[i64]  │\n",
       "│            ┆           ┆           ┆ st[str] ┆   ┆           ┆           ┆ ]        ┆            │\n",
       "│            ┆           ┆           ┆ ]       ┆   ┆           ┆           ┆          ┆            │\n",
       "╞════════════╪═══════════╪═══════════╪═════════╪═══╪═══════════╪═══════════╪══════════╪════════════╡\n",
       "│ [\"Bulbasau ┆ [\"grass\", ┆ [\"poison\" ┆ [[\"Over ┆ … ┆ [49, 63,  ┆ [45, 60,  ┆ [1, 1,   ┆ [0, 0, 0]  │\n",
       "│ r\",        ┆ \"grass\",  ┆ ,         ┆ grow\",  ┆   ┆ 123]      ┆ 80]       ┆ 1]       ┆            │\n",
       "│ \"Ivysaur\", ┆ \"grass\"]  ┆ \"poison\", ┆ \"Chloro ┆   ┆           ┆           ┆          ┆            │\n",
       "│ \"Venu…     ┆           ┆ \"poison\"] ┆ phyll\"] ┆   ┆           ┆           ┆          ┆            │\n",
       "│            ┆           ┆           ┆ , …     ┆   ┆           ┆           ┆          ┆            │\n",
       "└────────────┴───────────┴───────────┴─────────┴───┴───────────┴───────────┴──────────┴────────────┘"
      ]
     },
     "execution_count": 36,
     "metadata": {},
     "output_type": "execute_result"
    }
   ],
   "source": [
    "# Implode is the opposite of explode, and aggregates values into lists\n",
    "\n",
    "pokemon.head(3).select(\n",
    "    pl.all().implode(),\n",
    ")"
   ]
  },
  {
   "cell_type": "code",
   "execution_count": 37,
   "metadata": {},
   "outputs": [
    {
     "data": {
      "text/html": [
       "<div><style>\n",
       ".dataframe > thead > tr > th,\n",
       ".dataframe > tbody > tr > td {\n",
       "  text-align: right;\n",
       "}\n",
       "</style>\n",
       "<small>shape: (3, 10)</small><table border=\"1\" class=\"dataframe\"><thead><tr><th>name</th><th>type1</th><th>type2</th><th>abilities</th><th>hp</th><th>attack</th><th>defense</th><th>speed</th><th>generation</th><th>is_legendary</th></tr><tr><td>str</td><td>str</td><td>str</td><td>list[str]</td><td>i64</td><td>i64</td><td>i64</td><td>i64</td><td>i64</td><td>i64</td></tr></thead><tbody><tr><td>&quot;Bulbasaur&quot;</td><td>&quot;grass&quot;</td><td>&quot;poison&quot;</td><td>[&quot;Overgrow&quot;, &quot;Chlorophyll&quot;]</td><td>45</td><td>49</td><td>49</td><td>45</td><td>1</td><td>0</td></tr><tr><td>&quot;Ivysaur&quot;</td><td>&quot;grass&quot;</td><td>&quot;poison&quot;</td><td>[&quot;Overgrow&quot;, &quot;Chlorophyll&quot;]</td><td>60</td><td>62</td><td>63</td><td>60</td><td>1</td><td>0</td></tr><tr><td>&quot;Venusaur&quot;</td><td>&quot;grass&quot;</td><td>&quot;poison&quot;</td><td>[&quot;Overgrow&quot;, &quot;Chlorophyll&quot;]</td><td>80</td><td>100</td><td>123</td><td>80</td><td>1</td><td>0</td></tr></tbody></table></div>"
      ],
      "text/plain": [
       "shape: (3, 10)\n",
       "┌───────────┬───────┬────────┬────────────────┬───┬─────────┬───────┬────────────┬──────────────┐\n",
       "│ name      ┆ type1 ┆ type2  ┆ abilities      ┆ … ┆ defense ┆ speed ┆ generation ┆ is_legendary │\n",
       "│ ---       ┆ ---   ┆ ---    ┆ ---            ┆   ┆ ---     ┆ ---   ┆ ---        ┆ ---          │\n",
       "│ str       ┆ str   ┆ str    ┆ list[str]      ┆   ┆ i64     ┆ i64   ┆ i64        ┆ i64          │\n",
       "╞═══════════╪═══════╪════════╪════════════════╪═══╪═════════╪═══════╪════════════╪══════════════╡\n",
       "│ Bulbasaur ┆ grass ┆ poison ┆ [\"Overgrow\",   ┆ … ┆ 49      ┆ 45    ┆ 1          ┆ 0            │\n",
       "│           ┆       ┆        ┆ \"Chlorophyll\"] ┆   ┆         ┆       ┆            ┆              │\n",
       "│ Ivysaur   ┆ grass ┆ poison ┆ [\"Overgrow\",   ┆ … ┆ 63      ┆ 60    ┆ 1          ┆ 0            │\n",
       "│           ┆       ┆        ┆ \"Chlorophyll\"] ┆   ┆         ┆       ┆            ┆              │\n",
       "│ Venusaur  ┆ grass ┆ poison ┆ [\"Overgrow\",   ┆ … ┆ 123     ┆ 80    ┆ 1          ┆ 0            │\n",
       "│           ┆       ┆        ┆ \"Chlorophyll\"] ┆   ┆         ┆       ┆            ┆              │\n",
       "└───────────┴───────┴────────┴────────────────┴───┴─────────┴───────┴────────────┴──────────────┘"
      ]
     },
     "execution_count": 37,
     "metadata": {},
     "output_type": "execute_result"
    }
   ],
   "source": [
    "# Flatten removes a level of nesting from a column of lists\n",
    "# If there is no nesting, then it acts as explodes\n",
    "\n",
    "pokemon.head(3).select(\n",
    "    pl.all().implode().flatten()\n",
    ")"
   ]
  },
  {
   "cell_type": "code",
   "execution_count": 38,
   "metadata": {},
   "outputs": [
    {
     "data": {
      "text/html": [
       "<div><style>\n",
       ".dataframe > thead > tr > th,\n",
       ".dataframe > tbody > tr > td {\n",
       "  text-align: right;\n",
       "}\n",
       "</style>\n",
       "<small>shape: (6, 1)</small><table border=\"1\" class=\"dataframe\"><thead><tr><th>abilities</th></tr><tr><td>str</td></tr></thead><tbody><tr><td>&quot;Overgrow&quot;</td></tr><tr><td>&quot;Chlorophyll&quot;</td></tr><tr><td>&quot;Overgrow&quot;</td></tr><tr><td>&quot;Chlorophyll&quot;</td></tr><tr><td>&quot;Overgrow&quot;</td></tr><tr><td>&quot;Chlorophyll&quot;</td></tr></tbody></table></div>"
      ],
      "text/plain": [
       "shape: (6, 1)\n",
       "┌─────────────┐\n",
       "│ abilities   │\n",
       "│ ---         │\n",
       "│ str         │\n",
       "╞═════════════╡\n",
       "│ Overgrow    │\n",
       "│ Chlorophyll │\n",
       "│ Overgrow    │\n",
       "│ Chlorophyll │\n",
       "│ Overgrow    │\n",
       "│ Chlorophyll │\n",
       "└─────────────┘"
      ]
     },
     "execution_count": 38,
     "metadata": {},
     "output_type": "execute_result"
    }
   ],
   "source": [
    "# When there is no nesting, flatten acts as explode\n",
    "\n",
    "pokemon.head(3).select(\n",
    "    pl.col('abilities').flatten()\n",
    ")"
   ]
  },
  {
   "attachments": {},
   "cell_type": "markdown",
   "metadata": {},
   "source": [
    "#### Conversion between structs and lists"
   ]
  },
  {
   "cell_type": "code",
   "execution_count": 39,
   "metadata": {},
   "outputs": [
    {
     "data": {
      "text/html": [
       "<div><style>\n",
       ".dataframe > thead > tr > th,\n",
       ".dataframe > tbody > tr > td {\n",
       "  text-align: right;\n",
       "}\n",
       "</style>\n",
       "<small>shape: (5, 2)</small><table border=\"1\" class=\"dataframe\"><thead><tr><th>name</th><th>types</th></tr><tr><td>str</td><td>struct[2]</td></tr></thead><tbody><tr><td>&quot;Bulbasaur&quot;</td><td>{&quot;grass&quot;,&quot;poison&quot;}</td></tr><tr><td>&quot;Ivysaur&quot;</td><td>{&quot;grass&quot;,&quot;poison&quot;}</td></tr><tr><td>&quot;Venusaur&quot;</td><td>{&quot;grass&quot;,&quot;poison&quot;}</td></tr><tr><td>&quot;Charmander&quot;</td><td>{&quot;fire&quot;,null}</td></tr><tr><td>&quot;Charmeleon&quot;</td><td>{&quot;fire&quot;,null}</td></tr></tbody></table></div>"
      ],
      "text/plain": [
       "shape: (5, 2)\n",
       "┌────────────┬────────────────────┐\n",
       "│ name       ┆ types              │\n",
       "│ ---        ┆ ---                │\n",
       "│ str        ┆ struct[2]          │\n",
       "╞════════════╪════════════════════╡\n",
       "│ Bulbasaur  ┆ {\"grass\",\"poison\"} │\n",
       "│ Ivysaur    ┆ {\"grass\",\"poison\"} │\n",
       "│ Venusaur   ┆ {\"grass\",\"poison\"} │\n",
       "│ Charmander ┆ {\"fire\",null}      │\n",
       "│ Charmeleon ┆ {\"fire\",null}      │\n",
       "└────────────┴────────────────────┘"
      ]
     },
     "execution_count": 39,
     "metadata": {},
     "output_type": "execute_result"
    }
   ],
   "source": [
    "# Combine type 1 and type 2 in a new struct column\n",
    "\n",
    "pokemon.select(\n",
    "    'name',\n",
    "    types = pl.struct('type1', 'type2')\n",
    ").head(5)"
   ]
  },
  {
   "cell_type": "code",
   "execution_count": 40,
   "metadata": {},
   "outputs": [
    {
     "data": {
      "text/plain": [
       "{'name': Utf8, 'types': Struct([Field('type1', Utf8), Field('type2', Utf8)])}"
      ]
     },
     "execution_count": 40,
     "metadata": {},
     "output_type": "execute_result"
    }
   ],
   "source": [
    "# The struct column retains the type information of each initial column:\n",
    "# Struct are views on the initial columns so the data is not copied\n",
    "# The table schema shows that the names of the initial columns are retained \n",
    "\n",
    "pokemon.select(\n",
    "    'name',\n",
    "    types = pl.struct('type1', 'type2')\n",
    ").schema"
   ]
  },
  {
   "cell_type": "code",
   "execution_count": 49,
   "metadata": {},
   "outputs": [
    {
     "data": {
      "text/html": [
       "<div><style>\n",
       ".dataframe > thead > tr > th,\n",
       ".dataframe > tbody > tr > td {\n",
       "  text-align: right;\n",
       "}\n",
       "</style>\n",
       "<small>shape: (5, 1)</small><table border=\"1\" class=\"dataframe\"><thead><tr><th>types_count</th></tr><tr><td>struct[2]</td></tr></thead><tbody><tr><td>{{&quot;grass&quot;,&quot;poison&quot;},14}</td></tr><tr><td>{{&quot;fire&quot;,null},27}</td></tr><tr><td>{{&quot;fire&quot;,&quot;flying&quot;},6}</td></tr><tr><td>{{&quot;water&quot;,null},61}</td></tr><tr><td>{{&quot;bug&quot;,null},18}</td></tr></tbody></table></div>"
      ],
      "text/plain": [
       "shape: (5, 1)\n",
       "┌─────────────────────────┐\n",
       "│ types_count             │\n",
       "│ ---                     │\n",
       "│ struct[2]               │\n",
       "╞═════════════════════════╡\n",
       "│ {{\"grass\",\"poison\"},14} │\n",
       "│ {{\"fire\",null},27}      │\n",
       "│ {{\"fire\",\"flying\"},6}   │\n",
       "│ {{\"water\",null},61}     │\n",
       "│ {{\"bug\",null},18}       │\n",
       "└─────────────────────────┘"
      ]
     },
     "execution_count": 49,
     "metadata": {},
     "output_type": "execute_result"
    }
   ],
   "source": [
    "# structs are important because they allow us to do calculations on combined columns\n",
    "# We can calculate the how many times each combination of types occurs\n",
    "\n",
    "pokemon.select(\n",
    "    types_count = pl.struct('type1', 'type2').value_counts()\n",
    ").head(5)"
   ]
  },
  {
   "cell_type": "code",
   "execution_count": 41,
   "metadata": {},
   "outputs": [
    {
     "data": {
      "text/html": [
       "<div><style>\n",
       ".dataframe > thead > tr > th,\n",
       ".dataframe > tbody > tr > td {\n",
       "  text-align: right;\n",
       "}\n",
       "</style>\n",
       "<small>shape: (5, 2)</small><table border=\"1\" class=\"dataframe\"><thead><tr><th>name</th><th>types</th></tr><tr><td>str</td><td>list[str]</td></tr></thead><tbody><tr><td>&quot;Bulbasaur&quot;</td><td>[&quot;grass&quot;, &quot;poison&quot;]</td></tr><tr><td>&quot;Ivysaur&quot;</td><td>[&quot;grass&quot;, &quot;poison&quot;]</td></tr><tr><td>&quot;Venusaur&quot;</td><td>[&quot;grass&quot;, &quot;poison&quot;]</td></tr><tr><td>&quot;Charmander&quot;</td><td>[&quot;fire&quot;, null]</td></tr><tr><td>&quot;Charmeleon&quot;</td><td>[&quot;fire&quot;, null]</td></tr></tbody></table></div>"
      ],
      "text/plain": [
       "shape: (5, 2)\n",
       "┌────────────┬─────────────────────┐\n",
       "│ name       ┆ types               │\n",
       "│ ---        ┆ ---                 │\n",
       "│ str        ┆ list[str]           │\n",
       "╞════════════╪═════════════════════╡\n",
       "│ Bulbasaur  ┆ [\"grass\", \"poison\"] │\n",
       "│ Ivysaur    ┆ [\"grass\", \"poison\"] │\n",
       "│ Venusaur   ┆ [\"grass\", \"poison\"] │\n",
       "│ Charmander ┆ [\"fire\", null]      │\n",
       "│ Charmeleon ┆ [\"fire\", null]      │\n",
       "└────────────┴─────────────────────┘"
      ]
     },
     "execution_count": 41,
     "metadata": {},
     "output_type": "execute_result"
    }
   ],
   "source": [
    "# Combine type 1 and type 2 in a new list column\n",
    "\n",
    "pokemon.select(\n",
    "    'name',\n",
    "    types = pl.concat_list('type1', 'type2')\n",
    ").head(5)"
   ]
  },
  {
   "cell_type": "code",
   "execution_count": 42,
   "metadata": {},
   "outputs": [
    {
     "data": {
      "text/plain": [
       "{'name': Utf8, 'types': List(Utf8)}"
      ]
     },
     "execution_count": 42,
     "metadata": {},
     "output_type": "execute_result"
    }
   ],
   "source": [
    "# List columns do not retain the name of the initial columns\n",
    "# In List columns, each row can have a different number of elements differently from Struct columns\n",
    "# where each row has the same number of elements\n",
    "\n",
    "pokemon.select(\n",
    "    'name',\n",
    "    types = pl.concat_list('type1', 'type2')\n",
    ").schema"
   ]
  },
  {
   "cell_type": "code",
   "execution_count": 43,
   "metadata": {},
   "outputs": [
    {
     "data": {
      "text/html": [
       "<div><style>\n",
       ".dataframe > thead > tr > th,\n",
       ".dataframe > tbody > tr > td {\n",
       "  text-align: right;\n",
       "}\n",
       "</style>\n",
       "<small>shape: (5, 1)</small><table border=\"1\" class=\"dataframe\"><thead><tr><th>abilities</th></tr><tr><td>struct[6]</td></tr></thead><tbody><tr><td>{&quot;Overgrow&quot;,&quot;Chlorophyll&quot;,null,null,null,null}</td></tr><tr><td>{&quot;Overgrow&quot;,&quot;Chlorophyll&quot;,null,null,null,null}</td></tr><tr><td>{&quot;Overgrow&quot;,&quot;Chlorophyll&quot;,null,null,null,null}</td></tr><tr><td>{&quot;Blaze&quot;,&quot;Solar Power&quot;,null,null,null,null}</td></tr><tr><td>{&quot;Blaze&quot;,&quot;Solar Power&quot;,null,null,null,null}</td></tr></tbody></table></div>"
      ],
      "text/plain": [
       "shape: (5, 1)\n",
       "┌─────────────────────────────────┐\n",
       "│ abilities                       │\n",
       "│ ---                             │\n",
       "│ struct[6]                       │\n",
       "╞═════════════════════════════════╡\n",
       "│ {\"Overgrow\",\"Chlorophyll\",null… │\n",
       "│ {\"Overgrow\",\"Chlorophyll\",null… │\n",
       "│ {\"Overgrow\",\"Chlorophyll\",null… │\n",
       "│ {\"Blaze\",\"Solar Power\",null,nu… │\n",
       "│ {\"Blaze\",\"Solar Power\",null,nu… │\n",
       "└─────────────────────────────────┘"
      ]
     },
     "execution_count": 43,
     "metadata": {},
     "output_type": "execute_result"
    }
   ],
   "source": [
    "# List columns can be converted to a struct\n",
    "# If number of elements are not the same, then the missing values are filled with null\n",
    "\n",
    "pokemon.select(\n",
    "    pl.col('abilities').arr.to_struct(n_field_strategy = 'max_width')\n",
    ").head(5)"
   ]
  },
  {
   "cell_type": "code",
   "execution_count": 44,
   "metadata": {},
   "outputs": [
    {
     "data": {
      "text/plain": [
       "{'abilities': Struct([Field('field_0', Utf8), Field('field_1', Utf8), Field('field_2', Utf8), Field('field_3', Utf8), Field('field_4', Utf8), Field('field_5', Utf8)])}"
      ]
     },
     "execution_count": 44,
     "metadata": {},
     "output_type": "execute_result"
    }
   ],
   "source": [
    "# By default, the fields inside of the struct are called field_0, field_1, etc.\n",
    "\n",
    "pokemon.select(\n",
    "    pl.col('abilities').arr.to_struct(n_field_strategy = 'max_width')\n",
    ").schema"
   ]
  },
  {
   "cell_type": "code",
   "execution_count": 45,
   "metadata": {},
   "outputs": [
    {
     "data": {
      "text/plain": [
       "{'abilities': Struct([Field('ability_0', Utf8), Field('ability_1', Utf8), Field('ability_2', Utf8), Field('ability_3', Utf8), Field('ability_4', Utf8), Field('ability_5', Utf8)])}"
      ]
     },
     "execution_count": 45,
     "metadata": {},
     "output_type": "execute_result"
    }
   ],
   "source": [
    "# It's possible to change the name with the argument fields, for example calling them ability_0, ability_1, etc.\n",
    "\n",
    "pokemon.select(\n",
    "    pl.col('abilities')\n",
    "    .arr.to_struct(n_field_strategy = 'max_width', fields = lambda i: f'ability_{i}')\n",
    ").schema"
   ]
  },
  {
   "cell_type": "code",
   "execution_count": 46,
   "metadata": {},
   "outputs": [
    {
     "data": {
      "text/html": [
       "<div><style>\n",
       ".dataframe > thead > tr > th,\n",
       ".dataframe > tbody > tr > td {\n",
       "  text-align: right;\n",
       "}\n",
       "</style>\n",
       "<small>shape: (5, 6)</small><table border=\"1\" class=\"dataframe\"><thead><tr><th>field_0</th><th>field_1</th><th>field_2</th><th>field_3</th><th>field_4</th><th>field_5</th></tr><tr><td>str</td><td>str</td><td>str</td><td>str</td><td>str</td><td>str</td></tr></thead><tbody><tr><td>&quot;Overgrow&quot;</td><td>&quot;Chlorophyll&quot;</td><td>null</td><td>null</td><td>null</td><td>null</td></tr><tr><td>&quot;Overgrow&quot;</td><td>&quot;Chlorophyll&quot;</td><td>null</td><td>null</td><td>null</td><td>null</td></tr><tr><td>&quot;Overgrow&quot;</td><td>&quot;Chlorophyll&quot;</td><td>null</td><td>null</td><td>null</td><td>null</td></tr><tr><td>&quot;Blaze&quot;</td><td>&quot;Solar Power&quot;</td><td>null</td><td>null</td><td>null</td><td>null</td></tr><tr><td>&quot;Blaze&quot;</td><td>&quot;Solar Power&quot;</td><td>null</td><td>null</td><td>null</td><td>null</td></tr></tbody></table></div>"
      ],
      "text/plain": [
       "shape: (5, 6)\n",
       "┌──────────┬─────────────┬─────────┬─────────┬─────────┬─────────┐\n",
       "│ field_0  ┆ field_1     ┆ field_2 ┆ field_3 ┆ field_4 ┆ field_5 │\n",
       "│ ---      ┆ ---         ┆ ---     ┆ ---     ┆ ---     ┆ ---     │\n",
       "│ str      ┆ str         ┆ str     ┆ str     ┆ str     ┆ str     │\n",
       "╞══════════╪═════════════╪═════════╪═════════╪═════════╪═════════╡\n",
       "│ Overgrow ┆ Chlorophyll ┆ null    ┆ null    ┆ null    ┆ null    │\n",
       "│ Overgrow ┆ Chlorophyll ┆ null    ┆ null    ┆ null    ┆ null    │\n",
       "│ Overgrow ┆ Chlorophyll ┆ null    ┆ null    ┆ null    ┆ null    │\n",
       "│ Blaze    ┆ Solar Power ┆ null    ┆ null    ┆ null    ┆ null    │\n",
       "│ Blaze    ┆ Solar Power ┆ null    ┆ null    ┆ null    ┆ null    │\n",
       "└──────────┴─────────────┴─────────┴─────────┴─────────┴─────────┘"
      ]
     },
     "execution_count": 46,
     "metadata": {},
     "output_type": "execute_result"
    }
   ],
   "source": [
    "# We can un-nest struct columns and expand them into multiple columns\n",
    "\n",
    "pokemon.select(\n",
    "    pl.col('abilities')\n",
    "    .arr.to_struct(n_field_strategy = 'max_width')\n",
    ").unnest('abilities').head(5)"
   ]
  },
  {
   "attachments": {},
   "cell_type": "markdown",
   "metadata": {},
   "source": [
    "#### Pivot, Melt, Unstack and Transpose"
   ]
  },
  {
   "cell_type": "code",
   "execution_count": 58,
   "metadata": {},
   "outputs": [
    {
     "data": {
      "text/html": [
       "<div><style>\n",
       ".dataframe > thead > tr > th,\n",
       ".dataframe > tbody > tr > td {\n",
       "  text-align: right;\n",
       "}\n",
       "</style>\n",
       "<small>shape: (18, 20)</small><table border=\"1\" class=\"dataframe\"><thead><tr><th>type1</th><th>poison</th><th>null</th><th>flying</th><th>dark</th><th>electric</th><th>ice</th><th>ground</th><th>fairy</th><th>grass</th><th>fighting</th><th>psychic</th><th>steel</th><th>fire</th><th>rock</th><th>water</th><th>dragon</th><th>ghost</th><th>bug</th><th>normal</th></tr><tr><td>str</td><td>u32</td><td>u32</td><td>u32</td><td>u32</td><td>u32</td><td>u32</td><td>u32</td><td>u32</td><td>u32</td><td>u32</td><td>u32</td><td>u32</td><td>u32</td><td>u32</td><td>u32</td><td>u32</td><td>u32</td><td>u32</td><td>u32</td></tr></thead><tbody><tr><td>&quot;grass&quot;</td><td>14</td><td>37</td><td>6</td><td>3</td><td>null</td><td>2</td><td>1</td><td>5</td><td>1</td><td>3</td><td>2</td><td>3</td><td>null</td><td>null</td><td>null</td><td>null</td><td>1</td><td>null</td><td>null</td></tr><tr><td>&quot;fire&quot;</td><td>null</td><td>27</td><td>6</td><td>1</td><td>null</td><td>2</td><td>2</td><td>null</td><td>null</td><td>6</td><td>1</td><td>1</td><td>1</td><td>1</td><td>1</td><td>1</td><td>null</td><td>null</td><td>2</td></tr><tr><td>&quot;water&quot;</td><td>3</td><td>61</td><td>7</td><td>4</td><td>2</td><td>3</td><td>9</td><td>4</td><td>3</td><td>2</td><td>5</td><td>1</td><td>null</td><td>4</td><td>null</td><td>2</td><td>2</td><td>2</td><td>null</td></tr><tr><td>&quot;bug&quot;</td><td>11</td><td>18</td><td>13</td><td>null</td><td>4</td><td>null</td><td>1</td><td>2</td><td>6</td><td>3</td><td>null</td><td>5</td><td>2</td><td>3</td><td>3</td><td>null</td><td>1</td><td>null</td><td>null</td></tr><tr><td>&quot;normal&quot;</td><td>null</td><td>61</td><td>26</td><td>4</td><td>null</td><td>null</td><td>1</td><td>4</td><td>2</td><td>2</td><td>3</td><td>null</td><td>null</td><td>null</td><td>1</td><td>1</td><td>null</td><td>null</td><td>null</td></tr><tr><td>&quot;poison&quot;</td><td>2</td><td>13</td><td>3</td><td>3</td><td>null</td><td>null</td><td>2</td><td>null</td><td>null</td><td>2</td><td>null</td><td>null</td><td>2</td><td>null</td><td>3</td><td>1</td><td>null</td><td>1</td><td>null</td></tr><tr><td>&quot;electric&quot;</td><td>null</td><td>26</td><td>3</td><td>null</td><td>1</td><td>null</td><td>null</td><td>2</td><td>null</td><td>null</td><td>null</td><td>4</td><td>null</td><td>null</td><td>null</td><td>null</td><td>1</td><td>null</td><td>2</td></tr><tr><td>&quot;ground&quot;</td><td>null</td><td>10</td><td>3</td><td>3</td><td>1</td><td>2</td><td>2</td><td>null</td><td>null</td><td>null</td><td>2</td><td>1</td><td>1</td><td>3</td><td>null</td><td>2</td><td>2</td><td>null</td><td>null</td></tr><tr><td>&quot;fairy&quot;</td><td>null</td><td>16</td><td>2</td><td>null</td><td>null</td><td>null</td><td>null</td><td>null</td><td>null</td><td>null</td><td>null</td><td>null</td><td>null</td><td>null</td><td>null</td><td>null</td><td>null</td><td>null</td><td>null</td></tr><tr><td>&quot;fighting&quot;</td><td>null</td><td>22</td><td>1</td><td>1</td><td>null</td><td>1</td><td>null</td><td>null</td><td>null</td><td>null</td><td>2</td><td>1</td><td>null</td><td>null</td><td>null</td><td>null</td><td>null</td><td>null</td><td>null</td></tr><tr><td>&quot;psychic&quot;</td><td>null</td><td>35</td><td>6</td><td>null</td><td>null</td><td>null</td><td>null</td><td>6</td><td>1</td><td>1</td><td>null</td><td>1</td><td>1</td><td>null</td><td>null</td><td>null</td><td>2</td><td>null</td><td>null</td></tr><tr><td>&quot;rock&quot;</td><td>1</td><td>11</td><td>4</td><td>1</td><td>null</td><td>2</td><td>6</td><td>2</td><td>2</td><td>1</td><td>2</td><td>3</td><td>null</td><td>null</td><td>6</td><td>2</td><td>null</td><td>2</td><td>null</td></tr><tr><td>&quot;ghost&quot;</td><td>3</td><td>9</td><td>2</td><td>1</td><td>null</td><td>null</td><td>2</td><td>1</td><td>5</td><td>null</td><td>null</td><td>null</td><td>3</td><td>null</td><td>null</td><td>1</td><td>null</td><td>null</td><td>null</td></tr><tr><td>&quot;ice&quot;</td><td>null</td><td>12</td><td>2</td><td>null</td><td>null</td><td>null</td><td>3</td><td>null</td><td>null</td><td>null</td><td>2</td><td>null</td><td>null</td><td>null</td><td>3</td><td>null</td><td>1</td><td>null</td><td>null</td></tr><tr><td>&quot;dragon&quot;</td><td>null</td><td>12</td><td>4</td><td>null</td><td>1</td><td>1</td><td>4</td><td>null</td><td>null</td><td>2</td><td>2</td><td>null</td><td>1</td><td>null</td><td>null</td><td>null</td><td>null</td><td>null</td><td>null</td></tr><tr><td>&quot;dark&quot;</td><td>null</td><td>9</td><td>5</td><td>null</td><td>null</td><td>2</td><td>null</td><td>null</td><td>null</td><td>2</td><td>2</td><td>2</td><td>2</td><td>null</td><td>null</td><td>4</td><td>1</td><td>null</td><td>null</td></tr><tr><td>&quot;steel&quot;</td><td>null</td><td>4</td><td>2</td><td>null</td><td>null</td><td>null</td><td>1</td><td>3</td><td>null</td><td>1</td><td>6</td><td>null</td><td>null</td><td>3</td><td>null</td><td>1</td><td>3</td><td>null</td><td>null</td></tr><tr><td>&quot;flying&quot;</td><td>null</td><td>1</td><td>null</td><td>null</td><td>null</td><td>null</td><td>null</td><td>null</td><td>null</td><td>null</td><td>null</td><td>null</td><td>null</td><td>null</td><td>null</td><td>2</td><td>null</td><td>null</td><td>null</td></tr></tbody></table></div>"
      ],
      "text/plain": [
       "shape: (18, 20)\n",
       "┌────────┬────────┬──────┬────────┬───┬────────┬───────┬──────┬────────┐\n",
       "│ type1  ┆ poison ┆ null ┆ flying ┆ … ┆ dragon ┆ ghost ┆ bug  ┆ normal │\n",
       "│ ---    ┆ ---    ┆ ---  ┆ ---    ┆   ┆ ---    ┆ ---   ┆ ---  ┆ ---    │\n",
       "│ str    ┆ u32    ┆ u32  ┆ u32    ┆   ┆ u32    ┆ u32   ┆ u32  ┆ u32    │\n",
       "╞════════╪════════╪══════╪════════╪═══╪════════╪═══════╪══════╪════════╡\n",
       "│ grass  ┆ 14     ┆ 37   ┆ 6      ┆ … ┆ null   ┆ 1     ┆ null ┆ null   │\n",
       "│ fire   ┆ null   ┆ 27   ┆ 6      ┆ … ┆ 1      ┆ null  ┆ null ┆ 2      │\n",
       "│ water  ┆ 3      ┆ 61   ┆ 7      ┆ … ┆ 2      ┆ 2     ┆ 2    ┆ null   │\n",
       "│ bug    ┆ 11     ┆ 18   ┆ 13     ┆ … ┆ null   ┆ 1     ┆ null ┆ null   │\n",
       "│ …      ┆ …      ┆ …    ┆ …      ┆ … ┆ …      ┆ …     ┆ …    ┆ …      │\n",
       "│ dragon ┆ null   ┆ 12   ┆ 4      ┆ … ┆ null   ┆ null  ┆ null ┆ null   │\n",
       "│ dark   ┆ null   ┆ 9    ┆ 5      ┆ … ┆ 4      ┆ 1     ┆ null ┆ null   │\n",
       "│ steel  ┆ null   ┆ 4    ┆ 2      ┆ … ┆ 1      ┆ 3     ┆ null ┆ null   │\n",
       "│ flying ┆ null   ┆ 1    ┆ null   ┆ … ┆ 2      ┆ null  ┆ null ┆ null   │\n",
       "└────────┴────────┴──────┴────────┴───┴────────┴───────┴──────┴────────┘"
      ]
     },
     "execution_count": 58,
     "metadata": {},
     "output_type": "execute_result"
    }
   ],
   "source": [
    "# Pivot type 2 to the columns and count the number of pokemons for each type 1 and type 2 combination\n",
    "\n",
    "pokemon.pivot(\n",
    "    values = 'name',\n",
    "    index = 'type1',\n",
    "    columns = 'type2',\n",
    "    aggregate_function=pl.element().count()\n",
    ")\n"
   ]
  },
  {
   "cell_type": "code",
   "execution_count": 69,
   "metadata": {},
   "outputs": [
    {
     "data": {
      "text/html": [
       "<div><style>\n",
       ".dataframe > thead > tr > th,\n",
       ".dataframe > tbody > tr > td {\n",
       "  text-align: right;\n",
       "}\n",
       "</style>\n",
       "<small>shape: (18, 5)</small><table border=\"1\" class=\"dataframe\"><thead><tr><th>type1</th><th>poison</th><th>flying</th><th>dark</th><th>electric</th></tr><tr><td>str</td><td>u32</td><td>u32</td><td>u32</td><td>u32</td></tr></thead><tbody><tr><td>&quot;dragon&quot;</td><td>0</td><td>4</td><td>0</td><td>1</td></tr><tr><td>&quot;psychic&quot;</td><td>0</td><td>6</td><td>0</td><td>0</td></tr><tr><td>&quot;normal&quot;</td><td>0</td><td>26</td><td>4</td><td>0</td></tr><tr><td>&quot;ice&quot;</td><td>0</td><td>2</td><td>0</td><td>0</td></tr><tr><td>&quot;rock&quot;</td><td>1</td><td>4</td><td>1</td><td>0</td></tr><tr><td>&quot;ground&quot;</td><td>0</td><td>3</td><td>3</td><td>1</td></tr><tr><td>&quot;poison&quot;</td><td>2</td><td>3</td><td>3</td><td>0</td></tr><tr><td>&quot;grass&quot;</td><td>14</td><td>6</td><td>3</td><td>0</td></tr><tr><td>&quot;fighting&quot;</td><td>0</td><td>1</td><td>1</td><td>0</td></tr><tr><td>&quot;fire&quot;</td><td>0</td><td>6</td><td>1</td><td>0</td></tr><tr><td>&quot;ghost&quot;</td><td>3</td><td>2</td><td>1</td><td>0</td></tr><tr><td>&quot;water&quot;</td><td>3</td><td>7</td><td>4</td><td>2</td></tr><tr><td>&quot;electric&quot;</td><td>0</td><td>3</td><td>0</td><td>1</td></tr><tr><td>&quot;dark&quot;</td><td>0</td><td>5</td><td>0</td><td>0</td></tr><tr><td>&quot;flying&quot;</td><td>0</td><td>0</td><td>0</td><td>0</td></tr><tr><td>&quot;fairy&quot;</td><td>0</td><td>2</td><td>0</td><td>0</td></tr><tr><td>&quot;steel&quot;</td><td>0</td><td>2</td><td>0</td><td>0</td></tr><tr><td>&quot;bug&quot;</td><td>11</td><td>13</td><td>0</td><td>4</td></tr></tbody></table></div>"
      ],
      "text/plain": [
       "shape: (18, 5)\n",
       "┌─────────┬────────┬────────┬──────┬──────────┐\n",
       "│ type1   ┆ poison ┆ flying ┆ dark ┆ electric │\n",
       "│ ---     ┆ ---    ┆ ---    ┆ ---  ┆ ---      │\n",
       "│ str     ┆ u32    ┆ u32    ┆ u32  ┆ u32      │\n",
       "╞═════════╪════════╪════════╪══════╪══════════╡\n",
       "│ dragon  ┆ 0      ┆ 4      ┆ 0    ┆ 1        │\n",
       "│ psychic ┆ 0      ┆ 6      ┆ 0    ┆ 0        │\n",
       "│ normal  ┆ 0      ┆ 26     ┆ 4    ┆ 0        │\n",
       "│ ice     ┆ 0      ┆ 2      ┆ 0    ┆ 0        │\n",
       "│ …       ┆ …      ┆ …      ┆ …    ┆ …        │\n",
       "│ flying  ┆ 0      ┆ 0      ┆ 0    ┆ 0        │\n",
       "│ fairy   ┆ 0      ┆ 2      ┆ 0    ┆ 0        │\n",
       "│ steel   ┆ 0      ┆ 2      ┆ 0    ┆ 0        │\n",
       "│ bug     ┆ 11     ┆ 13     ┆ 0    ┆ 4        │\n",
       "└─────────┴────────┴────────┴──────┴──────────┘"
      ]
     },
     "execution_count": 69,
     "metadata": {},
     "output_type": "execute_result"
    }
   ],
   "source": [
    "# Pivot does not exist in lazy mode, however it's possible to reproduce it with group by\n",
    "# In this case, we need to specify the resulting columns in the code\n",
    "\n",
    "pokemon.lazy().groupby('type1').agg(\n",
    "    pl.col('name').filter(pl.col('type2') == pokemon_type).count().alias(pokemon_type)\n",
    "      for pokemon_type in ['poison', 'flying', 'dark', 'electric']\n",
    ").collect()"
   ]
  },
  {
   "cell_type": "code",
   "execution_count": 77,
   "metadata": {},
   "outputs": [
    {
     "data": {
      "text/html": [
       "<div><style>\n",
       ".dataframe > thead > tr > th,\n",
       ".dataframe > tbody > tr > td {\n",
       "  text-align: right;\n",
       "}\n",
       "</style>\n",
       "<small>shape: (6, 5)</small><table border=\"1\" class=\"dataframe\"><thead><tr><th>name</th><th>type1</th><th>type2</th><th>variable</th><th>value</th></tr><tr><td>str</td><td>str</td><td>str</td><td>str</td><td>i64</td></tr></thead><tbody><tr><td>&quot;Abomasnow&quot;</td><td>&quot;grass&quot;</td><td>&quot;ice&quot;</td><td>&quot;hp&quot;</td><td>90</td></tr><tr><td>&quot;Abomasnow&quot;</td><td>&quot;grass&quot;</td><td>&quot;ice&quot;</td><td>&quot;attack&quot;</td><td>132</td></tr><tr><td>&quot;Abomasnow&quot;</td><td>&quot;grass&quot;</td><td>&quot;ice&quot;</td><td>&quot;defense&quot;</td><td>105</td></tr><tr><td>&quot;Abra&quot;</td><td>&quot;psychic&quot;</td><td>null</td><td>&quot;hp&quot;</td><td>25</td></tr><tr><td>&quot;Abra&quot;</td><td>&quot;psychic&quot;</td><td>null</td><td>&quot;attack&quot;</td><td>20</td></tr><tr><td>&quot;Abra&quot;</td><td>&quot;psychic&quot;</td><td>null</td><td>&quot;defense&quot;</td><td>15</td></tr></tbody></table></div>"
      ],
      "text/plain": [
       "shape: (6, 5)\n",
       "┌───────────┬─────────┬───────┬──────────┬───────┐\n",
       "│ name      ┆ type1   ┆ type2 ┆ variable ┆ value │\n",
       "│ ---       ┆ ---     ┆ ---   ┆ ---      ┆ ---   │\n",
       "│ str       ┆ str     ┆ str   ┆ str      ┆ i64   │\n",
       "╞═══════════╪═════════╪═══════╪══════════╪═══════╡\n",
       "│ Abomasnow ┆ grass   ┆ ice   ┆ hp       ┆ 90    │\n",
       "│ Abomasnow ┆ grass   ┆ ice   ┆ attack   ┆ 132   │\n",
       "│ Abomasnow ┆ grass   ┆ ice   ┆ defense  ┆ 105   │\n",
       "│ Abra      ┆ psychic ┆ null  ┆ hp       ┆ 25    │\n",
       "│ Abra      ┆ psychic ┆ null  ┆ attack   ┆ 20    │\n",
       "│ Abra      ┆ psychic ┆ null  ┆ defense  ┆ 15    │\n",
       "└───────────┴─────────┴───────┴──────────┴───────┘"
      ]
     },
     "execution_count": 77,
     "metadata": {},
     "output_type": "execute_result"
    }
   ],
   "source": [
    "# Melt is the opposite of pivot, it brings the header of multiple columns into one column\n",
    "# and their value in another column\n",
    "\n",
    "pokemon.melt(\n",
    "    id_vars = ['name', 'type1', 'type2'],\n",
    "    value_vars = ['hp','attack', 'defense']\n",
    ").sort(by='name').head(6)"
   ]
  },
  {
   "cell_type": "code",
   "execution_count": 91,
   "metadata": {},
   "outputs": [
    {
     "data": {
      "text/html": [
       "<div><style>\n",
       ".dataframe > thead > tr > th,\n",
       ".dataframe > tbody > tr > td {\n",
       "  text-align: right;\n",
       "}\n",
       "</style>\n",
       "<small>shape: (3, 10)</small><table border=\"1\" class=\"dataframe\"><thead><tr><th>name_0</th><th>name_1</th><th>name_2</th><th>attack_0</th><th>attack_1</th><th>attack_2</th><th>defense_0</th><th>defense_1</th><th>defense_2</th><th>level</th></tr><tr><td>str</td><td>str</td><td>str</td><td>i64</td><td>i64</td><td>i64</td><td>i64</td><td>i64</td><td>i64</td><td>i64</td></tr></thead><tbody><tr><td>&quot;Bulbasaur&quot;</td><td>&quot;Charmander&quot;</td><td>&quot;Squirtle&quot;</td><td>49</td><td>52</td><td>48</td><td>49</td><td>43</td><td>65</td><td>1</td></tr><tr><td>&quot;Ivysaur&quot;</td><td>&quot;Charmeleon&quot;</td><td>&quot;Wartortle&quot;</td><td>62</td><td>64</td><td>63</td><td>63</td><td>58</td><td>80</td><td>2</td></tr><tr><td>&quot;Venusaur&quot;</td><td>&quot;Charizard&quot;</td><td>&quot;Blastoise&quot;</td><td>100</td><td>104</td><td>103</td><td>123</td><td>78</td><td>120</td><td>3</td></tr></tbody></table></div>"
      ],
      "text/plain": [
       "shape: (3, 10)\n",
       "┌───────────┬────────────┬───────────┬──────────┬───┬───────────┬───────────┬───────────┬───────┐\n",
       "│ name_0    ┆ name_1     ┆ name_2    ┆ attack_0 ┆ … ┆ defense_0 ┆ defense_1 ┆ defense_2 ┆ level │\n",
       "│ ---       ┆ ---        ┆ ---       ┆ ---      ┆   ┆ ---       ┆ ---       ┆ ---       ┆ ---   │\n",
       "│ str       ┆ str        ┆ str       ┆ i64      ┆   ┆ i64       ┆ i64       ┆ i64       ┆ i64   │\n",
       "╞═══════════╪════════════╪═══════════╪══════════╪═══╪═══════════╪═══════════╪═══════════╪═══════╡\n",
       "│ Bulbasaur ┆ Charmander ┆ Squirtle  ┆ 49       ┆ … ┆ 49        ┆ 43        ┆ 65        ┆ 1     │\n",
       "│ Ivysaur   ┆ Charmeleon ┆ Wartortle ┆ 62       ┆ … ┆ 63        ┆ 58        ┆ 80        ┆ 2     │\n",
       "│ Venusaur  ┆ Charizard  ┆ Blastoise ┆ 100      ┆ … ┆ 123       ┆ 78        ┆ 120       ┆ 3     │\n",
       "└───────────┴────────────┴───────────┴──────────┴───┴───────────┴───────────┴───────────┴───────┘"
      ]
     },
     "execution_count": 91,
     "metadata": {},
     "output_type": "execute_result"
    }
   ],
   "source": [
    "# Unstack breaks the dataframe into multiple groups of the same size \n",
    "# and moves these groups to new columns\n",
    "# Here we split the dataframe into groups of 3, and add a column with the level of the pokemon\n",
    "\n",
    "(\n",
    "    pokemon\n",
    "    .head(9)\n",
    "    .unstack(columns = ['name', 'attack', 'defense'], step=3, how=\"vertical\")\n",
    "    .with_columns(\n",
    "        level = pl.Series(range(1,4))\n",
    "        )\n",
    ")"
   ]
  },
  {
   "cell_type": "code",
   "execution_count": null,
   "metadata": {},
   "outputs": [],
   "source": []
  }
 ],
 "metadata": {
  "kernelspec": {
   "display_name": "Python 3",
   "language": "python",
   "name": "python3"
  },
  "language_info": {
   "codemirror_mode": {
    "name": "ipython",
    "version": 3
   },
   "file_extension": ".py",
   "mimetype": "text/x-python",
   "name": "python",
   "nbconvert_exporter": "python",
   "pygments_lexer": "ipython3",
   "version": "3.10.6"
  },
  "orig_nbformat": 4
 },
 "nbformat": 4,
 "nbformat_minor": 2
}
