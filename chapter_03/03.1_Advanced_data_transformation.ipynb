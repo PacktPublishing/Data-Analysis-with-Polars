{
 "cells": [
  {
   "attachments": {},
   "cell_type": "markdown",
   "metadata": {},
   "source": [
    "### Advanced Data Transformation with Polars"
   ]
  },
  {
   "attachments": {},
   "cell_type": "markdown",
   "metadata": {},
   "source": [
    "The examples below use `.head()` to reduce the output to a few rows and take up less space.\n",
    "If you want the full output, remove `.head()` from the code\n",
    "\n",
    "This notebooked is divided into sections. If your code editor supports it, you can use the **Outline** functionality to easily go to the code section you are interested in.\n",
    "\n",
    "For more details on Polars functions, check out the Polars API reference: https://pola-rs.github.io/polars/py-polars/html/reference/index.html"
   ]
  },
  {
   "cell_type": "code",
   "execution_count": 2,
   "metadata": {},
   "outputs": [],
   "source": [
    "import polars as pl"
   ]
  },
  {
   "cell_type": "code",
   "execution_count": 15,
   "metadata": {},
   "outputs": [],
   "source": [
    "pokemon = pl.read_csv(\n",
    "    '../datasets/pokemon.csv', \n",
    "    columns = [\n",
    "        'name', \n",
    "        'type1', \n",
    "        'type2', \n",
    "        'abilities', \n",
    "        'hp', \n",
    "        'attack', \n",
    "        'defense', \n",
    "        'speed', \n",
    "        'generation', \n",
    "        'is_legendary'\n",
    "        ])"
   ]
  },
  {
   "cell_type": "code",
   "execution_count": 17,
   "metadata": {},
   "outputs": [
    {
     "data": {
      "text/html": [
       "<div><style>\n",
       ".dataframe > thead > tr > th,\n",
       ".dataframe > tbody > tr > td {\n",
       "  text-align: right;\n",
       "}\n",
       "</style>\n",
       "<small>shape: (2, 10)</small><table border=\"1\" class=\"dataframe\"><thead><tr><th>abilities</th><th>attack</th><th>defense</th><th>hp</th><th>name</th><th>speed</th><th>type1</th><th>type2</th><th>generation</th><th>is_legendary</th></tr><tr><td>str</td><td>i64</td><td>i64</td><td>i64</td><td>str</td><td>i64</td><td>str</td><td>str</td><td>i64</td><td>i64</td></tr></thead><tbody><tr><td>&quot;[&#x27;Overgrow&#x27;, &#x27;…</td><td>49</td><td>49</td><td>45</td><td>&quot;Bulbasaur&quot;</td><td>45</td><td>&quot;grass&quot;</td><td>&quot;poison&quot;</td><td>1</td><td>0</td></tr><tr><td>&quot;[&#x27;Overgrow&#x27;, &#x27;…</td><td>62</td><td>63</td><td>60</td><td>&quot;Ivysaur&quot;</td><td>60</td><td>&quot;grass&quot;</td><td>&quot;poison&quot;</td><td>1</td><td>0</td></tr></tbody></table></div>"
      ],
      "text/plain": [
       "shape: (2, 10)\n",
       "┌────────────────┬────────┬─────────┬─────┬───┬───────┬────────┬────────────┬──────────────┐\n",
       "│ abilities      ┆ attack ┆ defense ┆ hp  ┆ … ┆ type1 ┆ type2  ┆ generation ┆ is_legendary │\n",
       "│ ---            ┆ ---    ┆ ---     ┆ --- ┆   ┆ ---   ┆ ---    ┆ ---        ┆ ---          │\n",
       "│ str            ┆ i64    ┆ i64     ┆ i64 ┆   ┆ str   ┆ str    ┆ i64        ┆ i64          │\n",
       "╞════════════════╪════════╪═════════╪═════╪═══╪═══════╪════════╪════════════╪══════════════╡\n",
       "│ ['Overgrow',   ┆ 49     ┆ 49      ┆ 45  ┆ … ┆ grass ┆ poison ┆ 1          ┆ 0            │\n",
       "│ 'Chlorophyll'] ┆        ┆         ┆     ┆   ┆       ┆        ┆            ┆              │\n",
       "│ ['Overgrow',   ┆ 62     ┆ 63      ┆ 60  ┆ … ┆ grass ┆ poison ┆ 1          ┆ 0            │\n",
       "│ 'Chlorophyll'] ┆        ┆         ┆     ┆   ┆       ┆        ┆            ┆              │\n",
       "└────────────────┴────────┴─────────┴─────┴───┴───────┴────────┴────────────┴──────────────┘"
      ]
     },
     "execution_count": 17,
     "metadata": {},
     "output_type": "execute_result"
    }
   ],
   "source": [
    "pokemon.head(2)"
   ]
  },
  {
   "cell_type": "code",
   "execution_count": null,
   "metadata": {},
   "outputs": [],
   "source": []
  }
 ],
 "metadata": {
  "kernelspec": {
   "display_name": "Python 3",
   "language": "python",
   "name": "python3"
  },
  "language_info": {
   "codemirror_mode": {
    "name": "ipython",
    "version": 3
   },
   "file_extension": ".py",
   "mimetype": "text/x-python",
   "name": "python",
   "nbconvert_exporter": "python",
   "pygments_lexer": "ipython3",
   "version": "3.10.6"
  },
  "orig_nbformat": 4
 },
 "nbformat": 4,
 "nbformat_minor": 2
}
