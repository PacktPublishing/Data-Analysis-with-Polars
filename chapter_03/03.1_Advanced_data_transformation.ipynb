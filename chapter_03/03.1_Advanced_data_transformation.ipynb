{
 "cells": [
  {
   "attachments": {},
   "cell_type": "markdown",
   "metadata": {},
   "source": [
    "### Advanced Data Transformation with Polars"
   ]
  },
  {
   "attachments": {},
   "cell_type": "markdown",
   "metadata": {},
   "source": [
    "The examples below use `.head()` to reduce the output to a few rows and take up less space.\n",
    "If you want the full output, remove `.head()` from the code.\n",
    "\n",
    "This notebooked is divided into sections. If your code editor supports it, you can use the **Outline** functionality to easily go to the code section you are interested in.\n",
    "\n",
    "For more details on Polars functions, check out the Polars API reference: https://pola-rs.github.io/polars/py-polars/html/reference/index.html"
   ]
  },
  {
   "cell_type": "code",
   "execution_count": 196,
   "metadata": {},
   "outputs": [
    {
     "data": {
      "text/plain": [
       "polars.config.Config"
      ]
     },
     "execution_count": 196,
     "metadata": {},
     "output_type": "execute_result"
    }
   ],
   "source": [
    "import polars as pl\n",
    "\n",
    "# Configure the number of characters to show for each string column\n",
    "pl.Config.set_fmt_str_lengths(30)"
   ]
  },
  {
   "cell_type": "code",
   "execution_count": 197,
   "metadata": {},
   "outputs": [],
   "source": [
    "pokemon = pl.read_parquet('../datasets/pokemon_simplified.parquet')"
   ]
  },
  {
   "cell_type": "code",
   "execution_count": 198,
   "metadata": {},
   "outputs": [
    {
     "data": {
      "text/html": [
       "<div><style>\n",
       ".dataframe > thead > tr > th,\n",
       ".dataframe > tbody > tr > td {\n",
       "  text-align: right;\n",
       "}\n",
       "</style>\n",
       "<small>shape: (3, 9)</small><table border=\"1\" class=\"dataframe\"><thead><tr><th>name</th><th>type1</th><th>type2</th><th>abilities</th><th>hp</th><th>attack</th><th>defense</th><th>speed</th><th>is_legendary</th></tr><tr><td>str</td><td>str</td><td>str</td><td>list[str]</td><td>i64</td><td>i64</td><td>i64</td><td>i64</td><td>i64</td></tr></thead><tbody><tr><td>&quot;Bulbasaur&quot;</td><td>&quot;grass&quot;</td><td>&quot;poison&quot;</td><td>[&quot;Overgrow&quot;, &quot;Chlorophyll&quot;]</td><td>45</td><td>49</td><td>49</td><td>45</td><td>0</td></tr><tr><td>&quot;Ivysaur&quot;</td><td>&quot;grass&quot;</td><td>&quot;poison&quot;</td><td>[&quot;Overgrow&quot;, &quot;Chlorophyll&quot;]</td><td>60</td><td>62</td><td>63</td><td>60</td><td>0</td></tr><tr><td>&quot;Venusaur&quot;</td><td>&quot;grass&quot;</td><td>&quot;poison&quot;</td><td>[&quot;Overgrow&quot;, &quot;Chlorophyll&quot;]</td><td>80</td><td>100</td><td>123</td><td>80</td><td>0</td></tr></tbody></table></div>"
      ],
      "text/plain": [
       "shape: (3, 9)\n",
       "┌───────────┬───────┬────────┬────────────────┬───┬────────┬─────────┬───────┬──────────────┐\n",
       "│ name      ┆ type1 ┆ type2  ┆ abilities      ┆ … ┆ attack ┆ defense ┆ speed ┆ is_legendary │\n",
       "│ ---       ┆ ---   ┆ ---    ┆ ---            ┆   ┆ ---    ┆ ---     ┆ ---   ┆ ---          │\n",
       "│ str       ┆ str   ┆ str    ┆ list[str]      ┆   ┆ i64    ┆ i64     ┆ i64   ┆ i64          │\n",
       "╞═══════════╪═══════╪════════╪════════════════╪═══╪════════╪═════════╪═══════╪══════════════╡\n",
       "│ Bulbasaur ┆ grass ┆ poison ┆ [\"Overgrow\",   ┆ … ┆ 49     ┆ 49      ┆ 45    ┆ 0            │\n",
       "│           ┆       ┆        ┆ \"Chlorophyll\"] ┆   ┆        ┆         ┆       ┆              │\n",
       "│ Ivysaur   ┆ grass ┆ poison ┆ [\"Overgrow\",   ┆ … ┆ 62     ┆ 63      ┆ 60    ┆ 0            │\n",
       "│           ┆       ┆        ┆ \"Chlorophyll\"] ┆   ┆        ┆         ┆       ┆              │\n",
       "│ Venusaur  ┆ grass ┆ poison ┆ [\"Overgrow\",   ┆ … ┆ 100    ┆ 123     ┆ 80    ┆ 0            │\n",
       "│           ┆       ┆        ┆ \"Chlorophyll\"] ┆   ┆        ┆         ┆       ┆              │\n",
       "└───────────┴───────┴────────┴────────────────┴───┴────────┴─────────┴───────┴──────────────┘"
      ]
     },
     "execution_count": 198,
     "metadata": {},
     "output_type": "execute_result"
    }
   ],
   "source": [
    "pokemon.head(3)"
   ]
  },
  {
   "attachments": {},
   "cell_type": "markdown",
   "metadata": {},
   "source": [
    "#### Conditions"
   ]
  },
  {
   "cell_type": "code",
   "execution_count": 199,
   "metadata": {},
   "outputs": [
    {
     "data": {
      "text/html": [
       "<div><style>\n",
       ".dataframe > thead > tr > th,\n",
       ".dataframe > tbody > tr > td {\n",
       "  text-align: right;\n",
       "}\n",
       "</style>\n",
       "<small>shape: (8, 10)</small><table border=\"1\" class=\"dataframe\"><thead><tr><th>name</th><th>type1</th><th>type2</th><th>abilities</th><th>hp</th><th>attack</th><th>defense</th><th>speed</th><th>is_legendary</th><th>attack_category</th></tr><tr><td>str</td><td>str</td><td>str</td><td>list[str]</td><td>i64</td><td>i64</td><td>i64</td><td>i64</td><td>i64</td><td>str</td></tr></thead><tbody><tr><td>&quot;Bulbasaur&quot;</td><td>&quot;grass&quot;</td><td>&quot;poison&quot;</td><td>[&quot;Overgrow&quot;, &quot;Chlorophyll&quot;]</td><td>45</td><td>49</td><td>49</td><td>45</td><td>0</td><td>null</td></tr><tr><td>&quot;Ivysaur&quot;</td><td>&quot;grass&quot;</td><td>&quot;poison&quot;</td><td>[&quot;Overgrow&quot;, &quot;Chlorophyll&quot;]</td><td>60</td><td>62</td><td>63</td><td>60</td><td>0</td><td>null</td></tr><tr><td>&quot;Venusaur&quot;</td><td>&quot;grass&quot;</td><td>&quot;poison&quot;</td><td>[&quot;Overgrow&quot;, &quot;Chlorophyll&quot;]</td><td>80</td><td>100</td><td>123</td><td>80</td><td>0</td><td>null</td></tr><tr><td>&quot;Charmander&quot;</td><td>&quot;fire&quot;</td><td>null</td><td>[&quot;Blaze&quot;, &quot;Solar Power&quot;]</td><td>39</td><td>52</td><td>43</td><td>65</td><td>0</td><td>null</td></tr><tr><td>&quot;Charmeleon&quot;</td><td>&quot;fire&quot;</td><td>null</td><td>[&quot;Blaze&quot;, &quot;Solar Power&quot;]</td><td>58</td><td>64</td><td>58</td><td>80</td><td>0</td><td>null</td></tr><tr><td>&quot;Charizard&quot;</td><td>&quot;fire&quot;</td><td>&quot;flying&quot;</td><td>[&quot;Blaze&quot;, &quot;Solar Power&quot;]</td><td>78</td><td>104</td><td>78</td><td>100</td><td>0</td><td>&quot;Top 25%&quot;</td></tr><tr><td>&quot;Squirtle&quot;</td><td>&quot;water&quot;</td><td>null</td><td>[&quot;Torrent&quot;, &quot;Rain Dish&quot;]</td><td>44</td><td>48</td><td>65</td><td>43</td><td>0</td><td>null</td></tr><tr><td>&quot;Wartortle&quot;</td><td>&quot;water&quot;</td><td>null</td><td>[&quot;Torrent&quot;, &quot;Rain Dish&quot;]</td><td>59</td><td>63</td><td>80</td><td>58</td><td>0</td><td>null</td></tr></tbody></table></div>"
      ],
      "text/plain": [
       "shape: (8, 10)\n",
       "┌────────────┬───────┬────────┬───────────────┬───┬─────────┬───────┬──────────────┬───────────────┐\n",
       "│ name       ┆ type1 ┆ type2  ┆ abilities     ┆ … ┆ defense ┆ speed ┆ is_legendary ┆ attack_catego │\n",
       "│ ---        ┆ ---   ┆ ---    ┆ ---           ┆   ┆ ---     ┆ ---   ┆ ---          ┆ ry            │\n",
       "│ str        ┆ str   ┆ str    ┆ list[str]     ┆   ┆ i64     ┆ i64   ┆ i64          ┆ ---           │\n",
       "│            ┆       ┆        ┆               ┆   ┆         ┆       ┆              ┆ str           │\n",
       "╞════════════╪═══════╪════════╪═══════════════╪═══╪═════════╪═══════╪══════════════╪═══════════════╡\n",
       "│ Bulbasaur  ┆ grass ┆ poison ┆ [\"Overgrow\",  ┆ … ┆ 49      ┆ 45    ┆ 0            ┆ null          │\n",
       "│            ┆       ┆        ┆ \"Chlorophyll\" ┆   ┆         ┆       ┆              ┆               │\n",
       "│            ┆       ┆        ┆ ]             ┆   ┆         ┆       ┆              ┆               │\n",
       "│ Ivysaur    ┆ grass ┆ poison ┆ [\"Overgrow\",  ┆ … ┆ 63      ┆ 60    ┆ 0            ┆ null          │\n",
       "│            ┆       ┆        ┆ \"Chlorophyll\" ┆   ┆         ┆       ┆              ┆               │\n",
       "│            ┆       ┆        ┆ ]             ┆   ┆         ┆       ┆              ┆               │\n",
       "│ Venusaur   ┆ grass ┆ poison ┆ [\"Overgrow\",  ┆ … ┆ 123     ┆ 80    ┆ 0            ┆ null          │\n",
       "│            ┆       ┆        ┆ \"Chlorophyll\" ┆   ┆         ┆       ┆              ┆               │\n",
       "│            ┆       ┆        ┆ ]             ┆   ┆         ┆       ┆              ┆               │\n",
       "│ Charmander ┆ fire  ┆ null   ┆ [\"Blaze\",     ┆ … ┆ 43      ┆ 65    ┆ 0            ┆ null          │\n",
       "│            ┆       ┆        ┆ \"Solar        ┆   ┆         ┆       ┆              ┆               │\n",
       "│            ┆       ┆        ┆ Power\"]       ┆   ┆         ┆       ┆              ┆               │\n",
       "│ Charmeleon ┆ fire  ┆ null   ┆ [\"Blaze\",     ┆ … ┆ 58      ┆ 80    ┆ 0            ┆ null          │\n",
       "│            ┆       ┆        ┆ \"Solar        ┆   ┆         ┆       ┆              ┆               │\n",
       "│            ┆       ┆        ┆ Power\"]       ┆   ┆         ┆       ┆              ┆               │\n",
       "│ Charizard  ┆ fire  ┆ flying ┆ [\"Blaze\",     ┆ … ┆ 78      ┆ 100   ┆ 0            ┆ Top 25%       │\n",
       "│            ┆       ┆        ┆ \"Solar        ┆   ┆         ┆       ┆              ┆               │\n",
       "│            ┆       ┆        ┆ Power\"]       ┆   ┆         ┆       ┆              ┆               │\n",
       "│ Squirtle   ┆ water ┆ null   ┆ [\"Torrent\",   ┆ … ┆ 65      ┆ 43    ┆ 0            ┆ null          │\n",
       "│            ┆       ┆        ┆ \"Rain Dish\"]  ┆   ┆         ┆       ┆              ┆               │\n",
       "│ Wartortle  ┆ water ┆ null   ┆ [\"Torrent\",   ┆ … ┆ 80      ┆ 58    ┆ 0            ┆ null          │\n",
       "│            ┆       ┆        ┆ \"Rain Dish\"]  ┆   ┆         ┆       ┆              ┆               │\n",
       "└────────────┴───────┴────────┴───────────────┴───┴─────────┴───────┴──────────────┴───────────────┘"
      ]
     },
     "execution_count": 199,
     "metadata": {},
     "output_type": "execute_result"
    }
   ],
   "source": [
    "# Identify the top 25% of Pokemon based on the attack stats\n",
    "# Use the quantile function to get the 75th percentile\n",
    "\n",
    "pokemon.with_columns(\n",
    "    attack_category = pl.when(pl.col('attack') > pl.col('attack').quantile(0.75)).then('Top 25%')\n",
    ").head(8)"
   ]
  },
  {
   "cell_type": "code",
   "execution_count": 200,
   "metadata": {},
   "outputs": [
    {
     "data": {
      "text/html": [
       "<div><style>\n",
       ".dataframe > thead > tr > th,\n",
       ".dataframe > tbody > tr > td {\n",
       "  text-align: right;\n",
       "}\n",
       "</style>\n",
       "<small>shape: (8, 10)</small><table border=\"1\" class=\"dataframe\"><thead><tr><th>name</th><th>type1</th><th>type2</th><th>abilities</th><th>hp</th><th>attack</th><th>defense</th><th>speed</th><th>is_legendary</th><th>attack_category</th></tr><tr><td>str</td><td>str</td><td>str</td><td>list[str]</td><td>i64</td><td>i64</td><td>i64</td><td>i64</td><td>i64</td><td>str</td></tr></thead><tbody><tr><td>&quot;Bulbasaur&quot;</td><td>&quot;grass&quot;</td><td>&quot;poison&quot;</td><td>[&quot;Overgrow&quot;, &quot;Chlorophyll&quot;]</td><td>45</td><td>49</td><td>49</td><td>45</td><td>0</td><td>&quot;Other&quot;</td></tr><tr><td>&quot;Ivysaur&quot;</td><td>&quot;grass&quot;</td><td>&quot;poison&quot;</td><td>[&quot;Overgrow&quot;, &quot;Chlorophyll&quot;]</td><td>60</td><td>62</td><td>63</td><td>60</td><td>0</td><td>&quot;Other&quot;</td></tr><tr><td>&quot;Venusaur&quot;</td><td>&quot;grass&quot;</td><td>&quot;poison&quot;</td><td>[&quot;Overgrow&quot;, &quot;Chlorophyll&quot;]</td><td>80</td><td>100</td><td>123</td><td>80</td><td>0</td><td>&quot;Other&quot;</td></tr><tr><td>&quot;Charmander&quot;</td><td>&quot;fire&quot;</td><td>null</td><td>[&quot;Blaze&quot;, &quot;Solar Power&quot;]</td><td>39</td><td>52</td><td>43</td><td>65</td><td>0</td><td>&quot;Other&quot;</td></tr><tr><td>&quot;Charmeleon&quot;</td><td>&quot;fire&quot;</td><td>null</td><td>[&quot;Blaze&quot;, &quot;Solar Power&quot;]</td><td>58</td><td>64</td><td>58</td><td>80</td><td>0</td><td>&quot;Other&quot;</td></tr><tr><td>&quot;Charizard&quot;</td><td>&quot;fire&quot;</td><td>&quot;flying&quot;</td><td>[&quot;Blaze&quot;, &quot;Solar Power&quot;]</td><td>78</td><td>104</td><td>78</td><td>100</td><td>0</td><td>&quot;Top 25%&quot;</td></tr><tr><td>&quot;Squirtle&quot;</td><td>&quot;water&quot;</td><td>null</td><td>[&quot;Torrent&quot;, &quot;Rain Dish&quot;]</td><td>44</td><td>48</td><td>65</td><td>43</td><td>0</td><td>&quot;Other&quot;</td></tr><tr><td>&quot;Wartortle&quot;</td><td>&quot;water&quot;</td><td>null</td><td>[&quot;Torrent&quot;, &quot;Rain Dish&quot;]</td><td>59</td><td>63</td><td>80</td><td>58</td><td>0</td><td>&quot;Other&quot;</td></tr></tbody></table></div>"
      ],
      "text/plain": [
       "shape: (8, 10)\n",
       "┌────────────┬───────┬────────┬───────────────┬───┬─────────┬───────┬──────────────┬───────────────┐\n",
       "│ name       ┆ type1 ┆ type2  ┆ abilities     ┆ … ┆ defense ┆ speed ┆ is_legendary ┆ attack_catego │\n",
       "│ ---        ┆ ---   ┆ ---    ┆ ---           ┆   ┆ ---     ┆ ---   ┆ ---          ┆ ry            │\n",
       "│ str        ┆ str   ┆ str    ┆ list[str]     ┆   ┆ i64     ┆ i64   ┆ i64          ┆ ---           │\n",
       "│            ┆       ┆        ┆               ┆   ┆         ┆       ┆              ┆ str           │\n",
       "╞════════════╪═══════╪════════╪═══════════════╪═══╪═════════╪═══════╪══════════════╪═══════════════╡\n",
       "│ Bulbasaur  ┆ grass ┆ poison ┆ [\"Overgrow\",  ┆ … ┆ 49      ┆ 45    ┆ 0            ┆ Other         │\n",
       "│            ┆       ┆        ┆ \"Chlorophyll\" ┆   ┆         ┆       ┆              ┆               │\n",
       "│            ┆       ┆        ┆ ]             ┆   ┆         ┆       ┆              ┆               │\n",
       "│ Ivysaur    ┆ grass ┆ poison ┆ [\"Overgrow\",  ┆ … ┆ 63      ┆ 60    ┆ 0            ┆ Other         │\n",
       "│            ┆       ┆        ┆ \"Chlorophyll\" ┆   ┆         ┆       ┆              ┆               │\n",
       "│            ┆       ┆        ┆ ]             ┆   ┆         ┆       ┆              ┆               │\n",
       "│ Venusaur   ┆ grass ┆ poison ┆ [\"Overgrow\",  ┆ … ┆ 123     ┆ 80    ┆ 0            ┆ Other         │\n",
       "│            ┆       ┆        ┆ \"Chlorophyll\" ┆   ┆         ┆       ┆              ┆               │\n",
       "│            ┆       ┆        ┆ ]             ┆   ┆         ┆       ┆              ┆               │\n",
       "│ Charmander ┆ fire  ┆ null   ┆ [\"Blaze\",     ┆ … ┆ 43      ┆ 65    ┆ 0            ┆ Other         │\n",
       "│            ┆       ┆        ┆ \"Solar        ┆   ┆         ┆       ┆              ┆               │\n",
       "│            ┆       ┆        ┆ Power\"]       ┆   ┆         ┆       ┆              ┆               │\n",
       "│ Charmeleon ┆ fire  ┆ null   ┆ [\"Blaze\",     ┆ … ┆ 58      ┆ 80    ┆ 0            ┆ Other         │\n",
       "│            ┆       ┆        ┆ \"Solar        ┆   ┆         ┆       ┆              ┆               │\n",
       "│            ┆       ┆        ┆ Power\"]       ┆   ┆         ┆       ┆              ┆               │\n",
       "│ Charizard  ┆ fire  ┆ flying ┆ [\"Blaze\",     ┆ … ┆ 78      ┆ 100   ┆ 0            ┆ Top 25%       │\n",
       "│            ┆       ┆        ┆ \"Solar        ┆   ┆         ┆       ┆              ┆               │\n",
       "│            ┆       ┆        ┆ Power\"]       ┆   ┆         ┆       ┆              ┆               │\n",
       "│ Squirtle   ┆ water ┆ null   ┆ [\"Torrent\",   ┆ … ┆ 65      ┆ 43    ┆ 0            ┆ Other         │\n",
       "│            ┆       ┆        ┆ \"Rain Dish\"]  ┆   ┆         ┆       ┆              ┆               │\n",
       "│ Wartortle  ┆ water ┆ null   ┆ [\"Torrent\",   ┆ … ┆ 80      ┆ 58    ┆ 0            ┆ Other         │\n",
       "│            ┆       ┆        ┆ \"Rain Dish\"]  ┆   ┆         ┆       ┆              ┆               │\n",
       "└────────────┴───────┴────────┴───────────────┴───┴─────────┴───────┴──────────────┴───────────────┘"
      ]
     },
     "execution_count": 200,
     "metadata": {},
     "output_type": "execute_result"
    }
   ],
   "source": [
    "# Identify the top 25% of Pokemon based on the attack stats\n",
    "# Use otherwise to assign the remaining 75% of Pokemon to the 'Other' category\n",
    "\n",
    "pokemon.with_columns(\n",
    "    attack_category = pl.when(pl.col('attack') > pl.col('attack').quantile(0.75)).then('Top 25%').otherwise('Other')\n",
    ").head(8)"
   ]
  },
  {
   "cell_type": "code",
   "execution_count": 201,
   "metadata": {},
   "outputs": [
    {
     "data": {
      "text/html": [
       "<div><style>\n",
       ".dataframe > thead > tr > th,\n",
       ".dataframe > tbody > tr > td {\n",
       "  text-align: right;\n",
       "}\n",
       "</style>\n",
       "<small>shape: (8, 10)</small><table border=\"1\" class=\"dataframe\"><thead><tr><th>name</th><th>type1</th><th>type2</th><th>abilities</th><th>hp</th><th>attack</th><th>defense</th><th>speed</th><th>is_legendary</th><th>attack_category</th></tr><tr><td>str</td><td>str</td><td>str</td><td>list[str]</td><td>i64</td><td>i64</td><td>i64</td><td>i64</td><td>i64</td><td>str</td></tr></thead><tbody><tr><td>&quot;Bulbasaur&quot;</td><td>&quot;grass&quot;</td><td>&quot;poison&quot;</td><td>[&quot;Overgrow&quot;, &quot;Chlorophyll&quot;]</td><td>45</td><td>49</td><td>49</td><td>45</td><td>0</td><td>&quot;Bottom 25%&quot;</td></tr><tr><td>&quot;Ivysaur&quot;</td><td>&quot;grass&quot;</td><td>&quot;poison&quot;</td><td>[&quot;Overgrow&quot;, &quot;Chlorophyll&quot;]</td><td>60</td><td>62</td><td>63</td><td>60</td><td>0</td><td>&quot;Other&quot;</td></tr><tr><td>&quot;Venusaur&quot;</td><td>&quot;grass&quot;</td><td>&quot;poison&quot;</td><td>[&quot;Overgrow&quot;, &quot;Chlorophyll&quot;]</td><td>80</td><td>100</td><td>123</td><td>80</td><td>0</td><td>&quot;Other&quot;</td></tr><tr><td>&quot;Charmander&quot;</td><td>&quot;fire&quot;</td><td>null</td><td>[&quot;Blaze&quot;, &quot;Solar Power&quot;]</td><td>39</td><td>52</td><td>43</td><td>65</td><td>0</td><td>&quot;Bottom 25%&quot;</td></tr><tr><td>&quot;Charmeleon&quot;</td><td>&quot;fire&quot;</td><td>null</td><td>[&quot;Blaze&quot;, &quot;Solar Power&quot;]</td><td>58</td><td>64</td><td>58</td><td>80</td><td>0</td><td>&quot;Other&quot;</td></tr><tr><td>&quot;Charizard&quot;</td><td>&quot;fire&quot;</td><td>&quot;flying&quot;</td><td>[&quot;Blaze&quot;, &quot;Solar Power&quot;]</td><td>78</td><td>104</td><td>78</td><td>100</td><td>0</td><td>&quot;Top 25%&quot;</td></tr><tr><td>&quot;Squirtle&quot;</td><td>&quot;water&quot;</td><td>null</td><td>[&quot;Torrent&quot;, &quot;Rain Dish&quot;]</td><td>44</td><td>48</td><td>65</td><td>43</td><td>0</td><td>&quot;Bottom 25%&quot;</td></tr><tr><td>&quot;Wartortle&quot;</td><td>&quot;water&quot;</td><td>null</td><td>[&quot;Torrent&quot;, &quot;Rain Dish&quot;]</td><td>59</td><td>63</td><td>80</td><td>58</td><td>0</td><td>&quot;Other&quot;</td></tr></tbody></table></div>"
      ],
      "text/plain": [
       "shape: (8, 10)\n",
       "┌────────────┬───────┬────────┬───────────────┬───┬─────────┬───────┬──────────────┬───────────────┐\n",
       "│ name       ┆ type1 ┆ type2  ┆ abilities     ┆ … ┆ defense ┆ speed ┆ is_legendary ┆ attack_catego │\n",
       "│ ---        ┆ ---   ┆ ---    ┆ ---           ┆   ┆ ---     ┆ ---   ┆ ---          ┆ ry            │\n",
       "│ str        ┆ str   ┆ str    ┆ list[str]     ┆   ┆ i64     ┆ i64   ┆ i64          ┆ ---           │\n",
       "│            ┆       ┆        ┆               ┆   ┆         ┆       ┆              ┆ str           │\n",
       "╞════════════╪═══════╪════════╪═══════════════╪═══╪═════════╪═══════╪══════════════╪═══════════════╡\n",
       "│ Bulbasaur  ┆ grass ┆ poison ┆ [\"Overgrow\",  ┆ … ┆ 49      ┆ 45    ┆ 0            ┆ Bottom 25%    │\n",
       "│            ┆       ┆        ┆ \"Chlorophyll\" ┆   ┆         ┆       ┆              ┆               │\n",
       "│            ┆       ┆        ┆ ]             ┆   ┆         ┆       ┆              ┆               │\n",
       "│ Ivysaur    ┆ grass ┆ poison ┆ [\"Overgrow\",  ┆ … ┆ 63      ┆ 60    ┆ 0            ┆ Other         │\n",
       "│            ┆       ┆        ┆ \"Chlorophyll\" ┆   ┆         ┆       ┆              ┆               │\n",
       "│            ┆       ┆        ┆ ]             ┆   ┆         ┆       ┆              ┆               │\n",
       "│ Venusaur   ┆ grass ┆ poison ┆ [\"Overgrow\",  ┆ … ┆ 123     ┆ 80    ┆ 0            ┆ Other         │\n",
       "│            ┆       ┆        ┆ \"Chlorophyll\" ┆   ┆         ┆       ┆              ┆               │\n",
       "│            ┆       ┆        ┆ ]             ┆   ┆         ┆       ┆              ┆               │\n",
       "│ Charmander ┆ fire  ┆ null   ┆ [\"Blaze\",     ┆ … ┆ 43      ┆ 65    ┆ 0            ┆ Bottom 25%    │\n",
       "│            ┆       ┆        ┆ \"Solar        ┆   ┆         ┆       ┆              ┆               │\n",
       "│            ┆       ┆        ┆ Power\"]       ┆   ┆         ┆       ┆              ┆               │\n",
       "│ Charmeleon ┆ fire  ┆ null   ┆ [\"Blaze\",     ┆ … ┆ 58      ┆ 80    ┆ 0            ┆ Other         │\n",
       "│            ┆       ┆        ┆ \"Solar        ┆   ┆         ┆       ┆              ┆               │\n",
       "│            ┆       ┆        ┆ Power\"]       ┆   ┆         ┆       ┆              ┆               │\n",
       "│ Charizard  ┆ fire  ┆ flying ┆ [\"Blaze\",     ┆ … ┆ 78      ┆ 100   ┆ 0            ┆ Top 25%       │\n",
       "│            ┆       ┆        ┆ \"Solar        ┆   ┆         ┆       ┆              ┆               │\n",
       "│            ┆       ┆        ┆ Power\"]       ┆   ┆         ┆       ┆              ┆               │\n",
       "│ Squirtle   ┆ water ┆ null   ┆ [\"Torrent\",   ┆ … ┆ 65      ┆ 43    ┆ 0            ┆ Bottom 25%    │\n",
       "│            ┆       ┆        ┆ \"Rain Dish\"]  ┆   ┆         ┆       ┆              ┆               │\n",
       "│ Wartortle  ┆ water ┆ null   ┆ [\"Torrent\",   ┆ … ┆ 80      ┆ 58    ┆ 0            ┆ Other         │\n",
       "│            ┆       ┆        ┆ \"Rain Dish\"]  ┆   ┆         ┆       ┆              ┆               │\n",
       "└────────────┴───────┴────────┴───────────────┴───┴─────────┴───────┴──────────────┴───────────────┘"
      ]
     },
     "execution_count": 201,
     "metadata": {},
     "output_type": "execute_result"
    }
   ],
   "source": [
    "# Identify the top 25% of Pokemon based on the attack stats AND the bottom 25%\n",
    "# Use multiple when then statements\n",
    "\n",
    "pokemon.with_columns(\n",
    "    attack_category = \n",
    "        pl.when(pl.col('attack') > pl.col('attack').quantile(0.75)).then('Top 25%')\n",
    "        .when(pl.col('attack') < pl.col('attack').quantile(0.25)).then('Bottom 25%')\n",
    "        .otherwise('Other')\n",
    ").head(8)"
   ]
  },
  {
   "attachments": {},
   "cell_type": "markdown",
   "metadata": {},
   "source": [
    "#### Convert columns to dummies"
   ]
  },
  {
   "cell_type": "code",
   "execution_count": 202,
   "metadata": {},
   "outputs": [
    {
     "data": {
      "text/html": [
       "<div><style>\n",
       ".dataframe > thead > tr > th,\n",
       ".dataframe > tbody > tr > td {\n",
       "  text-align: right;\n",
       "}\n",
       "</style>\n",
       "<small>shape: (8, 11)</small><table border=\"1\" class=\"dataframe\"><thead><tr><th>name</th><th>type1_fire</th><th>type1_grass</th><th>type1_water</th><th>type2</th><th>abilities</th><th>hp</th><th>attack</th><th>defense</th><th>speed</th><th>is_legendary</th></tr><tr><td>str</td><td>u8</td><td>u8</td><td>u8</td><td>str</td><td>list[str]</td><td>i64</td><td>i64</td><td>i64</td><td>i64</td><td>i64</td></tr></thead><tbody><tr><td>&quot;Bulbasaur&quot;</td><td>0</td><td>1</td><td>0</td><td>&quot;poison&quot;</td><td>[&quot;Overgrow&quot;, &quot;Chlorophyll&quot;]</td><td>45</td><td>49</td><td>49</td><td>45</td><td>0</td></tr><tr><td>&quot;Ivysaur&quot;</td><td>0</td><td>1</td><td>0</td><td>&quot;poison&quot;</td><td>[&quot;Overgrow&quot;, &quot;Chlorophyll&quot;]</td><td>60</td><td>62</td><td>63</td><td>60</td><td>0</td></tr><tr><td>&quot;Venusaur&quot;</td><td>0</td><td>1</td><td>0</td><td>&quot;poison&quot;</td><td>[&quot;Overgrow&quot;, &quot;Chlorophyll&quot;]</td><td>80</td><td>100</td><td>123</td><td>80</td><td>0</td></tr><tr><td>&quot;Charmander&quot;</td><td>1</td><td>0</td><td>0</td><td>null</td><td>[&quot;Blaze&quot;, &quot;Solar Power&quot;]</td><td>39</td><td>52</td><td>43</td><td>65</td><td>0</td></tr><tr><td>&quot;Charmeleon&quot;</td><td>1</td><td>0</td><td>0</td><td>null</td><td>[&quot;Blaze&quot;, &quot;Solar Power&quot;]</td><td>58</td><td>64</td><td>58</td><td>80</td><td>0</td></tr><tr><td>&quot;Charizard&quot;</td><td>1</td><td>0</td><td>0</td><td>&quot;flying&quot;</td><td>[&quot;Blaze&quot;, &quot;Solar Power&quot;]</td><td>78</td><td>104</td><td>78</td><td>100</td><td>0</td></tr><tr><td>&quot;Squirtle&quot;</td><td>0</td><td>0</td><td>1</td><td>null</td><td>[&quot;Torrent&quot;, &quot;Rain Dish&quot;]</td><td>44</td><td>48</td><td>65</td><td>43</td><td>0</td></tr><tr><td>&quot;Wartortle&quot;</td><td>0</td><td>0</td><td>1</td><td>null</td><td>[&quot;Torrent&quot;, &quot;Rain Dish&quot;]</td><td>59</td><td>63</td><td>80</td><td>58</td><td>0</td></tr></tbody></table></div>"
      ],
      "text/plain": [
       "shape: (8, 11)\n",
       "┌────────────┬────────────┬─────────────┬─────────────┬───┬────────┬─────────┬───────┬────────────┐\n",
       "│ name       ┆ type1_fire ┆ type1_grass ┆ type1_water ┆ … ┆ attack ┆ defense ┆ speed ┆ is_legenda │\n",
       "│ ---        ┆ ---        ┆ ---         ┆ ---         ┆   ┆ ---    ┆ ---     ┆ ---   ┆ ry         │\n",
       "│ str        ┆ u8         ┆ u8          ┆ u8          ┆   ┆ i64    ┆ i64     ┆ i64   ┆ ---        │\n",
       "│            ┆            ┆             ┆             ┆   ┆        ┆         ┆       ┆ i64        │\n",
       "╞════════════╪════════════╪═════════════╪═════════════╪═══╪════════╪═════════╪═══════╪════════════╡\n",
       "│ Bulbasaur  ┆ 0          ┆ 1           ┆ 0           ┆ … ┆ 49     ┆ 49      ┆ 45    ┆ 0          │\n",
       "│ Ivysaur    ┆ 0          ┆ 1           ┆ 0           ┆ … ┆ 62     ┆ 63      ┆ 60    ┆ 0          │\n",
       "│ Venusaur   ┆ 0          ┆ 1           ┆ 0           ┆ … ┆ 100    ┆ 123     ┆ 80    ┆ 0          │\n",
       "│ Charmander ┆ 1          ┆ 0           ┆ 0           ┆ … ┆ 52     ┆ 43      ┆ 65    ┆ 0          │\n",
       "│ Charmeleon ┆ 1          ┆ 0           ┆ 0           ┆ … ┆ 64     ┆ 58      ┆ 80    ┆ 0          │\n",
       "│ Charizard  ┆ 1          ┆ 0           ┆ 0           ┆ … ┆ 104    ┆ 78      ┆ 100   ┆ 0          │\n",
       "│ Squirtle   ┆ 0          ┆ 0           ┆ 1           ┆ … ┆ 48     ┆ 65      ┆ 43    ┆ 0          │\n",
       "│ Wartortle  ┆ 0          ┆ 0           ┆ 1           ┆ … ┆ 63     ┆ 80      ┆ 58    ┆ 0          │\n",
       "└────────────┴────────────┴─────────────┴─────────────┴───┴────────┴─────────┴───────┴────────────┘"
      ]
     },
     "execution_count": 202,
     "metadata": {},
     "output_type": "execute_result"
    }
   ],
   "source": [
    "# Convert the column type1 to dummies\n",
    "\n",
    "pokemon.head(8).to_dummies(columns=['type1'])"
   ]
  },
  {
   "attachments": {},
   "cell_type": "markdown",
   "metadata": {},
   "source": [
    "#### Grouping and aggregating data"
   ]
  },
  {
   "cell_type": "code",
   "execution_count": 203,
   "metadata": {},
   "outputs": [
    {
     "data": {
      "text/html": [
       "<div><style>\n",
       ".dataframe > thead > tr > th,\n",
       ".dataframe > tbody > tr > td {\n",
       "  text-align: right;\n",
       "}\n",
       "</style>\n",
       "<small>shape: (3, 5)</small><table border=\"1\" class=\"dataframe\"><thead><tr><th>type1</th><th>hp</th><th>attack</th><th>defense</th><th>speed</th></tr><tr><td>str</td><td>f64</td><td>f64</td><td>f64</td><td>f64</td></tr></thead><tbody><tr><td>&quot;fairy&quot;</td><td>76.0</td><td>58.5</td><td>67.5</td><td>47.0</td></tr><tr><td>&quot;grass&quot;</td><td>65.0</td><td>68.0</td><td>66.0</td><td>55.0</td></tr><tr><td>&quot;poison&quot;</td><td>65.0</td><td>68.5</td><td>66.0</td><td>62.5</td></tr></tbody></table></div>"
      ],
      "text/plain": [
       "shape: (3, 5)\n",
       "┌────────┬──────┬────────┬─────────┬───────┐\n",
       "│ type1  ┆ hp   ┆ attack ┆ defense ┆ speed │\n",
       "│ ---    ┆ ---  ┆ ---    ┆ ---     ┆ ---   │\n",
       "│ str    ┆ f64  ┆ f64    ┆ f64     ┆ f64   │\n",
       "╞════════╪══════╪════════╪═════════╪═══════╡\n",
       "│ fairy  ┆ 76.0 ┆ 58.5   ┆ 67.5    ┆ 47.0  │\n",
       "│ grass  ┆ 65.0 ┆ 68.0   ┆ 66.0    ┆ 55.0  │\n",
       "│ poison ┆ 65.0 ┆ 68.5   ┆ 66.0    ┆ 62.5  │\n",
       "└────────┴──────┴────────┴─────────┴───────┘"
      ]
     },
     "execution_count": 203,
     "metadata": {},
     "output_type": "execute_result"
    }
   ],
   "source": [
    "# Group by type and calculate median stats\n",
    "# Group by is run in parallel so the order of the rows can change\n",
    "\n",
    "pokemon.groupby('type1').agg(\n",
    "    pl.col('hp', 'attack', 'defense', 'speed').median()\n",
    ").head(3)"
   ]
  },
  {
   "cell_type": "code",
   "execution_count": 204,
   "metadata": {},
   "outputs": [
    {
     "data": {
      "text/html": [
       "<div><style>\n",
       ".dataframe > thead > tr > th,\n",
       ".dataframe > tbody > tr > td {\n",
       "  text-align: right;\n",
       "}\n",
       "</style>\n",
       "<small>shape: (3, 5)</small><table border=\"1\" class=\"dataframe\"><thead><tr><th>type1</th><th>hp</th><th>attack</th><th>defense</th><th>speed</th></tr><tr><td>str</td><td>f64</td><td>f64</td><td>f64</td><td>f64</td></tr></thead><tbody><tr><td>&quot;grass&quot;</td><td>65.0</td><td>68.0</td><td>66.0</td><td>55.0</td></tr><tr><td>&quot;fire&quot;</td><td>65.0</td><td>79.5</td><td>61.5</td><td>72.5</td></tr><tr><td>&quot;water&quot;</td><td>68.0</td><td>70.0</td><td>70.0</td><td>64.0</td></tr></tbody></table></div>"
      ],
      "text/plain": [
       "shape: (3, 5)\n",
       "┌───────┬──────┬────────┬─────────┬───────┐\n",
       "│ type1 ┆ hp   ┆ attack ┆ defense ┆ speed │\n",
       "│ ---   ┆ ---  ┆ ---    ┆ ---     ┆ ---   │\n",
       "│ str   ┆ f64  ┆ f64    ┆ f64     ┆ f64   │\n",
       "╞═══════╪══════╪════════╪═════════╪═══════╡\n",
       "│ grass ┆ 65.0 ┆ 68.0   ┆ 66.0    ┆ 55.0  │\n",
       "│ fire  ┆ 65.0 ┆ 79.5   ┆ 61.5    ┆ 72.5  │\n",
       "│ water ┆ 68.0 ┆ 70.0   ┆ 70.0    ┆ 64.0  │\n",
       "└───────┴──────┴────────┴─────────┴───────┘"
      ]
     },
     "execution_count": 204,
     "metadata": {},
     "output_type": "execute_result"
    }
   ],
   "source": [
    "# Group by type and calculate median stats\n",
    "# Maintaining the order is possible but it is slower\n",
    "\n",
    "pokemon.groupby('type1', maintain_order=True).agg(\n",
    "    pl.col('hp', 'attack', 'defense', 'speed').median()\n",
    ").head(3)"
   ]
  },
  {
   "cell_type": "code",
   "execution_count": 205,
   "metadata": {},
   "outputs": [
    {
     "data": {
      "text/html": [
       "<div><style>\n",
       ".dataframe > thead > tr > th,\n",
       ".dataframe > tbody > tr > td {\n",
       "  text-align: right;\n",
       "}\n",
       "</style>\n",
       "<small>shape: (3, 6)</small><table border=\"1\" class=\"dataframe\"><thead><tr><th>type1</th><th>is_legendary</th><th>hp</th><th>attack</th><th>defense</th><th>speed</th></tr><tr><td>str</td><td>i64</td><td>f64</td><td>f64</td><td>f64</td><td>f64</td></tr></thead><tbody><tr><td>&quot;grass&quot;</td><td>0</td><td>63.0</td><td>66.0</td><td>65.0</td><td>54.0</td></tr><tr><td>&quot;fighting&quot;</td><td>0</td><td>70.0</td><td>100.0</td><td>66.0</td><td>60.0</td></tr><tr><td>&quot;ghost&quot;</td><td>0</td><td>59.0</td><td>66.0</td><td>78.0</td><td>50.0</td></tr></tbody></table></div>"
      ],
      "text/plain": [
       "shape: (3, 6)\n",
       "┌──────────┬──────────────┬──────┬────────┬─────────┬───────┐\n",
       "│ type1    ┆ is_legendary ┆ hp   ┆ attack ┆ defense ┆ speed │\n",
       "│ ---      ┆ ---          ┆ ---  ┆ ---    ┆ ---     ┆ ---   │\n",
       "│ str      ┆ i64          ┆ f64  ┆ f64    ┆ f64     ┆ f64   │\n",
       "╞══════════╪══════════════╪══════╪════════╪═════════╪═══════╡\n",
       "│ grass    ┆ 0            ┆ 63.0 ┆ 66.0   ┆ 65.0    ┆ 54.0  │\n",
       "│ fighting ┆ 0            ┆ 70.0 ┆ 100.0  ┆ 66.0    ┆ 60.0  │\n",
       "│ ghost    ┆ 0            ┆ 59.0 ┆ 66.0   ┆ 78.0    ┆ 50.0  │\n",
       "└──────────┴──────────────┴──────┴────────┴─────────┴───────┘"
      ]
     },
     "execution_count": 205,
     "metadata": {},
     "output_type": "execute_result"
    }
   ],
   "source": [
    "# Group on multiple columns works the same way\n",
    "\n",
    "pokemon.groupby(['type1', 'is_legendary']).agg(\n",
    "    pl.col('hp', 'attack', 'defense', 'speed').median().round(0)\n",
    ").head(3)"
   ]
  },
  {
   "cell_type": "code",
   "execution_count": 206,
   "metadata": {},
   "outputs": [
    {
     "data": {
      "text/html": [
       "<div><style>\n",
       ".dataframe > thead > tr > th,\n",
       ".dataframe > tbody > tr > td {\n",
       "  text-align: right;\n",
       "}\n",
       "</style>\n",
       "<small>shape: (3, 9)</small><table border=\"1\" class=\"dataframe\"><thead><tr><th>type1</th><th>avg_attack</th><th>median_attack</th><th>min_attack</th><th>max_attack</th><th>quantile_25</th><th>quantile_75</th><th>count</th><th>first_pokemon</th></tr><tr><td>str</td><td>f64</td><td>f64</td><td>i64</td><td>i64</td><td>f64</td><td>f64</td><td>u32</td><td>str</td></tr></thead><tbody><tr><td>&quot;fire&quot;</td><td>81.5</td><td>79.5</td><td>30</td><td>160</td><td>63.0</td><td>100.0</td><td>52</td><td>&quot;Charmander&quot;</td></tr><tr><td>&quot;dark&quot;</td><td>87.793103</td><td>88.0</td><td>50</td><td>150</td><td>65.0</td><td>101.0</td><td>29</td><td>&quot;Umbreon&quot;</td></tr><tr><td>&quot;bug&quot;</td><td>70.125</td><td>65.0</td><td>10</td><td>185</td><td>45.0</td><td>90.0</td><td>72</td><td>&quot;Caterpie&quot;</td></tr></tbody></table></div>"
      ],
      "text/plain": [
       "shape: (3, 9)\n",
       "┌───────┬────────────┬────────────┬────────────┬───┬───────────┬──────────────┬───────┬────────────┐\n",
       "│ type1 ┆ avg_attack ┆ median_att ┆ min_attack ┆ … ┆ quantile_ ┆ quantile_75  ┆ count ┆ first_poke │\n",
       "│ ---   ┆ ---        ┆ ack        ┆ ---        ┆   ┆ 25        ┆ ---          ┆ ---   ┆ mon        │\n",
       "│ str   ┆ f64        ┆ ---        ┆ i64        ┆   ┆ ---       ┆ f64          ┆ u32   ┆ ---        │\n",
       "│       ┆            ┆ f64        ┆            ┆   ┆ f64       ┆              ┆       ┆ str        │\n",
       "╞═══════╪════════════╪════════════╪════════════╪═══╪═══════════╪══════════════╪═══════╪════════════╡\n",
       "│ fire  ┆ 81.5       ┆ 79.5       ┆ 30         ┆ … ┆ 63.0      ┆ 100.0        ┆ 52    ┆ Charmander │\n",
       "│ dark  ┆ 87.793103  ┆ 88.0       ┆ 50         ┆ … ┆ 65.0      ┆ 101.0        ┆ 29    ┆ Umbreon    │\n",
       "│ bug   ┆ 70.125     ┆ 65.0       ┆ 10         ┆ … ┆ 45.0      ┆ 90.0         ┆ 72    ┆ Caterpie   │\n",
       "└───────┴────────────┴────────────┴────────────┴───┴───────────┴──────────────┴───────┴────────────┘"
      ]
     },
     "execution_count": 206,
     "metadata": {},
     "output_type": "execute_result"
    }
   ],
   "source": [
    "# Lots of aggregations functions are available\n",
    "\n",
    "pokemon.groupby('type1').agg(\n",
    "    avg_attack = pl.col('attack').mean(),\n",
    "    median_attack = pl.col('attack').median(),\n",
    "    min_attack = pl.col('attack').min(),\n",
    "    max_attack = pl.col('attack').max(),\n",
    "    quantile_25 = pl.col('attack').quantile(0.25),\n",
    "    quantile_75 = pl.col('attack').quantile(0.75),\n",
    "    count = pl.count(), # Count the number of pokemon in each group\n",
    "    first_pokemon = pl.first('name') # Get the first pokemon in each group\n",
    ").head(3)"
   ]
  },
  {
   "cell_type": "code",
   "execution_count": 207,
   "metadata": {},
   "outputs": [
    {
     "data": {
      "text/html": [
       "<div><style>\n",
       ".dataframe > thead > tr > th,\n",
       ".dataframe > tbody > tr > td {\n",
       "  text-align: right;\n",
       "}\n",
       "</style>\n",
       "<small>shape: (3, 2)</small><table border=\"1\" class=\"dataframe\"><thead><tr><th>type1</th><th>sqrt_attack_mean</th></tr><tr><td>str</td><td>f64</td></tr></thead><tbody><tr><td>&quot;ground&quot;</td><td>9.608588</td></tr><tr><td>&quot;ghost&quot;</td><td>8.335305</td></tr><tr><td>&quot;fire&quot;</td><td>8.905868</td></tr></tbody></table></div>"
      ],
      "text/plain": [
       "shape: (3, 2)\n",
       "┌────────┬──────────────────┐\n",
       "│ type1  ┆ sqrt_attack_mean │\n",
       "│ ---    ┆ ---              │\n",
       "│ str    ┆ f64              │\n",
       "╞════════╪══════════════════╡\n",
       "│ ground ┆ 9.608588         │\n",
       "│ ghost  ┆ 8.335305         │\n",
       "│ fire   ┆ 8.905868         │\n",
       "└────────┴──────────────────┘"
      ]
     },
     "execution_count": 207,
     "metadata": {},
     "output_type": "execute_result"
    }
   ],
   "source": [
    "# Possible to use Numpy universal functions (ufuncs) in aggregations\n",
    "\n",
    "import numpy as np\n",
    "\n",
    "pokemon.groupby('type1').agg(\n",
    "    sqrt_attack_mean = np.sqrt(pl.col('attack')).mean() # sqrt is the square root function\n",
    ").head(3)"
   ]
  },
  {
   "cell_type": "code",
   "execution_count": 208,
   "metadata": {},
   "outputs": [
    {
     "data": {
      "text/html": [
       "<div><style>\n",
       ".dataframe > thead > tr > th,\n",
       ".dataframe > tbody > tr > td {\n",
       "  text-align: right;\n",
       "}\n",
       "</style>\n",
       "<small>shape: (3, 2)</small><table border=\"1\" class=\"dataframe\"><thead><tr><th>type1</th><th>name</th></tr><tr><td>str</td><td>list[str]</td></tr></thead><tbody><tr><td>&quot;ice&quot;</td><td>[&quot;Jynx&quot;, &quot;Articuno&quot;, … &quot;Avalugg&quot;]</td></tr><tr><td>&quot;flying&quot;</td><td>[&quot;Tornadus&quot;, &quot;Noibat&quot;, &quot;Noivern&quot;]</td></tr><tr><td>&quot;dragon&quot;</td><td>[&quot;Dratini&quot;, &quot;Dragonair&quot;, … &quot;Kommo-o&quot;]</td></tr></tbody></table></div>"
      ],
      "text/plain": [
       "shape: (3, 2)\n",
       "┌────────┬─────────────────────────────────┐\n",
       "│ type1  ┆ name                            │\n",
       "│ ---    ┆ ---                             │\n",
       "│ str    ┆ list[str]                       │\n",
       "╞════════╪═════════════════════════════════╡\n",
       "│ ice    ┆ [\"Jynx\", \"Articuno\", … \"Avalug… │\n",
       "│ flying ┆ [\"Tornadus\", \"Noibat\", \"Noiver… │\n",
       "│ dragon ┆ [\"Dratini\", \"Dragonair\", … \"Ko… │\n",
       "└────────┴─────────────────────────────────┘"
      ]
     },
     "execution_count": 208,
     "metadata": {},
     "output_type": "execute_result"
    }
   ],
   "source": [
    "# If aggregation functions are not specified, the result if aggregated in a list\n",
    "\n",
    "pokemon.groupby('type1').agg(\n",
    "    pl.col('name')\n",
    ").head(3)"
   ]
  },
  {
   "cell_type": "code",
   "execution_count": 209,
   "metadata": {},
   "outputs": [
    {
     "data": {
      "text/html": [
       "<div><style>\n",
       ".dataframe > thead > tr > th,\n",
       ".dataframe > tbody > tr > td {\n",
       "  text-align: right;\n",
       "}\n",
       "</style>\n",
       "<small>shape: (3, 2)</small><table border=\"1\" class=\"dataframe\"><thead><tr><th>type1</th><th>name</th></tr><tr><td>str</td><td>str</td></tr></thead><tbody><tr><td>&quot;fire&quot;</td><td>&quot;Charmander, Charmeleon, Chari…</td></tr><tr><td>&quot;flying&quot;</td><td>&quot;Tornadus, Noibat, Noivern&quot;</td></tr><tr><td>&quot;ground&quot;</td><td>&quot;Sandshrew, Sandslash, Diglett…</td></tr></tbody></table></div>"
      ],
      "text/plain": [
       "shape: (3, 2)\n",
       "┌────────┬─────────────────────────────────┐\n",
       "│ type1  ┆ name                            │\n",
       "│ ---    ┆ ---                             │\n",
       "│ str    ┆ str                             │\n",
       "╞════════╪═════════════════════════════════╡\n",
       "│ fire   ┆ Charmander, Charmeleon, Chariz… │\n",
       "│ flying ┆ Tornadus, Noibat, Noivern       │\n",
       "│ ground ┆ Sandshrew, Sandslash, Diglett,… │\n",
       "└────────┴─────────────────────────────────┘"
      ]
     },
     "execution_count": 209,
     "metadata": {},
     "output_type": "execute_result"
    }
   ],
   "source": [
    "# Concatenate the names of the pokemon into a string\n",
    "\n",
    "pokemon.groupby('type1').agg(\n",
    "    pl.col('name').str.concat(', ')\n",
    ").head(3)"
   ]
  },
  {
   "cell_type": "code",
   "execution_count": 210,
   "metadata": {},
   "outputs": [
    {
     "data": {
      "text/html": [
       "<div><style>\n",
       ".dataframe > thead > tr > th,\n",
       ".dataframe > tbody > tr > td {\n",
       "  text-align: right;\n",
       "}\n",
       "</style>\n",
       "<small>shape: (3, 2)</small><table border=\"1\" class=\"dataframe\"><thead><tr><th>type1</th><th>avg_attack_when_speed_above_100</th></tr><tr><td>str</td><td>f64</td></tr></thead><tbody><tr><td>&quot;electric&quot;</td><td>79.25</td></tr><tr><td>&quot;water&quot;</td><td>105.833333</td></tr><tr><td>&quot;fighting&quot;</td><td>120.666667</td></tr></tbody></table></div>"
      ],
      "text/plain": [
       "shape: (3, 2)\n",
       "┌──────────┬─────────────────────────────────┐\n",
       "│ type1    ┆ avg_attack_when_speed_above_10… │\n",
       "│ ---      ┆ ---                             │\n",
       "│ str      ┆ f64                             │\n",
       "╞══════════╪═════════════════════════════════╡\n",
       "│ electric ┆ 79.25                           │\n",
       "│ water    ┆ 105.833333                      │\n",
       "│ fighting ┆ 120.666667                      │\n",
       "└──────────┴─────────────────────────────────┘"
      ]
     },
     "execution_count": 210,
     "metadata": {},
     "output_type": "execute_result"
    }
   ],
   "source": [
    "# Aggregation with conditions\n",
    "# Calculate the average attack for Pokemons with a speed above 100, by type\n",
    "\n",
    "pokemon.groupby('type1').agg(\n",
    "    avg_attack_when_speed_above_100 = pl.col('attack').filter(pl.col('speed') > 100).mean()\n",
    ").head(3)\n"
   ]
  },
  {
   "cell_type": "code",
   "execution_count": 211,
   "metadata": {},
   "outputs": [
    {
     "data": {
      "text/html": [
       "<div><style>\n",
       ".dataframe > thead > tr > th,\n",
       ".dataframe > tbody > tr > td {\n",
       "  text-align: right;\n",
       "}\n",
       "</style>\n",
       "<small>shape: (3, 5)</small><table border=\"1\" class=\"dataframe\"><thead><tr><th>type1</th><th>avg_attack_when_speed_above_20</th><th>avg_attack_when_speed_above_40</th><th>avg_attack_when_speed_above_60</th><th>avg_attack_when_speed_above_80</th></tr><tr><td>str</td><td>f64</td><td>f64</td><td>f64</td><td>f64</td></tr></thead><tbody><tr><td>&quot;water&quot;</td><td>73.756757</td><td>75.282609</td><td>78.372881</td><td>85.448276</td></tr><tr><td>&quot;ground&quot;</td><td>94.645161</td><td>97.952381</td><td>98.733333</td><td>111.333333</td></tr><tr><td>&quot;fighting&quot;</td><td>99.178571</td><td>105.086957</td><td>106.076923</td><td>116.0</td></tr></tbody></table></div>"
      ],
      "text/plain": [
       "shape: (3, 5)\n",
       "┌──────────┬─────────────────────┬─────────────────────┬─────────────────────┬─────────────────────┐\n",
       "│ type1    ┆ avg_attack_when_spe ┆ avg_attack_when_spe ┆ avg_attack_when_spe ┆ avg_attack_when_spe │\n",
       "│ ---      ┆ ed_above_20         ┆ ed_above_40         ┆ ed_above_60         ┆ ed_above_80         │\n",
       "│ str      ┆ ---                 ┆ ---                 ┆ ---                 ┆ ---                 │\n",
       "│          ┆ f64                 ┆ f64                 ┆ f64                 ┆ f64                 │\n",
       "╞══════════╪═════════════════════╪═════════════════════╪═════════════════════╪═════════════════════╡\n",
       "│ water    ┆ 73.756757           ┆ 75.282609           ┆ 78.372881           ┆ 85.448276           │\n",
       "│ ground   ┆ 94.645161           ┆ 97.952381           ┆ 98.733333           ┆ 111.333333          │\n",
       "│ fighting ┆ 99.178571           ┆ 105.086957          ┆ 106.076923          ┆ 116.0               │\n",
       "└──────────┴─────────────────────┴─────────────────────┴─────────────────────┴─────────────────────┘"
      ]
     },
     "execution_count": 211,
     "metadata": {},
     "output_type": "execute_result"
    }
   ],
   "source": [
    "# We can also create functions to use in aggregations\n",
    "\n",
    "def avg_attack_when_speed_above_threshold(speed):\n",
    "    return pl.col('attack').filter(pl.col('speed') > speed).mean().alias(f'avg_attack_when_speed_above_{speed}')\n",
    "\n",
    "pokemon.groupby('type1').agg(\n",
    "    avg_attack_when_speed_above_threshold(speed) for speed in range(20,100,20)\n",
    ").head(3)"
   ]
  },
  {
   "cell_type": "code",
   "execution_count": 212,
   "metadata": {},
   "outputs": [
    {
     "data": {
      "text/html": [
       "<div><style>\n",
       ".dataframe > thead > tr > th,\n",
       ".dataframe > tbody > tr > td {\n",
       "  text-align: right;\n",
       "}\n",
       "</style>\n",
       "<small>shape: (5, 2)</small><table border=\"1\" class=\"dataframe\"><thead><tr><th>type1</th><th>top_3_pokemon_by_attack</th></tr><tr><td>str</td><td>list[str]</td></tr></thead><tbody><tr><td>&quot;electric&quot;</td><td>[&quot;Electivire&quot;, &quot;Luxray&quot;, &quot;Eelektross&quot;]</td></tr><tr><td>&quot;rock&quot;</td><td>[&quot;Rampardos&quot;, &quot;Tyranitar&quot;, &quot;Diancie&quot;]</td></tr><tr><td>&quot;ice&quot;</td><td>[&quot;Mamoswine&quot;, &quot;Beartic&quot;, &quot;Glalie&quot;]</td></tr><tr><td>&quot;dragon&quot;</td><td>[&quot;Rayquaza&quot;, &quot;Garchomp&quot;, &quot;Zekrom&quot;]</td></tr><tr><td>&quot;water&quot;</td><td>[&quot;Gyarados&quot;, &quot;Swampert&quot;, &quot;Kyogre&quot;]</td></tr></tbody></table></div>"
      ],
      "text/plain": [
       "shape: (5, 2)\n",
       "┌──────────┬─────────────────────────────────┐\n",
       "│ type1    ┆ top_3_pokemon_by_attack         │\n",
       "│ ---      ┆ ---                             │\n",
       "│ str      ┆ list[str]                       │\n",
       "╞══════════╪═════════════════════════════════╡\n",
       "│ electric ┆ [\"Electivire\", \"Luxray\", \"Eele… │\n",
       "│ rock     ┆ [\"Rampardos\", \"Tyranitar\", \"Di… │\n",
       "│ ice      ┆ [\"Mamoswine\", \"Beartic\", \"Glal… │\n",
       "│ dragon   ┆ [\"Rayquaza\", \"Garchomp\", \"Zekr… │\n",
       "│ water    ┆ [\"Gyarados\", \"Swampert\", \"Kyog… │\n",
       "└──────────┴─────────────────────────────────┘"
      ]
     },
     "execution_count": 212,
     "metadata": {},
     "output_type": "execute_result"
    }
   ],
   "source": [
    "# Show the top 3 pokemon by attack in each group\n",
    "# We sort before aggregation to make sure we get the top 3\n",
    "(\n",
    "    pokemon\n",
    "    .sort(by='attack', descending=True)\n",
    "    .groupby('type1').agg(\n",
    "        top_3_pokemon_by_attack = pl.col('name').head(3) # head(3) filters top 3 pokemons per type\n",
    "    )\n",
    ").head(5) # head(5) filters 5 types"
   ]
  },
  {
   "cell_type": "code",
   "execution_count": 213,
   "metadata": {},
   "outputs": [
    {
     "data": {
      "text/html": [
       "<div><style>\n",
       ".dataframe > thead > tr > th,\n",
       ".dataframe > tbody > tr > td {\n",
       "  text-align: right;\n",
       "}\n",
       "</style>\n",
       "<small>shape: (5, 3)</small><table border=\"1\" class=\"dataframe\"><thead><tr><th>type1</th><th>top_3_pokemon_by_attack</th><th>top_3_pokemon_by_defense</th></tr><tr><td>str</td><td>list[str]</td><td>list[str]</td></tr></thead><tbody><tr><td>&quot;psychic&quot;</td><td>[&quot;Gallade&quot;, &quot;Hoopa&quot;, &quot;Mewtwo&quot;]</td><td>[&quot;Cosmoem&quot;, &quot;Lugia&quot;, &quot;Uxie&quot;]</td></tr><tr><td>&quot;ground&quot;</td><td>[&quot;Groudon&quot;, &quot;Landorus&quot;, &quot;Rhyperior&quot;]</td><td>[&quot;Groudon&quot;, &quot;Rhyperior&quot;, &quot;Gliscor&quot;]</td></tr><tr><td>&quot;fighting&quot;</td><td>[&quot;Lucario&quot;, &quot;Conkeldurr&quot;, &quot;Crabominable&quot;]</td><td>[&quot;Hitmontop&quot;, &quot;Conkeldurr&quot;, &quot;Passimian&quot;]</td></tr><tr><td>&quot;grass&quot;</td><td>[&quot;Kartana&quot;, &quot;Abomasnow&quot;, &quot;Breloom&quot;]</td><td>[&quot;Ferrothorn&quot;, &quot;Kartana&quot;, &quot;Leafeon&quot;]</td></tr><tr><td>&quot;fairy&quot;</td><td>[&quot;Xerneas&quot;, &quot;Granbull&quot;, &quot;Snubbull&quot;]</td><td>[&quot;Togekiss&quot;, &quot;Xerneas&quot;, &quot;Comfey&quot;]</td></tr></tbody></table></div>"
      ],
      "text/plain": [
       "shape: (5, 3)\n",
       "┌──────────┬─────────────────────────────────┬─────────────────────────────────┐\n",
       "│ type1    ┆ top_3_pokemon_by_attack         ┆ top_3_pokemon_by_defense        │\n",
       "│ ---      ┆ ---                             ┆ ---                             │\n",
       "│ str      ┆ list[str]                       ┆ list[str]                       │\n",
       "╞══════════╪═════════════════════════════════╪═════════════════════════════════╡\n",
       "│ psychic  ┆ [\"Gallade\", \"Hoopa\", \"Mewtwo\"]  ┆ [\"Cosmoem\", \"Lugia\", \"Uxie\"]    │\n",
       "│ ground   ┆ [\"Groudon\", \"Landorus\", \"Rhype… ┆ [\"Groudon\", \"Rhyperior\", \"Glis… │\n",
       "│ fighting ┆ [\"Lucario\", \"Conkeldurr\", \"Cra… ┆ [\"Hitmontop\", \"Conkeldurr\", \"P… │\n",
       "│ grass    ┆ [\"Kartana\", \"Abomasnow\", \"Brel… ┆ [\"Ferrothorn\", \"Kartana\", \"Lea… │\n",
       "│ fairy    ┆ [\"Xerneas\", \"Granbull\", \"Snubb… ┆ [\"Togekiss\", \"Xerneas\", \"Comfe… │\n",
       "└──────────┴─────────────────────────────────┴─────────────────────────────────┘"
      ]
     },
     "execution_count": 213,
     "metadata": {},
     "output_type": "execute_result"
    }
   ],
   "source": [
    "# Show the top 3 pokemon by attack and the top 3 pokemon by health in each group\n",
    "(\n",
    "    pokemon\n",
    "    .groupby('type1').agg(\n",
    "        top_3_pokemon_by_attack = pl.col('name').sort_by('attack', descending=True).head(3),\n",
    "        top_3_pokemon_by_defense = pl.col('name').sort_by('defense', descending=True).head(3) \n",
    "    )\n",
    ").head(5)"
   ]
  },
  {
   "cell_type": "code",
   "execution_count": 214,
   "metadata": {},
   "outputs": [
    {
     "data": {
      "text/html": [
       "<div><style>\n",
       ".dataframe > thead > tr > th,\n",
       ".dataframe > tbody > tr > td {\n",
       "  text-align: right;\n",
       "}\n",
       "</style>\n",
       "<small>shape: (1, 2)</small><table border=\"1\" class=\"dataframe\"><thead><tr><th>top_3_pokemon_by_attack</th><th>top_3_pokemon_by_defense</th></tr><tr><td>list[str]</td><td>list[str]</td></tr></thead><tbody><tr><td>[&quot;Heracross&quot;, &quot;Kartana&quot;, &quot;Groudon&quot;]</td><td>[&quot;Steelix&quot;, &quot;Shuckle&quot;, &quot;Aggron&quot;]</td></tr></tbody></table></div>"
      ],
      "text/plain": [
       "shape: (1, 2)\n",
       "┌─────────────────────────────────┬─────────────────────────────────┐\n",
       "│ top_3_pokemon_by_attack         ┆ top_3_pokemon_by_defense        │\n",
       "│ ---                             ┆ ---                             │\n",
       "│ list[str]                       ┆ list[str]                       │\n",
       "╞═════════════════════════════════╪═════════════════════════════════╡\n",
       "│ [\"Heracross\", \"Kartana\", \"Grou… ┆ [\"Steelix\", \"Shuckle\", \"Aggron… │\n",
       "└─────────────────────────────────┴─────────────────────────────────┘"
      ]
     },
     "execution_count": 214,
     "metadata": {},
     "output_type": "execute_result"
    }
   ],
   "source": [
    "# Show the top 3 pokemon by attack and the top 3 pokemon by health without grouping by type\n",
    "\n",
    "pokemon.select(\n",
    "    top_3_pokemon_by_attack = pl.col('name').sort_by('attack', descending=True).head(3).implode(),\n",
    "    top_3_pokemon_by_defense = pl.col('name').sort_by('defense', descending=True).head(3).implode()\n",
    ")"
   ]
  },
  {
   "cell_type": "code",
   "execution_count": 215,
   "metadata": {},
   "outputs": [
    {
     "name": "stdout",
     "output_type": "stream",
     "text": [
      "1\n",
      "shape: (2, 9)\n",
      "┌──────────┬──────────┬────────┬─────────────────────┬───┬────────┬─────────┬───────┬──────────────┐\n",
      "│ name     ┆ type1    ┆ type2  ┆ abilities           ┆ … ┆ attack ┆ defense ┆ speed ┆ is_legendary │\n",
      "│ ---      ┆ ---      ┆ ---    ┆ ---                 ┆   ┆ ---    ┆ ---     ┆ ---   ┆ ---          │\n",
      "│ str      ┆ str      ┆ str    ┆ list[str]           ┆   ┆ i64    ┆ i64     ┆ i64   ┆ i64          │\n",
      "╞══════════╪══════════╪════════╪═════════════════════╪═══╪════════╪═════════╪═══════╪══════════════╡\n",
      "│ Articuno ┆ ice      ┆ flying ┆ [\"Pressure\", \"Snow  ┆ … ┆ 85     ┆ 100     ┆ 85    ┆ 1            │\n",
      "│          ┆          ┆        ┆ Cloak\"]             ┆   ┆        ┆         ┆       ┆              │\n",
      "│ Zapdos   ┆ electric ┆ flying ┆ [\"Pressure\",        ┆ … ┆ 90     ┆ 85      ┆ 100   ┆ 1            │\n",
      "│          ┆          ┆        ┆ \"Static\"]           ┆   ┆        ┆         ┆       ┆              │\n",
      "└──────────┴──────────┴────────┴─────────────────────┴───┴────────┴─────────┴───────┴──────────────┘\n",
      "0\n",
      "shape: (2, 9)\n",
      "┌───────────┬───────┬────────┬────────────────┬───┬────────┬─────────┬───────┬──────────────┐\n",
      "│ name      ┆ type1 ┆ type2  ┆ abilities      ┆ … ┆ attack ┆ defense ┆ speed ┆ is_legendary │\n",
      "│ ---       ┆ ---   ┆ ---    ┆ ---            ┆   ┆ ---    ┆ ---     ┆ ---   ┆ ---          │\n",
      "│ str       ┆ str   ┆ str    ┆ list[str]      ┆   ┆ i64    ┆ i64     ┆ i64   ┆ i64          │\n",
      "╞═══════════╪═══════╪════════╪════════════════╪═══╪════════╪═════════╪═══════╪══════════════╡\n",
      "│ Bulbasaur ┆ grass ┆ poison ┆ [\"Overgrow\",   ┆ … ┆ 49     ┆ 49      ┆ 45    ┆ 0            │\n",
      "│           ┆       ┆        ┆ \"Chlorophyll\"] ┆   ┆        ┆         ┆       ┆              │\n",
      "│ Ivysaur   ┆ grass ┆ poison ┆ [\"Overgrow\",   ┆ … ┆ 62     ┆ 63      ┆ 60    ┆ 0            │\n",
      "│           ┆       ┆        ┆ \"Chlorophyll\"] ┆   ┆        ┆         ┆       ┆              │\n",
      "└───────────┴───────┴────────┴────────────────┴───┴────────┴─────────┴───────┴──────────────┘\n"
     ]
    }
   ],
   "source": [
    "# I can iterate over the groups and do any action on them\n",
    "\n",
    "for name, data in pokemon.groupby(\"is_legendary\"):\n",
    "    print(name)\n",
    "    print(data.head(2))"
   ]
  },
  {
   "attachments": {},
   "cell_type": "markdown",
   "metadata": {},
   "source": [
    "#### Window functions"
   ]
  },
  {
   "cell_type": "code",
   "execution_count": 216,
   "metadata": {},
   "outputs": [
    {
     "data": {
      "text/html": [
       "<div><style>\n",
       ".dataframe > thead > tr > th,\n",
       ".dataframe > tbody > tr > td {\n",
       "  text-align: right;\n",
       "}\n",
       "</style>\n",
       "<small>shape: (5, 4)</small><table border=\"1\" class=\"dataframe\"><thead><tr><th>name</th><th>type1</th><th>attack</th><th>avg_attack_for_same_type1</th></tr><tr><td>str</td><td>str</td><td>i64</td><td>f64</td></tr></thead><tbody><tr><td>&quot;Bulbasaur&quot;</td><td>&quot;grass&quot;</td><td>49</td><td>73.769231</td></tr><tr><td>&quot;Ivysaur&quot;</td><td>&quot;grass&quot;</td><td>62</td><td>73.769231</td></tr><tr><td>&quot;Venusaur&quot;</td><td>&quot;grass&quot;</td><td>100</td><td>73.769231</td></tr><tr><td>&quot;Charmander&quot;</td><td>&quot;fire&quot;</td><td>52</td><td>81.5</td></tr><tr><td>&quot;Charmeleon&quot;</td><td>&quot;fire&quot;</td><td>64</td><td>81.5</td></tr></tbody></table></div>"
      ],
      "text/plain": [
       "shape: (5, 4)\n",
       "┌────────────┬───────┬────────┬───────────────────────────┐\n",
       "│ name       ┆ type1 ┆ attack ┆ avg_attack_for_same_type1 │\n",
       "│ ---        ┆ ---   ┆ ---    ┆ ---                       │\n",
       "│ str        ┆ str   ┆ i64    ┆ f64                       │\n",
       "╞════════════╪═══════╪════════╪═══════════════════════════╡\n",
       "│ Bulbasaur  ┆ grass ┆ 49     ┆ 73.769231                 │\n",
       "│ Ivysaur    ┆ grass ┆ 62     ┆ 73.769231                 │\n",
       "│ Venusaur   ┆ grass ┆ 100    ┆ 73.769231                 │\n",
       "│ Charmander ┆ fire  ┆ 52     ┆ 81.5                      │\n",
       "│ Charmeleon ┆ fire  ┆ 64     ┆ 81.5                      │\n",
       "└────────────┴───────┴────────┴───────────────────────────┘"
      ]
     },
     "execution_count": 216,
     "metadata": {},
     "output_type": "execute_result"
    }
   ],
   "source": [
    "# For each pokemon show its attack and the average attack for pokemons of the same type 1\n",
    "\n",
    "pokemon.select(\n",
    "    'name', 'type1', 'attack',\n",
    "    avg_attack_for_same_type1 = pl.mean('attack').over('type1')\n",
    ").head(5)"
   ]
  },
  {
   "cell_type": "code",
   "execution_count": 217,
   "metadata": {},
   "outputs": [
    {
     "data": {
      "text/html": [
       "<div><style>\n",
       ".dataframe > thead > tr > th,\n",
       ".dataframe > tbody > tr > td {\n",
       "  text-align: right;\n",
       "}\n",
       "</style>\n",
       "<small>shape: (5, 6)</small><table border=\"1\" class=\"dataframe\"><thead><tr><th>name</th><th>type1</th><th>type2</th><th>attack</th><th>avg_attack_for_same_type1</th><th>avg_attack_for_same_type2</th></tr><tr><td>str</td><td>str</td><td>str</td><td>i64</td><td>f64</td><td>f64</td></tr></thead><tbody><tr><td>&quot;Bulbasaur&quot;</td><td>&quot;grass&quot;</td><td>&quot;poison&quot;</td><td>49</td><td>73.769231</td><td>67.617647</td></tr><tr><td>&quot;Ivysaur&quot;</td><td>&quot;grass&quot;</td><td>&quot;poison&quot;</td><td>62</td><td>73.769231</td><td>67.617647</td></tr><tr><td>&quot;Venusaur&quot;</td><td>&quot;grass&quot;</td><td>&quot;poison&quot;</td><td>100</td><td>73.769231</td><td>67.617647</td></tr><tr><td>&quot;Charmander&quot;</td><td>&quot;fire&quot;</td><td>null</td><td>52</td><td>81.5</td><td>74.231771</td></tr><tr><td>&quot;Charmeleon&quot;</td><td>&quot;fire&quot;</td><td>null</td><td>64</td><td>81.5</td><td>74.231771</td></tr></tbody></table></div>"
      ],
      "text/plain": [
       "shape: (5, 6)\n",
       "┌────────────┬───────┬────────┬────────┬───────────────────────────┬───────────────────────────┐\n",
       "│ name       ┆ type1 ┆ type2  ┆ attack ┆ avg_attack_for_same_type1 ┆ avg_attack_for_same_type2 │\n",
       "│ ---        ┆ ---   ┆ ---    ┆ ---    ┆ ---                       ┆ ---                       │\n",
       "│ str        ┆ str   ┆ str    ┆ i64    ┆ f64                       ┆ f64                       │\n",
       "╞════════════╪═══════╪════════╪════════╪═══════════════════════════╪═══════════════════════════╡\n",
       "│ Bulbasaur  ┆ grass ┆ poison ┆ 49     ┆ 73.769231                 ┆ 67.617647                 │\n",
       "│ Ivysaur    ┆ grass ┆ poison ┆ 62     ┆ 73.769231                 ┆ 67.617647                 │\n",
       "│ Venusaur   ┆ grass ┆ poison ┆ 100    ┆ 73.769231                 ┆ 67.617647                 │\n",
       "│ Charmander ┆ fire  ┆ null   ┆ 52     ┆ 81.5                      ┆ 74.231771                 │\n",
       "│ Charmeleon ┆ fire  ┆ null   ┆ 64     ┆ 81.5                      ┆ 74.231771                 │\n",
       "└────────────┴───────┴────────┴────────┴───────────────────────────┴───────────────────────────┘"
      ]
     },
     "execution_count": 217,
     "metadata": {},
     "output_type": "execute_result"
    }
   ],
   "source": [
    "# For each pokemon show its attack and the average attack for pokemons of the same type 1 and pokemons of the same type 2\n",
    "\n",
    "pokemon.select(\n",
    "    'name', 'type1', 'type2', 'attack',\n",
    "    avg_attack_for_same_type1 = pl.mean('attack').over('type1'),\n",
    "    avg_attack_for_same_type2 = pl.mean('attack').over('type2')\n",
    ").head(5)"
   ]
  },
  {
   "cell_type": "code",
   "execution_count": 218,
   "metadata": {},
   "outputs": [
    {
     "data": {
      "text/html": [
       "<div><style>\n",
       ".dataframe > thead > tr > th,\n",
       ".dataframe > tbody > tr > td {\n",
       "  text-align: right;\n",
       "}\n",
       "</style>\n",
       "<small>shape: (5, 4)</small><table border=\"1\" class=\"dataframe\"><thead><tr><th>name</th><th>type1</th><th>attack</th><th>top_3_attack_pokemon_same_type</th></tr><tr><td>str</td><td>str</td><td>i64</td><td>list[str]</td></tr></thead><tbody><tr><td>&quot;Bulbasaur&quot;</td><td>&quot;grass&quot;</td><td>49</td><td>[&quot;Kartana&quot;, &quot;Abomasnow&quot;, &quot;Breloom&quot;]</td></tr><tr><td>&quot;Ivysaur&quot;</td><td>&quot;grass&quot;</td><td>62</td><td>[&quot;Kartana&quot;, &quot;Abomasnow&quot;, &quot;Breloom&quot;]</td></tr><tr><td>&quot;Venusaur&quot;</td><td>&quot;grass&quot;</td><td>100</td><td>[&quot;Kartana&quot;, &quot;Abomasnow&quot;, &quot;Breloom&quot;]</td></tr><tr><td>&quot;Charmander&quot;</td><td>&quot;fire&quot;</td><td>52</td><td>[&quot;Blaziken&quot;, &quot;Flareon&quot;, &quot;Ho-Oh&quot;]</td></tr><tr><td>&quot;Charmeleon&quot;</td><td>&quot;fire&quot;</td><td>64</td><td>[&quot;Blaziken&quot;, &quot;Flareon&quot;, &quot;Ho-Oh&quot;]</td></tr></tbody></table></div>"
      ],
      "text/plain": [
       "shape: (5, 4)\n",
       "┌────────────┬───────┬────────┬─────────────────────────────────┐\n",
       "│ name       ┆ type1 ┆ attack ┆ top_3_attack_pokemon_same_type  │\n",
       "│ ---        ┆ ---   ┆ ---    ┆ ---                             │\n",
       "│ str        ┆ str   ┆ i64    ┆ list[str]                       │\n",
       "╞════════════╪═══════╪════════╪═════════════════════════════════╡\n",
       "│ Bulbasaur  ┆ grass ┆ 49     ┆ [\"Kartana\", \"Abomasnow\", \"Brel… │\n",
       "│ Ivysaur    ┆ grass ┆ 62     ┆ [\"Kartana\", \"Abomasnow\", \"Brel… │\n",
       "│ Venusaur   ┆ grass ┆ 100    ┆ [\"Kartana\", \"Abomasnow\", \"Brel… │\n",
       "│ Charmander ┆ fire  ┆ 52     ┆ [\"Blaziken\", \"Flareon\", \"Ho-Oh… │\n",
       "│ Charmeleon ┆ fire  ┆ 64     ┆ [\"Blaziken\", \"Flareon\", \"Ho-Oh… │\n",
       "└────────────┴───────┴────────┴─────────────────────────────────┘"
      ]
     },
     "execution_count": 218,
     "metadata": {},
     "output_type": "execute_result"
    }
   ],
   "source": [
    "# For each pokemon, show the top 3 pokemon by attack of the same type\n",
    "\n",
    "pokemon.select(\n",
    "    'name', 'type1', 'attack',\n",
    "    top_3_attack_pokemon_same_type = pl.col('name').sort_by('attack', descending=True).head(3).over('type1', mapping_strategy='join')\n",
    ").head(5)"
   ]
  },
  {
   "cell_type": "code",
   "execution_count": 219,
   "metadata": {},
   "outputs": [
    {
     "data": {
      "text/html": [
       "<div><style>\n",
       ".dataframe > thead > tr > th,\n",
       ".dataframe > tbody > tr > td {\n",
       "  text-align: right;\n",
       "}\n",
       "</style>\n",
       "<small>shape: (6, 3)</small><table border=\"1\" class=\"dataframe\"><thead><tr><th>type1</th><th>top_3_attack</th><th>top_3_defense</th></tr><tr><td>str</td><td>str</td><td>str</td></tr></thead><tbody><tr><td>&quot;grass&quot;</td><td>&quot;Kartana&quot;</td><td>&quot;Ferrothorn&quot;</td></tr><tr><td>&quot;grass&quot;</td><td>&quot;Abomasnow&quot;</td><td>&quot;Kartana&quot;</td></tr><tr><td>&quot;grass&quot;</td><td>&quot;Breloom&quot;</td><td>&quot;Leafeon&quot;</td></tr><tr><td>&quot;fire&quot;</td><td>&quot;Blaziken&quot;</td><td>&quot;Torkoal&quot;</td></tr><tr><td>&quot;fire&quot;</td><td>&quot;Flareon&quot;</td><td>&quot;Turtonator&quot;</td></tr><tr><td>&quot;fire&quot;</td><td>&quot;Ho-Oh&quot;</td><td>&quot;Magcargo&quot;</td></tr></tbody></table></div>"
      ],
      "text/plain": [
       "shape: (6, 3)\n",
       "┌───────┬──────────────┬───────────────┐\n",
       "│ type1 ┆ top_3_attack ┆ top_3_defense │\n",
       "│ ---   ┆ ---          ┆ ---           │\n",
       "│ str   ┆ str          ┆ str           │\n",
       "╞═══════╪══════════════╪═══════════════╡\n",
       "│ grass ┆ Kartana      ┆ Ferrothorn    │\n",
       "│ grass ┆ Abomasnow    ┆ Kartana       │\n",
       "│ grass ┆ Breloom      ┆ Leafeon       │\n",
       "│ fire  ┆ Blaziken     ┆ Torkoal       │\n",
       "│ fire  ┆ Flareon      ┆ Turtonator    │\n",
       "│ fire  ┆ Ho-Oh        ┆ Magcargo      │\n",
       "└───────┴──────────────┴───────────────┘"
      ]
     },
     "execution_count": 219,
     "metadata": {},
     "output_type": "execute_result"
    }
   ],
   "source": [
    "# Show top 3 pokemon by attack and defense\n",
    "\n",
    "pokemon.select(\n",
    "    pl.col('type1').head(3).over('type1', mapping_strategy='explode'),\n",
    "    # flatten changes 2D lists (each row has a list of 3 pokemons) to 1D array (each pokemon in a separate row)\n",
    "    top_3_attack = pl.col('name').sort_by('attack', descending=True).head(3).over('type1', mapping_strategy='explode'), \n",
    "    top_3_defense = pl.col('name').sort_by('defense', descending=True).head(3).over('type1', mapping_strategy='explode')\n",
    ").head(6)"
   ]
  },
  {
   "cell_type": "code",
   "execution_count": 220,
   "metadata": {},
   "outputs": [
    {
     "data": {
      "text/html": [
       "<div><style>\n",
       ".dataframe > thead > tr > th,\n",
       ".dataframe > tbody > tr > td {\n",
       "  text-align: right;\n",
       "}\n",
       "</style>\n",
       "<small>shape: (6, 6)</small><table border=\"1\" class=\"dataframe\"><thead><tr><th>name</th><th>type1</th><th>attack</th><th>defense</th><th>attack_rank</th><th>defense_rank</th></tr><tr><td>str</td><td>str</td><td>i64</td><td>i64</td><td>u32</td><td>u32</td></tr></thead><tbody><tr><td>&quot;Bulbasaur&quot;</td><td>&quot;grass&quot;</td><td>49</td><td>49</td><td>61</td><td>62</td></tr><tr><td>&quot;Ivysaur&quot;</td><td>&quot;grass&quot;</td><td>62</td><td>63</td><td>45</td><td>45</td></tr><tr><td>&quot;Venusaur&quot;</td><td>&quot;grass&quot;</td><td>100</td><td>123</td><td>16</td><td>5</td></tr><tr><td>&quot;Charmander&quot;</td><td>&quot;fire&quot;</td><td>52</td><td>43</td><td>45</td><td>44</td></tr><tr><td>&quot;Charmeleon&quot;</td><td>&quot;fire&quot;</td><td>64</td><td>58</td><td>37</td><td>29</td></tr><tr><td>&quot;Charizard&quot;</td><td>&quot;fire&quot;</td><td>104</td><td>78</td><td>10</td><td>14</td></tr></tbody></table></div>"
      ],
      "text/plain": [
       "shape: (6, 6)\n",
       "┌────────────┬───────┬────────┬─────────┬─────────────┬──────────────┐\n",
       "│ name       ┆ type1 ┆ attack ┆ defense ┆ attack_rank ┆ defense_rank │\n",
       "│ ---        ┆ ---   ┆ ---    ┆ ---     ┆ ---         ┆ ---          │\n",
       "│ str        ┆ str   ┆ i64    ┆ i64     ┆ u32         ┆ u32          │\n",
       "╞════════════╪═══════╪════════╪═════════╪═════════════╪══════════════╡\n",
       "│ Bulbasaur  ┆ grass ┆ 49     ┆ 49      ┆ 61          ┆ 62           │\n",
       "│ Ivysaur    ┆ grass ┆ 62     ┆ 63      ┆ 45          ┆ 45           │\n",
       "│ Venusaur   ┆ grass ┆ 100    ┆ 123     ┆ 16          ┆ 5            │\n",
       "│ Charmander ┆ fire  ┆ 52     ┆ 43      ┆ 45          ┆ 44           │\n",
       "│ Charmeleon ┆ fire  ┆ 64     ┆ 58      ┆ 37          ┆ 29           │\n",
       "│ Charizard  ┆ fire  ┆ 104    ┆ 78      ┆ 10          ┆ 14           │\n",
       "└────────────┴───────┴────────┴─────────┴─────────────┴──────────────┘"
      ]
     },
     "execution_count": 220,
     "metadata": {},
     "output_type": "execute_result"
    }
   ],
   "source": [
    "# Rank the pokemon by attack and defense by type\n",
    "\n",
    "pokemon.select(\n",
    "    'name', 'type1', 'attack', 'defense',\n",
    "    attack_rank = pl.col('attack').rank(method='ordinal', descending=True).over('type1'),\n",
    "    defense_rank = pl.col('defense').rank(method='ordinal', descending=True).over('type1')\n",
    ").head(6)"
   ]
  },
  {
   "attachments": {},
   "cell_type": "markdown",
   "metadata": {},
   "source": [
    "#### Range function"
   ]
  },
  {
   "cell_type": "code",
   "execution_count": 221,
   "metadata": {},
   "outputs": [
    {
     "data": {
      "text/html": [
       "<div><style>\n",
       ".dataframe > thead > tr > th,\n",
       ".dataframe > tbody > tr > td {\n",
       "  text-align: right;\n",
       "}\n",
       "</style>\n",
       "<small>shape: (6, 5)</small><table border=\"1\" class=\"dataframe\"><thead><tr><th>name</th><th>type1</th><th>attack</th><th>defense</th><th>type_index</th></tr><tr><td>str</td><td>str</td><td>i64</td><td>i64</td><td>i64</td></tr></thead><tbody><tr><td>&quot;Bulbasaur&quot;</td><td>&quot;grass&quot;</td><td>49</td><td>49</td><td>1</td></tr><tr><td>&quot;Ivysaur&quot;</td><td>&quot;grass&quot;</td><td>62</td><td>63</td><td>2</td></tr><tr><td>&quot;Venusaur&quot;</td><td>&quot;grass&quot;</td><td>100</td><td>123</td><td>3</td></tr><tr><td>&quot;Charmander&quot;</td><td>&quot;fire&quot;</td><td>52</td><td>43</td><td>1</td></tr><tr><td>&quot;Charmeleon&quot;</td><td>&quot;fire&quot;</td><td>64</td><td>58</td><td>2</td></tr><tr><td>&quot;Charizard&quot;</td><td>&quot;fire&quot;</td><td>104</td><td>78</td><td>3</td></tr></tbody></table></div>"
      ],
      "text/plain": [
       "shape: (6, 5)\n",
       "┌────────────┬───────┬────────┬─────────┬────────────┐\n",
       "│ name       ┆ type1 ┆ attack ┆ defense ┆ type_index │\n",
       "│ ---        ┆ ---   ┆ ---    ┆ ---     ┆ ---        │\n",
       "│ str        ┆ str   ┆ i64    ┆ i64     ┆ i64        │\n",
       "╞════════════╪═══════╪════════╪═════════╪════════════╡\n",
       "│ Bulbasaur  ┆ grass ┆ 49     ┆ 49      ┆ 1          │\n",
       "│ Ivysaur    ┆ grass ┆ 62     ┆ 63      ┆ 2          │\n",
       "│ Venusaur   ┆ grass ┆ 100    ┆ 123     ┆ 3          │\n",
       "│ Charmander ┆ fire  ┆ 52     ┆ 43      ┆ 1          │\n",
       "│ Charmeleon ┆ fire  ┆ 64     ┆ 58      ┆ 2          │\n",
       "│ Charizard  ┆ fire  ┆ 104    ┆ 78      ┆ 3          │\n",
       "└────────────┴───────┴────────┴─────────┴────────────┘"
      ]
     },
     "execution_count": 221,
     "metadata": {},
     "output_type": "execute_result"
    }
   ],
   "source": [
    "# Add an increasing index for the pokemon of each type\n",
    "\n",
    "pokemon.select(\n",
    "    'name', 'type1', 'attack', 'defense',\n",
    "    type_index = pl.arange(1, pl.count()+1).over('type1')\n",
    ").head(6)"
   ]
  },
  {
   "cell_type": "code",
   "execution_count": 222,
   "metadata": {},
   "outputs": [
    {
     "data": {
      "text/html": [
       "<div><style>\n",
       ".dataframe > thead > tr > th,\n",
       ".dataframe > tbody > tr > td {\n",
       "  text-align: right;\n",
       "}\n",
       "</style>\n",
       "<small>shape: (6, 9)</small><table border=\"1\" class=\"dataframe\"><thead><tr><th>name</th><th>type1</th><th>type2</th><th>abilities</th><th>hp</th><th>attack</th><th>defense</th><th>speed</th><th>is_legendary</th></tr><tr><td>str</td><td>str</td><td>str</td><td>list[str]</td><td>i64</td><td>i64</td><td>i64</td><td>i64</td><td>i64</td></tr></thead><tbody><tr><td>&quot;Kricketot&quot;</td><td>&quot;bug&quot;</td><td>null</td><td>[&quot;Shed Skin&quot;, &quot;Run Away&quot;]</td><td>37</td><td>25</td><td>41</td><td>25</td><td>0</td></tr><tr><td>&quot;Swadloon&quot;</td><td>&quot;bug&quot;</td><td>&quot;grass&quot;</td><td>[&quot;Leaf Guard&quot;, &quot;Chlorophyll&quot;, &quot;Overcoat&quot;]</td><td>55</td><td>63</td><td>90</td><td>42</td><td>0</td></tr><tr><td>&quot;Vivillon&quot;</td><td>&quot;bug&quot;</td><td>&quot;flying&quot;</td><td>[&quot;Shield Dust&quot;, &quot;Compoundeyes&quot;, &quot;Friend Guard&quot;]</td><td>80</td><td>52</td><td>50</td><td>89</td><td>0</td></tr><tr><td>&quot;Zorua&quot;</td><td>&quot;dark&quot;</td><td>null</td><td>[&quot;Illusion&quot;]</td><td>40</td><td>65</td><td>40</td><td>65</td><td>0</td></tr><tr><td>&quot;Pawniard&quot;</td><td>&quot;dark&quot;</td><td>&quot;steel&quot;</td><td>[&quot;Defiant&quot;, &quot;Inner Focus&quot;, &quot;Pressure&quot;]</td><td>45</td><td>85</td><td>70</td><td>60</td><td>0</td></tr><tr><td>&quot;Inkay&quot;</td><td>&quot;dark&quot;</td><td>&quot;psychic&quot;</td><td>[&quot;Contrary&quot;, &quot;Suction Cups&quot;, &quot;Infiltrator&quot;]</td><td>53</td><td>54</td><td>53</td><td>45</td><td>0</td></tr></tbody></table></div>"
      ],
      "text/plain": [
       "shape: (6, 9)\n",
       "┌───────────┬───────┬─────────┬──────────────────────┬───┬────────┬─────────┬───────┬──────────────┐\n",
       "│ name      ┆ type1 ┆ type2   ┆ abilities            ┆ … ┆ attack ┆ defense ┆ speed ┆ is_legendary │\n",
       "│ ---       ┆ ---   ┆ ---     ┆ ---                  ┆   ┆ ---    ┆ ---     ┆ ---   ┆ ---          │\n",
       "│ str       ┆ str   ┆ str     ┆ list[str]            ┆   ┆ i64    ┆ i64     ┆ i64   ┆ i64          │\n",
       "╞═══════════╪═══════╪═════════╪══════════════════════╪═══╪════════╪═════════╪═══════╪══════════════╡\n",
       "│ Kricketot ┆ bug   ┆ null    ┆ [\"Shed Skin\", \"Run   ┆ … ┆ 25     ┆ 41      ┆ 25    ┆ 0            │\n",
       "│           ┆       ┆         ┆ Away\"]               ┆   ┆        ┆         ┆       ┆              │\n",
       "│ Swadloon  ┆ bug   ┆ grass   ┆ [\"Leaf Guard\",       ┆ … ┆ 63     ┆ 90      ┆ 42    ┆ 0            │\n",
       "│           ┆       ┆         ┆ \"Chlorophyll\", …     ┆   ┆        ┆         ┆       ┆              │\n",
       "│ Vivillon  ┆ bug   ┆ flying  ┆ [\"Shield Dust\",      ┆ … ┆ 52     ┆ 50      ┆ 89    ┆ 0            │\n",
       "│           ┆       ┆         ┆ \"Compoundeyes\"…      ┆   ┆        ┆         ┆       ┆              │\n",
       "│ Zorua     ┆ dark  ┆ null    ┆ [\"Illusion\"]         ┆ … ┆ 65     ┆ 40      ┆ 65    ┆ 0            │\n",
       "│ Pawniard  ┆ dark  ┆ steel   ┆ [\"Defiant\", \"Inner   ┆ … ┆ 85     ┆ 70      ┆ 60    ┆ 0            │\n",
       "│           ┆       ┆         ┆ Focus\", \"Pr…         ┆   ┆        ┆         ┆       ┆              │\n",
       "│ Inkay     ┆ dark  ┆ psychic ┆ [\"Contrary\",         ┆ … ┆ 54     ┆ 53      ┆ 45    ┆ 0            │\n",
       "│           ┆       ┆         ┆ \"Suction Cups\", \"…   ┆   ┆        ┆         ┆       ┆              │\n",
       "└───────────┴───────┴─────────┴──────────────────────┴───┴────────┴─────────┴───────┴──────────────┘"
      ]
     },
     "execution_count": 222,
     "metadata": {},
     "output_type": "execute_result"
    }
   ],
   "source": [
    "# Take a random sample of 3 pokemons for each group\n",
    "\n",
    "pokemon.filter(\n",
    "    pl.arange(1, pl.count()+1).shuffle().over(\"type1\") <= 3\n",
    ").sort(by='type1').head(6)"
   ]
  },
  {
   "cell_type": "code",
   "execution_count": 223,
   "metadata": {},
   "outputs": [
    {
     "data": {
      "text/html": [
       "<div><style>\n",
       ".dataframe > thead > tr > th,\n",
       ".dataframe > tbody > tr > td {\n",
       "  text-align: right;\n",
       "}\n",
       "</style>\n",
       "<small>shape: (6, 9)</small><table border=\"1\" class=\"dataframe\"><thead><tr><th>name</th><th>type1</th><th>type2</th><th>abilities</th><th>hp</th><th>attack</th><th>defense</th><th>speed</th><th>is_legendary</th></tr><tr><td>str</td><td>str</td><td>str</td><td>list[str]</td><td>i64</td><td>i64</td><td>i64</td><td>i64</td><td>i64</td></tr></thead><tbody><tr><td>&quot;Paras&quot;</td><td>&quot;bug&quot;</td><td>&quot;grass&quot;</td><td>[&quot;Effect Spore&quot;, &quot;Dry Skin&quot;, &quot;Damp&quot;]</td><td>35</td><td>70</td><td>55</td><td>25</td><td>0</td></tr><tr><td>&quot;Vespiquen&quot;</td><td>&quot;bug&quot;</td><td>&quot;flying&quot;</td><td>[&quot;Pressure&quot;, &quot;Unnerve&quot;]</td><td>70</td><td>80</td><td>102</td><td>40</td><td>0</td></tr><tr><td>&quot;Whirlipede&quot;</td><td>&quot;bug&quot;</td><td>&quot;poison&quot;</td><td>[&quot;Poison Point&quot;, &quot;Swarm&quot;, &quot;Speed Boost&quot;]</td><td>40</td><td>55</td><td>99</td><td>47</td><td>0</td></tr><tr><td>&quot;Murkrow&quot;</td><td>&quot;dark&quot;</td><td>&quot;flying&quot;</td><td>[&quot;Insomnia&quot;, &quot;Super Luck&quot;, &quot;Prankster&quot;]</td><td>60</td><td>85</td><td>42</td><td>91</td><td>0</td></tr><tr><td>&quot;Dragonair&quot;</td><td>&quot;dragon&quot;</td><td>null</td><td>[&quot;Shed Skin&quot;, &quot;Marvel Scale&quot;]</td><td>61</td><td>84</td><td>65</td><td>70</td><td>0</td></tr><tr><td>&quot;Zapdos&quot;</td><td>&quot;electric&quot;</td><td>&quot;flying&quot;</td><td>[&quot;Pressure&quot;, &quot;Static&quot;]</td><td>90</td><td>90</td><td>85</td><td>100</td><td>1</td></tr></tbody></table></div>"
      ],
      "text/plain": [
       "shape: (6, 9)\n",
       "┌────────────┬──────────┬────────┬───────────────────┬───┬────────┬─────────┬───────┬──────────────┐\n",
       "│ name       ┆ type1    ┆ type2  ┆ abilities         ┆ … ┆ attack ┆ defense ┆ speed ┆ is_legendary │\n",
       "│ ---        ┆ ---      ┆ ---    ┆ ---               ┆   ┆ ---    ┆ ---     ┆ ---   ┆ ---          │\n",
       "│ str        ┆ str      ┆ str    ┆ list[str]         ┆   ┆ i64    ┆ i64     ┆ i64   ┆ i64          │\n",
       "╞════════════╪══════════╪════════╪═══════════════════╪═══╪════════╪═════════╪═══════╪══════════════╡\n",
       "│ Paras      ┆ bug      ┆ grass  ┆ [\"Effect Spore\",  ┆ … ┆ 70     ┆ 55      ┆ 25    ┆ 0            │\n",
       "│            ┆          ┆        ┆ \"Dry Skin\", \"…    ┆   ┆        ┆         ┆       ┆              │\n",
       "│ Vespiquen  ┆ bug      ┆ flying ┆ [\"Pressure\",      ┆ … ┆ 80     ┆ 102     ┆ 40    ┆ 0            │\n",
       "│            ┆          ┆        ┆ \"Unnerve\"]        ┆   ┆        ┆         ┆       ┆              │\n",
       "│ Whirlipede ┆ bug      ┆ poison ┆ [\"Poison Point\",  ┆ … ┆ 55     ┆ 99      ┆ 47    ┆ 0            │\n",
       "│            ┆          ┆        ┆ \"Swarm\", \"Spe…    ┆   ┆        ┆         ┆       ┆              │\n",
       "│ Murkrow    ┆ dark     ┆ flying ┆ [\"Insomnia\",      ┆ … ┆ 85     ┆ 42      ┆ 91    ┆ 0            │\n",
       "│            ┆          ┆        ┆ \"Super Luck\",     ┆   ┆        ┆         ┆       ┆              │\n",
       "│            ┆          ┆        ┆ \"Pr…              ┆   ┆        ┆         ┆       ┆              │\n",
       "│ Dragonair  ┆ dragon   ┆ null   ┆ [\"Shed Skin\",     ┆ … ┆ 84     ┆ 65      ┆ 70    ┆ 0            │\n",
       "│            ┆          ┆        ┆ \"Marvel Scale\"]   ┆   ┆        ┆         ┆       ┆              │\n",
       "│ Zapdos     ┆ electric ┆ flying ┆ [\"Pressure\",      ┆ … ┆ 90     ┆ 85      ┆ 100   ┆ 1            │\n",
       "│            ┆          ┆        ┆ \"Static\"]         ┆   ┆        ┆         ┆       ┆              │\n",
       "└────────────┴──────────┴────────┴───────────────────┴───┴────────┴─────────┴───────┴──────────────┘"
      ]
     },
     "execution_count": 223,
     "metadata": {},
     "output_type": "execute_result"
    }
   ],
   "source": [
    "# Take a random sample of 5% of pokemons for each group\n",
    "\n",
    "pokemon.filter(\n",
    "    pl.arange(1, pl.count() + 1).shuffle().over(\"type1\") <= pl.count().over(\"type1\") * 0.05\n",
    ").sort(by=\"type1\").head(6)"
   ]
  },
  {
   "cell_type": "code",
   "execution_count": 224,
   "metadata": {},
   "outputs": [
    {
     "data": {
      "text/html": [
       "<div><style>\n",
       ".dataframe > thead > tr > th,\n",
       ".dataframe > tbody > tr > td {\n",
       "  text-align: right;\n",
       "}\n",
       "</style>\n",
       "<small>shape: (5, 9)</small><table border=\"1\" class=\"dataframe\"><thead><tr><th>name</th><th>type1</th><th>type2</th><th>abilities</th><th>hp</th><th>attack</th><th>defense</th><th>speed</th><th>is_legendary</th></tr><tr><td>str</td><td>str</td><td>str</td><td>list[str]</td><td>i64</td><td>i64</td><td>i64</td><td>i64</td><td>i64</td></tr></thead><tbody><tr><td>&quot;Kakuna&quot;</td><td>&quot;bug&quot;</td><td>&quot;poison&quot;</td><td>[&quot;Shed Skin&quot;]</td><td>45</td><td>25</td><td>50</td><td>35</td><td>0</td></tr><tr><td>&quot;Raticate&quot;</td><td>&quot;normal&quot;</td><td>&quot;dark&quot;</td><td>[&quot;Run Away&quot;, &quot;Guts&quot;, … &quot;Thick Fat&quot;]</td><td>75</td><td>71</td><td>70</td><td>77</td><td>0</td></tr><tr><td>&quot;Nidoqueen&quot;</td><td>&quot;poison&quot;</td><td>&quot;ground&quot;</td><td>[&quot;Poison Point&quot;, &quot;Rivalry&quot;, &quot;Sheer Force&quot;]</td><td>90</td><td>92</td><td>87</td><td>76</td><td>0</td></tr><tr><td>&quot;Ninetales&quot;</td><td>&quot;fire&quot;</td><td>&quot;ice&quot;</td><td>[&quot;Flash Fire&quot;, &quot;Drought&quot;, … &quot;Snow Warning&quot;]</td><td>73</td><td>67</td><td>75</td><td>109</td><td>0</td></tr><tr><td>&quot;Gloom&quot;</td><td>&quot;grass&quot;</td><td>&quot;poison&quot;</td><td>[&quot;Chlorophyll&quot;, &quot;Stench&quot;]</td><td>60</td><td>65</td><td>70</td><td>40</td><td>0</td></tr></tbody></table></div>"
      ],
      "text/plain": [
       "shape: (5, 9)\n",
       "┌───────────┬────────┬────────┬──────────────────────┬───┬────────┬─────────┬───────┬──────────────┐\n",
       "│ name      ┆ type1  ┆ type2  ┆ abilities            ┆ … ┆ attack ┆ defense ┆ speed ┆ is_legendary │\n",
       "│ ---       ┆ ---    ┆ ---    ┆ ---                  ┆   ┆ ---    ┆ ---     ┆ ---   ┆ ---          │\n",
       "│ str       ┆ str    ┆ str    ┆ list[str]            ┆   ┆ i64    ┆ i64     ┆ i64   ┆ i64          │\n",
       "╞═══════════╪════════╪════════╪══════════════════════╪═══╪════════╪═════════╪═══════╪══════════════╡\n",
       "│ Kakuna    ┆ bug    ┆ poison ┆ [\"Shed Skin\"]        ┆ … ┆ 25     ┆ 50      ┆ 35    ┆ 0            │\n",
       "│ Raticate  ┆ normal ┆ dark   ┆ [\"Run Away\", \"Guts\", ┆ … ┆ 71     ┆ 70      ┆ 77    ┆ 0            │\n",
       "│           ┆        ┆        ┆ … \"Thick …           ┆   ┆        ┆         ┆       ┆              │\n",
       "│ Nidoqueen ┆ poison ┆ ground ┆ [\"Poison Point\",     ┆ … ┆ 92     ┆ 87      ┆ 76    ┆ 0            │\n",
       "│           ┆        ┆        ┆ \"Rivalry\", \"S…       ┆   ┆        ┆         ┆       ┆              │\n",
       "│ Ninetales ┆ fire   ┆ ice    ┆ [\"Flash Fire\",       ┆ … ┆ 67     ┆ 75      ┆ 109   ┆ 0            │\n",
       "│           ┆        ┆        ┆ \"Drought\", … \"S…     ┆   ┆        ┆         ┆       ┆              │\n",
       "│ Gloom     ┆ grass  ┆ poison ┆ [\"Chlorophyll\",      ┆ … ┆ 65     ┆ 70      ┆ 40    ┆ 0            │\n",
       "│           ┆        ┆        ┆ \"Stench\"]            ┆   ┆        ┆         ┆       ┆              │\n",
       "└───────────┴────────┴────────┴──────────────────────┴───┴────────┴─────────┴───────┴──────────────┘"
      ]
     },
     "execution_count": 224,
     "metadata": {},
     "output_type": "execute_result"
    }
   ],
   "source": [
    "# Get the 5th pokemon for each group\n",
    "\n",
    "pokemon.filter(\n",
    "    pl.arange(1, pl.count() + 1).over(\"type1\") == 5\n",
    ").head(5)"
   ]
  },
  {
   "attachments": {},
   "cell_type": "markdown",
   "metadata": {},
   "source": [
    "#### Binning functions: Cut and Qcut"
   ]
  },
  {
   "cell_type": "code",
   "execution_count": 225,
   "metadata": {},
   "outputs": [
    {
     "data": {
      "text/html": [
       "<div><style>\n",
       ".dataframe > thead > tr > th,\n",
       ".dataframe > tbody > tr > td {\n",
       "  text-align: right;\n",
       "}\n",
       "</style>\n",
       "<small>shape: (5, 3)</small><table border=\"1\" class=\"dataframe\"><thead><tr><th>attack</th><th>break_point</th><th>category</th></tr><tr><td>f64</td><td>f64</td><td>cat</td></tr></thead><tbody><tr><td>49.0</td><td>50.0</td><td>&quot;weak&quot;</td></tr><tr><td>62.0</td><td>100.0</td><td>&quot;medium&quot;</td></tr><tr><td>100.0</td><td>100.0</td><td>&quot;medium&quot;</td></tr><tr><td>52.0</td><td>100.0</td><td>&quot;medium&quot;</td></tr><tr><td>64.0</td><td>100.0</td><td>&quot;medium&quot;</td></tr></tbody></table></div>"
      ],
      "text/plain": [
       "shape: (5, 3)\n",
       "┌────────┬─────────────┬──────────┐\n",
       "│ attack ┆ break_point ┆ category │\n",
       "│ ---    ┆ ---         ┆ ---      │\n",
       "│ f64    ┆ f64         ┆ cat      │\n",
       "╞════════╪═════════════╪══════════╡\n",
       "│ 49.0   ┆ 50.0        ┆ weak     │\n",
       "│ 62.0   ┆ 100.0       ┆ medium   │\n",
       "│ 100.0  ┆ 100.0       ┆ medium   │\n",
       "│ 52.0   ┆ 100.0       ┆ medium   │\n",
       "│ 64.0   ┆ 100.0       ┆ medium   │\n",
       "└────────┴─────────────┴──────────┘"
      ]
     },
     "execution_count": 225,
     "metadata": {},
     "output_type": "execute_result"
    }
   ],
   "source": [
    "# Bin the attack column into 3 bins\n",
    "# <= 50 - weak, <= 100 - medium, > 100 - strong\n",
    "\n",
    "pokemon.get_column('attack').cut([50, 100], labels=['weak', 'medium', 'strong'], maintain_order=True).head(5)"
   ]
  },
  {
   "cell_type": "code",
   "execution_count": 226,
   "metadata": {},
   "outputs": [
    {
     "data": {
      "text/html": [
       "<div><style>\n",
       ".dataframe > thead > tr > th,\n",
       ".dataframe > tbody > tr > td {\n",
       "  text-align: right;\n",
       "}\n",
       "</style>\n",
       "<small>shape: (6, 10)</small><table border=\"1\" class=\"dataframe\"><thead><tr><th>name</th><th>type1</th><th>type2</th><th>abilities</th><th>hp</th><th>attack</th><th>defense</th><th>speed</th><th>is_legendary</th><th>category</th></tr><tr><td>str</td><td>str</td><td>str</td><td>list[str]</td><td>i64</td><td>i64</td><td>i64</td><td>i64</td><td>i64</td><td>cat</td></tr></thead><tbody><tr><td>&quot;Bulbasaur&quot;</td><td>&quot;grass&quot;</td><td>&quot;poison&quot;</td><td>[&quot;Overgrow&quot;, &quot;Chlorophyll&quot;]</td><td>45</td><td>49</td><td>49</td><td>45</td><td>0</td><td>&quot;weak&quot;</td></tr><tr><td>&quot;Ivysaur&quot;</td><td>&quot;grass&quot;</td><td>&quot;poison&quot;</td><td>[&quot;Overgrow&quot;, &quot;Chlorophyll&quot;]</td><td>60</td><td>62</td><td>63</td><td>60</td><td>0</td><td>&quot;medium&quot;</td></tr><tr><td>&quot;Venusaur&quot;</td><td>&quot;grass&quot;</td><td>&quot;poison&quot;</td><td>[&quot;Overgrow&quot;, &quot;Chlorophyll&quot;]</td><td>80</td><td>100</td><td>123</td><td>80</td><td>0</td><td>&quot;medium&quot;</td></tr><tr><td>&quot;Charmander&quot;</td><td>&quot;fire&quot;</td><td>null</td><td>[&quot;Blaze&quot;, &quot;Solar Power&quot;]</td><td>39</td><td>52</td><td>43</td><td>65</td><td>0</td><td>&quot;medium&quot;</td></tr><tr><td>&quot;Charmeleon&quot;</td><td>&quot;fire&quot;</td><td>null</td><td>[&quot;Blaze&quot;, &quot;Solar Power&quot;]</td><td>58</td><td>64</td><td>58</td><td>80</td><td>0</td><td>&quot;medium&quot;</td></tr><tr><td>&quot;Charizard&quot;</td><td>&quot;fire&quot;</td><td>&quot;flying&quot;</td><td>[&quot;Blaze&quot;, &quot;Solar Power&quot;]</td><td>78</td><td>104</td><td>78</td><td>100</td><td>0</td><td>&quot;strong&quot;</td></tr></tbody></table></div>"
      ],
      "text/plain": [
       "shape: (6, 10)\n",
       "┌────────────┬───────┬────────┬────────────────────┬───┬─────────┬───────┬──────────────┬──────────┐\n",
       "│ name       ┆ type1 ┆ type2  ┆ abilities          ┆ … ┆ defense ┆ speed ┆ is_legendary ┆ category │\n",
       "│ ---        ┆ ---   ┆ ---    ┆ ---                ┆   ┆ ---     ┆ ---   ┆ ---          ┆ ---      │\n",
       "│ str        ┆ str   ┆ str    ┆ list[str]          ┆   ┆ i64     ┆ i64   ┆ i64          ┆ cat      │\n",
       "╞════════════╪═══════╪════════╪════════════════════╪═══╪═════════╪═══════╪══════════════╪══════════╡\n",
       "│ Bulbasaur  ┆ grass ┆ poison ┆ [\"Overgrow\",       ┆ … ┆ 49      ┆ 45    ┆ 0            ┆ weak     │\n",
       "│            ┆       ┆        ┆ \"Chlorophyll\"]     ┆   ┆         ┆       ┆              ┆          │\n",
       "│ Ivysaur    ┆ grass ┆ poison ┆ [\"Overgrow\",       ┆ … ┆ 63      ┆ 60    ┆ 0            ┆ medium   │\n",
       "│            ┆       ┆        ┆ \"Chlorophyll\"]     ┆   ┆         ┆       ┆              ┆          │\n",
       "│ Venusaur   ┆ grass ┆ poison ┆ [\"Overgrow\",       ┆ … ┆ 123     ┆ 80    ┆ 0            ┆ medium   │\n",
       "│            ┆       ┆        ┆ \"Chlorophyll\"]     ┆   ┆         ┆       ┆              ┆          │\n",
       "│ Charmander ┆ fire  ┆ null   ┆ [\"Blaze\", \"Solar   ┆ … ┆ 43      ┆ 65    ┆ 0            ┆ medium   │\n",
       "│            ┆       ┆        ┆ Power\"]            ┆   ┆         ┆       ┆              ┆          │\n",
       "│ Charmeleon ┆ fire  ┆ null   ┆ [\"Blaze\", \"Solar   ┆ … ┆ 58      ┆ 80    ┆ 0            ┆ medium   │\n",
       "│            ┆       ┆        ┆ Power\"]            ┆   ┆         ┆       ┆              ┆          │\n",
       "│ Charizard  ┆ fire  ┆ flying ┆ [\"Blaze\", \"Solar   ┆ … ┆ 78      ┆ 100   ┆ 0            ┆ strong   │\n",
       "│            ┆       ┆        ┆ Power\"]            ┆   ┆         ┆       ┆              ┆          │\n",
       "└────────────┴───────┴────────┴────────────────────┴───┴─────────┴───────┴──────────────┴──────────┘"
      ]
     },
     "execution_count": 226,
     "metadata": {},
     "output_type": "execute_result"
    }
   ],
   "source": [
    "# Assigns the pokemon a category based on their attack stats:\n",
    "# <= 50 - weak, <= 100 - medium, > 100 - strong\n",
    "\n",
    "pokemon.with_columns(\n",
    "    'name', 'type1', 'attack',\n",
    "    pokemon.get_column('attack').cut([50, 100], labels=['weak', 'medium', 'strong'], maintain_order=True).get_column('category')\n",
    ").head(6)"
   ]
  },
  {
   "cell_type": "code",
   "execution_count": 227,
   "metadata": {},
   "outputs": [
    {
     "data": {
      "text/html": [
       "<div><style>\n",
       ".dataframe > thead > tr > th,\n",
       ".dataframe > tbody > tr > td {\n",
       "  text-align: right;\n",
       "}\n",
       "</style>\n",
       "<small>shape: (6, 10)</small><table border=\"1\" class=\"dataframe\"><thead><tr><th>name</th><th>type1</th><th>type2</th><th>abilities</th><th>hp</th><th>attack</th><th>defense</th><th>speed</th><th>is_legendary</th><th>category</th></tr><tr><td>str</td><td>str</td><td>str</td><td>list[str]</td><td>i64</td><td>i64</td><td>i64</td><td>i64</td><td>i64</td><td>cat</td></tr></thead><tbody><tr><td>&quot;Bulbasaur&quot;</td><td>&quot;grass&quot;</td><td>&quot;poison&quot;</td><td>[&quot;Overgrow&quot;, &quot;Chlorophyll&quot;]</td><td>45</td><td>49</td><td>49</td><td>45</td><td>0</td><td>&quot;weak&quot;</td></tr><tr><td>&quot;Ivysaur&quot;</td><td>&quot;grass&quot;</td><td>&quot;poison&quot;</td><td>[&quot;Overgrow&quot;, &quot;Chlorophyll&quot;]</td><td>60</td><td>62</td><td>63</td><td>60</td><td>0</td><td>&quot;weak&quot;</td></tr><tr><td>&quot;Venusaur&quot;</td><td>&quot;grass&quot;</td><td>&quot;poison&quot;</td><td>[&quot;Overgrow&quot;, &quot;Chlorophyll&quot;]</td><td>80</td><td>100</td><td>123</td><td>80</td><td>0</td><td>&quot;medium&quot;</td></tr><tr><td>&quot;Charmander&quot;</td><td>&quot;fire&quot;</td><td>null</td><td>[&quot;Blaze&quot;, &quot;Solar Power&quot;]</td><td>39</td><td>52</td><td>43</td><td>65</td><td>0</td><td>&quot;weak&quot;</td></tr><tr><td>&quot;Charmeleon&quot;</td><td>&quot;fire&quot;</td><td>null</td><td>[&quot;Blaze&quot;, &quot;Solar Power&quot;]</td><td>58</td><td>64</td><td>58</td><td>80</td><td>0</td><td>&quot;weak&quot;</td></tr><tr><td>&quot;Charizard&quot;</td><td>&quot;fire&quot;</td><td>&quot;flying&quot;</td><td>[&quot;Blaze&quot;, &quot;Solar Power&quot;]</td><td>78</td><td>104</td><td>78</td><td>100</td><td>0</td><td>&quot;medium&quot;</td></tr></tbody></table></div>"
      ],
      "text/plain": [
       "shape: (6, 10)\n",
       "┌────────────┬───────┬────────┬────────────────────┬───┬─────────┬───────┬──────────────┬──────────┐\n",
       "│ name       ┆ type1 ┆ type2  ┆ abilities          ┆ … ┆ defense ┆ speed ┆ is_legendary ┆ category │\n",
       "│ ---        ┆ ---   ┆ ---    ┆ ---                ┆   ┆ ---     ┆ ---   ┆ ---          ┆ ---      │\n",
       "│ str        ┆ str   ┆ str    ┆ list[str]          ┆   ┆ i64     ┆ i64   ┆ i64          ┆ cat      │\n",
       "╞════════════╪═══════╪════════╪════════════════════╪═══╪═════════╪═══════╪══════════════╪══════════╡\n",
       "│ Bulbasaur  ┆ grass ┆ poison ┆ [\"Overgrow\",       ┆ … ┆ 49      ┆ 45    ┆ 0            ┆ weak     │\n",
       "│            ┆       ┆        ┆ \"Chlorophyll\"]     ┆   ┆         ┆       ┆              ┆          │\n",
       "│ Ivysaur    ┆ grass ┆ poison ┆ [\"Overgrow\",       ┆ … ┆ 63      ┆ 60    ┆ 0            ┆ weak     │\n",
       "│            ┆       ┆        ┆ \"Chlorophyll\"]     ┆   ┆         ┆       ┆              ┆          │\n",
       "│ Venusaur   ┆ grass ┆ poison ┆ [\"Overgrow\",       ┆ … ┆ 123     ┆ 80    ┆ 0            ┆ medium   │\n",
       "│            ┆       ┆        ┆ \"Chlorophyll\"]     ┆   ┆         ┆       ┆              ┆          │\n",
       "│ Charmander ┆ fire  ┆ null   ┆ [\"Blaze\", \"Solar   ┆ … ┆ 43      ┆ 65    ┆ 0            ┆ weak     │\n",
       "│            ┆       ┆        ┆ Power\"]            ┆   ┆         ┆       ┆              ┆          │\n",
       "│ Charmeleon ┆ fire  ┆ null   ┆ [\"Blaze\", \"Solar   ┆ … ┆ 58      ┆ 80    ┆ 0            ┆ weak     │\n",
       "│            ┆       ┆        ┆ Power\"]            ┆   ┆         ┆       ┆              ┆          │\n",
       "│ Charizard  ┆ fire  ┆ flying ┆ [\"Blaze\", \"Solar   ┆ … ┆ 78      ┆ 100   ┆ 0            ┆ medium   │\n",
       "│            ┆       ┆        ┆ Power\"]            ┆   ┆         ┆       ┆              ┆          │\n",
       "└────────────┴───────┴────────┴────────────────────┴───┴─────────┴───────┴──────────────┴──────────┘"
      ]
     },
     "execution_count": 227,
     "metadata": {},
     "output_type": "execute_result"
    }
   ],
   "source": [
    "# Assigns the pokemon a category based on their attack stats using percentiles:\n",
    "# bottom 40% - weak, top 20% - strong, rest - medium\n",
    "\n",
    "pokemon.with_columns(\n",
    "    'name', 'type1', 'attack',\n",
    "    pokemon.get_column('attack').qcut(quantiles=[0.4,0.8], labels=['weak', 'medium', 'strong'], maintain_order=True).get_column('category')\n",
    ").head(6)"
   ]
  },
  {
   "attachments": {},
   "cell_type": "markdown",
   "metadata": {},
   "source": [
    "#### Repeat"
   ]
  },
  {
   "cell_type": "code",
   "execution_count": 228,
   "metadata": {},
   "outputs": [
    {
     "data": {
      "text/html": [
       "<div><style>\n",
       ".dataframe > thead > tr > th,\n",
       ".dataframe > tbody > tr > td {\n",
       "  text-align: right;\n",
       "}\n",
       "</style>\n",
       "<small>shape: (6, 1)</small><table border=\"1\" class=\"dataframe\"><thead><tr><th>Fruit</th></tr><tr><td>str</td></tr></thead><tbody><tr><td>&quot;Apple&quot;</td></tr><tr><td>&quot;Banana&quot;</td></tr><tr><td>&quot;Banana&quot;</td></tr><tr><td>&quot;Banana&quot;</td></tr><tr><td>&quot;Cherry&quot;</td></tr><tr><td>&quot;Cherry&quot;</td></tr></tbody></table></div>"
      ],
      "text/plain": [
       "shape: (6, 1)\n",
       "┌────────┐\n",
       "│ Fruit  │\n",
       "│ ---    │\n",
       "│ str    │\n",
       "╞════════╡\n",
       "│ Apple  │\n",
       "│ Banana │\n",
       "│ Banana │\n",
       "│ Banana │\n",
       "│ Cherry │\n",
       "│ Cherry │\n",
       "└────────┘"
      ]
     },
     "execution_count": 228,
     "metadata": {},
     "output_type": "execute_result"
    }
   ],
   "source": [
    "# Use a different dataframe for this example\n",
    "# Based on a dataframe with 3 fruits and their order quantities\n",
    "# Repeat the fruit names based on their order quantities\n",
    "\n",
    "df = pl.DataFrame(\n",
    "    {\n",
    "        \"Fruit\": [\"Apple\", \"Banana\", \"Cherry\"],\n",
    "        \"Order_Quantity\": [1, 3, 2],\n",
    "    }\n",
    ")\n",
    "\n",
    "df.select(\n",
    "    pl.col('Fruit').repeat_by('Order_Quantity').flatten()\n",
    "    )"
   ]
  },
  {
   "attachments": {},
   "cell_type": "markdown",
   "metadata": {},
   "source": [
    "#### Explode, Implode and Flatten"
   ]
  },
  {
   "cell_type": "code",
   "execution_count": 229,
   "metadata": {},
   "outputs": [
    {
     "data": {
      "text/html": [
       "<div><style>\n",
       ".dataframe > thead > tr > th,\n",
       ".dataframe > tbody > tr > td {\n",
       "  text-align: right;\n",
       "}\n",
       "</style>\n",
       "<small>shape: (6, 1)</small><table border=\"1\" class=\"dataframe\"><thead><tr><th>abilities</th></tr><tr><td>str</td></tr></thead><tbody><tr><td>&quot;Overgrow&quot;</td></tr><tr><td>&quot;Chlorophyll&quot;</td></tr><tr><td>&quot;Overgrow&quot;</td></tr><tr><td>&quot;Chlorophyll&quot;</td></tr><tr><td>&quot;Overgrow&quot;</td></tr><tr><td>&quot;Chlorophyll&quot;</td></tr></tbody></table></div>"
      ],
      "text/plain": [
       "shape: (6, 1)\n",
       "┌─────────────┐\n",
       "│ abilities   │\n",
       "│ ---         │\n",
       "│ str         │\n",
       "╞═════════════╡\n",
       "│ Overgrow    │\n",
       "│ Chlorophyll │\n",
       "│ Overgrow    │\n",
       "│ Chlorophyll │\n",
       "│ Overgrow    │\n",
       "│ Chlorophyll │\n",
       "└─────────────┘"
      ]
     },
     "execution_count": 229,
     "metadata": {},
     "output_type": "execute_result"
    }
   ],
   "source": [
    "# Explode the list of pokemon abilities: from a column of list to a column of values\n",
    "# Point of attention when using explode: explode increases the number of rows\n",
    "# All columns in a Polars dataframe should have the same number of rows\n",
    "\n",
    "pokemon.head(3).select(\n",
    "    pl.col('abilities').explode()\n",
    ")"
   ]
  },
  {
   "cell_type": "code",
   "execution_count": 230,
   "metadata": {},
   "outputs": [
    {
     "data": {
      "text/html": [
       "<div><style>\n",
       ".dataframe > thead > tr > th,\n",
       ".dataframe > tbody > tr > td {\n",
       "  text-align: right;\n",
       "}\n",
       "</style>\n",
       "<small>shape: (1, 9)</small><table border=\"1\" class=\"dataframe\"><thead><tr><th>name</th><th>type1</th><th>type2</th><th>abilities</th><th>hp</th><th>attack</th><th>defense</th><th>speed</th><th>is_legendary</th></tr><tr><td>list[str]</td><td>list[str]</td><td>list[str]</td><td>list[list[str]]</td><td>list[i64]</td><td>list[i64]</td><td>list[i64]</td><td>list[i64]</td><td>list[i64]</td></tr></thead><tbody><tr><td>[&quot;Bulbasaur&quot;, &quot;Ivysaur&quot;, &quot;Venusaur&quot;]</td><td>[&quot;grass&quot;, &quot;grass&quot;, &quot;grass&quot;]</td><td>[&quot;poison&quot;, &quot;poison&quot;, &quot;poison&quot;]</td><td>[[&quot;Overgrow&quot;, &quot;Chlorophyll&quot;], [&quot;Overgrow&quot;, &quot;Chlorophyll&quot;], [&quot;Overgrow&quot;, &quot;Chlorophyll&quot;]]</td><td>[45, 60, 80]</td><td>[49, 62, 100]</td><td>[49, 63, 123]</td><td>[45, 60, 80]</td><td>[0, 0, 0]</td></tr></tbody></table></div>"
      ],
      "text/plain": [
       "shape: (1, 9)\n",
       "┌───────────┬───────────┬───────────┬─────────┬───┬───────────┬───────────┬───────────┬────────────┐\n",
       "│ name      ┆ type1     ┆ type2     ┆ abiliti ┆ … ┆ attack    ┆ defense   ┆ speed     ┆ is_legenda │\n",
       "│ ---       ┆ ---       ┆ ---       ┆ es      ┆   ┆ ---       ┆ ---       ┆ ---       ┆ ry         │\n",
       "│ list[str] ┆ list[str] ┆ list[str] ┆ ---     ┆   ┆ list[i64] ┆ list[i64] ┆ list[i64] ┆ ---        │\n",
       "│           ┆           ┆           ┆ list[li ┆   ┆           ┆           ┆           ┆ list[i64]  │\n",
       "│           ┆           ┆           ┆ st[str] ┆   ┆           ┆           ┆           ┆            │\n",
       "│           ┆           ┆           ┆ ]       ┆   ┆           ┆           ┆           ┆            │\n",
       "╞═══════════╪═══════════╪═══════════╪═════════╪═══╪═══════════╪═══════════╪═══════════╪════════════╡\n",
       "│ [\"Bulbasa ┆ [\"grass\", ┆ [\"poison\" ┆ [[\"Over ┆ … ┆ [49, 62,  ┆ [49, 63,  ┆ [45, 60,  ┆ [0, 0, 0]  │\n",
       "│ ur\", \"Ivy ┆ \"grass\",  ┆ ,         ┆ grow\",  ┆   ┆ 100]      ┆ 123]      ┆ 80]       ┆            │\n",
       "│ saur\",    ┆ \"grass\"]  ┆ \"poison\", ┆ \"Chloro ┆   ┆           ┆           ┆           ┆            │\n",
       "│ \"Venu…    ┆           ┆ \"poison\"] ┆ phyll\"] ┆   ┆           ┆           ┆           ┆            │\n",
       "│           ┆           ┆           ┆ , …     ┆   ┆           ┆           ┆           ┆            │\n",
       "└───────────┴───────────┴───────────┴─────────┴───┴───────────┴───────────┴───────────┴────────────┘"
      ]
     },
     "execution_count": 230,
     "metadata": {},
     "output_type": "execute_result"
    }
   ],
   "source": [
    "# Implode is the opposite of explode, and aggregates values into lists\n",
    "\n",
    "pokemon.head(3).select(\n",
    "    pl.all().implode(),\n",
    ")"
   ]
  },
  {
   "cell_type": "code",
   "execution_count": 231,
   "metadata": {},
   "outputs": [
    {
     "data": {
      "text/html": [
       "<div><style>\n",
       ".dataframe > thead > tr > th,\n",
       ".dataframe > tbody > tr > td {\n",
       "  text-align: right;\n",
       "}\n",
       "</style>\n",
       "<small>shape: (3, 9)</small><table border=\"1\" class=\"dataframe\"><thead><tr><th>name</th><th>type1</th><th>type2</th><th>abilities</th><th>hp</th><th>attack</th><th>defense</th><th>speed</th><th>is_legendary</th></tr><tr><td>str</td><td>str</td><td>str</td><td>list[str]</td><td>i64</td><td>i64</td><td>i64</td><td>i64</td><td>i64</td></tr></thead><tbody><tr><td>&quot;Bulbasaur&quot;</td><td>&quot;grass&quot;</td><td>&quot;poison&quot;</td><td>[&quot;Overgrow&quot;, &quot;Chlorophyll&quot;]</td><td>45</td><td>49</td><td>49</td><td>45</td><td>0</td></tr><tr><td>&quot;Ivysaur&quot;</td><td>&quot;grass&quot;</td><td>&quot;poison&quot;</td><td>[&quot;Overgrow&quot;, &quot;Chlorophyll&quot;]</td><td>60</td><td>62</td><td>63</td><td>60</td><td>0</td></tr><tr><td>&quot;Venusaur&quot;</td><td>&quot;grass&quot;</td><td>&quot;poison&quot;</td><td>[&quot;Overgrow&quot;, &quot;Chlorophyll&quot;]</td><td>80</td><td>100</td><td>123</td><td>80</td><td>0</td></tr></tbody></table></div>"
      ],
      "text/plain": [
       "shape: (3, 9)\n",
       "┌───────────┬───────┬────────┬────────────────┬───┬────────┬─────────┬───────┬──────────────┐\n",
       "│ name      ┆ type1 ┆ type2  ┆ abilities      ┆ … ┆ attack ┆ defense ┆ speed ┆ is_legendary │\n",
       "│ ---       ┆ ---   ┆ ---    ┆ ---            ┆   ┆ ---    ┆ ---     ┆ ---   ┆ ---          │\n",
       "│ str       ┆ str   ┆ str    ┆ list[str]      ┆   ┆ i64    ┆ i64     ┆ i64   ┆ i64          │\n",
       "╞═══════════╪═══════╪════════╪════════════════╪═══╪════════╪═════════╪═══════╪══════════════╡\n",
       "│ Bulbasaur ┆ grass ┆ poison ┆ [\"Overgrow\",   ┆ … ┆ 49     ┆ 49      ┆ 45    ┆ 0            │\n",
       "│           ┆       ┆        ┆ \"Chlorophyll\"] ┆   ┆        ┆         ┆       ┆              │\n",
       "│ Ivysaur   ┆ grass ┆ poison ┆ [\"Overgrow\",   ┆ … ┆ 62     ┆ 63      ┆ 60    ┆ 0            │\n",
       "│           ┆       ┆        ┆ \"Chlorophyll\"] ┆   ┆        ┆         ┆       ┆              │\n",
       "│ Venusaur  ┆ grass ┆ poison ┆ [\"Overgrow\",   ┆ … ┆ 100    ┆ 123     ┆ 80    ┆ 0            │\n",
       "│           ┆       ┆        ┆ \"Chlorophyll\"] ┆   ┆        ┆         ┆       ┆              │\n",
       "└───────────┴───────┴────────┴────────────────┴───┴────────┴─────────┴───────┴──────────────┘"
      ]
     },
     "execution_count": 231,
     "metadata": {},
     "output_type": "execute_result"
    }
   ],
   "source": [
    "# Flatten removes a level of nesting from a column of lists\n",
    "# If there is no nesting, then it acts as explodes\n",
    "\n",
    "pokemon.head(3).select(\n",
    "    pl.all().implode().flatten()\n",
    ")"
   ]
  },
  {
   "cell_type": "code",
   "execution_count": 232,
   "metadata": {},
   "outputs": [
    {
     "data": {
      "text/html": [
       "<div><style>\n",
       ".dataframe > thead > tr > th,\n",
       ".dataframe > tbody > tr > td {\n",
       "  text-align: right;\n",
       "}\n",
       "</style>\n",
       "<small>shape: (6, 1)</small><table border=\"1\" class=\"dataframe\"><thead><tr><th>abilities</th></tr><tr><td>str</td></tr></thead><tbody><tr><td>&quot;Overgrow&quot;</td></tr><tr><td>&quot;Chlorophyll&quot;</td></tr><tr><td>&quot;Overgrow&quot;</td></tr><tr><td>&quot;Chlorophyll&quot;</td></tr><tr><td>&quot;Overgrow&quot;</td></tr><tr><td>&quot;Chlorophyll&quot;</td></tr></tbody></table></div>"
      ],
      "text/plain": [
       "shape: (6, 1)\n",
       "┌─────────────┐\n",
       "│ abilities   │\n",
       "│ ---         │\n",
       "│ str         │\n",
       "╞═════════════╡\n",
       "│ Overgrow    │\n",
       "│ Chlorophyll │\n",
       "│ Overgrow    │\n",
       "│ Chlorophyll │\n",
       "│ Overgrow    │\n",
       "│ Chlorophyll │\n",
       "└─────────────┘"
      ]
     },
     "execution_count": 232,
     "metadata": {},
     "output_type": "execute_result"
    }
   ],
   "source": [
    "# When there is no nesting, flatten acts as explode\n",
    "\n",
    "pokemon.head(3).select(\n",
    "    pl.col('abilities').flatten()\n",
    ")"
   ]
  },
  {
   "attachments": {},
   "cell_type": "markdown",
   "metadata": {},
   "source": [
    "#### Conversion between structs and lists"
   ]
  },
  {
   "cell_type": "code",
   "execution_count": 233,
   "metadata": {},
   "outputs": [
    {
     "data": {
      "text/html": [
       "<div><style>\n",
       ".dataframe > thead > tr > th,\n",
       ".dataframe > tbody > tr > td {\n",
       "  text-align: right;\n",
       "}\n",
       "</style>\n",
       "<small>shape: (5, 2)</small><table border=\"1\" class=\"dataframe\"><thead><tr><th>name</th><th>types</th></tr><tr><td>str</td><td>struct[2]</td></tr></thead><tbody><tr><td>&quot;Bulbasaur&quot;</td><td>{&quot;grass&quot;,&quot;poison&quot;}</td></tr><tr><td>&quot;Ivysaur&quot;</td><td>{&quot;grass&quot;,&quot;poison&quot;}</td></tr><tr><td>&quot;Venusaur&quot;</td><td>{&quot;grass&quot;,&quot;poison&quot;}</td></tr><tr><td>&quot;Charmander&quot;</td><td>{&quot;fire&quot;,null}</td></tr><tr><td>&quot;Charmeleon&quot;</td><td>{&quot;fire&quot;,null}</td></tr></tbody></table></div>"
      ],
      "text/plain": [
       "shape: (5, 2)\n",
       "┌────────────┬────────────────────┐\n",
       "│ name       ┆ types              │\n",
       "│ ---        ┆ ---                │\n",
       "│ str        ┆ struct[2]          │\n",
       "╞════════════╪════════════════════╡\n",
       "│ Bulbasaur  ┆ {\"grass\",\"poison\"} │\n",
       "│ Ivysaur    ┆ {\"grass\",\"poison\"} │\n",
       "│ Venusaur   ┆ {\"grass\",\"poison\"} │\n",
       "│ Charmander ┆ {\"fire\",null}      │\n",
       "│ Charmeleon ┆ {\"fire\",null}      │\n",
       "└────────────┴────────────────────┘"
      ]
     },
     "execution_count": 233,
     "metadata": {},
     "output_type": "execute_result"
    }
   ],
   "source": [
    "# Combine type 1 and type 2 in a new struct column\n",
    "\n",
    "pokemon.select(\n",
    "    'name',\n",
    "    types = pl.struct('type1', 'type2')\n",
    ").head(5)"
   ]
  },
  {
   "cell_type": "code",
   "execution_count": 234,
   "metadata": {},
   "outputs": [
    {
     "data": {
      "text/plain": [
       "{'name': Utf8, 'types': Struct([Field('type1', Utf8), Field('type2', Utf8)])}"
      ]
     },
     "execution_count": 234,
     "metadata": {},
     "output_type": "execute_result"
    }
   ],
   "source": [
    "# The struct column retains the type information of each initial column:\n",
    "# Struct are views on the initial columns so the data is not copied\n",
    "# The table schema shows that the names of the initial columns are retained \n",
    "\n",
    "pokemon.select(\n",
    "    'name',\n",
    "    types = pl.struct('type1', 'type2')\n",
    ").schema"
   ]
  },
  {
   "cell_type": "code",
   "execution_count": 235,
   "metadata": {},
   "outputs": [
    {
     "data": {
      "text/html": [
       "<div><style>\n",
       ".dataframe > thead > tr > th,\n",
       ".dataframe > tbody > tr > td {\n",
       "  text-align: right;\n",
       "}\n",
       "</style>\n",
       "<small>shape: (5, 1)</small><table border=\"1\" class=\"dataframe\"><thead><tr><th>types_count</th></tr><tr><td>struct[2]</td></tr></thead><tbody><tr><td>{{&quot;grass&quot;,&quot;poison&quot;},14}</td></tr><tr><td>{{&quot;fire&quot;,null},27}</td></tr><tr><td>{{&quot;fire&quot;,&quot;flying&quot;},6}</td></tr><tr><td>{{&quot;water&quot;,null},61}</td></tr><tr><td>{{&quot;bug&quot;,null},18}</td></tr></tbody></table></div>"
      ],
      "text/plain": [
       "shape: (5, 1)\n",
       "┌─────────────────────────┐\n",
       "│ types_count             │\n",
       "│ ---                     │\n",
       "│ struct[2]               │\n",
       "╞═════════════════════════╡\n",
       "│ {{\"grass\",\"poison\"},14} │\n",
       "│ {{\"fire\",null},27}      │\n",
       "│ {{\"fire\",\"flying\"},6}   │\n",
       "│ {{\"water\",null},61}     │\n",
       "│ {{\"bug\",null},18}       │\n",
       "└─────────────────────────┘"
      ]
     },
     "execution_count": 235,
     "metadata": {},
     "output_type": "execute_result"
    }
   ],
   "source": [
    "# structs are important because they allow us to do calculations on combined columns\n",
    "# We can calculate the how many times each combination of types occurs\n",
    "\n",
    "pokemon.select(\n",
    "    types_count = pl.struct('type1', 'type2').value_counts()\n",
    ").head(5)"
   ]
  },
  {
   "cell_type": "code",
   "execution_count": 236,
   "metadata": {},
   "outputs": [
    {
     "data": {
      "text/html": [
       "<div><style>\n",
       ".dataframe > thead > tr > th,\n",
       ".dataframe > tbody > tr > td {\n",
       "  text-align: right;\n",
       "}\n",
       "</style>\n",
       "<small>shape: (5, 2)</small><table border=\"1\" class=\"dataframe\"><thead><tr><th>name</th><th>types</th></tr><tr><td>str</td><td>list[str]</td></tr></thead><tbody><tr><td>&quot;Bulbasaur&quot;</td><td>[&quot;grass&quot;, &quot;poison&quot;]</td></tr><tr><td>&quot;Ivysaur&quot;</td><td>[&quot;grass&quot;, &quot;poison&quot;]</td></tr><tr><td>&quot;Venusaur&quot;</td><td>[&quot;grass&quot;, &quot;poison&quot;]</td></tr><tr><td>&quot;Charmander&quot;</td><td>[&quot;fire&quot;, null]</td></tr><tr><td>&quot;Charmeleon&quot;</td><td>[&quot;fire&quot;, null]</td></tr></tbody></table></div>"
      ],
      "text/plain": [
       "shape: (5, 2)\n",
       "┌────────────┬─────────────────────┐\n",
       "│ name       ┆ types               │\n",
       "│ ---        ┆ ---                 │\n",
       "│ str        ┆ list[str]           │\n",
       "╞════════════╪═════════════════════╡\n",
       "│ Bulbasaur  ┆ [\"grass\", \"poison\"] │\n",
       "│ Ivysaur    ┆ [\"grass\", \"poison\"] │\n",
       "│ Venusaur   ┆ [\"grass\", \"poison\"] │\n",
       "│ Charmander ┆ [\"fire\", null]      │\n",
       "│ Charmeleon ┆ [\"fire\", null]      │\n",
       "└────────────┴─────────────────────┘"
      ]
     },
     "execution_count": 236,
     "metadata": {},
     "output_type": "execute_result"
    }
   ],
   "source": [
    "# Combine type 1 and type 2 in a new list column\n",
    "\n",
    "pokemon.select(\n",
    "    'name',\n",
    "    types = pl.concat_list('type1', 'type2')\n",
    ").head(5)"
   ]
  },
  {
   "cell_type": "code",
   "execution_count": 237,
   "metadata": {},
   "outputs": [
    {
     "data": {
      "text/plain": [
       "{'name': Utf8, 'types': List(Utf8)}"
      ]
     },
     "execution_count": 237,
     "metadata": {},
     "output_type": "execute_result"
    }
   ],
   "source": [
    "# List columns do not retain the name of the initial columns\n",
    "# In List columns, each row can have a different number of elements differently from Struct columns\n",
    "# where each row has the same number of elements\n",
    "\n",
    "pokemon.select(\n",
    "    'name',\n",
    "    types = pl.concat_list('type1', 'type2')\n",
    ").schema"
   ]
  },
  {
   "cell_type": "code",
   "execution_count": 238,
   "metadata": {},
   "outputs": [
    {
     "data": {
      "text/html": [
       "<div><style>\n",
       ".dataframe > thead > tr > th,\n",
       ".dataframe > tbody > tr > td {\n",
       "  text-align: right;\n",
       "}\n",
       "</style>\n",
       "<small>shape: (5, 1)</small><table border=\"1\" class=\"dataframe\"><thead><tr><th>abilities</th></tr><tr><td>struct[6]</td></tr></thead><tbody><tr><td>{&quot;Overgrow&quot;,&quot;Chlorophyll&quot;,null,null,null,null}</td></tr><tr><td>{&quot;Overgrow&quot;,&quot;Chlorophyll&quot;,null,null,null,null}</td></tr><tr><td>{&quot;Overgrow&quot;,&quot;Chlorophyll&quot;,null,null,null,null}</td></tr><tr><td>{&quot;Blaze&quot;,&quot;Solar Power&quot;,null,null,null,null}</td></tr><tr><td>{&quot;Blaze&quot;,&quot;Solar Power&quot;,null,null,null,null}</td></tr></tbody></table></div>"
      ],
      "text/plain": [
       "shape: (5, 1)\n",
       "┌─────────────────────────────────┐\n",
       "│ abilities                       │\n",
       "│ ---                             │\n",
       "│ struct[6]                       │\n",
       "╞═════════════════════════════════╡\n",
       "│ {\"Overgrow\",\"Chlorophyll\",null… │\n",
       "│ {\"Overgrow\",\"Chlorophyll\",null… │\n",
       "│ {\"Overgrow\",\"Chlorophyll\",null… │\n",
       "│ {\"Blaze\",\"Solar Power\",null,nu… │\n",
       "│ {\"Blaze\",\"Solar Power\",null,nu… │\n",
       "└─────────────────────────────────┘"
      ]
     },
     "execution_count": 238,
     "metadata": {},
     "output_type": "execute_result"
    }
   ],
   "source": [
    "# List columns can be converted to a struct\n",
    "# If number of elements are not the same, then the missing values are filled with null\n",
    "\n",
    "pokemon.select(\n",
    "    pl.col('abilities').list.to_struct(n_field_strategy = 'max_width')\n",
    ").head(5)"
   ]
  },
  {
   "cell_type": "code",
   "execution_count": 239,
   "metadata": {},
   "outputs": [
    {
     "data": {
      "text/plain": [
       "{'abilities': Struct([Field('field_0', Utf8), Field('field_1', Utf8), Field('field_2', Utf8), Field('field_3', Utf8), Field('field_4', Utf8), Field('field_5', Utf8)])}"
      ]
     },
     "execution_count": 239,
     "metadata": {},
     "output_type": "execute_result"
    }
   ],
   "source": [
    "# By default, the fields inside of the struct are called field_0, field_1, etc.\n",
    "\n",
    "pokemon.select(\n",
    "    pl.col('abilities').list.to_struct(n_field_strategy = 'max_width')\n",
    ").schema"
   ]
  },
  {
   "cell_type": "code",
   "execution_count": 240,
   "metadata": {},
   "outputs": [
    {
     "data": {
      "text/plain": [
       "{'abilities': Struct([Field('ability_0', Utf8), Field('ability_1', Utf8), Field('ability_2', Utf8), Field('ability_3', Utf8), Field('ability_4', Utf8), Field('ability_5', Utf8)])}"
      ]
     },
     "execution_count": 240,
     "metadata": {},
     "output_type": "execute_result"
    }
   ],
   "source": [
    "# It's possible to change the name with the argument fields, for example calling them ability_0, ability_1, etc.\n",
    "\n",
    "pokemon.select(\n",
    "    pl.col('abilities')\n",
    "    .list.to_struct(n_field_strategy = 'max_width', fields = lambda i: f'ability_{i}')\n",
    ").schema"
   ]
  },
  {
   "cell_type": "code",
   "execution_count": 241,
   "metadata": {},
   "outputs": [
    {
     "data": {
      "text/html": [
       "<div><style>\n",
       ".dataframe > thead > tr > th,\n",
       ".dataframe > tbody > tr > td {\n",
       "  text-align: right;\n",
       "}\n",
       "</style>\n",
       "<small>shape: (5, 6)</small><table border=\"1\" class=\"dataframe\"><thead><tr><th>field_0</th><th>field_1</th><th>field_2</th><th>field_3</th><th>field_4</th><th>field_5</th></tr><tr><td>str</td><td>str</td><td>str</td><td>str</td><td>str</td><td>str</td></tr></thead><tbody><tr><td>&quot;Overgrow&quot;</td><td>&quot;Chlorophyll&quot;</td><td>null</td><td>null</td><td>null</td><td>null</td></tr><tr><td>&quot;Overgrow&quot;</td><td>&quot;Chlorophyll&quot;</td><td>null</td><td>null</td><td>null</td><td>null</td></tr><tr><td>&quot;Overgrow&quot;</td><td>&quot;Chlorophyll&quot;</td><td>null</td><td>null</td><td>null</td><td>null</td></tr><tr><td>&quot;Blaze&quot;</td><td>&quot;Solar Power&quot;</td><td>null</td><td>null</td><td>null</td><td>null</td></tr><tr><td>&quot;Blaze&quot;</td><td>&quot;Solar Power&quot;</td><td>null</td><td>null</td><td>null</td><td>null</td></tr></tbody></table></div>"
      ],
      "text/plain": [
       "shape: (5, 6)\n",
       "┌──────────┬─────────────┬─────────┬─────────┬─────────┬─────────┐\n",
       "│ field_0  ┆ field_1     ┆ field_2 ┆ field_3 ┆ field_4 ┆ field_5 │\n",
       "│ ---      ┆ ---         ┆ ---     ┆ ---     ┆ ---     ┆ ---     │\n",
       "│ str      ┆ str         ┆ str     ┆ str     ┆ str     ┆ str     │\n",
       "╞══════════╪═════════════╪═════════╪═════════╪═════════╪═════════╡\n",
       "│ Overgrow ┆ Chlorophyll ┆ null    ┆ null    ┆ null    ┆ null    │\n",
       "│ Overgrow ┆ Chlorophyll ┆ null    ┆ null    ┆ null    ┆ null    │\n",
       "│ Overgrow ┆ Chlorophyll ┆ null    ┆ null    ┆ null    ┆ null    │\n",
       "│ Blaze    ┆ Solar Power ┆ null    ┆ null    ┆ null    ┆ null    │\n",
       "│ Blaze    ┆ Solar Power ┆ null    ┆ null    ┆ null    ┆ null    │\n",
       "└──────────┴─────────────┴─────────┴─────────┴─────────┴─────────┘"
      ]
     },
     "execution_count": 241,
     "metadata": {},
     "output_type": "execute_result"
    }
   ],
   "source": [
    "# We can un-nest struct columns and expand them into multiple columns\n",
    "\n",
    "pokemon.select(\n",
    "    pl.col('abilities')\n",
    "    .list.to_struct(n_field_strategy = 'max_width')\n",
    ").unnest('abilities').head(5)"
   ]
  },
  {
   "attachments": {},
   "cell_type": "markdown",
   "metadata": {},
   "source": [
    "#### Pivot, Melt, Unstack and Transpose"
   ]
  },
  {
   "cell_type": "code",
   "execution_count": 242,
   "metadata": {},
   "outputs": [
    {
     "data": {
      "text/html": [
       "<div><style>\n",
       ".dataframe > thead > tr > th,\n",
       ".dataframe > tbody > tr > td {\n",
       "  text-align: right;\n",
       "}\n",
       "</style>\n",
       "<small>shape: (18, 20)</small><table border=\"1\" class=\"dataframe\"><thead><tr><th>type1</th><th>poison</th><th>null</th><th>flying</th><th>dark</th><th>electric</th><th>ice</th><th>ground</th><th>fairy</th><th>grass</th><th>fighting</th><th>psychic</th><th>steel</th><th>fire</th><th>rock</th><th>water</th><th>dragon</th><th>ghost</th><th>bug</th><th>normal</th></tr><tr><td>str</td><td>u32</td><td>u32</td><td>u32</td><td>u32</td><td>u32</td><td>u32</td><td>u32</td><td>u32</td><td>u32</td><td>u32</td><td>u32</td><td>u32</td><td>u32</td><td>u32</td><td>u32</td><td>u32</td><td>u32</td><td>u32</td><td>u32</td></tr></thead><tbody><tr><td>&quot;grass&quot;</td><td>14</td><td>37</td><td>6</td><td>3</td><td>null</td><td>2</td><td>1</td><td>5</td><td>1</td><td>3</td><td>2</td><td>3</td><td>null</td><td>null</td><td>null</td><td>null</td><td>1</td><td>null</td><td>null</td></tr><tr><td>&quot;fire&quot;</td><td>null</td><td>27</td><td>6</td><td>1</td><td>null</td><td>2</td><td>2</td><td>null</td><td>null</td><td>6</td><td>1</td><td>1</td><td>1</td><td>1</td><td>1</td><td>1</td><td>null</td><td>null</td><td>2</td></tr><tr><td>&quot;water&quot;</td><td>3</td><td>61</td><td>7</td><td>4</td><td>2</td><td>3</td><td>9</td><td>4</td><td>3</td><td>2</td><td>5</td><td>1</td><td>null</td><td>4</td><td>null</td><td>2</td><td>2</td><td>2</td><td>null</td></tr><tr><td>&quot;bug&quot;</td><td>11</td><td>18</td><td>13</td><td>null</td><td>4</td><td>null</td><td>1</td><td>2</td><td>6</td><td>3</td><td>null</td><td>5</td><td>2</td><td>3</td><td>3</td><td>null</td><td>1</td><td>null</td><td>null</td></tr><tr><td>&quot;normal&quot;</td><td>null</td><td>61</td><td>26</td><td>4</td><td>null</td><td>null</td><td>1</td><td>4</td><td>2</td><td>2</td><td>3</td><td>null</td><td>null</td><td>null</td><td>1</td><td>1</td><td>null</td><td>null</td><td>null</td></tr><tr><td>&quot;poison&quot;</td><td>2</td><td>13</td><td>3</td><td>3</td><td>null</td><td>null</td><td>2</td><td>null</td><td>null</td><td>2</td><td>null</td><td>null</td><td>2</td><td>null</td><td>3</td><td>1</td><td>null</td><td>1</td><td>null</td></tr><tr><td>&quot;electric&quot;</td><td>null</td><td>26</td><td>3</td><td>null</td><td>1</td><td>null</td><td>null</td><td>2</td><td>null</td><td>null</td><td>null</td><td>4</td><td>null</td><td>null</td><td>null</td><td>null</td><td>1</td><td>null</td><td>2</td></tr><tr><td>&quot;ground&quot;</td><td>null</td><td>10</td><td>3</td><td>3</td><td>1</td><td>2</td><td>2</td><td>null</td><td>null</td><td>null</td><td>2</td><td>1</td><td>1</td><td>3</td><td>null</td><td>2</td><td>2</td><td>null</td><td>null</td></tr><tr><td>&quot;fairy&quot;</td><td>null</td><td>16</td><td>2</td><td>null</td><td>null</td><td>null</td><td>null</td><td>null</td><td>null</td><td>null</td><td>null</td><td>null</td><td>null</td><td>null</td><td>null</td><td>null</td><td>null</td><td>null</td><td>null</td></tr><tr><td>&quot;fighting&quot;</td><td>null</td><td>22</td><td>1</td><td>1</td><td>null</td><td>1</td><td>null</td><td>null</td><td>null</td><td>null</td><td>2</td><td>1</td><td>null</td><td>null</td><td>null</td><td>null</td><td>null</td><td>null</td><td>null</td></tr><tr><td>&quot;psychic&quot;</td><td>null</td><td>35</td><td>6</td><td>null</td><td>null</td><td>null</td><td>null</td><td>6</td><td>1</td><td>1</td><td>null</td><td>1</td><td>1</td><td>null</td><td>null</td><td>null</td><td>2</td><td>null</td><td>null</td></tr><tr><td>&quot;rock&quot;</td><td>1</td><td>11</td><td>4</td><td>1</td><td>null</td><td>2</td><td>6</td><td>2</td><td>2</td><td>1</td><td>2</td><td>3</td><td>null</td><td>null</td><td>6</td><td>2</td><td>null</td><td>2</td><td>null</td></tr><tr><td>&quot;ghost&quot;</td><td>3</td><td>9</td><td>2</td><td>1</td><td>null</td><td>null</td><td>2</td><td>1</td><td>5</td><td>null</td><td>null</td><td>null</td><td>3</td><td>null</td><td>null</td><td>1</td><td>null</td><td>null</td><td>null</td></tr><tr><td>&quot;ice&quot;</td><td>null</td><td>12</td><td>2</td><td>null</td><td>null</td><td>null</td><td>3</td><td>null</td><td>null</td><td>null</td><td>2</td><td>null</td><td>null</td><td>null</td><td>3</td><td>null</td><td>1</td><td>null</td><td>null</td></tr><tr><td>&quot;dragon&quot;</td><td>null</td><td>12</td><td>4</td><td>null</td><td>1</td><td>1</td><td>4</td><td>null</td><td>null</td><td>2</td><td>2</td><td>null</td><td>1</td><td>null</td><td>null</td><td>null</td><td>null</td><td>null</td><td>null</td></tr><tr><td>&quot;dark&quot;</td><td>null</td><td>9</td><td>5</td><td>null</td><td>null</td><td>2</td><td>null</td><td>null</td><td>null</td><td>2</td><td>2</td><td>2</td><td>2</td><td>null</td><td>null</td><td>4</td><td>1</td><td>null</td><td>null</td></tr><tr><td>&quot;steel&quot;</td><td>null</td><td>4</td><td>2</td><td>null</td><td>null</td><td>null</td><td>1</td><td>3</td><td>null</td><td>1</td><td>6</td><td>null</td><td>null</td><td>3</td><td>null</td><td>1</td><td>3</td><td>null</td><td>null</td></tr><tr><td>&quot;flying&quot;</td><td>null</td><td>1</td><td>null</td><td>null</td><td>null</td><td>null</td><td>null</td><td>null</td><td>null</td><td>null</td><td>null</td><td>null</td><td>null</td><td>null</td><td>null</td><td>2</td><td>null</td><td>null</td><td>null</td></tr></tbody></table></div>"
      ],
      "text/plain": [
       "shape: (18, 20)\n",
       "┌────────┬────────┬──────┬────────┬───┬────────┬───────┬──────┬────────┐\n",
       "│ type1  ┆ poison ┆ null ┆ flying ┆ … ┆ dragon ┆ ghost ┆ bug  ┆ normal │\n",
       "│ ---    ┆ ---    ┆ ---  ┆ ---    ┆   ┆ ---    ┆ ---   ┆ ---  ┆ ---    │\n",
       "│ str    ┆ u32    ┆ u32  ┆ u32    ┆   ┆ u32    ┆ u32   ┆ u32  ┆ u32    │\n",
       "╞════════╪════════╪══════╪════════╪═══╪════════╪═══════╪══════╪════════╡\n",
       "│ grass  ┆ 14     ┆ 37   ┆ 6      ┆ … ┆ null   ┆ 1     ┆ null ┆ null   │\n",
       "│ fire   ┆ null   ┆ 27   ┆ 6      ┆ … ┆ 1      ┆ null  ┆ null ┆ 2      │\n",
       "│ water  ┆ 3      ┆ 61   ┆ 7      ┆ … ┆ 2      ┆ 2     ┆ 2    ┆ null   │\n",
       "│ bug    ┆ 11     ┆ 18   ┆ 13     ┆ … ┆ null   ┆ 1     ┆ null ┆ null   │\n",
       "│ …      ┆ …      ┆ …    ┆ …      ┆ … ┆ …      ┆ …     ┆ …    ┆ …      │\n",
       "│ dragon ┆ null   ┆ 12   ┆ 4      ┆ … ┆ null   ┆ null  ┆ null ┆ null   │\n",
       "│ dark   ┆ null   ┆ 9    ┆ 5      ┆ … ┆ 4      ┆ 1     ┆ null ┆ null   │\n",
       "│ steel  ┆ null   ┆ 4    ┆ 2      ┆ … ┆ 1      ┆ 3     ┆ null ┆ null   │\n",
       "│ flying ┆ null   ┆ 1    ┆ null   ┆ … ┆ 2      ┆ null  ┆ null ┆ null   │\n",
       "└────────┴────────┴──────┴────────┴───┴────────┴───────┴──────┴────────┘"
      ]
     },
     "execution_count": 242,
     "metadata": {},
     "output_type": "execute_result"
    }
   ],
   "source": [
    "# Pivot type 2 to the columns and count the number of pokemons for each type 1 and type 2 combination\n",
    "\n",
    "pokemon.pivot(\n",
    "    values = 'name',\n",
    "    index = 'type1',\n",
    "    columns = 'type2',\n",
    "    aggregate_function=pl.element().count()\n",
    ")\n"
   ]
  },
  {
   "cell_type": "code",
   "execution_count": 243,
   "metadata": {},
   "outputs": [
    {
     "data": {
      "text/html": [
       "<div><style>\n",
       ".dataframe > thead > tr > th,\n",
       ".dataframe > tbody > tr > td {\n",
       "  text-align: right;\n",
       "}\n",
       "</style>\n",
       "<small>shape: (18, 5)</small><table border=\"1\" class=\"dataframe\"><thead><tr><th>type1</th><th>poison</th><th>flying</th><th>dark</th><th>electric</th></tr><tr><td>str</td><td>u32</td><td>u32</td><td>u32</td><td>u32</td></tr></thead><tbody><tr><td>&quot;ice&quot;</td><td>0</td><td>2</td><td>0</td><td>0</td></tr><tr><td>&quot;dragon&quot;</td><td>0</td><td>4</td><td>0</td><td>1</td></tr><tr><td>&quot;bug&quot;</td><td>11</td><td>13</td><td>0</td><td>4</td></tr><tr><td>&quot;fighting&quot;</td><td>0</td><td>1</td><td>1</td><td>0</td></tr><tr><td>&quot;dark&quot;</td><td>0</td><td>5</td><td>0</td><td>0</td></tr><tr><td>&quot;ground&quot;</td><td>0</td><td>3</td><td>3</td><td>1</td></tr><tr><td>&quot;psychic&quot;</td><td>0</td><td>6</td><td>0</td><td>0</td></tr><tr><td>&quot;grass&quot;</td><td>14</td><td>6</td><td>3</td><td>0</td></tr><tr><td>&quot;electric&quot;</td><td>0</td><td>3</td><td>0</td><td>1</td></tr><tr><td>&quot;fire&quot;</td><td>0</td><td>6</td><td>1</td><td>0</td></tr><tr><td>&quot;steel&quot;</td><td>0</td><td>2</td><td>0</td><td>0</td></tr><tr><td>&quot;rock&quot;</td><td>1</td><td>4</td><td>1</td><td>0</td></tr><tr><td>&quot;poison&quot;</td><td>2</td><td>3</td><td>3</td><td>0</td></tr><tr><td>&quot;fairy&quot;</td><td>0</td><td>2</td><td>0</td><td>0</td></tr><tr><td>&quot;flying&quot;</td><td>0</td><td>0</td><td>0</td><td>0</td></tr><tr><td>&quot;water&quot;</td><td>3</td><td>7</td><td>4</td><td>2</td></tr><tr><td>&quot;ghost&quot;</td><td>3</td><td>2</td><td>1</td><td>0</td></tr><tr><td>&quot;normal&quot;</td><td>0</td><td>26</td><td>4</td><td>0</td></tr></tbody></table></div>"
      ],
      "text/plain": [
       "shape: (18, 5)\n",
       "┌──────────┬────────┬────────┬──────┬──────────┐\n",
       "│ type1    ┆ poison ┆ flying ┆ dark ┆ electric │\n",
       "│ ---      ┆ ---    ┆ ---    ┆ ---  ┆ ---      │\n",
       "│ str      ┆ u32    ┆ u32    ┆ u32  ┆ u32      │\n",
       "╞══════════╪════════╪════════╪══════╪══════════╡\n",
       "│ ice      ┆ 0      ┆ 2      ┆ 0    ┆ 0        │\n",
       "│ dragon   ┆ 0      ┆ 4      ┆ 0    ┆ 1        │\n",
       "│ bug      ┆ 11     ┆ 13     ┆ 0    ┆ 4        │\n",
       "│ fighting ┆ 0      ┆ 1      ┆ 1    ┆ 0        │\n",
       "│ …        ┆ …      ┆ …      ┆ …    ┆ …        │\n",
       "│ flying   ┆ 0      ┆ 0      ┆ 0    ┆ 0        │\n",
       "│ water    ┆ 3      ┆ 7      ┆ 4    ┆ 2        │\n",
       "│ ghost    ┆ 3      ┆ 2      ┆ 1    ┆ 0        │\n",
       "│ normal   ┆ 0      ┆ 26     ┆ 4    ┆ 0        │\n",
       "└──────────┴────────┴────────┴──────┴──────────┘"
      ]
     },
     "execution_count": 243,
     "metadata": {},
     "output_type": "execute_result"
    }
   ],
   "source": [
    "# Pivot does not exist in lazy mode, however it's possible to reproduce it with group by\n",
    "# In this case, we need to specify the resulting columns in the code\n",
    "\n",
    "pokemon.lazy().groupby('type1').agg(\n",
    "    pl.col('name').filter(pl.col('type2') == pokemon_type).count().alias(pokemon_type)\n",
    "      for pokemon_type in ['poison', 'flying', 'dark', 'electric']\n",
    ").collect()"
   ]
  },
  {
   "cell_type": "code",
   "execution_count": 244,
   "metadata": {},
   "outputs": [
    {
     "data": {
      "text/html": [
       "<div><style>\n",
       ".dataframe > thead > tr > th,\n",
       ".dataframe > tbody > tr > td {\n",
       "  text-align: right;\n",
       "}\n",
       "</style>\n",
       "<small>shape: (6, 5)</small><table border=\"1\" class=\"dataframe\"><thead><tr><th>name</th><th>type1</th><th>type2</th><th>variable</th><th>value</th></tr><tr><td>str</td><td>str</td><td>str</td><td>str</td><td>i64</td></tr></thead><tbody><tr><td>&quot;Abomasnow&quot;</td><td>&quot;grass&quot;</td><td>&quot;ice&quot;</td><td>&quot;hp&quot;</td><td>90</td></tr><tr><td>&quot;Abomasnow&quot;</td><td>&quot;grass&quot;</td><td>&quot;ice&quot;</td><td>&quot;attack&quot;</td><td>132</td></tr><tr><td>&quot;Abomasnow&quot;</td><td>&quot;grass&quot;</td><td>&quot;ice&quot;</td><td>&quot;defense&quot;</td><td>105</td></tr><tr><td>&quot;Abra&quot;</td><td>&quot;psychic&quot;</td><td>null</td><td>&quot;hp&quot;</td><td>25</td></tr><tr><td>&quot;Abra&quot;</td><td>&quot;psychic&quot;</td><td>null</td><td>&quot;attack&quot;</td><td>20</td></tr><tr><td>&quot;Abra&quot;</td><td>&quot;psychic&quot;</td><td>null</td><td>&quot;defense&quot;</td><td>15</td></tr></tbody></table></div>"
      ],
      "text/plain": [
       "shape: (6, 5)\n",
       "┌───────────┬─────────┬───────┬──────────┬───────┐\n",
       "│ name      ┆ type1   ┆ type2 ┆ variable ┆ value │\n",
       "│ ---       ┆ ---     ┆ ---   ┆ ---      ┆ ---   │\n",
       "│ str       ┆ str     ┆ str   ┆ str      ┆ i64   │\n",
       "╞═══════════╪═════════╪═══════╪══════════╪═══════╡\n",
       "│ Abomasnow ┆ grass   ┆ ice   ┆ hp       ┆ 90    │\n",
       "│ Abomasnow ┆ grass   ┆ ice   ┆ attack   ┆ 132   │\n",
       "│ Abomasnow ┆ grass   ┆ ice   ┆ defense  ┆ 105   │\n",
       "│ Abra      ┆ psychic ┆ null  ┆ hp       ┆ 25    │\n",
       "│ Abra      ┆ psychic ┆ null  ┆ attack   ┆ 20    │\n",
       "│ Abra      ┆ psychic ┆ null  ┆ defense  ┆ 15    │\n",
       "└───────────┴─────────┴───────┴──────────┴───────┘"
      ]
     },
     "execution_count": 244,
     "metadata": {},
     "output_type": "execute_result"
    }
   ],
   "source": [
    "# Melt is the opposite of pivot, it brings the header of multiple columns into one column\n",
    "# and their value in another column\n",
    "\n",
    "pokemon.melt(\n",
    "    id_vars = ['name', 'type1', 'type2'],\n",
    "    value_vars = ['hp','attack', 'defense']\n",
    ").sort(by='name').head(6)"
   ]
  },
  {
   "cell_type": "code",
   "execution_count": 245,
   "metadata": {},
   "outputs": [
    {
     "data": {
      "text/html": [
       "<div><style>\n",
       ".dataframe > thead > tr > th,\n",
       ".dataframe > tbody > tr > td {\n",
       "  text-align: right;\n",
       "}\n",
       "</style>\n",
       "<small>shape: (3, 10)</small><table border=\"1\" class=\"dataframe\"><thead><tr><th>name_0</th><th>name_1</th><th>name_2</th><th>attack_0</th><th>attack_1</th><th>attack_2</th><th>defense_0</th><th>defense_1</th><th>defense_2</th><th>level</th></tr><tr><td>str</td><td>str</td><td>str</td><td>i64</td><td>i64</td><td>i64</td><td>i64</td><td>i64</td><td>i64</td><td>i64</td></tr></thead><tbody><tr><td>&quot;Bulbasaur&quot;</td><td>&quot;Charmander&quot;</td><td>&quot;Squirtle&quot;</td><td>49</td><td>52</td><td>48</td><td>49</td><td>43</td><td>65</td><td>1</td></tr><tr><td>&quot;Ivysaur&quot;</td><td>&quot;Charmeleon&quot;</td><td>&quot;Wartortle&quot;</td><td>62</td><td>64</td><td>63</td><td>63</td><td>58</td><td>80</td><td>2</td></tr><tr><td>&quot;Venusaur&quot;</td><td>&quot;Charizard&quot;</td><td>&quot;Blastoise&quot;</td><td>100</td><td>104</td><td>103</td><td>123</td><td>78</td><td>120</td><td>3</td></tr></tbody></table></div>"
      ],
      "text/plain": [
       "shape: (3, 10)\n",
       "┌───────────┬────────────┬───────────┬──────────┬───┬───────────┬───────────┬───────────┬───────┐\n",
       "│ name_0    ┆ name_1     ┆ name_2    ┆ attack_0 ┆ … ┆ defense_0 ┆ defense_1 ┆ defense_2 ┆ level │\n",
       "│ ---       ┆ ---        ┆ ---       ┆ ---      ┆   ┆ ---       ┆ ---       ┆ ---       ┆ ---   │\n",
       "│ str       ┆ str        ┆ str       ┆ i64      ┆   ┆ i64       ┆ i64       ┆ i64       ┆ i64   │\n",
       "╞═══════════╪════════════╪═══════════╪══════════╪═══╪═══════════╪═══════════╪═══════════╪═══════╡\n",
       "│ Bulbasaur ┆ Charmander ┆ Squirtle  ┆ 49       ┆ … ┆ 49        ┆ 43        ┆ 65        ┆ 1     │\n",
       "│ Ivysaur   ┆ Charmeleon ┆ Wartortle ┆ 62       ┆ … ┆ 63        ┆ 58        ┆ 80        ┆ 2     │\n",
       "│ Venusaur  ┆ Charizard  ┆ Blastoise ┆ 100      ┆ … ┆ 123       ┆ 78        ┆ 120       ┆ 3     │\n",
       "└───────────┴────────────┴───────────┴──────────┴───┴───────────┴───────────┴───────────┴───────┘"
      ]
     },
     "execution_count": 245,
     "metadata": {},
     "output_type": "execute_result"
    }
   ],
   "source": [
    "# Unstack breaks the dataframe into multiple groups of the same size \n",
    "# and moves these groups to new columns\n",
    "# Here we split the dataframe into groups of 3, and add a column with the level of the pokemon\n",
    "\n",
    "(\n",
    "    pokemon\n",
    "    .head(9)\n",
    "    .unstack(columns = ['name', 'attack', 'defense'], step=3, how=\"vertical\")\n",
    "    .with_columns(\n",
    "        level = pl.Series(range(1,4))\n",
    "        )\n",
    ")"
   ]
  },
  {
   "cell_type": "code",
   "execution_count": 246,
   "metadata": {},
   "outputs": [
    {
     "data": {
      "text/html": [
       "<div><style>\n",
       ".dataframe > thead > tr > th,\n",
       ".dataframe > tbody > tr > td {\n",
       "  text-align: right;\n",
       "}\n",
       "</style>\n",
       "<small>shape: (3, 3)</small><table border=\"1\" class=\"dataframe\"><thead><tr><th>column_0</th><th>column_1</th><th>column_2</th></tr><tr><td>str</td><td>str</td><td>str</td></tr></thead><tbody><tr><td>&quot;Bulbasaur&quot;</td><td>&quot;Ivysaur&quot;</td><td>&quot;Venusaur&quot;</td></tr><tr><td>&quot;grass&quot;</td><td>&quot;grass&quot;</td><td>&quot;grass&quot;</td></tr><tr><td>&quot;poison&quot;</td><td>&quot;poison&quot;</td><td>&quot;poison&quot;</td></tr></tbody></table></div>"
      ],
      "text/plain": [
       "shape: (3, 3)\n",
       "┌───────────┬──────────┬──────────┐\n",
       "│ column_0  ┆ column_1 ┆ column_2 │\n",
       "│ ---       ┆ ---      ┆ ---      │\n",
       "│ str       ┆ str      ┆ str      │\n",
       "╞═══════════╪══════════╪══════════╡\n",
       "│ Bulbasaur ┆ Ivysaur  ┆ Venusaur │\n",
       "│ grass     ┆ grass    ┆ grass    │\n",
       "│ poison    ┆ poison   ┆ poison   │\n",
       "└───────────┴──────────┴──────────┘"
      ]
     },
     "execution_count": 246,
     "metadata": {},
     "output_type": "execute_result"
    }
   ],
   "source": [
    "# Transpose inverses the rows and columns of a dataframe\n",
    "# It's a computationally expensive operation, so it should be used only if no other option is available\n",
    "\n",
    "pokemon.head(3).select(\n",
    "    'name',\n",
    "    'type1',\n",
    "    'type2'\n",
    ").transpose()"
   ]
  },
  {
   "attachments": {},
   "cell_type": "markdown",
   "metadata": {},
   "source": [
    "#### Merge DataFrames: hstack, vstack, extend, concat, join, join_asof"
   ]
  },
  {
   "cell_type": "code",
   "execution_count": 247,
   "metadata": {},
   "outputs": [
    {
     "data": {
      "text/html": [
       "<div><style>\n",
       ".dataframe > thead > tr > th,\n",
       ".dataframe > tbody > tr > td {\n",
       "  text-align: right;\n",
       "}\n",
       "</style>\n",
       "<small>shape: (6, 10)</small><table border=\"1\" class=\"dataframe\"><thead><tr><th>name</th><th>type1</th><th>type2</th><th>abilities</th><th>hp</th><th>attack</th><th>defense</th><th>speed</th><th>is_legendary</th><th>color</th></tr><tr><td>str</td><td>str</td><td>str</td><td>list[str]</td><td>i64</td><td>i64</td><td>i64</td><td>i64</td><td>i64</td><td>str</td></tr></thead><tbody><tr><td>&quot;Bulbasaur&quot;</td><td>&quot;grass&quot;</td><td>&quot;poison&quot;</td><td>[&quot;Overgrow&quot;, &quot;Chlorophyll&quot;]</td><td>45</td><td>49</td><td>49</td><td>45</td><td>0</td><td>&quot;green&quot;</td></tr><tr><td>&quot;Ivysaur&quot;</td><td>&quot;grass&quot;</td><td>&quot;poison&quot;</td><td>[&quot;Overgrow&quot;, &quot;Chlorophyll&quot;]</td><td>60</td><td>62</td><td>63</td><td>60</td><td>0</td><td>&quot;green&quot;</td></tr><tr><td>&quot;Venusaur&quot;</td><td>&quot;grass&quot;</td><td>&quot;poison&quot;</td><td>[&quot;Overgrow&quot;, &quot;Chlorophyll&quot;]</td><td>80</td><td>100</td><td>123</td><td>80</td><td>0</td><td>&quot;green&quot;</td></tr><tr><td>&quot;Charmander&quot;</td><td>&quot;fire&quot;</td><td>null</td><td>[&quot;Blaze&quot;, &quot;Solar Power&quot;]</td><td>39</td><td>52</td><td>43</td><td>65</td><td>0</td><td>&quot;red&quot;</td></tr><tr><td>&quot;Charmeleon&quot;</td><td>&quot;fire&quot;</td><td>null</td><td>[&quot;Blaze&quot;, &quot;Solar Power&quot;]</td><td>58</td><td>64</td><td>58</td><td>80</td><td>0</td><td>&quot;red&quot;</td></tr><tr><td>&quot;Charizard&quot;</td><td>&quot;fire&quot;</td><td>&quot;flying&quot;</td><td>[&quot;Blaze&quot;, &quot;Solar Power&quot;]</td><td>78</td><td>104</td><td>78</td><td>100</td><td>0</td><td>&quot;red&quot;</td></tr></tbody></table></div>"
      ],
      "text/plain": [
       "shape: (6, 10)\n",
       "┌────────────┬───────┬────────┬──────────────────┬───┬─────────┬───────┬──────────────┬───────┐\n",
       "│ name       ┆ type1 ┆ type2  ┆ abilities        ┆ … ┆ defense ┆ speed ┆ is_legendary ┆ color │\n",
       "│ ---        ┆ ---   ┆ ---    ┆ ---              ┆   ┆ ---     ┆ ---   ┆ ---          ┆ ---   │\n",
       "│ str        ┆ str   ┆ str    ┆ list[str]        ┆   ┆ i64     ┆ i64   ┆ i64          ┆ str   │\n",
       "╞════════════╪═══════╪════════╪══════════════════╪═══╪═════════╪═══════╪══════════════╪═══════╡\n",
       "│ Bulbasaur  ┆ grass ┆ poison ┆ [\"Overgrow\",     ┆ … ┆ 49      ┆ 45    ┆ 0            ┆ green │\n",
       "│            ┆       ┆        ┆ \"Chlorophyll\"]   ┆   ┆         ┆       ┆              ┆       │\n",
       "│ Ivysaur    ┆ grass ┆ poison ┆ [\"Overgrow\",     ┆ … ┆ 63      ┆ 60    ┆ 0            ┆ green │\n",
       "│            ┆       ┆        ┆ \"Chlorophyll\"]   ┆   ┆         ┆       ┆              ┆       │\n",
       "│ Venusaur   ┆ grass ┆ poison ┆ [\"Overgrow\",     ┆ … ┆ 123     ┆ 80    ┆ 0            ┆ green │\n",
       "│            ┆       ┆        ┆ \"Chlorophyll\"]   ┆   ┆         ┆       ┆              ┆       │\n",
       "│ Charmander ┆ fire  ┆ null   ┆ [\"Blaze\", \"Solar ┆ … ┆ 43      ┆ 65    ┆ 0            ┆ red   │\n",
       "│            ┆       ┆        ┆ Power\"]          ┆   ┆         ┆       ┆              ┆       │\n",
       "│ Charmeleon ┆ fire  ┆ null   ┆ [\"Blaze\", \"Solar ┆ … ┆ 58      ┆ 80    ┆ 0            ┆ red   │\n",
       "│            ┆       ┆        ┆ Power\"]          ┆   ┆         ┆       ┆              ┆       │\n",
       "│ Charizard  ┆ fire  ┆ flying ┆ [\"Blaze\", \"Solar ┆ … ┆ 78      ┆ 100   ┆ 0            ┆ red   │\n",
       "│            ┆       ┆        ┆ Power\"]          ┆   ┆         ┆       ┆              ┆       │\n",
       "└────────────┴───────┴────────┴──────────────────┴───┴─────────┴───────┴──────────────┴───────┘"
      ]
     },
     "execution_count": 247,
     "metadata": {},
     "output_type": "execute_result"
    }
   ],
   "source": [
    "# Horizontally stack 2 dataframes\n",
    "# We have a new dataframe with the pokemon color\n",
    "\n",
    "pokemon_color = pl.DataFrame({\n",
    "    'color': ['green', 'green', 'green', 'red', 'red', 'red']\n",
    "})\n",
    "\n",
    "pokemon.head(6).hstack(pokemon_color)"
   ]
  },
  {
   "cell_type": "code",
   "execution_count": 248,
   "metadata": {},
   "outputs": [
    {
     "data": {
      "text/html": [
       "<div><style>\n",
       ".dataframe > thead > tr > th,\n",
       ".dataframe > tbody > tr > td {\n",
       "  text-align: right;\n",
       "}\n",
       "</style>\n",
       "<small>shape: (5, 4)</small><table border=\"1\" class=\"dataframe\"><thead><tr><th>name</th><th>type1</th><th>type2</th><th>abilities</th></tr><tr><td>str</td><td>str</td><td>str</td><td>list[str]</td></tr></thead><tbody><tr><td>&quot;Kartana&quot;</td><td>&quot;grass&quot;</td><td>&quot;steel&quot;</td><td>[&quot;Beast Boost&quot;]</td></tr><tr><td>&quot;Guzzlord&quot;</td><td>&quot;dark&quot;</td><td>&quot;dragon&quot;</td><td>[&quot;Beast Boost&quot;]</td></tr><tr><td>&quot;Necrozma&quot;</td><td>&quot;psychic&quot;</td><td>null</td><td>[&quot;Prism Armor&quot;]</td></tr><tr><td>&quot;Magearna&quot;</td><td>&quot;steel&quot;</td><td>&quot;fairy&quot;</td><td>[&quot;Soul-Heart&quot;]</td></tr><tr><td>&quot;Polarizard&quot;</td><td>&quot;ice&quot;</td><td>&quot;flying&quot;</td><td>[&quot;snow warning&quot;, &quot;blaze&quot;]</td></tr></tbody></table></div>"
      ],
      "text/plain": [
       "shape: (5, 4)\n",
       "┌────────────┬─────────┬────────┬───────────────────────────┐\n",
       "│ name       ┆ type1   ┆ type2  ┆ abilities                 │\n",
       "│ ---        ┆ ---     ┆ ---    ┆ ---                       │\n",
       "│ str        ┆ str     ┆ str    ┆ list[str]                 │\n",
       "╞════════════╪═════════╪════════╪═══════════════════════════╡\n",
       "│ Kartana    ┆ grass   ┆ steel  ┆ [\"Beast Boost\"]           │\n",
       "│ Guzzlord   ┆ dark    ┆ dragon ┆ [\"Beast Boost\"]           │\n",
       "│ Necrozma   ┆ psychic ┆ null   ┆ [\"Prism Armor\"]           │\n",
       "│ Magearna   ┆ steel   ┆ fairy  ┆ [\"Soul-Heart\"]            │\n",
       "│ Polarizard ┆ ice     ┆ flying ┆ [\"snow warning\", \"blaze\"] │\n",
       "└────────────┴─────────┴────────┴───────────────────────────┘"
      ]
     },
     "execution_count": 248,
     "metadata": {},
     "output_type": "execute_result"
    }
   ],
   "source": [
    "# Vertically stack 2 dataframes\n",
    "# We have a new dataframe with a new pokemon\n",
    "\n",
    "new_pokemon = pl.DataFrame({\n",
    "    'name': ['Polarizard'],\n",
    "    'type1': ['ice'],\n",
    "    'type2': ['flying'],\n",
    "    'abilities': [['snow warning', 'blaze']]\n",
    "})\n",
    "\n",
    "pokemon.select('name','type1','type2','abilities').vstack(new_pokemon).tail(5)"
   ]
  },
  {
   "cell_type": "code",
   "execution_count": 249,
   "metadata": {},
   "outputs": [
    {
     "data": {
      "text/html": [
       "<div><style>\n",
       ".dataframe > thead > tr > th,\n",
       ".dataframe > tbody > tr > td {\n",
       "  text-align: right;\n",
       "}\n",
       "</style>\n",
       "<small>shape: (5, 4)</small><table border=\"1\" class=\"dataframe\"><thead><tr><th>name</th><th>type1</th><th>type2</th><th>abilities</th></tr><tr><td>str</td><td>str</td><td>str</td><td>list[str]</td></tr></thead><tbody><tr><td>&quot;Kartana&quot;</td><td>&quot;grass&quot;</td><td>&quot;steel&quot;</td><td>[&quot;Beast Boost&quot;]</td></tr><tr><td>&quot;Guzzlord&quot;</td><td>&quot;dark&quot;</td><td>&quot;dragon&quot;</td><td>[&quot;Beast Boost&quot;]</td></tr><tr><td>&quot;Necrozma&quot;</td><td>&quot;psychic&quot;</td><td>null</td><td>[&quot;Prism Armor&quot;]</td></tr><tr><td>&quot;Magearna&quot;</td><td>&quot;steel&quot;</td><td>&quot;fairy&quot;</td><td>[&quot;Soul-Heart&quot;]</td></tr><tr><td>&quot;Polarizard&quot;</td><td>&quot;ice&quot;</td><td>&quot;flying&quot;</td><td>[&quot;snow warning&quot;, &quot;blaze&quot;]</td></tr></tbody></table></div>"
      ],
      "text/plain": [
       "shape: (5, 4)\n",
       "┌────────────┬─────────┬────────┬───────────────────────────┐\n",
       "│ name       ┆ type1   ┆ type2  ┆ abilities                 │\n",
       "│ ---        ┆ ---     ┆ ---    ┆ ---                       │\n",
       "│ str        ┆ str     ┆ str    ┆ list[str]                 │\n",
       "╞════════════╪═════════╪════════╪═══════════════════════════╡\n",
       "│ Kartana    ┆ grass   ┆ steel  ┆ [\"Beast Boost\"]           │\n",
       "│ Guzzlord   ┆ dark    ┆ dragon ┆ [\"Beast Boost\"]           │\n",
       "│ Necrozma   ┆ psychic ┆ null   ┆ [\"Prism Armor\"]           │\n",
       "│ Magearna   ┆ steel   ┆ fairy  ┆ [\"Soul-Heart\"]            │\n",
       "│ Polarizard ┆ ice     ┆ flying ┆ [\"snow warning\", \"blaze\"] │\n",
       "└────────────┴─────────┴────────┴───────────────────────────┘"
      ]
     },
     "execution_count": 249,
     "metadata": {},
     "output_type": "execute_result"
    }
   ],
   "source": [
    "# Extend is similar to vstack, but it copies the data instead of referencing it\n",
    "\n",
    "pokemon.select('name','type1','type2','abilities').extend(new_pokemon).tail(5)"
   ]
  },
  {
   "cell_type": "code",
   "execution_count": 250,
   "metadata": {},
   "outputs": [
    {
     "data": {
      "text/html": [
       "<div><style>\n",
       ".dataframe > thead > tr > th,\n",
       ".dataframe > tbody > tr > td {\n",
       "  text-align: right;\n",
       "}\n",
       "</style>\n",
       "<small>shape: (5, 4)</small><table border=\"1\" class=\"dataframe\"><thead><tr><th>name</th><th>type1</th><th>type2</th><th>abilities</th></tr><tr><td>str</td><td>str</td><td>str</td><td>list[str]</td></tr></thead><tbody><tr><td>&quot;Kartana&quot;</td><td>&quot;grass&quot;</td><td>&quot;steel&quot;</td><td>[&quot;Beast Boost&quot;]</td></tr><tr><td>&quot;Guzzlord&quot;</td><td>&quot;dark&quot;</td><td>&quot;dragon&quot;</td><td>[&quot;Beast Boost&quot;]</td></tr><tr><td>&quot;Necrozma&quot;</td><td>&quot;psychic&quot;</td><td>null</td><td>[&quot;Prism Armor&quot;]</td></tr><tr><td>&quot;Magearna&quot;</td><td>&quot;steel&quot;</td><td>&quot;fairy&quot;</td><td>[&quot;Soul-Heart&quot;]</td></tr><tr><td>&quot;Polarizard&quot;</td><td>&quot;ice&quot;</td><td>&quot;flying&quot;</td><td>[&quot;snow warning&quot;, &quot;blaze&quot;]</td></tr></tbody></table></div>"
      ],
      "text/plain": [
       "shape: (5, 4)\n",
       "┌────────────┬─────────┬────────┬───────────────────────────┐\n",
       "│ name       ┆ type1   ┆ type2  ┆ abilities                 │\n",
       "│ ---        ┆ ---     ┆ ---    ┆ ---                       │\n",
       "│ str        ┆ str     ┆ str    ┆ list[str]                 │\n",
       "╞════════════╪═════════╪════════╪═══════════════════════════╡\n",
       "│ Kartana    ┆ grass   ┆ steel  ┆ [\"Beast Boost\"]           │\n",
       "│ Guzzlord   ┆ dark    ┆ dragon ┆ [\"Beast Boost\"]           │\n",
       "│ Necrozma   ┆ psychic ┆ null   ┆ [\"Prism Armor\"]           │\n",
       "│ Magearna   ┆ steel   ┆ fairy  ┆ [\"Soul-Heart\"]            │\n",
       "│ Polarizard ┆ ice     ┆ flying ┆ [\"snow warning\", \"blaze\"] │\n",
       "└────────────┴─────────┴────────┴───────────────────────────┘"
      ]
     },
     "execution_count": 250,
     "metadata": {},
     "output_type": "execute_result"
    }
   ],
   "source": [
    "# concat can reproduce both hstack and vstack when rechunk is set to False\n",
    "# when rechunk is set to True, all data is copied to a contiguous memory space which allows it to be faster\n",
    "\n",
    "pl.concat(\n",
    "    [pokemon.select('name','type1','type2','abilities'), new_pokemon],\n",
    "    rechunk = True,\n",
    "    how= 'vertical'\n",
    ").tail(5)"
   ]
  },
  {
   "cell_type": "code",
   "execution_count": 251,
   "metadata": {},
   "outputs": [
    {
     "data": {
      "text/html": [
       "<div><style>\n",
       ".dataframe > thead > tr > th,\n",
       ".dataframe > tbody > tr > td {\n",
       "  text-align: right;\n",
       "}\n",
       "</style>\n",
       "<small>shape: (5, 5)</small><table border=\"1\" class=\"dataframe\"><thead><tr><th>name</th><th>type1</th><th>type2</th><th>abilities</th><th>color</th></tr><tr><td>str</td><td>str</td><td>str</td><td>list[str]</td><td>str</td></tr></thead><tbody><tr><td>&quot;Kartana&quot;</td><td>&quot;grass&quot;</td><td>&quot;steel&quot;</td><td>[&quot;Beast Boost&quot;]</td><td>null</td></tr><tr><td>&quot;Guzzlord&quot;</td><td>&quot;dark&quot;</td><td>&quot;dragon&quot;</td><td>[&quot;Beast Boost&quot;]</td><td>null</td></tr><tr><td>&quot;Necrozma&quot;</td><td>&quot;psychic&quot;</td><td>null</td><td>[&quot;Prism Armor&quot;]</td><td>null</td></tr><tr><td>&quot;Magearna&quot;</td><td>&quot;steel&quot;</td><td>&quot;fairy&quot;</td><td>[&quot;Soul-Heart&quot;]</td><td>null</td></tr><tr><td>&quot;Polarizard&quot;</td><td>null</td><td>null</td><td>[&quot;snow warning&quot;, &quot;blaze&quot;]</td><td>&quot;white&quot;</td></tr></tbody></table></div>"
      ],
      "text/plain": [
       "shape: (5, 5)\n",
       "┌────────────┬─────────┬────────┬───────────────────────────┬───────┐\n",
       "│ name       ┆ type1   ┆ type2  ┆ abilities                 ┆ color │\n",
       "│ ---        ┆ ---     ┆ ---    ┆ ---                       ┆ ---   │\n",
       "│ str        ┆ str     ┆ str    ┆ list[str]                 ┆ str   │\n",
       "╞════════════╪═════════╪════════╪═══════════════════════════╪═══════╡\n",
       "│ Kartana    ┆ grass   ┆ steel  ┆ [\"Beast Boost\"]           ┆ null  │\n",
       "│ Guzzlord   ┆ dark    ┆ dragon ┆ [\"Beast Boost\"]           ┆ null  │\n",
       "│ Necrozma   ┆ psychic ┆ null   ┆ [\"Prism Armor\"]           ┆ null  │\n",
       "│ Magearna   ┆ steel   ┆ fairy  ┆ [\"Soul-Heart\"]            ┆ null  │\n",
       "│ Polarizard ┆ null    ┆ null   ┆ [\"snow warning\", \"blaze\"] ┆ white │\n",
       "└────────────┴─────────┴────────┴───────────────────────────┴───────┘"
      ]
     },
     "execution_count": 251,
     "metadata": {},
     "output_type": "execute_result"
    }
   ],
   "source": [
    "# concat diagonal stacks dataframes diagonally\n",
    "# this means that columns missing from one dataframe are filled with nulls\n",
    "\n",
    "new_pokemon_color = pl.DataFrame({\n",
    "    'name': ['Polarizard'],\n",
    "    'abilities': [['snow warning', 'blaze']],\n",
    "    'color': ['white']\n",
    "})\n",
    "\n",
    "pl.concat([\n",
    "    pokemon.select('name','type1','type2','abilities'),\n",
    "    new_pokemon_color\n",
    "    ],\n",
    "    how = 'diagonal'\n",
    ").tail(5)"
   ]
  },
  {
   "cell_type": "code",
   "execution_count": 252,
   "metadata": {},
   "outputs": [
    {
     "data": {
      "text/html": [
       "<div><style>\n",
       ".dataframe > thead > tr > th,\n",
       ".dataframe > tbody > tr > td {\n",
       "  text-align: right;\n",
       "}\n",
       "</style>\n",
       "<small>shape: (9, 3)</small><table border=\"1\" class=\"dataframe\"><thead><tr><th>name</th><th>type1</th><th>color</th></tr><tr><td>str</td><td>str</td><td>str</td></tr></thead><tbody><tr><td>&quot;Blastoise&quot;</td><td>&quot;water&quot;</td><td>null</td></tr><tr><td>&quot;Bulbasaur&quot;</td><td>&quot;grass&quot;</td><td>&quot;green&quot;</td></tr><tr><td>&quot;Charizard&quot;</td><td>&quot;fire&quot;</td><td>null</td></tr><tr><td>&quot;Charmander&quot;</td><td>&quot;fire&quot;</td><td>&quot;red&quot;</td></tr><tr><td>&quot;Charmeleon&quot;</td><td>&quot;fire&quot;</td><td>null</td></tr><tr><td>&quot;Ivysaur&quot;</td><td>&quot;grass&quot;</td><td>null</td></tr><tr><td>&quot;Squirtle&quot;</td><td>&quot;water&quot;</td><td>&quot;blue&quot;</td></tr><tr><td>&quot;Venusaur&quot;</td><td>&quot;grass&quot;</td><td>null</td></tr><tr><td>&quot;Wartortle&quot;</td><td>&quot;water&quot;</td><td>null</td></tr></tbody></table></div>"
      ],
      "text/plain": [
       "shape: (9, 3)\n",
       "┌────────────┬───────┬───────┐\n",
       "│ name       ┆ type1 ┆ color │\n",
       "│ ---        ┆ ---   ┆ ---   │\n",
       "│ str        ┆ str   ┆ str   │\n",
       "╞════════════╪═══════╪═══════╡\n",
       "│ Blastoise  ┆ water ┆ null  │\n",
       "│ Bulbasaur  ┆ grass ┆ green │\n",
       "│ Charizard  ┆ fire  ┆ null  │\n",
       "│ Charmander ┆ fire  ┆ red   │\n",
       "│ Charmeleon ┆ fire  ┆ null  │\n",
       "│ Ivysaur    ┆ grass ┆ null  │\n",
       "│ Squirtle   ┆ water ┆ blue  │\n",
       "│ Venusaur   ┆ grass ┆ null  │\n",
       "│ Wartortle  ┆ water ┆ null  │\n",
       "└────────────┴───────┴───────┘"
      ]
     },
     "execution_count": 252,
     "metadata": {},
     "output_type": "execute_result"
    }
   ],
   "source": [
    "# concat has another method, which is align.\n",
    "# the align method ensures that the columns of the 2 dataframes are in the same order\n",
    "\n",
    "pokemon_new_order = pl.DataFrame({\n",
    "    'name' : ['Bulbasaur', 'Charmander', 'Squirtle'],\n",
    "    'color': ['green', 'red', 'blue']\n",
    "})\n",
    "\n",
    "pl.concat([\n",
    "    pokemon.select('name','type1',).head(9),\n",
    "    pokemon_new_order\n",
    "], how='align'\n",
    ")"
   ]
  },
  {
   "cell_type": "code",
   "execution_count": 253,
   "metadata": {},
   "outputs": [
    {
     "data": {
      "text/html": [
       "<div><style>\n",
       ".dataframe > thead > tr > th,\n",
       ".dataframe > tbody > tr > td {\n",
       "  text-align: right;\n",
       "}\n",
       "</style>\n",
       "<small>shape: (1, 10)</small><table border=\"1\" class=\"dataframe\"><thead><tr><th>name</th><th>type1</th><th>type2</th><th>abilities</th><th>hp</th><th>attack</th><th>defense</th><th>speed</th><th>is_legendary</th><th>color</th></tr><tr><td>str</td><td>str</td><td>str</td><td>list[str]</td><td>i64</td><td>i64</td><td>i64</td><td>i64</td><td>i64</td><td>str</td></tr></thead><tbody><tr><td>&quot;Bulbasaur&quot;</td><td>&quot;grass&quot;</td><td>&quot;poison&quot;</td><td>[&quot;Overgrow&quot;, &quot;Chlorophyll&quot;]</td><td>45</td><td>49</td><td>49</td><td>45</td><td>0</td><td>&quot;green&quot;</td></tr></tbody></table></div>"
      ],
      "text/plain": [
       "shape: (1, 10)\n",
       "┌───────────┬───────┬────────┬────────────────┬───┬─────────┬───────┬──────────────┬───────┐\n",
       "│ name      ┆ type1 ┆ type2  ┆ abilities      ┆ … ┆ defense ┆ speed ┆ is_legendary ┆ color │\n",
       "│ ---       ┆ ---   ┆ ---    ┆ ---            ┆   ┆ ---     ┆ ---   ┆ ---          ┆ ---   │\n",
       "│ str       ┆ str   ┆ str    ┆ list[str]      ┆   ┆ i64     ┆ i64   ┆ i64          ┆ str   │\n",
       "╞═══════════╪═══════╪════════╪════════════════╪═══╪═════════╪═══════╪══════════════╪═══════╡\n",
       "│ Bulbasaur ┆ grass ┆ poison ┆ [\"Overgrow\",   ┆ … ┆ 49      ┆ 45    ┆ 0            ┆ green │\n",
       "│           ┆       ┆        ┆ \"Chlorophyll\"] ┆   ┆         ┆       ┆              ┆       │\n",
       "└───────────┴───────┴────────┴────────────────┴───┴─────────┴───────┴──────────────┴───────┘"
      ]
     },
     "execution_count": 253,
     "metadata": {},
     "output_type": "execute_result"
    }
   ],
   "source": [
    "# join reproduces SQL joins, such as inner, left, outer, semi, anti, cross\n",
    "# inner join keeps only the rows that are present in both dataframes\n",
    "\n",
    "pokemon_new = pl.DataFrame({\n",
    "    'name' : ['Bulbasaur', 'Polarizard'],\n",
    "    'color': ['green', 'white']\n",
    "})\n",
    "\n",
    "pokemon.head(3).join(pokemon_new, on = 'name', how = 'inner')"
   ]
  },
  {
   "cell_type": "code",
   "execution_count": 254,
   "metadata": {},
   "outputs": [
    {
     "data": {
      "text/html": [
       "<div><style>\n",
       ".dataframe > thead > tr > th,\n",
       ".dataframe > tbody > tr > td {\n",
       "  text-align: right;\n",
       "}\n",
       "</style>\n",
       "<small>shape: (3, 10)</small><table border=\"1\" class=\"dataframe\"><thead><tr><th>name</th><th>type1</th><th>type2</th><th>abilities</th><th>hp</th><th>attack</th><th>defense</th><th>speed</th><th>is_legendary</th><th>color</th></tr><tr><td>str</td><td>str</td><td>str</td><td>list[str]</td><td>i64</td><td>i64</td><td>i64</td><td>i64</td><td>i64</td><td>str</td></tr></thead><tbody><tr><td>&quot;Bulbasaur&quot;</td><td>&quot;grass&quot;</td><td>&quot;poison&quot;</td><td>[&quot;Overgrow&quot;, &quot;Chlorophyll&quot;]</td><td>45</td><td>49</td><td>49</td><td>45</td><td>0</td><td>&quot;green&quot;</td></tr><tr><td>&quot;Ivysaur&quot;</td><td>&quot;grass&quot;</td><td>&quot;poison&quot;</td><td>[&quot;Overgrow&quot;, &quot;Chlorophyll&quot;]</td><td>60</td><td>62</td><td>63</td><td>60</td><td>0</td><td>null</td></tr><tr><td>&quot;Venusaur&quot;</td><td>&quot;grass&quot;</td><td>&quot;poison&quot;</td><td>[&quot;Overgrow&quot;, &quot;Chlorophyll&quot;]</td><td>80</td><td>100</td><td>123</td><td>80</td><td>0</td><td>null</td></tr></tbody></table></div>"
      ],
      "text/plain": [
       "shape: (3, 10)\n",
       "┌───────────┬───────┬────────┬────────────────┬───┬─────────┬───────┬──────────────┬───────┐\n",
       "│ name      ┆ type1 ┆ type2  ┆ abilities      ┆ … ┆ defense ┆ speed ┆ is_legendary ┆ color │\n",
       "│ ---       ┆ ---   ┆ ---    ┆ ---            ┆   ┆ ---     ┆ ---   ┆ ---          ┆ ---   │\n",
       "│ str       ┆ str   ┆ str    ┆ list[str]      ┆   ┆ i64     ┆ i64   ┆ i64          ┆ str   │\n",
       "╞═══════════╪═══════╪════════╪════════════════╪═══╪═════════╪═══════╪══════════════╪═══════╡\n",
       "│ Bulbasaur ┆ grass ┆ poison ┆ [\"Overgrow\",   ┆ … ┆ 49      ┆ 45    ┆ 0            ┆ green │\n",
       "│           ┆       ┆        ┆ \"Chlorophyll\"] ┆   ┆         ┆       ┆              ┆       │\n",
       "│ Ivysaur   ┆ grass ┆ poison ┆ [\"Overgrow\",   ┆ … ┆ 63      ┆ 60    ┆ 0            ┆ null  │\n",
       "│           ┆       ┆        ┆ \"Chlorophyll\"] ┆   ┆         ┆       ┆              ┆       │\n",
       "│ Venusaur  ┆ grass ┆ poison ┆ [\"Overgrow\",   ┆ … ┆ 123     ┆ 80    ┆ 0            ┆ null  │\n",
       "│           ┆       ┆        ┆ \"Chlorophyll\"] ┆   ┆         ┆       ┆              ┆       │\n",
       "└───────────┴───────┴────────┴────────────────┴───┴─────────┴───────┴──────────────┴───────┘"
      ]
     },
     "execution_count": 254,
     "metadata": {},
     "output_type": "execute_result"
    }
   ],
   "source": [
    "# left join keeps all rows from the left dataframe and fills the missing values with nulls\n",
    "# to keep the rows from the right dataframe, we can inverse the order of the dataframes\n",
    "\n",
    "pokemon.head(3).join(pokemon_new, on = 'name', how = 'left')"
   ]
  },
  {
   "cell_type": "code",
   "execution_count": 255,
   "metadata": {},
   "outputs": [
    {
     "data": {
      "text/html": [
       "<div><style>\n",
       ".dataframe > thead > tr > th,\n",
       ".dataframe > tbody > tr > td {\n",
       "  text-align: right;\n",
       "}\n",
       "</style>\n",
       "<small>shape: (4, 10)</small><table border=\"1\" class=\"dataframe\"><thead><tr><th>name</th><th>type1</th><th>type2</th><th>abilities</th><th>hp</th><th>attack</th><th>defense</th><th>speed</th><th>is_legendary</th><th>color</th></tr><tr><td>str</td><td>str</td><td>str</td><td>list[str]</td><td>i64</td><td>i64</td><td>i64</td><td>i64</td><td>i64</td><td>str</td></tr></thead><tbody><tr><td>&quot;Bulbasaur&quot;</td><td>&quot;grass&quot;</td><td>&quot;poison&quot;</td><td>[&quot;Overgrow&quot;, &quot;Chlorophyll&quot;]</td><td>45</td><td>49</td><td>49</td><td>45</td><td>0</td><td>&quot;green&quot;</td></tr><tr><td>&quot;Ivysaur&quot;</td><td>&quot;grass&quot;</td><td>&quot;poison&quot;</td><td>[&quot;Overgrow&quot;, &quot;Chlorophyll&quot;]</td><td>60</td><td>62</td><td>63</td><td>60</td><td>0</td><td>null</td></tr><tr><td>&quot;Venusaur&quot;</td><td>&quot;grass&quot;</td><td>&quot;poison&quot;</td><td>[&quot;Overgrow&quot;, &quot;Chlorophyll&quot;]</td><td>80</td><td>100</td><td>123</td><td>80</td><td>0</td><td>null</td></tr><tr><td>&quot;Polarizard&quot;</td><td>null</td><td>null</td><td>null</td><td>null</td><td>null</td><td>null</td><td>null</td><td>null</td><td>&quot;white&quot;</td></tr></tbody></table></div>"
      ],
      "text/plain": [
       "shape: (4, 10)\n",
       "┌────────────┬───────┬────────┬────────────────┬───┬─────────┬───────┬──────────────┬───────┐\n",
       "│ name       ┆ type1 ┆ type2  ┆ abilities      ┆ … ┆ defense ┆ speed ┆ is_legendary ┆ color │\n",
       "│ ---        ┆ ---   ┆ ---    ┆ ---            ┆   ┆ ---     ┆ ---   ┆ ---          ┆ ---   │\n",
       "│ str        ┆ str   ┆ str    ┆ list[str]      ┆   ┆ i64     ┆ i64   ┆ i64          ┆ str   │\n",
       "╞════════════╪═══════╪════════╪════════════════╪═══╪═════════╪═══════╪══════════════╪═══════╡\n",
       "│ Bulbasaur  ┆ grass ┆ poison ┆ [\"Overgrow\",   ┆ … ┆ 49      ┆ 45    ┆ 0            ┆ green │\n",
       "│            ┆       ┆        ┆ \"Chlorophyll\"] ┆   ┆         ┆       ┆              ┆       │\n",
       "│ Ivysaur    ┆ grass ┆ poison ┆ [\"Overgrow\",   ┆ … ┆ 63      ┆ 60    ┆ 0            ┆ null  │\n",
       "│            ┆       ┆        ┆ \"Chlorophyll\"] ┆   ┆         ┆       ┆              ┆       │\n",
       "│ Venusaur   ┆ grass ┆ poison ┆ [\"Overgrow\",   ┆ … ┆ 123     ┆ 80    ┆ 0            ┆ null  │\n",
       "│            ┆       ┆        ┆ \"Chlorophyll\"] ┆   ┆         ┆       ┆              ┆       │\n",
       "│ Polarizard ┆ null  ┆ null   ┆ null           ┆ … ┆ null    ┆ null  ┆ null         ┆ white │\n",
       "└────────────┴───────┴────────┴────────────────┴───┴─────────┴───────┴──────────────┴───────┘"
      ]
     },
     "execution_count": 255,
     "metadata": {},
     "output_type": "execute_result"
    }
   ],
   "source": [
    "# outer join keeps all rows from both dataframes and fills the missing values with nulls\n",
    "\n",
    "pokemon.head(3).join(pokemon_new, on = 'name', how = 'outer')"
   ]
  },
  {
   "cell_type": "code",
   "execution_count": 256,
   "metadata": {},
   "outputs": [
    {
     "data": {
      "text/html": [
       "<div><style>\n",
       ".dataframe > thead > tr > th,\n",
       ".dataframe > tbody > tr > td {\n",
       "  text-align: right;\n",
       "}\n",
       "</style>\n",
       "<small>shape: (1, 9)</small><table border=\"1\" class=\"dataframe\"><thead><tr><th>name</th><th>type1</th><th>type2</th><th>abilities</th><th>hp</th><th>attack</th><th>defense</th><th>speed</th><th>is_legendary</th></tr><tr><td>str</td><td>str</td><td>str</td><td>list[str]</td><td>i64</td><td>i64</td><td>i64</td><td>i64</td><td>i64</td></tr></thead><tbody><tr><td>&quot;Bulbasaur&quot;</td><td>&quot;grass&quot;</td><td>&quot;poison&quot;</td><td>[&quot;Overgrow&quot;, &quot;Chlorophyll&quot;]</td><td>45</td><td>49</td><td>49</td><td>45</td><td>0</td></tr></tbody></table></div>"
      ],
      "text/plain": [
       "shape: (1, 9)\n",
       "┌───────────┬───────┬────────┬────────────────┬───┬────────┬─────────┬───────┬──────────────┐\n",
       "│ name      ┆ type1 ┆ type2  ┆ abilities      ┆ … ┆ attack ┆ defense ┆ speed ┆ is_legendary │\n",
       "│ ---       ┆ ---   ┆ ---    ┆ ---            ┆   ┆ ---    ┆ ---     ┆ ---   ┆ ---          │\n",
       "│ str       ┆ str   ┆ str    ┆ list[str]      ┆   ┆ i64    ┆ i64     ┆ i64   ┆ i64          │\n",
       "╞═══════════╪═══════╪════════╪════════════════╪═══╪════════╪═════════╪═══════╪══════════════╡\n",
       "│ Bulbasaur ┆ grass ┆ poison ┆ [\"Overgrow\",   ┆ … ┆ 49     ┆ 49      ┆ 45    ┆ 0            │\n",
       "│           ┆       ┆        ┆ \"Chlorophyll\"] ┆   ┆        ┆         ┆       ┆              │\n",
       "└───────────┴───────┴────────┴────────────────┴───┴────────┴─────────┴───────┴──────────────┘"
      ]
     },
     "execution_count": 256,
     "metadata": {},
     "output_type": "execute_result"
    }
   ],
   "source": [
    "# semi keeps the rows from the left dataframe that are present in the right dataframe\n",
    "# it does not add any columns from the right dataframe (differently from inner)\n",
    "\n",
    "pokemon.head(3).join(pokemon_new, on = 'name', how = 'semi')"
   ]
  },
  {
   "cell_type": "code",
   "execution_count": 257,
   "metadata": {},
   "outputs": [
    {
     "data": {
      "text/html": [
       "<div><style>\n",
       ".dataframe > thead > tr > th,\n",
       ".dataframe > tbody > tr > td {\n",
       "  text-align: right;\n",
       "}\n",
       "</style>\n",
       "<small>shape: (2, 9)</small><table border=\"1\" class=\"dataframe\"><thead><tr><th>name</th><th>type1</th><th>type2</th><th>abilities</th><th>hp</th><th>attack</th><th>defense</th><th>speed</th><th>is_legendary</th></tr><tr><td>str</td><td>str</td><td>str</td><td>list[str]</td><td>i64</td><td>i64</td><td>i64</td><td>i64</td><td>i64</td></tr></thead><tbody><tr><td>&quot;Ivysaur&quot;</td><td>&quot;grass&quot;</td><td>&quot;poison&quot;</td><td>[&quot;Overgrow&quot;, &quot;Chlorophyll&quot;]</td><td>60</td><td>62</td><td>63</td><td>60</td><td>0</td></tr><tr><td>&quot;Venusaur&quot;</td><td>&quot;grass&quot;</td><td>&quot;poison&quot;</td><td>[&quot;Overgrow&quot;, &quot;Chlorophyll&quot;]</td><td>80</td><td>100</td><td>123</td><td>80</td><td>0</td></tr></tbody></table></div>"
      ],
      "text/plain": [
       "shape: (2, 9)\n",
       "┌──────────┬───────┬────────┬────────────────┬───┬────────┬─────────┬───────┬──────────────┐\n",
       "│ name     ┆ type1 ┆ type2  ┆ abilities      ┆ … ┆ attack ┆ defense ┆ speed ┆ is_legendary │\n",
       "│ ---      ┆ ---   ┆ ---    ┆ ---            ┆   ┆ ---    ┆ ---     ┆ ---   ┆ ---          │\n",
       "│ str      ┆ str   ┆ str    ┆ list[str]      ┆   ┆ i64    ┆ i64     ┆ i64   ┆ i64          │\n",
       "╞══════════╪═══════╪════════╪════════════════╪═══╪════════╪═════════╪═══════╪══════════════╡\n",
       "│ Ivysaur  ┆ grass ┆ poison ┆ [\"Overgrow\",   ┆ … ┆ 62     ┆ 63      ┆ 60    ┆ 0            │\n",
       "│          ┆       ┆        ┆ \"Chlorophyll\"] ┆   ┆        ┆         ┆       ┆              │\n",
       "│ Venusaur ┆ grass ┆ poison ┆ [\"Overgrow\",   ┆ … ┆ 100    ┆ 123     ┆ 80    ┆ 0            │\n",
       "│          ┆       ┆        ┆ \"Chlorophyll\"] ┆   ┆        ┆         ┆       ┆              │\n",
       "└──────────┴───────┴────────┴────────────────┴───┴────────┴─────────┴───────┴──────────────┘"
      ]
     },
     "execution_count": 257,
     "metadata": {},
     "output_type": "execute_result"
    }
   ],
   "source": [
    "# anti keeps the rows present in either dataframe but not in both\n",
    "# it keeps the opposite rows as inner\n",
    "\n",
    "pokemon.head(3).join(pokemon_new, on = 'name', how = 'anti')"
   ]
  },
  {
   "cell_type": "code",
   "execution_count": 258,
   "metadata": {},
   "outputs": [
    {
     "data": {
      "text/html": [
       "<div><style>\n",
       ".dataframe > thead > tr > th,\n",
       ".dataframe > tbody > tr > td {\n",
       "  text-align: right;\n",
       "}\n",
       "</style>\n",
       "<small>shape: (6, 10)</small><table border=\"1\" class=\"dataframe\"><thead><tr><th>name</th><th>type1</th><th>type2</th><th>abilities</th><th>hp</th><th>attack</th><th>defense</th><th>speed</th><th>is_legendary</th><th>trainer</th></tr><tr><td>str</td><td>str</td><td>str</td><td>list[str]</td><td>i64</td><td>i64</td><td>i64</td><td>i64</td><td>i64</td><td>str</td></tr></thead><tbody><tr><td>&quot;Bulbasaur&quot;</td><td>&quot;grass&quot;</td><td>&quot;poison&quot;</td><td>[&quot;Overgrow&quot;, &quot;Chlorophyll&quot;]</td><td>45</td><td>49</td><td>49</td><td>45</td><td>0</td><td>&quot;trainer1&quot;</td></tr><tr><td>&quot;Bulbasaur&quot;</td><td>&quot;grass&quot;</td><td>&quot;poison&quot;</td><td>[&quot;Overgrow&quot;, &quot;Chlorophyll&quot;]</td><td>45</td><td>49</td><td>49</td><td>45</td><td>0</td><td>&quot;trainer2&quot;</td></tr><tr><td>&quot;Ivysaur&quot;</td><td>&quot;grass&quot;</td><td>&quot;poison&quot;</td><td>[&quot;Overgrow&quot;, &quot;Chlorophyll&quot;]</td><td>60</td><td>62</td><td>63</td><td>60</td><td>0</td><td>&quot;trainer1&quot;</td></tr><tr><td>&quot;Ivysaur&quot;</td><td>&quot;grass&quot;</td><td>&quot;poison&quot;</td><td>[&quot;Overgrow&quot;, &quot;Chlorophyll&quot;]</td><td>60</td><td>62</td><td>63</td><td>60</td><td>0</td><td>&quot;trainer2&quot;</td></tr><tr><td>&quot;Venusaur&quot;</td><td>&quot;grass&quot;</td><td>&quot;poison&quot;</td><td>[&quot;Overgrow&quot;, &quot;Chlorophyll&quot;]</td><td>80</td><td>100</td><td>123</td><td>80</td><td>0</td><td>&quot;trainer1&quot;</td></tr><tr><td>&quot;Venusaur&quot;</td><td>&quot;grass&quot;</td><td>&quot;poison&quot;</td><td>[&quot;Overgrow&quot;, &quot;Chlorophyll&quot;]</td><td>80</td><td>100</td><td>123</td><td>80</td><td>0</td><td>&quot;trainer2&quot;</td></tr></tbody></table></div>"
      ],
      "text/plain": [
       "shape: (6, 10)\n",
       "┌───────────┬───────┬────────┬────────────────┬───┬─────────┬───────┬──────────────┬──────────┐\n",
       "│ name      ┆ type1 ┆ type2  ┆ abilities      ┆ … ┆ defense ┆ speed ┆ is_legendary ┆ trainer  │\n",
       "│ ---       ┆ ---   ┆ ---    ┆ ---            ┆   ┆ ---     ┆ ---   ┆ ---          ┆ ---      │\n",
       "│ str       ┆ str   ┆ str    ┆ list[str]      ┆   ┆ i64     ┆ i64   ┆ i64          ┆ str      │\n",
       "╞═══════════╪═══════╪════════╪════════════════╪═══╪═════════╪═══════╪══════════════╪══════════╡\n",
       "│ Bulbasaur ┆ grass ┆ poison ┆ [\"Overgrow\",   ┆ … ┆ 49      ┆ 45    ┆ 0            ┆ trainer1 │\n",
       "│           ┆       ┆        ┆ \"Chlorophyll\"] ┆   ┆         ┆       ┆              ┆          │\n",
       "│ Bulbasaur ┆ grass ┆ poison ┆ [\"Overgrow\",   ┆ … ┆ 49      ┆ 45    ┆ 0            ┆ trainer2 │\n",
       "│           ┆       ┆        ┆ \"Chlorophyll\"] ┆   ┆         ┆       ┆              ┆          │\n",
       "│ Ivysaur   ┆ grass ┆ poison ┆ [\"Overgrow\",   ┆ … ┆ 63      ┆ 60    ┆ 0            ┆ trainer1 │\n",
       "│           ┆       ┆        ┆ \"Chlorophyll\"] ┆   ┆         ┆       ┆              ┆          │\n",
       "│ Ivysaur   ┆ grass ┆ poison ┆ [\"Overgrow\",   ┆ … ┆ 63      ┆ 60    ┆ 0            ┆ trainer2 │\n",
       "│           ┆       ┆        ┆ \"Chlorophyll\"] ┆   ┆         ┆       ┆              ┆          │\n",
       "│ Venusaur  ┆ grass ┆ poison ┆ [\"Overgrow\",   ┆ … ┆ 123     ┆ 80    ┆ 0            ┆ trainer1 │\n",
       "│           ┆       ┆        ┆ \"Chlorophyll\"] ┆   ┆         ┆       ┆              ┆          │\n",
       "│ Venusaur  ┆ grass ┆ poison ┆ [\"Overgrow\",   ┆ … ┆ 123     ┆ 80    ┆ 0            ┆ trainer2 │\n",
       "│           ┆       ┆        ┆ \"Chlorophyll\"] ┆   ┆         ┆       ┆              ┆          │\n",
       "└───────────┴───────┴────────┴────────────────┴───┴─────────┴───────┴──────────────┴──────────┘"
      ]
     },
     "execution_count": 258,
     "metadata": {},
     "output_type": "execute_result"
    }
   ],
   "source": [
    "# cross combines all rows of the first dataframe with all rows of the second dataframe\n",
    "\n",
    "pokemon_trainers = pl.DataFrame({\n",
    "    'trainer': ['trainer1', 'trainer2']\n",
    "})\n",
    "\n",
    "pokemon.head(3).join(pokemon_trainers, how = 'cross')"
   ]
  },
  {
   "attachments": {},
   "cell_type": "markdown",
   "metadata": {},
   "source": [
    "#### Custom functions: apply, map"
   ]
  },
  {
   "cell_type": "code",
   "execution_count": 259,
   "metadata": {},
   "outputs": [],
   "source": [
    "# Both apply and map will be slower than using the native polars functions. \n",
    "# It's recommended to avoid apply and map whenever possible\n",
    "# a common use case for apply and map is passing data to a third-party library\n",
    "# map applies a function to a full column (which is a Polars series)\n",
    "# apply does the same, but one row at a time\n",
    "# map is faster than apply"
   ]
  },
  {
   "cell_type": "code",
   "execution_count": null,
   "metadata": {},
   "outputs": [],
   "source": []
  },
  {
   "cell_type": "code",
   "execution_count": 260,
   "metadata": {},
   "outputs": [],
   "source": [
    "# increase the attack by 10% for pokemons with attack < 50\n",
    "# in the first 2 functions, we receive a column (a list) and process it using a Python list comprehension\n",
    "# the first function returns a Python list, the second a Polars series\n",
    "# the last function receives a single value and returns a single value\n",
    "\n",
    "def simulated_attack_list(attack_column):\n",
    "    return [attack * 1.1 if attack < 50 else attack for attack in attack_column]\n",
    "\n",
    "def simulated_attack_series(attack_column):\n",
    "    return pl.Series([attack * 1.1 if attack < 50 else attack for attack in attack_column])\n",
    "\n",
    "def simulated_attack_single_value(attack_number):\n",
    "    return attack_number * 1.1 if attack_number < 50 else attack_number"
   ]
  },
  {
   "cell_type": "code",
   "execution_count": 261,
   "metadata": {},
   "outputs": [
    {
     "data": {
      "text/html": [
       "<div><style>\n",
       ".dataframe > thead > tr > th,\n",
       ".dataframe > tbody > tr > td {\n",
       "  text-align: right;\n",
       "}\n",
       "</style>\n",
       "<small>shape: (3, 10)</small><table border=\"1\" class=\"dataframe\"><thead><tr><th>name</th><th>type1</th><th>type2</th><th>abilities</th><th>hp</th><th>attack</th><th>defense</th><th>speed</th><th>is_legendary</th><th>simulated_attack</th></tr><tr><td>str</td><td>str</td><td>str</td><td>list[str]</td><td>i64</td><td>i64</td><td>i64</td><td>i64</td><td>i64</td><td>list[f64]</td></tr></thead><tbody><tr><td>&quot;Bulbasaur&quot;</td><td>&quot;grass&quot;</td><td>&quot;poison&quot;</td><td>[&quot;Overgrow&quot;, &quot;Chlorophyll&quot;]</td><td>45</td><td>49</td><td>49</td><td>45</td><td>0</td><td>[53.9, 62.0, … 95.0]</td></tr><tr><td>&quot;Ivysaur&quot;</td><td>&quot;grass&quot;</td><td>&quot;poison&quot;</td><td>[&quot;Overgrow&quot;, &quot;Chlorophyll&quot;]</td><td>60</td><td>62</td><td>63</td><td>60</td><td>0</td><td>[53.9, 62.0, … 95.0]</td></tr><tr><td>&quot;Venusaur&quot;</td><td>&quot;grass&quot;</td><td>&quot;poison&quot;</td><td>[&quot;Overgrow&quot;, &quot;Chlorophyll&quot;]</td><td>80</td><td>100</td><td>123</td><td>80</td><td>0</td><td>[53.9, 62.0, … 95.0]</td></tr></tbody></table></div>"
      ],
      "text/plain": [
       "shape: (3, 10)\n",
       "┌───────────┬───────┬────────┬────────────────┬───┬─────────┬───────┬──────────────┬───────────────┐\n",
       "│ name      ┆ type1 ┆ type2  ┆ abilities      ┆ … ┆ defense ┆ speed ┆ is_legendary ┆ simulated_att │\n",
       "│ ---       ┆ ---   ┆ ---    ┆ ---            ┆   ┆ ---     ┆ ---   ┆ ---          ┆ ack           │\n",
       "│ str       ┆ str   ┆ str    ┆ list[str]      ┆   ┆ i64     ┆ i64   ┆ i64          ┆ ---           │\n",
       "│           ┆       ┆        ┆                ┆   ┆         ┆       ┆              ┆ list[f64]     │\n",
       "╞═══════════╪═══════╪════════╪════════════════╪═══╪═════════╪═══════╪══════════════╪═══════════════╡\n",
       "│ Bulbasaur ┆ grass ┆ poison ┆ [\"Overgrow\",   ┆ … ┆ 49      ┆ 45    ┆ 0            ┆ [53.9, 62.0,  │\n",
       "│           ┆       ┆        ┆ \"Chlorophyll\"] ┆   ┆         ┆       ┆              ┆ … 95.0]       │\n",
       "│ Ivysaur   ┆ grass ┆ poison ┆ [\"Overgrow\",   ┆ … ┆ 63      ┆ 60    ┆ 0            ┆ [53.9, 62.0,  │\n",
       "│           ┆       ┆        ┆ \"Chlorophyll\"] ┆   ┆         ┆       ┆              ┆ … 95.0]       │\n",
       "│ Venusaur  ┆ grass ┆ poison ┆ [\"Overgrow\",   ┆ … ┆ 123     ┆ 80    ┆ 0            ┆ [53.9, 62.0,  │\n",
       "│           ┆       ┆        ┆ \"Chlorophyll\"] ┆   ┆         ┆       ┆              ┆ … 95.0]       │\n",
       "└───────────┴───────┴────────┴────────────────┴───┴─────────┴───────┴──────────────┴───────────────┘"
      ]
     },
     "execution_count": 261,
     "metadata": {},
     "output_type": "execute_result"
    }
   ],
   "source": [
    "pokemon.with_columns(\n",
    "    simulated_attack = pl.col('attack').map(simulated_attack_list)\n",
    ").head(3)"
   ]
  },
  {
   "cell_type": "code",
   "execution_count": 262,
   "metadata": {},
   "outputs": [
    {
     "data": {
      "text/html": [
       "<div><style>\n",
       ".dataframe > thead > tr > th,\n",
       ".dataframe > tbody > tr > td {\n",
       "  text-align: right;\n",
       "}\n",
       "</style>\n",
       "<small>shape: (3, 10)</small><table border=\"1\" class=\"dataframe\"><thead><tr><th>name</th><th>type1</th><th>type2</th><th>abilities</th><th>hp</th><th>attack</th><th>defense</th><th>speed</th><th>is_legendary</th><th>simulated_attack</th></tr><tr><td>str</td><td>str</td><td>str</td><td>list[str]</td><td>i64</td><td>i64</td><td>i64</td><td>i64</td><td>i64</td><td>f64</td></tr></thead><tbody><tr><td>&quot;Bulbasaur&quot;</td><td>&quot;grass&quot;</td><td>&quot;poison&quot;</td><td>[&quot;Overgrow&quot;, &quot;Chlorophyll&quot;]</td><td>45</td><td>49</td><td>49</td><td>45</td><td>0</td><td>53.9</td></tr><tr><td>&quot;Ivysaur&quot;</td><td>&quot;grass&quot;</td><td>&quot;poison&quot;</td><td>[&quot;Overgrow&quot;, &quot;Chlorophyll&quot;]</td><td>60</td><td>62</td><td>63</td><td>60</td><td>0</td><td>62.0</td></tr><tr><td>&quot;Venusaur&quot;</td><td>&quot;grass&quot;</td><td>&quot;poison&quot;</td><td>[&quot;Overgrow&quot;, &quot;Chlorophyll&quot;]</td><td>80</td><td>100</td><td>123</td><td>80</td><td>0</td><td>100.0</td></tr></tbody></table></div>"
      ],
      "text/plain": [
       "shape: (3, 10)\n",
       "┌───────────┬───────┬────────┬────────────────┬───┬─────────┬───────┬──────────────┬───────────────┐\n",
       "│ name      ┆ type1 ┆ type2  ┆ abilities      ┆ … ┆ defense ┆ speed ┆ is_legendary ┆ simulated_att │\n",
       "│ ---       ┆ ---   ┆ ---    ┆ ---            ┆   ┆ ---     ┆ ---   ┆ ---          ┆ ack           │\n",
       "│ str       ┆ str   ┆ str    ┆ list[str]      ┆   ┆ i64     ┆ i64   ┆ i64          ┆ ---           │\n",
       "│           ┆       ┆        ┆                ┆   ┆         ┆       ┆              ┆ f64           │\n",
       "╞═══════════╪═══════╪════════╪════════════════╪═══╪═════════╪═══════╪══════════════╪═══════════════╡\n",
       "│ Bulbasaur ┆ grass ┆ poison ┆ [\"Overgrow\",   ┆ … ┆ 49      ┆ 45    ┆ 0            ┆ 53.9          │\n",
       "│           ┆       ┆        ┆ \"Chlorophyll\"] ┆   ┆         ┆       ┆              ┆               │\n",
       "│ Ivysaur   ┆ grass ┆ poison ┆ [\"Overgrow\",   ┆ … ┆ 63      ┆ 60    ┆ 0            ┆ 62.0          │\n",
       "│           ┆       ┆        ┆ \"Chlorophyll\"] ┆   ┆         ┆       ┆              ┆               │\n",
       "│ Venusaur  ┆ grass ┆ poison ┆ [\"Overgrow\",   ┆ … ┆ 123     ┆ 80    ┆ 0            ┆ 100.0         │\n",
       "│           ┆       ┆        ┆ \"Chlorophyll\"] ┆   ┆         ┆       ┆              ┆               │\n",
       "└───────────┴───────┴────────┴────────────────┴───┴─────────┴───────┴──────────────┴───────────────┘"
      ]
     },
     "execution_count": 262,
     "metadata": {},
     "output_type": "execute_result"
    }
   ],
   "source": [
    "pokemon.with_columns(\n",
    "    simulated_attack = pl.col('attack').map(simulated_attack_series)\n",
    ").head(3)"
   ]
  },
  {
   "cell_type": "code",
   "execution_count": 263,
   "metadata": {},
   "outputs": [
    {
     "data": {
      "text/html": [
       "<div><style>\n",
       ".dataframe > thead > tr > th,\n",
       ".dataframe > tbody > tr > td {\n",
       "  text-align: right;\n",
       "}\n",
       "</style>\n",
       "<small>shape: (3, 10)</small><table border=\"1\" class=\"dataframe\"><thead><tr><th>name</th><th>type1</th><th>type2</th><th>abilities</th><th>hp</th><th>attack</th><th>defense</th><th>speed</th><th>is_legendary</th><th>simulated_attack</th></tr><tr><td>str</td><td>str</td><td>str</td><td>list[str]</td><td>i64</td><td>i64</td><td>i64</td><td>i64</td><td>i64</td><td>f64</td></tr></thead><tbody><tr><td>&quot;Bulbasaur&quot;</td><td>&quot;grass&quot;</td><td>&quot;poison&quot;</td><td>[&quot;Overgrow&quot;, &quot;Chlorophyll&quot;]</td><td>45</td><td>49</td><td>49</td><td>45</td><td>0</td><td>53.9</td></tr><tr><td>&quot;Ivysaur&quot;</td><td>&quot;grass&quot;</td><td>&quot;poison&quot;</td><td>[&quot;Overgrow&quot;, &quot;Chlorophyll&quot;]</td><td>60</td><td>62</td><td>63</td><td>60</td><td>0</td><td>62.0</td></tr><tr><td>&quot;Venusaur&quot;</td><td>&quot;grass&quot;</td><td>&quot;poison&quot;</td><td>[&quot;Overgrow&quot;, &quot;Chlorophyll&quot;]</td><td>80</td><td>100</td><td>123</td><td>80</td><td>0</td><td>100.0</td></tr></tbody></table></div>"
      ],
      "text/plain": [
       "shape: (3, 10)\n",
       "┌───────────┬───────┬────────┬────────────────┬───┬─────────┬───────┬──────────────┬───────────────┐\n",
       "│ name      ┆ type1 ┆ type2  ┆ abilities      ┆ … ┆ defense ┆ speed ┆ is_legendary ┆ simulated_att │\n",
       "│ ---       ┆ ---   ┆ ---    ┆ ---            ┆   ┆ ---     ┆ ---   ┆ ---          ┆ ack           │\n",
       "│ str       ┆ str   ┆ str    ┆ list[str]      ┆   ┆ i64     ┆ i64   ┆ i64          ┆ ---           │\n",
       "│           ┆       ┆        ┆                ┆   ┆         ┆       ┆              ┆ f64           │\n",
       "╞═══════════╪═══════╪════════╪════════════════╪═══╪═════════╪═══════╪══════════════╪═══════════════╡\n",
       "│ Bulbasaur ┆ grass ┆ poison ┆ [\"Overgrow\",   ┆ … ┆ 49      ┆ 45    ┆ 0            ┆ 53.9          │\n",
       "│           ┆       ┆        ┆ \"Chlorophyll\"] ┆   ┆         ┆       ┆              ┆               │\n",
       "│ Ivysaur   ┆ grass ┆ poison ┆ [\"Overgrow\",   ┆ … ┆ 63      ┆ 60    ┆ 0            ┆ 62.0          │\n",
       "│           ┆       ┆        ┆ \"Chlorophyll\"] ┆   ┆         ┆       ┆              ┆               │\n",
       "│ Venusaur  ┆ grass ┆ poison ┆ [\"Overgrow\",   ┆ … ┆ 123     ┆ 80    ┆ 0            ┆ 100.0         │\n",
       "│           ┆       ┆        ┆ \"Chlorophyll\"] ┆   ┆         ┆       ┆              ┆               │\n",
       "└───────────┴───────┴────────┴────────────────┴───┴─────────┴───────┴──────────────┴───────────────┘"
      ]
     },
     "execution_count": 263,
     "metadata": {},
     "output_type": "execute_result"
    }
   ],
   "source": [
    "pokemon.with_columns(\n",
    "    simulated_attack = pl.col('attack').apply(simulated_attack_single_value)\n",
    ").head(3)"
   ]
  },
  {
   "cell_type": "code",
   "execution_count": 264,
   "metadata": {},
   "outputs": [],
   "source": [
    "# let's check their speed\n",
    "# we create a bigger dataframe by repeating the original one 100 times\n",
    "# no need to test the first function, as the result is not what we want\n",
    "\n",
    "pokemon_100 = pl.concat([pokemon] * 100, rechunk = True)"
   ]
  },
  {
   "cell_type": "code",
   "execution_count": 265,
   "metadata": {},
   "outputs": [
    {
     "name": "stdout",
     "output_type": "stream",
     "text": [
      "15 ms ± 1.01 ms per loop (mean ± std. dev. of 7 runs, 100 loops each)\n"
     ]
    }
   ],
   "source": [
    "%%timeit\n",
    "pokemon_100.with_columns(\n",
    "    simulated_attack = pl.col('attack').map(simulated_attack_series)\n",
    ")"
   ]
  },
  {
   "cell_type": "code",
   "execution_count": 266,
   "metadata": {},
   "outputs": [
    {
     "name": "stdout",
     "output_type": "stream",
     "text": [
      "20.1 ms ± 1.05 ms per loop (mean ± std. dev. of 7 runs, 10 loops each)\n"
     ]
    }
   ],
   "source": [
    "%%timeit\n",
    "pokemon_100.with_columns(\n",
    "    simulated_attack = pl.col('attack').apply(simulated_attack_single_value)\n",
    ")"
   ]
  },
  {
   "cell_type": "code",
   "execution_count": 267,
   "metadata": {},
   "outputs": [
    {
     "name": "stdout",
     "output_type": "stream",
     "text": [
      "2.04 ms ± 163 µs per loop (mean ± std. dev. of 7 runs, 100 loops each)\n"
     ]
    }
   ],
   "source": [
    "%%timeit\n",
    "pokemon_100.with_columns(\n",
    "    simulated_attack = pl.when(pl.col('attack') < 50).then(pl.col('attack') * 1.1).otherwise(pl.col('attack'))\n",
    ")"
   ]
  },
  {
   "cell_type": "code",
   "execution_count": 268,
   "metadata": {},
   "outputs": [],
   "source": [
    "# apply and map are considerably slower than the native Polars functions\n",
    "# in this case by a factor of 10\n",
    "# map is faster than apply because we operate on the full column instead of one row at a time"
   ]
  },
  {
   "cell_type": "code",
   "execution_count": 269,
   "metadata": {},
   "outputs": [
    {
     "data": {
      "text/html": [
       "<div><style>\n",
       ".dataframe > thead > tr > th,\n",
       ".dataframe > tbody > tr > td {\n",
       "  text-align: right;\n",
       "}\n",
       "</style>\n",
       "<small>shape: (2, 2)</small><table border=\"1\" class=\"dataframe\"><thead><tr><th>type1</th><th>attack</th></tr><tr><td>str</td><td>f64</td></tr></thead><tbody><tr><td>&quot;fire&quot;</td><td>220.0</td></tr><tr><td>&quot;grass&quot;</td><td>215.9</td></tr></tbody></table></div>"
      ],
      "text/plain": [
       "shape: (2, 2)\n",
       "┌───────┬────────┐\n",
       "│ type1 ┆ attack │\n",
       "│ ---   ┆ ---    │\n",
       "│ str   ┆ f64    │\n",
       "╞═══════╪════════╡\n",
       "│ fire  ┆ 220.0  │\n",
       "│ grass ┆ 215.9  │\n",
       "└───────┴────────┘"
      ]
     },
     "execution_count": 269,
     "metadata": {},
     "output_type": "execute_result"
    }
   ],
   "source": [
    "# inside groupby, we can use apply to apply a function to each group\n",
    "\n",
    "def simulated_attack_list_to_scalar(attack_column):\n",
    "    return sum([attack * 1.1 if attack < 50 else attack for attack in attack_column])\n",
    "\n",
    "pokemon.head(6).groupby('type1').agg(\n",
    "    pl.col('attack').apply(simulated_attack_list_to_scalar, return_dtype = pl.Float64)\n",
    ")"
   ]
  },
  {
   "cell_type": "code",
   "execution_count": 270,
   "metadata": {},
   "outputs": [
    {
     "data": {
      "text/html": [
       "<div><style>\n",
       ".dataframe > thead > tr > th,\n",
       ".dataframe > tbody > tr > td {\n",
       "  text-align: right;\n",
       "}\n",
       "</style>\n",
       "<small>shape: (6, 10)</small><table border=\"1\" class=\"dataframe\"><thead><tr><th>name</th><th>type1</th><th>type2</th><th>abilities</th><th>hp</th><th>attack</th><th>defense</th><th>speed</th><th>is_legendary</th><th>attack_plus_defense</th></tr><tr><td>str</td><td>str</td><td>str</td><td>list[str]</td><td>i64</td><td>i64</td><td>i64</td><td>i64</td><td>i64</td><td>i64</td></tr></thead><tbody><tr><td>&quot;Bulbasaur&quot;</td><td>&quot;grass&quot;</td><td>&quot;poison&quot;</td><td>[&quot;Overgrow&quot;, &quot;Chlorophyll&quot;]</td><td>45</td><td>49</td><td>49</td><td>45</td><td>0</td><td>98</td></tr><tr><td>&quot;Ivysaur&quot;</td><td>&quot;grass&quot;</td><td>&quot;poison&quot;</td><td>[&quot;Overgrow&quot;, &quot;Chlorophyll&quot;]</td><td>60</td><td>62</td><td>63</td><td>60</td><td>0</td><td>125</td></tr><tr><td>&quot;Venusaur&quot;</td><td>&quot;grass&quot;</td><td>&quot;poison&quot;</td><td>[&quot;Overgrow&quot;, &quot;Chlorophyll&quot;]</td><td>80</td><td>100</td><td>123</td><td>80</td><td>0</td><td>223</td></tr><tr><td>&quot;Charmander&quot;</td><td>&quot;fire&quot;</td><td>null</td><td>[&quot;Blaze&quot;, &quot;Solar Power&quot;]</td><td>39</td><td>52</td><td>43</td><td>65</td><td>0</td><td>95</td></tr><tr><td>&quot;Charmeleon&quot;</td><td>&quot;fire&quot;</td><td>null</td><td>[&quot;Blaze&quot;, &quot;Solar Power&quot;]</td><td>58</td><td>64</td><td>58</td><td>80</td><td>0</td><td>122</td></tr><tr><td>&quot;Charizard&quot;</td><td>&quot;fire&quot;</td><td>&quot;flying&quot;</td><td>[&quot;Blaze&quot;, &quot;Solar Power&quot;]</td><td>78</td><td>104</td><td>78</td><td>100</td><td>0</td><td>182</td></tr></tbody></table></div>"
      ],
      "text/plain": [
       "shape: (6, 10)\n",
       "┌────────────┬───────┬────────┬───────────────┬───┬─────────┬───────┬──────────────┬───────────────┐\n",
       "│ name       ┆ type1 ┆ type2  ┆ abilities     ┆ … ┆ defense ┆ speed ┆ is_legendary ┆ attack_plus_d │\n",
       "│ ---        ┆ ---   ┆ ---    ┆ ---           ┆   ┆ ---     ┆ ---   ┆ ---          ┆ efense        │\n",
       "│ str        ┆ str   ┆ str    ┆ list[str]     ┆   ┆ i64     ┆ i64   ┆ i64          ┆ ---           │\n",
       "│            ┆       ┆        ┆               ┆   ┆         ┆       ┆              ┆ i64           │\n",
       "╞════════════╪═══════╪════════╪═══════════════╪═══╪═════════╪═══════╪══════════════╪═══════════════╡\n",
       "│ Bulbasaur  ┆ grass ┆ poison ┆ [\"Overgrow\",  ┆ … ┆ 49      ┆ 45    ┆ 0            ┆ 98            │\n",
       "│            ┆       ┆        ┆ \"Chlorophyll\" ┆   ┆         ┆       ┆              ┆               │\n",
       "│            ┆       ┆        ┆ ]             ┆   ┆         ┆       ┆              ┆               │\n",
       "│ Ivysaur    ┆ grass ┆ poison ┆ [\"Overgrow\",  ┆ … ┆ 63      ┆ 60    ┆ 0            ┆ 125           │\n",
       "│            ┆       ┆        ┆ \"Chlorophyll\" ┆   ┆         ┆       ┆              ┆               │\n",
       "│            ┆       ┆        ┆ ]             ┆   ┆         ┆       ┆              ┆               │\n",
       "│ Venusaur   ┆ grass ┆ poison ┆ [\"Overgrow\",  ┆ … ┆ 123     ┆ 80    ┆ 0            ┆ 223           │\n",
       "│            ┆       ┆        ┆ \"Chlorophyll\" ┆   ┆         ┆       ┆              ┆               │\n",
       "│            ┆       ┆        ┆ ]             ┆   ┆         ┆       ┆              ┆               │\n",
       "│ Charmander ┆ fire  ┆ null   ┆ [\"Blaze\",     ┆ … ┆ 43      ┆ 65    ┆ 0            ┆ 95            │\n",
       "│            ┆       ┆        ┆ \"Solar        ┆   ┆         ┆       ┆              ┆               │\n",
       "│            ┆       ┆        ┆ Power\"]       ┆   ┆         ┆       ┆              ┆               │\n",
       "│ Charmeleon ┆ fire  ┆ null   ┆ [\"Blaze\",     ┆ … ┆ 58      ┆ 80    ┆ 0            ┆ 122           │\n",
       "│            ┆       ┆        ┆ \"Solar        ┆   ┆         ┆       ┆              ┆               │\n",
       "│            ┆       ┆        ┆ Power\"]       ┆   ┆         ┆       ┆              ┆               │\n",
       "│ Charizard  ┆ fire  ┆ flying ┆ [\"Blaze\",     ┆ … ┆ 78      ┆ 100   ┆ 0            ┆ 182           │\n",
       "│            ┆       ┆        ┆ \"Solar        ┆   ┆         ┆       ┆              ┆               │\n",
       "│            ┆       ┆        ┆ Power\"]       ┆   ┆         ┆       ┆              ┆               │\n",
       "└────────────┴───────┴────────┴───────────────┴───┴─────────┴───────┴──────────────┴───────────────┘"
      ]
     },
     "execution_count": 270,
     "metadata": {},
     "output_type": "execute_result"
    }
   ],
   "source": [
    "# if we want to apply a function to multiple columns, we can use pl.struct\n",
    "# to create a struct, then use apply with it\n",
    "\n",
    "pokemon.head(6).with_columns(\n",
    "    attack_plus_defense = pl.struct('attack','defense').apply(lambda columns: columns['attack'] + columns['defense'])\n",
    ")"
   ]
  },
  {
   "cell_type": "code",
   "execution_count": 271,
   "metadata": {},
   "outputs": [],
   "source": [
    "# we can also use lru_cache to cache the results of a function\n",
    "# this is useful when we have a function that is called multiple times with the same arguments\n",
    "# in this case, we have a function that returns a list of the characters of the type, repeated 10 times \n",
    "\n",
    "from functools import lru_cache\n",
    "\n",
    "@lru_cache(maxsize = 2048)\n",
    "def modify_type_cached(name):\n",
    "    return list(name)*10\n",
    "\n",
    "def modify_type(name):\n",
    "    return list(name)*10"
   ]
  },
  {
   "cell_type": "code",
   "execution_count": 272,
   "metadata": {},
   "outputs": [
    {
     "name": "stdout",
     "output_type": "stream",
     "text": [
      "1.52 s ± 154 ms per loop (mean ± std. dev. of 7 runs, 1 loop each)\n"
     ]
    }
   ],
   "source": [
    "%%timeit\n",
    "pokemon_100.select(\n",
    "    pl.col('type1').apply(modify_type)\n",
    ")"
   ]
  },
  {
   "cell_type": "code",
   "execution_count": 273,
   "metadata": {},
   "outputs": [
    {
     "name": "stdout",
     "output_type": "stream",
     "text": [
      "1.36 s ± 79 ms per loop (mean ± std. dev. of 7 runs, 1 loop each)\n"
     ]
    }
   ],
   "source": [
    "%%timeit\n",
    "pokemon_100.select(\n",
    "    pl.col('type1').apply(modify_type_cached)\n",
    ")"
   ]
  },
  {
   "cell_type": "code",
   "execution_count": null,
   "metadata": {},
   "outputs": [],
   "source": []
  }
 ],
 "metadata": {
  "kernelspec": {
   "display_name": "Python 3",
   "language": "python",
   "name": "python3"
  },
  "language_info": {
   "codemirror_mode": {
    "name": "ipython",
    "version": 3
   },
   "file_extension": ".py",
   "mimetype": "text/x-python",
   "name": "python",
   "nbconvert_exporter": "python",
   "pygments_lexer": "ipython3",
   "version": "3.10.6"
  },
  "orig_nbformat": 4
 },
 "nbformat": 4,
 "nbformat_minor": 2
}
