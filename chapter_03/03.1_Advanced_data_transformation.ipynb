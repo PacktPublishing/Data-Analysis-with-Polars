{
 "cells": [
  {
   "attachments": {},
   "cell_type": "markdown",
   "metadata": {},
   "source": [
    "### Advanced Data Transformation with Polars"
   ]
  },
  {
   "attachments": {},
   "cell_type": "markdown",
   "metadata": {},
   "source": [
    "The examples below use `.head()` to reduce the output to a few rows and take up less space.\n",
    "If you want the full output, remove `.head()` from the code.\n",
    "\n",
    "This notebooked is divided into sections. If your code editor supports it, you can use the **Outline** functionality to easily go to the code section you are interested in.\n",
    "\n",
    "For more details on Polars functions, check out the Polars API reference: https://pola-rs.github.io/polars/py-polars/html/reference/index.html"
   ]
  },
  {
   "cell_type": "code",
   "execution_count": 2,
   "metadata": {},
   "outputs": [
    {
     "data": {
      "text/plain": [
       "polars.config.Config"
      ]
     },
     "execution_count": 2,
     "metadata": {},
     "output_type": "execute_result"
    }
   ],
   "source": [
    "import polars as pl\n",
    "\n",
    "# Configure the number of characters to show for each string column\n",
    "pl.Config.set_fmt_str_lengths(30)"
   ]
  },
  {
   "cell_type": "code",
   "execution_count": 3,
   "metadata": {},
   "outputs": [],
   "source": [
    "pokemon = pl.read_parquet('../datasets/pokemon_simplified.parquet')"
   ]
  },
  {
   "cell_type": "code",
   "execution_count": 4,
   "metadata": {},
   "outputs": [
    {
     "data": {
      "text/html": [
       "<div><style>\n",
       ".dataframe > thead > tr > th,\n",
       ".dataframe > tbody > tr > td {\n",
       "  text-align: right;\n",
       "}\n",
       "</style>\n",
       "<small>shape: (3, 9)</small><table border=\"1\" class=\"dataframe\"><thead><tr><th>name</th><th>type1</th><th>type2</th><th>abilities</th><th>hp</th><th>attack</th><th>defense</th><th>speed</th><th>is_legendary</th></tr><tr><td>str</td><td>str</td><td>str</td><td>list[str]</td><td>i64</td><td>i64</td><td>i64</td><td>i64</td><td>i64</td></tr></thead><tbody><tr><td>&quot;Bulbasaur&quot;</td><td>&quot;grass&quot;</td><td>&quot;poison&quot;</td><td>[&quot;Overgrow&quot;, &quot;Chlorophyll&quot;]</td><td>45</td><td>49</td><td>49</td><td>45</td><td>0</td></tr><tr><td>&quot;Ivysaur&quot;</td><td>&quot;grass&quot;</td><td>&quot;poison&quot;</td><td>[&quot;Overgrow&quot;, &quot;Chlorophyll&quot;]</td><td>60</td><td>62</td><td>63</td><td>60</td><td>0</td></tr><tr><td>&quot;Venusaur&quot;</td><td>&quot;grass&quot;</td><td>&quot;poison&quot;</td><td>[&quot;Overgrow&quot;, &quot;Chlorophyll&quot;]</td><td>80</td><td>100</td><td>123</td><td>80</td><td>0</td></tr></tbody></table></div>"
      ],
      "text/plain": [
       "shape: (3, 9)\n",
       "┌───────────┬───────┬────────┬────────────────┬───┬────────┬─────────┬───────┬──────────────┐\n",
       "│ name      ┆ type1 ┆ type2  ┆ abilities      ┆ … ┆ attack ┆ defense ┆ speed ┆ is_legendary │\n",
       "│ ---       ┆ ---   ┆ ---    ┆ ---            ┆   ┆ ---    ┆ ---     ┆ ---   ┆ ---          │\n",
       "│ str       ┆ str   ┆ str    ┆ list[str]      ┆   ┆ i64    ┆ i64     ┆ i64   ┆ i64          │\n",
       "╞═══════════╪═══════╪════════╪════════════════╪═══╪════════╪═════════╪═══════╪══════════════╡\n",
       "│ Bulbasaur ┆ grass ┆ poison ┆ [\"Overgrow\",   ┆ … ┆ 49     ┆ 49      ┆ 45    ┆ 0            │\n",
       "│           ┆       ┆        ┆ \"Chlorophyll\"] ┆   ┆        ┆         ┆       ┆              │\n",
       "│ Ivysaur   ┆ grass ┆ poison ┆ [\"Overgrow\",   ┆ … ┆ 62     ┆ 63      ┆ 60    ┆ 0            │\n",
       "│           ┆       ┆        ┆ \"Chlorophyll\"] ┆   ┆        ┆         ┆       ┆              │\n",
       "│ Venusaur  ┆ grass ┆ poison ┆ [\"Overgrow\",   ┆ … ┆ 100    ┆ 123     ┆ 80    ┆ 0            │\n",
       "│           ┆       ┆        ┆ \"Chlorophyll\"] ┆   ┆        ┆         ┆       ┆              │\n",
       "└───────────┴───────┴────────┴────────────────┴───┴────────┴─────────┴───────┴──────────────┘"
      ]
     },
     "execution_count": 4,
     "metadata": {},
     "output_type": "execute_result"
    }
   ],
   "source": [
    "pokemon.head(3)"
   ]
  },
  {
   "attachments": {},
   "cell_type": "markdown",
   "metadata": {},
   "source": [
    "#### Conditions"
   ]
  },
  {
   "cell_type": "code",
   "execution_count": 5,
   "metadata": {},
   "outputs": [
    {
     "data": {
      "text/html": [
       "<div><style>\n",
       ".dataframe > thead > tr > th,\n",
       ".dataframe > tbody > tr > td {\n",
       "  text-align: right;\n",
       "}\n",
       "</style>\n",
       "<small>shape: (6, 3)</small><table border=\"1\" class=\"dataframe\"><thead><tr><th>name</th><th>attack</th><th>attack_category</th></tr><tr><td>str</td><td>i64</td><td>str</td></tr></thead><tbody><tr><td>&quot;Bulbasaur&quot;</td><td>49</td><td>null</td></tr><tr><td>&quot;Ivysaur&quot;</td><td>62</td><td>null</td></tr><tr><td>&quot;Venusaur&quot;</td><td>100</td><td>null</td></tr><tr><td>&quot;Charmander&quot;</td><td>52</td><td>null</td></tr><tr><td>&quot;Charmeleon&quot;</td><td>64</td><td>null</td></tr><tr><td>&quot;Charizard&quot;</td><td>104</td><td>&quot;Top 25%&quot;</td></tr></tbody></table></div>"
      ],
      "text/plain": [
       "shape: (6, 3)\n",
       "┌────────────┬────────┬─────────────────┐\n",
       "│ name       ┆ attack ┆ attack_category │\n",
       "│ ---        ┆ ---    ┆ ---             │\n",
       "│ str        ┆ i64    ┆ str             │\n",
       "╞════════════╪════════╪═════════════════╡\n",
       "│ Bulbasaur  ┆ 49     ┆ null            │\n",
       "│ Ivysaur    ┆ 62     ┆ null            │\n",
       "│ Venusaur   ┆ 100    ┆ null            │\n",
       "│ Charmander ┆ 52     ┆ null            │\n",
       "│ Charmeleon ┆ 64     ┆ null            │\n",
       "│ Charizard  ┆ 104    ┆ Top 25%         │\n",
       "└────────────┴────────┴─────────────────┘"
      ]
     },
     "execution_count": 5,
     "metadata": {},
     "output_type": "execute_result"
    }
   ],
   "source": [
    "# Identify the top 25% of Pokemon based on the attack stats\n",
    "# Use the quantile function to get the 75th percentile\n",
    "\n",
    "pokemon.select(\n",
    "    'name', 'attack',\n",
    "    attack_category = \n",
    "    pl.when(pl.col('attack') > pl.col('attack').quantile(0.75))\n",
    "    .then('Top 25%')\n",
    ").head(6)"
   ]
  },
  {
   "cell_type": "code",
   "execution_count": 6,
   "metadata": {},
   "outputs": [
    {
     "data": {
      "text/html": [
       "<div><style>\n",
       ".dataframe > thead > tr > th,\n",
       ".dataframe > tbody > tr > td {\n",
       "  text-align: right;\n",
       "}\n",
       "</style>\n",
       "<small>shape: (6, 3)</small><table border=\"1\" class=\"dataframe\"><thead><tr><th>name</th><th>attack</th><th>attack_category</th></tr><tr><td>str</td><td>i64</td><td>str</td></tr></thead><tbody><tr><td>&quot;Bulbasaur&quot;</td><td>49</td><td>&quot;Other&quot;</td></tr><tr><td>&quot;Ivysaur&quot;</td><td>62</td><td>&quot;Other&quot;</td></tr><tr><td>&quot;Venusaur&quot;</td><td>100</td><td>&quot;Other&quot;</td></tr><tr><td>&quot;Charmander&quot;</td><td>52</td><td>&quot;Other&quot;</td></tr><tr><td>&quot;Charmeleon&quot;</td><td>64</td><td>&quot;Other&quot;</td></tr><tr><td>&quot;Charizard&quot;</td><td>104</td><td>&quot;Top 25%&quot;</td></tr></tbody></table></div>"
      ],
      "text/plain": [
       "shape: (6, 3)\n",
       "┌────────────┬────────┬─────────────────┐\n",
       "│ name       ┆ attack ┆ attack_category │\n",
       "│ ---        ┆ ---    ┆ ---             │\n",
       "│ str        ┆ i64    ┆ str             │\n",
       "╞════════════╪════════╪═════════════════╡\n",
       "│ Bulbasaur  ┆ 49     ┆ Other           │\n",
       "│ Ivysaur    ┆ 62     ┆ Other           │\n",
       "│ Venusaur   ┆ 100    ┆ Other           │\n",
       "│ Charmander ┆ 52     ┆ Other           │\n",
       "│ Charmeleon ┆ 64     ┆ Other           │\n",
       "│ Charizard  ┆ 104    ┆ Top 25%         │\n",
       "└────────────┴────────┴─────────────────┘"
      ]
     },
     "execution_count": 6,
     "metadata": {},
     "output_type": "execute_result"
    }
   ],
   "source": [
    "# Identify the top 25% of Pokemon based on the attack stats\n",
    "# Use otherwise to assign the remaining 75% of Pokemon to the 'Other' category\n",
    "\n",
    "pokemon.select(\n",
    "    'name', 'attack',\n",
    "    attack_category = \n",
    "        pl.when(pl.col('attack') > pl.col('attack').quantile(0.75))\n",
    "        .then('Top 25%')\n",
    "        .otherwise('Other')\n",
    ").head(6)"
   ]
  },
  {
   "cell_type": "code",
   "execution_count": 7,
   "metadata": {},
   "outputs": [
    {
     "data": {
      "text/html": [
       "<div><style>\n",
       ".dataframe > thead > tr > th,\n",
       ".dataframe > tbody > tr > td {\n",
       "  text-align: right;\n",
       "}\n",
       "</style>\n",
       "<small>shape: (6, 3)</small><table border=\"1\" class=\"dataframe\"><thead><tr><th>name</th><th>attack</th><th>attack_category</th></tr><tr><td>str</td><td>i64</td><td>str</td></tr></thead><tbody><tr><td>&quot;Bulbasaur&quot;</td><td>49</td><td>&quot;Bottom 25%&quot;</td></tr><tr><td>&quot;Ivysaur&quot;</td><td>62</td><td>&quot;Other&quot;</td></tr><tr><td>&quot;Venusaur&quot;</td><td>100</td><td>&quot;Other&quot;</td></tr><tr><td>&quot;Charmander&quot;</td><td>52</td><td>&quot;Bottom 25%&quot;</td></tr><tr><td>&quot;Charmeleon&quot;</td><td>64</td><td>&quot;Other&quot;</td></tr><tr><td>&quot;Charizard&quot;</td><td>104</td><td>&quot;Top 25%&quot;</td></tr></tbody></table></div>"
      ],
      "text/plain": [
       "shape: (6, 3)\n",
       "┌────────────┬────────┬─────────────────┐\n",
       "│ name       ┆ attack ┆ attack_category │\n",
       "│ ---        ┆ ---    ┆ ---             │\n",
       "│ str        ┆ i64    ┆ str             │\n",
       "╞════════════╪════════╪═════════════════╡\n",
       "│ Bulbasaur  ┆ 49     ┆ Bottom 25%      │\n",
       "│ Ivysaur    ┆ 62     ┆ Other           │\n",
       "│ Venusaur   ┆ 100    ┆ Other           │\n",
       "│ Charmander ┆ 52     ┆ Bottom 25%      │\n",
       "│ Charmeleon ┆ 64     ┆ Other           │\n",
       "│ Charizard  ┆ 104    ┆ Top 25%         │\n",
       "└────────────┴────────┴─────────────────┘"
      ]
     },
     "execution_count": 7,
     "metadata": {},
     "output_type": "execute_result"
    }
   ],
   "source": [
    "# Identify the top 25% of Pokemon based on the attack stats AND the bottom 25%\n",
    "# Use multiple when then statements\n",
    "\n",
    "pokemon.select(\n",
    "    'name', 'attack',\n",
    "    attack_category = \n",
    "        pl.when(pl.col('attack') > pl.col('attack').quantile(0.75))\n",
    "        .then('Top 25%')\n",
    "        .when(pl.col('attack') < pl.col('attack').quantile(0.25))\n",
    "        .then('Bottom 25%')\n",
    "        .otherwise('Other')\n",
    ").head(6)"
   ]
  },
  {
   "cell_type": "code",
   "execution_count": 8,
   "metadata": {},
   "outputs": [
    {
     "data": {
      "text/html": [
       "<div><style>\n",
       ".dataframe > thead > tr > th,\n",
       ".dataframe > tbody > tr > td {\n",
       "  text-align: right;\n",
       "}\n",
       "</style>\n",
       "<small>shape: (6, 3)</small><table border=\"1\" class=\"dataframe\"><thead><tr><th>name</th><th>type1</th><th>color</th></tr><tr><td>str</td><td>str</td><td>str</td></tr></thead><tbody><tr><td>&quot;Bulbasaur&quot;</td><td>&quot;grass&quot;</td><td>&quot;green&quot;</td></tr><tr><td>&quot;Ivysaur&quot;</td><td>&quot;grass&quot;</td><td>&quot;green&quot;</td></tr><tr><td>&quot;Venusaur&quot;</td><td>&quot;grass&quot;</td><td>&quot;green&quot;</td></tr><tr><td>&quot;Charmander&quot;</td><td>&quot;fire&quot;</td><td>&quot;red&quot;</td></tr><tr><td>&quot;Charmeleon&quot;</td><td>&quot;fire&quot;</td><td>&quot;red&quot;</td></tr><tr><td>&quot;Charizard&quot;</td><td>&quot;fire&quot;</td><td>&quot;red&quot;</td></tr></tbody></table></div>"
      ],
      "text/plain": [
       "shape: (6, 3)\n",
       "┌────────────┬───────┬───────┐\n",
       "│ name       ┆ type1 ┆ color │\n",
       "│ ---        ┆ ---   ┆ ---   │\n",
       "│ str        ┆ str   ┆ str   │\n",
       "╞════════════╪═══════╪═══════╡\n",
       "│ Bulbasaur  ┆ grass ┆ green │\n",
       "│ Ivysaur    ┆ grass ┆ green │\n",
       "│ Venusaur   ┆ grass ┆ green │\n",
       "│ Charmander ┆ fire  ┆ red   │\n",
       "│ Charmeleon ┆ fire  ┆ red   │\n",
       "│ Charizard  ┆ fire  ┆ red   │\n",
       "└────────────┴───────┴───────┘"
      ]
     },
     "execution_count": 8,
     "metadata": {},
     "output_type": "execute_result"
    }
   ],
   "source": [
    "# We can use map_dict instead of pl.when().then() to map colors to Pokemon types\n",
    "\n",
    "type_colors = {'grass': 'green', 'fire': 'red', 'water': 'blue'}\n",
    "\n",
    "pokemon.select(\n",
    "    'name', 'type1',\n",
    "    color = pl.col('type1').map_dict(type_colors)\n",
    ").head(6)"
   ]
  },
  {
   "attachments": {},
   "cell_type": "markdown",
   "metadata": {},
   "source": [
    "#### One hot encoding"
   ]
  },
  {
   "cell_type": "code",
   "execution_count": 9,
   "metadata": {},
   "outputs": [
    {
     "data": {
      "text/html": [
       "<div><style>\n",
       ".dataframe > thead > tr > th,\n",
       ".dataframe > tbody > tr > td {\n",
       "  text-align: right;\n",
       "}\n",
       "</style>\n",
       "<small>shape: (6, 3)</small><table border=\"1\" class=\"dataframe\"><thead><tr><th>name</th><th>type1_fire</th><th>type1_grass</th></tr><tr><td>str</td><td>u8</td><td>u8</td></tr></thead><tbody><tr><td>&quot;Bulbasaur&quot;</td><td>0</td><td>1</td></tr><tr><td>&quot;Ivysaur&quot;</td><td>0</td><td>1</td></tr><tr><td>&quot;Venusaur&quot;</td><td>0</td><td>1</td></tr><tr><td>&quot;Charmander&quot;</td><td>1</td><td>0</td></tr><tr><td>&quot;Charmeleon&quot;</td><td>1</td><td>0</td></tr><tr><td>&quot;Charizard&quot;</td><td>1</td><td>0</td></tr></tbody></table></div>"
      ],
      "text/plain": [
       "shape: (6, 3)\n",
       "┌────────────┬────────────┬─────────────┐\n",
       "│ name       ┆ type1_fire ┆ type1_grass │\n",
       "│ ---        ┆ ---        ┆ ---         │\n",
       "│ str        ┆ u8         ┆ u8          │\n",
       "╞════════════╪════════════╪═════════════╡\n",
       "│ Bulbasaur  ┆ 0          ┆ 1           │\n",
       "│ Ivysaur    ┆ 0          ┆ 1           │\n",
       "│ Venusaur   ┆ 0          ┆ 1           │\n",
       "│ Charmander ┆ 1          ┆ 0           │\n",
       "│ Charmeleon ┆ 1          ┆ 0           │\n",
       "│ Charizard  ┆ 1          ┆ 0           │\n",
       "└────────────┴────────────┴─────────────┘"
      ]
     },
     "execution_count": 9,
     "metadata": {},
     "output_type": "execute_result"
    }
   ],
   "source": [
    "# Convert the column type1 to dummies\n",
    "\n",
    "pokemon.head(6).select('name','type1').to_dummies(columns=['type1'])"
   ]
  },
  {
   "attachments": {},
   "cell_type": "markdown",
   "metadata": {},
   "source": [
    "#### Aggregating data"
   ]
  },
  {
   "cell_type": "code",
   "execution_count": 10,
   "metadata": {},
   "outputs": [
    {
     "data": {
      "text/html": [
       "<div><style>\n",
       ".dataframe > thead > tr > th,\n",
       ".dataframe > tbody > tr > td {\n",
       "  text-align: right;\n",
       "}\n",
       "</style>\n",
       "<small>shape: (3, 5)</small><table border=\"1\" class=\"dataframe\"><thead><tr><th>type1</th><th>hp</th><th>attack</th><th>defense</th><th>speed</th></tr><tr><td>str</td><td>f64</td><td>f64</td><td>f64</td><td>f64</td></tr></thead><tbody><tr><td>&quot;ice&quot;</td><td>70.0</td><td>65.0</td><td>70.0</td><td>59.0</td></tr><tr><td>&quot;normal&quot;</td><td>70.0</td><td>75.0</td><td>60.0</td><td>68.0</td></tr><tr><td>&quot;bug&quot;</td><td>60.0</td><td>65.0</td><td>60.0</td><td>58.5</td></tr></tbody></table></div>"
      ],
      "text/plain": [
       "shape: (3, 5)\n",
       "┌────────┬──────┬────────┬─────────┬───────┐\n",
       "│ type1  ┆ hp   ┆ attack ┆ defense ┆ speed │\n",
       "│ ---    ┆ ---  ┆ ---    ┆ ---     ┆ ---   │\n",
       "│ str    ┆ f64  ┆ f64    ┆ f64     ┆ f64   │\n",
       "╞════════╪══════╪════════╪═════════╪═══════╡\n",
       "│ ice    ┆ 70.0 ┆ 65.0   ┆ 70.0    ┆ 59.0  │\n",
       "│ normal ┆ 70.0 ┆ 75.0   ┆ 60.0    ┆ 68.0  │\n",
       "│ bug    ┆ 60.0 ┆ 65.0   ┆ 60.0    ┆ 58.5  │\n",
       "└────────┴──────┴────────┴─────────┴───────┘"
      ]
     },
     "execution_count": 10,
     "metadata": {},
     "output_type": "execute_result"
    }
   ],
   "source": [
    "# Group by type and calculate median stats\n",
    "# Group by is run in parallel so the order of the rows can change\n",
    "\n",
    "pokemon.groupby('type1').agg(\n",
    "    pl.col('hp', 'attack', 'defense', 'speed').median()\n",
    ").head(3)"
   ]
  },
  {
   "cell_type": "code",
   "execution_count": 11,
   "metadata": {},
   "outputs": [
    {
     "data": {
      "text/html": [
       "<div><style>\n",
       ".dataframe > thead > tr > th,\n",
       ".dataframe > tbody > tr > td {\n",
       "  text-align: right;\n",
       "}\n",
       "</style>\n",
       "<small>shape: (3, 5)</small><table border=\"1\" class=\"dataframe\"><thead><tr><th>type1</th><th>hp</th><th>attack</th><th>defense</th><th>speed</th></tr><tr><td>str</td><td>f64</td><td>f64</td><td>f64</td><td>f64</td></tr></thead><tbody><tr><td>&quot;grass&quot;</td><td>65.0</td><td>68.0</td><td>66.0</td><td>55.0</td></tr><tr><td>&quot;fire&quot;</td><td>65.0</td><td>79.5</td><td>61.5</td><td>72.5</td></tr><tr><td>&quot;water&quot;</td><td>68.0</td><td>70.0</td><td>70.0</td><td>64.0</td></tr></tbody></table></div>"
      ],
      "text/plain": [
       "shape: (3, 5)\n",
       "┌───────┬──────┬────────┬─────────┬───────┐\n",
       "│ type1 ┆ hp   ┆ attack ┆ defense ┆ speed │\n",
       "│ ---   ┆ ---  ┆ ---    ┆ ---     ┆ ---   │\n",
       "│ str   ┆ f64  ┆ f64    ┆ f64     ┆ f64   │\n",
       "╞═══════╪══════╪════════╪═════════╪═══════╡\n",
       "│ grass ┆ 65.0 ┆ 68.0   ┆ 66.0    ┆ 55.0  │\n",
       "│ fire  ┆ 65.0 ┆ 79.5   ┆ 61.5    ┆ 72.5  │\n",
       "│ water ┆ 68.0 ┆ 70.0   ┆ 70.0    ┆ 64.0  │\n",
       "└───────┴──────┴────────┴─────────┴───────┘"
      ]
     },
     "execution_count": 11,
     "metadata": {},
     "output_type": "execute_result"
    }
   ],
   "source": [
    "# Group by type and calculate median stats\n",
    "# Maintaining the order is possible but it is slower\n",
    "\n",
    "pokemon.groupby('type1', maintain_order=True).agg(\n",
    "    pl.col('hp', 'attack', 'defense', 'speed').median()\n",
    ").head(3)"
   ]
  },
  {
   "cell_type": "code",
   "execution_count": 12,
   "metadata": {},
   "outputs": [
    {
     "data": {
      "text/html": [
       "<div><style>\n",
       ".dataframe > thead > tr > th,\n",
       ".dataframe > tbody > tr > td {\n",
       "  text-align: right;\n",
       "}\n",
       "</style>\n",
       "<small>shape: (3, 6)</small><table border=\"1\" class=\"dataframe\"><thead><tr><th>type1</th><th>type2</th><th>hp</th><th>attack</th><th>defense</th><th>speed</th></tr><tr><td>str</td><td>str</td><td>f64</td><td>f64</td><td>f64</td><td>f64</td></tr></thead><tbody><tr><td>&quot;water&quot;</td><td>&quot;poison&quot;</td><td>65.0</td><td>70.0</td><td>65.0</td><td>85.0</td></tr><tr><td>&quot;ghost&quot;</td><td>&quot;poison&quot;</td><td>45.0</td><td>50.0</td><td>45.0</td><td>95.0</td></tr><tr><td>&quot;normal&quot;</td><td>null</td><td>75.0</td><td>80.0</td><td>63.0</td><td>60.0</td></tr></tbody></table></div>"
      ],
      "text/plain": [
       "shape: (3, 6)\n",
       "┌────────┬────────┬──────┬────────┬─────────┬───────┐\n",
       "│ type1  ┆ type2  ┆ hp   ┆ attack ┆ defense ┆ speed │\n",
       "│ ---    ┆ ---    ┆ ---  ┆ ---    ┆ ---     ┆ ---   │\n",
       "│ str    ┆ str    ┆ f64  ┆ f64    ┆ f64     ┆ f64   │\n",
       "╞════════╪════════╪══════╪════════╪═════════╪═══════╡\n",
       "│ water  ┆ poison ┆ 65.0 ┆ 70.0   ┆ 65.0    ┆ 85.0  │\n",
       "│ ghost  ┆ poison ┆ 45.0 ┆ 50.0   ┆ 45.0    ┆ 95.0  │\n",
       "│ normal ┆ null   ┆ 75.0 ┆ 80.0   ┆ 63.0    ┆ 60.0  │\n",
       "└────────┴────────┴──────┴────────┴─────────┴───────┘"
      ]
     },
     "execution_count": 12,
     "metadata": {},
     "output_type": "execute_result"
    }
   ],
   "source": [
    "# Group on multiple columns works the same way\n",
    "\n",
    "pokemon.groupby(['type1', 'type2']).agg(\n",
    "    pl.col('hp', 'attack', 'defense', 'speed').median()\n",
    ").head(3)"
   ]
  },
  {
   "cell_type": "code",
   "execution_count": 13,
   "metadata": {},
   "outputs": [
    {
     "data": {
      "text/html": [
       "<div><style>\n",
       ".dataframe > thead > tr > th,\n",
       ".dataframe > tbody > tr > td {\n",
       "  text-align: right;\n",
       "}\n",
       "</style>\n",
       "<small>shape: (3, 7)</small><table border=\"1\" class=\"dataframe\"><thead><tr><th>type1</th><th>avg_attack</th><th>max_attack</th><th>quantile_75</th><th>count</th><th>first_pokemon</th><th>strongest_pokemon</th></tr><tr><td>str</td><td>f64</td><td>i64</td><td>f64</td><td>u32</td><td>str</td><td>str</td></tr></thead><tbody><tr><td>&quot;ice&quot;</td><td>73.304348</td><td>130</td><td>95.0</td><td>23</td><td>&quot;Jynx&quot;</td><td>&quot;Mamoswine&quot;</td></tr><tr><td>&quot;water&quot;</td><td>73.307018</td><td>155</td><td>90.0</td><td>114</td><td>&quot;Squirtle&quot;</td><td>&quot;Gyarados&quot;</td></tr><tr><td>&quot;fighting&quot;</td><td>99.178571</td><td>145</td><td>124.0</td><td>28</td><td>&quot;Mankey&quot;</td><td>&quot;Lucario&quot;</td></tr></tbody></table></div>"
      ],
      "text/plain": [
       "shape: (3, 7)\n",
       "┌──────────┬────────────┬────────────┬─────────────┬───────┬───────────────┬───────────────────┐\n",
       "│ type1    ┆ avg_attack ┆ max_attack ┆ quantile_75 ┆ count ┆ first_pokemon ┆ strongest_pokemon │\n",
       "│ ---      ┆ ---        ┆ ---        ┆ ---         ┆ ---   ┆ ---           ┆ ---               │\n",
       "│ str      ┆ f64        ┆ i64        ┆ f64         ┆ u32   ┆ str           ┆ str               │\n",
       "╞══════════╪════════════╪════════════╪═════════════╪═══════╪═══════════════╪═══════════════════╡\n",
       "│ ice      ┆ 73.304348  ┆ 130        ┆ 95.0        ┆ 23    ┆ Jynx          ┆ Mamoswine         │\n",
       "│ water    ┆ 73.307018  ┆ 155        ┆ 90.0        ┆ 114   ┆ Squirtle      ┆ Gyarados          │\n",
       "│ fighting ┆ 99.178571  ┆ 145        ┆ 124.0       ┆ 28    ┆ Mankey        ┆ Lucario           │\n",
       "└──────────┴────────────┴────────────┴─────────────┴───────┴───────────────┴───────────────────┘"
      ]
     },
     "execution_count": 13,
     "metadata": {},
     "output_type": "execute_result"
    }
   ],
   "source": [
    "# Lots of aggregations functions are available\n",
    "\n",
    "pokemon.groupby('type1').agg(\n",
    "    avg_attack = pl.col('attack').mean(),\n",
    "    max_attack = pl.col('attack').max(),\n",
    "    quantile_75 = pl.col('attack').quantile(0.75),\n",
    "    count = pl.count(), \n",
    "    first_pokemon = pl.first('name'), \n",
    "    strongest_pokemon = pl.col('name').sort_by('attack', descending=True).first() # \n",
    ").head(3)"
   ]
  },
  {
   "cell_type": "code",
   "execution_count": 14,
   "metadata": {},
   "outputs": [
    {
     "data": {
      "text/html": [
       "<div><style>\n",
       ".dataframe > thead > tr > th,\n",
       ".dataframe > tbody > tr > td {\n",
       "  text-align: right;\n",
       "}\n",
       "</style>\n",
       "<small>shape: (3, 2)</small><table border=\"1\" class=\"dataframe\"><thead><tr><th>type1</th><th>sqrt_attack_mean</th></tr><tr><td>str</td><td>f64</td></tr></thead><tbody><tr><td>&quot;rock&quot;</td><td>9.342125</td></tr><tr><td>&quot;steel&quot;</td><td>9.516288</td></tr><tr><td>&quot;poison&quot;</td><td>8.445286</td></tr></tbody></table></div>"
      ],
      "text/plain": [
       "shape: (3, 2)\n",
       "┌────────┬──────────────────┐\n",
       "│ type1  ┆ sqrt_attack_mean │\n",
       "│ ---    ┆ ---              │\n",
       "│ str    ┆ f64              │\n",
       "╞════════╪══════════════════╡\n",
       "│ rock   ┆ 9.342125         │\n",
       "│ steel  ┆ 9.516288         │\n",
       "│ poison ┆ 8.445286         │\n",
       "└────────┴──────────────────┘"
      ]
     },
     "execution_count": 14,
     "metadata": {},
     "output_type": "execute_result"
    }
   ],
   "source": [
    "# Possible to use Numpy universal functions (ufuncs) in aggregations\n",
    "\n",
    "import numpy as np\n",
    "\n",
    "pokemon.groupby('type1').agg(\n",
    "    sqrt_attack_mean = np.sqrt(pl.col('attack')).mean() # sqrt is the square root function\n",
    ").head(3)"
   ]
  },
  {
   "cell_type": "code",
   "execution_count": 15,
   "metadata": {},
   "outputs": [
    {
     "data": {
      "text/html": [
       "<div><style>\n",
       ".dataframe > thead > tr > th,\n",
       ".dataframe > tbody > tr > td {\n",
       "  text-align: right;\n",
       "}\n",
       "</style>\n",
       "<small>shape: (3, 2)</small><table border=\"1\" class=\"dataframe\"><thead><tr><th>type1</th><th>name</th></tr><tr><td>str</td><td>list[str]</td></tr></thead><tbody><tr><td>&quot;fighting&quot;</td><td>[&quot;Mankey&quot;, &quot;Primeape&quot;, &quot;Machop&quot;]</td></tr><tr><td>&quot;psychic&quot;</td><td>[&quot;Abra&quot;, &quot;Kadabra&quot;, &quot;Alakazam&quot;]</td></tr><tr><td>&quot;poison&quot;</td><td>[&quot;Ekans&quot;, &quot;Arbok&quot;, &quot;Nidoran♀&quot;]</td></tr></tbody></table></div>"
      ],
      "text/plain": [
       "shape: (3, 2)\n",
       "┌──────────┬─────────────────────────────────┐\n",
       "│ type1    ┆ name                            │\n",
       "│ ---      ┆ ---                             │\n",
       "│ str      ┆ list[str]                       │\n",
       "╞══════════╪═════════════════════════════════╡\n",
       "│ fighting ┆ [\"Mankey\", \"Primeape\", \"Machop… │\n",
       "│ psychic  ┆ [\"Abra\", \"Kadabra\", \"Alakazam\"… │\n",
       "│ poison   ┆ [\"Ekans\", \"Arbok\", \"Nidoran♀\"]  │\n",
       "└──────────┴─────────────────────────────────┘"
      ]
     },
     "execution_count": 15,
     "metadata": {},
     "output_type": "execute_result"
    }
   ],
   "source": [
    "# If aggregation functions are not specified, the result if aggregated in a list\n",
    "\n",
    "pokemon.groupby('type1').agg(\n",
    "    pl.col('name').head(3)\n",
    ").head(3)"
   ]
  },
  {
   "cell_type": "code",
   "execution_count": 16,
   "metadata": {},
   "outputs": [
    {
     "data": {
      "text/html": [
       "<div><style>\n",
       ".dataframe > thead > tr > th,\n",
       ".dataframe > tbody > tr > td {\n",
       "  text-align: right;\n",
       "}\n",
       "</style>\n",
       "<small>shape: (3, 2)</small><table border=\"1\" class=\"dataframe\"><thead><tr><th>type1</th><th>name</th></tr><tr><td>str</td><td>str</td></tr></thead><tbody><tr><td>&quot;electric&quot;</td><td>&quot;Pikachu, Raichu, Magnemite&quot;</td></tr><tr><td>&quot;ice&quot;</td><td>&quot;Jynx, Articuno, Swinub&quot;</td></tr><tr><td>&quot;ghost&quot;</td><td>&quot;Gastly, Haunter, Gengar&quot;</td></tr></tbody></table></div>"
      ],
      "text/plain": [
       "shape: (3, 2)\n",
       "┌──────────┬────────────────────────────┐\n",
       "│ type1    ┆ name                       │\n",
       "│ ---      ┆ ---                        │\n",
       "│ str      ┆ str                        │\n",
       "╞══════════╪════════════════════════════╡\n",
       "│ electric ┆ Pikachu, Raichu, Magnemite │\n",
       "│ ice      ┆ Jynx, Articuno, Swinub     │\n",
       "│ ghost    ┆ Gastly, Haunter, Gengar    │\n",
       "└──────────┴────────────────────────────┘"
      ]
     },
     "execution_count": 16,
     "metadata": {},
     "output_type": "execute_result"
    }
   ],
   "source": [
    "# Concatenate the names of the pokemon into a string\n",
    "\n",
    "pokemon.groupby('type1').agg(\n",
    "    pl.col('name').head(3).str.concat(', ')\n",
    ").head(3)"
   ]
  },
  {
   "cell_type": "code",
   "execution_count": 17,
   "metadata": {},
   "outputs": [
    {
     "data": {
      "text/html": [
       "<div><style>\n",
       ".dataframe > thead > tr > th,\n",
       ".dataframe > tbody > tr > td {\n",
       "  text-align: right;\n",
       "}\n",
       "</style>\n",
       "<small>shape: (3, 3)</small><table border=\"1\" class=\"dataframe\"><thead><tr><th>type1</th><th>avg_attack_when_speed_above_100</th><th>avg_attack_when_speed_below_100</th></tr><tr><td>str</td><td>f64</td><td>f64</td></tr></thead><tbody><tr><td>&quot;rock&quot;</td><td>119.5</td><td>86.230769</td></tr><tr><td>&quot;bug&quot;</td><td>105.3</td><td>64.52459</td></tr><tr><td>&quot;fighting&quot;</td><td>120.666667</td><td>96.458333</td></tr></tbody></table></div>"
      ],
      "text/plain": [
       "shape: (3, 3)\n",
       "┌──────────┬─────────────────────────────────┬─────────────────────────────────┐\n",
       "│ type1    ┆ avg_attack_when_speed_above_10… ┆ avg_attack_when_speed_below_10… │\n",
       "│ ---      ┆ ---                             ┆ ---                             │\n",
       "│ str      ┆ f64                             ┆ f64                             │\n",
       "╞══════════╪═════════════════════════════════╪═════════════════════════════════╡\n",
       "│ rock     ┆ 119.5                           ┆ 86.230769                       │\n",
       "│ bug      ┆ 105.3                           ┆ 64.52459                        │\n",
       "│ fighting ┆ 120.666667                      ┆ 96.458333                       │\n",
       "└──────────┴─────────────────────────────────┴─────────────────────────────────┘"
      ]
     },
     "execution_count": 17,
     "metadata": {},
     "output_type": "execute_result"
    }
   ],
   "source": [
    "# Aggregation with conditions\n",
    "# Calculate the average attack for Pokemons with a speed above 100, by type\n",
    "\n",
    "pokemon.groupby('type1').agg(\n",
    "    avg_attack_when_speed_above_100 = \n",
    "        pl.col('attack').filter(pl.col('speed') > 100).mean(),\n",
    "    avg_attack_when_speed_below_100 = \n",
    "        pl.col('attack').filter(pl.col('speed') < 100).mean()\n",
    ").head(3)\n"
   ]
  },
  {
   "cell_type": "code",
   "execution_count": 18,
   "metadata": {},
   "outputs": [
    {
     "data": {
      "text/html": [
       "<div><style>\n",
       ".dataframe > thead > tr > th,\n",
       ".dataframe > tbody > tr > td {\n",
       "  text-align: right;\n",
       "}\n",
       "</style>\n",
       "<small>shape: (3, 4)</small><table border=\"1\" class=\"dataframe\"><thead><tr><th>type1</th><th>avg_attack_when_speed_above_30</th><th>avg_attack_when_speed_above_60</th><th>avg_attack_when_speed_above_90</th></tr><tr><td>str</td><td>f64</td><td>f64</td><td>f64</td></tr></thead><tbody><tr><td>&quot;grass&quot;</td><td>76.181818</td><td>83.870968</td><td>95.4</td></tr><tr><td>&quot;fighting&quot;</td><td>100.62963</td><td>106.076923</td><td>113.4</td></tr><tr><td>&quot;ground&quot;</td><td>94.966667</td><td>98.733333</td><td>111.4</td></tr></tbody></table></div>"
      ],
      "text/plain": [
       "shape: (3, 4)\n",
       "┌──────────┬─────────────────────────────┬────────────────────────────┬────────────────────────────┐\n",
       "│ type1    ┆ avg_attack_when_speed_above ┆ avg_attack_when_speed_abov ┆ avg_attack_when_speed_abov │\n",
       "│ ---      ┆ _30                         ┆ e_60                       ┆ e_90                       │\n",
       "│ str      ┆ ---                         ┆ ---                        ┆ ---                        │\n",
       "│          ┆ f64                         ┆ f64                        ┆ f64                        │\n",
       "╞══════════╪═════════════════════════════╪════════════════════════════╪════════════════════════════╡\n",
       "│ grass    ┆ 76.181818                   ┆ 83.870968                  ┆ 95.4                       │\n",
       "│ fighting ┆ 100.62963                   ┆ 106.076923                 ┆ 113.4                      │\n",
       "│ ground   ┆ 94.966667                   ┆ 98.733333                  ┆ 111.4                      │\n",
       "└──────────┴─────────────────────────────┴────────────────────────────┴────────────────────────────┘"
      ]
     },
     "execution_count": 18,
     "metadata": {},
     "output_type": "execute_result"
    }
   ],
   "source": [
    "# We can also create functions to use in aggregations\n",
    "\n",
    "def avg_attack_when_speed_above_threshold(speed):\n",
    "    result = (\n",
    "        pl.col('attack')\n",
    "        .filter(pl.col('speed') > speed)\n",
    "        .mean()\n",
    "        .alias(f'avg_attack_when_speed_above_{speed}'))\n",
    "    return result\n",
    "\n",
    "pokemon.groupby('type1').agg(\n",
    "    avg_attack_when_speed_above_threshold(speed) for speed in range(30,91,30)\n",
    ").head(3)"
   ]
  },
  {
   "cell_type": "code",
   "execution_count": 19,
   "metadata": {},
   "outputs": [
    {
     "data": {
      "text/html": [
       "<div><style>\n",
       ".dataframe > thead > tr > th,\n",
       ".dataframe > tbody > tr > td {\n",
       "  text-align: right;\n",
       "}\n",
       "</style>\n",
       "<small>shape: (5, 3)</small><table border=\"1\" class=\"dataframe\"><thead><tr><th>type1</th><th>top_3_pokemon_by_attack</th><th>top_3_pokemon_by_defense</th></tr><tr><td>str</td><td>list[str]</td><td>list[str]</td></tr></thead><tbody><tr><td>&quot;fire&quot;</td><td>[&quot;Blaziken&quot;, &quot;Flareon&quot;, &quot;Ho-Oh&quot;]</td><td>[&quot;Torkoal&quot;, &quot;Turtonator&quot;, &quot;Magcargo&quot;]</td></tr><tr><td>&quot;normal&quot;</td><td>[&quot;Slaking&quot;, &quot;Regigigas&quot;, &quot;Lopunny&quot;]</td><td>[&quot;Audino&quot;, &quot;Arceus&quot;, &quot;Regigigas&quot;]</td></tr><tr><td>&quot;dark&quot;</td><td>[&quot;Absol&quot;, &quot;Yveltal&quot;, &quot;Honchkrow&quot;]</td><td>[&quot;Sableye&quot;, &quot;Scrafty&quot;, &quot;Umbreon&quot;]</td></tr><tr><td>&quot;electric&quot;</td><td>[&quot;Electivire&quot;, &quot;Luxray&quot;, &quot;Eelektross&quot;]</td><td>[&quot;Magnezone&quot;, &quot;Rotom&quot;, &quot;Ampharos&quot;]</td></tr><tr><td>&quot;rock&quot;</td><td>[&quot;Rampardos&quot;, &quot;Tyranitar&quot;, &quot;Diancie&quot;]</td><td>[&quot;Regirock&quot;, &quot;Bastiodon&quot;, &quot;Onix&quot;]</td></tr></tbody></table></div>"
      ],
      "text/plain": [
       "shape: (5, 3)\n",
       "┌──────────┬─────────────────────────────────┬─────────────────────────────────┐\n",
       "│ type1    ┆ top_3_pokemon_by_attack         ┆ top_3_pokemon_by_defense        │\n",
       "│ ---      ┆ ---                             ┆ ---                             │\n",
       "│ str      ┆ list[str]                       ┆ list[str]                       │\n",
       "╞══════════╪═════════════════════════════════╪═════════════════════════════════╡\n",
       "│ fire     ┆ [\"Blaziken\", \"Flareon\", \"Ho-Oh… ┆ [\"Torkoal\", \"Turtonator\", \"Mag… │\n",
       "│ normal   ┆ [\"Slaking\", \"Regigigas\", \"Lopu… ┆ [\"Audino\", \"Arceus\", \"Regigiga… │\n",
       "│ dark     ┆ [\"Absol\", \"Yveltal\", \"Honchkro… ┆ [\"Sableye\", \"Scrafty\", \"Umbreo… │\n",
       "│ electric ┆ [\"Electivire\", \"Luxray\", \"Eele… ┆ [\"Magnezone\", \"Rotom\", \"Amphar… │\n",
       "│ rock     ┆ [\"Rampardos\", \"Tyranitar\", \"Di… ┆ [\"Regirock\", \"Bastiodon\", \"Oni… │\n",
       "└──────────┴─────────────────────────────────┴─────────────────────────────────┘"
      ]
     },
     "execution_count": 19,
     "metadata": {},
     "output_type": "execute_result"
    }
   ],
   "source": [
    "# Show the top 3 pokemon by attack and the top 3 pokemon by health in each group\n",
    "(\n",
    "    pokemon.groupby('type1').agg(\n",
    "        top_3_pokemon_by_attack = \n",
    "            pl.col('name').sort_by('attack', descending=True).head(3),\n",
    "        top_3_pokemon_by_defense = \n",
    "            pl.col('name').sort_by('defense', descending=True).head(3) \n",
    "    )\n",
    ").head(5)"
   ]
  },
  {
   "cell_type": "code",
   "execution_count": 20,
   "metadata": {},
   "outputs": [
    {
     "data": {
      "text/html": [
       "<div><style>\n",
       ".dataframe > thead > tr > th,\n",
       ".dataframe > tbody > tr > td {\n",
       "  text-align: right;\n",
       "}\n",
       "</style>\n",
       "<small>shape: (1, 2)</small><table border=\"1\" class=\"dataframe\"><thead><tr><th>top_3_pokemon_by_attack</th><th>top_3_pokemon_by_defense</th></tr><tr><td>list[str]</td><td>list[str]</td></tr></thead><tbody><tr><td>[&quot;Heracross&quot;, &quot;Kartana&quot;, &quot;Groudon&quot;]</td><td>[&quot;Steelix&quot;, &quot;Shuckle&quot;, &quot;Aggron&quot;]</td></tr></tbody></table></div>"
      ],
      "text/plain": [
       "shape: (1, 2)\n",
       "┌─────────────────────────────────┬─────────────────────────────────┐\n",
       "│ top_3_pokemon_by_attack         ┆ top_3_pokemon_by_defense        │\n",
       "│ ---                             ┆ ---                             │\n",
       "│ list[str]                       ┆ list[str]                       │\n",
       "╞═════════════════════════════════╪═════════════════════════════════╡\n",
       "│ [\"Heracross\", \"Kartana\", \"Grou… ┆ [\"Steelix\", \"Shuckle\", \"Aggron… │\n",
       "└─────────────────────────────────┴─────────────────────────────────┘"
      ]
     },
     "execution_count": 20,
     "metadata": {},
     "output_type": "execute_result"
    }
   ],
   "source": [
    "# Show the top 3 pokemon by attack and the top 3 pokemon by health without grouping by type\n",
    "\n",
    "pokemon.select(\n",
    "    top_3_pokemon_by_attack = \n",
    "        pl.col('name').sort_by('attack', descending=True).head(3).implode(),\n",
    "    top_3_pokemon_by_defense = \n",
    "        pl.col('name').sort_by('defense', descending=True).head(3).implode()\n",
    ")"
   ]
  },
  {
   "cell_type": "code",
   "execution_count": 21,
   "metadata": {},
   "outputs": [
    {
     "name": "stdout",
     "output_type": "stream",
     "text": [
      "0\n",
      "shape: (2, 9)\n",
      "┌───────────┬───────┬────────┬────────────────┬───┬────────┬─────────┬───────┬──────────────┐\n",
      "│ name      ┆ type1 ┆ type2  ┆ abilities      ┆ … ┆ attack ┆ defense ┆ speed ┆ is_legendary │\n",
      "│ ---       ┆ ---   ┆ ---    ┆ ---            ┆   ┆ ---    ┆ ---     ┆ ---   ┆ ---          │\n",
      "│ str       ┆ str   ┆ str    ┆ list[str]      ┆   ┆ i64    ┆ i64     ┆ i64   ┆ i64          │\n",
      "╞═══════════╪═══════╪════════╪════════════════╪═══╪════════╪═════════╪═══════╪══════════════╡\n",
      "│ Bulbasaur ┆ grass ┆ poison ┆ [\"Overgrow\",   ┆ … ┆ 49     ┆ 49      ┆ 45    ┆ 0            │\n",
      "│           ┆       ┆        ┆ \"Chlorophyll\"] ┆   ┆        ┆         ┆       ┆              │\n",
      "│ Ivysaur   ┆ grass ┆ poison ┆ [\"Overgrow\",   ┆ … ┆ 62     ┆ 63      ┆ 60    ┆ 0            │\n",
      "│           ┆       ┆        ┆ \"Chlorophyll\"] ┆   ┆        ┆         ┆       ┆              │\n",
      "└───────────┴───────┴────────┴────────────────┴───┴────────┴─────────┴───────┴──────────────┘\n",
      "1\n",
      "shape: (2, 9)\n",
      "┌──────────┬──────────┬────────┬─────────────────────┬───┬────────┬─────────┬───────┬──────────────┐\n",
      "│ name     ┆ type1    ┆ type2  ┆ abilities           ┆ … ┆ attack ┆ defense ┆ speed ┆ is_legendary │\n",
      "│ ---      ┆ ---      ┆ ---    ┆ ---                 ┆   ┆ ---    ┆ ---     ┆ ---   ┆ ---          │\n",
      "│ str      ┆ str      ┆ str    ┆ list[str]           ┆   ┆ i64    ┆ i64     ┆ i64   ┆ i64          │\n",
      "╞══════════╪══════════╪════════╪═════════════════════╪═══╪════════╪═════════╪═══════╪══════════════╡\n",
      "│ Articuno ┆ ice      ┆ flying ┆ [\"Pressure\", \"Snow  ┆ … ┆ 85     ┆ 100     ┆ 85    ┆ 1            │\n",
      "│          ┆          ┆        ┆ Cloak\"]             ┆   ┆        ┆         ┆       ┆              │\n",
      "│ Zapdos   ┆ electric ┆ flying ┆ [\"Pressure\",        ┆ … ┆ 90     ┆ 85      ┆ 100   ┆ 1            │\n",
      "│          ┆          ┆        ┆ \"Static\"]           ┆   ┆        ┆         ┆       ┆              │\n",
      "└──────────┴──────────┴────────┴─────────────────────┴───┴────────┴─────────┴───────┴──────────────┘\n"
     ]
    }
   ],
   "source": [
    "# I can iterate over the groups and do any action on them\n",
    "\n",
    "for name, data in pokemon.groupby(\"is_legendary\"):\n",
    "    print(name)\n",
    "    print(data.head(2))"
   ]
  },
  {
   "attachments": {},
   "cell_type": "markdown",
   "metadata": {},
   "source": [
    "#### Window functions"
   ]
  },
  {
   "cell_type": "code",
   "execution_count": 22,
   "metadata": {},
   "outputs": [
    {
     "data": {
      "text/html": [
       "<div><style>\n",
       ".dataframe > thead > tr > th,\n",
       ".dataframe > tbody > tr > td {\n",
       "  text-align: right;\n",
       "}\n",
       "</style>\n",
       "<small>shape: (5, 5)</small><table border=\"1\" class=\"dataframe\"><thead><tr><th>name</th><th>type1</th><th>attack</th><th>avg_attack_for_same_type1</th><th>pct_difference_vs_avg</th></tr><tr><td>str</td><td>str</td><td>i64</td><td>f64</td><td>f64</td></tr></thead><tbody><tr><td>&quot;Bulbasaur&quot;</td><td>&quot;grass&quot;</td><td>49</td><td>73.8</td><td>-33.6</td></tr><tr><td>&quot;Ivysaur&quot;</td><td>&quot;grass&quot;</td><td>62</td><td>73.8</td><td>-16.0</td></tr><tr><td>&quot;Venusaur&quot;</td><td>&quot;grass&quot;</td><td>100</td><td>73.8</td><td>35.6</td></tr><tr><td>&quot;Charmander&quot;</td><td>&quot;fire&quot;</td><td>52</td><td>81.5</td><td>-36.2</td></tr><tr><td>&quot;Charmeleon&quot;</td><td>&quot;fire&quot;</td><td>64</td><td>81.5</td><td>-21.5</td></tr></tbody></table></div>"
      ],
      "text/plain": [
       "shape: (5, 5)\n",
       "┌────────────┬───────┬────────┬───────────────────────────┬───────────────────────┐\n",
       "│ name       ┆ type1 ┆ attack ┆ avg_attack_for_same_type1 ┆ pct_difference_vs_avg │\n",
       "│ ---        ┆ ---   ┆ ---    ┆ ---                       ┆ ---                   │\n",
       "│ str        ┆ str   ┆ i64    ┆ f64                       ┆ f64                   │\n",
       "╞════════════╪═══════╪════════╪═══════════════════════════╪═══════════════════════╡\n",
       "│ Bulbasaur  ┆ grass ┆ 49     ┆ 73.8                      ┆ -33.6                 │\n",
       "│ Ivysaur    ┆ grass ┆ 62     ┆ 73.8                      ┆ -16.0                 │\n",
       "│ Venusaur   ┆ grass ┆ 100    ┆ 73.8                      ┆ 35.6                  │\n",
       "│ Charmander ┆ fire  ┆ 52     ┆ 81.5                      ┆ -36.2                 │\n",
       "│ Charmeleon ┆ fire  ┆ 64     ┆ 81.5                      ┆ -21.5                 │\n",
       "└────────────┴───────┴────────┴───────────────────────────┴───────────────────────┘"
      ]
     },
     "execution_count": 22,
     "metadata": {},
     "output_type": "execute_result"
    }
   ],
   "source": [
    "# For each pokemon show its attack, the average attack for pokemons of the same type 1\n",
    "# and the percentage difference between the two\n",
    "\n",
    "pokemon.select(\n",
    "    'name', 'type1', 'attack',\n",
    "    avg_attack_for_same_type1 = pl.mean('attack').over('type1').round(1),\n",
    "    pct_difference_vs_avg = \n",
    "        (((pl.col('attack') / pl.mean('attack')).over('type1') -1) * 100).round(1)\n",
    ").head(5)"
   ]
  },
  {
   "cell_type": "code",
   "execution_count": 23,
   "metadata": {},
   "outputs": [
    {
     "data": {
      "text/html": [
       "<div><style>\n",
       ".dataframe > thead > tr > th,\n",
       ".dataframe > tbody > tr > td {\n",
       "  text-align: right;\n",
       "}\n",
       "</style>\n",
       "<small>shape: (5, 6)</small><table border=\"1\" class=\"dataframe\"><thead><tr><th>name</th><th>type1</th><th>type2</th><th>attack</th><th>avg_attack_for_same_type1</th><th>avg_attack_for_same_type2</th></tr><tr><td>str</td><td>str</td><td>str</td><td>i64</td><td>f64</td><td>f64</td></tr></thead><tbody><tr><td>&quot;Bulbasaur&quot;</td><td>&quot;grass&quot;</td><td>&quot;poison&quot;</td><td>49</td><td>73.769231</td><td>67.617647</td></tr><tr><td>&quot;Ivysaur&quot;</td><td>&quot;grass&quot;</td><td>&quot;poison&quot;</td><td>62</td><td>73.769231</td><td>67.617647</td></tr><tr><td>&quot;Venusaur&quot;</td><td>&quot;grass&quot;</td><td>&quot;poison&quot;</td><td>100</td><td>73.769231</td><td>67.617647</td></tr><tr><td>&quot;Charmander&quot;</td><td>&quot;fire&quot;</td><td>null</td><td>52</td><td>81.5</td><td>74.231771</td></tr><tr><td>&quot;Charmeleon&quot;</td><td>&quot;fire&quot;</td><td>null</td><td>64</td><td>81.5</td><td>74.231771</td></tr></tbody></table></div>"
      ],
      "text/plain": [
       "shape: (5, 6)\n",
       "┌────────────┬───────┬────────┬────────┬───────────────────────────┬───────────────────────────┐\n",
       "│ name       ┆ type1 ┆ type2  ┆ attack ┆ avg_attack_for_same_type1 ┆ avg_attack_for_same_type2 │\n",
       "│ ---        ┆ ---   ┆ ---    ┆ ---    ┆ ---                       ┆ ---                       │\n",
       "│ str        ┆ str   ┆ str    ┆ i64    ┆ f64                       ┆ f64                       │\n",
       "╞════════════╪═══════╪════════╪════════╪═══════════════════════════╪═══════════════════════════╡\n",
       "│ Bulbasaur  ┆ grass ┆ poison ┆ 49     ┆ 73.769231                 ┆ 67.617647                 │\n",
       "│ Ivysaur    ┆ grass ┆ poison ┆ 62     ┆ 73.769231                 ┆ 67.617647                 │\n",
       "│ Venusaur   ┆ grass ┆ poison ┆ 100    ┆ 73.769231                 ┆ 67.617647                 │\n",
       "│ Charmander ┆ fire  ┆ null   ┆ 52     ┆ 81.5                      ┆ 74.231771                 │\n",
       "│ Charmeleon ┆ fire  ┆ null   ┆ 64     ┆ 81.5                      ┆ 74.231771                 │\n",
       "└────────────┴───────┴────────┴────────┴───────────────────────────┴───────────────────────────┘"
      ]
     },
     "execution_count": 23,
     "metadata": {},
     "output_type": "execute_result"
    }
   ],
   "source": [
    "# For each pokemon show its attack and the average attack for pokemons of the same type 1 and pokemons of the same type 2\n",
    "\n",
    "pokemon.select(\n",
    "    'name', 'type1', 'type2', 'attack',\n",
    "    avg_attack_for_same_type1 = pl.mean('attack').over('type1'),\n",
    "    avg_attack_for_same_type2 = pl.mean('attack').over('type2')\n",
    ").head(5)"
   ]
  },
  {
   "cell_type": "code",
   "execution_count": 24,
   "metadata": {},
   "outputs": [
    {
     "data": {
      "text/html": [
       "<div><style>\n",
       ".dataframe > thead > tr > th,\n",
       ".dataframe > tbody > tr > td {\n",
       "  text-align: right;\n",
       "}\n",
       "</style>\n",
       "<small>shape: (5, 4)</small><table border=\"1\" class=\"dataframe\"><thead><tr><th>name</th><th>type1</th><th>attack</th><th>top_3_attack_pokemon_same_type</th></tr><tr><td>str</td><td>str</td><td>i64</td><td>list[str]</td></tr></thead><tbody><tr><td>&quot;Bulbasaur&quot;</td><td>&quot;grass&quot;</td><td>49</td><td>[&quot;Kartana&quot;, &quot;Abomasnow&quot;, &quot;Breloom&quot;]</td></tr><tr><td>&quot;Ivysaur&quot;</td><td>&quot;grass&quot;</td><td>62</td><td>[&quot;Kartana&quot;, &quot;Abomasnow&quot;, &quot;Breloom&quot;]</td></tr><tr><td>&quot;Venusaur&quot;</td><td>&quot;grass&quot;</td><td>100</td><td>[&quot;Kartana&quot;, &quot;Abomasnow&quot;, &quot;Breloom&quot;]</td></tr><tr><td>&quot;Charmander&quot;</td><td>&quot;fire&quot;</td><td>52</td><td>[&quot;Blaziken&quot;, &quot;Flareon&quot;, &quot;Ho-Oh&quot;]</td></tr><tr><td>&quot;Charmeleon&quot;</td><td>&quot;fire&quot;</td><td>64</td><td>[&quot;Blaziken&quot;, &quot;Flareon&quot;, &quot;Ho-Oh&quot;]</td></tr></tbody></table></div>"
      ],
      "text/plain": [
       "shape: (5, 4)\n",
       "┌────────────┬───────┬────────┬─────────────────────────────────┐\n",
       "│ name       ┆ type1 ┆ attack ┆ top_3_attack_pokemon_same_type  │\n",
       "│ ---        ┆ ---   ┆ ---    ┆ ---                             │\n",
       "│ str        ┆ str   ┆ i64    ┆ list[str]                       │\n",
       "╞════════════╪═══════╪════════╪═════════════════════════════════╡\n",
       "│ Bulbasaur  ┆ grass ┆ 49     ┆ [\"Kartana\", \"Abomasnow\", \"Brel… │\n",
       "│ Ivysaur    ┆ grass ┆ 62     ┆ [\"Kartana\", \"Abomasnow\", \"Brel… │\n",
       "│ Venusaur   ┆ grass ┆ 100    ┆ [\"Kartana\", \"Abomasnow\", \"Brel… │\n",
       "│ Charmander ┆ fire  ┆ 52     ┆ [\"Blaziken\", \"Flareon\", \"Ho-Oh… │\n",
       "│ Charmeleon ┆ fire  ┆ 64     ┆ [\"Blaziken\", \"Flareon\", \"Ho-Oh… │\n",
       "└────────────┴───────┴────────┴─────────────────────────────────┘"
      ]
     },
     "execution_count": 24,
     "metadata": {},
     "output_type": "execute_result"
    }
   ],
   "source": [
    "# For each pokemon, show the top 3 pokemon by attack of the same type\n",
    "\n",
    "pokemon.select(\n",
    "    'name', 'type1', 'attack',\n",
    "    top_3_attack_pokemon_same_type = \n",
    "        pl.col('name').sort_by('attack', descending=True).head(3)\n",
    "        .over('type1', mapping_strategy='join')\n",
    ").head(5)"
   ]
  },
  {
   "cell_type": "code",
   "execution_count": 25,
   "metadata": {},
   "outputs": [
    {
     "data": {
      "text/html": [
       "<div><style>\n",
       ".dataframe > thead > tr > th,\n",
       ".dataframe > tbody > tr > td {\n",
       "  text-align: right;\n",
       "}\n",
       "</style>\n",
       "<small>shape: (6, 3)</small><table border=\"1\" class=\"dataframe\"><thead><tr><th>type1</th><th>top_3_attack</th><th>top_3_defense</th></tr><tr><td>str</td><td>str</td><td>str</td></tr></thead><tbody><tr><td>&quot;grass&quot;</td><td>&quot;Kartana&quot;</td><td>&quot;Ferrothorn&quot;</td></tr><tr><td>&quot;grass&quot;</td><td>&quot;Abomasnow&quot;</td><td>&quot;Kartana&quot;</td></tr><tr><td>&quot;grass&quot;</td><td>&quot;Breloom&quot;</td><td>&quot;Leafeon&quot;</td></tr><tr><td>&quot;fire&quot;</td><td>&quot;Blaziken&quot;</td><td>&quot;Torkoal&quot;</td></tr><tr><td>&quot;fire&quot;</td><td>&quot;Flareon&quot;</td><td>&quot;Turtonator&quot;</td></tr><tr><td>&quot;fire&quot;</td><td>&quot;Ho-Oh&quot;</td><td>&quot;Magcargo&quot;</td></tr></tbody></table></div>"
      ],
      "text/plain": [
       "shape: (6, 3)\n",
       "┌───────┬──────────────┬───────────────┐\n",
       "│ type1 ┆ top_3_attack ┆ top_3_defense │\n",
       "│ ---   ┆ ---          ┆ ---           │\n",
       "│ str   ┆ str          ┆ str           │\n",
       "╞═══════╪══════════════╪═══════════════╡\n",
       "│ grass ┆ Kartana      ┆ Ferrothorn    │\n",
       "│ grass ┆ Abomasnow    ┆ Kartana       │\n",
       "│ grass ┆ Breloom      ┆ Leafeon       │\n",
       "│ fire  ┆ Blaziken     ┆ Torkoal       │\n",
       "│ fire  ┆ Flareon      ┆ Turtonator    │\n",
       "│ fire  ┆ Ho-Oh        ┆ Magcargo      │\n",
       "└───────┴──────────────┴───────────────┘"
      ]
     },
     "execution_count": 25,
     "metadata": {},
     "output_type": "execute_result"
    }
   ],
   "source": [
    "# Show top 3 pokemon by attack and defense\n",
    "\n",
    "pokemon.select(\n",
    "    pl.col('type1').head(3).over('type1', mapping_strategy='explode'),\n",
    "    top_3_attack = \n",
    "        pl.col('name').sort_by('attack', descending=True)\n",
    "        .head(3).over('type1', mapping_strategy='explode'), \n",
    "    top_3_defense = \n",
    "        pl.col('name').sort_by('defense', descending=True)\n",
    "        .head(3).over('type1', mapping_strategy='explode')\n",
    ").head(6)"
   ]
  },
  {
   "cell_type": "code",
   "execution_count": 26,
   "metadata": {},
   "outputs": [
    {
     "data": {
      "text/html": [
       "<div><style>\n",
       ".dataframe > thead > tr > th,\n",
       ".dataframe > tbody > tr > td {\n",
       "  text-align: right;\n",
       "}\n",
       "</style>\n",
       "<small>shape: (6, 6)</small><table border=\"1\" class=\"dataframe\"><thead><tr><th>name</th><th>type1</th><th>attack</th><th>defense</th><th>attack_rank</th><th>defense_rank</th></tr><tr><td>str</td><td>str</td><td>i64</td><td>i64</td><td>u32</td><td>u32</td></tr></thead><tbody><tr><td>&quot;Bulbasaur&quot;</td><td>&quot;grass&quot;</td><td>49</td><td>49</td><td>61</td><td>62</td></tr><tr><td>&quot;Ivysaur&quot;</td><td>&quot;grass&quot;</td><td>62</td><td>63</td><td>45</td><td>45</td></tr><tr><td>&quot;Venusaur&quot;</td><td>&quot;grass&quot;</td><td>100</td><td>123</td><td>16</td><td>5</td></tr><tr><td>&quot;Charmander&quot;</td><td>&quot;fire&quot;</td><td>52</td><td>43</td><td>45</td><td>44</td></tr><tr><td>&quot;Charmeleon&quot;</td><td>&quot;fire&quot;</td><td>64</td><td>58</td><td>37</td><td>29</td></tr><tr><td>&quot;Charizard&quot;</td><td>&quot;fire&quot;</td><td>104</td><td>78</td><td>10</td><td>14</td></tr></tbody></table></div>"
      ],
      "text/plain": [
       "shape: (6, 6)\n",
       "┌────────────┬───────┬────────┬─────────┬─────────────┬──────────────┐\n",
       "│ name       ┆ type1 ┆ attack ┆ defense ┆ attack_rank ┆ defense_rank │\n",
       "│ ---        ┆ ---   ┆ ---    ┆ ---     ┆ ---         ┆ ---          │\n",
       "│ str        ┆ str   ┆ i64    ┆ i64     ┆ u32         ┆ u32          │\n",
       "╞════════════╪═══════╪════════╪═════════╪═════════════╪══════════════╡\n",
       "│ Bulbasaur  ┆ grass ┆ 49     ┆ 49      ┆ 61          ┆ 62           │\n",
       "│ Ivysaur    ┆ grass ┆ 62     ┆ 63      ┆ 45          ┆ 45           │\n",
       "│ Venusaur   ┆ grass ┆ 100    ┆ 123     ┆ 16          ┆ 5            │\n",
       "│ Charmander ┆ fire  ┆ 52     ┆ 43      ┆ 45          ┆ 44           │\n",
       "│ Charmeleon ┆ fire  ┆ 64     ┆ 58      ┆ 37          ┆ 29           │\n",
       "│ Charizard  ┆ fire  ┆ 104    ┆ 78      ┆ 10          ┆ 14           │\n",
       "└────────────┴───────┴────────┴─────────┴─────────────┴──────────────┘"
      ]
     },
     "execution_count": 26,
     "metadata": {},
     "output_type": "execute_result"
    }
   ],
   "source": [
    "# Rank the pokemon by attack and defense by type\n",
    "\n",
    "pokemon.select(\n",
    "    'name', 'type1', 'attack', 'defense',\n",
    "    attack_rank = \n",
    "        pl.col('attack').rank(method='ordinal', descending=True).over('type1'),\n",
    "    defense_rank = \n",
    "        pl.col('defense').rank(method='ordinal', descending=True).over('type1')\n",
    ").head(6)"
   ]
  },
  {
   "attachments": {},
   "cell_type": "markdown",
   "metadata": {},
   "source": [
    "#### Range function"
   ]
  },
  {
   "cell_type": "code",
   "execution_count": 27,
   "metadata": {},
   "outputs": [
    {
     "data": {
      "text/html": [
       "<div><style>\n",
       ".dataframe > thead > tr > th,\n",
       ".dataframe > tbody > tr > td {\n",
       "  text-align: right;\n",
       "}\n",
       "</style>\n",
       "<small>shape: (6, 3)</small><table border=\"1\" class=\"dataframe\"><thead><tr><th>name</th><th>type1</th><th>type_index</th></tr><tr><td>str</td><td>str</td><td>i64</td></tr></thead><tbody><tr><td>&quot;Bulbasaur&quot;</td><td>&quot;grass&quot;</td><td>1</td></tr><tr><td>&quot;Ivysaur&quot;</td><td>&quot;grass&quot;</td><td>2</td></tr><tr><td>&quot;Venusaur&quot;</td><td>&quot;grass&quot;</td><td>3</td></tr><tr><td>&quot;Charmander&quot;</td><td>&quot;fire&quot;</td><td>1</td></tr><tr><td>&quot;Charmeleon&quot;</td><td>&quot;fire&quot;</td><td>2</td></tr><tr><td>&quot;Charizard&quot;</td><td>&quot;fire&quot;</td><td>3</td></tr></tbody></table></div>"
      ],
      "text/plain": [
       "shape: (6, 3)\n",
       "┌────────────┬───────┬────────────┐\n",
       "│ name       ┆ type1 ┆ type_index │\n",
       "│ ---        ┆ ---   ┆ ---        │\n",
       "│ str        ┆ str   ┆ i64        │\n",
       "╞════════════╪═══════╪════════════╡\n",
       "│ Bulbasaur  ┆ grass ┆ 1          │\n",
       "│ Ivysaur    ┆ grass ┆ 2          │\n",
       "│ Venusaur   ┆ grass ┆ 3          │\n",
       "│ Charmander ┆ fire  ┆ 1          │\n",
       "│ Charmeleon ┆ fire  ┆ 2          │\n",
       "│ Charizard  ┆ fire  ┆ 3          │\n",
       "└────────────┴───────┴────────────┘"
      ]
     },
     "execution_count": 27,
     "metadata": {},
     "output_type": "execute_result"
    }
   ],
   "source": [
    "# Add an increasing index for the pokemon of each type\n",
    "\n",
    "pokemon.select(\n",
    "    'name', 'type1',\n",
    "    type_index = pl.arange(1, pl.count()+1).over('type1')\n",
    ").head(6)"
   ]
  },
  {
   "cell_type": "code",
   "execution_count": 28,
   "metadata": {},
   "outputs": [
    {
     "data": {
      "text/html": [
       "<div><style>\n",
       ".dataframe > thead > tr > th,\n",
       ".dataframe > tbody > tr > td {\n",
       "  text-align: right;\n",
       "}\n",
       "</style>\n",
       "<small>shape: (4, 2)</small><table border=\"1\" class=\"dataframe\"><thead><tr><th>name</th><th>type1</th></tr><tr><td>str</td><td>str</td></tr></thead><tbody><tr><td>&quot;Venomoth&quot;</td><td>&quot;bug&quot;</td></tr><tr><td>&quot;Pinsir&quot;</td><td>&quot;bug&quot;</td></tr><tr><td>&quot;Vullaby&quot;</td><td>&quot;dark&quot;</td></tr><tr><td>&quot;Mandibuzz&quot;</td><td>&quot;dark&quot;</td></tr></tbody></table></div>"
      ],
      "text/plain": [
       "shape: (4, 2)\n",
       "┌───────────┬───────┐\n",
       "│ name      ┆ type1 │\n",
       "│ ---       ┆ ---   │\n",
       "│ str       ┆ str   │\n",
       "╞═══════════╪═══════╡\n",
       "│ Venomoth  ┆ bug   │\n",
       "│ Pinsir    ┆ bug   │\n",
       "│ Vullaby   ┆ dark  │\n",
       "│ Mandibuzz ┆ dark  │\n",
       "└───────────┴───────┘"
      ]
     },
     "execution_count": 28,
     "metadata": {},
     "output_type": "execute_result"
    }
   ],
   "source": [
    "# Take a random sample of 2 pokemons for each group\n",
    "\n",
    "pokemon.select('name','type1').filter(\n",
    "    pl.arange(1, pl.count()+1).shuffle().over(\"type1\") <= 2\n",
    ").sort(by='type1').head(4)"
   ]
  },
  {
   "cell_type": "code",
   "execution_count": 29,
   "metadata": {},
   "outputs": [
    {
     "data": {
      "text/html": [
       "<div><style>\n",
       ".dataframe > thead > tr > th,\n",
       ".dataframe > tbody > tr > td {\n",
       "  text-align: right;\n",
       "}\n",
       "</style>\n",
       "<small>shape: (6, 9)</small><table border=\"1\" class=\"dataframe\"><thead><tr><th>name</th><th>type1</th><th>type2</th><th>abilities</th><th>hp</th><th>attack</th><th>defense</th><th>speed</th><th>is_legendary</th></tr><tr><td>str</td><td>str</td><td>str</td><td>list[str]</td><td>i64</td><td>i64</td><td>i64</td><td>i64</td><td>i64</td></tr></thead><tbody><tr><td>&quot;Caterpie&quot;</td><td>&quot;bug&quot;</td><td>null</td><td>[&quot;Shield Dust&quot;, &quot;Run Away&quot;]</td><td>45</td><td>30</td><td>35</td><td>45</td><td>0</td></tr><tr><td>&quot;Kricketot&quot;</td><td>&quot;bug&quot;</td><td>null</td><td>[&quot;Shed Skin&quot;, &quot;Run Away&quot;]</td><td>37</td><td>25</td><td>41</td><td>25</td><td>0</td></tr><tr><td>&quot;Mothim&quot;</td><td>&quot;bug&quot;</td><td>&quot;flying&quot;</td><td>[&quot;Swarm&quot;, &quot;Tinted Lens&quot;]</td><td>70</td><td>94</td><td>50</td><td>66</td><td>0</td></tr><tr><td>&quot;Vullaby&quot;</td><td>&quot;dark&quot;</td><td>&quot;flying&quot;</td><td>[&quot;Big Pecks&quot;, &quot;Overcoat&quot;, &quot;Weak Armor&quot;]</td><td>70</td><td>55</td><td>75</td><td>60</td><td>0</td></tr><tr><td>&quot;Reshiram&quot;</td><td>&quot;dragon&quot;</td><td>&quot;fire&quot;</td><td>[&quot;Turboblaze&quot;]</td><td>100</td><td>120</td><td>100</td><td>90</td><td>1</td></tr><tr><td>&quot;Thundurus&quot;</td><td>&quot;electric&quot;</td><td>&quot;flying&quot;</td><td>[&quot;Prankster&quot;, &quot;Defiant&quot;, &quot;Volt Absorb&quot;]</td><td>79</td><td>105</td><td>70</td><td>101</td><td>1</td></tr></tbody></table></div>"
      ],
      "text/plain": [
       "shape: (6, 9)\n",
       "┌───────────┬──────────┬────────┬────────────────────┬───┬────────┬─────────┬───────┬──────────────┐\n",
       "│ name      ┆ type1    ┆ type2  ┆ abilities          ┆ … ┆ attack ┆ defense ┆ speed ┆ is_legendary │\n",
       "│ ---       ┆ ---      ┆ ---    ┆ ---                ┆   ┆ ---    ┆ ---     ┆ ---   ┆ ---          │\n",
       "│ str       ┆ str      ┆ str    ┆ list[str]          ┆   ┆ i64    ┆ i64     ┆ i64   ┆ i64          │\n",
       "╞═══════════╪══════════╪════════╪════════════════════╪═══╪════════╪═════════╪═══════╪══════════════╡\n",
       "│ Caterpie  ┆ bug      ┆ null   ┆ [\"Shield Dust\",    ┆ … ┆ 30     ┆ 35      ┆ 45    ┆ 0            │\n",
       "│           ┆          ┆        ┆ \"Run Away\"]        ┆   ┆        ┆         ┆       ┆              │\n",
       "│ Kricketot ┆ bug      ┆ null   ┆ [\"Shed Skin\", \"Run ┆ … ┆ 25     ┆ 41      ┆ 25    ┆ 0            │\n",
       "│           ┆          ┆        ┆ Away\"]             ┆   ┆        ┆         ┆       ┆              │\n",
       "│ Mothim    ┆ bug      ┆ flying ┆ [\"Swarm\", \"Tinted  ┆ … ┆ 94     ┆ 50      ┆ 66    ┆ 0            │\n",
       "│           ┆          ┆        ┆ Lens\"]             ┆   ┆        ┆         ┆       ┆              │\n",
       "│ Vullaby   ┆ dark     ┆ flying ┆ [\"Big Pecks\",      ┆ … ┆ 55     ┆ 75      ┆ 60    ┆ 0            │\n",
       "│           ┆          ┆        ┆ \"Overcoat\", \"Wea…  ┆   ┆        ┆         ┆       ┆              │\n",
       "│ Reshiram  ┆ dragon   ┆ fire   ┆ [\"Turboblaze\"]     ┆ … ┆ 120    ┆ 100     ┆ 90    ┆ 1            │\n",
       "│ Thundurus ┆ electric ┆ flying ┆ [\"Prankster\",      ┆ … ┆ 105    ┆ 70      ┆ 101   ┆ 1            │\n",
       "│           ┆          ┆        ┆ \"Defiant\", \"Volt…  ┆   ┆        ┆         ┆       ┆              │\n",
       "└───────────┴──────────┴────────┴────────────────────┴───┴────────┴─────────┴───────┴──────────────┘"
      ]
     },
     "execution_count": 29,
     "metadata": {},
     "output_type": "execute_result"
    }
   ],
   "source": [
    "# Take a random sample of 5% of pokemons for each group\n",
    "\n",
    "pokemon.filter(\n",
    "    pl.arange(1, pl.count() + 1).shuffle().over(\"type1\") \n",
    "    <= pl.count().over(\"type1\") * 0.05\n",
    ").sort(by=\"type1\").head(6)"
   ]
  },
  {
   "cell_type": "code",
   "execution_count": 30,
   "metadata": {},
   "outputs": [
    {
     "data": {
      "text/html": [
       "<div><style>\n",
       ".dataframe > thead > tr > th,\n",
       ".dataframe > tbody > tr > td {\n",
       "  text-align: right;\n",
       "}\n",
       "</style>\n",
       "<small>shape: (5, 9)</small><table border=\"1\" class=\"dataframe\"><thead><tr><th>name</th><th>type1</th><th>type2</th><th>abilities</th><th>hp</th><th>attack</th><th>defense</th><th>speed</th><th>is_legendary</th></tr><tr><td>str</td><td>str</td><td>str</td><td>list[str]</td><td>i64</td><td>i64</td><td>i64</td><td>i64</td><td>i64</td></tr></thead><tbody><tr><td>&quot;Kakuna&quot;</td><td>&quot;bug&quot;</td><td>&quot;poison&quot;</td><td>[&quot;Shed Skin&quot;]</td><td>45</td><td>25</td><td>50</td><td>35</td><td>0</td></tr><tr><td>&quot;Raticate&quot;</td><td>&quot;normal&quot;</td><td>&quot;dark&quot;</td><td>[&quot;Run Away&quot;, &quot;Guts&quot;, … &quot;Thick Fat&quot;]</td><td>75</td><td>71</td><td>70</td><td>77</td><td>0</td></tr><tr><td>&quot;Nidoqueen&quot;</td><td>&quot;poison&quot;</td><td>&quot;ground&quot;</td><td>[&quot;Poison Point&quot;, &quot;Rivalry&quot;, &quot;Sheer Force&quot;]</td><td>90</td><td>92</td><td>87</td><td>76</td><td>0</td></tr><tr><td>&quot;Ninetales&quot;</td><td>&quot;fire&quot;</td><td>&quot;ice&quot;</td><td>[&quot;Flash Fire&quot;, &quot;Drought&quot;, … &quot;Snow Warning&quot;]</td><td>73</td><td>67</td><td>75</td><td>109</td><td>0</td></tr><tr><td>&quot;Gloom&quot;</td><td>&quot;grass&quot;</td><td>&quot;poison&quot;</td><td>[&quot;Chlorophyll&quot;, &quot;Stench&quot;]</td><td>60</td><td>65</td><td>70</td><td>40</td><td>0</td></tr></tbody></table></div>"
      ],
      "text/plain": [
       "shape: (5, 9)\n",
       "┌───────────┬────────┬────────┬──────────────────────┬───┬────────┬─────────┬───────┬──────────────┐\n",
       "│ name      ┆ type1  ┆ type2  ┆ abilities            ┆ … ┆ attack ┆ defense ┆ speed ┆ is_legendary │\n",
       "│ ---       ┆ ---    ┆ ---    ┆ ---                  ┆   ┆ ---    ┆ ---     ┆ ---   ┆ ---          │\n",
       "│ str       ┆ str    ┆ str    ┆ list[str]            ┆   ┆ i64    ┆ i64     ┆ i64   ┆ i64          │\n",
       "╞═══════════╪════════╪════════╪══════════════════════╪═══╪════════╪═════════╪═══════╪══════════════╡\n",
       "│ Kakuna    ┆ bug    ┆ poison ┆ [\"Shed Skin\"]        ┆ … ┆ 25     ┆ 50      ┆ 35    ┆ 0            │\n",
       "│ Raticate  ┆ normal ┆ dark   ┆ [\"Run Away\", \"Guts\", ┆ … ┆ 71     ┆ 70      ┆ 77    ┆ 0            │\n",
       "│           ┆        ┆        ┆ … \"Thick …           ┆   ┆        ┆         ┆       ┆              │\n",
       "│ Nidoqueen ┆ poison ┆ ground ┆ [\"Poison Point\",     ┆ … ┆ 92     ┆ 87      ┆ 76    ┆ 0            │\n",
       "│           ┆        ┆        ┆ \"Rivalry\", \"S…       ┆   ┆        ┆         ┆       ┆              │\n",
       "│ Ninetales ┆ fire   ┆ ice    ┆ [\"Flash Fire\",       ┆ … ┆ 67     ┆ 75      ┆ 109   ┆ 0            │\n",
       "│           ┆        ┆        ┆ \"Drought\", … \"S…     ┆   ┆        ┆         ┆       ┆              │\n",
       "│ Gloom     ┆ grass  ┆ poison ┆ [\"Chlorophyll\",      ┆ … ┆ 65     ┆ 70      ┆ 40    ┆ 0            │\n",
       "│           ┆        ┆        ┆ \"Stench\"]            ┆   ┆        ┆         ┆       ┆              │\n",
       "└───────────┴────────┴────────┴──────────────────────┴───┴────────┴─────────┴───────┴──────────────┘"
      ]
     },
     "execution_count": 30,
     "metadata": {},
     "output_type": "execute_result"
    }
   ],
   "source": [
    "# Get the 5th pokemon for each group\n",
    "\n",
    "pokemon.filter(\n",
    "    pl.arange(1, pl.count() + 1).over(\"type1\") == 5\n",
    ").head(5)"
   ]
  },
  {
   "attachments": {},
   "cell_type": "markdown",
   "metadata": {},
   "source": [
    "#### Binning functions: Cut and Qcut"
   ]
  },
  {
   "cell_type": "code",
   "execution_count": 105,
   "metadata": {},
   "outputs": [
    {
     "data": {
      "text/html": [
       "<div><style>\n",
       ".dataframe > thead > tr > th,\n",
       ".dataframe > tbody > tr > td {\n",
       "  text-align: right;\n",
       "}\n",
       "</style>\n",
       "<small>shape: (6, 5)</small><table border=\"1\" class=\"dataframe\"><thead><tr><th>name</th><th>type1</th><th>attack</th><th>break_point</th><th>category</th></tr><tr><td>str</td><td>str</td><td>i64</td><td>f64</td><td>cat</td></tr></thead><tbody><tr><td>&quot;Bulbasaur&quot;</td><td>&quot;grass&quot;</td><td>49</td><td>50.0</td><td>&quot;weak&quot;</td></tr><tr><td>&quot;Ivysaur&quot;</td><td>&quot;grass&quot;</td><td>62</td><td>100.0</td><td>&quot;medium&quot;</td></tr><tr><td>&quot;Venusaur&quot;</td><td>&quot;grass&quot;</td><td>100</td><td>100.0</td><td>&quot;medium&quot;</td></tr><tr><td>&quot;Charmander&quot;</td><td>&quot;fire&quot;</td><td>52</td><td>100.0</td><td>&quot;medium&quot;</td></tr><tr><td>&quot;Charmeleon&quot;</td><td>&quot;fire&quot;</td><td>64</td><td>100.0</td><td>&quot;medium&quot;</td></tr><tr><td>&quot;Charizard&quot;</td><td>&quot;fire&quot;</td><td>104</td><td>inf</td><td>&quot;strong&quot;</td></tr></tbody></table></div>"
      ],
      "text/plain": [
       "shape: (6, 5)\n",
       "┌────────────┬───────┬────────┬─────────────┬──────────┐\n",
       "│ name       ┆ type1 ┆ attack ┆ break_point ┆ category │\n",
       "│ ---        ┆ ---   ┆ ---    ┆ ---         ┆ ---      │\n",
       "│ str        ┆ str   ┆ i64    ┆ f64         ┆ cat      │\n",
       "╞════════════╪═══════╪════════╪═════════════╪══════════╡\n",
       "│ Bulbasaur  ┆ grass ┆ 49     ┆ 50.0        ┆ weak     │\n",
       "│ Ivysaur    ┆ grass ┆ 62     ┆ 100.0       ┆ medium   │\n",
       "│ Venusaur   ┆ grass ┆ 100    ┆ 100.0       ┆ medium   │\n",
       "│ Charmander ┆ fire  ┆ 52     ┆ 100.0       ┆ medium   │\n",
       "│ Charmeleon ┆ fire  ┆ 64     ┆ 100.0       ┆ medium   │\n",
       "│ Charizard  ┆ fire  ┆ 104    ┆ inf         ┆ strong   │\n",
       "└────────────┴───────┴────────┴─────────────┴──────────┘"
      ]
     },
     "execution_count": 105,
     "metadata": {},
     "output_type": "execute_result"
    }
   ],
   "source": [
    "# Assigns the pokemon a category based on their attack stats:\n",
    "# <= 50 - weak, <= 100 - medium, > 100 - strong\n",
    "\n",
    "pokemon.select('name', 'type1', 'attack').hstack(\n",
    "    pokemon.get_column('attack')\n",
    "    .cut([50, 100], labels=['weak', 'medium', 'strong'], maintain_order=True)\n",
    "    .select('break_point', 'category')\n",
    ").head(6)"
   ]
  },
  {
   "cell_type": "code",
   "execution_count": 104,
   "metadata": {},
   "outputs": [
    {
     "data": {
      "text/html": [
       "<div><style>\n",
       ".dataframe > thead > tr > th,\n",
       ".dataframe > tbody > tr > td {\n",
       "  text-align: right;\n",
       "}\n",
       "</style>\n",
       "<small>shape: (6, 5)</small><table border=\"1\" class=\"dataframe\"><thead><tr><th>name</th><th>type1</th><th>attack</th><th>break_point</th><th>category</th></tr><tr><td>str</td><td>str</td><td>i64</td><td>f64</td><td>cat</td></tr></thead><tbody><tr><td>&quot;Bulbasaur&quot;</td><td>&quot;grass&quot;</td><td>49</td><td>65.0</td><td>&quot;weak&quot;</td></tr><tr><td>&quot;Ivysaur&quot;</td><td>&quot;grass&quot;</td><td>62</td><td>65.0</td><td>&quot;weak&quot;</td></tr><tr><td>&quot;Venusaur&quot;</td><td>&quot;grass&quot;</td><td>100</td><td>104.0</td><td>&quot;medium&quot;</td></tr><tr><td>&quot;Charmander&quot;</td><td>&quot;fire&quot;</td><td>52</td><td>65.0</td><td>&quot;weak&quot;</td></tr><tr><td>&quot;Charmeleon&quot;</td><td>&quot;fire&quot;</td><td>64</td><td>65.0</td><td>&quot;weak&quot;</td></tr><tr><td>&quot;Charizard&quot;</td><td>&quot;fire&quot;</td><td>104</td><td>104.0</td><td>&quot;medium&quot;</td></tr></tbody></table></div>"
      ],
      "text/plain": [
       "shape: (6, 5)\n",
       "┌────────────┬───────┬────────┬─────────────┬──────────┐\n",
       "│ name       ┆ type1 ┆ attack ┆ break_point ┆ category │\n",
       "│ ---        ┆ ---   ┆ ---    ┆ ---         ┆ ---      │\n",
       "│ str        ┆ str   ┆ i64    ┆ f64         ┆ cat      │\n",
       "╞════════════╪═══════╪════════╪═════════════╪══════════╡\n",
       "│ Bulbasaur  ┆ grass ┆ 49     ┆ 65.0        ┆ weak     │\n",
       "│ Ivysaur    ┆ grass ┆ 62     ┆ 65.0        ┆ weak     │\n",
       "│ Venusaur   ┆ grass ┆ 100    ┆ 104.0       ┆ medium   │\n",
       "│ Charmander ┆ fire  ┆ 52     ┆ 65.0        ┆ weak     │\n",
       "│ Charmeleon ┆ fire  ┆ 64     ┆ 65.0        ┆ weak     │\n",
       "│ Charizard  ┆ fire  ┆ 104    ┆ 104.0       ┆ medium   │\n",
       "└────────────┴───────┴────────┴─────────────┴──────────┘"
      ]
     },
     "execution_count": 104,
     "metadata": {},
     "output_type": "execute_result"
    }
   ],
   "source": [
    "# Assigns the pokemon a category based on their attack stats using percentiles:\n",
    "# bottom 40% - weak, top 20% - strong, rest - medium\n",
    "\n",
    "pokemon.select('name', 'type1', 'attack').hstack(\n",
    "    pokemon.get_column('attack')\n",
    "    .qcut(quantiles=[0.4,0.8], labels=['weak', 'medium', 'strong'], maintain_order=True)\n",
    "    .select('break_point', 'category')\n",
    ").head(6)"
   ]
  },
  {
   "attachments": {},
   "cell_type": "markdown",
   "metadata": {},
   "source": [
    "#### Repeat"
   ]
  },
  {
   "cell_type": "code",
   "execution_count": 110,
   "metadata": {},
   "outputs": [
    {
     "data": {
      "text/html": [
       "<div><style>\n",
       ".dataframe > thead > tr > th,\n",
       ".dataframe > tbody > tr > td {\n",
       "  text-align: right;\n",
       "}\n",
       "</style>\n",
       "<small>shape: (3, 2)</small><table border=\"1\" class=\"dataframe\"><thead><tr><th>fruit</th><th>order_quantity</th></tr><tr><td>str</td><td>i64</td></tr></thead><tbody><tr><td>&quot;Apple&quot;</td><td>1</td></tr><tr><td>&quot;Banana&quot;</td><td>3</td></tr><tr><td>&quot;Cherry&quot;</td><td>2</td></tr></tbody></table></div>"
      ],
      "text/plain": [
       "shape: (3, 2)\n",
       "┌────────┬────────────────┐\n",
       "│ fruit  ┆ order_quantity │\n",
       "│ ---    ┆ ---            │\n",
       "│ str    ┆ i64            │\n",
       "╞════════╪════════════════╡\n",
       "│ Apple  ┆ 1              │\n",
       "│ Banana ┆ 3              │\n",
       "│ Cherry ┆ 2              │\n",
       "└────────┴────────────────┘"
      ]
     },
     "execution_count": 110,
     "metadata": {},
     "output_type": "execute_result"
    }
   ],
   "source": [
    "# Use a different dataframe for this example\n",
    "# Based on a dataframe with 3 fruits and their order quantities\n",
    "# Repeat the fruit names based on their order quantities\n",
    "\n",
    "df = pl.DataFrame(\n",
    "    {\n",
    "        \"fruit\": [\"Apple\", \"Banana\", \"Cherry\"],\n",
    "        \"order_quantity\": [1, 3, 2],\n",
    "    }\n",
    ")\n",
    "\n",
    "df"
   ]
  },
  {
   "cell_type": "code",
   "execution_count": 112,
   "metadata": {},
   "outputs": [
    {
     "data": {
      "text/html": [
       "<div><style>\n",
       ".dataframe > thead > tr > th,\n",
       ".dataframe > tbody > tr > td {\n",
       "  text-align: right;\n",
       "}\n",
       "</style>\n",
       "<small>shape: (3, 3)</small><table border=\"1\" class=\"dataframe\"><thead><tr><th>fruit</th><th>order_quantity</th><th>fruits_repeated</th></tr><tr><td>str</td><td>i64</td><td>list[str]</td></tr></thead><tbody><tr><td>&quot;Apple&quot;</td><td>1</td><td>[&quot;Apple&quot;]</td></tr><tr><td>&quot;Banana&quot;</td><td>3</td><td>[&quot;Banana&quot;, &quot;Banana&quot;, &quot;Banana&quot;]</td></tr><tr><td>&quot;Cherry&quot;</td><td>2</td><td>[&quot;Cherry&quot;, &quot;Cherry&quot;]</td></tr></tbody></table></div>"
      ],
      "text/plain": [
       "shape: (3, 3)\n",
       "┌────────┬────────────────┬────────────────────────────────┐\n",
       "│ fruit  ┆ order_quantity ┆ fruits_repeated                │\n",
       "│ ---    ┆ ---            ┆ ---                            │\n",
       "│ str    ┆ i64            ┆ list[str]                      │\n",
       "╞════════╪════════════════╪════════════════════════════════╡\n",
       "│ Apple  ┆ 1              ┆ [\"Apple\"]                      │\n",
       "│ Banana ┆ 3              ┆ [\"Banana\", \"Banana\", \"Banana\"] │\n",
       "│ Cherry ┆ 2              ┆ [\"Cherry\", \"Cherry\"]           │\n",
       "└────────┴────────────────┴────────────────────────────────┘"
      ]
     },
     "execution_count": 112,
     "metadata": {},
     "output_type": "execute_result"
    }
   ],
   "source": [
    "df.with_columns(\n",
    "    fruits_repeated = pl.col('fruit').repeat_by('order_quantity')\n",
    ")"
   ]
  },
  {
   "attachments": {},
   "cell_type": "markdown",
   "metadata": {},
   "source": [
    "#### Explode and Implode"
   ]
  },
  {
   "cell_type": "code",
   "execution_count": 116,
   "metadata": {},
   "outputs": [
    {
     "data": {
      "text/html": [
       "<div><style>\n",
       ".dataframe > thead > tr > th,\n",
       ".dataframe > tbody > tr > td {\n",
       "  text-align: right;\n",
       "}\n",
       "</style>\n",
       "<small>shape: (3, 1)</small><table border=\"1\" class=\"dataframe\"><thead><tr><th>abilities</th></tr><tr><td>list[str]</td></tr></thead><tbody><tr><td>[&quot;Overgrow&quot;, &quot;Chlorophyll&quot;]</td></tr><tr><td>[&quot;Overgrow&quot;, &quot;Chlorophyll&quot;]</td></tr><tr><td>[&quot;Overgrow&quot;, &quot;Chlorophyll&quot;]</td></tr></tbody></table></div>"
      ],
      "text/plain": [
       "shape: (3, 1)\n",
       "┌─────────────────────────────┐\n",
       "│ abilities                   │\n",
       "│ ---                         │\n",
       "│ list[str]                   │\n",
       "╞═════════════════════════════╡\n",
       "│ [\"Overgrow\", \"Chlorophyll\"] │\n",
       "│ [\"Overgrow\", \"Chlorophyll\"] │\n",
       "│ [\"Overgrow\", \"Chlorophyll\"] │\n",
       "└─────────────────────────────┘"
      ]
     },
     "execution_count": 116,
     "metadata": {},
     "output_type": "execute_result"
    }
   ],
   "source": [
    "# Explode the list of pokemon abilities: from a column of list to a column of values\n",
    "# Point of attention when using explode: explode increases the number of rows\n",
    "# All columns in a Polars dataframe should have the same number of rows\n",
    "\n",
    "pokemon.head(3).select(\n",
    "    pl.col('abilities')\n",
    ")"
   ]
  },
  {
   "cell_type": "code",
   "execution_count": 117,
   "metadata": {},
   "outputs": [
    {
     "data": {
      "text/html": [
       "<div><style>\n",
       ".dataframe > thead > tr > th,\n",
       ".dataframe > tbody > tr > td {\n",
       "  text-align: right;\n",
       "}\n",
       "</style>\n",
       "<small>shape: (6, 1)</small><table border=\"1\" class=\"dataframe\"><thead><tr><th>abilities</th></tr><tr><td>str</td></tr></thead><tbody><tr><td>&quot;Overgrow&quot;</td></tr><tr><td>&quot;Chlorophyll&quot;</td></tr><tr><td>&quot;Overgrow&quot;</td></tr><tr><td>&quot;Chlorophyll&quot;</td></tr><tr><td>&quot;Overgrow&quot;</td></tr><tr><td>&quot;Chlorophyll&quot;</td></tr></tbody></table></div>"
      ],
      "text/plain": [
       "shape: (6, 1)\n",
       "┌─────────────┐\n",
       "│ abilities   │\n",
       "│ ---         │\n",
       "│ str         │\n",
       "╞═════════════╡\n",
       "│ Overgrow    │\n",
       "│ Chlorophyll │\n",
       "│ Overgrow    │\n",
       "│ Chlorophyll │\n",
       "│ Overgrow    │\n",
       "│ Chlorophyll │\n",
       "└─────────────┘"
      ]
     },
     "execution_count": 117,
     "metadata": {},
     "output_type": "execute_result"
    }
   ],
   "source": [
    "pokemon.head(3).select(\n",
    "    pl.col('abilities').explode()\n",
    ")"
   ]
  },
  {
   "cell_type": "code",
   "execution_count": 36,
   "metadata": {},
   "outputs": [
    {
     "data": {
      "text/html": [
       "<div><style>\n",
       ".dataframe > thead > tr > th,\n",
       ".dataframe > tbody > tr > td {\n",
       "  text-align: right;\n",
       "}\n",
       "</style>\n",
       "<small>shape: (1, 9)</small><table border=\"1\" class=\"dataframe\"><thead><tr><th>name</th><th>type1</th><th>type2</th><th>abilities</th><th>hp</th><th>attack</th><th>defense</th><th>speed</th><th>is_legendary</th></tr><tr><td>list[str]</td><td>list[str]</td><td>list[str]</td><td>list[list[str]]</td><td>list[i64]</td><td>list[i64]</td><td>list[i64]</td><td>list[i64]</td><td>list[i64]</td></tr></thead><tbody><tr><td>[&quot;Bulbasaur&quot;, &quot;Ivysaur&quot;, &quot;Venusaur&quot;]</td><td>[&quot;grass&quot;, &quot;grass&quot;, &quot;grass&quot;]</td><td>[&quot;poison&quot;, &quot;poison&quot;, &quot;poison&quot;]</td><td>[[&quot;Overgrow&quot;, &quot;Chlorophyll&quot;], [&quot;Overgrow&quot;, &quot;Chlorophyll&quot;], [&quot;Overgrow&quot;, &quot;Chlorophyll&quot;]]</td><td>[45, 60, 80]</td><td>[49, 62, 100]</td><td>[49, 63, 123]</td><td>[45, 60, 80]</td><td>[0, 0, 0]</td></tr></tbody></table></div>"
      ],
      "text/plain": [
       "shape: (1, 9)\n",
       "┌───────────┬───────────┬───────────┬─────────┬───┬───────────┬───────────┬───────────┬────────────┐\n",
       "│ name      ┆ type1     ┆ type2     ┆ abiliti ┆ … ┆ attack    ┆ defense   ┆ speed     ┆ is_legenda │\n",
       "│ ---       ┆ ---       ┆ ---       ┆ es      ┆   ┆ ---       ┆ ---       ┆ ---       ┆ ry         │\n",
       "│ list[str] ┆ list[str] ┆ list[str] ┆ ---     ┆   ┆ list[i64] ┆ list[i64] ┆ list[i64] ┆ ---        │\n",
       "│           ┆           ┆           ┆ list[li ┆   ┆           ┆           ┆           ┆ list[i64]  │\n",
       "│           ┆           ┆           ┆ st[str] ┆   ┆           ┆           ┆           ┆            │\n",
       "│           ┆           ┆           ┆ ]       ┆   ┆           ┆           ┆           ┆            │\n",
       "╞═══════════╪═══════════╪═══════════╪═════════╪═══╪═══════════╪═══════════╪═══════════╪════════════╡\n",
       "│ [\"Bulbasa ┆ [\"grass\", ┆ [\"poison\" ┆ [[\"Over ┆ … ┆ [49, 62,  ┆ [49, 63,  ┆ [45, 60,  ┆ [0, 0, 0]  │\n",
       "│ ur\", \"Ivy ┆ \"grass\",  ┆ ,         ┆ grow\",  ┆   ┆ 100]      ┆ 123]      ┆ 80]       ┆            │\n",
       "│ saur\",    ┆ \"grass\"]  ┆ \"poison\", ┆ \"Chloro ┆   ┆           ┆           ┆           ┆            │\n",
       "│ \"Venu…    ┆           ┆ \"poison\"] ┆ phyll\"] ┆   ┆           ┆           ┆           ┆            │\n",
       "│           ┆           ┆           ┆ , …     ┆   ┆           ┆           ┆           ┆            │\n",
       "└───────────┴───────────┴───────────┴─────────┴───┴───────────┴───────────┴───────────┴────────────┘"
      ]
     },
     "execution_count": 36,
     "metadata": {},
     "output_type": "execute_result"
    }
   ],
   "source": [
    "# Implode is the opposite of explode, and aggregates values into lists\n",
    "\n",
    "pokemon.head(3).select(\n",
    "    pl.all().implode(),\n",
    ")"
   ]
  },
  {
   "attachments": {},
   "cell_type": "markdown",
   "metadata": {},
   "source": [
    "#### Conversion between structs and lists"
   ]
  },
  {
   "cell_type": "code",
   "execution_count": 39,
   "metadata": {},
   "outputs": [
    {
     "data": {
      "text/html": [
       "<div><style>\n",
       ".dataframe > thead > tr > th,\n",
       ".dataframe > tbody > tr > td {\n",
       "  text-align: right;\n",
       "}\n",
       "</style>\n",
       "<small>shape: (5, 2)</small><table border=\"1\" class=\"dataframe\"><thead><tr><th>name</th><th>types</th></tr><tr><td>str</td><td>struct[2]</td></tr></thead><tbody><tr><td>&quot;Bulbasaur&quot;</td><td>{&quot;grass&quot;,&quot;poison&quot;}</td></tr><tr><td>&quot;Ivysaur&quot;</td><td>{&quot;grass&quot;,&quot;poison&quot;}</td></tr><tr><td>&quot;Venusaur&quot;</td><td>{&quot;grass&quot;,&quot;poison&quot;}</td></tr><tr><td>&quot;Charmander&quot;</td><td>{&quot;fire&quot;,null}</td></tr><tr><td>&quot;Charmeleon&quot;</td><td>{&quot;fire&quot;,null}</td></tr></tbody></table></div>"
      ],
      "text/plain": [
       "shape: (5, 2)\n",
       "┌────────────┬────────────────────┐\n",
       "│ name       ┆ types              │\n",
       "│ ---        ┆ ---                │\n",
       "│ str        ┆ struct[2]          │\n",
       "╞════════════╪════════════════════╡\n",
       "│ Bulbasaur  ┆ {\"grass\",\"poison\"} │\n",
       "│ Ivysaur    ┆ {\"grass\",\"poison\"} │\n",
       "│ Venusaur   ┆ {\"grass\",\"poison\"} │\n",
       "│ Charmander ┆ {\"fire\",null}      │\n",
       "│ Charmeleon ┆ {\"fire\",null}      │\n",
       "└────────────┴────────────────────┘"
      ]
     },
     "execution_count": 39,
     "metadata": {},
     "output_type": "execute_result"
    }
   ],
   "source": [
    "# Combine type 1 and type 2 in a new struct column\n",
    "\n",
    "pokemon.select(\n",
    "    'name',\n",
    "    types = pl.struct('type1', 'type2')\n",
    ").head(5)"
   ]
  },
  {
   "cell_type": "code",
   "execution_count": 40,
   "metadata": {},
   "outputs": [
    {
     "data": {
      "text/plain": [
       "{'name': Utf8, 'types': Struct([Field('type1', Utf8), Field('type2', Utf8)])}"
      ]
     },
     "execution_count": 40,
     "metadata": {},
     "output_type": "execute_result"
    }
   ],
   "source": [
    "# The struct column retains the type information of each initial column:\n",
    "# Struct are views on the initial columns so the data is not copied\n",
    "# The table schema shows that the names of the initial columns are retained \n",
    "\n",
    "pokemon.select(\n",
    "    'name',\n",
    "    types = pl.struct('type1', 'type2')\n",
    ").schema"
   ]
  },
  {
   "cell_type": "code",
   "execution_count": 41,
   "metadata": {},
   "outputs": [
    {
     "data": {
      "text/html": [
       "<div><style>\n",
       ".dataframe > thead > tr > th,\n",
       ".dataframe > tbody > tr > td {\n",
       "  text-align: right;\n",
       "}\n",
       "</style>\n",
       "<small>shape: (5, 1)</small><table border=\"1\" class=\"dataframe\"><thead><tr><th>types_count</th></tr><tr><td>struct[2]</td></tr></thead><tbody><tr><td>{{&quot;grass&quot;,&quot;poison&quot;},14}</td></tr><tr><td>{{&quot;fire&quot;,null},27}</td></tr><tr><td>{{&quot;fire&quot;,&quot;flying&quot;},6}</td></tr><tr><td>{{&quot;water&quot;,null},61}</td></tr><tr><td>{{&quot;bug&quot;,null},18}</td></tr></tbody></table></div>"
      ],
      "text/plain": [
       "shape: (5, 1)\n",
       "┌─────────────────────────┐\n",
       "│ types_count             │\n",
       "│ ---                     │\n",
       "│ struct[2]               │\n",
       "╞═════════════════════════╡\n",
       "│ {{\"grass\",\"poison\"},14} │\n",
       "│ {{\"fire\",null},27}      │\n",
       "│ {{\"fire\",\"flying\"},6}   │\n",
       "│ {{\"water\",null},61}     │\n",
       "│ {{\"bug\",null},18}       │\n",
       "└─────────────────────────┘"
      ]
     },
     "execution_count": 41,
     "metadata": {},
     "output_type": "execute_result"
    }
   ],
   "source": [
    "# structs are important because they allow us to do calculations on combined columns\n",
    "# We can calculate the how many times each combination of types occurs\n",
    "\n",
    "pokemon.select(\n",
    "    types_count = pl.struct('type1', 'type2').value_counts()\n",
    ").head(5)"
   ]
  },
  {
   "cell_type": "code",
   "execution_count": 42,
   "metadata": {},
   "outputs": [
    {
     "data": {
      "text/html": [
       "<div><style>\n",
       ".dataframe > thead > tr > th,\n",
       ".dataframe > tbody > tr > td {\n",
       "  text-align: right;\n",
       "}\n",
       "</style>\n",
       "<small>shape: (5, 2)</small><table border=\"1\" class=\"dataframe\"><thead><tr><th>name</th><th>types</th></tr><tr><td>str</td><td>list[str]</td></tr></thead><tbody><tr><td>&quot;Bulbasaur&quot;</td><td>[&quot;grass&quot;, &quot;poison&quot;]</td></tr><tr><td>&quot;Ivysaur&quot;</td><td>[&quot;grass&quot;, &quot;poison&quot;]</td></tr><tr><td>&quot;Venusaur&quot;</td><td>[&quot;grass&quot;, &quot;poison&quot;]</td></tr><tr><td>&quot;Charmander&quot;</td><td>[&quot;fire&quot;, null]</td></tr><tr><td>&quot;Charmeleon&quot;</td><td>[&quot;fire&quot;, null]</td></tr></tbody></table></div>"
      ],
      "text/plain": [
       "shape: (5, 2)\n",
       "┌────────────┬─────────────────────┐\n",
       "│ name       ┆ types               │\n",
       "│ ---        ┆ ---                 │\n",
       "│ str        ┆ list[str]           │\n",
       "╞════════════╪═════════════════════╡\n",
       "│ Bulbasaur  ┆ [\"grass\", \"poison\"] │\n",
       "│ Ivysaur    ┆ [\"grass\", \"poison\"] │\n",
       "│ Venusaur   ┆ [\"grass\", \"poison\"] │\n",
       "│ Charmander ┆ [\"fire\", null]      │\n",
       "│ Charmeleon ┆ [\"fire\", null]      │\n",
       "└────────────┴─────────────────────┘"
      ]
     },
     "execution_count": 42,
     "metadata": {},
     "output_type": "execute_result"
    }
   ],
   "source": [
    "# Combine type 1 and type 2 in a new list column\n",
    "\n",
    "pokemon.select(\n",
    "    'name',\n",
    "    types = pl.concat_list('type1', 'type2')\n",
    ").head(5)"
   ]
  },
  {
   "cell_type": "code",
   "execution_count": 43,
   "metadata": {},
   "outputs": [
    {
     "data": {
      "text/plain": [
       "{'name': Utf8, 'types': List(Utf8)}"
      ]
     },
     "execution_count": 43,
     "metadata": {},
     "output_type": "execute_result"
    }
   ],
   "source": [
    "# List columns do not retain the name of the initial columns\n",
    "# In List columns, each row can have a different number of elements differently from Struct columns\n",
    "# where each row has the same number of elements\n",
    "\n",
    "pokemon.select(\n",
    "    'name',\n",
    "    types = pl.concat_list('type1', 'type2')\n",
    ").schema"
   ]
  },
  {
   "cell_type": "code",
   "execution_count": 44,
   "metadata": {},
   "outputs": [
    {
     "data": {
      "text/html": [
       "<div><style>\n",
       ".dataframe > thead > tr > th,\n",
       ".dataframe > tbody > tr > td {\n",
       "  text-align: right;\n",
       "}\n",
       "</style>\n",
       "<small>shape: (5, 1)</small><table border=\"1\" class=\"dataframe\"><thead><tr><th>abilities</th></tr><tr><td>struct[6]</td></tr></thead><tbody><tr><td>{&quot;Overgrow&quot;,&quot;Chlorophyll&quot;,null,null,null,null}</td></tr><tr><td>{&quot;Overgrow&quot;,&quot;Chlorophyll&quot;,null,null,null,null}</td></tr><tr><td>{&quot;Overgrow&quot;,&quot;Chlorophyll&quot;,null,null,null,null}</td></tr><tr><td>{&quot;Blaze&quot;,&quot;Solar Power&quot;,null,null,null,null}</td></tr><tr><td>{&quot;Blaze&quot;,&quot;Solar Power&quot;,null,null,null,null}</td></tr></tbody></table></div>"
      ],
      "text/plain": [
       "shape: (5, 1)\n",
       "┌─────────────────────────────────┐\n",
       "│ abilities                       │\n",
       "│ ---                             │\n",
       "│ struct[6]                       │\n",
       "╞═════════════════════════════════╡\n",
       "│ {\"Overgrow\",\"Chlorophyll\",null… │\n",
       "│ {\"Overgrow\",\"Chlorophyll\",null… │\n",
       "│ {\"Overgrow\",\"Chlorophyll\",null… │\n",
       "│ {\"Blaze\",\"Solar Power\",null,nu… │\n",
       "│ {\"Blaze\",\"Solar Power\",null,nu… │\n",
       "└─────────────────────────────────┘"
      ]
     },
     "execution_count": 44,
     "metadata": {},
     "output_type": "execute_result"
    }
   ],
   "source": [
    "# List columns can be converted to a struct\n",
    "# If number of elements are not the same, then the missing values are filled with null\n",
    "\n",
    "pokemon.select(\n",
    "    pl.col('abilities').list.to_struct(n_field_strategy = 'max_width')\n",
    ").head(5)"
   ]
  },
  {
   "cell_type": "code",
   "execution_count": 45,
   "metadata": {},
   "outputs": [
    {
     "data": {
      "text/plain": [
       "{'abilities': Struct([Field('field_0', Utf8), Field('field_1', Utf8), Field('field_2', Utf8), Field('field_3', Utf8), Field('field_4', Utf8), Field('field_5', Utf8)])}"
      ]
     },
     "execution_count": 45,
     "metadata": {},
     "output_type": "execute_result"
    }
   ],
   "source": [
    "# By default, the fields inside of the struct are called field_0, field_1, etc.\n",
    "\n",
    "pokemon.select(\n",
    "    pl.col('abilities').list.to_struct(n_field_strategy = 'max_width')\n",
    ").schema"
   ]
  },
  {
   "cell_type": "code",
   "execution_count": 46,
   "metadata": {},
   "outputs": [
    {
     "data": {
      "text/plain": [
       "{'abilities': Struct([Field('ability_0', Utf8), Field('ability_1', Utf8), Field('ability_2', Utf8), Field('ability_3', Utf8), Field('ability_4', Utf8), Field('ability_5', Utf8)])}"
      ]
     },
     "execution_count": 46,
     "metadata": {},
     "output_type": "execute_result"
    }
   ],
   "source": [
    "# It's possible to change the name with the argument fields, for example calling them ability_0, ability_1, etc.\n",
    "\n",
    "pokemon.select(\n",
    "    pl.col('abilities')\n",
    "    .list.to_struct(n_field_strategy = 'max_width', fields = lambda i: f'ability_{i}')\n",
    ").schema"
   ]
  },
  {
   "cell_type": "code",
   "execution_count": 47,
   "metadata": {},
   "outputs": [
    {
     "data": {
      "text/html": [
       "<div><style>\n",
       ".dataframe > thead > tr > th,\n",
       ".dataframe > tbody > tr > td {\n",
       "  text-align: right;\n",
       "}\n",
       "</style>\n",
       "<small>shape: (5, 6)</small><table border=\"1\" class=\"dataframe\"><thead><tr><th>field_0</th><th>field_1</th><th>field_2</th><th>field_3</th><th>field_4</th><th>field_5</th></tr><tr><td>str</td><td>str</td><td>str</td><td>str</td><td>str</td><td>str</td></tr></thead><tbody><tr><td>&quot;Overgrow&quot;</td><td>&quot;Chlorophyll&quot;</td><td>null</td><td>null</td><td>null</td><td>null</td></tr><tr><td>&quot;Overgrow&quot;</td><td>&quot;Chlorophyll&quot;</td><td>null</td><td>null</td><td>null</td><td>null</td></tr><tr><td>&quot;Overgrow&quot;</td><td>&quot;Chlorophyll&quot;</td><td>null</td><td>null</td><td>null</td><td>null</td></tr><tr><td>&quot;Blaze&quot;</td><td>&quot;Solar Power&quot;</td><td>null</td><td>null</td><td>null</td><td>null</td></tr><tr><td>&quot;Blaze&quot;</td><td>&quot;Solar Power&quot;</td><td>null</td><td>null</td><td>null</td><td>null</td></tr></tbody></table></div>"
      ],
      "text/plain": [
       "shape: (5, 6)\n",
       "┌──────────┬─────────────┬─────────┬─────────┬─────────┬─────────┐\n",
       "│ field_0  ┆ field_1     ┆ field_2 ┆ field_3 ┆ field_4 ┆ field_5 │\n",
       "│ ---      ┆ ---         ┆ ---     ┆ ---     ┆ ---     ┆ ---     │\n",
       "│ str      ┆ str         ┆ str     ┆ str     ┆ str     ┆ str     │\n",
       "╞══════════╪═════════════╪═════════╪═════════╪═════════╪═════════╡\n",
       "│ Overgrow ┆ Chlorophyll ┆ null    ┆ null    ┆ null    ┆ null    │\n",
       "│ Overgrow ┆ Chlorophyll ┆ null    ┆ null    ┆ null    ┆ null    │\n",
       "│ Overgrow ┆ Chlorophyll ┆ null    ┆ null    ┆ null    ┆ null    │\n",
       "│ Blaze    ┆ Solar Power ┆ null    ┆ null    ┆ null    ┆ null    │\n",
       "│ Blaze    ┆ Solar Power ┆ null    ┆ null    ┆ null    ┆ null    │\n",
       "└──────────┴─────────────┴─────────┴─────────┴─────────┴─────────┘"
      ]
     },
     "execution_count": 47,
     "metadata": {},
     "output_type": "execute_result"
    }
   ],
   "source": [
    "# We can un-nest struct columns and expand them into multiple columns\n",
    "\n",
    "pokemon.select(\n",
    "    pl.col('abilities')\n",
    "    .list.to_struct(n_field_strategy = 'max_width')\n",
    ").unnest('abilities').head(5)"
   ]
  },
  {
   "attachments": {},
   "cell_type": "markdown",
   "metadata": {},
   "source": [
    "#### Pivot, Melt, Unstack and Transpose"
   ]
  },
  {
   "cell_type": "code",
   "execution_count": 48,
   "metadata": {},
   "outputs": [
    {
     "data": {
      "text/html": [
       "<div><style>\n",
       ".dataframe > thead > tr > th,\n",
       ".dataframe > tbody > tr > td {\n",
       "  text-align: right;\n",
       "}\n",
       "</style>\n",
       "<small>shape: (18, 20)</small><table border=\"1\" class=\"dataframe\"><thead><tr><th>type1</th><th>poison</th><th>null</th><th>flying</th><th>dark</th><th>electric</th><th>ice</th><th>ground</th><th>fairy</th><th>grass</th><th>fighting</th><th>psychic</th><th>steel</th><th>fire</th><th>rock</th><th>water</th><th>dragon</th><th>ghost</th><th>bug</th><th>normal</th></tr><tr><td>str</td><td>u32</td><td>u32</td><td>u32</td><td>u32</td><td>u32</td><td>u32</td><td>u32</td><td>u32</td><td>u32</td><td>u32</td><td>u32</td><td>u32</td><td>u32</td><td>u32</td><td>u32</td><td>u32</td><td>u32</td><td>u32</td><td>u32</td></tr></thead><tbody><tr><td>&quot;grass&quot;</td><td>14</td><td>37</td><td>6</td><td>3</td><td>null</td><td>2</td><td>1</td><td>5</td><td>1</td><td>3</td><td>2</td><td>3</td><td>null</td><td>null</td><td>null</td><td>null</td><td>1</td><td>null</td><td>null</td></tr><tr><td>&quot;fire&quot;</td><td>null</td><td>27</td><td>6</td><td>1</td><td>null</td><td>2</td><td>2</td><td>null</td><td>null</td><td>6</td><td>1</td><td>1</td><td>1</td><td>1</td><td>1</td><td>1</td><td>null</td><td>null</td><td>2</td></tr><tr><td>&quot;water&quot;</td><td>3</td><td>61</td><td>7</td><td>4</td><td>2</td><td>3</td><td>9</td><td>4</td><td>3</td><td>2</td><td>5</td><td>1</td><td>null</td><td>4</td><td>null</td><td>2</td><td>2</td><td>2</td><td>null</td></tr><tr><td>&quot;bug&quot;</td><td>11</td><td>18</td><td>13</td><td>null</td><td>4</td><td>null</td><td>1</td><td>2</td><td>6</td><td>3</td><td>null</td><td>5</td><td>2</td><td>3</td><td>3</td><td>null</td><td>1</td><td>null</td><td>null</td></tr><tr><td>&quot;normal&quot;</td><td>null</td><td>61</td><td>26</td><td>4</td><td>null</td><td>null</td><td>1</td><td>4</td><td>2</td><td>2</td><td>3</td><td>null</td><td>null</td><td>null</td><td>1</td><td>1</td><td>null</td><td>null</td><td>null</td></tr><tr><td>&quot;poison&quot;</td><td>2</td><td>13</td><td>3</td><td>3</td><td>null</td><td>null</td><td>2</td><td>null</td><td>null</td><td>2</td><td>null</td><td>null</td><td>2</td><td>null</td><td>3</td><td>1</td><td>null</td><td>1</td><td>null</td></tr><tr><td>&quot;electric&quot;</td><td>null</td><td>26</td><td>3</td><td>null</td><td>1</td><td>null</td><td>null</td><td>2</td><td>null</td><td>null</td><td>null</td><td>4</td><td>null</td><td>null</td><td>null</td><td>null</td><td>1</td><td>null</td><td>2</td></tr><tr><td>&quot;ground&quot;</td><td>null</td><td>10</td><td>3</td><td>3</td><td>1</td><td>2</td><td>2</td><td>null</td><td>null</td><td>null</td><td>2</td><td>1</td><td>1</td><td>3</td><td>null</td><td>2</td><td>2</td><td>null</td><td>null</td></tr><tr><td>&quot;fairy&quot;</td><td>null</td><td>16</td><td>2</td><td>null</td><td>null</td><td>null</td><td>null</td><td>null</td><td>null</td><td>null</td><td>null</td><td>null</td><td>null</td><td>null</td><td>null</td><td>null</td><td>null</td><td>null</td><td>null</td></tr><tr><td>&quot;fighting&quot;</td><td>null</td><td>22</td><td>1</td><td>1</td><td>null</td><td>1</td><td>null</td><td>null</td><td>null</td><td>null</td><td>2</td><td>1</td><td>null</td><td>null</td><td>null</td><td>null</td><td>null</td><td>null</td><td>null</td></tr><tr><td>&quot;psychic&quot;</td><td>null</td><td>35</td><td>6</td><td>null</td><td>null</td><td>null</td><td>null</td><td>6</td><td>1</td><td>1</td><td>null</td><td>1</td><td>1</td><td>null</td><td>null</td><td>null</td><td>2</td><td>null</td><td>null</td></tr><tr><td>&quot;rock&quot;</td><td>1</td><td>11</td><td>4</td><td>1</td><td>null</td><td>2</td><td>6</td><td>2</td><td>2</td><td>1</td><td>2</td><td>3</td><td>null</td><td>null</td><td>6</td><td>2</td><td>null</td><td>2</td><td>null</td></tr><tr><td>&quot;ghost&quot;</td><td>3</td><td>9</td><td>2</td><td>1</td><td>null</td><td>null</td><td>2</td><td>1</td><td>5</td><td>null</td><td>null</td><td>null</td><td>3</td><td>null</td><td>null</td><td>1</td><td>null</td><td>null</td><td>null</td></tr><tr><td>&quot;ice&quot;</td><td>null</td><td>12</td><td>2</td><td>null</td><td>null</td><td>null</td><td>3</td><td>null</td><td>null</td><td>null</td><td>2</td><td>null</td><td>null</td><td>null</td><td>3</td><td>null</td><td>1</td><td>null</td><td>null</td></tr><tr><td>&quot;dragon&quot;</td><td>null</td><td>12</td><td>4</td><td>null</td><td>1</td><td>1</td><td>4</td><td>null</td><td>null</td><td>2</td><td>2</td><td>null</td><td>1</td><td>null</td><td>null</td><td>null</td><td>null</td><td>null</td><td>null</td></tr><tr><td>&quot;dark&quot;</td><td>null</td><td>9</td><td>5</td><td>null</td><td>null</td><td>2</td><td>null</td><td>null</td><td>null</td><td>2</td><td>2</td><td>2</td><td>2</td><td>null</td><td>null</td><td>4</td><td>1</td><td>null</td><td>null</td></tr><tr><td>&quot;steel&quot;</td><td>null</td><td>4</td><td>2</td><td>null</td><td>null</td><td>null</td><td>1</td><td>3</td><td>null</td><td>1</td><td>6</td><td>null</td><td>null</td><td>3</td><td>null</td><td>1</td><td>3</td><td>null</td><td>null</td></tr><tr><td>&quot;flying&quot;</td><td>null</td><td>1</td><td>null</td><td>null</td><td>null</td><td>null</td><td>null</td><td>null</td><td>null</td><td>null</td><td>null</td><td>null</td><td>null</td><td>null</td><td>null</td><td>2</td><td>null</td><td>null</td><td>null</td></tr></tbody></table></div>"
      ],
      "text/plain": [
       "shape: (18, 20)\n",
       "┌────────┬────────┬──────┬────────┬───┬────────┬───────┬──────┬────────┐\n",
       "│ type1  ┆ poison ┆ null ┆ flying ┆ … ┆ dragon ┆ ghost ┆ bug  ┆ normal │\n",
       "│ ---    ┆ ---    ┆ ---  ┆ ---    ┆   ┆ ---    ┆ ---   ┆ ---  ┆ ---    │\n",
       "│ str    ┆ u32    ┆ u32  ┆ u32    ┆   ┆ u32    ┆ u32   ┆ u32  ┆ u32    │\n",
       "╞════════╪════════╪══════╪════════╪═══╪════════╪═══════╪══════╪════════╡\n",
       "│ grass  ┆ 14     ┆ 37   ┆ 6      ┆ … ┆ null   ┆ 1     ┆ null ┆ null   │\n",
       "│ fire   ┆ null   ┆ 27   ┆ 6      ┆ … ┆ 1      ┆ null  ┆ null ┆ 2      │\n",
       "│ water  ┆ 3      ┆ 61   ┆ 7      ┆ … ┆ 2      ┆ 2     ┆ 2    ┆ null   │\n",
       "│ bug    ┆ 11     ┆ 18   ┆ 13     ┆ … ┆ null   ┆ 1     ┆ null ┆ null   │\n",
       "│ …      ┆ …      ┆ …    ┆ …      ┆ … ┆ …      ┆ …     ┆ …    ┆ …      │\n",
       "│ dragon ┆ null   ┆ 12   ┆ 4      ┆ … ┆ null   ┆ null  ┆ null ┆ null   │\n",
       "│ dark   ┆ null   ┆ 9    ┆ 5      ┆ … ┆ 4      ┆ 1     ┆ null ┆ null   │\n",
       "│ steel  ┆ null   ┆ 4    ┆ 2      ┆ … ┆ 1      ┆ 3     ┆ null ┆ null   │\n",
       "│ flying ┆ null   ┆ 1    ┆ null   ┆ … ┆ 2      ┆ null  ┆ null ┆ null   │\n",
       "└────────┴────────┴──────┴────────┴───┴────────┴───────┴──────┴────────┘"
      ]
     },
     "execution_count": 48,
     "metadata": {},
     "output_type": "execute_result"
    }
   ],
   "source": [
    "# Pivot type 2 to the columns and count the number of pokemons for each type 1 and type 2 combination\n",
    "\n",
    "pokemon.pivot(\n",
    "    values = 'name',\n",
    "    index = 'type1',\n",
    "    columns = 'type2',\n",
    "    aggregate_function=pl.element().count()\n",
    ")\n"
   ]
  },
  {
   "cell_type": "code",
   "execution_count": 49,
   "metadata": {},
   "outputs": [
    {
     "data": {
      "text/html": [
       "<div><style>\n",
       ".dataframe > thead > tr > th,\n",
       ".dataframe > tbody > tr > td {\n",
       "  text-align: right;\n",
       "}\n",
       "</style>\n",
       "<small>shape: (18, 5)</small><table border=\"1\" class=\"dataframe\"><thead><tr><th>type1</th><th>poison</th><th>flying</th><th>dark</th><th>electric</th></tr><tr><td>str</td><td>u32</td><td>u32</td><td>u32</td><td>u32</td></tr></thead><tbody><tr><td>&quot;fire&quot;</td><td>0</td><td>6</td><td>1</td><td>0</td></tr><tr><td>&quot;grass&quot;</td><td>14</td><td>6</td><td>3</td><td>0</td></tr><tr><td>&quot;psychic&quot;</td><td>0</td><td>6</td><td>0</td><td>0</td></tr><tr><td>&quot;flying&quot;</td><td>0</td><td>0</td><td>0</td><td>0</td></tr><tr><td>&quot;dark&quot;</td><td>0</td><td>5</td><td>0</td><td>0</td></tr><tr><td>&quot;water&quot;</td><td>3</td><td>7</td><td>4</td><td>2</td></tr><tr><td>&quot;ice&quot;</td><td>0</td><td>2</td><td>0</td><td>0</td></tr><tr><td>&quot;poison&quot;</td><td>2</td><td>3</td><td>3</td><td>0</td></tr><tr><td>&quot;ghost&quot;</td><td>3</td><td>2</td><td>1</td><td>0</td></tr><tr><td>&quot;dragon&quot;</td><td>0</td><td>4</td><td>0</td><td>1</td></tr><tr><td>&quot;normal&quot;</td><td>0</td><td>26</td><td>4</td><td>0</td></tr><tr><td>&quot;fairy&quot;</td><td>0</td><td>2</td><td>0</td><td>0</td></tr><tr><td>&quot;rock&quot;</td><td>1</td><td>4</td><td>1</td><td>0</td></tr><tr><td>&quot;steel&quot;</td><td>0</td><td>2</td><td>0</td><td>0</td></tr><tr><td>&quot;electric&quot;</td><td>0</td><td>3</td><td>0</td><td>1</td></tr><tr><td>&quot;ground&quot;</td><td>0</td><td>3</td><td>3</td><td>1</td></tr><tr><td>&quot;fighting&quot;</td><td>0</td><td>1</td><td>1</td><td>0</td></tr><tr><td>&quot;bug&quot;</td><td>11</td><td>13</td><td>0</td><td>4</td></tr></tbody></table></div>"
      ],
      "text/plain": [
       "shape: (18, 5)\n",
       "┌──────────┬────────┬────────┬──────┬──────────┐\n",
       "│ type1    ┆ poison ┆ flying ┆ dark ┆ electric │\n",
       "│ ---      ┆ ---    ┆ ---    ┆ ---  ┆ ---      │\n",
       "│ str      ┆ u32    ┆ u32    ┆ u32  ┆ u32      │\n",
       "╞══════════╪════════╪════════╪══════╪══════════╡\n",
       "│ fire     ┆ 0      ┆ 6      ┆ 1    ┆ 0        │\n",
       "│ grass    ┆ 14     ┆ 6      ┆ 3    ┆ 0        │\n",
       "│ psychic  ┆ 0      ┆ 6      ┆ 0    ┆ 0        │\n",
       "│ flying   ┆ 0      ┆ 0      ┆ 0    ┆ 0        │\n",
       "│ …        ┆ …      ┆ …      ┆ …    ┆ …        │\n",
       "│ electric ┆ 0      ┆ 3      ┆ 0    ┆ 1        │\n",
       "│ ground   ┆ 0      ┆ 3      ┆ 3    ┆ 1        │\n",
       "│ fighting ┆ 0      ┆ 1      ┆ 1    ┆ 0        │\n",
       "│ bug      ┆ 11     ┆ 13     ┆ 0    ┆ 4        │\n",
       "└──────────┴────────┴────────┴──────┴──────────┘"
      ]
     },
     "execution_count": 49,
     "metadata": {},
     "output_type": "execute_result"
    }
   ],
   "source": [
    "# Pivot does not exist in lazy mode, however it's possible to reproduce it with group by\n",
    "# In this case, we need to specify the resulting columns in the code\n",
    "\n",
    "pokemon.lazy().groupby('type1').agg(\n",
    "    pl.col('name').filter(pl.col('type2') == pokemon_type).count().alias(pokemon_type)\n",
    "      for pokemon_type in ['poison', 'flying', 'dark', 'electric']\n",
    ").collect()"
   ]
  },
  {
   "cell_type": "code",
   "execution_count": 50,
   "metadata": {},
   "outputs": [
    {
     "data": {
      "text/html": [
       "<div><style>\n",
       ".dataframe > thead > tr > th,\n",
       ".dataframe > tbody > tr > td {\n",
       "  text-align: right;\n",
       "}\n",
       "</style>\n",
       "<small>shape: (6, 5)</small><table border=\"1\" class=\"dataframe\"><thead><tr><th>name</th><th>type1</th><th>type2</th><th>variable</th><th>value</th></tr><tr><td>str</td><td>str</td><td>str</td><td>str</td><td>i64</td></tr></thead><tbody><tr><td>&quot;Abomasnow&quot;</td><td>&quot;grass&quot;</td><td>&quot;ice&quot;</td><td>&quot;hp&quot;</td><td>90</td></tr><tr><td>&quot;Abomasnow&quot;</td><td>&quot;grass&quot;</td><td>&quot;ice&quot;</td><td>&quot;attack&quot;</td><td>132</td></tr><tr><td>&quot;Abomasnow&quot;</td><td>&quot;grass&quot;</td><td>&quot;ice&quot;</td><td>&quot;defense&quot;</td><td>105</td></tr><tr><td>&quot;Abra&quot;</td><td>&quot;psychic&quot;</td><td>null</td><td>&quot;hp&quot;</td><td>25</td></tr><tr><td>&quot;Abra&quot;</td><td>&quot;psychic&quot;</td><td>null</td><td>&quot;attack&quot;</td><td>20</td></tr><tr><td>&quot;Abra&quot;</td><td>&quot;psychic&quot;</td><td>null</td><td>&quot;defense&quot;</td><td>15</td></tr></tbody></table></div>"
      ],
      "text/plain": [
       "shape: (6, 5)\n",
       "┌───────────┬─────────┬───────┬──────────┬───────┐\n",
       "│ name      ┆ type1   ┆ type2 ┆ variable ┆ value │\n",
       "│ ---       ┆ ---     ┆ ---   ┆ ---      ┆ ---   │\n",
       "│ str       ┆ str     ┆ str   ┆ str      ┆ i64   │\n",
       "╞═══════════╪═════════╪═══════╪══════════╪═══════╡\n",
       "│ Abomasnow ┆ grass   ┆ ice   ┆ hp       ┆ 90    │\n",
       "│ Abomasnow ┆ grass   ┆ ice   ┆ attack   ┆ 132   │\n",
       "│ Abomasnow ┆ grass   ┆ ice   ┆ defense  ┆ 105   │\n",
       "│ Abra      ┆ psychic ┆ null  ┆ hp       ┆ 25    │\n",
       "│ Abra      ┆ psychic ┆ null  ┆ attack   ┆ 20    │\n",
       "│ Abra      ┆ psychic ┆ null  ┆ defense  ┆ 15    │\n",
       "└───────────┴─────────┴───────┴──────────┴───────┘"
      ]
     },
     "execution_count": 50,
     "metadata": {},
     "output_type": "execute_result"
    }
   ],
   "source": [
    "# Melt is the opposite of pivot, it brings the header of multiple columns into one column\n",
    "# and their value in another column\n",
    "\n",
    "pokemon.melt(\n",
    "    id_vars = ['name', 'type1', 'type2'],\n",
    "    value_vars = ['hp','attack', 'defense']\n",
    ").sort(by='name').head(6)"
   ]
  },
  {
   "cell_type": "code",
   "execution_count": 51,
   "metadata": {},
   "outputs": [
    {
     "data": {
      "text/html": [
       "<div><style>\n",
       ".dataframe > thead > tr > th,\n",
       ".dataframe > tbody > tr > td {\n",
       "  text-align: right;\n",
       "}\n",
       "</style>\n",
       "<small>shape: (3, 10)</small><table border=\"1\" class=\"dataframe\"><thead><tr><th>name_0</th><th>name_1</th><th>name_2</th><th>attack_0</th><th>attack_1</th><th>attack_2</th><th>defense_0</th><th>defense_1</th><th>defense_2</th><th>level</th></tr><tr><td>str</td><td>str</td><td>str</td><td>i64</td><td>i64</td><td>i64</td><td>i64</td><td>i64</td><td>i64</td><td>i64</td></tr></thead><tbody><tr><td>&quot;Bulbasaur&quot;</td><td>&quot;Charmander&quot;</td><td>&quot;Squirtle&quot;</td><td>49</td><td>52</td><td>48</td><td>49</td><td>43</td><td>65</td><td>1</td></tr><tr><td>&quot;Ivysaur&quot;</td><td>&quot;Charmeleon&quot;</td><td>&quot;Wartortle&quot;</td><td>62</td><td>64</td><td>63</td><td>63</td><td>58</td><td>80</td><td>2</td></tr><tr><td>&quot;Venusaur&quot;</td><td>&quot;Charizard&quot;</td><td>&quot;Blastoise&quot;</td><td>100</td><td>104</td><td>103</td><td>123</td><td>78</td><td>120</td><td>3</td></tr></tbody></table></div>"
      ],
      "text/plain": [
       "shape: (3, 10)\n",
       "┌───────────┬────────────┬───────────┬──────────┬───┬───────────┬───────────┬───────────┬───────┐\n",
       "│ name_0    ┆ name_1     ┆ name_2    ┆ attack_0 ┆ … ┆ defense_0 ┆ defense_1 ┆ defense_2 ┆ level │\n",
       "│ ---       ┆ ---        ┆ ---       ┆ ---      ┆   ┆ ---       ┆ ---       ┆ ---       ┆ ---   │\n",
       "│ str       ┆ str        ┆ str       ┆ i64      ┆   ┆ i64       ┆ i64       ┆ i64       ┆ i64   │\n",
       "╞═══════════╪════════════╪═══════════╪══════════╪═══╪═══════════╪═══════════╪═══════════╪═══════╡\n",
       "│ Bulbasaur ┆ Charmander ┆ Squirtle  ┆ 49       ┆ … ┆ 49        ┆ 43        ┆ 65        ┆ 1     │\n",
       "│ Ivysaur   ┆ Charmeleon ┆ Wartortle ┆ 62       ┆ … ┆ 63        ┆ 58        ┆ 80        ┆ 2     │\n",
       "│ Venusaur  ┆ Charizard  ┆ Blastoise ┆ 100      ┆ … ┆ 123       ┆ 78        ┆ 120       ┆ 3     │\n",
       "└───────────┴────────────┴───────────┴──────────┴───┴───────────┴───────────┴───────────┴───────┘"
      ]
     },
     "execution_count": 51,
     "metadata": {},
     "output_type": "execute_result"
    }
   ],
   "source": [
    "# Unstack breaks the dataframe into multiple groups of the same size \n",
    "# and moves these groups to new columns\n",
    "# Here we split the dataframe into groups of 3, and add a column with the level of the pokemon\n",
    "\n",
    "(\n",
    "    pokemon\n",
    "    .head(9)\n",
    "    .unstack(columns = ['name', 'attack', 'defense'], step=3, how=\"vertical\")\n",
    "    .with_columns(\n",
    "        level = pl.Series(range(1,4))\n",
    "        )\n",
    ")"
   ]
  },
  {
   "cell_type": "code",
   "execution_count": 52,
   "metadata": {},
   "outputs": [
    {
     "data": {
      "text/html": [
       "<div><style>\n",
       ".dataframe > thead > tr > th,\n",
       ".dataframe > tbody > tr > td {\n",
       "  text-align: right;\n",
       "}\n",
       "</style>\n",
       "<small>shape: (3, 3)</small><table border=\"1\" class=\"dataframe\"><thead><tr><th>column_0</th><th>column_1</th><th>column_2</th></tr><tr><td>str</td><td>str</td><td>str</td></tr></thead><tbody><tr><td>&quot;Bulbasaur&quot;</td><td>&quot;Ivysaur&quot;</td><td>&quot;Venusaur&quot;</td></tr><tr><td>&quot;grass&quot;</td><td>&quot;grass&quot;</td><td>&quot;grass&quot;</td></tr><tr><td>&quot;poison&quot;</td><td>&quot;poison&quot;</td><td>&quot;poison&quot;</td></tr></tbody></table></div>"
      ],
      "text/plain": [
       "shape: (3, 3)\n",
       "┌───────────┬──────────┬──────────┐\n",
       "│ column_0  ┆ column_1 ┆ column_2 │\n",
       "│ ---       ┆ ---      ┆ ---      │\n",
       "│ str       ┆ str      ┆ str      │\n",
       "╞═══════════╪══════════╪══════════╡\n",
       "│ Bulbasaur ┆ Ivysaur  ┆ Venusaur │\n",
       "│ grass     ┆ grass    ┆ grass    │\n",
       "│ poison    ┆ poison   ┆ poison   │\n",
       "└───────────┴──────────┴──────────┘"
      ]
     },
     "execution_count": 52,
     "metadata": {},
     "output_type": "execute_result"
    }
   ],
   "source": [
    "# Transpose inverses the rows and columns of a dataframe\n",
    "# It's a computationally expensive operation, so it should be used only if no other option is available\n",
    "\n",
    "pokemon.head(3).select(\n",
    "    'name',\n",
    "    'type1',\n",
    "    'type2'\n",
    ").transpose()"
   ]
  },
  {
   "attachments": {},
   "cell_type": "markdown",
   "metadata": {},
   "source": [
    "#### Merge DataFrames: hstack, vstack, extend, concat, join, join_asof"
   ]
  },
  {
   "cell_type": "code",
   "execution_count": 53,
   "metadata": {},
   "outputs": [
    {
     "data": {
      "text/html": [
       "<div><style>\n",
       ".dataframe > thead > tr > th,\n",
       ".dataframe > tbody > tr > td {\n",
       "  text-align: right;\n",
       "}\n",
       "</style>\n",
       "<small>shape: (6, 10)</small><table border=\"1\" class=\"dataframe\"><thead><tr><th>name</th><th>type1</th><th>type2</th><th>abilities</th><th>hp</th><th>attack</th><th>defense</th><th>speed</th><th>is_legendary</th><th>color</th></tr><tr><td>str</td><td>str</td><td>str</td><td>list[str]</td><td>i64</td><td>i64</td><td>i64</td><td>i64</td><td>i64</td><td>str</td></tr></thead><tbody><tr><td>&quot;Bulbasaur&quot;</td><td>&quot;grass&quot;</td><td>&quot;poison&quot;</td><td>[&quot;Overgrow&quot;, &quot;Chlorophyll&quot;]</td><td>45</td><td>49</td><td>49</td><td>45</td><td>0</td><td>&quot;green&quot;</td></tr><tr><td>&quot;Ivysaur&quot;</td><td>&quot;grass&quot;</td><td>&quot;poison&quot;</td><td>[&quot;Overgrow&quot;, &quot;Chlorophyll&quot;]</td><td>60</td><td>62</td><td>63</td><td>60</td><td>0</td><td>&quot;green&quot;</td></tr><tr><td>&quot;Venusaur&quot;</td><td>&quot;grass&quot;</td><td>&quot;poison&quot;</td><td>[&quot;Overgrow&quot;, &quot;Chlorophyll&quot;]</td><td>80</td><td>100</td><td>123</td><td>80</td><td>0</td><td>&quot;green&quot;</td></tr><tr><td>&quot;Charmander&quot;</td><td>&quot;fire&quot;</td><td>null</td><td>[&quot;Blaze&quot;, &quot;Solar Power&quot;]</td><td>39</td><td>52</td><td>43</td><td>65</td><td>0</td><td>&quot;red&quot;</td></tr><tr><td>&quot;Charmeleon&quot;</td><td>&quot;fire&quot;</td><td>null</td><td>[&quot;Blaze&quot;, &quot;Solar Power&quot;]</td><td>58</td><td>64</td><td>58</td><td>80</td><td>0</td><td>&quot;red&quot;</td></tr><tr><td>&quot;Charizard&quot;</td><td>&quot;fire&quot;</td><td>&quot;flying&quot;</td><td>[&quot;Blaze&quot;, &quot;Solar Power&quot;]</td><td>78</td><td>104</td><td>78</td><td>100</td><td>0</td><td>&quot;red&quot;</td></tr></tbody></table></div>"
      ],
      "text/plain": [
       "shape: (6, 10)\n",
       "┌────────────┬───────┬────────┬──────────────────┬───┬─────────┬───────┬──────────────┬───────┐\n",
       "│ name       ┆ type1 ┆ type2  ┆ abilities        ┆ … ┆ defense ┆ speed ┆ is_legendary ┆ color │\n",
       "│ ---        ┆ ---   ┆ ---    ┆ ---              ┆   ┆ ---     ┆ ---   ┆ ---          ┆ ---   │\n",
       "│ str        ┆ str   ┆ str    ┆ list[str]        ┆   ┆ i64     ┆ i64   ┆ i64          ┆ str   │\n",
       "╞════════════╪═══════╪════════╪══════════════════╪═══╪═════════╪═══════╪══════════════╪═══════╡\n",
       "│ Bulbasaur  ┆ grass ┆ poison ┆ [\"Overgrow\",     ┆ … ┆ 49      ┆ 45    ┆ 0            ┆ green │\n",
       "│            ┆       ┆        ┆ \"Chlorophyll\"]   ┆   ┆         ┆       ┆              ┆       │\n",
       "│ Ivysaur    ┆ grass ┆ poison ┆ [\"Overgrow\",     ┆ … ┆ 63      ┆ 60    ┆ 0            ┆ green │\n",
       "│            ┆       ┆        ┆ \"Chlorophyll\"]   ┆   ┆         ┆       ┆              ┆       │\n",
       "│ Venusaur   ┆ grass ┆ poison ┆ [\"Overgrow\",     ┆ … ┆ 123     ┆ 80    ┆ 0            ┆ green │\n",
       "│            ┆       ┆        ┆ \"Chlorophyll\"]   ┆   ┆         ┆       ┆              ┆       │\n",
       "│ Charmander ┆ fire  ┆ null   ┆ [\"Blaze\", \"Solar ┆ … ┆ 43      ┆ 65    ┆ 0            ┆ red   │\n",
       "│            ┆       ┆        ┆ Power\"]          ┆   ┆         ┆       ┆              ┆       │\n",
       "│ Charmeleon ┆ fire  ┆ null   ┆ [\"Blaze\", \"Solar ┆ … ┆ 58      ┆ 80    ┆ 0            ┆ red   │\n",
       "│            ┆       ┆        ┆ Power\"]          ┆   ┆         ┆       ┆              ┆       │\n",
       "│ Charizard  ┆ fire  ┆ flying ┆ [\"Blaze\", \"Solar ┆ … ┆ 78      ┆ 100   ┆ 0            ┆ red   │\n",
       "│            ┆       ┆        ┆ Power\"]          ┆   ┆         ┆       ┆              ┆       │\n",
       "└────────────┴───────┴────────┴──────────────────┴───┴─────────┴───────┴──────────────┴───────┘"
      ]
     },
     "execution_count": 53,
     "metadata": {},
     "output_type": "execute_result"
    }
   ],
   "source": [
    "# Horizontally stack 2 dataframes\n",
    "# We have a new dataframe with the pokemon color\n",
    "\n",
    "pokemon_color = pl.DataFrame({\n",
    "    'color': ['green', 'green', 'green', 'red', 'red', 'red']\n",
    "})\n",
    "\n",
    "pokemon.head(6).hstack(pokemon_color)"
   ]
  },
  {
   "cell_type": "code",
   "execution_count": 54,
   "metadata": {},
   "outputs": [
    {
     "data": {
      "text/html": [
       "<div><style>\n",
       ".dataframe > thead > tr > th,\n",
       ".dataframe > tbody > tr > td {\n",
       "  text-align: right;\n",
       "}\n",
       "</style>\n",
       "<small>shape: (5, 4)</small><table border=\"1\" class=\"dataframe\"><thead><tr><th>name</th><th>type1</th><th>type2</th><th>abilities</th></tr><tr><td>str</td><td>str</td><td>str</td><td>list[str]</td></tr></thead><tbody><tr><td>&quot;Kartana&quot;</td><td>&quot;grass&quot;</td><td>&quot;steel&quot;</td><td>[&quot;Beast Boost&quot;]</td></tr><tr><td>&quot;Guzzlord&quot;</td><td>&quot;dark&quot;</td><td>&quot;dragon&quot;</td><td>[&quot;Beast Boost&quot;]</td></tr><tr><td>&quot;Necrozma&quot;</td><td>&quot;psychic&quot;</td><td>null</td><td>[&quot;Prism Armor&quot;]</td></tr><tr><td>&quot;Magearna&quot;</td><td>&quot;steel&quot;</td><td>&quot;fairy&quot;</td><td>[&quot;Soul-Heart&quot;]</td></tr><tr><td>&quot;Polarizard&quot;</td><td>&quot;ice&quot;</td><td>&quot;flying&quot;</td><td>[&quot;snow warning&quot;, &quot;blaze&quot;]</td></tr></tbody></table></div>"
      ],
      "text/plain": [
       "shape: (5, 4)\n",
       "┌────────────┬─────────┬────────┬───────────────────────────┐\n",
       "│ name       ┆ type1   ┆ type2  ┆ abilities                 │\n",
       "│ ---        ┆ ---     ┆ ---    ┆ ---                       │\n",
       "│ str        ┆ str     ┆ str    ┆ list[str]                 │\n",
       "╞════════════╪═════════╪════════╪═══════════════════════════╡\n",
       "│ Kartana    ┆ grass   ┆ steel  ┆ [\"Beast Boost\"]           │\n",
       "│ Guzzlord   ┆ dark    ┆ dragon ┆ [\"Beast Boost\"]           │\n",
       "│ Necrozma   ┆ psychic ┆ null   ┆ [\"Prism Armor\"]           │\n",
       "│ Magearna   ┆ steel   ┆ fairy  ┆ [\"Soul-Heart\"]            │\n",
       "│ Polarizard ┆ ice     ┆ flying ┆ [\"snow warning\", \"blaze\"] │\n",
       "└────────────┴─────────┴────────┴───────────────────────────┘"
      ]
     },
     "execution_count": 54,
     "metadata": {},
     "output_type": "execute_result"
    }
   ],
   "source": [
    "# Vertically stack 2 dataframes\n",
    "# We have a new dataframe with a new pokemon\n",
    "\n",
    "new_pokemon = pl.DataFrame({\n",
    "    'name': ['Polarizard'],\n",
    "    'type1': ['ice'],\n",
    "    'type2': ['flying'],\n",
    "    'abilities': [['snow warning', 'blaze']]\n",
    "})\n",
    "\n",
    "pokemon.select('name','type1','type2','abilities').vstack(new_pokemon).tail(5)"
   ]
  },
  {
   "cell_type": "code",
   "execution_count": 55,
   "metadata": {},
   "outputs": [
    {
     "data": {
      "text/html": [
       "<div><style>\n",
       ".dataframe > thead > tr > th,\n",
       ".dataframe > tbody > tr > td {\n",
       "  text-align: right;\n",
       "}\n",
       "</style>\n",
       "<small>shape: (5, 4)</small><table border=\"1\" class=\"dataframe\"><thead><tr><th>name</th><th>type1</th><th>type2</th><th>abilities</th></tr><tr><td>str</td><td>str</td><td>str</td><td>list[str]</td></tr></thead><tbody><tr><td>&quot;Kartana&quot;</td><td>&quot;grass&quot;</td><td>&quot;steel&quot;</td><td>[&quot;Beast Boost&quot;]</td></tr><tr><td>&quot;Guzzlord&quot;</td><td>&quot;dark&quot;</td><td>&quot;dragon&quot;</td><td>[&quot;Beast Boost&quot;]</td></tr><tr><td>&quot;Necrozma&quot;</td><td>&quot;psychic&quot;</td><td>null</td><td>[&quot;Prism Armor&quot;]</td></tr><tr><td>&quot;Magearna&quot;</td><td>&quot;steel&quot;</td><td>&quot;fairy&quot;</td><td>[&quot;Soul-Heart&quot;]</td></tr><tr><td>&quot;Polarizard&quot;</td><td>&quot;ice&quot;</td><td>&quot;flying&quot;</td><td>[&quot;snow warning&quot;, &quot;blaze&quot;]</td></tr></tbody></table></div>"
      ],
      "text/plain": [
       "shape: (5, 4)\n",
       "┌────────────┬─────────┬────────┬───────────────────────────┐\n",
       "│ name       ┆ type1   ┆ type2  ┆ abilities                 │\n",
       "│ ---        ┆ ---     ┆ ---    ┆ ---                       │\n",
       "│ str        ┆ str     ┆ str    ┆ list[str]                 │\n",
       "╞════════════╪═════════╪════════╪═══════════════════════════╡\n",
       "│ Kartana    ┆ grass   ┆ steel  ┆ [\"Beast Boost\"]           │\n",
       "│ Guzzlord   ┆ dark    ┆ dragon ┆ [\"Beast Boost\"]           │\n",
       "│ Necrozma   ┆ psychic ┆ null   ┆ [\"Prism Armor\"]           │\n",
       "│ Magearna   ┆ steel   ┆ fairy  ┆ [\"Soul-Heart\"]            │\n",
       "│ Polarizard ┆ ice     ┆ flying ┆ [\"snow warning\", \"blaze\"] │\n",
       "└────────────┴─────────┴────────┴───────────────────────────┘"
      ]
     },
     "execution_count": 55,
     "metadata": {},
     "output_type": "execute_result"
    }
   ],
   "source": [
    "# Extend is similar to vstack, but it copies the data instead of referencing it\n",
    "\n",
    "pokemon.select('name','type1','type2','abilities').extend(new_pokemon).tail(5)"
   ]
  },
  {
   "cell_type": "code",
   "execution_count": 56,
   "metadata": {},
   "outputs": [
    {
     "data": {
      "text/html": [
       "<div><style>\n",
       ".dataframe > thead > tr > th,\n",
       ".dataframe > tbody > tr > td {\n",
       "  text-align: right;\n",
       "}\n",
       "</style>\n",
       "<small>shape: (5, 4)</small><table border=\"1\" class=\"dataframe\"><thead><tr><th>name</th><th>type1</th><th>type2</th><th>abilities</th></tr><tr><td>str</td><td>str</td><td>str</td><td>list[str]</td></tr></thead><tbody><tr><td>&quot;Kartana&quot;</td><td>&quot;grass&quot;</td><td>&quot;steel&quot;</td><td>[&quot;Beast Boost&quot;]</td></tr><tr><td>&quot;Guzzlord&quot;</td><td>&quot;dark&quot;</td><td>&quot;dragon&quot;</td><td>[&quot;Beast Boost&quot;]</td></tr><tr><td>&quot;Necrozma&quot;</td><td>&quot;psychic&quot;</td><td>null</td><td>[&quot;Prism Armor&quot;]</td></tr><tr><td>&quot;Magearna&quot;</td><td>&quot;steel&quot;</td><td>&quot;fairy&quot;</td><td>[&quot;Soul-Heart&quot;]</td></tr><tr><td>&quot;Polarizard&quot;</td><td>&quot;ice&quot;</td><td>&quot;flying&quot;</td><td>[&quot;snow warning&quot;, &quot;blaze&quot;]</td></tr></tbody></table></div>"
      ],
      "text/plain": [
       "shape: (5, 4)\n",
       "┌────────────┬─────────┬────────┬───────────────────────────┐\n",
       "│ name       ┆ type1   ┆ type2  ┆ abilities                 │\n",
       "│ ---        ┆ ---     ┆ ---    ┆ ---                       │\n",
       "│ str        ┆ str     ┆ str    ┆ list[str]                 │\n",
       "╞════════════╪═════════╪════════╪═══════════════════════════╡\n",
       "│ Kartana    ┆ grass   ┆ steel  ┆ [\"Beast Boost\"]           │\n",
       "│ Guzzlord   ┆ dark    ┆ dragon ┆ [\"Beast Boost\"]           │\n",
       "│ Necrozma   ┆ psychic ┆ null   ┆ [\"Prism Armor\"]           │\n",
       "│ Magearna   ┆ steel   ┆ fairy  ┆ [\"Soul-Heart\"]            │\n",
       "│ Polarizard ┆ ice     ┆ flying ┆ [\"snow warning\", \"blaze\"] │\n",
       "└────────────┴─────────┴────────┴───────────────────────────┘"
      ]
     },
     "execution_count": 56,
     "metadata": {},
     "output_type": "execute_result"
    }
   ],
   "source": [
    "# concat can reproduce both hstack and vstack when rechunk is set to False\n",
    "# when rechunk is set to True, all data is copied to a contiguous memory space which allows it to be faster\n",
    "\n",
    "pl.concat(\n",
    "    [pokemon.select('name','type1','type2','abilities'), new_pokemon],\n",
    "    rechunk = True,\n",
    "    how= 'vertical'\n",
    ").tail(5)"
   ]
  },
  {
   "cell_type": "code",
   "execution_count": 57,
   "metadata": {},
   "outputs": [
    {
     "data": {
      "text/html": [
       "<div><style>\n",
       ".dataframe > thead > tr > th,\n",
       ".dataframe > tbody > tr > td {\n",
       "  text-align: right;\n",
       "}\n",
       "</style>\n",
       "<small>shape: (5, 5)</small><table border=\"1\" class=\"dataframe\"><thead><tr><th>name</th><th>type1</th><th>type2</th><th>abilities</th><th>color</th></tr><tr><td>str</td><td>str</td><td>str</td><td>list[str]</td><td>str</td></tr></thead><tbody><tr><td>&quot;Kartana&quot;</td><td>&quot;grass&quot;</td><td>&quot;steel&quot;</td><td>[&quot;Beast Boost&quot;]</td><td>null</td></tr><tr><td>&quot;Guzzlord&quot;</td><td>&quot;dark&quot;</td><td>&quot;dragon&quot;</td><td>[&quot;Beast Boost&quot;]</td><td>null</td></tr><tr><td>&quot;Necrozma&quot;</td><td>&quot;psychic&quot;</td><td>null</td><td>[&quot;Prism Armor&quot;]</td><td>null</td></tr><tr><td>&quot;Magearna&quot;</td><td>&quot;steel&quot;</td><td>&quot;fairy&quot;</td><td>[&quot;Soul-Heart&quot;]</td><td>null</td></tr><tr><td>&quot;Polarizard&quot;</td><td>null</td><td>null</td><td>[&quot;snow warning&quot;, &quot;blaze&quot;]</td><td>&quot;white&quot;</td></tr></tbody></table></div>"
      ],
      "text/plain": [
       "shape: (5, 5)\n",
       "┌────────────┬─────────┬────────┬───────────────────────────┬───────┐\n",
       "│ name       ┆ type1   ┆ type2  ┆ abilities                 ┆ color │\n",
       "│ ---        ┆ ---     ┆ ---    ┆ ---                       ┆ ---   │\n",
       "│ str        ┆ str     ┆ str    ┆ list[str]                 ┆ str   │\n",
       "╞════════════╪═════════╪════════╪═══════════════════════════╪═══════╡\n",
       "│ Kartana    ┆ grass   ┆ steel  ┆ [\"Beast Boost\"]           ┆ null  │\n",
       "│ Guzzlord   ┆ dark    ┆ dragon ┆ [\"Beast Boost\"]           ┆ null  │\n",
       "│ Necrozma   ┆ psychic ┆ null   ┆ [\"Prism Armor\"]           ┆ null  │\n",
       "│ Magearna   ┆ steel   ┆ fairy  ┆ [\"Soul-Heart\"]            ┆ null  │\n",
       "│ Polarizard ┆ null    ┆ null   ┆ [\"snow warning\", \"blaze\"] ┆ white │\n",
       "└────────────┴─────────┴────────┴───────────────────────────┴───────┘"
      ]
     },
     "execution_count": 57,
     "metadata": {},
     "output_type": "execute_result"
    }
   ],
   "source": [
    "# concat diagonal stacks dataframes diagonally\n",
    "# this means that columns missing from one dataframe are filled with nulls\n",
    "\n",
    "new_pokemon_color = pl.DataFrame({\n",
    "    'name': ['Polarizard'],\n",
    "    'abilities': [['snow warning', 'blaze']],\n",
    "    'color': ['white']\n",
    "})\n",
    "\n",
    "pl.concat([\n",
    "    pokemon.select('name','type1','type2','abilities'),\n",
    "    new_pokemon_color\n",
    "    ],\n",
    "    how = 'diagonal'\n",
    ").tail(5)"
   ]
  },
  {
   "cell_type": "code",
   "execution_count": 58,
   "metadata": {},
   "outputs": [
    {
     "data": {
      "text/html": [
       "<div><style>\n",
       ".dataframe > thead > tr > th,\n",
       ".dataframe > tbody > tr > td {\n",
       "  text-align: right;\n",
       "}\n",
       "</style>\n",
       "<small>shape: (9, 3)</small><table border=\"1\" class=\"dataframe\"><thead><tr><th>name</th><th>type1</th><th>color</th></tr><tr><td>str</td><td>str</td><td>str</td></tr></thead><tbody><tr><td>&quot;Blastoise&quot;</td><td>&quot;water&quot;</td><td>null</td></tr><tr><td>&quot;Bulbasaur&quot;</td><td>&quot;grass&quot;</td><td>&quot;green&quot;</td></tr><tr><td>&quot;Charizard&quot;</td><td>&quot;fire&quot;</td><td>null</td></tr><tr><td>&quot;Charmander&quot;</td><td>&quot;fire&quot;</td><td>&quot;red&quot;</td></tr><tr><td>&quot;Charmeleon&quot;</td><td>&quot;fire&quot;</td><td>null</td></tr><tr><td>&quot;Ivysaur&quot;</td><td>&quot;grass&quot;</td><td>null</td></tr><tr><td>&quot;Squirtle&quot;</td><td>&quot;water&quot;</td><td>&quot;blue&quot;</td></tr><tr><td>&quot;Venusaur&quot;</td><td>&quot;grass&quot;</td><td>null</td></tr><tr><td>&quot;Wartortle&quot;</td><td>&quot;water&quot;</td><td>null</td></tr></tbody></table></div>"
      ],
      "text/plain": [
       "shape: (9, 3)\n",
       "┌────────────┬───────┬───────┐\n",
       "│ name       ┆ type1 ┆ color │\n",
       "│ ---        ┆ ---   ┆ ---   │\n",
       "│ str        ┆ str   ┆ str   │\n",
       "╞════════════╪═══════╪═══════╡\n",
       "│ Blastoise  ┆ water ┆ null  │\n",
       "│ Bulbasaur  ┆ grass ┆ green │\n",
       "│ Charizard  ┆ fire  ┆ null  │\n",
       "│ Charmander ┆ fire  ┆ red   │\n",
       "│ Charmeleon ┆ fire  ┆ null  │\n",
       "│ Ivysaur    ┆ grass ┆ null  │\n",
       "│ Squirtle   ┆ water ┆ blue  │\n",
       "│ Venusaur   ┆ grass ┆ null  │\n",
       "│ Wartortle  ┆ water ┆ null  │\n",
       "└────────────┴───────┴───────┘"
      ]
     },
     "execution_count": 58,
     "metadata": {},
     "output_type": "execute_result"
    }
   ],
   "source": [
    "# concat has another method, which is align.\n",
    "# the align method ensures that the columns of the 2 dataframes are in the same order\n",
    "\n",
    "pokemon_new_order = pl.DataFrame({\n",
    "    'name' : ['Bulbasaur', 'Charmander', 'Squirtle'],\n",
    "    'color': ['green', 'red', 'blue']\n",
    "})\n",
    "\n",
    "pl.concat([\n",
    "    pokemon.select('name','type1',).head(9),\n",
    "    pokemon_new_order\n",
    "], how='align'\n",
    ")"
   ]
  },
  {
   "cell_type": "code",
   "execution_count": 59,
   "metadata": {},
   "outputs": [
    {
     "data": {
      "text/html": [
       "<div><style>\n",
       ".dataframe > thead > tr > th,\n",
       ".dataframe > tbody > tr > td {\n",
       "  text-align: right;\n",
       "}\n",
       "</style>\n",
       "<small>shape: (1, 10)</small><table border=\"1\" class=\"dataframe\"><thead><tr><th>name</th><th>type1</th><th>type2</th><th>abilities</th><th>hp</th><th>attack</th><th>defense</th><th>speed</th><th>is_legendary</th><th>color</th></tr><tr><td>str</td><td>str</td><td>str</td><td>list[str]</td><td>i64</td><td>i64</td><td>i64</td><td>i64</td><td>i64</td><td>str</td></tr></thead><tbody><tr><td>&quot;Bulbasaur&quot;</td><td>&quot;grass&quot;</td><td>&quot;poison&quot;</td><td>[&quot;Overgrow&quot;, &quot;Chlorophyll&quot;]</td><td>45</td><td>49</td><td>49</td><td>45</td><td>0</td><td>&quot;green&quot;</td></tr></tbody></table></div>"
      ],
      "text/plain": [
       "shape: (1, 10)\n",
       "┌───────────┬───────┬────────┬────────────────┬───┬─────────┬───────┬──────────────┬───────┐\n",
       "│ name      ┆ type1 ┆ type2  ┆ abilities      ┆ … ┆ defense ┆ speed ┆ is_legendary ┆ color │\n",
       "│ ---       ┆ ---   ┆ ---    ┆ ---            ┆   ┆ ---     ┆ ---   ┆ ---          ┆ ---   │\n",
       "│ str       ┆ str   ┆ str    ┆ list[str]      ┆   ┆ i64     ┆ i64   ┆ i64          ┆ str   │\n",
       "╞═══════════╪═══════╪════════╪════════════════╪═══╪═════════╪═══════╪══════════════╪═══════╡\n",
       "│ Bulbasaur ┆ grass ┆ poison ┆ [\"Overgrow\",   ┆ … ┆ 49      ┆ 45    ┆ 0            ┆ green │\n",
       "│           ┆       ┆        ┆ \"Chlorophyll\"] ┆   ┆         ┆       ┆              ┆       │\n",
       "└───────────┴───────┴────────┴────────────────┴───┴─────────┴───────┴──────────────┴───────┘"
      ]
     },
     "execution_count": 59,
     "metadata": {},
     "output_type": "execute_result"
    }
   ],
   "source": [
    "# join reproduces SQL joins, such as inner, left, outer, semi, anti, cross\n",
    "# inner join keeps only the rows that are present in both dataframes\n",
    "\n",
    "pokemon_new = pl.DataFrame({\n",
    "    'name' : ['Bulbasaur', 'Polarizard'],\n",
    "    'color': ['green', 'white']\n",
    "})\n",
    "\n",
    "pokemon.head(3).join(pokemon_new, on = 'name', how = 'inner')"
   ]
  },
  {
   "cell_type": "code",
   "execution_count": 60,
   "metadata": {},
   "outputs": [
    {
     "data": {
      "text/html": [
       "<div><style>\n",
       ".dataframe > thead > tr > th,\n",
       ".dataframe > tbody > tr > td {\n",
       "  text-align: right;\n",
       "}\n",
       "</style>\n",
       "<small>shape: (3, 10)</small><table border=\"1\" class=\"dataframe\"><thead><tr><th>name</th><th>type1</th><th>type2</th><th>abilities</th><th>hp</th><th>attack</th><th>defense</th><th>speed</th><th>is_legendary</th><th>color</th></tr><tr><td>str</td><td>str</td><td>str</td><td>list[str]</td><td>i64</td><td>i64</td><td>i64</td><td>i64</td><td>i64</td><td>str</td></tr></thead><tbody><tr><td>&quot;Bulbasaur&quot;</td><td>&quot;grass&quot;</td><td>&quot;poison&quot;</td><td>[&quot;Overgrow&quot;, &quot;Chlorophyll&quot;]</td><td>45</td><td>49</td><td>49</td><td>45</td><td>0</td><td>&quot;green&quot;</td></tr><tr><td>&quot;Ivysaur&quot;</td><td>&quot;grass&quot;</td><td>&quot;poison&quot;</td><td>[&quot;Overgrow&quot;, &quot;Chlorophyll&quot;]</td><td>60</td><td>62</td><td>63</td><td>60</td><td>0</td><td>null</td></tr><tr><td>&quot;Venusaur&quot;</td><td>&quot;grass&quot;</td><td>&quot;poison&quot;</td><td>[&quot;Overgrow&quot;, &quot;Chlorophyll&quot;]</td><td>80</td><td>100</td><td>123</td><td>80</td><td>0</td><td>null</td></tr></tbody></table></div>"
      ],
      "text/plain": [
       "shape: (3, 10)\n",
       "┌───────────┬───────┬────────┬────────────────┬───┬─────────┬───────┬──────────────┬───────┐\n",
       "│ name      ┆ type1 ┆ type2  ┆ abilities      ┆ … ┆ defense ┆ speed ┆ is_legendary ┆ color │\n",
       "│ ---       ┆ ---   ┆ ---    ┆ ---            ┆   ┆ ---     ┆ ---   ┆ ---          ┆ ---   │\n",
       "│ str       ┆ str   ┆ str    ┆ list[str]      ┆   ┆ i64     ┆ i64   ┆ i64          ┆ str   │\n",
       "╞═══════════╪═══════╪════════╪════════════════╪═══╪═════════╪═══════╪══════════════╪═══════╡\n",
       "│ Bulbasaur ┆ grass ┆ poison ┆ [\"Overgrow\",   ┆ … ┆ 49      ┆ 45    ┆ 0            ┆ green │\n",
       "│           ┆       ┆        ┆ \"Chlorophyll\"] ┆   ┆         ┆       ┆              ┆       │\n",
       "│ Ivysaur   ┆ grass ┆ poison ┆ [\"Overgrow\",   ┆ … ┆ 63      ┆ 60    ┆ 0            ┆ null  │\n",
       "│           ┆       ┆        ┆ \"Chlorophyll\"] ┆   ┆         ┆       ┆              ┆       │\n",
       "│ Venusaur  ┆ grass ┆ poison ┆ [\"Overgrow\",   ┆ … ┆ 123     ┆ 80    ┆ 0            ┆ null  │\n",
       "│           ┆       ┆        ┆ \"Chlorophyll\"] ┆   ┆         ┆       ┆              ┆       │\n",
       "└───────────┴───────┴────────┴────────────────┴───┴─────────┴───────┴──────────────┴───────┘"
      ]
     },
     "execution_count": 60,
     "metadata": {},
     "output_type": "execute_result"
    }
   ],
   "source": [
    "# left join keeps all rows from the left dataframe and fills the missing values with nulls\n",
    "# to keep the rows from the right dataframe, we can inverse the order of the dataframes\n",
    "\n",
    "pokemon.head(3).join(pokemon_new, on = 'name', how = 'left')"
   ]
  },
  {
   "cell_type": "code",
   "execution_count": 61,
   "metadata": {},
   "outputs": [
    {
     "data": {
      "text/html": [
       "<div><style>\n",
       ".dataframe > thead > tr > th,\n",
       ".dataframe > tbody > tr > td {\n",
       "  text-align: right;\n",
       "}\n",
       "</style>\n",
       "<small>shape: (4, 10)</small><table border=\"1\" class=\"dataframe\"><thead><tr><th>name</th><th>type1</th><th>type2</th><th>abilities</th><th>hp</th><th>attack</th><th>defense</th><th>speed</th><th>is_legendary</th><th>color</th></tr><tr><td>str</td><td>str</td><td>str</td><td>list[str]</td><td>i64</td><td>i64</td><td>i64</td><td>i64</td><td>i64</td><td>str</td></tr></thead><tbody><tr><td>&quot;Bulbasaur&quot;</td><td>&quot;grass&quot;</td><td>&quot;poison&quot;</td><td>[&quot;Overgrow&quot;, &quot;Chlorophyll&quot;]</td><td>45</td><td>49</td><td>49</td><td>45</td><td>0</td><td>&quot;green&quot;</td></tr><tr><td>&quot;Ivysaur&quot;</td><td>&quot;grass&quot;</td><td>&quot;poison&quot;</td><td>[&quot;Overgrow&quot;, &quot;Chlorophyll&quot;]</td><td>60</td><td>62</td><td>63</td><td>60</td><td>0</td><td>null</td></tr><tr><td>&quot;Venusaur&quot;</td><td>&quot;grass&quot;</td><td>&quot;poison&quot;</td><td>[&quot;Overgrow&quot;, &quot;Chlorophyll&quot;]</td><td>80</td><td>100</td><td>123</td><td>80</td><td>0</td><td>null</td></tr><tr><td>&quot;Polarizard&quot;</td><td>null</td><td>null</td><td>null</td><td>null</td><td>null</td><td>null</td><td>null</td><td>null</td><td>&quot;white&quot;</td></tr></tbody></table></div>"
      ],
      "text/plain": [
       "shape: (4, 10)\n",
       "┌────────────┬───────┬────────┬────────────────┬───┬─────────┬───────┬──────────────┬───────┐\n",
       "│ name       ┆ type1 ┆ type2  ┆ abilities      ┆ … ┆ defense ┆ speed ┆ is_legendary ┆ color │\n",
       "│ ---        ┆ ---   ┆ ---    ┆ ---            ┆   ┆ ---     ┆ ---   ┆ ---          ┆ ---   │\n",
       "│ str        ┆ str   ┆ str    ┆ list[str]      ┆   ┆ i64     ┆ i64   ┆ i64          ┆ str   │\n",
       "╞════════════╪═══════╪════════╪════════════════╪═══╪═════════╪═══════╪══════════════╪═══════╡\n",
       "│ Bulbasaur  ┆ grass ┆ poison ┆ [\"Overgrow\",   ┆ … ┆ 49      ┆ 45    ┆ 0            ┆ green │\n",
       "│            ┆       ┆        ┆ \"Chlorophyll\"] ┆   ┆         ┆       ┆              ┆       │\n",
       "│ Ivysaur    ┆ grass ┆ poison ┆ [\"Overgrow\",   ┆ … ┆ 63      ┆ 60    ┆ 0            ┆ null  │\n",
       "│            ┆       ┆        ┆ \"Chlorophyll\"] ┆   ┆         ┆       ┆              ┆       │\n",
       "│ Venusaur   ┆ grass ┆ poison ┆ [\"Overgrow\",   ┆ … ┆ 123     ┆ 80    ┆ 0            ┆ null  │\n",
       "│            ┆       ┆        ┆ \"Chlorophyll\"] ┆   ┆         ┆       ┆              ┆       │\n",
       "│ Polarizard ┆ null  ┆ null   ┆ null           ┆ … ┆ null    ┆ null  ┆ null         ┆ white │\n",
       "└────────────┴───────┴────────┴────────────────┴───┴─────────┴───────┴──────────────┴───────┘"
      ]
     },
     "execution_count": 61,
     "metadata": {},
     "output_type": "execute_result"
    }
   ],
   "source": [
    "# outer join keeps all rows from both dataframes and fills the missing values with nulls\n",
    "\n",
    "pokemon.head(3).join(pokemon_new, on = 'name', how = 'outer')"
   ]
  },
  {
   "cell_type": "code",
   "execution_count": 62,
   "metadata": {},
   "outputs": [
    {
     "data": {
      "text/html": [
       "<div><style>\n",
       ".dataframe > thead > tr > th,\n",
       ".dataframe > tbody > tr > td {\n",
       "  text-align: right;\n",
       "}\n",
       "</style>\n",
       "<small>shape: (1, 9)</small><table border=\"1\" class=\"dataframe\"><thead><tr><th>name</th><th>type1</th><th>type2</th><th>abilities</th><th>hp</th><th>attack</th><th>defense</th><th>speed</th><th>is_legendary</th></tr><tr><td>str</td><td>str</td><td>str</td><td>list[str]</td><td>i64</td><td>i64</td><td>i64</td><td>i64</td><td>i64</td></tr></thead><tbody><tr><td>&quot;Bulbasaur&quot;</td><td>&quot;grass&quot;</td><td>&quot;poison&quot;</td><td>[&quot;Overgrow&quot;, &quot;Chlorophyll&quot;]</td><td>45</td><td>49</td><td>49</td><td>45</td><td>0</td></tr></tbody></table></div>"
      ],
      "text/plain": [
       "shape: (1, 9)\n",
       "┌───────────┬───────┬────────┬────────────────┬───┬────────┬─────────┬───────┬──────────────┐\n",
       "│ name      ┆ type1 ┆ type2  ┆ abilities      ┆ … ┆ attack ┆ defense ┆ speed ┆ is_legendary │\n",
       "│ ---       ┆ ---   ┆ ---    ┆ ---            ┆   ┆ ---    ┆ ---     ┆ ---   ┆ ---          │\n",
       "│ str       ┆ str   ┆ str    ┆ list[str]      ┆   ┆ i64    ┆ i64     ┆ i64   ┆ i64          │\n",
       "╞═══════════╪═══════╪════════╪════════════════╪═══╪════════╪═════════╪═══════╪══════════════╡\n",
       "│ Bulbasaur ┆ grass ┆ poison ┆ [\"Overgrow\",   ┆ … ┆ 49     ┆ 49      ┆ 45    ┆ 0            │\n",
       "│           ┆       ┆        ┆ \"Chlorophyll\"] ┆   ┆        ┆         ┆       ┆              │\n",
       "└───────────┴───────┴────────┴────────────────┴───┴────────┴─────────┴───────┴──────────────┘"
      ]
     },
     "execution_count": 62,
     "metadata": {},
     "output_type": "execute_result"
    }
   ],
   "source": [
    "# semi keeps the rows from the left dataframe that are present in the right dataframe\n",
    "# it does not add any columns from the right dataframe (differently from inner)\n",
    "\n",
    "pokemon.head(3).join(pokemon_new, on = 'name', how = 'semi')"
   ]
  },
  {
   "cell_type": "code",
   "execution_count": 63,
   "metadata": {},
   "outputs": [
    {
     "data": {
      "text/html": [
       "<div><style>\n",
       ".dataframe > thead > tr > th,\n",
       ".dataframe > tbody > tr > td {\n",
       "  text-align: right;\n",
       "}\n",
       "</style>\n",
       "<small>shape: (2, 9)</small><table border=\"1\" class=\"dataframe\"><thead><tr><th>name</th><th>type1</th><th>type2</th><th>abilities</th><th>hp</th><th>attack</th><th>defense</th><th>speed</th><th>is_legendary</th></tr><tr><td>str</td><td>str</td><td>str</td><td>list[str]</td><td>i64</td><td>i64</td><td>i64</td><td>i64</td><td>i64</td></tr></thead><tbody><tr><td>&quot;Ivysaur&quot;</td><td>&quot;grass&quot;</td><td>&quot;poison&quot;</td><td>[&quot;Overgrow&quot;, &quot;Chlorophyll&quot;]</td><td>60</td><td>62</td><td>63</td><td>60</td><td>0</td></tr><tr><td>&quot;Venusaur&quot;</td><td>&quot;grass&quot;</td><td>&quot;poison&quot;</td><td>[&quot;Overgrow&quot;, &quot;Chlorophyll&quot;]</td><td>80</td><td>100</td><td>123</td><td>80</td><td>0</td></tr></tbody></table></div>"
      ],
      "text/plain": [
       "shape: (2, 9)\n",
       "┌──────────┬───────┬────────┬────────────────┬───┬────────┬─────────┬───────┬──────────────┐\n",
       "│ name     ┆ type1 ┆ type2  ┆ abilities      ┆ … ┆ attack ┆ defense ┆ speed ┆ is_legendary │\n",
       "│ ---      ┆ ---   ┆ ---    ┆ ---            ┆   ┆ ---    ┆ ---     ┆ ---   ┆ ---          │\n",
       "│ str      ┆ str   ┆ str    ┆ list[str]      ┆   ┆ i64    ┆ i64     ┆ i64   ┆ i64          │\n",
       "╞══════════╪═══════╪════════╪════════════════╪═══╪════════╪═════════╪═══════╪══════════════╡\n",
       "│ Ivysaur  ┆ grass ┆ poison ┆ [\"Overgrow\",   ┆ … ┆ 62     ┆ 63      ┆ 60    ┆ 0            │\n",
       "│          ┆       ┆        ┆ \"Chlorophyll\"] ┆   ┆        ┆         ┆       ┆              │\n",
       "│ Venusaur ┆ grass ┆ poison ┆ [\"Overgrow\",   ┆ … ┆ 100    ┆ 123     ┆ 80    ┆ 0            │\n",
       "│          ┆       ┆        ┆ \"Chlorophyll\"] ┆   ┆        ┆         ┆       ┆              │\n",
       "└──────────┴───────┴────────┴────────────────┴───┴────────┴─────────┴───────┴──────────────┘"
      ]
     },
     "execution_count": 63,
     "metadata": {},
     "output_type": "execute_result"
    }
   ],
   "source": [
    "# anti keeps the rows present in either dataframe but not in both\n",
    "# it keeps the opposite rows as inner\n",
    "\n",
    "pokemon.head(3).join(pokemon_new, on = 'name', how = 'anti')"
   ]
  },
  {
   "cell_type": "code",
   "execution_count": 64,
   "metadata": {},
   "outputs": [
    {
     "data": {
      "text/html": [
       "<div><style>\n",
       ".dataframe > thead > tr > th,\n",
       ".dataframe > tbody > tr > td {\n",
       "  text-align: right;\n",
       "}\n",
       "</style>\n",
       "<small>shape: (6, 10)</small><table border=\"1\" class=\"dataframe\"><thead><tr><th>name</th><th>type1</th><th>type2</th><th>abilities</th><th>hp</th><th>attack</th><th>defense</th><th>speed</th><th>is_legendary</th><th>trainer</th></tr><tr><td>str</td><td>str</td><td>str</td><td>list[str]</td><td>i64</td><td>i64</td><td>i64</td><td>i64</td><td>i64</td><td>str</td></tr></thead><tbody><tr><td>&quot;Bulbasaur&quot;</td><td>&quot;grass&quot;</td><td>&quot;poison&quot;</td><td>[&quot;Overgrow&quot;, &quot;Chlorophyll&quot;]</td><td>45</td><td>49</td><td>49</td><td>45</td><td>0</td><td>&quot;trainer1&quot;</td></tr><tr><td>&quot;Bulbasaur&quot;</td><td>&quot;grass&quot;</td><td>&quot;poison&quot;</td><td>[&quot;Overgrow&quot;, &quot;Chlorophyll&quot;]</td><td>45</td><td>49</td><td>49</td><td>45</td><td>0</td><td>&quot;trainer2&quot;</td></tr><tr><td>&quot;Ivysaur&quot;</td><td>&quot;grass&quot;</td><td>&quot;poison&quot;</td><td>[&quot;Overgrow&quot;, &quot;Chlorophyll&quot;]</td><td>60</td><td>62</td><td>63</td><td>60</td><td>0</td><td>&quot;trainer1&quot;</td></tr><tr><td>&quot;Ivysaur&quot;</td><td>&quot;grass&quot;</td><td>&quot;poison&quot;</td><td>[&quot;Overgrow&quot;, &quot;Chlorophyll&quot;]</td><td>60</td><td>62</td><td>63</td><td>60</td><td>0</td><td>&quot;trainer2&quot;</td></tr><tr><td>&quot;Venusaur&quot;</td><td>&quot;grass&quot;</td><td>&quot;poison&quot;</td><td>[&quot;Overgrow&quot;, &quot;Chlorophyll&quot;]</td><td>80</td><td>100</td><td>123</td><td>80</td><td>0</td><td>&quot;trainer1&quot;</td></tr><tr><td>&quot;Venusaur&quot;</td><td>&quot;grass&quot;</td><td>&quot;poison&quot;</td><td>[&quot;Overgrow&quot;, &quot;Chlorophyll&quot;]</td><td>80</td><td>100</td><td>123</td><td>80</td><td>0</td><td>&quot;trainer2&quot;</td></tr></tbody></table></div>"
      ],
      "text/plain": [
       "shape: (6, 10)\n",
       "┌───────────┬───────┬────────┬────────────────┬───┬─────────┬───────┬──────────────┬──────────┐\n",
       "│ name      ┆ type1 ┆ type2  ┆ abilities      ┆ … ┆ defense ┆ speed ┆ is_legendary ┆ trainer  │\n",
       "│ ---       ┆ ---   ┆ ---    ┆ ---            ┆   ┆ ---     ┆ ---   ┆ ---          ┆ ---      │\n",
       "│ str       ┆ str   ┆ str    ┆ list[str]      ┆   ┆ i64     ┆ i64   ┆ i64          ┆ str      │\n",
       "╞═══════════╪═══════╪════════╪════════════════╪═══╪═════════╪═══════╪══════════════╪══════════╡\n",
       "│ Bulbasaur ┆ grass ┆ poison ┆ [\"Overgrow\",   ┆ … ┆ 49      ┆ 45    ┆ 0            ┆ trainer1 │\n",
       "│           ┆       ┆        ┆ \"Chlorophyll\"] ┆   ┆         ┆       ┆              ┆          │\n",
       "│ Bulbasaur ┆ grass ┆ poison ┆ [\"Overgrow\",   ┆ … ┆ 49      ┆ 45    ┆ 0            ┆ trainer2 │\n",
       "│           ┆       ┆        ┆ \"Chlorophyll\"] ┆   ┆         ┆       ┆              ┆          │\n",
       "│ Ivysaur   ┆ grass ┆ poison ┆ [\"Overgrow\",   ┆ … ┆ 63      ┆ 60    ┆ 0            ┆ trainer1 │\n",
       "│           ┆       ┆        ┆ \"Chlorophyll\"] ┆   ┆         ┆       ┆              ┆          │\n",
       "│ Ivysaur   ┆ grass ┆ poison ┆ [\"Overgrow\",   ┆ … ┆ 63      ┆ 60    ┆ 0            ┆ trainer2 │\n",
       "│           ┆       ┆        ┆ \"Chlorophyll\"] ┆   ┆         ┆       ┆              ┆          │\n",
       "│ Venusaur  ┆ grass ┆ poison ┆ [\"Overgrow\",   ┆ … ┆ 123     ┆ 80    ┆ 0            ┆ trainer1 │\n",
       "│           ┆       ┆        ┆ \"Chlorophyll\"] ┆   ┆         ┆       ┆              ┆          │\n",
       "│ Venusaur  ┆ grass ┆ poison ┆ [\"Overgrow\",   ┆ … ┆ 123     ┆ 80    ┆ 0            ┆ trainer2 │\n",
       "│           ┆       ┆        ┆ \"Chlorophyll\"] ┆   ┆         ┆       ┆              ┆          │\n",
       "└───────────┴───────┴────────┴────────────────┴───┴─────────┴───────┴──────────────┴──────────┘"
      ]
     },
     "execution_count": 64,
     "metadata": {},
     "output_type": "execute_result"
    }
   ],
   "source": [
    "# cross combines all rows of the first dataframe with all rows of the second dataframe\n",
    "\n",
    "pokemon_trainers = pl.DataFrame({\n",
    "    'trainer': ['trainer1', 'trainer2']\n",
    "})\n",
    "\n",
    "pokemon.head(3).join(pokemon_trainers, how = 'cross')"
   ]
  },
  {
   "attachments": {},
   "cell_type": "markdown",
   "metadata": {},
   "source": [
    "#### Custom functions: apply, map"
   ]
  },
  {
   "cell_type": "code",
   "execution_count": 65,
   "metadata": {},
   "outputs": [],
   "source": [
    "# Both apply and map will be slower than using the native polars functions. \n",
    "# It's recommended to avoid apply and map whenever possible\n",
    "# a common use case for apply and map is passing data to a third-party library\n",
    "# map applies a function to a full column (which is a Polars series)\n",
    "# apply does the same, but one row at a time\n",
    "# map is faster than apply"
   ]
  },
  {
   "cell_type": "code",
   "execution_count": 66,
   "metadata": {},
   "outputs": [],
   "source": [
    "# increase the attack by 10% for pokemons with attack < 50\n",
    "# in the first 2 functions, we receive a column (a list) and process it using a Python list comprehension\n",
    "# the first function returns a Python list, the second a Polars series\n",
    "# the last function receives a single value and returns a single value\n",
    "\n",
    "def simulated_attack_list(attack_column):\n",
    "    return [attack * 1.1 if attack < 50 else attack for attack in attack_column]\n",
    "\n",
    "def simulated_attack_series(attack_column):\n",
    "    return pl.Series([attack * 1.1 if attack < 50 else attack for attack in attack_column])\n",
    "\n",
    "def simulated_attack_single_value(attack_number):\n",
    "    return attack_number * 1.1 if attack_number < 50 else attack_number"
   ]
  },
  {
   "cell_type": "code",
   "execution_count": 67,
   "metadata": {},
   "outputs": [
    {
     "data": {
      "text/html": [
       "<div><style>\n",
       ".dataframe > thead > tr > th,\n",
       ".dataframe > tbody > tr > td {\n",
       "  text-align: right;\n",
       "}\n",
       "</style>\n",
       "<small>shape: (3, 10)</small><table border=\"1\" class=\"dataframe\"><thead><tr><th>name</th><th>type1</th><th>type2</th><th>abilities</th><th>hp</th><th>attack</th><th>defense</th><th>speed</th><th>is_legendary</th><th>simulated_attack</th></tr><tr><td>str</td><td>str</td><td>str</td><td>list[str]</td><td>i64</td><td>i64</td><td>i64</td><td>i64</td><td>i64</td><td>list[f64]</td></tr></thead><tbody><tr><td>&quot;Bulbasaur&quot;</td><td>&quot;grass&quot;</td><td>&quot;poison&quot;</td><td>[&quot;Overgrow&quot;, &quot;Chlorophyll&quot;]</td><td>45</td><td>49</td><td>49</td><td>45</td><td>0</td><td>[53.9, 62.0, … 95.0]</td></tr><tr><td>&quot;Ivysaur&quot;</td><td>&quot;grass&quot;</td><td>&quot;poison&quot;</td><td>[&quot;Overgrow&quot;, &quot;Chlorophyll&quot;]</td><td>60</td><td>62</td><td>63</td><td>60</td><td>0</td><td>[53.9, 62.0, … 95.0]</td></tr><tr><td>&quot;Venusaur&quot;</td><td>&quot;grass&quot;</td><td>&quot;poison&quot;</td><td>[&quot;Overgrow&quot;, &quot;Chlorophyll&quot;]</td><td>80</td><td>100</td><td>123</td><td>80</td><td>0</td><td>[53.9, 62.0, … 95.0]</td></tr></tbody></table></div>"
      ],
      "text/plain": [
       "shape: (3, 10)\n",
       "┌───────────┬───────┬────────┬────────────────┬───┬─────────┬───────┬──────────────┬───────────────┐\n",
       "│ name      ┆ type1 ┆ type2  ┆ abilities      ┆ … ┆ defense ┆ speed ┆ is_legendary ┆ simulated_att │\n",
       "│ ---       ┆ ---   ┆ ---    ┆ ---            ┆   ┆ ---     ┆ ---   ┆ ---          ┆ ack           │\n",
       "│ str       ┆ str   ┆ str    ┆ list[str]      ┆   ┆ i64     ┆ i64   ┆ i64          ┆ ---           │\n",
       "│           ┆       ┆        ┆                ┆   ┆         ┆       ┆              ┆ list[f64]     │\n",
       "╞═══════════╪═══════╪════════╪════════════════╪═══╪═════════╪═══════╪══════════════╪═══════════════╡\n",
       "│ Bulbasaur ┆ grass ┆ poison ┆ [\"Overgrow\",   ┆ … ┆ 49      ┆ 45    ┆ 0            ┆ [53.9, 62.0,  │\n",
       "│           ┆       ┆        ┆ \"Chlorophyll\"] ┆   ┆         ┆       ┆              ┆ … 95.0]       │\n",
       "│ Ivysaur   ┆ grass ┆ poison ┆ [\"Overgrow\",   ┆ … ┆ 63      ┆ 60    ┆ 0            ┆ [53.9, 62.0,  │\n",
       "│           ┆       ┆        ┆ \"Chlorophyll\"] ┆   ┆         ┆       ┆              ┆ … 95.0]       │\n",
       "│ Venusaur  ┆ grass ┆ poison ┆ [\"Overgrow\",   ┆ … ┆ 123     ┆ 80    ┆ 0            ┆ [53.9, 62.0,  │\n",
       "│           ┆       ┆        ┆ \"Chlorophyll\"] ┆   ┆         ┆       ┆              ┆ … 95.0]       │\n",
       "└───────────┴───────┴────────┴────────────────┴───┴─────────┴───────┴──────────────┴───────────────┘"
      ]
     },
     "execution_count": 67,
     "metadata": {},
     "output_type": "execute_result"
    }
   ],
   "source": [
    "pokemon.with_columns(\n",
    "    simulated_attack = pl.col('attack').map(simulated_attack_list)\n",
    ").head(3)"
   ]
  },
  {
   "cell_type": "code",
   "execution_count": 68,
   "metadata": {},
   "outputs": [
    {
     "data": {
      "text/html": [
       "<div><style>\n",
       ".dataframe > thead > tr > th,\n",
       ".dataframe > tbody > tr > td {\n",
       "  text-align: right;\n",
       "}\n",
       "</style>\n",
       "<small>shape: (3, 10)</small><table border=\"1\" class=\"dataframe\"><thead><tr><th>name</th><th>type1</th><th>type2</th><th>abilities</th><th>hp</th><th>attack</th><th>defense</th><th>speed</th><th>is_legendary</th><th>simulated_attack</th></tr><tr><td>str</td><td>str</td><td>str</td><td>list[str]</td><td>i64</td><td>i64</td><td>i64</td><td>i64</td><td>i64</td><td>f64</td></tr></thead><tbody><tr><td>&quot;Bulbasaur&quot;</td><td>&quot;grass&quot;</td><td>&quot;poison&quot;</td><td>[&quot;Overgrow&quot;, &quot;Chlorophyll&quot;]</td><td>45</td><td>49</td><td>49</td><td>45</td><td>0</td><td>53.9</td></tr><tr><td>&quot;Ivysaur&quot;</td><td>&quot;grass&quot;</td><td>&quot;poison&quot;</td><td>[&quot;Overgrow&quot;, &quot;Chlorophyll&quot;]</td><td>60</td><td>62</td><td>63</td><td>60</td><td>0</td><td>62.0</td></tr><tr><td>&quot;Venusaur&quot;</td><td>&quot;grass&quot;</td><td>&quot;poison&quot;</td><td>[&quot;Overgrow&quot;, &quot;Chlorophyll&quot;]</td><td>80</td><td>100</td><td>123</td><td>80</td><td>0</td><td>100.0</td></tr></tbody></table></div>"
      ],
      "text/plain": [
       "shape: (3, 10)\n",
       "┌───────────┬───────┬────────┬────────────────┬───┬─────────┬───────┬──────────────┬───────────────┐\n",
       "│ name      ┆ type1 ┆ type2  ┆ abilities      ┆ … ┆ defense ┆ speed ┆ is_legendary ┆ simulated_att │\n",
       "│ ---       ┆ ---   ┆ ---    ┆ ---            ┆   ┆ ---     ┆ ---   ┆ ---          ┆ ack           │\n",
       "│ str       ┆ str   ┆ str    ┆ list[str]      ┆   ┆ i64     ┆ i64   ┆ i64          ┆ ---           │\n",
       "│           ┆       ┆        ┆                ┆   ┆         ┆       ┆              ┆ f64           │\n",
       "╞═══════════╪═══════╪════════╪════════════════╪═══╪═════════╪═══════╪══════════════╪═══════════════╡\n",
       "│ Bulbasaur ┆ grass ┆ poison ┆ [\"Overgrow\",   ┆ … ┆ 49      ┆ 45    ┆ 0            ┆ 53.9          │\n",
       "│           ┆       ┆        ┆ \"Chlorophyll\"] ┆   ┆         ┆       ┆              ┆               │\n",
       "│ Ivysaur   ┆ grass ┆ poison ┆ [\"Overgrow\",   ┆ … ┆ 63      ┆ 60    ┆ 0            ┆ 62.0          │\n",
       "│           ┆       ┆        ┆ \"Chlorophyll\"] ┆   ┆         ┆       ┆              ┆               │\n",
       "│ Venusaur  ┆ grass ┆ poison ┆ [\"Overgrow\",   ┆ … ┆ 123     ┆ 80    ┆ 0            ┆ 100.0         │\n",
       "│           ┆       ┆        ┆ \"Chlorophyll\"] ┆   ┆         ┆       ┆              ┆               │\n",
       "└───────────┴───────┴────────┴────────────────┴───┴─────────┴───────┴──────────────┴───────────────┘"
      ]
     },
     "execution_count": 68,
     "metadata": {},
     "output_type": "execute_result"
    }
   ],
   "source": [
    "pokemon.with_columns(\n",
    "    simulated_attack = pl.col('attack').map(simulated_attack_series)\n",
    ").head(3)"
   ]
  },
  {
   "cell_type": "code",
   "execution_count": 69,
   "metadata": {},
   "outputs": [
    {
     "data": {
      "text/html": [
       "<div><style>\n",
       ".dataframe > thead > tr > th,\n",
       ".dataframe > tbody > tr > td {\n",
       "  text-align: right;\n",
       "}\n",
       "</style>\n",
       "<small>shape: (3, 10)</small><table border=\"1\" class=\"dataframe\"><thead><tr><th>name</th><th>type1</th><th>type2</th><th>abilities</th><th>hp</th><th>attack</th><th>defense</th><th>speed</th><th>is_legendary</th><th>simulated_attack</th></tr><tr><td>str</td><td>str</td><td>str</td><td>list[str]</td><td>i64</td><td>i64</td><td>i64</td><td>i64</td><td>i64</td><td>f64</td></tr></thead><tbody><tr><td>&quot;Bulbasaur&quot;</td><td>&quot;grass&quot;</td><td>&quot;poison&quot;</td><td>[&quot;Overgrow&quot;, &quot;Chlorophyll&quot;]</td><td>45</td><td>49</td><td>49</td><td>45</td><td>0</td><td>53.9</td></tr><tr><td>&quot;Ivysaur&quot;</td><td>&quot;grass&quot;</td><td>&quot;poison&quot;</td><td>[&quot;Overgrow&quot;, &quot;Chlorophyll&quot;]</td><td>60</td><td>62</td><td>63</td><td>60</td><td>0</td><td>62.0</td></tr><tr><td>&quot;Venusaur&quot;</td><td>&quot;grass&quot;</td><td>&quot;poison&quot;</td><td>[&quot;Overgrow&quot;, &quot;Chlorophyll&quot;]</td><td>80</td><td>100</td><td>123</td><td>80</td><td>0</td><td>100.0</td></tr></tbody></table></div>"
      ],
      "text/plain": [
       "shape: (3, 10)\n",
       "┌───────────┬───────┬────────┬────────────────┬───┬─────────┬───────┬──────────────┬───────────────┐\n",
       "│ name      ┆ type1 ┆ type2  ┆ abilities      ┆ … ┆ defense ┆ speed ┆ is_legendary ┆ simulated_att │\n",
       "│ ---       ┆ ---   ┆ ---    ┆ ---            ┆   ┆ ---     ┆ ---   ┆ ---          ┆ ack           │\n",
       "│ str       ┆ str   ┆ str    ┆ list[str]      ┆   ┆ i64     ┆ i64   ┆ i64          ┆ ---           │\n",
       "│           ┆       ┆        ┆                ┆   ┆         ┆       ┆              ┆ f64           │\n",
       "╞═══════════╪═══════╪════════╪════════════════╪═══╪═════════╪═══════╪══════════════╪═══════════════╡\n",
       "│ Bulbasaur ┆ grass ┆ poison ┆ [\"Overgrow\",   ┆ … ┆ 49      ┆ 45    ┆ 0            ┆ 53.9          │\n",
       "│           ┆       ┆        ┆ \"Chlorophyll\"] ┆   ┆         ┆       ┆              ┆               │\n",
       "│ Ivysaur   ┆ grass ┆ poison ┆ [\"Overgrow\",   ┆ … ┆ 63      ┆ 60    ┆ 0            ┆ 62.0          │\n",
       "│           ┆       ┆        ┆ \"Chlorophyll\"] ┆   ┆         ┆       ┆              ┆               │\n",
       "│ Venusaur  ┆ grass ┆ poison ┆ [\"Overgrow\",   ┆ … ┆ 123     ┆ 80    ┆ 0            ┆ 100.0         │\n",
       "│           ┆       ┆        ┆ \"Chlorophyll\"] ┆   ┆         ┆       ┆              ┆               │\n",
       "└───────────┴───────┴────────┴────────────────┴───┴─────────┴───────┴──────────────┴───────────────┘"
      ]
     },
     "execution_count": 69,
     "metadata": {},
     "output_type": "execute_result"
    }
   ],
   "source": [
    "pokemon.with_columns(\n",
    "    simulated_attack = pl.col('attack').apply(simulated_attack_single_value)\n",
    ").head(3)"
   ]
  },
  {
   "cell_type": "code",
   "execution_count": 70,
   "metadata": {},
   "outputs": [],
   "source": [
    "# let's check their speed\n",
    "# we create a bigger dataframe by repeating the original one 100 times\n",
    "# no need to test the first function, as the result is not what we want\n",
    "\n",
    "pokemon_100 = pl.concat([pokemon] * 100, rechunk = True)"
   ]
  },
  {
   "cell_type": "code",
   "execution_count": 71,
   "metadata": {},
   "outputs": [
    {
     "name": "stdout",
     "output_type": "stream",
     "text": [
      "15.4 ms ± 4.85 ms per loop (mean ± std. dev. of 7 runs, 100 loops each)\n"
     ]
    }
   ],
   "source": [
    "%%timeit\n",
    "pokemon_100.with_columns(\n",
    "    simulated_attack = pl.col('attack').map(simulated_attack_series)\n",
    ")"
   ]
  },
  {
   "cell_type": "code",
   "execution_count": 72,
   "metadata": {},
   "outputs": [
    {
     "name": "stdout",
     "output_type": "stream",
     "text": [
      "21.8 ms ± 3.39 ms per loop (mean ± std. dev. of 7 runs, 10 loops each)\n"
     ]
    }
   ],
   "source": [
    "%%timeit\n",
    "pokemon_100.with_columns(\n",
    "    simulated_attack = pl.col('attack').apply(simulated_attack_single_value)\n",
    ")"
   ]
  },
  {
   "cell_type": "code",
   "execution_count": 73,
   "metadata": {},
   "outputs": [
    {
     "name": "stdout",
     "output_type": "stream",
     "text": [
      "2.27 ms ± 826 µs per loop (mean ± std. dev. of 7 runs, 100 loops each)\n"
     ]
    }
   ],
   "source": [
    "%%timeit\n",
    "pokemon_100.with_columns(\n",
    "    simulated_attack = pl.when(pl.col('attack') < 50).then(pl.col('attack') * 1.1).otherwise(pl.col('attack'))\n",
    ")"
   ]
  },
  {
   "cell_type": "code",
   "execution_count": 74,
   "metadata": {},
   "outputs": [],
   "source": [
    "# apply and map are considerably slower than the native Polars functions\n",
    "# in this case by a factor of 10\n",
    "# map is faster than apply because we operate on the full column instead of one row at a time"
   ]
  },
  {
   "cell_type": "code",
   "execution_count": 75,
   "metadata": {},
   "outputs": [
    {
     "data": {
      "text/html": [
       "<div><style>\n",
       ".dataframe > thead > tr > th,\n",
       ".dataframe > tbody > tr > td {\n",
       "  text-align: right;\n",
       "}\n",
       "</style>\n",
       "<small>shape: (2, 2)</small><table border=\"1\" class=\"dataframe\"><thead><tr><th>type1</th><th>attack</th></tr><tr><td>str</td><td>f64</td></tr></thead><tbody><tr><td>&quot;grass&quot;</td><td>215.9</td></tr><tr><td>&quot;fire&quot;</td><td>220.0</td></tr></tbody></table></div>"
      ],
      "text/plain": [
       "shape: (2, 2)\n",
       "┌───────┬────────┐\n",
       "│ type1 ┆ attack │\n",
       "│ ---   ┆ ---    │\n",
       "│ str   ┆ f64    │\n",
       "╞═══════╪════════╡\n",
       "│ grass ┆ 215.9  │\n",
       "│ fire  ┆ 220.0  │\n",
       "└───────┴────────┘"
      ]
     },
     "execution_count": 75,
     "metadata": {},
     "output_type": "execute_result"
    }
   ],
   "source": [
    "# inside groupby, we can use apply to apply a function to each group\n",
    "\n",
    "def simulated_attack_list_to_scalar(attack_column):\n",
    "    return sum([attack * 1.1 if attack < 50 else attack for attack in attack_column])\n",
    "\n",
    "pokemon.head(6).groupby('type1').agg(\n",
    "    pl.col('attack').apply(simulated_attack_list_to_scalar, return_dtype = pl.Float64)\n",
    ")"
   ]
  },
  {
   "cell_type": "code",
   "execution_count": 76,
   "metadata": {},
   "outputs": [
    {
     "data": {
      "text/html": [
       "<div><style>\n",
       ".dataframe > thead > tr > th,\n",
       ".dataframe > tbody > tr > td {\n",
       "  text-align: right;\n",
       "}\n",
       "</style>\n",
       "<small>shape: (6, 10)</small><table border=\"1\" class=\"dataframe\"><thead><tr><th>name</th><th>type1</th><th>type2</th><th>abilities</th><th>hp</th><th>attack</th><th>defense</th><th>speed</th><th>is_legendary</th><th>attack_plus_defense</th></tr><tr><td>str</td><td>str</td><td>str</td><td>list[str]</td><td>i64</td><td>i64</td><td>i64</td><td>i64</td><td>i64</td><td>i64</td></tr></thead><tbody><tr><td>&quot;Bulbasaur&quot;</td><td>&quot;grass&quot;</td><td>&quot;poison&quot;</td><td>[&quot;Overgrow&quot;, &quot;Chlorophyll&quot;]</td><td>45</td><td>49</td><td>49</td><td>45</td><td>0</td><td>98</td></tr><tr><td>&quot;Ivysaur&quot;</td><td>&quot;grass&quot;</td><td>&quot;poison&quot;</td><td>[&quot;Overgrow&quot;, &quot;Chlorophyll&quot;]</td><td>60</td><td>62</td><td>63</td><td>60</td><td>0</td><td>125</td></tr><tr><td>&quot;Venusaur&quot;</td><td>&quot;grass&quot;</td><td>&quot;poison&quot;</td><td>[&quot;Overgrow&quot;, &quot;Chlorophyll&quot;]</td><td>80</td><td>100</td><td>123</td><td>80</td><td>0</td><td>223</td></tr><tr><td>&quot;Charmander&quot;</td><td>&quot;fire&quot;</td><td>null</td><td>[&quot;Blaze&quot;, &quot;Solar Power&quot;]</td><td>39</td><td>52</td><td>43</td><td>65</td><td>0</td><td>95</td></tr><tr><td>&quot;Charmeleon&quot;</td><td>&quot;fire&quot;</td><td>null</td><td>[&quot;Blaze&quot;, &quot;Solar Power&quot;]</td><td>58</td><td>64</td><td>58</td><td>80</td><td>0</td><td>122</td></tr><tr><td>&quot;Charizard&quot;</td><td>&quot;fire&quot;</td><td>&quot;flying&quot;</td><td>[&quot;Blaze&quot;, &quot;Solar Power&quot;]</td><td>78</td><td>104</td><td>78</td><td>100</td><td>0</td><td>182</td></tr></tbody></table></div>"
      ],
      "text/plain": [
       "shape: (6, 10)\n",
       "┌────────────┬───────┬────────┬───────────────┬───┬─────────┬───────┬──────────────┬───────────────┐\n",
       "│ name       ┆ type1 ┆ type2  ┆ abilities     ┆ … ┆ defense ┆ speed ┆ is_legendary ┆ attack_plus_d │\n",
       "│ ---        ┆ ---   ┆ ---    ┆ ---           ┆   ┆ ---     ┆ ---   ┆ ---          ┆ efense        │\n",
       "│ str        ┆ str   ┆ str    ┆ list[str]     ┆   ┆ i64     ┆ i64   ┆ i64          ┆ ---           │\n",
       "│            ┆       ┆        ┆               ┆   ┆         ┆       ┆              ┆ i64           │\n",
       "╞════════════╪═══════╪════════╪═══════════════╪═══╪═════════╪═══════╪══════════════╪═══════════════╡\n",
       "│ Bulbasaur  ┆ grass ┆ poison ┆ [\"Overgrow\",  ┆ … ┆ 49      ┆ 45    ┆ 0            ┆ 98            │\n",
       "│            ┆       ┆        ┆ \"Chlorophyll\" ┆   ┆         ┆       ┆              ┆               │\n",
       "│            ┆       ┆        ┆ ]             ┆   ┆         ┆       ┆              ┆               │\n",
       "│ Ivysaur    ┆ grass ┆ poison ┆ [\"Overgrow\",  ┆ … ┆ 63      ┆ 60    ┆ 0            ┆ 125           │\n",
       "│            ┆       ┆        ┆ \"Chlorophyll\" ┆   ┆         ┆       ┆              ┆               │\n",
       "│            ┆       ┆        ┆ ]             ┆   ┆         ┆       ┆              ┆               │\n",
       "│ Venusaur   ┆ grass ┆ poison ┆ [\"Overgrow\",  ┆ … ┆ 123     ┆ 80    ┆ 0            ┆ 223           │\n",
       "│            ┆       ┆        ┆ \"Chlorophyll\" ┆   ┆         ┆       ┆              ┆               │\n",
       "│            ┆       ┆        ┆ ]             ┆   ┆         ┆       ┆              ┆               │\n",
       "│ Charmander ┆ fire  ┆ null   ┆ [\"Blaze\",     ┆ … ┆ 43      ┆ 65    ┆ 0            ┆ 95            │\n",
       "│            ┆       ┆        ┆ \"Solar        ┆   ┆         ┆       ┆              ┆               │\n",
       "│            ┆       ┆        ┆ Power\"]       ┆   ┆         ┆       ┆              ┆               │\n",
       "│ Charmeleon ┆ fire  ┆ null   ┆ [\"Blaze\",     ┆ … ┆ 58      ┆ 80    ┆ 0            ┆ 122           │\n",
       "│            ┆       ┆        ┆ \"Solar        ┆   ┆         ┆       ┆              ┆               │\n",
       "│            ┆       ┆        ┆ Power\"]       ┆   ┆         ┆       ┆              ┆               │\n",
       "│ Charizard  ┆ fire  ┆ flying ┆ [\"Blaze\",     ┆ … ┆ 78      ┆ 100   ┆ 0            ┆ 182           │\n",
       "│            ┆       ┆        ┆ \"Solar        ┆   ┆         ┆       ┆              ┆               │\n",
       "│            ┆       ┆        ┆ Power\"]       ┆   ┆         ┆       ┆              ┆               │\n",
       "└────────────┴───────┴────────┴───────────────┴───┴─────────┴───────┴──────────────┴───────────────┘"
      ]
     },
     "execution_count": 76,
     "metadata": {},
     "output_type": "execute_result"
    }
   ],
   "source": [
    "# if we want to apply a function to multiple columns, we can use pl.struct\n",
    "# to create a struct, then use apply with it\n",
    "\n",
    "pokemon.head(6).with_columns(\n",
    "    attack_plus_defense = pl.struct('attack','defense').apply(lambda columns: columns['attack'] + columns['defense'])\n",
    ")"
   ]
  },
  {
   "cell_type": "code",
   "execution_count": 77,
   "metadata": {},
   "outputs": [],
   "source": [
    "# we can also use lru_cache to cache the results of a function\n",
    "# this is useful when we have a function that is called multiple times with the same arguments\n",
    "# in this case, we have a function that returns a list of the characters of the type, repeated 10 times \n",
    "\n",
    "from functools import lru_cache\n",
    "\n",
    "@lru_cache(maxsize = 2048)\n",
    "def modify_type_cached(name):\n",
    "    return list(name)*10\n",
    "\n",
    "def modify_type(name):\n",
    "    return list(name)*10"
   ]
  },
  {
   "cell_type": "code",
   "execution_count": 78,
   "metadata": {},
   "outputs": [
    {
     "name": "stdout",
     "output_type": "stream",
     "text": [
      "1.64 s ± 183 ms per loop (mean ± std. dev. of 7 runs, 1 loop each)\n"
     ]
    }
   ],
   "source": [
    "%%timeit\n",
    "pokemon_100.select(\n",
    "    pl.col('type1').apply(modify_type)\n",
    ")"
   ]
  },
  {
   "cell_type": "code",
   "execution_count": 79,
   "metadata": {},
   "outputs": [
    {
     "name": "stdout",
     "output_type": "stream",
     "text": [
      "1.49 s ± 137 ms per loop (mean ± std. dev. of 7 runs, 1 loop each)\n"
     ]
    }
   ],
   "source": [
    "%%timeit\n",
    "pokemon_100.select(\n",
    "    pl.col('type1').apply(modify_type_cached)\n",
    ")"
   ]
  },
  {
   "cell_type": "code",
   "execution_count": null,
   "metadata": {},
   "outputs": [],
   "source": []
  }
 ],
 "metadata": {
  "kernelspec": {
   "display_name": "Python 3",
   "language": "python",
   "name": "python3"
  },
  "language_info": {
   "codemirror_mode": {
    "name": "ipython",
    "version": 3
   },
   "file_extension": ".py",
   "mimetype": "text/x-python",
   "name": "python",
   "nbconvert_exporter": "python",
   "pygments_lexer": "ipython3",
   "version": "3.10.6"
  },
  "orig_nbformat": 4
 },
 "nbformat": 4,
 "nbformat_minor": 2
}
