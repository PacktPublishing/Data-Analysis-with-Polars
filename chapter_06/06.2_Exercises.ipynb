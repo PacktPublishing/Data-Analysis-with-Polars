{
 "cells": [
  {
   "attachments": {},
   "cell_type": "markdown",
   "metadata": {},
   "source": [
    "### Chapter 6 Exercises"
   ]
  },
  {
   "cell_type": "code",
   "execution_count": 2,
   "metadata": {},
   "outputs": [
    {
     "data": {
      "text/plain": [
       "polars.config.Config"
      ]
     },
     "execution_count": 2,
     "metadata": {},
     "output_type": "execute_result"
    }
   ],
   "source": [
    "import polars as pl\n",
    "\n",
    "pl.Config.set_fmt_str_lengths(50)"
   ]
  },
  {
   "cell_type": "markdown",
   "metadata": {},
   "source": [
    "1.\tCreate a SQL Context and register the table job_postings (`../datasets/job_postings/job_postings_simplified.csv`) and companies (`../datasets/job_postings/company_details/companies.csv`)"
   ]
  },
  {
   "cell_type": "code",
   "execution_count": 15,
   "metadata": {},
   "outputs": [],
   "source": [
    "job_postings = pl.scan_csv(\"../datasets/job_postings/job_postings_simplified.csv\")\n",
    "companies = pl.scan_csv(\"../datasets/job_postings/company_details/companies.csv\")\n",
    "\n",
    "ctx = pl.SQLContext(register_globals=True, eager_execution=True)"
   ]
  },
  {
   "cell_type": "markdown",
   "metadata": {},
   "source": [
    "2.\tUsing the SQL context, show the first 5 rows of the companies table"
   ]
  },
  {
   "cell_type": "code",
   "execution_count": 19,
   "metadata": {},
   "outputs": [
    {
     "data": {
      "text/html": [
       "<div><style>\n",
       ".dataframe > thead > tr > th,\n",
       ".dataframe > tbody > tr > td {\n",
       "  text-align: right;\n",
       "  white-space: pre-wrap;\n",
       "}\n",
       "</style>\n",
       "<small>shape: (5, 10)</small><table border=\"1\" class=\"dataframe\"><thead><tr><th>company_id</th><th>name</th><th>description</th><th>company_size</th><th>state</th><th>country</th><th>city</th><th>zip_code</th><th>address</th><th>url</th></tr><tr><td>i64</td><td>str</td><td>str</td><td>i64</td><td>str</td><td>str</td><td>str</td><td>str</td><td>str</td><td>str</td></tr></thead><tbody><tr><td>1009</td><td>&quot;IBM&quot;</td><td>&quot;At IBM, we do more than work. We create. We creat…</td><td>7</td><td>&quot;NY&quot;</td><td>&quot;US&quot;</td><td>&quot;Armonk, New York&quot;</td><td>&quot;10504&quot;</td><td>&quot;International Business Machines Corp.&quot;</td><td>&quot;https://www.linkedin.com/company/ibm&quot;</td></tr><tr><td>1016</td><td>&quot;GE HealthCare&quot;</td><td>&quot;Every day millions of people feel the impact of o…</td><td>7</td><td>&quot;0&quot;</td><td>&quot;US&quot;</td><td>&quot;Chicago&quot;</td><td>&quot;0&quot;</td><td>&quot;-&quot;</td><td>&quot;https://www.linkedin.com/company/gehealthcare&quot;</td></tr><tr><td>1021</td><td>&quot;GE Power&quot;</td><td>&quot;GE Power, part of GE Vernova, is a world energy l…</td><td>7</td><td>&quot;NY&quot;</td><td>&quot;US&quot;</td><td>&quot;Schenectady&quot;</td><td>&quot;12345&quot;</td><td>&quot;1 River Road&quot;</td><td>&quot;https://www.linkedin.com/company/gepower&quot;</td></tr><tr><td>1025</td><td>&quot;Hewlett Packard Enterprise&quot;</td><td>&quot;Official LinkedIn of Hewlett Packard Enterprise, …</td><td>7</td><td>&quot;Texas&quot;</td><td>&quot;US&quot;</td><td>&quot;Houston&quot;</td><td>&quot;77389&quot;</td><td>&quot;1701 E Mossy Oaks Rd Spring&quot;</td><td>&quot;https://www.linkedin.com/company/hewlett-packard-…</td></tr><tr><td>1028</td><td>&quot;Oracle&quot;</td><td>&quot;We’re a cloud technology company that provides or…</td><td>7</td><td>&quot;Texas&quot;</td><td>&quot;US&quot;</td><td>&quot;Austin&quot;</td><td>&quot;78741&quot;</td><td>&quot;2300 Oracle Way&quot;</td><td>&quot;https://www.linkedin.com/company/oracle&quot;</td></tr></tbody></table></div>"
      ],
      "text/plain": [
       "shape: (5, 10)\n",
       "┌───────────┬───────────┬───────────┬───────────┬───┬───────────┬──────────┬───────────┬───────────┐\n",
       "│ company_i ┆ name      ┆ descripti ┆ company_s ┆ … ┆ city      ┆ zip_code ┆ address   ┆ url       │\n",
       "│ d         ┆ ---       ┆ on        ┆ ize       ┆   ┆ ---       ┆ ---      ┆ ---       ┆ ---       │\n",
       "│ ---       ┆ str       ┆ ---       ┆ ---       ┆   ┆ str       ┆ str      ┆ str       ┆ str       │\n",
       "│ i64       ┆           ┆ str       ┆ i64       ┆   ┆           ┆          ┆           ┆           │\n",
       "╞═══════════╪═══════════╪═══════════╪═══════════╪═══╪═══════════╪══════════╪═══════════╪═══════════╡\n",
       "│ 1009      ┆ IBM       ┆ At IBM,   ┆ 7         ┆ … ┆ Armonk,   ┆ 10504    ┆ Internati ┆ https://w │\n",
       "│           ┆           ┆ we do     ┆           ┆   ┆ New York  ┆          ┆ onal      ┆ ww.linked │\n",
       "│           ┆           ┆ more than ┆           ┆   ┆           ┆          ┆ Business  ┆ in.com/co │\n",
       "│           ┆           ┆ work. We  ┆           ┆   ┆           ┆          ┆ Machines  ┆ mpany/ibm │\n",
       "│           ┆           ┆ create.   ┆           ┆   ┆           ┆          ┆ Corp.     ┆           │\n",
       "│           ┆           ┆ We        ┆           ┆   ┆           ┆          ┆           ┆           │\n",
       "│           ┆           ┆ create…   ┆           ┆   ┆           ┆          ┆           ┆           │\n",
       "│ 1016      ┆ GE Health ┆ Every day ┆ 7         ┆ … ┆ Chicago   ┆ 0        ┆ -         ┆ https://w │\n",
       "│           ┆ Care      ┆ millions  ┆           ┆   ┆           ┆          ┆           ┆ ww.linked │\n",
       "│           ┆           ┆ of people ┆           ┆   ┆           ┆          ┆           ┆ in.com/co │\n",
       "│           ┆           ┆ feel the  ┆           ┆   ┆           ┆          ┆           ┆ mpany/geh │\n",
       "│           ┆           ┆ impact of ┆           ┆   ┆           ┆          ┆           ┆ ealthcare │\n",
       "│           ┆           ┆ ou…       ┆           ┆   ┆           ┆          ┆           ┆           │\n",
       "│ 1021      ┆ GE Power  ┆ GE Power, ┆ 7         ┆ … ┆ Schenecta ┆ 12345    ┆ 1 River   ┆ https://w │\n",
       "│           ┆           ┆ part of   ┆           ┆   ┆ dy        ┆          ┆ Road      ┆ ww.linked │\n",
       "│           ┆           ┆ GE        ┆           ┆   ┆           ┆          ┆           ┆ in.com/co │\n",
       "│           ┆           ┆ Vernova,  ┆           ┆   ┆           ┆          ┆           ┆ mpany/gep │\n",
       "│           ┆           ┆ is a      ┆           ┆   ┆           ┆          ┆           ┆ ower      │\n",
       "│           ┆           ┆ world     ┆           ┆   ┆           ┆          ┆           ┆           │\n",
       "│           ┆           ┆ energy    ┆           ┆   ┆           ┆          ┆           ┆           │\n",
       "│           ┆           ┆ le…       ┆           ┆   ┆           ┆          ┆           ┆           │\n",
       "│ 1025      ┆ Hewlett   ┆ Official  ┆ 7         ┆ … ┆ Houston   ┆ 77389    ┆ 1701 E    ┆ https://w │\n",
       "│           ┆ Packard   ┆ LinkedIn  ┆           ┆   ┆           ┆          ┆ Mossy     ┆ ww.linked │\n",
       "│           ┆ Enterpris ┆ of        ┆           ┆   ┆           ┆          ┆ Oaks Rd   ┆ in.com/co │\n",
       "│           ┆ e         ┆ Hewlett   ┆           ┆   ┆           ┆          ┆ Spring    ┆ mpany/hew │\n",
       "│           ┆           ┆ Packard   ┆           ┆   ┆           ┆          ┆           ┆ lett-pack │\n",
       "│           ┆           ┆ Enterpris ┆           ┆   ┆           ┆          ┆           ┆ ard-e…    │\n",
       "│           ┆           ┆ e, t…     ┆           ┆   ┆           ┆          ┆           ┆           │\n",
       "│ 1028      ┆ Oracle    ┆ We’re a   ┆ 7         ┆ … ┆ Austin    ┆ 78741    ┆ 2300      ┆ https://w │\n",
       "│           ┆           ┆ cloud tec ┆           ┆   ┆           ┆          ┆ Oracle    ┆ ww.linked │\n",
       "│           ┆           ┆ hnology   ┆           ┆   ┆           ┆          ┆ Way       ┆ in.com/co │\n",
       "│           ┆           ┆ company   ┆           ┆   ┆           ┆          ┆           ┆ mpany/ora │\n",
       "│           ┆           ┆ that      ┆           ┆   ┆           ┆          ┆           ┆ cle       │\n",
       "│           ┆           ┆ provides  ┆           ┆   ┆           ┆          ┆           ┆           │\n",
       "│           ┆           ┆ org…      ┆           ┆   ┆           ┆          ┆           ┆           │\n",
       "└───────────┴───────────┴───────────┴───────────┴───┴───────────┴──────────┴───────────┴───────────┘"
      ]
     },
     "execution_count": 19,
     "metadata": {},
     "output_type": "execute_result"
    }
   ],
   "source": [
    "ctx.execute(\"\"\"--sql\n",
    "    SELECT *\n",
    "    FROM companies\n",
    "    LIMIT 5\n",
    "\"\"\")"
   ]
  },
  {
   "cell_type": "markdown",
   "metadata": {},
   "source": [
    "3.\tFilter for US companies, then count the number of companies by state. Show the top 3 states by descending order of number of companies"
   ]
  },
  {
   "cell_type": "code",
   "execution_count": 25,
   "metadata": {},
   "outputs": [
    {
     "data": {
      "text/html": [
       "<div><style>\n",
       ".dataframe > thead > tr > th,\n",
       ".dataframe > tbody > tr > td {\n",
       "  text-align: right;\n",
       "  white-space: pre-wrap;\n",
       "}\n",
       "</style>\n",
       "<small>shape: (3, 2)</small><table border=\"1\" class=\"dataframe\"><thead><tr><th>state</th><th>num_companies</th></tr><tr><td>str</td><td>u32</td></tr></thead><tbody><tr><td>&quot;CA&quot;</td><td>470</td></tr><tr><td>&quot;California&quot;</td><td>465</td></tr><tr><td>&quot;Texas&quot;</td><td>322</td></tr></tbody></table></div>"
      ],
      "text/plain": [
       "shape: (3, 2)\n",
       "┌────────────┬───────────────┐\n",
       "│ state      ┆ num_companies │\n",
       "│ ---        ┆ ---           │\n",
       "│ str        ┆ u32           │\n",
       "╞════════════╪═══════════════╡\n",
       "│ CA         ┆ 470           │\n",
       "│ California ┆ 465           │\n",
       "│ Texas      ┆ 322           │\n",
       "└────────────┴───────────────┘"
      ]
     },
     "execution_count": 25,
     "metadata": {},
     "output_type": "execute_result"
    }
   ],
   "source": [
    "ctx.execute(\"\"\"--sql\n",
    "    SELECT state, COUNT(*) AS num_companies\n",
    "    FROM companies\n",
    "    WHERE country = 'US'\n",
    "    GROUP BY state\n",
    "    ORDER BY num_companies DESC\n",
    "    LIMIT 3\n",
    "\"\"\")"
   ]
  },
  {
   "cell_type": "markdown",
   "metadata": {},
   "source": [
    "4.\tFilter for US companies, then count the number of jobs by state. Show the top 3 states by descending order of number of jobs. You will need to join the job_postings table"
   ]
  },
  {
   "cell_type": "code",
   "execution_count": 31,
   "metadata": {},
   "outputs": [
    {
     "data": {
      "text/html": [
       "<div><style>\n",
       ".dataframe > thead > tr > th,\n",
       ".dataframe > tbody > tr > td {\n",
       "  text-align: right;\n",
       "  white-space: pre-wrap;\n",
       "}\n",
       "</style>\n",
       "<small>shape: (3, 2)</small><table border=\"1\" class=\"dataframe\"><thead><tr><th>state</th><th>number_of_jobs</th></tr><tr><td>str</td><td>u32</td></tr></thead><tbody><tr><td>&quot;CA&quot;</td><td>1358</td></tr><tr><td>&quot;California&quot;</td><td>1100</td></tr><tr><td>&quot;Texas&quot;</td><td>770</td></tr></tbody></table></div>"
      ],
      "text/plain": [
       "shape: (3, 2)\n",
       "┌────────────┬────────────────┐\n",
       "│ state      ┆ number_of_jobs │\n",
       "│ ---        ┆ ---            │\n",
       "│ str        ┆ u32            │\n",
       "╞════════════╪════════════════╡\n",
       "│ CA         ┆ 1358           │\n",
       "│ California ┆ 1100           │\n",
       "│ Texas      ┆ 770            │\n",
       "└────────────┴────────────────┘"
      ]
     },
     "execution_count": 31,
     "metadata": {},
     "output_type": "execute_result"
    }
   ],
   "source": [
    "ctx.execute(\"\"\"--sql\n",
    "    SELECT companies.state, \n",
    "            COUNT(*) AS number_of_jobs\n",
    "    FROM job_postings\n",
    "    JOIN companies\n",
    "    ON job_postings.company_id = companies.company_id\n",
    "    WHERE companies.country = 'US'\n",
    "    GROUP BY companies.state\n",
    "    ORDER BY number_of_jobs DESC\n",
    "    LIMIT 3\n",
    "\"\"\")"
   ]
  },
  {
   "cell_type": "markdown",
   "metadata": {},
   "source": [
    "5.\tShow the top 5 highest paid jobs by IBM. Use max_salary to identify the highest paid jobs"
   ]
  },
  {
   "cell_type": "code",
   "execution_count": 39,
   "metadata": {},
   "outputs": [
    {
     "data": {
      "text/html": [
       "<div><style>\n",
       ".dataframe > thead > tr > th,\n",
       ".dataframe > tbody > tr > td {\n",
       "  text-align: right;\n",
       "  white-space: pre-wrap;\n",
       "}\n",
       "</style>\n",
       "<small>shape: (5, 3)</small><table border=\"1\" class=\"dataframe\"><thead><tr><th>title</th><th>number_of_jobs</th><th>average_max_salary</th></tr><tr><td>str</td><td>u32</td><td>f64</td></tr></thead><tbody><tr><td>&quot;Technical Consultant - zOS (TS/SCI)&quot;</td><td>1</td><td>235000.0</td></tr><tr><td>&quot;Application Architect - IBM Maximo&quot;</td><td>4</td><td>190000.0</td></tr><tr><td>&quot;Postdoctoral Researcher - Biosensors&quot;</td><td>1</td><td>187920.0</td></tr><tr><td>&quot;Project Manager - Maximo&quot;</td><td>4</td><td>173000.0</td></tr><tr><td>&quot;Sales Reporting Professional&quot;</td><td>1</td><td>167000.0</td></tr></tbody></table></div>"
      ],
      "text/plain": [
       "shape: (5, 3)\n",
       "┌──────────────────────────────────────┬────────────────┬────────────────────┐\n",
       "│ title                                ┆ number_of_jobs ┆ average_max_salary │\n",
       "│ ---                                  ┆ ---            ┆ ---                │\n",
       "│ str                                  ┆ u32            ┆ f64                │\n",
       "╞══════════════════════════════════════╪════════════════╪════════════════════╡\n",
       "│ Technical Consultant - zOS (TS/SCI)  ┆ 1              ┆ 235000.0           │\n",
       "│ Application Architect - IBM Maximo   ┆ 4              ┆ 190000.0           │\n",
       "│ Postdoctoral Researcher - Biosensors ┆ 1              ┆ 187920.0           │\n",
       "│ Project Manager - Maximo             ┆ 4              ┆ 173000.0           │\n",
       "│ Sales Reporting Professional         ┆ 1              ┆ 167000.0           │\n",
       "└──────────────────────────────────────┴────────────────┴────────────────────┘"
      ]
     },
     "execution_count": 39,
     "metadata": {},
     "output_type": "execute_result"
    }
   ],
   "source": [
    "ctx.execute(\"\"\"--sql\n",
    "    SELECT job_postings.title, \n",
    "            COUNT(*) AS number_of_jobs,\n",
    "            AVG(job_postings.max_salary) AS average_max_salary\n",
    "    FROM job_postings\n",
    "    JOIN companies\n",
    "    ON job_postings.company_id = companies.company_id\n",
    "    WHERE companies.name = 'IBM'\n",
    "    GROUP BY job_postings.title\n",
    "    ORDER BY average_max_salary DESC\n",
    "    LIMIT 5\n",
    "\"\"\")"
   ]
  }
 ],
 "metadata": {
  "kernelspec": {
   "display_name": "Python 3",
   "language": "python",
   "name": "python3"
  },
  "language_info": {
   "codemirror_mode": {
    "name": "ipython",
    "version": 3
   },
   "file_extension": ".py",
   "mimetype": "text/x-python",
   "name": "python",
   "nbconvert_exporter": "python",
   "pygments_lexer": "ipython3",
   "version": "3.10.12"
  },
  "orig_nbformat": 4
 },
 "nbformat": 4,
 "nbformat_minor": 2
}
