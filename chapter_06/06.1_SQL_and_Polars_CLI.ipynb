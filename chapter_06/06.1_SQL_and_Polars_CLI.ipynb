{
 "cells": [
  {
   "attachments": {},
   "cell_type": "markdown",
   "metadata": {},
   "source": [
    "### Polars SQL and Command-Line Interface (CLI)"
   ]
  },
  {
   "attachments": {},
   "cell_type": "markdown",
   "metadata": {},
   "source": [
    "The examples below use `.head()` to reduce the output to a few rows and take up less space.\n",
    "If you want the full output, remove `.head()` from the code\n",
    "\n",
    "This notebooked is divided into sections. If your code editor supports it, you can use the **Outline** functionality to easily go to the code section you are interested in.\n",
    "\n",
    "For more details on Polars functions, check out the Polars API reference: https://pola-rs.github.io/polars/py-polars/html/reference/index.html"
   ]
  },
  {
   "cell_type": "code",
   "execution_count": 1,
   "metadata": {},
   "outputs": [],
   "source": [
    "import polars as pl"
   ]
  },
  {
   "cell_type": "code",
   "execution_count": 2,
   "metadata": {},
   "outputs": [
    {
     "data": {
      "text/plain": [
       "polars.config.Config"
      ]
     },
     "execution_count": 2,
     "metadata": {},
     "output_type": "execute_result"
    }
   ],
   "source": [
    "# Configure the number of characters to show for each string column, plus the display format for float columns\n",
    "pl.Config.set_fmt_str_lengths(30)\n",
    "pl.Config.set_fmt_float(\"full\")"
   ]
  },
  {
   "attachments": {},
   "cell_type": "markdown",
   "metadata": {},
   "source": [
    "#### Create a SQL context and register tables"
   ]
  },
  {
   "cell_type": "code",
   "execution_count": 3,
   "metadata": {},
   "outputs": [],
   "source": [
    "# Scan 3 tables of the job postings dataset\n",
    "job_postings = pl.scan_csv(\"../datasets/job_postings/job_postings_simplified.csv\")\n",
    "job_skills = pl.scan_csv(\"../datasets/job_postings/job_details/job_skills.csv\")\n",
    "companies = pl.scan_csv(\"../datasets/job_postings/company_details/companies.csv\")"
   ]
  },
  {
   "cell_type": "code",
   "execution_count": 4,
   "metadata": {},
   "outputs": [],
   "source": [
    "# Create a SQL context, register all Polars dataframes and lazyframes, and automatically collect the result\n",
    "ctx = pl.SQLContext(register_globals=True, eager_execution=True)"
   ]
  },
  {
   "cell_type": "code",
   "execution_count": 5,
   "metadata": {},
   "outputs": [
    {
     "data": {
      "text/plain": [
       "['companies', 'job_postings', 'job_skills']"
      ]
     },
     "execution_count": 5,
     "metadata": {},
     "output_type": "execute_result"
    }
   ],
   "source": [
    "# Verify that the tables have been registered\n",
    "ctx.tables()"
   ]
  },
  {
   "cell_type": "code",
   "execution_count": 6,
   "metadata": {},
   "outputs": [],
   "source": [
    "# We can register the dataframes one by one in the SQL Context\n",
    "ctx = pl.SQLContext(\n",
    "    job_postings=job_postings,\n",
    "    eager_execution=True\n",
    ")"
   ]
  },
  {
   "cell_type": "code",
   "execution_count": 7,
   "metadata": {},
   "outputs": [
    {
     "data": {
      "text/plain": [
       "<SQLContext [tables:2] at 0x7f7e7c1c3f40>"
      ]
     },
     "execution_count": 7,
     "metadata": {},
     "output_type": "execute_result"
    }
   ],
   "source": [
    "# After the SQLContext is initialized, we register additional tables or unregister tables with:\n",
    "# register, register_globals, register_many, unregister\n",
    "\n",
    "ctx.register(\"companies\", companies)"
   ]
  },
  {
   "cell_type": "code",
   "execution_count": 8,
   "metadata": {},
   "outputs": [
    {
     "data": {
      "text/html": [
       "<div><style>\n",
       ".dataframe > thead > tr > th,\n",
       ".dataframe > tbody > tr > td {\n",
       "  text-align: right;\n",
       "  white-space: pre-wrap;\n",
       "}\n",
       "</style>\n",
       "<small>shape: (1, 1)</small><table border=\"1\" class=\"dataframe\"><thead><tr><th>Response</th></tr><tr><td>str</td></tr></thead><tbody><tr><td>&quot;Create Table&quot;</td></tr></tbody></table></div>"
      ],
      "text/plain": [
       "shape: (1, 1)\n",
       "┌──────────────┐\n",
       "│ Response     │\n",
       "│ ---          │\n",
       "│ str          │\n",
       "╞══════════════╡\n",
       "│ Create Table │\n",
       "└──────────────┘"
      ]
     },
     "execution_count": 8,
     "metadata": {},
     "output_type": "execute_result"
    }
   ],
   "source": [
    "# We can also register tables directly within SQL\n",
    "\n",
    "ctx.execute(\"\"\"--sql\n",
    "    CREATE TABLE job_skills\n",
    "    AS SELECT * FROM read_csv('../datasets/job_postings/job_details/job_skills.csv')\n",
    "    \"\"\")"
   ]
  },
  {
   "cell_type": "code",
   "execution_count": 9,
   "metadata": {},
   "outputs": [
    {
     "data": {
      "text/html": [
       "<div><style>\n",
       ".dataframe > thead > tr > th,\n",
       ".dataframe > tbody > tr > td {\n",
       "  text-align: right;\n",
       "  white-space: pre-wrap;\n",
       "}\n",
       "</style>\n",
       "<small>shape: (4, 1)</small><table border=\"1\" class=\"dataframe\"><thead><tr><th>name</th></tr><tr><td>str</td></tr></thead><tbody><tr><td>&quot;../datasets/job_postings/job_…</td></tr><tr><td>&quot;companies&quot;</td></tr><tr><td>&quot;job_postings&quot;</td></tr><tr><td>&quot;job_skills&quot;</td></tr></tbody></table></div>"
      ],
      "text/plain": [
       "shape: (4, 1)\n",
       "┌─────────────────────────────────┐\n",
       "│ name                            │\n",
       "│ ---                             │\n",
       "│ str                             │\n",
       "╞═════════════════════════════════╡\n",
       "│ ../datasets/job_postings/job_d… │\n",
       "│ companies                       │\n",
       "│ job_postings                    │\n",
       "│ job_skills                      │\n",
       "└─────────────────────────────────┘"
      ]
     },
     "execution_count": 9,
     "metadata": {},
     "output_type": "execute_result"
    }
   ],
   "source": [
    "# We can check the registered tables with SQL\n",
    "\n",
    "ctx.execute(\"\"\"--sql\n",
    "    SHOW TABLES\n",
    "\"\"\") "
   ]
  },
  {
   "cell_type": "code",
   "execution_count": 10,
   "metadata": {},
   "outputs": [
    {
     "data": {
      "text/plain": [
       "['../datasets/job_postings/job_details/job_skills.csv',\n",
       " 'companies',\n",
       " 'job_postings',\n",
       " 'job_skills']"
      ]
     },
     "execution_count": 10,
     "metadata": {},
     "output_type": "execute_result"
    }
   ],
   "source": [
    "# We can also check the registered tables with Python\n",
    "\n",
    "ctx.tables()"
   ]
  },
  {
   "cell_type": "code",
   "execution_count": 11,
   "metadata": {},
   "outputs": [
    {
     "data": {
      "text/html": [
       "<div><style>\n",
       ".dataframe > thead > tr > th,\n",
       ".dataframe > tbody > tr > td {\n",
       "  text-align: right;\n",
       "  white-space: pre-wrap;\n",
       "}\n",
       "</style>\n",
       "<small>shape: (3, 2)</small><table border=\"1\" class=\"dataframe\"><thead><tr><th>name</th><th>age</th></tr><tr><td>str</td><td>i64</td></tr></thead><tbody><tr><td>&quot;John&quot;</td><td>24</td></tr><tr><td>&quot;Jane&quot;</td><td>25</td></tr><tr><td>&quot;Alice&quot;</td><td>26</td></tr></tbody></table></div>"
      ],
      "text/plain": [
       "shape: (3, 2)\n",
       "┌───────┬─────┐\n",
       "│ name  ┆ age │\n",
       "│ ---   ┆ --- │\n",
       "│ str   ┆ i64 │\n",
       "╞═══════╪═════╡\n",
       "│ John  ┆ 24  │\n",
       "│ Jane  ┆ 25  │\n",
       "│ Alice ┆ 26  │\n",
       "└───────┴─────┘"
      ]
     },
     "execution_count": 11,
     "metadata": {},
     "output_type": "execute_result"
    }
   ],
   "source": [
    "# We are not limited to querying Polars dataframes. We can query Pandas dataframes as well\n",
    "import pandas as pd\n",
    "\n",
    "users = pd.DataFrame({\n",
    "    \"name\": [\"John\", \"Jane\", \"Alice\"],\n",
    "    \"age\": [24, 25, 26]\n",
    "})\n",
    "\n",
    "ctx.register(\"users\", pl.from_pandas(users))\n",
    "\n",
    "ctx.execute(\"\"\"--sql\n",
    "    SELECT *\n",
    "    FROM users\n",
    "\"\"\")"
   ]
  },
  {
   "cell_type": "code",
   "execution_count": 12,
   "metadata": {},
   "outputs": [
    {
     "data": {
      "text/plain": [
       "<SQLContext [tables:4] at 0x7f7e7c1c3f40>"
      ]
     },
     "execution_count": 12,
     "metadata": {},
     "output_type": "execute_result"
    }
   ],
   "source": [
    "# We unregister the Pandas dataframe with unregister\n",
    "\n",
    "ctx.unregister(\"users\")"
   ]
  },
  {
   "cell_type": "markdown",
   "metadata": {},
   "source": [
    "#### Query tables"
   ]
  },
  {
   "cell_type": "code",
   "execution_count": 36,
   "metadata": {},
   "outputs": [
    {
     "data": {
      "text/html": [
       "<div><style>\n",
       ".dataframe > thead > tr > th,\n",
       ".dataframe > tbody > tr > td {\n",
       "  text-align: right;\n",
       "  white-space: pre-wrap;\n",
       "}\n",
       "</style>\n",
       "<small>shape: (5, 3)</small><table border=\"1\" class=\"dataframe\"><thead><tr><th>title</th><th>max_salary</th><th>min_salary</th></tr><tr><td>str</td><td>f64</td><td>f64</td></tr></thead><tbody><tr><td>&quot;Licensed Insurance Agent&quot;</td><td>52000</td><td>45760</td></tr><tr><td>&quot;Sales Manager&quot;</td><td>null</td><td>null</td></tr><tr><td>&quot;Model Risk Auditor&quot;</td><td>null</td><td>null</td></tr><tr><td>&quot;Business Manager&quot;</td><td>null</td><td>null</td></tr><tr><td>&quot;NY Studio Assistant&quot;</td><td>null</td><td>null</td></tr></tbody></table></div>"
      ],
      "text/plain": [
       "shape: (5, 3)\n",
       "┌──────────────────────────┬────────────┬────────────┐\n",
       "│ title                    ┆ max_salary ┆ min_salary │\n",
       "│ ---                      ┆ ---        ┆ ---        │\n",
       "│ str                      ┆ f64        ┆ f64        │\n",
       "╞══════════════════════════╪════════════╪════════════╡\n",
       "│ Licensed Insurance Agent ┆ 52000      ┆ 45760      │\n",
       "│ Sales Manager            ┆ null       ┆ null       │\n",
       "│ Model Risk Auditor       ┆ null       ┆ null       │\n",
       "│ Business Manager         ┆ null       ┆ null       │\n",
       "│ NY Studio Assistant      ┆ null       ┆ null       │\n",
       "└──────────────────────────┴────────────┴────────────┘"
      ]
     },
     "execution_count": 36,
     "metadata": {},
     "output_type": "execute_result"
    }
   ],
   "source": [
    "# We select which columns we want by passing the columns after SELECT\n",
    "\n",
    "ctx.execute(\"\"\"--sql\n",
    "    SELECT title, max_salary, min_salary\n",
    "    FROM job_postings\n",
    "    LIMIT 5\n",
    "\"\"\")"
   ]
  },
  {
   "cell_type": "code",
   "execution_count": 14,
   "metadata": {},
   "outputs": [
    {
     "data": {
      "text/html": [
       "<div><style>\n",
       ".dataframe > thead > tr > th,\n",
       ".dataframe > tbody > tr > td {\n",
       "  text-align: right;\n",
       "  white-space: pre-wrap;\n",
       "}\n",
       "</style>\n",
       "<small>shape: (5, 3)</small><table border=\"1\" class=\"dataframe\"><thead><tr><th>title</th><th>max_salary</th><th>min_salary</th></tr><tr><td>str</td><td>f64</td><td>f64</td></tr></thead><tbody><tr><td>&quot;Manager, Salesforce Platform&quot;</td><td>170976</td><td>98640</td></tr><tr><td>&quot;Clinic Managers - Physical Th…</td><td>117510.65</td><td>91010.65</td></tr><tr><td>&quot;Lead Software Engineer&quot;</td><td>190000</td><td>160000</td></tr><tr><td>&quot;Executive Director&quot;</td><td>110000</td><td>100000</td></tr><tr><td>&quot;Emergency Veterinarian&quot;</td><td>350000</td><td>200000</td></tr></tbody></table></div>"
      ],
      "text/plain": [
       "shape: (5, 3)\n",
       "┌─────────────────────────────────┬────────────┬────────────┐\n",
       "│ title                           ┆ max_salary ┆ min_salary │\n",
       "│ ---                             ┆ ---        ┆ ---        │\n",
       "│ str                             ┆ f64        ┆ f64        │\n",
       "╞═════════════════════════════════╪════════════╪════════════╡\n",
       "│ Manager, Salesforce Platform    ┆ 170976     ┆ 98640      │\n",
       "│ Clinic Managers - Physical The… ┆ 117510.65  ┆ 91010.65   │\n",
       "│ Lead Software Engineer          ┆ 190000     ┆ 160000     │\n",
       "│ Executive Director              ┆ 110000     ┆ 100000     │\n",
       "│ Emergency Veterinarian          ┆ 350000     ┆ 200000     │\n",
       "└─────────────────────────────────┴────────────┴────────────┘"
      ]
     },
     "execution_count": 14,
     "metadata": {},
     "output_type": "execute_result"
    }
   ],
   "source": [
    "# We filter rows with WHERE\n",
    "\n",
    "ctx.execute(\"\"\"--sql\n",
    "    SELECT title, max_salary, min_salary\n",
    "    FROM job_postings\n",
    "    WHERE max_salary > 100000 AND min_salary > 80000\n",
    "    LIMIT 5\n",
    "\"\"\")"
   ]
  },
  {
   "cell_type": "markdown",
   "metadata": {},
   "source": [
    "#### Calculations and aggregations"
   ]
  },
  {
   "cell_type": "code",
   "execution_count": 38,
   "metadata": {},
   "outputs": [
    {
     "data": {
      "text/html": [
       "<div><style>\n",
       ".dataframe > thead > tr > th,\n",
       ".dataframe > tbody > tr > td {\n",
       "  text-align: right;\n",
       "  white-space: pre-wrap;\n",
       "}\n",
       "</style>\n",
       "<small>shape: (1, 5)</small><table border=\"1\" class=\"dataframe\"><thead><tr><th>avg_max_salary</th><th>avg_min_salary</th><th>overall_min_salary</th><th>overall_max_salary</th><th>number_of_jobs</th></tr><tr><td>f64</td><td>f64</td><td>f64</td><td>f64</td><td>u32</td></tr></thead><tbody><tr><td>88336.22211193624</td><td>62352.2180728129</td><td>10</td><td>1300000</td><td>15886</td></tr></tbody></table></div>"
      ],
      "text/plain": [
       "shape: (1, 5)\n",
       "┌───────────────────┬──────────────────┬────────────────────┬────────────────────┬────────────────┐\n",
       "│ avg_max_salary    ┆ avg_min_salary   ┆ overall_min_salary ┆ overall_max_salary ┆ number_of_jobs │\n",
       "│ ---               ┆ ---              ┆ ---                ┆ ---                ┆ ---            │\n",
       "│ f64               ┆ f64              ┆ f64                ┆ f64                ┆ u32            │\n",
       "╞═══════════════════╪══════════════════╪════════════════════╪════════════════════╪════════════════╡\n",
       "│ 88336.22211193624 ┆ 62352.2180728129 ┆ 10                 ┆ 1300000            ┆ 15886          │\n",
       "└───────────────────┴──────────────────┴────────────────────┴────────────────────┴────────────────┘"
      ]
     },
     "execution_count": 38,
     "metadata": {},
     "output_type": "execute_result"
    }
   ],
   "source": [
    "# We can use calculation functions such as SUM, AVG, MIN, MAX, COUNT, etc.\n",
    "\n",
    "ctx.execute(\"\"\"--sql\n",
    "    SELECT AVG(max_salary) AS avg_max_salary, \n",
    "            AVG(min_salary) AS avg_min_salary, \n",
    "            MIN(min_salary) AS overall_min_salary,\n",
    "            MAX(max_salary) AS overall_max_salary, \n",
    "            COUNT(*) AS number_of_jobs\n",
    "    FROM job_postings\n",
    "\"\"\")"
   ]
  },
  {
   "cell_type": "code",
   "execution_count": 39,
   "metadata": {},
   "outputs": [
    {
     "data": {
      "text/html": [
       "<div><style>\n",
       ".dataframe > thead > tr > th,\n",
       ".dataframe > tbody > tr > td {\n",
       "  text-align: right;\n",
       "  white-space: pre-wrap;\n",
       "}\n",
       "</style>\n",
       "<small>shape: (5, 6)</small><table border=\"1\" class=\"dataframe\"><thead><tr><th>company_id</th><th>avg_max_salary</th><th>avg_min_salary</th><th>overall_min_salary</th><th>overall_max_salary</th><th>number_of_jobs</th></tr><tr><td>i64</td><td>f64</td><td>f64</td><td>f64</td><td>f64</td><td>u32</td></tr></thead><tbody><tr><td>742016</td><td>null</td><td>null</td><td>null</td><td>null</td><td>1</td></tr><tr><td>17120</td><td>null</td><td>null</td><td>null</td><td>null</td><td>1</td></tr><tr><td>3738912</td><td>16.415</td><td>12.625</td><td>11</td><td>18.53</td><td>6</td></tr><tr><td>87110560</td><td>null</td><td>null</td><td>null</td><td>null</td><td>1</td></tr><tr><td>76863872</td><td>25</td><td>22</td><td>22</td><td>25</td><td>1</td></tr></tbody></table></div>"
      ],
      "text/plain": [
       "shape: (5, 6)\n",
       "┌────────────┬────────────────┬────────────────┬─────────────────┬────────────────┬────────────────┐\n",
       "│ company_id ┆ avg_max_salary ┆ avg_min_salary ┆ overall_min_sal ┆ overall_max_sa ┆ number_of_jobs │\n",
       "│ ---        ┆ ---            ┆ ---            ┆ ary             ┆ lary           ┆ ---            │\n",
       "│ i64        ┆ f64            ┆ f64            ┆ ---             ┆ ---            ┆ u32            │\n",
       "│            ┆                ┆                ┆ f64             ┆ f64            ┆                │\n",
       "╞════════════╪════════════════╪════════════════╪═════════════════╪════════════════╪════════════════╡\n",
       "│ 742016     ┆ null           ┆ null           ┆ null            ┆ null           ┆ 1              │\n",
       "│ 17120      ┆ null           ┆ null           ┆ null            ┆ null           ┆ 1              │\n",
       "│ 3738912    ┆ 16.415         ┆ 12.625         ┆ 11              ┆ 18.53          ┆ 6              │\n",
       "│ 87110560   ┆ null           ┆ null           ┆ null            ┆ null           ┆ 1              │\n",
       "│ 76863872   ┆ 25             ┆ 22             ┆ 22              ┆ 25             ┆ 1              │\n",
       "└────────────┴────────────────┴────────────────┴─────────────────┴────────────────┴────────────────┘"
      ]
     },
     "execution_count": 39,
     "metadata": {},
     "output_type": "execute_result"
    }
   ],
   "source": [
    "# We can group rows with GROUP BY, for example group by company id\n",
    "\n",
    "ctx.execute(\"\"\"--sql\n",
    "    SELECT company_id, \n",
    "            AVG(max_salary) AS avg_max_salary, \n",
    "            AVG(min_salary) AS avg_min_salary, \n",
    "            MIN(min_salary) AS overall_min_salary,\n",
    "            MAX(max_salary) AS overall_max_salary, \n",
    "            COUNT(*) AS number_of_jobs\n",
    "    FROM job_postings\n",
    "    WHERE company_id IS NOT NULL\n",
    "    GROUP BY company_id\n",
    "    LIMIT 5\n",
    "\"\"\")"
   ]
  },
  {
   "cell_type": "code",
   "execution_count": 42,
   "metadata": {},
   "outputs": [
    {
     "data": {
      "text/html": [
       "<div><style>\n",
       ".dataframe > thead > tr > th,\n",
       ".dataframe > tbody > tr > td {\n",
       "  text-align: right;\n",
       "  white-space: pre-wrap;\n",
       "}\n",
       "</style>\n",
       "<small>shape: (5, 6)</small><table border=\"1\" class=\"dataframe\"><thead><tr><th>company_id</th><th>avg_max_salary</th><th>avg_min_salary</th><th>overall_min_salary</th><th>overall_max_salary</th><th>number_of_jobs</th></tr><tr><td>i64</td><td>f64</td><td>f64</td><td>f64</td><td>f64</td><td>u32</td></tr></thead><tbody><tr><td>92699700</td><td>766666.6666666666</td><td>466666.6666666667</td><td>300000</td><td>1300000</td><td>3</td></tr><tr><td>106584</td><td>743750</td><td>431250</td><td>175000</td><td>1100000</td><td>4</td></tr><tr><td>78124</td><td>675000</td><td>50000</td><td>50000</td><td>675000</td><td>9</td></tr><tr><td>28439179</td><td>500000</td><td>90000</td><td>70000</td><td>500000</td><td>3</td></tr><tr><td>18827874</td><td>500000</td><td>25000</td><td>25000</td><td>500000</td><td>1</td></tr></tbody></table></div>"
      ],
      "text/plain": [
       "shape: (5, 6)\n",
       "┌────────────┬─────────────────┬────────────────┬────────────────┬────────────────┬────────────────┐\n",
       "│ company_id ┆ avg_max_salary  ┆ avg_min_salary ┆ overall_min_sa ┆ overall_max_sa ┆ number_of_jobs │\n",
       "│ ---        ┆ ---             ┆ ---            ┆ lary           ┆ lary           ┆ ---            │\n",
       "│ i64        ┆ f64             ┆ f64            ┆ ---            ┆ ---            ┆ u32            │\n",
       "│            ┆                 ┆                ┆ f64            ┆ f64            ┆                │\n",
       "╞════════════╪═════════════════╪════════════════╪════════════════╪════════════════╪════════════════╡\n",
       "│ 92699700   ┆ 766666.66666666 ┆ 466666.6666666 ┆ 300000         ┆ 1300000        ┆ 3              │\n",
       "│            ┆ 66              ┆ 667            ┆                ┆                ┆                │\n",
       "│ 106584     ┆ 743750          ┆ 431250         ┆ 175000         ┆ 1100000        ┆ 4              │\n",
       "│ 78124      ┆ 675000          ┆ 50000          ┆ 50000          ┆ 675000         ┆ 9              │\n",
       "│ 28439179   ┆ 500000          ┆ 90000          ┆ 70000          ┆ 500000         ┆ 3              │\n",
       "│ 18827874   ┆ 500000          ┆ 25000          ┆ 25000          ┆ 500000         ┆ 1              │\n",
       "└────────────┴─────────────────┴────────────────┴────────────────┴────────────────┴────────────────┘"
      ]
     },
     "execution_count": 42,
     "metadata": {},
     "output_type": "execute_result"
    }
   ],
   "source": [
    "# And use ORDER BY to sort the results\n",
    "\n",
    "ctx.execute(\"\"\"--sql\n",
    "    SELECT company_id, \n",
    "            AVG(max_salary) AS avg_max_salary, \n",
    "            AVG(min_salary) AS avg_min_salary, \n",
    "            MIN(min_salary) AS overall_min_salary,\n",
    "            MAX(max_salary) AS overall_max_salary, \n",
    "            COUNT(*) AS number_of_jobs\n",
    "    FROM job_postings\n",
    "    WHERE company_id IS NOT NULL AND max_salary IS NOT NULL\n",
    "    GROUP BY company_id\n",
    "    ORDER BY avg_max_salary DESC\n",
    "    LIMIT 5\n",
    "\"\"\")"
   ]
  },
  {
   "cell_type": "markdown",
   "metadata": {},
   "source": [
    "#### SQL Joins"
   ]
  },
  {
   "cell_type": "code",
   "execution_count": 44,
   "metadata": {},
   "outputs": [
    {
     "data": {
      "text/html": [
       "<div><style>\n",
       ".dataframe > thead > tr > th,\n",
       ".dataframe > tbody > tr > td {\n",
       "  text-align: right;\n",
       "  white-space: pre-wrap;\n",
       "}\n",
       "</style>\n",
       "<small>shape: (2, 5)</small><table border=\"1\" class=\"dataframe\"><thead><tr><th>company_id</th><th>name</th><th>company_size</th><th>city</th><th>country</th></tr><tr><td>i64</td><td>str</td><td>i64</td><td>str</td><td>str</td></tr></thead><tbody><tr><td>1009</td><td>&quot;IBM&quot;</td><td>7</td><td>&quot;Armonk, New York&quot;</td><td>&quot;US&quot;</td></tr><tr><td>1016</td><td>&quot;GE HealthCare&quot;</td><td>7</td><td>&quot;Chicago&quot;</td><td>&quot;US&quot;</td></tr></tbody></table></div>"
      ],
      "text/plain": [
       "shape: (2, 5)\n",
       "┌────────────┬───────────────┬──────────────┬──────────────────┬─────────┐\n",
       "│ company_id ┆ name          ┆ company_size ┆ city             ┆ country │\n",
       "│ ---        ┆ ---           ┆ ---          ┆ ---              ┆ ---     │\n",
       "│ i64        ┆ str           ┆ i64          ┆ str              ┆ str     │\n",
       "╞════════════╪═══════════════╪══════════════╪══════════════════╪═════════╡\n",
       "│ 1009       ┆ IBM           ┆ 7            ┆ Armonk, New York ┆ US      │\n",
       "│ 1016       ┆ GE HealthCare ┆ 7            ┆ Chicago          ┆ US      │\n",
       "└────────────┴───────────────┴──────────────┴──────────────────┴─────────┘"
      ]
     },
     "execution_count": 44,
     "metadata": {},
     "output_type": "execute_result"
    }
   ],
   "source": [
    "# We can join tables with the JOIN statement\n",
    "# Let's take a look at a few rows of the companies table\n",
    "\n",
    "ctx.execute(\"\"\"--sql\n",
    "    SELECT company_id, name, company_size, city, country\n",
    "    FROM companies\n",
    "    LIMIT 2\n",
    "\"\"\")"
   ]
  },
  {
   "cell_type": "code",
   "execution_count": 53,
   "metadata": {},
   "outputs": [
    {
     "data": {
      "text/html": [
       "<div><style>\n",
       ".dataframe > thead > tr > th,\n",
       ".dataframe > tbody > tr > td {\n",
       "  text-align: right;\n",
       "  white-space: pre-wrap;\n",
       "}\n",
       "</style>\n",
       "<small>shape: (5, 6)</small><table border=\"1\" class=\"dataframe\"><thead><tr><th>name</th><th>avg_max_salary</th><th>avg_min_salary</th><th>overall_min_salary</th><th>overall_max_salary</th><th>number_of_jobs</th></tr><tr><td>str</td><td>f64</td><td>f64</td><td>f64</td><td>f64</td><td>u32</td></tr></thead><tbody><tr><td>&quot;Goliath Partners&quot;</td><td>766666.6666666666</td><td>466666.6666666667</td><td>300000</td><td>1300000</td><td>3</td></tr><tr><td>&quot;Selby Jennings&quot;</td><td>743750</td><td>431250</td><td>175000</td><td>1100000</td><td>4</td></tr><tr><td>&quot;Summit Funding, Inc.&quot;</td><td>675000</td><td>50000</td><td>50000</td><td>675000</td><td>9</td></tr><tr><td>&quot;Culver Careers (CulverCareers…</td><td>500000</td><td>50000</td><td>50000</td><td>500000</td><td>1</td></tr><tr><td>&quot;Spotter&quot;</td><td>500000</td><td>90000</td><td>70000</td><td>500000</td><td>3</td></tr></tbody></table></div>"
      ],
      "text/plain": [
       "shape: (5, 6)\n",
       "┌────────────────┬────────────────┬────────────────┬───────────────┬───────────────┬───────────────┐\n",
       "│ name           ┆ avg_max_salary ┆ avg_min_salary ┆ overall_min_s ┆ overall_max_s ┆ number_of_job │\n",
       "│ ---            ┆ ---            ┆ ---            ┆ alary         ┆ alary         ┆ s             │\n",
       "│ str            ┆ f64            ┆ f64            ┆ ---           ┆ ---           ┆ ---           │\n",
       "│                ┆                ┆                ┆ f64           ┆ f64           ┆ u32           │\n",
       "╞════════════════╪════════════════╪════════════════╪═══════════════╪═══════════════╪═══════════════╡\n",
       "│ Goliath        ┆ 766666.6666666 ┆ 466666.6666666 ┆ 300000        ┆ 1300000       ┆ 3             │\n",
       "│ Partners       ┆ 666            ┆ 667            ┆               ┆               ┆               │\n",
       "│ Selby Jennings ┆ 743750         ┆ 431250         ┆ 175000        ┆ 1100000       ┆ 4             │\n",
       "│ Summit         ┆ 675000         ┆ 50000          ┆ 50000         ┆ 675000        ┆ 9             │\n",
       "│ Funding, Inc.  ┆                ┆                ┆               ┆               ┆               │\n",
       "│ Culver Careers ┆ 500000         ┆ 50000          ┆ 50000         ┆ 500000        ┆ 1             │\n",
       "│ (CulverCareers ┆                ┆                ┆               ┆               ┆               │\n",
       "│ .…             ┆                ┆                ┆               ┆               ┆               │\n",
       "│ Spotter        ┆ 500000         ┆ 90000          ┆ 70000         ┆ 500000        ┆ 3             │\n",
       "└────────────────┴────────────────┴────────────────┴───────────────┴───────────────┴───────────────┘"
      ]
     },
     "execution_count": 53,
     "metadata": {},
     "output_type": "execute_result"
    }
   ],
   "source": [
    "# Join the job_postings table with the companies table on the company_id column\n",
    "# Replace company_id with company name\n",
    "\n",
    "ctx.execute(\"\"\"--sql\n",
    "    SELECT companies.name, \n",
    "            AVG(job_postings.max_salary) AS avg_max_salary, \n",
    "            AVG(job_postings.min_salary) AS avg_min_salary, \n",
    "            MIN(job_postings.min_salary) AS overall_min_salary,\n",
    "            MAX(job_postings.max_salary) AS overall_max_salary, \n",
    "            COUNT(*) AS number_of_jobs\n",
    "    FROM job_postings\n",
    "    JOIN companies\n",
    "    ON job_postings.company_id = companies.company_id\n",
    "    WHERE job_postings.company_id IS NOT NULL AND job_postings.max_salary IS NOT NULL\n",
    "    GROUP BY companies.name\n",
    "    ORDER BY avg_max_salary DESC\n",
    "    LIMIT 5\n",
    "\"\"\")"
   ]
  },
  {
   "cell_type": "code",
   "execution_count": 58,
   "metadata": {},
   "outputs": [
    {
     "data": {
      "text/html": [
       "<div><style>\n",
       ".dataframe > thead > tr > th,\n",
       ".dataframe > tbody > tr > td {\n",
       "  text-align: right;\n",
       "  white-space: pre-wrap;\n",
       "}\n",
       "</style>\n",
       "<small>shape: (5, 4)</small><table border=\"1\" class=\"dataframe\"><thead><tr><th>country</th><th>avg_max_salary</th><th>avg_min_salary</th><th>number_of_jobs</th></tr><tr><td>str</td><td>f64</td><td>f64</td><td>u32</td></tr></thead><tbody><tr><td>&quot;US&quot;</td><td>87895</td><td>61800</td><td>14014</td></tr><tr><td>&quot;GB&quot;</td><td>117293</td><td>88859</td><td>407</td></tr><tr><td>&quot;CA&quot;</td><td>40847</td><td>32098</td><td>161</td></tr><tr><td>&quot;IN&quot;</td><td>65445</td><td>58359</td><td>92</td></tr><tr><td>&quot;DE&quot;</td><td>174190</td><td>94774</td><td>85</td></tr></tbody></table></div>"
      ],
      "text/plain": [
       "shape: (5, 4)\n",
       "┌─────────┬────────────────┬────────────────┬────────────────┐\n",
       "│ country ┆ avg_max_salary ┆ avg_min_salary ┆ number_of_jobs │\n",
       "│ ---     ┆ ---            ┆ ---            ┆ ---            │\n",
       "│ str     ┆ f64            ┆ f64            ┆ u32            │\n",
       "╞═════════╪════════════════╪════════════════╪════════════════╡\n",
       "│ US      ┆ 87895          ┆ 61800          ┆ 14014          │\n",
       "│ GB      ┆ 117293         ┆ 88859          ┆ 407            │\n",
       "│ CA      ┆ 40847          ┆ 32098          ┆ 161            │\n",
       "│ IN      ┆ 65445          ┆ 58359          ┆ 92             │\n",
       "│ DE      ┆ 174190         ┆ 94774          ┆ 85             │\n",
       "└─────────┴────────────────┴────────────────┴────────────────┘"
      ]
     },
     "execution_count": 58,
     "metadata": {},
     "output_type": "execute_result"
    }
   ],
   "source": [
    "# Group the table to see average maximum and minimum salaries, plus number of posts by country\n",
    "\n",
    "ctx.execute(\"\"\"--sql\n",
    "    SELECT companies.country,\n",
    "            ROUND(AVG(job_postings.max_salary),0) AS avg_max_salary,\n",
    "            ROUND(AVG(job_postings.min_salary),0) AS avg_min_salary,\n",
    "            COUNT(*) AS number_of_jobs\n",
    "    FROM job_postings\n",
    "    LEFT JOIN companies\n",
    "    ON job_postings.company_id = companies.company_id\n",
    "    WHERE companies.country IS NOT NULL AND companies.country <> '0'\n",
    "    GROUP BY companies.country\n",
    "    ORDER BY number_of_jobs DESC\n",
    "    LIMIT 5\n",
    "\"\"\")"
   ]
  },
  {
   "cell_type": "markdown",
   "metadata": {},
   "source": [
    "#### Common Table Expressions (CTE)"
   ]
  },
  {
   "cell_type": "code",
   "execution_count": 70,
   "metadata": {},
   "outputs": [
    {
     "data": {
      "text/html": [
       "<div><style>\n",
       ".dataframe > thead > tr > th,\n",
       ".dataframe > tbody > tr > td {\n",
       "  text-align: right;\n",
       "  white-space: pre-wrap;\n",
       "}\n",
       "</style>\n",
       "<small>shape: (5, 2)</small><table border=\"1\" class=\"dataframe\"><thead><tr><th>number_of_jobs_posted</th><th>number_of_companies</th></tr><tr><td>u32</td><td>u32</td></tr></thead><tbody><tr><td>1</td><td>4008</td></tr><tr><td>2</td><td>815</td></tr><tr><td>3</td><td>391</td></tr><tr><td>4</td><td>214</td></tr><tr><td>5</td><td>115</td></tr></tbody></table></div>"
      ],
      "text/plain": [
       "shape: (5, 2)\n",
       "┌───────────────────────┬─────────────────────┐\n",
       "│ number_of_jobs_posted ┆ number_of_companies │\n",
       "│ ---                   ┆ ---                 │\n",
       "│ u32                   ┆ u32                 │\n",
       "╞═══════════════════════╪═════════════════════╡\n",
       "│ 1                     ┆ 4008                │\n",
       "│ 2                     ┆ 815                 │\n",
       "│ 3                     ┆ 391                 │\n",
       "│ 4                     ┆ 214                 │\n",
       "│ 5                     ┆ 115                 │\n",
       "└───────────────────────┴─────────────────────┘"
      ]
     },
     "execution_count": 70,
     "metadata": {},
     "output_type": "execute_result"
    }
   ],
   "source": [
    "# We can use Common Table Expressions (CTE) to create temporary tables\n",
    "# Here we calculate the number of companies with 1 job posted, the number of companies with 2 jobs posted, etc.\n",
    "\n",
    "ctx.execute(\"\"\"--sql\n",
    "    WITH number_of_job_postings_by_company AS (\n",
    "            SELECT company_id, COUNT(*) AS number_of_jobs_posted\n",
    "            FROM job_postings\n",
    "            WHERE company_id IS NOT NULL\n",
    "            GROUP BY company_id\n",
    "            )\n",
    "    SELECT number_of_jobs_posted, COUNT(company_id) AS number_of_companies\n",
    "    FROM number_of_job_postings_by_company\n",
    "    GROUP BY number_of_jobs_posted\n",
    "    ORDER BY number_of_companies DESC\n",
    "    LIMIT 5\n",
    "\"\"\")"
   ]
  },
  {
   "cell_type": "markdown",
   "metadata": {},
   "source": [
    "#### Window functions"
   ]
  },
  {
   "cell_type": "code",
   "execution_count": 90,
   "metadata": {},
   "outputs": [
    {
     "data": {
      "text/html": [
       "<div><style>\n",
       ".dataframe > thead > tr > th,\n",
       ".dataframe > tbody > tr > td {\n",
       "  text-align: right;\n",
       "  white-space: pre-wrap;\n",
       "}\n",
       "</style>\n",
       "<small>shape: (5, 5)</small><table border=\"1\" class=\"dataframe\"><thead><tr><th>company_id</th><th>title</th><th>max_salary</th><th>avg_max_salary_company</th><th>ratio</th></tr><tr><td>i64</td><td>str</td><td>f64</td><td>f64</td><td>f64</td></tr></thead><tbody><tr><td>92699700</td><td>&quot;Quantitative Developer&quot;</td><td>1300000</td><td>766667</td><td>2</td></tr><tr><td>106584</td><td>&quot;Fintech Startup | Tech Lead M…</td><td>1100000</td><td>743750</td><td>1</td></tr><tr><td>106584</td><td>&quot;Tech Lead Manager (L6-L8) | D…</td><td>1000000</td><td>743750</td><td>1</td></tr><tr><td>1792</td><td>&quot;Faculty Affairs Administrator…</td><td>792921</td><td>192740</td><td>4</td></tr><tr><td>106584</td><td>&quot;Quantitative Prop Trading Fir…</td><td>700000</td><td>743750</td><td>1</td></tr></tbody></table></div>"
      ],
      "text/plain": [
       "shape: (5, 5)\n",
       "┌────────────┬─────────────────────────────────┬────────────┬────────────────────────┬───────┐\n",
       "│ company_id ┆ title                           ┆ max_salary ┆ avg_max_salary_company ┆ ratio │\n",
       "│ ---        ┆ ---                             ┆ ---        ┆ ---                    ┆ ---   │\n",
       "│ i64        ┆ str                             ┆ f64        ┆ f64                    ┆ f64   │\n",
       "╞════════════╪═════════════════════════════════╪════════════╪════════════════════════╪═══════╡\n",
       "│ 92699700   ┆ Quantitative Developer          ┆ 1300000    ┆ 766667                 ┆ 2     │\n",
       "│ 106584     ┆ Fintech Startup | Tech Lead Ma… ┆ 1100000    ┆ 743750                 ┆ 1     │\n",
       "│ 106584     ┆ Tech Lead Manager (L6-L8) | Di… ┆ 1000000    ┆ 743750                 ┆ 1     │\n",
       "│ 1792       ┆ Faculty Affairs Administrator … ┆ 792921     ┆ 192740                 ┆ 4     │\n",
       "│ 106584     ┆ Quantitative Prop Trading Firm… ┆ 700000     ┆ 743750                 ┆ 1     │\n",
       "└────────────┴─────────────────────────────────┴────────────┴────────────────────────┴───────┘"
      ]
     },
     "execution_count": 90,
     "metadata": {},
     "output_type": "execute_result"
    }
   ],
   "source": [
    "# Use window function OVER to compare the maximum salary of each position to the average maximum of the company\n",
    "\n",
    "ctx.execute(\"\"\"--sql\n",
    "    SELECT company_id,\n",
    "            title, \n",
    "            max_salary, \n",
    "            ROUND(AVG(max_salary) OVER (PARTITION BY company_id),0) AS avg_max_salary_company,\n",
    "            ROUND(max_salary / (AVG(max_salary) OVER (PARTITION BY company_id)),0) AS ratio\n",
    "    FROM job_postings\n",
    "    WHERE max_salary IS NOT NULL AND company_id IS NOT NULL\n",
    "    ORDER BY max_salary DESC\n",
    "    LIMIT 5\n",
    "\"\"\")"
   ]
  },
  {
   "cell_type": "markdown",
   "metadata": {},
   "source": [
    "#### Convert SQL to Polars expressions"
   ]
  },
  {
   "cell_type": "code",
   "execution_count": 98,
   "metadata": {},
   "outputs": [
    {
     "data": {
      "text/html": [
       "<div><style>\n",
       ".dataframe > thead > tr > th,\n",
       ".dataframe > tbody > tr > td {\n",
       "  text-align: right;\n",
       "  white-space: pre-wrap;\n",
       "}\n",
       "</style>\n",
       "<small>shape: (5, 4)</small><table border=\"1\" class=\"dataframe\"><thead><tr><th>company_id</th><th>title</th><th>max_salary</th><th>avg_max_salary_company</th></tr><tr><td>i64</td><td>str</td><td>f64</td><td>f64</td></tr></thead><tbody><tr><td>92699700</td><td>&quot;Quantitative Developer&quot;</td><td>1300000</td><td>766667</td></tr><tr><td>106584</td><td>&quot;Fintech Startup | Tech Lead M…</td><td>1100000</td><td>743750</td></tr><tr><td>106584</td><td>&quot;Tech Lead Manager (L6-L8) | D…</td><td>1000000</td><td>743750</td></tr><tr><td>1792</td><td>&quot;Faculty Affairs Administrator…</td><td>792921</td><td>192740</td></tr><tr><td>106584</td><td>&quot;Quantitative Prop Trading Fir…</td><td>700000</td><td>743750</td></tr></tbody></table></div>"
      ],
      "text/plain": [
       "shape: (5, 4)\n",
       "┌────────────┬─────────────────────────────────┬────────────┬────────────────────────┐\n",
       "│ company_id ┆ title                           ┆ max_salary ┆ avg_max_salary_company │\n",
       "│ ---        ┆ ---                             ┆ ---        ┆ ---                    │\n",
       "│ i64        ┆ str                             ┆ f64        ┆ f64                    │\n",
       "╞════════════╪═════════════════════════════════╪════════════╪════════════════════════╡\n",
       "│ 92699700   ┆ Quantitative Developer          ┆ 1300000    ┆ 766667                 │\n",
       "│ 106584     ┆ Fintech Startup | Tech Lead Ma… ┆ 1100000    ┆ 743750                 │\n",
       "│ 106584     ┆ Tech Lead Manager (L6-L8) | Di… ┆ 1000000    ┆ 743750                 │\n",
       "│ 1792       ┆ Faculty Affairs Administrator … ┆ 792921     ┆ 192740                 │\n",
       "│ 106584     ┆ Quantitative Prop Trading Firm… ┆ 700000     ┆ 743750                 │\n",
       "└────────────┴─────────────────────────────────┴────────────┴────────────────────────┘"
      ]
     },
     "execution_count": 98,
     "metadata": {},
     "output_type": "execute_result"
    }
   ],
   "source": [
    "# We can convert SQL expression to Polars expressions and use them inside a select or with_column context\n",
    "\n",
    "(\n",
    "    job_postings.select(\n",
    "        \"company_id\",\n",
    "        \"title\",\n",
    "        \"max_salary\",\n",
    "        pl.sql_expr(\"ROUND(AVG(max_salary) OVER (PARTITION BY company_id),0) AS avg_max_salary_company\")\n",
    "    )\n",
    "    .filter(pl.col('max_salary').is_not_null() & pl.col('company_id').is_not_null())\n",
    "    .sort(by='max_salary', descending=True)\n",
    "    .head(5)\n",
    ").collect()"
   ]
  },
  {
   "cell_type": "code",
   "execution_count": null,
   "metadata": {},
   "outputs": [],
   "source": []
  }
 ],
 "metadata": {
  "kernelspec": {
   "display_name": "Python 3",
   "language": "python",
   "name": "python3"
  },
  "language_info": {
   "codemirror_mode": {
    "name": "ipython",
    "version": 3
   },
   "file_extension": ".py",
   "mimetype": "text/x-python",
   "name": "python",
   "nbconvert_exporter": "python",
   "pygments_lexer": "ipython3",
   "version": "3.10.12"
  },
  "orig_nbformat": 4,
  "vscode": {
   "interpreter": {
    "hash": "c823e8cd4eb93d0837f70656db2757dcd2f793adbe4317f23abcc1abff9ce7b8"
   }
  }
 },
 "nbformat": 4,
 "nbformat_minor": 2
}
