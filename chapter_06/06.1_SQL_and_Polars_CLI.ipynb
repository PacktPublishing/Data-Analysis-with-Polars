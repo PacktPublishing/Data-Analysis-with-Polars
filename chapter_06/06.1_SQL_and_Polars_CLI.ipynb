{
 "cells": [
  {
   "attachments": {},
   "cell_type": "markdown",
   "metadata": {},
   "source": [
    "### Polars SQL and Command-Line Interface (CLI)"
   ]
  },
  {
   "attachments": {},
   "cell_type": "markdown",
   "metadata": {},
   "source": [
    "The examples below use `.head()` to reduce the output to a few rows and take up less space.\n",
    "If you want the full output, remove `.head()` from the code\n",
    "\n",
    "This notebooked is divided into sections. If your code editor supports it, you can use the **Outline** functionality to easily go to the code section you are interested in.\n",
    "\n",
    "For more details on Polars functions, check out the Polars API reference: https://pola-rs.github.io/polars/py-polars/html/reference/index.html"
   ]
  },
  {
   "cell_type": "code",
   "execution_count": 2,
   "metadata": {},
   "outputs": [],
   "source": [
    "import polars as pl"
   ]
  },
  {
   "cell_type": "code",
   "execution_count": 48,
   "metadata": {},
   "outputs": [
    {
     "data": {
      "text/plain": [
       "polars.config.Config"
      ]
     },
     "execution_count": 48,
     "metadata": {},
     "output_type": "execute_result"
    }
   ],
   "source": [
    "# Configure the number of characters to show for each string column, plus the display format for float columns\n",
    "pl.Config.set_fmt_str_lengths(30)\n",
    "pl.Config.set_fmt_float(\"full\")"
   ]
  },
  {
   "cell_type": "code",
   "execution_count": 14,
   "metadata": {},
   "outputs": [],
   "source": [
    "# Scan 3 tables for the job postings dataset\n",
    "job_postings = pl.scan_csv(\"../datasets/job_postings/job_postings_simplified.csv\")\n",
    "job_skills = pl.scan_csv(\"../datasets/job_postings/job_details/job_skills.csv\")\n",
    "companies = pl.scan_csv(\"../datasets/job_postings/company_details/companies.csv\")"
   ]
  },
  {
   "attachments": {},
   "cell_type": "markdown",
   "metadata": {},
   "source": [
    "#### Create a SQL context and query dataframes"
   ]
  },
  {
   "cell_type": "code",
   "execution_count": 23,
   "metadata": {},
   "outputs": [],
   "source": [
    "# Create a SQL context, register all Polars dataframes and lazyframes, and automatically collect the result\n",
    "ctx = pl.SQLContext(register_globals=True, eager_execution=True)"
   ]
  },
  {
   "cell_type": "code",
   "execution_count": 24,
   "metadata": {},
   "outputs": [
    {
     "data": {
      "text/html": [
       "<div><style>\n",
       ".dataframe > thead > tr > th,\n",
       ".dataframe > tbody > tr > td {\n",
       "  text-align: right;\n",
       "  white-space: pre-wrap;\n",
       "}\n",
       "</style>\n",
       "<small>shape: (5, 6)</small><table border=\"1\" class=\"dataframe\"><thead><tr><th>job_id</th><th>company_id</th><th>title</th><th>max_salary</th><th>min_salary</th><th>location</th></tr><tr><td>i64</td><td>i64</td><td>str</td><td>f64</td><td>f64</td><td>str</td></tr></thead><tbody><tr><td>85008768</td><td>null</td><td>&quot;Licensed Insurance Agent&quot;</td><td>52000.0</td><td>45760.0</td><td>&quot;Chico, CA&quot;</td></tr><tr><td>133114754</td><td>77766802</td><td>&quot;Sales Manager&quot;</td><td>null</td><td>null</td><td>&quot;Santa Clarita, CA&quot;</td></tr><tr><td>133196985</td><td>1089558</td><td>&quot;Model Risk Auditor&quot;</td><td>null</td><td>null</td><td>&quot;New York, NY&quot;</td></tr><tr><td>381055942</td><td>96654609</td><td>&quot;Business Manager&quot;</td><td>null</td><td>null</td><td>&quot;Forney, TX&quot;</td></tr><tr><td>529257371</td><td>1244539</td><td>&quot;NY Studio Assistant&quot;</td><td>null</td><td>null</td><td>&quot;New York, NY&quot;</td></tr></tbody></table></div>"
      ],
      "text/plain": [
       "shape: (5, 6)\n",
       "┌───────────┬────────────┬──────────────────────────┬────────────┬────────────┬───────────────────┐\n",
       "│ job_id    ┆ company_id ┆ title                    ┆ max_salary ┆ min_salary ┆ location          │\n",
       "│ ---       ┆ ---        ┆ ---                      ┆ ---        ┆ ---        ┆ ---               │\n",
       "│ i64       ┆ i64        ┆ str                      ┆ f64        ┆ f64        ┆ str               │\n",
       "╞═══════════╪════════════╪══════════════════════════╪════════════╪════════════╪═══════════════════╡\n",
       "│ 85008768  ┆ null       ┆ Licensed Insurance Agent ┆ 52000.0    ┆ 45760.0    ┆ Chico, CA         │\n",
       "│ 133114754 ┆ 77766802   ┆ Sales Manager            ┆ null       ┆ null       ┆ Santa Clarita, CA │\n",
       "│ 133196985 ┆ 1089558    ┆ Model Risk Auditor       ┆ null       ┆ null       ┆ New York, NY      │\n",
       "│ 381055942 ┆ 96654609   ┆ Business Manager         ┆ null       ┆ null       ┆ Forney, TX        │\n",
       "│ 529257371 ┆ 1244539    ┆ NY Studio Assistant      ┆ null       ┆ null       ┆ New York, NY      │\n",
       "└───────────┴────────────┴──────────────────────────┴────────────┴────────────┴───────────────────┘"
      ]
     },
     "execution_count": 24,
     "metadata": {},
     "output_type": "execute_result"
    }
   ],
   "source": [
    "ctx.execute(\"\"\"--sql\n",
    "    SELECT *\n",
    "    from job_postings\n",
    "    LIMIT 5\n",
    "\"\"\") "
   ]
  },
  {
   "cell_type": "code",
   "execution_count": 26,
   "metadata": {},
   "outputs": [],
   "source": [
    "# We can register the dataframes one by one in the SQL Context\n",
    "ctx = pl.SQLContext(\n",
    "    job_postings=job_postings,\n",
    "    job_skills=job_skills,\n",
    "    eager_execution=True\n",
    ")"
   ]
  },
  {
   "cell_type": "code",
   "execution_count": 29,
   "metadata": {},
   "outputs": [
    {
     "data": {
      "text/plain": [
       "<SQLContext [tables:3] at 0x7f1c9da8efb0>"
      ]
     },
     "execution_count": 29,
     "metadata": {},
     "output_type": "execute_result"
    }
   ],
   "source": [
    "# After the SQLContext is initialized, we register additional tables or unregister tables with:\n",
    "# register, register_globals, register_many, unregister\n",
    "\n",
    "ctx.register(\"companies\", companies)"
   ]
  },
  {
   "cell_type": "code",
   "execution_count": 31,
   "metadata": {},
   "outputs": [
    {
     "data": {
      "text/html": [
       "<div><style>\n",
       ".dataframe > thead > tr > th,\n",
       ".dataframe > tbody > tr > td {\n",
       "  text-align: right;\n",
       "  white-space: pre-wrap;\n",
       "}\n",
       "</style>\n",
       "<small>shape: (3, 1)</small><table border=\"1\" class=\"dataframe\"><thead><tr><th>name</th></tr><tr><td>str</td></tr></thead><tbody><tr><td>&quot;companies&quot;</td></tr><tr><td>&quot;job_postings&quot;</td></tr><tr><td>&quot;job_skills&quot;</td></tr></tbody></table></div>"
      ],
      "text/plain": [
       "shape: (3, 1)\n",
       "┌──────────────┐\n",
       "│ name         │\n",
       "│ ---          │\n",
       "│ str          │\n",
       "╞══════════════╡\n",
       "│ companies    │\n",
       "│ job_postings │\n",
       "│ job_skills   │\n",
       "└──────────────┘"
      ]
     },
     "execution_count": 31,
     "metadata": {},
     "output_type": "execute_result"
    }
   ],
   "source": [
    "# We can check the registered tables with SQL\n",
    "\n",
    "ctx.execute(\"\"\"--sql\n",
    "    SHOW TABLES\n",
    "\"\"\") "
   ]
  },
  {
   "cell_type": "code",
   "execution_count": 40,
   "metadata": {},
   "outputs": [
    {
     "data": {
      "text/plain": [
       "['companies', 'job_postings', 'job_skills']"
      ]
     },
     "execution_count": 40,
     "metadata": {},
     "output_type": "execute_result"
    }
   ],
   "source": [
    "# We can also check the registered tables with Python\n",
    "\n",
    "ctx.tables()"
   ]
  },
  {
   "cell_type": "code",
   "execution_count": 38,
   "metadata": {},
   "outputs": [
    {
     "data": {
      "text/html": [
       "<div><style>\n",
       ".dataframe > thead > tr > th,\n",
       ".dataframe > tbody > tr > td {\n",
       "  text-align: right;\n",
       "  white-space: pre-wrap;\n",
       "}\n",
       "</style>\n",
       "<small>shape: (3, 2)</small><table border=\"1\" class=\"dataframe\"><thead><tr><th>name</th><th>age</th></tr><tr><td>str</td><td>i64</td></tr></thead><tbody><tr><td>&quot;John&quot;</td><td>24</td></tr><tr><td>&quot;Jane&quot;</td><td>25</td></tr><tr><td>&quot;Alice&quot;</td><td>26</td></tr></tbody></table></div>"
      ],
      "text/plain": [
       "shape: (3, 2)\n",
       "┌───────┬─────┐\n",
       "│ name  ┆ age │\n",
       "│ ---   ┆ --- │\n",
       "│ str   ┆ i64 │\n",
       "╞═══════╪═════╡\n",
       "│ John  ┆ 24  │\n",
       "│ Jane  ┆ 25  │\n",
       "│ Alice ┆ 26  │\n",
       "└───────┴─────┘"
      ]
     },
     "execution_count": 38,
     "metadata": {},
     "output_type": "execute_result"
    }
   ],
   "source": [
    "# We are not limited to querying Polars dataframes. We can query Pandas dataframes as well\n",
    "import pandas as pd\n",
    "\n",
    "users = pd.DataFrame({\n",
    "    \"name\": [\"John\", \"Jane\", \"Alice\"],\n",
    "    \"age\": [24, 25, 26]\n",
    "})\n",
    "\n",
    "ctx.register(\"users\", pl.from_pandas(users))\n",
    "\n",
    "ctx.execute(\"\"\"--sql\n",
    "    SELECT *\n",
    "    FROM users\n",
    "\"\"\")"
   ]
  },
  {
   "cell_type": "code",
   "execution_count": 39,
   "metadata": {},
   "outputs": [
    {
     "data": {
      "text/plain": [
       "<SQLContext [tables:3] at 0x7f1c9da8efb0>"
      ]
     },
     "execution_count": 39,
     "metadata": {},
     "output_type": "execute_result"
    }
   ],
   "source": [
    "# We unregister the Pandas dataframe with unregister\n",
    "\n",
    "ctx.unregister(\"users\")"
   ]
  },
  {
   "cell_type": "code",
   "execution_count": 41,
   "metadata": {},
   "outputs": [
    {
     "data": {
      "text/html": [
       "<div><style>\n",
       ".dataframe > thead > tr > th,\n",
       ".dataframe > tbody > tr > td {\n",
       "  text-align: right;\n",
       "  white-space: pre-wrap;\n",
       "}\n",
       "</style>\n",
       "<small>shape: (5, 3)</small><table border=\"1\" class=\"dataframe\"><thead><tr><th>title</th><th>max_salary</th><th>min_salary</th></tr><tr><td>str</td><td>f64</td><td>f64</td></tr></thead><tbody><tr><td>&quot;Licensed Insurance Agent&quot;</td><td>52000.0</td><td>45760.0</td></tr><tr><td>&quot;Sales Manager&quot;</td><td>null</td><td>null</td></tr><tr><td>&quot;Model Risk Auditor&quot;</td><td>null</td><td>null</td></tr><tr><td>&quot;Business Manager&quot;</td><td>null</td><td>null</td></tr><tr><td>&quot;NY Studio Assistant&quot;</td><td>null</td><td>null</td></tr></tbody></table></div>"
      ],
      "text/plain": [
       "shape: (5, 3)\n",
       "┌──────────────────────────┬────────────┬────────────┐\n",
       "│ title                    ┆ max_salary ┆ min_salary │\n",
       "│ ---                      ┆ ---        ┆ ---        │\n",
       "│ str                      ┆ f64        ┆ f64        │\n",
       "╞══════════════════════════╪════════════╪════════════╡\n",
       "│ Licensed Insurance Agent ┆ 52000.0    ┆ 45760.0    │\n",
       "│ Sales Manager            ┆ null       ┆ null       │\n",
       "│ Model Risk Auditor       ┆ null       ┆ null       │\n",
       "│ Business Manager         ┆ null       ┆ null       │\n",
       "│ NY Studio Assistant      ┆ null       ┆ null       │\n",
       "└──────────────────────────┴────────────┴────────────┘"
      ]
     },
     "execution_count": 41,
     "metadata": {},
     "output_type": "execute_result"
    }
   ],
   "source": [
    "# We select which columns we want by passing the columns after SELECT\n",
    "\n",
    "ctx.execute(\"\"\"--sql\n",
    "    SELECT title, max_salary, min_salary\n",
    "    FROM job_postings\n",
    "    LIMIT 5\n",
    "\"\"\")"
   ]
  },
  {
   "cell_type": "code",
   "execution_count": 43,
   "metadata": {},
   "outputs": [
    {
     "data": {
      "text/html": [
       "<div><style>\n",
       ".dataframe > thead > tr > th,\n",
       ".dataframe > tbody > tr > td {\n",
       "  text-align: right;\n",
       "  white-space: pre-wrap;\n",
       "}\n",
       "</style>\n",
       "<small>shape: (5, 3)</small><table border=\"1\" class=\"dataframe\"><thead><tr><th>title</th><th>max_salary</th><th>min_salary</th></tr><tr><td>str</td><td>f64</td><td>f64</td></tr></thead><tbody><tr><td>&quot;Manager, Salesforce Platform&quot;</td><td>170976.0</td><td>98640.0</td></tr><tr><td>&quot;Clinic Managers - Physical Th…</td><td>117510.65</td><td>91010.65</td></tr><tr><td>&quot;Lead Software Engineer&quot;</td><td>190000.0</td><td>160000.0</td></tr><tr><td>&quot;Executive Director&quot;</td><td>110000.0</td><td>100000.0</td></tr><tr><td>&quot;Emergency Veterinarian&quot;</td><td>350000.0</td><td>200000.0</td></tr></tbody></table></div>"
      ],
      "text/plain": [
       "shape: (5, 3)\n",
       "┌─────────────────────────────────┬────────────┬────────────┐\n",
       "│ title                           ┆ max_salary ┆ min_salary │\n",
       "│ ---                             ┆ ---        ┆ ---        │\n",
       "│ str                             ┆ f64        ┆ f64        │\n",
       "╞═════════════════════════════════╪════════════╪════════════╡\n",
       "│ Manager, Salesforce Platform    ┆ 170976.0   ┆ 98640.0    │\n",
       "│ Clinic Managers - Physical The… ┆ 117510.65  ┆ 91010.65   │\n",
       "│ Lead Software Engineer          ┆ 190000.0   ┆ 160000.0   │\n",
       "│ Executive Director              ┆ 110000.0   ┆ 100000.0   │\n",
       "│ Emergency Veterinarian          ┆ 350000.0   ┆ 200000.0   │\n",
       "└─────────────────────────────────┴────────────┴────────────┘"
      ]
     },
     "execution_count": 43,
     "metadata": {},
     "output_type": "execute_result"
    }
   ],
   "source": [
    "# We filter rows with WHERE\n",
    "\n",
    "ctx.execute(\"\"\"--sql\n",
    "    SELECT title, max_salary, min_salary\n",
    "    FROM job_postings\n",
    "    WHERE max_salary > 100000 AND min_salary > 80000\n",
    "    LIMIT 5\n",
    "\"\"\")"
   ]
  },
  {
   "cell_type": "code",
   "execution_count": 49,
   "metadata": {},
   "outputs": [
    {
     "data": {
      "text/html": [
       "<div><style>\n",
       ".dataframe > thead > tr > th,\n",
       ".dataframe > tbody > tr > td {\n",
       "  text-align: right;\n",
       "  white-space: pre-wrap;\n",
       "}\n",
       "</style>\n",
       "<small>shape: (1, 5)</small><table border=\"1\" class=\"dataframe\"><thead><tr><th>sum_max_salary</th><th>avg_min_salary</th><th>overall_min_salary</th><th>overall_max_salary</th><th>number_of_jobs</th></tr><tr><td>f64</td><td>f64</td><td>f64</td><td>f64</td><td>u32</td></tr></thead><tbody><tr><td>487704282.28</td><td>62352.2180728129</td><td>10</td><td>1300000</td><td>15886</td></tr></tbody></table></div>"
      ],
      "text/plain": [
       "shape: (1, 5)\n",
       "┌────────────────┬──────────────────┬────────────────────┬────────────────────┬────────────────┐\n",
       "│ sum_max_salary ┆ avg_min_salary   ┆ overall_min_salary ┆ overall_max_salary ┆ number_of_jobs │\n",
       "│ ---            ┆ ---              ┆ ---                ┆ ---                ┆ ---            │\n",
       "│ f64            ┆ f64              ┆ f64                ┆ f64                ┆ u32            │\n",
       "╞════════════════╪══════════════════╪════════════════════╪════════════════════╪════════════════╡\n",
       "│ 487704282.28   ┆ 62352.2180728129 ┆ 10                 ┆ 1300000            ┆ 15886          │\n",
       "└────────────────┴──────────────────┴────────────────────┴────────────────────┴────────────────┘"
      ]
     },
     "execution_count": 49,
     "metadata": {},
     "output_type": "execute_result"
    }
   ],
   "source": [
    "# We can use calculation functions such as SUM, AVG, MIN, MAX, COUNT, etc.\n",
    "\n",
    "ctx.execute(\"\"\"--sql\n",
    "    SELECT SUM(max_salary) AS sum_max_salary, \n",
    "            AVG(min_salary) AS avg_min_salary, \n",
    "            MIN(min_salary) AS overall_min_salary,\n",
    "            MAX(max_salary) AS overall_max_salary, \n",
    "            COUNT(*) AS number_of_jobs\n",
    "    FROM job_postings\n",
    "\"\"\")"
   ]
  },
  {
   "cell_type": "code",
   "execution_count": 54,
   "metadata": {},
   "outputs": [
    {
     "data": {
      "text/html": [
       "<div><style>\n",
       ".dataframe > thead > tr > th,\n",
       ".dataframe > tbody > tr > td {\n",
       "  text-align: right;\n",
       "  white-space: pre-wrap;\n",
       "}\n",
       "</style>\n",
       "<small>shape: (5, 2)</small><table border=\"1\" class=\"dataframe\"><thead><tr><th>company_id</th><th>number_of_jobs</th></tr><tr><td>i64</td><td>u32</td></tr></thead><tbody><tr><td>13664</td><td>1</td></tr><tr><td>87720672</td><td>1</td></tr><tr><td>28863552</td><td>1</td></tr><tr><td>6592</td><td>20</td></tr><tr><td>44960</td><td>3</td></tr></tbody></table></div>"
      ],
      "text/plain": [
       "shape: (5, 2)\n",
       "┌────────────┬────────────────┐\n",
       "│ company_id ┆ number_of_jobs │\n",
       "│ ---        ┆ ---            │\n",
       "│ i64        ┆ u32            │\n",
       "╞════════════╪════════════════╡\n",
       "│ 13664      ┆ 1              │\n",
       "│ 87720672   ┆ 1              │\n",
       "│ 28863552   ┆ 1              │\n",
       "│ 6592       ┆ 20             │\n",
       "│ 44960      ┆ 3              │\n",
       "└────────────┴────────────────┘"
      ]
     },
     "execution_count": 54,
     "metadata": {},
     "output_type": "execute_result"
    }
   ],
   "source": [
    "# We can group rows with GROUP BY, for example group by company id\n",
    "\n",
    "ctx.execute(\"\"\"--sql\n",
    "    SELECT company_id, COUNT(*) AS number_of_jobs\n",
    "    FROM job_postings\n",
    "    WHERE company_id IS NOT NULL\n",
    "    GROUP BY company_id\n",
    "    LIMIT 5\n",
    "\"\"\")"
   ]
  },
  {
   "cell_type": "code",
   "execution_count": 53,
   "metadata": {},
   "outputs": [
    {
     "data": {
      "text/html": [
       "<div><style>\n",
       ".dataframe > thead > tr > th,\n",
       ".dataframe > tbody > tr > td {\n",
       "  text-align: right;\n",
       "  white-space: pre-wrap;\n",
       "}\n",
       "</style>\n",
       "<small>shape: (5, 2)</small><table border=\"1\" class=\"dataframe\"><thead><tr><th>company_id</th><th>number_of_jobs</th></tr><tr><td>i64</td><td>u32</td></tr></thead><tbody><tr><td>3570660</td><td>161</td></tr><tr><td>1103</td><td>113</td></tr><tr><td>11056</td><td>108</td></tr><tr><td>1586</td><td>93</td></tr><tr><td>1441</td><td>93</td></tr></tbody></table></div>"
      ],
      "text/plain": [
       "shape: (5, 2)\n",
       "┌────────────┬────────────────┐\n",
       "│ company_id ┆ number_of_jobs │\n",
       "│ ---        ┆ ---            │\n",
       "│ i64        ┆ u32            │\n",
       "╞════════════╪════════════════╡\n",
       "│ 3570660    ┆ 161            │\n",
       "│ 1103       ┆ 113            │\n",
       "│ 11056      ┆ 108            │\n",
       "│ 1586       ┆ 93             │\n",
       "│ 1441       ┆ 93             │\n",
       "└────────────┴────────────────┘"
      ]
     },
     "execution_count": 53,
     "metadata": {},
     "output_type": "execute_result"
    }
   ],
   "source": [
    "# And use ORDER BY to sort the results\n",
    "\n",
    "ctx.execute(\"\"\"--sql\n",
    "    SELECT company_id, COUNT(*) AS number_of_jobs\n",
    "    FROM job_postings\n",
    "    WHERE company_id IS NOT NULL\n",
    "    GROUP BY company_id\n",
    "    ORDER BY number_of_jobs DESC\n",
    "    LIMIT 5\n",
    "\"\"\")"
   ]
  },
  {
   "cell_type": "code",
   "execution_count": 55,
   "metadata": {},
   "outputs": [
    {
     "data": {
      "text/html": [
       "<div><style>\n",
       ".dataframe > thead > tr > th,\n",
       ".dataframe > tbody > tr > td {\n",
       "  text-align: right;\n",
       "  white-space: pre-wrap;\n",
       "}\n",
       "</style>\n",
       "<small>shape: (1, 1)</small><table border=\"1\" class=\"dataframe\"><thead><tr><th>avg_number_of_jobs_by_company</th></tr><tr><td>f64</td></tr></thead><tbody><tr><td>2.57379767827529</td></tr></tbody></table></div>"
      ],
      "text/plain": [
       "shape: (1, 1)\n",
       "┌───────────────────────────────┐\n",
       "│ avg_number_of_jobs_by_company │\n",
       "│ ---                           │\n",
       "│ f64                           │\n",
       "╞═══════════════════════════════╡\n",
       "│ 2.57379767827529              │\n",
       "└───────────────────────────────┘"
      ]
     },
     "execution_count": 55,
     "metadata": {},
     "output_type": "execute_result"
    }
   ],
   "source": [
    "# We can use Common Table Expressions (CTE) to create temporary tables\n",
    "\n",
    "ctx.execute(\"\"\"--sql\n",
    "    WITH number_of_job_postings_by_company AS (\n",
    "        SELECT company_id, COUNT(*) AS number_of_jobs\n",
    "        FROM job_postings\n",
    "        WHERE company_id IS NOT NULL\n",
    "        GROUP BY company_id\n",
    "    )\n",
    "    SELECT AVG(number_of_jobs) AS avg_number_of_jobs_by_company\n",
    "    FROM number_of_job_postings_by_company\n",
    "\"\"\")"
   ]
  },
  {
   "cell_type": "code",
   "execution_count": null,
   "metadata": {},
   "outputs": [],
   "source": []
  }
 ],
 "metadata": {
  "kernelspec": {
   "display_name": "Python 3",
   "language": "python",
   "name": "python3"
  },
  "language_info": {
   "codemirror_mode": {
    "name": "ipython",
    "version": 3
   },
   "file_extension": ".py",
   "mimetype": "text/x-python",
   "name": "python",
   "nbconvert_exporter": "python",
   "pygments_lexer": "ipython3",
   "version": "3.10.12"
  },
  "orig_nbformat": 4,
  "vscode": {
   "interpreter": {
    "hash": "c823e8cd4eb93d0837f70656db2757dcd2f793adbe4317f23abcc1abff9ce7b8"
   }
  }
 },
 "nbformat": 4,
 "nbformat_minor": 2
}
