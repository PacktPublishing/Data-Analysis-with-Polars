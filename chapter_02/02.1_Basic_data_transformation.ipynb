{
 "cells": [
  {
   "attachments": {},
   "cell_type": "markdown",
   "metadata": {},
   "source": [
    "### Polars data analysis and transformation"
   ]
  },
  {
   "attachments": {},
   "cell_type": "markdown",
   "metadata": {},
   "source": [
    "The examples below use `.head()` to reduce the output to a few rows and take up less space.\n",
    "If you want the full output, remove `.head()` from the code\n",
    "\n",
    "This notebooked is divided into sections. If your code editor supports it, you can use the **Outline** functionality to easily go to the code section you are interested in.\n",
    "\n",
    "For more details on Polars functions, check out the Polars API reference: https://pola-rs.github.io/polars/py-polars/html/reference/index.html"
   ]
  },
  {
   "cell_type": "code",
   "execution_count": 1,
   "metadata": {},
   "outputs": [],
   "source": [
    "import polars as pl"
   ]
  },
  {
   "cell_type": "code",
   "execution_count": 2,
   "metadata": {},
   "outputs": [
    {
     "data": {
      "text/plain": [
       "polars.config.Config"
      ]
     },
     "execution_count": 2,
     "metadata": {},
     "output_type": "execute_result"
    }
   ],
   "source": [
    "# Configure the number of characters to show for each string column\n",
    "pl.Config.set_fmt_str_lengths(30)"
   ]
  },
  {
   "cell_type": "code",
   "execution_count": 3,
   "metadata": {},
   "outputs": [],
   "source": [
    "# Create a sample dataset for videogames reviews\n",
    "data = {\n",
    "    \"title\": [\"Super Mario\", \"Zelda\", \"Super Mario\", None, \"Halo Infinite\", \"Zelda\"],\n",
    "    \"rating\": [9.5, 10, 9.5, None, 9, 8],\n",
    "    \"review_date\": [\n",
    "        \"2023-01-15\",\n",
    "        \"2023-01-20\",\n",
    "        \"2023-01-15\",\n",
    "        None,\n",
    "        \"2023-02-01\",\n",
    "        \"2023-03-01\",\n",
    "    ],\n",
    "    \"review_text\": [\"Amazing game!\", \"Fun\", \"Amazing game!\", None, None, \"Good game!\"],\n",
    "}\n",
    "\n",
    "video_games_reviews = pl.DataFrame(data)"
   ]
  },
  {
   "cell_type": "code",
   "execution_count": 4,
   "metadata": {},
   "outputs": [
    {
     "data": {
      "text/html": [
       "<div><style>\n",
       ".dataframe > thead > tr,\n",
       ".dataframe > tbody > tr {\n",
       "  text-align: right;\n",
       "  white-space: pre-wrap;\n",
       "}\n",
       "</style>\n",
       "<small>shape: (6, 4)</small><table border=\"1\" class=\"dataframe\"><thead><tr><th>title</th><th>rating</th><th>review_date</th><th>review_text</th></tr><tr><td>str</td><td>f64</td><td>str</td><td>str</td></tr></thead><tbody><tr><td>&quot;Super Mario&quot;</td><td>9.5</td><td>&quot;2023-01-15&quot;</td><td>&quot;Amazing game!&quot;</td></tr><tr><td>&quot;Zelda&quot;</td><td>10.0</td><td>&quot;2023-01-20&quot;</td><td>&quot;Fun&quot;</td></tr><tr><td>&quot;Super Mario&quot;</td><td>9.5</td><td>&quot;2023-01-15&quot;</td><td>&quot;Amazing game!&quot;</td></tr><tr><td>null</td><td>null</td><td>null</td><td>null</td></tr><tr><td>&quot;Halo Infinite&quot;</td><td>9.0</td><td>&quot;2023-02-01&quot;</td><td>null</td></tr><tr><td>&quot;Zelda&quot;</td><td>8.0</td><td>&quot;2023-03-01&quot;</td><td>&quot;Good game!&quot;</td></tr></tbody></table></div>"
      ],
      "text/plain": [
       "shape: (6, 4)\n",
       "┌───────────────┬────────┬─────────────┬───────────────┐\n",
       "│ title         ┆ rating ┆ review_date ┆ review_text   │\n",
       "│ ---           ┆ ---    ┆ ---         ┆ ---           │\n",
       "│ str           ┆ f64    ┆ str         ┆ str           │\n",
       "╞═══════════════╪════════╪═════════════╪═══════════════╡\n",
       "│ Super Mario   ┆ 9.5    ┆ 2023-01-15  ┆ Amazing game! │\n",
       "│ Zelda         ┆ 10.0   ┆ 2023-01-20  ┆ Fun           │\n",
       "│ Super Mario   ┆ 9.5    ┆ 2023-01-15  ┆ Amazing game! │\n",
       "│ null          ┆ null   ┆ null        ┆ null          │\n",
       "│ Halo Infinite ┆ 9.0    ┆ 2023-02-01  ┆ null          │\n",
       "│ Zelda         ┆ 8.0    ┆ 2023-03-01  ┆ Good game!    │\n",
       "└───────────────┴────────┴─────────────┴───────────────┘"
      ]
     },
     "execution_count": 4,
     "metadata": {},
     "output_type": "execute_result"
    }
   ],
   "source": [
    "video_games_reviews"
   ]
  },
  {
   "attachments": {},
   "cell_type": "markdown",
   "metadata": {},
   "source": [
    "#### Select a few rows of data"
   ]
  },
  {
   "cell_type": "code",
   "execution_count": 5,
   "metadata": {},
   "outputs": [
    {
     "data": {
      "text/html": [
       "<div><style>\n",
       ".dataframe > thead > tr,\n",
       ".dataframe > tbody > tr {\n",
       "  text-align: right;\n",
       "  white-space: pre-wrap;\n",
       "}\n",
       "</style>\n",
       "<small>shape: (2, 4)</small><table border=\"1\" class=\"dataframe\"><thead><tr><th>title</th><th>rating</th><th>review_date</th><th>review_text</th></tr><tr><td>str</td><td>f64</td><td>str</td><td>str</td></tr></thead><tbody><tr><td>&quot;Super Mario&quot;</td><td>9.5</td><td>&quot;2023-01-15&quot;</td><td>&quot;Amazing game!&quot;</td></tr><tr><td>&quot;Zelda&quot;</td><td>10.0</td><td>&quot;2023-01-20&quot;</td><td>&quot;Fun&quot;</td></tr></tbody></table></div>"
      ],
      "text/plain": [
       "shape: (2, 4)\n",
       "┌─────────────┬────────┬─────────────┬───────────────┐\n",
       "│ title       ┆ rating ┆ review_date ┆ review_text   │\n",
       "│ ---         ┆ ---    ┆ ---         ┆ ---           │\n",
       "│ str         ┆ f64    ┆ str         ┆ str           │\n",
       "╞═════════════╪════════╪═════════════╪═══════════════╡\n",
       "│ Super Mario ┆ 9.5    ┆ 2023-01-15  ┆ Amazing game! │\n",
       "│ Zelda       ┆ 10.0   ┆ 2023-01-20  ┆ Fun           │\n",
       "└─────────────┴────────┴─────────────┴───────────────┘"
      ]
     },
     "execution_count": 5,
     "metadata": {},
     "output_type": "execute_result"
    }
   ],
   "source": [
    "# Show the first 2 rows of the DataFrame\n",
    "# We will use head extensively to show few rows of a dataframe\n",
    "video_games_reviews.head(2)"
   ]
  },
  {
   "cell_type": "code",
   "execution_count": 6,
   "metadata": {},
   "outputs": [
    {
     "data": {
      "text/html": [
       "<div><style>\n",
       ".dataframe > thead > tr,\n",
       ".dataframe > tbody > tr {\n",
       "  text-align: right;\n",
       "  white-space: pre-wrap;\n",
       "}\n",
       "</style>\n",
       "<small>shape: (2, 4)</small><table border=\"1\" class=\"dataframe\"><thead><tr><th>title</th><th>rating</th><th>review_date</th><th>review_text</th></tr><tr><td>str</td><td>f64</td><td>str</td><td>str</td></tr></thead><tbody><tr><td>&quot;Halo Infinite&quot;</td><td>9.0</td><td>&quot;2023-02-01&quot;</td><td>null</td></tr><tr><td>&quot;Zelda&quot;</td><td>8.0</td><td>&quot;2023-03-01&quot;</td><td>&quot;Good game!&quot;</td></tr></tbody></table></div>"
      ],
      "text/plain": [
       "shape: (2, 4)\n",
       "┌───────────────┬────────┬─────────────┬─────────────┐\n",
       "│ title         ┆ rating ┆ review_date ┆ review_text │\n",
       "│ ---           ┆ ---    ┆ ---         ┆ ---         │\n",
       "│ str           ┆ f64    ┆ str         ┆ str         │\n",
       "╞═══════════════╪════════╪═════════════╪═════════════╡\n",
       "│ Halo Infinite ┆ 9.0    ┆ 2023-02-01  ┆ null        │\n",
       "│ Zelda         ┆ 8.0    ┆ 2023-03-01  ┆ Good game!  │\n",
       "└───────────────┴────────┴─────────────┴─────────────┘"
      ]
     },
     "execution_count": 6,
     "metadata": {},
     "output_type": "execute_result"
    }
   ],
   "source": [
    "# Show the last 2 rows of the DataFrame\n",
    "video_games_reviews.tail(2)"
   ]
  },
  {
   "cell_type": "code",
   "execution_count": 7,
   "metadata": {},
   "outputs": [
    {
     "data": {
      "text/html": [
       "<div><style>\n",
       ".dataframe > thead > tr,\n",
       ".dataframe > tbody > tr {\n",
       "  text-align: right;\n",
       "  white-space: pre-wrap;\n",
       "}\n",
       "</style>\n",
       "<small>shape: (2, 4)</small><table border=\"1\" class=\"dataframe\"><thead><tr><th>title</th><th>rating</th><th>review_date</th><th>review_text</th></tr><tr><td>str</td><td>f64</td><td>str</td><td>str</td></tr></thead><tbody><tr><td>&quot;Zelda&quot;</td><td>8.0</td><td>&quot;2023-03-01&quot;</td><td>&quot;Good game!&quot;</td></tr><tr><td>null</td><td>null</td><td>null</td><td>null</td></tr></tbody></table></div>"
      ],
      "text/plain": [
       "shape: (2, 4)\n",
       "┌───────┬────────┬─────────────┬─────────────┐\n",
       "│ title ┆ rating ┆ review_date ┆ review_text │\n",
       "│ ---   ┆ ---    ┆ ---         ┆ ---         │\n",
       "│ str   ┆ f64    ┆ str         ┆ str         │\n",
       "╞═══════╪════════╪═════════════╪═════════════╡\n",
       "│ Zelda ┆ 8.0    ┆ 2023-03-01  ┆ Good game!  │\n",
       "│ null  ┆ null   ┆ null        ┆ null        │\n",
       "└───────┴────────┴─────────────┴─────────────┘"
      ]
     },
     "execution_count": 7,
     "metadata": {},
     "output_type": "execute_result"
    }
   ],
   "source": [
    "# Show a sample of 2 rows of the DataFrame\n",
    "video_games_reviews.sample(2)"
   ]
  },
  {
   "attachments": {},
   "cell_type": "markdown",
   "metadata": {},
   "source": [
    "#### Information about the table"
   ]
  },
  {
   "cell_type": "code",
   "execution_count": 8,
   "metadata": {},
   "outputs": [
    {
     "data": {
      "text/plain": [
       "Schema([('title', String),\n",
       "        ('rating', Float64),\n",
       "        ('review_date', String),\n",
       "        ('review_text', String)])"
      ]
     },
     "execution_count": 8,
     "metadata": {},
     "output_type": "execute_result"
    }
   ],
   "source": [
    "# Schema of the table: column names and types\n",
    "video_games_reviews.schema"
   ]
  },
  {
   "cell_type": "code",
   "execution_count": 9,
   "metadata": {},
   "outputs": [
    {
     "data": {
      "text/plain": [
       "['title', 'rating', 'review_date', 'review_text']"
      ]
     },
     "execution_count": 9,
     "metadata": {},
     "output_type": "execute_result"
    }
   ],
   "source": [
    "# Column names\n",
    "video_games_reviews.columns"
   ]
  },
  {
   "cell_type": "code",
   "execution_count": 10,
   "metadata": {},
   "outputs": [
    {
     "data": {
      "text/plain": [
       "[String, Float64, String, String]"
      ]
     },
     "execution_count": 10,
     "metadata": {},
     "output_type": "execute_result"
    }
   ],
   "source": [
    "# Column data types\n",
    "video_games_reviews.dtypes"
   ]
  },
  {
   "cell_type": "code",
   "execution_count": 11,
   "metadata": {},
   "outputs": [
    {
     "data": {
      "text/plain": [
       "(6, 4)"
      ]
     },
     "execution_count": 11,
     "metadata": {},
     "output_type": "execute_result"
    }
   ],
   "source": [
    "# Shape of the DataFrame: number of rows and columns\n",
    "video_games_reviews.shape"
   ]
  },
  {
   "cell_type": "code",
   "execution_count": 12,
   "metadata": {},
   "outputs": [
    {
     "data": {
      "text/plain": [
       "6"
      ]
     },
     "execution_count": 12,
     "metadata": {},
     "output_type": "execute_result"
    }
   ],
   "source": [
    "# Number of rows\n",
    "video_games_reviews.height"
   ]
  },
  {
   "cell_type": "code",
   "execution_count": 13,
   "metadata": {},
   "outputs": [
    {
     "data": {
      "text/plain": [
       "4"
      ]
     },
     "execution_count": 13,
     "metadata": {},
     "output_type": "execute_result"
    }
   ],
   "source": [
    "# Number of columns\n",
    "video_games_reviews.width"
   ]
  },
  {
   "cell_type": "code",
   "execution_count": 14,
   "metadata": {},
   "outputs": [
    {
     "data": {
      "text/html": [
       "<div><style>\n",
       ".dataframe > thead > tr,\n",
       ".dataframe > tbody > tr {\n",
       "  text-align: right;\n",
       "  white-space: pre-wrap;\n",
       "}\n",
       "</style>\n",
       "<small>shape: (9, 5)</small><table border=\"1\" class=\"dataframe\"><thead><tr><th>statistic</th><th>title</th><th>rating</th><th>review_date</th><th>review_text</th></tr><tr><td>str</td><td>str</td><td>f64</td><td>str</td><td>str</td></tr></thead><tbody><tr><td>&quot;count&quot;</td><td>&quot;5&quot;</td><td>5.0</td><td>&quot;5&quot;</td><td>&quot;4&quot;</td></tr><tr><td>&quot;null_count&quot;</td><td>&quot;1&quot;</td><td>1.0</td><td>&quot;1&quot;</td><td>&quot;2&quot;</td></tr><tr><td>&quot;mean&quot;</td><td>null</td><td>9.2</td><td>null</td><td>null</td></tr><tr><td>&quot;std&quot;</td><td>null</td><td>0.758288</td><td>null</td><td>null</td></tr><tr><td>&quot;min&quot;</td><td>&quot;Halo Infinite&quot;</td><td>8.0</td><td>&quot;2023-01-15&quot;</td><td>&quot;Amazing game!&quot;</td></tr><tr><td>&quot;25%&quot;</td><td>null</td><td>9.0</td><td>null</td><td>null</td></tr><tr><td>&quot;50%&quot;</td><td>null</td><td>9.5</td><td>null</td><td>null</td></tr><tr><td>&quot;75%&quot;</td><td>null</td><td>9.5</td><td>null</td><td>null</td></tr><tr><td>&quot;max&quot;</td><td>&quot;Zelda&quot;</td><td>10.0</td><td>&quot;2023-03-01&quot;</td><td>&quot;Good game!&quot;</td></tr></tbody></table></div>"
      ],
      "text/plain": [
       "shape: (9, 5)\n",
       "┌────────────┬───────────────┬──────────┬─────────────┬───────────────┐\n",
       "│ statistic  ┆ title         ┆ rating   ┆ review_date ┆ review_text   │\n",
       "│ ---        ┆ ---           ┆ ---      ┆ ---         ┆ ---           │\n",
       "│ str        ┆ str           ┆ f64      ┆ str         ┆ str           │\n",
       "╞════════════╪═══════════════╪══════════╪═════════════╪═══════════════╡\n",
       "│ count      ┆ 5             ┆ 5.0      ┆ 5           ┆ 4             │\n",
       "│ null_count ┆ 1             ┆ 1.0      ┆ 1           ┆ 2             │\n",
       "│ mean       ┆ null          ┆ 9.2      ┆ null        ┆ null          │\n",
       "│ std        ┆ null          ┆ 0.758288 ┆ null        ┆ null          │\n",
       "│ min        ┆ Halo Infinite ┆ 8.0      ┆ 2023-01-15  ┆ Amazing game! │\n",
       "│ 25%        ┆ null          ┆ 9.0      ┆ null        ┆ null          │\n",
       "│ 50%        ┆ null          ┆ 9.5      ┆ null        ┆ null          │\n",
       "│ 75%        ┆ null          ┆ 9.5      ┆ null        ┆ null          │\n",
       "│ max        ┆ Zelda         ┆ 10.0     ┆ 2023-03-01  ┆ Good game!    │\n",
       "└────────────┴───────────────┴──────────┴─────────────┴───────────────┘"
      ]
     },
     "execution_count": 14,
     "metadata": {},
     "output_type": "execute_result"
    }
   ],
   "source": [
    "# Visualize statistics about the columns: count, mean, std, min, max, etc.\n",
    "video_games_reviews.describe()"
   ]
  },
  {
   "cell_type": "code",
   "execution_count": 15,
   "metadata": {},
   "outputs": [
    {
     "data": {
      "text/plain": [
       "0.1787109375"
      ]
     },
     "execution_count": 15,
     "metadata": {},
     "output_type": "execute_result"
    }
   ],
   "source": [
    "# Estimate the memory usage of the DataFrame\n",
    "video_games_reviews.estimated_size(\"kb\")"
   ]
  },
  {
   "attachments": {},
   "cell_type": "markdown",
   "metadata": {},
   "source": [
    "#### Chain methods together"
   ]
  },
  {
   "cell_type": "code",
   "execution_count": 16,
   "metadata": {},
   "outputs": [
    {
     "data": {
      "text/html": [
       "<div><style>\n",
       ".dataframe > thead > tr,\n",
       ".dataframe > tbody > tr {\n",
       "  text-align: right;\n",
       "  white-space: pre-wrap;\n",
       "}\n",
       "</style>\n",
       "<small>shape: (3, 5)</small><table border=\"1\" class=\"dataframe\"><thead><tr><th>statistic</th><th>title</th><th>rating</th><th>review_date</th><th>review_text</th></tr><tr><td>str</td><td>str</td><td>f64</td><td>str</td><td>str</td></tr></thead><tbody><tr><td>&quot;count&quot;</td><td>&quot;5&quot;</td><td>5.0</td><td>&quot;5&quot;</td><td>&quot;4&quot;</td></tr><tr><td>&quot;null_count&quot;</td><td>&quot;1&quot;</td><td>1.0</td><td>&quot;1&quot;</td><td>&quot;2&quot;</td></tr><tr><td>&quot;mean&quot;</td><td>null</td><td>9.2</td><td>null</td><td>null</td></tr></tbody></table></div>"
      ],
      "text/plain": [
       "shape: (3, 5)\n",
       "┌────────────┬───────┬────────┬─────────────┬─────────────┐\n",
       "│ statistic  ┆ title ┆ rating ┆ review_date ┆ review_text │\n",
       "│ ---        ┆ ---   ┆ ---    ┆ ---         ┆ ---         │\n",
       "│ str        ┆ str   ┆ f64    ┆ str         ┆ str         │\n",
       "╞════════════╪═══════╪════════╪═════════════╪═════════════╡\n",
       "│ count      ┆ 5     ┆ 5.0    ┆ 5           ┆ 4           │\n",
       "│ null_count ┆ 1     ┆ 1.0    ┆ 1           ┆ 2           │\n",
       "│ mean       ┆ null  ┆ 9.2    ┆ null        ┆ null        │\n",
       "└────────────┴───────┴────────┴─────────────┴─────────────┘"
      ]
     },
     "execution_count": 16,
     "metadata": {},
     "output_type": "execute_result"
    }
   ],
   "source": [
    "# Visualize statistics, and show only the first 3 rows\n",
    "video_games_reviews.describe().head(3)"
   ]
  },
  {
   "attachments": {},
   "cell_type": "markdown",
   "metadata": {},
   "source": [
    "#### Sort and add row numbers"
   ]
  },
  {
   "cell_type": "code",
   "execution_count": 17,
   "metadata": {},
   "outputs": [
    {
     "data": {
      "text/html": [
       "<div><style>\n",
       ".dataframe > thead > tr,\n",
       ".dataframe > tbody > tr {\n",
       "  text-align: right;\n",
       "  white-space: pre-wrap;\n",
       "}\n",
       "</style>\n",
       "<small>shape: (6, 4)</small><table border=\"1\" class=\"dataframe\"><thead><tr><th>title</th><th>rating</th><th>review_date</th><th>review_text</th></tr><tr><td>str</td><td>f64</td><td>str</td><td>str</td></tr></thead><tbody><tr><td>null</td><td>null</td><td>null</td><td>null</td></tr><tr><td>&quot;Zelda&quot;</td><td>8.0</td><td>&quot;2023-03-01&quot;</td><td>&quot;Good game!&quot;</td></tr><tr><td>&quot;Halo Infinite&quot;</td><td>9.0</td><td>&quot;2023-02-01&quot;</td><td>null</td></tr><tr><td>&quot;Zelda&quot;</td><td>10.0</td><td>&quot;2023-01-20&quot;</td><td>&quot;Fun&quot;</td></tr><tr><td>&quot;Super Mario&quot;</td><td>9.5</td><td>&quot;2023-01-15&quot;</td><td>&quot;Amazing game!&quot;</td></tr><tr><td>&quot;Super Mario&quot;</td><td>9.5</td><td>&quot;2023-01-15&quot;</td><td>&quot;Amazing game!&quot;</td></tr></tbody></table></div>"
      ],
      "text/plain": [
       "shape: (6, 4)\n",
       "┌───────────────┬────────┬─────────────┬───────────────┐\n",
       "│ title         ┆ rating ┆ review_date ┆ review_text   │\n",
       "│ ---           ┆ ---    ┆ ---         ┆ ---           │\n",
       "│ str           ┆ f64    ┆ str         ┆ str           │\n",
       "╞═══════════════╪════════╪═════════════╪═══════════════╡\n",
       "│ null          ┆ null   ┆ null        ┆ null          │\n",
       "│ Zelda         ┆ 8.0    ┆ 2023-03-01  ┆ Good game!    │\n",
       "│ Halo Infinite ┆ 9.0    ┆ 2023-02-01  ┆ null          │\n",
       "│ Zelda         ┆ 10.0   ┆ 2023-01-20  ┆ Fun           │\n",
       "│ Super Mario   ┆ 9.5    ┆ 2023-01-15  ┆ Amazing game! │\n",
       "│ Super Mario   ┆ 9.5    ┆ 2023-01-15  ┆ Amazing game! │\n",
       "└───────────────┴────────┴─────────────┴───────────────┘"
      ]
     },
     "execution_count": 17,
     "metadata": {},
     "output_type": "execute_result"
    }
   ],
   "source": [
    "# Sort the DataFrame by the time of review in descending order\n",
    "video_games_reviews.sort(\"review_date\", descending=True)"
   ]
  },
  {
   "cell_type": "code",
   "execution_count": 18,
   "metadata": {},
   "outputs": [
    {
     "data": {
      "text/html": [
       "<div><style>\n",
       ".dataframe > thead > tr,\n",
       ".dataframe > tbody > tr {\n",
       "  text-align: right;\n",
       "  white-space: pre-wrap;\n",
       "}\n",
       "</style>\n",
       "<small>shape: (6, 4)</small><table border=\"1\" class=\"dataframe\"><thead><tr><th>title</th><th>rating</th><th>review_date</th><th>review_text</th></tr><tr><td>str</td><td>f64</td><td>str</td><td>str</td></tr></thead><tbody><tr><td>null</td><td>null</td><td>null</td><td>null</td></tr><tr><td>&quot;Zelda&quot;</td><td>8.0</td><td>&quot;2023-03-01&quot;</td><td>&quot;Good game!&quot;</td></tr><tr><td>&quot;Zelda&quot;</td><td>10.0</td><td>&quot;2023-01-20&quot;</td><td>&quot;Fun&quot;</td></tr><tr><td>&quot;Super Mario&quot;</td><td>9.5</td><td>&quot;2023-01-15&quot;</td><td>&quot;Amazing game!&quot;</td></tr><tr><td>&quot;Super Mario&quot;</td><td>9.5</td><td>&quot;2023-01-15&quot;</td><td>&quot;Amazing game!&quot;</td></tr><tr><td>&quot;Halo Infinite&quot;</td><td>9.0</td><td>&quot;2023-02-01&quot;</td><td>null</td></tr></tbody></table></div>"
      ],
      "text/plain": [
       "shape: (6, 4)\n",
       "┌───────────────┬────────┬─────────────┬───────────────┐\n",
       "│ title         ┆ rating ┆ review_date ┆ review_text   │\n",
       "│ ---           ┆ ---    ┆ ---         ┆ ---           │\n",
       "│ str           ┆ f64    ┆ str         ┆ str           │\n",
       "╞═══════════════╪════════╪═════════════╪═══════════════╡\n",
       "│ null          ┆ null   ┆ null        ┆ null          │\n",
       "│ Zelda         ┆ 8.0    ┆ 2023-03-01  ┆ Good game!    │\n",
       "│ Zelda         ┆ 10.0   ┆ 2023-01-20  ┆ Fun           │\n",
       "│ Super Mario   ┆ 9.5    ┆ 2023-01-15  ┆ Amazing game! │\n",
       "│ Super Mario   ┆ 9.5    ┆ 2023-01-15  ┆ Amazing game! │\n",
       "│ Halo Infinite ┆ 9.0    ┆ 2023-02-01  ┆ null          │\n",
       "└───────────────┴────────┴─────────────┴───────────────┘"
      ]
     },
     "execution_count": 18,
     "metadata": {},
     "output_type": "execute_result"
    }
   ],
   "source": [
    "# Sort the DataFrame by the title and  time of review, both in descending order\n",
    "video_games_reviews.sort([\"title\", \"review_date\"], descending=[True, True])"
   ]
  },
  {
   "cell_type": "code",
   "execution_count": 19,
   "metadata": {},
   "outputs": [
    {
     "data": {
      "text/html": [
       "<div><style>\n",
       ".dataframe > thead > tr,\n",
       ".dataframe > tbody > tr {\n",
       "  text-align: right;\n",
       "  white-space: pre-wrap;\n",
       "}\n",
       "</style>\n",
       "<small>shape: (6, 5)</small><table border=\"1\" class=\"dataframe\"><thead><tr><th>index</th><th>title</th><th>rating</th><th>review_date</th><th>review_text</th></tr><tr><td>u32</td><td>str</td><td>f64</td><td>str</td><td>str</td></tr></thead><tbody><tr><td>0</td><td>&quot;Super Mario&quot;</td><td>9.5</td><td>&quot;2023-01-15&quot;</td><td>&quot;Amazing game!&quot;</td></tr><tr><td>1</td><td>&quot;Zelda&quot;</td><td>10.0</td><td>&quot;2023-01-20&quot;</td><td>&quot;Fun&quot;</td></tr><tr><td>2</td><td>&quot;Super Mario&quot;</td><td>9.5</td><td>&quot;2023-01-15&quot;</td><td>&quot;Amazing game!&quot;</td></tr><tr><td>3</td><td>null</td><td>null</td><td>null</td><td>null</td></tr><tr><td>4</td><td>&quot;Halo Infinite&quot;</td><td>9.0</td><td>&quot;2023-02-01&quot;</td><td>null</td></tr><tr><td>5</td><td>&quot;Zelda&quot;</td><td>8.0</td><td>&quot;2023-03-01&quot;</td><td>&quot;Good game!&quot;</td></tr></tbody></table></div>"
      ],
      "text/plain": [
       "shape: (6, 5)\n",
       "┌───────┬───────────────┬────────┬─────────────┬───────────────┐\n",
       "│ index ┆ title         ┆ rating ┆ review_date ┆ review_text   │\n",
       "│ ---   ┆ ---           ┆ ---    ┆ ---         ┆ ---           │\n",
       "│ u32   ┆ str           ┆ f64    ┆ str         ┆ str           │\n",
       "╞═══════╪═══════════════╪════════╪═════════════╪═══════════════╡\n",
       "│ 0     ┆ Super Mario   ┆ 9.5    ┆ 2023-01-15  ┆ Amazing game! │\n",
       "│ 1     ┆ Zelda         ┆ 10.0   ┆ 2023-01-20  ┆ Fun           │\n",
       "│ 2     ┆ Super Mario   ┆ 9.5    ┆ 2023-01-15  ┆ Amazing game! │\n",
       "│ 3     ┆ null          ┆ null   ┆ null        ┆ null          │\n",
       "│ 4     ┆ Halo Infinite ┆ 9.0    ┆ 2023-02-01  ┆ null          │\n",
       "│ 5     ┆ Zelda         ┆ 8.0    ┆ 2023-03-01  ┆ Good game!    │\n",
       "└───────┴───────────────┴────────┴─────────────┴───────────────┘"
      ]
     },
     "execution_count": 19,
     "metadata": {},
     "output_type": "execute_result"
    }
   ],
   "source": [
    "# Add a row number to the dataframe\n",
    "video_games_reviews.with_row_index()"
   ]
  },
  {
   "cell_type": "code",
   "execution_count": 20,
   "metadata": {},
   "outputs": [
    {
     "data": {
      "text/html": [
       "<div><style>\n",
       ".dataframe > thead > tr,\n",
       ".dataframe > tbody > tr {\n",
       "  text-align: right;\n",
       "  white-space: pre-wrap;\n",
       "}\n",
       "</style>\n",
       "<small>shape: (6, 5)</small><table border=\"1\" class=\"dataframe\"><thead><tr><th>index</th><th>title</th><th>rating</th><th>review_date</th><th>review_text</th></tr><tr><td>u32</td><td>str</td><td>f64</td><td>str</td><td>str</td></tr></thead><tbody><tr><td>5</td><td>&quot;Zelda&quot;</td><td>8.0</td><td>&quot;2023-03-01&quot;</td><td>&quot;Good game!&quot;</td></tr><tr><td>4</td><td>&quot;Halo Infinite&quot;</td><td>9.0</td><td>&quot;2023-02-01&quot;</td><td>null</td></tr><tr><td>3</td><td>null</td><td>null</td><td>null</td><td>null</td></tr><tr><td>2</td><td>&quot;Super Mario&quot;</td><td>9.5</td><td>&quot;2023-01-15&quot;</td><td>&quot;Amazing game!&quot;</td></tr><tr><td>1</td><td>&quot;Zelda&quot;</td><td>10.0</td><td>&quot;2023-01-20&quot;</td><td>&quot;Fun&quot;</td></tr><tr><td>0</td><td>&quot;Super Mario&quot;</td><td>9.5</td><td>&quot;2023-01-15&quot;</td><td>&quot;Amazing game!&quot;</td></tr></tbody></table></div>"
      ],
      "text/plain": [
       "shape: (6, 5)\n",
       "┌───────┬───────────────┬────────┬─────────────┬───────────────┐\n",
       "│ index ┆ title         ┆ rating ┆ review_date ┆ review_text   │\n",
       "│ ---   ┆ ---           ┆ ---    ┆ ---         ┆ ---           │\n",
       "│ u32   ┆ str           ┆ f64    ┆ str         ┆ str           │\n",
       "╞═══════╪═══════════════╪════════╪═════════════╪═══════════════╡\n",
       "│ 5     ┆ Zelda         ┆ 8.0    ┆ 2023-03-01  ┆ Good game!    │\n",
       "│ 4     ┆ Halo Infinite ┆ 9.0    ┆ 2023-02-01  ┆ null          │\n",
       "│ 3     ┆ null          ┆ null   ┆ null        ┆ null          │\n",
       "│ 2     ┆ Super Mario   ┆ 9.5    ┆ 2023-01-15  ┆ Amazing game! │\n",
       "│ 1     ┆ Zelda         ┆ 10.0   ┆ 2023-01-20  ┆ Fun           │\n",
       "│ 0     ┆ Super Mario   ┆ 9.5    ┆ 2023-01-15  ┆ Amazing game! │\n",
       "└───────┴───────────────┴────────┴─────────────┴───────────────┘"
      ]
     },
     "execution_count": 20,
     "metadata": {},
     "output_type": "execute_result"
    }
   ],
   "source": [
    "# Add a row number to the dataframe, then sort in reverse order\n",
    "video_games_reviews.with_row_index().reverse()"
   ]
  },
  {
   "attachments": {},
   "cell_type": "markdown",
   "metadata": {},
   "source": [
    "#### Saving modifications"
   ]
  },
  {
   "cell_type": "code",
   "execution_count": 21,
   "metadata": {},
   "outputs": [],
   "source": [
    "# To keep a modified Polars dataframe, we should save it\n",
    "# We can save it to a new variable, or to the same variable\n",
    "# Here we save it to a new variable\n",
    "video_games_modified = video_games_reviews.with_row_index().reverse()"
   ]
  },
  {
   "attachments": {},
   "cell_type": "markdown",
   "metadata": {},
   "source": [
    "#### Select and rename columns"
   ]
  },
  {
   "attachments": {},
   "cell_type": "markdown",
   "metadata": {},
   "source": [
    "##### Select"
   ]
  },
  {
   "cell_type": "code",
   "execution_count": 22,
   "metadata": {},
   "outputs": [
    {
     "data": {
      "text/html": [
       "<div><style>\n",
       ".dataframe > thead > tr,\n",
       ".dataframe > tbody > tr {\n",
       "  text-align: right;\n",
       "  white-space: pre-wrap;\n",
       "}\n",
       "</style>\n",
       "<small>shape: (6, 2)</small><table border=\"1\" class=\"dataframe\"><thead><tr><th>title</th><th>review_text</th></tr><tr><td>str</td><td>str</td></tr></thead><tbody><tr><td>&quot;Super Mario&quot;</td><td>&quot;Amazing game!&quot;</td></tr><tr><td>&quot;Zelda&quot;</td><td>&quot;Fun&quot;</td></tr><tr><td>&quot;Super Mario&quot;</td><td>&quot;Amazing game!&quot;</td></tr><tr><td>null</td><td>null</td></tr><tr><td>&quot;Halo Infinite&quot;</td><td>null</td></tr><tr><td>&quot;Zelda&quot;</td><td>&quot;Good game!&quot;</td></tr></tbody></table></div>"
      ],
      "text/plain": [
       "shape: (6, 2)\n",
       "┌───────────────┬───────────────┐\n",
       "│ title         ┆ review_text   │\n",
       "│ ---           ┆ ---           │\n",
       "│ str           ┆ str           │\n",
       "╞═══════════════╪═══════════════╡\n",
       "│ Super Mario   ┆ Amazing game! │\n",
       "│ Zelda         ┆ Fun           │\n",
       "│ Super Mario   ┆ Amazing game! │\n",
       "│ null          ┆ null          │\n",
       "│ Halo Infinite ┆ null          │\n",
       "│ Zelda         ┆ Good game!    │\n",
       "└───────────────┴───────────────┘"
      ]
     },
     "execution_count": 22,
     "metadata": {},
     "output_type": "execute_result"
    }
   ],
   "source": [
    "# Select columns using their names\n",
    "video_games_reviews.select(\"title\", \"review_text\")"
   ]
  },
  {
   "cell_type": "code",
   "execution_count": 23,
   "metadata": {},
   "outputs": [
    {
     "data": {
      "text/html": [
       "<div><style>\n",
       ".dataframe > thead > tr,\n",
       ".dataframe > tbody > tr {\n",
       "  text-align: right;\n",
       "  white-space: pre-wrap;\n",
       "}\n",
       "</style>\n",
       "<small>shape: (2, 2)</small><table border=\"1\" class=\"dataframe\"><thead><tr><th>title</th><th>review_text</th></tr><tr><td>str</td><td>str</td></tr></thead><tbody><tr><td>&quot;Super Mario&quot;</td><td>&quot;Amazing game!&quot;</td></tr><tr><td>&quot;Zelda&quot;</td><td>&quot;Fun&quot;</td></tr></tbody></table></div>"
      ],
      "text/plain": [
       "shape: (2, 2)\n",
       "┌─────────────┬───────────────┐\n",
       "│ title       ┆ review_text   │\n",
       "│ ---         ┆ ---           │\n",
       "│ str         ┆ str           │\n",
       "╞═════════════╪═══════════════╡\n",
       "│ Super Mario ┆ Amazing game! │\n",
       "│ Zelda       ┆ Fun           │\n",
       "└─────────────┴───────────────┘"
      ]
     },
     "execution_count": 23,
     "metadata": {},
     "output_type": "execute_result"
    }
   ],
   "source": [
    "# Select columns using a list with their names\n",
    "video_games_reviews.select([\"title\", \"review_text\"]).head(2)"
   ]
  },
  {
   "cell_type": "code",
   "execution_count": 24,
   "metadata": {},
   "outputs": [
    {
     "data": {
      "text/html": [
       "<div><style>\n",
       ".dataframe > thead > tr,\n",
       ".dataframe > tbody > tr {\n",
       "  text-align: right;\n",
       "  white-space: pre-wrap;\n",
       "}\n",
       "</style>\n",
       "<small>shape: (2, 2)</small><table border=\"1\" class=\"dataframe\"><thead><tr><th>title</th><th>review_text</th></tr><tr><td>str</td><td>str</td></tr></thead><tbody><tr><td>&quot;Super Mario&quot;</td><td>&quot;Amazing game!&quot;</td></tr><tr><td>&quot;Zelda&quot;</td><td>&quot;Fun&quot;</td></tr></tbody></table></div>"
      ],
      "text/plain": [
       "shape: (2, 2)\n",
       "┌─────────────┬───────────────┐\n",
       "│ title       ┆ review_text   │\n",
       "│ ---         ┆ ---           │\n",
       "│ str         ┆ str           │\n",
       "╞═════════════╪═══════════════╡\n",
       "│ Super Mario ┆ Amazing game! │\n",
       "│ Zelda       ┆ Fun           │\n",
       "└─────────────┴───────────────┘"
      ]
     },
     "execution_count": 24,
     "metadata": {},
     "output_type": "execute_result"
    }
   ],
   "source": [
    "# Select columns using their names with pl.col()\n",
    "video_games_reviews.select(pl.col(\"title\"), pl.col(\"review_text\")).head(2)"
   ]
  },
  {
   "cell_type": "code",
   "execution_count": 78,
   "metadata": {},
   "outputs": [
    {
     "data": {
      "text/html": [
       "<div><style>\n",
       ".dataframe > thead > tr,\n",
       ".dataframe > tbody > tr {\n",
       "  text-align: right;\n",
       "  white-space: pre-wrap;\n",
       "}\n",
       "</style>\n",
       "<small>shape: (2, 3)</small><table border=\"1\" class=\"dataframe\"><thead><tr><th>videogame_title</th><th>rating_out_of_10</th><th>review_text</th></tr><tr><td>str</td><td>f64</td><td>str</td></tr></thead><tbody><tr><td>&quot;Super Mario&quot;</td><td>9.5</td><td>&quot;Amazing game!&quot;</td></tr><tr><td>&quot;Zelda&quot;</td><td>10.0</td><td>&quot;Fun&quot;</td></tr></tbody></table></div>"
      ],
      "text/plain": [
       "shape: (2, 3)\n",
       "┌─────────────────┬──────────────────┬───────────────┐\n",
       "│ videogame_title ┆ rating_out_of_10 ┆ review_text   │\n",
       "│ ---             ┆ ---              ┆ ---           │\n",
       "│ str             ┆ f64              ┆ str           │\n",
       "╞═════════════════╪══════════════════╪═══════════════╡\n",
       "│ Super Mario     ┆ 9.5              ┆ Amazing game! │\n",
       "│ Zelda           ┆ 10.0             ┆ Fun           │\n",
       "└─────────────────┴──────────────────┴───────────────┘"
      ]
     },
     "execution_count": 78,
     "metadata": {},
     "output_type": "execute_result"
    }
   ],
   "source": [
    "# Add suffix or prefix\n",
    "video_games_reviews.select(\n",
    "    pl.col(\"title\").name.prefix(\"videogame_\"),\n",
    "    pl.col(\"rating\").name.suffix(\"_out_of_10\"),\n",
    "    pl.col(\"review_text\"),\n",
    ").head(2)"
   ]
  },
  {
   "cell_type": "code",
   "execution_count": 79,
   "metadata": {},
   "outputs": [
    {
     "data": {
      "text/html": [
       "<div><style>\n",
       ".dataframe > thead > tr,\n",
       ".dataframe > tbody > tr {\n",
       "  text-align: right;\n",
       "  white-space: pre-wrap;\n",
       "}\n",
       "</style>\n",
       "<small>shape: (2, 3)</small><table border=\"1\" class=\"dataframe\"><thead><tr><th>videogame_title</th><th>rating_out_of_10</th><th>review</th></tr><tr><td>str</td><td>f64</td><td>str</td></tr></thead><tbody><tr><td>&quot;Super Mario&quot;</td><td>9.5</td><td>&quot;Amazing game!&quot;</td></tr><tr><td>&quot;Zelda&quot;</td><td>10.0</td><td>&quot;Fun&quot;</td></tr></tbody></table></div>"
      ],
      "text/plain": [
       "shape: (2, 3)\n",
       "┌─────────────────┬──────────────────┬───────────────┐\n",
       "│ videogame_title ┆ rating_out_of_10 ┆ review        │\n",
       "│ ---             ┆ ---              ┆ ---           │\n",
       "│ str             ┆ f64              ┆ str           │\n",
       "╞═════════════════╪══════════════════╪═══════════════╡\n",
       "│ Super Mario     ┆ 9.5              ┆ Amazing game! │\n",
       "│ Zelda           ┆ 10.0             ┆ Fun           │\n",
       "└─────────────────┴──────────────────┴───────────────┘"
      ]
     },
     "execution_count": 79,
     "metadata": {},
     "output_type": "execute_result"
    }
   ],
   "source": [
    "# Select columns with pl.col() and rename them using keywords arguments (example: videogame_title = )\n",
    "# Important: columns selected with keywords arguments should come after columns without keywords arguments\n",
    "video_games_reviews.select(\n",
    "    videogame_title=pl.col(\"title\"),\n",
    "    rating_out_of_10=pl.col(\"rating\"),\n",
    "    review=pl.col(\"review_text\"),\n",
    ").head(2)"
   ]
  },
  {
   "cell_type": "code",
   "execution_count": 80,
   "metadata": {},
   "outputs": [
    {
     "data": {
      "text/html": [
       "<div><style>\n",
       ".dataframe > thead > tr,\n",
       ".dataframe > tbody > tr {\n",
       "  text-align: right;\n",
       "  white-space: pre-wrap;\n",
       "}\n",
       "</style>\n",
       "<small>shape: (2, 3)</small><table border=\"1\" class=\"dataframe\"><thead><tr><th>videogame_title</th><th>rating_out_of_10</th><th>review</th></tr><tr><td>str</td><td>f64</td><td>str</td></tr></thead><tbody><tr><td>&quot;Super Mario&quot;</td><td>9.5</td><td>&quot;Amazing game!&quot;</td></tr><tr><td>&quot;Zelda&quot;</td><td>10.0</td><td>&quot;Fun&quot;</td></tr></tbody></table></div>"
      ],
      "text/plain": [
       "shape: (2, 3)\n",
       "┌─────────────────┬──────────────────┬───────────────┐\n",
       "│ videogame_title ┆ rating_out_of_10 ┆ review        │\n",
       "│ ---             ┆ ---              ┆ ---           │\n",
       "│ str             ┆ f64              ┆ str           │\n",
       "╞═════════════════╪══════════════════╪═══════════════╡\n",
       "│ Super Mario     ┆ 9.5              ┆ Amazing game! │\n",
       "│ Zelda           ┆ 10.0             ┆ Fun           │\n",
       "└─────────────────┴──────────────────┴───────────────┘"
      ]
     },
     "execution_count": 80,
     "metadata": {},
     "output_type": "execute_result"
    }
   ],
   "source": [
    "# Select columns with pl.col() and rename them using alias\n",
    "# alias should always be at the end of the expression\n",
    "video_games_reviews.select(\n",
    "    pl.col(\"title\").alias(\"videogame_title\"),\n",
    "    pl.col(\"rating\").alias(\"rating_out_of_10\"),\n",
    "    pl.col(\"review_text\").alias(\"review\"),\n",
    ").head(2)"
   ]
  },
  {
   "cell_type": "code",
   "execution_count": 28,
   "metadata": {},
   "outputs": [
    {
     "data": {
      "text/html": [
       "<div><style>\n",
       ".dataframe > thead > tr,\n",
       ".dataframe > tbody > tr {\n",
       "  text-align: right;\n",
       "  white-space: pre-wrap;\n",
       "}\n",
       "</style>\n",
       "<small>shape: (6, 3)</small><table border=\"1\" class=\"dataframe\"><thead><tr><th>title</th><th>review_date</th><th>review_text</th></tr><tr><td>str</td><td>str</td><td>str</td></tr></thead><tbody><tr><td>&quot;Super Mario&quot;</td><td>&quot;2023-01-15&quot;</td><td>&quot;Amazing game!&quot;</td></tr><tr><td>&quot;Zelda&quot;</td><td>&quot;2023-01-20&quot;</td><td>&quot;Fun&quot;</td></tr><tr><td>&quot;Super Mario&quot;</td><td>&quot;2023-01-15&quot;</td><td>&quot;Amazing game!&quot;</td></tr><tr><td>null</td><td>null</td><td>null</td></tr><tr><td>&quot;Halo Infinite&quot;</td><td>&quot;2023-02-01&quot;</td><td>null</td></tr><tr><td>&quot;Zelda&quot;</td><td>&quot;2023-03-01&quot;</td><td>&quot;Good game!&quot;</td></tr></tbody></table></div>"
      ],
      "text/plain": [
       "shape: (6, 3)\n",
       "┌───────────────┬─────────────┬───────────────┐\n",
       "│ title         ┆ review_date ┆ review_text   │\n",
       "│ ---           ┆ ---         ┆ ---           │\n",
       "│ str           ┆ str         ┆ str           │\n",
       "╞═══════════════╪═════════════╪═══════════════╡\n",
       "│ Super Mario   ┆ 2023-01-15  ┆ Amazing game! │\n",
       "│ Zelda         ┆ 2023-01-20  ┆ Fun           │\n",
       "│ Super Mario   ┆ 2023-01-15  ┆ Amazing game! │\n",
       "│ null          ┆ null        ┆ null          │\n",
       "│ Halo Infinite ┆ 2023-02-01  ┆ null          │\n",
       "│ Zelda         ┆ 2023-03-01  ┆ Good game!    │\n",
       "└───────────────┴─────────────┴───────────────┘"
      ]
     },
     "execution_count": 28,
     "metadata": {},
     "output_type": "execute_result"
    }
   ],
   "source": [
    "# Select columns based on their data type: select all string columns\n",
    "video_games_reviews.select(pl.col(pl.String))"
   ]
  },
  {
   "cell_type": "code",
   "execution_count": 30,
   "metadata": {},
   "outputs": [
    {
     "data": {
      "text/html": [
       "<div><style>\n",
       ".dataframe > thead > tr,\n",
       ".dataframe > tbody > tr {\n",
       "  text-align: right;\n",
       "  white-space: pre-wrap;\n",
       "}\n",
       "</style>\n",
       "<small>shape: (6, 4)</small><table border=\"1\" class=\"dataframe\"><thead><tr><th>title</th><th>rating</th><th>review_date</th><th>review_text</th></tr><tr><td>str</td><td>f64</td><td>str</td><td>str</td></tr></thead><tbody><tr><td>&quot;Super Mario&quot;</td><td>9.5</td><td>&quot;2023-01-15&quot;</td><td>&quot;Amazing game!&quot;</td></tr><tr><td>&quot;Zelda&quot;</td><td>10.0</td><td>&quot;2023-01-20&quot;</td><td>&quot;Fun&quot;</td></tr><tr><td>&quot;Super Mario&quot;</td><td>9.5</td><td>&quot;2023-01-15&quot;</td><td>&quot;Amazing game!&quot;</td></tr><tr><td>null</td><td>null</td><td>null</td><td>null</td></tr><tr><td>&quot;Halo Infinite&quot;</td><td>9.0</td><td>&quot;2023-02-01&quot;</td><td>null</td></tr><tr><td>&quot;Zelda&quot;</td><td>8.0</td><td>&quot;2023-03-01&quot;</td><td>&quot;Good game!&quot;</td></tr></tbody></table></div>"
      ],
      "text/plain": [
       "shape: (6, 4)\n",
       "┌───────────────┬────────┬─────────────┬───────────────┐\n",
       "│ title         ┆ rating ┆ review_date ┆ review_text   │\n",
       "│ ---           ┆ ---    ┆ ---         ┆ ---           │\n",
       "│ str           ┆ f64    ┆ str         ┆ str           │\n",
       "╞═══════════════╪════════╪═════════════╪═══════════════╡\n",
       "│ Super Mario   ┆ 9.5    ┆ 2023-01-15  ┆ Amazing game! │\n",
       "│ Zelda         ┆ 10.0   ┆ 2023-01-20  ┆ Fun           │\n",
       "│ Super Mario   ┆ 9.5    ┆ 2023-01-15  ┆ Amazing game! │\n",
       "│ null          ┆ null   ┆ null        ┆ null          │\n",
       "│ Halo Infinite ┆ 9.0    ┆ 2023-02-01  ┆ null          │\n",
       "│ Zelda         ┆ 8.0    ┆ 2023-03-01  ┆ Good game!    │\n",
       "└───────────────┴────────┴─────────────┴───────────────┘"
      ]
     },
     "execution_count": 30,
     "metadata": {},
     "output_type": "execute_result"
    }
   ],
   "source": [
    "# pl.all() can be used to select all columns\n",
    "video_games_reviews.select(pl.all())"
   ]
  },
  {
   "cell_type": "code",
   "execution_count": 32,
   "metadata": {},
   "outputs": [
    {
     "data": {
      "text/html": [
       "<div><style>\n",
       ".dataframe > thead > tr,\n",
       ".dataframe > tbody > tr {\n",
       "  text-align: right;\n",
       "  white-space: pre-wrap;\n",
       "}\n",
       "</style>\n",
       "<small>shape: (2, 2)</small><table border=\"1\" class=\"dataframe\"><thead><tr><th>review_date</th><th>review_text</th></tr><tr><td>str</td><td>str</td></tr></thead><tbody><tr><td>&quot;2023-01-15&quot;</td><td>&quot;Amazing game!&quot;</td></tr><tr><td>&quot;2023-01-20&quot;</td><td>&quot;Fun&quot;</td></tr></tbody></table></div>"
      ],
      "text/plain": [
       "shape: (2, 2)\n",
       "┌─────────────┬───────────────┐\n",
       "│ review_date ┆ review_text   │\n",
       "│ ---         ┆ ---           │\n",
       "│ str         ┆ str           │\n",
       "╞═════════════╪═══════════════╡\n",
       "│ 2023-01-15  ┆ Amazing game! │\n",
       "│ 2023-01-20  ┆ Fun           │\n",
       "└─────────────┴───────────────┘"
      ]
     },
     "execution_count": 32,
     "metadata": {},
     "output_type": "execute_result"
    }
   ],
   "source": [
    "# Select columns based on regex: all column names that contain 'review'\n",
    "video_games_reviews.select(pl.col(\"^.*review.*$\")).head(2)"
   ]
  },
  {
   "cell_type": "code",
   "execution_count": 33,
   "metadata": {},
   "outputs": [
    {
     "data": {
      "text/html": [
       "<div><style>\n",
       ".dataframe > thead > tr,\n",
       ".dataframe > tbody > tr {\n",
       "  text-align: right;\n",
       "  white-space: pre-wrap;\n",
       "}\n",
       "</style>\n",
       "<small>shape: (2, 2)</small><table border=\"1\" class=\"dataframe\"><thead><tr><th>title</th><th>rating</th></tr><tr><td>str</td><td>f64</td></tr></thead><tbody><tr><td>&quot;Super Mario&quot;</td><td>9.5</td></tr><tr><td>&quot;Zelda&quot;</td><td>10.0</td></tr></tbody></table></div>"
      ],
      "text/plain": [
       "shape: (2, 2)\n",
       "┌─────────────┬────────┐\n",
       "│ title       ┆ rating │\n",
       "│ ---         ┆ ---    │\n",
       "│ str         ┆ f64    │\n",
       "╞═════════════╪════════╡\n",
       "│ Super Mario ┆ 9.5    │\n",
       "│ Zelda       ┆ 10.0   │\n",
       "└─────────────┴────────┘"
      ]
     },
     "execution_count": 33,
     "metadata": {},
     "output_type": "execute_result"
    }
   ],
   "source": [
    "# Exclude columns that contain 'review'\n",
    "# Exclude can be used with regex, or with column names, or with data types\n",
    "video_games_reviews.select(pl.all().exclude(\"^.*review.*$\")).head(2)"
   ]
  },
  {
   "cell_type": "markdown",
   "metadata": {},
   "source": [
    "##### Using Polars selectors"
   ]
  },
  {
   "cell_type": "code",
   "execution_count": 34,
   "metadata": {},
   "outputs": [
    {
     "data": {
      "text/html": [
       "<div><style>\n",
       ".dataframe > thead > tr,\n",
       ".dataframe > tbody > tr {\n",
       "  text-align: right;\n",
       "  white-space: pre-wrap;\n",
       "}\n",
       "</style>\n",
       "<small>shape: (2, 1)</small><table border=\"1\" class=\"dataframe\"><thead><tr><th>title</th></tr><tr><td>str</td></tr></thead><tbody><tr><td>&quot;Super Mario&quot;</td></tr><tr><td>&quot;Zelda&quot;</td></tr></tbody></table></div>"
      ],
      "text/plain": [
       "shape: (2, 1)\n",
       "┌─────────────┐\n",
       "│ title       │\n",
       "│ ---         │\n",
       "│ str         │\n",
       "╞═════════════╡\n",
       "│ Super Mario │\n",
       "│ Zelda       │\n",
       "└─────────────┘"
      ]
     },
     "execution_count": 34,
     "metadata": {},
     "output_type": "execute_result"
    }
   ],
   "source": [
    "import polars.selectors as cs\n",
    "\n",
    "# returns the first column\n",
    "video_games_reviews.select(cs.first()).head(2)"
   ]
  },
  {
   "cell_type": "code",
   "execution_count": 35,
   "metadata": {},
   "outputs": [
    {
     "data": {
      "text/html": [
       "<div><style>\n",
       ".dataframe > thead > tr,\n",
       ".dataframe > tbody > tr {\n",
       "  text-align: right;\n",
       "  white-space: pre-wrap;\n",
       "}\n",
       "</style>\n",
       "<small>shape: (2, 1)</small><table border=\"1\" class=\"dataframe\"><thead><tr><th>rating</th></tr><tr><td>f64</td></tr></thead><tbody><tr><td>9.5</td></tr><tr><td>10.0</td></tr></tbody></table></div>"
      ],
      "text/plain": [
       "shape: (2, 1)\n",
       "┌────────┐\n",
       "│ rating │\n",
       "│ ---    │\n",
       "│ f64    │\n",
       "╞════════╡\n",
       "│ 9.5    │\n",
       "│ 10.0   │\n",
       "└────────┘"
      ]
     },
     "execution_count": 35,
     "metadata": {},
     "output_type": "execute_result"
    }
   ],
   "source": [
    "# returns all numeric columns\n",
    "video_games_reviews.select(cs.numeric()).head(2)"
   ]
  },
  {
   "cell_type": "code",
   "execution_count": 36,
   "metadata": {},
   "outputs": [
    {
     "data": {
      "text/html": [
       "<div><style>\n",
       ".dataframe > thead > tr,\n",
       ".dataframe > tbody > tr {\n",
       "  text-align: right;\n",
       "  white-space: pre-wrap;\n",
       "}\n",
       "</style>\n",
       "<small>shape: (2, 1)</small><table border=\"1\" class=\"dataframe\"><thead><tr><th>review_date</th></tr><tr><td>str</td></tr></thead><tbody><tr><td>&quot;2023-01-15&quot;</td></tr><tr><td>&quot;2023-01-20&quot;</td></tr></tbody></table></div>"
      ],
      "text/plain": [
       "shape: (2, 1)\n",
       "┌─────────────┐\n",
       "│ review_date │\n",
       "│ ---         │\n",
       "│ str         │\n",
       "╞═════════════╡\n",
       "│ 2023-01-15  │\n",
       "│ 2023-01-20  │\n",
       "└─────────────┘"
      ]
     },
     "execution_count": 36,
     "metadata": {},
     "output_type": "execute_result"
    }
   ],
   "source": [
    "# returns all columns containing \"date\"\n",
    "video_games_reviews.select(cs.contains(\"date\")).head(2)"
   ]
  },
  {
   "cell_type": "code",
   "execution_count": 37,
   "metadata": {},
   "outputs": [
    {
     "data": {
      "text/html": [
       "<div><style>\n",
       ".dataframe > thead > tr,\n",
       ".dataframe > tbody > tr {\n",
       "  text-align: right;\n",
       "  white-space: pre-wrap;\n",
       "}\n",
       "</style>\n",
       "<small>shape: (0, 0)</small><table border=\"1\" class=\"dataframe\"><thead><tr></tr><tr></tr></thead><tbody></tbody></table></div>"
      ],
      "text/plain": [
       "shape: (0, 0)\n",
       "┌┐\n",
       "╞╡\n",
       "└┘"
      ]
     },
     "execution_count": 37,
     "metadata": {},
     "output_type": "execute_result"
    }
   ],
   "source": [
    "# returns all numeric columns except columns containing \"rating\"\n",
    "video_games_reviews.select(cs.numeric() - cs.contains(\"rating\")).head(2)"
   ]
  },
  {
   "attachments": {},
   "cell_type": "markdown",
   "metadata": {},
   "source": [
    "##### With Columns"
   ]
  },
  {
   "cell_type": "code",
   "execution_count": 38,
   "metadata": {},
   "outputs": [
    {
     "data": {
      "text/html": [
       "<div><style>\n",
       ".dataframe > thead > tr,\n",
       ".dataframe > tbody > tr {\n",
       "  text-align: right;\n",
       "  white-space: pre-wrap;\n",
       "}\n",
       "</style>\n",
       "<small>shape: (6, 4)</small><table border=\"1\" class=\"dataframe\"><thead><tr><th>title</th><th>rating</th><th>review_date</th><th>review_text</th></tr><tr><td>str</td><td>f64</td><td>str</td><td>str</td></tr></thead><tbody><tr><td>&quot;Super Mario&quot;</td><td>190.0</td><td>&quot;2023-01-15&quot;</td><td>&quot;Amazing game!&quot;</td></tr><tr><td>&quot;Zelda&quot;</td><td>200.0</td><td>&quot;2023-01-20&quot;</td><td>&quot;Fun&quot;</td></tr><tr><td>&quot;Super Mario&quot;</td><td>190.0</td><td>&quot;2023-01-15&quot;</td><td>&quot;Amazing game!&quot;</td></tr><tr><td>null</td><td>null</td><td>null</td><td>null</td></tr><tr><td>&quot;Halo Infinite&quot;</td><td>180.0</td><td>&quot;2023-02-01&quot;</td><td>null</td></tr><tr><td>&quot;Zelda&quot;</td><td>160.0</td><td>&quot;2023-03-01&quot;</td><td>&quot;Good game!&quot;</td></tr></tbody></table></div>"
      ],
      "text/plain": [
       "shape: (6, 4)\n",
       "┌───────────────┬────────┬─────────────┬───────────────┐\n",
       "│ title         ┆ rating ┆ review_date ┆ review_text   │\n",
       "│ ---           ┆ ---    ┆ ---         ┆ ---           │\n",
       "│ str           ┆ f64    ┆ str         ┆ str           │\n",
       "╞═══════════════╪════════╪═════════════╪═══════════════╡\n",
       "│ Super Mario   ┆ 190.0  ┆ 2023-01-15  ┆ Amazing game! │\n",
       "│ Zelda         ┆ 200.0  ┆ 2023-01-20  ┆ Fun           │\n",
       "│ Super Mario   ┆ 190.0  ┆ 2023-01-15  ┆ Amazing game! │\n",
       "│ null          ┆ null   ┆ null        ┆ null          │\n",
       "│ Halo Infinite ┆ 180.0  ┆ 2023-02-01  ┆ null          │\n",
       "│ Zelda         ┆ 160.0  ┆ 2023-03-01  ┆ Good game!    │\n",
       "└───────────────┴────────┴─────────────┴───────────────┘"
      ]
     },
     "execution_count": 38,
     "metadata": {},
     "output_type": "execute_result"
    }
   ],
   "source": [
    "# Another way to select columns is using with_columns() instead of select()\n",
    "# with_columns() includes all columns by default, and\n",
    "# adds or modifies the specified columns\n",
    "video_games_reviews.with_columns(\n",
    "    pl.col(\"rating\") * 20,  # modified column\n",
    ")"
   ]
  },
  {
   "attachments": {},
   "cell_type": "markdown",
   "metadata": {},
   "source": [
    "#### Add columns"
   ]
  },
  {
   "cell_type": "code",
   "execution_count": 39,
   "metadata": {},
   "outputs": [
    {
     "data": {
      "text/html": [
       "<div><style>\n",
       ".dataframe > thead > tr,\n",
       ".dataframe > tbody > tr {\n",
       "  text-align: right;\n",
       "  white-space: pre-wrap;\n",
       "}\n",
       "</style>\n",
       "<small>shape: (6, 3)</small><table border=\"1\" class=\"dataframe\"><thead><tr><th>title</th><th>rating</th><th>category</th></tr><tr><td>str</td><td>f64</td><td>str</td></tr></thead><tbody><tr><td>&quot;Super Mario&quot;</td><td>9.5</td><td>&quot;videogame&quot;</td></tr><tr><td>&quot;Zelda&quot;</td><td>10.0</td><td>&quot;videogame&quot;</td></tr><tr><td>&quot;Super Mario&quot;</td><td>9.5</td><td>&quot;videogame&quot;</td></tr><tr><td>null</td><td>null</td><td>&quot;videogame&quot;</td></tr><tr><td>&quot;Halo Infinite&quot;</td><td>9.0</td><td>&quot;videogame&quot;</td></tr><tr><td>&quot;Zelda&quot;</td><td>8.0</td><td>&quot;videogame&quot;</td></tr></tbody></table></div>"
      ],
      "text/plain": [
       "shape: (6, 3)\n",
       "┌───────────────┬────────┬───────────┐\n",
       "│ title         ┆ rating ┆ category  │\n",
       "│ ---           ┆ ---    ┆ ---       │\n",
       "│ str           ┆ f64    ┆ str       │\n",
       "╞═══════════════╪════════╪═══════════╡\n",
       "│ Super Mario   ┆ 9.5    ┆ videogame │\n",
       "│ Zelda         ┆ 10.0   ┆ videogame │\n",
       "│ Super Mario   ┆ 9.5    ┆ videogame │\n",
       "│ null          ┆ null   ┆ videogame │\n",
       "│ Halo Infinite ┆ 9.0    ┆ videogame │\n",
       "│ Zelda         ┆ 8.0    ┆ videogame │\n",
       "└───────────────┴────────┴───────────┘"
      ]
     },
     "execution_count": 39,
     "metadata": {},
     "output_type": "execute_result"
    }
   ],
   "source": [
    "# Add and modify columns\n",
    "# if the column has the same name => modifies a column\n",
    "# if the column has a different name => adds a new column\n",
    "# Use pl.lit() to add a new column based on a constant value\n",
    "video_games_reviews.select(\n",
    "    pl.col(\"title\"), pl.col(\"rating\"), category=pl.lit(\"videogame\")\n",
    ")"
   ]
  },
  {
   "cell_type": "code",
   "execution_count": 40,
   "metadata": {},
   "outputs": [
    {
     "data": {
      "text/html": [
       "<div><style>\n",
       ".dataframe > thead > tr,\n",
       ".dataframe > tbody > tr {\n",
       "  text-align: right;\n",
       "  white-space: pre-wrap;\n",
       "}\n",
       "</style>\n",
       "<small>shape: (2, 2)</small><table border=\"1\" class=\"dataframe\"><thead><tr><th>rating</th><th>rating_out_of_10</th></tr><tr><td>f64</td><td>f64</td></tr></thead><tbody><tr><td>190.0</td><td>9.5</td></tr><tr><td>200.0</td><td>10.0</td></tr></tbody></table></div>"
      ],
      "text/plain": [
       "shape: (2, 2)\n",
       "┌────────┬──────────────────┐\n",
       "│ rating ┆ rating_out_of_10 │\n",
       "│ ---    ┆ ---              │\n",
       "│ f64    ┆ f64              │\n",
       "╞════════╪══════════════════╡\n",
       "│ 190.0  ┆ 9.5              │\n",
       "│ 200.0  ┆ 10.0             │\n",
       "└────────┴──────────────────┘"
      ]
     },
     "execution_count": 40,
     "metadata": {},
     "output_type": "execute_result"
    }
   ],
   "source": [
    "# Add and modify columns\n",
    "# All columns are calculated in parallel, so rating_out_of_10 depends on the initial rating column\n",
    "# and not on the modified rating column\n",
    "video_games_reviews.select(\n",
    "    pl.col(\"rating\") * 20,  # modified column\n",
    "    rating_out_of_10=pl.col(\"rating\"),  # new column\n",
    ").head(2)"
   ]
  },
  {
   "cell_type": "code",
   "execution_count": 41,
   "metadata": {},
   "outputs": [
    {
     "data": {
      "text/html": [
       "<div><style>\n",
       ".dataframe > thead > tr,\n",
       ".dataframe > tbody > tr {\n",
       "  text-align: right;\n",
       "  white-space: pre-wrap;\n",
       "}\n",
       "</style>\n",
       "<small>shape: (2, 2)</small><table border=\"1\" class=\"dataframe\"><thead><tr><th>rating</th><th>rating_out_of_10</th></tr><tr><td>f64</td><td>f64</td></tr></thead><tbody><tr><td>190.0</td><td>190.0</td></tr><tr><td>200.0</td><td>200.0</td></tr></tbody></table></div>"
      ],
      "text/plain": [
       "shape: (2, 2)\n",
       "┌────────┬──────────────────┐\n",
       "│ rating ┆ rating_out_of_10 │\n",
       "│ ---    ┆ ---              │\n",
       "│ f64    ┆ f64              │\n",
       "╞════════╪══════════════════╡\n",
       "│ 190.0  ┆ 190.0            │\n",
       "│ 200.0  ┆ 200.0            │\n",
       "└────────┴──────────────────┘"
      ]
     },
     "execution_count": 41,
     "metadata": {},
     "output_type": "execute_result"
    }
   ],
   "source": [
    "# If we want the new column to depend on the modified column, we can add a new context\n",
    "# where we do the calculation\n",
    "# A new context is a new select or with_columns\n",
    "video_games_reviews.select(\n",
    "    pl.col(\"rating\") * 20,  # modified column\n",
    ").with_columns(  # new context\n",
    "    rating_out_of_10=pl.col(\"rating\")  # new column\n",
    ").head(2)"
   ]
  },
  {
   "cell_type": "code",
   "execution_count": 42,
   "metadata": {},
   "outputs": [
    {
     "data": {
      "text/html": [
       "<div><style>\n",
       ".dataframe > thead > tr,\n",
       ".dataframe > tbody > tr {\n",
       "  text-align: right;\n",
       "  white-space: pre-wrap;\n",
       "}\n",
       "</style>\n",
       "<small>shape: (2, 5)</small><table border=\"1\" class=\"dataframe\"><thead><tr><th>title</th><th>rating</th><th>review_date</th><th>review_text</th><th>rating_out_of_10</th></tr><tr><td>str</td><td>f64</td><td>str</td><td>str</td><td>f64</td></tr></thead><tbody><tr><td>&quot;Super Mario&quot;</td><td>190.0</td><td>&quot;2023-01-15&quot;</td><td>&quot;Amazing game!&quot;</td><td>9.5</td></tr><tr><td>&quot;Zelda&quot;</td><td>200.0</td><td>&quot;2023-01-20&quot;</td><td>&quot;Fun&quot;</td><td>10.0</td></tr></tbody></table></div>"
      ],
      "text/plain": [
       "shape: (2, 5)\n",
       "┌─────────────┬────────┬─────────────┬───────────────┬──────────────────┐\n",
       "│ title       ┆ rating ┆ review_date ┆ review_text   ┆ rating_out_of_10 │\n",
       "│ ---         ┆ ---    ┆ ---         ┆ ---           ┆ ---              │\n",
       "│ str         ┆ f64    ┆ str         ┆ str           ┆ f64              │\n",
       "╞═════════════╪════════╪═════════════╪═══════════════╪══════════════════╡\n",
       "│ Super Mario ┆ 190.0  ┆ 2023-01-15  ┆ Amazing game! ┆ 9.5              │\n",
       "│ Zelda       ┆ 200.0  ┆ 2023-01-20  ┆ Fun           ┆ 10.0             │\n",
       "└─────────────┴────────┴─────────────┴───────────────┴──────────────────┘"
      ]
     },
     "execution_count": 42,
     "metadata": {},
     "output_type": "execute_result"
    }
   ],
   "source": [
    "# When adding columns with with_columns(), non-specified columns are included by default\n",
    "# with_columns() includes all columns by default, and\n",
    "# adds or modifies the specified columns\n",
    "video_games_reviews.with_columns(\n",
    "    pl.col(\"rating\") * 20,  # modified column\n",
    "    rating_out_of_10=pl.col(\"rating\"),  # new column\n",
    ").head(2)"
   ]
  },
  {
   "cell_type": "code",
   "execution_count": 43,
   "metadata": {},
   "outputs": [
    {
     "data": {
      "text/html": [
       "<div><style>\n",
       ".dataframe > thead > tr,\n",
       ".dataframe > tbody > tr {\n",
       "  text-align: right;\n",
       "  white-space: pre-wrap;\n",
       "}\n",
       "</style>\n",
       "<small>shape: (2, 1)</small><table border=\"1\" class=\"dataframe\"><thead><tr><th>review_text_and_score</th></tr><tr><td>str</td></tr></thead><tbody><tr><td>&quot;Amazing game! - 9.5&quot;</td></tr><tr><td>&quot;Fun - 10.0&quot;</td></tr></tbody></table></div>"
      ],
      "text/plain": [
       "shape: (2, 1)\n",
       "┌───────────────────────┐\n",
       "│ review_text_and_score │\n",
       "│ ---                   │\n",
       "│ str                   │\n",
       "╞═══════════════════════╡\n",
       "│ Amazing game! - 9.5   │\n",
       "│ Fun - 10.0            │\n",
       "└───────────────────────┘"
      ]
     },
     "execution_count": 43,
     "metadata": {},
     "output_type": "execute_result"
    }
   ],
   "source": [
    "# Combine 2 columns together\n",
    "# We need to cast the rating column to a string data type (we see this later)\n",
    "video_games_reviews.select(\n",
    "    review_text_and_score=pl.col(\"review_text\")\n",
    "    + pl.lit(\" - \")\n",
    "    + pl.col(\"rating\").cast(pl.String)\n",
    ").head(2)"
   ]
  },
  {
   "cell_type": "code",
   "execution_count": 44,
   "metadata": {},
   "outputs": [
    {
     "data": {
      "text/html": [
       "<div><style>\n",
       ".dataframe > thead > tr,\n",
       ".dataframe > tbody > tr {\n",
       "  text-align: right;\n",
       "  white-space: pre-wrap;\n",
       "}\n",
       "</style>\n",
       "<small>shape: (2, 1)</small><table border=\"1\" class=\"dataframe\"><thead><tr><th>review_text_and_score</th></tr><tr><td>str</td></tr></thead><tbody><tr><td>&quot;review: Amazing game!, on 2023…</td></tr><tr><td>&quot;review: Fun, on 2023-01-20&quot;</td></tr></tbody></table></div>"
      ],
      "text/plain": [
       "shape: (2, 1)\n",
       "┌─────────────────────────────────┐\n",
       "│ review_text_and_score           │\n",
       "│ ---                             │\n",
       "│ str                             │\n",
       "╞═════════════════════════════════╡\n",
       "│ review: Amazing game!, on 2023… │\n",
       "│ review: Fun, on 2023-01-20      │\n",
       "└─────────────────────────────────┘"
      ]
     },
     "execution_count": 44,
     "metadata": {},
     "output_type": "execute_result"
    }
   ],
   "source": [
    "# Combine columns using pl.format\n",
    "video_games_reviews.select(\n",
    "    review_text_and_score=pl.format(\"review: {}, on {}\", \"review_text\", \"review_date\")\n",
    ").head(2)"
   ]
  },
  {
   "attachments": {},
   "cell_type": "markdown",
   "metadata": {},
   "source": [
    "#### Methods on dataframes and expressions"
   ]
  },
  {
   "cell_type": "code",
   "execution_count": 45,
   "metadata": {},
   "outputs": [
    {
     "data": {
      "text/html": [
       "<div><style>\n",
       ".dataframe > thead > tr,\n",
       ".dataframe > tbody > tr {\n",
       "  text-align: right;\n",
       "  white-space: pre-wrap;\n",
       "}\n",
       "</style>\n",
       "<small>shape: (1, 4)</small><table border=\"1\" class=\"dataframe\"><thead><tr><th>title</th><th>rating</th><th>review_date</th><th>review_text</th></tr><tr><td>str</td><td>f64</td><td>str</td><td>str</td></tr></thead><tbody><tr><td>&quot;Halo Infinite&quot;</td><td>8.0</td><td>&quot;2023-01-15&quot;</td><td>&quot;Amazing game!&quot;</td></tr></tbody></table></div>"
      ],
      "text/plain": [
       "shape: (1, 4)\n",
       "┌───────────────┬────────┬─────────────┬───────────────┐\n",
       "│ title         ┆ rating ┆ review_date ┆ review_text   │\n",
       "│ ---           ┆ ---    ┆ ---         ┆ ---           │\n",
       "│ str           ┆ f64    ┆ str         ┆ str           │\n",
       "╞═══════════════╪════════╪═════════════╪═══════════════╡\n",
       "│ Halo Infinite ┆ 8.0    ┆ 2023-01-15  ┆ Amazing game! │\n",
       "└───────────────┴────────┴─────────────┴───────────────┘"
      ]
     },
     "execution_count": 45,
     "metadata": {},
     "output_type": "execute_result"
    }
   ],
   "source": [
    "# Methods can be applied on the dataframe\n",
    "video_games_reviews.min()"
   ]
  },
  {
   "cell_type": "code",
   "execution_count": 46,
   "metadata": {},
   "outputs": [
    {
     "data": {
      "text/html": [
       "<div><style>\n",
       ".dataframe > thead > tr,\n",
       ".dataframe > tbody > tr {\n",
       "  text-align: right;\n",
       "  white-space: pre-wrap;\n",
       "}\n",
       "</style>\n",
       "<small>shape: (1, 4)</small><table border=\"1\" class=\"dataframe\"><thead><tr><th>title</th><th>rating</th><th>review_date</th><th>review_text</th></tr><tr><td>str</td><td>f64</td><td>str</td><td>str</td></tr></thead><tbody><tr><td>&quot;Halo Infinite&quot;</td><td>8.0</td><td>&quot;2023-01-15&quot;</td><td>&quot;Amazing game!&quot;</td></tr></tbody></table></div>"
      ],
      "text/plain": [
       "shape: (1, 4)\n",
       "┌───────────────┬────────┬─────────────┬───────────────┐\n",
       "│ title         ┆ rating ┆ review_date ┆ review_text   │\n",
       "│ ---           ┆ ---    ┆ ---         ┆ ---           │\n",
       "│ str           ┆ f64    ┆ str         ┆ str           │\n",
       "╞═══════════════╪════════╪═════════════╪═══════════════╡\n",
       "│ Halo Infinite ┆ 8.0    ┆ 2023-01-15  ┆ Amazing game! │\n",
       "└───────────────┴────────┴─────────────┴───────────────┘"
      ]
     },
     "execution_count": 46,
     "metadata": {},
     "output_type": "execute_result"
    }
   ],
   "source": [
    "# Methods can also be applied on expressions\n",
    "# In this example, the result is the same\n",
    "video_games_reviews.select(pl.all().min())"
   ]
  },
  {
   "cell_type": "code",
   "execution_count": 47,
   "metadata": {},
   "outputs": [
    {
     "data": {
      "text/html": [
       "<div><style>\n",
       ".dataframe > thead > tr,\n",
       ".dataframe > tbody > tr {\n",
       "  text-align: right;\n",
       "  white-space: pre-wrap;\n",
       "}\n",
       "</style>\n",
       "<small>shape: (6, 4)</small><table border=\"1\" class=\"dataframe\"><thead><tr><th>title</th><th>rating</th><th>review_date</th><th>review_text</th></tr><tr><td>str</td><td>f64</td><td>str</td><td>str</td></tr></thead><tbody><tr><td>null</td><td>null</td><td>null</td><td>null</td></tr><tr><td>&quot;Super Mario&quot;</td><td>9.5</td><td>&quot;2023-01-15&quot;</td><td>&quot;Amazing game!&quot;</td></tr><tr><td>&quot;Super Mario&quot;</td><td>9.5</td><td>&quot;2023-01-15&quot;</td><td>&quot;Amazing game!&quot;</td></tr><tr><td>&quot;Zelda&quot;</td><td>10.0</td><td>&quot;2023-01-20&quot;</td><td>&quot;Fun&quot;</td></tr><tr><td>&quot;Halo Infinite&quot;</td><td>9.0</td><td>&quot;2023-02-01&quot;</td><td>null</td></tr><tr><td>&quot;Zelda&quot;</td><td>8.0</td><td>&quot;2023-03-01&quot;</td><td>&quot;Good game!&quot;</td></tr></tbody></table></div>"
      ],
      "text/plain": [
       "shape: (6, 4)\n",
       "┌───────────────┬────────┬─────────────┬───────────────┐\n",
       "│ title         ┆ rating ┆ review_date ┆ review_text   │\n",
       "│ ---           ┆ ---    ┆ ---         ┆ ---           │\n",
       "│ str           ┆ f64    ┆ str         ┆ str           │\n",
       "╞═══════════════╪════════╪═════════════╪═══════════════╡\n",
       "│ null          ┆ null   ┆ null        ┆ null          │\n",
       "│ Super Mario   ┆ 9.5    ┆ 2023-01-15  ┆ Amazing game! │\n",
       "│ Super Mario   ┆ 9.5    ┆ 2023-01-15  ┆ Amazing game! │\n",
       "│ Zelda         ┆ 10.0   ┆ 2023-01-20  ┆ Fun           │\n",
       "│ Halo Infinite ┆ 9.0    ┆ 2023-02-01  ┆ null          │\n",
       "│ Zelda         ┆ 8.0    ┆ 2023-03-01  ┆ Good game!    │\n",
       "└───────────────┴────────┴─────────────┴───────────────┘"
      ]
     },
     "execution_count": 47,
     "metadata": {},
     "output_type": "execute_result"
    }
   ],
   "source": [
    "# Sorting the dataframe sorts all rows in the dataframe based on the review date\n",
    "video_games_reviews.sort(by=\"review_date\")"
   ]
  },
  {
   "cell_type": "code",
   "execution_count": 48,
   "metadata": {},
   "outputs": [
    {
     "data": {
      "text/html": [
       "<div><style>\n",
       ".dataframe > thead > tr,\n",
       ".dataframe > tbody > tr {\n",
       "  text-align: right;\n",
       "  white-space: pre-wrap;\n",
       "}\n",
       "</style>\n",
       "<small>shape: (6, 4)</small><table border=\"1\" class=\"dataframe\"><thead><tr><th>title</th><th>rating</th><th>review_date</th><th>review_text</th></tr><tr><td>str</td><td>f64</td><td>str</td><td>str</td></tr></thead><tbody><tr><td>&quot;Super Mario&quot;</td><td>9.5</td><td>null</td><td>&quot;Amazing game!&quot;</td></tr><tr><td>&quot;Zelda&quot;</td><td>10.0</td><td>&quot;2023-01-15&quot;</td><td>&quot;Fun&quot;</td></tr><tr><td>&quot;Super Mario&quot;</td><td>9.5</td><td>&quot;2023-01-15&quot;</td><td>&quot;Amazing game!&quot;</td></tr><tr><td>null</td><td>null</td><td>&quot;2023-01-20&quot;</td><td>null</td></tr><tr><td>&quot;Halo Infinite&quot;</td><td>9.0</td><td>&quot;2023-02-01&quot;</td><td>null</td></tr><tr><td>&quot;Zelda&quot;</td><td>8.0</td><td>&quot;2023-03-01&quot;</td><td>&quot;Good game!&quot;</td></tr></tbody></table></div>"
      ],
      "text/plain": [
       "shape: (6, 4)\n",
       "┌───────────────┬────────┬─────────────┬───────────────┐\n",
       "│ title         ┆ rating ┆ review_date ┆ review_text   │\n",
       "│ ---           ┆ ---    ┆ ---         ┆ ---           │\n",
       "│ str           ┆ f64    ┆ str         ┆ str           │\n",
       "╞═══════════════╪════════╪═════════════╪═══════════════╡\n",
       "│ Super Mario   ┆ 9.5    ┆ null        ┆ Amazing game! │\n",
       "│ Zelda         ┆ 10.0   ┆ 2023-01-15  ┆ Fun           │\n",
       "│ Super Mario   ┆ 9.5    ┆ 2023-01-15  ┆ Amazing game! │\n",
       "│ null          ┆ null   ┆ 2023-01-20  ┆ null          │\n",
       "│ Halo Infinite ┆ 9.0    ┆ 2023-02-01  ┆ null          │\n",
       "│ Zelda         ┆ 8.0    ┆ 2023-03-01  ┆ Good game!    │\n",
       "└───────────────┴────────┴─────────────┴───────────────┘"
      ]
     },
     "execution_count": 48,
     "metadata": {},
     "output_type": "execute_result"
    }
   ],
   "source": [
    "# Sorting the column using an expression sorts only the column\n",
    "# In this example, the result of applying on the dataframe and on the column is not the same\n",
    "# With expressions, each column is calculated independently of the other ones\n",
    "video_games_reviews.with_columns(pl.col(\"review_date\").sort())"
   ]
  },
  {
   "attachments": {},
   "cell_type": "markdown",
   "metadata": {},
   "source": [
    "#### Advanced column selection"
   ]
  },
  {
   "cell_type": "code",
   "execution_count": 49,
   "metadata": {},
   "outputs": [
    {
     "data": {
      "text/plain": [
       "polars.config.Config"
      ]
     },
     "execution_count": 49,
     "metadata": {},
     "output_type": "execute_result"
    }
   ],
   "source": [
    "pl.Config.set_tbl_cols(7)"
   ]
  },
  {
   "cell_type": "code",
   "execution_count": 50,
   "metadata": {},
   "outputs": [
    {
     "data": {
      "text/html": [
       "<div><style>\n",
       ".dataframe > thead > tr,\n",
       ".dataframe > tbody > tr {\n",
       "  text-align: right;\n",
       "  white-space: pre-wrap;\n",
       "}\n",
       "</style>\n",
       "<small>shape: (1, 11)</small><table border=\"1\" class=\"dataframe\"><thead><tr><th>perc_0</th><th>perc_10</th><th>perc_20</th><th>&hellip;</th><th>perc_80</th><th>perc_90</th><th>perc_100</th></tr><tr><td>f64</td><td>f64</td><td>f64</td><td>&hellip;</td><td>f64</td><td>f64</td><td>f64</td></tr></thead><tbody><tr><td>8.0</td><td>8.0</td><td>9.0</td><td>&hellip;</td><td>9.5</td><td>10.0</td><td>10.0</td></tr></tbody></table></div>"
      ],
      "text/plain": [
       "shape: (1, 11)\n",
       "┌────────┬─────────┬─────────┬─────────┬───┬─────────┬─────────┬──────────┐\n",
       "│ perc_0 ┆ perc_10 ┆ perc_20 ┆ perc_30 ┆ … ┆ perc_80 ┆ perc_90 ┆ perc_100 │\n",
       "│ ---    ┆ ---     ┆ ---     ┆ ---     ┆   ┆ ---     ┆ ---     ┆ ---      │\n",
       "│ f64    ┆ f64     ┆ f64     ┆ f64     ┆   ┆ f64     ┆ f64     ┆ f64      │\n",
       "╞════════╪═════════╪═════════╪═════════╪═══╪═════════╪═════════╪══════════╡\n",
       "│ 8.0    ┆ 8.0     ┆ 9.0     ┆ 9.0     ┆ … ┆ 9.5     ┆ 10.0    ┆ 10.0     │\n",
       "└────────┴─────────┴─────────┴─────────┴───┴─────────┴─────────┴──────────┘"
      ]
     },
     "execution_count": 50,
     "metadata": {},
     "output_type": "execute_result"
    }
   ],
   "source": [
    "# Calculate the quantiles of the rating column: one decile per column\n",
    "video_games_reviews.select(\n",
    "    pl.col(\"rating\").quantile(i / 100).alias(f\"perc_{i}\") for i in range(0, 101, 10)\n",
    ")"
   ]
  },
  {
   "cell_type": "code",
   "execution_count": 51,
   "metadata": {},
   "outputs": [
    {
     "data": {
      "text/html": [
       "<div><style>\n",
       ".dataframe > thead > tr,\n",
       ".dataframe > tbody > tr {\n",
       "  text-align: right;\n",
       "  white-space: pre-wrap;\n",
       "}\n",
       "</style>\n",
       "<small>shape: (1, 4)</small><table border=\"1\" class=\"dataframe\"><thead><tr><th>title</th><th>rating</th><th>review_date</th><th>review_text</th></tr><tr><td>u32</td><td>u32</td><td>u32</td><td>u32</td></tr></thead><tbody><tr><td>4</td><td>5</td><td>5</td><td>4</td></tr></tbody></table></div>"
      ],
      "text/plain": [
       "shape: (1, 4)\n",
       "┌───────┬────────┬─────────────┬─────────────┐\n",
       "│ title ┆ rating ┆ review_date ┆ review_text │\n",
       "│ ---   ┆ ---    ┆ ---         ┆ ---         │\n",
       "│ u32   ┆ u32    ┆ u32         ┆ u32         │\n",
       "╞═══════╪════════╪═════════════╪═════════════╡\n",
       "│ 4     ┆ 5      ┆ 5           ┆ 4           │\n",
       "└───────┴────────┴─────────────┴─────────────┘"
      ]
     },
     "execution_count": 51,
     "metadata": {},
     "output_type": "execute_result"
    }
   ],
   "source": [
    "# Count the number of unique values for each column\n",
    "video_games_reviews.select(pl.all().n_unique())"
   ]
  },
  {
   "cell_type": "code",
   "execution_count": 52,
   "metadata": {},
   "outputs": [
    {
     "data": {
      "text/html": [
       "<div><style>\n",
       ".dataframe > thead > tr,\n",
       ".dataframe > tbody > tr {\n",
       "  text-align: right;\n",
       "  white-space: pre-wrap;\n",
       "}\n",
       "</style>\n",
       "<small>shape: (1, 4)</small><table border=\"1\" class=\"dataframe\"><thead><tr><th>title</th><th>rating</th><th>review_date</th><th>review_text</th></tr><tr><td>bool</td><td>bool</td><td>bool</td><td>bool</td></tr></thead><tbody><tr><td>true</td><td>false</td><td>false</td><td>true</td></tr></tbody></table></div>"
      ],
      "text/plain": [
       "shape: (1, 4)\n",
       "┌───────┬────────┬─────────────┬─────────────┐\n",
       "│ title ┆ rating ┆ review_date ┆ review_text │\n",
       "│ ---   ┆ ---    ┆ ---         ┆ ---         │\n",
       "│ bool  ┆ bool   ┆ bool        ┆ bool        │\n",
       "╞═══════╪════════╪═════════════╪═════════════╡\n",
       "│ true  ┆ false  ┆ false       ┆ true        │\n",
       "└───────┴────────┴─────────────┴─────────────┘"
      ]
     },
     "execution_count": 52,
     "metadata": {},
     "output_type": "execute_result"
    }
   ],
   "source": [
    "# Verify which columns have less than 5 unique values\n",
    "video_games_reviews.select(pl.all().n_unique() < 5)"
   ]
  },
  {
   "cell_type": "code",
   "execution_count": 53,
   "metadata": {},
   "outputs": [
    {
     "data": {
      "text/plain": [
       "['title', 'review_text']"
      ]
     },
     "execution_count": 53,
     "metadata": {},
     "output_type": "execute_result"
    }
   ],
   "source": [
    "# Extract the columns with 4 unique values or less\n",
    "# .any() returns True if any value is True so it filters the columns\n",
    "[\n",
    "    column.name\n",
    "    for column in video_games_reviews.select(pl.all().n_unique() < 5)\n",
    "    if column.any()\n",
    "]"
   ]
  },
  {
   "cell_type": "code",
   "execution_count": 54,
   "metadata": {},
   "outputs": [
    {
     "data": {
      "text/html": [
       "<div><style>\n",
       ".dataframe > thead > tr,\n",
       ".dataframe > tbody > tr {\n",
       "  text-align: right;\n",
       "  white-space: pre-wrap;\n",
       "}\n",
       "</style>\n",
       "<small>shape: (2, 2)</small><table border=\"1\" class=\"dataframe\"><thead><tr><th>title</th><th>review_text</th></tr><tr><td>str</td><td>str</td></tr></thead><tbody><tr><td>&quot;Super Mario&quot;</td><td>&quot;Amazing game!&quot;</td></tr><tr><td>&quot;Zelda&quot;</td><td>&quot;Fun&quot;</td></tr></tbody></table></div>"
      ],
      "text/plain": [
       "shape: (2, 2)\n",
       "┌─────────────┬───────────────┐\n",
       "│ title       ┆ review_text   │\n",
       "│ ---         ┆ ---           │\n",
       "│ str         ┆ str           │\n",
       "╞═════════════╪═══════════════╡\n",
       "│ Super Mario ┆ Amazing game! │\n",
       "│ Zelda       ┆ Fun           │\n",
       "└─────────────┴───────────────┘"
      ]
     },
     "execution_count": 54,
     "metadata": {},
     "output_type": "execute_result"
    }
   ],
   "source": [
    "# Select columns that have 4 unique values or less\n",
    "video_games_reviews.select(\n",
    "    column.name\n",
    "    for column in video_games_reviews.select(pl.all().n_unique() <= 4)\n",
    "    if column.any()\n",
    ").head(2)"
   ]
  },
  {
   "attachments": {},
   "cell_type": "markdown",
   "metadata": {},
   "source": [
    "#### Filter columns"
   ]
  },
  {
   "cell_type": "code",
   "execution_count": 55,
   "metadata": {},
   "outputs": [
    {
     "data": {
      "text/html": [
       "<div><style>\n",
       ".dataframe > thead > tr,\n",
       ".dataframe > tbody > tr {\n",
       "  text-align: right;\n",
       "  white-space: pre-wrap;\n",
       "}\n",
       "</style>\n",
       "<small>shape: (2, 4)</small><table border=\"1\" class=\"dataframe\"><thead><tr><th>title</th><th>rating</th><th>review_date</th><th>review_text</th></tr><tr><td>str</td><td>f64</td><td>str</td><td>str</td></tr></thead><tbody><tr><td>&quot;Zelda&quot;</td><td>10.0</td><td>&quot;2023-01-20&quot;</td><td>&quot;Fun&quot;</td></tr><tr><td>&quot;Zelda&quot;</td><td>8.0</td><td>&quot;2023-03-01&quot;</td><td>&quot;Good game!&quot;</td></tr></tbody></table></div>"
      ],
      "text/plain": [
       "shape: (2, 4)\n",
       "┌───────┬────────┬─────────────┬─────────────┐\n",
       "│ title ┆ rating ┆ review_date ┆ review_text │\n",
       "│ ---   ┆ ---    ┆ ---         ┆ ---         │\n",
       "│ str   ┆ f64    ┆ str         ┆ str         │\n",
       "╞═══════╪════════╪═════════════╪═════════════╡\n",
       "│ Zelda ┆ 10.0   ┆ 2023-01-20  ┆ Fun         │\n",
       "│ Zelda ┆ 8.0    ┆ 2023-03-01  ┆ Good game!  │\n",
       "└───────┴────────┴─────────────┴─────────────┘"
      ]
     },
     "execution_count": 55,
     "metadata": {},
     "output_type": "execute_result"
    }
   ],
   "source": [
    "# Filter dataframe based on one value\n",
    "video_games_reviews.filter(pl.col(\"title\") == \"Zelda\")"
   ]
  },
  {
   "cell_type": "code",
   "execution_count": 56,
   "metadata": {},
   "outputs": [
    {
     "data": {
      "text/html": [
       "<div><style>\n",
       ".dataframe > thead > tr,\n",
       ".dataframe > tbody > tr {\n",
       "  text-align: right;\n",
       "  white-space: pre-wrap;\n",
       "}\n",
       "</style>\n",
       "<small>shape: (4, 4)</small><table border=\"1\" class=\"dataframe\"><thead><tr><th>title</th><th>rating</th><th>review_date</th><th>review_text</th></tr><tr><td>str</td><td>f64</td><td>str</td><td>str</td></tr></thead><tbody><tr><td>&quot;Super Mario&quot;</td><td>9.5</td><td>&quot;2023-01-15&quot;</td><td>&quot;Amazing game!&quot;</td></tr><tr><td>&quot;Zelda&quot;</td><td>10.0</td><td>&quot;2023-01-20&quot;</td><td>&quot;Fun&quot;</td></tr><tr><td>&quot;Super Mario&quot;</td><td>9.5</td><td>&quot;2023-01-15&quot;</td><td>&quot;Amazing game!&quot;</td></tr><tr><td>&quot;Zelda&quot;</td><td>8.0</td><td>&quot;2023-03-01&quot;</td><td>&quot;Good game!&quot;</td></tr></tbody></table></div>"
      ],
      "text/plain": [
       "shape: (4, 4)\n",
       "┌─────────────┬────────┬─────────────┬───────────────┐\n",
       "│ title       ┆ rating ┆ review_date ┆ review_text   │\n",
       "│ ---         ┆ ---    ┆ ---         ┆ ---           │\n",
       "│ str         ┆ f64    ┆ str         ┆ str           │\n",
       "╞═════════════╪════════╪═════════════╪═══════════════╡\n",
       "│ Super Mario ┆ 9.5    ┆ 2023-01-15  ┆ Amazing game! │\n",
       "│ Zelda       ┆ 10.0   ┆ 2023-01-20  ┆ Fun           │\n",
       "│ Super Mario ┆ 9.5    ┆ 2023-01-15  ┆ Amazing game! │\n",
       "│ Zelda       ┆ 8.0    ┆ 2023-03-01  ┆ Good game!    │\n",
       "└─────────────┴────────┴─────────────┴───────────────┘"
      ]
     },
     "execution_count": 56,
     "metadata": {},
     "output_type": "execute_result"
    }
   ],
   "source": [
    "# Filter dataframe based on multiple values\n",
    "video_games_reviews.filter(pl.col(\"title\").is_in([\"Zelda\", \"Super Mario\"]))"
   ]
  },
  {
   "cell_type": "code",
   "execution_count": 57,
   "metadata": {},
   "outputs": [
    {
     "data": {
      "text/html": [
       "<div><style>\n",
       ".dataframe > thead > tr,\n",
       ".dataframe > tbody > tr {\n",
       "  text-align: right;\n",
       "  white-space: pre-wrap;\n",
       "}\n",
       "</style>\n",
       "<small>shape: (1, 4)</small><table border=\"1\" class=\"dataframe\"><thead><tr><th>title</th><th>rating</th><th>review_date</th><th>review_text</th></tr><tr><td>str</td><td>f64</td><td>str</td><td>str</td></tr></thead><tbody><tr><td>&quot;Zelda&quot;</td><td>8.0</td><td>&quot;2023-03-01&quot;</td><td>&quot;Good game!&quot;</td></tr></tbody></table></div>"
      ],
      "text/plain": [
       "shape: (1, 4)\n",
       "┌───────┬────────┬─────────────┬─────────────┐\n",
       "│ title ┆ rating ┆ review_date ┆ review_text │\n",
       "│ ---   ┆ ---    ┆ ---         ┆ ---         │\n",
       "│ str   ┆ f64    ┆ str         ┆ str         │\n",
       "╞═══════╪════════╪═════════════╪═════════════╡\n",
       "│ Zelda ┆ 8.0    ┆ 2023-03-01  ┆ Good game!  │\n",
       "└───────┴────────┴─────────────┴─────────────┘"
      ]
     },
     "execution_count": 57,
     "metadata": {},
     "output_type": "execute_result"
    }
   ],
   "source": [
    "# Filter dataframe based on multiple values : use AND &\n",
    "video_games_reviews.filter((pl.col(\"rating\") == 8) & (pl.col(\"title\") == \"Zelda\"))"
   ]
  },
  {
   "cell_type": "code",
   "execution_count": 58,
   "metadata": {},
   "outputs": [
    {
     "data": {
      "text/html": [
       "<div><style>\n",
       ".dataframe > thead > tr,\n",
       ".dataframe > tbody > tr {\n",
       "  text-align: right;\n",
       "  white-space: pre-wrap;\n",
       "}\n",
       "</style>\n",
       "<small>shape: (4, 4)</small><table border=\"1\" class=\"dataframe\"><thead><tr><th>title</th><th>rating</th><th>review_date</th><th>review_text</th></tr><tr><td>str</td><td>f64</td><td>str</td><td>str</td></tr></thead><tbody><tr><td>&quot;Super Mario&quot;</td><td>9.5</td><td>&quot;2023-01-15&quot;</td><td>&quot;Amazing game!&quot;</td></tr><tr><td>&quot;Zelda&quot;</td><td>10.0</td><td>&quot;2023-01-20&quot;</td><td>&quot;Fun&quot;</td></tr><tr><td>&quot;Super Mario&quot;</td><td>9.5</td><td>&quot;2023-01-15&quot;</td><td>&quot;Amazing game!&quot;</td></tr><tr><td>&quot;Zelda&quot;</td><td>8.0</td><td>&quot;2023-03-01&quot;</td><td>&quot;Good game!&quot;</td></tr></tbody></table></div>"
      ],
      "text/plain": [
       "shape: (4, 4)\n",
       "┌─────────────┬────────┬─────────────┬───────────────┐\n",
       "│ title       ┆ rating ┆ review_date ┆ review_text   │\n",
       "│ ---         ┆ ---    ┆ ---         ┆ ---           │\n",
       "│ str         ┆ f64    ┆ str         ┆ str           │\n",
       "╞═════════════╪════════╪═════════════╪═══════════════╡\n",
       "│ Super Mario ┆ 9.5    ┆ 2023-01-15  ┆ Amazing game! │\n",
       "│ Zelda       ┆ 10.0   ┆ 2023-01-20  ┆ Fun           │\n",
       "│ Super Mario ┆ 9.5    ┆ 2023-01-15  ┆ Amazing game! │\n",
       "│ Zelda       ┆ 8.0    ┆ 2023-03-01  ┆ Good game!    │\n",
       "└─────────────┴────────┴─────────────┴───────────────┘"
      ]
     },
     "execution_count": 58,
     "metadata": {},
     "output_type": "execute_result"
    }
   ],
   "source": [
    "# Filter dataframe based on multiple values : use OR |\n",
    "video_games_reviews.filter((pl.col(\"rating\") == 9.5) | (pl.col(\"title\") == \"Zelda\"))"
   ]
  },
  {
   "cell_type": "code",
   "execution_count": 59,
   "metadata": {},
   "outputs": [
    {
     "data": {
      "text/html": [
       "<div><style>\n",
       ".dataframe > thead > tr,\n",
       ".dataframe > tbody > tr {\n",
       "  text-align: right;\n",
       "  white-space: pre-wrap;\n",
       "}\n",
       "</style>\n",
       "<small>shape: (4, 4)</small><table border=\"1\" class=\"dataframe\"><thead><tr><th>title</th><th>rating</th><th>review_date</th><th>review_text</th></tr><tr><td>str</td><td>f64</td><td>str</td><td>str</td></tr></thead><tbody><tr><td>&quot;Super Mario&quot;</td><td>9.5</td><td>&quot;2023-01-15&quot;</td><td>&quot;Amazing game!&quot;</td></tr><tr><td>&quot;Super Mario&quot;</td><td>9.5</td><td>&quot;2023-01-15&quot;</td><td>&quot;Amazing game!&quot;</td></tr><tr><td>&quot;Halo Infinite&quot;</td><td>9.0</td><td>&quot;2023-02-01&quot;</td><td>null</td></tr><tr><td>&quot;Zelda&quot;</td><td>8.0</td><td>&quot;2023-03-01&quot;</td><td>&quot;Good game!&quot;</td></tr></tbody></table></div>"
      ],
      "text/plain": [
       "shape: (4, 4)\n",
       "┌───────────────┬────────┬─────────────┬───────────────┐\n",
       "│ title         ┆ rating ┆ review_date ┆ review_text   │\n",
       "│ ---           ┆ ---    ┆ ---         ┆ ---           │\n",
       "│ str           ┆ f64    ┆ str         ┆ str           │\n",
       "╞═══════════════╪════════╪═════════════╪═══════════════╡\n",
       "│ Super Mario   ┆ 9.5    ┆ 2023-01-15  ┆ Amazing game! │\n",
       "│ Super Mario   ┆ 9.5    ┆ 2023-01-15  ┆ Amazing game! │\n",
       "│ Halo Infinite ┆ 9.0    ┆ 2023-02-01  ┆ null          │\n",
       "│ Zelda         ┆ 8.0    ┆ 2023-03-01  ┆ Good game!    │\n",
       "└───────────────┴────────┴─────────────┴───────────────┘"
      ]
     },
     "execution_count": 59,
     "metadata": {},
     "output_type": "execute_result"
    }
   ],
   "source": [
    "# Filter dataframe using numerical values: ratings bigger or equal to 8 and less than 10\n",
    "video_games_reviews.filter((pl.col(\"rating\") >= 8) & (pl.col(\"rating\") < 10))"
   ]
  },
  {
   "cell_type": "code",
   "execution_count": 60,
   "metadata": {},
   "outputs": [
    {
     "data": {
      "text/html": [
       "<div><style>\n",
       ".dataframe > thead > tr,\n",
       ".dataframe > tbody > tr {\n",
       "  text-align: right;\n",
       "  white-space: pre-wrap;\n",
       "}\n",
       "</style>\n",
       "<small>shape: (3, 4)</small><table border=\"1\" class=\"dataframe\"><thead><tr><th>title</th><th>rating</th><th>review_date</th><th>review_text</th></tr><tr><td>str</td><td>f64</td><td>str</td><td>str</td></tr></thead><tbody><tr><td>&quot;Super Mario&quot;</td><td>9.5</td><td>&quot;2023-01-15&quot;</td><td>&quot;Amazing game!&quot;</td></tr><tr><td>&quot;Super Mario&quot;</td><td>9.5</td><td>&quot;2023-01-15&quot;</td><td>&quot;Amazing game!&quot;</td></tr><tr><td>&quot;Halo Infinite&quot;</td><td>9.0</td><td>&quot;2023-02-01&quot;</td><td>null</td></tr></tbody></table></div>"
      ],
      "text/plain": [
       "shape: (3, 4)\n",
       "┌───────────────┬────────┬─────────────┬───────────────┐\n",
       "│ title         ┆ rating ┆ review_date ┆ review_text   │\n",
       "│ ---           ┆ ---    ┆ ---         ┆ ---           │\n",
       "│ str           ┆ f64    ┆ str         ┆ str           │\n",
       "╞═══════════════╪════════╪═════════════╪═══════════════╡\n",
       "│ Super Mario   ┆ 9.5    ┆ 2023-01-15  ┆ Amazing game! │\n",
       "│ Super Mario   ┆ 9.5    ┆ 2023-01-15  ┆ Amazing game! │\n",
       "│ Halo Infinite ┆ 9.0    ┆ 2023-02-01  ┆ null          │\n",
       "└───────────────┴────────┴─────────────┴───────────────┘"
      ]
     },
     "execution_count": 60,
     "metadata": {},
     "output_type": "execute_result"
    }
   ],
   "source": [
    "# Filter dataframe using regex: filter all videogame titles that contain 'Super' or 'Infinite'\n",
    "video_games_reviews.filter(pl.col(\"title\").str.contains(\"Super|Infinite\"))"
   ]
  },
  {
   "cell_type": "code",
   "execution_count": 61,
   "metadata": {},
   "outputs": [
    {
     "data": {
      "text/html": [
       "<div><style>\n",
       ".dataframe > thead > tr,\n",
       ".dataframe > tbody > tr {\n",
       "  text-align: right;\n",
       "  white-space: pre-wrap;\n",
       "}\n",
       "</style>\n",
       "<small>shape: (1, 4)</small><table border=\"1\" class=\"dataframe\"><thead><tr><th>title</th><th>rating</th><th>review_date</th><th>review_text</th></tr><tr><td>str</td><td>f64</td><td>str</td><td>str</td></tr></thead><tbody><tr><td>&quot;Zelda&quot;</td><td>8.0</td><td>&quot;2023-03-01&quot;</td><td>&quot;Good game!&quot;</td></tr></tbody></table></div>"
      ],
      "text/plain": [
       "shape: (1, 4)\n",
       "┌───────┬────────┬─────────────┬─────────────┐\n",
       "│ title ┆ rating ┆ review_date ┆ review_text │\n",
       "│ ---   ┆ ---    ┆ ---         ┆ ---         │\n",
       "│ str   ┆ f64    ┆ str         ┆ str         │\n",
       "╞═══════╪════════╪═════════════╪═════════════╡\n",
       "│ Zelda ┆ 8.0    ┆ 2023-03-01  ┆ Good game!  │\n",
       "└───────┴────────┴─────────────┴─────────────┘"
      ]
     },
     "execution_count": 61,
     "metadata": {},
     "output_type": "execute_result"
    }
   ],
   "source": [
    "# Filter based on a calculation: show the rating with the latest date\n",
    "video_games_reviews.filter(pl.col(\"review_date\") == pl.col(\"review_date\").max())"
   ]
  },
  {
   "attachments": {},
   "cell_type": "markdown",
   "metadata": {},
   "source": [
    "#### Unique and duplicated values"
   ]
  },
  {
   "cell_type": "code",
   "execution_count": 62,
   "metadata": {},
   "outputs": [
    {
     "data": {
      "text/html": [
       "<div><style>\n",
       ".dataframe > thead > tr,\n",
       ".dataframe > tbody > tr {\n",
       "  text-align: right;\n",
       "  white-space: pre-wrap;\n",
       "}\n",
       "</style>\n",
       "<small>shape: (5, 4)</small><table border=\"1\" class=\"dataframe\"><thead><tr><th>title</th><th>rating</th><th>review_date</th><th>review_text</th></tr><tr><td>str</td><td>f64</td><td>str</td><td>str</td></tr></thead><tbody><tr><td>&quot;Halo Infinite&quot;</td><td>9.0</td><td>&quot;2023-02-01&quot;</td><td>null</td></tr><tr><td>&quot;Super Mario&quot;</td><td>9.5</td><td>&quot;2023-01-15&quot;</td><td>&quot;Amazing game!&quot;</td></tr><tr><td>&quot;Zelda&quot;</td><td>10.0</td><td>&quot;2023-01-20&quot;</td><td>&quot;Fun&quot;</td></tr><tr><td>null</td><td>null</td><td>null</td><td>null</td></tr><tr><td>&quot;Zelda&quot;</td><td>8.0</td><td>&quot;2023-03-01&quot;</td><td>&quot;Good game!&quot;</td></tr></tbody></table></div>"
      ],
      "text/plain": [
       "shape: (5, 4)\n",
       "┌───────────────┬────────┬─────────────┬───────────────┐\n",
       "│ title         ┆ rating ┆ review_date ┆ review_text   │\n",
       "│ ---           ┆ ---    ┆ ---         ┆ ---           │\n",
       "│ str           ┆ f64    ┆ str         ┆ str           │\n",
       "╞═══════════════╪════════╪═════════════╪═══════════════╡\n",
       "│ Halo Infinite ┆ 9.0    ┆ 2023-02-01  ┆ null          │\n",
       "│ Super Mario   ┆ 9.5    ┆ 2023-01-15  ┆ Amazing game! │\n",
       "│ Zelda         ┆ 10.0   ┆ 2023-01-20  ┆ Fun           │\n",
       "│ null          ┆ null   ┆ null        ┆ null          │\n",
       "│ Zelda         ┆ 8.0    ┆ 2023-03-01  ┆ Good game!    │\n",
       "└───────────────┴────────┴─────────────┴───────────────┘"
      ]
     },
     "execution_count": 62,
     "metadata": {},
     "output_type": "execute_result"
    }
   ],
   "source": [
    "# For reviews that appear more than once, keep only one review\n",
    "# I keep only one review for Super Mario that has duplicated reviews\n",
    "video_games_reviews.unique()"
   ]
  },
  {
   "cell_type": "code",
   "execution_count": 63,
   "metadata": {},
   "outputs": [
    {
     "data": {
      "text/html": [
       "<div><style>\n",
       ".dataframe > thead > tr,\n",
       ".dataframe > tbody > tr {\n",
       "  text-align: right;\n",
       "  white-space: pre-wrap;\n",
       "}\n",
       "</style>\n",
       "<small>shape: (4, 4)</small><table border=\"1\" class=\"dataframe\"><thead><tr><th>title</th><th>rating</th><th>review_date</th><th>review_text</th></tr><tr><td>str</td><td>f64</td><td>str</td><td>str</td></tr></thead><tbody><tr><td>&quot;Zelda&quot;</td><td>10.0</td><td>&quot;2023-01-20&quot;</td><td>&quot;Fun&quot;</td></tr><tr><td>null</td><td>null</td><td>null</td><td>null</td></tr><tr><td>&quot;Halo Infinite&quot;</td><td>9.0</td><td>&quot;2023-02-01&quot;</td><td>null</td></tr><tr><td>&quot;Zelda&quot;</td><td>8.0</td><td>&quot;2023-03-01&quot;</td><td>&quot;Good game!&quot;</td></tr></tbody></table></div>"
      ],
      "text/plain": [
       "shape: (4, 4)\n",
       "┌───────────────┬────────┬─────────────┬─────────────┐\n",
       "│ title         ┆ rating ┆ review_date ┆ review_text │\n",
       "│ ---           ┆ ---    ┆ ---         ┆ ---         │\n",
       "│ str           ┆ f64    ┆ str         ┆ str         │\n",
       "╞═══════════════╪════════╪═════════════╪═════════════╡\n",
       "│ Zelda         ┆ 10.0   ┆ 2023-01-20  ┆ Fun         │\n",
       "│ null          ┆ null   ┆ null        ┆ null        │\n",
       "│ Halo Infinite ┆ 9.0    ┆ 2023-02-01  ┆ null        │\n",
       "│ Zelda         ┆ 8.0    ┆ 2023-03-01  ┆ Good game!  │\n",
       "└───────────────┴────────┴─────────────┴─────────────┘"
      ]
     },
     "execution_count": 63,
     "metadata": {},
     "output_type": "execute_result"
    }
   ],
   "source": [
    "# Show only the reviews appearing once\n",
    "# This fully remove Super Mario who had the same review twice\n",
    "video_games_reviews.filter(video_games_reviews.is_unique())"
   ]
  },
  {
   "cell_type": "code",
   "execution_count": 64,
   "metadata": {},
   "outputs": [
    {
     "data": {
      "text/html": [
       "<div><style>\n",
       ".dataframe > thead > tr,\n",
       ".dataframe > tbody > tr {\n",
       "  text-align: right;\n",
       "  white-space: pre-wrap;\n",
       "}\n",
       "</style>\n",
       "<small>shape: (2, 4)</small><table border=\"1\" class=\"dataframe\"><thead><tr><th>title</th><th>rating</th><th>review_date</th><th>review_text</th></tr><tr><td>str</td><td>f64</td><td>str</td><td>str</td></tr></thead><tbody><tr><td>&quot;Super Mario&quot;</td><td>9.5</td><td>&quot;2023-01-15&quot;</td><td>&quot;Amazing game!&quot;</td></tr><tr><td>&quot;Super Mario&quot;</td><td>9.5</td><td>&quot;2023-01-15&quot;</td><td>&quot;Amazing game!&quot;</td></tr></tbody></table></div>"
      ],
      "text/plain": [
       "shape: (2, 4)\n",
       "┌─────────────┬────────┬─────────────┬───────────────┐\n",
       "│ title       ┆ rating ┆ review_date ┆ review_text   │\n",
       "│ ---         ┆ ---    ┆ ---         ┆ ---           │\n",
       "│ str         ┆ f64    ┆ str         ┆ str           │\n",
       "╞═════════════╪════════╪═════════════╪═══════════════╡\n",
       "│ Super Mario ┆ 9.5    ┆ 2023-01-15  ┆ Amazing game! │\n",
       "│ Super Mario ┆ 9.5    ┆ 2023-01-15  ┆ Amazing game! │\n",
       "└─────────────┴────────┴─────────────┴───────────────┘"
      ]
     },
     "execution_count": 64,
     "metadata": {},
     "output_type": "execute_result"
    }
   ],
   "source": [
    "# Show only duplicated reviews:\n",
    "# Show only reviews appearing more than once in the table\n",
    "video_games_reviews.filter(video_games_reviews.is_duplicated())"
   ]
  },
  {
   "cell_type": "code",
   "execution_count": 65,
   "metadata": {},
   "outputs": [
    {
     "data": {
      "text/html": [
       "<div><style>\n",
       ".dataframe > thead > tr,\n",
       ".dataframe > tbody > tr {\n",
       "  text-align: right;\n",
       "  white-space: pre-wrap;\n",
       "}\n",
       "</style>\n",
       "<small>shape: (2, 4)</small><table border=\"1\" class=\"dataframe\"><thead><tr><th>title</th><th>rating</th><th>review_date</th><th>review_text</th></tr><tr><td>str</td><td>f64</td><td>str</td><td>str</td></tr></thead><tbody><tr><td>null</td><td>null</td><td>null</td><td>null</td></tr><tr><td>&quot;Halo Infinite&quot;</td><td>9.0</td><td>&quot;2023-02-01&quot;</td><td>null</td></tr></tbody></table></div>"
      ],
      "text/plain": [
       "shape: (2, 4)\n",
       "┌───────────────┬────────┬─────────────┬─────────────┐\n",
       "│ title         ┆ rating ┆ review_date ┆ review_text │\n",
       "│ ---           ┆ ---    ┆ ---         ┆ ---         │\n",
       "│ str           ┆ f64    ┆ str         ┆ str         │\n",
       "╞═══════════════╪════════╪═════════════╪═════════════╡\n",
       "│ null          ┆ null   ┆ null        ┆ null        │\n",
       "│ Halo Infinite ┆ 9.0    ┆ 2023-02-01  ┆ null        │\n",
       "└───────────────┴────────┴─────────────┴─────────────┘"
      ]
     },
     "execution_count": 65,
     "metadata": {},
     "output_type": "execute_result"
    }
   ],
   "source": [
    "# Show only games with one review\n",
    "# Applying is_unique() to title gives the rows where the title is unique\n",
    "video_games_reviews.filter(pl.col(\"title\").is_unique())"
   ]
  },
  {
   "cell_type": "code",
   "execution_count": 66,
   "metadata": {},
   "outputs": [
    {
     "data": {
      "text/html": [
       "<div><style>\n",
       ".dataframe > thead > tr,\n",
       ".dataframe > tbody > tr {\n",
       "  text-align: right;\n",
       "  white-space: pre-wrap;\n",
       "}\n",
       "</style>\n",
       "<small>shape: (4, 4)</small><table border=\"1\" class=\"dataframe\"><thead><tr><th>title</th><th>rating</th><th>review_date</th><th>review_text</th></tr><tr><td>str</td><td>f64</td><td>str</td><td>str</td></tr></thead><tbody><tr><td>&quot;Super Mario&quot;</td><td>9.5</td><td>&quot;2023-01-15&quot;</td><td>&quot;Amazing game!&quot;</td></tr><tr><td>&quot;Zelda&quot;</td><td>10.0</td><td>&quot;2023-01-20&quot;</td><td>&quot;Fun&quot;</td></tr><tr><td>&quot;Super Mario&quot;</td><td>9.5</td><td>&quot;2023-01-15&quot;</td><td>&quot;Amazing game!&quot;</td></tr><tr><td>&quot;Zelda&quot;</td><td>8.0</td><td>&quot;2023-03-01&quot;</td><td>&quot;Good game!&quot;</td></tr></tbody></table></div>"
      ],
      "text/plain": [
       "shape: (4, 4)\n",
       "┌─────────────┬────────┬─────────────┬───────────────┐\n",
       "│ title       ┆ rating ┆ review_date ┆ review_text   │\n",
       "│ ---         ┆ ---    ┆ ---         ┆ ---           │\n",
       "│ str         ┆ f64    ┆ str         ┆ str           │\n",
       "╞═════════════╪════════╪═════════════╪═══════════════╡\n",
       "│ Super Mario ┆ 9.5    ┆ 2023-01-15  ┆ Amazing game! │\n",
       "│ Zelda       ┆ 10.0   ┆ 2023-01-20  ┆ Fun           │\n",
       "│ Super Mario ┆ 9.5    ┆ 2023-01-15  ┆ Amazing game! │\n",
       "│ Zelda       ┆ 8.0    ┆ 2023-03-01  ┆ Good game!    │\n",
       "└─────────────┴────────┴─────────────┴───────────────┘"
      ]
     },
     "execution_count": 66,
     "metadata": {},
     "output_type": "execute_result"
    }
   ],
   "source": [
    "# Show only games with 2 or more reviews\n",
    "video_games_reviews.filter(pl.col(\"title\").is_duplicated())"
   ]
  },
  {
   "cell_type": "code",
   "execution_count": 67,
   "metadata": {},
   "outputs": [
    {
     "data": {
      "text/plain": [
       "5"
      ]
     },
     "execution_count": 67,
     "metadata": {},
     "output_type": "execute_result"
    }
   ],
   "source": [
    "# Count the number of unique reviews\n",
    "# Excludes the duplicated review for Super Mario\n",
    "video_games_reviews.n_unique()"
   ]
  },
  {
   "cell_type": "code",
   "execution_count": 68,
   "metadata": {},
   "outputs": [
    {
     "data": {
      "text/plain": [
       "1"
      ]
     },
     "execution_count": 68,
     "metadata": {},
     "output_type": "execute_result"
    }
   ],
   "source": [
    "# Count the number of reviews that are duplicates\n",
    "video_games_reviews.height - video_games_reviews.n_unique()"
   ]
  },
  {
   "cell_type": "code",
   "execution_count": 69,
   "metadata": {},
   "outputs": [
    {
     "data": {
      "text/html": [
       "<div><style>\n",
       ".dataframe > thead > tr,\n",
       ".dataframe > tbody > tr {\n",
       "  text-align: right;\n",
       "  white-space: pre-wrap;\n",
       "}\n",
       "</style>\n",
       "<small>shape: (5, 4)</small><table border=\"1\" class=\"dataframe\"><thead><tr><th>title</th><th>rating</th><th>review_date</th><th>review_text</th></tr><tr><td>str</td><td>f64</td><td>str</td><td>str</td></tr></thead><tbody><tr><td>&quot;Zelda&quot;</td><td>8.0</td><td>&quot;2023-03-01&quot;</td><td>&quot;Good game!&quot;</td></tr><tr><td>&quot;Super Mario&quot;</td><td>9.5</td><td>&quot;2023-01-15&quot;</td><td>&quot;Amazing game!&quot;</td></tr><tr><td>null</td><td>null</td><td>null</td><td>null</td></tr><tr><td>&quot;Halo Infinite&quot;</td><td>9.0</td><td>&quot;2023-02-01&quot;</td><td>null</td></tr><tr><td>&quot;Zelda&quot;</td><td>10.0</td><td>&quot;2023-01-20&quot;</td><td>&quot;Fun&quot;</td></tr></tbody></table></div>"
      ],
      "text/plain": [
       "shape: (5, 4)\n",
       "┌───────────────┬────────┬─────────────┬───────────────┐\n",
       "│ title         ┆ rating ┆ review_date ┆ review_text   │\n",
       "│ ---           ┆ ---    ┆ ---         ┆ ---           │\n",
       "│ str           ┆ f64    ┆ str         ┆ str           │\n",
       "╞═══════════════╪════════╪═════════════╪═══════════════╡\n",
       "│ Zelda         ┆ 8.0    ┆ 2023-03-01  ┆ Good game!    │\n",
       "│ Super Mario   ┆ 9.5    ┆ 2023-01-15  ┆ Amazing game! │\n",
       "│ null          ┆ null   ┆ null        ┆ null          │\n",
       "│ Halo Infinite ┆ 9.0    ┆ 2023-02-01  ┆ null          │\n",
       "│ Zelda         ┆ 10.0   ┆ 2023-01-20  ┆ Fun           │\n",
       "└───────────────┴────────┴─────────────┴───────────────┘"
      ]
     },
     "execution_count": 69,
     "metadata": {},
     "output_type": "execute_result"
    }
   ],
   "source": [
    "# Keep only one review for each combination of title and rating\n",
    "video_games_reviews.unique(subset=[\"title\", \"rating\"])"
   ]
  },
  {
   "cell_type": "code",
   "execution_count": 70,
   "metadata": {},
   "outputs": [
    {
     "data": {
      "text/html": [
       "<div><style>\n",
       ".dataframe > thead > tr,\n",
       ".dataframe > tbody > tr {\n",
       "  text-align: right;\n",
       "  white-space: pre-wrap;\n",
       "}\n",
       "</style>\n",
       "<small>shape: (5, 1)</small><table border=\"1\" class=\"dataframe\"><thead><tr><th>rating</th></tr><tr><td>f64</td></tr></thead><tbody><tr><td>null</td></tr><tr><td>8.0</td></tr><tr><td>9.0</td></tr><tr><td>9.5</td></tr><tr><td>10.0</td></tr></tbody></table></div>"
      ],
      "text/plain": [
       "shape: (5, 1)\n",
       "┌────────┐\n",
       "│ rating │\n",
       "│ ---    │\n",
       "│ f64    │\n",
       "╞════════╡\n",
       "│ null   │\n",
       "│ 8.0    │\n",
       "│ 9.0    │\n",
       "│ 9.5    │\n",
       "│ 10.0   │\n",
       "└────────┘"
      ]
     },
     "execution_count": 70,
     "metadata": {},
     "output_type": "execute_result"
    }
   ],
   "source": [
    "# Show all unique values for rating\n",
    "# Equivalent to the SQL command: SELECT DISTINCT rating FROM video_games_reviews\n",
    "video_games_reviews.select(pl.col(\"rating\").unique())"
   ]
  },
  {
   "cell_type": "code",
   "execution_count": 71,
   "metadata": {},
   "outputs": [
    {
     "data": {
      "text/html": [
       "<div><style>\n",
       ".dataframe > thead > tr,\n",
       ".dataframe > tbody > tr {\n",
       "  text-align: right;\n",
       "  white-space: pre-wrap;\n",
       "}\n",
       "</style>\n",
       "<small>shape: (1, 4)</small><table border=\"1\" class=\"dataframe\"><thead><tr><th>title</th><th>rating</th><th>review_date</th><th>review_text</th></tr><tr><td>u32</td><td>u32</td><td>u32</td><td>u32</td></tr></thead><tbody><tr><td>4</td><td>5</td><td>5</td><td>4</td></tr></tbody></table></div>"
      ],
      "text/plain": [
       "shape: (1, 4)\n",
       "┌───────┬────────┬─────────────┬─────────────┐\n",
       "│ title ┆ rating ┆ review_date ┆ review_text │\n",
       "│ ---   ┆ ---    ┆ ---         ┆ ---         │\n",
       "│ u32   ┆ u32    ┆ u32         ┆ u32         │\n",
       "╞═══════╪════════╪═════════════╪═════════════╡\n",
       "│ 4     ┆ 5      ┆ 5           ┆ 4           │\n",
       "└───────┴────────┴─────────────┴─────────────┘"
      ]
     },
     "execution_count": 71,
     "metadata": {},
     "output_type": "execute_result"
    }
   ],
   "source": [
    "# Count the unique values for each column\n",
    "video_games_reviews.select(pl.all().n_unique())"
   ]
  },
  {
   "cell_type": "code",
   "execution_count": 72,
   "metadata": {},
   "outputs": [
    {
     "data": {
      "text/html": [
       "<div><style>\n",
       ".dataframe > thead > tr,\n",
       ".dataframe > tbody > tr {\n",
       "  text-align: right;\n",
       "  white-space: pre-wrap;\n",
       "}\n",
       "</style>\n",
       "<small>shape: (4, 1)</small><table border=\"1\" class=\"dataframe\"><thead><tr><th>title</th></tr><tr><td>struct[2]</td></tr></thead><tbody><tr><td>{&quot;Super Mario&quot;,2}</td></tr><tr><td>{&quot;Zelda&quot;,2}</td></tr><tr><td>{null,1}</td></tr><tr><td>{&quot;Halo Infinite&quot;,1}</td></tr></tbody></table></div>"
      ],
      "text/plain": [
       "shape: (4, 1)\n",
       "┌─────────────────────┐\n",
       "│ title               │\n",
       "│ ---                 │\n",
       "│ struct[2]           │\n",
       "╞═════════════════════╡\n",
       "│ {\"Super Mario\",2}   │\n",
       "│ {\"Zelda\",2}         │\n",
       "│ {null,1}            │\n",
       "│ {\"Halo Infinite\",1} │\n",
       "└─────────────────────┘"
      ]
     },
     "execution_count": 72,
     "metadata": {},
     "output_type": "execute_result"
    }
   ],
   "source": [
    "# Show unique value and their count for a column\n",
    "video_games_reviews.select(pl.col(\"title\").value_counts(sort=True))"
   ]
  },
  {
   "attachments": {},
   "cell_type": "markdown",
   "metadata": {},
   "source": [
    "#### Expression expansion and pl.struct()"
   ]
  },
  {
   "cell_type": "code",
   "execution_count": 77,
   "metadata": {},
   "outputs": [
    {
     "data": {
      "text/html": [
       "<div><style>\n",
       ".dataframe > thead > tr,\n",
       ".dataframe > tbody > tr {\n",
       "  text-align: right;\n",
       "  white-space: pre-wrap;\n",
       "}\n",
       "</style>\n",
       "<small>shape: (6, 6)</small><table border=\"1\" class=\"dataframe\"><thead><tr><th>title</th><th>rating</th><th>review_date</th><th>review_text</th><th>title_is_duplicated</th><th>rating_is_duplicated</th></tr><tr><td>str</td><td>f64</td><td>str</td><td>str</td><td>bool</td><td>bool</td></tr></thead><tbody><tr><td>&quot;Super Mario&quot;</td><td>9.5</td><td>&quot;2023-01-15&quot;</td><td>&quot;Amazing game!&quot;</td><td>true</td><td>true</td></tr><tr><td>&quot;Zelda&quot;</td><td>10.0</td><td>&quot;2023-01-20&quot;</td><td>&quot;Fun&quot;</td><td>true</td><td>false</td></tr><tr><td>&quot;Super Mario&quot;</td><td>9.5</td><td>&quot;2023-01-15&quot;</td><td>&quot;Amazing game!&quot;</td><td>true</td><td>true</td></tr><tr><td>null</td><td>null</td><td>null</td><td>null</td><td>false</td><td>false</td></tr><tr><td>&quot;Halo Infinite&quot;</td><td>9.0</td><td>&quot;2023-02-01&quot;</td><td>null</td><td>false</td><td>false</td></tr><tr><td>&quot;Zelda&quot;</td><td>8.0</td><td>&quot;2023-03-01&quot;</td><td>&quot;Good game!&quot;</td><td>true</td><td>false</td></tr></tbody></table></div>"
      ],
      "text/plain": [
       "shape: (6, 6)\n",
       "┌───────────────┬────────┬─────────────┬───────────────┬─────────────────────┬─────────────────────┐\n",
       "│ title         ┆ rating ┆ review_date ┆ review_text   ┆ title_is_duplicated ┆ rating_is_duplicate │\n",
       "│ ---           ┆ ---    ┆ ---         ┆ ---           ┆ ---                 ┆ d                   │\n",
       "│ str           ┆ f64    ┆ str         ┆ str           ┆ bool                ┆ ---                 │\n",
       "│               ┆        ┆             ┆               ┆                     ┆ bool                │\n",
       "╞═══════════════╪════════╪═════════════╪═══════════════╪═════════════════════╪═════════════════════╡\n",
       "│ Super Mario   ┆ 9.5    ┆ 2023-01-15  ┆ Amazing game! ┆ true                ┆ true                │\n",
       "│ Zelda         ┆ 10.0   ┆ 2023-01-20  ┆ Fun           ┆ true                ┆ false               │\n",
       "│ Super Mario   ┆ 9.5    ┆ 2023-01-15  ┆ Amazing game! ┆ true                ┆ true                │\n",
       "│ null          ┆ null   ┆ null        ┆ null          ┆ false               ┆ false               │\n",
       "│ Halo Infinite ┆ 9.0    ┆ 2023-02-01  ┆ null          ┆ false               ┆ false               │\n",
       "│ Zelda         ┆ 8.0    ┆ 2023-03-01  ┆ Good game!    ┆ true                ┆ false               │\n",
       "└───────────────┴────────┴─────────────┴───────────────┴─────────────────────┴─────────────────────┘"
      ]
     },
     "execution_count": 77,
     "metadata": {},
     "output_type": "execute_result"
    }
   ],
   "source": [
    "# Polars expressions referring to more than one column expand to a list of expressions\n",
    "# This applies to all expressions\n",
    "# pl.col('title','rating').is_duplicated() expands to\n",
    "# [pl.col('title').is_duplicated(), pl.col('rating').is_duplicated()]\n",
    "video_games_reviews.with_columns(\n",
    "    pl.col(\"title\", \"rating\").is_duplicated().name.suffix(\"_is_duplicated\")\n",
    ")"
   ]
  },
  {
   "cell_type": "code",
   "execution_count": null,
   "metadata": {},
   "outputs": [
    {
     "data": {
      "text/html": [
       "<div><style>\n",
       ".dataframe > thead > tr,\n",
       ".dataframe > tbody > tr {\n",
       "  text-align: right;\n",
       "  white-space: pre-wrap;\n",
       "}\n",
       "</style>\n",
       "<small>shape: (6, 5)</small><table border=\"1\" class=\"dataframe\"><thead><tr><th>title</th><th>rating</th><th>review_date</th><th>review_text</th><th>struct_title_rating</th></tr><tr><td>str</td><td>f64</td><td>str</td><td>str</td><td>struct[2]</td></tr></thead><tbody><tr><td>&quot;Super Mario&quot;</td><td>9.5</td><td>&quot;2023-01-15&quot;</td><td>&quot;Amazing game!&quot;</td><td>{&quot;Super Mario&quot;,9.5}</td></tr><tr><td>&quot;Zelda&quot;</td><td>10.0</td><td>&quot;2023-01-20&quot;</td><td>&quot;Fun&quot;</td><td>{&quot;Zelda&quot;,10.0}</td></tr><tr><td>&quot;Super Mario&quot;</td><td>9.5</td><td>&quot;2023-01-15&quot;</td><td>&quot;Amazing game!&quot;</td><td>{&quot;Super Mario&quot;,9.5}</td></tr><tr><td>null</td><td>null</td><td>null</td><td>null</td><td>{null,null}</td></tr><tr><td>&quot;Halo Infinite&quot;</td><td>9.0</td><td>&quot;2023-02-01&quot;</td><td>null</td><td>{&quot;Halo Infinite&quot;,9.0}</td></tr><tr><td>&quot;Zelda&quot;</td><td>8.0</td><td>&quot;2023-03-01&quot;</td><td>&quot;Good game!&quot;</td><td>{&quot;Zelda&quot;,8.0}</td></tr></tbody></table></div>"
      ],
      "text/plain": [
       "shape: (6, 5)\n",
       "┌───────────────┬────────┬─────────────┬───────────────┬───────────────────────┐\n",
       "│ title         ┆ rating ┆ review_date ┆ review_text   ┆ struct_title_rating   │\n",
       "│ ---           ┆ ---    ┆ ---         ┆ ---           ┆ ---                   │\n",
       "│ str           ┆ f64    ┆ str         ┆ str           ┆ struct[2]             │\n",
       "╞═══════════════╪════════╪═════════════╪═══════════════╪═══════════════════════╡\n",
       "│ Super Mario   ┆ 9.5    ┆ 2023-01-15  ┆ Amazing game! ┆ {\"Super Mario\",9.5}   │\n",
       "│ Zelda         ┆ 10.0   ┆ 2023-01-20  ┆ Fun           ┆ {\"Zelda\",10.0}        │\n",
       "│ Super Mario   ┆ 9.5    ┆ 2023-01-15  ┆ Amazing game! ┆ {\"Super Mario\",9.5}   │\n",
       "│ null          ┆ null   ┆ null        ┆ null          ┆ {null,null}           │\n",
       "│ Halo Infinite ┆ 9.0    ┆ 2023-02-01  ┆ null          ┆ {\"Halo Infinite\",9.0} │\n",
       "│ Zelda         ┆ 8.0    ┆ 2023-03-01  ┆ Good game!    ┆ {\"Zelda\",8.0}         │\n",
       "└───────────────┴────────┴─────────────┴───────────────┴───────────────────────┘"
      ]
     },
     "execution_count": 71,
     "metadata": {},
     "output_type": "execute_result"
    }
   ],
   "source": [
    "# To use a function on the combination of multiple columns, and not on each column separately,\n",
    "# we can use the pl.struct() function\n",
    "# pl.struct() creates a new column with a 'struct' that corresponds to the combination of the columns\n",
    "video_games_reviews.with_columns(\n",
    "    pl.struct(\"title\", \"rating\").alias(\"struct_title_rating\")\n",
    ")"
   ]
  },
  {
   "cell_type": "code",
   "execution_count": null,
   "metadata": {},
   "outputs": [
    {
     "data": {
      "text/html": [
       "<div><style>\n",
       ".dataframe > thead > tr,\n",
       ".dataframe > tbody > tr {\n",
       "  text-align: right;\n",
       "  white-space: pre-wrap;\n",
       "}\n",
       "</style>\n",
       "<small>shape: (6, 5)</small><table border=\"1\" class=\"dataframe\"><thead><tr><th>title</th><th>rating</th><th>review_date</th><th>review_text</th><th>title_rating_is_duplicated</th></tr><tr><td>str</td><td>f64</td><td>str</td><td>str</td><td>bool</td></tr></thead><tbody><tr><td>&quot;Super Mario&quot;</td><td>9.5</td><td>&quot;2023-01-15&quot;</td><td>&quot;Amazing game!&quot;</td><td>true</td></tr><tr><td>&quot;Zelda&quot;</td><td>10.0</td><td>&quot;2023-01-20&quot;</td><td>&quot;Fun&quot;</td><td>false</td></tr><tr><td>&quot;Super Mario&quot;</td><td>9.5</td><td>&quot;2023-01-15&quot;</td><td>&quot;Amazing game!&quot;</td><td>true</td></tr><tr><td>null</td><td>null</td><td>null</td><td>null</td><td>false</td></tr><tr><td>&quot;Halo Infinite&quot;</td><td>9.0</td><td>&quot;2023-02-01&quot;</td><td>null</td><td>false</td></tr><tr><td>&quot;Zelda&quot;</td><td>8.0</td><td>&quot;2023-03-01&quot;</td><td>&quot;Good game!&quot;</td><td>false</td></tr></tbody></table></div>"
      ],
      "text/plain": [
       "shape: (6, 5)\n",
       "┌───────────────┬────────┬─────────────┬───────────────┬────────────────────────────┐\n",
       "│ title         ┆ rating ┆ review_date ┆ review_text   ┆ title_rating_is_duplicated │\n",
       "│ ---           ┆ ---    ┆ ---         ┆ ---           ┆ ---                        │\n",
       "│ str           ┆ f64    ┆ str         ┆ str           ┆ bool                       │\n",
       "╞═══════════════╪════════╪═════════════╪═══════════════╪════════════════════════════╡\n",
       "│ Super Mario   ┆ 9.5    ┆ 2023-01-15  ┆ Amazing game! ┆ true                       │\n",
       "│ Zelda         ┆ 10.0   ┆ 2023-01-20  ┆ Fun           ┆ false                      │\n",
       "│ Super Mario   ┆ 9.5    ┆ 2023-01-15  ┆ Amazing game! ┆ true                       │\n",
       "│ null          ┆ null   ┆ null        ┆ null          ┆ false                      │\n",
       "│ Halo Infinite ┆ 9.0    ┆ 2023-02-01  ┆ null          ┆ false                      │\n",
       "│ Zelda         ┆ 8.0    ┆ 2023-03-01  ┆ Good game!    ┆ false                      │\n",
       "└───────────────┴────────┴─────────────┴───────────────┴────────────────────────────┘"
      ]
     },
     "execution_count": 72,
     "metadata": {},
     "output_type": "execute_result"
    }
   ],
   "source": [
    "# We can apply functions to the struct column\n",
    "video_games_reviews.with_columns(\n",
    "    pl.struct(\"title\", \"rating\").is_duplicated().alias(\"title_rating_is_duplicated\")\n",
    ")"
   ]
  },
  {
   "attachments": {},
   "cell_type": "markdown",
   "metadata": {},
   "source": [
    "#### Missing Values"
   ]
  },
  {
   "cell_type": "code",
   "execution_count": null,
   "metadata": {},
   "outputs": [
    {
     "data": {
      "text/html": [
       "<div><style>\n",
       ".dataframe > thead > tr,\n",
       ".dataframe > tbody > tr {\n",
       "  text-align: right;\n",
       "  white-space: pre-wrap;\n",
       "}\n",
       "</style>\n",
       "<small>shape: (1, 4)</small><table border=\"1\" class=\"dataframe\"><thead><tr><th>title</th><th>rating</th><th>review_date</th><th>review_text</th></tr><tr><td>u32</td><td>u32</td><td>u32</td><td>u32</td></tr></thead><tbody><tr><td>1</td><td>1</td><td>1</td><td>2</td></tr></tbody></table></div>"
      ],
      "text/plain": [
       "shape: (1, 4)\n",
       "┌───────┬────────┬─────────────┬─────────────┐\n",
       "│ title ┆ rating ┆ review_date ┆ review_text │\n",
       "│ ---   ┆ ---    ┆ ---         ┆ ---         │\n",
       "│ u32   ┆ u32    ┆ u32         ┆ u32         │\n",
       "╞═══════╪════════╪═════════════╪═════════════╡\n",
       "│ 1     ┆ 1      ┆ 1           ┆ 2           │\n",
       "└───────┴────────┴─────────────┴─────────────┘"
      ]
     },
     "execution_count": 73,
     "metadata": {},
     "output_type": "execute_result"
    }
   ],
   "source": [
    "# Count missing values for each column\n",
    "video_games_reviews.null_count()"
   ]
  },
  {
   "cell_type": "code",
   "execution_count": null,
   "metadata": {},
   "outputs": [
    {
     "data": {
      "text/html": [
       "<div><style>\n",
       ".dataframe > thead > tr,\n",
       ".dataframe > tbody > tr {\n",
       "  text-align: right;\n",
       "  white-space: pre-wrap;\n",
       "}\n",
       "</style>\n",
       "<small>shape: (2, 4)</small><table border=\"1\" class=\"dataframe\"><thead><tr><th>title</th><th>rating</th><th>review_date</th><th>review_text</th></tr><tr><td>str</td><td>f64</td><td>str</td><td>str</td></tr></thead><tbody><tr><td>null</td><td>null</td><td>null</td><td>null</td></tr><tr><td>&quot;Halo Infinite&quot;</td><td>9.0</td><td>&quot;2023-02-01&quot;</td><td>null</td></tr></tbody></table></div>"
      ],
      "text/plain": [
       "shape: (2, 4)\n",
       "┌───────────────┬────────┬─────────────┬─────────────┐\n",
       "│ title         ┆ rating ┆ review_date ┆ review_text │\n",
       "│ ---           ┆ ---    ┆ ---         ┆ ---         │\n",
       "│ str           ┆ f64    ┆ str         ┆ str         │\n",
       "╞═══════════════╪════════╪═════════════╪═════════════╡\n",
       "│ null          ┆ null   ┆ null        ┆ null        │\n",
       "│ Halo Infinite ┆ 9.0    ┆ 2023-02-01  ┆ null        │\n",
       "└───────────────┴────────┴─────────────┴─────────────┘"
      ]
     },
     "execution_count": 74,
     "metadata": {},
     "output_type": "execute_result"
    }
   ],
   "source": [
    "# Filter rows with missing values for text column\n",
    "video_games_reviews.filter(pl.col(\"review_text\").is_null())"
   ]
  },
  {
   "cell_type": "code",
   "execution_count": null,
   "metadata": {},
   "outputs": [
    {
     "data": {
      "text/html": [
       "<div><style>\n",
       ".dataframe > thead > tr,\n",
       ".dataframe > tbody > tr {\n",
       "  text-align: right;\n",
       "  white-space: pre-wrap;\n",
       "}\n",
       "</style>\n",
       "<small>shape: (4, 4)</small><table border=\"1\" class=\"dataframe\"><thead><tr><th>title</th><th>rating</th><th>review_date</th><th>review_text</th></tr><tr><td>str</td><td>f64</td><td>str</td><td>str</td></tr></thead><tbody><tr><td>&quot;Super Mario&quot;</td><td>9.5</td><td>&quot;2023-01-15&quot;</td><td>&quot;Amazing game!&quot;</td></tr><tr><td>&quot;Zelda&quot;</td><td>10.0</td><td>&quot;2023-01-20&quot;</td><td>&quot;Fun&quot;</td></tr><tr><td>&quot;Super Mario&quot;</td><td>9.5</td><td>&quot;2023-01-15&quot;</td><td>&quot;Amazing game!&quot;</td></tr><tr><td>&quot;Zelda&quot;</td><td>8.0</td><td>&quot;2023-03-01&quot;</td><td>&quot;Good game!&quot;</td></tr></tbody></table></div>"
      ],
      "text/plain": [
       "shape: (4, 4)\n",
       "┌─────────────┬────────┬─────────────┬───────────────┐\n",
       "│ title       ┆ rating ┆ review_date ┆ review_text   │\n",
       "│ ---         ┆ ---    ┆ ---         ┆ ---           │\n",
       "│ str         ┆ f64    ┆ str         ┆ str           │\n",
       "╞═════════════╪════════╪═════════════╪═══════════════╡\n",
       "│ Super Mario ┆ 9.5    ┆ 2023-01-15  ┆ Amazing game! │\n",
       "│ Zelda       ┆ 10.0   ┆ 2023-01-20  ┆ Fun           │\n",
       "│ Super Mario ┆ 9.5    ┆ 2023-01-15  ┆ Amazing game! │\n",
       "│ Zelda       ┆ 8.0    ┆ 2023-03-01  ┆ Good game!    │\n",
       "└─────────────┴────────┴─────────────┴───────────────┘"
      ]
     },
     "execution_count": 75,
     "metadata": {},
     "output_type": "execute_result"
    }
   ],
   "source": [
    "# Drop rows with missing values for review text column\n",
    "video_games_reviews.filter(pl.col(\"review_text\").is_not_null())"
   ]
  },
  {
   "cell_type": "code",
   "execution_count": null,
   "metadata": {},
   "outputs": [
    {
     "data": {
      "text/html": [
       "<div><style>\n",
       ".dataframe > thead > tr,\n",
       ".dataframe > tbody > tr {\n",
       "  text-align: right;\n",
       "  white-space: pre-wrap;\n",
       "}\n",
       "</style>\n",
       "<small>shape: (4, 4)</small><table border=\"1\" class=\"dataframe\"><thead><tr><th>title</th><th>rating</th><th>review_date</th><th>review_text</th></tr><tr><td>str</td><td>f64</td><td>str</td><td>str</td></tr></thead><tbody><tr><td>&quot;Super Mario&quot;</td><td>9.5</td><td>&quot;2023-01-15&quot;</td><td>&quot;Amazing game!&quot;</td></tr><tr><td>&quot;Zelda&quot;</td><td>10.0</td><td>&quot;2023-01-20&quot;</td><td>&quot;Fun&quot;</td></tr><tr><td>&quot;Super Mario&quot;</td><td>9.5</td><td>&quot;2023-01-15&quot;</td><td>&quot;Amazing game!&quot;</td></tr><tr><td>&quot;Zelda&quot;</td><td>8.0</td><td>&quot;2023-03-01&quot;</td><td>&quot;Good game!&quot;</td></tr></tbody></table></div>"
      ],
      "text/plain": [
       "shape: (4, 4)\n",
       "┌─────────────┬────────┬─────────────┬───────────────┐\n",
       "│ title       ┆ rating ┆ review_date ┆ review_text   │\n",
       "│ ---         ┆ ---    ┆ ---         ┆ ---           │\n",
       "│ str         ┆ f64    ┆ str         ┆ str           │\n",
       "╞═════════════╪════════╪═════════════╪═══════════════╡\n",
       "│ Super Mario ┆ 9.5    ┆ 2023-01-15  ┆ Amazing game! │\n",
       "│ Zelda       ┆ 10.0   ┆ 2023-01-20  ┆ Fun           │\n",
       "│ Super Mario ┆ 9.5    ┆ 2023-01-15  ┆ Amazing game! │\n",
       "│ Zelda       ┆ 8.0    ┆ 2023-03-01  ┆ Good game!    │\n",
       "└─────────────┴────────┴─────────────┴───────────────┘"
      ]
     },
     "execution_count": 76,
     "metadata": {},
     "output_type": "execute_result"
    }
   ],
   "source": [
    "# Drop all rows where at least one value is missing\n",
    "video_games_reviews.drop_nulls()"
   ]
  },
  {
   "cell_type": "code",
   "execution_count": null,
   "metadata": {},
   "outputs": [
    {
     "data": {
      "text/html": [
       "<div><style>\n",
       ".dataframe > thead > tr,\n",
       ".dataframe > tbody > tr {\n",
       "  text-align: right;\n",
       "  white-space: pre-wrap;\n",
       "}\n",
       "</style>\n",
       "<small>shape: (4, 4)</small><table border=\"1\" class=\"dataframe\"><thead><tr><th>title</th><th>rating</th><th>review_date</th><th>review_text</th></tr><tr><td>str</td><td>f64</td><td>str</td><td>str</td></tr></thead><tbody><tr><td>&quot;Super Mario&quot;</td><td>9.5</td><td>&quot;2023-01-15&quot;</td><td>&quot;Amazing game!&quot;</td></tr><tr><td>&quot;Zelda&quot;</td><td>10.0</td><td>&quot;2023-01-20&quot;</td><td>&quot;Fun&quot;</td></tr><tr><td>&quot;Super Mario&quot;</td><td>9.5</td><td>&quot;2023-01-15&quot;</td><td>&quot;Amazing game!&quot;</td></tr><tr><td>&quot;Zelda&quot;</td><td>8.0</td><td>&quot;2023-03-01&quot;</td><td>&quot;Good game!&quot;</td></tr></tbody></table></div>"
      ],
      "text/plain": [
       "shape: (4, 4)\n",
       "┌─────────────┬────────┬─────────────┬───────────────┐\n",
       "│ title       ┆ rating ┆ review_date ┆ review_text   │\n",
       "│ ---         ┆ ---    ┆ ---         ┆ ---           │\n",
       "│ str         ┆ f64    ┆ str         ┆ str           │\n",
       "╞═════════════╪════════╪═════════════╪═══════════════╡\n",
       "│ Super Mario ┆ 9.5    ┆ 2023-01-15  ┆ Amazing game! │\n",
       "│ Zelda       ┆ 10.0   ┆ 2023-01-20  ┆ Fun           │\n",
       "│ Super Mario ┆ 9.5    ┆ 2023-01-15  ┆ Amazing game! │\n",
       "│ Zelda       ┆ 8.0    ┆ 2023-03-01  ┆ Good game!    │\n",
       "└─────────────┴────────┴─────────────┴───────────────┘"
      ]
     },
     "execution_count": 77,
     "metadata": {},
     "output_type": "execute_result"
    }
   ],
   "source": [
    "# Drop rows where either review text and title are null\n",
    "video_games_reviews.drop_nulls(subset=[\"title\", \"review_text\"])"
   ]
  },
  {
   "cell_type": "code",
   "execution_count": null,
   "metadata": {},
   "outputs": [
    {
     "data": {
      "text/html": [
       "<div><style>\n",
       ".dataframe > thead > tr,\n",
       ".dataframe > tbody > tr {\n",
       "  text-align: right;\n",
       "  white-space: pre-wrap;\n",
       "}\n",
       "</style>\n",
       "<small>shape: (6, 4)</small><table border=\"1\" class=\"dataframe\"><thead><tr><th>title</th><th>rating</th><th>review_date</th><th>review_text</th></tr><tr><td>str</td><td>f64</td><td>str</td><td>str</td></tr></thead><tbody><tr><td>&quot;Super Mario&quot;</td><td>9.5</td><td>&quot;2023-01-15&quot;</td><td>&quot;Amazing game!&quot;</td></tr><tr><td>&quot;Zelda&quot;</td><td>10.0</td><td>&quot;2023-01-20&quot;</td><td>&quot;Fun&quot;</td></tr><tr><td>&quot;Super Mario&quot;</td><td>9.5</td><td>&quot;2023-01-15&quot;</td><td>&quot;Amazing game!&quot;</td></tr><tr><td>null</td><td>null</td><td>null</td><td>&quot;No review&quot;</td></tr><tr><td>&quot;Halo Infinite&quot;</td><td>9.0</td><td>&quot;2023-02-01&quot;</td><td>&quot;No review&quot;</td></tr><tr><td>&quot;Zelda&quot;</td><td>8.0</td><td>&quot;2023-03-01&quot;</td><td>&quot;Good game!&quot;</td></tr></tbody></table></div>"
      ],
      "text/plain": [
       "shape: (6, 4)\n",
       "┌───────────────┬────────┬─────────────┬───────────────┐\n",
       "│ title         ┆ rating ┆ review_date ┆ review_text   │\n",
       "│ ---           ┆ ---    ┆ ---         ┆ ---           │\n",
       "│ str           ┆ f64    ┆ str         ┆ str           │\n",
       "╞═══════════════╪════════╪═════════════╪═══════════════╡\n",
       "│ Super Mario   ┆ 9.5    ┆ 2023-01-15  ┆ Amazing game! │\n",
       "│ Zelda         ┆ 10.0   ┆ 2023-01-20  ┆ Fun           │\n",
       "│ Super Mario   ┆ 9.5    ┆ 2023-01-15  ┆ Amazing game! │\n",
       "│ null          ┆ null   ┆ null        ┆ No review     │\n",
       "│ Halo Infinite ┆ 9.0    ┆ 2023-02-01  ┆ No review     │\n",
       "│ Zelda         ┆ 8.0    ┆ 2023-03-01  ┆ Good game!    │\n",
       "└───────────────┴────────┴─────────────┴───────────────┘"
      ]
     },
     "execution_count": 78,
     "metadata": {},
     "output_type": "execute_result"
    }
   ],
   "source": [
    "# Fill null values for review_text column with 'No review'\n",
    "video_games_reviews.with_columns(pl.col(\"review_text\").fill_null(\"No review\"))"
   ]
  },
  {
   "cell_type": "code",
   "execution_count": null,
   "metadata": {},
   "outputs": [
    {
     "data": {
      "text/html": [
       "<div><style>\n",
       ".dataframe > thead > tr,\n",
       ".dataframe > tbody > tr {\n",
       "  text-align: right;\n",
       "  white-space: pre-wrap;\n",
       "}\n",
       "</style>\n",
       "<small>shape: (4, 3)</small><table border=\"1\" class=\"dataframe\"><thead><tr><th>a</th><th>b</th><th>c</th></tr><tr><td>i64</td><td>i64</td><td>i64</td></tr></thead><tbody><tr><td>1</td><td>1</td><td>6</td></tr><tr><td>null</td><td>null</td><td>null</td></tr><tr><td>null</td><td>9</td><td>6</td></tr><tr><td>9</td><td>10</td><td>null</td></tr></tbody></table></div>"
      ],
      "text/plain": [
       "shape: (4, 3)\n",
       "┌──────┬──────┬──────┐\n",
       "│ a    ┆ b    ┆ c    │\n",
       "│ ---  ┆ ---  ┆ ---  │\n",
       "│ i64  ┆ i64  ┆ i64  │\n",
       "╞══════╪══════╪══════╡\n",
       "│ 1    ┆ 1    ┆ 6    │\n",
       "│ null ┆ null ┆ null │\n",
       "│ null ┆ 9    ┆ 6    │\n",
       "│ 9    ┆ 10   ┆ null │\n",
       "└──────┴──────┴──────┘"
      ]
     },
     "execution_count": 79,
     "metadata": {},
     "output_type": "execute_result"
    }
   ],
   "source": [
    "# Create a new dataset to demonstrate additional functions for filling nulls\n",
    "df_missing_values = pl.DataFrame(\n",
    "    {\"a\": [1, None, None, 9], \"b\": [1, None, 9, 10], \"c\": [6, None, 6, None]}\n",
    ")\n",
    "\n",
    "df_missing_values"
   ]
  },
  {
   "cell_type": "code",
   "execution_count": null,
   "metadata": {},
   "outputs": [
    {
     "data": {
      "text/html": [
       "<div><style>\n",
       ".dataframe > thead > tr,\n",
       ".dataframe > tbody > tr {\n",
       "  text-align: right;\n",
       "  white-space: pre-wrap;\n",
       "}\n",
       "</style>\n",
       "<small>shape: (4, 3)</small><table border=\"1\" class=\"dataframe\"><thead><tr><th>a</th><th>b</th><th>c</th></tr><tr><td>f64</td><td>f64</td><td>f64</td></tr></thead><tbody><tr><td>1.0</td><td>1.0</td><td>6.0</td></tr><tr><td>5.0</td><td>9.0</td><td>6.0</td></tr><tr><td>5.0</td><td>9.0</td><td>6.0</td></tr><tr><td>9.0</td><td>10.0</td><td>6.0</td></tr></tbody></table></div>"
      ],
      "text/plain": [
       "shape: (4, 3)\n",
       "┌─────┬──────┬─────┐\n",
       "│ a   ┆ b    ┆ c   │\n",
       "│ --- ┆ ---  ┆ --- │\n",
       "│ f64 ┆ f64  ┆ f64 │\n",
       "╞═════╪══════╪═════╡\n",
       "│ 1.0 ┆ 1.0  ┆ 6.0 │\n",
       "│ 5.0 ┆ 9.0  ┆ 6.0 │\n",
       "│ 5.0 ┆ 9.0  ┆ 6.0 │\n",
       "│ 9.0 ┆ 10.0 ┆ 6.0 │\n",
       "└─────┴──────┴─────┘"
      ]
     },
     "execution_count": 80,
     "metadata": {},
     "output_type": "execute_result"
    }
   ],
   "source": [
    "# Replace missing values with the median of the column\n",
    "df_missing_values.with_columns(pl.all().fill_null(pl.all().median()))"
   ]
  },
  {
   "cell_type": "code",
   "execution_count": null,
   "metadata": {},
   "outputs": [
    {
     "data": {
      "text/html": [
       "<div><style>\n",
       ".dataframe > thead > tr,\n",
       ".dataframe > tbody > tr {\n",
       "  text-align: right;\n",
       "  white-space: pre-wrap;\n",
       "}\n",
       "</style>\n",
       "<small>shape: (4, 3)</small><table border=\"1\" class=\"dataframe\"><thead><tr><th>a</th><th>b</th><th>c</th></tr><tr><td>f64</td><td>f64</td><td>f64</td></tr></thead><tbody><tr><td>1.0</td><td>1.0</td><td>6.0</td></tr><tr><td>3.666667</td><td>5.0</td><td>6.0</td></tr><tr><td>6.333333</td><td>9.0</td><td>6.0</td></tr><tr><td>9.0</td><td>10.0</td><td>null</td></tr></tbody></table></div>"
      ],
      "text/plain": [
       "shape: (4, 3)\n",
       "┌──────────┬──────┬──────┐\n",
       "│ a        ┆ b    ┆ c    │\n",
       "│ ---      ┆ ---  ┆ ---  │\n",
       "│ f64      ┆ f64  ┆ f64  │\n",
       "╞══════════╪══════╪══════╡\n",
       "│ 1.0      ┆ 1.0  ┆ 6.0  │\n",
       "│ 3.666667 ┆ 5.0  ┆ 6.0  │\n",
       "│ 6.333333 ┆ 9.0  ┆ 6.0  │\n",
       "│ 9.0      ┆ 10.0 ┆ null │\n",
       "└──────────┴──────┴──────┘"
      ]
     },
     "execution_count": 81,
     "metadata": {},
     "output_type": "execute_result"
    }
   ],
   "source": [
    "# Interpolate missing values for numbers\n",
    "df_missing_values.interpolate()"
   ]
  },
  {
   "cell_type": "code",
   "execution_count": null,
   "metadata": {},
   "outputs": [
    {
     "data": {
      "text/html": [
       "<div><style>\n",
       ".dataframe > thead > tr,\n",
       ".dataframe > tbody > tr {\n",
       "  text-align: right;\n",
       "  white-space: pre-wrap;\n",
       "}\n",
       "</style>\n",
       "<small>shape: (4, 3)</small><table border=\"1\" class=\"dataframe\"><thead><tr><th>a</th><th>b</th><th>c</th></tr><tr><td>i64</td><td>i64</td><td>i64</td></tr></thead><tbody><tr><td>1</td><td>1</td><td>6</td></tr><tr><td>1</td><td>null</td><td>null</td></tr><tr><td>1</td><td>9</td><td>6</td></tr><tr><td>9</td><td>10</td><td>null</td></tr></tbody></table></div>"
      ],
      "text/plain": [
       "shape: (4, 3)\n",
       "┌─────┬──────┬──────┐\n",
       "│ a   ┆ b    ┆ c    │\n",
       "│ --- ┆ ---  ┆ ---  │\n",
       "│ i64 ┆ i64  ┆ i64  │\n",
       "╞═════╪══════╪══════╡\n",
       "│ 1   ┆ 1    ┆ 6    │\n",
       "│ 1   ┆ null ┆ null │\n",
       "│ 1   ┆ 9    ┆ 6    │\n",
       "│ 9   ┆ 10   ┆ null │\n",
       "└─────┴──────┴──────┘"
      ]
     },
     "execution_count": 82,
     "metadata": {},
     "output_type": "execute_result"
    }
   ],
   "source": [
    "# Forward fill missing values for a column\n",
    "df_missing_values.with_columns(pl.col(\"a\").forward_fill())"
   ]
  },
  {
   "cell_type": "code",
   "execution_count": null,
   "metadata": {},
   "outputs": [
    {
     "data": {
      "text/html": [
       "<div><style>\n",
       ".dataframe > thead > tr,\n",
       ".dataframe > tbody > tr {\n",
       "  text-align: right;\n",
       "  white-space: pre-wrap;\n",
       "}\n",
       "</style>\n",
       "<small>shape: (4, 3)</small><table border=\"1\" class=\"dataframe\"><thead><tr><th>a</th><th>b</th><th>c</th></tr><tr><td>i64</td><td>i64</td><td>i64</td></tr></thead><tbody><tr><td>1</td><td>1</td><td>6</td></tr><tr><td>1</td><td>1</td><td>6</td></tr><tr><td>1</td><td>9</td><td>6</td></tr><tr><td>9</td><td>10</td><td>6</td></tr></tbody></table></div>"
      ],
      "text/plain": [
       "shape: (4, 3)\n",
       "┌─────┬─────┬─────┐\n",
       "│ a   ┆ b   ┆ c   │\n",
       "│ --- ┆ --- ┆ --- │\n",
       "│ i64 ┆ i64 ┆ i64 │\n",
       "╞═════╪═════╪═════╡\n",
       "│ 1   ┆ 1   ┆ 6   │\n",
       "│ 1   ┆ 1   ┆ 6   │\n",
       "│ 1   ┆ 9   ┆ 6   │\n",
       "│ 9   ┆ 10  ┆ 6   │\n",
       "└─────┴─────┴─────┘"
      ]
     },
     "execution_count": 83,
     "metadata": {},
     "output_type": "execute_result"
    }
   ],
   "source": [
    "# Forward fill missing values for all columns\n",
    "df_missing_values.fill_null(strategy=\"forward\")"
   ]
  },
  {
   "cell_type": "code",
   "execution_count": null,
   "metadata": {},
   "outputs": [
    {
     "data": {
      "text/html": [
       "<div><style>\n",
       ".dataframe > thead > tr,\n",
       ".dataframe > tbody > tr {\n",
       "  text-align: right;\n",
       "  white-space: pre-wrap;\n",
       "}\n",
       "</style>\n",
       "<small>shape: (4, 3)</small><table border=\"1\" class=\"dataframe\"><thead><tr><th>a</th><th>b</th><th>c</th></tr><tr><td>i64</td><td>i64</td><td>i64</td></tr></thead><tbody><tr><td>1</td><td>1</td><td>6</td></tr><tr><td>9</td><td>9</td><td>6</td></tr><tr><td>9</td><td>9</td><td>6</td></tr><tr><td>9</td><td>10</td><td>null</td></tr></tbody></table></div>"
      ],
      "text/plain": [
       "shape: (4, 3)\n",
       "┌─────┬─────┬──────┐\n",
       "│ a   ┆ b   ┆ c    │\n",
       "│ --- ┆ --- ┆ ---  │\n",
       "│ i64 ┆ i64 ┆ i64  │\n",
       "╞═════╪═════╪══════╡\n",
       "│ 1   ┆ 1   ┆ 6    │\n",
       "│ 9   ┆ 9   ┆ 6    │\n",
       "│ 9   ┆ 9   ┆ 6    │\n",
       "│ 9   ┆ 10  ┆ null │\n",
       "└─────┴─────┴──────┘"
      ]
     },
     "execution_count": 84,
     "metadata": {},
     "output_type": "execute_result"
    }
   ],
   "source": [
    "# Backward fill missing values for all columns\n",
    "df_missing_values.fill_null(strategy=\"backward\")"
   ]
  },
  {
   "attachments": {},
   "cell_type": "markdown",
   "metadata": {},
   "source": [
    "#### Conditions using `all` and `any`"
   ]
  },
  {
   "cell_type": "code",
   "execution_count": null,
   "metadata": {},
   "outputs": [
    {
     "data": {
      "text/html": [
       "<div><style>\n",
       ".dataframe > thead > tr,\n",
       ".dataframe > tbody > tr {\n",
       "  text-align: right;\n",
       "  white-space: pre-wrap;\n",
       "}\n",
       "</style>\n",
       "<small>shape: (4, 3)</small><table border=\"1\" class=\"dataframe\"><thead><tr><th>a</th><th>b</th><th>c</th></tr><tr><td>i64</td><td>i64</td><td>i64</td></tr></thead><tbody><tr><td>1</td><td>1</td><td>6</td></tr><tr><td>null</td><td>null</td><td>null</td></tr><tr><td>null</td><td>9</td><td>6</td></tr><tr><td>9</td><td>10</td><td>null</td></tr></tbody></table></div>"
      ],
      "text/plain": [
       "shape: (4, 3)\n",
       "┌──────┬──────┬──────┐\n",
       "│ a    ┆ b    ┆ c    │\n",
       "│ ---  ┆ ---  ┆ ---  │\n",
       "│ i64  ┆ i64  ┆ i64  │\n",
       "╞══════╪══════╪══════╡\n",
       "│ 1    ┆ 1    ┆ 6    │\n",
       "│ null ┆ null ┆ null │\n",
       "│ null ┆ 9    ┆ 6    │\n",
       "│ 9    ┆ 10   ┆ null │\n",
       "└──────┴──────┴──────┘"
      ]
     },
     "execution_count": 85,
     "metadata": {},
     "output_type": "execute_result"
    }
   ],
   "source": [
    "# We use the dataframe missing_values to demonstrate verifying multiple conditions\n",
    "df_missing_values = pl.DataFrame(\n",
    "    {\"a\": [1, None, None, 9], \"b\": [1, None, 9, 10], \"c\": [6, None, 6, None]}\n",
    ")\n",
    "\n",
    "df_missing_values"
   ]
  },
  {
   "cell_type": "code",
   "execution_count": null,
   "metadata": {},
   "outputs": [
    {
     "data": {
      "text/html": [
       "<div><style>\n",
       ".dataframe > thead > tr,\n",
       ".dataframe > tbody > tr {\n",
       "  text-align: right;\n",
       "  white-space: pre-wrap;\n",
       "}\n",
       "</style>\n",
       "<small>shape: (4, 5)</small><table border=\"1\" class=\"dataframe\"><thead><tr><th>a</th><th>b</th><th>c</th><th>a_is_null</th><th>b_is_null</th></tr><tr><td>i64</td><td>i64</td><td>i64</td><td>bool</td><td>bool</td></tr></thead><tbody><tr><td>1</td><td>1</td><td>6</td><td>false</td><td>false</td></tr><tr><td>null</td><td>null</td><td>null</td><td>true</td><td>true</td></tr><tr><td>null</td><td>9</td><td>6</td><td>true</td><td>false</td></tr><tr><td>9</td><td>10</td><td>null</td><td>false</td><td>false</td></tr></tbody></table></div>"
      ],
      "text/plain": [
       "shape: (4, 5)\n",
       "┌──────┬──────┬──────┬───────────┬───────────┐\n",
       "│ a    ┆ b    ┆ c    ┆ a_is_null ┆ b_is_null │\n",
       "│ ---  ┆ ---  ┆ ---  ┆ ---       ┆ ---       │\n",
       "│ i64  ┆ i64  ┆ i64  ┆ bool      ┆ bool      │\n",
       "╞══════╪══════╪══════╪═══════════╪═══════════╡\n",
       "│ 1    ┆ 1    ┆ 6    ┆ false     ┆ false     │\n",
       "│ null ┆ null ┆ null ┆ true      ┆ true      │\n",
       "│ null ┆ 9    ┆ 6    ┆ true      ┆ false     │\n",
       "│ 9    ┆ 10   ┆ null ┆ false     ┆ false     │\n",
       "└──────┴──────┴──────┴───────────┴───────────┘"
      ]
     },
     "execution_count": 129,
     "metadata": {},
     "output_type": "execute_result"
    }
   ],
   "source": [
    "# Identify which values are missing for all columns\n",
    "df_missing_values.with_columns(pl.col(\"a\", \"b\").is_null().name.suffix(\"_is_null\"))"
   ]
  },
  {
   "cell_type": "code",
   "execution_count": null,
   "metadata": {},
   "outputs": [
    {
     "data": {
      "text/html": [
       "<div><style>\n",
       ".dataframe > thead > tr,\n",
       ".dataframe > tbody > tr {\n",
       "  text-align: right;\n",
       "  white-space: pre-wrap;\n",
       "}\n",
       "</style>\n",
       "<small>shape: (4, 4)</small><table border=\"1\" class=\"dataframe\"><thead><tr><th>a</th><th>b</th><th>c</th><th>cols_a_b_are_null</th></tr><tr><td>i64</td><td>i64</td><td>i64</td><td>bool</td></tr></thead><tbody><tr><td>1</td><td>1</td><td>6</td><td>false</td></tr><tr><td>null</td><td>null</td><td>null</td><td>true</td></tr><tr><td>null</td><td>9</td><td>6</td><td>false</td></tr><tr><td>9</td><td>10</td><td>null</td><td>false</td></tr></tbody></table></div>"
      ],
      "text/plain": [
       "shape: (4, 4)\n",
       "┌──────┬──────┬──────┬───────────────────┐\n",
       "│ a    ┆ b    ┆ c    ┆ cols_a_b_are_null │\n",
       "│ ---  ┆ ---  ┆ ---  ┆ ---               │\n",
       "│ i64  ┆ i64  ┆ i64  ┆ bool              │\n",
       "╞══════╪══════╪══════╪═══════════════════╡\n",
       "│ 1    ┆ 1    ┆ 6    ┆ false             │\n",
       "│ null ┆ null ┆ null ┆ true              │\n",
       "│ null ┆ 9    ┆ 6    ┆ false             │\n",
       "│ 9    ┆ 10   ┆ null ┆ false             │\n",
       "└──────┴──────┴──────┴───────────────────┘"
      ]
     },
     "execution_count": 87,
     "metadata": {},
     "output_type": "execute_result"
    }
   ],
   "source": [
    "df_missing_values.with_columns(\n",
    "    pl.all_horizontal(pl.col(\"a\", \"b\").is_null()).alias(\"cols_a_b_are_null\")\n",
    ")"
   ]
  },
  {
   "cell_type": "code",
   "execution_count": null,
   "metadata": {},
   "outputs": [
    {
     "data": {
      "text/html": [
       "<div><style>\n",
       ".dataframe > thead > tr,\n",
       ".dataframe > tbody > tr {\n",
       "  text-align: right;\n",
       "  white-space: pre-wrap;\n",
       "}\n",
       "</style>\n",
       "<small>shape: (1, 3)</small><table border=\"1\" class=\"dataframe\"><thead><tr><th>a</th><th>b</th><th>c</th></tr><tr><td>i64</td><td>i64</td><td>i64</td></tr></thead><tbody><tr><td>null</td><td>null</td><td>null</td></tr></tbody></table></div>"
      ],
      "text/plain": [
       "shape: (1, 3)\n",
       "┌──────┬──────┬──────┐\n",
       "│ a    ┆ b    ┆ c    │\n",
       "│ ---  ┆ ---  ┆ ---  │\n",
       "│ i64  ┆ i64  ┆ i64  │\n",
       "╞══════╪══════╪══════╡\n",
       "│ null ┆ null ┆ null │\n",
       "└──────┴──────┴──────┘"
      ]
     },
     "execution_count": 88,
     "metadata": {},
     "output_type": "execute_result"
    }
   ],
   "source": [
    "# Filter all rows with all values missing\n",
    "df_missing_values.filter(pl.all_horizontal(pl.col(\"a\", \"b\").is_null()))"
   ]
  },
  {
   "cell_type": "code",
   "execution_count": null,
   "metadata": {},
   "outputs": [
    {
     "data": {
      "text/html": [
       "<div><style>\n",
       ".dataframe > thead > tr,\n",
       ".dataframe > tbody > tr {\n",
       "  text-align: right;\n",
       "  white-space: pre-wrap;\n",
       "}\n",
       "</style>\n",
       "<small>shape: (3, 3)</small><table border=\"1\" class=\"dataframe\"><thead><tr><th>a</th><th>b</th><th>c</th></tr><tr><td>i64</td><td>i64</td><td>i64</td></tr></thead><tbody><tr><td>null</td><td>null</td><td>null</td></tr><tr><td>null</td><td>9</td><td>6</td></tr><tr><td>9</td><td>10</td><td>null</td></tr></tbody></table></div>"
      ],
      "text/plain": [
       "shape: (3, 3)\n",
       "┌──────┬──────┬──────┐\n",
       "│ a    ┆ b    ┆ c    │\n",
       "│ ---  ┆ ---  ┆ ---  │\n",
       "│ i64  ┆ i64  ┆ i64  │\n",
       "╞══════╪══════╪══════╡\n",
       "│ null ┆ null ┆ null │\n",
       "│ null ┆ 9    ┆ 6    │\n",
       "│ 9    ┆ 10   ┆ null │\n",
       "└──────┴──────┴──────┘"
      ]
     },
     "execution_count": 89,
     "metadata": {},
     "output_type": "execute_result"
    }
   ],
   "source": [
    "# Filter all rows with at least one missing value\n",
    "df_missing_values.filter(pl.any_horizontal(pl.all().is_null()))"
   ]
  },
  {
   "cell_type": "code",
   "execution_count": null,
   "metadata": {},
   "outputs": [
    {
     "data": {
      "text/html": [
       "<div><style>\n",
       ".dataframe > thead > tr,\n",
       ".dataframe > tbody > tr {\n",
       "  text-align: right;\n",
       "  white-space: pre-wrap;\n",
       "}\n",
       "</style>\n",
       "<small>shape: (2, 3)</small><table border=\"1\" class=\"dataframe\"><thead><tr><th>a</th><th>b</th><th>c</th></tr><tr><td>i64</td><td>i64</td><td>i64</td></tr></thead><tbody><tr><td>1</td><td>1</td><td>6</td></tr><tr><td>9</td><td>10</td><td>null</td></tr></tbody></table></div>"
      ],
      "text/plain": [
       "shape: (2, 3)\n",
       "┌─────┬─────┬──────┐\n",
       "│ a   ┆ b   ┆ c    │\n",
       "│ --- ┆ --- ┆ ---  │\n",
       "│ i64 ┆ i64 ┆ i64  │\n",
       "╞═════╪═════╪══════╡\n",
       "│ 1   ┆ 1   ┆ 6    │\n",
       "│ 9   ┆ 10  ┆ null │\n",
       "└─────┴─────┴──────┘"
      ]
     },
     "execution_count": 90,
     "metadata": {},
     "output_type": "execute_result"
    }
   ],
   "source": [
    "# Filter all rows with no missing values\n",
    "df_missing_values.filter(pl.all_horizontal(pl.col(\"a\", \"b\").is_not_null()))"
   ]
  },
  {
   "attachments": {},
   "cell_type": "markdown",
   "metadata": {},
   "source": [
    "#### Slicing and indexing"
   ]
  },
  {
   "cell_type": "code",
   "execution_count": null,
   "metadata": {},
   "outputs": [
    {
     "data": {
      "text/html": [
       "<div><style>\n",
       ".dataframe > thead > tr,\n",
       ".dataframe > tbody > tr {\n",
       "  text-align: right;\n",
       "  white-space: pre-wrap;\n",
       "}\n",
       "</style>\n",
       "<small>shape: (2, 4)</small><table border=\"1\" class=\"dataframe\"><thead><tr><th>title</th><th>rating</th><th>review_date</th><th>review_text</th></tr><tr><td>str</td><td>f64</td><td>str</td><td>str</td></tr></thead><tbody><tr><td>null</td><td>null</td><td>null</td><td>null</td></tr><tr><td>&quot;Halo Infinite&quot;</td><td>9.0</td><td>&quot;2023-02-01&quot;</td><td>null</td></tr></tbody></table></div>"
      ],
      "text/plain": [
       "shape: (2, 4)\n",
       "┌───────────────┬────────┬─────────────┬─────────────┐\n",
       "│ title         ┆ rating ┆ review_date ┆ review_text │\n",
       "│ ---           ┆ ---    ┆ ---         ┆ ---         │\n",
       "│ str           ┆ f64    ┆ str         ┆ str         │\n",
       "╞═══════════════╪════════╪═════════════╪═════════════╡\n",
       "│ null          ┆ null   ┆ null        ┆ null        │\n",
       "│ Halo Infinite ┆ 9.0    ┆ 2023-02-01  ┆ null        │\n",
       "└───────────────┴────────┴─────────────┴─────────────┘"
      ]
     },
     "execution_count": 130,
     "metadata": {},
     "output_type": "execute_result"
    }
   ],
   "source": [
    "# Keep 2 rows starting at row 3\n",
    "video_games_reviews.slice(3, 2)"
   ]
  },
  {
   "cell_type": "code",
   "execution_count": null,
   "metadata": {},
   "outputs": [
    {
     "data": {
      "text/html": [
       "<div><style>\n",
       ".dataframe > thead > tr,\n",
       ".dataframe > tbody > tr {\n",
       "  text-align: right;\n",
       "  white-space: pre-wrap;\n",
       "}\n",
       "</style>\n",
       "<small>shape: (2, 4)</small><table border=\"1\" class=\"dataframe\"><thead><tr><th>title</th><th>rating</th><th>review_date</th><th>review_text</th></tr><tr><td>str</td><td>f64</td><td>str</td><td>str</td></tr></thead><tbody><tr><td>null</td><td>null</td><td>null</td><td>null</td></tr><tr><td>&quot;Halo Infinite&quot;</td><td>9.0</td><td>&quot;2023-02-01&quot;</td><td>null</td></tr></tbody></table></div>"
      ],
      "text/plain": [
       "shape: (2, 4)\n",
       "┌───────────────┬────────┬─────────────┬─────────────┐\n",
       "│ title         ┆ rating ┆ review_date ┆ review_text │\n",
       "│ ---           ┆ ---    ┆ ---         ┆ ---         │\n",
       "│ str           ┆ f64    ┆ str         ┆ str         │\n",
       "╞═══════════════╪════════╪═════════════╪═════════════╡\n",
       "│ null          ┆ null   ┆ null        ┆ null        │\n",
       "│ Halo Infinite ┆ 9.0    ┆ 2023-02-01  ┆ null        │\n",
       "└───────────────┴────────┴─────────────┴─────────────┘"
      ]
     },
     "execution_count": 92,
     "metadata": {},
     "output_type": "execute_result"
    }
   ],
   "source": [
    "# Square brackets indexing should be limited to:\n",
    "# 1. Extract a scalar value (another option is using .item() )\n",
    "# 2. Convert a DataFrame to a Series (another option is using .get_column() )\n",
    "# 3. Inspecting some rows or columns\n",
    "# In general, select, with_columns, and filter should be used instead of square brackets indexing\n",
    "# ! Disadvantages: Square brackets selecting only works in eager mode, and is not parallelized\n",
    "# Select 2 rows starting at row 3\n",
    "video_games_reviews[3:5]"
   ]
  },
  {
   "cell_type": "code",
   "execution_count": null,
   "metadata": {},
   "outputs": [
    {
     "data": {
      "text/html": [
       "<div><style>\n",
       ".dataframe > thead > tr,\n",
       ".dataframe > tbody > tr {\n",
       "  text-align: right;\n",
       "  white-space: pre-wrap;\n",
       "}\n",
       "</style>\n",
       "<small>shape: (2, 2)</small><table border=\"1\" class=\"dataframe\"><thead><tr><th>title</th><th>rating</th></tr><tr><td>str</td><td>f64</td></tr></thead><tbody><tr><td>null</td><td>null</td></tr><tr><td>&quot;Halo Infinite&quot;</td><td>9.0</td></tr></tbody></table></div>"
      ],
      "text/plain": [
       "shape: (2, 2)\n",
       "┌───────────────┬────────┐\n",
       "│ title         ┆ rating │\n",
       "│ ---           ┆ ---    │\n",
       "│ str           ┆ f64    │\n",
       "╞═══════════════╪════════╡\n",
       "│ null          ┆ null   │\n",
       "│ Halo Infinite ┆ 9.0    │\n",
       "└───────────────┴────────┘"
      ]
     },
     "execution_count": 93,
     "metadata": {},
     "output_type": "execute_result"
    }
   ],
   "source": [
    "# Select 3 rows starting at row 5 for columns title and rating\n",
    "video_games_reviews[3:5, [\"title\", \"rating\"]]"
   ]
  },
  {
   "cell_type": "code",
   "execution_count": null,
   "metadata": {},
   "outputs": [
    {
     "data": {
      "text/html": [
       "<div><style>\n",
       ".dataframe > thead > tr,\n",
       ".dataframe > tbody > tr {\n",
       "  text-align: right;\n",
       "  white-space: pre-wrap;\n",
       "}\n",
       "</style>\n",
       "<small>shape: (2, 2)</small><table border=\"1\" class=\"dataframe\"><thead><tr><th>title</th><th>rating</th></tr><tr><td>str</td><td>f64</td></tr></thead><tbody><tr><td>null</td><td>null</td></tr><tr><td>&quot;Halo Infinite&quot;</td><td>9.0</td></tr></tbody></table></div>"
      ],
      "text/plain": [
       "shape: (2, 2)\n",
       "┌───────────────┬────────┐\n",
       "│ title         ┆ rating │\n",
       "│ ---           ┆ ---    │\n",
       "│ str           ┆ f64    │\n",
       "╞═══════════════╪════════╡\n",
       "│ null          ┆ null   │\n",
       "│ Halo Infinite ┆ 9.0    │\n",
       "└───────────────┴────────┘"
      ]
     },
     "execution_count": 94,
     "metadata": {},
     "output_type": "execute_result"
    }
   ],
   "source": [
    "# Select 3 rows starting at row 5 for columns 0 and 1\n",
    "video_games_reviews[3:5, [0, 1]]"
   ]
  },
  {
   "cell_type": "code",
   "execution_count": null,
   "metadata": {},
   "outputs": [
    {
     "data": {
      "text/html": [
       "<div><style>\n",
       ".dataframe > thead > tr,\n",
       ".dataframe > tbody > tr {\n",
       "  text-align: right;\n",
       "  white-space: pre-wrap;\n",
       "}\n",
       "</style>\n",
       "<small>shape: (6, 2)</small><table border=\"1\" class=\"dataframe\"><thead><tr><th>title</th><th>rating</th></tr><tr><td>str</td><td>f64</td></tr></thead><tbody><tr><td>&quot;Super Mario&quot;</td><td>9.5</td></tr><tr><td>&quot;Zelda&quot;</td><td>10.0</td></tr><tr><td>&quot;Super Mario&quot;</td><td>9.5</td></tr><tr><td>null</td><td>null</td></tr><tr><td>&quot;Halo Infinite&quot;</td><td>9.0</td></tr><tr><td>&quot;Zelda&quot;</td><td>8.0</td></tr></tbody></table></div>"
      ],
      "text/plain": [
       "shape: (6, 2)\n",
       "┌───────────────┬────────┐\n",
       "│ title         ┆ rating │\n",
       "│ ---           ┆ ---    │\n",
       "│ str           ┆ f64    │\n",
       "╞═══════════════╪════════╡\n",
       "│ Super Mario   ┆ 9.5    │\n",
       "│ Zelda         ┆ 10.0   │\n",
       "│ Super Mario   ┆ 9.5    │\n",
       "│ null          ┆ null   │\n",
       "│ Halo Infinite ┆ 9.0    │\n",
       "│ Zelda         ┆ 8.0    │\n",
       "└───────────────┴────────┘"
      ]
     },
     "execution_count": 95,
     "metadata": {},
     "output_type": "execute_result"
    }
   ],
   "source": [
    "# Select columns title and rating using indexes\n",
    "video_games_reviews[[\"title\", \"rating\"]]"
   ]
  },
  {
   "attachments": {},
   "cell_type": "markdown",
   "metadata": {},
   "source": [
    "#### Extracting columns, rows, dataframes and items"
   ]
  },
  {
   "cell_type": "code",
   "execution_count": null,
   "metadata": {},
   "outputs": [
    {
     "data": {
      "text/html": [
       "<div><style>\n",
       ".dataframe > thead > tr,\n",
       ".dataframe > tbody > tr {\n",
       "  text-align: right;\n",
       "  white-space: pre-wrap;\n",
       "}\n",
       "</style>\n",
       "<small>shape: (2,)</small><table border=\"1\" class=\"dataframe\"><thead><tr><th>title</th></tr><tr><td>str</td></tr></thead><tbody><tr><td>&quot;Super Mario&quot;</td></tr><tr><td>&quot;Zelda&quot;</td></tr></tbody></table></div>"
      ],
      "text/plain": [
       "shape: (2,)\n",
       "Series: 'title' [str]\n",
       "[\n",
       "\t\"Super Mario\"\n",
       "\t\"Zelda\"\n",
       "]"
      ]
     },
     "execution_count": 96,
     "metadata": {},
     "output_type": "execute_result"
    }
   ],
   "source": [
    "# Extract a column from a DataFrame and convert it to a Series\n",
    "video_games_reviews.get_column(\"title\").head(2)"
   ]
  },
  {
   "cell_type": "code",
   "execution_count": null,
   "metadata": {},
   "outputs": [
    {
     "data": {
      "text/plain": [
       "[shape: (1,)\n",
       " Series: 'title' [str]\n",
       " [\n",
       " \t\"Super Mario\"\n",
       " ],\n",
       " shape: (1,)\n",
       " Series: 'rating' [f64]\n",
       " [\n",
       " \t9.5\n",
       " ],\n",
       " shape: (1,)\n",
       " Series: 'review_date' [str]\n",
       " [\n",
       " \t\"2023-01-15\"\n",
       " ],\n",
       " shape: (1,)\n",
       " Series: 'review_text' [str]\n",
       " [\n",
       " \t\"Amazing game!\"\n",
       " ]]"
      ]
     },
     "execution_count": 97,
     "metadata": {},
     "output_type": "execute_result"
    }
   ],
   "source": [
    "# Extract all columns and convert them to a list of Series\n",
    "video_games_reviews.head(1).get_columns()"
   ]
  },
  {
   "cell_type": "code",
   "execution_count": null,
   "metadata": {},
   "outputs": [
    {
     "data": {
      "text/plain": [
       "['Super Mario', 'Zelda', 'Super Mario', None, 'Halo Infinite', 'Zelda']"
      ]
     },
     "execution_count": 98,
     "metadata": {},
     "output_type": "execute_result"
    }
   ],
   "source": [
    "# Convert a column to a list using .to_list()\n",
    "video_games_reviews.get_column(\"title\").to_list()"
   ]
  },
  {
   "cell_type": "code",
   "execution_count": null,
   "metadata": {},
   "outputs": [
    {
     "data": {
      "text/plain": [
       "[('Super Mario', 9.5, '2023-01-15', 'Amazing game!'),\n",
       " ('Zelda', 10.0, '2023-01-20', 'Fun'),\n",
       " ('Super Mario', 9.5, '2023-01-15', 'Amazing game!'),\n",
       " (None, None, None, None),\n",
       " ('Halo Infinite', 9.0, '2023-02-01', None),\n",
       " ('Zelda', 8.0, '2023-03-01', 'Good game!')]"
      ]
     },
     "execution_count": 99,
     "metadata": {},
     "output_type": "execute_result"
    }
   ],
   "source": [
    "# Extract rows from a dataframe as a list of tuples\n",
    "# ! This materializes all the rows in memory. It's expensive and should be avoided when possible\n",
    "video_games_reviews.rows()"
   ]
  },
  {
   "cell_type": "code",
   "execution_count": null,
   "metadata": {},
   "outputs": [
    {
     "data": {
      "text/plain": [
       "[{'title': 'Super Mario',\n",
       "  'rating': 9.5,\n",
       "  'review_date': '2023-01-15',\n",
       "  'review_text': 'Amazing game!'},\n",
       " {'title': 'Zelda',\n",
       "  'rating': 10.0,\n",
       "  'review_date': '2023-01-20',\n",
       "  'review_text': 'Fun'},\n",
       " {'title': 'Super Mario',\n",
       "  'rating': 9.5,\n",
       "  'review_date': '2023-01-15',\n",
       "  'review_text': 'Amazing game!'},\n",
       " {'title': None, 'rating': None, 'review_date': None, 'review_text': None},\n",
       " {'title': 'Halo Infinite',\n",
       "  'rating': 9.0,\n",
       "  'review_date': '2023-02-01',\n",
       "  'review_text': None},\n",
       " {'title': 'Zelda',\n",
       "  'rating': 8.0,\n",
       "  'review_date': '2023-03-01',\n",
       "  'review_text': 'Good game!'}]"
      ]
     },
     "execution_count": 100,
     "metadata": {},
     "output_type": "execute_result"
    }
   ],
   "source": [
    "# Extract rows from a dataframe as a list of dicts (more expensive)\n",
    "# ! This materializes all the rows in memory. It's expensive and should be avoided when possible\n",
    "video_games_reviews.rows(named=True)"
   ]
  },
  {
   "cell_type": "code",
   "execution_count": null,
   "metadata": {},
   "outputs": [
    {
     "data": {
      "text/plain": [
       "<generator object DataFrame.iter_rows at 0x7f0f2c179700>"
      ]
     },
     "execution_count": 101,
     "metadata": {},
     "output_type": "execute_result"
    }
   ],
   "source": [
    "# Extract rows from a dataframe as an iterator\n",
    "# ! Export methods of Polars should be preferred instead of iterating over rows\n",
    "video_games_reviews.iter_rows()"
   ]
  },
  {
   "cell_type": "code",
   "execution_count": null,
   "metadata": {},
   "outputs": [
    {
     "data": {
      "text/plain": [
       "<generator object DataFrame.iter_slices at 0x7f0f2c1799a0>"
      ]
     },
     "execution_count": 102,
     "metadata": {},
     "output_type": "execute_result"
    }
   ],
   "source": [
    "# Extract slices of 1000 rows from a dataframe as an iterator\n",
    "video_games_reviews.iter_slices(n_rows=1000)"
   ]
  },
  {
   "cell_type": "code",
   "execution_count": null,
   "metadata": {},
   "outputs": [
    {
     "data": {
      "text/plain": [
       "[shape: (2, 4)\n",
       " ┌─────────────┬────────┬─────────────┬───────────────┐\n",
       " │ title       ┆ rating ┆ review_date ┆ review_text   │\n",
       " │ ---         ┆ ---    ┆ ---         ┆ ---           │\n",
       " │ str         ┆ f64    ┆ str         ┆ str           │\n",
       " ╞═════════════╪════════╪═════════════╪═══════════════╡\n",
       " │ Super Mario ┆ 9.5    ┆ 2023-01-15  ┆ Amazing game! │\n",
       " │ Super Mario ┆ 9.5    ┆ 2023-01-15  ┆ Amazing game! │\n",
       " └─────────────┴────────┴─────────────┴───────────────┘,\n",
       " shape: (2, 4)\n",
       " ┌───────┬────────┬─────────────┬─────────────┐\n",
       " │ title ┆ rating ┆ review_date ┆ review_text │\n",
       " │ ---   ┆ ---    ┆ ---         ┆ ---         │\n",
       " │ str   ┆ f64    ┆ str         ┆ str         │\n",
       " ╞═══════╪════════╪═════════════╪═════════════╡\n",
       " │ Zelda ┆ 10.0   ┆ 2023-01-20  ┆ Fun         │\n",
       " │ Zelda ┆ 8.0    ┆ 2023-03-01  ┆ Good game!  │\n",
       " └───────┴────────┴─────────────┴─────────────┘,\n",
       " shape: (1, 4)\n",
       " ┌───────┬────────┬─────────────┬─────────────┐\n",
       " │ title ┆ rating ┆ review_date ┆ review_text │\n",
       " │ ---   ┆ ---    ┆ ---         ┆ ---         │\n",
       " │ str   ┆ f64    ┆ str         ┆ str         │\n",
       " ╞═══════╪════════╪═════════════╪═════════════╡\n",
       " │ null  ┆ null   ┆ null        ┆ null        │\n",
       " └───────┴────────┴─────────────┴─────────────┘,\n",
       " shape: (1, 4)\n",
       " ┌───────────────┬────────┬─────────────┬─────────────┐\n",
       " │ title         ┆ rating ┆ review_date ┆ review_text │\n",
       " │ ---           ┆ ---    ┆ ---         ┆ ---         │\n",
       " │ str           ┆ f64    ┆ str         ┆ str         │\n",
       " ╞═══════════════╪════════╪═════════════╪═════════════╡\n",
       " │ Halo Infinite ┆ 9.0    ┆ 2023-02-01  ┆ null        │\n",
       " └───────────────┴────────┴─────────────┴─────────────┘]"
      ]
     },
     "execution_count": 103,
     "metadata": {},
     "output_type": "execute_result"
    }
   ],
   "source": [
    "# Extract a list of Dataframes partitioned based on the specified column\n",
    "video_games_reviews.partition_by(\"title\")"
   ]
  },
  {
   "cell_type": "code",
   "execution_count": null,
   "metadata": {},
   "outputs": [
    {
     "data": {
      "text/plain": [
       "'Super Mario'"
      ]
     },
     "execution_count": 104,
     "metadata": {},
     "output_type": "execute_result"
    }
   ],
   "source": [
    "# Extract a scalar using .item()\n",
    "# .item() transforms a table of one row and one column into a scalar\n",
    "video_games_reviews.head(1).select(\"title\").item()"
   ]
  },
  {
   "cell_type": "code",
   "execution_count": null,
   "metadata": {},
   "outputs": [
    {
     "data": {
      "text/plain": [
       "{'title': ['Super Mario',\n",
       "  'Zelda',\n",
       "  'Super Mario',\n",
       "  None,\n",
       "  'Halo Infinite',\n",
       "  'Zelda'],\n",
       " 'rating': [9.5, 10.0, 9.5, None, 9.0, 8.0],\n",
       " 'review_date': ['2023-01-15',\n",
       "  '2023-01-20',\n",
       "  '2023-01-15',\n",
       "  None,\n",
       "  '2023-02-01',\n",
       "  '2023-03-01'],\n",
       " 'review_text': ['Amazing game!',\n",
       "  'Fun',\n",
       "  'Amazing game!',\n",
       "  None,\n",
       "  None,\n",
       "  'Good game!']}"
      ]
     },
     "execution_count": 105,
     "metadata": {},
     "output_type": "execute_result"
    }
   ],
   "source": [
    "# Convert a dataframe to a Python dictionary using .to_dict()\n",
    "video_games_reviews.to_dict(as_series=False)"
   ]
  },
  {
   "cell_type": "code",
   "execution_count": null,
   "metadata": {},
   "outputs": [
    {
     "data": {
      "text/html": [
       "<div>\n",
       "<style scoped>\n",
       "    .dataframe tbody tr th:only-of-type {\n",
       "        vertical-align: middle;\n",
       "    }\n",
       "\n",
       "    .dataframe tbody tr th {\n",
       "        vertical-align: top;\n",
       "    }\n",
       "\n",
       "    .dataframe thead th {\n",
       "        text-align: right;\n",
       "    }\n",
       "</style>\n",
       "<table border=\"1\" class=\"dataframe\">\n",
       "  <thead>\n",
       "    <tr style=\"text-align: right;\">\n",
       "      <th></th>\n",
       "      <th>title</th>\n",
       "      <th>rating</th>\n",
       "      <th>review_date</th>\n",
       "      <th>review_text</th>\n",
       "    </tr>\n",
       "  </thead>\n",
       "  <tbody>\n",
       "    <tr>\n",
       "      <th>0</th>\n",
       "      <td>Super Mario</td>\n",
       "      <td>9.5</td>\n",
       "      <td>2023-01-15</td>\n",
       "      <td>Amazing game!</td>\n",
       "    </tr>\n",
       "    <tr>\n",
       "      <th>1</th>\n",
       "      <td>Zelda</td>\n",
       "      <td>10.0</td>\n",
       "      <td>2023-01-20</td>\n",
       "      <td>Fun</td>\n",
       "    </tr>\n",
       "    <tr>\n",
       "      <th>2</th>\n",
       "      <td>Super Mario</td>\n",
       "      <td>9.5</td>\n",
       "      <td>2023-01-15</td>\n",
       "      <td>Amazing game!</td>\n",
       "    </tr>\n",
       "    <tr>\n",
       "      <th>3</th>\n",
       "      <td>None</td>\n",
       "      <td>NaN</td>\n",
       "      <td>None</td>\n",
       "      <td>None</td>\n",
       "    </tr>\n",
       "    <tr>\n",
       "      <th>4</th>\n",
       "      <td>Halo Infinite</td>\n",
       "      <td>9.0</td>\n",
       "      <td>2023-02-01</td>\n",
       "      <td>None</td>\n",
       "    </tr>\n",
       "    <tr>\n",
       "      <th>5</th>\n",
       "      <td>Zelda</td>\n",
       "      <td>8.0</td>\n",
       "      <td>2023-03-01</td>\n",
       "      <td>Good game!</td>\n",
       "    </tr>\n",
       "  </tbody>\n",
       "</table>\n",
       "</div>"
      ],
      "text/plain": [
       "           title  rating review_date    review_text\n",
       "0    Super Mario     9.5  2023-01-15  Amazing game!\n",
       "1          Zelda    10.0  2023-01-20            Fun\n",
       "2    Super Mario     9.5  2023-01-15  Amazing game!\n",
       "3           None     NaN        None           None\n",
       "4  Halo Infinite     9.0  2023-02-01           None\n",
       "5          Zelda     8.0  2023-03-01     Good game!"
      ]
     },
     "execution_count": 106,
     "metadata": {},
     "output_type": "execute_result"
    }
   ],
   "source": [
    "# Convert the dataframe to a Pandas using .to_pandas()\n",
    "video_games_reviews.to_pandas()"
   ]
  },
  {
   "cell_type": "code",
   "execution_count": null,
   "metadata": {},
   "outputs": [
    {
     "data": {
      "text/plain": [
       "array([['Super Mario', 9.5, '2023-01-15', 'Amazing game!'],\n",
       "       ['Zelda', 10.0, '2023-01-20', 'Fun'],\n",
       "       ['Super Mario', 9.5, '2023-01-15', 'Amazing game!'],\n",
       "       [None, nan, None, None],\n",
       "       ['Halo Infinite', 9.0, '2023-02-01', None],\n",
       "       ['Zelda', 8.0, '2023-03-01', 'Good game!']], dtype=object)"
      ]
     },
     "execution_count": 107,
     "metadata": {},
     "output_type": "execute_result"
    }
   ],
   "source": [
    "# Convert the dataframe to a Numpy array using .to_numpy()\n",
    "video_games_reviews.to_numpy()"
   ]
  },
  {
   "attachments": {},
   "cell_type": "markdown",
   "metadata": {},
   "source": [
    "#### Mathematical and statistical operations"
   ]
  },
  {
   "cell_type": "code",
   "execution_count": null,
   "metadata": {},
   "outputs": [
    {
     "data": {
      "text/html": [
       "<div><style>\n",
       ".dataframe > thead > tr,\n",
       ".dataframe > tbody > tr {\n",
       "  text-align: right;\n",
       "  white-space: pre-wrap;\n",
       "}\n",
       "</style>\n",
       "<small>shape: (1, 4)</small><table border=\"1\" class=\"dataframe\"><thead><tr><th>title</th><th>rating</th><th>review_date</th><th>review_text</th></tr><tr><td>str</td><td>f64</td><td>str</td><td>str</td></tr></thead><tbody><tr><td>null</td><td>46.0</td><td>null</td><td>null</td></tr></tbody></table></div>"
      ],
      "text/plain": [
       "shape: (1, 4)\n",
       "┌───────┬────────┬─────────────┬─────────────┐\n",
       "│ title ┆ rating ┆ review_date ┆ review_text │\n",
       "│ ---   ┆ ---    ┆ ---         ┆ ---         │\n",
       "│ str   ┆ f64    ┆ str         ┆ str         │\n",
       "╞═══════╪════════╪═════════════╪═════════════╡\n",
       "│ null  ┆ 46.0   ┆ null        ┆ null        │\n",
       "└───────┴────────┴─────────────┴─────────────┘"
      ]
     },
     "execution_count": 108,
     "metadata": {},
     "output_type": "execute_result"
    }
   ],
   "source": [
    "# Sums all values of a column\n",
    "video_games_reviews.sum()"
   ]
  },
  {
   "cell_type": "code",
   "execution_count": null,
   "metadata": {},
   "outputs": [
    {
     "data": {
      "text/html": [
       "<div><style>\n",
       ".dataframe > thead > tr,\n",
       ".dataframe > tbody > tr {\n",
       "  text-align: right;\n",
       "  white-space: pre-wrap;\n",
       "}\n",
       "</style>\n",
       "<small>shape: (1, 4)</small><table border=\"1\" class=\"dataframe\"><thead><tr><th>title</th><th>rating</th><th>review_date</th><th>review_text</th></tr><tr><td>str</td><td>f64</td><td>str</td><td>str</td></tr></thead><tbody><tr><td>&quot;Zelda&quot;</td><td>10.0</td><td>&quot;2023-03-01&quot;</td><td>&quot;Good game!&quot;</td></tr></tbody></table></div>"
      ],
      "text/plain": [
       "shape: (1, 4)\n",
       "┌───────┬────────┬─────────────┬─────────────┐\n",
       "│ title ┆ rating ┆ review_date ┆ review_text │\n",
       "│ ---   ┆ ---    ┆ ---         ┆ ---         │\n",
       "│ str   ┆ f64    ┆ str         ┆ str         │\n",
       "╞═══════╪════════╪═════════════╪═════════════╡\n",
       "│ Zelda ┆ 10.0   ┆ 2023-03-01  ┆ Good game!  │\n",
       "└───────┴────────┴─────────────┴─────────────┘"
      ]
     },
     "execution_count": 109,
     "metadata": {},
     "output_type": "execute_result"
    }
   ],
   "source": [
    "# Get the maximum values of each column\n",
    "video_games_reviews.max()"
   ]
  },
  {
   "cell_type": "code",
   "execution_count": null,
   "metadata": {},
   "outputs": [
    {
     "data": {
      "text/html": [
       "<div><style>\n",
       ".dataframe > thead > tr,\n",
       ".dataframe > tbody > tr {\n",
       "  text-align: right;\n",
       "  white-space: pre-wrap;\n",
       "}\n",
       "</style>\n",
       "<small>shape: (1, 4)</small><table border=\"1\" class=\"dataframe\"><thead><tr><th>title</th><th>rating</th><th>review_date</th><th>review_text</th></tr><tr><td>str</td><td>f64</td><td>str</td><td>str</td></tr></thead><tbody><tr><td>&quot;Halo Infinite&quot;</td><td>8.0</td><td>&quot;2023-01-15&quot;</td><td>&quot;Amazing game!&quot;</td></tr></tbody></table></div>"
      ],
      "text/plain": [
       "shape: (1, 4)\n",
       "┌───────────────┬────────┬─────────────┬───────────────┐\n",
       "│ title         ┆ rating ┆ review_date ┆ review_text   │\n",
       "│ ---           ┆ ---    ┆ ---         ┆ ---           │\n",
       "│ str           ┆ f64    ┆ str         ┆ str           │\n",
       "╞═══════════════╪════════╪═════════════╪═══════════════╡\n",
       "│ Halo Infinite ┆ 8.0    ┆ 2023-01-15  ┆ Amazing game! │\n",
       "└───────────────┴────────┴─────────────┴───────────────┘"
      ]
     },
     "execution_count": 110,
     "metadata": {},
     "output_type": "execute_result"
    }
   ],
   "source": [
    "# Get the minimum values of each column\n",
    "video_games_reviews.min()"
   ]
  },
  {
   "cell_type": "code",
   "execution_count": null,
   "metadata": {},
   "outputs": [
    {
     "data": {
      "text/html": [
       "<div><style>\n",
       ".dataframe > thead > tr,\n",
       ".dataframe > tbody > tr {\n",
       "  text-align: right;\n",
       "  white-space: pre-wrap;\n",
       "}\n",
       "</style>\n",
       "<small>shape: (1, 4)</small><table border=\"1\" class=\"dataframe\"><thead><tr><th>title</th><th>rating</th><th>review_date</th><th>review_text</th></tr><tr><td>str</td><td>f64</td><td>str</td><td>str</td></tr></thead><tbody><tr><td>null</td><td>9.5</td><td>null</td><td>null</td></tr></tbody></table></div>"
      ],
      "text/plain": [
       "shape: (1, 4)\n",
       "┌───────┬────────┬─────────────┬─────────────┐\n",
       "│ title ┆ rating ┆ review_date ┆ review_text │\n",
       "│ ---   ┆ ---    ┆ ---         ┆ ---         │\n",
       "│ str   ┆ f64    ┆ str         ┆ str         │\n",
       "╞═══════╪════════╪═════════════╪═════════════╡\n",
       "│ null  ┆ 9.5    ┆ null        ┆ null        │\n",
       "└───────┴────────┴─────────────┴─────────────┘"
      ]
     },
     "execution_count": 111,
     "metadata": {},
     "output_type": "execute_result"
    }
   ],
   "source": [
    "# Get the median value of each column\n",
    "# Does not work for string or date columns\n",
    "video_games_reviews.median()"
   ]
  },
  {
   "cell_type": "code",
   "execution_count": null,
   "metadata": {},
   "outputs": [
    {
     "data": {
      "text/html": [
       "<div><style>\n",
       ".dataframe > thead > tr,\n",
       ".dataframe > tbody > tr {\n",
       "  text-align: right;\n",
       "  white-space: pre-wrap;\n",
       "}\n",
       "</style>\n",
       "<small>shape: (1, 4)</small><table border=\"1\" class=\"dataframe\"><thead><tr><th>title</th><th>rating</th><th>review_date</th><th>review_text</th></tr><tr><td>str</td><td>f64</td><td>str</td><td>str</td></tr></thead><tbody><tr><td>null</td><td>9.2</td><td>null</td><td>null</td></tr></tbody></table></div>"
      ],
      "text/plain": [
       "shape: (1, 4)\n",
       "┌───────┬────────┬─────────────┬─────────────┐\n",
       "│ title ┆ rating ┆ review_date ┆ review_text │\n",
       "│ ---   ┆ ---    ┆ ---         ┆ ---         │\n",
       "│ str   ┆ f64    ┆ str         ┆ str         │\n",
       "╞═══════╪════════╪═════════════╪═════════════╡\n",
       "│ null  ┆ 9.2    ┆ null        ┆ null        │\n",
       "└───────┴────────┴─────────────┴─────────────┘"
      ]
     },
     "execution_count": 112,
     "metadata": {},
     "output_type": "execute_result"
    }
   ],
   "source": [
    "# Get the mean value of each column\n",
    "# Does not work for string or date columns\n",
    "video_games_reviews.mean()"
   ]
  },
  {
   "cell_type": "code",
   "execution_count": null,
   "metadata": {},
   "outputs": [
    {
     "data": {
      "text/html": [
       "<div><style>\n",
       ".dataframe > thead > tr,\n",
       ".dataframe > tbody > tr {\n",
       "  text-align: right;\n",
       "  white-space: pre-wrap;\n",
       "}\n",
       "</style>\n",
       "<small>shape: (1, 4)</small><table border=\"1\" class=\"dataframe\"><thead><tr><th>title</th><th>rating</th><th>review_date</th><th>review_text</th></tr><tr><td>str</td><td>f64</td><td>str</td><td>str</td></tr></thead><tbody><tr><td>null</td><td>8.0</td><td>null</td><td>null</td></tr></tbody></table></div>"
      ],
      "text/plain": [
       "shape: (1, 4)\n",
       "┌───────┬────────┬─────────────┬─────────────┐\n",
       "│ title ┆ rating ┆ review_date ┆ review_text │\n",
       "│ ---   ┆ ---    ┆ ---         ┆ ---         │\n",
       "│ str   ┆ f64    ┆ str         ┆ str         │\n",
       "╞═══════╪════════╪═════════════╪═════════════╡\n",
       "│ null  ┆ 8.0    ┆ null        ┆ null        │\n",
       "└───────┴────────┴─────────────┴─────────────┘"
      ]
     },
     "execution_count": 113,
     "metadata": {},
     "output_type": "execute_result"
    }
   ],
   "source": [
    "# Get the 10th percentile value of each column\n",
    "# Does not work for string or date columns\n",
    "video_games_reviews.quantile(0.1)"
   ]
  },
  {
   "cell_type": "code",
   "execution_count": null,
   "metadata": {},
   "outputs": [
    {
     "data": {
      "text/html": [
       "<div><style>\n",
       ".dataframe > thead > tr,\n",
       ".dataframe > tbody > tr {\n",
       "  text-align: right;\n",
       "  white-space: pre-wrap;\n",
       "}\n",
       "</style>\n",
       "<small>shape: (1, 4)</small><table border=\"1\" class=\"dataframe\"><thead><tr><th>title</th><th>rating</th><th>review_date</th><th>review_text</th></tr><tr><td>str</td><td>f64</td><td>str</td><td>str</td></tr></thead><tbody><tr><td>null</td><td>0.575</td><td>null</td><td>null</td></tr></tbody></table></div>"
      ],
      "text/plain": [
       "shape: (1, 4)\n",
       "┌───────┬────────┬─────────────┬─────────────┐\n",
       "│ title ┆ rating ┆ review_date ┆ review_text │\n",
       "│ ---   ┆ ---    ┆ ---         ┆ ---         │\n",
       "│ str   ┆ f64    ┆ str         ┆ str         │\n",
       "╞═══════╪════════╪═════════════╪═════════════╡\n",
       "│ null  ┆ 0.575  ┆ null        ┆ null        │\n",
       "└───────┴────────┴─────────────┴─────────────┘"
      ]
     },
     "execution_count": 114,
     "metadata": {},
     "output_type": "execute_result"
    }
   ],
   "source": [
    "# Calculates the variance between values in a column\n",
    "video_games_reviews.var()"
   ]
  },
  {
   "cell_type": "code",
   "execution_count": null,
   "metadata": {},
   "outputs": [
    {
     "data": {
      "text/html": [
       "<div><style>\n",
       ".dataframe > thead > tr,\n",
       ".dataframe > tbody > tr {\n",
       "  text-align: right;\n",
       "  white-space: pre-wrap;\n",
       "}\n",
       "</style>\n",
       "<small>shape: (1, 4)</small><table border=\"1\" class=\"dataframe\"><thead><tr><th>title</th><th>rating</th><th>review_date</th><th>review_text</th></tr><tr><td>str</td><td>f64</td><td>str</td><td>str</td></tr></thead><tbody><tr><td>null</td><td>0.758288</td><td>null</td><td>null</td></tr></tbody></table></div>"
      ],
      "text/plain": [
       "shape: (1, 4)\n",
       "┌───────┬──────────┬─────────────┬─────────────┐\n",
       "│ title ┆ rating   ┆ review_date ┆ review_text │\n",
       "│ ---   ┆ ---      ┆ ---         ┆ ---         │\n",
       "│ str   ┆ f64      ┆ str         ┆ str         │\n",
       "╞═══════╪══════════╪═════════════╪═════════════╡\n",
       "│ null  ┆ 0.758288 ┆ null        ┆ null        │\n",
       "└───────┴──────────┴─────────────┴─────────────┘"
      ]
     },
     "execution_count": 115,
     "metadata": {},
     "output_type": "execute_result"
    }
   ],
   "source": [
    "# Calculates the standard deviation between values in a column\n",
    "video_games_reviews.std()"
   ]
  },
  {
   "cell_type": "code",
   "execution_count": null,
   "metadata": {},
   "outputs": [
    {
     "data": {
      "text/html": [
       "<div><style>\n",
       ".dataframe > thead > tr,\n",
       ".dataframe > tbody > tr {\n",
       "  text-align: right;\n",
       "  white-space: pre-wrap;\n",
       "}\n",
       "</style>\n",
       "<small>shape: (6, 4)</small><table border=\"1\" class=\"dataframe\"><thead><tr><th>title</th><th>rating</th><th>review_date</th><th>review_text</th></tr><tr><td>str</td><td>f64</td><td>str</td><td>str</td></tr></thead><tbody><tr><td>&quot;Super Mario&quot;</td><td>13359.72683</td><td>&quot;2023-01-15&quot;</td><td>&quot;Amazing game!&quot;</td></tr><tr><td>&quot;Zelda&quot;</td><td>22026.465795</td><td>&quot;2023-01-20&quot;</td><td>&quot;Fun&quot;</td></tr><tr><td>&quot;Super Mario&quot;</td><td>13359.72683</td><td>&quot;2023-01-15&quot;</td><td>&quot;Amazing game!&quot;</td></tr><tr><td>null</td><td>null</td><td>null</td><td>null</td></tr><tr><td>&quot;Halo Infinite&quot;</td><td>8103.083928</td><td>&quot;2023-02-01&quot;</td><td>null</td></tr><tr><td>&quot;Zelda&quot;</td><td>2980.957987</td><td>&quot;2023-03-01&quot;</td><td>&quot;Good game!&quot;</td></tr></tbody></table></div>"
      ],
      "text/plain": [
       "shape: (6, 4)\n",
       "┌───────────────┬──────────────┬─────────────┬───────────────┐\n",
       "│ title         ┆ rating       ┆ review_date ┆ review_text   │\n",
       "│ ---           ┆ ---          ┆ ---         ┆ ---           │\n",
       "│ str           ┆ f64          ┆ str         ┆ str           │\n",
       "╞═══════════════╪══════════════╪═════════════╪═══════════════╡\n",
       "│ Super Mario   ┆ 13359.72683  ┆ 2023-01-15  ┆ Amazing game! │\n",
       "│ Zelda         ┆ 22026.465795 ┆ 2023-01-20  ┆ Fun           │\n",
       "│ Super Mario   ┆ 13359.72683  ┆ 2023-01-15  ┆ Amazing game! │\n",
       "│ null          ┆ null         ┆ null        ┆ null          │\n",
       "│ Halo Infinite ┆ 8103.083928  ┆ 2023-02-01  ┆ null          │\n",
       "│ Zelda         ┆ 2980.957987  ┆ 2023-03-01  ┆ Good game!    │\n",
       "└───────────────┴──────────────┴─────────────┴───────────────┘"
      ]
     },
     "execution_count": 116,
     "metadata": {},
     "output_type": "execute_result"
    }
   ],
   "source": [
    "import numpy as np\n",
    "\n",
    "# Use a Numpy universal function: np.exp on a column\n",
    "video_games_reviews.with_columns(np.exp(pl.col(\"rating\")))"
   ]
  },
  {
   "cell_type": "code",
   "execution_count": null,
   "metadata": {},
   "outputs": [],
   "source": []
  }
 ],
 "metadata": {
  "kernelspec": {
   "display_name": "Python 3",
   "language": "python",
   "name": "python3"
  },
  "language_info": {
   "codemirror_mode": {
    "name": "ipython",
    "version": 3
   },
   "file_extension": ".py",
   "mimetype": "text/x-python",
   "name": "python",
   "nbconvert_exporter": "python",
   "pygments_lexer": "ipython3",
   "version": "3.10.12"
  },
  "orig_nbformat": 4,
  "vscode": {
   "interpreter": {
    "hash": "c823e8cd4eb93d0837f70656db2757dcd2f793adbe4317f23abcc1abff9ce7b8"
   }
  }
 },
 "nbformat": 4,
 "nbformat_minor": 2
}
