{
 "cells": [
  {
   "attachments": {},
   "cell_type": "markdown",
   "metadata": {},
   "source": [
    "### Chapter 2 Exercises"
   ]
  },
  {
   "cell_type": "code",
   "execution_count": 1,
   "metadata": {},
   "outputs": [
    {
     "data": {
      "text/plain": [
       "polars.config.Config"
      ]
     },
     "execution_count": 1,
     "metadata": {},
     "output_type": "execute_result"
    }
   ],
   "source": [
    "import polars as pl\n",
    "\n",
    "pl.Config.set_fmt_str_lengths(50)"
   ]
  },
  {
   "attachments": {},
   "cell_type": "markdown",
   "metadata": {},
   "source": [
    "1.\tUse Polars to read the CSV file reviews_videogames_350_simplified from the dataset folder. Use the option `try_parse_dates` to ensure that Polars recognizes the review_date as a date. Use `schema` to verify that all columns have the right data type. "
   ]
  },
  {
   "cell_type": "code",
   "execution_count": 2,
   "metadata": {},
   "outputs": [],
   "source": [
    "videogames = pl.read_csv(\n",
    "    \"../datasets/reviews_videogames_350_simplified.csv\", try_parse_dates=True\n",
    ")"
   ]
  },
  {
   "cell_type": "code",
   "execution_count": 3,
   "metadata": {},
   "outputs": [
    {
     "data": {
      "text/plain": [
       "OrderedDict([('title', String),\n",
       "             ('rating', Float64),\n",
       "             ('review_date', Date),\n",
       "             ('review_text', String)])"
      ]
     },
     "execution_count": 3,
     "metadata": {},
     "output_type": "execute_result"
    }
   ],
   "source": [
    "videogames.schema"
   ]
  },
  {
   "attachments": {},
   "cell_type": "markdown",
   "metadata": {},
   "source": [
    "2. Filter the same DataFrame to keep only the reviews given on or later of 1st January 2018. Then show the first 5 rows (hint: you can use `from datetime import date` to import the Python date module, then create a Python date and use it for comparison)"
   ]
  },
  {
   "cell_type": "code",
   "execution_count": 4,
   "metadata": {},
   "outputs": [
    {
     "data": {
      "text/html": [
       "<div><style>\n",
       ".dataframe > thead > tr,\n",
       ".dataframe > tbody > tr {\n",
       "  text-align: right;\n",
       "  white-space: pre-wrap;\n",
       "}\n",
       "</style>\n",
       "<small>shape: (5, 4)</small><table border=\"1\" class=\"dataframe\"><thead><tr><th>title</th><th>rating</th><th>review_date</th><th>review_text</th></tr><tr><td>str</td><td>f64</td><td>date</td><td>str</td></tr></thead><tbody><tr><td>&quot;Call of Duty: Ghosts - PlayStation 4&quot;</td><td>5.0</td><td>2018-06-30</td><td>&quot;excelente&quot;</td></tr><tr><td>&quot;Until Dawn - PlayStation 4&quot;</td><td>5.0</td><td>2018-01-07</td><td>&quot;A really fun game, that I recommend trying.&quot;</td></tr><tr><td>&quot;Halo 4 - Xbox 360 (Standard Game)&quot;</td><td>5.0</td><td>2018-05-09</td><td>&quot;no&quot;</td></tr><tr><td>&quot;UNCHARTED: The Nathan Drake Collection - PlayStat…</td><td>5.0</td><td>2018-01-12</td><td>&quot;Just got a PS4 (I&#x27;m pretty late to the game...lit…</td></tr><tr><td>&quot;DualShock 4 Wireless Controller for PlayStation 4…</td><td>4.0</td><td>2018-02-24</td><td>&quot;For two player games, it&#x27;s a must!&quot;</td></tr></tbody></table></div>"
      ],
      "text/plain": [
       "shape: (5, 4)\n",
       "┌─────────────────────────────────────┬────────┬─────────────┬─────────────────────────────────────┐\n",
       "│ title                               ┆ rating ┆ review_date ┆ review_text                         │\n",
       "│ ---                                 ┆ ---    ┆ ---         ┆ ---                                 │\n",
       "│ str                                 ┆ f64    ┆ date        ┆ str                                 │\n",
       "╞═════════════════════════════════════╪════════╪═════════════╪═════════════════════════════════════╡\n",
       "│ Call of Duty: Ghosts - PlayStation  ┆ 5.0    ┆ 2018-06-30  ┆ excelente                           │\n",
       "│ 4                                   ┆        ┆             ┆                                     │\n",
       "│ Until Dawn - PlayStation 4          ┆ 5.0    ┆ 2018-01-07  ┆ A really fun game, that I recommend │\n",
       "│                                     ┆        ┆             ┆ trying.                             │\n",
       "│ Halo 4 - Xbox 360 (Standard Game)   ┆ 5.0    ┆ 2018-05-09  ┆ no                                  │\n",
       "│ UNCHARTED: The Nathan Drake         ┆ 5.0    ┆ 2018-01-12  ┆ Just got a PS4 (I'm pretty late to  │\n",
       "│ Collection - PlayStati…             ┆        ┆             ┆ the game...lite…                    │\n",
       "│ DualShock 4 Wireless Controller for ┆ 4.0    ┆ 2018-02-24  ┆ For two player games, it's a must!  │\n",
       "│ PlayStation 4 …                     ┆        ┆             ┆                                     │\n",
       "└─────────────────────────────────────┴────────┴─────────────┴─────────────────────────────────────┘"
      ]
     },
     "execution_count": 4,
     "metadata": {},
     "output_type": "execute_result"
    }
   ],
   "source": [
    "from datetime import date\n",
    "\n",
    "videogames.filter(pl.col(\"review_date\") >= date(2018, 1, 1)).head(5)"
   ]
  },
  {
   "attachments": {},
   "cell_type": "markdown",
   "metadata": {},
   "source": [
    "3. Repeat the operations as above but create a LazyFrame and filter it. (hint: you create a LazyFrame by using `scan_` to read files, and use `collect` when you want to visualize the result)"
   ]
  },
  {
   "cell_type": "code",
   "execution_count": 5,
   "metadata": {},
   "outputs": [],
   "source": [
    "videogames_lf = pl.scan_csv(\n",
    "    \"../datasets/reviews_videogames_350_simplified.csv\", try_parse_dates=True\n",
    ")"
   ]
  },
  {
   "cell_type": "code",
   "execution_count": 6,
   "metadata": {},
   "outputs": [],
   "source": [
    "videogames_lf = videogames_lf.filter(pl.col(\"review_date\") >= date(2018, 1, 1))"
   ]
  },
  {
   "cell_type": "code",
   "execution_count": 7,
   "metadata": {},
   "outputs": [
    {
     "data": {
      "text/html": [
       "<div><style>\n",
       ".dataframe > thead > tr,\n",
       ".dataframe > tbody > tr {\n",
       "  text-align: right;\n",
       "  white-space: pre-wrap;\n",
       "}\n",
       "</style>\n",
       "<small>shape: (5, 4)</small><table border=\"1\" class=\"dataframe\"><thead><tr><th>title</th><th>rating</th><th>review_date</th><th>review_text</th></tr><tr><td>str</td><td>f64</td><td>date</td><td>str</td></tr></thead><tbody><tr><td>&quot;Call of Duty: Ghosts - PlayStation 4&quot;</td><td>5.0</td><td>2018-06-30</td><td>&quot;excelente&quot;</td></tr><tr><td>&quot;Until Dawn - PlayStation 4&quot;</td><td>5.0</td><td>2018-01-07</td><td>&quot;A really fun game, that I recommend trying.&quot;</td></tr><tr><td>&quot;Halo 4 - Xbox 360 (Standard Game)&quot;</td><td>5.0</td><td>2018-05-09</td><td>&quot;no&quot;</td></tr><tr><td>&quot;UNCHARTED: The Nathan Drake Collection - PlayStat…</td><td>5.0</td><td>2018-01-12</td><td>&quot;Just got a PS4 (I&#x27;m pretty late to the game...lit…</td></tr><tr><td>&quot;DualShock 4 Wireless Controller for PlayStation 4…</td><td>4.0</td><td>2018-02-24</td><td>&quot;For two player games, it&#x27;s a must!&quot;</td></tr></tbody></table></div>"
      ],
      "text/plain": [
       "shape: (5, 4)\n",
       "┌─────────────────────────────────────┬────────┬─────────────┬─────────────────────────────────────┐\n",
       "│ title                               ┆ rating ┆ review_date ┆ review_text                         │\n",
       "│ ---                                 ┆ ---    ┆ ---         ┆ ---                                 │\n",
       "│ str                                 ┆ f64    ┆ date        ┆ str                                 │\n",
       "╞═════════════════════════════════════╪════════╪═════════════╪═════════════════════════════════════╡\n",
       "│ Call of Duty: Ghosts - PlayStation  ┆ 5.0    ┆ 2018-06-30  ┆ excelente                           │\n",
       "│ 4                                   ┆        ┆             ┆                                     │\n",
       "│ Until Dawn - PlayStation 4          ┆ 5.0    ┆ 2018-01-07  ┆ A really fun game, that I recommend │\n",
       "│                                     ┆        ┆             ┆ trying.                             │\n",
       "│ Halo 4 - Xbox 360 (Standard Game)   ┆ 5.0    ┆ 2018-05-09  ┆ no                                  │\n",
       "│ UNCHARTED: The Nathan Drake         ┆ 5.0    ┆ 2018-01-12  ┆ Just got a PS4 (I'm pretty late to  │\n",
       "│ Collection - PlayStati…             ┆        ┆             ┆ the game...lite…                    │\n",
       "│ DualShock 4 Wireless Controller for ┆ 4.0    ┆ 2018-02-24  ┆ For two player games, it's a must!  │\n",
       "│ PlayStation 4 …                     ┆        ┆             ┆                                     │\n",
       "└─────────────────────────────────────┴────────┴─────────────┴─────────────────────────────────────┘"
      ]
     },
     "execution_count": 7,
     "metadata": {},
     "output_type": "execute_result"
    }
   ],
   "source": [
    "videogames_lf.head(5).collect()"
   ]
  },
  {
   "attachments": {},
   "cell_type": "markdown",
   "metadata": {},
   "source": [
    "4. Print the LazyFrame from question 3 without using `collect` and visualize the query plan."
   ]
  },
  {
   "cell_type": "code",
   "execution_count": 8,
   "metadata": {},
   "outputs": [
    {
     "data": {
      "text/html": [
       "<h4>NAIVE QUERY PLAN</h4><p>run <b>LazyFrame.show_graph()</b> to see the optimized version</p><?xml version=\"1.0\" encoding=\"UTF-8\" standalone=\"no\"?>\n",
       "<!DOCTYPE svg PUBLIC \"-//W3C//DTD SVG 1.1//EN\"\n",
       " \"http://www.w3.org/Graphics/SVG/1.1/DTD/svg11.dtd\">\n",
       "<!-- Generated by graphviz version 2.43.0 (0)\n",
       " -->\n",
       "<!-- Title: polars_query Pages: 1 -->\n",
       "<svg width=\"470pt\" height=\"133pt\"\n",
       " viewBox=\"0.00 0.00 470.00 133.00\" xmlns=\"http://www.w3.org/2000/svg\" xmlns:xlink=\"http://www.w3.org/1999/xlink\">\n",
       "<g id=\"graph0\" class=\"graph\" transform=\"scale(1 1) rotate(0) translate(4 129)\">\n",
       "<title>polars_query</title>\n",
       "<polygon fill=\"white\" stroke=\"transparent\" points=\"-4,4 -4,-129 466,-129 466,4 -4,4\"/>\n",
       "<!-- FILTER BY (col(&quot;review_date&quot;)) &gt;= (... [(0, 0)] -->\n",
       "<g id=\"node1\" class=\"node\">\n",
       "<title>FILTER BY (col(&quot;review_date&quot;)) &gt;= (... [(0, 0)]</title>\n",
       "<polygon fill=\"none\" stroke=\"black\" points=\"376,-125 86,-125 86,-89 376,-89 376,-125\"/>\n",
       "<text text-anchor=\"middle\" x=\"231\" y=\"-103.3\" font-family=\"Times,serif\" font-size=\"14.00\">FILTER BY (col(&quot;review_date&quot;)) &gt;= (...</text>\n",
       "</g>\n",
       "<!-- Csv SCAN ../datasets/reviews_videogames_350_simplified.csv;\n",
       "π */4;\n",
       "σ &#45; [(0, 1)] -->\n",
       "<g id=\"node2\" class=\"node\">\n",
       "<title>Csv SCAN ../datasets/reviews_videogames_350_simplified.csv;\n",
       "π */4;\n",
       "σ &#45; [(0, 1)]</title>\n",
       "<polygon fill=\"none\" stroke=\"black\" points=\"462,-53 0,-53 0,0 462,0 462,-53\"/>\n",
       "<text text-anchor=\"middle\" x=\"231\" y=\"-37.8\" font-family=\"Times,serif\" font-size=\"14.00\">Csv SCAN ../datasets/reviews_videogames_350_simplified.csv;</text>\n",
       "<text text-anchor=\"middle\" x=\"231\" y=\"-22.8\" font-family=\"Times,serif\" font-size=\"14.00\">π */4;</text>\n",
       "<text text-anchor=\"middle\" x=\"231\" y=\"-7.8\" font-family=\"Times,serif\" font-size=\"14.00\">σ &#45;</text>\n",
       "</g>\n",
       "<!-- FILTER BY (col(&quot;review_date&quot;)) &gt;= (... [(0, 0)]&#45;&#45;Csv SCAN ../datasets/reviews_videogames_350_simplified.csv;\n",
       "π */4;\n",
       "σ &#45; [(0, 1)] -->\n",
       "<g id=\"edge1\" class=\"edge\">\n",
       "<title>FILTER BY (col(&quot;review_date&quot;)) &gt;= (... [(0, 0)]&#45;&#45;Csv SCAN ../datasets/reviews_videogames_350_simplified.csv;\n",
       "π */4;\n",
       "σ &#45; [(0, 1)]</title>\n",
       "<path fill=\"none\" stroke=\"black\" d=\"M231,-88.97C231,-78.51 231,-64.9 231,-53.16\"/>\n",
       "</g>\n",
       "</g>\n",
       "</svg>\n"
      ],
      "text/plain": [
       "<LazyFrame [4 cols, {\"title\": String … \"review_text\": String}] at 0x7F271A73B5B0>"
      ]
     },
     "execution_count": 8,
     "metadata": {},
     "output_type": "execute_result"
    }
   ],
   "source": [
    "videogames_lf"
   ]
  },
  {
   "attachments": {},
   "cell_type": "markdown",
   "metadata": {},
   "source": [
    "5. Sort the LazyFrame based on title and review date in descending order. Show the first 5 rows."
   ]
  },
  {
   "cell_type": "code",
   "execution_count": 9,
   "metadata": {},
   "outputs": [
    {
     "data": {
      "text/html": [
       "<div><style>\n",
       ".dataframe > thead > tr,\n",
       ".dataframe > tbody > tr {\n",
       "  text-align: right;\n",
       "  white-space: pre-wrap;\n",
       "}\n",
       "</style>\n",
       "<small>shape: (5, 4)</small><table border=\"1\" class=\"dataframe\"><thead><tr><th>title</th><th>rating</th><th>review_date</th><th>review_text</th></tr><tr><td>str</td><td>f64</td><td>date</td><td>str</td></tr></thead><tbody><tr><td>null</td><td>5.0</td><td>2018-04-29</td><td>&quot;Can&#x27;t rate the game because it wasn&#x27;t for me but …</td></tr><tr><td>&quot;inFAMOUS: Second Son Standard Edition (PlayStatio…</td><td>4.0</td><td>2018-06-23</td><td>&quot;game case got squeezed and the cd wasn&#x27;t secured …</td></tr><tr><td>&quot;inFAMOUS: Second Son Standard Edition (PlayStatio…</td><td>4.0</td><td>2018-06-11</td><td>&quot;The boy played it multiple times so...&quot;</td></tr><tr><td>&quot;inFAMOUS: Second Son Standard Edition (PlayStatio…</td><td>4.0</td><td>2018-06-01</td><td>&quot;Good!&quot;</td></tr><tr><td>&quot;inFAMOUS: Second Son Standard Edition (PlayStatio…</td><td>1.0</td><td>2018-04-27</td><td>&quot;Rubbish...\n",
       "Good only for a 5 year old maybe...\n",
       "No…</td></tr></tbody></table></div>"
      ],
      "text/plain": [
       "shape: (5, 4)\n",
       "┌───────────────────────────────┬────────┬─────────────┬───────────────────────────────────────────┐\n",
       "│ title                         ┆ rating ┆ review_date ┆ review_text                               │\n",
       "│ ---                           ┆ ---    ┆ ---         ┆ ---                                       │\n",
       "│ str                           ┆ f64    ┆ date        ┆ str                                       │\n",
       "╞═══════════════════════════════╪════════╪═════════════╪═══════════════════════════════════════════╡\n",
       "│ null                          ┆ 5.0    ┆ 2018-04-29  ┆ Can't rate the game because it wasn't for │\n",
       "│                               ┆        ┆             ┆ me but i…                                 │\n",
       "│ inFAMOUS: Second Son Standard ┆ 4.0    ┆ 2018-06-23  ┆ game case got squeezed and the cd wasn't  │\n",
       "│ Edition (PlayStation…         ┆        ┆             ┆ secured i…                                │\n",
       "│ inFAMOUS: Second Son Standard ┆ 4.0    ┆ 2018-06-11  ┆ The boy played it multiple times so...    │\n",
       "│ Edition (PlayStation…         ┆        ┆             ┆                                           │\n",
       "│ inFAMOUS: Second Son Standard ┆ 4.0    ┆ 2018-06-01  ┆ Good!                                     │\n",
       "│ Edition (PlayStation…         ┆        ┆             ┆                                           │\n",
       "│ inFAMOUS: Second Son Standard ┆ 1.0    ┆ 2018-04-27  ┆ Rubbish...                                │\n",
       "│ Edition (PlayStation…         ┆        ┆             ┆ Good only for a 5 year old maybe...       │\n",
       "│                               ┆        ┆             ┆ No …                                      │\n",
       "└───────────────────────────────┴────────┴─────────────┴───────────────────────────────────────────┘"
      ]
     },
     "execution_count": 9,
     "metadata": {},
     "output_type": "execute_result"
    }
   ],
   "source": [
    "videogames_lf.sort([\"title\", \"review_date\"], descending=True).head(5).collect()"
   ]
  },
  {
   "attachments": {},
   "cell_type": "markdown",
   "metadata": {},
   "source": [
    "6. Calculate the minimum value for the rating column and for the review_date column."
   ]
  },
  {
   "cell_type": "code",
   "execution_count": 10,
   "metadata": {},
   "outputs": [
    {
     "data": {
      "text/html": [
       "<div><style>\n",
       ".dataframe > thead > tr,\n",
       ".dataframe > tbody > tr {\n",
       "  text-align: right;\n",
       "  white-space: pre-wrap;\n",
       "}\n",
       "</style>\n",
       "<small>shape: (1, 2)</small><table border=\"1\" class=\"dataframe\"><thead><tr><th>title</th><th>review_date</th></tr><tr><td>str</td><td>date</td></tr></thead><tbody><tr><td>&quot; The Sims 3 - PC&quot;</td><td>2018-01-01</td></tr></tbody></table></div>"
      ],
      "text/plain": [
       "shape: (1, 2)\n",
       "┌──────────────────┬─────────────┐\n",
       "│ title            ┆ review_date │\n",
       "│ ---              ┆ ---         │\n",
       "│ str              ┆ date        │\n",
       "╞══════════════════╪═════════════╡\n",
       "│  The Sims 3 - PC ┆ 2018-01-01  │\n",
       "└──────────────────┴─────────────┘"
      ]
     },
     "execution_count": 10,
     "metadata": {},
     "output_type": "execute_result"
    }
   ],
   "source": [
    "videogames_lf.select(pl.col(\"title\", \"review_date\").min()).collect()"
   ]
  },
  {
   "attachments": {},
   "cell_type": "markdown",
   "metadata": {},
   "source": [
    "7. Calculate the deciles for the rating column"
   ]
  },
  {
   "cell_type": "code",
   "execution_count": 11,
   "metadata": {},
   "outputs": [
    {
     "data": {
      "text/html": [
       "<div><style>\n",
       ".dataframe > thead > tr,\n",
       ".dataframe > tbody > tr {\n",
       "  text-align: right;\n",
       "  white-space: pre-wrap;\n",
       "}\n",
       "</style>\n",
       "<small>shape: (1, 11)</small><table border=\"1\" class=\"dataframe\"><thead><tr><th>perc_0</th><th>perc_10</th><th>perc_20</th><th>perc_30</th><th>perc_40</th><th>perc_50</th><th>perc_60</th><th>perc_70</th><th>perc_80</th><th>perc_90</th><th>perc_100</th></tr><tr><td>f64</td><td>f64</td><td>f64</td><td>f64</td><td>f64</td><td>f64</td><td>f64</td><td>f64</td><td>f64</td><td>f64</td><td>f64</td></tr></thead><tbody><tr><td>1.0</td><td>3.0</td><td>4.0</td><td>5.0</td><td>5.0</td><td>5.0</td><td>5.0</td><td>5.0</td><td>5.0</td><td>5.0</td><td>5.0</td></tr></tbody></table></div>"
      ],
      "text/plain": [
       "shape: (1, 11)\n",
       "┌────────┬─────────┬─────────┬─────────┬───┬─────────┬─────────┬─────────┬──────────┐\n",
       "│ perc_0 ┆ perc_10 ┆ perc_20 ┆ perc_30 ┆ … ┆ perc_70 ┆ perc_80 ┆ perc_90 ┆ perc_100 │\n",
       "│ ---    ┆ ---     ┆ ---     ┆ ---     ┆   ┆ ---     ┆ ---     ┆ ---     ┆ ---      │\n",
       "│ f64    ┆ f64     ┆ f64     ┆ f64     ┆   ┆ f64     ┆ f64     ┆ f64     ┆ f64      │\n",
       "╞════════╪═════════╪═════════╪═════════╪═══╪═════════╪═════════╪═════════╪══════════╡\n",
       "│ 1.0    ┆ 3.0     ┆ 4.0     ┆ 5.0     ┆ … ┆ 5.0     ┆ 5.0     ┆ 5.0     ┆ 5.0      │\n",
       "└────────┴─────────┴─────────┴─────────┴───┴─────────┴─────────┴─────────┴──────────┘"
      ]
     },
     "execution_count": 11,
     "metadata": {},
     "output_type": "execute_result"
    }
   ],
   "source": [
    "videogames_lf.select(\n",
    "    pl.col(\"rating\").quantile(i / 100).alias(f\"perc_{i}\") for i in range(0, 101, 10)\n",
    ").collect()"
   ]
  },
  {
   "attachments": {},
   "cell_type": "markdown",
   "metadata": {},
   "source": [
    "8. Count the number of missing values for the title column."
   ]
  },
  {
   "cell_type": "code",
   "execution_count": 12,
   "metadata": {},
   "outputs": [
    {
     "data": {
      "text/html": [
       "<div><style>\n",
       ".dataframe > thead > tr,\n",
       ".dataframe > tbody > tr {\n",
       "  text-align: right;\n",
       "  white-space: pre-wrap;\n",
       "}\n",
       "</style>\n",
       "<small>shape: (1, 1)</small><table border=\"1\" class=\"dataframe\"><thead><tr><th>title</th></tr><tr><td>u32</td></tr></thead><tbody><tr><td>1</td></tr></tbody></table></div>"
      ],
      "text/plain": [
       "shape: (1, 1)\n",
       "┌───────┐\n",
       "│ title │\n",
       "│ ---   │\n",
       "│ u32   │\n",
       "╞═══════╡\n",
       "│ 1     │\n",
       "└───────┘"
      ]
     },
     "execution_count": 12,
     "metadata": {},
     "output_type": "execute_result"
    }
   ],
   "source": [
    "videogames_lf.select(pl.col(\"title\").null_count()).collect()"
   ]
  },
  {
   "attachments": {},
   "cell_type": "markdown",
   "metadata": {},
   "source": [
    "9. Calculate the minimum, maximum, average, median, and standard deviation for the rating column"
   ]
  },
  {
   "cell_type": "code",
   "execution_count": 13,
   "metadata": {},
   "outputs": [
    {
     "data": {
      "text/html": [
       "<div><style>\n",
       ".dataframe > thead > tr,\n",
       ".dataframe > tbody > tr {\n",
       "  text-align: right;\n",
       "  white-space: pre-wrap;\n",
       "}\n",
       "</style>\n",
       "<small>shape: (1, 5)</small><table border=\"1\" class=\"dataframe\"><thead><tr><th>min_rating</th><th>max_rating</th><th>avg_rating</th><th>median_rating</th><th>std_rating</th></tr><tr><td>f64</td><td>f64</td><td>f64</td><td>f64</td><td>f64</td></tr></thead><tbody><tr><td>1.0</td><td>5.0</td><td>4.414088</td><td>5.0</td><td>1.133849</td></tr></tbody></table></div>"
      ],
      "text/plain": [
       "shape: (1, 5)\n",
       "┌────────────┬────────────┬────────────┬───────────────┬────────────┐\n",
       "│ min_rating ┆ max_rating ┆ avg_rating ┆ median_rating ┆ std_rating │\n",
       "│ ---        ┆ ---        ┆ ---        ┆ ---           ┆ ---        │\n",
       "│ f64        ┆ f64        ┆ f64        ┆ f64           ┆ f64        │\n",
       "╞════════════╪════════════╪════════════╪═══════════════╪════════════╡\n",
       "│ 1.0        ┆ 5.0        ┆ 4.414088   ┆ 5.0           ┆ 1.133849   │\n",
       "└────────────┴────────────┴────────────┴───────────────┴────────────┘"
      ]
     },
     "execution_count": 13,
     "metadata": {},
     "output_type": "execute_result"
    }
   ],
   "source": [
    "videogames_lf.select(\n",
    "    min_rating=pl.min(\"rating\"),\n",
    "    max_rating=pl.max(\"rating\"),\n",
    "    avg_rating=pl.mean(\"rating\"),\n",
    "    median_rating=pl.median(\"rating\"),\n",
    "    std_rating=pl.std(\"rating\"),\n",
    ").collect()"
   ]
  },
  {
   "attachments": {},
   "cell_type": "markdown",
   "metadata": {},
   "source": [
    "10. Show the rows where the combination of title, review_date, and review_text appear more than once (duplicated rows). Hint: you can use `pl.struct()` to combine the 3 columns together and then verify when they are duplicated. Finally, sort the table by the same columns."
   ]
  },
  {
   "cell_type": "code",
   "execution_count": 14,
   "metadata": {},
   "outputs": [
    {
     "data": {
      "text/html": [
       "<div><style>\n",
       ".dataframe > thead > tr,\n",
       ".dataframe > tbody > tr {\n",
       "  text-align: right;\n",
       "  white-space: pre-wrap;\n",
       "}\n",
       "</style>\n",
       "<small>shape: (38, 4)</small><table border=\"1\" class=\"dataframe\"><thead><tr><th>title</th><th>rating</th><th>review_date</th><th>review_text</th></tr><tr><td>str</td><td>f64</td><td>date</td><td>str</td></tr></thead><tbody><tr><td>&quot; The Sims 3 - PC&quot;</td><td>5.0</td><td>2018-01-30</td><td>&quot;The recipient loved it and immediately stated pla…</td></tr><tr><td>&quot; The Sims 3 - PC&quot;</td><td>5.0</td><td>2018-01-30</td><td>&quot;The recipient loved it and immediately stated pla…</td></tr><tr><td>&quot;Batman: Arkham Knight - PlayStation 4 [Digital Co…</td><td>5.0</td><td>2018-02-08</td><td>&quot;ok&quot;</td></tr><tr><td>&quot;Batman: Arkham Knight - PlayStation 4 [Digital Co…</td><td>5.0</td><td>2018-02-08</td><td>&quot;ok&quot;</td></tr><tr><td>&quot;DualShock 4 Wireless Controller for PlayStation 4…</td><td>5.0</td><td>2018-03-07</td><td>&quot;works as described&quot;</td></tr><tr><td>&quot;DualShock 4 Wireless Controller for PlayStation 4…</td><td>5.0</td><td>2018-03-07</td><td>&quot;works as described&quot;</td></tr><tr><td>&quot;Final Fantasy X&quot;</td><td>5.0</td><td>2018-02-27</td><td>&quot;Most favorite game of the series&quot;</td></tr><tr><td>&quot;Final Fantasy X&quot;</td><td>5.0</td><td>2018-02-27</td><td>&quot;Most favorite game of the series&quot;</td></tr><tr><td>&quot;Final Fantasy X&quot;</td><td>5.0</td><td>2018-04-20</td><td>&quot;Played this game long ago, can&#x27;t wait to try it o…</td></tr><tr><td>&quot;Final Fantasy X&quot;</td><td>5.0</td><td>2018-04-20</td><td>&quot;Played this game long ago, can&#x27;t wait to try it o…</td></tr><tr><td>&quot;Halo - Xbox&quot;</td><td>5.0</td><td>2018-03-02</td><td>&quot;awesome game.&quot;</td></tr><tr><td>&quot;Halo - Xbox&quot;</td><td>5.0</td><td>2018-03-02</td><td>&quot;awesome game.&quot;</td></tr><tr><td>&hellip;</td><td>&hellip;</td><td>&hellip;</td><td>&hellip;</td></tr><tr><td>&quot;PlayStation 3 Dualshock 3 Wireless Controller (Bl…</td><td>5.0</td><td>2018-03-14</td><td>&quot;Excelente&quot;</td></tr><tr><td>&quot;PlayStation 3 Dualshock 3 Wireless Controller (Bl…</td><td>5.0</td><td>2018-03-14</td><td>&quot;Excelente&quot;</td></tr><tr><td>&quot;PlayStation Eye&quot;</td><td>5.0</td><td>2018-01-22</td><td>&quot;When my granddaughter got the dance video game, i…</td></tr><tr><td>&quot;PlayStation Eye&quot;</td><td>5.0</td><td>2018-01-22</td><td>&quot;When my granddaughter got the dance video game, i…</td></tr><tr><td>&quot;Wii Play&quot;</td><td>2.0</td><td>2018-01-06</td><td>&quot;its an okay game. a few of the options are fun bu…</td></tr><tr><td>&quot;Wii Play&quot;</td><td>2.0</td><td>2018-01-06</td><td>&quot;its an okay game. a few of the options are fun bu…</td></tr><tr><td>&quot;Wii Play&quot;</td><td>4.0</td><td>2018-01-28</td><td>&quot;Got it as a gift for someone and they loved it so…</td></tr><tr><td>&quot;Wii Play&quot;</td><td>4.0</td><td>2018-01-28</td><td>&quot;Got it as a gift for someone and they loved it so…</td></tr><tr><td>&quot;Wii Play&quot;</td><td>5.0</td><td>2018-02-23</td><td>&quot;Buy this product for a gift and I really like it.…</td></tr><tr><td>&quot;Wii Play&quot;</td><td>5.0</td><td>2018-02-23</td><td>&quot;Buy this product for a gift and I really like it.…</td></tr><tr><td>&quot;Wii Sports&quot;</td><td>5.0</td><td>2018-03-19</td><td>&quot;Awesome game. No issues.&quot;</td></tr><tr><td>&quot;Wii Sports&quot;</td><td>5.0</td><td>2018-03-19</td><td>&quot;Awesome game. No issues.&quot;</td></tr></tbody></table></div>"
      ],
      "text/plain": [
       "shape: (38, 4)\n",
       "┌─────────────────────────────────────┬────────┬─────────────┬─────────────────────────────────────┐\n",
       "│ title                               ┆ rating ┆ review_date ┆ review_text                         │\n",
       "│ ---                                 ┆ ---    ┆ ---         ┆ ---                                 │\n",
       "│ str                                 ┆ f64    ┆ date        ┆ str                                 │\n",
       "╞═════════════════════════════════════╪════════╪═════════════╪═════════════════════════════════════╡\n",
       "│  The Sims 3 - PC                    ┆ 5.0    ┆ 2018-01-30  ┆ The recipient loved it and          │\n",
       "│                                     ┆        ┆             ┆ immediately stated play…            │\n",
       "│  The Sims 3 - PC                    ┆ 5.0    ┆ 2018-01-30  ┆ The recipient loved it and          │\n",
       "│                                     ┆        ┆             ┆ immediately stated play…            │\n",
       "│ Batman: Arkham Knight - PlayStation ┆ 5.0    ┆ 2018-02-08  ┆ ok                                  │\n",
       "│ 4 [Digital Cod…                     ┆        ┆             ┆                                     │\n",
       "│ Batman: Arkham Knight - PlayStation ┆ 5.0    ┆ 2018-02-08  ┆ ok                                  │\n",
       "│ 4 [Digital Cod…                     ┆        ┆             ┆                                     │\n",
       "│ DualShock 4 Wireless Controller for ┆ 5.0    ┆ 2018-03-07  ┆ works as described                  │\n",
       "│ PlayStation 4 …                     ┆        ┆             ┆                                     │\n",
       "│ …                                   ┆ …      ┆ …           ┆ …                                   │\n",
       "│ Wii Play                            ┆ 4.0    ┆ 2018-01-28  ┆ Got it as a gift for someone and    │\n",
       "│                                     ┆        ┆             ┆ they loved it so …                  │\n",
       "│ Wii Play                            ┆ 5.0    ┆ 2018-02-23  ┆ Buy this product for a gift and I   │\n",
       "│                                     ┆        ┆             ┆ really like it.                     │\n",
       "│ Wii Play                            ┆ 5.0    ┆ 2018-02-23  ┆ Buy this product for a gift and I   │\n",
       "│                                     ┆        ┆             ┆ really like it.                     │\n",
       "│ Wii Sports                          ┆ 5.0    ┆ 2018-03-19  ┆ Awesome game. No issues.            │\n",
       "│ Wii Sports                          ┆ 5.0    ┆ 2018-03-19  ┆ Awesome game. No issues.            │\n",
       "└─────────────────────────────────────┴────────┴─────────────┴─────────────────────────────────────┘"
      ]
     },
     "execution_count": 14,
     "metadata": {},
     "output_type": "execute_result"
    }
   ],
   "source": [
    "videogames_lf.filter(\n",
    "    pl.struct(\"title\", \"review_date\", \"review_text\").is_duplicated()\n",
    ").sort(\"title\", \"review_date\", \"review_text\").collect()"
   ]
  },
  {
   "cell_type": "code",
   "execution_count": null,
   "metadata": {},
   "outputs": [],
   "source": []
  }
 ],
 "metadata": {
  "kernelspec": {
   "display_name": "Python 3",
   "language": "python",
   "name": "python3"
  },
  "language_info": {
   "codemirror_mode": {
    "name": "ipython",
    "version": 3
   },
   "file_extension": ".py",
   "mimetype": "text/x-python",
   "name": "python",
   "nbconvert_exporter": "python",
   "pygments_lexer": "ipython3",
   "version": "3.10.12"
  },
  "orig_nbformat": 4
 },
 "nbformat": 4,
 "nbformat_minor": 2
}
