{
 "cells": [
  {
   "attachments": {},
   "cell_type": "markdown",
   "metadata": {},
   "source": [
    "### Polars dataframes"
   ]
  },
  {
   "cell_type": "code",
   "execution_count": 1,
   "metadata": {},
   "outputs": [],
   "source": [
    "import polars as pl"
   ]
  },
  {
   "cell_type": "code",
   "execution_count": 2,
   "metadata": {},
   "outputs": [],
   "source": [
    "# load a JSON file to a Polars DataFrame\n",
    "video_games_reviews = pl.read_csv('../datasets/reviews_videogames_350_simplified.csv', infer_schema_length=10000, try_parse_dates=True)"
   ]
  },
  {
   "cell_type": "code",
   "execution_count": 3,
   "metadata": {},
   "outputs": [
    {
     "data": {
      "text/plain": [
       "polars.config.Config"
      ]
     },
     "execution_count": 3,
     "metadata": {},
     "output_type": "execute_result"
    }
   ],
   "source": [
    "# Configure the number of characters to show for each string column\n",
    "pl.Config.set_fmt_str_lengths(60)"
   ]
  },
  {
   "attachments": {},
   "cell_type": "markdown",
   "metadata": {},
   "source": [
    "#### Inspect the data"
   ]
  },
  {
   "cell_type": "code",
   "execution_count": 4,
   "metadata": {},
   "outputs": [
    {
     "data": {
      "text/html": [
       "<div><style>\n",
       ".dataframe > thead > tr > th,\n",
       ".dataframe > tbody > tr > td {\n",
       "  text-align: right;\n",
       "}\n",
       "</style>\n",
       "<small>shape: (2, 4)</small><table border=\"1\" class=\"dataframe\"><thead><tr><th>title</th><th>rating</th><th>review_date</th><th>review_text</th></tr><tr><td>str</td><td>f64</td><td>date</td><td>str</td></tr></thead><tbody><tr><td>&quot;Killzone: Shadow Fall (PlayStation 4)&quot;</td><td>5.0</td><td>2016-12-02</td><td>&quot;First time having this game! It pretty good and the graphic…</td></tr><tr><td>&quot;Resident Evil 5 - Xbox 360&quot;</td><td>5.0</td><td>2014-07-29</td><td>&quot;good&quot;</td></tr></tbody></table></div>"
      ],
      "text/plain": [
       "shape: (2, 4)\n",
       "┌─────────────────────────────────────────┬────────┬─────────────┬─────────────────────────────────┐\n",
       "│ title                                   ┆ rating ┆ review_date ┆ review_text                     │\n",
       "│ ---                                     ┆ ---    ┆ ---         ┆ ---                             │\n",
       "│ str                                     ┆ f64    ┆ date        ┆ str                             │\n",
       "╞═════════════════════════════════════════╪════════╪═════════════╪═════════════════════════════════╡\n",
       "│ Killzone: Shadow Fall (PlayStation 4)   ┆ 5.0    ┆ 2016-12-02  ┆ First time having this game! It │\n",
       "│                                         ┆        ┆             ┆ pretty good and the graphics…   │\n",
       "│ Resident Evil 5 - Xbox 360              ┆ 5.0    ┆ 2014-07-29  ┆ good                            │\n",
       "└─────────────────────────────────────────┴────────┴─────────────┴─────────────────────────────────┘"
      ]
     },
     "execution_count": 4,
     "metadata": {},
     "output_type": "execute_result"
    }
   ],
   "source": [
    "# Show the first 5 rows of the DataFrame\n",
    "# We will use head extensively to show few rows of a dataframe\n",
    "video_games_reviews.head(2)"
   ]
  },
  {
   "cell_type": "code",
   "execution_count": 5,
   "metadata": {},
   "outputs": [
    {
     "data": {
      "text/html": [
       "<div><style>\n",
       ".dataframe > thead > tr > th,\n",
       ".dataframe > tbody > tr > td {\n",
       "  text-align: right;\n",
       "}\n",
       "</style>\n",
       "<small>shape: (2, 4)</small><table border=\"1\" class=\"dataframe\"><thead><tr><th>title</th><th>rating</th><th>review_date</th><th>review_text</th></tr><tr><td>str</td><td>f64</td><td>date</td><td>str</td></tr></thead><tbody><tr><td>&quot;Grand Theft Auto V - PlayStation 4&quot;</td><td>5.0</td><td>2015-12-03</td><td>&quot;Fantastic game. The gameplay is completely revamped and is …</td></tr><tr><td>&quot;Resident Evil 5 - Playstation 3&quot;</td><td>5.0</td><td>2013-03-06</td><td>&quot;muy buen producto\n",
       "todos debirian de comprar esto\n",
       "se los rec…</td></tr></tbody></table></div>"
      ],
      "text/plain": [
       "shape: (2, 4)\n",
       "┌────────────────────────────────────┬────────┬─────────────┬─────────────────────────────────┐\n",
       "│ title                              ┆ rating ┆ review_date ┆ review_text                     │\n",
       "│ ---                                ┆ ---    ┆ ---         ┆ ---                             │\n",
       "│ str                                ┆ f64    ┆ date        ┆ str                             │\n",
       "╞════════════════════════════════════╪════════╪═════════════╪═════════════════════════════════╡\n",
       "│ Grand Theft Auto V - PlayStation 4 ┆ 5.0    ┆ 2015-12-03  ┆ Fantastic game. The gameplay is │\n",
       "│                                    ┆        ┆             ┆ completely revamped and is m…   │\n",
       "│ Resident Evil 5 - Playstation 3    ┆ 5.0    ┆ 2013-03-06  ┆ muy buen producto               │\n",
       "│                                    ┆        ┆             ┆ todos debirian de comprar esto  │\n",
       "│                                    ┆        ┆             ┆ se los reco…                    │\n",
       "└────────────────────────────────────┴────────┴─────────────┴─────────────────────────────────┘"
      ]
     },
     "execution_count": 5,
     "metadata": {},
     "output_type": "execute_result"
    }
   ],
   "source": [
    "# Show the last 5 rows of the DataFrame\n",
    "video_games_reviews.tail(2)"
   ]
  },
  {
   "cell_type": "code",
   "execution_count": 6,
   "metadata": {},
   "outputs": [
    {
     "data": {
      "text/html": [
       "<div><style>\n",
       ".dataframe > thead > tr > th,\n",
       ".dataframe > tbody > tr > td {\n",
       "  text-align: right;\n",
       "}\n",
       "</style>\n",
       "<small>shape: (2, 4)</small><table border=\"1\" class=\"dataframe\"><thead><tr><th>title</th><th>rating</th><th>review_date</th><th>review_text</th></tr><tr><td>str</td><td>f64</td><td>date</td><td>str</td></tr></thead><tbody><tr><td>&quot;Xbox 360 LIVE 1600 Points&quot;</td><td>5.0</td><td>2012-06-17</td><td>&quot;I love the ability to buy microsoft points on amazon.  You …</td></tr><tr><td>&quot;Yoshi amiibo (Super Smash Bros Series)&quot;</td><td>4.0</td><td>2018-05-18</td><td>&quot;Overpriced, but came in like-new condition.&quot;</td></tr></tbody></table></div>"
      ],
      "text/plain": [
       "shape: (2, 4)\n",
       "┌────────────────────────────────┬────────┬─────────────┬─────────────────────────────────────┐\n",
       "│ title                          ┆ rating ┆ review_date ┆ review_text                         │\n",
       "│ ---                            ┆ ---    ┆ ---         ┆ ---                                 │\n",
       "│ str                            ┆ f64    ┆ date        ┆ str                                 │\n",
       "╞════════════════════════════════╪════════╪═════════════╪═════════════════════════════════════╡\n",
       "│ Xbox 360 LIVE 1600 Points      ┆ 5.0    ┆ 2012-06-17  ┆ I love the ability to buy microsoft │\n",
       "│                                ┆        ┆             ┆ points on amazon.  You g…           │\n",
       "│ Yoshi amiibo (Super Smash Bros ┆ 4.0    ┆ 2018-05-18  ┆ Overpriced, but came in like-new    │\n",
       "│ Series)                        ┆        ┆             ┆ condition.                          │\n",
       "└────────────────────────────────┴────────┴─────────────┴─────────────────────────────────────┘"
      ]
     },
     "execution_count": 6,
     "metadata": {},
     "output_type": "execute_result"
    }
   ],
   "source": [
    "# Show a sample of 5 rows of the DataFrame\n",
    "video_games_reviews.sample(2)"
   ]
  },
  {
   "attachments": {},
   "cell_type": "markdown",
   "metadata": {},
   "source": [
    "#### Printing the information to screen"
   ]
  },
  {
   "cell_type": "code",
   "execution_count": 7,
   "metadata": {},
   "outputs": [
    {
     "data": {
      "text/html": [
       "<div><style>\n",
       ".dataframe > thead > tr > th,\n",
       ".dataframe > tbody > tr > td {\n",
       "  text-align: right;\n",
       "}\n",
       "</style>\n",
       "<small>shape: (2, 4)</small><table border=\"1\" class=\"dataframe\"><thead><tr><th>title</th><th>rating</th><th>review_date</th><th>review_text</th></tr><tr><td>str</td><td>f64</td><td>date</td><td>str</td></tr></thead><tbody><tr><td>&quot;Killzone: Shadow Fall (PlayStation 4)&quot;</td><td>5.0</td><td>2016-12-02</td><td>&quot;First time having this game! It pretty good and the graphic…</td></tr><tr><td>&quot;Resident Evil 5 - Xbox 360&quot;</td><td>5.0</td><td>2014-07-29</td><td>&quot;good&quot;</td></tr></tbody></table></div>"
      ],
      "text/plain": [
       "shape: (2, 4)\n",
       "┌─────────────────────────────────────────┬────────┬─────────────┬─────────────────────────────────┐\n",
       "│ title                                   ┆ rating ┆ review_date ┆ review_text                     │\n",
       "│ ---                                     ┆ ---    ┆ ---         ┆ ---                             │\n",
       "│ str                                     ┆ f64    ┆ date        ┆ str                             │\n",
       "╞═════════════════════════════════════════╪════════╪═════════════╪═════════════════════════════════╡\n",
       "│ Killzone: Shadow Fall (PlayStation 4)   ┆ 5.0    ┆ 2016-12-02  ┆ First time having this game! It │\n",
       "│                                         ┆        ┆             ┆ pretty good and the graphics…   │\n",
       "│ Resident Evil 5 - Xbox 360              ┆ 5.0    ┆ 2014-07-29  ┆ good                            │\n",
       "└─────────────────────────────────────────┴────────┴─────────────┴─────────────────────────────────┘"
      ]
     },
     "execution_count": 7,
     "metadata": {},
     "output_type": "execute_result"
    }
   ],
   "source": [
    "# Last instruction of a cell is automatically printed\n",
    "a = 5\n",
    "video_games_reviews.head(2)"
   ]
  },
  {
   "cell_type": "code",
   "execution_count": 8,
   "metadata": {},
   "outputs": [
    {
     "data": {
      "text/plain": [
       "5"
      ]
     },
     "execution_count": 8,
     "metadata": {},
     "output_type": "execute_result"
    }
   ],
   "source": [
    "# Last instruction of a cell is automatically printed\n",
    "video_games_reviews.head(2)\n",
    "a = 5\n",
    "a"
   ]
  },
  {
   "cell_type": "code",
   "execution_count": 9,
   "metadata": {},
   "outputs": [
    {
     "data": {
      "text/html": [
       "<div><style>\n",
       ".dataframe > thead > tr > th,\n",
       ".dataframe > tbody > tr > td {\n",
       "  text-align: right;\n",
       "}\n",
       "</style>\n",
       "<small>shape: (2, 4)</small><table border=\"1\" class=\"dataframe\"><thead><tr><th>title</th><th>rating</th><th>review_date</th><th>review_text</th></tr><tr><td>str</td><td>f64</td><td>date</td><td>str</td></tr></thead><tbody><tr><td>&quot;Killzone: Shadow Fall (PlayStation 4)&quot;</td><td>5.0</td><td>2016-12-02</td><td>&quot;First time having this game! It pretty good and the graphic…</td></tr><tr><td>&quot;Resident Evil 5 - Xbox 360&quot;</td><td>5.0</td><td>2014-07-29</td><td>&quot;good&quot;</td></tr></tbody></table></div>"
      ],
      "text/plain": [
       "shape: (2, 4)\n",
       "┌─────────────────────────────────────────┬────────┬─────────────┬─────────────────────────────────┐\n",
       "│ title                                   ┆ rating ┆ review_date ┆ review_text                     │\n",
       "│ ---                                     ┆ ---    ┆ ---         ┆ ---                             │\n",
       "│ str                                     ┆ f64    ┆ date        ┆ str                             │\n",
       "╞═════════════════════════════════════════╪════════╪═════════════╪═════════════════════════════════╡\n",
       "│ Killzone: Shadow Fall (PlayStation 4)   ┆ 5.0    ┆ 2016-12-02  ┆ First time having this game! It │\n",
       "│                                         ┆        ┆             ┆ pretty good and the graphics…   │\n",
       "│ Resident Evil 5 - Xbox 360              ┆ 5.0    ┆ 2014-07-29  ┆ good                            │\n",
       "└─────────────────────────────────────────┴────────┴─────────────┴─────────────────────────────────┘"
      ]
     },
     "metadata": {},
     "output_type": "display_data"
    },
    {
     "data": {
      "text/plain": [
       "5"
      ]
     },
     "execution_count": 9,
     "metadata": {},
     "output_type": "execute_result"
    }
   ],
   "source": [
    "# Print to screen using display()\n",
    "display(video_games_reviews.head(2))\n",
    "a = 5\n",
    "a"
   ]
  },
  {
   "cell_type": "code",
   "execution_count": 10,
   "metadata": {},
   "outputs": [
    {
     "name": "stdout",
     "output_type": "stream",
     "text": [
      "shape: (2, 4)\n",
      "┌─────────────────────────────────────────┬────────┬─────────────┬─────────────────────────────────┐\n",
      "│ title                                   ┆ rating ┆ review_date ┆ review_text                     │\n",
      "│ ---                                     ┆ ---    ┆ ---         ┆ ---                             │\n",
      "│ str                                     ┆ f64    ┆ date        ┆ str                             │\n",
      "╞═════════════════════════════════════════╪════════╪═════════════╪═════════════════════════════════╡\n",
      "│ Killzone: Shadow Fall (PlayStation 4)   ┆ 5.0    ┆ 2016-12-02  ┆ First time having this game! It │\n",
      "│                                         ┆        ┆             ┆ pretty good and the graphics…   │\n",
      "│ Resident Evil 5 - Xbox 360              ┆ 5.0    ┆ 2014-07-29  ┆ good                            │\n",
      "└─────────────────────────────────────────┴────────┴─────────────┴─────────────────────────────────┘\n"
     ]
    }
   ],
   "source": [
    "# Print to screen using print()\n",
    "print(video_games_reviews.head(2))"
   ]
  },
  {
   "attachments": {},
   "cell_type": "markdown",
   "metadata": {},
   "source": [
    "#### Information about the table"
   ]
  },
  {
   "cell_type": "code",
   "execution_count": 11,
   "metadata": {},
   "outputs": [
    {
     "data": {
      "text/plain": [
       "{'title': Utf8, 'rating': Float64, 'review_date': Date, 'review_text': Utf8}"
      ]
     },
     "execution_count": 11,
     "metadata": {},
     "output_type": "execute_result"
    }
   ],
   "source": [
    "# Schema of the table: column names and types\n",
    "video_games_reviews.schema"
   ]
  },
  {
   "cell_type": "code",
   "execution_count": 12,
   "metadata": {},
   "outputs": [
    {
     "data": {
      "text/plain": [
       "['title', 'rating', 'review_date', 'review_text']"
      ]
     },
     "execution_count": 12,
     "metadata": {},
     "output_type": "execute_result"
    }
   ],
   "source": [
    "# Column names\n",
    "video_games_reviews.columns"
   ]
  },
  {
   "cell_type": "code",
   "execution_count": 13,
   "metadata": {},
   "outputs": [
    {
     "data": {
      "text/plain": [
       "[Utf8, Float64, Date, Utf8]"
      ]
     },
     "execution_count": 13,
     "metadata": {},
     "output_type": "execute_result"
    }
   ],
   "source": [
    "# Column data types\n",
    "video_games_reviews.dtypes"
   ]
  },
  {
   "cell_type": "code",
   "execution_count": 14,
   "metadata": {},
   "outputs": [
    {
     "data": {
      "text/plain": [
       "(49577, 4)"
      ]
     },
     "execution_count": 14,
     "metadata": {},
     "output_type": "execute_result"
    }
   ],
   "source": [
    "# Shape of the DataFrame: number of rows and columns\n",
    "video_games_reviews.shape"
   ]
  },
  {
   "cell_type": "code",
   "execution_count": 15,
   "metadata": {},
   "outputs": [
    {
     "data": {
      "text/plain": [
       "49577"
      ]
     },
     "execution_count": 15,
     "metadata": {},
     "output_type": "execute_result"
    }
   ],
   "source": [
    "# Number of rows\n",
    "video_games_reviews.height"
   ]
  },
  {
   "cell_type": "code",
   "execution_count": 16,
   "metadata": {},
   "outputs": [
    {
     "data": {
      "text/plain": [
       "4"
      ]
     },
     "execution_count": 16,
     "metadata": {},
     "output_type": "execute_result"
    }
   ],
   "source": [
    "# Number of columns\n",
    "video_games_reviews.width"
   ]
  },
  {
   "cell_type": "code",
   "execution_count": 17,
   "metadata": {},
   "outputs": [
    {
     "data": {
      "text/html": [
       "<div><style>\n",
       ".dataframe > thead > tr > th,\n",
       ".dataframe > tbody > tr > td {\n",
       "  text-align: right;\n",
       "}\n",
       "</style>\n",
       "<small>shape: (7, 5)</small><table border=\"1\" class=\"dataframe\"><thead><tr><th>describe</th><th>title</th><th>rating</th><th>review_date</th><th>review_text</th></tr><tr><td>str</td><td>str</td><td>f64</td><td>str</td><td>str</td></tr></thead><tbody><tr><td>&quot;count&quot;</td><td>&quot;49577&quot;</td><td>49577.0</td><td>&quot;49577&quot;</td><td>&quot;49577&quot;</td></tr><tr><td>&quot;null_count&quot;</td><td>&quot;418&quot;</td><td>0.0</td><td>&quot;0&quot;</td><td>&quot;17&quot;</td></tr><tr><td>&quot;mean&quot;</td><td>null</td><td>4.317345</td><td>null</td><td>null</td></tr><tr><td>&quot;std&quot;</td><td>null</td><td>1.16256</td><td>null</td><td>null</td></tr><tr><td>&quot;min&quot;</td><td>&quot;Alan Wake - Xbox 360&quot;</td><td>1.0</td><td>&quot;2001-10-01&quot;</td><td>&quot; batman&quot;</td></tr><tr><td>&quot;max&quot;</td><td>&quot;inFAMOUS: Second Son Standard Edition (PlayStation 4)&quot;</td><td>5.0</td><td>&quot;2018-08-27&quot;</td><td>&quot;~PROS~\n",
       "+Fantastic &quot;OMG no wayyyy that&#x27;s crayyyzyyy&quot; kind of…</td></tr><tr><td>&quot;median&quot;</td><td>null</td><td>5.0</td><td>null</td><td>null</td></tr></tbody></table></div>"
      ],
      "text/plain": [
       "shape: (7, 5)\n",
       "┌────────────┬──────────────────────┬──────────┬─────────────┬──────────────────────────────────┐\n",
       "│ describe   ┆ title                ┆ rating   ┆ review_date ┆ review_text                      │\n",
       "│ ---        ┆ ---                  ┆ ---      ┆ ---         ┆ ---                              │\n",
       "│ str        ┆ str                  ┆ f64      ┆ str         ┆ str                              │\n",
       "╞════════════╪══════════════════════╪══════════╪═════════════╪══════════════════════════════════╡\n",
       "│ count      ┆ 49577                ┆ 49577.0  ┆ 49577       ┆ 49577                            │\n",
       "│ null_count ┆ 418                  ┆ 0.0      ┆ 0           ┆ 17                               │\n",
       "│ mean       ┆ null                 ┆ 4.317345 ┆ null        ┆ null                             │\n",
       "│ std        ┆ null                 ┆ 1.16256  ┆ null        ┆ null                             │\n",
       "│ min        ┆ Alan Wake - Xbox 360 ┆ 1.0      ┆ 2001-10-01  ┆  batman                          │\n",
       "│ max        ┆ inFAMOUS: Second Son ┆ 5.0      ┆ 2018-08-27  ┆ ~PROS~                           │\n",
       "│            ┆ Standard Edition     ┆          ┆             ┆ +Fantastic \"OMG no wayyyy that's │\n",
       "│            ┆ (PlayStation 4)      ┆          ┆             ┆ crayyyzyyy\" kind of …            │\n",
       "│ median     ┆ null                 ┆ 5.0      ┆ null        ┆ null                             │\n",
       "└────────────┴──────────────────────┴──────────┴─────────────┴──────────────────────────────────┘"
      ]
     },
     "execution_count": 17,
     "metadata": {},
     "output_type": "execute_result"
    }
   ],
   "source": [
    "# Visualize statistics about the columns: count, mean, std, min, max, etc.\n",
    "video_games_reviews.describe()"
   ]
  },
  {
   "cell_type": "code",
   "execution_count": 18,
   "metadata": {},
   "outputs": [
    {
     "data": {
      "text/plain": [
       "33.72313117980957"
      ]
     },
     "execution_count": 18,
     "metadata": {},
     "output_type": "execute_result"
    }
   ],
   "source": [
    "# Estimate the memory usage of the DataFrame\n",
    "video_games_reviews.estimated_size('mb')"
   ]
  },
  {
   "cell_type": "markdown",
   "metadata": {},
   "source": [
    "#### Combine multiple methods, and assign a modified dataframe to a new variable"
   ]
  },
  {
   "cell_type": "code",
   "execution_count": 19,
   "metadata": {},
   "outputs": [
    {
     "data": {
      "text/html": [
       "<div><style>\n",
       ".dataframe > thead > tr > th,\n",
       ".dataframe > tbody > tr > td {\n",
       "  text-align: right;\n",
       "}\n",
       "</style>\n",
       "<small>shape: (3, 5)</small><table border=\"1\" class=\"dataframe\"><thead><tr><th>describe</th><th>title</th><th>rating</th><th>review_date</th><th>review_text</th></tr><tr><td>str</td><td>str</td><td>f64</td><td>str</td><td>str</td></tr></thead><tbody><tr><td>&quot;count&quot;</td><td>&quot;49577&quot;</td><td>49577.0</td><td>&quot;49577&quot;</td><td>&quot;49577&quot;</td></tr><tr><td>&quot;null_count&quot;</td><td>&quot;418&quot;</td><td>0.0</td><td>&quot;0&quot;</td><td>&quot;17&quot;</td></tr><tr><td>&quot;mean&quot;</td><td>null</td><td>4.317345</td><td>null</td><td>null</td></tr></tbody></table></div>"
      ],
      "text/plain": [
       "shape: (3, 5)\n",
       "┌────────────┬───────┬──────────┬─────────────┬─────────────┐\n",
       "│ describe   ┆ title ┆ rating   ┆ review_date ┆ review_text │\n",
       "│ ---        ┆ ---   ┆ ---      ┆ ---         ┆ ---         │\n",
       "│ str        ┆ str   ┆ f64      ┆ str         ┆ str         │\n",
       "╞════════════╪═══════╪══════════╪═════════════╪═════════════╡\n",
       "│ count      ┆ 49577 ┆ 49577.0  ┆ 49577       ┆ 49577       │\n",
       "│ null_count ┆ 418   ┆ 0.0      ┆ 0           ┆ 17          │\n",
       "│ mean       ┆ null  ┆ 4.317345 ┆ null        ┆ null        │\n",
       "└────────────┴───────┴──────────┴─────────────┴─────────────┘"
      ]
     },
     "execution_count": 19,
     "metadata": {},
     "output_type": "execute_result"
    }
   ],
   "source": [
    "# Visualize statistics, and show only the first 3 rows\n",
    "video_games_reviews.describe().head(3)"
   ]
  },
  {
   "cell_type": "code",
   "execution_count": 20,
   "metadata": {},
   "outputs": [],
   "source": [
    "# Assign the description of the DataFrame to a variable called video_games_description\n",
    "video_games_description = video_games_reviews.describe()"
   ]
  },
  {
   "cell_type": "code",
   "execution_count": 21,
   "metadata": {},
   "outputs": [
    {
     "data": {
      "text/html": [
       "<div><style>\n",
       ".dataframe > thead > tr > th,\n",
       ".dataframe > tbody > tr > td {\n",
       "  text-align: right;\n",
       "}\n",
       "</style>\n",
       "<small>shape: (7, 5)</small><table border=\"1\" class=\"dataframe\"><thead><tr><th>describe</th><th>title</th><th>rating</th><th>review_date</th><th>review_text</th></tr><tr><td>str</td><td>str</td><td>f64</td><td>str</td><td>str</td></tr></thead><tbody><tr><td>&quot;count&quot;</td><td>&quot;49577&quot;</td><td>49577.0</td><td>&quot;49577&quot;</td><td>&quot;49577&quot;</td></tr><tr><td>&quot;null_count&quot;</td><td>&quot;418&quot;</td><td>0.0</td><td>&quot;0&quot;</td><td>&quot;17&quot;</td></tr><tr><td>&quot;mean&quot;</td><td>null</td><td>4.317345</td><td>null</td><td>null</td></tr><tr><td>&quot;std&quot;</td><td>null</td><td>1.16256</td><td>null</td><td>null</td></tr><tr><td>&quot;min&quot;</td><td>&quot;Alan Wake - Xbox 360&quot;</td><td>1.0</td><td>&quot;2001-10-01&quot;</td><td>&quot; batman&quot;</td></tr><tr><td>&quot;max&quot;</td><td>&quot;inFAMOUS: Second Son Standard Edition (PlayStation 4)&quot;</td><td>5.0</td><td>&quot;2018-08-27&quot;</td><td>&quot;~PROS~\n",
       "+Fantastic &quot;OMG no wayyyy that&#x27;s crayyyzyyy&quot; kind of…</td></tr><tr><td>&quot;median&quot;</td><td>null</td><td>5.0</td><td>null</td><td>null</td></tr></tbody></table></div>"
      ],
      "text/plain": [
       "shape: (7, 5)\n",
       "┌────────────┬──────────────────────┬──────────┬─────────────┬──────────────────────────────────┐\n",
       "│ describe   ┆ title                ┆ rating   ┆ review_date ┆ review_text                      │\n",
       "│ ---        ┆ ---                  ┆ ---      ┆ ---         ┆ ---                              │\n",
       "│ str        ┆ str                  ┆ f64      ┆ str         ┆ str                              │\n",
       "╞════════════╪══════════════════════╪══════════╪═════════════╪══════════════════════════════════╡\n",
       "│ count      ┆ 49577                ┆ 49577.0  ┆ 49577       ┆ 49577                            │\n",
       "│ null_count ┆ 418                  ┆ 0.0      ┆ 0           ┆ 17                               │\n",
       "│ mean       ┆ null                 ┆ 4.317345 ┆ null        ┆ null                             │\n",
       "│ std        ┆ null                 ┆ 1.16256  ┆ null        ┆ null                             │\n",
       "│ min        ┆ Alan Wake - Xbox 360 ┆ 1.0      ┆ 2001-10-01  ┆  batman                          │\n",
       "│ max        ┆ inFAMOUS: Second Son ┆ 5.0      ┆ 2018-08-27  ┆ ~PROS~                           │\n",
       "│            ┆ Standard Edition     ┆          ┆             ┆ +Fantastic \"OMG no wayyyy that's │\n",
       "│            ┆ (PlayStation 4)      ┆          ┆             ┆ crayyyzyyy\" kind of …            │\n",
       "│ median     ┆ null                 ┆ 5.0      ┆ null        ┆ null                             │\n",
       "└────────────┴──────────────────────┴──────────┴─────────────┴──────────────────────────────────┘"
      ]
     },
     "execution_count": 21,
     "metadata": {},
     "output_type": "execute_result"
    }
   ],
   "source": [
    "# Show the new variable\n",
    "video_games_description"
   ]
  },
  {
   "attachments": {},
   "cell_type": "markdown",
   "metadata": {},
   "source": [
    "#### Sort and add a row number"
   ]
  },
  {
   "cell_type": "code",
   "execution_count": 22,
   "metadata": {},
   "outputs": [
    {
     "data": {
      "text/html": [
       "<div><style>\n",
       ".dataframe > thead > tr > th,\n",
       ".dataframe > tbody > tr > td {\n",
       "  text-align: right;\n",
       "}\n",
       "</style>\n",
       "<small>shape: (2, 4)</small><table border=\"1\" class=\"dataframe\"><thead><tr><th>title</th><th>rating</th><th>review_date</th><th>review_text</th></tr><tr><td>str</td><td>f64</td><td>date</td><td>str</td></tr></thead><tbody><tr><td>&quot;Batman: Arkham Knight - PlayStation 4 [Digital Code]&quot;</td><td>5.0</td><td>2018-08-27</td><td>&quot;Was good but I didn&#x27;t play it as much as my best friend did…</td></tr><tr><td>&quot;Call of Duty: Black Ops III - Standard Edition - PlayStatio…</td><td>5.0</td><td>2018-08-14</td><td>&quot;Great game&quot;</td></tr></tbody></table></div>"
      ],
      "text/plain": [
       "shape: (2, 4)\n",
       "┌────────────────────────────────────────┬────────┬─────────────┬──────────────────────────────────┐\n",
       "│ title                                  ┆ rating ┆ review_date ┆ review_text                      │\n",
       "│ ---                                    ┆ ---    ┆ ---         ┆ ---                              │\n",
       "│ str                                    ┆ f64    ┆ date        ┆ str                              │\n",
       "╞════════════════════════════════════════╪════════╪═════════════╪══════════════════════════════════╡\n",
       "│ Batman: Arkham Knight - PlayStation 4  ┆ 5.0    ┆ 2018-08-27  ┆ Was good but I didn't play it as │\n",
       "│ [Digital Code]                         ┆        ┆             ┆ much as my best friend did.…     │\n",
       "│ Call of Duty: Black Ops III - Standard ┆ 5.0    ┆ 2018-08-14  ┆ Great game                       │\n",
       "│ Edition - PlayStation…                 ┆        ┆             ┆                                  │\n",
       "└────────────────────────────────────────┴────────┴─────────────┴──────────────────────────────────┘"
      ]
     },
     "execution_count": 22,
     "metadata": {},
     "output_type": "execute_result"
    }
   ],
   "source": [
    "# Sort the DataFrame by the time of review in descending order and show the first 2 rows\n",
    "video_games_reviews.sort('review_date', descending=True).head(2)"
   ]
  },
  {
   "cell_type": "code",
   "execution_count": 23,
   "metadata": {},
   "outputs": [
    {
     "data": {
      "text/html": [
       "<div><style>\n",
       ".dataframe > thead > tr > th,\n",
       ".dataframe > tbody > tr > td {\n",
       "  text-align: right;\n",
       "}\n",
       "</style>\n",
       "<small>shape: (2, 4)</small><table border=\"1\" class=\"dataframe\"><thead><tr><th>title</th><th>rating</th><th>review_date</th><th>review_text</th></tr><tr><td>str</td><td>f64</td><td>date</td><td>str</td></tr></thead><tbody><tr><td>&quot;Halo - Xbox&quot;</td><td>5.0</td><td>2001-10-01</td><td>&quot;Forget all you computer NERDS out there who are so OBSESSED…</td></tr><tr><td>&quot;Halo - Xbox&quot;</td><td>5.0</td><td>2001-10-01</td><td>&quot;Forget all you computer NERDS out there who are so OBSESSED…</td></tr></tbody></table></div>"
      ],
      "text/plain": [
       "shape: (2, 4)\n",
       "┌─────────────┬────────┬─────────────┬─────────────────────────────────────────────────────────────┐\n",
       "│ title       ┆ rating ┆ review_date ┆ review_text                                                 │\n",
       "│ ---         ┆ ---    ┆ ---         ┆ ---                                                         │\n",
       "│ str         ┆ f64    ┆ date        ┆ str                                                         │\n",
       "╞═════════════╪════════╪═════════════╪═════════════════════════════════════════════════════════════╡\n",
       "│ Halo - Xbox ┆ 5.0    ┆ 2001-10-01  ┆ Forget all you computer NERDS out there who are so OBSESSED │\n",
       "│             ┆        ┆             ┆ …                                                           │\n",
       "│ Halo - Xbox ┆ 5.0    ┆ 2001-10-01  ┆ Forget all you computer NERDS out there who are so OBSESSED │\n",
       "│             ┆        ┆             ┆ …                                                           │\n",
       "└─────────────┴────────┴─────────────┴─────────────────────────────────────────────────────────────┘"
      ]
     },
     "execution_count": 23,
     "metadata": {},
     "output_type": "execute_result"
    }
   ],
   "source": [
    "# Sort the DataFrame by the time of review in ascending order and show the first 2 rows\n",
    "video_games_reviews.sort('review_date', descending=False).head(2)"
   ]
  },
  {
   "cell_type": "code",
   "execution_count": 24,
   "metadata": {},
   "outputs": [
    {
     "data": {
      "text/html": [
       "<div><style>\n",
       ".dataframe > thead > tr > th,\n",
       ".dataframe > tbody > tr > td {\n",
       "  text-align: right;\n",
       "}\n",
       "</style>\n",
       "<small>shape: (2, 4)</small><table border=\"1\" class=\"dataframe\"><thead><tr><th>title</th><th>rating</th><th>review_date</th><th>review_text</th></tr><tr><td>str</td><td>f64</td><td>date</td><td>str</td></tr></thead><tbody><tr><td>&quot;inFAMOUS: Second Son Standard Edition (PlayStation 4)&quot;</td><td>4.0</td><td>2018-06-23</td><td>&quot;game case got squeezed and the cd wasn&#x27;t secured it was pop…</td></tr><tr><td>&quot;inFAMOUS: Second Son Standard Edition (PlayStation 4)&quot;</td><td>4.0</td><td>2018-06-11</td><td>&quot;The boy played it multiple times so...&quot;</td></tr></tbody></table></div>"
      ],
      "text/plain": [
       "shape: (2, 4)\n",
       "┌───────────────────────────────┬────────┬─────────────┬───────────────────────────────────────────┐\n",
       "│ title                         ┆ rating ┆ review_date ┆ review_text                               │\n",
       "│ ---                           ┆ ---    ┆ ---         ┆ ---                                       │\n",
       "│ str                           ┆ f64    ┆ date        ┆ str                                       │\n",
       "╞═══════════════════════════════╪════════╪═════════════╪═══════════════════════════════════════════╡\n",
       "│ inFAMOUS: Second Son Standard ┆ 4.0    ┆ 2018-06-23  ┆ game case got squeezed and the cd wasn't  │\n",
       "│ Edition (PlayStation 4)       ┆        ┆             ┆ secured it was popp…                      │\n",
       "│ inFAMOUS: Second Son Standard ┆ 4.0    ┆ 2018-06-11  ┆ The boy played it multiple times so...    │\n",
       "│ Edition (PlayStation 4)       ┆        ┆             ┆                                           │\n",
       "└───────────────────────────────┴────────┴─────────────┴───────────────────────────────────────────┘"
      ]
     },
     "execution_count": 24,
     "metadata": {},
     "output_type": "execute_result"
    }
   ],
   "source": [
    "# Sort the DataFrame by the video game code (asin) in ascending order and by the time of review in descending order\n",
    "video_games_reviews.sort(['title','review_date'], descending=[True, True]).head(2)"
   ]
  },
  {
   "cell_type": "code",
   "execution_count": 25,
   "metadata": {},
   "outputs": [
    {
     "data": {
      "text/html": [
       "<div><style>\n",
       ".dataframe > thead > tr > th,\n",
       ".dataframe > tbody > tr > td {\n",
       "  text-align: right;\n",
       "}\n",
       "</style>\n",
       "<small>shape: (2, 5)</small><table border=\"1\" class=\"dataframe\"><thead><tr><th>row_nr</th><th>title</th><th>rating</th><th>review_date</th><th>review_text</th></tr><tr><td>u32</td><td>str</td><td>f64</td><td>date</td><td>str</td></tr></thead><tbody><tr><td>0</td><td>&quot;Killzone: Shadow Fall (PlayStation 4)&quot;</td><td>5.0</td><td>2016-12-02</td><td>&quot;First time having this game! It pretty good and the graphic…</td></tr><tr><td>1</td><td>&quot;Resident Evil 5 - Xbox 360&quot;</td><td>5.0</td><td>2014-07-29</td><td>&quot;good&quot;</td></tr></tbody></table></div>"
      ],
      "text/plain": [
       "shape: (2, 5)\n",
       "┌────────┬────────────────────────────┬────────┬─────────────┬─────────────────────────────────┐\n",
       "│ row_nr ┆ title                      ┆ rating ┆ review_date ┆ review_text                     │\n",
       "│ ---    ┆ ---                        ┆ ---    ┆ ---         ┆ ---                             │\n",
       "│ u32    ┆ str                        ┆ f64    ┆ date        ┆ str                             │\n",
       "╞════════╪════════════════════════════╪════════╪═════════════╪═════════════════════════════════╡\n",
       "│ 0      ┆ Killzone: Shadow Fall      ┆ 5.0    ┆ 2016-12-02  ┆ First time having this game! It │\n",
       "│        ┆ (PlayStation 4)            ┆        ┆             ┆ pretty good and the graphics…   │\n",
       "│ 1      ┆ Resident Evil 5 - Xbox 360 ┆ 5.0    ┆ 2014-07-29  ┆ good                            │\n",
       "└────────┴────────────────────────────┴────────┴─────────────┴─────────────────────────────────┘"
      ]
     },
     "execution_count": 25,
     "metadata": {},
     "output_type": "execute_result"
    }
   ],
   "source": [
    "# Add a row number to the dataframe\n",
    "video_games_reviews.with_row_count().head(2)"
   ]
  },
  {
   "attachments": {},
   "cell_type": "markdown",
   "metadata": {},
   "source": [
    "#### Select and rename columns"
   ]
  },
  {
   "cell_type": "markdown",
   "metadata": {},
   "source": [
    "##### Select"
   ]
  },
  {
   "cell_type": "code",
   "execution_count": 26,
   "metadata": {},
   "outputs": [
    {
     "data": {
      "text/html": [
       "<div><style>\n",
       ".dataframe > thead > tr > th,\n",
       ".dataframe > tbody > tr > td {\n",
       "  text-align: right;\n",
       "}\n",
       "</style>\n",
       "<small>shape: (2, 2)</small><table border=\"1\" class=\"dataframe\"><thead><tr><th>title</th><th>review_text</th></tr><tr><td>str</td><td>str</td></tr></thead><tbody><tr><td>&quot;Killzone: Shadow Fall (PlayStation 4)&quot;</td><td>&quot;First time having this game! It pretty good and the graphic…</td></tr><tr><td>&quot;Resident Evil 5 - Xbox 360&quot;</td><td>&quot;good&quot;</td></tr></tbody></table></div>"
      ],
      "text/plain": [
       "shape: (2, 2)\n",
       "┌───────────────────────────────────────┬─────────────────────────────────────────────────────┐\n",
       "│ title                                 ┆ review_text                                         │\n",
       "│ ---                                   ┆ ---                                                 │\n",
       "│ str                                   ┆ str                                                 │\n",
       "╞═══════════════════════════════════════╪═════════════════════════════════════════════════════╡\n",
       "│ Killzone: Shadow Fall (PlayStation 4) ┆ First time having this game! It pretty good and the │\n",
       "│                                       ┆ graphics…                                           │\n",
       "│ Resident Evil 5 - Xbox 360            ┆ good                                                │\n",
       "└───────────────────────────────────────┴─────────────────────────────────────────────────────┘"
      ]
     },
     "execution_count": 26,
     "metadata": {},
     "output_type": "execute_result"
    }
   ],
   "source": [
    "# Select columns using their names\n",
    "video_games_reviews.select('title', 'review_text').head(2)"
   ]
  },
  {
   "cell_type": "code",
   "execution_count": 27,
   "metadata": {},
   "outputs": [
    {
     "data": {
      "text/html": [
       "<div><style>\n",
       ".dataframe > thead > tr > th,\n",
       ".dataframe > tbody > tr > td {\n",
       "  text-align: right;\n",
       "}\n",
       "</style>\n",
       "<small>shape: (2, 2)</small><table border=\"1\" class=\"dataframe\"><thead><tr><th>title</th><th>review_text</th></tr><tr><td>str</td><td>str</td></tr></thead><tbody><tr><td>&quot;Killzone: Shadow Fall (PlayStation 4)&quot;</td><td>&quot;First time having this game! It pretty good and the graphic…</td></tr><tr><td>&quot;Resident Evil 5 - Xbox 360&quot;</td><td>&quot;good&quot;</td></tr></tbody></table></div>"
      ],
      "text/plain": [
       "shape: (2, 2)\n",
       "┌───────────────────────────────────────┬─────────────────────────────────────────────────────┐\n",
       "│ title                                 ┆ review_text                                         │\n",
       "│ ---                                   ┆ ---                                                 │\n",
       "│ str                                   ┆ str                                                 │\n",
       "╞═══════════════════════════════════════╪═════════════════════════════════════════════════════╡\n",
       "│ Killzone: Shadow Fall (PlayStation 4) ┆ First time having this game! It pretty good and the │\n",
       "│                                       ┆ graphics…                                           │\n",
       "│ Resident Evil 5 - Xbox 360            ┆ good                                                │\n",
       "└───────────────────────────────────────┴─────────────────────────────────────────────────────┘"
      ]
     },
     "execution_count": 27,
     "metadata": {},
     "output_type": "execute_result"
    }
   ],
   "source": [
    "# Select columns using a dictionary with their names\n",
    "video_games_reviews.select(['title', 'review_text']).head(2)"
   ]
  },
  {
   "cell_type": "code",
   "execution_count": 28,
   "metadata": {},
   "outputs": [
    {
     "data": {
      "text/html": [
       "<div><style>\n",
       ".dataframe > thead > tr > th,\n",
       ".dataframe > tbody > tr > td {\n",
       "  text-align: right;\n",
       "}\n",
       "</style>\n",
       "<small>shape: (2, 2)</small><table border=\"1\" class=\"dataframe\"><thead><tr><th>title</th><th>review_text</th></tr><tr><td>str</td><td>str</td></tr></thead><tbody><tr><td>&quot;Killzone: Shadow Fall (PlayStation 4)&quot;</td><td>&quot;First time having this game! It pretty good and the graphic…</td></tr><tr><td>&quot;Resident Evil 5 - Xbox 360&quot;</td><td>&quot;good&quot;</td></tr></tbody></table></div>"
      ],
      "text/plain": [
       "shape: (2, 2)\n",
       "┌───────────────────────────────────────┬─────────────────────────────────────────────────────┐\n",
       "│ title                                 ┆ review_text                                         │\n",
       "│ ---                                   ┆ ---                                                 │\n",
       "│ str                                   ┆ str                                                 │\n",
       "╞═══════════════════════════════════════╪═════════════════════════════════════════════════════╡\n",
       "│ Killzone: Shadow Fall (PlayStation 4) ┆ First time having this game! It pretty good and the │\n",
       "│                                       ┆ graphics…                                           │\n",
       "│ Resident Evil 5 - Xbox 360            ┆ good                                                │\n",
       "└───────────────────────────────────────┴─────────────────────────────────────────────────────┘"
      ]
     },
     "execution_count": 28,
     "metadata": {},
     "output_type": "execute_result"
    }
   ],
   "source": [
    "# Select columns using their names with pl.col()\n",
    "video_games_reviews.select(pl.col('title'), pl.col('review_text')).head(2)"
   ]
  },
  {
   "cell_type": "code",
   "execution_count": 29,
   "metadata": {},
   "outputs": [
    {
     "data": {
      "text/html": [
       "<div><style>\n",
       ".dataframe > thead > tr > th,\n",
       ".dataframe > tbody > tr > td {\n",
       "  text-align: right;\n",
       "}\n",
       "</style>\n",
       "<small>shape: (2, 3)</small><table border=\"1\" class=\"dataframe\"><thead><tr><th>videogame_title</th><th>rating_out_of_5</th><th>review_text</th></tr><tr><td>str</td><td>f64</td><td>str</td></tr></thead><tbody><tr><td>&quot;Killzone: Shadow Fall (PlayStation 4)&quot;</td><td>5.0</td><td>&quot;First time having this game! It pretty good and the graphic…</td></tr><tr><td>&quot;Resident Evil 5 - Xbox 360&quot;</td><td>5.0</td><td>&quot;good&quot;</td></tr></tbody></table></div>"
      ],
      "text/plain": [
       "shape: (2, 3)\n",
       "┌───────────────────────────────────────┬─────────────────┬────────────────────────────────────────┐\n",
       "│ videogame_title                       ┆ rating_out_of_5 ┆ review_text                            │\n",
       "│ ---                                   ┆ ---             ┆ ---                                    │\n",
       "│ str                                   ┆ f64             ┆ str                                    │\n",
       "╞═══════════════════════════════════════╪═════════════════╪════════════════════════════════════════╡\n",
       "│ Killzone: Shadow Fall (PlayStation 4) ┆ 5.0             ┆ First time having this game! It pretty │\n",
       "│                                       ┆                 ┆ good and the graphics…                 │\n",
       "│ Resident Evil 5 - Xbox 360            ┆ 5.0             ┆ good                                   │\n",
       "└───────────────────────────────────────┴─────────────────┴────────────────────────────────────────┘"
      ]
     },
     "execution_count": 29,
     "metadata": {},
     "output_type": "execute_result"
    }
   ],
   "source": [
    "# Add suffix or prefix\n",
    "video_games_reviews.select(\n",
    "    pl.col('title').prefix('videogame_'), \n",
    "    pl.col('rating').suffix('_out_of_5'), \n",
    "    pl.col('review_text')\n",
    "    ).head(2)"
   ]
  },
  {
   "cell_type": "code",
   "execution_count": 30,
   "metadata": {},
   "outputs": [
    {
     "data": {
      "text/html": [
       "<div><style>\n",
       ".dataframe > thead > tr > th,\n",
       ".dataframe > tbody > tr > td {\n",
       "  text-align: right;\n",
       "}\n",
       "</style>\n",
       "<small>shape: (2, 3)</small><table border=\"1\" class=\"dataframe\"><thead><tr><th>videogame_title</th><th>rating_out_of_5</th><th>review</th></tr><tr><td>str</td><td>f64</td><td>str</td></tr></thead><tbody><tr><td>&quot;Killzone: Shadow Fall (PlayStation 4)&quot;</td><td>5.0</td><td>&quot;First time having this game! It pretty good and the graphic…</td></tr><tr><td>&quot;Resident Evil 5 - Xbox 360&quot;</td><td>5.0</td><td>&quot;good&quot;</td></tr></tbody></table></div>"
      ],
      "text/plain": [
       "shape: (2, 3)\n",
       "┌───────────────────────────────────────┬─────────────────┬────────────────────────────────────────┐\n",
       "│ videogame_title                       ┆ rating_out_of_5 ┆ review                                 │\n",
       "│ ---                                   ┆ ---             ┆ ---                                    │\n",
       "│ str                                   ┆ f64             ┆ str                                    │\n",
       "╞═══════════════════════════════════════╪═════════════════╪════════════════════════════════════════╡\n",
       "│ Killzone: Shadow Fall (PlayStation 4) ┆ 5.0             ┆ First time having this game! It pretty │\n",
       "│                                       ┆                 ┆ good and the graphics…                 │\n",
       "│ Resident Evil 5 - Xbox 360            ┆ 5.0             ┆ good                                   │\n",
       "└───────────────────────────────────────┴─────────────────┴────────────────────────────────────────┘"
      ]
     },
     "execution_count": 30,
     "metadata": {},
     "output_type": "execute_result"
    }
   ],
   "source": [
    "# Select columns with pl.col() and rename them using keywords\n",
    "# Important: columns selected with keywords (example: videogame_title = ) should come after columns without keywords\n",
    "video_games_reviews.select(\n",
    "    videogame_title = pl.col('title'), \n",
    "    rating_out_of_5 = pl.col('rating'), \n",
    "    review = pl.col('review_text')\n",
    "    ).head(2)"
   ]
  },
  {
   "cell_type": "code",
   "execution_count": 31,
   "metadata": {},
   "outputs": [
    {
     "data": {
      "text/html": [
       "<div><style>\n",
       ".dataframe > thead > tr > th,\n",
       ".dataframe > tbody > tr > td {\n",
       "  text-align: right;\n",
       "}\n",
       "</style>\n",
       "<small>shape: (2, 3)</small><table border=\"1\" class=\"dataframe\"><thead><tr><th>videogame_title</th><th>rating_out_of_5</th><th>review</th></tr><tr><td>str</td><td>f64</td><td>str</td></tr></thead><tbody><tr><td>&quot;Killzone: Shadow Fall (PlayStation 4)&quot;</td><td>5.0</td><td>&quot;First time having this game! It pretty good and the graphic…</td></tr><tr><td>&quot;Resident Evil 5 - Xbox 360&quot;</td><td>5.0</td><td>&quot;good&quot;</td></tr></tbody></table></div>"
      ],
      "text/plain": [
       "shape: (2, 3)\n",
       "┌───────────────────────────────────────┬─────────────────┬────────────────────────────────────────┐\n",
       "│ videogame_title                       ┆ rating_out_of_5 ┆ review                                 │\n",
       "│ ---                                   ┆ ---             ┆ ---                                    │\n",
       "│ str                                   ┆ f64             ┆ str                                    │\n",
       "╞═══════════════════════════════════════╪═════════════════╪════════════════════════════════════════╡\n",
       "│ Killzone: Shadow Fall (PlayStation 4) ┆ 5.0             ┆ First time having this game! It pretty │\n",
       "│                                       ┆                 ┆ good and the graphics…                 │\n",
       "│ Resident Evil 5 - Xbox 360            ┆ 5.0             ┆ good                                   │\n",
       "└───────────────────────────────────────┴─────────────────┴────────────────────────────────────────┘"
      ]
     },
     "execution_count": 31,
     "metadata": {},
     "output_type": "execute_result"
    }
   ],
   "source": [
    "# Select columns with pl.col() and rename them using alias\n",
    "video_games_reviews.select(\n",
    "    pl.col('title').alias('videogame_title'), \n",
    "    pl.col('rating').alias('rating_out_of_5'), \n",
    "    pl.col('review_text').alias('review')\n",
    "    ).head(2)"
   ]
  },
  {
   "cell_type": "code",
   "execution_count": 32,
   "metadata": {},
   "outputs": [
    {
     "data": {
      "text/html": [
       "<div><style>\n",
       ".dataframe > thead > tr > th,\n",
       ".dataframe > tbody > tr > td {\n",
       "  text-align: right;\n",
       "}\n",
       "</style>\n",
       "<small>shape: (2, 2)</small><table border=\"1\" class=\"dataframe\"><thead><tr><th>title</th><th>review_text</th></tr><tr><td>str</td><td>str</td></tr></thead><tbody><tr><td>&quot;Killzone: Shadow Fall (PlayStation 4)&quot;</td><td>&quot;First time having this game! It pretty good and the graphic…</td></tr><tr><td>&quot;Resident Evil 5 - Xbox 360&quot;</td><td>&quot;good&quot;</td></tr></tbody></table></div>"
      ],
      "text/plain": [
       "shape: (2, 2)\n",
       "┌───────────────────────────────────────┬─────────────────────────────────────────────────────┐\n",
       "│ title                                 ┆ review_text                                         │\n",
       "│ ---                                   ┆ ---                                                 │\n",
       "│ str                                   ┆ str                                                 │\n",
       "╞═══════════════════════════════════════╪═════════════════════════════════════════════════════╡\n",
       "│ Killzone: Shadow Fall (PlayStation 4) ┆ First time having this game! It pretty good and the │\n",
       "│                                       ┆ graphics…                                           │\n",
       "│ Resident Evil 5 - Xbox 360            ┆ good                                                │\n",
       "└───────────────────────────────────────┴─────────────────────────────────────────────────────┘"
      ]
     },
     "execution_count": 32,
     "metadata": {},
     "output_type": "execute_result"
    }
   ],
   "source": [
    "# Select columns based on their data type: select all string columns\n",
    "# pl.col(pl.Uft8) refers to all columns with a string data type\n",
    "# and is converted by Polars to a list of matching column names : pl.col('title'), pl.col('review_text') \n",
    "video_games_reviews.select(pl.col(pl.Utf8)).head(2)"
   ]
  },
  {
   "cell_type": "code",
   "execution_count": 33,
   "metadata": {},
   "outputs": [
    {
     "data": {
      "text/html": [
       "<div><style>\n",
       ".dataframe > thead > tr > th,\n",
       ".dataframe > tbody > tr > td {\n",
       "  text-align: right;\n",
       "}\n",
       "</style>\n",
       "<small>shape: (2, 1)</small><table border=\"1\" class=\"dataframe\"><thead><tr><th>rating</th></tr><tr><td>f64</td></tr></thead><tbody><tr><td>5.0</td></tr><tr><td>5.0</td></tr></tbody></table></div>"
      ],
      "text/plain": [
       "shape: (2, 1)\n",
       "┌────────┐\n",
       "│ rating │\n",
       "│ ---    │\n",
       "│ f64    │\n",
       "╞════════╡\n",
       "│ 5.0    │\n",
       "│ 5.0    │\n",
       "└────────┘"
      ]
     },
     "execution_count": 33,
     "metadata": {},
     "output_type": "execute_result"
    }
   ],
   "source": [
    "# Select columns based on their data type: select all numerical columns\n",
    "video_games_reviews.select(pl.col(pl.NUMERIC_DTYPES)).head(2)"
   ]
  },
  {
   "cell_type": "code",
   "execution_count": 34,
   "metadata": {},
   "outputs": [
    {
     "data": {
      "text/html": [
       "<div><style>\n",
       ".dataframe > thead > tr > th,\n",
       ".dataframe > tbody > tr > td {\n",
       "  text-align: right;\n",
       "}\n",
       "</style>\n",
       "<small>shape: (2, 2)</small><table border=\"1\" class=\"dataframe\"><thead><tr><th>review_date</th><th>review_text</th></tr><tr><td>date</td><td>str</td></tr></thead><tbody><tr><td>2016-12-02</td><td>&quot;First time having this game! It pretty good and the graphic…</td></tr><tr><td>2014-07-29</td><td>&quot;good&quot;</td></tr></tbody></table></div>"
      ],
      "text/plain": [
       "shape: (2, 2)\n",
       "┌─────────────┬───────────────────────────────────────────────────────────────┐\n",
       "│ review_date ┆ review_text                                                   │\n",
       "│ ---         ┆ ---                                                           │\n",
       "│ date        ┆ str                                                           │\n",
       "╞═════════════╪═══════════════════════════════════════════════════════════════╡\n",
       "│ 2016-12-02  ┆ First time having this game! It pretty good and the graphics… │\n",
       "│ 2014-07-29  ┆ good                                                          │\n",
       "└─────────────┴───────────────────────────────────────────────────────────────┘"
      ]
     },
     "execution_count": 34,
     "metadata": {},
     "output_type": "execute_result"
    }
   ],
   "source": [
    "# Select columns based on regex: all column names that contain 'review'\n",
    "video_games_reviews.select(pl.col('^.*review.*$')).head(2)"
   ]
  },
  {
   "cell_type": "code",
   "execution_count": 35,
   "metadata": {},
   "outputs": [
    {
     "data": {
      "text/html": [
       "<div><style>\n",
       ".dataframe > thead > tr > th,\n",
       ".dataframe > tbody > tr > td {\n",
       "  text-align: right;\n",
       "}\n",
       "</style>\n",
       "<small>shape: (2, 2)</small><table border=\"1\" class=\"dataframe\"><thead><tr><th>title</th><th>rating</th></tr><tr><td>str</td><td>f64</td></tr></thead><tbody><tr><td>&quot;Killzone: Shadow Fall (PlayStation 4)&quot;</td><td>5.0</td></tr><tr><td>&quot;Resident Evil 5 - Xbox 360&quot;</td><td>5.0</td></tr></tbody></table></div>"
      ],
      "text/plain": [
       "shape: (2, 2)\n",
       "┌───────────────────────────────────────┬────────┐\n",
       "│ title                                 ┆ rating │\n",
       "│ ---                                   ┆ ---    │\n",
       "│ str                                   ┆ f64    │\n",
       "╞═══════════════════════════════════════╪════════╡\n",
       "│ Killzone: Shadow Fall (PlayStation 4) ┆ 5.0    │\n",
       "│ Resident Evil 5 - Xbox 360            ┆ 5.0    │\n",
       "└───────────────────────────────────────┴────────┘"
      ]
     },
     "execution_count": 35,
     "metadata": {},
     "output_type": "execute_result"
    }
   ],
   "source": [
    "# Exclude certains columns: all columns except those that contain 'review'\n",
    "# Exclude can be used with regex, or with column names, or with data types\n",
    "video_games_reviews.select(pl.all().exclude('^.*review.*$')).head(2)"
   ]
  },
  {
   "cell_type": "code",
   "execution_count": 36,
   "metadata": {},
   "outputs": [
    {
     "data": {
      "text/html": [
       "<div><style>\n",
       ".dataframe > thead > tr > th,\n",
       ".dataframe > tbody > tr > td {\n",
       "  text-align: right;\n",
       "}\n",
       "</style>\n",
       "<small>shape: (2, 3)</small><table border=\"1\" class=\"dataframe\"><thead><tr><th>title</th><th>rating</th><th>category</th></tr><tr><td>str</td><td>f64</td><td>str</td></tr></thead><tbody><tr><td>&quot;Killzone: Shadow Fall (PlayStation 4)&quot;</td><td>5.0</td><td>&quot;videogame&quot;</td></tr><tr><td>&quot;Resident Evil 5 - Xbox 360&quot;</td><td>5.0</td><td>&quot;videogame&quot;</td></tr></tbody></table></div>"
      ],
      "text/plain": [
       "shape: (2, 3)\n",
       "┌───────────────────────────────────────┬────────┬───────────┐\n",
       "│ title                                 ┆ rating ┆ category  │\n",
       "│ ---                                   ┆ ---    ┆ ---       │\n",
       "│ str                                   ┆ f64    ┆ str       │\n",
       "╞═══════════════════════════════════════╪════════╪═══════════╡\n",
       "│ Killzone: Shadow Fall (PlayStation 4) ┆ 5.0    ┆ videogame │\n",
       "│ Resident Evil 5 - Xbox 360            ┆ 5.0    ┆ videogame │\n",
       "└───────────────────────────────────────┴────────┴───────────┘"
      ]
     },
     "execution_count": 36,
     "metadata": {},
     "output_type": "execute_result"
    }
   ],
   "source": [
    "# Add a new column with the string 'videogame'\n",
    "video_games_reviews.select(\n",
    "    pl.col('title'),\n",
    "    pl.col('rating'),\n",
    "    category = pl.lit('videogame')\n",
    ").head(2)"
   ]
  },
  {
   "cell_type": "code",
   "execution_count": 37,
   "metadata": {},
   "outputs": [
    {
     "data": {
      "text/html": [
       "<div><style>\n",
       ".dataframe > thead > tr > th,\n",
       ".dataframe > tbody > tr > td {\n",
       "  text-align: right;\n",
       "}\n",
       "</style>\n",
       "<small>shape: (2, 2)</small><table border=\"1\" class=\"dataframe\"><thead><tr><th>rating</th><th>rating_out_of_5</th></tr><tr><td>f64</td><td>f64</td></tr></thead><tbody><tr><td>100.0</td><td>5.0</td></tr><tr><td>100.0</td><td>5.0</td></tr></tbody></table></div>"
      ],
      "text/plain": [
       "shape: (2, 2)\n",
       "┌────────┬─────────────────┐\n",
       "│ rating ┆ rating_out_of_5 │\n",
       "│ ---    ┆ ---             │\n",
       "│ f64    ┆ f64             │\n",
       "╞════════╪═════════════════╡\n",
       "│ 100.0  ┆ 5.0             │\n",
       "│ 100.0  ┆ 5.0             │\n",
       "└────────┴─────────────────┘"
      ]
     },
     "execution_count": 37,
     "metadata": {},
     "output_type": "execute_result"
    }
   ],
   "source": [
    "# Modify existing columns\n",
    "# if the column has the same name => modifies a column\n",
    "# if the column has a different name => adds a new column \n",
    "# All columns are calculated in parallel, so rating_out_of_5 depends on the initial rating column\n",
    "# and not on the modified rating column\n",
    "video_games_reviews.select(\n",
    "    pl.col('rating') / 5 * 100, # modified column \n",
    "    rating_out_of_5 = pl.col('rating'), # new column\n",
    "    ).head(2)"
   ]
  },
  {
   "cell_type": "markdown",
   "metadata": {},
   "source": [
    "##### With Columns"
   ]
  },
  {
   "cell_type": "code",
   "execution_count": 38,
   "metadata": {},
   "outputs": [
    {
     "data": {
      "text/html": [
       "<div><style>\n",
       ".dataframe > thead > tr > th,\n",
       ".dataframe > tbody > tr > td {\n",
       "  text-align: right;\n",
       "}\n",
       "</style>\n",
       "<small>shape: (2, 5)</small><table border=\"1\" class=\"dataframe\"><thead><tr><th>title</th><th>rating</th><th>review_date</th><th>review_text</th><th>rating_out_of_5</th></tr><tr><td>str</td><td>f64</td><td>date</td><td>str</td><td>f64</td></tr></thead><tbody><tr><td>&quot;Killzone: Shadow Fall (PlayStation 4)&quot;</td><td>100.0</td><td>2016-12-02</td><td>&quot;First time having this game! It pretty good and the graphic…</td><td>5.0</td></tr><tr><td>&quot;Resident Evil 5 - Xbox 360&quot;</td><td>100.0</td><td>2014-07-29</td><td>&quot;good&quot;</td><td>5.0</td></tr></tbody></table></div>"
      ],
      "text/plain": [
       "shape: (2, 5)\n",
       "┌────────────────────────────┬────────┬─────────────┬────────────────────────────┬─────────────────┐\n",
       "│ title                      ┆ rating ┆ review_date ┆ review_text                ┆ rating_out_of_5 │\n",
       "│ ---                        ┆ ---    ┆ ---         ┆ ---                        ┆ ---             │\n",
       "│ str                        ┆ f64    ┆ date        ┆ str                        ┆ f64             │\n",
       "╞════════════════════════════╪════════╪═════════════╪════════════════════════════╪═════════════════╡\n",
       "│ Killzone: Shadow Fall      ┆ 100.0  ┆ 2016-12-02  ┆ First time having this     ┆ 5.0             │\n",
       "│ (PlayStation 4)            ┆        ┆             ┆ game! It pretty good and   ┆                 │\n",
       "│                            ┆        ┆             ┆ the graphics…              ┆                 │\n",
       "│ Resident Evil 5 - Xbox 360 ┆ 100.0  ┆ 2014-07-29  ┆ good                       ┆ 5.0             │\n",
       "└────────────────────────────┴────────┴─────────────┴────────────────────────────┴─────────────────┘"
      ]
     },
     "execution_count": 38,
     "metadata": {},
     "output_type": "execute_result"
    }
   ],
   "source": [
    "# Another way to select columns is using with_columns()\n",
    "# with_columns() includes all columns by default, and \n",
    "# adds or modifies the specified columns\n",
    "video_games_reviews.with_columns(\n",
    "    pl.col('rating') / 5 * 100, # modified column \n",
    "    rating_out_of_5 = pl.col('rating'), # new column\n",
    "    ).head(2)"
   ]
  },
  {
   "cell_type": "markdown",
   "metadata": {},
   "source": [
    "#### Filter columns"
   ]
  },
  {
   "cell_type": "code",
   "execution_count": 39,
   "metadata": {},
   "outputs": [
    {
     "data": {
      "text/html": [
       "<div><style>\n",
       ".dataframe > thead > tr > th,\n",
       ".dataframe > tbody > tr > td {\n",
       "  text-align: right;\n",
       "}\n",
       "</style>\n",
       "<small>shape: (2, 4)</small><table border=\"1\" class=\"dataframe\"><thead><tr><th>title</th><th>rating</th><th>review_date</th><th>review_text</th></tr><tr><td>str</td><td>f64</td><td>date</td><td>str</td></tr></thead><tbody><tr><td>&quot;The Last of Us Remastered - PlayStation 4&quot;</td><td>5.0</td><td>2017-01-12</td><td>&quot;brings the DLCs has well.&quot;</td></tr><tr><td>&quot;The Last of Us Remastered - PlayStation 4&quot;</td><td>5.0</td><td>2015-02-12</td><td>&quot;wow umm yea this game is a must such a good time I feel sor…</td></tr></tbody></table></div>"
      ],
      "text/plain": [
       "shape: (2, 4)\n",
       "┌─────────────────────────────┬────────┬─────────────┬─────────────────────────────────────────────┐\n",
       "│ title                       ┆ rating ┆ review_date ┆ review_text                                 │\n",
       "│ ---                         ┆ ---    ┆ ---         ┆ ---                                         │\n",
       "│ str                         ┆ f64    ┆ date        ┆ str                                         │\n",
       "╞═════════════════════════════╪════════╪═════════════╪═════════════════════════════════════════════╡\n",
       "│ The Last of Us Remastered - ┆ 5.0    ┆ 2017-01-12  ┆ brings the DLCs has well.                   │\n",
       "│ PlayStation 4               ┆        ┆             ┆                                             │\n",
       "│ The Last of Us Remastered - ┆ 5.0    ┆ 2015-02-12  ┆ wow umm yea this game is a must such a good │\n",
       "│ PlayStation 4               ┆        ┆             ┆ time I feel sorr…                           │\n",
       "└─────────────────────────────┴────────┴─────────────┴─────────────────────────────────────────────┘"
      ]
     },
     "execution_count": 39,
     "metadata": {},
     "output_type": "execute_result"
    }
   ],
   "source": [
    "# Filter dataframe based on one value\n",
    "video_games_reviews.filter(\n",
    "    pl.col('title') == 'The Last of Us Remastered - PlayStation 4'\n",
    "    ).head(2)"
   ]
  },
  {
   "cell_type": "code",
   "execution_count": 40,
   "metadata": {},
   "outputs": [
    {
     "data": {
      "text/html": [
       "<div><style>\n",
       ".dataframe > thead > tr > th,\n",
       ".dataframe > tbody > tr > td {\n",
       "  text-align: right;\n",
       "}\n",
       "</style>\n",
       "<small>shape: (2, 4)</small><table border=\"1\" class=\"dataframe\"><thead><tr><th>title</th><th>rating</th><th>review_date</th><th>review_text</th></tr><tr><td>str</td><td>f64</td><td>date</td><td>str</td></tr></thead><tbody><tr><td>&quot;Resident Evil 5 - Xbox 360&quot;</td><td>5.0</td><td>2014-07-29</td><td>&quot;good&quot;</td></tr><tr><td>&quot;The Last of Us Remastered - PlayStation 4&quot;</td><td>5.0</td><td>2017-01-12</td><td>&quot;brings the DLCs has well.&quot;</td></tr></tbody></table></div>"
      ],
      "text/plain": [
       "shape: (2, 4)\n",
       "┌───────────────────────────────────────────┬────────┬─────────────┬───────────────────────────┐\n",
       "│ title                                     ┆ rating ┆ review_date ┆ review_text               │\n",
       "│ ---                                       ┆ ---    ┆ ---         ┆ ---                       │\n",
       "│ str                                       ┆ f64    ┆ date        ┆ str                       │\n",
       "╞═══════════════════════════════════════════╪════════╪═════════════╪═══════════════════════════╡\n",
       "│ Resident Evil 5 - Xbox 360                ┆ 5.0    ┆ 2014-07-29  ┆ good                      │\n",
       "│ The Last of Us Remastered - PlayStation 4 ┆ 5.0    ┆ 2017-01-12  ┆ brings the DLCs has well. │\n",
       "└───────────────────────────────────────────┴────────┴─────────────┴───────────────────────────┘"
      ]
     },
     "execution_count": 40,
     "metadata": {},
     "output_type": "execute_result"
    }
   ],
   "source": [
    "# Filter dataframe based on multiple values\n",
    "video_games_reviews.filter(\n",
    "    pl.col('title').is_in(['The Last of Us Remastered - PlayStation 4', 'Resident Evil 5 - Xbox 360'])\n",
    "    ).head(2)\n"
   ]
  },
  {
   "cell_type": "code",
   "execution_count": 41,
   "metadata": {},
   "outputs": [
    {
     "data": {
      "text/html": [
       "<div><style>\n",
       ".dataframe > thead > tr > th,\n",
       ".dataframe > tbody > tr > td {\n",
       "  text-align: right;\n",
       "}\n",
       "</style>\n",
       "<small>shape: (2, 4)</small><table border=\"1\" class=\"dataframe\"><thead><tr><th>title</th><th>rating</th><th>review_date</th><th>review_text</th></tr><tr><td>str</td><td>f64</td><td>date</td><td>str</td></tr></thead><tbody><tr><td>&quot;inFAMOUS: Second Son Standard Edition (PlayStation 4)&quot;</td><td>1.0</td><td>2014-07-12</td><td>&quot;Going through more of Sucker Punch&#x27;s latest inFamous sequal…</td></tr><tr><td>&quot;inFAMOUS: Second Son Standard Edition (PlayStation 4)&quot;</td><td>1.0</td><td>2014-06-16</td><td>&quot;Horrible game, the beginning should have foretold the rest …</td></tr></tbody></table></div>"
      ],
      "text/plain": [
       "shape: (2, 4)\n",
       "┌───────────────────────────────┬────────┬─────────────┬───────────────────────────────────────────┐\n",
       "│ title                         ┆ rating ┆ review_date ┆ review_text                               │\n",
       "│ ---                           ┆ ---    ┆ ---         ┆ ---                                       │\n",
       "│ str                           ┆ f64    ┆ date        ┆ str                                       │\n",
       "╞═══════════════════════════════╪════════╪═════════════╪═══════════════════════════════════════════╡\n",
       "│ inFAMOUS: Second Son Standard ┆ 1.0    ┆ 2014-07-12  ┆ Going through more of Sucker Punch's      │\n",
       "│ Edition (PlayStation 4)       ┆        ┆             ┆ latest inFamous sequal,…                  │\n",
       "│ inFAMOUS: Second Son Standard ┆ 1.0    ┆ 2014-06-16  ┆ Horrible game, the beginning should have  │\n",
       "│ Edition (PlayStation 4)       ┆        ┆             ┆ foretold the rest o…                      │\n",
       "└───────────────────────────────┴────────┴─────────────┴───────────────────────────────────────────┘"
      ]
     },
     "execution_count": 41,
     "metadata": {},
     "output_type": "execute_result"
    }
   ],
   "source": [
    "# Filter dataframe based on multiple values : use AND &\n",
    "video_games_reviews.filter(\n",
    "    (pl.col('rating') == 1) &\n",
    "    (pl.col('title') == 'inFAMOUS: Second Son Standard Edition (PlayStation 4)')\n",
    "    ).head(2)"
   ]
  },
  {
   "cell_type": "code",
   "execution_count": 42,
   "metadata": {},
   "outputs": [
    {
     "data": {
      "text/html": [
       "<div><style>\n",
       ".dataframe > thead > tr > th,\n",
       ".dataframe > tbody > tr > td {\n",
       "  text-align: right;\n",
       "}\n",
       "</style>\n",
       "<small>shape: (2, 4)</small><table border=\"1\" class=\"dataframe\"><thead><tr><th>title</th><th>rating</th><th>review_date</th><th>review_text</th></tr><tr><td>str</td><td>f64</td><td>date</td><td>str</td></tr></thead><tbody><tr><td>&quot;Bloodborne&quot;</td><td>1.0</td><td>2015-07-13</td><td>&quot;Game blowd&quot;</td></tr><tr><td>&quot;inFAMOUS: Second Son Standard Edition (PlayStation 4)&quot;</td><td>5.0</td><td>2017-01-23</td><td>&quot;Just awesome. Officially one of my son&#x27;s favorite games. Tr…</td></tr></tbody></table></div>"
      ],
      "text/plain": [
       "shape: (2, 4)\n",
       "┌───────────────────────────────┬────────┬─────────────┬───────────────────────────────────────────┐\n",
       "│ title                         ┆ rating ┆ review_date ┆ review_text                               │\n",
       "│ ---                           ┆ ---    ┆ ---         ┆ ---                                       │\n",
       "│ str                           ┆ f64    ┆ date        ┆ str                                       │\n",
       "╞═══════════════════════════════╪════════╪═════════════╪═══════════════════════════════════════════╡\n",
       "│ Bloodborne                    ┆ 1.0    ┆ 2015-07-13  ┆ Game blowd                                │\n",
       "│ inFAMOUS: Second Son Standard ┆ 5.0    ┆ 2017-01-23  ┆ Just awesome. Officially one of my son's  │\n",
       "│ Edition (PlayStation 4)       ┆        ┆             ┆ favorite games. Tru…                      │\n",
       "└───────────────────────────────┴────────┴─────────────┴───────────────────────────────────────────┘"
      ]
     },
     "execution_count": 42,
     "metadata": {},
     "output_type": "execute_result"
    }
   ],
   "source": [
    "# Filter dataframe based on multiple values : use OR |\n",
    "video_games_reviews.filter(\n",
    "    (pl.col('rating') == 1) |\n",
    "    (pl.col('title') == 'inFAMOUS: Second Son Standard Edition (PlayStation 4)')\n",
    "    ).head(2)\n"
   ]
  },
  {
   "cell_type": "code",
   "execution_count": 43,
   "metadata": {},
   "outputs": [
    {
     "data": {
      "text/html": [
       "<div><style>\n",
       ".dataframe > thead > tr > th,\n",
       ".dataframe > tbody > tr > td {\n",
       "  text-align: right;\n",
       "}\n",
       "</style>\n",
       "<small>shape: (2, 4)</small><table border=\"1\" class=\"dataframe\"><thead><tr><th>title</th><th>rating</th><th>review_date</th><th>review_text</th></tr><tr><td>str</td><td>f64</td><td>date</td><td>str</td></tr></thead><tbody><tr><td>&quot;Final Fantasy X&quot;</td><td>2.0</td><td>2014-08-24</td><td>&quot;This game didn&#x27;t work. It kept glitching up. But this is a …</td></tr><tr><td>&quot;Bloodborne&quot;</td><td>1.0</td><td>2015-07-13</td><td>&quot;Game blowd&quot;</td></tr></tbody></table></div>"
      ],
      "text/plain": [
       "shape: (2, 4)\n",
       "┌─────────────────┬────────┬─────────────┬─────────────────────────────────────────────────────────┐\n",
       "│ title           ┆ rating ┆ review_date ┆ review_text                                             │\n",
       "│ ---             ┆ ---    ┆ ---         ┆ ---                                                     │\n",
       "│ str             ┆ f64    ┆ date        ┆ str                                                     │\n",
       "╞═════════════════╪════════╪═════════════╪═════════════════════════════════════════════════════════╡\n",
       "│ Final Fantasy X ┆ 2.0    ┆ 2014-08-24  ┆ This game didn't work. It kept glitching up. But this   │\n",
       "│                 ┆        ┆             ┆ is a g…                                                 │\n",
       "│ Bloodborne      ┆ 1.0    ┆ 2015-07-13  ┆ Game blowd                                              │\n",
       "└─────────────────┴────────┴─────────────┴─────────────────────────────────────────────────────────┘"
      ]
     },
     "execution_count": 43,
     "metadata": {},
     "output_type": "execute_result"
    }
   ],
   "source": [
    "# Filter dataframe using numerical values: ratings bigger or equal to 4 and less than 3\n",
    "video_games_reviews.filter(\n",
    "    (pl.col('rating') >= 1) &\n",
    "    (pl.col('rating') < 3)\n",
    "    ).head(2)"
   ]
  },
  {
   "cell_type": "code",
   "execution_count": 46,
   "metadata": {},
   "outputs": [
    {
     "data": {
      "text/html": [
       "<div><style>\n",
       ".dataframe > thead > tr > th,\n",
       ".dataframe > tbody > tr > td {\n",
       "  text-align: right;\n",
       "}\n",
       "</style>\n",
       "<small>shape: (2, 4)</small><table border=\"1\" class=\"dataframe\"><thead><tr><th>title</th><th>rating</th><th>review_date</th><th>review_text</th></tr><tr><td>str</td><td>f64</td><td>date</td><td>str</td></tr></thead><tbody><tr><td>&quot;Killzone: Shadow Fall (PlayStation 4)&quot;</td><td>5.0</td><td>2016-12-02</td><td>&quot;First time having this game! It pretty good and the graphic…</td></tr><tr><td>&quot;Resident Evil 5 - Xbox 360&quot;</td><td>5.0</td><td>2014-07-29</td><td>&quot;good&quot;</td></tr></tbody></table></div>"
      ],
      "text/plain": [
       "shape: (2, 4)\n",
       "┌─────────────────────────────────────────┬────────┬─────────────┬─────────────────────────────────┐\n",
       "│ title                                   ┆ rating ┆ review_date ┆ review_text                     │\n",
       "│ ---                                     ┆ ---    ┆ ---         ┆ ---                             │\n",
       "│ str                                     ┆ f64    ┆ date        ┆ str                             │\n",
       "╞═════════════════════════════════════════╪════════╪═════════════╪═════════════════════════════════╡\n",
       "│ Killzone: Shadow Fall (PlayStation 4)   ┆ 5.0    ┆ 2016-12-02  ┆ First time having this game! It │\n",
       "│                                         ┆        ┆             ┆ pretty good and the graphics…   │\n",
       "│ Resident Evil 5 - Xbox 360              ┆ 5.0    ┆ 2014-07-29  ┆ good                            │\n",
       "└─────────────────────────────────────────┴────────┴─────────────┴─────────────────────────────────┘"
      ]
     },
     "execution_count": 46,
     "metadata": {},
     "output_type": "execute_result"
    }
   ],
   "source": [
    "# Filter dataframe using regex: filter all videogame titles that contain 'PlayStation 4' or 'Xbox 360'\n",
    "video_games_reviews.filter(\n",
    "    pl.col('title').str.contains('PlayStation 4|Xbox 360')\n",
    ").head(2)"
   ]
  },
  {
   "cell_type": "code",
   "execution_count": 48,
   "metadata": {},
   "outputs": [
    {
     "data": {
      "text/html": [
       "<div><style>\n",
       ".dataframe > thead > tr > th,\n",
       ".dataframe > tbody > tr > td {\n",
       "  text-align: right;\n",
       "}\n",
       "</style>\n",
       "<small>shape: (2, 4)</small><table border=\"1\" class=\"dataframe\"><thead><tr><th>title</th><th>rating</th><th>review_date</th><th>review_text</th></tr><tr><td>str</td><td>f64</td><td>date</td><td>str</td></tr></thead><tbody><tr><td>&quot;Killzone: Shadow Fall (PlayStation 4)&quot;</td><td>5.0</td><td>2016-12-02</td><td>&quot;First time having this game! It pretty good and the graphic…</td></tr><tr><td>&quot;Grip-iT Analog Stick Covers, Set of 4&quot;</td><td>5.0</td><td>2012-01-03</td><td>&quot;Very good product, does exactly what it says. Good quality,…</td></tr></tbody></table></div>"
      ],
      "text/plain": [
       "shape: (2, 4)\n",
       "┌─────────────────────────────────────────┬────────┬─────────────┬─────────────────────────────────┐\n",
       "│ title                                   ┆ rating ┆ review_date ┆ review_text                     │\n",
       "│ ---                                     ┆ ---    ┆ ---         ┆ ---                             │\n",
       "│ str                                     ┆ f64    ┆ date        ┆ str                             │\n",
       "╞═════════════════════════════════════════╪════════╪═════════════╪═════════════════════════════════╡\n",
       "│ Killzone: Shadow Fall (PlayStation 4)   ┆ 5.0    ┆ 2016-12-02  ┆ First time having this game! It │\n",
       "│                                         ┆        ┆             ┆ pretty good and the graphics…   │\n",
       "│ Grip-iT Analog Stick Covers, Set of 4   ┆ 5.0    ┆ 2012-01-03  ┆ Very good product, does exactly │\n",
       "│                                         ┆        ┆             ┆ what it says. Good quality, …   │\n",
       "└─────────────────────────────────────────┴────────┴─────────────┴─────────────────────────────────┘"
      ]
     },
     "execution_count": 48,
     "metadata": {},
     "output_type": "execute_result"
    }
   ],
   "source": [
    "# Filter and show only unique reviews\n",
    "# Remove all reviews that appear more than once\n",
    "video_games_reviews.filter(\n",
    "    video_games_reviews.is_unique()\n",
    ").head(2)"
   ]
  },
  {
   "cell_type": "code",
   "execution_count": 49,
   "metadata": {},
   "outputs": [
    {
     "data": {
      "text/html": [
       "<div><style>\n",
       ".dataframe > thead > tr > th,\n",
       ".dataframe > tbody > tr > td {\n",
       "  text-align: right;\n",
       "}\n",
       "</style>\n",
       "<small>shape: (2, 4)</small><table border=\"1\" class=\"dataframe\"><thead><tr><th>title</th><th>rating</th><th>review_date</th><th>review_text</th></tr><tr><td>str</td><td>f64</td><td>date</td><td>str</td></tr></thead><tbody><tr><td>&quot;Resident Evil 5 - Xbox 360&quot;</td><td>5.0</td><td>2014-07-29</td><td>&quot;good&quot;</td></tr><tr><td>&quot;Bioshock 2 - Xbox 360&quot;</td><td>5.0</td><td>2010-03-14</td><td>&quot;It&#x27;s surprising to see Bioshock 2 since the first didn&#x27;t ex…</td></tr></tbody></table></div>"
      ],
      "text/plain": [
       "shape: (2, 4)\n",
       "┌────────────────────────────┬────────┬─────────────┬──────────────────────────────────────────────┐\n",
       "│ title                      ┆ rating ┆ review_date ┆ review_text                                  │\n",
       "│ ---                        ┆ ---    ┆ ---         ┆ ---                                          │\n",
       "│ str                        ┆ f64    ┆ date        ┆ str                                          │\n",
       "╞════════════════════════════╪════════╪═════════════╪══════════════════════════════════════════════╡\n",
       "│ Resident Evil 5 - Xbox 360 ┆ 5.0    ┆ 2014-07-29  ┆ good                                         │\n",
       "│ Bioshock 2 - Xbox 360      ┆ 5.0    ┆ 2010-03-14  ┆ It's surprising to see Bioshock 2 since the  │\n",
       "│                            ┆        ┆             ┆ first didn't exa…                            │\n",
       "└────────────────────────────┴────────┴─────────────┴──────────────────────────────────────────────┘"
      ]
     },
     "execution_count": 49,
     "metadata": {},
     "output_type": "execute_result"
    }
   ],
   "source": [
    "# Filter and show only duplicated reviews: \n",
    "# Show only reviews appearing more than once in the table\n",
    "video_games_reviews.filter(\n",
    "    video_games_reviews.is_duplicated()\n",
    ").head(2)"
   ]
  },
  {
   "cell_type": "code",
   "execution_count": 50,
   "metadata": {},
   "outputs": [
    {
     "data": {
      "text/html": [
       "<div><style>\n",
       ".dataframe > thead > tr > th,\n",
       ".dataframe > tbody > tr > td {\n",
       "  text-align: right;\n",
       "}\n",
       "</style>\n",
       "<small>shape: (2, 4)</small><table border=\"1\" class=\"dataframe\"><thead><tr><th>title</th><th>rating</th><th>review_date</th><th>review_text</th></tr><tr><td>str</td><td>f64</td><td>date</td><td>str</td></tr></thead><tbody><tr><td>&quot;Uncharted 2: Among Thieves - Playstation 3&quot;</td><td>3.0</td><td>2011-02-04</td><td>&quot;Perhaps the most disappointing game I&#x27;ve played on PS3. It …</td></tr><tr><td>&quot;Wii&quot;</td><td>5.0</td><td>2007-04-21</td><td>&quot;When I first saw information on the new systems I wanted a …</td></tr></tbody></table></div>"
      ],
      "text/plain": [
       "shape: (2, 4)\n",
       "┌──────────────────────────────┬────────┬─────────────┬────────────────────────────────────────────┐\n",
       "│ title                        ┆ rating ┆ review_date ┆ review_text                                │\n",
       "│ ---                          ┆ ---    ┆ ---         ┆ ---                                        │\n",
       "│ str                          ┆ f64    ┆ date        ┆ str                                        │\n",
       "╞══════════════════════════════╪════════╪═════════════╪════════════════════════════════════════════╡\n",
       "│ Uncharted 2: Among Thieves - ┆ 3.0    ┆ 2011-02-04  ┆ Perhaps the most disappointing game I've   │\n",
       "│ Playstation 3                ┆        ┆             ┆ played on PS3. It w…                       │\n",
       "│ Wii                          ┆ 5.0    ┆ 2007-04-21  ┆ When I first saw information on the new    │\n",
       "│                              ┆        ┆             ┆ systems I wanted a p…                      │\n",
       "└──────────────────────────────┴────────┴─────────────┴────────────────────────────────────────────┘"
      ]
     },
     "execution_count": 50,
     "metadata": {},
     "output_type": "execute_result"
    }
   ],
   "source": [
    "# Filter and show days that have one review on the day\n",
    "video_games_reviews.filter(\n",
    "    pl.col('review_date').is_unique()\n",
    ").head(2)"
   ]
  },
  {
   "cell_type": "code",
   "execution_count": 51,
   "metadata": {},
   "outputs": [
    {
     "data": {
      "text/html": [
       "<div><style>\n",
       ".dataframe > thead > tr > th,\n",
       ".dataframe > tbody > tr > td {\n",
       "  text-align: right;\n",
       "}\n",
       "</style>\n",
       "<small>shape: (2, 4)</small><table border=\"1\" class=\"dataframe\"><thead><tr><th>title</th><th>rating</th><th>review_date</th><th>review_text</th></tr><tr><td>str</td><td>f64</td><td>date</td><td>str</td></tr></thead><tbody><tr><td>&quot;Killzone: Shadow Fall (PlayStation 4)&quot;</td><td>5.0</td><td>2016-12-02</td><td>&quot;First time having this game! It pretty good and the graphic…</td></tr><tr><td>&quot;Resident Evil 5 - Xbox 360&quot;</td><td>5.0</td><td>2014-07-29</td><td>&quot;good&quot;</td></tr></tbody></table></div>"
      ],
      "text/plain": [
       "shape: (2, 4)\n",
       "┌─────────────────────────────────────────┬────────┬─────────────┬─────────────────────────────────┐\n",
       "│ title                                   ┆ rating ┆ review_date ┆ review_text                     │\n",
       "│ ---                                     ┆ ---    ┆ ---         ┆ ---                             │\n",
       "│ str                                     ┆ f64    ┆ date        ┆ str                             │\n",
       "╞═════════════════════════════════════════╪════════╪═════════════╪═════════════════════════════════╡\n",
       "│ Killzone: Shadow Fall (PlayStation 4)   ┆ 5.0    ┆ 2016-12-02  ┆ First time having this game! It │\n",
       "│                                         ┆        ┆             ┆ pretty good and the graphics…   │\n",
       "│ Resident Evil 5 - Xbox 360              ┆ 5.0    ┆ 2014-07-29  ┆ good                            │\n",
       "└─────────────────────────────────────────┴────────┴─────────────┴─────────────────────────────────┘"
      ]
     },
     "execution_count": 51,
     "metadata": {},
     "output_type": "execute_result"
    }
   ],
   "source": [
    "# Filter and show days that have more than one review on the day\n",
    "video_games_reviews.filter(\n",
    "    pl.col('review_date').is_duplicated()\n",
    ").head(2)"
   ]
  },
  {
   "cell_type": "code",
   "execution_count": 53,
   "metadata": {},
   "outputs": [
    {
     "data": {
      "text/html": [
       "<div><style>\n",
       ".dataframe > thead > tr > th,\n",
       ".dataframe > tbody > tr > td {\n",
       "  text-align: right;\n",
       "}\n",
       "</style>\n",
       "<small>shape: (2, 4)</small><table border=\"1\" class=\"dataframe\"><thead><tr><th>title</th><th>rating</th><th>review_date</th><th>review_text</th></tr><tr><td>str</td><td>f64</td><td>date</td><td>str</td></tr></thead><tbody><tr><td>&quot;Killzone: Shadow Fall (PlayStation 4)&quot;</td><td>5.0</td><td>2016-12-02</td><td>&quot;First time having this game! It pretty good and the graphic…</td></tr><tr><td>&quot;Resident Evil 5 - Xbox 360&quot;</td><td>5.0</td><td>2014-07-29</td><td>&quot;good&quot;</td></tr></tbody></table></div>"
      ],
      "text/plain": [
       "shape: (2, 4)\n",
       "┌─────────────────────────────────────────┬────────┬─────────────┬─────────────────────────────────┐\n",
       "│ title                                   ┆ rating ┆ review_date ┆ review_text                     │\n",
       "│ ---                                     ┆ ---    ┆ ---         ┆ ---                             │\n",
       "│ str                                     ┆ f64    ┆ date        ┆ str                             │\n",
       "╞═════════════════════════════════════════╪════════╪═════════════╪═════════════════════════════════╡\n",
       "│ Killzone: Shadow Fall (PlayStation 4)   ┆ 5.0    ┆ 2016-12-02  ┆ First time having this game! It │\n",
       "│                                         ┆        ┆             ┆ pretty good and the graphics…   │\n",
       "│ Resident Evil 5 - Xbox 360              ┆ 5.0    ┆ 2014-07-29  ┆ good                            │\n",
       "└─────────────────────────────────────────┴────────┴─────────────┴─────────────────────────────────┘"
      ]
     },
     "execution_count": 53,
     "metadata": {},
     "output_type": "execute_result"
    }
   ],
   "source": [
    "# For reviews that appear more than once, keep only one review\n",
    "video_games_reviews.unique().head(2)"
   ]
  },
  {
   "cell_type": "code",
   "execution_count": 55,
   "metadata": {},
   "outputs": [
    {
     "data": {
      "text/html": [
       "<div><style>\n",
       ".dataframe > thead > tr > th,\n",
       ".dataframe > tbody > tr > td {\n",
       "  text-align: right;\n",
       "}\n",
       "</style>\n",
       "<small>shape: (2, 4)</small><table border=\"1\" class=\"dataframe\"><thead><tr><th>title</th><th>rating</th><th>review_date</th><th>review_text</th></tr><tr><td>str</td><td>f64</td><td>date</td><td>str</td></tr></thead><tbody><tr><td>&quot;Killzone: Shadow Fall (PlayStation 4)&quot;</td><td>5.0</td><td>2016-12-02</td><td>&quot;First time having this game! It pretty good and the graphic…</td></tr><tr><td>&quot;Resident Evil 5 - Xbox 360&quot;</td><td>5.0</td><td>2014-07-29</td><td>&quot;good&quot;</td></tr></tbody></table></div>"
      ],
      "text/plain": [
       "shape: (2, 4)\n",
       "┌─────────────────────────────────────────┬────────┬─────────────┬─────────────────────────────────┐\n",
       "│ title                                   ┆ rating ┆ review_date ┆ review_text                     │\n",
       "│ ---                                     ┆ ---    ┆ ---         ┆ ---                             │\n",
       "│ str                                     ┆ f64    ┆ date        ┆ str                             │\n",
       "╞═════════════════════════════════════════╪════════╪═════════════╪═════════════════════════════════╡\n",
       "│ Killzone: Shadow Fall (PlayStation 4)   ┆ 5.0    ┆ 2016-12-02  ┆ First time having this game! It │\n",
       "│                                         ┆        ┆             ┆ pretty good and the graphics…   │\n",
       "│ Resident Evil 5 - Xbox 360              ┆ 5.0    ┆ 2014-07-29  ┆ good                            │\n",
       "└─────────────────────────────────────────┴────────┴─────────────┴─────────────────────────────────┘"
      ]
     },
     "execution_count": 55,
     "metadata": {},
     "output_type": "execute_result"
    }
   ],
   "source": [
    "# For reviews that appear more than once, keep only the first review\n",
    "# Not specifying the keep parameter will result in keeping any review, and will be faster\n",
    "video_games_reviews.unique(keep='first').head(2)"
   ]
  },
  {
   "cell_type": "code",
   "execution_count": 56,
   "metadata": {},
   "outputs": [
    {
     "data": {
      "text/html": [
       "<div><style>\n",
       ".dataframe > thead > tr > th,\n",
       ".dataframe > tbody > tr > td {\n",
       "  text-align: right;\n",
       "}\n",
       "</style>\n",
       "<small>shape: (2, 4)</small><table border=\"1\" class=\"dataframe\"><thead><tr><th>title</th><th>rating</th><th>review_date</th><th>review_text</th></tr><tr><td>str</td><td>f64</td><td>date</td><td>str</td></tr></thead><tbody><tr><td>&quot;Killzone: Shadow Fall (PlayStation 4)&quot;</td><td>5.0</td><td>2016-12-02</td><td>&quot;First time having this game! It pretty good and the graphic…</td></tr><tr><td>&quot;Resident Evil 5 - Xbox 360&quot;</td><td>5.0</td><td>2014-07-29</td><td>&quot;good&quot;</td></tr></tbody></table></div>"
      ],
      "text/plain": [
       "shape: (2, 4)\n",
       "┌─────────────────────────────────────────┬────────┬─────────────┬─────────────────────────────────┐\n",
       "│ title                                   ┆ rating ┆ review_date ┆ review_text                     │\n",
       "│ ---                                     ┆ ---    ┆ ---         ┆ ---                             │\n",
       "│ str                                     ┆ f64    ┆ date        ┆ str                             │\n",
       "╞═════════════════════════════════════════╪════════╪═════════════╪═════════════════════════════════╡\n",
       "│ Killzone: Shadow Fall (PlayStation 4)   ┆ 5.0    ┆ 2016-12-02  ┆ First time having this game! It │\n",
       "│                                         ┆        ┆             ┆ pretty good and the graphics…   │\n",
       "│ Resident Evil 5 - Xbox 360              ┆ 5.0    ┆ 2014-07-29  ┆ good                            │\n",
       "└─────────────────────────────────────────┴────────┴─────────────┴─────────────────────────────────┘"
      ]
     },
     "execution_count": 56,
     "metadata": {},
     "output_type": "execute_result"
    }
   ],
   "source": [
    "# Keep only one review for each title and rating\n",
    "video_games_reviews.unique(subset=['title','rating']).head(2)"
   ]
  },
  {
   "attachments": {},
   "cell_type": "markdown",
   "metadata": {},
   "source": [
    "#### Slicing and indexing"
   ]
  },
  {
   "cell_type": "code",
   "execution_count": 61,
   "metadata": {},
   "outputs": [
    {
     "data": {
      "text/html": [
       "<div><style>\n",
       ".dataframe > thead > tr > th,\n",
       ".dataframe > tbody > tr > td {\n",
       "  text-align: right;\n",
       "}\n",
       "</style>\n",
       "<small>shape: (3, 4)</small><table border=\"1\" class=\"dataframe\"><thead><tr><th>title</th><th>rating</th><th>review_date</th><th>review_text</th></tr><tr><td>str</td><td>f64</td><td>date</td><td>str</td></tr></thead><tbody><tr><td>&quot;Titanfall - Xbox One&quot;</td><td>5.0</td><td>2015-03-04</td><td>&quot;As expected and prompt delivery!!!&quot;</td></tr><tr><td>&quot;Assassin&#x27;s Creed - Playstation 3&quot;</td><td>5.0</td><td>2012-10-31</td><td>&quot;It&#x27;s a typical AC game with a few tweaks and additions that…</td></tr><tr><td>&quot;Mario Kart 8 - Nintendo Wii U&quot;</td><td>5.0</td><td>2017-03-24</td><td>&quot;This is without a doubt the best Mario Kart game to date. T…</td></tr></tbody></table></div>"
      ],
      "text/plain": [
       "shape: (3, 4)\n",
       "┌──────────────────────────────────┬────────┬─────────────┬────────────────────────────────────────┐\n",
       "│ title                            ┆ rating ┆ review_date ┆ review_text                            │\n",
       "│ ---                              ┆ ---    ┆ ---         ┆ ---                                    │\n",
       "│ str                              ┆ f64    ┆ date        ┆ str                                    │\n",
       "╞══════════════════════════════════╪════════╪═════════════╪════════════════════════════════════════╡\n",
       "│ Titanfall - Xbox One             ┆ 5.0    ┆ 2015-03-04  ┆ As expected and prompt delivery!!!     │\n",
       "│ Assassin's Creed - Playstation 3 ┆ 5.0    ┆ 2012-10-31  ┆ It's a typical AC game with a few      │\n",
       "│                                  ┆        ┆             ┆ tweaks and additions that …            │\n",
       "│ Mario Kart 8 - Nintendo Wii U    ┆ 5.0    ┆ 2017-03-24  ┆ This is without a doubt the best Mario │\n",
       "│                                  ┆        ┆             ┆ Kart game to date. Th…                 │\n",
       "└──────────────────────────────────┴────────┴─────────────┴────────────────────────────────────────┘"
      ]
     },
     "execution_count": 61,
     "metadata": {},
     "output_type": "execute_result"
    }
   ],
   "source": [
    "# Keep 3 rows starting at row 5\n",
    "video_games_reviews.slice(5, 3)"
   ]
  },
  {
   "cell_type": "code",
   "execution_count": 67,
   "metadata": {},
   "outputs": [
    {
     "data": {
      "text/html": [
       "<div><style>\n",
       ".dataframe > thead > tr > th,\n",
       ".dataframe > tbody > tr > td {\n",
       "  text-align: right;\n",
       "}\n",
       "</style>\n",
       "<small>shape: (3, 4)</small><table border=\"1\" class=\"dataframe\"><thead><tr><th>title</th><th>rating</th><th>review_date</th><th>review_text</th></tr><tr><td>str</td><td>f64</td><td>date</td><td>str</td></tr></thead><tbody><tr><td>&quot;Titanfall - Xbox One&quot;</td><td>5.0</td><td>2015-03-04</td><td>&quot;As expected and prompt delivery!!!&quot;</td></tr><tr><td>&quot;Assassin&#x27;s Creed - Playstation 3&quot;</td><td>5.0</td><td>2012-10-31</td><td>&quot;It&#x27;s a typical AC game with a few tweaks and additions that…</td></tr><tr><td>&quot;Mario Kart 8 - Nintendo Wii U&quot;</td><td>5.0</td><td>2017-03-24</td><td>&quot;This is without a doubt the best Mario Kart game to date. T…</td></tr></tbody></table></div>"
      ],
      "text/plain": [
       "shape: (3, 4)\n",
       "┌──────────────────────────────────┬────────┬─────────────┬────────────────────────────────────────┐\n",
       "│ title                            ┆ rating ┆ review_date ┆ review_text                            │\n",
       "│ ---                              ┆ ---    ┆ ---         ┆ ---                                    │\n",
       "│ str                              ┆ f64    ┆ date        ┆ str                                    │\n",
       "╞══════════════════════════════════╪════════╪═════════════╪════════════════════════════════════════╡\n",
       "│ Titanfall - Xbox One             ┆ 5.0    ┆ 2015-03-04  ┆ As expected and prompt delivery!!!     │\n",
       "│ Assassin's Creed - Playstation 3 ┆ 5.0    ┆ 2012-10-31  ┆ It's a typical AC game with a few      │\n",
       "│                                  ┆        ┆             ┆ tweaks and additions that …            │\n",
       "│ Mario Kart 8 - Nintendo Wii U    ┆ 5.0    ┆ 2017-03-24  ┆ This is without a doubt the best Mario │\n",
       "│                                  ┆        ┆             ┆ Kart game to date. Th…                 │\n",
       "└──────────────────────────────────┴────────┴─────────────┴────────────────────────────────────────┘"
      ]
     },
     "execution_count": 67,
     "metadata": {},
     "output_type": "execute_result"
    }
   ],
   "source": [
    "# Square brackets indexing should be limited to:\n",
    "# 1. Extract a scalar value (another option is using .item() )\n",
    "# 2. Convert a DataFrame to a Series (another option is using .get_column() )\n",
    "# 3. Inspecting some rows or columns\n",
    "# In general, select, with_columns, and filter should be used instead of square brackets indexing\n",
    "# ! Disadvantages: Square brackets selecting only works in eager mode, and is not parallelized\n",
    "# Select 3 rows starting at row 5\n",
    "video_games_reviews[5:8]"
   ]
  },
  {
   "cell_type": "code",
   "execution_count": 68,
   "metadata": {},
   "outputs": [
    {
     "data": {
      "text/html": [
       "<div><style>\n",
       ".dataframe > thead > tr > th,\n",
       ".dataframe > tbody > tr > td {\n",
       "  text-align: right;\n",
       "}\n",
       "</style>\n",
       "<small>shape: (3, 2)</small><table border=\"1\" class=\"dataframe\"><thead><tr><th>title</th><th>rating</th></tr><tr><td>str</td><td>f64</td></tr></thead><tbody><tr><td>&quot;Titanfall - Xbox One&quot;</td><td>5.0</td></tr><tr><td>&quot;Assassin&#x27;s Creed - Playstation 3&quot;</td><td>5.0</td></tr><tr><td>&quot;Mario Kart 8 - Nintendo Wii U&quot;</td><td>5.0</td></tr></tbody></table></div>"
      ],
      "text/plain": [
       "shape: (3, 2)\n",
       "┌──────────────────────────────────┬────────┐\n",
       "│ title                            ┆ rating │\n",
       "│ ---                              ┆ ---    │\n",
       "│ str                              ┆ f64    │\n",
       "╞══════════════════════════════════╪════════╡\n",
       "│ Titanfall - Xbox One             ┆ 5.0    │\n",
       "│ Assassin's Creed - Playstation 3 ┆ 5.0    │\n",
       "│ Mario Kart 8 - Nintendo Wii U    ┆ 5.0    │\n",
       "└──────────────────────────────────┴────────┘"
      ]
     },
     "execution_count": 68,
     "metadata": {},
     "output_type": "execute_result"
    }
   ],
   "source": [
    "# Select 3 rows starting at row 5 for columns title and rating\n",
    "video_games_reviews[5:8, ['title', 'rating']]"
   ]
  },
  {
   "cell_type": "code",
   "execution_count": 71,
   "metadata": {},
   "outputs": [
    {
     "data": {
      "text/html": [
       "<div><style>\n",
       ".dataframe > thead > tr > th,\n",
       ".dataframe > tbody > tr > td {\n",
       "  text-align: right;\n",
       "}\n",
       "</style>\n",
       "<small>shape: (3, 2)</small><table border=\"1\" class=\"dataframe\"><thead><tr><th>title</th><th>rating</th></tr><tr><td>str</td><td>f64</td></tr></thead><tbody><tr><td>&quot;Titanfall - Xbox One&quot;</td><td>5.0</td></tr><tr><td>&quot;Assassin&#x27;s Creed - Playstation 3&quot;</td><td>5.0</td></tr><tr><td>&quot;Mario Kart 8 - Nintendo Wii U&quot;</td><td>5.0</td></tr></tbody></table></div>"
      ],
      "text/plain": [
       "shape: (3, 2)\n",
       "┌──────────────────────────────────┬────────┐\n",
       "│ title                            ┆ rating │\n",
       "│ ---                              ┆ ---    │\n",
       "│ str                              ┆ f64    │\n",
       "╞══════════════════════════════════╪════════╡\n",
       "│ Titanfall - Xbox One             ┆ 5.0    │\n",
       "│ Assassin's Creed - Playstation 3 ┆ 5.0    │\n",
       "│ Mario Kart 8 - Nintendo Wii U    ┆ 5.0    │\n",
       "└──────────────────────────────────┴────────┘"
      ]
     },
     "execution_count": 71,
     "metadata": {},
     "output_type": "execute_result"
    }
   ],
   "source": [
    "# Select 3 rows starting at row 5 for columns 0 and 1\n",
    "video_games_reviews[5:8, [0, 1]]"
   ]
  },
  {
   "cell_type": "code",
   "execution_count": 74,
   "metadata": {},
   "outputs": [
    {
     "data": {
      "text/html": [
       "<div><style>\n",
       ".dataframe > thead > tr > th,\n",
       ".dataframe > tbody > tr > td {\n",
       "  text-align: right;\n",
       "}\n",
       "</style>\n",
       "<small>shape: (2, 2)</small><table border=\"1\" class=\"dataframe\"><thead><tr><th>title</th><th>rating</th></tr><tr><td>str</td><td>f64</td></tr></thead><tbody><tr><td>&quot;Killzone: Shadow Fall (PlayStation 4)&quot;</td><td>5.0</td></tr><tr><td>&quot;Resident Evil 5 - Xbox 360&quot;</td><td>5.0</td></tr></tbody></table></div>"
      ],
      "text/plain": [
       "shape: (2, 2)\n",
       "┌───────────────────────────────────────┬────────┐\n",
       "│ title                                 ┆ rating │\n",
       "│ ---                                   ┆ ---    │\n",
       "│ str                                   ┆ f64    │\n",
       "╞═══════════════════════════════════════╪════════╡\n",
       "│ Killzone: Shadow Fall (PlayStation 4) ┆ 5.0    │\n",
       "│ Resident Evil 5 - Xbox 360            ┆ 5.0    │\n",
       "└───────────────────────────────────────┴────────┘"
      ]
     },
     "execution_count": 74,
     "metadata": {},
     "output_type": "execute_result"
    }
   ],
   "source": [
    "# Select columns title and rating using indexes\n",
    "video_games_reviews[['title', 'rating']].head(2)"
   ]
  },
  {
   "attachments": {},
   "cell_type": "markdown",
   "metadata": {},
   "source": [
    "#### Extracting columns, rows, dataframes and items"
   ]
  },
  {
   "cell_type": "code",
   "execution_count": 77,
   "metadata": {},
   "outputs": [
    {
     "data": {
      "text/html": [
       "<div><style>\n",
       ".dataframe > thead > tr > th,\n",
       ".dataframe > tbody > tr > td {\n",
       "  text-align: right;\n",
       "}\n",
       "</style>\n",
       "<small>shape: (2,)</small><table border=\"1\" class=\"dataframe\"><thead><tr><th>title</th></tr><tr><td>str</td></tr></thead><tbody><tr><td>&quot;Killzone: Shadow Fall (PlayStation 4)&quot;</td></tr><tr><td>&quot;Resident Evil 5 - Xbox 360&quot;</td></tr></tbody></table></div>"
      ],
      "text/plain": [
       "shape: (2,)\n",
       "Series: 'title' [str]\n",
       "[\n",
       "\t\"Killzone: Shadow Fall (PlayStation 4)\"\n",
       "\t\"Resident Evil 5 - Xbox 360\"\n",
       "]"
      ]
     },
     "execution_count": 77,
     "metadata": {},
     "output_type": "execute_result"
    }
   ],
   "source": [
    "# Extract a column from a DataFrame and convert it to a Series\n",
    "video_games_reviews.get_column('title').head(2)"
   ]
  },
  {
   "cell_type": "code",
   "execution_count": 84,
   "metadata": {},
   "outputs": [
    {
     "data": {
      "text/plain": [
       "[shape: (1,)\n",
       " Series: 'title' [str]\n",
       " [\n",
       " \t\"Killzone: Shadow Fall (PlayStation 4)\"\n",
       " ],\n",
       " shape: (1,)\n",
       " Series: 'rating' [f64]\n",
       " [\n",
       " \t5.0\n",
       " ],\n",
       " shape: (1,)\n",
       " Series: 'review_date' [date]\n",
       " [\n",
       " \t2016-12-02\n",
       " ],\n",
       " shape: (1,)\n",
       " Series: 'review_text' [str]\n",
       " [\n",
       " \t\"First time having this game! It pretty good and the graphic…\n",
       " ]]"
      ]
     },
     "execution_count": 84,
     "metadata": {},
     "output_type": "execute_result"
    }
   ],
   "source": [
    "# Extract all columns and convert them to a list of Series\n",
    "video_games_reviews.head(1).get_columns()"
   ]
  },
  {
   "cell_type": "code",
   "execution_count": 85,
   "metadata": {},
   "outputs": [
    {
     "data": {
      "text/plain": [
       "[('Killzone: Shadow Fall (PlayStation 4)',\n",
       "  5.0,\n",
       "  datetime.date(2016, 12, 2),\n",
       "  'First time having this game! It pretty good and the graphics are very nice'),\n",
       " ('Resident Evil 5 - Xbox 360', 5.0, datetime.date(2014, 7, 29), 'good')]"
      ]
     },
     "execution_count": 85,
     "metadata": {},
     "output_type": "execute_result"
    }
   ],
   "source": [
    "# Extract rows from a dataframe as a list of tuples\n",
    "# ! This materializes all the rows in memory. It's expensive and should be avoided when possible\n",
    "video_games_reviews.head(2).rows()"
   ]
  },
  {
   "cell_type": "code",
   "execution_count": 86,
   "metadata": {},
   "outputs": [
    {
     "data": {
      "text/plain": [
       "[{'title': 'Killzone: Shadow Fall (PlayStation 4)',\n",
       "  'rating': 5.0,\n",
       "  'review_date': datetime.date(2016, 12, 2),\n",
       "  'review_text': 'First time having this game! It pretty good and the graphics are very nice'},\n",
       " {'title': 'Resident Evil 5 - Xbox 360',\n",
       "  'rating': 5.0,\n",
       "  'review_date': datetime.date(2014, 7, 29),\n",
       "  'review_text': 'good'}]"
      ]
     },
     "execution_count": 86,
     "metadata": {},
     "output_type": "execute_result"
    }
   ],
   "source": [
    "# Extract rows from a dataframe as a list of dicts (more expensive)\n",
    "# ! This materializes all the rows in memory. It's expensive and should be avoided when possible\n",
    "video_games_reviews.head(2).rows(named=True)"
   ]
  },
  {
   "cell_type": "code",
   "execution_count": 88,
   "metadata": {},
   "outputs": [
    {
     "data": {
      "text/plain": [
       "<generator object DataFrame.iter_rows at 0x7f4ef9fc2980>"
      ]
     },
     "execution_count": 88,
     "metadata": {},
     "output_type": "execute_result"
    }
   ],
   "source": [
    "# Extract rows from a dataframe as an iterator\n",
    "# ! Export methods of Polars should be preferred instead of iterating over rows\n",
    "video_games_reviews.iter_rows()"
   ]
  },
  {
   "cell_type": "code",
   "execution_count": 89,
   "metadata": {},
   "outputs": [
    {
     "data": {
      "text/plain": [
       "<generator object DataFrame.iter_slices at 0x7f4eb4308d60>"
      ]
     },
     "execution_count": 89,
     "metadata": {},
     "output_type": "execute_result"
    }
   ],
   "source": [
    "# Extract slices of 1000 rows from a dataframe as an iterator\n",
    "video_games_reviews.iter_slices(n_rows=1000)"
   ]
  },
  {
   "cell_type": "code",
   "execution_count": 91,
   "metadata": {},
   "outputs": [
    {
     "data": {
      "text/plain": [
       "[shape: (1, 4)\n",
       " ┌─────────────────────────────────────────┬────────┬─────────────┬─────────────────────────────────┐\n",
       " │ title                                   ┆ rating ┆ review_date ┆ review_text                     │\n",
       " │ ---                                     ┆ ---    ┆ ---         ┆ ---                             │\n",
       " │ str                                     ┆ f64    ┆ date        ┆ str                             │\n",
       " ╞═════════════════════════════════════════╪════════╪═════════════╪═════════════════════════════════╡\n",
       " │ Killzone: Shadow Fall (PlayStation 4)   ┆ 5.0    ┆ 2016-12-02  ┆ First time having this game! It │\n",
       " │                                         ┆        ┆             ┆ pretty good and the graphics…   │\n",
       " └─────────────────────────────────────────┴────────┴─────────────┴─────────────────────────────────┘,\n",
       " shape: (1, 4)\n",
       " ┌────────────────────────────┬────────┬─────────────┬─────────────┐\n",
       " │ title                      ┆ rating ┆ review_date ┆ review_text │\n",
       " │ ---                        ┆ ---    ┆ ---         ┆ ---         │\n",
       " │ str                        ┆ f64    ┆ date        ┆ str         │\n",
       " ╞════════════════════════════╪════════╪═════════════╪═════════════╡\n",
       " │ Resident Evil 5 - Xbox 360 ┆ 5.0    ┆ 2014-07-29  ┆ good        │\n",
       " └────────────────────────────┴────────┴─────────────┴─────────────┘]"
      ]
     },
     "execution_count": 91,
     "metadata": {},
     "output_type": "execute_result"
    }
   ],
   "source": [
    "# Extract a list of Dataframes partitioned based on the specified column\n",
    "video_games_reviews.head(2).partition_by('title')"
   ]
  },
  {
   "cell_type": "code",
   "execution_count": 94,
   "metadata": {},
   "outputs": [
    {
     "data": {
      "text/plain": [
       "'Killzone: Shadow Fall (PlayStation 4)'"
      ]
     },
     "execution_count": 94,
     "metadata": {},
     "output_type": "execute_result"
    }
   ],
   "source": [
    "# Extract a scalar using .item()\n",
    "# .item() transforms a table of one row and one column into a scalar\n",
    "video_games_reviews.head(1).get_column('title').item()"
   ]
  },
  {
   "cell_type": "code",
   "execution_count": 97,
   "metadata": {},
   "outputs": [
    {
     "data": {
      "text/plain": [
       "['Killzone: Shadow Fall (PlayStation 4)',\n",
       " 'Resident Evil 5 - Xbox 360',\n",
       " 'Bioshock 2 - Xbox 360',\n",
       " 'Grip-iT Analog Stick Covers, Set of 4',\n",
       " 'Dead Space (X-BOX 360) Platinum hits']"
      ]
     },
     "execution_count": 97,
     "metadata": {},
     "output_type": "execute_result"
    }
   ],
   "source": [
    "# Convert a column to a list using .to_list()\n",
    "video_games_reviews.get_column('title').head(5).to_list()"
   ]
  },
  {
   "cell_type": "code",
   "execution_count": 99,
   "metadata": {},
   "outputs": [
    {
     "data": {
      "text/plain": [
       "{'title': ['Killzone: Shadow Fall (PlayStation 4)',\n",
       "  'Resident Evil 5 - Xbox 360'],\n",
       " 'rating': [5.0, 5.0],\n",
       " 'review_date': [datetime.date(2016, 12, 2), datetime.date(2014, 7, 29)],\n",
       " 'review_text': ['First time having this game! It pretty good and the graphics are very nice',\n",
       "  'good']}"
      ]
     },
     "execution_count": 99,
     "metadata": {},
     "output_type": "execute_result"
    }
   ],
   "source": [
    "# Convert a dataframe to a Python dictionary using .to_dict()\n",
    "video_games_reviews.head(2).to_dict(as_series=False)"
   ]
  },
  {
   "cell_type": "code",
   "execution_count": null,
   "metadata": {},
   "outputs": [],
   "source": []
  }
 ],
 "metadata": {
  "kernelspec": {
   "display_name": "Python 3",
   "language": "python",
   "name": "python3"
  },
  "language_info": {
   "codemirror_mode": {
    "name": "ipython",
    "version": 3
   },
   "file_extension": ".py",
   "mimetype": "text/x-python",
   "name": "python",
   "nbconvert_exporter": "python",
   "pygments_lexer": "ipython3",
   "version": "3.11.0"
  },
  "orig_nbformat": 4,
  "vscode": {
   "interpreter": {
    "hash": "c823e8cd4eb93d0837f70656db2757dcd2f793adbe4317f23abcc1abff9ce7b8"
   }
  }
 },
 "nbformat": 4,
 "nbformat_minor": 2
}
