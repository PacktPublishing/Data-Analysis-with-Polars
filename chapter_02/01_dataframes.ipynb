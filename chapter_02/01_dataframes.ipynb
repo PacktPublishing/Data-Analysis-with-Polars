{
 "cells": [
  {
   "attachments": {},
   "cell_type": "markdown",
   "metadata": {},
   "source": [
    "### Polars dataframes"
   ]
  },
  {
   "cell_type": "code",
   "execution_count": 43,
   "metadata": {},
   "outputs": [],
   "source": [
    "import polars as pl"
   ]
  },
  {
   "cell_type": "code",
   "execution_count": 47,
   "metadata": {},
   "outputs": [],
   "source": [
    "# load a JSON file to a Polars DataFrame\n",
    "video_games_reviews = pl.read_csv('../datasets/reviews_videogames_350.csv', infer_schema_length=10000, try_parse_dates=True)"
   ]
  },
  {
   "attachments": {},
   "cell_type": "markdown",
   "metadata": {},
   "source": [
    "#### Inspect the data"
   ]
  },
  {
   "cell_type": "code",
   "execution_count": 48,
   "metadata": {},
   "outputs": [
    {
     "data": {
      "text/html": [
       "<div><style>\n",
       ".dataframe > thead > tr > th,\n",
       ".dataframe > tbody > tr > td {\n",
       "  text-align: right;\n",
       "}\n",
       "</style>\n",
       "<small>shape: (5, 12)</small><table border=\"1\" class=\"dataframe\"><thead><tr><th>overall</th><th>verified</th><th>reviewTime</th><th>reviewerID</th><th>asin</th><th>reviewerName</th><th>reviewText</th><th>summary</th><th>unixReviewTime</th><th>format</th><th>title</th><th>vote</th></tr><tr><td>f64</td><td>bool</td><td>date</td><td>str</td><td>str</td><td>str</td><td>str</td><td>str</td><td>i64</td><td>str</td><td>str</td><td>str</td></tr></thead><tbody><tr><td>5.0</td><td>false</td><td>2001-10-01</td><td>&quot;A1HCSJRA2FQ6B7…</td><td>&quot;B00005NZ1G&quot;</td><td>&quot;Amazon Custome…</td><td>&quot;Forget all you…</td><td>&quot;I Know this ga…</td><td>1001894400</td><td>&quot; Video Game&quot;</td><td>&quot;Halo - Xbox&quot;</td><td>null</td></tr><tr><td>5.0</td><td>false</td><td>2001-10-01</td><td>&quot;A1HCSJRA2FQ6B7…</td><td>&quot;B00005NZ1G&quot;</td><td>&quot;Amazon Custome…</td><td>&quot;Forget all you…</td><td>&quot;I Know this ga…</td><td>1001894400</td><td>&quot; Video Game&quot;</td><td>&quot;Halo - Xbox&quot;</td><td>null</td></tr><tr><td>4.0</td><td>true</td><td>2017-08-25</td><td>&quot;A36NHTSGO54XFM…</td><td>&quot;B00005NZ1G&quot;</td><td>&quot;guillermo&quot;</td><td>&quot;Not the best i…</td><td>&quot;Four Stars&quot;</td><td>1503619200</td><td>null</td><td>&quot;Halo - Xbox&quot;</td><td>null</td></tr><tr><td>4.0</td><td>true</td><td>2017-08-25</td><td>&quot;A36NHTSGO54XFM…</td><td>&quot;B00005NZ1G&quot;</td><td>&quot;guillermo&quot;</td><td>&quot;Not the best i…</td><td>&quot;Four Stars&quot;</td><td>1503619200</td><td>null</td><td>&quot;Halo - Xbox&quot;</td><td>null</td></tr><tr><td>5.0</td><td>true</td><td>2017-05-16</td><td>&quot;ATO3ORPBW7A2S&quot;</td><td>&quot;B00005NZ1G&quot;</td><td>&quot;Nathan Carey&quot;</td><td>&quot;Can&#x27;t go wrong…</td><td>&quot;Back To The OG…</td><td>1494892800</td><td>&quot; Video Game&quot;</td><td>&quot;Halo - Xbox&quot;</td><td>null</td></tr></tbody></table></div>"
      ],
      "text/plain": [
       "shape: (5, 12)\n",
       "┌─────────┬──────────┬────────────┬───────────────┬───┬────────────┬───────────────┬────────┬──────┐\n",
       "│ overall ┆ verified ┆ reviewTime ┆ reviewerID    ┆ … ┆ unixReview ┆ format        ┆ title  ┆ vote │\n",
       "│ ---     ┆ ---      ┆ ---        ┆ ---           ┆   ┆ Time       ┆ ---           ┆ ---    ┆ ---  │\n",
       "│ f64     ┆ bool     ┆ date       ┆ str           ┆   ┆ ---        ┆ str           ┆ str    ┆ str  │\n",
       "│         ┆          ┆            ┆               ┆   ┆ i64        ┆               ┆        ┆      │\n",
       "╞═════════╪══════════╪════════════╪═══════════════╪═══╪════════════╪═══════════════╪════════╪══════╡\n",
       "│ 5.0     ┆ false    ┆ 2001-10-01 ┆ A1HCSJRA2FQ6B ┆ … ┆ 1001894400 ┆  Video Game   ┆ Halo - ┆ null │\n",
       "│         ┆          ┆            ┆ 7             ┆   ┆            ┆               ┆ Xbox   ┆      │\n",
       "│ 5.0     ┆ false    ┆ 2001-10-01 ┆ A1HCSJRA2FQ6B ┆ … ┆ 1001894400 ┆  Video Game   ┆ Halo - ┆ null │\n",
       "│         ┆          ┆            ┆ 7             ┆   ┆            ┆               ┆ Xbox   ┆      │\n",
       "│ 4.0     ┆ true     ┆ 2017-08-25 ┆ A36NHTSGO54XF ┆ … ┆ 1503619200 ┆ null          ┆ Halo - ┆ null │\n",
       "│         ┆          ┆            ┆ M             ┆   ┆            ┆               ┆ Xbox   ┆      │\n",
       "│ 4.0     ┆ true     ┆ 2017-08-25 ┆ A36NHTSGO54XF ┆ … ┆ 1503619200 ┆ null          ┆ Halo - ┆ null │\n",
       "│         ┆          ┆            ┆ M             ┆   ┆            ┆               ┆ Xbox   ┆      │\n",
       "│ 5.0     ┆ true     ┆ 2017-05-16 ┆ ATO3ORPBW7A2S ┆ … ┆ 1494892800 ┆  Video Game   ┆ Halo - ┆ null │\n",
       "│         ┆          ┆            ┆               ┆   ┆            ┆               ┆ Xbox   ┆      │\n",
       "└─────────┴──────────┴────────────┴───────────────┴───┴────────────┴───────────────┴────────┴──────┘"
      ]
     },
     "execution_count": 48,
     "metadata": {},
     "output_type": "execute_result"
    }
   ],
   "source": [
    "video_games_reviews.head(5)"
   ]
  },
  {
   "cell_type": "code",
   "execution_count": 49,
   "metadata": {},
   "outputs": [
    {
     "data": {
      "text/html": [
       "<div><style>\n",
       ".dataframe > thead > tr > th,\n",
       ".dataframe > tbody > tr > td {\n",
       "  text-align: right;\n",
       "}\n",
       "</style>\n",
       "<small>shape: (5, 12)</small><table border=\"1\" class=\"dataframe\"><thead><tr><th>overall</th><th>verified</th><th>reviewTime</th><th>reviewerID</th><th>asin</th><th>reviewerName</th><th>reviewText</th><th>summary</th><th>unixReviewTime</th><th>format</th><th>title</th><th>vote</th></tr><tr><td>f64</td><td>bool</td><td>date</td><td>str</td><td>str</td><td>str</td><td>str</td><td>str</td><td>i64</td><td>str</td><td>str</td><td>str</td></tr></thead><tbody><tr><td>5.0</td><td>false</td><td>2001-10-01</td><td>&quot;A1HCSJRA2FQ6B7…</td><td>&quot;B00005NZ1G&quot;</td><td>&quot;Amazon Custome…</td><td>&quot;Forget all you…</td><td>&quot;I Know this ga…</td><td>1001894400</td><td>&quot; Video Game&quot;</td><td>&quot;Halo - Xbox&quot;</td><td>null</td></tr><tr><td>5.0</td><td>false</td><td>2001-10-01</td><td>&quot;A1HCSJRA2FQ6B7…</td><td>&quot;B00005NZ1G&quot;</td><td>&quot;Amazon Custome…</td><td>&quot;Forget all you…</td><td>&quot;I Know this ga…</td><td>1001894400</td><td>&quot; Video Game&quot;</td><td>&quot;Halo - Xbox&quot;</td><td>null</td></tr><tr><td>4.0</td><td>true</td><td>2017-08-25</td><td>&quot;A36NHTSGO54XFM…</td><td>&quot;B00005NZ1G&quot;</td><td>&quot;guillermo&quot;</td><td>&quot;Not the best i…</td><td>&quot;Four Stars&quot;</td><td>1503619200</td><td>null</td><td>&quot;Halo - Xbox&quot;</td><td>null</td></tr><tr><td>4.0</td><td>true</td><td>2017-08-25</td><td>&quot;A36NHTSGO54XFM…</td><td>&quot;B00005NZ1G&quot;</td><td>&quot;guillermo&quot;</td><td>&quot;Not the best i…</td><td>&quot;Four Stars&quot;</td><td>1503619200</td><td>null</td><td>&quot;Halo - Xbox&quot;</td><td>null</td></tr><tr><td>5.0</td><td>true</td><td>2017-05-16</td><td>&quot;ATO3ORPBW7A2S&quot;</td><td>&quot;B00005NZ1G&quot;</td><td>&quot;Nathan Carey&quot;</td><td>&quot;Can&#x27;t go wrong…</td><td>&quot;Back To The OG…</td><td>1494892800</td><td>&quot; Video Game&quot;</td><td>&quot;Halo - Xbox&quot;</td><td>null</td></tr></tbody></table></div>"
      ],
      "text/plain": [
       "shape: (5, 12)\n",
       "┌─────────┬──────────┬────────────┬───────────────┬───┬────────────┬───────────────┬────────┬──────┐\n",
       "│ overall ┆ verified ┆ reviewTime ┆ reviewerID    ┆ … ┆ unixReview ┆ format        ┆ title  ┆ vote │\n",
       "│ ---     ┆ ---      ┆ ---        ┆ ---           ┆   ┆ Time       ┆ ---           ┆ ---    ┆ ---  │\n",
       "│ f64     ┆ bool     ┆ date       ┆ str           ┆   ┆ ---        ┆ str           ┆ str    ┆ str  │\n",
       "│         ┆          ┆            ┆               ┆   ┆ i64        ┆               ┆        ┆      │\n",
       "╞═════════╪══════════╪════════════╪═══════════════╪═══╪════════════╪═══════════════╪════════╪══════╡\n",
       "│ 5.0     ┆ false    ┆ 2001-10-01 ┆ A1HCSJRA2FQ6B ┆ … ┆ 1001894400 ┆  Video Game   ┆ Halo - ┆ null │\n",
       "│         ┆          ┆            ┆ 7             ┆   ┆            ┆               ┆ Xbox   ┆      │\n",
       "│ 5.0     ┆ false    ┆ 2001-10-01 ┆ A1HCSJRA2FQ6B ┆ … ┆ 1001894400 ┆  Video Game   ┆ Halo - ┆ null │\n",
       "│         ┆          ┆            ┆ 7             ┆   ┆            ┆               ┆ Xbox   ┆      │\n",
       "│ 4.0     ┆ true     ┆ 2017-08-25 ┆ A36NHTSGO54XF ┆ … ┆ 1503619200 ┆ null          ┆ Halo - ┆ null │\n",
       "│         ┆          ┆            ┆ M             ┆   ┆            ┆               ┆ Xbox   ┆      │\n",
       "│ 4.0     ┆ true     ┆ 2017-08-25 ┆ A36NHTSGO54XF ┆ … ┆ 1503619200 ┆ null          ┆ Halo - ┆ null │\n",
       "│         ┆          ┆            ┆ M             ┆   ┆            ┆               ┆ Xbox   ┆      │\n",
       "│ 5.0     ┆ true     ┆ 2017-05-16 ┆ ATO3ORPBW7A2S ┆ … ┆ 1494892800 ┆  Video Game   ┆ Halo - ┆ null │\n",
       "│         ┆          ┆            ┆               ┆   ┆            ┆               ┆ Xbox   ┆      │\n",
       "└─────────┴──────────┴────────────┴───────────────┴───┴────────────┴───────────────┴────────┴──────┘"
      ]
     },
     "execution_count": 49,
     "metadata": {},
     "output_type": "execute_result"
    }
   ],
   "source": [
    "# Show the first 5 rows of the DataFrame\n",
    "video_games_reviews.head(5)"
   ]
  },
  {
   "cell_type": "code",
   "execution_count": 50,
   "metadata": {},
   "outputs": [
    {
     "data": {
      "text/html": [
       "<div><style>\n",
       ".dataframe > thead > tr > th,\n",
       ".dataframe > tbody > tr > td {\n",
       "  text-align: right;\n",
       "}\n",
       "</style>\n",
       "<small>shape: (5, 12)</small><table border=\"1\" class=\"dataframe\"><thead><tr><th>overall</th><th>verified</th><th>reviewTime</th><th>reviewerID</th><th>asin</th><th>reviewerName</th><th>reviewText</th><th>summary</th><th>unixReviewTime</th><th>format</th><th>title</th><th>vote</th></tr><tr><td>f64</td><td>bool</td><td>date</td><td>str</td><td>str</td><td>str</td><td>str</td><td>str</td><td>i64</td><td>str</td><td>str</td><td>str</td></tr></thead><tbody><tr><td>5.0</td><td>true</td><td>2018-08-06</td><td>&quot;A2V8073MZKNGSG…</td><td>&quot;B00YQM1PNY&quot;</td><td>&quot;Fitzroy B.&quot;</td><td>&quot;Arrived on tim…</td><td>&quot;Five Stars&quot;</td><td>1533513600</td><td>null</td><td>&quot;UNCHARTED: The…</td><td>null</td></tr><tr><td>5.0</td><td>true</td><td>2018-08-27</td><td>&quot;A1AZDI7EFITC3B…</td><td>&quot;B00Z7V9P8K&quot;</td><td>&quot;That Guy Dave&quot;</td><td>&quot;Was good but I…</td><td>&quot;Nice game&quot;</td><td>1535328000</td><td>null</td><td>&quot;Batman: Arkham…</td><td>null</td></tr><tr><td>5.0</td><td>true</td><td>2018-07-04</td><td>&quot;A2Y5PU2P5A6XJ3…</td><td>&quot;B00Z7V9P8K&quot;</td><td>&quot;bernardo rosar…</td><td>&quot;awesome game! …</td><td>&quot;awesome game! …</td><td>1530662400</td><td>null</td><td>&quot;Batman: Arkham…</td><td>null</td></tr><tr><td>5.0</td><td>true</td><td>2018-06-24</td><td>&quot;AEX8BTN3JNTWH&quot;</td><td>&quot;B00Z7V9P8K&quot;</td><td>&quot;Rafael Vsquez&quot;</td><td>&quot;Good&quot;</td><td>&quot;Good&quot;</td><td>1529798400</td><td>null</td><td>&quot;Batman: Arkham…</td><td>null</td></tr><tr><td>4.0</td><td>true</td><td>2018-08-10</td><td>&quot;A4VVV6IAR6YW1&quot;</td><td>&quot;B00ZB7W4QU&quot;</td><td>&quot;Michael E&quot;</td><td>&quot;Slightly dissa…</td><td>&quot;Poor Range&quot;</td><td>1533859200</td><td>null</td><td>&quot;Microsoft Xbox…</td><td>null</td></tr></tbody></table></div>"
      ],
      "text/plain": [
       "shape: (5, 12)\n",
       "┌─────────┬──────────┬────────────┬──────────────┬───┬──────────────┬────────┬──────────────┬──────┐\n",
       "│ overall ┆ verified ┆ reviewTime ┆ reviewerID   ┆ … ┆ unixReviewTi ┆ format ┆ title        ┆ vote │\n",
       "│ ---     ┆ ---      ┆ ---        ┆ ---          ┆   ┆ me           ┆ ---    ┆ ---          ┆ ---  │\n",
       "│ f64     ┆ bool     ┆ date       ┆ str          ┆   ┆ ---          ┆ str    ┆ str          ┆ str  │\n",
       "│         ┆          ┆            ┆              ┆   ┆ i64          ┆        ┆              ┆      │\n",
       "╞═════════╪══════════╪════════════╪══════════════╪═══╪══════════════╪════════╪══════════════╪══════╡\n",
       "│ 5.0     ┆ true     ┆ 2018-08-06 ┆ A2V8073MZKNG ┆ … ┆ 1533513600   ┆ null   ┆ UNCHARTED:   ┆ null │\n",
       "│         ┆          ┆            ┆ SG           ┆   ┆              ┆        ┆ The Nathan   ┆      │\n",
       "│         ┆          ┆            ┆              ┆   ┆              ┆        ┆ Drake Coll…  ┆      │\n",
       "│ 5.0     ┆ true     ┆ 2018-08-27 ┆ A1AZDI7EFITC ┆ … ┆ 1535328000   ┆ null   ┆ Batman:      ┆ null │\n",
       "│         ┆          ┆            ┆ 3B           ┆   ┆              ┆        ┆ Arkham       ┆      │\n",
       "│         ┆          ┆            ┆              ┆   ┆              ┆        ┆ Knight -     ┆      │\n",
       "│         ┆          ┆            ┆              ┆   ┆              ┆        ┆ PlayStat…    ┆      │\n",
       "│ 5.0     ┆ true     ┆ 2018-07-04 ┆ A2Y5PU2P5A6X ┆ … ┆ 1530662400   ┆ null   ┆ Batman:      ┆ null │\n",
       "│         ┆          ┆            ┆ J3           ┆   ┆              ┆        ┆ Arkham       ┆      │\n",
       "│         ┆          ┆            ┆              ┆   ┆              ┆        ┆ Knight -     ┆      │\n",
       "│         ┆          ┆            ┆              ┆   ┆              ┆        ┆ PlayStat…    ┆      │\n",
       "│ 5.0     ┆ true     ┆ 2018-06-24 ┆ AEX8BTN3JNTW ┆ … ┆ 1529798400   ┆ null   ┆ Batman:      ┆ null │\n",
       "│         ┆          ┆            ┆ H            ┆   ┆              ┆        ┆ Arkham       ┆      │\n",
       "│         ┆          ┆            ┆              ┆   ┆              ┆        ┆ Knight -     ┆      │\n",
       "│         ┆          ┆            ┆              ┆   ┆              ┆        ┆ PlayStat…    ┆      │\n",
       "│ 4.0     ┆ true     ┆ 2018-08-10 ┆ A4VVV6IAR6YW ┆ … ┆ 1533859200   ┆ null   ┆ Microsoft    ┆ null │\n",
       "│         ┆          ┆            ┆ 1            ┆   ┆              ┆        ┆ Xbox         ┆      │\n",
       "│         ┆          ┆            ┆              ┆   ┆              ┆        ┆ Wireless     ┆      │\n",
       "│         ┆          ┆            ┆              ┆   ┆              ┆        ┆ Adapter …    ┆      │\n",
       "└─────────┴──────────┴────────────┴──────────────┴───┴──────────────┴────────┴──────────────┴──────┘"
      ]
     },
     "execution_count": 50,
     "metadata": {},
     "output_type": "execute_result"
    }
   ],
   "source": [
    "# Show the last 5 rows of the DataFrame\n",
    "video_games_reviews.tail(5)"
   ]
  },
  {
   "cell_type": "code",
   "execution_count": 51,
   "metadata": {},
   "outputs": [
    {
     "data": {
      "text/html": [
       "<div><style>\n",
       ".dataframe > thead > tr > th,\n",
       ".dataframe > tbody > tr > td {\n",
       "  text-align: right;\n",
       "}\n",
       "</style>\n",
       "<small>shape: (5, 12)</small><table border=\"1\" class=\"dataframe\"><thead><tr><th>overall</th><th>verified</th><th>reviewTime</th><th>reviewerID</th><th>asin</th><th>reviewerName</th><th>reviewText</th><th>summary</th><th>unixReviewTime</th><th>format</th><th>title</th><th>vote</th></tr><tr><td>f64</td><td>bool</td><td>date</td><td>str</td><td>str</td><td>str</td><td>str</td><td>str</td><td>i64</td><td>str</td><td>str</td><td>str</td></tr></thead><tbody><tr><td>5.0</td><td>true</td><td>2017-09-01</td><td>&quot;AO6LZI6V3EV0K&quot;</td><td>&quot;B0094X227I&quot;</td><td>&quot;Shopaholic Mom…</td><td>&quot;A bit expensiv…</td><td>&quot;Five Stars&quot;</td><td>1504224000</td><td>null</td><td>&quot;Nintendo Wii R…</td><td>null</td></tr><tr><td>5.0</td><td>true</td><td>2017-07-20</td><td>&quot;A1OUNDKAN1TTOY…</td><td>&quot;B00ZQC73O8&quot;</td><td>&quot;vette_ed&quot;</td><td>&quot;Best game I&#x27;ve…</td><td>&quot;A MUST PLAY GA…</td><td>1500508800</td><td>null</td><td>&quot;Horizon Zero D…</td><td>null</td></tr><tr><td>5.0</td><td>true</td><td>2017-03-23</td><td>&quot;ALWF6LKTTT0QO&quot;</td><td>&quot;B000VTQ3LU&quot;</td><td>&quot;MZ.FLOBETTA&quot;</td><td>&quot;I like the cam…</td><td>&quot;Five Stars&quot;</td><td>1490227200</td><td>null</td><td>&quot;PlayStation Ey…</td><td>null</td></tr><tr><td>5.0</td><td>true</td><td>2014-11-06</td><td>&quot;A2X4997MHW0ALK…</td><td>&quot;B00DC7G0GG&quot;</td><td>&quot;Dfbernal1&quot;</td><td>&quot;If you grown w…</td><td>&quot;Different conc…</td><td>1415232000</td><td>&quot; Video Game&quot;</td><td>&quot;Super Mario 3D…</td><td>&quot;3&quot;</td></tr><tr><td>5.0</td><td>true</td><td>2013-07-12</td><td>&quot;A3DTSSJB3CWRHT…</td><td>&quot;B000X1PE16&quot;</td><td>&quot;Brutal One&quot;</td><td>&quot;Dead Space is …</td><td>&quot;One of the Bes…</td><td>1373587200</td><td>&quot; Video Game&quot;</td><td>&quot;Dead Space (X-…</td><td>null</td></tr></tbody></table></div>"
      ],
      "text/plain": [
       "shape: (5, 12)\n",
       "┌─────────┬──────────┬────────────┬─────────────┬───┬────────────┬─────────────┬────────────┬──────┐\n",
       "│ overall ┆ verified ┆ reviewTime ┆ reviewerID  ┆ … ┆ unixReview ┆ format      ┆ title      ┆ vote │\n",
       "│ ---     ┆ ---      ┆ ---        ┆ ---         ┆   ┆ Time       ┆ ---         ┆ ---        ┆ ---  │\n",
       "│ f64     ┆ bool     ┆ date       ┆ str         ┆   ┆ ---        ┆ str         ┆ str        ┆ str  │\n",
       "│         ┆          ┆            ┆             ┆   ┆ i64        ┆             ┆            ┆      │\n",
       "╞═════════╪══════════╪════════════╪═════════════╪═══╪════════════╪═════════════╪════════════╪══════╡\n",
       "│ 5.0     ┆ true     ┆ 2017-09-01 ┆ AO6LZI6V3EV ┆ … ┆ 1504224000 ┆ null        ┆ Nintendo   ┆ null │\n",
       "│         ┆          ┆            ┆ 0K          ┆   ┆            ┆             ┆ Wii Remote ┆      │\n",
       "│         ┆          ┆            ┆             ┆   ┆            ┆             ┆ Plus -     ┆      │\n",
       "│         ┆          ┆            ┆             ┆   ┆            ┆             ┆ White      ┆      │\n",
       "│ 5.0     ┆ true     ┆ 2017-07-20 ┆ A1OUNDKAN1T ┆ … ┆ 1500508800 ┆ null        ┆ Horizon    ┆ null │\n",
       "│         ┆          ┆            ┆ TOY         ┆   ┆            ┆             ┆ Zero Dawn  ┆      │\n",
       "│         ┆          ┆            ┆             ┆   ┆            ┆             ┆ - PlayStat ┆      │\n",
       "│         ┆          ┆            ┆             ┆   ┆            ┆             ┆ ion …      ┆      │\n",
       "│ 5.0     ┆ true     ┆ 2017-03-23 ┆ ALWF6LKTTT0 ┆ … ┆ 1490227200 ┆ null        ┆ PlayStatio ┆ null │\n",
       "│         ┆          ┆            ┆ QO          ┆   ┆            ┆             ┆ n Eye      ┆      │\n",
       "│ 5.0     ┆ true     ┆ 2014-11-06 ┆ A2X4997MHW0 ┆ … ┆ 1415232000 ┆  Video Game ┆ Super      ┆ 3    │\n",
       "│         ┆          ┆            ┆ ALK         ┆   ┆            ┆             ┆ Mario 3D   ┆      │\n",
       "│         ┆          ┆            ┆             ┆   ┆            ┆             ┆ World -    ┆      │\n",
       "│         ┆          ┆            ┆             ┆   ┆            ┆             ┆ Nintendo … ┆      │\n",
       "│ 5.0     ┆ true     ┆ 2013-07-12 ┆ A3DTSSJB3CW ┆ … ┆ 1373587200 ┆  Video Game ┆ Dead Space ┆ null │\n",
       "│         ┆          ┆            ┆ RHT         ┆   ┆            ┆             ┆ (X-BOX     ┆      │\n",
       "│         ┆          ┆            ┆             ┆   ┆            ┆             ┆ 360)       ┆      │\n",
       "│         ┆          ┆            ┆             ┆   ┆            ┆             ┆ Platinum … ┆      │\n",
       "└─────────┴──────────┴────────────┴─────────────┴───┴────────────┴─────────────┴────────────┴──────┘"
      ]
     },
     "execution_count": 51,
     "metadata": {},
     "output_type": "execute_result"
    }
   ],
   "source": [
    "# Show a sample of 5 rows of the DataFrame\n",
    "video_games_reviews.sample(5)"
   ]
  },
  {
   "attachments": {},
   "cell_type": "markdown",
   "metadata": {},
   "source": [
    "#### Information about the table"
   ]
  },
  {
   "cell_type": "code",
   "execution_count": 52,
   "metadata": {},
   "outputs": [
    {
     "data": {
      "text/plain": [
       "{'overall': Float64,\n",
       " 'verified': Boolean,\n",
       " 'reviewTime': Date,\n",
       " 'reviewerID': Utf8,\n",
       " 'asin': Utf8,\n",
       " 'reviewerName': Utf8,\n",
       " 'reviewText': Utf8,\n",
       " 'summary': Utf8,\n",
       " 'unixReviewTime': Int64,\n",
       " 'format': Utf8,\n",
       " 'title': Utf8,\n",
       " 'vote': Utf8}"
      ]
     },
     "execution_count": 52,
     "metadata": {},
     "output_type": "execute_result"
    }
   ],
   "source": [
    "# Schema of the table: column names and types\n",
    "video_games_reviews.schema"
   ]
  },
  {
   "cell_type": "code",
   "execution_count": 53,
   "metadata": {},
   "outputs": [
    {
     "data": {
      "text/plain": [
       "['overall',\n",
       " 'verified',\n",
       " 'reviewTime',\n",
       " 'reviewerID',\n",
       " 'asin',\n",
       " 'reviewerName',\n",
       " 'reviewText',\n",
       " 'summary',\n",
       " 'unixReviewTime',\n",
       " 'format',\n",
       " 'title',\n",
       " 'vote']"
      ]
     },
     "execution_count": 53,
     "metadata": {},
     "output_type": "execute_result"
    }
   ],
   "source": [
    "# Column names\n",
    "video_games_reviews.columns"
   ]
  },
  {
   "cell_type": "code",
   "execution_count": 54,
   "metadata": {},
   "outputs": [
    {
     "data": {
      "text/plain": [
       "[Float64, Boolean, Date, Utf8, Utf8, Utf8, Utf8, Utf8, Int64, Utf8, Utf8, Utf8]"
      ]
     },
     "execution_count": 54,
     "metadata": {},
     "output_type": "execute_result"
    }
   ],
   "source": [
    "# Column data types\n",
    "video_games_reviews.dtypes"
   ]
  },
  {
   "cell_type": "code",
   "execution_count": 55,
   "metadata": {},
   "outputs": [
    {
     "data": {
      "text/plain": [
       "(49577, 12)"
      ]
     },
     "execution_count": 55,
     "metadata": {},
     "output_type": "execute_result"
    }
   ],
   "source": [
    "# Shape of the DataFrame: number of rows and columns\n",
    "video_games_reviews.shape"
   ]
  },
  {
   "cell_type": "code",
   "execution_count": 56,
   "metadata": {},
   "outputs": [
    {
     "data": {
      "text/plain": [
       "49577"
      ]
     },
     "execution_count": 56,
     "metadata": {},
     "output_type": "execute_result"
    }
   ],
   "source": [
    "# Number of rows\n",
    "video_games_reviews.height"
   ]
  },
  {
   "cell_type": "code",
   "execution_count": 57,
   "metadata": {},
   "outputs": [
    {
     "data": {
      "text/plain": [
       "12"
      ]
     },
     "execution_count": 57,
     "metadata": {},
     "output_type": "execute_result"
    }
   ],
   "source": [
    "# Number of columns\n",
    "video_games_reviews.width"
   ]
  },
  {
   "cell_type": "code",
   "execution_count": 58,
   "metadata": {},
   "outputs": [
    {
     "data": {
      "text/html": [
       "<div><style>\n",
       ".dataframe > thead > tr > th,\n",
       ".dataframe > tbody > tr > td {\n",
       "  text-align: right;\n",
       "}\n",
       "</style>\n",
       "<small>shape: (7, 13)</small><table border=\"1\" class=\"dataframe\"><thead><tr><th>describe</th><th>overall</th><th>verified</th><th>reviewTime</th><th>reviewerID</th><th>asin</th><th>reviewerName</th><th>reviewText</th><th>summary</th><th>unixReviewTime</th><th>format</th><th>title</th><th>vote</th></tr><tr><td>str</td><td>f64</td><td>f64</td><td>str</td><td>str</td><td>str</td><td>str</td><td>str</td><td>str</td><td>f64</td><td>str</td><td>str</td><td>str</td></tr></thead><tbody><tr><td>&quot;count&quot;</td><td>49577.0</td><td>49577.0</td><td>&quot;49577&quot;</td><td>&quot;49577&quot;</td><td>&quot;49577&quot;</td><td>&quot;49577&quot;</td><td>&quot;49577&quot;</td><td>&quot;49577&quot;</td><td>49577.0</td><td>&quot;49577&quot;</td><td>&quot;49577&quot;</td><td>&quot;49577&quot;</td></tr><tr><td>&quot;null_count&quot;</td><td>0.0</td><td>0.0</td><td>&quot;0&quot;</td><td>&quot;0&quot;</td><td>&quot;0&quot;</td><td>&quot;10&quot;</td><td>&quot;17&quot;</td><td>&quot;7&quot;</td><td>0.0</td><td>&quot;19825&quot;</td><td>&quot;418&quot;</td><td>&quot;40175&quot;</td></tr><tr><td>&quot;mean&quot;</td><td>4.317345</td><td>0.677108</td><td>null</td><td>null</td><td>null</td><td>null</td><td>null</td><td>null</td><td>1.3893e9</td><td>null</td><td>null</td><td>null</td></tr><tr><td>&quot;std&quot;</td><td>1.16256</td><td>0.467581</td><td>null</td><td>null</td><td>null</td><td>null</td><td>null</td><td>null</td><td>9.3986e7</td><td>null</td><td>null</td><td>null</td></tr><tr><td>&quot;min&quot;</td><td>1.0</td><td>0.0</td><td>&quot;2001-10-01&quot;</td><td>&quot;A0277912HT4JSJ…</td><td>&quot;B00005NZ1G&quot;</td><td>&quot; / King Mecha …</td><td>&quot; batman&quot;</td><td>&quot; AAA Game&quot;</td><td>1.0019e9</td><td>&quot; Card&quot;</td><td>&quot; The Sims 3 - …</td><td>&quot;1,041&quot;</td></tr><tr><td>&quot;max&quot;</td><td>5.0</td><td>1.0</td><td>&quot;2018-08-27&quot;</td><td>&quot;AZZTOUKVTUMVM&quot;</td><td>&quot;B00ZQC73O8&quot;</td><td>&quot;~pw&quot;</td><td>&quot;~PROS~\n",
       "+Fantas…</td><td>&quot;~Xbox or PC; y…</td><td>1.5353e9</td><td>&quot; Video Game&quot;</td><td>&quot;inFAMOUS: Seco…</td><td>&quot;99&quot;</td></tr><tr><td>&quot;median&quot;</td><td>5.0</td><td>1.0</td><td>null</td><td>null</td><td>null</td><td>null</td><td>null</td><td>null</td><td>1.4170e9</td><td>null</td><td>null</td><td>null</td></tr></tbody></table></div>"
      ],
      "text/plain": [
       "shape: (7, 13)\n",
       "┌────────────┬──────────┬──────────┬────────────┬───┬────────────┬────────────┬────────────┬───────┐\n",
       "│ describe   ┆ overall  ┆ verified ┆ reviewTime ┆ … ┆ unixReview ┆ format     ┆ title      ┆ vote  │\n",
       "│ ---        ┆ ---      ┆ ---      ┆ ---        ┆   ┆ Time       ┆ ---        ┆ ---        ┆ ---   │\n",
       "│ str        ┆ f64      ┆ f64      ┆ str        ┆   ┆ ---        ┆ str        ┆ str        ┆ str   │\n",
       "│            ┆          ┆          ┆            ┆   ┆ f64        ┆            ┆            ┆       │\n",
       "╞════════════╪══════════╪══════════╪════════════╪═══╪════════════╪════════════╪════════════╪═══════╡\n",
       "│ count      ┆ 49577.0  ┆ 49577.0  ┆ 49577      ┆ … ┆ 49577.0    ┆ 49577      ┆ 49577      ┆ 49577 │\n",
       "│ null_count ┆ 0.0      ┆ 0.0      ┆ 0          ┆ … ┆ 0.0        ┆ 19825      ┆ 418        ┆ 40175 │\n",
       "│ mean       ┆ 4.317345 ┆ 0.677108 ┆ null       ┆ … ┆ 1.3893e9   ┆ null       ┆ null       ┆ null  │\n",
       "│ std        ┆ 1.16256  ┆ 0.467581 ┆ null       ┆ … ┆ 9.3986e7   ┆ null       ┆ null       ┆ null  │\n",
       "│ min        ┆ 1.0      ┆ 0.0      ┆ 2001-10-01 ┆ … ┆ 1.0019e9   ┆  Card      ┆ The Sims 3 ┆ 1,041 │\n",
       "│            ┆          ┆          ┆            ┆   ┆            ┆            ┆ - PC       ┆       │\n",
       "│ max        ┆ 5.0      ┆ 1.0      ┆ 2018-08-27 ┆ … ┆ 1.5353e9   ┆ Video Game ┆ inFAMOUS:  ┆ 99    │\n",
       "│            ┆          ┆          ┆            ┆   ┆            ┆            ┆ Second Son ┆       │\n",
       "│            ┆          ┆          ┆            ┆   ┆            ┆            ┆ Standard   ┆       │\n",
       "│            ┆          ┆          ┆            ┆   ┆            ┆            ┆ Ed…        ┆       │\n",
       "│ median     ┆ 5.0      ┆ 1.0      ┆ null       ┆ … ┆ 1.4170e9   ┆ null       ┆ null       ┆ null  │\n",
       "└────────────┴──────────┴──────────┴────────────┴───┴────────────┴────────────┴────────────┴───────┘"
      ]
     },
     "execution_count": 58,
     "metadata": {},
     "output_type": "execute_result"
    }
   ],
   "source": [
    "# Visualize statistics about the columns: count, mean, std, min, max, etc.\n",
    "video_games_reviews.describe()"
   ]
  },
  {
   "cell_type": "code",
   "execution_count": 59,
   "metadata": {},
   "outputs": [
    {
     "data": {
      "text/plain": [
       "39.47001934051514"
      ]
     },
     "execution_count": 59,
     "metadata": {},
     "output_type": "execute_result"
    }
   ],
   "source": [
    "# Estimate the memory usage of the DataFrame\n",
    "video_games_reviews.estimated_size('mb')"
   ]
  },
  {
   "cell_type": "markdown",
   "metadata": {},
   "source": [
    "#### Combine multiple methods, and assign a modified dataframe to a new variable"
   ]
  },
  {
   "cell_type": "code",
   "execution_count": 77,
   "metadata": {},
   "outputs": [
    {
     "data": {
      "text/html": [
       "<div><style>\n",
       ".dataframe > thead > tr > th,\n",
       ".dataframe > tbody > tr > td {\n",
       "  text-align: right;\n",
       "}\n",
       "</style>\n",
       "<small>shape: (3, 13)</small><table border=\"1\" class=\"dataframe\"><thead><tr><th>describe</th><th>overall</th><th>verified</th><th>reviewTime</th><th>reviewerID</th><th>asin</th><th>reviewerName</th><th>reviewText</th><th>summary</th><th>unixReviewTime</th><th>format</th><th>title</th><th>vote</th></tr><tr><td>str</td><td>f64</td><td>f64</td><td>str</td><td>str</td><td>str</td><td>str</td><td>str</td><td>str</td><td>f64</td><td>str</td><td>str</td><td>str</td></tr></thead><tbody><tr><td>&quot;count&quot;</td><td>49577.0</td><td>49577.0</td><td>&quot;49577&quot;</td><td>&quot;49577&quot;</td><td>&quot;49577&quot;</td><td>&quot;49577&quot;</td><td>&quot;49577&quot;</td><td>&quot;49577&quot;</td><td>49577.0</td><td>&quot;49577&quot;</td><td>&quot;49577&quot;</td><td>&quot;49577&quot;</td></tr><tr><td>&quot;null_count&quot;</td><td>0.0</td><td>0.0</td><td>&quot;0&quot;</td><td>&quot;0&quot;</td><td>&quot;0&quot;</td><td>&quot;10&quot;</td><td>&quot;17&quot;</td><td>&quot;7&quot;</td><td>0.0</td><td>&quot;19825&quot;</td><td>&quot;418&quot;</td><td>&quot;40175&quot;</td></tr><tr><td>&quot;mean&quot;</td><td>4.317345</td><td>0.677108</td><td>null</td><td>null</td><td>null</td><td>null</td><td>null</td><td>null</td><td>1.3893e9</td><td>null</td><td>null</td><td>null</td></tr></tbody></table></div>"
      ],
      "text/plain": [
       "shape: (3, 13)\n",
       "┌────────────┬──────────┬──────────┬────────────┬───┬────────────────┬────────┬───────┬───────┐\n",
       "│ describe   ┆ overall  ┆ verified ┆ reviewTime ┆ … ┆ unixReviewTime ┆ format ┆ title ┆ vote  │\n",
       "│ ---        ┆ ---      ┆ ---      ┆ ---        ┆   ┆ ---            ┆ ---    ┆ ---   ┆ ---   │\n",
       "│ str        ┆ f64      ┆ f64      ┆ str        ┆   ┆ f64            ┆ str    ┆ str   ┆ str   │\n",
       "╞════════════╪══════════╪══════════╪════════════╪═══╪════════════════╪════════╪═══════╪═══════╡\n",
       "│ count      ┆ 49577.0  ┆ 49577.0  ┆ 49577      ┆ … ┆ 49577.0        ┆ 49577  ┆ 49577 ┆ 49577 │\n",
       "│ null_count ┆ 0.0      ┆ 0.0      ┆ 0          ┆ … ┆ 0.0            ┆ 19825  ┆ 418   ┆ 40175 │\n",
       "│ mean       ┆ 4.317345 ┆ 0.677108 ┆ null       ┆ … ┆ 1.3893e9       ┆ null   ┆ null  ┆ null  │\n",
       "└────────────┴──────────┴──────────┴────────────┴───┴────────────────┴────────┴───────┴───────┘"
      ]
     },
     "execution_count": 77,
     "metadata": {},
     "output_type": "execute_result"
    }
   ],
   "source": [
    "# Visualize statistics, and show only the first 3 rows\n",
    "video_games_reviews.describe().head(3)"
   ]
  },
  {
   "cell_type": "code",
   "execution_count": 79,
   "metadata": {},
   "outputs": [],
   "source": [
    "# Assign the description of the DataFrame to a variable called video_games_description\n",
    "video_games_description = video_games_reviews.describe()"
   ]
  },
  {
   "cell_type": "code",
   "execution_count": 80,
   "metadata": {},
   "outputs": [
    {
     "data": {
      "text/html": [
       "<div><style>\n",
       ".dataframe > thead > tr > th,\n",
       ".dataframe > tbody > tr > td {\n",
       "  text-align: right;\n",
       "}\n",
       "</style>\n",
       "<small>shape: (7, 13)</small><table border=\"1\" class=\"dataframe\"><thead><tr><th>describe</th><th>overall</th><th>verified</th><th>reviewTime</th><th>reviewerID</th><th>asin</th><th>reviewerName</th><th>reviewText</th><th>summary</th><th>unixReviewTime</th><th>format</th><th>title</th><th>vote</th></tr><tr><td>str</td><td>f64</td><td>f64</td><td>str</td><td>str</td><td>str</td><td>str</td><td>str</td><td>str</td><td>f64</td><td>str</td><td>str</td><td>str</td></tr></thead><tbody><tr><td>&quot;count&quot;</td><td>49577.0</td><td>49577.0</td><td>&quot;49577&quot;</td><td>&quot;49577&quot;</td><td>&quot;49577&quot;</td><td>&quot;49577&quot;</td><td>&quot;49577&quot;</td><td>&quot;49577&quot;</td><td>49577.0</td><td>&quot;49577&quot;</td><td>&quot;49577&quot;</td><td>&quot;49577&quot;</td></tr><tr><td>&quot;null_count&quot;</td><td>0.0</td><td>0.0</td><td>&quot;0&quot;</td><td>&quot;0&quot;</td><td>&quot;0&quot;</td><td>&quot;10&quot;</td><td>&quot;17&quot;</td><td>&quot;7&quot;</td><td>0.0</td><td>&quot;19825&quot;</td><td>&quot;418&quot;</td><td>&quot;40175&quot;</td></tr><tr><td>&quot;mean&quot;</td><td>4.317345</td><td>0.677108</td><td>null</td><td>null</td><td>null</td><td>null</td><td>null</td><td>null</td><td>1.3893e9</td><td>null</td><td>null</td><td>null</td></tr><tr><td>&quot;std&quot;</td><td>1.16256</td><td>0.467581</td><td>null</td><td>null</td><td>null</td><td>null</td><td>null</td><td>null</td><td>9.3986e7</td><td>null</td><td>null</td><td>null</td></tr><tr><td>&quot;min&quot;</td><td>1.0</td><td>0.0</td><td>&quot;2001-10-01&quot;</td><td>&quot;A0277912HT4JSJ…</td><td>&quot;B00005NZ1G&quot;</td><td>&quot; / King Mecha …</td><td>&quot; batman&quot;</td><td>&quot; AAA Game&quot;</td><td>1.0019e9</td><td>&quot; Card&quot;</td><td>&quot; The Sims 3 - …</td><td>&quot;1,041&quot;</td></tr><tr><td>&quot;max&quot;</td><td>5.0</td><td>1.0</td><td>&quot;2018-08-27&quot;</td><td>&quot;AZZTOUKVTUMVM&quot;</td><td>&quot;B00ZQC73O8&quot;</td><td>&quot;~pw&quot;</td><td>&quot;~PROS~\n",
       "+Fantas…</td><td>&quot;~Xbox or PC; y…</td><td>1.5353e9</td><td>&quot; Video Game&quot;</td><td>&quot;inFAMOUS: Seco…</td><td>&quot;99&quot;</td></tr><tr><td>&quot;median&quot;</td><td>5.0</td><td>1.0</td><td>null</td><td>null</td><td>null</td><td>null</td><td>null</td><td>null</td><td>1.4170e9</td><td>null</td><td>null</td><td>null</td></tr></tbody></table></div>"
      ],
      "text/plain": [
       "shape: (7, 13)\n",
       "┌────────────┬──────────┬──────────┬────────────┬───┬────────────┬────────────┬────────────┬───────┐\n",
       "│ describe   ┆ overall  ┆ verified ┆ reviewTime ┆ … ┆ unixReview ┆ format     ┆ title      ┆ vote  │\n",
       "│ ---        ┆ ---      ┆ ---      ┆ ---        ┆   ┆ Time       ┆ ---        ┆ ---        ┆ ---   │\n",
       "│ str        ┆ f64      ┆ f64      ┆ str        ┆   ┆ ---        ┆ str        ┆ str        ┆ str   │\n",
       "│            ┆          ┆          ┆            ┆   ┆ f64        ┆            ┆            ┆       │\n",
       "╞════════════╪══════════╪══════════╪════════════╪═══╪════════════╪════════════╪════════════╪═══════╡\n",
       "│ count      ┆ 49577.0  ┆ 49577.0  ┆ 49577      ┆ … ┆ 49577.0    ┆ 49577      ┆ 49577      ┆ 49577 │\n",
       "│ null_count ┆ 0.0      ┆ 0.0      ┆ 0          ┆ … ┆ 0.0        ┆ 19825      ┆ 418        ┆ 40175 │\n",
       "│ mean       ┆ 4.317345 ┆ 0.677108 ┆ null       ┆ … ┆ 1.3893e9   ┆ null       ┆ null       ┆ null  │\n",
       "│ std        ┆ 1.16256  ┆ 0.467581 ┆ null       ┆ … ┆ 9.3986e7   ┆ null       ┆ null       ┆ null  │\n",
       "│ min        ┆ 1.0      ┆ 0.0      ┆ 2001-10-01 ┆ … ┆ 1.0019e9   ┆  Card      ┆ The Sims 3 ┆ 1,041 │\n",
       "│            ┆          ┆          ┆            ┆   ┆            ┆            ┆ - PC       ┆       │\n",
       "│ max        ┆ 5.0      ┆ 1.0      ┆ 2018-08-27 ┆ … ┆ 1.5353e9   ┆ Video Game ┆ inFAMOUS:  ┆ 99    │\n",
       "│            ┆          ┆          ┆            ┆   ┆            ┆            ┆ Second Son ┆       │\n",
       "│            ┆          ┆          ┆            ┆   ┆            ┆            ┆ Standard   ┆       │\n",
       "│            ┆          ┆          ┆            ┆   ┆            ┆            ┆ Ed…        ┆       │\n",
       "│ median     ┆ 5.0      ┆ 1.0      ┆ null       ┆ … ┆ 1.4170e9   ┆ null       ┆ null       ┆ null  │\n",
       "└────────────┴──────────┴──────────┴────────────┴───┴────────────┴────────────┴────────────┴───────┘"
      ]
     },
     "execution_count": 80,
     "metadata": {},
     "output_type": "execute_result"
    }
   ],
   "source": [
    "# Show the new variable\n",
    "video_games_description"
   ]
  },
  {
   "attachments": {},
   "cell_type": "markdown",
   "metadata": {},
   "source": [
    "#### Sort and add a row number"
   ]
  },
  {
   "cell_type": "code",
   "execution_count": 65,
   "metadata": {},
   "outputs": [
    {
     "data": {
      "text/html": [
       "<div><style>\n",
       ".dataframe > thead > tr > th,\n",
       ".dataframe > tbody > tr > td {\n",
       "  text-align: right;\n",
       "}\n",
       "</style>\n",
       "<small>shape: (2, 12)</small><table border=\"1\" class=\"dataframe\"><thead><tr><th>overall</th><th>verified</th><th>reviewTime</th><th>reviewerID</th><th>asin</th><th>reviewerName</th><th>reviewText</th><th>summary</th><th>unixReviewTime</th><th>format</th><th>title</th><th>vote</th></tr><tr><td>f64</td><td>bool</td><td>date</td><td>str</td><td>str</td><td>str</td><td>str</td><td>str</td><td>i64</td><td>str</td><td>str</td><td>str</td></tr></thead><tbody><tr><td>5.0</td><td>true</td><td>2018-08-27</td><td>&quot;A1AZDI7EFITC3B…</td><td>&quot;B00Z7V9P8K&quot;</td><td>&quot;That Guy Dave&quot;</td><td>&quot;Was good but I…</td><td>&quot;Nice game&quot;</td><td>1535328000</td><td>null</td><td>&quot;Batman: Arkham…</td><td>null</td></tr><tr><td>5.0</td><td>true</td><td>2018-08-14</td><td>&quot;A37VAR0CYRK1EW…</td><td>&quot;B00VU4J13W&quot;</td><td>&quot;Shane37&quot;</td><td>&quot;Great game&quot;</td><td>&quot;Best cod&quot;</td><td>1534204800</td><td>&quot; Video Game&quot;</td><td>&quot;Call of Duty: …</td><td>null</td></tr></tbody></table></div>"
      ],
      "text/plain": [
       "shape: (2, 12)\n",
       "┌─────────┬──────────┬────────────┬─────────────┬───┬────────────┬─────────────┬────────────┬──────┐\n",
       "│ overall ┆ verified ┆ reviewTime ┆ reviewerID  ┆ … ┆ unixReview ┆ format      ┆ title      ┆ vote │\n",
       "│ ---     ┆ ---      ┆ ---        ┆ ---         ┆   ┆ Time       ┆ ---         ┆ ---        ┆ ---  │\n",
       "│ f64     ┆ bool     ┆ date       ┆ str         ┆   ┆ ---        ┆ str         ┆ str        ┆ str  │\n",
       "│         ┆          ┆            ┆             ┆   ┆ i64        ┆             ┆            ┆      │\n",
       "╞═════════╪══════════╪════════════╪═════════════╪═══╪════════════╪═════════════╪════════════╪══════╡\n",
       "│ 5.0     ┆ true     ┆ 2018-08-27 ┆ A1AZDI7EFIT ┆ … ┆ 1535328000 ┆ null        ┆ Batman:    ┆ null │\n",
       "│         ┆          ┆            ┆ C3B         ┆   ┆            ┆             ┆ Arkham     ┆      │\n",
       "│         ┆          ┆            ┆             ┆   ┆            ┆             ┆ Knight -   ┆      │\n",
       "│         ┆          ┆            ┆             ┆   ┆            ┆             ┆ PlayStat…  ┆      │\n",
       "│ 5.0     ┆ true     ┆ 2018-08-14 ┆ A37VAR0CYRK ┆ … ┆ 1534204800 ┆  Video Game ┆ Call of    ┆ null │\n",
       "│         ┆          ┆            ┆ 1EW         ┆   ┆            ┆             ┆ Duty:      ┆      │\n",
       "│         ┆          ┆            ┆             ┆   ┆            ┆             ┆ Black Ops  ┆      │\n",
       "│         ┆          ┆            ┆             ┆   ┆            ┆             ┆ III - St…  ┆      │\n",
       "└─────────┴──────────┴────────────┴─────────────┴───┴────────────┴─────────────┴────────────┴──────┘"
      ]
     },
     "execution_count": 65,
     "metadata": {},
     "output_type": "execute_result"
    }
   ],
   "source": [
    "# Sort the DataFrame by the time of review in descending order and show the first 2 rows\n",
    "video_games_reviews.sort('reviewTime', descending=True).head(2)"
   ]
  },
  {
   "cell_type": "code",
   "execution_count": 68,
   "metadata": {},
   "outputs": [
    {
     "data": {
      "text/html": [
       "<div><style>\n",
       ".dataframe > thead > tr > th,\n",
       ".dataframe > tbody > tr > td {\n",
       "  text-align: right;\n",
       "}\n",
       "</style>\n",
       "<small>shape: (2, 12)</small><table border=\"1\" class=\"dataframe\"><thead><tr><th>overall</th><th>verified</th><th>reviewTime</th><th>reviewerID</th><th>asin</th><th>reviewerName</th><th>reviewText</th><th>summary</th><th>unixReviewTime</th><th>format</th><th>title</th><th>vote</th></tr><tr><td>f64</td><td>bool</td><td>date</td><td>str</td><td>str</td><td>str</td><td>str</td><td>str</td><td>i64</td><td>str</td><td>str</td><td>str</td></tr></thead><tbody><tr><td>5.0</td><td>false</td><td>2001-10-01</td><td>&quot;A1HCSJRA2FQ6B7…</td><td>&quot;B00005NZ1G&quot;</td><td>&quot;Amazon Custome…</td><td>&quot;Forget all you…</td><td>&quot;I Know this ga…</td><td>1001894400</td><td>&quot; Video Game&quot;</td><td>&quot;Halo - Xbox&quot;</td><td>null</td></tr><tr><td>5.0</td><td>false</td><td>2001-10-01</td><td>&quot;A1HCSJRA2FQ6B7…</td><td>&quot;B00005NZ1G&quot;</td><td>&quot;Amazon Custome…</td><td>&quot;Forget all you…</td><td>&quot;I Know this ga…</td><td>1001894400</td><td>&quot; Video Game&quot;</td><td>&quot;Halo - Xbox&quot;</td><td>null</td></tr></tbody></table></div>"
      ],
      "text/plain": [
       "shape: (2, 12)\n",
       "┌─────────┬──────────┬────────────┬───────────────┬───┬────────────┬───────────────┬────────┬──────┐\n",
       "│ overall ┆ verified ┆ reviewTime ┆ reviewerID    ┆ … ┆ unixReview ┆ format        ┆ title  ┆ vote │\n",
       "│ ---     ┆ ---      ┆ ---        ┆ ---           ┆   ┆ Time       ┆ ---           ┆ ---    ┆ ---  │\n",
       "│ f64     ┆ bool     ┆ date       ┆ str           ┆   ┆ ---        ┆ str           ┆ str    ┆ str  │\n",
       "│         ┆          ┆            ┆               ┆   ┆ i64        ┆               ┆        ┆      │\n",
       "╞═════════╪══════════╪════════════╪═══════════════╪═══╪════════════╪═══════════════╪════════╪══════╡\n",
       "│ 5.0     ┆ false    ┆ 2001-10-01 ┆ A1HCSJRA2FQ6B ┆ … ┆ 1001894400 ┆  Video Game   ┆ Halo - ┆ null │\n",
       "│         ┆          ┆            ┆ 7             ┆   ┆            ┆               ┆ Xbox   ┆      │\n",
       "│ 5.0     ┆ false    ┆ 2001-10-01 ┆ A1HCSJRA2FQ6B ┆ … ┆ 1001894400 ┆  Video Game   ┆ Halo - ┆ null │\n",
       "│         ┆          ┆            ┆ 7             ┆   ┆            ┆               ┆ Xbox   ┆      │\n",
       "└─────────┴──────────┴────────────┴───────────────┴───┴────────────┴───────────────┴────────┴──────┘"
      ]
     },
     "execution_count": 68,
     "metadata": {},
     "output_type": "execute_result"
    }
   ],
   "source": [
    "# Sort the DataFrame by the time of review in ascending order and show the first 2 rows\n",
    "video_games_reviews.sort('reviewTime', descending=False).head(2)"
   ]
  },
  {
   "cell_type": "code",
   "execution_count": 73,
   "metadata": {},
   "outputs": [
    {
     "data": {
      "text/html": [
       "<div><style>\n",
       ".dataframe > thead > tr > th,\n",
       ".dataframe > tbody > tr > td {\n",
       "  text-align: right;\n",
       "}\n",
       "</style>\n",
       "<small>shape: (2, 12)</small><table border=\"1\" class=\"dataframe\"><thead><tr><th>overall</th><th>verified</th><th>reviewTime</th><th>reviewerID</th><th>asin</th><th>reviewerName</th><th>reviewText</th><th>summary</th><th>unixReviewTime</th><th>format</th><th>title</th><th>vote</th></tr><tr><td>f64</td><td>bool</td><td>date</td><td>str</td><td>str</td><td>str</td><td>str</td><td>str</td><td>i64</td><td>str</td><td>str</td><td>str</td></tr></thead><tbody><tr><td>5.0</td><td>true</td><td>2018-03-02</td><td>&quot;A3SHBPUE1RZFON…</td><td>&quot;B00005NZ1G&quot;</td><td>&quot;pedro&quot;</td><td>&quot;awesome game.&quot;</td><td>&quot;Five Stars&quot;</td><td>1519948800</td><td>&quot; Video Game&quot;</td><td>&quot;Halo - Xbox&quot;</td><td>null</td></tr><tr><td>5.0</td><td>true</td><td>2018-03-02</td><td>&quot;A3SHBPUE1RZFON…</td><td>&quot;B00005NZ1G&quot;</td><td>&quot;pedro&quot;</td><td>&quot;awesome game.&quot;</td><td>&quot;Five Stars&quot;</td><td>1519948800</td><td>&quot; Video Game&quot;</td><td>&quot;Halo - Xbox&quot;</td><td>null</td></tr></tbody></table></div>"
      ],
      "text/plain": [
       "shape: (2, 12)\n",
       "┌─────────┬──────────┬────────────┬───────────────┬───┬────────────┬───────────────┬────────┬──────┐\n",
       "│ overall ┆ verified ┆ reviewTime ┆ reviewerID    ┆ … ┆ unixReview ┆ format        ┆ title  ┆ vote │\n",
       "│ ---     ┆ ---      ┆ ---        ┆ ---           ┆   ┆ Time       ┆ ---           ┆ ---    ┆ ---  │\n",
       "│ f64     ┆ bool     ┆ date       ┆ str           ┆   ┆ ---        ┆ str           ┆ str    ┆ str  │\n",
       "│         ┆          ┆            ┆               ┆   ┆ i64        ┆               ┆        ┆      │\n",
       "╞═════════╪══════════╪════════════╪═══════════════╪═══╪════════════╪═══════════════╪════════╪══════╡\n",
       "│ 5.0     ┆ true     ┆ 2018-03-02 ┆ A3SHBPUE1RZFO ┆ … ┆ 1519948800 ┆  Video Game   ┆ Halo - ┆ null │\n",
       "│         ┆          ┆            ┆ N             ┆   ┆            ┆               ┆ Xbox   ┆      │\n",
       "│ 5.0     ┆ true     ┆ 2018-03-02 ┆ A3SHBPUE1RZFO ┆ … ┆ 1519948800 ┆  Video Game   ┆ Halo - ┆ null │\n",
       "│         ┆          ┆            ┆ N             ┆   ┆            ┆               ┆ Xbox   ┆      │\n",
       "└─────────┴──────────┴────────────┴───────────────┴───┴────────────┴───────────────┴────────┴──────┘"
      ]
     },
     "execution_count": 73,
     "metadata": {},
     "output_type": "execute_result"
    }
   ],
   "source": [
    "# Sort the DataFrame by the video game code (asin) in ascending order and by the time of review in descending order\n",
    "video_games_reviews.sort(['asin','reviewTime'], descending=[False, True]).head(2)"
   ]
  },
  {
   "cell_type": "code",
   "execution_count": 71,
   "metadata": {},
   "outputs": [
    {
     "data": {
      "text/html": [
       "<div><style>\n",
       ".dataframe > thead > tr > th,\n",
       ".dataframe > tbody > tr > td {\n",
       "  text-align: right;\n",
       "}\n",
       "</style>\n",
       "<small>shape: (5, 13)</small><table border=\"1\" class=\"dataframe\"><thead><tr><th>row_nr</th><th>overall</th><th>verified</th><th>reviewTime</th><th>reviewerID</th><th>asin</th><th>reviewerName</th><th>reviewText</th><th>summary</th><th>unixReviewTime</th><th>format</th><th>title</th><th>vote</th></tr><tr><td>u32</td><td>f64</td><td>bool</td><td>date</td><td>str</td><td>str</td><td>str</td><td>str</td><td>str</td><td>i64</td><td>str</td><td>str</td><td>str</td></tr></thead><tbody><tr><td>0</td><td>5.0</td><td>false</td><td>2001-10-01</td><td>&quot;A1HCSJRA2FQ6B7…</td><td>&quot;B00005NZ1G&quot;</td><td>&quot;Amazon Custome…</td><td>&quot;Forget all you…</td><td>&quot;I Know this ga…</td><td>1001894400</td><td>&quot; Video Game&quot;</td><td>&quot;Halo - Xbox&quot;</td><td>null</td></tr><tr><td>1</td><td>5.0</td><td>false</td><td>2001-10-01</td><td>&quot;A1HCSJRA2FQ6B7…</td><td>&quot;B00005NZ1G&quot;</td><td>&quot;Amazon Custome…</td><td>&quot;Forget all you…</td><td>&quot;I Know this ga…</td><td>1001894400</td><td>&quot; Video Game&quot;</td><td>&quot;Halo - Xbox&quot;</td><td>null</td></tr><tr><td>2</td><td>4.0</td><td>true</td><td>2017-08-25</td><td>&quot;A36NHTSGO54XFM…</td><td>&quot;B00005NZ1G&quot;</td><td>&quot;guillermo&quot;</td><td>&quot;Not the best i…</td><td>&quot;Four Stars&quot;</td><td>1503619200</td><td>null</td><td>&quot;Halo - Xbox&quot;</td><td>null</td></tr><tr><td>3</td><td>4.0</td><td>true</td><td>2017-08-25</td><td>&quot;A36NHTSGO54XFM…</td><td>&quot;B00005NZ1G&quot;</td><td>&quot;guillermo&quot;</td><td>&quot;Not the best i…</td><td>&quot;Four Stars&quot;</td><td>1503619200</td><td>null</td><td>&quot;Halo - Xbox&quot;</td><td>null</td></tr><tr><td>4</td><td>5.0</td><td>true</td><td>2017-05-16</td><td>&quot;ATO3ORPBW7A2S&quot;</td><td>&quot;B00005NZ1G&quot;</td><td>&quot;Nathan Carey&quot;</td><td>&quot;Can&#x27;t go wrong…</td><td>&quot;Back To The OG…</td><td>1494892800</td><td>&quot; Video Game&quot;</td><td>&quot;Halo - Xbox&quot;</td><td>null</td></tr></tbody></table></div>"
      ],
      "text/plain": [
       "shape: (5, 13)\n",
       "┌────────┬─────────┬──────────┬────────────┬───┬────────────────┬─────────────┬─────────────┬──────┐\n",
       "│ row_nr ┆ overall ┆ verified ┆ reviewTime ┆ … ┆ unixReviewTime ┆ format      ┆ title       ┆ vote │\n",
       "│ ---    ┆ ---     ┆ ---      ┆ ---        ┆   ┆ ---            ┆ ---         ┆ ---         ┆ ---  │\n",
       "│ u32    ┆ f64     ┆ bool     ┆ date       ┆   ┆ i64            ┆ str         ┆ str         ┆ str  │\n",
       "╞════════╪═════════╪══════════╪════════════╪═══╪════════════════╪═════════════╪═════════════╪══════╡\n",
       "│ 0      ┆ 5.0     ┆ false    ┆ 2001-10-01 ┆ … ┆ 1001894400     ┆  Video Game ┆ Halo - Xbox ┆ null │\n",
       "│ 1      ┆ 5.0     ┆ false    ┆ 2001-10-01 ┆ … ┆ 1001894400     ┆  Video Game ┆ Halo - Xbox ┆ null │\n",
       "│ 2      ┆ 4.0     ┆ true     ┆ 2017-08-25 ┆ … ┆ 1503619200     ┆ null        ┆ Halo - Xbox ┆ null │\n",
       "│ 3      ┆ 4.0     ┆ true     ┆ 2017-08-25 ┆ … ┆ 1503619200     ┆ null        ┆ Halo - Xbox ┆ null │\n",
       "│ 4      ┆ 5.0     ┆ true     ┆ 2017-05-16 ┆ … ┆ 1494892800     ┆  Video Game ┆ Halo - Xbox ┆ null │\n",
       "└────────┴─────────┴──────────┴────────────┴───┴────────────────┴─────────────┴─────────────┴──────┘"
      ]
     },
     "execution_count": 71,
     "metadata": {},
     "output_type": "execute_result"
    }
   ],
   "source": [
    "# Add a row number to the dataframe\n",
    "video_games_reviews.with_row_count().head(5)"
   ]
  },
  {
   "attachments": {},
   "cell_type": "markdown",
   "metadata": {},
   "source": [
    "#### Select and rename columns"
   ]
  },
  {
   "cell_type": "code",
   "execution_count": null,
   "metadata": {},
   "outputs": [],
   "source": []
  },
  {
   "cell_type": "code",
   "execution_count": null,
   "metadata": {},
   "outputs": [],
   "source": []
  }
 ],
 "metadata": {
  "kernelspec": {
   "display_name": "Python 3",
   "language": "python",
   "name": "python3"
  },
  "language_info": {
   "codemirror_mode": {
    "name": "ipython",
    "version": 3
   },
   "file_extension": ".py",
   "mimetype": "text/x-python",
   "name": "python",
   "nbconvert_exporter": "python",
   "pygments_lexer": "ipython3",
   "version": "3.11.0"
  },
  "orig_nbformat": 4,
  "vscode": {
   "interpreter": {
    "hash": "c823e8cd4eb93d0837f70656db2757dcd2f793adbe4317f23abcc1abff9ce7b8"
   }
  }
 },
 "nbformat": 4,
 "nbformat_minor": 2
}
