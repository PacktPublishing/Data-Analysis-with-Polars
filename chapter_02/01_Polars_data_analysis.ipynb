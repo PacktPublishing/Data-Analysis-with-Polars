{
 "cells": [
  {
   "attachments": {},
   "cell_type": "markdown",
   "metadata": {},
   "source": [
    "### Polars data analysis and transformation"
   ]
  },
  {
   "attachments": {},
   "cell_type": "markdown",
   "metadata": {},
   "source": [
    "The examples below use `.head()` to reduce the output to a few rows and take up less space.\n",
    "If you want the full output, remove `.head()` from the code\n",
    "\n",
    "This notebooked is divided into sections. If your code editor supports it, you can use the **Outline** functionality to easily go to the code section you are interested in.\n",
    "\n",
    "For more details, check out the Polars API reference: https://pola-rs.github.io/polars/py-polars/html/reference/index.html"
   ]
  },
  {
   "cell_type": "code",
   "execution_count": 3,
   "metadata": {},
   "outputs": [],
   "source": [
    "import polars as pl"
   ]
  },
  {
   "cell_type": "code",
   "execution_count": 4,
   "metadata": {},
   "outputs": [],
   "source": [
    "# load a JSON file to a Polars DataFrame\n",
    "video_games_reviews = pl.read_csv('../datasets/reviews_videogames_350_simplified.csv', infer_schema_length=10000, try_parse_dates=True)"
   ]
  },
  {
   "cell_type": "code",
   "execution_count": 5,
   "metadata": {},
   "outputs": [
    {
     "data": {
      "text/plain": [
       "polars.config.Config"
      ]
     },
     "execution_count": 5,
     "metadata": {},
     "output_type": "execute_result"
    }
   ],
   "source": [
    "# Configure the number of characters to show for each string column\n",
    "pl.Config.set_fmt_str_lengths(15)"
   ]
  },
  {
   "attachments": {},
   "cell_type": "markdown",
   "metadata": {},
   "source": [
    "#### Select a few rows of data"
   ]
  },
  {
   "cell_type": "code",
   "execution_count": 6,
   "metadata": {},
   "outputs": [
    {
     "data": {
      "text/html": [
       "<div><style>\n",
       ".dataframe > thead > tr > th,\n",
       ".dataframe > tbody > tr > td {\n",
       "  text-align: right;\n",
       "}\n",
       "</style>\n",
       "<small>shape: (2, 4)</small><table border=\"1\" class=\"dataframe\"><thead><tr><th>title</th><th>rating</th><th>review_date</th><th>review_text</th></tr><tr><td>str</td><td>f64</td><td>date</td><td>str</td></tr></thead><tbody><tr><td>&quot;Killzone: Shad…</td><td>5.0</td><td>2016-12-02</td><td>&quot;First time hav…</td></tr><tr><td>&quot;Resident Evil …</td><td>5.0</td><td>2014-07-29</td><td>&quot;good&quot;</td></tr></tbody></table></div>"
      ],
      "text/plain": [
       "shape: (2, 4)\n",
       "┌──────────────────┬────────┬─────────────┬──────────────────┐\n",
       "│ title            ┆ rating ┆ review_date ┆ review_text      │\n",
       "│ ---              ┆ ---    ┆ ---         ┆ ---              │\n",
       "│ str              ┆ f64    ┆ date        ┆ str              │\n",
       "╞══════════════════╪════════╪═════════════╪══════════════════╡\n",
       "│ Killzone: Shado… ┆ 5.0    ┆ 2016-12-02  ┆ First time havi… │\n",
       "│ Resident Evil 5… ┆ 5.0    ┆ 2014-07-29  ┆ good             │\n",
       "└──────────────────┴────────┴─────────────┴──────────────────┘"
      ]
     },
     "execution_count": 6,
     "metadata": {},
     "output_type": "execute_result"
    }
   ],
   "source": [
    "# Show the first 5 rows of the DataFrame\n",
    "# We will use head extensively to show few rows of a dataframe\n",
    "video_games_reviews.head(2)"
   ]
  },
  {
   "cell_type": "code",
   "execution_count": 7,
   "metadata": {},
   "outputs": [
    {
     "data": {
      "text/html": [
       "<div><style>\n",
       ".dataframe > thead > tr > th,\n",
       ".dataframe > tbody > tr > td {\n",
       "  text-align: right;\n",
       "}\n",
       "</style>\n",
       "<small>shape: (2, 4)</small><table border=\"1\" class=\"dataframe\"><thead><tr><th>title</th><th>rating</th><th>review_date</th><th>review_text</th></tr><tr><td>str</td><td>f64</td><td>date</td><td>str</td></tr></thead><tbody><tr><td>&quot;Grand Theft Au…</td><td>5.0</td><td>2015-12-03</td><td>&quot;Fantastic game…</td></tr><tr><td>&quot;Resident Evil …</td><td>5.0</td><td>2013-03-06</td><td>&quot;muy buen produ…</td></tr></tbody></table></div>"
      ],
      "text/plain": [
       "shape: (2, 4)\n",
       "┌──────────────────┬────────┬─────────────┬──────────────────┐\n",
       "│ title            ┆ rating ┆ review_date ┆ review_text      │\n",
       "│ ---              ┆ ---    ┆ ---         ┆ ---              │\n",
       "│ str              ┆ f64    ┆ date        ┆ str              │\n",
       "╞══════════════════╪════════╪═════════════╪══════════════════╡\n",
       "│ Grand Theft Aut… ┆ 5.0    ┆ 2015-12-03  ┆ Fantastic game.… │\n",
       "│ Resident Evil 5… ┆ 5.0    ┆ 2013-03-06  ┆ muy buen produc… │\n",
       "└──────────────────┴────────┴─────────────┴──────────────────┘"
      ]
     },
     "execution_count": 7,
     "metadata": {},
     "output_type": "execute_result"
    }
   ],
   "source": [
    "# Show the last 5 rows of the DataFrame\n",
    "video_games_reviews.tail(2)"
   ]
  },
  {
   "cell_type": "code",
   "execution_count": 8,
   "metadata": {},
   "outputs": [
    {
     "data": {
      "text/html": [
       "<div><style>\n",
       ".dataframe > thead > tr > th,\n",
       ".dataframe > tbody > tr > td {\n",
       "  text-align: right;\n",
       "}\n",
       "</style>\n",
       "<small>shape: (2, 4)</small><table border=\"1\" class=\"dataframe\"><thead><tr><th>title</th><th>rating</th><th>review_date</th><th>review_text</th></tr><tr><td>str</td><td>f64</td><td>date</td><td>str</td></tr></thead><tbody><tr><td>&quot;Mass Effect - …</td><td>1.0</td><td>2008-10-14</td><td>&quot;Buyer beware -…</td></tr><tr><td>&quot;Wii Fit Game w…</td><td>5.0</td><td>2009-01-02</td><td>&quot;Our family has…</td></tr></tbody></table></div>"
      ],
      "text/plain": [
       "shape: (2, 4)\n",
       "┌──────────────────┬────────┬─────────────┬──────────────────┐\n",
       "│ title            ┆ rating ┆ review_date ┆ review_text      │\n",
       "│ ---              ┆ ---    ┆ ---         ┆ ---              │\n",
       "│ str              ┆ f64    ┆ date        ┆ str              │\n",
       "╞══════════════════╪════════╪═════════════╪══════════════════╡\n",
       "│ Mass Effect - P… ┆ 1.0    ┆ 2008-10-14  ┆ Buyer beware - … │\n",
       "│ Wii Fit Game wi… ┆ 5.0    ┆ 2009-01-02  ┆ Our family has … │\n",
       "└──────────────────┴────────┴─────────────┴──────────────────┘"
      ]
     },
     "execution_count": 8,
     "metadata": {},
     "output_type": "execute_result"
    }
   ],
   "source": [
    "# Show a sample of 5 rows of the DataFrame\n",
    "video_games_reviews.sample(2)"
   ]
  },
  {
   "attachments": {},
   "cell_type": "markdown",
   "metadata": {},
   "source": [
    "#### Information about the table"
   ]
  },
  {
   "cell_type": "code",
   "execution_count": 9,
   "metadata": {},
   "outputs": [
    {
     "data": {
      "text/plain": [
       "{'title': Utf8, 'rating': Float64, 'review_date': Date, 'review_text': Utf8}"
      ]
     },
     "execution_count": 9,
     "metadata": {},
     "output_type": "execute_result"
    }
   ],
   "source": [
    "# Schema of the table: column names and types\n",
    "video_games_reviews.schema"
   ]
  },
  {
   "cell_type": "code",
   "execution_count": 10,
   "metadata": {},
   "outputs": [
    {
     "data": {
      "text/plain": [
       "['title', 'rating', 'review_date', 'review_text']"
      ]
     },
     "execution_count": 10,
     "metadata": {},
     "output_type": "execute_result"
    }
   ],
   "source": [
    "# Column names\n",
    "video_games_reviews.columns"
   ]
  },
  {
   "cell_type": "code",
   "execution_count": 11,
   "metadata": {},
   "outputs": [
    {
     "data": {
      "text/plain": [
       "[Utf8, Float64, Date, Utf8]"
      ]
     },
     "execution_count": 11,
     "metadata": {},
     "output_type": "execute_result"
    }
   ],
   "source": [
    "# Column data types\n",
    "video_games_reviews.dtypes"
   ]
  },
  {
   "cell_type": "code",
   "execution_count": 12,
   "metadata": {},
   "outputs": [
    {
     "data": {
      "text/plain": [
       "(49577, 4)"
      ]
     },
     "execution_count": 12,
     "metadata": {},
     "output_type": "execute_result"
    }
   ],
   "source": [
    "# Shape of the DataFrame: number of rows and columns\n",
    "video_games_reviews.shape"
   ]
  },
  {
   "cell_type": "code",
   "execution_count": 13,
   "metadata": {},
   "outputs": [
    {
     "data": {
      "text/plain": [
       "49577"
      ]
     },
     "execution_count": 13,
     "metadata": {},
     "output_type": "execute_result"
    }
   ],
   "source": [
    "# Number of rows\n",
    "video_games_reviews.height"
   ]
  },
  {
   "cell_type": "code",
   "execution_count": 14,
   "metadata": {},
   "outputs": [
    {
     "data": {
      "text/plain": [
       "4"
      ]
     },
     "execution_count": 14,
     "metadata": {},
     "output_type": "execute_result"
    }
   ],
   "source": [
    "# Number of columns\n",
    "video_games_reviews.width"
   ]
  },
  {
   "cell_type": "code",
   "execution_count": 15,
   "metadata": {},
   "outputs": [
    {
     "data": {
      "text/html": [
       "<div><style>\n",
       ".dataframe > thead > tr > th,\n",
       ".dataframe > tbody > tr > td {\n",
       "  text-align: right;\n",
       "}\n",
       "</style>\n",
       "<small>shape: (7, 5)</small><table border=\"1\" class=\"dataframe\"><thead><tr><th>describe</th><th>title</th><th>rating</th><th>review_date</th><th>review_text</th></tr><tr><td>str</td><td>str</td><td>f64</td><td>str</td><td>str</td></tr></thead><tbody><tr><td>&quot;count&quot;</td><td>&quot;49577&quot;</td><td>49577.0</td><td>&quot;49577&quot;</td><td>&quot;49577&quot;</td></tr><tr><td>&quot;null_count&quot;</td><td>&quot;418&quot;</td><td>0.0</td><td>&quot;0&quot;</td><td>&quot;17&quot;</td></tr><tr><td>&quot;mean&quot;</td><td>null</td><td>4.317345</td><td>null</td><td>null</td></tr><tr><td>&quot;std&quot;</td><td>null</td><td>1.16256</td><td>null</td><td>null</td></tr><tr><td>&quot;min&quot;</td><td>&quot;Alan Wake - Xb…</td><td>1.0</td><td>&quot;2001-10-01&quot;</td><td>&quot; batman&quot;</td></tr><tr><td>&quot;max&quot;</td><td>&quot;inFAMOUS: Seco…</td><td>5.0</td><td>&quot;2018-08-27&quot;</td><td>&quot;~PROS~\n",
       "+Fantas…</td></tr><tr><td>&quot;median&quot;</td><td>null</td><td>5.0</td><td>null</td><td>null</td></tr></tbody></table></div>"
      ],
      "text/plain": [
       "shape: (7, 5)\n",
       "┌────────────┬──────────────────┬──────────┬─────────────┬─────────────┐\n",
       "│ describe   ┆ title            ┆ rating   ┆ review_date ┆ review_text │\n",
       "│ ---        ┆ ---              ┆ ---      ┆ ---         ┆ ---         │\n",
       "│ str        ┆ str              ┆ f64      ┆ str         ┆ str         │\n",
       "╞════════════╪══════════════════╪══════════╪═════════════╪═════════════╡\n",
       "│ count      ┆ 49577            ┆ 49577.0  ┆ 49577       ┆ 49577       │\n",
       "│ null_count ┆ 418              ┆ 0.0      ┆ 0           ┆ 17          │\n",
       "│ mean       ┆ null             ┆ 4.317345 ┆ null        ┆ null        │\n",
       "│ std        ┆ null             ┆ 1.16256  ┆ null        ┆ null        │\n",
       "│ min        ┆ Alan Wake - Xbo… ┆ 1.0      ┆ 2001-10-01  ┆  batman     │\n",
       "│ max        ┆ inFAMOUS: Secon… ┆ 5.0      ┆ 2018-08-27  ┆ ~PROS~      │\n",
       "│            ┆                  ┆          ┆             ┆ +Fantast…   │\n",
       "│ median     ┆ null             ┆ 5.0      ┆ null        ┆ null        │\n",
       "└────────────┴──────────────────┴──────────┴─────────────┴─────────────┘"
      ]
     },
     "execution_count": 15,
     "metadata": {},
     "output_type": "execute_result"
    }
   ],
   "source": [
    "# Visualize statistics about the columns: count, mean, std, min, max, etc.\n",
    "video_games_reviews.describe()"
   ]
  },
  {
   "cell_type": "code",
   "execution_count": 16,
   "metadata": {},
   "outputs": [
    {
     "data": {
      "text/plain": [
       "33.72313117980957"
      ]
     },
     "execution_count": 16,
     "metadata": {},
     "output_type": "execute_result"
    }
   ],
   "source": [
    "# Estimate the memory usage of the DataFrame\n",
    "video_games_reviews.estimated_size('mb')"
   ]
  },
  {
   "attachments": {},
   "cell_type": "markdown",
   "metadata": {},
   "source": [
    "#### Chain methods together"
   ]
  },
  {
   "cell_type": "code",
   "execution_count": 17,
   "metadata": {},
   "outputs": [
    {
     "data": {
      "text/html": [
       "<div><style>\n",
       ".dataframe > thead > tr > th,\n",
       ".dataframe > tbody > tr > td {\n",
       "  text-align: right;\n",
       "}\n",
       "</style>\n",
       "<small>shape: (3, 5)</small><table border=\"1\" class=\"dataframe\"><thead><tr><th>describe</th><th>title</th><th>rating</th><th>review_date</th><th>review_text</th></tr><tr><td>str</td><td>str</td><td>f64</td><td>str</td><td>str</td></tr></thead><tbody><tr><td>&quot;count&quot;</td><td>&quot;49577&quot;</td><td>49577.0</td><td>&quot;49577&quot;</td><td>&quot;49577&quot;</td></tr><tr><td>&quot;null_count&quot;</td><td>&quot;418&quot;</td><td>0.0</td><td>&quot;0&quot;</td><td>&quot;17&quot;</td></tr><tr><td>&quot;mean&quot;</td><td>null</td><td>4.317345</td><td>null</td><td>null</td></tr></tbody></table></div>"
      ],
      "text/plain": [
       "shape: (3, 5)\n",
       "┌────────────┬───────┬──────────┬─────────────┬─────────────┐\n",
       "│ describe   ┆ title ┆ rating   ┆ review_date ┆ review_text │\n",
       "│ ---        ┆ ---   ┆ ---      ┆ ---         ┆ ---         │\n",
       "│ str        ┆ str   ┆ f64      ┆ str         ┆ str         │\n",
       "╞════════════╪═══════╪══════════╪═════════════╪═════════════╡\n",
       "│ count      ┆ 49577 ┆ 49577.0  ┆ 49577       ┆ 49577       │\n",
       "│ null_count ┆ 418   ┆ 0.0      ┆ 0           ┆ 17          │\n",
       "│ mean       ┆ null  ┆ 4.317345 ┆ null        ┆ null        │\n",
       "└────────────┴───────┴──────────┴─────────────┴─────────────┘"
      ]
     },
     "execution_count": 17,
     "metadata": {},
     "output_type": "execute_result"
    }
   ],
   "source": [
    "# Visualize statistics, and show only the first 3 rows\n",
    "video_games_reviews.describe().head(3)"
   ]
  },
  {
   "attachments": {},
   "cell_type": "markdown",
   "metadata": {},
   "source": [
    "#### Sort and add row numbers"
   ]
  },
  {
   "cell_type": "code",
   "execution_count": 18,
   "metadata": {},
   "outputs": [
    {
     "data": {
      "text/html": [
       "<div><style>\n",
       ".dataframe > thead > tr > th,\n",
       ".dataframe > tbody > tr > td {\n",
       "  text-align: right;\n",
       "}\n",
       "</style>\n",
       "<small>shape: (2, 4)</small><table border=\"1\" class=\"dataframe\"><thead><tr><th>title</th><th>rating</th><th>review_date</th><th>review_text</th></tr><tr><td>str</td><td>f64</td><td>date</td><td>str</td></tr></thead><tbody><tr><td>&quot;Batman: Arkham…</td><td>5.0</td><td>2018-08-27</td><td>&quot;Was good but I…</td></tr><tr><td>&quot;Call of Duty: …</td><td>5.0</td><td>2018-08-14</td><td>&quot;Great game&quot;</td></tr></tbody></table></div>"
      ],
      "text/plain": [
       "shape: (2, 4)\n",
       "┌──────────────────┬────────┬─────────────┬──────────────────┐\n",
       "│ title            ┆ rating ┆ review_date ┆ review_text      │\n",
       "│ ---              ┆ ---    ┆ ---         ┆ ---              │\n",
       "│ str              ┆ f64    ┆ date        ┆ str              │\n",
       "╞══════════════════╪════════╪═════════════╪══════════════════╡\n",
       "│ Batman: Arkham … ┆ 5.0    ┆ 2018-08-27  ┆ Was good but I … │\n",
       "│ Call of Duty: B… ┆ 5.0    ┆ 2018-08-14  ┆ Great game       │\n",
       "└──────────────────┴────────┴─────────────┴──────────────────┘"
      ]
     },
     "execution_count": 18,
     "metadata": {},
     "output_type": "execute_result"
    }
   ],
   "source": [
    "# Sort the DataFrame by the time of review in descending order and show the first 2 rows\n",
    "video_games_reviews.sort('review_date', descending=True).head(2)"
   ]
  },
  {
   "cell_type": "code",
   "execution_count": 19,
   "metadata": {},
   "outputs": [
    {
     "data": {
      "text/html": [
       "<div><style>\n",
       ".dataframe > thead > tr > th,\n",
       ".dataframe > tbody > tr > td {\n",
       "  text-align: right;\n",
       "}\n",
       "</style>\n",
       "<small>shape: (2, 4)</small><table border=\"1\" class=\"dataframe\"><thead><tr><th>title</th><th>rating</th><th>review_date</th><th>review_text</th></tr><tr><td>str</td><td>f64</td><td>date</td><td>str</td></tr></thead><tbody><tr><td>&quot;Halo - Xbox&quot;</td><td>5.0</td><td>2001-10-01</td><td>&quot;Forget all you…</td></tr><tr><td>&quot;Halo - Xbox&quot;</td><td>5.0</td><td>2001-10-01</td><td>&quot;Forget all you…</td></tr></tbody></table></div>"
      ],
      "text/plain": [
       "shape: (2, 4)\n",
       "┌─────────────┬────────┬─────────────┬──────────────────┐\n",
       "│ title       ┆ rating ┆ review_date ┆ review_text      │\n",
       "│ ---         ┆ ---    ┆ ---         ┆ ---              │\n",
       "│ str         ┆ f64    ┆ date        ┆ str              │\n",
       "╞═════════════╪════════╪═════════════╪══════════════════╡\n",
       "│ Halo - Xbox ┆ 5.0    ┆ 2001-10-01  ┆ Forget all you … │\n",
       "│ Halo - Xbox ┆ 5.0    ┆ 2001-10-01  ┆ Forget all you … │\n",
       "└─────────────┴────────┴─────────────┴──────────────────┘"
      ]
     },
     "execution_count": 19,
     "metadata": {},
     "output_type": "execute_result"
    }
   ],
   "source": [
    "# Sort the DataFrame by the time of review in ascending order and show the first 2 rows\n",
    "video_games_reviews.sort('review_date', descending=False).head(2)"
   ]
  },
  {
   "cell_type": "code",
   "execution_count": 20,
   "metadata": {},
   "outputs": [
    {
     "data": {
      "text/html": [
       "<div><style>\n",
       ".dataframe > thead > tr > th,\n",
       ".dataframe > tbody > tr > td {\n",
       "  text-align: right;\n",
       "}\n",
       "</style>\n",
       "<small>shape: (2, 4)</small><table border=\"1\" class=\"dataframe\"><thead><tr><th>title</th><th>rating</th><th>review_date</th><th>review_text</th></tr><tr><td>str</td><td>f64</td><td>date</td><td>str</td></tr></thead><tbody><tr><td>&quot;inFAMOUS: Seco…</td><td>4.0</td><td>2018-06-23</td><td>&quot;game case got …</td></tr><tr><td>&quot;inFAMOUS: Seco…</td><td>4.0</td><td>2018-06-11</td><td>&quot;The boy played…</td></tr></tbody></table></div>"
      ],
      "text/plain": [
       "shape: (2, 4)\n",
       "┌──────────────────┬────────┬─────────────┬──────────────────┐\n",
       "│ title            ┆ rating ┆ review_date ┆ review_text      │\n",
       "│ ---              ┆ ---    ┆ ---         ┆ ---              │\n",
       "│ str              ┆ f64    ┆ date        ┆ str              │\n",
       "╞══════════════════╪════════╪═════════════╪══════════════════╡\n",
       "│ inFAMOUS: Secon… ┆ 4.0    ┆ 2018-06-23  ┆ game case got s… │\n",
       "│ inFAMOUS: Secon… ┆ 4.0    ┆ 2018-06-11  ┆ The boy played … │\n",
       "└──────────────────┴────────┴─────────────┴──────────────────┘"
      ]
     },
     "execution_count": 20,
     "metadata": {},
     "output_type": "execute_result"
    }
   ],
   "source": [
    "# Sort the DataFrame by the video game code (asin) in ascending order and by the time of review in descending order\n",
    "video_games_reviews.sort(['title','review_date'], descending=[True, True]).head(2)"
   ]
  },
  {
   "cell_type": "code",
   "execution_count": 21,
   "metadata": {},
   "outputs": [
    {
     "data": {
      "text/html": [
       "<div><style>\n",
       ".dataframe > thead > tr > th,\n",
       ".dataframe > tbody > tr > td {\n",
       "  text-align: right;\n",
       "}\n",
       "</style>\n",
       "<small>shape: (2, 5)</small><table border=\"1\" class=\"dataframe\"><thead><tr><th>row_nr</th><th>title</th><th>rating</th><th>review_date</th><th>review_text</th></tr><tr><td>u32</td><td>str</td><td>f64</td><td>date</td><td>str</td></tr></thead><tbody><tr><td>0</td><td>&quot;Killzone: Shad…</td><td>5.0</td><td>2016-12-02</td><td>&quot;First time hav…</td></tr><tr><td>1</td><td>&quot;Resident Evil …</td><td>5.0</td><td>2014-07-29</td><td>&quot;good&quot;</td></tr></tbody></table></div>"
      ],
      "text/plain": [
       "shape: (2, 5)\n",
       "┌────────┬──────────────────┬────────┬─────────────┬──────────────────┐\n",
       "│ row_nr ┆ title            ┆ rating ┆ review_date ┆ review_text      │\n",
       "│ ---    ┆ ---              ┆ ---    ┆ ---         ┆ ---              │\n",
       "│ u32    ┆ str              ┆ f64    ┆ date        ┆ str              │\n",
       "╞════════╪══════════════════╪════════╪═════════════╪══════════════════╡\n",
       "│ 0      ┆ Killzone: Shado… ┆ 5.0    ┆ 2016-12-02  ┆ First time havi… │\n",
       "│ 1      ┆ Resident Evil 5… ┆ 5.0    ┆ 2014-07-29  ┆ good             │\n",
       "└────────┴──────────────────┴────────┴─────────────┴──────────────────┘"
      ]
     },
     "execution_count": 21,
     "metadata": {},
     "output_type": "execute_result"
    }
   ],
   "source": [
    "# Add a row number to the dataframe\n",
    "video_games_reviews.with_row_count().head(2)"
   ]
  },
  {
   "cell_type": "code",
   "execution_count": 22,
   "metadata": {},
   "outputs": [
    {
     "data": {
      "text/html": [
       "<div><style>\n",
       ".dataframe > thead > tr > th,\n",
       ".dataframe > tbody > tr > td {\n",
       "  text-align: right;\n",
       "}\n",
       "</style>\n",
       "<small>shape: (2, 5)</small><table border=\"1\" class=\"dataframe\"><thead><tr><th>row_nr</th><th>title</th><th>rating</th><th>review_date</th><th>review_text</th></tr><tr><td>u32</td><td>str</td><td>f64</td><td>date</td><td>str</td></tr></thead><tbody><tr><td>49576</td><td>&quot;Resident Evil …</td><td>5.0</td><td>2013-03-06</td><td>&quot;muy buen produ…</td></tr><tr><td>49575</td><td>&quot;Grand Theft Au…</td><td>5.0</td><td>2015-12-03</td><td>&quot;Fantastic game…</td></tr></tbody></table></div>"
      ],
      "text/plain": [
       "shape: (2, 5)\n",
       "┌────────┬──────────────────┬────────┬─────────────┬──────────────────┐\n",
       "│ row_nr ┆ title            ┆ rating ┆ review_date ┆ review_text      │\n",
       "│ ---    ┆ ---              ┆ ---    ┆ ---         ┆ ---              │\n",
       "│ u32    ┆ str              ┆ f64    ┆ date        ┆ str              │\n",
       "╞════════╪══════════════════╪════════╪═════════════╪══════════════════╡\n",
       "│ 49576  ┆ Resident Evil 5… ┆ 5.0    ┆ 2013-03-06  ┆ muy buen produc… │\n",
       "│ 49575  ┆ Grand Theft Aut… ┆ 5.0    ┆ 2015-12-03  ┆ Fantastic game.… │\n",
       "└────────┴──────────────────┴────────┴─────────────┴──────────────────┘"
      ]
     },
     "execution_count": 22,
     "metadata": {},
     "output_type": "execute_result"
    }
   ],
   "source": [
    "# Add a row number to the dataframe, then sort in reverse order\n",
    "video_games_reviews.with_row_count().reverse().head(2)"
   ]
  },
  {
   "attachments": {},
   "cell_type": "markdown",
   "metadata": {},
   "source": [
    "#### Saving modifications"
   ]
  },
  {
   "cell_type": "code",
   "execution_count": 23,
   "metadata": {},
   "outputs": [],
   "source": [
    "# To keep a modified Polars dataframe, we should save it\n",
    "# We can save it to a new variable, or to the same variable\n",
    "# Here we save it to a new variable \n",
    "video_games_modified = video_games_reviews.with_row_count().reverse()"
   ]
  },
  {
   "attachments": {},
   "cell_type": "markdown",
   "metadata": {},
   "source": [
    "#### Select and rename columns"
   ]
  },
  {
   "cell_type": "markdown",
   "metadata": {},
   "source": [
    "##### Select"
   ]
  },
  {
   "cell_type": "code",
   "execution_count": 24,
   "metadata": {},
   "outputs": [
    {
     "data": {
      "text/html": [
       "<div><style>\n",
       ".dataframe > thead > tr > th,\n",
       ".dataframe > tbody > tr > td {\n",
       "  text-align: right;\n",
       "}\n",
       "</style>\n",
       "<small>shape: (2, 2)</small><table border=\"1\" class=\"dataframe\"><thead><tr><th>title</th><th>review_text</th></tr><tr><td>str</td><td>str</td></tr></thead><tbody><tr><td>&quot;Killzone: Shad…</td><td>&quot;First time hav…</td></tr><tr><td>&quot;Resident Evil …</td><td>&quot;good&quot;</td></tr></tbody></table></div>"
      ],
      "text/plain": [
       "shape: (2, 2)\n",
       "┌──────────────────┬──────────────────┐\n",
       "│ title            ┆ review_text      │\n",
       "│ ---              ┆ ---              │\n",
       "│ str              ┆ str              │\n",
       "╞══════════════════╪══════════════════╡\n",
       "│ Killzone: Shado… ┆ First time havi… │\n",
       "│ Resident Evil 5… ┆ good             │\n",
       "└──────────────────┴──────────────────┘"
      ]
     },
     "execution_count": 24,
     "metadata": {},
     "output_type": "execute_result"
    }
   ],
   "source": [
    "# Select columns using their names\n",
    "video_games_reviews.select('title', 'review_text').head(2)"
   ]
  },
  {
   "cell_type": "code",
   "execution_count": 25,
   "metadata": {},
   "outputs": [
    {
     "data": {
      "text/html": [
       "<div><style>\n",
       ".dataframe > thead > tr > th,\n",
       ".dataframe > tbody > tr > td {\n",
       "  text-align: right;\n",
       "}\n",
       "</style>\n",
       "<small>shape: (2, 2)</small><table border=\"1\" class=\"dataframe\"><thead><tr><th>title</th><th>review_text</th></tr><tr><td>str</td><td>str</td></tr></thead><tbody><tr><td>&quot;Killzone: Shad…</td><td>&quot;First time hav…</td></tr><tr><td>&quot;Resident Evil …</td><td>&quot;good&quot;</td></tr></tbody></table></div>"
      ],
      "text/plain": [
       "shape: (2, 2)\n",
       "┌──────────────────┬──────────────────┐\n",
       "│ title            ┆ review_text      │\n",
       "│ ---              ┆ ---              │\n",
       "│ str              ┆ str              │\n",
       "╞══════════════════╪══════════════════╡\n",
       "│ Killzone: Shado… ┆ First time havi… │\n",
       "│ Resident Evil 5… ┆ good             │\n",
       "└──────────────────┴──────────────────┘"
      ]
     },
     "execution_count": 25,
     "metadata": {},
     "output_type": "execute_result"
    }
   ],
   "source": [
    "# Select columns using a dictionary with their names\n",
    "video_games_reviews.select(['title', 'review_text']).head(2)"
   ]
  },
  {
   "cell_type": "code",
   "execution_count": 26,
   "metadata": {},
   "outputs": [
    {
     "data": {
      "text/html": [
       "<div><style>\n",
       ".dataframe > thead > tr > th,\n",
       ".dataframe > tbody > tr > td {\n",
       "  text-align: right;\n",
       "}\n",
       "</style>\n",
       "<small>shape: (2, 2)</small><table border=\"1\" class=\"dataframe\"><thead><tr><th>title</th><th>review_text</th></tr><tr><td>str</td><td>str</td></tr></thead><tbody><tr><td>&quot;Killzone: Shad…</td><td>&quot;First time hav…</td></tr><tr><td>&quot;Resident Evil …</td><td>&quot;good&quot;</td></tr></tbody></table></div>"
      ],
      "text/plain": [
       "shape: (2, 2)\n",
       "┌──────────────────┬──────────────────┐\n",
       "│ title            ┆ review_text      │\n",
       "│ ---              ┆ ---              │\n",
       "│ str              ┆ str              │\n",
       "╞══════════════════╪══════════════════╡\n",
       "│ Killzone: Shado… ┆ First time havi… │\n",
       "│ Resident Evil 5… ┆ good             │\n",
       "└──────────────────┴──────────────────┘"
      ]
     },
     "execution_count": 26,
     "metadata": {},
     "output_type": "execute_result"
    }
   ],
   "source": [
    "# Select columns using their names with pl.col()\n",
    "video_games_reviews.select(pl.col('title'), pl.col('review_text')).head(2)"
   ]
  },
  {
   "cell_type": "code",
   "execution_count": 27,
   "metadata": {},
   "outputs": [
    {
     "data": {
      "text/html": [
       "<div><style>\n",
       ".dataframe > thead > tr > th,\n",
       ".dataframe > tbody > tr > td {\n",
       "  text-align: right;\n",
       "}\n",
       "</style>\n",
       "<small>shape: (2, 3)</small><table border=\"1\" class=\"dataframe\"><thead><tr><th>videogame_title</th><th>rating_out_of_5</th><th>review_text</th></tr><tr><td>str</td><td>f64</td><td>str</td></tr></thead><tbody><tr><td>&quot;Killzone: Shad…</td><td>5.0</td><td>&quot;First time hav…</td></tr><tr><td>&quot;Resident Evil …</td><td>5.0</td><td>&quot;good&quot;</td></tr></tbody></table></div>"
      ],
      "text/plain": [
       "shape: (2, 3)\n",
       "┌──────────────────┬─────────────────┬──────────────────┐\n",
       "│ videogame_title  ┆ rating_out_of_5 ┆ review_text      │\n",
       "│ ---              ┆ ---             ┆ ---              │\n",
       "│ str              ┆ f64             ┆ str              │\n",
       "╞══════════════════╪═════════════════╪══════════════════╡\n",
       "│ Killzone: Shado… ┆ 5.0             ┆ First time havi… │\n",
       "│ Resident Evil 5… ┆ 5.0             ┆ good             │\n",
       "└──────────────────┴─────────────────┴──────────────────┘"
      ]
     },
     "execution_count": 27,
     "metadata": {},
     "output_type": "execute_result"
    }
   ],
   "source": [
    "# Add suffix or prefix\n",
    "video_games_reviews.select(\n",
    "    pl.col('title').prefix('videogame_'), \n",
    "    pl.col('rating').suffix('_out_of_5'), \n",
    "    pl.col('review_text')\n",
    "    ).head(2)"
   ]
  },
  {
   "cell_type": "code",
   "execution_count": 28,
   "metadata": {},
   "outputs": [
    {
     "data": {
      "text/html": [
       "<div><style>\n",
       ".dataframe > thead > tr > th,\n",
       ".dataframe > tbody > tr > td {\n",
       "  text-align: right;\n",
       "}\n",
       "</style>\n",
       "<small>shape: (2, 3)</small><table border=\"1\" class=\"dataframe\"><thead><tr><th>videogame_title</th><th>rating_out_of_5</th><th>review</th></tr><tr><td>str</td><td>f64</td><td>str</td></tr></thead><tbody><tr><td>&quot;Killzone: Shad…</td><td>5.0</td><td>&quot;First time hav…</td></tr><tr><td>&quot;Resident Evil …</td><td>5.0</td><td>&quot;good&quot;</td></tr></tbody></table></div>"
      ],
      "text/plain": [
       "shape: (2, 3)\n",
       "┌──────────────────┬─────────────────┬──────────────────┐\n",
       "│ videogame_title  ┆ rating_out_of_5 ┆ review           │\n",
       "│ ---              ┆ ---             ┆ ---              │\n",
       "│ str              ┆ f64             ┆ str              │\n",
       "╞══════════════════╪═════════════════╪══════════════════╡\n",
       "│ Killzone: Shado… ┆ 5.0             ┆ First time havi… │\n",
       "│ Resident Evil 5… ┆ 5.0             ┆ good             │\n",
       "└──────────────────┴─────────────────┴──────────────────┘"
      ]
     },
     "execution_count": 28,
     "metadata": {},
     "output_type": "execute_result"
    }
   ],
   "source": [
    "# Select columns with pl.col() and rename them using keywords\n",
    "# Important: columns selected with keywords (example: videogame_title = ) should come after columns without keywords\n",
    "video_games_reviews.select(\n",
    "    videogame_title = pl.col('title'), \n",
    "    rating_out_of_5 = pl.col('rating'), \n",
    "    review = pl.col('review_text')\n",
    "    ).head(2)"
   ]
  },
  {
   "cell_type": "code",
   "execution_count": 29,
   "metadata": {},
   "outputs": [
    {
     "data": {
      "text/html": [
       "<div><style>\n",
       ".dataframe > thead > tr > th,\n",
       ".dataframe > tbody > tr > td {\n",
       "  text-align: right;\n",
       "}\n",
       "</style>\n",
       "<small>shape: (2, 3)</small><table border=\"1\" class=\"dataframe\"><thead><tr><th>videogame_title</th><th>rating_out_of_5</th><th>review</th></tr><tr><td>str</td><td>f64</td><td>str</td></tr></thead><tbody><tr><td>&quot;Killzone: Shad…</td><td>5.0</td><td>&quot;First time hav…</td></tr><tr><td>&quot;Resident Evil …</td><td>5.0</td><td>&quot;good&quot;</td></tr></tbody></table></div>"
      ],
      "text/plain": [
       "shape: (2, 3)\n",
       "┌──────────────────┬─────────────────┬──────────────────┐\n",
       "│ videogame_title  ┆ rating_out_of_5 ┆ review           │\n",
       "│ ---              ┆ ---             ┆ ---              │\n",
       "│ str              ┆ f64             ┆ str              │\n",
       "╞══════════════════╪═════════════════╪══════════════════╡\n",
       "│ Killzone: Shado… ┆ 5.0             ┆ First time havi… │\n",
       "│ Resident Evil 5… ┆ 5.0             ┆ good             │\n",
       "└──────────────────┴─────────────────┴──────────────────┘"
      ]
     },
     "execution_count": 29,
     "metadata": {},
     "output_type": "execute_result"
    }
   ],
   "source": [
    "# Select columns with pl.col() and rename them using alias\n",
    "video_games_reviews.select(\n",
    "    pl.col('title').alias('videogame_title'), \n",
    "    pl.col('rating').alias('rating_out_of_5'), \n",
    "    pl.col('review_text').alias('review')\n",
    "    ).head(2)"
   ]
  },
  {
   "cell_type": "code",
   "execution_count": 30,
   "metadata": {},
   "outputs": [
    {
     "data": {
      "text/html": [
       "<div><style>\n",
       ".dataframe > thead > tr > th,\n",
       ".dataframe > tbody > tr > td {\n",
       "  text-align: right;\n",
       "}\n",
       "</style>\n",
       "<small>shape: (2, 2)</small><table border=\"1\" class=\"dataframe\"><thead><tr><th>title</th><th>review_text</th></tr><tr><td>str</td><td>str</td></tr></thead><tbody><tr><td>&quot;Killzone: Shad…</td><td>&quot;First time hav…</td></tr><tr><td>&quot;Resident Evil …</td><td>&quot;good&quot;</td></tr></tbody></table></div>"
      ],
      "text/plain": [
       "shape: (2, 2)\n",
       "┌──────────────────┬──────────────────┐\n",
       "│ title            ┆ review_text      │\n",
       "│ ---              ┆ ---              │\n",
       "│ str              ┆ str              │\n",
       "╞══════════════════╪══════════════════╡\n",
       "│ Killzone: Shado… ┆ First time havi… │\n",
       "│ Resident Evil 5… ┆ good             │\n",
       "└──────────────────┴──────────────────┘"
      ]
     },
     "execution_count": 30,
     "metadata": {},
     "output_type": "execute_result"
    }
   ],
   "source": [
    "# Select columns based on their data type: select all string columns\n",
    "# pl.col(pl.Uft8) refers to all columns with a string data type\n",
    "# and is converted by Polars to a list of matching column names : pl.col('title'), pl.col('review_text') \n",
    "video_games_reviews.select(pl.col(pl.Utf8)).head(2)"
   ]
  },
  {
   "cell_type": "code",
   "execution_count": 31,
   "metadata": {},
   "outputs": [
    {
     "data": {
      "text/html": [
       "<div><style>\n",
       ".dataframe > thead > tr > th,\n",
       ".dataframe > tbody > tr > td {\n",
       "  text-align: right;\n",
       "}\n",
       "</style>\n",
       "<small>shape: (2, 1)</small><table border=\"1\" class=\"dataframe\"><thead><tr><th>rating</th></tr><tr><td>f64</td></tr></thead><tbody><tr><td>5.0</td></tr><tr><td>5.0</td></tr></tbody></table></div>"
      ],
      "text/plain": [
       "shape: (2, 1)\n",
       "┌────────┐\n",
       "│ rating │\n",
       "│ ---    │\n",
       "│ f64    │\n",
       "╞════════╡\n",
       "│ 5.0    │\n",
       "│ 5.0    │\n",
       "└────────┘"
      ]
     },
     "execution_count": 31,
     "metadata": {},
     "output_type": "execute_result"
    }
   ],
   "source": [
    "# Select columns based on their data type: select all numerical columns\n",
    "video_games_reviews.select(pl.col(pl.NUMERIC_DTYPES)).head(2)"
   ]
  },
  {
   "cell_type": "code",
   "execution_count": 32,
   "metadata": {},
   "outputs": [
    {
     "data": {
      "text/html": [
       "<div><style>\n",
       ".dataframe > thead > tr > th,\n",
       ".dataframe > tbody > tr > td {\n",
       "  text-align: right;\n",
       "}\n",
       "</style>\n",
       "<small>shape: (2, 4)</small><table border=\"1\" class=\"dataframe\"><thead><tr><th>title</th><th>rating</th><th>review_date</th><th>review_text</th></tr><tr><td>str</td><td>f64</td><td>date</td><td>str</td></tr></thead><tbody><tr><td>&quot;Killzone: Shad…</td><td>5.0</td><td>2016-12-02</td><td>&quot;First time hav…</td></tr><tr><td>&quot;Resident Evil …</td><td>5.0</td><td>2014-07-29</td><td>&quot;good&quot;</td></tr></tbody></table></div>"
      ],
      "text/plain": [
       "shape: (2, 4)\n",
       "┌──────────────────┬────────┬─────────────┬──────────────────┐\n",
       "│ title            ┆ rating ┆ review_date ┆ review_text      │\n",
       "│ ---              ┆ ---    ┆ ---         ┆ ---              │\n",
       "│ str              ┆ f64    ┆ date        ┆ str              │\n",
       "╞══════════════════╪════════╪═════════════╪══════════════════╡\n",
       "│ Killzone: Shado… ┆ 5.0    ┆ 2016-12-02  ┆ First time havi… │\n",
       "│ Resident Evil 5… ┆ 5.0    ┆ 2014-07-29  ┆ good             │\n",
       "└──────────────────┴────────┴─────────────┴──────────────────┘"
      ]
     },
     "execution_count": 32,
     "metadata": {},
     "output_type": "execute_result"
    }
   ],
   "source": [
    "# pl.all() can be used to select all columns\n",
    "video_games_reviews.select(pl.all()).head(2)"
   ]
  },
  {
   "cell_type": "code",
   "execution_count": 33,
   "metadata": {},
   "outputs": [
    {
     "data": {
      "text/html": [
       "<div><style>\n",
       ".dataframe > thead > tr > th,\n",
       ".dataframe > tbody > tr > td {\n",
       "  text-align: right;\n",
       "}\n",
       "</style>\n",
       "<small>shape: (2, 3)</small><table border=\"1\" class=\"dataframe\"><thead><tr><th>title</th><th>review_date</th><th>review_text</th></tr><tr><td>str</td><td>date</td><td>str</td></tr></thead><tbody><tr><td>&quot;Killzone: Shad…</td><td>2016-12-02</td><td>&quot;First time hav…</td></tr><tr><td>&quot;Resident Evil …</td><td>2014-07-29</td><td>&quot;good&quot;</td></tr></tbody></table></div>"
      ],
      "text/plain": [
       "shape: (2, 3)\n",
       "┌──────────────────┬─────────────┬──────────────────┐\n",
       "│ title            ┆ review_date ┆ review_text      │\n",
       "│ ---              ┆ ---         ┆ ---              │\n",
       "│ str              ┆ date        ┆ str              │\n",
       "╞══════════════════╪═════════════╪══════════════════╡\n",
       "│ Killzone: Shado… ┆ 2016-12-02  ┆ First time havi… │\n",
       "│ Resident Evil 5… ┆ 2014-07-29  ┆ good             │\n",
       "└──────────────────┴─────────────┴──────────────────┘"
      ]
     },
     "execution_count": 33,
     "metadata": {},
     "output_type": "execute_result"
    }
   ],
   "source": [
    "# pl.all() and exclude can be used to exclude some columns, for example exclude all numerical columns\n",
    "video_games_reviews.select(pl.all().exclude(pl.NUMERIC_DTYPES)).head(2)"
   ]
  },
  {
   "cell_type": "code",
   "execution_count": 34,
   "metadata": {},
   "outputs": [
    {
     "data": {
      "text/html": [
       "<div><style>\n",
       ".dataframe > thead > tr > th,\n",
       ".dataframe > tbody > tr > td {\n",
       "  text-align: right;\n",
       "}\n",
       "</style>\n",
       "<small>shape: (2, 2)</small><table border=\"1\" class=\"dataframe\"><thead><tr><th>review_date</th><th>review_text</th></tr><tr><td>date</td><td>str</td></tr></thead><tbody><tr><td>2016-12-02</td><td>&quot;First time hav…</td></tr><tr><td>2014-07-29</td><td>&quot;good&quot;</td></tr></tbody></table></div>"
      ],
      "text/plain": [
       "shape: (2, 2)\n",
       "┌─────────────┬──────────────────┐\n",
       "│ review_date ┆ review_text      │\n",
       "│ ---         ┆ ---              │\n",
       "│ date        ┆ str              │\n",
       "╞═════════════╪══════════════════╡\n",
       "│ 2016-12-02  ┆ First time havi… │\n",
       "│ 2014-07-29  ┆ good             │\n",
       "└─────────────┴──────────────────┘"
      ]
     },
     "execution_count": 34,
     "metadata": {},
     "output_type": "execute_result"
    }
   ],
   "source": [
    "# Select columns based on regex: all column names that contain 'review'\n",
    "video_games_reviews.select(pl.col('^.*review.*$')).head(2)"
   ]
  },
  {
   "cell_type": "code",
   "execution_count": 35,
   "metadata": {},
   "outputs": [
    {
     "data": {
      "text/html": [
       "<div><style>\n",
       ".dataframe > thead > tr > th,\n",
       ".dataframe > tbody > tr > td {\n",
       "  text-align: right;\n",
       "}\n",
       "</style>\n",
       "<small>shape: (2, 2)</small><table border=\"1\" class=\"dataframe\"><thead><tr><th>title</th><th>rating</th></tr><tr><td>str</td><td>f64</td></tr></thead><tbody><tr><td>&quot;Killzone: Shad…</td><td>5.0</td></tr><tr><td>&quot;Resident Evil …</td><td>5.0</td></tr></tbody></table></div>"
      ],
      "text/plain": [
       "shape: (2, 2)\n",
       "┌──────────────────┬────────┐\n",
       "│ title            ┆ rating │\n",
       "│ ---              ┆ ---    │\n",
       "│ str              ┆ f64    │\n",
       "╞══════════════════╪════════╡\n",
       "│ Killzone: Shado… ┆ 5.0    │\n",
       "│ Resident Evil 5… ┆ 5.0    │\n",
       "└──────────────────┴────────┘"
      ]
     },
     "execution_count": 35,
     "metadata": {},
     "output_type": "execute_result"
    }
   ],
   "source": [
    "# Exclude certains columns: all columns except those that contain 'review'\n",
    "# Exclude can be used with regex, or with column names, or with data types\n",
    "video_games_reviews.select(pl.all().exclude('^.*review.*$')).head(2)"
   ]
  },
  {
   "cell_type": "markdown",
   "metadata": {},
   "source": [
    "##### With Columns"
   ]
  },
  {
   "cell_type": "code",
   "execution_count": 36,
   "metadata": {},
   "outputs": [
    {
     "data": {
      "text/html": [
       "<div><style>\n",
       ".dataframe > thead > tr > th,\n",
       ".dataframe > tbody > tr > td {\n",
       "  text-align: right;\n",
       "}\n",
       "</style>\n",
       "<small>shape: (2, 4)</small><table border=\"1\" class=\"dataframe\"><thead><tr><th>title</th><th>rating</th><th>review_date</th><th>review_text</th></tr><tr><td>str</td><td>f64</td><td>date</td><td>str</td></tr></thead><tbody><tr><td>&quot;Killzone: Shad…</td><td>100.0</td><td>2016-12-02</td><td>&quot;First time hav…</td></tr><tr><td>&quot;Resident Evil …</td><td>100.0</td><td>2014-07-29</td><td>&quot;good&quot;</td></tr></tbody></table></div>"
      ],
      "text/plain": [
       "shape: (2, 4)\n",
       "┌──────────────────┬────────┬─────────────┬──────────────────┐\n",
       "│ title            ┆ rating ┆ review_date ┆ review_text      │\n",
       "│ ---              ┆ ---    ┆ ---         ┆ ---              │\n",
       "│ str              ┆ f64    ┆ date        ┆ str              │\n",
       "╞══════════════════╪════════╪═════════════╪══════════════════╡\n",
       "│ Killzone: Shado… ┆ 100.0  ┆ 2016-12-02  ┆ First time havi… │\n",
       "│ Resident Evil 5… ┆ 100.0  ┆ 2014-07-29  ┆ good             │\n",
       "└──────────────────┴────────┴─────────────┴──────────────────┘"
      ]
     },
     "execution_count": 36,
     "metadata": {},
     "output_type": "execute_result"
    }
   ],
   "source": [
    "# Another way to select columns is using with_columns()\n",
    "# with_columns() includes all columns by default, and \n",
    "# adds or modifies the specified columns\n",
    "video_games_reviews.with_columns(\n",
    "    pl.col('rating') * 20, # modified column \n",
    "    ).head(2)"
   ]
  },
  {
   "cell_type": "markdown",
   "metadata": {},
   "source": [
    "#### Add columns"
   ]
  },
  {
   "cell_type": "code",
   "execution_count": 37,
   "metadata": {},
   "outputs": [
    {
     "data": {
      "text/html": [
       "<div><style>\n",
       ".dataframe > thead > tr > th,\n",
       ".dataframe > tbody > tr > td {\n",
       "  text-align: right;\n",
       "}\n",
       "</style>\n",
       "<small>shape: (2, 3)</small><table border=\"1\" class=\"dataframe\"><thead><tr><th>title</th><th>rating</th><th>category</th></tr><tr><td>str</td><td>f64</td><td>str</td></tr></thead><tbody><tr><td>&quot;Killzone: Shad…</td><td>5.0</td><td>&quot;videogame&quot;</td></tr><tr><td>&quot;Resident Evil …</td><td>5.0</td><td>&quot;videogame&quot;</td></tr></tbody></table></div>"
      ],
      "text/plain": [
       "shape: (2, 3)\n",
       "┌──────────────────┬────────┬───────────┐\n",
       "│ title            ┆ rating ┆ category  │\n",
       "│ ---              ┆ ---    ┆ ---       │\n",
       "│ str              ┆ f64    ┆ str       │\n",
       "╞══════════════════╪════════╪═══════════╡\n",
       "│ Killzone: Shado… ┆ 5.0    ┆ videogame │\n",
       "│ Resident Evil 5… ┆ 5.0    ┆ videogame │\n",
       "└──────────────────┴────────┴───────────┘"
      ]
     },
     "execution_count": 37,
     "metadata": {},
     "output_type": "execute_result"
    }
   ],
   "source": [
    "# Add a new column with the string 'videogame'\n",
    "video_games_reviews.select(\n",
    "    pl.col('title'),\n",
    "    pl.col('rating'),\n",
    "    category = pl.lit('videogame')\n",
    ").head(2)"
   ]
  },
  {
   "cell_type": "code",
   "execution_count": 38,
   "metadata": {},
   "outputs": [
    {
     "data": {
      "text/html": [
       "<div><style>\n",
       ".dataframe > thead > tr > th,\n",
       ".dataframe > tbody > tr > td {\n",
       "  text-align: right;\n",
       "}\n",
       "</style>\n",
       "<small>shape: (2, 2)</small><table border=\"1\" class=\"dataframe\"><thead><tr><th>rating</th><th>rating_out_of_5</th></tr><tr><td>f64</td><td>f64</td></tr></thead><tbody><tr><td>100.0</td><td>5.0</td></tr><tr><td>100.0</td><td>5.0</td></tr></tbody></table></div>"
      ],
      "text/plain": [
       "shape: (2, 2)\n",
       "┌────────┬─────────────────┐\n",
       "│ rating ┆ rating_out_of_5 │\n",
       "│ ---    ┆ ---             │\n",
       "│ f64    ┆ f64             │\n",
       "╞════════╪═════════════════╡\n",
       "│ 100.0  ┆ 5.0             │\n",
       "│ 100.0  ┆ 5.0             │\n",
       "└────────┴─────────────────┘"
      ]
     },
     "execution_count": 38,
     "metadata": {},
     "output_type": "execute_result"
    }
   ],
   "source": [
    "# Add and modify columns\n",
    "# if the column has the same name => modifies a column\n",
    "# if the column has a different name => adds a new column \n",
    "# All columns are calculated in parallel, so rating_out_of_5 depends on the initial rating column\n",
    "# and not on the modified rating column\n",
    "video_games_reviews.select(\n",
    "    pl.col('rating') * 20, # modified column \n",
    "    rating_out_of_5 = pl.col('rating'), # new column\n",
    "    ).head(2)"
   ]
  },
  {
   "cell_type": "code",
   "execution_count": 39,
   "metadata": {},
   "outputs": [
    {
     "name": "stdout",
     "output_type": "stream",
     "text": [
      "shape: (2, 2)\n",
      "┌────────┬─────────────────┐\n",
      "│ rating ┆ rating_out_of_5 │\n",
      "│ ---    ┆ ---             │\n",
      "│ f64    ┆ f64             │\n",
      "╞════════╪═════════════════╡\n",
      "│ 100.0  ┆ 100.0           │\n",
      "│ 100.0  ┆ 100.0           │\n",
      "└────────┴─────────────────┘\n"
     ]
    }
   ],
   "source": [
    "# If we want the new column to depend on the modified column, we can add a new context\n",
    "# where we do the calculation\n",
    "print(video_games_reviews.select(\n",
    "    pl.col('rating') * 20, # modified column\n",
    ").with_columns(\n",
    "    rating_out_of_5 = pl.col('rating') # new column\n",
    ").head(2))"
   ]
  },
  {
   "cell_type": "code",
   "execution_count": 40,
   "metadata": {},
   "outputs": [
    {
     "data": {
      "text/html": [
       "<div><style>\n",
       ".dataframe > thead > tr > th,\n",
       ".dataframe > tbody > tr > td {\n",
       "  text-align: right;\n",
       "}\n",
       "</style>\n",
       "<small>shape: (2, 5)</small><table border=\"1\" class=\"dataframe\"><thead><tr><th>title</th><th>rating</th><th>review_date</th><th>review_text</th><th>rating_out_of_5</th></tr><tr><td>str</td><td>f64</td><td>date</td><td>str</td><td>f64</td></tr></thead><tbody><tr><td>&quot;Killzone: Shad…</td><td>100.0</td><td>2016-12-02</td><td>&quot;First time hav…</td><td>5.0</td></tr><tr><td>&quot;Resident Evil …</td><td>100.0</td><td>2014-07-29</td><td>&quot;good&quot;</td><td>5.0</td></tr></tbody></table></div>"
      ],
      "text/plain": [
       "shape: (2, 5)\n",
       "┌──────────────────┬────────┬─────────────┬──────────────────┬─────────────────┐\n",
       "│ title            ┆ rating ┆ review_date ┆ review_text      ┆ rating_out_of_5 │\n",
       "│ ---              ┆ ---    ┆ ---         ┆ ---              ┆ ---             │\n",
       "│ str              ┆ f64    ┆ date        ┆ str              ┆ f64             │\n",
       "╞══════════════════╪════════╪═════════════╪══════════════════╪═════════════════╡\n",
       "│ Killzone: Shado… ┆ 100.0  ┆ 2016-12-02  ┆ First time havi… ┆ 5.0             │\n",
       "│ Resident Evil 5… ┆ 100.0  ┆ 2014-07-29  ┆ good             ┆ 5.0             │\n",
       "└──────────────────┴────────┴─────────────┴──────────────────┴─────────────────┘"
      ]
     },
     "execution_count": 40,
     "metadata": {},
     "output_type": "execute_result"
    }
   ],
   "source": [
    "# When adding columns with with_columns(), non-specified columns are included by default\n",
    "# with_columns() includes all columns by default, and \n",
    "# adds or modifies the specified columns\n",
    "video_games_reviews.with_columns(\n",
    "    pl.col('rating') / 5 * 100, # modified column \n",
    "    rating_out_of_5 = pl.col('rating'), # new column\n",
    "    ).head(2)"
   ]
  },
  {
   "cell_type": "code",
   "execution_count": 41,
   "metadata": {},
   "outputs": [
    {
     "data": {
      "text/html": [
       "<div><style>\n",
       ".dataframe > thead > tr > th,\n",
       ".dataframe > tbody > tr > td {\n",
       "  text-align: right;\n",
       "}\n",
       "</style>\n",
       "<small>shape: (2, 1)</small><table border=\"1\" class=\"dataframe\"><thead><tr><th>review_text_and_score</th></tr><tr><td>str</td></tr></thead><tbody><tr><td>&quot;First time hav…</td></tr><tr><td>&quot;good - 5.0&quot;</td></tr></tbody></table></div>"
      ],
      "text/plain": [
       "shape: (2, 1)\n",
       "┌──────────────────┐\n",
       "│ review_text_and… │\n",
       "│ ---              │\n",
       "│ str              │\n",
       "╞══════════════════╡\n",
       "│ First time havi… │\n",
       "│ good - 5.0       │\n",
       "└──────────────────┘"
      ]
     },
     "execution_count": 41,
     "metadata": {},
     "output_type": "execute_result"
    }
   ],
   "source": [
    "# Combine 2 columns together\n",
    "# We need to cast the rating column to a string data type (we see this later)\n",
    "video_games_reviews.select(\n",
    "    review_text_and_score = pl.col('review_text') + pl.lit(' - ') + pl.col('rating').cast(pl.Utf8)\n",
    "    ).head(2)"
   ]
  },
  {
   "cell_type": "code",
   "execution_count": 42,
   "metadata": {},
   "outputs": [
    {
     "data": {
      "text/html": [
       "<div><style>\n",
       ".dataframe > thead > tr > th,\n",
       ".dataframe > tbody > tr > td {\n",
       "  text-align: right;\n",
       "}\n",
       "</style>\n",
       "<small>shape: (2, 1)</small><table border=\"1\" class=\"dataframe\"><thead><tr><th>review_text_and_score</th></tr><tr><td>str</td></tr></thead><tbody><tr><td>&quot;review: First …</td></tr><tr><td>&quot;review: good, …</td></tr></tbody></table></div>"
      ],
      "text/plain": [
       "shape: (2, 1)\n",
       "┌──────────────────┐\n",
       "│ review_text_and… │\n",
       "│ ---              │\n",
       "│ str              │\n",
       "╞══════════════════╡\n",
       "│ review: First t… │\n",
       "│ review: good, o… │\n",
       "└──────────────────┘"
      ]
     },
     "execution_count": 42,
     "metadata": {},
     "output_type": "execute_result"
    }
   ],
   "source": [
    "# Combine columns using pl.format\n",
    "video_games_reviews.select(\n",
    "    review_text_and_score = pl.format('review: {}, on {}', 'review_text', 'review_date')\n",
    "    ).head(2)"
   ]
  },
  {
   "attachments": {},
   "cell_type": "markdown",
   "metadata": {},
   "source": [
    "#### Functions on dataframes and expressions"
   ]
  },
  {
   "cell_type": "code",
   "execution_count": 43,
   "metadata": {},
   "outputs": [
    {
     "data": {
      "text/html": [
       "<div><style>\n",
       ".dataframe > thead > tr > th,\n",
       ".dataframe > tbody > tr > td {\n",
       "  text-align: right;\n",
       "}\n",
       "</style>\n",
       "<small>shape: (1, 4)</small><table border=\"1\" class=\"dataframe\"><thead><tr><th>title</th><th>rating</th><th>review_date</th><th>review_text</th></tr><tr><td>str</td><td>f64</td><td>date</td><td>str</td></tr></thead><tbody><tr><td>&quot;Alan Wake - Xb…</td><td>1.0</td><td>2001-10-01</td><td>&quot; batman&quot;</td></tr></tbody></table></div>"
      ],
      "text/plain": [
       "shape: (1, 4)\n",
       "┌──────────────────┬────────┬─────────────┬─────────────┐\n",
       "│ title            ┆ rating ┆ review_date ┆ review_text │\n",
       "│ ---              ┆ ---    ┆ ---         ┆ ---         │\n",
       "│ str              ┆ f64    ┆ date        ┆ str         │\n",
       "╞══════════════════╪════════╪═════════════╪═════════════╡\n",
       "│ Alan Wake - Xbo… ┆ 1.0    ┆ 2001-10-01  ┆  batman     │\n",
       "└──────────────────┴────────┴─────────────┴─────────────┘"
      ]
     },
     "execution_count": 43,
     "metadata": {},
     "output_type": "execute_result"
    }
   ],
   "source": [
    "# Functions can be applied on the dataframe\n",
    "video_games_reviews.min()"
   ]
  },
  {
   "cell_type": "code",
   "execution_count": 44,
   "metadata": {},
   "outputs": [
    {
     "data": {
      "text/html": [
       "<div><style>\n",
       ".dataframe > thead > tr > th,\n",
       ".dataframe > tbody > tr > td {\n",
       "  text-align: right;\n",
       "}\n",
       "</style>\n",
       "<small>shape: (1, 4)</small><table border=\"1\" class=\"dataframe\"><thead><tr><th>title</th><th>rating</th><th>review_date</th><th>review_text</th></tr><tr><td>str</td><td>f64</td><td>date</td><td>str</td></tr></thead><tbody><tr><td>&quot;Alan Wake - Xb…</td><td>1.0</td><td>2001-10-01</td><td>&quot; batman&quot;</td></tr></tbody></table></div>"
      ],
      "text/plain": [
       "shape: (1, 4)\n",
       "┌──────────────────┬────────┬─────────────┬─────────────┐\n",
       "│ title            ┆ rating ┆ review_date ┆ review_text │\n",
       "│ ---              ┆ ---    ┆ ---         ┆ ---         │\n",
       "│ str              ┆ f64    ┆ date        ┆ str         │\n",
       "╞══════════════════╪════════╪═════════════╪═════════════╡\n",
       "│ Alan Wake - Xbo… ┆ 1.0    ┆ 2001-10-01  ┆  batman     │\n",
       "└──────────────────┴────────┴─────────────┴─────────────┘"
      ]
     },
     "execution_count": 44,
     "metadata": {},
     "output_type": "execute_result"
    }
   ],
   "source": [
    "# Functions can also be applied on expressions\n",
    "# In this example, the result is the same\n",
    "video_games_reviews.select(pl.all().min())"
   ]
  },
  {
   "cell_type": "code",
   "execution_count": 45,
   "metadata": {},
   "outputs": [
    {
     "data": {
      "text/html": [
       "<div><style>\n",
       ".dataframe > thead > tr > th,\n",
       ".dataframe > tbody > tr > td {\n",
       "  text-align: right;\n",
       "}\n",
       "</style>\n",
       "<small>shape: (2, 4)</small><table border=\"1\" class=\"dataframe\"><thead><tr><th>title</th><th>rating</th><th>review_date</th><th>review_text</th></tr><tr><td>str</td><td>f64</td><td>date</td><td>str</td></tr></thead><tbody><tr><td>&quot;Halo - Xbox&quot;</td><td>5.0</td><td>2001-10-01</td><td>&quot;Forget all you…</td></tr><tr><td>&quot;Halo - Xbox&quot;</td><td>5.0</td><td>2001-10-01</td><td>&quot;Forget all you…</td></tr></tbody></table></div>"
      ],
      "text/plain": [
       "shape: (2, 4)\n",
       "┌─────────────┬────────┬─────────────┬──────────────────┐\n",
       "│ title       ┆ rating ┆ review_date ┆ review_text      │\n",
       "│ ---         ┆ ---    ┆ ---         ┆ ---              │\n",
       "│ str         ┆ f64    ┆ date        ┆ str              │\n",
       "╞═════════════╪════════╪═════════════╪══════════════════╡\n",
       "│ Halo - Xbox ┆ 5.0    ┆ 2001-10-01  ┆ Forget all you … │\n",
       "│ Halo - Xbox ┆ 5.0    ┆ 2001-10-01  ┆ Forget all you … │\n",
       "└─────────────┴────────┴─────────────┴──────────────────┘"
      ]
     },
     "execution_count": 45,
     "metadata": {},
     "output_type": "execute_result"
    }
   ],
   "source": [
    "# Here the result is different\n",
    "# Sorting the dataframe sorts all rows in the dataframe based on the review date \n",
    "video_games_reviews.sort(by='review_date').head(2)"
   ]
  },
  {
   "cell_type": "code",
   "execution_count": 46,
   "metadata": {},
   "outputs": [
    {
     "data": {
      "text/html": [
       "<div><style>\n",
       ".dataframe > thead > tr > th,\n",
       ".dataframe > tbody > tr > td {\n",
       "  text-align: right;\n",
       "}\n",
       "</style>\n",
       "<small>shape: (2, 4)</small><table border=\"1\" class=\"dataframe\"><thead><tr><th>title</th><th>rating</th><th>review_date</th><th>review_text</th></tr><tr><td>str</td><td>f64</td><td>date</td><td>str</td></tr></thead><tbody><tr><td>&quot;Killzone: Shad…</td><td>5.0</td><td>2001-10-01</td><td>&quot;First time hav…</td></tr><tr><td>&quot;Resident Evil …</td><td>5.0</td><td>2001-10-01</td><td>&quot;good&quot;</td></tr></tbody></table></div>"
      ],
      "text/plain": [
       "shape: (2, 4)\n",
       "┌──────────────────┬────────┬─────────────┬──────────────────┐\n",
       "│ title            ┆ rating ┆ review_date ┆ review_text      │\n",
       "│ ---              ┆ ---    ┆ ---         ┆ ---              │\n",
       "│ str              ┆ f64    ┆ date        ┆ str              │\n",
       "╞══════════════════╪════════╪═════════════╪══════════════════╡\n",
       "│ Killzone: Shado… ┆ 5.0    ┆ 2001-10-01  ┆ First time havi… │\n",
       "│ Resident Evil 5… ┆ 5.0    ┆ 2001-10-01  ┆ good             │\n",
       "└──────────────────┴────────┴─────────────┴──────────────────┘"
      ]
     },
     "execution_count": 46,
     "metadata": {},
     "output_type": "execute_result"
    }
   ],
   "source": [
    "# Sorting the column using an expression sorts only the column\n",
    "# the first review dates are for 'Halo' and not for 'Killzone' and 'Resident Evil'\n",
    "# With expressions, each column is calculated independently of the other ones\n",
    "# With dataframes, the columns are calculated together\n",
    "video_games_reviews.with_columns(pl.col('review_date').sort()).head(2)"
   ]
  },
  {
   "cell_type": "code",
   "execution_count": 47,
   "metadata": {},
   "outputs": [
    {
     "data": {
      "text/html": [
       "<div><style>\n",
       ".dataframe > thead > tr > th,\n",
       ".dataframe > tbody > tr > td {\n",
       "  text-align: right;\n",
       "}\n",
       "</style>\n",
       "<small>shape: (2, 4)</small><table border=\"1\" class=\"dataframe\"><thead><tr><th>title</th><th>rating</th><th>review_date</th><th>review_text</th></tr><tr><td>str</td><td>f64</td><td>date</td><td>str</td></tr></thead><tbody><tr><td>&quot;Killzone: Shad…</td><td>1.0</td><td>2001-10-01</td><td>&quot;First time hav…</td></tr><tr><td>&quot;Resident Evil …</td><td>1.0</td><td>2001-10-01</td><td>&quot;good&quot;</td></tr></tbody></table></div>"
      ],
      "text/plain": [
       "shape: (2, 4)\n",
       "┌──────────────────┬────────┬─────────────┬──────────────────┐\n",
       "│ title            ┆ rating ┆ review_date ┆ review_text      │\n",
       "│ ---              ┆ ---    ┆ ---         ┆ ---              │\n",
       "│ str              ┆ f64    ┆ date        ┆ str              │\n",
       "╞══════════════════╪════════╪═════════════╪══════════════════╡\n",
       "│ Killzone: Shado… ┆ 1.0    ┆ 2001-10-01  ┆ First time havi… │\n",
       "│ Resident Evil 5… ┆ 1.0    ┆ 2001-10-01  ┆ good             │\n",
       "└──────────────────┴────────┴─────────────┴──────────────────┘"
      ]
     },
     "execution_count": 47,
     "metadata": {},
     "output_type": "execute_result"
    }
   ],
   "source": [
    "# Sorting the non-string columns (which is 'rating' and 'review_date') \n",
    "# there is not a row with a rating of 1 and a date of 2001-10-01 in the dataset\n",
    "# what we see here are the columns rating and review_date sorted independently of each other\n",
    "video_games_reviews.with_columns(pl.all().exclude(pl.Utf8).sort()).head(2)"
   ]
  },
  {
   "attachments": {},
   "cell_type": "markdown",
   "metadata": {},
   "source": [
    "#### Advanced column selection"
   ]
  },
  {
   "cell_type": "code",
   "execution_count": 48,
   "metadata": {},
   "outputs": [
    {
     "data": {
      "text/html": [
       "<div><style>\n",
       ".dataframe > thead > tr > th,\n",
       ".dataframe > tbody > tr > td {\n",
       "  text-align: right;\n",
       "}\n",
       "</style>\n",
       "<small>shape: (1, 11)</small><table border=\"1\" class=\"dataframe\"><thead><tr><th>perc_0</th><th>perc_10</th><th>perc_20</th><th>perc_30</th><th>perc_40</th><th>perc_50</th><th>perc_60</th><th>perc_70</th><th>perc_80</th><th>perc_90</th><th>perc_100</th></tr><tr><td>f64</td><td>f64</td><td>f64</td><td>f64</td><td>f64</td><td>f64</td><td>f64</td><td>f64</td><td>f64</td><td>f64</td><td>f64</td></tr></thead><tbody><tr><td>1.0</td><td>2.0</td><td>4.0</td><td>4.0</td><td>5.0</td><td>5.0</td><td>5.0</td><td>5.0</td><td>5.0</td><td>5.0</td><td>5.0</td></tr></tbody></table></div>"
      ],
      "text/plain": [
       "shape: (1, 11)\n",
       "┌────────┬─────────┬─────────┬─────────┬───┬─────────┬─────────┬─────────┬──────────┐\n",
       "│ perc_0 ┆ perc_10 ┆ perc_20 ┆ perc_30 ┆ … ┆ perc_70 ┆ perc_80 ┆ perc_90 ┆ perc_100 │\n",
       "│ ---    ┆ ---     ┆ ---     ┆ ---     ┆   ┆ ---     ┆ ---     ┆ ---     ┆ ---      │\n",
       "│ f64    ┆ f64     ┆ f64     ┆ f64     ┆   ┆ f64     ┆ f64     ┆ f64     ┆ f64      │\n",
       "╞════════╪═════════╪═════════╪═════════╪═══╪═════════╪═════════╪═════════╪══════════╡\n",
       "│ 1.0    ┆ 2.0     ┆ 4.0     ┆ 4.0     ┆ … ┆ 5.0     ┆ 5.0     ┆ 5.0     ┆ 5.0      │\n",
       "└────────┴─────────┴─────────┴─────────┴───┴─────────┴─────────┴─────────┴──────────┘"
      ]
     },
     "execution_count": 48,
     "metadata": {},
     "output_type": "execute_result"
    }
   ],
   "source": [
    "# Calculate the quantiles of the rating column: one decile per column\n",
    "video_games_reviews.select(\n",
    "    pl.col('rating').quantile(i/100).alias(f'perc_{i}') for i in range(0, 101, 10)\n",
    ")"
   ]
  },
  {
   "cell_type": "code",
   "execution_count": 49,
   "metadata": {},
   "outputs": [
    {
     "name": "stdout",
     "output_type": "stream",
     "text": [
      "shape: (1, 4)\n",
      "┌───────┬────────┬─────────────┬─────────────┐\n",
      "│ title ┆ rating ┆ review_date ┆ review_text │\n",
      "│ ---   ┆ ---    ┆ ---         ┆ ---         │\n",
      "│ u32   ┆ u32    ┆ u32         ┆ u32         │\n",
      "╞═══════╪════════╪═════════════╪═════════════╡\n",
      "│ 102   ┆ 5      ┆ 4406        ┆ 35823       │\n",
      "└───────┴────────┴─────────────┴─────────────┘\n"
     ]
    }
   ],
   "source": [
    "# Count the number of unique values for each column\n",
    "print(video_games_reviews.select(pl.all().n_unique()))"
   ]
  },
  {
   "cell_type": "code",
   "execution_count": 50,
   "metadata": {},
   "outputs": [
    {
     "name": "stdout",
     "output_type": "stream",
     "text": [
      "shape: (1, 4)\n",
      "┌───────┬────────┬─────────────┬─────────────┐\n",
      "│ title ┆ rating ┆ review_date ┆ review_text │\n",
      "│ ---   ┆ ---    ┆ ---         ┆ ---         │\n",
      "│ bool  ┆ bool   ┆ bool        ┆ bool        │\n",
      "╞═══════╪════════╪═════════════╪═════════════╡\n",
      "│ true  ┆ true   ┆ false       ┆ false       │\n",
      "└───────┴────────┴─────────────┴─────────────┘\n"
     ]
    }
   ],
   "source": [
    "# Verify which columns have less than 200 unique values\n",
    "print(video_games_reviews.select(pl.all().n_unique() < 200))"
   ]
  },
  {
   "cell_type": "code",
   "execution_count": 51,
   "metadata": {},
   "outputs": [
    {
     "data": {
      "text/plain": [
       "['title', 'rating']"
      ]
     },
     "execution_count": 51,
     "metadata": {},
     "output_type": "execute_result"
    }
   ],
   "source": [
    "# Extract the columns with less than 200 unique values\n",
    "# .any() returns True if any value is True so it filters the columns\n",
    "[column.name for column in\n",
    "    video_games_reviews.select(pl.all().n_unique() < 200)\n",
    "    if column.any()]"
   ]
  },
  {
   "cell_type": "code",
   "execution_count": 52,
   "metadata": {},
   "outputs": [
    {
     "data": {
      "text/html": [
       "<div><style>\n",
       ".dataframe > thead > tr > th,\n",
       ".dataframe > tbody > tr > td {\n",
       "  text-align: right;\n",
       "}\n",
       "</style>\n",
       "<small>shape: (2, 2)</small><table border=\"1\" class=\"dataframe\"><thead><tr><th>title</th><th>rating</th></tr><tr><td>str</td><td>f64</td></tr></thead><tbody><tr><td>&quot;Killzone: Shad…</td><td>5.0</td></tr><tr><td>&quot;Resident Evil …</td><td>5.0</td></tr></tbody></table></div>"
      ],
      "text/plain": [
       "shape: (2, 2)\n",
       "┌──────────────────┬────────┐\n",
       "│ title            ┆ rating │\n",
       "│ ---              ┆ ---    │\n",
       "│ str              ┆ f64    │\n",
       "╞══════════════════╪════════╡\n",
       "│ Killzone: Shado… ┆ 5.0    │\n",
       "│ Resident Evil 5… ┆ 5.0    │\n",
       "└──────────────────┴────────┘"
      ]
     },
     "execution_count": 52,
     "metadata": {},
     "output_type": "execute_result"
    }
   ],
   "source": [
    "# Select columns that have less than 200 unique values\n",
    "video_games_reviews.select(\n",
    "    column.name for column in\n",
    "    video_games_reviews.select(pl.all().n_unique() < 200)\n",
    "    if column.any()).head(2)"
   ]
  },
  {
   "cell_type": "markdown",
   "metadata": {},
   "source": [
    "#### Filter columns"
   ]
  },
  {
   "cell_type": "code",
   "execution_count": 53,
   "metadata": {},
   "outputs": [
    {
     "data": {
      "text/html": [
       "<div><style>\n",
       ".dataframe > thead > tr > th,\n",
       ".dataframe > tbody > tr > td {\n",
       "  text-align: right;\n",
       "}\n",
       "</style>\n",
       "<small>shape: (2, 4)</small><table border=\"1\" class=\"dataframe\"><thead><tr><th>title</th><th>rating</th><th>review_date</th><th>review_text</th></tr><tr><td>str</td><td>f64</td><td>date</td><td>str</td></tr></thead><tbody><tr><td>&quot;The Last of Us…</td><td>5.0</td><td>2017-01-12</td><td>&quot;brings the DLC…</td></tr><tr><td>&quot;The Last of Us…</td><td>5.0</td><td>2015-02-12</td><td>&quot;wow umm yea th…</td></tr></tbody></table></div>"
      ],
      "text/plain": [
       "shape: (2, 4)\n",
       "┌──────────────────┬────────┬─────────────┬──────────────────┐\n",
       "│ title            ┆ rating ┆ review_date ┆ review_text      │\n",
       "│ ---              ┆ ---    ┆ ---         ┆ ---              │\n",
       "│ str              ┆ f64    ┆ date        ┆ str              │\n",
       "╞══════════════════╪════════╪═════════════╪══════════════════╡\n",
       "│ The Last of Us … ┆ 5.0    ┆ 2017-01-12  ┆ brings the DLCs… │\n",
       "│ The Last of Us … ┆ 5.0    ┆ 2015-02-12  ┆ wow umm yea thi… │\n",
       "└──────────────────┴────────┴─────────────┴──────────────────┘"
      ]
     },
     "execution_count": 53,
     "metadata": {},
     "output_type": "execute_result"
    }
   ],
   "source": [
    "# Filter dataframe based on one value\n",
    "video_games_reviews.filter(\n",
    "    pl.col('title') == 'The Last of Us Remastered - PlayStation 4'\n",
    "    ).head(2)"
   ]
  },
  {
   "cell_type": "code",
   "execution_count": 54,
   "metadata": {},
   "outputs": [
    {
     "data": {
      "text/html": [
       "<div><style>\n",
       ".dataframe > thead > tr > th,\n",
       ".dataframe > tbody > tr > td {\n",
       "  text-align: right;\n",
       "}\n",
       "</style>\n",
       "<small>shape: (2, 4)</small><table border=\"1\" class=\"dataframe\"><thead><tr><th>title</th><th>rating</th><th>review_date</th><th>review_text</th></tr><tr><td>str</td><td>f64</td><td>date</td><td>str</td></tr></thead><tbody><tr><td>&quot;Resident Evil …</td><td>5.0</td><td>2014-07-29</td><td>&quot;good&quot;</td></tr><tr><td>&quot;The Last of Us…</td><td>5.0</td><td>2017-01-12</td><td>&quot;brings the DLC…</td></tr></tbody></table></div>"
      ],
      "text/plain": [
       "shape: (2, 4)\n",
       "┌──────────────────┬────────┬─────────────┬──────────────────┐\n",
       "│ title            ┆ rating ┆ review_date ┆ review_text      │\n",
       "│ ---              ┆ ---    ┆ ---         ┆ ---              │\n",
       "│ str              ┆ f64    ┆ date        ┆ str              │\n",
       "╞══════════════════╪════════╪═════════════╪══════════════════╡\n",
       "│ Resident Evil 5… ┆ 5.0    ┆ 2014-07-29  ┆ good             │\n",
       "│ The Last of Us … ┆ 5.0    ┆ 2017-01-12  ┆ brings the DLCs… │\n",
       "└──────────────────┴────────┴─────────────┴──────────────────┘"
      ]
     },
     "execution_count": 54,
     "metadata": {},
     "output_type": "execute_result"
    }
   ],
   "source": [
    "# Filter dataframe based on multiple values\n",
    "video_games_reviews.filter(\n",
    "    pl.col('title').is_in(['The Last of Us Remastered - PlayStation 4', 'Resident Evil 5 - Xbox 360'])\n",
    "    ).head(2)\n"
   ]
  },
  {
   "cell_type": "code",
   "execution_count": 55,
   "metadata": {},
   "outputs": [
    {
     "data": {
      "text/html": [
       "<div><style>\n",
       ".dataframe > thead > tr > th,\n",
       ".dataframe > tbody > tr > td {\n",
       "  text-align: right;\n",
       "}\n",
       "</style>\n",
       "<small>shape: (2, 4)</small><table border=\"1\" class=\"dataframe\"><thead><tr><th>title</th><th>rating</th><th>review_date</th><th>review_text</th></tr><tr><td>str</td><td>f64</td><td>date</td><td>str</td></tr></thead><tbody><tr><td>&quot;inFAMOUS: Seco…</td><td>1.0</td><td>2014-07-12</td><td>&quot;Going through …</td></tr><tr><td>&quot;inFAMOUS: Seco…</td><td>1.0</td><td>2014-06-16</td><td>&quot;Horrible game,…</td></tr></tbody></table></div>"
      ],
      "text/plain": [
       "shape: (2, 4)\n",
       "┌──────────────────┬────────┬─────────────┬──────────────────┐\n",
       "│ title            ┆ rating ┆ review_date ┆ review_text      │\n",
       "│ ---              ┆ ---    ┆ ---         ┆ ---              │\n",
       "│ str              ┆ f64    ┆ date        ┆ str              │\n",
       "╞══════════════════╪════════╪═════════════╪══════════════════╡\n",
       "│ inFAMOUS: Secon… ┆ 1.0    ┆ 2014-07-12  ┆ Going through m… │\n",
       "│ inFAMOUS: Secon… ┆ 1.0    ┆ 2014-06-16  ┆ Horrible game, … │\n",
       "└──────────────────┴────────┴─────────────┴──────────────────┘"
      ]
     },
     "execution_count": 55,
     "metadata": {},
     "output_type": "execute_result"
    }
   ],
   "source": [
    "# Filter dataframe based on multiple values : use AND &\n",
    "video_games_reviews.filter(\n",
    "    (pl.col('rating') == 1) &\n",
    "    (pl.col('title') == 'inFAMOUS: Second Son Standard Edition (PlayStation 4)')\n",
    "    ).head(2)"
   ]
  },
  {
   "cell_type": "code",
   "execution_count": 56,
   "metadata": {},
   "outputs": [
    {
     "data": {
      "text/html": [
       "<div><style>\n",
       ".dataframe > thead > tr > th,\n",
       ".dataframe > tbody > tr > td {\n",
       "  text-align: right;\n",
       "}\n",
       "</style>\n",
       "<small>shape: (2, 4)</small><table border=\"1\" class=\"dataframe\"><thead><tr><th>title</th><th>rating</th><th>review_date</th><th>review_text</th></tr><tr><td>str</td><td>f64</td><td>date</td><td>str</td></tr></thead><tbody><tr><td>&quot;Bloodborne&quot;</td><td>1.0</td><td>2015-07-13</td><td>&quot;Game blowd&quot;</td></tr><tr><td>&quot;inFAMOUS: Seco…</td><td>5.0</td><td>2017-01-23</td><td>&quot;Just awesome. …</td></tr></tbody></table></div>"
      ],
      "text/plain": [
       "shape: (2, 4)\n",
       "┌──────────────────┬────────┬─────────────┬──────────────────┐\n",
       "│ title            ┆ rating ┆ review_date ┆ review_text      │\n",
       "│ ---              ┆ ---    ┆ ---         ┆ ---              │\n",
       "│ str              ┆ f64    ┆ date        ┆ str              │\n",
       "╞══════════════════╪════════╪═════════════╪══════════════════╡\n",
       "│ Bloodborne       ┆ 1.0    ┆ 2015-07-13  ┆ Game blowd       │\n",
       "│ inFAMOUS: Secon… ┆ 5.0    ┆ 2017-01-23  ┆ Just awesome. O… │\n",
       "└──────────────────┴────────┴─────────────┴──────────────────┘"
      ]
     },
     "execution_count": 56,
     "metadata": {},
     "output_type": "execute_result"
    }
   ],
   "source": [
    "# Filter dataframe based on multiple values : use OR |\n",
    "video_games_reviews.filter(\n",
    "    (pl.col('rating') == 1) |\n",
    "    (pl.col('title') == 'inFAMOUS: Second Son Standard Edition (PlayStation 4)')\n",
    "    ).head(2)\n"
   ]
  },
  {
   "cell_type": "code",
   "execution_count": 57,
   "metadata": {},
   "outputs": [
    {
     "data": {
      "text/html": [
       "<div><style>\n",
       ".dataframe > thead > tr > th,\n",
       ".dataframe > tbody > tr > td {\n",
       "  text-align: right;\n",
       "}\n",
       "</style>\n",
       "<small>shape: (2, 4)</small><table border=\"1\" class=\"dataframe\"><thead><tr><th>title</th><th>rating</th><th>review_date</th><th>review_text</th></tr><tr><td>str</td><td>f64</td><td>date</td><td>str</td></tr></thead><tbody><tr><td>&quot;Final Fantasy …</td><td>2.0</td><td>2014-08-24</td><td>&quot;This game didn…</td></tr><tr><td>&quot;Bloodborne&quot;</td><td>1.0</td><td>2015-07-13</td><td>&quot;Game blowd&quot;</td></tr></tbody></table></div>"
      ],
      "text/plain": [
       "shape: (2, 4)\n",
       "┌─────────────────┬────────┬─────────────┬──────────────────┐\n",
       "│ title           ┆ rating ┆ review_date ┆ review_text      │\n",
       "│ ---             ┆ ---    ┆ ---         ┆ ---              │\n",
       "│ str             ┆ f64    ┆ date        ┆ str              │\n",
       "╞═════════════════╪════════╪═════════════╪══════════════════╡\n",
       "│ Final Fantasy X ┆ 2.0    ┆ 2014-08-24  ┆ This game didn'… │\n",
       "│ Bloodborne      ┆ 1.0    ┆ 2015-07-13  ┆ Game blowd       │\n",
       "└─────────────────┴────────┴─────────────┴──────────────────┘"
      ]
     },
     "execution_count": 57,
     "metadata": {},
     "output_type": "execute_result"
    }
   ],
   "source": [
    "# Filter dataframe using numerical values: ratings bigger or equal to 4 and less than 3\n",
    "video_games_reviews.filter(\n",
    "    (pl.col('rating') >= 1) &\n",
    "    (pl.col('rating') < 3)\n",
    "    ).head(2)"
   ]
  },
  {
   "cell_type": "code",
   "execution_count": 58,
   "metadata": {},
   "outputs": [
    {
     "data": {
      "text/html": [
       "<div><style>\n",
       ".dataframe > thead > tr > th,\n",
       ".dataframe > tbody > tr > td {\n",
       "  text-align: right;\n",
       "}\n",
       "</style>\n",
       "<small>shape: (2, 4)</small><table border=\"1\" class=\"dataframe\"><thead><tr><th>title</th><th>rating</th><th>review_date</th><th>review_text</th></tr><tr><td>str</td><td>f64</td><td>date</td><td>str</td></tr></thead><tbody><tr><td>&quot;Killzone: Shad…</td><td>5.0</td><td>2016-12-02</td><td>&quot;First time hav…</td></tr><tr><td>&quot;Resident Evil …</td><td>5.0</td><td>2014-07-29</td><td>&quot;good&quot;</td></tr></tbody></table></div>"
      ],
      "text/plain": [
       "shape: (2, 4)\n",
       "┌──────────────────┬────────┬─────────────┬──────────────────┐\n",
       "│ title            ┆ rating ┆ review_date ┆ review_text      │\n",
       "│ ---              ┆ ---    ┆ ---         ┆ ---              │\n",
       "│ str              ┆ f64    ┆ date        ┆ str              │\n",
       "╞══════════════════╪════════╪═════════════╪══════════════════╡\n",
       "│ Killzone: Shado… ┆ 5.0    ┆ 2016-12-02  ┆ First time havi… │\n",
       "│ Resident Evil 5… ┆ 5.0    ┆ 2014-07-29  ┆ good             │\n",
       "└──────────────────┴────────┴─────────────┴──────────────────┘"
      ]
     },
     "execution_count": 58,
     "metadata": {},
     "output_type": "execute_result"
    }
   ],
   "source": [
    "# Filter dataframe using regex: filter all videogame titles that contain 'PlayStation 4' or 'Xbox 360'\n",
    "video_games_reviews.filter(\n",
    "    pl.col('title').str.contains('PlayStation 4|Xbox 360')\n",
    ").head(2)"
   ]
  },
  {
   "cell_type": "code",
   "execution_count": 59,
   "metadata": {},
   "outputs": [
    {
     "data": {
      "text/html": [
       "<div><style>\n",
       ".dataframe > thead > tr > th,\n",
       ".dataframe > tbody > tr > td {\n",
       "  text-align: right;\n",
       "}\n",
       "</style>\n",
       "<small>shape: (1, 4)</small><table border=\"1\" class=\"dataframe\"><thead><tr><th>title</th><th>rating</th><th>review_date</th><th>review_text</th></tr><tr><td>str</td><td>f64</td><td>date</td><td>str</td></tr></thead><tbody><tr><td>&quot;Batman: Arkham…</td><td>5.0</td><td>2018-08-27</td><td>&quot;Was good but I…</td></tr></tbody></table></div>"
      ],
      "text/plain": [
       "shape: (1, 4)\n",
       "┌──────────────────┬────────┬─────────────┬──────────────────┐\n",
       "│ title            ┆ rating ┆ review_date ┆ review_text      │\n",
       "│ ---              ┆ ---    ┆ ---         ┆ ---              │\n",
       "│ str              ┆ f64    ┆ date        ┆ str              │\n",
       "╞══════════════════╪════════╪═════════════╪══════════════════╡\n",
       "│ Batman: Arkham … ┆ 5.0    ┆ 2018-08-27  ┆ Was good but I … │\n",
       "└──────────────────┴────────┴─────────────┴──────────────────┘"
      ]
     },
     "execution_count": 59,
     "metadata": {},
     "output_type": "execute_result"
    }
   ],
   "source": [
    "# Filter based on a calculation: show the rating with the latest date\n",
    "video_games_reviews.filter(\n",
    "    pl.col('review_date') == pl.col('review_date').max()\n",
    ").head(2)"
   ]
  },
  {
   "attachments": {},
   "cell_type": "markdown",
   "metadata": {},
   "source": [
    "#### Unique and duplicated values"
   ]
  },
  {
   "cell_type": "code",
   "execution_count": 60,
   "metadata": {},
   "outputs": [
    {
     "data": {
      "text/plain": [
       "33999"
      ]
     },
     "execution_count": 60,
     "metadata": {},
     "output_type": "execute_result"
    }
   ],
   "source": [
    "# Show only unique reviews\n",
    "# Remove all reviews that appear more than once\n",
    "video_games_reviews.filter(\n",
    "    video_games_reviews.is_unique()\n",
    ").height"
   ]
  },
  {
   "cell_type": "code",
   "execution_count": 61,
   "metadata": {},
   "outputs": [
    {
     "data": {
      "text/plain": [
       "15578"
      ]
     },
     "execution_count": 61,
     "metadata": {},
     "output_type": "execute_result"
    }
   ],
   "source": [
    "# Show only duplicated reviews: \n",
    "# Show only reviews appearing more than once in the table\n",
    "video_games_reviews.filter(\n",
    "    video_games_reviews.is_duplicated()\n",
    ").height"
   ]
  },
  {
   "cell_type": "code",
   "execution_count": 62,
   "metadata": {},
   "outputs": [
    {
     "data": {
      "text/plain": [
       "317"
      ]
     },
     "execution_count": 62,
     "metadata": {},
     "output_type": "execute_result"
    }
   ],
   "source": [
    "# Show only days with one review \n",
    "video_games_reviews.filter(\n",
    "    pl.col('review_date').is_unique()\n",
    ").height"
   ]
  },
  {
   "cell_type": "code",
   "execution_count": 63,
   "metadata": {},
   "outputs": [
    {
     "data": {
      "text/plain": [
       "49260"
      ]
     },
     "execution_count": 63,
     "metadata": {},
     "output_type": "execute_result"
    }
   ],
   "source": [
    "# Show only days that have 2 or more reviews\n",
    "video_games_reviews.filter(\n",
    "    pl.col('review_date').is_duplicated()\n",
    ").height"
   ]
  },
  {
   "cell_type": "code",
   "execution_count": 64,
   "metadata": {},
   "outputs": [
    {
     "data": {
      "text/html": [
       "<div><style>\n",
       ".dataframe > thead > tr > th,\n",
       ".dataframe > tbody > tr > td {\n",
       "  text-align: right;\n",
       "}\n",
       "</style>\n",
       "<small>shape: (2, 4)</small><table border=\"1\" class=\"dataframe\"><thead><tr><th>title</th><th>rating</th><th>review_date</th><th>review_text</th></tr><tr><td>str</td><td>f64</td><td>date</td><td>str</td></tr></thead><tbody><tr><td>&quot;Uncharted 4: A…</td><td>5.0</td><td>2016-05-14</td><td>&quot;It&#x27;s the best …</td></tr><tr><td>&quot;Playstation Pl…</td><td>5.0</td><td>2017-05-31</td><td>&quot;PSN what else …</td></tr></tbody></table></div>"
      ],
      "text/plain": [
       "shape: (2, 4)\n",
       "┌──────────────────┬────────┬─────────────┬──────────────────┐\n",
       "│ title            ┆ rating ┆ review_date ┆ review_text      │\n",
       "│ ---              ┆ ---    ┆ ---         ┆ ---              │\n",
       "│ str              ┆ f64    ┆ date        ┆ str              │\n",
       "╞══════════════════╪════════╪═════════════╪══════════════════╡\n",
       "│ Uncharted 4: A … ┆ 5.0    ┆ 2016-05-14  ┆ It's the best l… │\n",
       "│ Playstation Plu… ┆ 5.0    ┆ 2017-05-31  ┆ PSN what else i… │\n",
       "└──────────────────┴────────┴─────────────┴──────────────────┘"
      ]
     },
     "execution_count": 64,
     "metadata": {},
     "output_type": "execute_result"
    }
   ],
   "source": [
    "# For reviews that appear more than once, keep only one review\n",
    "video_games_reviews.unique().head(2)"
   ]
  },
  {
   "cell_type": "code",
   "execution_count": 65,
   "metadata": {},
   "outputs": [
    {
     "data": {
      "text/html": [
       "<div><style>\n",
       ".dataframe > thead > tr > th,\n",
       ".dataframe > tbody > tr > td {\n",
       "  text-align: right;\n",
       "}\n",
       "</style>\n",
       "<small>shape: (2, 4)</small><table border=\"1\" class=\"dataframe\"><thead><tr><th>title</th><th>rating</th><th>review_date</th><th>review_text</th></tr><tr><td>str</td><td>f64</td><td>date</td><td>str</td></tr></thead><tbody><tr><td>&quot;Assassin&#x27;s Cre…</td><td>2.0</td><td>2015-02-19</td><td>&quot;not really the…</td></tr><tr><td>&quot;Assassin&#x27;s Cre…</td><td>5.0</td><td>2014-06-20</td><td>&quot;Arrrrrr matee!…</td></tr></tbody></table></div>"
      ],
      "text/plain": [
       "shape: (2, 4)\n",
       "┌──────────────────┬────────┬─────────────┬──────────────────┐\n",
       "│ title            ┆ rating ┆ review_date ┆ review_text      │\n",
       "│ ---              ┆ ---    ┆ ---         ┆ ---              │\n",
       "│ str              ┆ f64    ┆ date        ┆ str              │\n",
       "╞══════════════════╪════════╪═════════════╪══════════════════╡\n",
       "│ Assassin's Cree… ┆ 2.0    ┆ 2015-02-19  ┆ not really the … │\n",
       "│ Assassin's Cree… ┆ 5.0    ┆ 2014-06-20  ┆ Arrrrrr matee! … │\n",
       "└──────────────────┴────────┴─────────────┴──────────────────┘"
      ]
     },
     "execution_count": 65,
     "metadata": {},
     "output_type": "execute_result"
    }
   ],
   "source": [
    "# For reviews that appear more than once, keep only the first review\n",
    "# Not specifying the keep parameter will result in keeping any review, and will be faster\n",
    "video_games_reviews.unique(keep='first').head(2)"
   ]
  },
  {
   "cell_type": "code",
   "execution_count": 66,
   "metadata": {},
   "outputs": [
    {
     "data": {
      "text/plain": [
       "41786"
      ]
     },
     "execution_count": 66,
     "metadata": {},
     "output_type": "execute_result"
    }
   ],
   "source": [
    "# Count the number of unique reviews\n",
    "video_games_reviews.n_unique()"
   ]
  },
  {
   "cell_type": "code",
   "execution_count": 67,
   "metadata": {},
   "outputs": [
    {
     "data": {
      "text/plain": [
       "7791"
      ]
     },
     "execution_count": 67,
     "metadata": {},
     "output_type": "execute_result"
    }
   ],
   "source": [
    "# Count the number of reviews that are duplicates\n",
    "video_games_reviews.height - video_games_reviews.n_unique()"
   ]
  },
  {
   "cell_type": "code",
   "execution_count": 68,
   "metadata": {},
   "outputs": [
    {
     "data": {
      "text/html": [
       "<div><style>\n",
       ".dataframe > thead > tr > th,\n",
       ".dataframe > tbody > tr > td {\n",
       "  text-align: right;\n",
       "}\n",
       "</style>\n",
       "<small>shape: (2, 4)</small><table border=\"1\" class=\"dataframe\"><thead><tr><th>title</th><th>rating</th><th>review_date</th><th>review_text</th></tr><tr><td>str</td><td>f64</td><td>date</td><td>str</td></tr></thead><tbody><tr><td>&quot;Razer DeathAdd…</td><td>3.0</td><td>2016-02-04</td><td>&quot;For years I ha…</td></tr><tr><td>&quot;Borderlands - …</td><td>1.0</td><td>2013-03-21</td><td>&quot;Waste of time.…</td></tr></tbody></table></div>"
      ],
      "text/plain": [
       "shape: (2, 4)\n",
       "┌──────────────────┬────────┬─────────────┬──────────────────┐\n",
       "│ title            ┆ rating ┆ review_date ┆ review_text      │\n",
       "│ ---              ┆ ---    ┆ ---         ┆ ---              │\n",
       "│ str              ┆ f64    ┆ date        ┆ str              │\n",
       "╞══════════════════╪════════╪═════════════╪══════════════════╡\n",
       "│ Razer DeathAdde… ┆ 3.0    ┆ 2016-02-04  ┆ For years I hav… │\n",
       "│ Borderlands - X… ┆ 1.0    ┆ 2013-03-21  ┆ Waste of time. … │\n",
       "└──────────────────┴────────┴─────────────┴──────────────────┘"
      ]
     },
     "execution_count": 68,
     "metadata": {},
     "output_type": "execute_result"
    }
   ],
   "source": [
    "# Keep only one review for each combination of title and rating\n",
    "video_games_reviews.unique(subset=['title','rating']).head(2)"
   ]
  },
  {
   "cell_type": "code",
   "execution_count": 69,
   "metadata": {},
   "outputs": [
    {
     "data": {
      "text/html": [
       "<div><style>\n",
       ".dataframe > thead > tr > th,\n",
       ".dataframe > tbody > tr > td {\n",
       "  text-align: right;\n",
       "}\n",
       "</style>\n",
       "<small>shape: (5, 1)</small><table border=\"1\" class=\"dataframe\"><thead><tr><th>rating</th></tr><tr><td>f64</td></tr></thead><tbody><tr><td>1.0</td></tr><tr><td>2.0</td></tr><tr><td>3.0</td></tr><tr><td>4.0</td></tr><tr><td>5.0</td></tr></tbody></table></div>"
      ],
      "text/plain": [
       "shape: (5, 1)\n",
       "┌────────┐\n",
       "│ rating │\n",
       "│ ---    │\n",
       "│ f64    │\n",
       "╞════════╡\n",
       "│ 1.0    │\n",
       "│ 2.0    │\n",
       "│ 3.0    │\n",
       "│ 4.0    │\n",
       "│ 5.0    │\n",
       "└────────┘"
      ]
     },
     "execution_count": 69,
     "metadata": {},
     "output_type": "execute_result"
    }
   ],
   "source": [
    "# Show all unique values for rating\n",
    "# Equivalent to the SQL command: SELECT DISTINCT rating FROM video_games_reviews\n",
    "video_games_reviews.select(pl.col('rating').unique())"
   ]
  },
  {
   "cell_type": "code",
   "execution_count": 70,
   "metadata": {},
   "outputs": [
    {
     "data": {
      "text/html": [
       "<div><style>\n",
       ".dataframe > thead > tr > th,\n",
       ".dataframe > tbody > tr > td {\n",
       "  text-align: right;\n",
       "}\n",
       "</style>\n",
       "<small>shape: (1, 4)</small><table border=\"1\" class=\"dataframe\"><thead><tr><th>title</th><th>rating</th><th>review_date</th><th>review_text</th></tr><tr><td>u32</td><td>u32</td><td>u32</td><td>u32</td></tr></thead><tbody><tr><td>102</td><td>5</td><td>4406</td><td>35823</td></tr></tbody></table></div>"
      ],
      "text/plain": [
       "shape: (1, 4)\n",
       "┌───────┬────────┬─────────────┬─────────────┐\n",
       "│ title ┆ rating ┆ review_date ┆ review_text │\n",
       "│ ---   ┆ ---    ┆ ---         ┆ ---         │\n",
       "│ u32   ┆ u32    ┆ u32         ┆ u32         │\n",
       "╞═══════╪════════╪═════════════╪═════════════╡\n",
       "│ 102   ┆ 5      ┆ 4406        ┆ 35823       │\n",
       "└───────┴────────┴─────────────┴─────────────┘"
      ]
     },
     "execution_count": 70,
     "metadata": {},
     "output_type": "execute_result"
    }
   ],
   "source": [
    "# Count the unique values for each column\n",
    "video_games_reviews.select(pl.all().n_unique())"
   ]
  },
  {
   "cell_type": "code",
   "execution_count": 71,
   "metadata": {},
   "outputs": [
    {
     "name": "stdout",
     "output_type": "stream",
     "text": [
      "shape: (5, 1)\n",
      "┌─────────────┐\n",
      "│ rating      │\n",
      "│ ---         │\n",
      "│ struct[2]   │\n",
      "╞═════════════╡\n",
      "│ {5.0,32858} │\n",
      "│ {4.0,7632}  │\n",
      "│ {3.0,4018}  │\n",
      "│ {1.0,2969}  │\n",
      "│ {2.0,2100}  │\n",
      "└─────────────┘\n"
     ]
    }
   ],
   "source": [
    "# Show unique value and their count for a column\n",
    "print(video_games_reviews.select(pl.col('rating').value_counts(sort=True)))"
   ]
  },
  {
   "cell_type": "markdown",
   "metadata": {},
   "source": [
    "#### Missing Values"
   ]
  },
  {
   "cell_type": "code",
   "execution_count": 111,
   "metadata": {},
   "outputs": [
    {
     "data": {
      "text/html": [
       "<div><style>\n",
       ".dataframe > thead > tr > th,\n",
       ".dataframe > tbody > tr > td {\n",
       "  text-align: right;\n",
       "}\n",
       "</style>\n",
       "<small>shape: (1, 4)</small><table border=\"1\" class=\"dataframe\"><thead><tr><th>title</th><th>rating</th><th>review_date</th><th>review_text</th></tr><tr><td>u32</td><td>u32</td><td>u32</td><td>u32</td></tr></thead><tbody><tr><td>418</td><td>0</td><td>0</td><td>17</td></tr></tbody></table></div>"
      ],
      "text/plain": [
       "shape: (1, 4)\n",
       "┌───────┬────────┬─────────────┬─────────────┐\n",
       "│ title ┆ rating ┆ review_date ┆ review_text │\n",
       "│ ---   ┆ ---    ┆ ---         ┆ ---         │\n",
       "│ u32   ┆ u32    ┆ u32         ┆ u32         │\n",
       "╞═══════╪════════╪═════════════╪═════════════╡\n",
       "│ 418   ┆ 0      ┆ 0           ┆ 17          │\n",
       "└───────┴────────┴─────────────┴─────────────┘"
      ]
     },
     "execution_count": 111,
     "metadata": {},
     "output_type": "execute_result"
    }
   ],
   "source": [
    "# Count missing values for each column\n",
    "video_games_reviews.null_count()"
   ]
  },
  {
   "cell_type": "code",
   "execution_count": 113,
   "metadata": {},
   "outputs": [
    {
     "data": {
      "text/html": [
       "<div><style>\n",
       ".dataframe > thead > tr > th,\n",
       ".dataframe > tbody > tr > td {\n",
       "  text-align: right;\n",
       "}\n",
       "</style>\n",
       "<small>shape: (2, 4)</small><table border=\"1\" class=\"dataframe\"><thead><tr><th>title</th><th>rating</th><th>review_date</th><th>review_text</th></tr><tr><td>str</td><td>f64</td><td>date</td><td>str</td></tr></thead><tbody><tr><td>&quot;Batman: Arkham…</td><td>5.0</td><td>2016-07-26</td><td>null</td></tr><tr><td>&quot;Minecraft&quot;</td><td>5.0</td><td>2015-03-02</td><td>null</td></tr></tbody></table></div>"
      ],
      "text/plain": [
       "shape: (2, 4)\n",
       "┌──────────────────┬────────┬─────────────┬─────────────┐\n",
       "│ title            ┆ rating ┆ review_date ┆ review_text │\n",
       "│ ---              ┆ ---    ┆ ---         ┆ ---         │\n",
       "│ str              ┆ f64    ┆ date        ┆ str         │\n",
       "╞══════════════════╪════════╪═════════════╪═════════════╡\n",
       "│ Batman: Arkham … ┆ 5.0    ┆ 2016-07-26  ┆ null        │\n",
       "│ Minecraft        ┆ 5.0    ┆ 2015-03-02  ┆ null        │\n",
       "└──────────────────┴────────┴─────────────┴─────────────┘"
      ]
     },
     "execution_count": 113,
     "metadata": {},
     "output_type": "execute_result"
    }
   ],
   "source": [
    "# Filter missing values for text column\n",
    "video_games_reviews.filter(pl.col('review_text').is_null()).head(2)"
   ]
  },
  {
   "cell_type": "code",
   "execution_count": 74,
   "metadata": {},
   "outputs": [
    {
     "data": {
      "text/html": [
       "<div><style>\n",
       ".dataframe > thead > tr > th,\n",
       ".dataframe > tbody > tr > td {\n",
       "  text-align: right;\n",
       "}\n",
       "</style>\n",
       "<small>shape: (2, 4)</small><table border=\"1\" class=\"dataframe\"><thead><tr><th>title</th><th>rating</th><th>review_date</th><th>review_text</th></tr><tr><td>str</td><td>f64</td><td>date</td><td>str</td></tr></thead><tbody><tr><td>&quot;Killzone: Shad…</td><td>5.0</td><td>2016-12-02</td><td>&quot;First time hav…</td></tr><tr><td>&quot;Resident Evil …</td><td>5.0</td><td>2014-07-29</td><td>&quot;good&quot;</td></tr></tbody></table></div>"
      ],
      "text/plain": [
       "shape: (2, 4)\n",
       "┌──────────────────┬────────┬─────────────┬──────────────────┐\n",
       "│ title            ┆ rating ┆ review_date ┆ review_text      │\n",
       "│ ---              ┆ ---    ┆ ---         ┆ ---              │\n",
       "│ str              ┆ f64    ┆ date        ┆ str              │\n",
       "╞══════════════════╪════════╪═════════════╪══════════════════╡\n",
       "│ Killzone: Shado… ┆ 5.0    ┆ 2016-12-02  ┆ First time havi… │\n",
       "│ Resident Evil 5… ┆ 5.0    ┆ 2014-07-29  ┆ good             │\n",
       "└──────────────────┴────────┴─────────────┴──────────────────┘"
      ]
     },
     "execution_count": 74,
     "metadata": {},
     "output_type": "execute_result"
    }
   ],
   "source": [
    "# Drop null values for title column\n",
    "video_games_reviews.filter(\n",
    "    pl.col('review_text').is_not_null()\n",
    ").head(2)"
   ]
  },
  {
   "cell_type": "code",
   "execution_count": 115,
   "metadata": {},
   "outputs": [
    {
     "data": {
      "text/html": [
       "<div><style>\n",
       ".dataframe > thead > tr > th,\n",
       ".dataframe > tbody > tr > td {\n",
       "  text-align: right;\n",
       "}\n",
       "</style>\n",
       "<small>shape: (1, 4)</small><table border=\"1\" class=\"dataframe\"><thead><tr><th>title</th><th>rating</th><th>review_date</th><th>review_text</th></tr><tr><td>u32</td><td>u32</td><td>u32</td><td>u32</td></tr></thead><tbody><tr><td>418</td><td>0</td><td>0</td><td>0</td></tr></tbody></table></div>"
      ],
      "text/plain": [
       "shape: (1, 4)\n",
       "┌───────┬────────┬─────────────┬─────────────┐\n",
       "│ title ┆ rating ┆ review_date ┆ review_text │\n",
       "│ ---   ┆ ---    ┆ ---         ┆ ---         │\n",
       "│ u32   ┆ u32    ┆ u32         ┆ u32         │\n",
       "╞═══════╪════════╪═════════════╪═════════════╡\n",
       "│ 418   ┆ 0      ┆ 0           ┆ 0           │\n",
       "└───────┴────────┴─────────────┴─────────────┘"
      ]
     },
     "execution_count": 115,
     "metadata": {},
     "output_type": "execute_result"
    }
   ],
   "source": [
    "# Verify that dropping nulls for title column worked\n",
    "video_games_reviews.filter(\n",
    "    pl.col('review_text').is_not_null()\n",
    ").null_count()"
   ]
  },
  {
   "cell_type": "code",
   "execution_count": 76,
   "metadata": {},
   "outputs": [
    {
     "data": {
      "text/html": [
       "<div><style>\n",
       ".dataframe > thead > tr > th,\n",
       ".dataframe > tbody > tr > td {\n",
       "  text-align: right;\n",
       "}\n",
       "</style>\n",
       "<small>shape: (2, 4)</small><table border=\"1\" class=\"dataframe\"><thead><tr><th>title</th><th>rating</th><th>review_date</th><th>review_text</th></tr><tr><td>str</td><td>f64</td><td>date</td><td>str</td></tr></thead><tbody><tr><td>&quot;Killzone: Shad…</td><td>5.0</td><td>2016-12-02</td><td>&quot;First time hav…</td></tr><tr><td>&quot;Resident Evil …</td><td>5.0</td><td>2014-07-29</td><td>&quot;good&quot;</td></tr></tbody></table></div>"
      ],
      "text/plain": [
       "shape: (2, 4)\n",
       "┌──────────────────┬────────┬─────────────┬──────────────────┐\n",
       "│ title            ┆ rating ┆ review_date ┆ review_text      │\n",
       "│ ---              ┆ ---    ┆ ---         ┆ ---              │\n",
       "│ str              ┆ f64    ┆ date        ┆ str              │\n",
       "╞══════════════════╪════════╪═════════════╪══════════════════╡\n",
       "│ Killzone: Shado… ┆ 5.0    ┆ 2016-12-02  ┆ First time havi… │\n",
       "│ Resident Evil 5… ┆ 5.0    ┆ 2014-07-29  ┆ good             │\n",
       "└──────────────────┴────────┴─────────────┴──────────────────┘"
      ]
     },
     "execution_count": 76,
     "metadata": {},
     "output_type": "execute_result"
    }
   ],
   "source": [
    "# Fill null values for review_text column with 'No review'\n",
    "video_games_reviews.with_columns(\n",
    "    pl.col('review_text').fill_null('! No review')\n",
    ").head(2)"
   ]
  },
  {
   "cell_type": "code",
   "execution_count": 117,
   "metadata": {},
   "outputs": [
    {
     "data": {
      "text/html": [
       "<div><style>\n",
       ".dataframe > thead > tr > th,\n",
       ".dataframe > tbody > tr > td {\n",
       "  text-align: right;\n",
       "}\n",
       "</style>\n",
       "<small>shape: (2, 4)</small><table border=\"1\" class=\"dataframe\"><thead><tr><th>title</th><th>rating</th><th>review_date</th><th>review_text</th></tr><tr><td>str</td><td>f64</td><td>date</td><td>str</td></tr></thead><tbody><tr><td>&quot;Batman: Arkham…</td><td>5.0</td><td>2016-07-26</td><td>&quot;! No review&quot;</td></tr><tr><td>&quot;Minecraft&quot;</td><td>5.0</td><td>2015-03-02</td><td>&quot;! No review&quot;</td></tr></tbody></table></div>"
      ],
      "text/plain": [
       "shape: (2, 4)\n",
       "┌──────────────────┬────────┬─────────────┬─────────────┐\n",
       "│ title            ┆ rating ┆ review_date ┆ review_text │\n",
       "│ ---              ┆ ---    ┆ ---         ┆ ---         │\n",
       "│ str              ┆ f64    ┆ date        ┆ str         │\n",
       "╞══════════════════╪════════╪═════════════╪═════════════╡\n",
       "│ Batman: Arkham … ┆ 5.0    ┆ 2016-07-26  ┆ ! No review │\n",
       "│ Minecraft        ┆ 5.0    ┆ 2015-03-02  ┆ ! No review │\n",
       "└──────────────────┴────────┴─────────────┴─────────────┘"
      ]
     },
     "execution_count": 117,
     "metadata": {},
     "output_type": "execute_result"
    }
   ],
   "source": [
    "# Verify if filling nulls for review_text column worked\n",
    "video_games_reviews.with_columns(\n",
    "    pl.col('review_text').fill_null('! No review')\n",
    ").filter(\n",
    "    pl.col('review_text') == '! No review'\n",
    ").head(2)"
   ]
  },
  {
   "cell_type": "code",
   "execution_count": 126,
   "metadata": {},
   "outputs": [
    {
     "data": {
      "text/html": [
       "<div><style>\n",
       ".dataframe > thead > tr > th,\n",
       ".dataframe > tbody > tr > td {\n",
       "  text-align: right;\n",
       "}\n",
       "</style>\n",
       "<small>shape: (4, 3)</small><table border=\"1\" class=\"dataframe\"><thead><tr><th>a</th><th>b</th><th>c</th></tr><tr><td>i64</td><td>i64</td><td>i64</td></tr></thead><tbody><tr><td>1</td><td>1</td><td>6</td></tr><tr><td>null</td><td>null</td><td>null</td></tr><tr><td>null</td><td>9</td><td>6</td></tr><tr><td>9</td><td>10</td><td>null</td></tr></tbody></table></div>"
      ],
      "text/plain": [
       "shape: (4, 3)\n",
       "┌──────┬──────┬──────┐\n",
       "│ a    ┆ b    ┆ c    │\n",
       "│ ---  ┆ ---  ┆ ---  │\n",
       "│ i64  ┆ i64  ┆ i64  │\n",
       "╞══════╪══════╪══════╡\n",
       "│ 1    ┆ 1    ┆ 6    │\n",
       "│ null ┆ null ┆ null │\n",
       "│ null ┆ 9    ┆ 6    │\n",
       "│ 9    ┆ 10   ┆ null │\n",
       "└──────┴──────┴──────┘"
      ]
     },
     "execution_count": 126,
     "metadata": {},
     "output_type": "execute_result"
    }
   ],
   "source": [
    "# Create a new dataset to demonstrate additional functions for filling nulls\n",
    "df_missing_values = pl.DataFrame({\n",
    "    'a': [1, None, None, 9],\n",
    "    'b': [1, None, 9, 10],\n",
    "    'c': [6, None, 6, None]\n",
    "})\n",
    "\n",
    "df_missing_values"
   ]
  },
  {
   "cell_type": "code",
   "execution_count": 135,
   "metadata": {},
   "outputs": [
    {
     "data": {
      "text/html": [
       "<div><style>\n",
       ".dataframe > thead > tr > th,\n",
       ".dataframe > tbody > tr > td {\n",
       "  text-align: right;\n",
       "}\n",
       "</style>\n",
       "<small>shape: (4, 3)</small><table border=\"1\" class=\"dataframe\"><thead><tr><th>a</th><th>b</th><th>c</th></tr><tr><td>f64</td><td>f64</td><td>f64</td></tr></thead><tbody><tr><td>1.0</td><td>1.0</td><td>6.0</td></tr><tr><td>5.0</td><td>9.0</td><td>6.0</td></tr><tr><td>5.0</td><td>9.0</td><td>6.0</td></tr><tr><td>9.0</td><td>10.0</td><td>6.0</td></tr></tbody></table></div>"
      ],
      "text/plain": [
       "shape: (4, 3)\n",
       "┌─────┬──────┬─────┐\n",
       "│ a   ┆ b    ┆ c   │\n",
       "│ --- ┆ ---  ┆ --- │\n",
       "│ f64 ┆ f64  ┆ f64 │\n",
       "╞═════╪══════╪═════╡\n",
       "│ 1.0 ┆ 1.0  ┆ 6.0 │\n",
       "│ 5.0 ┆ 9.0  ┆ 6.0 │\n",
       "│ 5.0 ┆ 9.0  ┆ 6.0 │\n",
       "│ 9.0 ┆ 10.0 ┆ 6.0 │\n",
       "└─────┴──────┴─────┘"
      ]
     },
     "execution_count": 135,
     "metadata": {},
     "output_type": "execute_result"
    }
   ],
   "source": [
    "# Replace missing values with the median of the column\n",
    "df_missing_values.with_columns(\n",
    "    pl.all().fill_null(pl.all().median())\n",
    ")"
   ]
  },
  {
   "cell_type": "code",
   "execution_count": 137,
   "metadata": {},
   "outputs": [
    {
     "data": {
      "text/html": [
       "<div><style>\n",
       ".dataframe > thead > tr > th,\n",
       ".dataframe > tbody > tr > td {\n",
       "  text-align: right;\n",
       "}\n",
       "</style>\n",
       "<small>shape: (4, 3)</small><table border=\"1\" class=\"dataframe\"><thead><tr><th>a</th><th>b</th><th>c</th></tr><tr><td>i64</td><td>i64</td><td>i64</td></tr></thead><tbody><tr><td>1</td><td>1</td><td>6</td></tr><tr><td>3</td><td>5</td><td>6</td></tr><tr><td>6</td><td>9</td><td>6</td></tr><tr><td>9</td><td>10</td><td>null</td></tr></tbody></table></div>"
      ],
      "text/plain": [
       "shape: (4, 3)\n",
       "┌─────┬─────┬──────┐\n",
       "│ a   ┆ b   ┆ c    │\n",
       "│ --- ┆ --- ┆ ---  │\n",
       "│ i64 ┆ i64 ┆ i64  │\n",
       "╞═════╪═════╪══════╡\n",
       "│ 1   ┆ 1   ┆ 6    │\n",
       "│ 3   ┆ 5   ┆ 6    │\n",
       "│ 6   ┆ 9   ┆ 6    │\n",
       "│ 9   ┆ 10  ┆ null │\n",
       "└─────┴─────┴──────┘"
      ]
     },
     "execution_count": 137,
     "metadata": {},
     "output_type": "execute_result"
    }
   ],
   "source": [
    "# Interpolate missing values for numbers\n",
    "df_missing_values.interpolate()"
   ]
  },
  {
   "cell_type": "code",
   "execution_count": 139,
   "metadata": {},
   "outputs": [
    {
     "data": {
      "text/html": [
       "<div><style>\n",
       ".dataframe > thead > tr > th,\n",
       ".dataframe > tbody > tr > td {\n",
       "  text-align: right;\n",
       "}\n",
       "</style>\n",
       "<small>shape: (4, 3)</small><table border=\"1\" class=\"dataframe\"><thead><tr><th>a</th><th>b</th><th>c</th></tr><tr><td>i64</td><td>i64</td><td>i64</td></tr></thead><tbody><tr><td>1</td><td>1</td><td>6</td></tr><tr><td>1</td><td>null</td><td>null</td></tr><tr><td>1</td><td>9</td><td>6</td></tr><tr><td>9</td><td>10</td><td>null</td></tr></tbody></table></div>"
      ],
      "text/plain": [
       "shape: (4, 3)\n",
       "┌─────┬──────┬──────┐\n",
       "│ a   ┆ b    ┆ c    │\n",
       "│ --- ┆ ---  ┆ ---  │\n",
       "│ i64 ┆ i64  ┆ i64  │\n",
       "╞═════╪══════╪══════╡\n",
       "│ 1   ┆ 1    ┆ 6    │\n",
       "│ 1   ┆ null ┆ null │\n",
       "│ 1   ┆ 9    ┆ 6    │\n",
       "│ 9   ┆ 10   ┆ null │\n",
       "└─────┴──────┴──────┘"
      ]
     },
     "execution_count": 139,
     "metadata": {},
     "output_type": "execute_result"
    }
   ],
   "source": [
    "# Forward fill missing values for a column\n",
    "df_missing_values.with_columns(\n",
    "    pl.col('a').forward_fill()\n",
    ")"
   ]
  },
  {
   "cell_type": "code",
   "execution_count": 140,
   "metadata": {},
   "outputs": [
    {
     "name": "stdout",
     "output_type": "stream",
     "text": [
      "shape: (4, 3)\n",
      "┌─────┬─────┬─────┐\n",
      "│ a   ┆ b   ┆ c   │\n",
      "│ --- ┆ --- ┆ --- │\n",
      "│ i64 ┆ i64 ┆ i64 │\n",
      "╞═════╪═════╪═════╡\n",
      "│ 1   ┆ 1   ┆ 6   │\n",
      "│ 1   ┆ 1   ┆ 6   │\n",
      "│ 1   ┆ 9   ┆ 6   │\n",
      "│ 9   ┆ 10  ┆ 6   │\n",
      "└─────┴─────┴─────┘\n"
     ]
    }
   ],
   "source": [
    "# Forward fill missing values for all columns\n",
    "print(df_missing_values.fill_null(strategy='forward'))"
   ]
  },
  {
   "cell_type": "code",
   "execution_count": 124,
   "metadata": {},
   "outputs": [
    {
     "data": {
      "text/html": [
       "<div><style>\n",
       ".dataframe > thead > tr > th,\n",
       ".dataframe > tbody > tr > td {\n",
       "  text-align: right;\n",
       "}\n",
       "</style>\n",
       "<small>shape: (4, 3)</small><table border=\"1\" class=\"dataframe\"><thead><tr><th>a</th><th>b</th><th>c</th></tr><tr><td>i64</td><td>i64</td><td>i64</td></tr></thead><tbody><tr><td>1</td><td>1</td><td>6</td></tr><tr><td>9</td><td>9</td><td>6</td></tr><tr><td>9</td><td>9</td><td>6</td></tr><tr><td>9</td><td>10</td><td>null</td></tr></tbody></table></div>"
      ],
      "text/plain": [
       "shape: (4, 3)\n",
       "┌─────┬─────┬──────┐\n",
       "│ a   ┆ b   ┆ c    │\n",
       "│ --- ┆ --- ┆ ---  │\n",
       "│ i64 ┆ i64 ┆ i64  │\n",
       "╞═════╪═════╪══════╡\n",
       "│ 1   ┆ 1   ┆ 6    │\n",
       "│ 9   ┆ 9   ┆ 6    │\n",
       "│ 9   ┆ 9   ┆ 6    │\n",
       "│ 9   ┆ 10  ┆ null │\n",
       "└─────┴─────┴──────┘"
      ]
     },
     "execution_count": 124,
     "metadata": {},
     "output_type": "execute_result"
    }
   ],
   "source": [
    "# Backward fill missing values for all columns\n",
    "df_missing_values.fill_null(strategy='backward')"
   ]
  },
  {
   "attachments": {},
   "cell_type": "markdown",
   "metadata": {},
   "source": [
    "#### Conditions using `all` and `any`"
   ]
  },
  {
   "cell_type": "code",
   "execution_count": 142,
   "metadata": {},
   "outputs": [
    {
     "data": {
      "text/html": [
       "<div><style>\n",
       ".dataframe > thead > tr > th,\n",
       ".dataframe > tbody > tr > td {\n",
       "  text-align: right;\n",
       "}\n",
       "</style>\n",
       "<small>shape: (4, 3)</small><table border=\"1\" class=\"dataframe\"><thead><tr><th>a</th><th>b</th><th>c</th></tr><tr><td>i64</td><td>i64</td><td>i64</td></tr></thead><tbody><tr><td>1</td><td>1</td><td>6</td></tr><tr><td>null</td><td>null</td><td>null</td></tr><tr><td>null</td><td>9</td><td>6</td></tr><tr><td>9</td><td>10</td><td>null</td></tr></tbody></table></div>"
      ],
      "text/plain": [
       "shape: (4, 3)\n",
       "┌──────┬──────┬──────┐\n",
       "│ a    ┆ b    ┆ c    │\n",
       "│ ---  ┆ ---  ┆ ---  │\n",
       "│ i64  ┆ i64  ┆ i64  │\n",
       "╞══════╪══════╪══════╡\n",
       "│ 1    ┆ 1    ┆ 6    │\n",
       "│ null ┆ null ┆ null │\n",
       "│ null ┆ 9    ┆ 6    │\n",
       "│ 9    ┆ 10   ┆ null │\n",
       "└──────┴──────┴──────┘"
      ]
     },
     "execution_count": 142,
     "metadata": {},
     "output_type": "execute_result"
    }
   ],
   "source": [
    "# We use the dataframe missing_values to demonstrate verifying multiple conditions\n",
    "df_missing_values = pl.DataFrame({\n",
    "    'a': [1, None, None, 9],\n",
    "    'b': [1, None, 9, 10],\n",
    "    'c': [6, None, 6, None]\n",
    "})\n",
    "\n",
    "df_missing_values"
   ]
  },
  {
   "cell_type": "code",
   "execution_count": 143,
   "metadata": {},
   "outputs": [
    {
     "name": "stdout",
     "output_type": "stream",
     "text": [
      "shape: (4, 3)\n",
      "┌───────┬───────┬───────┐\n",
      "│ a     ┆ b     ┆ c     │\n",
      "│ ---   ┆ ---   ┆ ---   │\n",
      "│ bool  ┆ bool  ┆ bool  │\n",
      "╞═══════╪═══════╪═══════╡\n",
      "│ false ┆ false ┆ false │\n",
      "│ true  ┆ true  ┆ true  │\n",
      "│ true  ┆ false ┆ false │\n",
      "│ false ┆ false ┆ true  │\n",
      "└───────┴───────┴───────┘\n"
     ]
    }
   ],
   "source": [
    "# Identify which values are missing for all columns\n",
    "print(df_missing_values.select(\n",
    "    pl.all().is_null()\n",
    "))"
   ]
  },
  {
   "cell_type": "code",
   "execution_count": 145,
   "metadata": {},
   "outputs": [
    {
     "data": {
      "text/html": [
       "<div><style>\n",
       ".dataframe > thead > tr > th,\n",
       ".dataframe > tbody > tr > td {\n",
       "  text-align: right;\n",
       "}\n",
       "</style>\n",
       "<small>shape: (1, 3)</small><table border=\"1\" class=\"dataframe\"><thead><tr><th>a</th><th>b</th><th>c</th></tr><tr><td>i64</td><td>i64</td><td>i64</td></tr></thead><tbody><tr><td>null</td><td>null</td><td>null</td></tr></tbody></table></div>"
      ],
      "text/plain": [
       "shape: (1, 3)\n",
       "┌──────┬──────┬──────┐\n",
       "│ a    ┆ b    ┆ c    │\n",
       "│ ---  ┆ ---  ┆ ---  │\n",
       "│ i64  ┆ i64  ┆ i64  │\n",
       "╞══════╪══════╪══════╡\n",
       "│ null ┆ null ┆ null │\n",
       "└──────┴──────┴──────┘"
      ]
     },
     "execution_count": 145,
     "metadata": {},
     "output_type": "execute_result"
    }
   ],
   "source": [
    "# Filter all rows with all values missing\n",
    "df_missing_values.filter(\n",
    "    pl.all(pl.all().is_null())\n",
    ")"
   ]
  },
  {
   "cell_type": "code",
   "execution_count": 147,
   "metadata": {},
   "outputs": [
    {
     "data": {
      "text/html": [
       "<div><style>\n",
       ".dataframe > thead > tr > th,\n",
       ".dataframe > tbody > tr > td {\n",
       "  text-align: right;\n",
       "}\n",
       "</style>\n",
       "<small>shape: (3, 3)</small><table border=\"1\" class=\"dataframe\"><thead><tr><th>a</th><th>b</th><th>c</th></tr><tr><td>i64</td><td>i64</td><td>i64</td></tr></thead><tbody><tr><td>null</td><td>null</td><td>null</td></tr><tr><td>null</td><td>9</td><td>6</td></tr><tr><td>9</td><td>10</td><td>null</td></tr></tbody></table></div>"
      ],
      "text/plain": [
       "shape: (3, 3)\n",
       "┌──────┬──────┬──────┐\n",
       "│ a    ┆ b    ┆ c    │\n",
       "│ ---  ┆ ---  ┆ ---  │\n",
       "│ i64  ┆ i64  ┆ i64  │\n",
       "╞══════╪══════╪══════╡\n",
       "│ null ┆ null ┆ null │\n",
       "│ null ┆ 9    ┆ 6    │\n",
       "│ 9    ┆ 10   ┆ null │\n",
       "└──────┴──────┴──────┘"
      ]
     },
     "execution_count": 147,
     "metadata": {},
     "output_type": "execute_result"
    }
   ],
   "source": [
    "# Filter all rows with at least one missing value\n",
    "df_missing_values.filter(\n",
    "    pl.any(pl.all().is_null())\n",
    ")"
   ]
  },
  {
   "cell_type": "code",
   "execution_count": 150,
   "metadata": {},
   "outputs": [
    {
     "data": {
      "text/html": [
       "<div><style>\n",
       ".dataframe > thead > tr > th,\n",
       ".dataframe > tbody > tr > td {\n",
       "  text-align: right;\n",
       "}\n",
       "</style>\n",
       "<small>shape: (2, 3)</small><table border=\"1\" class=\"dataframe\"><thead><tr><th>a</th><th>b</th><th>c</th></tr><tr><td>i64</td><td>i64</td><td>i64</td></tr></thead><tbody><tr><td>1</td><td>1</td><td>6</td></tr><tr><td>null</td><td>9</td><td>6</td></tr></tbody></table></div>"
      ],
      "text/plain": [
       "shape: (2, 3)\n",
       "┌──────┬─────┬─────┐\n",
       "│ a    ┆ b   ┆ c   │\n",
       "│ ---  ┆ --- ┆ --- │\n",
       "│ i64  ┆ i64 ┆ i64 │\n",
       "╞══════╪═════╪═════╡\n",
       "│ 1    ┆ 1   ┆ 6   │\n",
       "│ null ┆ 9   ┆ 6   │\n",
       "└──────┴─────┴─────┘"
      ]
     },
     "execution_count": 150,
     "metadata": {},
     "output_type": "execute_result"
    }
   ],
   "source": [
    "# Filter all rows with no missing values\n",
    "df_missing_values.filter(\n",
    "    pl.all(pl.col('b','c').is_not_null())\n",
    ")"
   ]
  },
  {
   "attachments": {},
   "cell_type": "markdown",
   "metadata": {},
   "source": [
    "#### Slicing and indexing"
   ]
  },
  {
   "cell_type": "code",
   "execution_count": 152,
   "metadata": {},
   "outputs": [
    {
     "data": {
      "text/html": [
       "<div><style>\n",
       ".dataframe > thead > tr > th,\n",
       ".dataframe > tbody > tr > td {\n",
       "  text-align: right;\n",
       "}\n",
       "</style>\n",
       "<small>shape: (3, 4)</small><table border=\"1\" class=\"dataframe\"><thead><tr><th>title</th><th>rating</th><th>review_date</th><th>review_text</th></tr><tr><td>str</td><td>f64</td><td>date</td><td>str</td></tr></thead><tbody><tr><td>&quot;Titanfall - Xb…</td><td>5.0</td><td>2015-03-04</td><td>&quot;As expected an…</td></tr><tr><td>&quot;Assassin&#x27;s Cre…</td><td>5.0</td><td>2012-10-31</td><td>&quot;It&#x27;s a typical…</td></tr><tr><td>&quot;Mario Kart 8 -…</td><td>5.0</td><td>2017-03-24</td><td>&quot;This is withou…</td></tr></tbody></table></div>"
      ],
      "text/plain": [
       "shape: (3, 4)\n",
       "┌──────────────────┬────────┬─────────────┬──────────────────┐\n",
       "│ title            ┆ rating ┆ review_date ┆ review_text      │\n",
       "│ ---              ┆ ---    ┆ ---         ┆ ---              │\n",
       "│ str              ┆ f64    ┆ date        ┆ str              │\n",
       "╞══════════════════╪════════╪═════════════╪══════════════════╡\n",
       "│ Titanfall - Xbo… ┆ 5.0    ┆ 2015-03-04  ┆ As expected and… │\n",
       "│ Assassin's Cree… ┆ 5.0    ┆ 2012-10-31  ┆ It's a typical … │\n",
       "│ Mario Kart 8 - … ┆ 5.0    ┆ 2017-03-24  ┆ This is without… │\n",
       "└──────────────────┴────────┴─────────────┴──────────────────┘"
      ]
     },
     "execution_count": 152,
     "metadata": {},
     "output_type": "execute_result"
    }
   ],
   "source": [
    "# Keep 3 rows starting at row 5\n",
    "video_games_reviews.slice(5, 3)"
   ]
  },
  {
   "cell_type": "code",
   "execution_count": 89,
   "metadata": {},
   "outputs": [
    {
     "data": {
      "text/html": [
       "<div><style>\n",
       ".dataframe > thead > tr > th,\n",
       ".dataframe > tbody > tr > td {\n",
       "  text-align: right;\n",
       "}\n",
       "</style>\n",
       "<small>shape: (3, 4)</small><table border=\"1\" class=\"dataframe\"><thead><tr><th>title</th><th>rating</th><th>review_date</th><th>review_text</th></tr><tr><td>str</td><td>f64</td><td>date</td><td>str</td></tr></thead><tbody><tr><td>&quot;Titanfall - Xb…</td><td>5.0</td><td>2015-03-04</td><td>&quot;As expected an…</td></tr><tr><td>&quot;Assassin&#x27;s Cre…</td><td>5.0</td><td>2012-10-31</td><td>&quot;It&#x27;s a typical…</td></tr><tr><td>&quot;Mario Kart 8 -…</td><td>5.0</td><td>2017-03-24</td><td>&quot;This is withou…</td></tr></tbody></table></div>"
      ],
      "text/plain": [
       "shape: (3, 4)\n",
       "┌──────────────────┬────────┬─────────────┬──────────────────┐\n",
       "│ title            ┆ rating ┆ review_date ┆ review_text      │\n",
       "│ ---              ┆ ---    ┆ ---         ┆ ---              │\n",
       "│ str              ┆ f64    ┆ date        ┆ str              │\n",
       "╞══════════════════╪════════╪═════════════╪══════════════════╡\n",
       "│ Titanfall - Xbo… ┆ 5.0    ┆ 2015-03-04  ┆ As expected and… │\n",
       "│ Assassin's Cree… ┆ 5.0    ┆ 2012-10-31  ┆ It's a typical … │\n",
       "│ Mario Kart 8 - … ┆ 5.0    ┆ 2017-03-24  ┆ This is without… │\n",
       "└──────────────────┴────────┴─────────────┴──────────────────┘"
      ]
     },
     "execution_count": 89,
     "metadata": {},
     "output_type": "execute_result"
    }
   ],
   "source": [
    "# Square brackets indexing should be limited to:\n",
    "# 1. Extract a scalar value (another option is using .item() )\n",
    "# 2. Convert a DataFrame to a Series (another option is using .get_column() )\n",
    "# 3. Inspecting some rows or columns\n",
    "# In general, select, with_columns, and filter should be used instead of square brackets indexing\n",
    "# ! Disadvantages: Square brackets selecting only works in eager mode, and is not parallelized\n",
    "# Select 3 rows starting at row 5\n",
    "video_games_reviews[5:8]"
   ]
  },
  {
   "cell_type": "code",
   "execution_count": 154,
   "metadata": {},
   "outputs": [
    {
     "data": {
      "text/html": [
       "<div><style>\n",
       ".dataframe > thead > tr > th,\n",
       ".dataframe > tbody > tr > td {\n",
       "  text-align: right;\n",
       "}\n",
       "</style>\n",
       "<small>shape: (3, 2)</small><table border=\"1\" class=\"dataframe\"><thead><tr><th>title</th><th>rating</th></tr><tr><td>str</td><td>f64</td></tr></thead><tbody><tr><td>&quot;Titanfall - Xb…</td><td>5.0</td></tr><tr><td>&quot;Assassin&#x27;s Cre…</td><td>5.0</td></tr><tr><td>&quot;Mario Kart 8 -…</td><td>5.0</td></tr></tbody></table></div>"
      ],
      "text/plain": [
       "shape: (3, 2)\n",
       "┌──────────────────┬────────┐\n",
       "│ title            ┆ rating │\n",
       "│ ---              ┆ ---    │\n",
       "│ str              ┆ f64    │\n",
       "╞══════════════════╪════════╡\n",
       "│ Titanfall - Xbo… ┆ 5.0    │\n",
       "│ Assassin's Cree… ┆ 5.0    │\n",
       "│ Mario Kart 8 - … ┆ 5.0    │\n",
       "└──────────────────┴────────┘"
      ]
     },
     "execution_count": 154,
     "metadata": {},
     "output_type": "execute_result"
    }
   ],
   "source": [
    "# Select 3 rows starting at row 5 for columns title and rating\n",
    "video_games_reviews[5:8, ['title', 'rating']]"
   ]
  },
  {
   "cell_type": "code",
   "execution_count": 156,
   "metadata": {},
   "outputs": [
    {
     "data": {
      "text/html": [
       "<div><style>\n",
       ".dataframe > thead > tr > th,\n",
       ".dataframe > tbody > tr > td {\n",
       "  text-align: right;\n",
       "}\n",
       "</style>\n",
       "<small>shape: (3, 2)</small><table border=\"1\" class=\"dataframe\"><thead><tr><th>title</th><th>rating</th></tr><tr><td>str</td><td>f64</td></tr></thead><tbody><tr><td>&quot;Titanfall - Xb…</td><td>5.0</td></tr><tr><td>&quot;Assassin&#x27;s Cre…</td><td>5.0</td></tr><tr><td>&quot;Mario Kart 8 -…</td><td>5.0</td></tr></tbody></table></div>"
      ],
      "text/plain": [
       "shape: (3, 2)\n",
       "┌──────────────────┬────────┐\n",
       "│ title            ┆ rating │\n",
       "│ ---              ┆ ---    │\n",
       "│ str              ┆ f64    │\n",
       "╞══════════════════╪════════╡\n",
       "│ Titanfall - Xbo… ┆ 5.0    │\n",
       "│ Assassin's Cree… ┆ 5.0    │\n",
       "│ Mario Kart 8 - … ┆ 5.0    │\n",
       "└──────────────────┴────────┘"
      ]
     },
     "execution_count": 156,
     "metadata": {},
     "output_type": "execute_result"
    }
   ],
   "source": [
    "# Select 3 rows starting at row 5 for columns 0 and 1\n",
    "video_games_reviews[5:8, [0, 1]]"
   ]
  },
  {
   "cell_type": "code",
   "execution_count": 92,
   "metadata": {},
   "outputs": [
    {
     "data": {
      "text/html": [
       "<div><style>\n",
       ".dataframe > thead > tr > th,\n",
       ".dataframe > tbody > tr > td {\n",
       "  text-align: right;\n",
       "}\n",
       "</style>\n",
       "<small>shape: (2, 2)</small><table border=\"1\" class=\"dataframe\"><thead><tr><th>title</th><th>rating</th></tr><tr><td>str</td><td>f64</td></tr></thead><tbody><tr><td>&quot;Killzone: Shad…</td><td>5.0</td></tr><tr><td>&quot;Resident Evil …</td><td>5.0</td></tr></tbody></table></div>"
      ],
      "text/plain": [
       "shape: (2, 2)\n",
       "┌──────────────────┬────────┐\n",
       "│ title            ┆ rating │\n",
       "│ ---              ┆ ---    │\n",
       "│ str              ┆ f64    │\n",
       "╞══════════════════╪════════╡\n",
       "│ Killzone: Shado… ┆ 5.0    │\n",
       "│ Resident Evil 5… ┆ 5.0    │\n",
       "└──────────────────┴────────┘"
      ]
     },
     "execution_count": 92,
     "metadata": {},
     "output_type": "execute_result"
    }
   ],
   "source": [
    "# Select columns title and rating using indexes\n",
    "video_games_reviews[['title', 'rating']].head(2)"
   ]
  },
  {
   "attachments": {},
   "cell_type": "markdown",
   "metadata": {},
   "source": [
    "#### Extracting columns, rows, dataframes and items"
   ]
  },
  {
   "cell_type": "code",
   "execution_count": 159,
   "metadata": {},
   "outputs": [
    {
     "data": {
      "text/html": [
       "<div><style>\n",
       ".dataframe > thead > tr > th,\n",
       ".dataframe > tbody > tr > td {\n",
       "  text-align: right;\n",
       "}\n",
       "</style>\n",
       "<small>shape: (2, 1)</small><table border=\"1\" class=\"dataframe\"><thead><tr><th>title</th></tr><tr><td>str</td></tr></thead><tbody><tr><td>&quot;Killzone: Shad…</td></tr><tr><td>&quot;Resident Evil …</td></tr></tbody></table></div>"
      ],
      "text/plain": [
       "shape: (2, 1)\n",
       "┌──────────────────┐\n",
       "│ title            │\n",
       "│ ---              │\n",
       "│ str              │\n",
       "╞══════════════════╡\n",
       "│ Killzone: Shado… │\n",
       "│ Resident Evil 5… │\n",
       "└──────────────────┘"
      ]
     },
     "execution_count": 159,
     "metadata": {},
     "output_type": "execute_result"
    }
   ],
   "source": [
    "# Extract a column from a DataFrame and convert it to a Series\n",
    "video_games_reviews.get_column('title').head(2).to_frame()"
   ]
  },
  {
   "cell_type": "code",
   "execution_count": 94,
   "metadata": {},
   "outputs": [
    {
     "data": {
      "text/plain": [
       "[shape: (1,)\n",
       " Series: 'title' [str]\n",
       " [\n",
       " \t\"Killzone: Shad…\n",
       " ],\n",
       " shape: (1,)\n",
       " Series: 'rating' [f64]\n",
       " [\n",
       " \t5.0\n",
       " ],\n",
       " shape: (1,)\n",
       " Series: 'review_date' [date]\n",
       " [\n",
       " \t2016-12-02\n",
       " ],\n",
       " shape: (1,)\n",
       " Series: 'review_text' [str]\n",
       " [\n",
       " \t\"First time hav…\n",
       " ]]"
      ]
     },
     "execution_count": 94,
     "metadata": {},
     "output_type": "execute_result"
    }
   ],
   "source": [
    "# Extract all columns and convert them to a list of Series\n",
    "video_games_reviews.head(1).get_columns()"
   ]
  },
  {
   "cell_type": "code",
   "execution_count": 161,
   "metadata": {},
   "outputs": [
    {
     "data": {
      "text/plain": [
       "['Killzone: Shadow Fall (PlayStation 4)',\n",
       " 'Resident Evil 5 - Xbox 360',\n",
       " 'Bioshock 2 - Xbox 360',\n",
       " 'Grip-iT Analog Stick Covers, Set of 4',\n",
       " 'Dead Space (X-BOX 360) Platinum hits']"
      ]
     },
     "execution_count": 161,
     "metadata": {},
     "output_type": "execute_result"
    }
   ],
   "source": [
    "# Convert a column to a list using .to_list()\n",
    "video_games_reviews.get_column('title').head(5).to_list()"
   ]
  },
  {
   "cell_type": "code",
   "execution_count": 95,
   "metadata": {},
   "outputs": [
    {
     "data": {
      "text/plain": [
       "[('Killzone: Shadow Fall (PlayStation 4)',\n",
       "  5.0,\n",
       "  datetime.date(2016, 12, 2),\n",
       "  'First time having this game! It pretty good and the graphics are very nice'),\n",
       " ('Resident Evil 5 - Xbox 360', 5.0, datetime.date(2014, 7, 29), 'good')]"
      ]
     },
     "execution_count": 95,
     "metadata": {},
     "output_type": "execute_result"
    }
   ],
   "source": [
    "# Extract rows from a dataframe as a list of tuples\n",
    "# ! This materializes all the rows in memory. It's expensive and should be avoided when possible\n",
    "video_games_reviews.head(2).rows()"
   ]
  },
  {
   "cell_type": "code",
   "execution_count": 96,
   "metadata": {},
   "outputs": [
    {
     "data": {
      "text/plain": [
       "[{'title': 'Killzone: Shadow Fall (PlayStation 4)',\n",
       "  'rating': 5.0,\n",
       "  'review_date': datetime.date(2016, 12, 2),\n",
       "  'review_text': 'First time having this game! It pretty good and the graphics are very nice'},\n",
       " {'title': 'Resident Evil 5 - Xbox 360',\n",
       "  'rating': 5.0,\n",
       "  'review_date': datetime.date(2014, 7, 29),\n",
       "  'review_text': 'good'}]"
      ]
     },
     "execution_count": 96,
     "metadata": {},
     "output_type": "execute_result"
    }
   ],
   "source": [
    "# Extract rows from a dataframe as a list of dicts (more expensive)\n",
    "# ! This materializes all the rows in memory. It's expensive and should be avoided when possible\n",
    "video_games_reviews.head(2).rows(named=True)"
   ]
  },
  {
   "cell_type": "code",
   "execution_count": 97,
   "metadata": {},
   "outputs": [
    {
     "data": {
      "text/plain": [
       "<generator object DataFrame.iter_rows at 0x7f77cc14e400>"
      ]
     },
     "execution_count": 97,
     "metadata": {},
     "output_type": "execute_result"
    }
   ],
   "source": [
    "# Extract rows from a dataframe as an iterator\n",
    "# ! Export methods of Polars should be preferred instead of iterating over rows\n",
    "video_games_reviews.iter_rows()"
   ]
  },
  {
   "cell_type": "code",
   "execution_count": 98,
   "metadata": {},
   "outputs": [
    {
     "data": {
      "text/plain": [
       "<generator object DataFrame.iter_slices at 0x7f77bcf4b010>"
      ]
     },
     "execution_count": 98,
     "metadata": {},
     "output_type": "execute_result"
    }
   ],
   "source": [
    "# Extract slices of 1000 rows from a dataframe as an iterator\n",
    "video_games_reviews.iter_slices(n_rows=1000)"
   ]
  },
  {
   "cell_type": "code",
   "execution_count": 99,
   "metadata": {},
   "outputs": [
    {
     "data": {
      "text/plain": [
       "[shape: (1, 4)\n",
       " ┌──────────────────┬────────┬─────────────┬──────────────────┐\n",
       " │ title            ┆ rating ┆ review_date ┆ review_text      │\n",
       " │ ---              ┆ ---    ┆ ---         ┆ ---              │\n",
       " │ str              ┆ f64    ┆ date        ┆ str              │\n",
       " ╞══════════════════╪════════╪═════════════╪══════════════════╡\n",
       " │ Killzone: Shado… ┆ 5.0    ┆ 2016-12-02  ┆ First time havi… │\n",
       " └──────────────────┴────────┴─────────────┴──────────────────┘,\n",
       " shape: (1, 4)\n",
       " ┌──────────────────┬────────┬─────────────┬─────────────┐\n",
       " │ title            ┆ rating ┆ review_date ┆ review_text │\n",
       " │ ---              ┆ ---    ┆ ---         ┆ ---         │\n",
       " │ str              ┆ f64    ┆ date        ┆ str         │\n",
       " ╞══════════════════╪════════╪═════════════╪═════════════╡\n",
       " │ Resident Evil 5… ┆ 5.0    ┆ 2014-07-29  ┆ good        │\n",
       " └──────────────────┴────────┴─────────────┴─────────────┘]"
      ]
     },
     "execution_count": 99,
     "metadata": {},
     "output_type": "execute_result"
    }
   ],
   "source": [
    "# Extract a list of Dataframes partitioned based on the specified column\n",
    "video_games_reviews.head(2).partition_by('title')"
   ]
  },
  {
   "cell_type": "code",
   "execution_count": 162,
   "metadata": {},
   "outputs": [
    {
     "data": {
      "text/plain": [
       "'Killzone: Shadow Fall (PlayStation 4)'"
      ]
     },
     "execution_count": 162,
     "metadata": {},
     "output_type": "execute_result"
    }
   ],
   "source": [
    "# Extract a scalar using .item()\n",
    "# .item() transforms a table of one row and one column into a scalar\n",
    "video_games_reviews.head(1).select('title').item()"
   ]
  },
  {
   "cell_type": "code",
   "execution_count": 102,
   "metadata": {},
   "outputs": [
    {
     "data": {
      "text/plain": [
       "{'title': ['Killzone: Shadow Fall (PlayStation 4)',\n",
       "  'Resident Evil 5 - Xbox 360'],\n",
       " 'rating': [5.0, 5.0],\n",
       " 'review_date': [datetime.date(2016, 12, 2), datetime.date(2014, 7, 29)],\n",
       " 'review_text': ['First time having this game! It pretty good and the graphics are very nice',\n",
       "  'good']}"
      ]
     },
     "execution_count": 102,
     "metadata": {},
     "output_type": "execute_result"
    }
   ],
   "source": [
    "# Convert a dataframe to a Python dictionary using .to_dict()\n",
    "video_games_reviews.head(2).to_dict(as_series=False)"
   ]
  },
  {
   "cell_type": "code",
   "execution_count": 173,
   "metadata": {},
   "outputs": [
    {
     "data": {
      "text/html": [
       "<div>\n",
       "<style scoped>\n",
       "    .dataframe tbody tr th:only-of-type {\n",
       "        vertical-align: middle;\n",
       "    }\n",
       "\n",
       "    .dataframe tbody tr th {\n",
       "        vertical-align: top;\n",
       "    }\n",
       "\n",
       "    .dataframe thead th {\n",
       "        text-align: right;\n",
       "    }\n",
       "</style>\n",
       "<table border=\"1\" class=\"dataframe\">\n",
       "  <thead>\n",
       "    <tr style=\"text-align: right;\">\n",
       "      <th></th>\n",
       "      <th>title</th>\n",
       "      <th>rating</th>\n",
       "      <th>review_date</th>\n",
       "      <th>review_text</th>\n",
       "    </tr>\n",
       "  </thead>\n",
       "  <tbody>\n",
       "    <tr>\n",
       "      <th>0</th>\n",
       "      <td>Killzone: Shadow Fall (PlayStation 4)</td>\n",
       "      <td>5.0</td>\n",
       "      <td>2016-12-02</td>\n",
       "      <td>First time having this game! It pretty good an...</td>\n",
       "    </tr>\n",
       "    <tr>\n",
       "      <th>1</th>\n",
       "      <td>Resident Evil 5 - Xbox 360</td>\n",
       "      <td>5.0</td>\n",
       "      <td>2014-07-29</td>\n",
       "      <td>good</td>\n",
       "    </tr>\n",
       "  </tbody>\n",
       "</table>\n",
       "</div>"
      ],
      "text/plain": [
       "                                   title  rating review_date   \n",
       "0  Killzone: Shadow Fall (PlayStation 4)     5.0  2016-12-02  \\\n",
       "1             Resident Evil 5 - Xbox 360     5.0  2014-07-29   \n",
       "\n",
       "                                         review_text  \n",
       "0  First time having this game! It pretty good an...  \n",
       "1                                               good  "
      ]
     },
     "execution_count": 173,
     "metadata": {},
     "output_type": "execute_result"
    }
   ],
   "source": [
    "# Convert the dataframe to a Pandas using .to_pandas()\n",
    "video_games_reviews.head(2).to_pandas()"
   ]
  },
  {
   "cell_type": "code",
   "execution_count": 172,
   "metadata": {},
   "outputs": [
    {
     "data": {
      "text/plain": [
       "array([['Killzone: Shadow Fall (PlayStation 4)', 5.0,\n",
       "        datetime.date(2016, 12, 2),\n",
       "        'First time having this game! It pretty good and the graphics are very nice'],\n",
       "       ['Resident Evil 5 - Xbox 360', 5.0, datetime.date(2014, 7, 29),\n",
       "        'good']], dtype=object)"
      ]
     },
     "execution_count": 172,
     "metadata": {},
     "output_type": "execute_result"
    }
   ],
   "source": [
    "# Convert the dataframe to a Numpy array using .to_numpy()\n",
    "video_games_reviews.head(2).to_numpy()"
   ]
  },
  {
   "attachments": {},
   "cell_type": "markdown",
   "metadata": {},
   "source": [
    "#### Mathematical and statistical operations"
   ]
  },
  {
   "cell_type": "code",
   "execution_count": 165,
   "metadata": {},
   "outputs": [
    {
     "data": {
      "text/html": [
       "<div><style>\n",
       ".dataframe > thead > tr > th,\n",
       ".dataframe > tbody > tr > td {\n",
       "  text-align: right;\n",
       "}\n",
       "</style>\n",
       "<small>shape: (1, 4)</small><table border=\"1\" class=\"dataframe\"><thead><tr><th>title</th><th>rating</th><th>review_date</th><th>review_text</th></tr><tr><td>str</td><td>f64</td><td>date</td><td>str</td></tr></thead><tbody><tr><td>null</td><td>214041.0</td><td>null</td><td>null</td></tr></tbody></table></div>"
      ],
      "text/plain": [
       "shape: (1, 4)\n",
       "┌───────┬──────────┬─────────────┬─────────────┐\n",
       "│ title ┆ rating   ┆ review_date ┆ review_text │\n",
       "│ ---   ┆ ---      ┆ ---         ┆ ---         │\n",
       "│ str   ┆ f64      ┆ date        ┆ str         │\n",
       "╞═══════╪══════════╪═════════════╪═════════════╡\n",
       "│ null  ┆ 214041.0 ┆ null        ┆ null        │\n",
       "└───────┴──────────┴─────────────┴─────────────┘"
      ]
     },
     "execution_count": 165,
     "metadata": {},
     "output_type": "execute_result"
    }
   ],
   "source": [
    "# Sums all values of a column\n",
    "video_games_reviews.sum()"
   ]
  },
  {
   "cell_type": "code",
   "execution_count": 163,
   "metadata": {},
   "outputs": [
    {
     "data": {
      "text/html": [
       "<div><style>\n",
       ".dataframe > thead > tr > th,\n",
       ".dataframe > tbody > tr > td {\n",
       "  text-align: right;\n",
       "}\n",
       "</style>\n",
       "<small>shape: (1, 4)</small><table border=\"1\" class=\"dataframe\"><thead><tr><th>title</th><th>rating</th><th>review_date</th><th>review_text</th></tr><tr><td>str</td><td>f64</td><td>date</td><td>str</td></tr></thead><tbody><tr><td>&quot;inFAMOUS: Seco…</td><td>5.0</td><td>2018-08-27</td><td>&quot;~PROS~\n",
       "+Fantas…</td></tr></tbody></table></div>"
      ],
      "text/plain": [
       "shape: (1, 4)\n",
       "┌──────────────────┬────────┬─────────────┬─────────────┐\n",
       "│ title            ┆ rating ┆ review_date ┆ review_text │\n",
       "│ ---              ┆ ---    ┆ ---         ┆ ---         │\n",
       "│ str              ┆ f64    ┆ date        ┆ str         │\n",
       "╞══════════════════╪════════╪═════════════╪═════════════╡\n",
       "│ inFAMOUS: Secon… ┆ 5.0    ┆ 2018-08-27  ┆ ~PROS~      │\n",
       "│                  ┆        ┆             ┆ +Fantast…   │\n",
       "└──────────────────┴────────┴─────────────┴─────────────┘"
      ]
     },
     "execution_count": 163,
     "metadata": {},
     "output_type": "execute_result"
    }
   ],
   "source": [
    "# Get the maximum values of each column\n",
    "video_games_reviews.max()"
   ]
  },
  {
   "cell_type": "code",
   "execution_count": 104,
   "metadata": {},
   "outputs": [
    {
     "data": {
      "text/html": [
       "<div><style>\n",
       ".dataframe > thead > tr > th,\n",
       ".dataframe > tbody > tr > td {\n",
       "  text-align: right;\n",
       "}\n",
       "</style>\n",
       "<small>shape: (1, 4)</small><table border=\"1\" class=\"dataframe\"><thead><tr><th>title</th><th>rating</th><th>review_date</th><th>review_text</th></tr><tr><td>str</td><td>f64</td><td>date</td><td>str</td></tr></thead><tbody><tr><td>&quot;Alan Wake - Xb…</td><td>1.0</td><td>2001-10-01</td><td>&quot; batman&quot;</td></tr></tbody></table></div>"
      ],
      "text/plain": [
       "shape: (1, 4)\n",
       "┌──────────────────┬────────┬─────────────┬─────────────┐\n",
       "│ title            ┆ rating ┆ review_date ┆ review_text │\n",
       "│ ---              ┆ ---    ┆ ---         ┆ ---         │\n",
       "│ str              ┆ f64    ┆ date        ┆ str         │\n",
       "╞══════════════════╪════════╪═════════════╪═════════════╡\n",
       "│ Alan Wake - Xbo… ┆ 1.0    ┆ 2001-10-01  ┆  batman     │\n",
       "└──────────────────┴────────┴─────────────┴─────────────┘"
      ]
     },
     "execution_count": 104,
     "metadata": {},
     "output_type": "execute_result"
    }
   ],
   "source": [
    "# Get the minimum values of each column\n",
    "video_games_reviews.min()"
   ]
  },
  {
   "cell_type": "code",
   "execution_count": 105,
   "metadata": {},
   "outputs": [
    {
     "data": {
      "text/html": [
       "<div><style>\n",
       ".dataframe > thead > tr > th,\n",
       ".dataframe > tbody > tr > td {\n",
       "  text-align: right;\n",
       "}\n",
       "</style>\n",
       "<small>shape: (1, 4)</small><table border=\"1\" class=\"dataframe\"><thead><tr><th>title</th><th>rating</th><th>review_date</th><th>review_text</th></tr><tr><td>str</td><td>f64</td><td>date</td><td>str</td></tr></thead><tbody><tr><td>null</td><td>5.0</td><td>null</td><td>null</td></tr></tbody></table></div>"
      ],
      "text/plain": [
       "shape: (1, 4)\n",
       "┌───────┬────────┬─────────────┬─────────────┐\n",
       "│ title ┆ rating ┆ review_date ┆ review_text │\n",
       "│ ---   ┆ ---    ┆ ---         ┆ ---         │\n",
       "│ str   ┆ f64    ┆ date        ┆ str         │\n",
       "╞═══════╪════════╪═════════════╪═════════════╡\n",
       "│ null  ┆ 5.0    ┆ null        ┆ null        │\n",
       "└───────┴────────┴─────────────┴─────────────┘"
      ]
     },
     "execution_count": 105,
     "metadata": {},
     "output_type": "execute_result"
    }
   ],
   "source": [
    "# Get the median value of each column\n",
    "# Does not work for string or date columns\n",
    "video_games_reviews.median()"
   ]
  },
  {
   "cell_type": "code",
   "execution_count": 106,
   "metadata": {},
   "outputs": [
    {
     "data": {
      "text/html": [
       "<div><style>\n",
       ".dataframe > thead > tr > th,\n",
       ".dataframe > tbody > tr > td {\n",
       "  text-align: right;\n",
       "}\n",
       "</style>\n",
       "<small>shape: (1, 4)</small><table border=\"1\" class=\"dataframe\"><thead><tr><th>title</th><th>rating</th><th>review_date</th><th>review_text</th></tr><tr><td>str</td><td>f64</td><td>date</td><td>str</td></tr></thead><tbody><tr><td>null</td><td>4.317345</td><td>null</td><td>null</td></tr></tbody></table></div>"
      ],
      "text/plain": [
       "shape: (1, 4)\n",
       "┌───────┬──────────┬─────────────┬─────────────┐\n",
       "│ title ┆ rating   ┆ review_date ┆ review_text │\n",
       "│ ---   ┆ ---      ┆ ---         ┆ ---         │\n",
       "│ str   ┆ f64      ┆ date        ┆ str         │\n",
       "╞═══════╪══════════╪═════════════╪═════════════╡\n",
       "│ null  ┆ 4.317345 ┆ null        ┆ null        │\n",
       "└───────┴──────────┴─────────────┴─────────────┘"
      ]
     },
     "execution_count": 106,
     "metadata": {},
     "output_type": "execute_result"
    }
   ],
   "source": [
    "# Get the mean value of each column\n",
    "# Does not work for string or date columns\n",
    "video_games_reviews.mean()"
   ]
  },
  {
   "cell_type": "code",
   "execution_count": 107,
   "metadata": {},
   "outputs": [
    {
     "data": {
      "text/html": [
       "<div><style>\n",
       ".dataframe > thead > tr > th,\n",
       ".dataframe > tbody > tr > td {\n",
       "  text-align: right;\n",
       "}\n",
       "</style>\n",
       "<small>shape: (1, 4)</small><table border=\"1\" class=\"dataframe\"><thead><tr><th>title</th><th>rating</th><th>review_date</th><th>review_text</th></tr><tr><td>str</td><td>f64</td><td>date</td><td>str</td></tr></thead><tbody><tr><td>null</td><td>2.0</td><td>null</td><td>null</td></tr></tbody></table></div>"
      ],
      "text/plain": [
       "shape: (1, 4)\n",
       "┌───────┬────────┬─────────────┬─────────────┐\n",
       "│ title ┆ rating ┆ review_date ┆ review_text │\n",
       "│ ---   ┆ ---    ┆ ---         ┆ ---         │\n",
       "│ str   ┆ f64    ┆ date        ┆ str         │\n",
       "╞═══════╪════════╪═════════════╪═════════════╡\n",
       "│ null  ┆ 2.0    ┆ null        ┆ null        │\n",
       "└───────┴────────┴─────────────┴─────────────┘"
      ]
     },
     "execution_count": 107,
     "metadata": {},
     "output_type": "execute_result"
    }
   ],
   "source": [
    "# Get the 10th percentile value of each column\n",
    "# Does not work for string or date columns\n",
    "video_games_reviews.quantile(0.1)"
   ]
  },
  {
   "cell_type": "code",
   "execution_count": 109,
   "metadata": {},
   "outputs": [
    {
     "data": {
      "text/html": [
       "<div><style>\n",
       ".dataframe > thead > tr > th,\n",
       ".dataframe > tbody > tr > td {\n",
       "  text-align: right;\n",
       "}\n",
       "</style>\n",
       "<small>shape: (1, 4)</small><table border=\"1\" class=\"dataframe\"><thead><tr><th>title</th><th>rating</th><th>review_date</th><th>review_text</th></tr><tr><td>str</td><td>f64</td><td>date</td><td>str</td></tr></thead><tbody><tr><td>null</td><td>1.351545</td><td>null</td><td>null</td></tr></tbody></table></div>"
      ],
      "text/plain": [
       "shape: (1, 4)\n",
       "┌───────┬──────────┬─────────────┬─────────────┐\n",
       "│ title ┆ rating   ┆ review_date ┆ review_text │\n",
       "│ ---   ┆ ---      ┆ ---         ┆ ---         │\n",
       "│ str   ┆ f64      ┆ date        ┆ str         │\n",
       "╞═══════╪══════════╪═════════════╪═════════════╡\n",
       "│ null  ┆ 1.351545 ┆ null        ┆ null        │\n",
       "└───────┴──────────┴─────────────┴─────────────┘"
      ]
     },
     "execution_count": 109,
     "metadata": {},
     "output_type": "execute_result"
    }
   ],
   "source": [
    "# Calculates the variance between values in a column\n",
    "video_games_reviews.var()"
   ]
  },
  {
   "cell_type": "code",
   "execution_count": 110,
   "metadata": {},
   "outputs": [
    {
     "data": {
      "text/html": [
       "<div><style>\n",
       ".dataframe > thead > tr > th,\n",
       ".dataframe > tbody > tr > td {\n",
       "  text-align: right;\n",
       "}\n",
       "</style>\n",
       "<small>shape: (1, 4)</small><table border=\"1\" class=\"dataframe\"><thead><tr><th>title</th><th>rating</th><th>review_date</th><th>review_text</th></tr><tr><td>str</td><td>f64</td><td>date</td><td>str</td></tr></thead><tbody><tr><td>null</td><td>1.16256</td><td>null</td><td>null</td></tr></tbody></table></div>"
      ],
      "text/plain": [
       "shape: (1, 4)\n",
       "┌───────┬─────────┬─────────────┬─────────────┐\n",
       "│ title ┆ rating  ┆ review_date ┆ review_text │\n",
       "│ ---   ┆ ---     ┆ ---         ┆ ---         │\n",
       "│ str   ┆ f64     ┆ date        ┆ str         │\n",
       "╞═══════╪═════════╪═════════════╪═════════════╡\n",
       "│ null  ┆ 1.16256 ┆ null        ┆ null        │\n",
       "└───────┴─────────┴─────────────┴─────────────┘"
      ]
     },
     "execution_count": 110,
     "metadata": {},
     "output_type": "execute_result"
    }
   ],
   "source": [
    "# Calculates the standard deviation between values in a column\n",
    "video_games_reviews.std()"
   ]
  },
  {
   "cell_type": "code",
   "execution_count": 168,
   "metadata": {},
   "outputs": [
    {
     "name": "stdout",
     "output_type": "stream",
     "text": [
      "shape: (2, 2)\n",
      "┌──────────┬─────────────┐\n",
      "│ rating   ┆ review_date │\n",
      "│ ---      ┆ ---         │\n",
      "│ f64      ┆ f64         │\n",
      "╞══════════╪═════════════╡\n",
      "│ 1.0      ┆ 0.071473    │\n",
      "│ 0.071473 ┆ 1.0         │\n",
      "└──────────┴─────────────┘\n"
     ]
    }
   ],
   "source": [
    "# Calculate the correlation between columns\n",
    "video_games_reviews.select('rating','review_date').corr()"
   ]
  },
  {
   "cell_type": "code",
   "execution_count": 171,
   "metadata": {},
   "outputs": [
    {
     "data": {
      "text/html": [
       "<div><style>\n",
       ".dataframe > thead > tr > th,\n",
       ".dataframe > tbody > tr > td {\n",
       "  text-align: right;\n",
       "}\n",
       "</style>\n",
       "<small>shape: (2, 4)</small><table border=\"1\" class=\"dataframe\"><thead><tr><th>title</th><th>rating</th><th>review_date</th><th>review_text</th></tr><tr><td>str</td><td>f64</td><td>date</td><td>str</td></tr></thead><tbody><tr><td>&quot;Killzone: Shad…</td><td>148.413159</td><td>2016-12-02</td><td>&quot;First time hav…</td></tr><tr><td>&quot;Resident Evil …</td><td>148.413159</td><td>2014-07-29</td><td>&quot;good&quot;</td></tr></tbody></table></div>"
      ],
      "text/plain": [
       "shape: (2, 4)\n",
       "┌──────────────────┬────────────┬─────────────┬──────────────────┐\n",
       "│ title            ┆ rating     ┆ review_date ┆ review_text      │\n",
       "│ ---              ┆ ---        ┆ ---         ┆ ---              │\n",
       "│ str              ┆ f64        ┆ date        ┆ str              │\n",
       "╞══════════════════╪════════════╪═════════════╪══════════════════╡\n",
       "│ Killzone: Shado… ┆ 148.413159 ┆ 2016-12-02  ┆ First time havi… │\n",
       "│ Resident Evil 5… ┆ 148.413159 ┆ 2014-07-29  ┆ good             │\n",
       "└──────────────────┴────────────┴─────────────┴──────────────────┘"
      ]
     },
     "execution_count": 171,
     "metadata": {},
     "output_type": "execute_result"
    }
   ],
   "source": [
    "import numpy as np\n",
    "\n",
    "# Use a Numpy universal function: np.exp on a column\n",
    "video_games_reviews.with_columns(\n",
    "    np.exp(pl.col('rating'))\n",
    ").head(2)"
   ]
  },
  {
   "cell_type": "code",
   "execution_count": null,
   "metadata": {},
   "outputs": [],
   "source": []
  }
 ],
 "metadata": {
  "kernelspec": {
   "display_name": "Python 3",
   "language": "python",
   "name": "python3"
  },
  "language_info": {
   "codemirror_mode": {
    "name": "ipython",
    "version": 3
   },
   "file_extension": ".py",
   "mimetype": "text/x-python",
   "name": "python",
   "nbconvert_exporter": "python",
   "pygments_lexer": "ipython3",
   "version": "3.11.0"
  },
  "orig_nbformat": 4,
  "vscode": {
   "interpreter": {
    "hash": "c823e8cd4eb93d0837f70656db2757dcd2f793adbe4317f23abcc1abff9ce7b8"
   }
  }
 },
 "nbformat": 4,
 "nbformat_minor": 2
}
