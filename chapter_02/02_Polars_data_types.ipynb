{
 "cells": [
  {
   "attachments": {},
   "cell_type": "markdown",
   "metadata": {},
   "source": [
    "### Polars data types"
   ]
  },
  {
   "attachments": {},
   "cell_type": "markdown",
   "metadata": {},
   "source": [
    "The examples below use `.head()` to reduce the output to a few rows and take up less space.\n",
    "If you want the full output, remove `.head()` from the code\n",
    "\n",
    "This notebooked is divided into sections. If your code editor supports it, you can use the **Outline** functionality to easily go to the code section you are interested in.\n",
    "\n",
    "For more details, check out the Polars API reference: https://pola-rs.github.io/polars/py-polars/html/reference/index.html"
   ]
  },
  {
   "cell_type": "code",
   "execution_count": 2,
   "metadata": {},
   "outputs": [],
   "source": [
    "import polars as pl"
   ]
  },
  {
   "cell_type": "code",
   "execution_count": 61,
   "metadata": {},
   "outputs": [],
   "source": [
    "# load a JSON file to a Polars DataFrame\n",
    "video_games_reviews = pl.read_csv('../datasets/reviews_videogames_350_simplified.csv', infer_schema_length=10000, try_parse_dates=True)"
   ]
  },
  {
   "cell_type": "code",
   "execution_count": 62,
   "metadata": {},
   "outputs": [
    {
     "data": {
      "text/plain": [
       "polars.config.Config"
      ]
     },
     "execution_count": 62,
     "metadata": {},
     "output_type": "execute_result"
    }
   ],
   "source": [
    "# Configure the number of characters to show for each string column\n",
    "pl.Config.set_fmt_str_lengths(15)"
   ]
  },
  {
   "attachments": {},
   "cell_type": "markdown",
   "metadata": {},
   "source": [
    "#### View the data types"
   ]
  },
  {
   "cell_type": "code",
   "execution_count": 63,
   "metadata": {},
   "outputs": [
    {
     "data": {
      "text/html": [
       "<div><style>\n",
       ".dataframe > thead > tr > th,\n",
       ".dataframe > tbody > tr > td {\n",
       "  text-align: right;\n",
       "}\n",
       "</style>\n",
       "<small>shape: (2, 4)</small><table border=\"1\" class=\"dataframe\"><thead><tr><th>title</th><th>rating</th><th>review_date</th><th>review_text</th></tr><tr><td>str</td><td>f64</td><td>date</td><td>str</td></tr></thead><tbody><tr><td>&quot;Killzone: Shad…</td><td>5.0</td><td>2016-12-02</td><td>&quot;First time hav…</td></tr><tr><td>&quot;Resident Evil …</td><td>5.0</td><td>2014-07-29</td><td>&quot;good&quot;</td></tr></tbody></table></div>"
      ],
      "text/plain": [
       "shape: (2, 4)\n",
       "┌──────────────────┬────────┬─────────────┬──────────────────┐\n",
       "│ title            ┆ rating ┆ review_date ┆ review_text      │\n",
       "│ ---              ┆ ---    ┆ ---         ┆ ---              │\n",
       "│ str              ┆ f64    ┆ date        ┆ str              │\n",
       "╞══════════════════╪════════╪═════════════╪══════════════════╡\n",
       "│ Killzone: Shado… ┆ 5.0    ┆ 2016-12-02  ┆ First time havi… │\n",
       "│ Resident Evil 5… ┆ 5.0    ┆ 2014-07-29  ┆ good             │\n",
       "└──────────────────┴────────┴─────────────┴──────────────────┘"
      ]
     },
     "execution_count": 63,
     "metadata": {},
     "output_type": "execute_result"
    }
   ],
   "source": [
    "# Printing a dataframe includes the data types:\n",
    "# the title column is a string, the rating column is a float, and the review_date column is a date, etc.\n",
    "video_games_reviews.head(2)"
   ]
  },
  {
   "cell_type": "code",
   "execution_count": 64,
   "metadata": {},
   "outputs": [
    {
     "data": {
      "text/plain": [
       "{'title': Utf8, 'rating': Float64, 'review_date': Date, 'review_text': Utf8}"
      ]
     },
     "execution_count": 64,
     "metadata": {},
     "output_type": "execute_result"
    }
   ],
   "source": [
    "# Show the data types of each column\n",
    "video_games_reviews.schema"
   ]
  },
  {
   "cell_type": "markdown",
   "metadata": {},
   "source": [
    "#### Cast the data types"
   ]
  },
  {
   "cell_type": "code",
   "execution_count": 65,
   "metadata": {},
   "outputs": [
    {
     "data": {
      "text/plain": [
       "{'title': Utf8, 'rating': Int64, 'review_date': Date, 'review_text': Utf8}"
      ]
     },
     "execution_count": 65,
     "metadata": {},
     "output_type": "execute_result"
    }
   ],
   "source": [
    "# Cast the rating column to integer64 data \n",
    "video_games_reviews.with_columns(pl.col('rating').cast(pl.Int64)).schema"
   ]
  },
  {
   "cell_type": "markdown",
   "metadata": {},
   "source": [
    "#### Choosing data types when reading a file"
   ]
  },
  {
   "cell_type": "code",
   "execution_count": 66,
   "metadata": {},
   "outputs": [
    {
     "data": {
      "text/plain": [
       "{'title': Utf8, 'rating': Float32, 'review_date': Date, 'review_text': Utf8}"
      ]
     },
     "execution_count": 66,
     "metadata": {},
     "output_type": "execute_result"
    }
   ],
   "source": [
    "# Cast the rating column to float32 data\n",
    "pl.read_csv('../datasets/reviews_videogames_350_simplified.csv', \n",
    "    infer_schema_length=10000, \n",
    "    try_parse_dates=True,\n",
    "    dtypes={'rating': pl.Float32}).schema"
   ]
  },
  {
   "cell_type": "markdown",
   "metadata": {},
   "source": [
    "#### Choosing data types when creating a Dataframe"
   ]
  },
  {
   "cell_type": "code",
   "execution_count": 76,
   "metadata": {},
   "outputs": [
    {
     "data": {
      "text/html": [
       "<div><style>\n",
       ".dataframe > thead > tr > th,\n",
       ".dataframe > tbody > tr > td {\n",
       "  text-align: right;\n",
       "}\n",
       "</style>\n",
       "<small>shape: (5, 4)</small><table border=\"1\" class=\"dataframe\"><thead><tr><th>a</th><th>b</th><th>c</th><th>d</th></tr><tr><td>i64</td><td>f64</td><td>str</td><td>bool</td></tr></thead><tbody><tr><td>1</td><td>1.0</td><td>&quot;a&quot;</td><td>true</td></tr><tr><td>2</td><td>2.0</td><td>&quot;b&quot;</td><td>false</td></tr><tr><td>3</td><td>3.0</td><td>&quot;c&quot;</td><td>true</td></tr><tr><td>4</td><td>4.0</td><td>&quot;d&quot;</td><td>false</td></tr><tr><td>5</td><td>5.0</td><td>&quot;e&quot;</td><td>true</td></tr></tbody></table></div>"
      ],
      "text/plain": [
       "shape: (5, 4)\n",
       "┌─────┬─────┬─────┬───────┐\n",
       "│ a   ┆ b   ┆ c   ┆ d     │\n",
       "│ --- ┆ --- ┆ --- ┆ ---   │\n",
       "│ i64 ┆ f64 ┆ str ┆ bool  │\n",
       "╞═════╪═════╪═════╪═══════╡\n",
       "│ 1   ┆ 1.0 ┆ a   ┆ true  │\n",
       "│ 2   ┆ 2.0 ┆ b   ┆ false │\n",
       "│ 3   ┆ 3.0 ┆ c   ┆ true  │\n",
       "│ 4   ┆ 4.0 ┆ d   ┆ false │\n",
       "│ 5   ┆ 5.0 ┆ e   ┆ true  │\n",
       "└─────┴─────┴─────┴───────┘"
      ]
     },
     "execution_count": 76,
     "metadata": {},
     "output_type": "execute_result"
    }
   ],
   "source": [
    "# Create an example dataframe\n",
    "df_example = pl.DataFrame({\n",
    "    'a': [1, 2, 3, 4, 5],\n",
    "    'b': [1.0, 2.0, 3.0, 4.0, 5.0],\n",
    "    'c': ['a', 'b', 'c', 'd', 'e'],\n",
    "    'd': [True, False, True, False, True]}\n",
    ")\n",
    "\n",
    "df_example"
   ]
  },
  {
   "cell_type": "code",
   "execution_count": 77,
   "metadata": {},
   "outputs": [
    {
     "data": {
      "text/html": [
       "<div><style>\n",
       ".dataframe > thead > tr > th,\n",
       ".dataframe > tbody > tr > td {\n",
       "  text-align: right;\n",
       "}\n",
       "</style>\n",
       "<small>shape: (5, 4)</small><table border=\"1\" class=\"dataframe\"><thead><tr><th>a</th><th>b</th><th>c</th><th>d</th></tr><tr><td>i32</td><td>f32</td><td>str</td><td>i16</td></tr></thead><tbody><tr><td>1</td><td>1.0</td><td>&quot;a&quot;</td><td>1</td></tr><tr><td>2</td><td>2.0</td><td>&quot;b&quot;</td><td>0</td></tr><tr><td>3</td><td>3.0</td><td>&quot;c&quot;</td><td>1</td></tr><tr><td>4</td><td>4.0</td><td>&quot;d&quot;</td><td>0</td></tr><tr><td>5</td><td>5.0</td><td>&quot;e&quot;</td><td>1</td></tr></tbody></table></div>"
      ],
      "text/plain": [
       "shape: (5, 4)\n",
       "┌─────┬─────┬─────┬─────┐\n",
       "│ a   ┆ b   ┆ c   ┆ d   │\n",
       "│ --- ┆ --- ┆ --- ┆ --- │\n",
       "│ i32 ┆ f32 ┆ str ┆ i16 │\n",
       "╞═════╪═════╪═════╪═════╡\n",
       "│ 1   ┆ 1.0 ┆ a   ┆ 1   │\n",
       "│ 2   ┆ 2.0 ┆ b   ┆ 0   │\n",
       "│ 3   ┆ 3.0 ┆ c   ┆ 1   │\n",
       "│ 4   ┆ 4.0 ┆ d   ┆ 0   │\n",
       "│ 5   ┆ 5.0 ┆ e   ┆ 1   │\n",
       "└─────┴─────┴─────┴─────┘"
      ]
     },
     "execution_count": 77,
     "metadata": {},
     "output_type": "execute_result"
    }
   ],
   "source": [
    "# Set the schema of column 'b' to string: Utf8\n",
    "df_example_force_data_types = pl.DataFrame({\n",
    "    'a': [1, 2, 3, 4, 5],\n",
    "    'b': [1.0, 2.0, 3.0, 4.0, 5.0],\n",
    "    'c': ['a', 'b', 'c', 'd', 'e'],\n",
    "    'd': [True, False, True, False, True]},\n",
    "    schema={'a': pl.Int32, 'b': pl.Float32, 'c': pl.Utf8, 'd': pl.Int16}\n",
    ")\n",
    "\n",
    "df_example_force_data_types"
   ]
  },
  {
   "cell_type": "markdown",
   "metadata": {},
   "source": [
    "#### Shrink the data type"
   ]
  },
  {
   "cell_type": "code",
   "execution_count": 79,
   "metadata": {},
   "outputs": [
    {
     "name": "stdout",
     "output_type": "stream",
     "text": [
      "Before : {'a': Int64, 'b': Float64, 'c': Utf8, 'd': Boolean}\n",
      "After : {'a': Int8, 'b': Float32, 'c': Utf8, 'd': Boolean}\n"
     ]
    }
   ],
   "source": [
    "# Shrink the data type of all columns\n",
    "\n",
    "# Initial data types\n",
    "print('Before :',df_example.schema)\n",
    "\n",
    "# Shrinked data types\n",
    "print('After :',df_example.with_columns(pl.all().shrink_dtype()).schema)"
   ]
  },
  {
   "cell_type": "code",
   "execution_count": null,
   "metadata": {},
   "outputs": [],
   "source": []
  }
 ],
 "metadata": {
  "kernelspec": {
   "display_name": "Python 3",
   "language": "python",
   "name": "python3"
  },
  "language_info": {
   "codemirror_mode": {
    "name": "ipython",
    "version": 3
   },
   "file_extension": ".py",
   "mimetype": "text/x-python",
   "name": "python",
   "nbconvert_exporter": "python",
   "pygments_lexer": "ipython3",
   "version": "3.11.0"
  },
  "orig_nbformat": 4,
  "vscode": {
   "interpreter": {
    "hash": "c823e8cd4eb93d0837f70656db2757dcd2f793adbe4317f23abcc1abff9ce7b8"
   }
  }
 },
 "nbformat": 4,
 "nbformat_minor": 2
}
